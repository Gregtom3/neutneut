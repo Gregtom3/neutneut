{
 "cells": [
  {
   "cell_type": "code",
   "execution_count": 5,
   "id": "5ae25c94-c409-4ecb-bfd1-665f71d0d5f5",
   "metadata": {},
   "outputs": [
    {
     "name": "stderr",
     "output_type": "stream",
     "text": [
      "Processing files: 100%|██████████████████████| 100/100 [00:06<00:00, 15.29it/s]"
     ]
    },
    {
     "name": "stdout",
     "output_type": "stream",
     "text": [
      "Total photon count (pid=22): 2609\n",
      "Total neutron count (pid=2112): 612\n",
      "Total other particles count: 6491\n",
      "Inverse frequency weights: f1=3.72, f2=15.87, f3=1.50\n"
     ]
    },
    {
     "name": "stderr",
     "output_type": "stream",
     "text": [
      "\n"
     ]
    }
   ],
   "source": [
    "\"\"\"\n",
    "This code is crucial for calculating the class weights (f1, f2, f3) \n",
    "that  will  be  used  in the loss function to account for the class \n",
    "imbalance  in the training data. Since my training dataset contains \n",
    "varying  numbers  of photons (pid = 22), neutrons (pid = 2112), and \n",
    "other  particle  types,  applying inverse frequency weights ensures \n",
    "that the loss function does not overfit to the more frequent classes.\n",
    "\"\"\"\n",
    "\n",
    "import sys\n",
    "sys.path.append(\"../../src\")\n",
    "import pandas as pd\n",
    "import glob\n",
    "import numpy as np\n",
    "from tqdm import tqdm\n",
    "import h5py\n",
    "\n",
    "# Set the project directory and the number of files to read\n",
    "project_dir = \"../../projects/supercell.10.08.2024.18.28/\"\n",
    "Nfiles = 100\n",
    "\n",
    "# Collect all relevant files in the destination directory\n",
    "files = glob.glob(f\"{project_dir}/training/*.h5\")\n",
    "\n",
    "# Limit the number of files to read based on user input or available files\n",
    "Nfiles = np.amin([Nfiles, len(files)])\n",
    "files = files[:Nfiles]\n",
    "\n",
    "# Initialize counts for each particle type\n",
    "N1, N2, N3 = 0, 0, 0  # N1: photons (pid = 22), N2: neutrons (pid = 2112), N3: others\n",
    "\n",
    "# Loop over each file\n",
    "for i, file in enumerate(tqdm(files, desc=\"Processing files\")):\n",
    "    # Open the h5 file and get 'X', 'y' and 'misc' from it\n",
    "    with h5py.File(file, 'r') as f:\n",
    "        y = f['y']\n",
    "        strip_pid = np.array(y[:,:,1])\n",
    "        strip_pid = strip_pid[strip_pid!=0]\n",
    "        strip_pid = strip_pid[strip_pid!=-1]\n",
    "        N1 = np.sum(strip_pid==22)\n",
    "        N2 = np.sum(strip_pid==2112)\n",
    "        N3 = np.sum((strip_pid!=22)&(strip_pid!=2112))\n",
    "\n",
    "# Total number of events processed\n",
    "N_total = N1 + N2 + N3\n",
    "\n",
    "# Compute inverse frequency weights for each class\n",
    "f1 = N_total / N1 if N1 > 0 else 1.0  # Handle potential division by zero\n",
    "f2 = N_total / N2 if N2 > 0 else 1.0\n",
    "f3 = N_total / N3 if N3 > 0 else 1.0\n",
    "\n",
    "# Display class counts and the computed inverse frequency weights\n",
    "print(f\"Total photon count (pid=22): {N1}\")\n",
    "print(f\"Total neutron count (pid=2112): {N2}\")\n",
    "print(f\"Total other particles count: {N3}\")\n",
    "print(f\"Inverse frequency weights: f1={f1:.2f}, f2={f2:.2f}, f3={f3:.2f}\")\n"
   ]
  },
  {
   "cell_type": "code",
   "execution_count": null,
   "id": "06a88cb6-2ba9-453d-ad90-9c0748e7ab9a",
   "metadata": {},
   "outputs": [],
   "source": []
  }
 ],
 "metadata": {
  "kernelspec": {
   "display_name": "Python 3",
   "language": "python",
   "name": "python3"
  },
  "language_info": {
   "codemirror_mode": {
    "name": "ipython",
    "version": 3
   },
   "file_extension": ".py",
   "mimetype": "text/x-python",
   "name": "python",
   "nbconvert_exporter": "python",
   "pygments_lexer": "ipython3",
   "version": "3.11.9"
  }
 },
 "nbformat": 4,
 "nbformat_minor": 5
}
