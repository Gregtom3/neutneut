{
 "cells": [
  {
   "cell_type": "code",
   "execution_count": 1,
   "id": "b556fa21-3d1a-429a-a71b-8affda5e0f6c",
   "metadata": {
    "scrolled": true
   },
   "outputs": [
    {
     "name": "stderr",
     "output_type": "stream",
     "text": [
      "2024-10-10 09:51:45.908659: I external/local_xla/xla/tsl/cuda/cudart_stub.cc:32] Could not find cuda drivers on your machine, GPU will not be used.\n",
      "2024-10-10 09:51:46.976574: I external/local_xla/xla/tsl/cuda/cudart_stub.cc:32] Could not find cuda drivers on your machine, GPU will not be used.\n",
      "2024-10-10 09:51:47.749058: E external/local_xla/xla/stream_executor/cuda/cuda_fft.cc:485] Unable to register cuFFT factory: Attempting to register factory for plugin cuFFT when one has already been registered\n",
      "2024-10-10 09:51:48.393238: E external/local_xla/xla/stream_executor/cuda/cuda_dnn.cc:8454] Unable to register cuDNN factory: Attempting to register factory for plugin cuDNN when one has already been registered\n",
      "2024-10-10 09:51:48.557642: E external/local_xla/xla/stream_executor/cuda/cuda_blas.cc:1452] Unable to register cuBLAS factory: Attempting to register factory for plugin cuBLAS when one has already been registered\n",
      "2024-10-10 09:51:49.995428: I tensorflow/core/platform/cpu_feature_guard.cc:210] This TensorFlow binary is optimized to use available CPU instructions in performance-critical operations.\n",
      "To enable the following instructions: AVX2 AVX512F FMA, in other operations, rebuild TensorFlow with the appropriate compiler flags.\n",
      "2024-10-10 09:51:53.683172: W tensorflow/compiler/tf2tensorrt/utils/py_utils.cc:38] TF-TRT Warning: Could not find TensorRT\n",
      "Processing CSV files:   0%|                            | 0/500 [00:00<?, ?it/s]\n",
      "  0%|                                                    | 0/1 [00:00<?, ?it/s]\u001b[A\n",
      "  0%|                                                    | 0/1 [00:00<?, ?it/s]\u001b[A\n",
      "  0%|                                                    | 0/1 [00:00<?, ?it/s]\u001b[A\n",
      "  0%|                                                    | 0/1 [00:00<?, ?it/s]\u001b[A\n",
      "  0%|                                                    | 0/1 [00:00<?, ?it/s]\u001b[A\n",
      "  0%|                                                    | 0/1 [00:00<?, ?it/s]\u001b[A\n",
      "  0%|                                                    | 0/1 [00:00<?, ?it/s]\u001b[A\n",
      "  0%|                                                    | 0/1 [00:00<?, ?it/s]\u001b[A\n",
      "  0%|                                                    | 0/1 [00:00<?, ?it/s]\u001b[A\n",
      "  0%|                                                    | 0/1 [00:00<?, ?it/s]\u001b[A\n",
      "  0%|                                                    | 0/1 [00:00<?, ?it/s]\u001b[A\n",
      "  0%|                                                    | 0/1 [00:00<?, ?it/s]\u001b[A\n",
      "  0%|                                                    | 0/1 [00:00<?, ?it/s]\u001b[A\n",
      "  0%|                                                    | 0/1 [00:00<?, ?it/s]\u001b[A\n",
      "  0%|                                                    | 0/1 [00:00<?, ?it/s]\u001b[A\n",
      "  0%|                                                    | 0/1 [00:00<?, ?it/s]\u001b[A\n",
      "  0%|                                                    | 0/1 [00:00<?, ?it/s]\u001b[A\n",
      "  0%|                                                    | 0/1 [00:00<?, ?it/s]\u001b[A\n",
      "  0%|                                                    | 0/1 [00:00<?, ?it/s]\u001b[A\n",
      "  0%|                                                    | 0/1 [00:00<?, ?it/s]\u001b[A\n",
      "  0%|                                                    | 0/1 [00:00<?, ?it/s]\u001b[A\n",
      "  0%|                                                    | 0/1 [00:00<?, ?it/s]\u001b[A\n",
      "  0%|                                                    | 0/1 [00:00<?, ?it/s]\u001b[A\n",
      "  0%|                                                    | 0/1 [00:00<?, ?it/s]\u001b[A\n",
      "  0%|                                                    | 0/1 [00:00<?, ?it/s]\u001b[A\n",
      "  0%|                                                    | 0/1 [00:00<?, ?it/s]\u001b[A\n",
      "  0%|                                                    | 0/1 [00:00<?, ?it/s]\u001b[A\n",
      "  0%|                                                    | 0/1 [00:00<?, ?it/s]\u001b[A\n",
      "  0%|                                                    | 0/1 [00:00<?, ?it/s]\u001b[A\n",
      "  0%|                                                    | 0/1 [00:00<?, ?it/s]\u001b[A\n",
      "  0%|                                                    | 0/1 [00:00<?, ?it/s]\u001b[A\n",
      "  0%|                                                    | 0/1 [00:00<?, ?it/s]\u001b[A\n",
      "  0%|                                                    | 0/1 [00:00<?, ?it/s]\u001b[A\n",
      "  0%|                                                    | 0/1 [00:00<?, ?it/s]\u001b[A\n",
      "  0%|                                                    | 0/1 [00:00<?, ?it/s]\u001b[A\n",
      "100%|████████████████████████████████████████████| 1/1 [00:00<00:00,  4.75it/s]\u001b[A\n",
      "100%|████████████████████████████████████████████| 1/1 [00:00<00:00,  4.94it/s]\u001b[A\n",
      "100%|████████████████████████████████████████████| 1/1 [00:00<00:00,  4.58it/s]\u001b[A\n",
      "100%|████████████████████████████████████████████| 1/1 [00:00<00:00,  4.44it/s]\u001b[A\n",
      "100%|████████████████████████████████████████████| 1/1 [00:00<00:00,  3.89it/s]"
     ]
    },
    {
     "name": "stdout",
     "output_type": "stream",
     "text": [
      "Total files processed: 1\n"
     ]
    },
    {
     "name": "stderr",
     "output_type": "stream",
     "text": [
      "\n"
     ]
    },
    {
     "name": "stdout",
     "output_type": "stream",
     "text": [
      "Total files processed: 1"
     ]
    },
    {
     "name": "stderr",
     "output_type": "stream",
     "text": [
      "100%|████████████████████████████████████████████| 1/1 [00:00<00:00,  3.67it/s]"
     ]
    },
    {
     "name": "stdout",
     "output_type": "stream",
     "text": [
      "\n"
     ]
    },
    {
     "name": "stderr",
     "output_type": "stream",
     "text": [
      "\n"
     ]
    },
    {
     "name": "stdout",
     "output_type": "stream",
     "text": [
      "Total files processed: 1"
     ]
    },
    {
     "name": "stderr",
     "output_type": "stream",
     "text": [
      "\n",
      "100%|████████████████████████████████████████████| 1/1 [00:00<00:00,  4.47it/s]/w/hallb-scshelf2102/clas12/users/gmat/clas12/neutneut/analysis/neutron_ml/../../src/TrainData.py:84: FutureWarning: The default of observed=False is deprecated and will be changed to True in a future version of pandas. Pass observed=False to retain current behavior or observed=True to adopt the future default and silence this warning.\n",
      "  group_sizes = df.groupby(group_cols).size()\n",
      "/w/hallb-scshelf2102/clas12/users/gmat/clas12/neutneut/analysis/neutron_ml/../../src/TrainData.py:84: FutureWarning: The default of observed=False is deprecated and will be changed to True in a future version of pandas. Pass observed=False to retain current behavior or observed=True to adopt the future default and silence this warning.\n",
      "  group_sizes = df.groupby(group_cols).size()\n"
     ]
    },
    {
     "name": "stdout",
     "output_type": "stream",
     "text": [
      "\n"
     ]
    },
    {
     "name": "stderr",
     "output_type": "stream",
     "text": [
      "\u001b[A/w/hallb-scshelf2102/clas12/users/gmat/clas12/neutneut/analysis/neutron_ml/../../src/TrainData.py:84: FutureWarning: The default of observed=False is deprecated and will be changed to True in a future version of pandas. Pass observed=False to retain current behavior or observed=True to adopt the future default and silence this warning.\n",
      "  group_sizes = df.groupby(group_cols).size()\n",
      "\n",
      "100%|████████████████████████████████████████████| 1/1 [00:00<00:00,  4.56it/s]\u001b[A\n",
      "100%|████████████████████████████████████████████| 1/1 [00:00<00:00,  4.56it/s]\u001b[A\n",
      "100%|████████████████████████████████████████████| 1/1 [00:00<00:00,  4.65it/s]\u001b[A\n",
      "100%|████████████████████████████████████████████| 1/1 [00:00<00:00,  4.15it/s]\u001b[A\n",
      "100%|████████████████████████████████████████████| 1/1 [00:00<00:00,  4.31it/s]\u001b[A\n",
      "100%|████████████████████████████████████████████| 1/1 [00:00<00:00,  3.80it/s]\u001b[A\n",
      "100%|████████████████████████████████████████████| 1/1 [00:00<00:00,  4.57it/s]\u001b[A\n",
      "100%|████████████████████████████████████████████| 1/1 [00:00<00:00,  3.66it/s]\u001b[A\n",
      "100%|████████████████████████████████████████████| 1/1 [00:00<00:00,  4.22it/s]\u001b[A\n",
      "100%|████████████████████████████████████████████| 1/1 [00:00<00:00,  3.24it/s]\u001b[A\n",
      "100%|████████████████████████████████████████████| 1/1 [00:00<00:00,  3.94it/s]\u001b[A\n",
      "100%|████████████████████████████████████████████| 1/1 [00:00<00:00,  4.17it/s]\u001b[A\n",
      "100%|████████████████████████████████████████████| 1/1 [00:00<00:00,  4.49it/s]\u001b[A\n",
      "100%|████████████████████████████████████████████| 1/1 [00:00<00:00,  4.27it/s]\u001b[A\n",
      "100%|████████████████████████████████████████████| 1/1 [00:00<00:00,  2.66it/s]\u001b[A\n",
      "\n"
     ]
    },
    {
     "name": "stdout",
     "output_type": "stream",
     "text": [
      "Total files processed: 1"
     ]
    },
    {
     "name": "stderr",
     "output_type": "stream",
     "text": [
      "100%|████████████████████████████████████████████| 1/1 [00:00<00:00,  4.52it/s]"
     ]
    },
    {
     "name": "stdout",
     "output_type": "stream",
     "text": [
      "\n"
     ]
    },
    {
     "name": "stderr",
     "output_type": "stream",
     "text": [
      "\u001b[A\n",
      "100%|████████████████████████████████████████████| 1/1 [00:00<00:00,  2.46it/s]\u001b[A\n",
      "/w/hallb-scshelf2102/clas12/users/gmat/clas12/neutneut/analysis/neutron_ml/../../src/TrainData.py:84: FutureWarning: The default of observed=False is deprecated and will be changed to True in a future version of pandas. Pass observed=False to retain current behavior or observed=True to adopt the future default and silence this warning.\n",
      "  group_sizes = df.groupby(group_cols).size()\n",
      "\n"
     ]
    },
    {
     "name": "stdout",
     "output_type": "stream",
     "text": [
      "Total files processed: 1"
     ]
    },
    {
     "name": "stderr",
     "output_type": "stream",
     "text": [
      "100%|████████████████████████████████████████████| 1/1 [00:00<00:00,  3.38it/s]"
     ]
    },
    {
     "name": "stdout",
     "output_type": "stream",
     "text": [
      "\n"
     ]
    },
    {
     "name": "stderr",
     "output_type": "stream",
     "text": [
      "100%|████████████████████████████████████████████| 1/1 [00:00<00:00,  2.54it/s]\n",
      "\n"
     ]
    },
    {
     "name": "stdout",
     "output_type": "stream",
     "text": [
      "Total files processed: 1"
     ]
    },
    {
     "name": "stderr",
     "output_type": "stream",
     "text": [
      "/w/hallb-scshelf2102/clas12/users/gmat/clas12/neutneut/analysis/neutron_ml/../../src/TrainData.py:84: FutureWarning: The default of observed=False is deprecated and will be changed to True in a future version of pandas. Pass observed=False to retain current behavior or observed=True to adopt the future default and silence this warning.\n",
      "  group_sizes = df.groupby(group_cols).size()\n",
      "100%|████████████████████████████████████████████| 1/1 [00:00<00:00,  4.56it/s]"
     ]
    },
    {
     "name": "stdout",
     "output_type": "stream",
     "text": [
      "\n"
     ]
    },
    {
     "name": "stderr",
     "output_type": "stream",
     "text": [
      "\u001b[A\n",
      "100%|████████████████████████████████████████████| 1/1 [00:00<00:00,  3.48it/s]\u001b[A\n",
      "100%|████████████████████████████████████████████| 1/1 [00:00<00:00,  3.69it/s]/w/hallb-scshelf2102/clas12/users/gmat/clas12/neutneut/analysis/neutron_ml/../../src/TrainData.py:84: FutureWarning: The default of observed=False is deprecated and will be changed to True in a future version of pandas. Pass observed=False to retain current behavior or observed=True to adopt the future default and silence this warning.\n",
      "  group_sizes = df.groupby(group_cols).size()\n",
      "\u001b[A\n",
      "100%|████████████████████████████████████████████| 1/1 [00:00<00:00,  4.68it/s]\u001b[A\n",
      "100%|████████████████████████████████████████████| 1/1 [00:00<00:00,  3.34it/s]\u001b[A\n",
      "100%|████████████████████████████████████████████| 1/1 [00:00<00:00,  3.62it/s]\u001b[A\n",
      "100%|████████████████████████████████████████████| 1/1 [00:00<00:00,  4.92it/s]\u001b[A\n",
      "100%|████████████████████████████████████████████| 1/1 [00:00<00:00,  2.30it/s]\u001b[A\n",
      "\n"
     ]
    },
    {
     "name": "stdout",
     "output_type": "stream",
     "text": [
      "Total files processed: 1"
     ]
    },
    {
     "name": "stderr",
     "output_type": "stream",
     "text": [
      "100%|████████████████████████████████████████████| 1/1 [00:00<00:00,  4.89it/s]"
     ]
    },
    {
     "name": "stdout",
     "output_type": "stream",
     "text": [
      "\n"
     ]
    },
    {
     "name": "stderr",
     "output_type": "stream",
     "text": [
      "100%|████████████████████████████████████████████| 1/1 [00:00<00:00,  2.50it/s]\n",
      "100%|████████████████████████████████████████████| 1/1 [00:00<00:00,  2.45it/s]"
     ]
    },
    {
     "name": "stdout",
     "output_type": "stream",
     "text": [
      "Total files processed: 1"
     ]
    },
    {
     "name": "stderr",
     "output_type": "stream",
     "text": [
      "\n",
      "/w/hallb-scshelf2102/clas12/users/gmat/clas12/neutneut/analysis/neutron_ml/../../src/TrainData.py:84: FutureWarning: The default of observed=False is deprecated and will be changed to True in a future version of pandas. Pass observed=False to retain current behavior or observed=True to adopt the future default and silence this warning.\n",
      "  group_sizes = df.groupby(group_cols).size()\n"
     ]
    },
    {
     "name": "stdout",
     "output_type": "stream",
     "text": [
      "\n"
     ]
    },
    {
     "name": "stderr",
     "output_type": "stream",
     "text": [
      "100%|████████████████████████████████████████████| 1/1 [00:00<00:00,  2.52it/s]"
     ]
    },
    {
     "name": "stdout",
     "output_type": "stream",
     "text": [
      "Total files processed: 1"
     ]
    },
    {
     "name": "stderr",
     "output_type": "stream",
     "text": [
      "\n"
     ]
    },
    {
     "name": "stdout",
     "output_type": "stream",
     "text": [
      "\n"
     ]
    },
    {
     "name": "stderr",
     "output_type": "stream",
     "text": [
      "100%|████████████████████████████████████████████| 1/1 [00:00<00:00,  2.28it/s]"
     ]
    },
    {
     "name": "stdout",
     "output_type": "stream",
     "text": [
      "Total files processed: 1"
     ]
    },
    {
     "name": "stderr",
     "output_type": "stream",
     "text": [
      "\n"
     ]
    },
    {
     "name": "stdout",
     "output_type": "stream",
     "text": [
      "\n",
      "Total files processed: 1"
     ]
    },
    {
     "name": "stderr",
     "output_type": "stream",
     "text": [
      "100%|████████████████████████████████████████████| 1/1 [00:00<00:00,  2.62it/s]"
     ]
    },
    {
     "name": "stdout",
     "output_type": "stream",
     "text": [
      "\n"
     ]
    },
    {
     "name": "stderr",
     "output_type": "stream",
     "text": [
      "/w/hallb-scshelf2102/clas12/users/gmat/clas12/neutneut/analysis/neutron_ml/../../src/TrainData.py:84: FutureWarning: The default of observed=False is deprecated and will be changed to True in a future version of pandas. Pass observed=False to retain current behavior or observed=True to adopt the future default and silence this warning.\n",
      "  group_sizes = df.groupby(group_cols).size()\n",
      "\n",
      "/w/hallb-scshelf2102/clas12/users/gmat/clas12/neutneut/analysis/neutron_ml/../../src/TrainData.py:84: FutureWarning: The default of observed=False is deprecated and will be changed to True in a future version of pandas. Pass observed=False to retain current behavior or observed=True to adopt the future default and silence this warning.\n",
      "  group_sizes = df.groupby(group_cols).size()\n",
      "\n"
     ]
    },
    {
     "name": "stdout",
     "output_type": "stream",
     "text": [
      "Total files processed: 1"
     ]
    },
    {
     "name": "stderr",
     "output_type": "stream",
     "text": [
      "100%|████████████████████████████████████████████| 1/1 [00:00<00:00,  3.71it/s]"
     ]
    },
    {
     "name": "stdout",
     "output_type": "stream",
     "text": [
      "\n"
     ]
    },
    {
     "name": "stderr",
     "output_type": "stream",
     "text": [
      "\u001b[A/w/hallb-scshelf2102/clas12/users/gmat/clas12/neutneut/analysis/neutron_ml/../../src/TrainData.py:84: FutureWarning: The default of observed=False is deprecated and will be changed to True in a future version of pandas. Pass observed=False to retain current behavior or observed=True to adopt the future default and silence this warning.\n",
      "  group_sizes = df.groupby(group_cols).size()\n",
      "\n",
      "/w/hallb-scshelf2102/clas12/users/gmat/clas12/neutneut/analysis/neutron_ml/../../src/TrainData.py:84: FutureWarning: The default of observed=False is deprecated and will be changed to True in a future version of pandas. Pass observed=False to retain current behavior or observed=True to adopt the future default and silence this warning.\n",
      "  group_sizes = df.groupby(group_cols).size()\n",
      "100%|████████████████████████████████████████████| 1/1 [00:00<00:00,  2.28it/s]\u001b[A/w/hallb-scshelf2102/clas12/users/gmat/clas12/neutneut/analysis/neutron_ml/../../src/TrainData.py:84: FutureWarning: The default of observed=False is deprecated and will be changed to True in a future version of pandas. Pass observed=False to retain current behavior or observed=True to adopt the future default and silence this warning.\n",
      "  group_sizes = df.groupby(group_cols).size()\n",
      "\n"
     ]
    },
    {
     "name": "stdout",
     "output_type": "stream",
     "text": [
      "Total files processed: 1"
     ]
    },
    {
     "name": "stderr",
     "output_type": "stream",
     "text": [
      "100%|████████████████████████████████████████████| 1/1 [00:00<00:00,  2.52it/s]"
     ]
    },
    {
     "name": "stdout",
     "output_type": "stream",
     "text": [
      "\n"
     ]
    },
    {
     "name": "stderr",
     "output_type": "stream",
     "text": [
      "\n",
      "100%|████████████████████████████████████████████| 1/1 [00:00<00:00,  2.15it/s]"
     ]
    },
    {
     "name": "stdout",
     "output_type": "stream",
     "text": [
      "Total files processed: 1"
     ]
    },
    {
     "name": "stderr",
     "output_type": "stream",
     "text": [
      "\n"
     ]
    },
    {
     "name": "stdout",
     "output_type": "stream",
     "text": [
      "\n"
     ]
    },
    {
     "name": "stderr",
     "output_type": "stream",
     "text": [
      "100%|████████████████████████████████████████████| 1/1 [00:00<00:00,  2.44it/s]"
     ]
    },
    {
     "name": "stdout",
     "output_type": "stream",
     "text": [
      "Total files processed: 1"
     ]
    },
    {
     "name": "stderr",
     "output_type": "stream",
     "text": [
      "\n"
     ]
    },
    {
     "name": "stdout",
     "output_type": "stream",
     "text": [
      "\n"
     ]
    },
    {
     "name": "stderr",
     "output_type": "stream",
     "text": [
      "/w/hallb-scshelf2102/clas12/users/gmat/clas12/neutneut/analysis/neutron_ml/../../src/TrainData.py:84: FutureWarning: The default of observed=False is deprecated and will be changed to True in a future version of pandas. Pass observed=False to retain current behavior or observed=True to adopt the future default and silence this warning.\n",
      "  group_sizes = df.groupby(group_cols).size()\n",
      "100%|████████████████████████████████████████████| 1/1 [00:00<00:00,  2.56it/s]"
     ]
    },
    {
     "name": "stdout",
     "output_type": "stream",
     "text": [
      "Total files processed: 1"
     ]
    },
    {
     "name": "stderr",
     "output_type": "stream",
     "text": [
      "\n"
     ]
    },
    {
     "name": "stdout",
     "output_type": "stream",
     "text": [
      "\n"
     ]
    },
    {
     "name": "stderr",
     "output_type": "stream",
     "text": [
      "/w/hallb-scshelf2102/clas12/users/gmat/clas12/neutneut/analysis/neutron_ml/../../src/TrainData.py:84: FutureWarning: The default of observed=False is deprecated and will be changed to True in a future version of pandas. Pass observed=False to retain current behavior or observed=True to adopt the future default and silence this warning.\n",
      "  group_sizes = df.groupby(group_cols).size()\n",
      "100%|████████████████████████████████████████████| 1/1 [00:00<00:00,  2.82it/s]"
     ]
    },
    {
     "name": "stdout",
     "output_type": "stream",
     "text": [
      "Total files processed: 1"
     ]
    },
    {
     "name": "stderr",
     "output_type": "stream",
     "text": [
      "\n"
     ]
    },
    {
     "name": "stdout",
     "output_type": "stream",
     "text": [
      "\n"
     ]
    },
    {
     "name": "stderr",
     "output_type": "stream",
     "text": [
      "/w/hallb-scshelf2102/clas12/users/gmat/clas12/neutneut/analysis/neutron_ml/../../src/TrainData.py:84: FutureWarning: The default of observed=False is deprecated and will be changed to True in a future version of pandas. Pass observed=False to retain current behavior or observed=True to adopt the future default and silence this warning.\n",
      "  group_sizes = df.groupby(group_cols).size()\n",
      "100%|████████████████████████████████████████████| 1/1 [00:00<00:00,  2.75it/s]"
     ]
    },
    {
     "name": "stdout",
     "output_type": "stream",
     "text": [
      "Total files processed: 1"
     ]
    },
    {
     "name": "stderr",
     "output_type": "stream",
     "text": [
      "/w/hallb-scshelf2102/clas12/users/gmat/clas12/neutneut/analysis/neutron_ml/../../src/TrainData.py:84: FutureWarning: The default of observed=False is deprecated and will be changed to True in a future version of pandas. Pass observed=False to retain current behavior or observed=True to adopt the future default and silence this warning.\n",
      "  group_sizes = df.groupby(group_cols).size()\n",
      "\n"
     ]
    },
    {
     "name": "stdout",
     "output_type": "stream",
     "text": [
      "\n"
     ]
    },
    {
     "name": "stderr",
     "output_type": "stream",
     "text": [
      "\n"
     ]
    },
    {
     "name": "stdout",
     "output_type": "stream",
     "text": [
      "Total files processed: 1\n"
     ]
    },
    {
     "name": "stderr",
     "output_type": "stream",
     "text": [
      "/w/hallb-scshelf2102/clas12/users/gmat/clas12/neutneut/analysis/neutron_ml/../../src/TrainData.py:84: FutureWarning: The default of observed=False is deprecated and will be changed to True in a future version of pandas. Pass observed=False to retain current behavior or observed=True to adopt the future default and silence this warning.\n",
      "  group_sizes = df.groupby(group_cols).size()\n",
      "100%|████████████████████████████████████████████| 1/1 [00:00<00:00,  3.66it/s]\u001b[A/w/hallb-scshelf2102/clas12/users/gmat/clas12/neutneut/analysis/neutron_ml/../../src/TrainData.py:84: FutureWarning: The default of observed=False is deprecated and will be changed to True in a future version of pandas. Pass observed=False to retain current behavior or observed=True to adopt the future default and silence this warning.\n",
      "  group_sizes = df.groupby(group_cols).size()\n",
      "/w/hallb-scshelf2102/clas12/users/gmat/clas12/neutneut/analysis/neutron_ml/../../src/TrainData.py:84: FutureWarning: The default of observed=False is deprecated and will be changed to True in a future version of pandas. Pass observed=False to retain current behavior or observed=True to adopt the future default and silence this warning.\n",
      "  group_sizes = df.groupby(group_cols).size()\n",
      "100%|████████████████████████████████████████████| 1/1 [00:00<00:00,  2.20it/s]\n",
      "\n"
     ]
    },
    {
     "name": "stdout",
     "output_type": "stream",
     "text": [
      "Total files processed: 1\n"
     ]
    },
    {
     "name": "stderr",
     "output_type": "stream",
     "text": [
      "  0%|                                                  | 0/198 [00:00<?, ?it/s]/w/hallb-scshelf2102/clas12/users/gmat/clas12/neutneut/analysis/neutron_ml/../../src/TrainData.py:84: FutureWarning: The default of observed=False is deprecated and will be changed to True in a future version of pandas. Pass observed=False to retain current behavior or observed=True to adopt the future default and silence this warning.\n",
      "  group_sizes = df.groupby(group_cols).size()\n",
      "\u001b[A\n",
      "  0%|                                                  | 0/195 [00:00<?, ?it/s]\u001b[A\n",
      "100%|████████████████████████████████████████████| 1/1 [00:00<00:00,  2.80it/s]\u001b[A\n",
      "100%|████████████████████████████████████████████| 1/1 [00:00<00:00,  2.87it/s]"
     ]
    },
    {
     "name": "stdout",
     "output_type": "stream",
     "text": [
      "Total files processed: 1"
     ]
    },
    {
     "name": "stderr",
     "output_type": "stream",
     "text": [
      "\n"
     ]
    },
    {
     "name": "stdout",
     "output_type": "stream",
     "text": [
      "\n"
     ]
    },
    {
     "name": "stderr",
     "output_type": "stream",
     "text": [
      "100%|████████████████████████████████████████████| 1/1 [00:00<00:00,  2.35it/s]"
     ]
    },
    {
     "name": "stdout",
     "output_type": "stream",
     "text": [
      "Total files processed: 1\n"
     ]
    },
    {
     "name": "stderr",
     "output_type": "stream",
     "text": [
      "\n",
      "/w/hallb-scshelf2102/clas12/users/gmat/clas12/neutneut/analysis/neutron_ml/../../src/TrainData.py:84: FutureWarning: The default of observed=False is deprecated and will be changed to True in a future version of pandas. Pass observed=False to retain current behavior or observed=True to adopt the future default and silence this warning.\n",
      "  group_sizes = df.groupby(group_cols).size()\n",
      "100%|████████████████████████████████████████████| 1/1 [00:00<00:00,  2.88it/s]\n",
      "100%|████████████████████████████████████████████| 1/1 [00:00<00:00,  2.40it/s]"
     ]
    },
    {
     "name": "stdout",
     "output_type": "stream",
     "text": [
      "Total files processed: 1"
     ]
    },
    {
     "name": "stderr",
     "output_type": "stream",
     "text": [
      "/w/hallb-scshelf2102/clas12/users/gmat/clas12/neutneut/analysis/neutron_ml/../../src/TrainData.py:84: FutureWarning: The default of observed=False is deprecated and will be changed to True in a future version of pandas. Pass observed=False to retain current behavior or observed=True to adopt the future default and silence this warning.\n",
      "  group_sizes = df.groupby(group_cols).size()\n",
      "\n"
     ]
    },
    {
     "name": "stdout",
     "output_type": "stream",
     "text": [
      "\n"
     ]
    },
    {
     "name": "stderr",
     "output_type": "stream",
     "text": [
      "100%|████████████████████████████████████████████| 1/1 [00:00<00:00,  2.73it/s]"
     ]
    },
    {
     "name": "stdout",
     "output_type": "stream",
     "text": [
      "Total files processed: 1Total files processed: 1\n",
      "\n"
     ]
    },
    {
     "name": "stderr",
     "output_type": "stream",
     "text": [
      "\n",
      "/w/hallb-scshelf2102/clas12/users/gmat/clas12/neutneut/analysis/neutron_ml/../../src/TrainData.py:84: FutureWarning: The default of observed=False is deprecated and will be changed to True in a future version of pandas. Pass observed=False to retain current behavior or observed=True to adopt the future default and silence this warning.\n",
      "  group_sizes = df.groupby(group_cols).size()\n",
      "100%|████████████████████████████████████████████| 1/1 [00:00<00:00,  2.45it/s]"
     ]
    },
    {
     "name": "stdout",
     "output_type": "stream",
     "text": [
      "Total files processed: 1"
     ]
    },
    {
     "name": "stderr",
     "output_type": "stream",
     "text": [
      "/w/hallb-scshelf2102/clas12/users/gmat/clas12/neutneut/analysis/neutron_ml/../../src/TrainData.py:84: FutureWarning: The default of observed=False is deprecated and will be changed to True in a future version of pandas. Pass observed=False to retain current behavior or observed=True to adopt the future default and silence this warning.\n",
      "  group_sizes = df.groupby(group_cols).size()\n",
      "\n",
      "/w/hallb-scshelf2102/clas12/users/gmat/clas12/neutneut/analysis/neutron_ml/../../src/TrainData.py:84: FutureWarning: The default of observed=False is deprecated and will be changed to True in a future version of pandas. Pass observed=False to retain current behavior or observed=True to adopt the future default and silence this warning.\n",
      "  group_sizes = df.groupby(group_cols).size()\n",
      "100%|████████████████████████████████████████████| 1/1 [00:00<00:00,  2.85it/s]"
     ]
    },
    {
     "name": "stdout",
     "output_type": "stream",
     "text": [
      "Total files processed: 1\n",
      "\n"
     ]
    },
    {
     "name": "stderr",
     "output_type": "stream",
     "text": [
      "\n",
      "100%|████████████████████████████████████████████| 1/1 [00:00<00:00,  2.28it/s]"
     ]
    },
    {
     "name": "stdout",
     "output_type": "stream",
     "text": [
      "Total files processed: 1"
     ]
    },
    {
     "name": "stderr",
     "output_type": "stream",
     "text": [
      "\n"
     ]
    },
    {
     "name": "stdout",
     "output_type": "stream",
     "text": [
      "\n"
     ]
    },
    {
     "name": "stderr",
     "output_type": "stream",
     "text": [
      "/w/hallb-scshelf2102/clas12/users/gmat/clas12/neutneut/analysis/neutron_ml/../../src/TrainData.py:84: FutureWarning: The default of observed=False is deprecated and will be changed to True in a future version of pandas. Pass observed=False to retain current behavior or observed=True to adopt the future default and silence this warning.\n",
      "  group_sizes = df.groupby(group_cols).size()\n",
      "100%|████████████████████████████████████████████| 1/1 [00:00<00:00,  2.43it/s]"
     ]
    },
    {
     "name": "stdout",
     "output_type": "stream",
     "text": [
      "Total files processed: 1"
     ]
    },
    {
     "name": "stderr",
     "output_type": "stream",
     "text": [
      "/w/hallb-scshelf2102/clas12/users/gmat/clas12/neutneut/analysis/neutron_ml/../../src/TrainData.py:84: FutureWarning: The default of observed=False is deprecated and will be changed to True in a future version of pandas. Pass observed=False to retain current behavior or observed=True to adopt the future default and silence this warning.\n",
      "  group_sizes = df.groupby(group_cols).size()\n",
      "\n"
     ]
    },
    {
     "name": "stdout",
     "output_type": "stream",
     "text": [
      "\n"
     ]
    },
    {
     "name": "stderr",
     "output_type": "stream",
     "text": [
      "100%|████████████████████████████████████████████| 1/1 [00:00<00:00,  2.96it/s]"
     ]
    },
    {
     "name": "stdout",
     "output_type": "stream",
     "text": [
      "Total files processed: 1"
     ]
    },
    {
     "name": "stderr",
     "output_type": "stream",
     "text": [
      "\n"
     ]
    },
    {
     "name": "stdout",
     "output_type": "stream",
     "text": [
      "\n"
     ]
    },
    {
     "name": "stderr",
     "output_type": "stream",
     "text": [
      "/w/hallb-scshelf2102/clas12/users/gmat/clas12/neutneut/analysis/neutron_ml/../../src/TrainData.py:84: FutureWarning: The default of observed=False is deprecated and will be changed to True in a future version of pandas. Pass observed=False to retain current behavior or observed=True to adopt the future default and silence this warning.\n",
      "  group_sizes = df.groupby(group_cols).size()\n",
      "100%|████████████████████████████████████████████| 1/1 [00:00<00:00,  2.71it/s]"
     ]
    },
    {
     "name": "stdout",
     "output_type": "stream",
     "text": [
      "Total files processed: 1"
     ]
    },
    {
     "name": "stderr",
     "output_type": "stream",
     "text": [
      "/w/hallb-scshelf2102/clas12/users/gmat/clas12/neutneut/analysis/neutron_ml/../../src/TrainData.py:84: FutureWarning: The default of observed=False is deprecated and will be changed to True in a future version of pandas. Pass observed=False to retain current behavior or observed=True to adopt the future default and silence this warning.\n",
      "  group_sizes = df.groupby(group_cols).size()\n",
      "\n"
     ]
    },
    {
     "name": "stdout",
     "output_type": "stream",
     "text": [
      "Total files processed: 1\n",
      "\n"
     ]
    },
    {
     "name": "stderr",
     "output_type": "stream",
     "text": [
      "/w/hallb-scshelf2102/clas12/users/gmat/clas12/neutneut/analysis/neutron_ml/../../src/TrainData.py:84: FutureWarning: The default of observed=False is deprecated and will be changed to True in a future version of pandas. Pass observed=False to retain current behavior or observed=True to adopt the future default and silence this warning.\n",
      "  group_sizes = df.groupby(group_cols).size()\n",
      "/w/hallb-scshelf2102/clas12/users/gmat/clas12/neutneut/analysis/neutron_ml/../../src/TrainData.py:84: FutureWarning: The default of observed=False is deprecated and will be changed to True in a future version of pandas. Pass observed=False to retain current behavior or observed=True to adopt the future default and silence this warning.\n",
      "  group_sizes = df.groupby(group_cols).size()\n",
      "\n",
      "/w/hallb-scshelf2102/clas12/users/gmat/clas12/neutneut/analysis/neutron_ml/../../src/TrainData.py:84: FutureWarning: The default of observed=False is deprecated and will be changed to True in a future version of pandas. Pass observed=False to retain current behavior or observed=True to adopt the future default and silence this warning.\n",
      "  group_sizes = df.groupby(group_cols).size()\n",
      "100%|████████████████████████████████████████████| 1/1 [00:00<00:00,  2.36it/s]\u001b[A\n",
      "\n"
     ]
    },
    {
     "name": "stdout",
     "output_type": "stream",
     "text": [
      "Total files processed: 1"
     ]
    },
    {
     "name": "stderr",
     "output_type": "stream",
     "text": [
      "  0%|                                                  | 0/200 [00:00<?, ?it/s]"
     ]
    },
    {
     "name": "stdout",
     "output_type": "stream",
     "text": [
      "\n"
     ]
    },
    {
     "name": "stderr",
     "output_type": "stream",
     "text": [
      "\u001b[A\n",
      "/w/hallb-scshelf2102/clas12/users/gmat/clas12/neutneut/analysis/neutron_ml/../../src/TrainData.py:84: FutureWarning: The default of observed=False is deprecated and will be changed to True in a future version of pandas. Pass observed=False to retain current behavior or observed=True to adopt the future default and silence this warning.\n",
      "  group_sizes = df.groupby(group_cols).size()\n",
      "100%|████████████████████████████████████████████| 1/1 [00:00<00:00,  2.14it/s]\u001b[A\n",
      "\n"
     ]
    },
    {
     "name": "stdout",
     "output_type": "stream",
     "text": [
      "Total files processed: 1\n"
     ]
    },
    {
     "name": "stderr",
     "output_type": "stream",
     "text": [
      "100%|████████████████████████████████████████████| 1/1 [00:00<00:00,  2.51it/s]\u001b[A\n",
      "/w/hallb-scshelf2102/clas12/users/gmat/clas12/neutneut/analysis/neutron_ml/../../src/TrainData.py:84: FutureWarning: The default of observed=False is deprecated and will be changed to True in a future version of pandas. Pass observed=False to retain current behavior or observed=True to adopt the future default and silence this warning.\n",
      "  group_sizes = df.groupby(group_cols).size()\n",
      "\n"
     ]
    },
    {
     "name": "stdout",
     "output_type": "stream",
     "text": [
      "Total files processed: 1"
     ]
    },
    {
     "name": "stderr",
     "output_type": "stream",
     "text": [
      " 18%|███████                                 | 35/198 [00:00<00:00, 343.52it/s]"
     ]
    },
    {
     "name": "stdout",
     "output_type": "stream",
     "text": [
      "\n"
     ]
    },
    {
     "name": "stderr",
     "output_type": "stream",
     "text": [
      "\u001b[A\n",
      "  0%|                                                  | 0/198 [00:00<?, ?it/s]/w/hallb-scshelf2102/clas12/users/gmat/clas12/neutneut/analysis/neutron_ml/../../src/TrainData.py:84: FutureWarning: The default of observed=False is deprecated and will be changed to True in a future version of pandas. Pass observed=False to retain current behavior or observed=True to adopt the future default and silence this warning.\n",
      "  group_sizes = df.groupby(group_cols).size()\n",
      "\u001b[A\n",
      "  0%|                                                  | 0/198 [00:00<?, ?it/s]\u001b[A\n",
      "  0%|                                                  | 0/196 [00:00<?, ?it/s]\u001b[A\n",
      " 18%|███████▎                                | 36/198 [00:00<00:00, 357.05it/s]\u001b[A\n",
      "  0%|                                                  | 0/194 [00:00<?, ?it/s]\u001b[A\n",
      "  0%|                                                  | 0/197 [00:00<?, ?it/s]\u001b[A\n",
      "  0%|                                                  | 0/199 [00:00<?, ?it/s]\u001b[A\n",
      "  0%|                                                  | 0/198 [00:00<?, ?it/s]\u001b[A\n",
      " 17%|██████▊                                 | 33/195 [00:00<00:00, 323.51it/s]\u001b[A\n",
      "  0%|                                                  | 0/198 [00:00<?, ?it/s]\u001b[A\n",
      "  0%|                                                  | 0/195 [00:00<?, ?it/s]\u001b[A\n",
      "  0%|                                                  | 0/196 [00:00<?, ?it/s]\u001b[A\n",
      "  0%|                                                  | 0/196 [00:00<?, ?it/s]\u001b[A\n",
      "  0%|                                                  | 0/194 [00:00<?, ?it/s]\u001b[A\n",
      "  0%|                                                  | 0/197 [00:00<?, ?it/s]\u001b[A\n",
      "  0%|                                                  | 0/197 [00:00<?, ?it/s]\u001b[A\n",
      "  0%|                                                  | 0/200 [00:00<?, ?it/s]\u001b[A\n",
      " 21%|████████▎                               | 41/196 [00:00<00:00, 406.59it/s]\u001b[A\n",
      " 20%|████████▏                               | 41/200 [00:00<00:00, 404.44it/s]\u001b[A\n",
      " 23%|█████████▏                              | 46/199 [00:00<00:00, 459.69it/s]\u001b[A\n",
      " 38%|███████████████▏                        | 75/198 [00:00<00:00, 374.48it/s]\u001b[A\n",
      "  0%|                                                  | 0/197 [00:00<?, ?it/s]\u001b[A\n",
      " 21%|████████▍                               | 42/198 [00:00<00:00, 413.48it/s]\u001b[A\n",
      " 40%|███████████████▉                        | 79/198 [00:00<00:00, 394.86it/s]\u001b[A\n",
      " 21%|████████▍                               | 42/198 [00:00<00:00, 419.97it/s]\u001b[A\n",
      "  0%|                                                  | 0/196 [00:00<?, ?it/s]\u001b[A\n",
      "  0%|                                                  | 0/197 [00:00<?, ?it/s]\u001b[A\n",
      " 24%|█████████▋                              | 48/198 [00:00<00:00, 472.77it/s]\u001b[A\n",
      "  0%|                                                  | 0/196 [00:00<?, ?it/s]\u001b[A\n",
      "  0%|                                                  | 0/197 [00:00<?, ?it/s]\u001b[A\n",
      " 21%|████████▎                               | 41/196 [00:00<00:00, 408.05it/s]\u001b[A\n",
      " 22%|████████▋                               | 42/194 [00:00<00:00, 412.25it/s]\u001b[A\n",
      " 22%|████████▉                               | 44/197 [00:00<00:00, 432.56it/s]\u001b[A\n",
      " 34%|█████████████▌                          | 66/195 [00:00<00:00, 276.81it/s]\u001b[A\n",
      " 20%|███████▊                                | 39/199 [00:00<00:00, 383.75it/s]\u001b[A\n",
      " 21%|████████▎                               | 41/198 [00:00<00:00, 409.26it/s]\u001b[A\n",
      " 42%|████████████████▉                       | 84/198 [00:00<00:00, 303.68it/s]\u001b[A\n",
      " 21%|████████▍                               | 42/198 [00:00<00:00, 412.80it/s]\u001b[A\n",
      "  0%|                                                  | 0/198 [00:00<?, ?it/s]\u001b[A\n",
      " 23%|█████████                               | 44/195 [00:00<00:00, 437.08it/s]\u001b[A\n",
      " 24%|█████████▊                              | 48/196 [00:00<00:00, 471.88it/s]\u001b[A\n",
      " 22%|████████▊                               | 43/196 [00:00<00:00, 421.63it/s]\u001b[A\n",
      "  0%|                                                  | 0/198 [00:00<?, ?it/s]\u001b[A\n",
      " 22%|████████▊                               | 43/194 [00:00<00:00, 427.67it/s]\u001b[A\n",
      " 25%|█████████▉                              | 49/197 [00:00<00:00, 486.52it/s]\u001b[A\n",
      " 22%|████████▋                               | 43/197 [00:00<00:00, 425.40it/s]\u001b[A\n",
      " 42%|████████████████▋                       | 82/196 [00:00<00:00, 320.22it/s]\u001b[A\n",
      " 57%|██████████████████████▎                | 113/198 [00:00<00:00, 324.52it/s]\u001b[A\n",
      " 41%|████████████████▍                       | 82/200 [00:00<00:00, 323.42it/s]\u001b[A\n",
      " 21%|████████▍                               | 42/200 [00:00<00:00, 419.61it/s]\u001b[A\n",
      "  0%|                                                  | 0/199 [00:00<?, ?it/s]\u001b[A\n",
      "  0%|                                                  | 0/198 [00:00<?, ?it/s]\u001b[A\n",
      "  0%|                                                  | 0/197 [00:00<?, ?it/s]\u001b[A\n",
      " 46%|██████████████████▍                     | 92/199 [00:00<00:00, 344.57it/s]\u001b[A\n",
      "  0%|                                                  | 0/197 [00:00<?, ?it/s]\u001b[A\n",
      " 44%|█████████████████▌                      | 86/196 [00:00<00:00, 266.32it/s]\u001b[A\n",
      " 22%|████████▋                               | 43/197 [00:00<00:00, 421.64it/s]\u001b[A\n",
      " 60%|███████████████████████▍               | 119/198 [00:00<00:00, 286.74it/s]\u001b[A\n",
      " 42%|████████████████▉                       | 84/198 [00:00<00:00, 282.06it/s]\u001b[A\n",
      " 21%|████████▎                               | 41/196 [00:00<00:00, 406.62it/s]\u001b[A\n",
      " 21%|████████▌                               | 42/197 [00:00<00:00, 419.54it/s]\u001b[A\n",
      " 49%|███████████████████▍                    | 95/195 [00:00<00:00, 203.60it/s]\u001b[A\n",
      " 48%|███████████████████▍                    | 96/198 [00:00<00:00, 292.01it/s]\u001b[A\n",
      " 22%|████████▊                               | 43/196 [00:00<00:00, 428.56it/s]\u001b[A\n",
      " 22%|████████▉                               | 44/197 [00:00<00:00, 438.62it/s]\u001b[A\n",
      " 43%|█████████████████▎                      | 84/194 [00:00<00:00, 251.58it/s]\u001b[A\n",
      " 42%|████████████████▋                       | 82/196 [00:00<00:00, 239.34it/s]\u001b[A\n",
      " 39%|███████████████▋                        | 78/199 [00:00<00:00, 254.40it/s]\u001b[A\n",
      " 45%|█████████████████▊                      | 88/197 [00:00<00:00, 255.29it/s]\u001b[A\n",
      " 41%|████████████████▌                       | 82/198 [00:00<00:00, 253.12it/s]\u001b[A\n",
      " 64%|█████████████████████████              | 127/198 [00:00<00:00, 349.22it/s]\u001b[A\n",
      " 42%|████████████████▉                       | 84/198 [00:00<00:00, 281.25it/s]\u001b[A\n",
      " 22%|████████▉                               | 44/198 [00:00<00:00, 437.31it/s]\u001b[A\n",
      " 45%|██████████████████                      | 88/195 [00:00<00:00, 273.80it/s]\u001b[A\n",
      "  0%|                                                  | 0/198 [00:00<?, ?it/s]\u001b[A\n",
      " 49%|███████████████████▌                    | 96/196 [00:00<00:00, 283.81it/s]\u001b[A\n",
      " 59%|███████████████████████                | 116/196 [00:00<00:00, 237.30it/s]\u001b[A\n",
      " 74%|████████████████████████████▉          | 147/198 [00:00<00:00, 239.80it/s]\u001b[A\n",
      "  0%|                                                  | 0/194 [00:00<?, ?it/s]\u001b[A\n",
      " 58%|██████████████████████▌                | 116/200 [00:00<00:00, 232.84it/s]\u001b[A\n",
      " 44%|█████████████████▋                      | 86/194 [00:00<00:00, 250.30it/s]\u001b[A\n",
      " 20%|███████▉                                | 39/198 [00:00<00:00, 387.54it/s]\u001b[A\n",
      " 44%|█████████████████▍                      | 86/197 [00:00<00:00, 250.16it/s]\u001b[A\n",
      " 42%|████████████████▊                       | 84/200 [00:00<00:00, 245.73it/s]\u001b[A\n",
      " 50%|███████████████████▉                    | 98/197 [00:00<00:00, 266.40it/s]\u001b[A\n",
      " 25%|█████████▊                              | 49/199 [00:00<00:00, 484.39it/s]\u001b[A\n",
      " 24%|█████████▍                              | 47/198 [00:00<00:00, 467.16it/s]\u001b[A\n",
      " 21%|████████▌                               | 42/197 [00:00<00:00, 414.63it/s]\u001b[A\n",
      " 65%|█████████████████████████▎             | 129/199 [00:00<00:00, 224.93it/s]\u001b[A\n",
      " 58%|██████████████████████▋                | 115/198 [00:00<00:00, 211.66it/s]\u001b[A\n",
      " 76%|█████████████████████████████▋         | 151/198 [00:00<00:00, 217.75it/s]\u001b[A\n",
      " 61%|███████████████████████▌               | 118/195 [00:00<00:00, 169.96it/s]\u001b[A\n",
      " 22%|████████▋                               | 43/197 [00:00<00:00, 427.12it/s]\u001b[A\n",
      " 65%|█████████████████████████▍             | 128/196 [00:00<00:00, 318.15it/s]\u001b[A\n",
      " 66%|█████████████████████████▌             | 130/198 [00:00<00:00, 224.35it/s]\u001b[A\n",
      " 44%|█████████████████▍                      | 86/197 [00:00<00:00, 211.11it/s]\u001b[A\n",
      " 42%|████████████████▋                       | 82/196 [00:00<00:00, 231.23it/s]\u001b[A\n",
      " 43%|█████████████████                       | 84/197 [00:00<00:00, 236.93it/s]\u001b[A\n",
      " 58%|██████████████████████▋                | 113/194 [00:00<00:00, 190.48it/s]\u001b[A\n",
      " 44%|█████████████████▌                      | 86/196 [00:00<00:00, 238.68it/s]\u001b[A\n",
      " 56%|█████████████████████▉                 | 110/196 [00:00<00:00, 179.63it/s]\u001b[A\n",
      " 53%|████████████████████▊                  | 106/199 [00:00<00:00, 184.45it/s]\u001b[A\n",
      " 56%|█████████████████████▊                 | 111/198 [00:00<00:00, 193.68it/s]\u001b[A\n",
      " 60%|███████████████████████▎               | 118/197 [00:00<00:00, 191.80it/s]\u001b[A\n",
      " 58%|██████████████████████▋                | 115/198 [00:00<00:00, 207.04it/s]\u001b[A\n",
      " 45%|█████████████████▊                      | 88/197 [00:00<00:00, 229.82it/s]\u001b[A\n",
      " 83%|████████████████████████████████▎      | 164/198 [00:00<00:00, 244.34it/s]\u001b[A\n",
      " 61%|███████████████████████▊               | 119/195 [00:00<00:00, 210.07it/s]\u001b[A\n",
      " 72%|████████████████████████████▎          | 142/196 [00:00<00:00, 195.10it/s]\u001b[A\n",
      " 88%|██████████████████████████████████▎    | 174/198 [00:00<00:00, 204.44it/s]\u001b[A\n",
      " 71%|███████████████████████████▋           | 142/200 [00:00<00:00, 194.49it/s]\u001b[A\n",
      " 44%|█████████████████▊                      | 88/198 [00:00<00:00, 252.64it/s]\u001b[A\n",
      " 66%|█████████████████████████▋             | 129/196 [00:00<00:00, 221.58it/s]\u001b[A\n",
      " 60%|███████████████████████▎               | 116/194 [00:00<00:00, 203.10it/s]\u001b[A\n",
      " 21%|████████▎                               | 41/198 [00:00<00:00, 407.90it/s]\u001b[A\n",
      " 58%|██████████████████████▊                | 115/197 [00:00<00:00, 197.23it/s]\u001b[A\n",
      " 56%|██████████████████████                 | 113/200 [00:00<00:00, 196.48it/s]\u001b[A\n",
      " 39%|███████████████▊                        | 78/198 [00:00<00:00, 227.05it/s]\u001b[A\n",
      " 66%|█████████████████████████▋             | 130/197 [00:00<00:00, 210.64it/s]\u001b[A\n",
      " 22%|████████▊                               | 43/194 [00:00<00:00, 392.71it/s]\u001b[A\n",
      " 70%|███████████████████████████▍           | 137/195 [00:00<00:00, 147.37it/s]\u001b[A\n",
      " 70%|███████████████████████████▍           | 139/198 [00:00<00:00, 178.72it/s]\u001b[A\n",
      " 78%|██████████████████████████████▌        | 156/199 [00:00<00:00, 192.67it/s]\u001b[A\n",
      " 89%|██████████████████████████████████▋    | 176/198 [00:00<00:00, 186.94it/s]\u001b[A\n",
      " 47%|██████████████████▉                     | 94/198 [00:00<00:00, 270.17it/s]\u001b[A\n",
      " 84%|████████████████████████████████▋      | 164/196 [00:00<00:00, 254.90it/s]\u001b[A\n",
      " 43%|█████████████████                       | 84/197 [00:00<00:00, 245.10it/s]\u001b[A\n",
      " 79%|██████████████████████████████▋        | 156/198 [00:00<00:00, 192.82it/s]\u001b[A\n",
      " 49%|███████████████████▋                    | 98/199 [00:00<00:00, 270.00it/s]\u001b[A\n",
      " 70%|███████████████████████████▏           | 135/194 [00:00<00:00, 168.02it/s]\u001b[A\n",
      " 57%|██████████████████████▎                | 113/197 [00:00<00:00, 181.23it/s]\u001b[A\n",
      " 56%|█████████████████████▉                 | 110/196 [00:00<00:00, 192.60it/s]\u001b[A\n",
      " 57%|██████████████████████▏                | 112/197 [00:00<00:00, 195.43it/s]\u001b[A\n",
      " 44%|█████████████████▍                      | 86/197 [00:00<00:00, 249.14it/s]\u001b[A\n",
      " 67%|██████████████████████████             | 131/196 [00:00<00:00, 155.38it/s]\u001b[A\n",
      " 64%|████████████████████████▉              | 127/199 [00:00<00:00, 156.40it/s]\u001b[A\n",
      " 59%|██████████████████████▉                | 115/196 [00:00<00:00, 193.08it/s]\u001b[A\n",
      " 67%|██████████████████████████▏            | 133/198 [00:00<00:00, 162.30it/s]\u001b[A\n",
      " 72%|███████████████████████████▉           | 141/197 [00:00<00:00, 163.72it/s]\u001b[A\n",
      " 70%|███████████████████████████▍           | 139/198 [00:00<00:00, 175.86it/s]\u001b[A\n",
      " 84%|████████████████████████████████▋      | 164/196 [00:00<00:00, 172.15it/s]\u001b[A\n",
      " 73%|████████████████████████████▌          | 143/195 [00:00<00:00, 180.30it/s]\u001b[A\n",
      " 99%|██████████████████████████████████████▊| 197/198 [00:00<00:00, 179.07it/s]\u001b[A\n",
      " 79%|██████████████████████████████▋        | 154/196 [00:00<00:00, 196.36it/s]\u001b[A\n",
      " 82%|███████████████████████████████▉       | 164/200 [00:00<00:00, 171.78it/s]\u001b[A\n",
      " 59%|███████████████████████▏               | 117/197 [00:00<00:00, 192.10it/s]\u001b[A\n",
      " 97%|██████████████████████████████████████ | 193/198 [00:00<00:00, 207.27it/s]\u001b[A\n",
      " 72%|███████████████████████████▉           | 139/194 [00:00<00:00, 178.18it/s]\u001b[A\n",
      " 60%|███████████████████████▏               | 118/198 [00:00<00:00, 209.55it/s]\u001b[A\n",
      " 70%|███████████████████████████▎           | 138/197 [00:00<00:00, 178.22it/s]\u001b[A\n",
      " 68%|██████████████████████████▌            | 136/200 [00:00<00:00, 175.65it/s]\u001b[A\n",
      " 78%|██████████████████████████████▌        | 153/195 [00:01<00:00, 134.71it/s]\u001b[A\n",
      " 80%|███████████████████████████████▎       | 159/198 [00:00<00:00, 161.77it/s]\u001b[A\n",
      " 89%|██████████████████████████████████▉    | 178/199 [00:00<00:00, 175.93it/s]\u001b[A\n",
      " 41%|████████████████▌                       | 82/198 [00:00<00:00, 256.26it/s]\u001b[A\n",
      " 79%|██████████████████████████████▋        | 155/197 [00:00<00:00, 187.65it/s]\u001b[A\n",
      " 53%|████████████████████▋                  | 105/198 [00:00<00:00, 190.12it/s]\u001b[A\n",
      " 99%|██████████████████████████████████████▊| 197/198 [00:01<00:00, 169.40it/s]\u001b[A\n",
      " 89%|██████████████████████████████████▊    | 177/198 [00:00<00:00, 180.05it/s]\u001b[A\n",
      " 79%|██████████████████████████████▉        | 154/194 [00:00<00:00, 158.43it/s]\u001b[A\n",
      " 57%|██████████████████████▎                | 113/197 [00:00<00:00, 217.69it/s]\u001b[A\n",
      " 98%|██████████████████████████████████████▍| 193/196 [00:00<00:00, 226.52it/s]\u001b[A\n",
      " 43%|█████████████████                       | 83/194 [00:00<00:00, 254.56it/s]\u001b[A\n",
      " 64%|████████████████████████▊              | 126/198 [00:00<00:00, 235.19it/s]\u001b[A\n",
      " 68%|██████████████████████████▌            | 134/197 [00:00<00:00, 164.81it/s]\u001b[A\n",
      " 66%|█████████████████████████▋             | 131/199 [00:00<00:00, 236.93it/s]\u001b[A\n",
      " 67%|██████████████████████████▎            | 132/196 [00:00<00:00, 170.01it/s]\u001b[A\n",
      " 76%|█████████████████████████████▋         | 149/196 [00:00<00:00, 144.21it/s]\u001b[A\n",
      " 68%|██████████████████████████▌            | 134/197 [00:00<00:00, 172.87it/s]\u001b[A\n",
      " 73%|████████████████████████████▍          | 145/199 [00:00<00:00, 145.99it/s]\u001b[A\n",
      "100%|███████████████████████████████████████| 198/198 [00:00<00:00, 201.48it/s]\u001b[A\n",
      "\n",
      " 58%|██████████████████████▊                | 115/197 [00:00<00:00, 208.26it/s]\u001b[A\n",
      " 70%|███████████████████████████▍           | 138/196 [00:00<00:00, 177.57it/s]\u001b[A\n",
      " 80%|███████████████████████████████▎       | 159/198 [00:00<00:00, 163.08it/s]\u001b[A\n",
      " 93%|████████████████████████████████████▍  | 183/196 [00:01<00:00, 160.23it/s]\u001b[A\n",
      " 84%|████████████████████████████████▌      | 163/195 [00:00<00:00, 166.36it/s]\u001b[A\n",
      " 92%|███████████████████████████████████▋   | 183/200 [00:01<00:00, 157.78it/s]\u001b[A\n",
      " 90%|███████████████████████████████████    | 176/196 [00:00<00:00, 179.54it/s]\u001b[A\n",
      " 82%|███████████████████████████████▉       | 159/194 [00:00<00:00, 166.93it/s]\u001b[A\n",
      " 86%|█████████████████████████████████▌     | 168/195 [00:01<00:00, 132.42it/s]\u001b[A\n",
      " 71%|███████████████████████████▋           | 140/197 [00:00<00:00, 173.98it/s]\u001b[A\n",
      " 78%|██████████████████████████████▏        | 155/200 [00:00<00:00, 164.94it/s]\u001b[A\n",
      "100%|███████████████████████████████████████| 196/196 [00:00<00:00, 213.66it/s]\u001b[A\n",
      "\n",
      "100%|███████████████████████████████████████| 198/198 [00:01<00:00, 173.27it/s]\u001b[A\n",
      "\n",
      " 99%|██████████████████████████████████████▌| 197/199 [00:01<00:00, 170.97it/s]\u001b[A\n",
      " 89%|██████████████████████████████████▊    | 176/197 [00:00<00:00, 177.04it/s]\u001b[A\n",
      " 81%|███████████████████████████████▋       | 160/197 [00:01<00:00, 154.33it/s]\u001b[A\n",
      " 88%|██████████████████████████████████▍    | 171/194 [00:01<00:00, 153.81it/s]\u001b[A\n",
      " 64%|█████████████████████████              | 127/198 [00:00<00:00, 177.75it/s]\u001b[A\n",
      " 99%|██████████████████████████████████████▌| 196/198 [00:01<00:00, 169.52it/s]\u001b[A\n",
      " 56%|█████████████████████▊                 | 111/198 [00:00<00:00, 229.41it/s]\u001b[A\n",
      " 70%|███████████████████████████            | 137/197 [00:00<00:00, 207.89it/s]\u001b[A\n",
      " 77%|██████████████████████████████         | 152/197 [00:00<00:00, 160.49it/s]\u001b[A\n",
      " 84%|████████████████████████████████▊      | 165/196 [00:01<00:00, 145.13it/s]\u001b[A\n",
      " 77%|██████████████████████████████         | 151/196 [00:00<00:00, 168.65it/s]\u001b[A\n",
      "100%|███████████████████████████████████████| 198/198 [00:01<00:00, 167.75it/s]\u001b[A\n",
      "\n",
      " 78%|██████████████████████████████▎        | 153/197 [00:00<00:00, 169.16it/s]\u001b[A\n",
      " 77%|█████████████████████████████▉         | 152/198 [00:00<00:00, 217.03it/s]\u001b[A\n",
      " 58%|██████████████████████▌                | 112/194 [00:00<00:00, 230.55it/s]\u001b[A\n",
      " 85%|█████████████████████████████████      | 168/198 [00:01<00:00, 149.87it/s]\u001b[A\n",
      " 79%|██████████████████████████████▉        | 158/199 [00:00<00:00, 222.48it/s]\u001b[A\n",
      " 72%|███████████████████████████▉           | 142/198 [00:00<00:00, 190.47it/s]\u001b[A\n",
      " 89%|██████████████████████████████████▊    | 177/198 [00:01<00:00, 158.04it/s]\u001b[A\n",
      " 71%|███████████████████████████▌           | 139/197 [00:00<00:00, 198.59it/s]\u001b[A\n",
      " 93%|████████████████████████████████████▏  | 181/195 [00:01<00:00, 162.26it/s]\u001b[A\n",
      " 81%|███████████████████████████████▍       | 158/196 [00:00<00:00, 168.99it/s]\u001b[A\n",
      "100%|███████████████████████████████████████| 200/200 [00:01<00:00, 155.34it/s]\u001b[A\n",
      " 93%|████████████████████████████████████▍  | 182/195 [00:01<00:00, 131.91it/s]\u001b[A\n",
      " 99%|██████████████████████████████████████▊| 195/196 [00:01<00:00, 173.98it/s]\u001b[A\n",
      " 91%|███████████████████████████████████▌   | 177/194 [00:01<00:00, 162.75it/s]\u001b[A\n",
      " 86%|█████████████████████████████████▋     | 173/200 [00:01<00:00, 162.97it/s]\u001b[A\n",
      " 81%|███████████████████████████████▍       | 159/197 [00:00<00:00, 170.59it/s]\u001b[A\n",
      " 89%|██████████████████████████████████▊    | 176/197 [00:01<00:00, 161.85it/s]\u001b[A\n",
      " 98%|██████████████████████████████████████▏| 194/198 [00:01<00:00, 155.44it/s]\u001b[A\n",
      " 90%|███████████████████████████████████    | 177/197 [00:01<00:00, 133.12it/s]\u001b[A\n",
      " 96%|█████████████████████████████████████▌ | 187/194 [00:01<00:00, 150.79it/s]\u001b[A\n",
      " 99%|██████████████████████████████████████▌| 195/197 [00:01<00:00, 173.70it/s]\u001b[A\n",
      " 74%|████████████████████████████▊          | 146/198 [00:00<00:00, 172.40it/s]\u001b[A\n",
      " 86%|█████████████████████████████████▍     | 169/197 [00:01<00:00, 159.26it/s]\u001b[A\n",
      " 92%|████████████████████████████████████   | 181/196 [00:01<00:00, 145.69it/s]\u001b[A\n",
      "100%|███████████████████████████████████████| 196/196 [00:01<00:00, 162.65it/s]\u001b[A\n",
      "\n",
      " 86%|█████████████████████████████████▋     | 169/196 [00:00<00:00, 167.58it/s]\u001b[A\n",
      " 81%|███████████████████████████████▍       | 159/197 [00:00<00:00, 196.75it/s]\u001b[A\n",
      " 69%|██████████████████████████▊            | 136/198 [00:00<00:00, 214.08it/s]\u001b[A\n",
      " 87%|█████████████████████████████████▊     | 171/197 [00:00<00:00, 166.93it/s]\u001b[A\n",
      "100%|███████████████████████████████████████| 200/200 [00:01<00:00, 163.96it/s]\u001b[A\n",
      "\n",
      " 88%|██████████████████████████████████▍    | 175/198 [00:00<00:00, 203.34it/s]\u001b[A\n",
      " 71%|███████████████████████████▌           | 137/194 [00:00<00:00, 212.66it/s]\u001b[A\n",
      "100%|███████████████████████████████████████| 198/198 [00:01<00:00, 163.81it/s]\u001b[A\n",
      "\n",
      " 91%|███████████████████████████████████▋   | 182/199 [00:00<00:00, 208.25it/s]\u001b[A\n",
      " 82%|████████████████████████████████       | 163/198 [00:00<00:00, 155.87it/s]\u001b[A\n",
      " 90%|███████████████████████████████████    | 176/196 [00:01<00:00, 164.08it/s]\u001b[A\n",
      "100%|███████████████████████████████████████| 198/198 [00:01<00:00, 161.29it/s]\u001b[A\n",
      "\n",
      "100%|███████████████████████████████████████| 194/194 [00:01<00:00, 158.86it/s]\u001b[A\n",
      "\n",
      "100%|███████████████████████████████████████| 199/199 [00:01<00:00, 157.99it/s]\u001b[A\n",
      "\n",
      "100%|███████████████████████████████████████| 196/196 [00:01<00:00, 168.63it/s]\u001b[A\n",
      "\n",
      " 83%|████████████████████████████████▎      | 164/198 [00:00<00:00, 167.84it/s]\u001b[A\n",
      "100%|███████████████████████████████████████| 196/196 [00:01<00:00, 142.94it/s]\u001b[A\n",
      "100%|███████████████████████████████████████| 195/195 [00:01<00:00, 164.90it/s]\u001b[A\n",
      "\n",
      "100%|███████████████████████████████████████| 198/198 [00:01<00:00, 165.92it/s]\u001b[A\n",
      "100%|███████████████████████████████████████| 198/198 [00:01<00:00, 161.45it/s]\n",
      "\n",
      " 96%|█████████████████████████████████████▍ | 189/197 [00:01<00:00, 163.17it/s]\u001b[A\n",
      " 90%|███████████████████████████████████    | 177/197 [00:01<00:00, 159.00it/s]\u001b[A\n",
      " 95%|█████████████████████████████████████  | 190/200 [00:01<00:00, 152.71it/s]\u001b[A\n",
      " 91%|███████████████████████████████████▋   | 180/197 [00:00<00:00, 188.40it/s]\u001b[A\n",
      " 80%|███████████████████████████████▎       | 159/198 [00:00<00:00, 199.91it/s]\u001b[A\n",
      "100%|███████████████████████████████████████| 199/199 [00:00<00:00, 209.60it/s]\u001b[A\n",
      "100%|███████████████████████████████████████| 197/197 [00:01<00:00, 151.10it/s]\n",
      "\n",
      "  0%|                                                    | 0/1 [00:00<?, ?it/s]\u001b[A\n",
      "100%|███████████████████████████████████████| 195/195 [00:01<00:00, 134.43it/s]\u001b[A\n",
      "100%|███████████████████████████████████████| 197/197 [00:01<00:00, 160.06it/s]\n",
      "\n",
      "100%|███████████████████████████████████████| 199/199 [00:01<00:00, 151.31it/s]\u001b[A\n",
      "100%|███████████████████████████████████████| 194/194 [00:01<00:00, 154.36it/s]\n",
      "100%|███████████████████████████████████████| 197/197 [00:01<00:00, 161.71it/s]\n",
      "100%|███████████████████████████████████████| 197/197 [00:01<00:00, 168.64it/s]\n",
      "100%|███████████████████████████████████████| 197/197 [00:01<00:00, 155.75it/s]\n",
      "100%|███████████████████████████████████████| 200/200 [00:01<00:00, 158.45it/s]\n",
      "\n",
      "100%|███████████████████████████████████████| 196/196 [00:01<00:00, 140.28it/s]\u001b[A\n",
      "100%|███████████████████████████████████████| 198/198 [00:01<00:00, 191.35it/s]\n",
      "\n",
      " 98%|██████████████████████████████████████▍| 193/196 [00:01<00:00, 161.78it/s]\u001b[A\n",
      "100%|███████████████████████████████████████| 196/196 [00:01<00:00, 158.47it/s]\u001b[A\n",
      "\n",
      " 95%|█████████████████████████████████████▏ | 189/198 [00:01<00:00, 188.80it/s]\u001b[A\n",
      "  0%|                                                    | 0/1 [00:00<?, ?it/s]\u001b[A\n",
      "100%|███████████████████████████████████████| 197/197 [00:01<00:00, 180.25it/s]\u001b[A\n",
      "\n",
      "100%|███████████████████████████████████████| 197/197 [00:01<00:00, 155.47it/s]\u001b[A\n",
      "\n",
      " 99%|██████████████████████████████████████▊| 197/198 [00:01<00:00, 117.06it/s]\u001b[A\n",
      "100%|███████████████████████████████████████| 196/196 [00:01<00:00, 149.87it/s]\u001b[A\n",
      "\n",
      "100%|███████████████████████████████████████| 198/198 [00:01<00:00, 158.53it/s]\u001b[A\n",
      "\n",
      "  0%|                                                    | 0/1 [00:00<?, ?it/s]\u001b[A\n",
      "  0%|                                                    | 0/1 [00:00<?, ?it/s]\u001b[A\n",
      "100%|███████████████████████████████████████| 197/197 [00:01<00:00, 170.79it/s]\u001b[A\n",
      "100%|███████████████████████████████████████| 198/198 [00:01<00:00, 160.99it/s]\n",
      "\n",
      "  0%|                                                    | 0/1 [00:00<?, ?it/s]\u001b[A\n",
      "100%|███████████████████████████████████████| 198/198 [00:01<00:00, 190.08it/s]\u001b[A\n",
      "\n",
      "  0%|                                                    | 0/1 [00:00<?, ?it/s]\u001b[A\n",
      "100%|███████████████████████████████████████| 194/194 [00:01<00:00, 189.46it/s]\u001b[A\n",
      "\n",
      "100%|████████████████████████████████████████████| 1/1 [00:00<00:00,  4.21it/s]\u001b[A\n",
      "  0%|                                                    | 0/1 [00:00<?, ?it/s]\u001b[A\n",
      "  0%|                                                    | 0/1 [00:00<?, ?it/s]\u001b[A\n",
      "100%|████████████████████████████████████████████| 1/1 [00:00<00:00,  3.78it/s]\u001b[A\n",
      "\n"
     ]
    },
    {
     "name": "stdout",
     "output_type": "stream",
     "text": [
      "Total files processed: 1\n"
     ]
    },
    {
     "name": "stderr",
     "output_type": "stream",
     "text": [
      "  0%|                                                    | 0/1 [00:00<?, ?it/s]\u001b[A\n",
      "/w/hallb-scshelf2102/clas12/users/gmat/clas12/neutneut/analysis/neutron_ml/../../src/TrainData.py:84: FutureWarning: The default of observed=False is deprecated and will be changed to True in a future version of pandas. Pass observed=False to retain current behavior or observed=True to adopt the future default and silence this warning.\n",
      "  group_sizes = df.groupby(group_cols).size()\n",
      "  0%|                                                    | 0/1 [00:00<?, ?it/s]\u001b[A\n",
      "  0%|                                                    | 0/1 [00:00<?, ?it/s]\u001b[A\n",
      "Processing CSV files:   4%|▋                  | 18/500 [00:02<00:34, 14.04it/s]\u001b[A\n",
      "  0%|                                                    | 0/1 [00:00<?, ?it/s]\u001b[A\n",
      "  0%|                                                    | 0/1 [00:00<?, ?it/s]\u001b[A\n",
      "  0%|                                                    | 0/1 [00:00<?, ?it/s]\u001b[A\n",
      "  0%|                                                  | 0/197 [00:00<?, ?it/s]\u001b[A\n",
      "  0%|                                                    | 0/1 [00:00<?, ?it/s]\u001b[A\n",
      "100%|████████████████████████████████████████████| 1/1 [00:00<00:00,  5.02it/s]\u001b[A\n"
     ]
    },
    {
     "name": "stdout",
     "output_type": "stream",
     "text": [
      "Total files processed: 1\n"
     ]
    },
    {
     "name": "stderr",
     "output_type": "stream",
     "text": [
      "/w/hallb-scshelf2102/clas12/users/gmat/clas12/neutneut/analysis/neutron_ml/../../src/TrainData.py:84: FutureWarning: The default of observed=False is deprecated and will be changed to True in a future version of pandas. Pass observed=False to retain current behavior or observed=True to adopt the future default and silence this warning.\n",
      "  group_sizes = df.groupby(group_cols).size()\n",
      "\n",
      "  0%|                                                    | 0/1 [00:00<?, ?it/s]\u001b[A\n",
      "  0%|                                                    | 0/1 [00:00<?, ?it/s]\u001b[A\n",
      "  0%|                                                  | 0/196 [00:00<?, ?it/s]\u001b[A\n",
      "  0%|                                                    | 0/1 [00:00<?, ?it/s]\u001b[A\n",
      "100%|████████████████████████████████████████████| 1/1 [00:00<00:00,  4.99it/s]\u001b[A\n",
      "100%|████████████████████████████████████████████| 1/1 [00:00<00:00,  5.78it/s]\u001b[A\n",
      "Processing CSV files:   6%|█                  | 29/500 [00:02<00:18, 25.41it/s]\u001b[A\n",
      "  0%|                                                    | 0/1 [00:00<?, ?it/s]\u001b[A\n",
      " 18%|███████                                 | 35/197 [00:00<00:00, 343.58it/s]\u001b[A\n",
      "100%|████████████████████████████████████████████| 1/1 [00:00<00:00,  4.91it/s]\u001b[A\n",
      "100%|████████████████████████████████████████████| 1/1 [00:00<00:00,  5.53it/s]\u001b[A\n",
      "100%|████████████████████████████████████████████| 1/1 [00:00<00:00,  4.54it/s]\u001b[A\n",
      "100%|████████████████████████████████████████████| 1/1 [00:00<00:00,  5.63it/s]\u001b[A\n",
      "100%|████████████████████████████████████████████| 1/1 [00:00<00:00,  4.29it/s]\u001b[A\n",
      "100%|████████████████████████████████████████████| 1/1 [00:00<00:00,  4.67it/s]\u001b[A\n",
      "100%|████████████████████████████████████████████| 1/1 [00:00<00:00,  4.44it/s]\u001b[A\n",
      "100%|████████████████████████████████████████████| 1/1 [00:00<00:00,  3.85it/s]\u001b[A\n",
      "\n"
     ]
    },
    {
     "name": "stdout",
     "output_type": "stream",
     "text": [
      "Total files processed: 1\n"
     ]
    },
    {
     "name": "stderr",
     "output_type": "stream",
     "text": [
      "100%|████████████████████████████████████████████| 1/1 [00:00<00:00,  3.48it/s]\u001b[A/w/hallb-scshelf2102/clas12/users/gmat/clas12/neutneut/analysis/neutron_ml/../../src/TrainData.py:84: FutureWarning: The default of observed=False is deprecated and will be changed to True in a future version of pandas. Pass observed=False to retain current behavior or observed=True to adopt the future default and silence this warning.\n",
      "  group_sizes = df.groupby(group_cols).size()\n",
      "\n",
      "100%|████████████████████████████████████████████| 1/1 [00:00<00:00,  4.00it/s]"
     ]
    },
    {
     "name": "stdout",
     "output_type": "stream",
     "text": [
      "Total files processed: 1"
     ]
    },
    {
     "name": "stderr",
     "output_type": "stream",
     "text": [
      "\n"
     ]
    },
    {
     "name": "stdout",
     "output_type": "stream",
     "text": [
      "\n",
      "Total files processed: 1"
     ]
    },
    {
     "name": "stderr",
     "output_type": "stream",
     "text": [
      "100%|████████████████████████████████████████████| 1/1 [00:00<00:00,  4.10it/s]"
     ]
    },
    {
     "name": "stdout",
     "output_type": "stream",
     "text": [
      "\n"
     ]
    },
    {
     "name": "stderr",
     "output_type": "stream",
     "text": [
      "\n"
     ]
    },
    {
     "name": "stdout",
     "output_type": "stream",
     "text": [
      "Total files processed: 1"
     ]
    },
    {
     "name": "stderr",
     "output_type": "stream",
     "text": [
      "/w/hallb-scshelf2102/clas12/users/gmat/clas12/neutneut/analysis/neutron_ml/../../src/TrainData.py:84: FutureWarning: The default of observed=False is deprecated and will be changed to True in a future version of pandas. Pass observed=False to retain current behavior or observed=True to adopt the future default and silence this warning.\n",
      "  group_sizes = df.groupby(group_cols).size()\n"
     ]
    },
    {
     "name": "stdout",
     "output_type": "stream",
     "text": [
      "\n"
     ]
    },
    {
     "name": "stderr",
     "output_type": "stream",
     "text": [
      "/w/hallb-scshelf2102/clas12/users/gmat/clas12/neutneut/analysis/neutron_ml/../../src/TrainData.py:84: FutureWarning: The default of observed=False is deprecated and will be changed to True in a future version of pandas. Pass observed=False to retain current behavior or observed=True to adopt the future default and silence this warning.\n",
      "  group_sizes = df.groupby(group_cols).size()\n",
      "  0%|                                                    | 0/1 [00:00<?, ?it/s]\n",
      "\u001b[A\n",
      "  0%|                                                    | 0/1 [00:00<?, ?it/s]\u001b[A/w/hallb-scshelf2102/clas12/users/gmat/clas12/neutneut/analysis/neutron_ml/../../src/TrainData.py:84: FutureWarning: The default of observed=False is deprecated and will be changed to True in a future version of pandas. Pass observed=False to retain current behavior or observed=True to adopt the future default and silence this warning.\n",
      "  group_sizes = df.groupby(group_cols).size()\n",
      "\n",
      "100%|████████████████████████████████████████████| 1/1 [00:00<00:00,  4.56it/s]\u001b[A\n",
      "  0%|                                                    | 0/1 [00:00<?, ?it/s]\u001b[A\n",
      "  0%|                                                    | 0/1 [00:00<?, ?it/s]\u001b[A\n",
      "100%|████████████████████████████████████████████| 1/1 [00:00<00:00,  5.78it/s]\u001b[A\n",
      "  0%|                                                    | 0/1 [00:00<?, ?it/s]\u001b[A\n",
      "100%|████████████████████████████████████████████| 1/1 [00:00<00:00,  3.79it/s]\u001b[A\n",
      "\n"
     ]
    },
    {
     "name": "stdout",
     "output_type": "stream",
     "text": [
      "Total files processed: 1"
     ]
    },
    {
     "name": "stderr",
     "output_type": "stream",
     "text": [
      "  0%|                                                    | 0/1 [00:00<?, ?it/s]"
     ]
    },
    {
     "name": "stdout",
     "output_type": "stream",
     "text": [
      "\n"
     ]
    },
    {
     "name": "stderr",
     "output_type": "stream",
     "text": [
      "100%|████████████████████████████████████████████| 1/1 [00:00<00:00,  3.27it/s]\n",
      "/w/hallb-scshelf2102/clas12/users/gmat/clas12/neutneut/analysis/neutron_ml/../../src/TrainData.py:84: FutureWarning: The default of observed=False is deprecated and will be changed to True in a future version of pandas. Pass observed=False to retain current behavior or observed=True to adopt the future default and silence this warning.\n",
      "  group_sizes = df.groupby(group_cols).size()\n",
      "100%|████████████████████████████████████████████| 1/1 [00:00<00:00,  3.79it/s]"
     ]
    },
    {
     "name": "stdout",
     "output_type": "stream",
     "text": [
      "Total files processed: 1\n"
     ]
    },
    {
     "name": "stderr",
     "output_type": "stream",
     "text": [
      "\n",
      "100%|████████████████████████████████████████████| 1/1 [00:00<00:00,  3.17it/s]"
     ]
    },
    {
     "name": "stdout",
     "output_type": "stream",
     "text": [
      "Total files processed: 1"
     ]
    },
    {
     "name": "stderr",
     "output_type": "stream",
     "text": [
      "\n"
     ]
    },
    {
     "name": "stdout",
     "output_type": "stream",
     "text": [
      "\n"
     ]
    },
    {
     "name": "stderr",
     "output_type": "stream",
     "text": [
      "/w/hallb-scshelf2102/clas12/users/gmat/clas12/neutneut/analysis/neutron_ml/../../src/TrainData.py:84: FutureWarning: The default of observed=False is deprecated and will be changed to True in a future version of pandas. Pass observed=False to retain current behavior or observed=True to adopt the future default and silence this warning.\n",
      "  group_sizes = df.groupby(group_cols).size()\n",
      "100%|████████████████████████████████████████████| 1/1 [00:00<00:00,  3.48it/s]"
     ]
    },
    {
     "name": "stdout",
     "output_type": "stream",
     "text": [
      "Total files processed: 1\n"
     ]
    },
    {
     "name": "stderr",
     "output_type": "stream",
     "text": [
      "\n",
      "/w/hallb-scshelf2102/clas12/users/gmat/clas12/neutneut/analysis/neutron_ml/../../src/TrainData.py:84: FutureWarning: The default of observed=False is deprecated and will be changed to True in a future version of pandas. Pass observed=False to retain current behavior or observed=True to adopt the future default and silence this warning.\n",
      "  group_sizes = df.groupby(group_cols).size()\n",
      "\n"
     ]
    },
    {
     "name": "stdout",
     "output_type": "stream",
     "text": [
      "Total files processed: 1\n"
     ]
    },
    {
     "name": "stderr",
     "output_type": "stream",
     "text": [
      "100%|████████████████████████████████████████████| 1/1 [00:00<00:00,  4.98it/s]/w/hallb-scshelf2102/clas12/users/gmat/clas12/neutneut/analysis/neutron_ml/../../src/TrainData.py:84: FutureWarning: The default of observed=False is deprecated and will be changed to True in a future version of pandas. Pass observed=False to retain current behavior or observed=True to adopt the future default and silence this warning.\n",
      "  group_sizes = df.groupby(group_cols).size()\n",
      "\u001b[A\n",
      "100%|████████████████████████████████████████████| 1/1 [00:00<00:00,  5.27it/s]/w/hallb-scshelf2102/clas12/users/gmat/clas12/neutneut/analysis/neutron_ml/../../src/TrainData.py:84: FutureWarning: The default of observed=False is deprecated and will be changed to True in a future version of pandas. Pass observed=False to retain current behavior or observed=True to adopt the future default and silence this warning.\n",
      "  group_sizes = df.groupby(group_cols).size()\n",
      "100%|████████████████████████████████████████████| 1/1 [00:00<00:00,  3.27it/s]\n",
      "\n"
     ]
    },
    {
     "name": "stdout",
     "output_type": "stream",
     "text": [
      "Total files processed: 1"
     ]
    },
    {
     "name": "stderr",
     "output_type": "stream",
     "text": [
      "100%|████████████████████████████████████████████| 1/1 [00:00<00:00,  4.16it/s]"
     ]
    },
    {
     "name": "stdout",
     "output_type": "stream",
     "text": [
      "\n"
     ]
    },
    {
     "name": "stderr",
     "output_type": "stream",
     "text": [
      "100%|████████████████████████████████████████████| 1/1 [00:00<00:00,  3.69it/s]/w/hallb-scshelf2102/clas12/users/gmat/clas12/neutneut/analysis/neutron_ml/../../src/TrainData.py:84: FutureWarning: The default of observed=False is deprecated and will be changed to True in a future version of pandas. Pass observed=False to retain current behavior or observed=True to adopt the future default and silence this warning.\n",
      "  group_sizes = df.groupby(group_cols).size()\n",
      "\n",
      "\n"
     ]
    },
    {
     "name": "stdout",
     "output_type": "stream",
     "text": [
      "Total files processed: 1"
     ]
    },
    {
     "name": "stderr",
     "output_type": "stream",
     "text": [
      " 19%|███████▌                                | 37/196 [00:00<00:00, 366.66it/s]"
     ]
    },
    {
     "name": "stdout",
     "output_type": "stream",
     "text": [
      "\n"
     ]
    },
    {
     "name": "stderr",
     "output_type": "stream",
     "text": [
      "\u001b[A\n",
      "/w/hallb-scshelf2102/clas12/users/gmat/clas12/neutneut/analysis/neutron_ml/../../src/TrainData.py:84: FutureWarning: The default of observed=False is deprecated and will be changed to True in a future version of pandas. Pass observed=False to retain current behavior or observed=True to adopt the future default and silence this warning.\n",
      "  group_sizes = df.groupby(group_cols).size()\n",
      "100%|████████████████████████████████████████████| 1/1 [00:00<00:00,  3.50it/s]\u001b[A\n",
      "\n"
     ]
    },
    {
     "name": "stdout",
     "output_type": "stream",
     "text": [
      "Total files processed: 1"
     ]
    },
    {
     "name": "stderr",
     "output_type": "stream",
     "text": [
      "100%|████████████████████████████████████████████| 1/1 [00:00<00:00,  5.15it/s]"
     ]
    },
    {
     "name": "stdout",
     "output_type": "stream",
     "text": [
      "\n"
     ]
    },
    {
     "name": "stderr",
     "output_type": "stream",
     "text": [
      "100%|████████████████████████████████████████████| 1/1 [00:00<00:00,  3.34it/s]/w/hallb-scshelf2102/clas12/users/gmat/clas12/neutneut/analysis/neutron_ml/../../src/TrainData.py:84: FutureWarning: The default of observed=False is deprecated and will be changed to True in a future version of pandas. Pass observed=False to retain current behavior or observed=True to adopt the future default and silence this warning.\n",
      "  group_sizes = df.groupby(group_cols).size()\n",
      "\n",
      "\n",
      "100%|████████████████████████████████████████████| 1/1 [00:00<00:00,  5.70it/s]\u001b[A"
     ]
    },
    {
     "name": "stdout",
     "output_type": "stream",
     "text": [
      "Total files processed: 1\n"
     ]
    },
    {
     "name": "stderr",
     "output_type": "stream",
     "text": [
      "/w/hallb-scshelf2102/clas12/users/gmat/clas12/neutneut/analysis/neutron_ml/../../src/TrainData.py:84: FutureWarning: The default of observed=False is deprecated and will be changed to True in a future version of pandas. Pass observed=False to retain current behavior or observed=True to adopt the future default and silence this warning.\n",
      "  group_sizes = df.groupby(group_cols).size()\n",
      "100%|████████████████████████████████████████████| 1/1 [00:00<00:00,  3.76it/s]\n",
      "\n"
     ]
    },
    {
     "name": "stdout",
     "output_type": "stream",
     "text": [
      "Total files processed: 1"
     ]
    },
    {
     "name": "stderr",
     "output_type": "stream",
     "text": [
      " 36%|██████████████▏                         | 70/197 [00:00<00:00, 293.35it/s]"
     ]
    },
    {
     "name": "stdout",
     "output_type": "stream",
     "text": [
      "\n"
     ]
    },
    {
     "name": "stderr",
     "output_type": "stream",
     "text": [
      "100%|████████████████████████████████████████████| 1/1 [00:00<00:00,  4.16it/s]\n",
      "/w/hallb-scshelf2102/clas12/users/gmat/clas12/neutneut/analysis/neutron_ml/../../src/TrainData.py:84: FutureWarning: The default of observed=False is deprecated and will be changed to True in a future version of pandas. Pass observed=False to retain current behavior or observed=True to adopt the future default and silence this warning.\n",
      "  group_sizes = df.groupby(group_cols).size()\n"
     ]
    },
    {
     "name": "stdout",
     "output_type": "stream",
     "text": [
      "Total files processed: 1"
     ]
    },
    {
     "name": "stderr",
     "output_type": "stream",
     "text": [
      "\n"
     ]
    },
    {
     "name": "stdout",
     "output_type": "stream",
     "text": [
      "\n"
     ]
    },
    {
     "name": "stderr",
     "output_type": "stream",
     "text": [
      "100%|████████████████████████████████████████████| 1/1 [00:00<00:00,  3.50it/s]\u001b[A/w/hallb-scshelf2102/clas12/users/gmat/clas12/neutneut/analysis/neutron_ml/../../src/TrainData.py:84: FutureWarning: The default of observed=False is deprecated and will be changed to True in a future version of pandas. Pass observed=False to retain current behavior or observed=True to adopt the future default and silence this warning.\n",
      "  group_sizes = df.groupby(group_cols).size()\n",
      "\n",
      "100%|████████████████████████████████████████████| 1/1 [00:00<00:00,  3.63it/s]"
     ]
    },
    {
     "name": "stdout",
     "output_type": "stream",
     "text": [
      "Total files processed: 1"
     ]
    },
    {
     "name": "stderr",
     "output_type": "stream",
     "text": [
      "\n"
     ]
    },
    {
     "name": "stdout",
     "output_type": "stream",
     "text": [
      "\n",
      "Total files processed: 1"
     ]
    },
    {
     "name": "stderr",
     "output_type": "stream",
     "text": [
      "100%|████████████████████████████████████████████| 1/1 [00:00<00:00,  3.16it/s]"
     ]
    },
    {
     "name": "stdout",
     "output_type": "stream",
     "text": [
      "\n"
     ]
    },
    {
     "name": "stderr",
     "output_type": "stream",
     "text": [
      "\n"
     ]
    },
    {
     "name": "stdout",
     "output_type": "stream",
     "text": [
      "Total files processed: 1"
     ]
    },
    {
     "name": "stderr",
     "output_type": "stream",
     "text": [
      "/w/hallb-scshelf2102/clas12/users/gmat/clas12/neutneut/analysis/neutron_ml/../../src/TrainData.py:84: FutureWarning: The default of observed=False is deprecated and will be changed to True in a future version of pandas. Pass observed=False to retain current behavior or observed=True to adopt the future default and silence this warning.\n",
      "  group_sizes = df.groupby(group_cols).size()\n"
     ]
    },
    {
     "name": "stdout",
     "output_type": "stream",
     "text": [
      "\n"
     ]
    },
    {
     "name": "stderr",
     "output_type": "stream",
     "text": [
      "\n",
      "/w/hallb-scshelf2102/clas12/users/gmat/clas12/neutneut/analysis/neutron_ml/../../src/TrainData.py:84: FutureWarning: The default of observed=False is deprecated and will be changed to True in a future version of pandas. Pass observed=False to retain current behavior or observed=True to adopt the future default and silence this warning.\n",
      "  group_sizes = df.groupby(group_cols).size()\n",
      "  0%|                                                    | 0/1 [00:00<?, ?it/s]/w/hallb-scshelf2102/clas12/users/gmat/clas12/neutneut/analysis/neutron_ml/../../src/TrainData.py:84: FutureWarning: The default of observed=False is deprecated and will be changed to True in a future version of pandas. Pass observed=False to retain current behavior or observed=True to adopt the future default and silence this warning.\n",
      "  group_sizes = df.groupby(group_cols).size()\n",
      "\u001b[A\n",
      "100%|████████████████████████████████████████████| 1/1 [00:00<00:00,  3.84it/s]\u001b[A\n",
      "100%|████████████████████████████████████████████| 1/1 [00:00<00:00,  3.71it/s]\u001b[A\n",
      "  0%|                                                  | 0/194 [00:00<?, ?it/s]\u001b[A\n",
      "  0%|                                                  | 0/196 [00:00<?, ?it/s]\u001b[A\n",
      "100%|████████████████████████████████████████████| 1/1 [00:00<00:00,  3.63it/s]\u001b[A\n",
      "\n"
     ]
    },
    {
     "name": "stdout",
     "output_type": "stream",
     "text": [
      "Total files processed: 1\n"
     ]
    },
    {
     "name": "stderr",
     "output_type": "stream",
     "text": [
      "  0%|                                                  | 0/197 [00:00<?, ?it/s]\u001b[A/w/hallb-scshelf2102/clas12/users/gmat/clas12/neutneut/analysis/neutron_ml/../../src/TrainData.py:84: FutureWarning: The default of observed=False is deprecated and will be changed to True in a future version of pandas. Pass observed=False to retain current behavior or observed=True to adopt the future default and silence this warning.\n",
      "  group_sizes = df.groupby(group_cols).size()\n",
      "\n",
      "  0%|                                                  | 0/198 [00:00<?, ?it/s]\u001b[A\n",
      "  0%|                                                  | 0/197 [00:00<?, ?it/s]\u001b[A\n",
      "  0%|                                                  | 0/199 [00:00<?, ?it/s]\u001b[A\n",
      " 38%|███████████████                         | 74/196 [00:00<00:00, 334.19it/s]\u001b[A\n",
      "  0%|                                                  | 0/195 [00:00<?, ?it/s]\u001b[A\n",
      "  0%|                                                  | 0/193 [00:00<?, ?it/s]\u001b[A\n",
      " 51%|███████████████████▊                   | 100/197 [00:00<00:00, 295.43it/s]\u001b[A\n",
      "100%|████████████████████████████████████████████| 1/1 [00:00<00:00,  4.61it/s]\u001b[A\n",
      "100%|████████████████████████████████████████████| 1/1 [00:00<00:00,  6.14it/s]\u001b[A\n",
      "100%|████████████████████████████████████████████| 1/1 [00:00<00:00,  4.58it/s]\u001b[A\n",
      "100%|████████████████████████████████████████████| 1/1 [00:00<00:00,  5.58it/s]\u001b[A\n",
      "  0%|                                                  | 0/197 [00:00<?, ?it/s]\u001b[A\n",
      "100%|████████████████████████████████████████████| 1/1 [00:00<00:00,  5.03it/s]\u001b[A\n",
      "100%|████████████████████████████████████████████| 1/1 [00:00<00:00,  5.12it/s]\u001b[A\n",
      "100%|████████████████████████████████████████████| 1/1 [00:00<00:00,  5.19it/s]\u001b[A\n",
      "100%|████████████████████████████████████████████| 1/1 [00:00<00:00,  5.07it/s]\u001b[A\n",
      "100%|████████████████████████████████████████████| 1/1 [00:00<00:00,  4.04it/s]\u001b[A\n",
      "\n"
     ]
    },
    {
     "name": "stdout",
     "output_type": "stream",
     "text": [
      "Total files processed: 1\n"
     ]
    },
    {
     "name": "stderr",
     "output_type": "stream",
     "text": [
      "  0%|                                                  | 0/197 [00:00<?, ?it/s]\u001b[A\n",
      "/w/hallb-scshelf2102/clas12/users/gmat/clas12/neutneut/analysis/neutron_ml/../../src/TrainData.py:84: FutureWarning: The default of observed=False is deprecated and will be changed to True in a future version of pandas. Pass observed=False to retain current behavior or observed=True to adopt the future default and silence this warning.\n",
      "  group_sizes = df.groupby(group_cols).size()\n",
      "  0%|                                                  | 0/198 [00:00<?, ?it/s]\u001b[A\n",
      "100%|████████████████████████████████████████████| 1/1 [00:00<00:00,  6.64it/s]\u001b[A\n",
      " 20%|████████                                | 39/194 [00:00<00:00, 388.04it/s]\u001b[A\n",
      "100%|████████████████████████████████████████████| 1/1 [00:00<00:00,  3.69it/s]\u001b[A\n",
      "\n"
     ]
    },
    {
     "name": "stdout",
     "output_type": "stream",
     "text": [
      "Total files processed: 1\n"
     ]
    },
    {
     "name": "stderr",
     "output_type": "stream",
     "text": [
      " 18%|███████▎                                | 36/196 [00:00<00:00, 359.20it/s]\u001b[A/w/hallb-scshelf2102/clas12/users/gmat/clas12/neutneut/analysis/neutron_ml/../../src/TrainData.py:84: FutureWarning: The default of observed=False is deprecated and will be changed to True in a future version of pandas. Pass observed=False to retain current behavior or observed=True to adopt the future default and silence this warning.\n",
      "  group_sizes = df.groupby(group_cols).size()\n",
      "\n",
      "100%|████████████████████████████████████████████| 1/1 [00:00<00:00,  2.11it/s]\u001b[A\n",
      "\n"
     ]
    },
    {
     "name": "stdout",
     "output_type": "stream",
     "text": [
      "Total files processed: 1\n"
     ]
    },
    {
     "name": "stderr",
     "output_type": "stream",
     "text": [
      "  0%|                                                  | 0/197 [00:00<?, ?it/s]\u001b[A/w/hallb-scshelf2102/clas12/users/gmat/clas12/neutneut/analysis/neutron_ml/../../src/TrainData.py:84: FutureWarning: The default of observed=False is deprecated and will be changed to True in a future version of pandas. Pass observed=False to retain current behavior or observed=True to adopt the future default and silence this warning.\n",
      "  group_sizes = df.groupby(group_cols).size()\n",
      "\n",
      "  0%|                                                  | 0/198 [00:00<?, ?it/s]\u001b[A\n",
      "100%|████████████████████████████████████████████| 1/1 [00:00<00:00,  3.35it/s]\u001b[A\n"
     ]
    },
    {
     "name": "stdout",
     "output_type": "stream",
     "text": [
      "Total files processed: 1\n"
     ]
    },
    {
     "name": "stderr",
     "output_type": "stream",
     "text": [
      "/w/hallb-scshelf2102/clas12/users/gmat/clas12/neutneut/analysis/neutron_ml/../../src/TrainData.py:84: FutureWarning: The default of observed=False is deprecated and will be changed to True in a future version of pandas. Pass observed=False to retain current behavior or observed=True to adopt the future default and silence this warning.\n",
      "  group_sizes = df.groupby(group_cols).size()\n",
      "\n",
      " 21%|████████▎                               | 41/197 [00:00<00:00, 404.39it/s]\u001b[A\n",
      "  0%|                                                  | 0/194 [00:00<?, ?it/s]\u001b[A\n",
      "100%|████████████████████████████████████████████| 1/1 [00:00<00:00,  1.89it/s]\u001b[A\n",
      "\n"
     ]
    },
    {
     "name": "stdout",
     "output_type": "stream",
     "text": [
      "Total files processed: 1\n"
     ]
    },
    {
     "name": "stderr",
     "output_type": "stream",
     "text": [
      "/w/hallb-scshelf2102/clas12/users/gmat/clas12/neutneut/analysis/neutron_ml/../../src/TrainData.py:84: FutureWarning: The default of observed=False is deprecated and will be changed to True in a future version of pandas. Pass observed=False to retain current behavior or observed=True to adopt the future default and silence this warning.\n",
      "  group_sizes = df.groupby(group_cols).size()\n",
      " 20%|████████                                | 40/198 [00:00<00:00, 393.78it/s]\u001b[A\n",
      "100%|████████████████████████████████████████████| 1/1 [00:00<00:00,  2.43it/s]\u001b[A\n"
     ]
    },
    {
     "name": "stdout",
     "output_type": "stream",
     "text": [
      "Total files processed: 1"
     ]
    },
    {
     "name": "stderr",
     "output_type": "stream",
     "text": [
      "100%|████████████████████████████████████████████| 1/1 [00:00<00:00,  2.68it/s]"
     ]
    },
    {
     "name": "stdout",
     "output_type": "stream",
     "text": [
      "\n"
     ]
    },
    {
     "name": "stderr",
     "output_type": "stream",
     "text": [
      "\n",
      "/w/hallb-scshelf2102/clas12/users/gmat/clas12/neutneut/analysis/neutron_ml/../../src/TrainData.py:84: FutureWarning: The default of observed=False is deprecated and will be changed to True in a future version of pandas. Pass observed=False to retain current behavior or observed=True to adopt the future default and silence this warning.\n",
      "  group_sizes = df.groupby(group_cols).size()\n",
      "\n"
     ]
    },
    {
     "name": "stdout",
     "output_type": "stream",
     "text": [
      "Total files processed: 1"
     ]
    },
    {
     "name": "stderr",
     "output_type": "stream",
     "text": [
      " 55%|█████████████████████▍                 | 108/196 [00:00<00:00, 279.99it/s]"
     ]
    },
    {
     "name": "stdout",
     "output_type": "stream",
     "text": [
      "\n"
     ]
    },
    {
     "name": "stderr",
     "output_type": "stream",
     "text": [
      "\u001b[A\n",
      " 23%|█████████                               | 45/199 [00:00<00:00, 441.27it/s]/w/hallb-scshelf2102/clas12/users/gmat/clas12/neutneut/analysis/neutron_ml/../../src/TrainData.py:84: FutureWarning: The default of observed=False is deprecated and will be changed to True in a future version of pandas. Pass observed=False to retain current behavior or observed=True to adopt the future default and silence this warning.\n",
      "  group_sizes = df.groupby(group_cols).size()\n",
      "\u001b[A\n",
      " 66%|█████████████████████████▋             | 130/197 [00:00<00:00, 257.92it/s]\u001b[A\n",
      "  0%|                                                  | 0/197 [00:00<?, ?it/s]\u001b[A\n",
      " 22%|████████▊                               | 43/195 [00:00<00:00, 427.84it/s]\u001b[A\n",
      " 22%|████████▋                               | 43/197 [00:00<00:00, 419.91it/s]\u001b[A\n",
      "100%|████████████████████████████████████████████| 1/1 [00:00<00:00,  2.54it/s]\u001b[A\n",
      "100%|████████████████████████████████████████████| 1/1 [00:00<00:00,  2.54it/s]"
     ]
    },
    {
     "name": "stdout",
     "output_type": "stream",
     "text": [
      "Total files processed: 1"
     ]
    },
    {
     "name": "stderr",
     "output_type": "stream",
     "text": [
      "\n"
     ]
    },
    {
     "name": "stdout",
     "output_type": "stream",
     "text": [
      "Total files processed: 1"
     ]
    },
    {
     "name": "stderr",
     "output_type": "stream",
     "text": [
      "100%|████████████████████████████████████████████| 1/1 [00:00<00:00,  2.55it/s]"
     ]
    },
    {
     "name": "stdout",
     "output_type": "stream",
     "text": [
      "\n",
      "\n"
     ]
    },
    {
     "name": "stderr",
     "output_type": "stream",
     "text": [
      "\n",
      "100%|████████████████████████████████████████████| 1/1 [00:00<00:00,  2.05it/s]"
     ]
    },
    {
     "name": "stdout",
     "output_type": "stream",
     "text": [
      "Total files processed: 1"
     ]
    },
    {
     "name": "stderr",
     "output_type": "stream",
     "text": [
      "/w/hallb-scshelf2102/clas12/users/gmat/clas12/neutneut/analysis/neutron_ml/../../src/TrainData.py:84: FutureWarning: The default of observed=False is deprecated and will be changed to True in a future version of pandas. Pass observed=False to retain current behavior or observed=True to adopt the future default and silence this warning.\n",
      "  group_sizes = df.groupby(group_cols).size()\n",
      "/w/hallb-scshelf2102/clas12/users/gmat/clas12/neutneut/analysis/neutron_ml/../../src/TrainData.py:84: FutureWarning: The default of observed=False is deprecated and will be changed to True in a future version of pandas. Pass observed=False to retain current behavior or observed=True to adopt the future default and silence this warning.\n",
      "  group_sizes = df.groupby(group_cols).size()\n"
     ]
    },
    {
     "name": "stdout",
     "output_type": "stream",
     "text": [
      "\n"
     ]
    },
    {
     "name": "stderr",
     "output_type": "stream",
     "text": [
      "/w/hallb-scshelf2102/clas12/users/gmat/clas12/neutneut/analysis/neutron_ml/../../src/TrainData.py:84: FutureWarning: The default of observed=False is deprecated and will be changed to True in a future version of pandas. Pass observed=False to retain current behavior or observed=True to adopt the future default and silence this warning.\n",
      "  group_sizes = df.groupby(group_cols).size()\n",
      "\n"
     ]
    },
    {
     "name": "stdout",
     "output_type": "stream",
     "text": [
      "Total files processed: 1"
     ]
    },
    {
     "name": "stderr",
     "output_type": "stream",
     "text": [
      "\n"
     ]
    },
    {
     "name": "stdout",
     "output_type": "stream",
     "text": [
      "\n"
     ]
    },
    {
     "name": "stderr",
     "output_type": "stream",
     "text": [
      "100%|████████████████████████████████████████████| 1/1 [00:00<00:00,  4.36it/s]\u001b[A/w/hallb-scshelf2102/clas12/users/gmat/clas12/neutneut/analysis/neutron_ml/../../src/TrainData.py:84: FutureWarning: The default of observed=False is deprecated and will be changed to True in a future version of pandas. Pass observed=False to retain current behavior or observed=True to adopt the future default and silence this warning.\n",
      "  group_sizes = df.groupby(group_cols).size()\n",
      "\n",
      "100%|████████████████████████████████████████████| 1/1 [00:00<00:00,  2.74it/s]\u001b[A\n",
      "\n"
     ]
    },
    {
     "name": "stdout",
     "output_type": "stream",
     "text": [
      "Total files processed: 1\n"
     ]
    },
    {
     "name": "stderr",
     "output_type": "stream",
     "text": [
      "/w/hallb-scshelf2102/clas12/users/gmat/clas12/neutneut/analysis/neutron_ml/../../src/TrainData.py:84: FutureWarning: The default of observed=False is deprecated and will be changed to True in a future version of pandas. Pass observed=False to retain current behavior or observed=True to adopt the future default and silence this warning.\n",
      "  group_sizes = df.groupby(group_cols).size()\n",
      " 40%|████████████████                        | 78/194 [00:00<00:00, 340.86it/s]\u001b[A\n",
      " 24%|█████████▋                              | 48/197 [00:00<00:00, 474.78it/s]\u001b[A\n",
      " 21%|████████▍                               | 42/198 [00:00<00:00, 418.01it/s]\u001b[A\n",
      " 37%|██████████████▋                         | 72/196 [00:00<00:00, 309.81it/s]\u001b[A\n",
      " 22%|████████▉                               | 44/198 [00:00<00:00, 432.06it/s]\u001b[A\n",
      " 40%|████████████████▏                       | 80/198 [00:00<00:00, 321.78it/s]\u001b[A\n",
      "  0%|                                                  | 0/198 [00:00<?, ?it/s]\u001b[A\n",
      " 21%|████████▍                               | 42/198 [00:00<00:00, 413.47it/s]\u001b[A\n",
      " 21%|████████▌                               | 42/196 [00:00<00:00, 417.40it/s]\u001b[A\n",
      "  0%|                                                  | 0/195 [00:00<?, ?it/s]\u001b[A\n",
      " 42%|████████████████▋                       | 82/197 [00:00<00:00, 271.44it/s]\u001b[A\n",
      "100%|████████████████████████████████████████████| 1/1 [00:00<00:00,  2.16it/s]\u001b[A\n"
     ]
    },
    {
     "name": "stdout",
     "output_type": "stream",
     "text": [
      "Total files processed: 1\n"
     ]
    },
    {
     "name": "stderr",
     "output_type": "stream",
     "text": [
      "\n",
      "/w/hallb-scshelf2102/clas12/users/gmat/clas12/neutneut/analysis/neutron_ml/../../src/TrainData.py:84: FutureWarning: The default of observed=False is deprecated and will be changed to True in a future version of pandas. Pass observed=False to retain current behavior or observed=True to adopt the future default and silence this warning.\n",
      "  group_sizes = df.groupby(group_cols).size()\n",
      " 70%|███████████████████████████▎           | 137/196 [00:00<00:00, 228.10it/s]\u001b[A\n",
      " 80%|███████████████████████████████        | 157/197 [00:00<00:00, 218.97it/s]\u001b[A\n",
      " 40%|████████████████▏                       | 80/198 [00:00<00:00, 263.99it/s]\u001b[A\n",
      " 40%|███████████████▊                        | 78/197 [00:00<00:00, 256.35it/s]\u001b[A\n",
      "  0%|                                                  | 0/196 [00:00<?, ?it/s]\u001b[A\n",
      " 22%|████████▋                               | 43/197 [00:00<00:00, 421.99it/s]\u001b[A\n",
      " 45%|██████████████████                      | 90/199 [00:00<00:00, 275.73it/s]\u001b[A\n",
      "  0%|                                                  | 0/195 [00:00<?, ?it/s]\u001b[A\n",
      " 44%|█████████████████▋                      | 86/195 [00:00<00:00, 284.66it/s]\u001b[A\n",
      " 43%|█████████████████▎                      | 85/197 [00:00<00:00, 398.23it/s]\u001b[A\n",
      " 20%|████████                                | 40/198 [00:00<00:00, 396.00it/s]\u001b[A\n",
      " 58%|██████████████████████▋                | 113/194 [00:00<00:00, 262.29it/s]\u001b[A\n",
      " 44%|█████████████████▍                      | 86/197 [00:00<00:00, 276.81it/s]\u001b[A\n",
      " 53%|████████████████████▋                  | 104/196 [00:00<00:00, 238.44it/s]\u001b[A\n",
      " 58%|██████████████████████▍                | 114/198 [00:00<00:00, 248.34it/s]\u001b[A\n",
      " 42%|████████████████▉                       | 84/198 [00:00<00:00, 265.65it/s]\u001b[A\n",
      " 22%|████████▋                               | 42/193 [00:00<00:00, 414.86it/s]\u001b[A\n",
      " 54%|█████████████████████▏                 | 107/197 [00:00<00:00, 220.07it/s]\u001b[A\n",
      " 49%|███████████████████▍                    | 96/197 [00:00<00:00, 291.72it/s]\u001b[A\n",
      "  0%|                                                  | 0/194 [00:00<?, ?it/s]\u001b[A\n",
      " 44%|█████████████████▊                      | 88/198 [00:00<00:00, 272.43it/s]\u001b[A\n",
      " 57%|██████████████████████▏                | 112/197 [00:00<00:00, 249.24it/s]\u001b[A\n",
      " 91%|███████████████████████████████████▋   | 180/197 [00:00<00:00, 203.82it/s]\u001b[A\n",
      " 83%|████████████████████████████████▏      | 162/196 [00:00<00:00, 213.28it/s]\u001b[A\n",
      " 21%|████████▍                               | 42/198 [00:00<00:00, 413.22it/s]\u001b[A\n",
      " 42%|████████████████▉                       | 84/198 [00:00<00:00, 276.40it/s]\u001b[A\n",
      "100%|████████████████████████████████████████████| 1/1 [00:00<00:00,  1.71it/s]\u001b[A\n",
      "\n"
     ]
    },
    {
     "name": "stdout",
     "output_type": "stream",
     "text": [
      "Total files processed: 1\n"
     ]
    },
    {
     "name": "stderr",
     "output_type": "stream",
     "text": [
      "  0%|                                                  | 0/196 [00:00<?, ?it/s]/w/hallb-scshelf2102/clas12/users/gmat/clas12/neutneut/analysis/neutron_ml/../../src/TrainData.py:84: FutureWarning: The default of observed=False is deprecated and will be changed to True in a future version of pandas. Pass observed=False to retain current behavior or observed=True to adopt the future default and silence this warning.\n",
      "  group_sizes = df.groupby(group_cols).size()\n",
      "\u001b[A\n",
      "  0%|                                                  | 0/199 [00:00<?, ?it/s]\u001b[A\n",
      " 43%|█████████████████▏                      | 84/196 [00:00<00:00, 278.29it/s]\u001b[A\n",
      "  0%|                                                  | 0/198 [00:00<?, ?it/s]\u001b[A\n",
      "  0%|                                                  | 0/196 [00:00<?, ?it/s]\u001b[A\n",
      " 24%|█████████▍                              | 46/195 [00:00<00:00, 449.47it/s]\u001b[A\n",
      " 55%|█████████████████████▍                 | 109/198 [00:00<00:00, 227.47it/s]\u001b[A\n",
      "  0%|                                                  | 0/195 [00:00<?, ?it/s]\u001b[A\n",
      " 61%|███████████████████████▉               | 122/199 [00:00<00:00, 242.08it/s]\u001b[A\n",
      " 66%|█████████████████████████▊             | 130/196 [00:00<00:00, 230.48it/s]\u001b[A\n",
      " 73%|████████████████████████████▎          | 141/194 [00:00<00:00, 242.82it/s]\u001b[A\n",
      " 61%|███████████████████████▌               | 118/195 [00:00<00:00, 241.76it/s]\u001b[A\n",
      "  0%|                                                  | 0/197 [00:00<?, ?it/s]\u001b[A\n",
      " 23%|█████████▍                              | 46/196 [00:00<00:00, 456.89it/s]\u001b[A\n",
      " 59%|███████████████████████▏               | 117/197 [00:00<00:00, 254.58it/s]\u001b[A\n",
      " 44%|█████████████████▍                      | 86/197 [00:00<00:00, 286.12it/s]\u001b[A\n",
      " 71%|███████████████████████████▊           | 141/198 [00:00<00:00, 243.68it/s]\u001b[A\n",
      " 22%|████████▊                               | 43/195 [00:00<00:00, 429.08it/s]\u001b[A\n",
      " 58%|██████████████████████▍                | 114/198 [00:00<00:00, 258.06it/s]\u001b[A\n",
      " 40%|████████████████▏                       | 80/198 [00:00<00:00, 275.72it/s]\u001b[A\n",
      " 63%|████████████████████████▋              | 125/197 [00:00<00:00, 293.54it/s]\u001b[A\n",
      " 66%|█████████████████████████▋             | 130/197 [00:00<00:00, 276.09it/s]\u001b[A\n",
      " 44%|█████████████████▍                      | 84/193 [00:00<00:00, 154.63it/s]\u001b[A\n",
      " 71%|███████████████████████████▌           | 139/197 [00:00<00:00, 224.48it/s]\u001b[A\n",
      "  0%|                                                  | 0/195 [00:00<?, ?it/s]\u001b[A\n",
      " 75%|█████████████████████████████          | 147/197 [00:00<00:00, 272.60it/s]\u001b[A\n",
      " 94%|████████████████████████████████████▊  | 185/196 [00:00<00:00, 194.42it/s]\u001b[A\n",
      "  0%|                                                  | 0/195 [00:00<?, ?it/s]\u001b[A\n",
      " 60%|███████████████████████▍               | 119/198 [00:00<00:00, 237.80it/s]\u001b[A\n",
      " 25%|█████████▉                              | 48/194 [00:00<00:00, 479.31it/s]\u001b[A\n",
      " 42%|████████████████▉                       | 84/198 [00:00<00:00, 290.40it/s]\u001b[A\n",
      " 58%|██████████████████████▋                | 115/198 [00:00<00:00, 226.11it/s]\u001b[A\n",
      " 61%|███████████████████████▉               | 119/194 [00:00<00:00, 250.16it/s]\u001b[A\n",
      " 59%|██████████████████████▉                | 115/196 [00:00<00:00, 219.30it/s]\u001b[A\n",
      " 68%|██████████████████████████▍            | 134/198 [00:00<00:00, 191.93it/s]\u001b[A\n",
      " 79%|██████████████████████████████▋        | 154/196 [00:00<00:00, 212.52it/s]\u001b[A\n",
      " 75%|█████████████████████████████▏         | 149/199 [00:00<00:00, 217.77it/s]\u001b[A\n",
      " 21%|████████▌                               | 42/196 [00:00<00:00, 414.22it/s]\u001b[A\n",
      " 24%|█████████▋                              | 48/199 [00:00<00:00, 472.81it/s]\u001b[A\n",
      " 21%|████████▍                               | 42/198 [00:00<00:00, 418.51it/s]\u001b[A\n",
      "100%|███████████████████████████████████████| 197/197 [00:01<00:00, 176.02it/s]\u001b[A\n",
      "\n",
      " 47%|██████████████████▋                     | 91/195 [00:00<00:00, 264.42it/s]\u001b[A\n",
      " 86%|█████████████████████████████████▌     | 167/194 [00:00<00:00, 208.21it/s]\u001b[A\n",
      " 74%|████████████████████████████▊          | 144/195 [00:00<00:00, 207.55it/s]\u001b[A\n",
      " 21%|████████▍                               | 41/195 [00:00<00:00, 407.29it/s]\u001b[A\n",
      " 73%|████████████████████████████▌          | 144/197 [00:00<00:00, 203.08it/s]\u001b[A\n",
      " 21%|████████▎                               | 41/197 [00:00<00:00, 401.94it/s]\u001b[A\n",
      " 84%|████████████████████████████████▉      | 167/198 [00:00<00:00, 193.42it/s]\u001b[A\n",
      " 47%|██████████████████▊                     | 92/196 [00:00<00:00, 282.27it/s]\u001b[A\n",
      " 60%|███████████████████████▎               | 118/197 [00:00<00:00, 216.57it/s]\u001b[A\n",
      " 72%|███████████████████████████▉           | 142/198 [00:00<00:00, 202.77it/s]\u001b[A\n",
      " 56%|█████████████████████▋                 | 110/198 [00:00<00:00, 210.65it/s]\u001b[A\n",
      " 56%|█████████████████████▊                 | 108/193 [00:00<00:00, 148.35it/s]\u001b[A\n",
      " 83%|████████████████████████████████▎      | 163/197 [00:00<00:00, 191.95it/s]\u001b[A\n",
      " 80%|███████████████████████████████        | 157/197 [00:00<00:00, 225.47it/s]\u001b[A\n",
      " 81%|███████████████████████████████▋       | 160/197 [00:00<00:00, 221.53it/s]\u001b[A\n",
      " 44%|█████████████████▋                      | 86/195 [00:00<00:00, 246.00it/s]\u001b[A\n",
      " 90%|███████████████████████████████████    | 177/197 [00:00<00:00, 221.11it/s]\u001b[A\n",
      " 73%|████████████████████████████▌          | 145/198 [00:00<00:00, 190.79it/s]\u001b[A\n",
      " 22%|████████▊                               | 43/195 [00:00<00:00, 427.88it/s]\u001b[A\n",
      " 78%|██████████████████████████████▌        | 155/198 [00:00<00:00, 170.91it/s]\u001b[A\n",
      " 86%|█████████████████████████████████▋     | 172/199 [00:00<00:00, 198.24it/s]\u001b[A\n",
      " 71%|███████████████████████████▌           | 140/198 [00:00<00:00, 189.54it/s]\u001b[A\n",
      " 75%|█████████████████████████████▎         | 146/194 [00:00<00:00, 212.51it/s]\u001b[A\n",
      " 71%|███████████████████████████▊           | 140/196 [00:00<00:00, 192.34it/s]\u001b[A\n",
      " 90%|███████████████████████████████████    | 176/196 [00:00<00:00, 184.37it/s]\u001b[A\n",
      " 59%|██████████████████████▊                | 116/198 [00:00<00:00, 224.72it/s]\u001b[A\n",
      " 22%|████████▊                               | 43/195 [00:00<00:00, 423.80it/s]\u001b[A\n",
      "100%|███████████████████████████████████████| 196/196 [00:01<00:00, 166.75it/s]\u001b[A\n",
      "\n",
      "  0%|                                                  | 0/197 [00:00<?, ?it/s]\u001b[A\n",
      " 97%|█████████████████████████████████████▉ | 189/194 [00:00<00:00, 179.11it/s]\u001b[A\n",
      " 43%|█████████████████▏                      | 84/196 [00:00<00:00, 268.39it/s]\u001b[A\n",
      " 85%|█████████████████████████████████▏     | 166/195 [00:00<00:00, 177.52it/s]\u001b[A\n",
      " 84%|████████████████████████████████▊      | 166/197 [00:00<00:00, 185.64it/s]\u001b[A\n",
      " 95%|█████████████████████████████████████  | 188/198 [00:00<00:00, 179.46it/s]\u001b[A\n",
      " 63%|████████████████████████▍              | 122/195 [00:00<00:00, 215.95it/s]\u001b[A\n",
      " 42%|████████████████▉                       | 84/198 [00:00<00:00, 255.72it/s]\u001b[A\n",
      " 48%|███████████████████▎                    | 96/199 [00:00<00:00, 282.72it/s]\u001b[A\n",
      " 42%|████████████████▊                       | 82/195 [00:00<00:00, 255.95it/s]\u001b[A\n",
      " 43%|█████████████████▏                      | 84/196 [00:00<00:00, 240.75it/s]\u001b[A\n",
      " 42%|████████████████▋                       | 82/197 [00:00<00:00, 284.24it/s]\u001b[A\n",
      " 66%|█████████████████████████▋             | 127/193 [00:00<00:00, 138.92it/s]\u001b[A\n",
      " 68%|██████████████████████████▍            | 134/198 [00:00<00:00, 182.97it/s]\u001b[A\n",
      " 63%|████████████████████████▋              | 124/196 [00:00<00:00, 236.29it/s]\u001b[A\n",
      " 73%|████████████████████████████▎          | 143/197 [00:00<00:00, 186.63it/s]\u001b[A\n",
      " 83%|████████████████████████████████▌      | 165/198 [00:00<00:00, 173.79it/s]\u001b[A\n",
      " 93%|████████████████████████████████████▏  | 183/197 [00:01<00:00, 164.94it/s]\u001b[A\n",
      " 93%|████████████████████████████████████▏  | 183/197 [00:00<00:00, 194.41it/s]\u001b[A\n",
      " 94%|████████████████████████████████████▌  | 185/197 [00:00<00:00, 189.20it/s]\u001b[A\n",
      " 59%|███████████████████████                | 115/195 [00:00<00:00, 209.29it/s]\u001b[A\n",
      " 87%|██████████████████████████████████     | 173/198 [00:01<00:00, 154.98it/s]\u001b[A\n",
      " 97%|█████████████████████████████████████▊ | 193/199 [00:01<00:00, 179.80it/s]\u001b[A\n",
      " 84%|████████████████████████████████▋      | 166/198 [00:00<00:00, 167.93it/s]\u001b[A\n",
      " 82%|████████████████████████████████       | 161/196 [00:00<00:00, 173.88it/s]\u001b[A\n",
      "Processing CSV files:   7%|█▎                 | 36/500 [00:03<00:38, 12.21it/s]\u001b[A\n",
      "100%|███████████████████████████████████████| 196/196 [00:01<00:00, 163.25it/s]\u001b[A\n",
      " 87%|█████████████████████████████████▉     | 169/194 [00:00<00:00, 186.22it/s]\u001b[A\n",
      " 71%|███████████████████████████▊           | 141/198 [00:00<00:00, 196.66it/s]\u001b[A\n",
      " 44%|█████████████████▋                      | 86/195 [00:00<00:00, 268.02it/s]\u001b[A\n",
      " 95%|█████████████████████████████████████  | 185/195 [00:01<00:00, 165.16it/s]\u001b[A\n",
      " 94%|████████████████████████████████████▊  | 186/197 [00:00<00:00, 169.06it/s]\u001b[A\n",
      " 66%|█████████████████████████▉             | 129/194 [00:00<00:00, 229.60it/s]\u001b[A\n",
      " 44%|█████████████████▋                      | 86/195 [00:00<00:00, 282.04it/s]\u001b[A\n",
      " 58%|██████████████████████▋                | 114/196 [00:00<00:00, 226.97it/s]\u001b[A\n",
      " 75%|█████████████████████████████▍         | 147/195 [00:00<00:00, 191.73it/s]\u001b[A\n",
      " 58%|██████████████████████▍                | 114/198 [00:00<00:00, 221.68it/s]\u001b[A\n",
      " 78%|██████████████████████████████▎        | 154/198 [00:00<00:00, 169.99it/s]\u001b[A\n",
      " 75%|█████████████████████████████          | 144/193 [00:01<00:00, 132.28it/s]\u001b[A\n",
      "100%|███████████████████████████████████████| 197/197 [00:01<00:00, 182.25it/s]\u001b[A\n",
      "\n",
      " 57%|██████████████████████▏                | 111/195 [00:00<00:00, 221.33it/s]\u001b[A\n",
      " 58%|██████████████████████▍                | 113/196 [00:00<00:00, 217.65it/s]\u001b[A\n",
      " 57%|██████████████████████▎                | 113/197 [00:00<00:00, 243.37it/s]\u001b[A\n",
      "100%|███████████████████████████████████████| 194/194 [00:01<00:00, 170.26it/s]\u001b[A\n",
      "\n",
      " 83%|████████████████████████████████▍      | 164/197 [00:00<00:00, 170.48it/s]\u001b[A\n",
      " 71%|███████████████████████████▋           | 139/196 [00:00<00:00, 220.04it/s]\u001b[A\n",
      " 77%|█████████████████████████████▊         | 150/196 [00:00<00:00, 207.56it/s]\u001b[A\n",
      "100%|███████████████████████████████████████| 198/198 [00:01<00:00, 170.78it/s]\u001b[A\n",
      "\n",
      " 95%|█████████████████████████████████████▏ | 189/198 [00:01<00:00, 141.68it/s]\u001b[A\n",
      " 90%|███████████████████████████████████▎   | 179/198 [00:01<00:00, 157.54it/s]\u001b[A\n",
      " 93%|████████████████████████████████████▏  | 184/198 [00:01<00:00, 153.95it/s]\u001b[A\n",
      " 71%|███████████████████████████▊           | 139/195 [00:00<00:00, 185.30it/s]\u001b[A\n",
      "100%|███████████████████████████████████████| 197/197 [00:01<00:00, 168.24it/s]\u001b[A\n",
      "\n",
      " 82%|███████████████████████████████▉       | 162/198 [00:00<00:00, 180.94it/s]\u001b[A\n",
      " 97%|█████████████████████████████████████▉ | 189/194 [00:00<00:00, 168.92it/s]\u001b[A\n",
      " 80%|███████████████████████████████▏       | 155/194 [00:00<00:00, 226.36it/s]\u001b[A\n",
      " 86%|█████████████████████████████████▌     | 168/195 [00:00<00:00, 196.06it/s]\u001b[A\n",
      " 60%|███████████████████████▍               | 117/195 [00:00<00:00, 240.31it/s]\u001b[A\n",
      " 93%|████████████████████████████████████▏  | 184/198 [00:01<00:00, 158.86it/s]\u001b[A\n",
      "100%|███████████████████████████████████████| 196/196 [00:01<00:00, 160.91it/s]\u001b[A\n",
      "\n",
      " 87%|█████████████████████████████████▉     | 172/198 [00:00<00:00, 170.87it/s]\u001b[A\n",
      "100%|███████████████████████████████████████| 197/197 [00:01<00:00, 177.23it/s]\u001b[A\n",
      "100%|███████████████████████████████████████| 197/197 [00:01<00:00, 182.64it/s]\n",
      "\n",
      "100%|███████████████████████████████████████| 195/195 [00:01<00:00, 166.34it/s]\u001b[A\n",
      "\n",
      " 69%|███████████████████████████            | 135/195 [00:00<00:00, 215.17it/s]\u001b[A\n",
      "100%|███████████████████████████████████████| 198/198 [00:01<00:00, 161.28it/s]\u001b[A\n",
      "\n",
      " 92%|████████████████████████████████████   | 182/197 [00:01<00:00, 166.38it/s]\u001b[A\n",
      " 71%|███████████████████████████▌           | 139/197 [00:00<00:00, 230.45it/s]\u001b[A\n",
      " 78%|██████████████████████████████▌        | 156/199 [00:00<00:00, 227.01it/s]\u001b[A\n",
      " 41%|████████████████▏                       | 80/197 [00:00<00:00, 312.81it/s]\u001b[A\n",
      " 88%|██████████████████████████████████▏    | 172/196 [00:00<00:00, 193.47it/s]\u001b[A\n",
      "100%|███████████████████████████████████████| 199/199 [00:01<00:00, 157.04it/s]\u001b[A\n",
      "\n",
      " 82%|███████████████████████████████▊       | 159/195 [00:00<00:00, 181.81it/s]\u001b[A\n",
      " 91%|███████████████████████████████████▋   | 181/198 [00:00<00:00, 176.91it/s]\u001b[A\n",
      " 97%|█████████████████████████████████████▊ | 189/195 [00:00<00:00, 196.93it/s]\u001b[A\n",
      " 93%|████████████████████████████████████▍  | 183/196 [00:00<00:00, 280.12it/s]\u001b[A\n",
      "100%|███████████████████████████████████████| 197/197 [00:01<00:00, 159.76it/s]\u001b[A\n",
      "\n",
      " 73%|████████████████████████████▌          | 143/195 [00:00<00:00, 238.63it/s]\u001b[A\n",
      " 93%|████████████████████████████████████▏  | 180/194 [00:00<00:00, 219.61it/s]\u001b[A\n",
      " 96%|█████████████████████████████████████▍ | 190/198 [00:01<00:00, 168.01it/s]\u001b[A\n",
      "100%|███████████████████████████████████████| 198/198 [00:01<00:00, 161.70it/s]\u001b[A\n",
      "100%|███████████████████████████████████████| 194/194 [00:01<00:00, 168.16it/s]\n",
      "\n",
      " 82%|████████████████████████████████       | 163/198 [00:00<00:00, 211.74it/s]\u001b[A\n",
      " 81%|███████████████████████████████▌       | 158/195 [00:00<00:00, 203.67it/s]\u001b[A\n",
      "100%|███████████████████████████████████████| 198/198 [00:01<00:00, 163.63it/s]\u001b[A\n",
      "\n",
      "100%|███████████████████████████████████████| 198/198 [00:01<00:00, 157.10it/s]\u001b[A\n",
      "\n",
      " 83%|████████████████████████████████▎      | 163/197 [00:00<00:00, 208.69it/s]\u001b[A\n",
      " 90%|███████████████████████████████████▎   | 180/199 [00:00<00:00, 208.99it/s]\u001b[A\n",
      " 98%|██████████████████████████████████████▏| 192/196 [00:00<00:00, 179.28it/s]\u001b[A\n",
      "100%|████████████████████████████████████████████| 1/1 [00:00<00:00,  5.33it/s]\u001b[A\n",
      "100%|███████████████████████████████████████| 198/198 [00:01<00:00, 184.64it/s]\u001b[A\n",
      "\n",
      "100%|███████████████████████████████████████| 196/196 [00:01<00:00, 155.47it/s]\u001b[A\n",
      "100%|███████████████████████████████████████| 195/195 [00:01<00:00, 183.32it/s]\n",
      "\n",
      " 86%|█████████████████████████████████▌     | 168/195 [00:00<00:00, 217.69it/s]\u001b[A\n",
      " 94%|████████████████████████████████████▌  | 185/197 [00:00<00:00, 208.79it/s]\u001b[A\n",
      " 92%|███████████████████████████████████▊   | 179/195 [00:00<00:00, 203.38it/s]\u001b[A\n",
      "Processing CSV files:   8%|█▌                 | 41/500 [00:04<00:37, 12.35it/s]\u001b[A\n",
      "  0%|                                                    | 0/1 [00:00<?, ?it/s]\u001b[A\n",
      "  0%|                                                    | 0/1 [00:00<?, ?it/s]\u001b[A\n",
      "  0%|                                                    | 0/1 [00:00<?, ?it/s]\u001b[A\n",
      "100%|███████████████████████████████████████| 196/196 [00:00<00:00, 214.22it/s]\u001b[A\n",
      "100%|███████████████████████████████████████| 193/193 [00:01<00:00, 137.69it/s]\n",
      "Processing CSV files:   9%|█▊                 | 47/500 [00:04<00:28, 15.91it/s]\n",
      "100%|███████████████████████████████████████| 198/198 [00:01<00:00, 162.55it/s]\u001b[A\n",
      "100%|███████████████████████████████████████| 194/194 [00:00<00:00, 198.54it/s]\n",
      "100%|███████████████████████████████████████| 196/196 [00:01<00:00, 184.95it/s]\n",
      "100%|████████████████████████████████████████████| 1/1 [00:00<00:00,  2.98it/s]\n"
     ]
    },
    {
     "name": "stdout",
     "output_type": "stream",
     "text": [
      "Total files processed: 1"
     ]
    },
    {
     "name": "stderr",
     "output_type": "stream",
     "text": [
      "\n",
      "100%|███████████████████████████████████████| 197/197 [00:00<00:00, 226.67it/s]\u001b[A\n",
      "100%|███████████████████████████████████████| 197/197 [00:01<00:00, 157.10it/s]\n",
      "\n",
      "100%|███████████████████████████████████████| 199/199 [00:00<00:00, 211.40it/s]\u001b[A\n"
     ]
    },
    {
     "name": "stdout",
     "output_type": "stream",
     "text": [
      "\n"
     ]
    },
    {
     "name": "stderr",
     "output_type": "stream",
     "text": [
      "100%|███████████████████████████████████████| 198/198 [00:00<00:00, 211.29it/s]\n",
      "100%|███████████████████████████████████████| 195/195 [00:00<00:00, 209.60it/s]\n",
      "/w/hallb-scshelf2102/clas12/users/gmat/clas12/neutneut/analysis/neutron_ml/../../src/TrainData.py:84: FutureWarning: The default of observed=False is deprecated and will be changed to True in a future version of pandas. Pass observed=False to retain current behavior or observed=True to adopt the future default and silence this warning.\n",
      "  group_sizes = df.groupby(group_cols).size()\n",
      "\n",
      "  0%|                                                    | 0/1 [00:00<?, ?it/s]\u001b[A\n",
      "100%|███████████████████████████████████████| 195/195 [00:01<00:00, 171.99it/s]\u001b[A\n",
      "\n",
      "  0%|                                                    | 0/1 [00:00<?, ?it/s]\u001b[A\n",
      " 72%|███████████████████████████▉           | 141/197 [00:00<00:00, 239.46it/s]\u001b[A\n",
      "100%|████████████████████████████████████████████| 1/1 [00:00<00:00,  4.79it/s]\u001b[A\n",
      " 98%|██████████████████████████████████████▍| 192/195 [00:00<00:00, 201.96it/s]\u001b[A\n",
      " 99%|██████████████████████████████████████▌| 193/195 [00:00<00:00, 224.96it/s]\u001b[A\n",
      "  0%|                                                    | 0/1 [00:00<?, ?it/s]\u001b[A\n",
      "  0%|                                                    | 0/1 [00:00<?, ?it/s]\u001b[A\n",
      "Processing CSV files:  11%|██                 | 53/500 [00:04<00:22, 19.89it/s]\u001b[A\n",
      "  0%|                                                  | 0/199 [00:00<?, ?it/s]\u001b[A\n",
      "100%|███████████████████████████████████████| 196/196 [00:01<00:00, 184.79it/s]\u001b[A\n",
      "\n",
      "100%|████████████████████████████████████████████| 1/1 [00:00<00:00,  3.47it/s]\u001b[A\n",
      "\n"
     ]
    },
    {
     "name": "stdout",
     "output_type": "stream",
     "text": [
      "Total files processed: 1\n"
     ]
    },
    {
     "name": "stderr",
     "output_type": "stream",
     "text": [
      "100%|███████████████████████████████████████| 195/195 [00:00<00:00, 213.30it/s]\u001b[A\n",
      "/w/hallb-scshelf2102/clas12/users/gmat/clas12/neutneut/analysis/neutron_ml/../../src/TrainData.py:84: FutureWarning: The default of observed=False is deprecated and will be changed to True in a future version of pandas. Pass observed=False to retain current behavior or observed=True to adopt the future default and silence this warning.\n",
      "  group_sizes = df.groupby(group_cols).size()\n",
      "\n",
      "  0%|                                                    | 0/1 [00:00<?, ?it/s]\u001b[A\n",
      "  0%|                                                    | 0/1 [00:00<?, ?it/s]\u001b[A\n",
      "100%|███████████████████████████████████████| 195/195 [00:00<00:00, 202.49it/s]\u001b[A\n",
      "\n",
      "100%|████████████████████████████████████████████| 1/1 [00:00<00:00,  5.38it/s]\u001b[A\n",
      "  0%|                                                    | 0/1 [00:00<?, ?it/s]\u001b[A\n",
      "  0%|                                                    | 0/1 [00:00<?, ?it/s]\u001b[A\n",
      "100%|████████████████████████████████████████████| 1/1 [00:00<00:00,  5.50it/s]\u001b[A\n",
      "100%|████████████████████████████████████████████| 1/1 [00:00<00:00,  4.61it/s]\u001b[A\n",
      "\n"
     ]
    },
    {
     "name": "stdout",
     "output_type": "stream",
     "text": [
      "Total files processed: 1"
     ]
    },
    {
     "name": "stderr",
     "output_type": "stream",
     "text": [
      "  0%|                                                    | 0/1 [00:00<?, ?it/s]"
     ]
    },
    {
     "name": "stdout",
     "output_type": "stream",
     "text": [
      "\n"
     ]
    },
    {
     "name": "stderr",
     "output_type": "stream",
     "text": [
      "\u001b[A\n",
      "  0%|                                                    | 0/1 [00:00<?, ?it/s]/w/hallb-scshelf2102/clas12/users/gmat/clas12/neutneut/analysis/neutron_ml/../../src/TrainData.py:84: FutureWarning: The default of observed=False is deprecated and will be changed to True in a future version of pandas. Pass observed=False to retain current behavior or observed=True to adopt the future default and silence this warning.\n",
      "  group_sizes = df.groupby(group_cols).size()\n",
      "\u001b[A\n",
      "100%|████████████████████████████████████████████| 1/1 [00:00<00:00,  4.53it/s]\u001b[A\n",
      "\n"
     ]
    },
    {
     "name": "stdout",
     "output_type": "stream",
     "text": [
      "Total files processed: 1"
     ]
    },
    {
     "name": "stderr",
     "output_type": "stream",
     "text": [
      "  0%|                                                    | 0/1 [00:00<?, ?it/s]"
     ]
    },
    {
     "name": "stdout",
     "output_type": "stream",
     "text": [
      "\n"
     ]
    },
    {
     "name": "stderr",
     "output_type": "stream",
     "text": [
      "\u001b[A\n",
      "100%|████████████████████████████████████████████| 1/1 [00:00<00:00,  5.08it/s]/w/hallb-scshelf2102/clas12/users/gmat/clas12/neutneut/analysis/neutron_ml/../../src/TrainData.py:84: FutureWarning: The default of observed=False is deprecated and will be changed to True in a future version of pandas. Pass observed=False to retain current behavior or observed=True to adopt the future default and silence this warning.\n",
      "  group_sizes = df.groupby(group_cols).size()\n",
      "\u001b[A\n",
      "  0%|                                                    | 0/1 [00:00<?, ?it/s]\u001b[A\n",
      "  0%|                                                    | 0/1 [00:00<?, ?it/s]\u001b[A\n",
      "  0%|                                                    | 0/1 [00:00<?, ?it/s]\u001b[A\n",
      "100%|████████████████████████████████████████████| 1/1 [00:00<00:00,  5.02it/s]\u001b[A\n",
      "100%|████████████████████████████████████████████| 1/1 [00:00<00:00,  4.08it/s]\u001b[A\n",
      "\n"
     ]
    },
    {
     "name": "stdout",
     "output_type": "stream",
     "text": [
      "Total files processed: 1\n"
     ]
    },
    {
     "name": "stderr",
     "output_type": "stream",
     "text": [
      "Processing CSV files:  13%|██▍                | 65/500 [00:04<00:13, 32.11it/s]\u001b[A/w/hallb-scshelf2102/clas12/users/gmat/clas12/neutneut/analysis/neutron_ml/../../src/TrainData.py:84: FutureWarning: The default of observed=False is deprecated and will be changed to True in a future version of pandas. Pass observed=False to retain current behavior or observed=True to adopt the future default and silence this warning.\n",
      "  group_sizes = df.groupby(group_cols).size()\n",
      "\n",
      "100%|████████████████████████████████████████████| 1/1 [00:00<00:00,  3.94it/s]\u001b[A\n"
     ]
    },
    {
     "name": "stdout",
     "output_type": "stream",
     "text": [
      "Total files processed: 1"
     ]
    },
    {
     "name": "stderr",
     "output_type": "stream",
     "text": [
      "\n"
     ]
    },
    {
     "name": "stdout",
     "output_type": "stream",
     "text": [
      "\n"
     ]
    },
    {
     "name": "stderr",
     "output_type": "stream",
     "text": [
      "  0%|                                                  | 0/197 [00:00<?, ?it/s]\u001b[A\n",
      " 19%|███████▍                                | 37/199 [00:00<00:00, 365.79it/s]/w/hallb-scshelf2102/clas12/users/gmat/clas12/neutneut/analysis/neutron_ml/../../src/TrainData.py:84: FutureWarning: The default of observed=False is deprecated and will be changed to True in a future version of pandas. Pass observed=False to retain current behavior or observed=True to adopt the future default and silence this warning.\n",
      "  group_sizes = df.groupby(group_cols).size()\n",
      "\u001b[A\n",
      "100%|████████████████████████████████████████████| 1/1 [00:00<00:00,  5.51it/s]\u001b[A\n",
      "100%|███████████████████████████████████████| 197/197 [00:00<00:00, 221.29it/s]\u001b[A\n",
      "\n",
      "100%|████████████████████████████████████████████| 1/1 [00:00<00:00,  5.25it/s]\u001b[A\n",
      "100%|████████████████████████████████████████████| 1/1 [00:00<00:00,  6.44it/s]\u001b[A\n",
      "100%|████████████████████████████████████████████| 1/1 [00:00<00:00,  3.08it/s]\u001b[A\n"
     ]
    },
    {
     "name": "stdout",
     "output_type": "stream",
     "text": [
      "Total files processed: 1\n"
     ]
    },
    {
     "name": "stderr",
     "output_type": "stream",
     "text": [
      "/w/hallb-scshelf2102/clas12/users/gmat/clas12/neutneut/analysis/neutron_ml/../../src/TrainData.py:84: FutureWarning: The default of observed=False is deprecated and will be changed to True in a future version of pandas. Pass observed=False to retain current behavior or observed=True to adopt the future default and silence this warning.\n",
      "  group_sizes = df.groupby(group_cols).size()\n",
      "\n",
      "100%|████████████████████████████████████████████| 1/1 [00:00<00:00,  5.72it/s]\u001b[A\n",
      "100%|████████████████████████████████████████████| 1/1 [00:00<00:00,  3.76it/s]\u001b[A\n",
      "100%|████████████████████████████████████████████| 1/1 [00:00<00:00,  4.72it/s]\u001b[A\n",
      "100%|████████████████████████████████████████████| 1/1 [00:00<00:00,  5.02it/s]\u001b[A\n",
      " 17%|██████▉                                 | 34/197 [00:00<00:00, 334.33it/s]\u001b[A\n",
      "100%|████████████████████████████████████████████| 1/1 [00:00<00:00,  4.97it/s]\u001b[A\n",
      "100%|████████████████████████████████████████████| 1/1 [00:00<00:00,  4.34it/s]\u001b[A\n",
      " 37%|██████████████▊                         | 74/199 [00:00<00:00, 303.85it/s]\u001b[A\n",
      "  0%|                                                  | 0/199 [00:00<?, ?it/s]\u001b[A\n",
      "100%|████████████████████████████████████████████| 1/1 [00:00<00:00,  4.54it/s]\u001b[A\n",
      "100%|████████████████████████████████████████████| 1/1 [00:00<00:00,  4.25it/s]\u001b[A\n",
      "100%|████████████████████████████████████████████| 1/1 [00:00<00:00,  3.24it/s]\u001b[A\n",
      "\n"
     ]
    },
    {
     "name": "stdout",
     "output_type": "stream",
     "text": [
      "Total files processed: 1"
     ]
    },
    {
     "name": "stderr",
     "output_type": "stream",
     "text": [
      "100%|████████████████████████████████████████████| 1/1 [00:00<00:00,  4.96it/s]"
     ]
    },
    {
     "name": "stdout",
     "output_type": "stream",
     "text": [
      "\n"
     ]
    },
    {
     "name": "stderr",
     "output_type": "stream",
     "text": [
      "\u001b[A\n",
      "100%|████████████████████████████████████████████| 1/1 [00:00<00:00,  4.62it/s]\u001b[A/w/hallb-scshelf2102/clas12/users/gmat/clas12/neutneut/analysis/neutron_ml/../../src/TrainData.py:84: FutureWarning: The default of observed=False is deprecated and will be changed to True in a future version of pandas. Pass observed=False to retain current behavior or observed=True to adopt the future default and silence this warning.\n",
      "  group_sizes = df.groupby(group_cols).size()\n",
      "\n",
      "100%|████████████████████████████████████████████| 1/1 [00:00<00:00,  2.71it/s]\u001b[A\n",
      "\n"
     ]
    },
    {
     "name": "stdout",
     "output_type": "stream",
     "text": [
      "Total files processed: 1"
     ]
    },
    {
     "name": "stderr",
     "output_type": "stream",
     "text": [
      "100%|████████████████████████████████████████████| 1/1 [00:00<00:00,  4.01it/s]"
     ]
    },
    {
     "name": "stdout",
     "output_type": "stream",
     "text": [
      "\n"
     ]
    },
    {
     "name": "stderr",
     "output_type": "stream",
     "text": [
      "\u001b[A\n",
      "100%|████████████████████████████████████████████| 1/1 [00:00<00:00,  4.69it/s]/w/hallb-scshelf2102/clas12/users/gmat/clas12/neutneut/analysis/neutron_ml/../../src/TrainData.py:84: FutureWarning: The default of observed=False is deprecated and will be changed to True in a future version of pandas. Pass observed=False to retain current behavior or observed=True to adopt the future default and silence this warning.\n",
      "  group_sizes = df.groupby(group_cols).size()\n",
      "\u001b[A\n",
      "100%|████████████████████████████████████████████| 1/1 [00:00<00:00,  3.12it/s]\u001b[A\n",
      "\n"
     ]
    },
    {
     "name": "stdout",
     "output_type": "stream",
     "text": [
      "Total files processed: 1"
     ]
    },
    {
     "name": "stderr",
     "output_type": "stream",
     "text": [
      "100%|████████████████████████████████████████████| 1/1 [00:00<00:00,  5.01it/s]"
     ]
    },
    {
     "name": "stdout",
     "output_type": "stream",
     "text": [
      "\n"
     ]
    },
    {
     "name": "stderr",
     "output_type": "stream",
     "text": [
      "\u001b[A\n",
      "100%|████████████████████████████████████████████| 1/1 [00:00<00:00,  5.16it/s]\u001b[A/w/hallb-scshelf2102/clas12/users/gmat/clas12/neutneut/analysis/neutron_ml/../../src/TrainData.py:84: FutureWarning: The default of observed=False is deprecated and will be changed to True in a future version of pandas. Pass observed=False to retain current behavior or observed=True to adopt the future default and silence this warning.\n",
      "  group_sizes = df.groupby(group_cols).size()\n",
      "\n",
      "100%|████████████████████████████████████████████| 1/1 [00:00<00:00,  2.70it/s]\u001b[A\n",
      "\n"
     ]
    },
    {
     "name": "stdout",
     "output_type": "stream",
     "text": [
      "Total files processed: 1\n"
     ]
    },
    {
     "name": "stderr",
     "output_type": "stream",
     "text": [
      "100%|████████████████████████████████████████████| 1/1 [00:00<00:00,  2.98it/s]\u001b[A/w/hallb-scshelf2102/clas12/users/gmat/clas12/neutneut/analysis/neutron_ml/../../src/TrainData.py:84: FutureWarning: The default of observed=False is deprecated and will be changed to True in a future version of pandas. Pass observed=False to retain current behavior or observed=True to adopt the future default and silence this warning.\n",
      "  group_sizes = df.groupby(group_cols).size()\n",
      "\n",
      "\n"
     ]
    },
    {
     "name": "stdout",
     "output_type": "stream",
     "text": [
      "Total files processed: 1\n"
     ]
    },
    {
     "name": "stderr",
     "output_type": "stream",
     "text": [
      "100%|████████████████████████████████████████████| 1/1 [00:00<00:00,  4.70it/s]\u001b[A\n",
      "  0%|                                                    | 0/1 [00:00<?, ?it/s]/w/hallb-scshelf2102/clas12/users/gmat/clas12/neutneut/analysis/neutron_ml/../../src/TrainData.py:84: FutureWarning: The default of observed=False is deprecated and will be changed to True in a future version of pandas. Pass observed=False to retain current behavior or observed=True to adopt the future default and silence this warning.\n",
      "  group_sizes = df.groupby(group_cols).size()\n",
      "\u001b[A\n",
      "100%|████████████████████████████████████████████| 1/1 [00:00<00:00,  3.50it/s]\u001b[A\n",
      "\n"
     ]
    },
    {
     "name": "stdout",
     "output_type": "stream",
     "text": [
      "Total files processed: 1"
     ]
    },
    {
     "name": "stderr",
     "output_type": "stream",
     "text": [
      "  0%|                                                    | 0/1 [00:00<?, ?it/s]"
     ]
    },
    {
     "name": "stdout",
     "output_type": "stream",
     "text": [
      "\n"
     ]
    },
    {
     "name": "stderr",
     "output_type": "stream",
     "text": [
      "\u001b[A\n",
      "  0%|                                                    | 0/1 [00:00<?, ?it/s]/w/hallb-scshelf2102/clas12/users/gmat/clas12/neutneut/analysis/neutron_ml/../../src/TrainData.py:84: FutureWarning: The default of observed=False is deprecated and will be changed to True in a future version of pandas. Pass observed=False to retain current behavior or observed=True to adopt the future default and silence this warning.\n",
      "  group_sizes = df.groupby(group_cols).size()\n",
      "\u001b[A\n",
      "100%|████████████████████████████████████████████| 1/1 [00:00<00:00,  3.02it/s]\u001b[A\n"
     ]
    },
    {
     "name": "stdout",
     "output_type": "stream",
     "text": [
      "Total files processed: 1"
     ]
    },
    {
     "name": "stderr",
     "output_type": "stream",
     "text": [
      "100%|████████████████████████████████████████████| 1/1 [00:00<00:00,  3.06it/s]"
     ]
    },
    {
     "name": "stdout",
     "output_type": "stream",
     "text": [
      "\n"
     ]
    },
    {
     "name": "stderr",
     "output_type": "stream",
     "text": [
      "\n",
      "\n"
     ]
    },
    {
     "name": "stdout",
     "output_type": "stream",
     "text": [
      "Total files processed: 1"
     ]
    },
    {
     "name": "stderr",
     "output_type": "stream",
     "text": [
      "  0%|                                                    | 0/1 [00:00<?, ?it/s]"
     ]
    },
    {
     "name": "stdout",
     "output_type": "stream",
     "text": [
      "\n"
     ]
    },
    {
     "name": "stderr",
     "output_type": "stream",
     "text": [
      "\u001b[A/w/hallb-scshelf2102/clas12/users/gmat/clas12/neutneut/analysis/neutron_ml/../../src/TrainData.py:84: FutureWarning: The default of observed=False is deprecated and will be changed to True in a future version of pandas. Pass observed=False to retain current behavior or observed=True to adopt the future default and silence this warning.\n",
      "  group_sizes = df.groupby(group_cols).size()\n",
      "100%|████████████████████████████████████████████| 1/1 [00:00<00:00,  3.11it/s]\n",
      "/w/hallb-scshelf2102/clas12/users/gmat/clas12/neutneut/analysis/neutron_ml/../../src/TrainData.py:84: FutureWarning: The default of observed=False is deprecated and will be changed to True in a future version of pandas. Pass observed=False to retain current behavior or observed=True to adopt the future default and silence this warning.\n",
      "  group_sizes = df.groupby(group_cols).size()\n"
     ]
    },
    {
     "name": "stdout",
     "output_type": "stream",
     "text": [
      "Total files processed: 1"
     ]
    },
    {
     "name": "stderr",
     "output_type": "stream",
     "text": [
      "100%|████████████████████████████████████████████| 1/1 [00:00<00:00,  2.97it/s]"
     ]
    },
    {
     "name": "stdout",
     "output_type": "stream",
     "text": [
      "\n"
     ]
    },
    {
     "name": "stderr",
     "output_type": "stream",
     "text": [
      "\n",
      "100%|████████████████████████████████████████████| 1/1 [00:00<00:00,  3.33it/s]"
     ]
    },
    {
     "name": "stdout",
     "output_type": "stream",
     "text": [
      "Total files processed: 1"
     ]
    },
    {
     "name": "stderr",
     "output_type": "stream",
     "text": [
      "\n"
     ]
    },
    {
     "name": "stdout",
     "output_type": "stream",
     "text": [
      "\n"
     ]
    },
    {
     "name": "stderr",
     "output_type": "stream",
     "text": [
      "/w/hallb-scshelf2102/clas12/users/gmat/clas12/neutneut/analysis/neutron_ml/../../src/TrainData.py:84: FutureWarning: The default of observed=False is deprecated and will be changed to True in a future version of pandas. Pass observed=False to retain current behavior or observed=True to adopt the future default and silence this warning.\n",
      "  group_sizes = df.groupby(group_cols).size()\n",
      "\n"
     ]
    },
    {
     "name": "stdout",
     "output_type": "stream",
     "text": [
      "Total files processed: 1\n"
     ]
    },
    {
     "name": "stderr",
     "output_type": "stream",
     "text": [
      "  0%|                                                  | 0/197 [00:00<?, ?it/s]/w/hallb-scshelf2102/clas12/users/gmat/clas12/neutneut/analysis/neutron_ml/../../src/TrainData.py:84: FutureWarning: The default of observed=False is deprecated and will be changed to True in a future version of pandas. Pass observed=False to retain current behavior or observed=True to adopt the future default and silence this warning.\n",
      "  group_sizes = df.groupby(group_cols).size()\n",
      "100%|████████████████████████████████████████████| 1/1 [00:00<00:00,  3.35it/s]/w/hallb-scshelf2102/clas12/users/gmat/clas12/neutneut/analysis/neutron_ml/../../src/TrainData.py:84: FutureWarning: The default of observed=False is deprecated and will be changed to True in a future version of pandas. Pass observed=False to retain current behavior or observed=True to adopt the future default and silence this warning.\n",
      "  group_sizes = df.groupby(group_cols).size()\n",
      "\n",
      "100%|████████████████████████████████████████████| 1/1 [00:00<00:00,  2.81it/s]"
     ]
    },
    {
     "name": "stdout",
     "output_type": "stream",
     "text": [
      "Total files processed: 1\n"
     ]
    },
    {
     "name": "stderr",
     "output_type": "stream",
     "text": [
      "\n",
      "100%|████████████████████████████████████████████| 1/1 [00:00<00:00,  3.48it/s]/w/hallb-scshelf2102/clas12/users/gmat/clas12/neutneut/analysis/neutron_ml/../../src/TrainData.py:84: FutureWarning: The default of observed=False is deprecated and will be changed to True in a future version of pandas. Pass observed=False to retain current behavior or observed=True to adopt the future default and silence this warning.\n",
      "  group_sizes = df.groupby(group_cols).size()\n",
      "\n"
     ]
    },
    {
     "name": "stdout",
     "output_type": "stream",
     "text": [
      "Total files processed: 1"
     ]
    },
    {
     "name": "stderr",
     "output_type": "stream",
     "text": [
      "\n"
     ]
    },
    {
     "name": "stdout",
     "output_type": "stream",
     "text": [
      "\n",
      "Total files processed: 1"
     ]
    },
    {
     "name": "stderr",
     "output_type": "stream",
     "text": [
      "/w/hallb-scshelf2102/clas12/users/gmat/clas12/neutneut/analysis/neutron_ml/../../src/TrainData.py:84: FutureWarning: The default of observed=False is deprecated and will be changed to True in a future version of pandas. Pass observed=False to retain current behavior or observed=True to adopt the future default and silence this warning.\n",
      "  group_sizes = df.groupby(group_cols).size()\n"
     ]
    },
    {
     "name": "stdout",
     "output_type": "stream",
     "text": [
      "\n"
     ]
    },
    {
     "name": "stderr",
     "output_type": "stream",
     "text": [
      "100%|████████████████████████████████████████████| 1/1 [00:00<00:00,  2.59it/s]\u001b[A\n"
     ]
    },
    {
     "name": "stdout",
     "output_type": "stream",
     "text": [
      "Total files processed: 1"
     ]
    },
    {
     "name": "stderr",
     "output_type": "stream",
     "text": [
      "\n",
      "/w/hallb-scshelf2102/clas12/users/gmat/clas12/neutneut/analysis/neutron_ml/../../src/TrainData.py:84: FutureWarning: The default of observed=False is deprecated and will be changed to True in a future version of pandas. Pass observed=False to retain current behavior or observed=True to adopt the future default and silence this warning.\n",
      "  group_sizes = df.groupby(group_cols).size()\n"
     ]
    },
    {
     "name": "stdout",
     "output_type": "stream",
     "text": [
      "\n"
     ]
    },
    {
     "name": "stderr",
     "output_type": "stream",
     "text": [
      "/w/hallb-scshelf2102/clas12/users/gmat/clas12/neutneut/analysis/neutron_ml/../../src/TrainData.py:84: FutureWarning: The default of observed=False is deprecated and will be changed to True in a future version of pandas. Pass observed=False to retain current behavior or observed=True to adopt the future default and silence this warning.\n",
      "  group_sizes = df.groupby(group_cols).size()\n",
      "100%|████████████████████████████████████████████| 1/1 [00:00<00:00,  2.65it/s]\u001b[A\n",
      "100%|████████████████████████████████████████████| 1/1 [00:00<00:00,  2.95it/s]"
     ]
    },
    {
     "name": "stdout",
     "output_type": "stream",
     "text": [
      "Total files processed: 1"
     ]
    },
    {
     "name": "stderr",
     "output_type": "stream",
     "text": [
      "\n"
     ]
    },
    {
     "name": "stdout",
     "output_type": "stream",
     "text": [
      "\n"
     ]
    },
    {
     "name": "stderr",
     "output_type": "stream",
     "text": [
      "100%|████████████████████████████████████████████| 1/1 [00:00<00:00,  2.48it/s]"
     ]
    },
    {
     "name": "stdout",
     "output_type": "stream",
     "text": [
      "Total files processed: 1\n"
     ]
    },
    {
     "name": "stderr",
     "output_type": "stream",
     "text": [
      "\n"
     ]
    },
    {
     "name": "stdout",
     "output_type": "stream",
     "text": [
      "Total files processed: 1"
     ]
    },
    {
     "name": "stderr",
     "output_type": "stream",
     "text": [
      "100%|████████████████████████████████████████████| 1/1 [00:00<00:00,  3.10it/s]/w/hallb-scshelf2102/clas12/users/gmat/clas12/neutneut/analysis/neutron_ml/../../src/TrainData.py:84: FutureWarning: The default of observed=False is deprecated and will be changed to True in a future version of pandas. Pass observed=False to retain current behavior or observed=True to adopt the future default and silence this warning.\n",
      "  group_sizes = df.groupby(group_cols).size()\n"
     ]
    },
    {
     "name": "stdout",
     "output_type": "stream",
     "text": [
      "\n"
     ]
    },
    {
     "name": "stderr",
     "output_type": "stream",
     "text": [
      "\n",
      "/w/hallb-scshelf2102/clas12/users/gmat/clas12/neutneut/analysis/neutron_ml/../../src/TrainData.py:84: FutureWarning: The default of observed=False is deprecated and will be changed to True in a future version of pandas. Pass observed=False to retain current behavior or observed=True to adopt the future default and silence this warning.\n",
      "  group_sizes = df.groupby(group_cols).size()\n",
      "100%|████████████████████████████████████████████| 1/1 [00:00<00:00,  3.13it/s]"
     ]
    },
    {
     "name": "stdout",
     "output_type": "stream",
     "text": [
      "Total files processed: 1"
     ]
    },
    {
     "name": "stderr",
     "output_type": "stream",
     "text": [
      "/w/hallb-scshelf2102/clas12/users/gmat/clas12/neutneut/analysis/neutron_ml/../../src/TrainData.py:84: FutureWarning: The default of observed=False is deprecated and will be changed to True in a future version of pandas. Pass observed=False to retain current behavior or observed=True to adopt the future default and silence this warning.\n",
      "  group_sizes = df.groupby(group_cols).size()\n",
      "\n"
     ]
    },
    {
     "name": "stdout",
     "output_type": "stream",
     "text": [
      "\n",
      "Total files processed: 1"
     ]
    },
    {
     "name": "stderr",
     "output_type": "stream",
     "text": [
      "100%|████████████████████████████████████████████| 1/1 [00:00<00:00,  2.90it/s]"
     ]
    },
    {
     "name": "stdout",
     "output_type": "stream",
     "text": [
      "\n"
     ]
    },
    {
     "name": "stderr",
     "output_type": "stream",
     "text": [
      "\n",
      "/w/hallb-scshelf2102/clas12/users/gmat/clas12/neutneut/analysis/neutron_ml/../../src/TrainData.py:84: FutureWarning: The default of observed=False is deprecated and will be changed to True in a future version of pandas. Pass observed=False to retain current behavior or observed=True to adopt the future default and silence this warning.\n",
      "  group_sizes = df.groupby(group_cols).size()\n"
     ]
    },
    {
     "name": "stdout",
     "output_type": "stream",
     "text": [
      "Total files processed: 1"
     ]
    },
    {
     "name": "stderr",
     "output_type": "stream",
     "text": [
      "\n",
      "/w/hallb-scshelf2102/clas12/users/gmat/clas12/neutneut/analysis/neutron_ml/../../src/TrainData.py:84: FutureWarning: The default of observed=False is deprecated and will be changed to True in a future version of pandas. Pass observed=False to retain current behavior or observed=True to adopt the future default and silence this warning.\n",
      "  group_sizes = df.groupby(group_cols).size()\n",
      " 53%|████████████████████▊                  | 106/199 [00:00<00:00, 284.78it/s]"
     ]
    },
    {
     "name": "stdout",
     "output_type": "stream",
     "text": [
      "\n"
     ]
    },
    {
     "name": "stderr",
     "output_type": "stream",
     "text": [
      "100%|████████████████████████████████████████████| 1/1 [00:00<00:00,  2.65it/s]/w/hallb-scshelf2102/clas12/users/gmat/clas12/neutneut/analysis/neutron_ml/../../src/TrainData.py:84: FutureWarning: The default of observed=False is deprecated and will be changed to True in a future version of pandas. Pass observed=False to retain current behavior or observed=True to adopt the future default and silence this warning.\n",
      "  group_sizes = df.groupby(group_cols).size()\n",
      "\n",
      "100%|████████████████████████████████████████████| 1/1 [00:00<00:00,  2.55it/s]\n"
     ]
    },
    {
     "name": "stdout",
     "output_type": "stream",
     "text": [
      "Total files processed: 1Total files processed: 1\n"
     ]
    },
    {
     "name": "stderr",
     "output_type": "stream",
     "text": [
      "\n",
      "  0%|                                                  | 0/197 [00:00<?, ?it/s]/w/hallb-scshelf2102/clas12/users/gmat/clas12/neutneut/analysis/neutron_ml/../../src/TrainData.py:84: FutureWarning: The default of observed=False is deprecated and will be changed to True in a future version of pandas. Pass observed=False to retain current behavior or observed=True to adopt the future default and silence this warning.\n",
      "  group_sizes = df.groupby(group_cols).size()\n",
      "\u001b[A"
     ]
    },
    {
     "name": "stdout",
     "output_type": "stream",
     "text": [
      "\n"
     ]
    },
    {
     "name": "stderr",
     "output_type": "stream",
     "text": [
      "\n",
      "  0%|                                                    | 0/1 [00:00<?, ?it/s]\u001b[A/w/hallb-scshelf2102/clas12/users/gmat/clas12/neutneut/analysis/neutron_ml/../../src/TrainData.py:84: FutureWarning: The default of observed=False is deprecated and will be changed to True in a future version of pandas. Pass observed=False to retain current behavior or observed=True to adopt the future default and silence this warning.\n",
      "  group_sizes = df.groupby(group_cols).size()\n",
      "\n",
      " 21%|████████▎                               | 41/198 [00:00<00:00, 401.76it/s]\u001b[A\n",
      " 39%|███████████████▊                        | 78/198 [00:00<00:00, 322.16it/s]\u001b[A\n",
      " 22%|████████▋                               | 43/199 [00:00<00:00, 421.09it/s]\u001b[A\n",
      " 18%|███████▎                                | 36/197 [00:00<00:00, 356.88it/s]\u001b[A\n",
      "  0%|                                                  | 0/195 [00:00<?, ?it/s]\u001b[A\n",
      " 50%|███████████████████▉                    | 98/197 [00:00<00:00, 260.30it/s]\u001b[A\n",
      "  0%|                                                  | 0/199 [00:00<?, ?it/s]\u001b[A\n",
      "  0%|                                                  | 0/195 [00:00<?, ?it/s]\u001b[A\n",
      "  0%|                                                  | 0/197 [00:00<?, ?it/s]\u001b[A\n",
      "  0%|                                                  | 0/197 [00:00<?, ?it/s]\u001b[A\n",
      "  0%|                                                  | 0/194 [00:00<?, ?it/s]\u001b[A\n",
      " 20%|███████▉                                | 38/193 [00:00<00:00, 375.08it/s]\u001b[A\n",
      "  0%|                                                  | 0/195 [00:00<?, ?it/s]\u001b[A\n",
      "  0%|                                                  | 0/197 [00:00<?, ?it/s]\u001b[A\n",
      "  0%|                                                  | 0/197 [00:00<?, ?it/s]\u001b[A\n",
      "  0%|                                                  | 0/194 [00:00<?, ?it/s]\u001b[A\n",
      "  0%|                                                  | 0/200 [00:00<?, ?it/s]\u001b[A\n",
      " 68%|██████████████████████████▍            | 135/199 [00:00<00:00, 250.61it/s]\u001b[A\n",
      "  0%|                                                  | 0/196 [00:00<?, ?it/s]\u001b[A\n",
      "  0%|                                                  | 0/196 [00:00<?, ?it/s]\u001b[A\n",
      "100%|████████████████████████████████████████████| 1/1 [00:00<00:00,  6.28it/s]\u001b[A\n",
      "100%|████████████████████████████████████████████| 1/1 [00:00<00:00,  5.12it/s]\u001b[A\n",
      "100%|████████████████████████████████████████████| 1/1 [00:00<00:00,  4.91it/s]\u001b[A\n",
      "100%|████████████████████████████████████████████| 1/1 [00:00<00:00,  5.14it/s]\u001b[A\n",
      "  0%|                                                  | 0/197 [00:00<?, ?it/s]\u001b[A\n",
      " 56%|█████████████████████▊                 | 111/198 [00:00<00:00, 308.60it/s]\u001b[A\n",
      " 21%|████████▎                               | 41/197 [00:00<00:00, 404.17it/s]\u001b[A\n",
      " 37%|██████████████▌                         | 72/197 [00:00<00:00, 341.42it/s]\u001b[A\n",
      " 68%|██████████████████████████▌            | 134/197 [00:00<00:00, 293.34it/s]\u001b[A\n",
      " 41%|████████████████▌                       | 82/198 [00:00<00:00, 309.77it/s]\u001b[A\n",
      "  0%|                                                  | 0/197 [00:00<?, ?it/s]\u001b[A\n",
      " 43%|█████████████████▎                      | 86/199 [00:00<00:00, 275.88it/s]\u001b[A\n",
      "  0%|                                                  | 0/196 [00:00<?, ?it/s]\u001b[A\n",
      " 21%|████████▌                               | 42/197 [00:00<00:00, 417.88it/s]\u001b[A\n",
      "  0%|                                                  | 0/195 [00:00<?, ?it/s]\u001b[A\n",
      "  0%|                                                  | 0/195 [00:00<?, ?it/s]\u001b[A\n",
      " 22%|████████▌                               | 42/195 [00:00<00:00, 417.76it/s]\u001b[A\n",
      " 22%|████████▊                               | 44/199 [00:00<00:00, 434.39it/s]\u001b[A\n",
      " 24%|█████████▍                              | 46/195 [00:00<00:00, 458.23it/s]\u001b[A\n",
      " 39%|███████████████▊                        | 76/193 [00:00<00:00, 320.81it/s]\u001b[A\n",
      " 25%|█████████▉                              | 49/197 [00:00<00:00, 484.32it/s]\u001b[A\n",
      "100%|████████████████████████████████████████████| 1/1 [00:00<00:00,  2.55it/s]\u001b[A\n",
      "\n"
     ]
    },
    {
     "name": "stdout",
     "output_type": "stream",
     "text": [
      "Total files processed: 1"
     ]
    },
    {
     "name": "stderr",
     "output_type": "stream",
     "text": [
      "100%|████████████████████████████████████████████| 1/1 [00:00<00:00,  5.74it/s]"
     ]
    },
    {
     "name": "stdout",
     "output_type": "stream",
     "text": [
      "\n"
     ]
    },
    {
     "name": "stderr",
     "output_type": "stream",
     "text": [
      "\u001b[A\n",
      "/w/hallb-scshelf2102/clas12/users/gmat/clas12/neutneut/analysis/neutron_ml/../../src/TrainData.py:84: FutureWarning: The default of observed=False is deprecated and will be changed to True in a future version of pandas. Pass observed=False to retain current behavior or observed=True to adopt the future default and silence this warning.\n",
      "  group_sizes = df.groupby(group_cols).size()\n",
      " 81%|███████████████████████████████▌       | 161/199 [00:00<00:00, 217.23it/s]\u001b[A\n",
      " 22%|████████▊                               | 43/195 [00:00<00:00, 421.94it/s]\u001b[A\n",
      "  0%|                                                  | 0/198 [00:00<?, ?it/s]\u001b[A\n",
      " 25%|█████████▉                              | 49/197 [00:00<00:00, 480.10it/s]\u001b[A\n",
      "  0%|                                                  | 0/199 [00:00<?, ?it/s]\u001b[A\n",
      " 26%|██████████▎                             | 50/194 [00:00<00:00, 491.68it/s]\u001b[A\n",
      " 21%|████████▍                               | 42/200 [00:00<00:00, 418.46it/s]\u001b[A\n",
      " 72%|████████████████████████████▏          | 143/198 [00:00<00:00, 262.89it/s]\u001b[A\n",
      " 23%|█████████▏                              | 45/196 [00:00<00:00, 444.42it/s]\u001b[A\n",
      " 84%|████████████████████████████████▋      | 165/197 [00:00<00:00, 267.99it/s]\u001b[A\n",
      "  0%|                                                  | 0/200 [00:00<?, ?it/s]\u001b[A\n",
      " 54%|█████████████████████▏                 | 107/197 [00:00<00:00, 286.45it/s]\u001b[A\n",
      " 22%|████████▊                               | 43/196 [00:00<00:00, 424.78it/s]\u001b[A\n",
      " 58%|██████████████████████▋                | 115/198 [00:00<00:00, 271.07it/s]\u001b[A\n",
      " 42%|████████████████▋                       | 82/197 [00:00<00:00, 294.70it/s]\u001b[A\n",
      " 59%|██████████████████████▉                | 117/199 [00:00<00:00, 247.60it/s]\u001b[A\n",
      "100%|████████████████████████████████████████████| 1/1 [00:00<00:00,  1.96it/s]\u001b[A\n"
     ]
    },
    {
     "name": "stdout",
     "output_type": "stream",
     "text": [
      "Total files processed: 1"
     ]
    },
    {
     "name": "stderr",
     "output_type": "stream",
     "text": [
      "100%|████████████████████████████████████████████| 1/1 [00:00<00:00,  1.88it/s]\n"
     ]
    },
    {
     "name": "stdout",
     "output_type": "stream",
     "text": [
      "\n"
     ]
    },
    {
     "name": "stderr",
     "output_type": "stream",
     "text": [
      "100%|████████████████████████████████████████████| 1/1 [00:00<00:00,  1.91it/s]"
     ]
    },
    {
     "name": "stdout",
     "output_type": "stream",
     "text": [
      "Total files processed: 1"
     ]
    },
    {
     "name": "stderr",
     "output_type": "stream",
     "text": [
      "/w/hallb-scshelf2102/clas12/users/gmat/clas12/neutneut/analysis/neutron_ml/../../src/TrainData.py:84: FutureWarning: The default of observed=False is deprecated and will be changed to True in a future version of pandas. Pass observed=False to retain current behavior or observed=True to adopt the future default and silence this warning.\n",
      "  group_sizes = df.groupby(group_cols).size()\n"
     ]
    },
    {
     "name": "stdout",
     "output_type": "stream",
     "text": [
      "\n"
     ]
    },
    {
     "name": "stderr",
     "output_type": "stream",
     "text": [
      "\n",
      "/w/hallb-scshelf2102/clas12/users/gmat/clas12/neutneut/analysis/neutron_ml/../../src/TrainData.py:84: FutureWarning: The default of observed=False is deprecated and will be changed to True in a future version of pandas. Pass observed=False to retain current behavior or observed=True to adopt the future default and silence this warning.\n",
      "  group_sizes = df.groupby(group_cols).size()\n",
      "\n"
     ]
    },
    {
     "name": "stdout",
     "output_type": "stream",
     "text": [
      "Total files processed: 1"
     ]
    },
    {
     "name": "stderr",
     "output_type": "stream",
     "text": [
      "  0%|                                                  | 0/200 [00:00<?, ?it/s]"
     ]
    },
    {
     "name": "stdout",
     "output_type": "stream",
     "text": [
      "\n"
     ]
    },
    {
     "name": "stderr",
     "output_type": "stream",
     "text": [
      "\u001b[A/w/hallb-scshelf2102/clas12/users/gmat/clas12/neutneut/analysis/neutron_ml/../../src/TrainData.py:84: FutureWarning: The default of observed=False is deprecated and will be changed to True in a future version of pandas. Pass observed=False to retain current behavior or observed=True to adopt the future default and silence this warning.\n",
      "  group_sizes = df.groupby(group_cols).size()\n",
      "\n",
      " 22%|████████▊                               | 43/194 [00:00<00:00, 424.32it/s]\u001b[A\n",
      " 23%|█████████▎                              | 46/197 [00:00<00:00, 459.40it/s]\u001b[A\n",
      " 43%|█████████████████                       | 84/197 [00:00<00:00, 414.01it/s]\u001b[A\n",
      " 22%|████████▌                               | 42/195 [00:00<00:00, 411.76it/s]\u001b[A\n",
      " 21%|████████▍                               | 41/195 [00:00<00:00, 404.33it/s]\u001b[A\n",
      " 56%|██████████████████████                 | 109/193 [00:00<00:00, 240.07it/s]\u001b[A\n",
      " 43%|█████████████████▏                      | 84/195 [00:00<00:00, 250.88it/s]\u001b[A\n",
      " 44%|█████████████████▋                      | 88/199 [00:00<00:00, 273.17it/s]\u001b[A\n",
      " 47%|██████████████████▊                     | 92/195 [00:00<00:00, 281.58it/s]\u001b[A\n",
      " 43%|█████████████████                       | 84/197 [00:00<00:00, 256.08it/s]\u001b[A\n",
      " 50%|███████████████████▉                    | 98/197 [00:00<00:00, 288.67it/s]\u001b[A\n",
      " 44%|█████████████████▋                      | 86/195 [00:00<00:00, 277.29it/s]\u001b[A\n",
      " 86%|█████████████████████████████████▋     | 171/198 [00:00<00:00, 236.00it/s]\u001b[A\n",
      " 26%|██████████▎                             | 51/198 [00:00<00:00, 504.98it/s]\u001b[A\n",
      " 50%|███████████████████▉                    | 98/197 [00:00<00:00, 325.63it/s]\u001b[A\n",
      "100%|████████████████████████████████████████████| 1/1 [00:00<00:00,  1.89it/s]\u001b[A\n"
     ]
    },
    {
     "name": "stdout",
     "output_type": "stream",
     "text": [
      "Total files processed: 1"
     ]
    },
    {
     "name": "stderr",
     "output_type": "stream",
     "text": [
      "\n"
     ]
    },
    {
     "name": "stdout",
     "output_type": "stream",
     "text": [
      "\n"
     ]
    },
    {
     "name": "stderr",
     "output_type": "stream",
     "text": [
      " 42%|████████████████▊                       | 84/200 [00:00<00:00, 269.86it/s]\u001b[A\n",
      "/w/hallb-scshelf2102/clas12/users/gmat/clas12/neutneut/analysis/neutron_ml/../../src/TrainData.py:84: FutureWarning: The default of observed=False is deprecated and will be changed to True in a future version of pandas. Pass observed=False to retain current behavior or observed=True to adopt the future default and silence this warning.\n",
      "  group_sizes = df.groupby(group_cols).size()\n",
      " 70%|███████████████████████████            | 137/197 [00:00<00:00, 236.12it/s]\u001b[A\n",
      " 22%|████████▊                               | 44/199 [00:00<00:00, 429.78it/s]\u001b[A\n",
      " 24%|█████████▌                              | 47/196 [00:00<00:00, 468.66it/s]\u001b[A\n",
      " 92%|████████████████████████████████████   | 184/199 [00:01<00:00, 198.05it/s]\u001b[A\n",
      " 46%|██████████████████▎                     | 90/196 [00:00<00:00, 281.63it/s]\u001b[A\n",
      " 52%|████████████████████                   | 100/194 [00:00<00:00, 285.86it/s]\u001b[A\n",
      " 58%|██████████████████████▌                | 114/197 [00:00<00:00, 227.97it/s]\u001b[A\n",
      " 72%|████████████████████████████▏          | 143/198 [00:00<00:00, 208.14it/s]\u001b[A\n",
      " 72%|████████████████████████████▏          | 144/199 [00:00<00:00, 199.13it/s]\u001b[A\n",
      " 22%|████████▌                               | 43/200 [00:00<00:00, 426.22it/s]\u001b[A\n",
      " 44%|█████████████████▌                      | 86/196 [00:00<00:00, 261.47it/s]\u001b[A\n",
      " 49%|███████████████████▍                    | 96/197 [00:00<00:00, 264.29it/s]\u001b[A\n",
      " 70%|███████████████████████████▎           | 135/193 [00:00<00:00, 198.64it/s]\u001b[A\n",
      " 21%|████████▍                               | 42/200 [00:00<00:00, 416.29it/s]\u001b[A\n",
      " 44%|█████████████████▋                      | 86/194 [00:00<00:00, 171.03it/s]\u001b[A\n",
      " 58%|██████████████████████▌                | 113/195 [00:00<00:00, 209.86it/s]\u001b[A\n",
      " 42%|████████████████▊                       | 82/195 [00:00<00:00, 260.59it/s]\u001b[A\n",
      " 99%|██████████████████████████████████████▌| 196/198 [00:00<00:00, 213.88it/s]\u001b[A\n",
      " 60%|███████████████████████▎               | 119/199 [00:00<00:00, 221.39it/s]\u001b[A\n",
      " 47%|██████████████████▋                     | 92/197 [00:00<00:00, 249.07it/s]\u001b[A\n",
      " 64%|████████████████████████▊              | 124/195 [00:00<00:00, 231.62it/s]\u001b[A\n",
      " 58%|██████████████████████▌                | 114/197 [00:00<00:00, 215.43it/s]\u001b[A\n",
      " 43%|█████████████████▏                      | 84/195 [00:00<00:00, 252.79it/s]\u001b[A\n",
      " 64%|████████████████████████▉              | 126/197 [00:00<00:00, 265.50it/s]\u001b[A\n",
      "100%|███████████████████████████████████████| 197/197 [00:01<00:00, 195.63it/s]\u001b[A\n",
      "\n",
      " 60%|███████████████████████▍               | 117/195 [00:00<00:00, 233.82it/s]\u001b[A\n",
      " 67%|██████████████████████████▏            | 132/197 [00:00<00:00, 242.03it/s]\u001b[A\n",
      "  0%|                                                  | 0/195 [00:00<?, ?it/s]\u001b[A\n",
      "  0%|                                                  | 0/197 [00:00<?, ?it/s]\u001b[A\n",
      " 82%|████████████████████████████████       | 162/197 [00:00<00:00, 198.27it/s]\u001b[A\n",
      " 71%|███████████████████████████▌           | 139/197 [00:00<00:00, 206.07it/s]\u001b[A\n",
      " 83%|████████████████████████████████▌      | 166/199 [00:00<00:00, 183.70it/s]\u001b[A\n",
      " 57%|██████████████████████▏                | 114/200 [00:00<00:00, 212.47it/s]\u001b[A\n",
      " 68%|██████████████████████████▌            | 134/197 [00:00<00:00, 239.57it/s]\u001b[A\n",
      " 84%|████████████████████████████████▋      | 166/198 [00:00<00:00, 185.00it/s]\u001b[A\n",
      " 62%|████████████████████████▎              | 122/196 [00:00<00:00, 233.08it/s]\u001b[A\n",
      " 44%|█████████████████▍                      | 87/199 [00:00<00:00, 269.32it/s]\u001b[A\n",
      " 69%|██████████████████████████▉            | 134/194 [00:00<00:00, 237.07it/s]\u001b[A\n",
      " 52%|████████████████████                   | 102/198 [00:00<00:00, 269.62it/s]\u001b[A\n",
      " 59%|███████████████████████                | 116/196 [00:00<00:00, 215.56it/s]\u001b[A\n",
      " 48%|███████████████████▏                    | 94/196 [00:00<00:00, 193.68it/s]\u001b[A\n",
      " 81%|███████████████████████████████▋       | 157/193 [00:00<00:00, 181.81it/s]\u001b[A\n",
      " 43%|█████████████████▏                      | 86/200 [00:00<00:00, 262.89it/s]\u001b[A\n",
      " 57%|██████████████████████▎                | 111/194 [00:00<00:00, 169.52it/s]\u001b[A\n",
      " 70%|███████████████████████████▍           | 137/195 [00:00<00:00, 194.46it/s]\u001b[A\n",
      "  0%|                                                  | 0/197 [00:00<?, ?it/s]\u001b[A\n",
      " 65%|█████████████████████████▎             | 128/197 [00:00<00:00, 227.77it/s]\u001b[A\n",
      " 72%|████████████████████████████▏          | 144/199 [00:00<00:00, 201.16it/s]\u001b[A\n",
      " 57%|██████████████████████▏                | 111/195 [00:00<00:00, 225.09it/s]\u001b[A\n",
      " 70%|███████████████████████████▎           | 138/197 [00:00<00:00, 194.84it/s]\u001b[A\n",
      " 77%|██████████████████████████████         | 150/195 [00:00<00:00, 205.97it/s]\u001b[A\n",
      " 42%|████████████████▊                       | 84/200 [00:00<00:00, 284.48it/s]\u001b[A\n",
      " 62%|████████████████████████▎              | 123/197 [00:00<00:00, 221.63it/s]\u001b[A\n",
      " 58%|██████████████████████▌                | 113/195 [00:00<00:00, 211.00it/s]\u001b[A\n",
      " 80%|███████████████████████████████        | 157/197 [00:00<00:00, 225.06it/s]\u001b[A\n",
      "100%|███████████████████████████████████████| 198/198 [00:01<00:00, 182.58it/s]\u001b[A\n",
      "\n",
      " 81%|███████████████████████████████▍       | 159/197 [00:00<00:00, 202.25it/s]\u001b[A\n",
      " 93%|████████████████████████████████████▍  | 186/199 [00:01<00:00, 170.52it/s]\u001b[A\n",
      " 93%|████████████████████████████████████▍  | 184/197 [00:00<00:00, 181.14it/s]\u001b[A\n",
      " 82%|███████████████████████████████▊       | 161/197 [00:00<00:00, 186.12it/s]\u001b[A\n",
      " 69%|██████████████████████████▉            | 138/200 [00:00<00:00, 194.63it/s]\u001b[A\n",
      " 94%|████████████████████████████████████▋  | 186/198 [00:00<00:00, 171.38it/s]\u001b[A\n",
      " 22%|████████▋                               | 43/198 [00:00<00:00, 423.85it/s]\u001b[A\n",
      " 82%|███████████████████████████████▊       | 161/197 [00:00<00:00, 216.46it/s]\u001b[A\n",
      " 76%|█████████████████████████████▍         | 148/196 [00:00<00:00, 209.88it/s]\u001b[A\n",
      " 22%|████████▌                               | 42/195 [00:00<00:00, 418.90it/s]\u001b[A\n",
      "  0%|                                                  | 0/198 [00:00<?, ?it/s]\u001b[A\n",
      " 93%|████████████████████████████████████▏  | 183/197 [00:00<00:00, 203.52it/s]\u001b[A\n",
      " 83%|████████████████████████████████▎      | 161/194 [00:00<00:00, 210.44it/s]\u001b[A\n",
      " 71%|███████████████████████████▊           | 140/196 [00:00<00:00, 192.80it/s]\u001b[A\n",
      " 59%|███████████████████████▏               | 118/199 [00:00<00:00, 225.51it/s]\u001b[A\n",
      " 92%|███████████████████████████████████▊   | 177/193 [00:00<00:00, 168.38it/s]\u001b[A\n",
      " 68%|██████████████████████████▌            | 132/194 [00:00<00:00, 161.96it/s]\u001b[A\n",
      " 81%|███████████████████████████████▌       | 158/195 [00:00<00:00, 177.26it/s]\u001b[A\n",
      " 62%|████████████████████████▎              | 122/196 [00:00<00:00, 187.40it/s]\u001b[A\n",
      " 68%|██████████████████████████▌            | 135/198 [00:00<00:00, 231.52it/s]\u001b[A\n",
      " 78%|██████████████████████████████▍        | 154/197 [00:00<00:00, 209.72it/s]\u001b[A\n",
      " 58%|██████████████████████▌                | 116/200 [00:00<00:00, 226.43it/s]\u001b[A\n",
      " 83%|████████████████████████████████▌      | 166/199 [00:00<00:00, 183.93it/s]\u001b[A\n",
      " 70%|███████████████████████████▏           | 136/195 [00:00<00:00, 203.18it/s]\u001b[A\n",
      " 81%|███████████████████████████████▍       | 159/197 [00:00<00:00, 175.95it/s]\u001b[A\n",
      "100%|███████████████████████████████████████| 199/199 [00:01<00:00, 177.29it/s]\u001b[A\n",
      "100%|███████████████████████████████████████| 199/199 [00:01<00:00, 140.56it/s]\n",
      "\n",
      " 84%|████████████████████████████████▊      | 164/195 [00:00<00:00, 178.37it/s]\u001b[A\n",
      " 21%|████████▎                               | 41/197 [00:00<00:00, 407.54it/s]\u001b[A\n",
      " 70%|███████████████████████████▍           | 137/195 [00:00<00:00, 188.46it/s]\u001b[A\n",
      " 75%|█████████████████████████████▎         | 148/197 [00:00<00:00, 190.99it/s]\u001b[A\n",
      " 57%|██████████████████████▍                | 115/200 [00:00<00:00, 224.98it/s]\u001b[A\n",
      " 24%|█████████▌                              | 47/197 [00:00<00:00, 459.94it/s]\u001b[A\n",
      " 92%|███████████████████████████████████▊   | 181/197 [00:00<00:00, 185.23it/s]\u001b[A\n",
      " 92%|███████████████████████████████████▊   | 181/197 [00:00<00:00, 173.00it/s]\u001b[A\n",
      " 80%|███████████████████████████████        | 159/200 [00:00<00:00, 179.73it/s]\u001b[A\n",
      " 94%|████████████████████████████████████▌  | 185/197 [00:00<00:00, 196.59it/s]\u001b[A\n",
      " 87%|██████████████████████████████████     | 171/196 [00:00<00:00, 186.91it/s]\u001b[A\n",
      " 82%|████████████████████████████████       | 161/196 [00:00<00:00, 180.91it/s]\u001b[A\n",
      " 78%|██████████████████████████████▎        | 151/194 [00:00<00:00, 158.57it/s]\u001b[A\n",
      " 91%|███████████████████████████████████▍   | 177/195 [00:00<00:00, 168.68it/s]\u001b[A\n",
      "100%|███████████████████████████████████████| 197/197 [00:01<00:00, 173.99it/s]\u001b[A\n",
      "\n",
      " 72%|████████████████████████████           | 143/199 [00:00<00:00, 204.46it/s]\u001b[A\n",
      " 43%|█████████████████▎                      | 86/198 [00:00<00:00, 274.93it/s]\u001b[A\n",
      " 74%|████████████████████████████▊          | 145/196 [00:00<00:00, 179.16it/s]\u001b[A\n",
      " 43%|█████████████████▏                      | 84/195 [00:00<00:00, 265.62it/s]\u001b[A\n",
      " 82%|███████████████████████████████▉       | 162/198 [00:00<00:00, 210.36it/s]\u001b[A\n",
      " 90%|███████████████████████████████████    | 177/197 [00:00<00:00, 190.87it/s]\u001b[A\n",
      "100%|███████████████████████████████████████| 198/198 [00:01<00:00, 164.88it/s]\u001b[A\n",
      "\n",
      " 20%|████████                                | 40/198 [00:00<00:00, 393.87it/s]\u001b[A\n",
      " 90%|███████████████████████████████████▏   | 178/197 [00:01<00:00, 161.69it/s]\u001b[A\n",
      " 81%|███████████████████████████████▌       | 158/195 [00:00<00:00, 182.68it/s]\u001b[A\n",
      " 70%|███████████████████████████▍           | 141/200 [00:00<00:00, 200.28it/s]\u001b[A\n",
      " 98%|██████████████████████████████████████▍| 192/195 [00:01<00:00, 170.51it/s]\u001b[A\n",
      "100%|███████████████████████████████████████| 197/197 [00:00<00:00, 200.91it/s]\u001b[A\n",
      "100%|███████████████████████████████████████| 193/193 [00:01<00:00, 164.08it/s]\n",
      "\n",
      " 94%|████████████████████████████████████▌  | 183/195 [00:01<00:00, 171.37it/s]\u001b[A\n",
      "Processing CSV files:  14%|██▋                | 72/500 [00:06<00:33, 12.78it/s]\u001b[A\n",
      " 86%|█████████████████████████████████▍     | 169/197 [00:00<00:00, 173.22it/s]\u001b[A\n",
      " 89%|██████████████████████████████████▋    | 178/200 [00:00<00:00, 166.35it/s]\u001b[A\n",
      " 70%|███████████████████████████▎           | 140/200 [00:00<00:00, 200.60it/s]\u001b[A\n",
      " 97%|██████████████████████████████████████ | 191/196 [00:00<00:00, 185.87it/s]\u001b[A\n",
      " 92%|███████████████████████████████████▊   | 180/196 [00:00<00:00, 180.12it/s]\u001b[A\n",
      " 42%|████████████████▋                       | 82/197 [00:00<00:00, 291.82it/s]\u001b[A\n",
      " 87%|█████████████████████████████████▉     | 169/194 [00:01<00:00, 161.81it/s]\u001b[A\n",
      "100%|███████████████████████████████████████| 195/195 [00:01<00:00, 166.05it/s]\u001b[A\n",
      " 83%|████████████████████████████████▎      | 165/199 [00:00<00:00, 193.19it/s]\u001b[A\n",
      " 47%|██████████████████▉                     | 93/197 [00:00<00:00, 212.27it/s]\u001b[A\n",
      " 85%|█████████████████████████████████      | 166/196 [00:00<00:00, 171.62it/s]\u001b[A\n",
      "100%|███████████████████████████████████████| 197/197 [00:00<00:00, 183.58it/s]\u001b[A\n",
      "100%|███████████████████████████████████████| 197/197 [00:01<00:00, 178.56it/s]\u001b[A\n",
      "100%|███████████████████████████████████████| 197/197 [00:01<00:00, 188.44it/s]\n",
      "100%|███████████████████████████████████████| 197/197 [00:01<00:00, 169.03it/s]\n",
      "\n",
      " 93%|████████████████████████████████████▍  | 185/198 [00:00<00:00, 200.27it/s]\u001b[A\n",
      " 91%|███████████████████████████████████▍   | 177/195 [00:00<00:00, 172.55it/s]\u001b[A\n",
      " 59%|███████████████████████                | 117/198 [00:00<00:00, 232.96it/s]\u001b[A\n",
      " 58%|██████████████████████▊                | 114/195 [00:00<00:00, 237.98it/s]\u001b[A\n",
      "100%|███████████████████████████████████████| 196/196 [00:01<00:00, 188.82it/s]\u001b[A\n",
      "100%|███████████████████████████████████████| 195/195 [00:01<00:00, 169.82it/s]\n",
      "100%|███████████████████████████████████████| 199/199 [00:01<00:00, 172.51it/s]\n",
      "\n",
      " 90%|███████████████████████████████████▏   | 176/195 [00:00<00:00, 164.70it/s]\u001b[A\n",
      " 98%|██████████████████████████████████████ | 195/200 [00:01<00:00, 161.84it/s]\u001b[A\n",
      " 95%|█████████████████████████████████████▏ | 188/197 [00:01<00:00, 169.41it/s]\u001b[A\n",
      " 40%|████████████████▏                       | 80/198 [00:00<00:00, 282.71it/s]\u001b[A\n",
      "100%|███████████████████████████████████████| 196/196 [00:01<00:00, 182.11it/s]\u001b[A\n",
      "\n",
      " 81%|███████████████████████████████▌       | 162/200 [00:00<00:00, 188.34it/s]\u001b[A\n",
      "100%|███████████████████████████████████████| 195/195 [00:01<00:00, 169.23it/s]\u001b[A\n",
      "\n",
      " 93%|████████████████████████████████████▎  | 185/199 [00:00<00:00, 192.09it/s]\u001b[A\n",
      "100%|███████████████████████████████████████| 195/195 [00:01<00:00, 160.50it/s]\n",
      "\n",
      " 96%|█████████████████████████████████████▍ | 188/196 [00:01<00:00, 182.63it/s]\u001b[A\n",
      " 58%|██████████████████████▌                | 114/197 [00:00<00:00, 249.84it/s]\u001b[A\n",
      "100%|███████████████████████████████████████| 197/197 [00:01<00:00, 178.06it/s]\u001b[A\n",
      "\n",
      "100%|███████████████████████████████████████| 197/197 [00:01<00:00, 160.04it/s]\u001b[A\n",
      "\n",
      " 72%|████████████████████████████▏          | 143/198 [00:00<00:00, 231.99it/s]\u001b[A\n",
      "  0%|                                                    | 0/1 [00:00<?, ?it/s]\u001b[A\n",
      "  0%|                                                    | 0/1 [00:00<?, ?it/s]\u001b[A\n",
      " 72%|████████████████████████████           | 140/195 [00:00<00:00, 233.76it/s]\u001b[A\n",
      "100%|███████████████████████████████████████| 194/194 [00:01<00:00, 154.60it/s]\u001b[A\n",
      "\n",
      "100%|███████████████████████████████████████| 198/198 [00:01<00:00, 189.79it/s]\u001b[A\n",
      "100%|███████████████████████████████████████| 195/195 [00:01<00:00, 176.82it/s]\n",
      "100%|███████████████████████████████████████| 200/200 [00:01<00:00, 164.87it/s]\n",
      "100%|███████████████████████████████████████| 199/199 [00:01<00:00, 196.02it/s]\n",
      "\n",
      "100%|███████████████████████████████████████| 197/197 [00:01<00:00, 171.02it/s]\u001b[A\n",
      "\n",
      " 56%|█████████████████████▊                 | 111/198 [00:00<00:00, 261.07it/s]\u001b[A\n",
      "  0%|                                                    | 0/1 [00:00<?, ?it/s]\u001b[A\n",
      "100%|███████████████████████████████████████| 195/195 [00:01<00:00, 170.53it/s]\u001b[A\n",
      "\n",
      "  0%|                                                    | 0/1 [00:00<?, ?it/s]\u001b[A\n",
      " 72%|███████████████████████████▉           | 141/197 [00:00<00:00, 236.24it/s]\u001b[A\n",
      "100%|███████████████████████████████████████| 196/196 [00:01<00:00, 166.79it/s]\u001b[A\n",
      "\n",
      "100%|███████████████████████████████████████| 200/200 [00:01<00:00, 190.29it/s]\u001b[A\n",
      "\n",
      " 70%|███████████████████████████▍           | 139/198 [00:00<00:00, 245.46it/s]\u001b[A\n",
      "100%|████████████████████████████████████████████| 1/1 [00:00<00:00,  3.04it/s]\u001b[A\n",
      "\n"
     ]
    },
    {
     "name": "stdout",
     "output_type": "stream",
     "text": [
      "Total files processed: 1"
     ]
    },
    {
     "name": "stderr",
     "output_type": "stream",
     "text": [
      " 85%|█████████████████████████████████      | 168/198 [00:00<00:00, 223.62it/s]"
     ]
    },
    {
     "name": "stdout",
     "output_type": "stream",
     "text": [
      "\n"
     ]
    },
    {
     "name": "stderr",
     "output_type": "stream",
     "text": [
      "\u001b[A\n",
      "  0%|                                                    | 0/1 [00:00<?, ?it/s]/w/hallb-scshelf2102/clas12/users/gmat/clas12/neutneut/analysis/neutron_ml/../../src/TrainData.py:84: FutureWarning: The default of observed=False is deprecated and will be changed to True in a future version of pandas. Pass observed=False to retain current behavior or observed=True to adopt the future default and silence this warning.\n",
      "  group_sizes = df.groupby(group_cols).size()\n",
      "\u001b[A\n",
      " 85%|█████████████████████████████████      | 165/195 [00:00<00:00, 221.05it/s]\u001b[A\n",
      "  0%|                                                    | 0/1 [00:00<?, ?it/s]\u001b[A\n",
      "  0%|                                                    | 0/1 [00:00<?, ?it/s]\u001b[A\n",
      "Processing CSV files:  16%|███                | 81/500 [00:06<00:27, 15.42it/s]\u001b[A\n",
      "  0%|                                                    | 0/1 [00:00<?, ?it/s]\u001b[A\n",
      " 84%|████████████████████████████████▊      | 166/197 [00:00<00:00, 226.82it/s]\u001b[A\n",
      "100%|███████████████████████████████████████| 200/200 [00:01<00:00, 189.42it/s]\u001b[A\n",
      "\n",
      "  0%|                                                    | 0/1 [00:00<?, ?it/s]\u001b[A\n",
      "100%|████████████████████████████████████████████| 1/1 [00:00<00:00,  4.01it/s]\u001b[A\n",
      "\n"
     ]
    },
    {
     "name": "stdout",
     "output_type": "stream",
     "text": [
      "Total files processed: 1"
     ]
    },
    {
     "name": "stderr",
     "output_type": "stream",
     "text": [
      "  0%|                                                    | 0/1 [00:00<?, ?it/s]"
     ]
    },
    {
     "name": "stdout",
     "output_type": "stream",
     "text": [
      "\n"
     ]
    },
    {
     "name": "stderr",
     "output_type": "stream",
     "text": [
      "\u001b[A\n",
      "  0%|                                                    | 0/1 [00:00<?, ?it/s]/w/hallb-scshelf2102/clas12/users/gmat/clas12/neutneut/analysis/neutron_ml/../../src/TrainData.py:84: FutureWarning: The default of observed=False is deprecated and will be changed to True in a future version of pandas. Pass observed=False to retain current behavior or observed=True to adopt the future default and silence this warning.\n",
      "  group_sizes = df.groupby(group_cols).size()\n",
      "\u001b[A\n",
      "100%|████████████████████████████████████████████| 1/1 [00:00<00:00,  6.22it/s]\u001b[A\n",
      "  0%|                                                    | 0/1 [00:00<?, ?it/s]\u001b[A\n",
      "  0%|                                                    | 0/1 [00:00<?, ?it/s]\u001b[A\n",
      "100%|████████████████████████████████████████████| 1/1 [00:00<00:00,  4.72it/s]\u001b[A\n",
      "\n"
     ]
    },
    {
     "name": "stdout",
     "output_type": "stream",
     "text": [
      "Total files processed: 1\n"
     ]
    },
    {
     "name": "stderr",
     "output_type": "stream",
     "text": [
      "100%|████████████████████████████████████████████| 1/1 [00:00<00:00,  5.54it/s]\u001b[A\n",
      "/w/hallb-scshelf2102/clas12/users/gmat/clas12/neutneut/analysis/neutron_ml/../../src/TrainData.py:84: FutureWarning: The default of observed=False is deprecated and will be changed to True in a future version of pandas. Pass observed=False to retain current behavior or observed=True to adopt the future default and silence this warning.\n",
      "  group_sizes = df.groupby(group_cols).size()\n",
      "  0%|                                                    | 0/1 [00:00<?, ?it/s]\u001b[A\n",
      " 96%|█████████████████████████████████████▌ | 188/195 [00:00<00:00, 204.38it/s]\u001b[A\n",
      "  0%|                                                    | 0/1 [00:00<?, ?it/s]\u001b[A\n",
      "  0%|                                                  | 0/198 [00:00<?, ?it/s]\u001b[A\n",
      "100%|███████████████████████████████████████| 198/198 [00:00<00:00, 226.33it/s]\u001b[A\n",
      "\n",
      "  0%|                                                    | 0/1 [00:00<?, ?it/s]\u001b[A\n",
      "100%|███████████████████████████████████████| 197/197 [00:00<00:00, 230.61it/s]\u001b[A\n",
      "100%|████████████████████████████████████████████| 1/1 [00:00<00:00,  4.02it/s]\n",
      "\n"
     ]
    },
    {
     "name": "stdout",
     "output_type": "stream",
     "text": [
      "Total files processed: 1"
     ]
    },
    {
     "name": "stderr",
     "output_type": "stream",
     "text": [
      "  0%|                                                    | 0/1 [00:00<?, ?it/s]"
     ]
    },
    {
     "name": "stdout",
     "output_type": "stream",
     "text": [
      "\n"
     ]
    },
    {
     "name": "stderr",
     "output_type": "stream",
     "text": [
      "\u001b[A\n",
      "100%|████████████████████████████████████████████| 1/1 [00:00<00:00,  5.92it/s]/w/hallb-scshelf2102/clas12/users/gmat/clas12/neutneut/analysis/neutron_ml/../../src/TrainData.py:84: FutureWarning: The default of observed=False is deprecated and will be changed to True in a future version of pandas. Pass observed=False to retain current behavior or observed=True to adopt the future default and silence this warning.\n",
      "  group_sizes = df.groupby(group_cols).size()\n",
      "\u001b[A\n",
      "  0%|                                                    | 0/1 [00:00<?, ?it/s]\u001b[A\n",
      "100%|███████████████████████████████████████| 195/195 [00:00<00:00, 219.85it/s]\u001b[A\n",
      "100%|███████████████████████████████████████| 197/197 [00:00<00:00, 248.89it/s]\n",
      "\n",
      "100%|████████████████████████████████████████████| 1/1 [00:00<00:00,  4.83it/s]\u001b[A\n"
     ]
    },
    {
     "name": "stdout",
     "output_type": "stream",
     "text": [
      "Total files processed: 1"
     ]
    },
    {
     "name": "stderr",
     "output_type": "stream",
     "text": [
      "100%|████████████████████████████████████████████| 1/1 [00:00<00:00,  4.41it/s]\n"
     ]
    },
    {
     "name": "stdout",
     "output_type": "stream",
     "text": [
      "\n",
      "Total files processed: 1\n"
     ]
    },
    {
     "name": "stderr",
     "output_type": "stream",
     "text": [
      "/w/hallb-scshelf2102/clas12/users/gmat/clas12/neutneut/analysis/neutron_ml/../../src/TrainData.py:84: FutureWarning: The default of observed=False is deprecated and will be changed to True in a future version of pandas. Pass observed=False to retain current behavior or observed=True to adopt the future default and silence this warning.\n",
      "  group_sizes = df.groupby(group_cols).size()\n",
      "/w/hallb-scshelf2102/clas12/users/gmat/clas12/neutneut/analysis/neutron_ml/../../src/TrainData.py:84: FutureWarning: The default of observed=False is deprecated and will be changed to True in a future version of pandas. Pass observed=False to retain current behavior or observed=True to adopt the future default and silence this warning.\n",
      "  group_sizes = df.groupby(group_cols).size()\n",
      "\n",
      "  0%|                                                    | 0/1 [00:00<?, ?it/s]\u001b[A\n",
      "100%|████████████████████████████████████████████| 1/1 [00:00<00:00,  5.29it/s]\u001b[A\n",
      "  0%|                                                    | 0/1 [00:00<?, ?it/s]\u001b[A\n",
      "Processing CSV files:  20%|███▌              | 100/500 [00:06<00:13, 30.68it/s]\u001b[A\n",
      " 16%|██████▍                                 | 32/198 [00:00<00:00, 312.88it/s]\u001b[A\n",
      "100%|████████████████████████████████████████████| 1/1 [00:00<00:00,  5.48it/s]\u001b[A\n",
      "100%|████████████████████████████████████████████| 1/1 [00:00<00:00,  4.28it/s]\u001b[A\n",
      "100%|████████████████████████████████████████████| 1/1 [00:00<00:00,  5.27it/s]\u001b[A\n",
      "100%|████████████████████████████████████████████| 1/1 [00:00<00:00,  4.88it/s]\u001b[A\n",
      "100%|████████████████████████████████████████████| 1/1 [00:00<00:00,  4.18it/s]\u001b[A\n",
      "  0%|                                                    | 0/1 [00:00<?, ?it/s]\u001b[A\n",
      "100%|████████████████████████████████████████████| 1/1 [00:00<00:00,  4.35it/s]\u001b[A\n",
      "100%|████████████████████████████████████████████| 1/1 [00:00<00:00,  4.36it/s]\u001b[A\n",
      "100%|████████████████████████████████████████████| 1/1 [00:00<00:00,  3.93it/s]\u001b[A\n",
      "100%|████████████████████████████████████████████| 1/1 [00:00<00:00,  4.91it/s]\u001b[A\n",
      "100%|████████████████████████████████████████████| 1/1 [00:00<00:00,  4.10it/s]\u001b[A\n",
      "100%|████████████████████████████████████████████| 1/1 [00:00<00:00,  4.89it/s]\u001b[A\n",
      "100%|████████████████████████████████████████████| 1/1 [00:00<00:00,  2.77it/s]\u001b[A\n",
      "\n"
     ]
    },
    {
     "name": "stdout",
     "output_type": "stream",
     "text": [
      "Total files processed: 1"
     ]
    },
    {
     "name": "stderr",
     "output_type": "stream",
     "text": [
      "100%|████████████████████████████████████████████| 1/1 [00:00<00:00,  4.14it/s]"
     ]
    },
    {
     "name": "stdout",
     "output_type": "stream",
     "text": [
      "\n"
     ]
    },
    {
     "name": "stderr",
     "output_type": "stream",
     "text": [
      "100%|███████████████████████████████████████| 198/198 [00:00<00:00, 222.27it/s]\n",
      "/w/hallb-scshelf2102/clas12/users/gmat/clas12/neutneut/analysis/neutron_ml/../../src/TrainData.py:84: FutureWarning: The default of observed=False is deprecated and will be changed to True in a future version of pandas. Pass observed=False to retain current behavior or observed=True to adopt the future default and silence this warning.\n",
      "  group_sizes = df.groupby(group_cols).size()\n",
      "100%|████████████████████████████████████████████| 1/1 [00:00<00:00,  2.55it/s]\n",
      "\n"
     ]
    },
    {
     "name": "stdout",
     "output_type": "stream",
     "text": [
      "Total files processed: 1"
     ]
    },
    {
     "name": "stderr",
     "output_type": "stream",
     "text": [
      "  0%|                                                    | 0/1 [00:00<?, ?it/s]"
     ]
    },
    {
     "name": "stdout",
     "output_type": "stream",
     "text": [
      "\n"
     ]
    },
    {
     "name": "stderr",
     "output_type": "stream",
     "text": [
      "\u001b[A\n",
      "100%|████████████████████████████████████████████| 1/1 [00:00<00:00,  3.74it/s]\u001b[A/w/hallb-scshelf2102/clas12/users/gmat/clas12/neutneut/analysis/neutron_ml/../../src/TrainData.py:84: FutureWarning: The default of observed=False is deprecated and will be changed to True in a future version of pandas. Pass observed=False to retain current behavior or observed=True to adopt the future default and silence this warning.\n",
      "  group_sizes = df.groupby(group_cols).size()\n",
      "100%|████████████████████████████████████████████| 1/1 [00:00<00:00,  2.98it/s]\n",
      "\n"
     ]
    },
    {
     "name": "stdout",
     "output_type": "stream",
     "text": [
      "Total files processed: 1"
     ]
    },
    {
     "name": "stderr",
     "output_type": "stream",
     "text": [
      "100%|████████████████████████████████████████████| 1/1 [00:00<00:00,  4.43it/s]"
     ]
    },
    {
     "name": "stdout",
     "output_type": "stream",
     "text": [
      "\n"
     ]
    },
    {
     "name": "stderr",
     "output_type": "stream",
     "text": [
      "/w/hallb-scshelf2102/clas12/users/gmat/clas12/neutneut/analysis/neutron_ml/../../src/TrainData.py:84: FutureWarning: The default of observed=False is deprecated and will be changed to True in a future version of pandas. Pass observed=False to retain current behavior or observed=True to adopt the future default and silence this warning.\n",
      "  group_sizes = df.groupby(group_cols).size()\n",
      "100%|████████████████████████████████████████████| 1/1 [00:00<00:00,  2.81it/s]\n",
      "\n"
     ]
    },
    {
     "name": "stdout",
     "output_type": "stream",
     "text": [
      "Total files processed: 1"
     ]
    },
    {
     "name": "stderr",
     "output_type": "stream",
     "text": [
      "100%|████████████████████████████████████████████| 1/1 [00:00<00:00,  5.13it/s]\u001b[A"
     ]
    },
    {
     "name": "stdout",
     "output_type": "stream",
     "text": [
      "\n"
     ]
    },
    {
     "name": "stderr",
     "output_type": "stream",
     "text": [
      "100%|████████████████████████████████████████████| 1/1 [00:00<00:00,  3.30it/s]\n",
      "100%|████████████████████████████████████████████| 1/1 [00:00<00:00,  3.37it/s]/w/hallb-scshelf2102/clas12/users/gmat/clas12/neutneut/analysis/neutron_ml/../../src/TrainData.py:84: FutureWarning: The default of observed=False is deprecated and will be changed to True in a future version of pandas. Pass observed=False to retain current behavior or observed=True to adopt the future default and silence this warning.\n",
      "  group_sizes = df.groupby(group_cols).size()\n"
     ]
    },
    {
     "name": "stdout",
     "output_type": "stream",
     "text": [
      "Total files processed: 1"
     ]
    },
    {
     "name": "stderr",
     "output_type": "stream",
     "text": [
      "\n"
     ]
    },
    {
     "name": "stdout",
     "output_type": "stream",
     "text": [
      "\n"
     ]
    },
    {
     "name": "stderr",
     "output_type": "stream",
     "text": [
      "\n"
     ]
    },
    {
     "name": "stdout",
     "output_type": "stream",
     "text": [
      "Total files processed: 1\n"
     ]
    },
    {
     "name": "stderr",
     "output_type": "stream",
     "text": [
      "/w/hallb-scshelf2102/clas12/users/gmat/clas12/neutneut/analysis/neutron_ml/../../src/TrainData.py:84: FutureWarning: The default of observed=False is deprecated and will be changed to True in a future version of pandas. Pass observed=False to retain current behavior or observed=True to adopt the future default and silence this warning.\n",
      "  group_sizes = df.groupby(group_cols).size()\n",
      "  0%|                                                  | 0/198 [00:00<?, ?it/s]\u001b[A/w/hallb-scshelf2102/clas12/users/gmat/clas12/neutneut/analysis/neutron_ml/../../src/TrainData.py:84: FutureWarning: The default of observed=False is deprecated and will be changed to True in a future version of pandas. Pass observed=False to retain current behavior or observed=True to adopt the future default and silence this warning.\n",
      "  group_sizes = df.groupby(group_cols).size()\n",
      "100%|████████████████████████████████████████████| 1/1 [00:00<00:00,  2.76it/s]\n"
     ]
    },
    {
     "name": "stdout",
     "output_type": "stream",
     "text": [
      "Total files processed: 1"
     ]
    },
    {
     "name": "stderr",
     "output_type": "stream",
     "text": [
      "100%|████████████████████████████████████████████| 1/1 [00:00<00:00,  2.90it/s]"
     ]
    },
    {
     "name": "stdout",
     "output_type": "stream",
     "text": [
      "\n"
     ]
    },
    {
     "name": "stderr",
     "output_type": "stream",
     "text": [
      "\n"
     ]
    },
    {
     "name": "stdout",
     "output_type": "stream",
     "text": [
      "Total files processed: 1"
     ]
    },
    {
     "name": "stderr",
     "output_type": "stream",
     "text": [
      "100%|████████████████████████████████████████████| 1/1 [00:00<00:00,  2.89it/s]\n"
     ]
    },
    {
     "name": "stdout",
     "output_type": "stream",
     "text": [
      "\n"
     ]
    },
    {
     "name": "stderr",
     "output_type": "stream",
     "text": [
      "\n"
     ]
    },
    {
     "name": "stdout",
     "output_type": "stream",
     "text": [
      "Total files processed: 1\n"
     ]
    },
    {
     "name": "stderr",
     "output_type": "stream",
     "text": [
      "/w/hallb-scshelf2102/clas12/users/gmat/clas12/neutneut/analysis/neutron_ml/../../src/TrainData.py:84: FutureWarning: The default of observed=False is deprecated and will be changed to True in a future version of pandas. Pass observed=False to retain current behavior or observed=True to adopt the future default and silence this warning.\n",
      "  group_sizes = df.groupby(group_cols).size()\n",
      " 32%|████████████▉                           | 64/198 [00:00<00:00, 243.00it/s]/w/hallb-scshelf2102/clas12/users/gmat/clas12/neutneut/analysis/neutron_ml/../../src/TrainData.py:84: FutureWarning: The default of observed=False is deprecated and will be changed to True in a future version of pandas. Pass observed=False to retain current behavior or observed=True to adopt the future default and silence this warning.\n",
      "  group_sizes = df.groupby(group_cols).size()\n",
      "\u001b[A/w/hallb-scshelf2102/clas12/users/gmat/clas12/neutneut/analysis/neutron_ml/../../src/TrainData.py:84: FutureWarning: The default of observed=False is deprecated and will be changed to True in a future version of pandas. Pass observed=False to retain current behavior or observed=True to adopt the future default and silence this warning.\n",
      "  group_sizes = df.groupby(group_cols).size()\n",
      "100%|████████████████████████████████████████████| 1/1 [00:00<00:00,  2.69it/s]\n",
      "\n"
     ]
    },
    {
     "name": "stdout",
     "output_type": "stream",
     "text": [
      "Total files processed: 1\n"
     ]
    },
    {
     "name": "stderr",
     "output_type": "stream",
     "text": [
      "  0%|                                                    | 0/1 [00:00<?, ?it/s]\u001b[A\n",
      "  0%|                                                    | 0/1 [00:00<?, ?it/s]/w/hallb-scshelf2102/clas12/users/gmat/clas12/neutneut/analysis/neutron_ml/../../src/TrainData.py:84: FutureWarning: The default of observed=False is deprecated and will be changed to True in a future version of pandas. Pass observed=False to retain current behavior or observed=True to adopt the future default and silence this warning.\n",
      "  group_sizes = df.groupby(group_cols).size()\n",
      "100%|████████████████████████████████████████████| 1/1 [00:00<00:00,  3.02it/s]\n"
     ]
    },
    {
     "name": "stdout",
     "output_type": "stream",
     "text": [
      "Total files processed: 1\n"
     ]
    },
    {
     "name": "stderr",
     "output_type": "stream",
     "text": [
      "/w/hallb-scshelf2102/clas12/users/gmat/clas12/neutneut/analysis/neutron_ml/../../src/TrainData.py:84: FutureWarning: The default of observed=False is deprecated and will be changed to True in a future version of pandas. Pass observed=False to retain current behavior or observed=True to adopt the future default and silence this warning.\n",
      "  group_sizes = df.groupby(group_cols).size()\n",
      "100%|████████████████████████████████████████████| 1/1 [00:00<00:00,  2.69it/s]\n",
      "100%|████████████████████████████████████████████| 1/1 [00:00<00:00,  2.95it/s]"
     ]
    },
    {
     "name": "stdout",
     "output_type": "stream",
     "text": [
      "Total files processed: 1"
     ]
    },
    {
     "name": "stderr",
     "output_type": "stream",
     "text": [
      "\n"
     ]
    },
    {
     "name": "stdout",
     "output_type": "stream",
     "text": [
      "\n"
     ]
    },
    {
     "name": "stderr",
     "output_type": "stream",
     "text": [
      "\n"
     ]
    },
    {
     "name": "stdout",
     "output_type": "stream",
     "text": [
      "Total files processed: 1"
     ]
    },
    {
     "name": "stderr",
     "output_type": "stream",
     "text": [
      "  0%|                                                    | 0/1 [00:00<?, ?it/s]"
     ]
    },
    {
     "name": "stdout",
     "output_type": "stream",
     "text": [
      "\n"
     ]
    },
    {
     "name": "stderr",
     "output_type": "stream",
     "text": [
      "/w/hallb-scshelf2102/clas12/users/gmat/clas12/neutneut/analysis/neutron_ml/../../src/TrainData.py:84: FutureWarning: The default of observed=False is deprecated and will be changed to True in a future version of pandas. Pass observed=False to retain current behavior or observed=True to adopt the future default and silence this warning.\n",
      "  group_sizes = df.groupby(group_cols).size()\n",
      "100%|████████████████████████████████████████████| 1/1 [00:00<00:00,  2.79it/s]/w/hallb-scshelf2102/clas12/users/gmat/clas12/neutneut/analysis/neutron_ml/../../src/TrainData.py:84: FutureWarning: The default of observed=False is deprecated and will be changed to True in a future version of pandas. Pass observed=False to retain current behavior or observed=True to adopt the future default and silence this warning.\n",
      "  group_sizes = df.groupby(group_cols).size()\n",
      "\n"
     ]
    },
    {
     "name": "stdout",
     "output_type": "stream",
     "text": [
      "Total files processed: 1"
     ]
    },
    {
     "name": "stderr",
     "output_type": "stream",
     "text": [
      "\n"
     ]
    },
    {
     "name": "stdout",
     "output_type": "stream",
     "text": [
      "\n"
     ]
    },
    {
     "name": "stderr",
     "output_type": "stream",
     "text": [
      "100%|████████████████████████████████████████████| 1/1 [00:00<00:00,  2.50it/s]\u001b[A\n",
      "/w/hallb-scshelf2102/clas12/users/gmat/clas12/neutneut/analysis/neutron_ml/../../src/TrainData.py:84: FutureWarning: The default of observed=False is deprecated and will be changed to True in a future version of pandas. Pass observed=False to retain current behavior or observed=True to adopt the future default and silence this warning.\n",
      "  group_sizes = df.groupby(group_cols).size()\n"
     ]
    },
    {
     "name": "stdout",
     "output_type": "stream",
     "text": [
      "Total files processed: 1"
     ]
    },
    {
     "name": "stderr",
     "output_type": "stream",
     "text": [
      "\n"
     ]
    },
    {
     "name": "stdout",
     "output_type": "stream",
     "text": [
      "\n"
     ]
    },
    {
     "name": "stderr",
     "output_type": "stream",
     "text": [
      "100%|████████████████████████████████████████████| 1/1 [00:00<00:00,  6.24it/s]\u001b[A/w/hallb-scshelf2102/clas12/users/gmat/clas12/neutneut/analysis/neutron_ml/../../src/TrainData.py:84: FutureWarning: The default of observed=False is deprecated and will be changed to True in a future version of pandas. Pass observed=False to retain current behavior or observed=True to adopt the future default and silence this warning.\n",
      "  group_sizes = df.groupby(group_cols).size()\n",
      "\n",
      "100%|████████████████████████████████████████████| 1/1 [00:00<00:00,  3.74it/s]\u001b[A\n",
      "100%|████████████████████████████████████████████| 1/1 [00:00<00:00,  2.47it/s]\u001b[A\n"
     ]
    },
    {
     "name": "stdout",
     "output_type": "stream",
     "text": [
      "Total files processed: 1"
     ]
    },
    {
     "name": "stderr",
     "output_type": "stream",
     "text": [
      "\n"
     ]
    },
    {
     "name": "stdout",
     "output_type": "stream",
     "text": [
      "\n"
     ]
    },
    {
     "name": "stderr",
     "output_type": "stream",
     "text": [
      "  0%|                                                  | 0/197 [00:00<?, ?it/s]\u001b[A/w/hallb-scshelf2102/clas12/users/gmat/clas12/neutneut/analysis/neutron_ml/../../src/TrainData.py:84: FutureWarning: The default of observed=False is deprecated and will be changed to True in a future version of pandas. Pass observed=False to retain current behavior or observed=True to adopt the future default and silence this warning.\n",
      "  group_sizes = df.groupby(group_cols).size()\n",
      "\n",
      "100%|████████████████████████████████████████████| 1/1 [00:00<00:00,  2.76it/s]\u001b[A\n",
      "100%|████████████████████████████████████████████| 1/1 [00:00<00:00,  3.00it/s]"
     ]
    },
    {
     "name": "stdout",
     "output_type": "stream",
     "text": [
      "Total files processed: 1"
     ]
    },
    {
     "name": "stderr",
     "output_type": "stream",
     "text": [
      "\n"
     ]
    },
    {
     "name": "stdout",
     "output_type": "stream",
     "text": [
      "\n",
      "Total files processed: 1"
     ]
    },
    {
     "name": "stderr",
     "output_type": "stream",
     "text": [
      "\n"
     ]
    },
    {
     "name": "stdout",
     "output_type": "stream",
     "text": [
      "\n"
     ]
    },
    {
     "name": "stderr",
     "output_type": "stream",
     "text": [
      "  0%|                                                  | 0/198 [00:00<?, ?it/s]/w/hallb-scshelf2102/clas12/users/gmat/clas12/neutneut/analysis/neutron_ml/../../src/TrainData.py:84: FutureWarning: The default of observed=False is deprecated and will be changed to True in a future version of pandas. Pass observed=False to retain current behavior or observed=True to adopt the future default and silence this warning.\n",
      "  group_sizes = df.groupby(group_cols).size()\n",
      "\u001b[A/w/hallb-scshelf2102/clas12/users/gmat/clas12/neutneut/analysis/neutron_ml/../../src/TrainData.py:84: FutureWarning: The default of observed=False is deprecated and will be changed to True in a future version of pandas. Pass observed=False to retain current behavior or observed=True to adopt the future default and silence this warning.\n",
      "  group_sizes = df.groupby(group_cols).size()\n",
      "\n",
      " 45%|██████████████████▏                     | 90/198 [00:00<00:00, 234.29it/s]\u001b[A\n",
      "100%|████████████████████████████████████████████| 1/1 [00:00<00:00,  2.71it/s]\u001b[A\n",
      "100%|████████████████████████████████████████████| 1/1 [00:00<00:00,  3.61it/s]"
     ]
    },
    {
     "name": "stdout",
     "output_type": "stream",
     "text": [
      "Total files processed: 1"
     ]
    },
    {
     "name": "stderr",
     "output_type": "stream",
     "text": [
      "\n"
     ]
    },
    {
     "name": "stdout",
     "output_type": "stream",
     "text": [
      "\n"
     ]
    },
    {
     "name": "stderr",
     "output_type": "stream",
     "text": [
      "100%|████████████████████████████████████████████| 1/1 [00:00<00:00,  2.62it/s]"
     ]
    },
    {
     "name": "stdout",
     "output_type": "stream",
     "text": [
      "Total files processed: 1"
     ]
    },
    {
     "name": "stderr",
     "output_type": "stream",
     "text": [
      "\n"
     ]
    },
    {
     "name": "stdout",
     "output_type": "stream",
     "text": [
      "\n"
     ]
    },
    {
     "name": "stderr",
     "output_type": "stream",
     "text": [
      "/w/hallb-scshelf2102/clas12/users/gmat/clas12/neutneut/analysis/neutron_ml/../../src/TrainData.py:84: FutureWarning: The default of observed=False is deprecated and will be changed to True in a future version of pandas. Pass observed=False to retain current behavior or observed=True to adopt the future default and silence this warning.\n",
      "  group_sizes = df.groupby(group_cols).size()\n",
      "\n",
      "/w/hallb-scshelf2102/clas12/users/gmat/clas12/neutneut/analysis/neutron_ml/../../src/TrainData.py:84: FutureWarning: The default of observed=False is deprecated and will be changed to True in a future version of pandas. Pass observed=False to retain current behavior or observed=True to adopt the future default and silence this warning.\n",
      "  group_sizes = df.groupby(group_cols).size()\n"
     ]
    },
    {
     "name": "stdout",
     "output_type": "stream",
     "text": [
      "Total files processed: 1\n"
     ]
    },
    {
     "name": "stderr",
     "output_type": "stream",
     "text": [
      "/w/hallb-scshelf2102/clas12/users/gmat/clas12/neutneut/analysis/neutron_ml/../../src/TrainData.py:84: FutureWarning: The default of observed=False is deprecated and will be changed to True in a future version of pandas. Pass observed=False to retain current behavior or observed=True to adopt the future default and silence this warning.\n",
      "  group_sizes = df.groupby(group_cols).size()\n",
      "  0%|                                                  | 0/198 [00:00<?, ?it/s]\u001b[A\n",
      " 18%|███████                                 | 35/198 [00:00<00:00, 346.46it/s]\u001b[A\n",
      "100%|████████████████████████████████████████████| 1/1 [00:00<00:00,  6.08it/s]\u001b[A\n",
      "  0%|                                                  | 0/196 [00:00<?, ?it/s]\u001b[A\n",
      "  0%|                                                  | 0/196 [00:00<?, ?it/s]\u001b[A\n",
      "100%|████████████████████████████████████████████| 1/1 [00:00<00:00,  3.41it/s]\u001b[A\n"
     ]
    },
    {
     "name": "stdout",
     "output_type": "stream",
     "text": [
      "Total files processed: 1\n"
     ]
    },
    {
     "name": "stderr",
     "output_type": "stream",
     "text": [
      "/w/hallb-scshelf2102/clas12/users/gmat/clas12/neutneut/analysis/neutron_ml/../../src/TrainData.py:84: FutureWarning: The default of observed=False is deprecated and will be changed to True in a future version of pandas. Pass observed=False to retain current behavior or observed=True to adopt the future default and silence this warning.\n",
      "  group_sizes = df.groupby(group_cols).size()\n",
      "\n",
      "  0%|                                                  | 0/196 [00:00<?, ?it/s]\u001b[A\n",
      "  0%|                                                    | 0/1 [00:00<?, ?it/s]\u001b[A\n",
      "  0%|                                                  | 0/198 [00:00<?, ?it/s]\u001b[A\n",
      "  0%|                                                  | 0/197 [00:00<?, ?it/s]\u001b[A\n",
      "  0%|                                                  | 0/196 [00:00<?, ?it/s]\u001b[A\n",
      "100%|████████████████████████████████████████████| 1/1 [00:00<00:00,  4.97it/s]\u001b[A\n",
      "  0%|                                                  | 0/199 [00:00<?, ?it/s]\u001b[A\n",
      "  0%|                                                  | 0/199 [00:00<?, ?it/s]\u001b[A\n",
      "  0%|                                                  | 0/198 [00:00<?, ?it/s]\u001b[A\n",
      " 21%|████████▎                               | 41/197 [00:00<00:00, 405.82it/s]\u001b[A\n",
      " 20%|███████▉                                | 39/198 [00:00<00:00, 388.58it/s]\u001b[A\n",
      "100%|████████████████████████████████████████████| 1/1 [00:00<00:00,  4.97it/s]\u001b[A\n",
      "  0%|                                                  | 0/200 [00:00<?, ?it/s]\u001b[A\n",
      " 20%|████████                                | 40/199 [00:00<00:00, 392.17it/s]\u001b[A\n",
      "  0%|                                                  | 0/196 [00:00<?, ?it/s]\u001b[A\n",
      "  0%|                                                  | 0/199 [00:00<?, ?it/s]\u001b[A\n",
      "  0%|                                                  | 0/196 [00:00<?, ?it/s]\u001b[A\n",
      "100%|████████████████████████████████████████████| 1/1 [00:00<00:00,  5.38it/s]\u001b[A\n",
      " 35%|██████████████▏                         | 70/198 [00:00<00:00, 298.49it/s]\u001b[A\n",
      " 19%|███████▍                                | 37/198 [00:00<00:00, 367.75it/s]\u001b[A\n",
      " 61%|███████████████████████▋               | 120/198 [00:00<00:00, 255.33it/s]\u001b[A\n",
      "100%|████████████████████████████████████████████| 1/1 [00:00<00:00,  4.71it/s]\u001b[A\n",
      "100%|████████████████████████████████████████████| 1/1 [00:00<00:00,  5.61it/s]\u001b[A\n",
      "100%|████████████████████████████████████████████| 1/1 [00:00<00:00,  3.03it/s]\u001b[A\n"
     ]
    },
    {
     "name": "stdout",
     "output_type": "stream",
     "text": [
      "Total files processed: 1"
     ]
    },
    {
     "name": "stderr",
     "output_type": "stream",
     "text": [
      "\n"
     ]
    },
    {
     "name": "stdout",
     "output_type": "stream",
     "text": [
      "\n"
     ]
    },
    {
     "name": "stderr",
     "output_type": "stream",
     "text": [
      " 19%|███████▊                                | 38/196 [00:00<00:00, 375.71it/s]\u001b[A\n",
      "/w/hallb-scshelf2102/clas12/users/gmat/clas12/neutneut/analysis/neutron_ml/../../src/TrainData.py:84: FutureWarning: The default of observed=False is deprecated and will be changed to True in a future version of pandas. Pass observed=False to retain current behavior or observed=True to adopt the future default and silence this warning.\n",
      "  group_sizes = df.groupby(group_cols).size()\n",
      " 21%|████████▍                               | 41/194 [00:00<00:00, 408.56it/s]\u001b[A\n",
      "  0%|                                                  | 0/196 [00:00<?, ?it/s]\u001b[A\n",
      " 19%|███████▌                                | 37/196 [00:00<00:00, 366.65it/s]\u001b[A\n",
      "100%|████████████████████████████████████████████| 1/1 [00:00<00:00,  2.60it/s]\u001b[A\n",
      "100%|████████████████████████████████████████████| 1/1 [00:00<00:00,  2.16it/s]"
     ]
    },
    {
     "name": "stdout",
     "output_type": "stream",
     "text": [
      "Total files processed: 1"
     ]
    },
    {
     "name": "stderr",
     "output_type": "stream",
     "text": [
      "\n"
     ]
    },
    {
     "name": "stdout",
     "output_type": "stream",
     "text": [
      "\n",
      "Total files processed: 1"
     ]
    },
    {
     "name": "stderr",
     "output_type": "stream",
     "text": [
      "\n"
     ]
    },
    {
     "name": "stdout",
     "output_type": "stream",
     "text": [
      "\n"
     ]
    },
    {
     "name": "stderr",
     "output_type": "stream",
     "text": [
      "/w/hallb-scshelf2102/clas12/users/gmat/clas12/neutneut/analysis/neutron_ml/../../src/TrainData.py:84: FutureWarning: The default of observed=False is deprecated and will be changed to True in a future version of pandas. Pass observed=False to retain current behavior or observed=True to adopt the future default and silence this warning.\n",
      "  group_sizes = df.groupby(group_cols).size()\n",
      "/w/hallb-scshelf2102/clas12/users/gmat/clas12/neutneut/analysis/neutron_ml/../../src/TrainData.py:84: FutureWarning: The default of observed=False is deprecated and will be changed to True in a future version of pandas. Pass observed=False to retain current behavior or observed=True to adopt the future default and silence this warning.\n",
      "  group_sizes = df.groupby(group_cols).size()\n",
      "  0%|                                                  | 0/194 [00:00<?, ?it/s]\u001b[A\n",
      "  0%|                                                  | 0/197 [00:00<?, ?it/s]\u001b[A\n",
      " 21%|████████▌                               | 42/197 [00:00<00:00, 413.43it/s]\u001b[A\n",
      " 21%|████████▍                               | 42/199 [00:00<00:00, 413.23it/s]\u001b[A\n",
      " 42%|████████████████▋                       | 82/197 [00:00<00:00, 289.67it/s]\u001b[A\n",
      " 40%|████████████████                        | 80/199 [00:00<00:00, 320.16it/s]\u001b[A\n",
      " 16%|██████▍                                 | 32/200 [00:00<00:00, 310.68it/s]\u001b[A\n",
      " 39%|███████████████▊                        | 78/198 [00:00<00:00, 269.63it/s]\u001b[A\n",
      " 21%|████████▎                               | 41/196 [00:00<00:00, 401.97it/s]\u001b[A\n",
      " 22%|████████▊                               | 44/199 [00:00<00:00, 437.84it/s]\u001b[A\n",
      "100%|████████████████████████████████████████████| 1/1 [00:00<00:00,  2.15it/s]\u001b[A\n",
      "100%|████████████████████████████████████████████| 1/1 [00:00<00:00,  1.59it/s]"
     ]
    },
    {
     "name": "stdout",
     "output_type": "stream",
     "text": [
      "Total files processed: 1\n"
     ]
    },
    {
     "name": "stderr",
     "output_type": "stream",
     "text": [
      "\n",
      "\n"
     ]
    },
    {
     "name": "stdout",
     "output_type": "stream",
     "text": [
      "Total files processed: 1"
     ]
    },
    {
     "name": "stderr",
     "output_type": "stream",
     "text": [
      "100%|████████████████████████████████████████████| 1/1 [00:00<00:00,  4.76it/s]"
     ]
    },
    {
     "name": "stdout",
     "output_type": "stream",
     "text": [
      "\n"
     ]
    },
    {
     "name": "stderr",
     "output_type": "stream",
     "text": [
      "/w/hallb-scshelf2102/clas12/users/gmat/clas12/neutneut/analysis/neutron_ml/../../src/TrainData.py:84: FutureWarning: The default of observed=False is deprecated and will be changed to True in a future version of pandas. Pass observed=False to retain current behavior or observed=True to adopt the future default and silence this warning.\n",
      "  group_sizes = df.groupby(group_cols).size()\n",
      "\u001b[A/w/hallb-scshelf2102/clas12/users/gmat/clas12/neutneut/analysis/neutron_ml/../../src/TrainData.py:84: FutureWarning: The default of observed=False is deprecated and will be changed to True in a future version of pandas. Pass observed=False to retain current behavior or observed=True to adopt the future default and silence this warning.\n",
      "  group_sizes = df.groupby(group_cols).size()\n",
      "\n",
      "  0%|                                                  | 0/198 [00:00<?, ?it/s]\u001b[A\n",
      " 74%|████████████████████████████▉          | 147/198 [00:00<00:00, 179.83it/s]\u001b[A\n",
      "  0%|                                                  | 0/198 [00:00<?, ?it/s]\u001b[A\n",
      " 37%|██████████████▉                         | 74/198 [00:00<00:00, 239.10it/s]\u001b[A\n",
      " 41%|████████████████▎                       | 80/196 [00:00<00:00, 241.71it/s]\u001b[A\n",
      " 39%|███████████████▌                        | 76/196 [00:00<00:00, 227.96it/s]\u001b[A\n",
      " 42%|████████████████▉                       | 82/194 [00:00<00:00, 244.14it/s]\u001b[A\n",
      " 38%|███████████████                         | 74/196 [00:00<00:00, 218.35it/s]\u001b[A\n",
      " 22%|████████▉                               | 44/196 [00:00<00:00, 435.65it/s]\u001b[A\n",
      "100%|████████████████████████████████████████████| 1/1 [00:00<00:00,  1.67it/s]\u001b[A\n"
     ]
    },
    {
     "name": "stdout",
     "output_type": "stream",
     "text": [
      "Total files processed: 1"
     ]
    },
    {
     "name": "stderr",
     "output_type": "stream",
     "text": [
      "\n"
     ]
    },
    {
     "name": "stdout",
     "output_type": "stream",
     "text": [
      "\n"
     ]
    },
    {
     "name": "stderr",
     "output_type": "stream",
     "text": [
      "  0%|                                                  | 0/197 [00:00<?, ?it/s]\u001b[A/w/hallb-scshelf2102/clas12/users/gmat/clas12/neutneut/analysis/neutron_ml/../../src/TrainData.py:84: FutureWarning: The default of observed=False is deprecated and will be changed to True in a future version of pandas. Pass observed=False to retain current behavior or observed=True to adopt the future default and silence this warning.\n",
      "  group_sizes = df.groupby(group_cols).size()\n",
      "\n",
      "  7%|██▉                                      | 14/199 [00:00<00:04, 45.90it/s]\u001b[A\n",
      " 10%|████▏                                    | 20/196 [00:00<00:02, 61.45it/s]\u001b[A\n",
      " 57%|██████████████████████▎                | 113/197 [00:00<00:00, 216.04it/s]\u001b[A\n",
      " 10%|████▏                                    | 20/198 [00:00<00:02, 64.19it/s]\u001b[A\n",
      " 57%|██████████████████████▏                | 113/199 [00:00<00:00, 225.78it/s]\u001b[A\n",
      " 43%|█████████████████                       | 84/197 [00:00<00:00, 219.98it/s]\u001b[A\n",
      " 24%|█████████▌                              | 47/197 [00:00<00:00, 469.32it/s]\u001b[A\n",
      " 42%|████████████████▉                       | 84/199 [00:00<00:00, 226.88it/s]\u001b[A\n",
      " 32%|████████████▊                           | 64/200 [00:00<00:00, 187.46it/s]\u001b[A\n",
      "  0%|                                                  | 0/196 [00:00<?, ?it/s]\u001b[A\n",
      " 42%|████████████████▋                       | 82/196 [00:00<00:00, 238.11it/s]\u001b[A\n",
      "  0%|                                                  | 0/195 [00:00<?, ?it/s]\u001b[A\n",
      " 85%|█████████████████████████████████      | 168/198 [00:01<00:00, 148.05it/s]\u001b[A\n",
      " 38%|███████████████                         | 74/196 [00:00<00:00, 199.65it/s]\u001b[A\n",
      " 55%|█████████████████████▍                 | 108/196 [00:00<00:00, 197.40it/s]\u001b[A\n",
      " 51%|███████████████████▉                   | 101/198 [00:00<00:00, 126.50it/s]\u001b[A\n",
      " 24%|█████████▍                              | 47/198 [00:00<00:00, 466.22it/s]\u001b[A\n",
      " 23%|█████████                               | 45/198 [00:00<00:00, 443.32it/s]\u001b[A\n",
      " 51%|███████████████████▉                   | 100/196 [00:00<00:00, 178.76it/s]\u001b[A\n",
      "  0%|                                                  | 0/197 [00:00<?, ?it/s]\u001b[A\n",
      " 52%|████████████████████▎                  | 102/196 [00:00<00:00, 170.56it/s]\u001b[A\n",
      " 10%|███▉                                     | 19/199 [00:00<00:04, 40.58it/s]\u001b[A\n",
      "100%|████████████████████████████████████████████| 1/1 [00:00<00:00,  1.39it/s]\u001b[A\n",
      "\n"
     ]
    },
    {
     "name": "stdout",
     "output_type": "stream",
     "text": [
      "Total files processed: 1"
     ]
    },
    {
     "name": "stderr",
     "output_type": "stream",
     "text": [
      " 14%|█████▌                                   | 27/198 [00:00<00:03, 55.42it/s]"
     ]
    },
    {
     "name": "stdout",
     "output_type": "stream",
     "text": [
      "\n"
     ]
    },
    {
     "name": "stderr",
     "output_type": "stream",
     "text": [
      "\u001b[A\n",
      "/w/hallb-scshelf2102/clas12/users/gmat/clas12/neutneut/analysis/neutron_ml/../../src/TrainData.py:84: FutureWarning: The default of observed=False is deprecated and will be changed to True in a future version of pandas. Pass observed=False to retain current behavior or observed=True to adopt the future default and silence this warning.\n",
      "  group_sizes = df.groupby(group_cols).size()\n",
      "  0%|                                                  | 0/199 [00:00<?, ?it/s]\u001b[A\n",
      " 45%|█████████████████▉                      | 88/196 [00:00<00:00, 249.73it/s]\u001b[A\n",
      "  4%|█▋                                        | 8/194 [00:00<00:06, 28.25it/s]\u001b[A\n",
      " 70%|███████████████████████████            | 137/197 [00:00<00:00, 176.61it/s]\u001b[A\n",
      " 20%|████████                                | 40/197 [00:00<00:00, 393.89it/s]\u001b[A\n",
      " 70%|███████████████████████████▏           | 139/199 [00:00<00:00, 184.16it/s]\u001b[A\n",
      " 43%|█████████████████▏                      | 86/200 [00:00<00:00, 154.87it/s]\u001b[A\n",
      " 18%|███████▏                                | 35/196 [00:00<00:00, 346.89it/s]\u001b[A\n",
      " 55%|█████████████████████▎                 | 108/198 [00:00<00:00, 117.42it/s]\u001b[A\n",
      " 17%|██████▉                                 | 34/195 [00:00<00:00, 338.53it/s]\u001b[A\n",
      " 66%|█████████████████████████▊             | 130/196 [00:00<00:00, 159.67it/s]\u001b[A\n",
      " 50%|████████████████████                    | 98/196 [00:00<00:00, 150.36it/s]\u001b[A\n",
      " 61%|███████████████████████▊               | 121/198 [00:01<00:00, 114.64it/s]\u001b[A\n",
      " 44%|█████████████████▋                      | 88/199 [00:00<00:00, 131.18it/s]\u001b[A\n",
      " 61%|███████████████████████▉               | 120/196 [00:00<00:00, 139.43it/s]\u001b[A\n",
      " 51%|███████████████████▉                   | 101/198 [00:00<00:00, 107.42it/s]\u001b[A\n",
      " 12%|████▋                                    | 23/199 [00:00<00:05, 30.78it/s]\u001b[A\n",
      " 17%|██████▉                                  | 33/196 [00:00<00:03, 42.55it/s]\u001b[A\n",
      " 17%|██████▊                                  | 33/198 [00:00<00:03, 43.53it/s]\u001b[A\n",
      " 62%|████████████████████████▎              | 122/196 [00:00<00:00, 130.80it/s]\u001b[A\n",
      "  6%|██▎                                      | 11/194 [00:00<00:08, 20.73it/s]\u001b[A\n",
      " 57%|██████████████████████▎                | 111/194 [00:00<00:00, 114.39it/s]\u001b[A\n",
      " 56%|█████████████████████▊                 | 111/198 [00:00<00:00, 119.51it/s]\u001b[A\n",
      "  0%|                                                  | 0/196 [00:00<?, ?it/s]\u001b[A\n",
      " 22%|████████▉                               | 44/197 [00:00<00:00, 430.93it/s]\u001b[A\n",
      " 60%|███████████████████████▍               | 118/196 [00:00<00:00, 168.42it/s]\u001b[A\n",
      " 80%|███████████████████████████████        | 157/197 [00:01<00:00, 131.01it/s]\u001b[A\n",
      " 80%|███████████████████████████████▎       | 160/199 [00:01<00:00, 135.61it/s]\u001b[A\n",
      " 56%|█████████████████████▉                 | 112/199 [00:00<00:00, 115.98it/s]\u001b[A\n",
      " 56%|█████████████████████▉                 | 111/197 [00:00<00:00, 108.60it/s]\u001b[A\n",
      " 64%|█████████████████████████              | 127/198 [00:01<00:00, 110.37it/s]\u001b[A\n",
      "  0%|                                                  | 0/197 [00:00<?, ?it/s]\u001b[A\n",
      " 41%|████████████████▏                       | 80/197 [00:00<00:00, 171.19it/s]\u001b[A\n",
      "  0%|                                                  | 0/195 [00:00<?, ?it/s]\u001b[A\n",
      " 71%|███████████████████████████▋           | 139/196 [00:00<00:00, 151.25it/s]\u001b[A\n",
      " 76%|█████████████████████████████▍         | 148/196 [00:01<00:00, 126.84it/s]\u001b[A\n",
      " 36%|██████████████▎                         | 70/196 [00:00<00:00, 183.54it/s]\u001b[A\n",
      " 48%|███████████████████                     | 94/197 [00:00<00:00, 135.87it/s]\u001b[A\n",
      " 59%|███████████████████████                | 116/196 [00:00<00:00, 118.40it/s]\u001b[A\n",
      " 69%|██████████████████████████▉            | 137/198 [00:01<00:00, 100.20it/s]\u001b[A\n",
      " 13%|█████▎                                   | 26/199 [00:00<00:06, 25.27it/s]\u001b[A\n",
      " 35%|█████████████▉                          | 68/195 [00:00<00:00, 182.89it/s]\u001b[A\n",
      " 19%|███████▉                                 | 38/196 [00:01<00:04, 36.77it/s]\u001b[A\n",
      " 94%|█████████████████████████████████████▌  | 186/198 [00:01<00:00, 84.13it/s]\u001b[A\n",
      " 19%|███████▊                                 | 38/198 [00:01<00:04, 37.38it/s]\u001b[A\n",
      "  7%|██▋                                      | 13/194 [00:00<00:10, 17.66it/s]\u001b[A\n",
      " 69%|███████████████████████████            | 136/196 [00:01<00:00, 114.79it/s]\u001b[A\n",
      "  8%|███▏                                     | 15/194 [00:00<00:11, 16.21it/s]\u001b[A\n",
      " 60%|███████████████████████▊                | 118/198 [00:01<00:00, 98.01it/s]\u001b[A\n",
      " 70%|███████████████████████████▍           | 138/196 [00:01<00:00, 112.76it/s]\u001b[A\n",
      " 66%|█████████████████████████▉             | 129/194 [00:01<00:00, 108.53it/s]\u001b[A\n",
      " 66%|█████████████████████████▌             | 130/198 [00:01<00:00, 111.12it/s]\u001b[A\n",
      " 88%|██████████████████████████████████▏    | 173/197 [00:01<00:00, 120.79it/s]\u001b[A\n",
      " 65%|█████████████████████████▍             | 130/199 [00:01<00:00, 117.41it/s]\u001b[A\n",
      " 88%|██████████████████████████████████▍    | 176/199 [00:01<00:00, 126.58it/s]\u001b[A\n",
      " 56%|█████████████████████▉                 | 110/196 [00:01<00:00, 110.83it/s]\u001b[A\n",
      " 65%|█████████████████████████▌             | 129/197 [00:01<00:00, 112.58it/s]\u001b[A\n",
      " 72%|████████████████████████████▏          | 143/198 [00:01<00:00, 108.48it/s]\u001b[A\n",
      " 45%|██████████████████▏                     | 90/198 [00:00<00:00, 126.64it/s]\u001b[A\n",
      " 10%|████                                     | 20/199 [00:00<00:02, 65.42it/s]\u001b[A\n",
      " 47%|██████████████████▉                     | 94/198 [00:00<00:00, 127.61it/s]\u001b[A\n",
      " 19%|███████▌                                | 37/196 [00:00<00:00, 365.21it/s]\u001b[A\n",
      " 83%|████████████████████████████████▍      | 163/196 [00:01<00:00, 120.18it/s]\u001b[A\n",
      " 45%|█████████████████▊                      | 88/197 [00:00<00:00, 233.81it/s]\u001b[A\n",
      " 15%|█████▉                                   | 29/199 [00:01<00:07, 23.98it/s]\u001b[A\n",
      " 21%|████████▊                                | 42/196 [00:01<00:04, 34.40it/s]\u001b[A\n",
      " 76%|██████████████████████████████▎         | 150/198 [00:01<00:00, 95.26it/s]\u001b[A\n",
      " 56%|█████████████████████▉                 | 112/199 [00:01<00:00, 118.64it/s]\u001b[A\n",
      " 66%|█████████████████████████▊             | 130/196 [00:01<00:00, 106.80it/s]\u001b[A\n",
      " 47%|██████████████████▉                     | 93/196 [00:00<00:00, 158.64it/s]\u001b[A\n",
      " 21%|████████▎                               | 41/197 [00:00<00:00, 408.65it/s]\u001b[A\n",
      " 60%|███████████████████████▌               | 119/197 [00:00<00:00, 134.63it/s]\u001b[A\n",
      " 52%|████████████████████▊                   | 104/200 [00:01<00:01, 76.33it/s]\u001b[A\n",
      " 94%|████████████████████████████████████▌  | 184/196 [00:00<00:00, 215.44it/s]\u001b[A\n",
      " 47%|██████████████████▋                     | 91/195 [00:00<00:00, 153.81it/s]\u001b[A\n",
      " 76%|█████████████████████████████▋         | 149/196 [00:01<00:00, 101.18it/s]\u001b[A\n",
      " 77%|██████████████████████████████         | 151/196 [00:01<00:00, 102.15it/s]\u001b[A\n",
      " 67%|██████████████████████████▋             | 132/198 [00:01<00:00, 91.33it/s]\u001b[A\n",
      " 74%|████████████████████████████▉          | 144/194 [00:01<00:00, 104.38it/s]\u001b[A\n",
      "  0%|                                                  | 0/197 [00:00<?, ?it/s]\u001b[A\n",
      " 73%|████████████████████████████▌          | 145/198 [00:01<00:00, 108.92it/s]\u001b[A\n",
      " 95%|█████████████████████████████████████▏ | 190/199 [00:01<00:00, 120.83it/s]\u001b[A\n",
      " 73%|████████████████████████████▌          | 146/199 [00:01<00:00, 116.87it/s]\u001b[A\n",
      " 95%|█████████████████████████████████████  | 187/197 [00:01<00:00, 113.88it/s]\u001b[A\n",
      " 14%|█████▌                                   | 27/199 [00:00<00:02, 64.99it/s]\u001b[A\n",
      " 65%|██████████████████████████              | 128/196 [00:01<00:00, 96.94it/s]\u001b[A\n",
      " 16%|██████▌                                  | 32/199 [00:01<00:06, 25.25it/s]\u001b[A\n",
      " 74%|████████████████████████████▋          | 145/197 [00:01<00:00, 110.76it/s]\u001b[A\n",
      " 79%|██████████████████████████████▉        | 157/198 [00:01<00:00, 106.69it/s]\u001b[A\n",
      " 23%|█████████▌                               | 46/196 [00:01<00:04, 35.55it/s]\u001b[A\n",
      "100%|███████████████████████████████████████| 198/198 [00:01<00:00, 113.59it/s]\u001b[A\n",
      "\n",
      " 58%|██████████████████████▍                | 114/198 [00:00<00:00, 135.38it/s]\u001b[A\n",
      " 21%|████████▋                                | 42/198 [00:01<00:04, 34.04it/s]\u001b[A\n",
      " 32%|████████████▊                           | 62/194 [00:01<00:01, 122.04it/s]\u001b[A\n",
      " 72%|████████████████████████████▎          | 142/196 [00:01<00:00, 100.25it/s]\u001b[A\n",
      " 82%|████████████████████████████████▋       | 162/198 [00:01<00:00, 95.32it/s]\u001b[A\n",
      " 72%|████████████████████████████▎          | 142/196 [00:01<00:00, 105.44it/s]\u001b[A\n",
      " 59%|███████████████████████▏               | 117/197 [00:00<00:00, 214.90it/s]\u001b[A\n",
      " 65%|██████████████████████████▏             | 130/199 [00:01<00:00, 98.32it/s]\u001b[A\n",
      " 38%|███████████████                         | 74/196 [00:00<00:00, 260.70it/s]\u001b[A\n",
      " 57%|██████████████████████                 | 111/196 [00:00<00:00, 150.28it/s]\u001b[A\n",
      " 41%|████████████████▍                       | 80/194 [00:01<00:00, 126.49it/s]\u001b[A\n",
      " 58%|███████████████████████▏                | 116/200 [00:01<00:01, 79.86it/s]\u001b[A\n",
      " 82%|████████████████████████████████▋       | 160/196 [00:01<00:00, 99.34it/s]\u001b[A\n",
      " 83%|████████████████████████████████▏      | 162/196 [00:01<00:00, 100.93it/s]\u001b[A\n",
      " 56%|█████████████████████▊                 | 109/195 [00:00<00:00, 148.02it/s]\u001b[A\n",
      " 81%|███████████████████████████████▌       | 157/194 [00:01<00:00, 105.20it/s]\u001b[A\n",
      " 73%|█████████████████████████████           | 144/198 [00:01<00:00, 92.28it/s]\u001b[A\n",
      " 17%|███████                                  | 34/199 [00:00<00:02, 66.14it/s]\u001b[A\n",
      " 19%|███████▌                                 | 37/199 [00:01<00:05, 31.15it/s]\u001b[A\n",
      " 80%|███████████████████████████████▎       | 159/198 [00:01<00:00, 109.21it/s]\u001b[A\n",
      " 81%|███████████████████████████████▌       | 161/199 [00:01<00:00, 116.52it/s]\u001b[A\n",
      " 26%|██████████▍                              | 50/196 [00:01<00:03, 36.56it/s]\u001b[A\n",
      "  4%|█▋                                        | 8/195 [00:00<00:06, 29.01it/s]\u001b[A\n",
      " 42%|████████████████▋                       | 82/197 [00:00<00:00, 272.80it/s]\u001b[A\n",
      " 60%|███████████████████████▍               | 119/198 [00:00<00:00, 138.80it/s]\u001b[A\n",
      " 23%|█████████▌                               | 46/198 [00:01<00:05, 29.19it/s]\u001b[A\n",
      " 86%|█████████████████████████████████▍     | 170/198 [00:01<00:00, 105.83it/s]\u001b[A\n",
      " 53%|████████████████████▌                  | 104/197 [00:00<00:00, 105.74it/s]\u001b[A\n",
      " 81%|███████████████████████████████▍       | 159/197 [00:01<00:00, 108.34it/s]\u001b[A\n",
      " 87%|██████████████████████████████████▉     | 173/198 [00:01<00:00, 96.83it/s]\u001b[A\n",
      " 79%|██████████████████████████████▋        | 154/196 [00:01<00:00, 106.73it/s]\u001b[A\n",
      " 68%|██████████████████████████▍            | 134/198 [00:00<00:00, 138.47it/s]\u001b[A\n",
      "100%|███████████████████████████████████████| 196/196 [00:01<00:00, 166.73it/s]\u001b[A\n",
      "\n",
      " 72%|████████████████████████████           | 143/199 [00:01<00:00, 102.96it/s]\u001b[A\n",
      "100%|███████████████████████████████████████| 199/199 [00:01<00:00, 135.00it/s]\u001b[A\n",
      "\n",
      " 72%|███████████████████████████▉           | 141/197 [00:00<00:00, 204.27it/s]\u001b[A\n",
      " 52%|████████████████████▎                  | 102/196 [00:00<00:00, 240.95it/s]\u001b[A\n",
      " 64%|█████████████████████████▍              | 127/200 [00:01<00:00, 82.45it/s]\u001b[A\n",
      " 87%|██████████████████████████████████▉     | 171/196 [00:01<00:00, 98.49it/s]\u001b[A\n",
      " 65%|█████████████████████████▍             | 128/196 [00:00<00:00, 144.10it/s]\u001b[A\n",
      "100%|███████████████████████████████████████| 197/197 [00:01<00:00, 128.32it/s]\u001b[A\n",
      "\n",
      " 21%|████████▍                                | 41/199 [00:00<00:02, 66.42it/s]\u001b[A\n",
      " 88%|██████████████████████████████████▏    | 170/194 [00:01<00:00, 107.66it/s]\u001b[A\n",
      " 78%|███████████████████████████████▎        | 155/198 [00:01<00:00, 93.78it/s]\u001b[A\n",
      " 21%|████████▍                                | 41/199 [00:01<00:04, 32.96it/s]\u001b[A\n",
      " 64%|█████████████████████████              | 125/195 [00:00<00:00, 141.13it/s]\u001b[A\n",
      " 26%|██████████▌                             | 52/197 [00:00<00:00, 512.41it/s]\u001b[A\n",
      " 28%|███████████▎                             | 54/196 [00:01<00:03, 37.40it/s]\u001b[A\n",
      "  7%|██▉                                      | 14/195 [00:00<00:04, 39.43it/s]\u001b[A\n",
      " 93%|████████████████████████████████████▍  | 183/196 [00:01<00:00, 156.57it/s]\u001b[A\n",
      " 26%|██████████▌                              | 51/198 [00:01<00:04, 33.29it/s]\u001b[A\n",
      " 88%|██████████████████████████████████▎    | 175/199 [00:01<00:00, 116.20it/s]\u001b[A\n",
      " 87%|█████████████████████████████████▉     | 172/198 [00:01<00:00, 106.31it/s]\u001b[A\n",
      " 92%|███████████████████████████████████▊   | 182/198 [00:01<00:00, 105.92it/s]\u001b[A\n",
      " 87%|██████████████████████████████████     | 172/197 [00:01<00:00, 110.61it/s]\u001b[A\n",
      " 93%|█████████████████████████████████████▏  | 184/198 [00:01<00:00, 98.94it/s]\u001b[A\n",
      " 85%|█████████████████████████████████      | 166/196 [00:01<00:00, 109.49it/s]\u001b[A\n",
      " 61%|███████████████████████▊               | 120/197 [00:01<00:00, 111.07it/s]\u001b[A\n",
      " 71%|███████████████████████████▊           | 141/198 [00:01<00:00, 123.60it/s]\u001b[A\n",
      " 68%|██████████████████████████▎            | 131/194 [00:01<00:00, 221.10it/s]\u001b[A\n",
      " 78%|██████████████████████████████▌        | 156/199 [00:01<00:00, 105.97it/s]\u001b[A\n",
      " 80%|███████████████████████████████        | 157/197 [00:01<00:00, 122.44it/s]\u001b[A\n",
      " 57%|██████████████████████▏                | 112/197 [00:00<00:00, 236.61it/s]\u001b[A\n",
      " 77%|█████████████████████████████▉         | 152/198 [00:01<00:00, 142.68it/s]\u001b[A\n",
      " 90%|███████████████████████████████████▉    | 176/196 [00:01<00:00, 75.65it/s]\u001b[A\n",
      " 72%|████████████████████████████▌           | 143/200 [00:01<00:00, 97.37it/s]\u001b[A\n",
      " 26%|██████████▌                              | 51/199 [00:00<00:01, 76.24it/s]\u001b[A\n",
      " 73%|████████████████████████████▋          | 144/196 [00:01<00:00, 144.49it/s]\u001b[A\n",
      " 24%|█████████▋                               | 47/199 [00:01<00:03, 40.09it/s]\u001b[A\n",
      " 83%|████████████████████████████████▎      | 163/197 [00:00<00:00, 194.00it/s]\u001b[A\n",
      " 84%|█████████████████████████████████▌      | 166/198 [00:01<00:00, 95.95it/s]\u001b[A\n",
      " 94%|████████████████████████████████████▌  | 182/194 [00:01<00:00, 107.88it/s]\u001b[A\n",
      " 30%|████████████▏                            | 58/196 [00:01<00:03, 36.63it/s]\u001b[A\n",
      " 10%|███▉                                     | 19/195 [00:00<00:04, 41.10it/s]\u001b[A\n",
      " 28%|███████████▍                             | 55/198 [00:01<00:04, 34.16it/s]\u001b[A\n",
      " 72%|████████████████████████████           | 140/195 [00:01<00:00, 131.06it/s]\u001b[A\n",
      " 42%|████████████████▋                       | 82/197 [00:00<00:00, 272.46it/s]\u001b[A\n",
      " 94%|████████████████████████████████████▊  | 188/199 [00:01<00:00, 111.69it/s]\u001b[A\n",
      " 93%|████████████████████████████████████▏  | 184/198 [00:01<00:00, 100.25it/s]\u001b[A\n",
      " 98%|██████████████████████████████████████▏| 194/198 [00:01<00:00, 100.80it/s]\u001b[A\n",
      " 94%|████████████████████████████████████▌  | 185/197 [00:01<00:00, 107.28it/s]\u001b[A\n",
      " 98%|███████████████████████████████████████▍| 195/198 [00:01<00:00, 94.52it/s]\u001b[A\n",
      " 91%|███████████████████████████████████▍   | 178/196 [00:01<00:00, 103.71it/s]\u001b[A\n",
      "Processing CSV files:  21%|███▊              | 107/500 [00:08<00:40,  9.80it/s]\u001b[A\n",
      " 85%|█████████████████████████████████      | 169/199 [00:01<00:00, 102.92it/s]\u001b[A\n",
      " 80%|███████████████████████████████        | 158/198 [00:01<00:00, 121.34it/s]\u001b[A\n",
      " 95%|█████████████████████████████████████▉  | 186/196 [00:01<00:00, 75.76it/s]\u001b[A\n",
      " 87%|██████████████████████████████████     | 172/197 [00:01<00:00, 116.60it/s]\u001b[A\n",
      " 26%|██████████▋                              | 52/199 [00:01<00:03, 41.05it/s]\u001b[A\n",
      " 30%|████████████▏                            | 59/199 [00:00<00:01, 72.64it/s]\u001b[A\n",
      " 78%|███████████████████████████████▏        | 156/200 [00:01<00:00, 96.26it/s]\u001b[A\n",
      " 53%|████████████████████▌                  | 104/197 [00:00<00:00, 302.90it/s]\u001b[A\n",
      " 86%|█████████████████████████████████▍     | 170/198 [00:01<00:00, 132.82it/s]\u001b[A\n",
      " 82%|███████████████████████████████▉       | 159/194 [00:01<00:00, 195.86it/s]\u001b[A\n",
      " 70%|███████████████████████████▎           | 138/197 [00:00<00:00, 201.60it/s]\u001b[A\n",
      "100%|███████████████████████████████████████| 196/196 [00:01<00:00, 123.56it/s]\u001b[A\n",
      "\n",
      " 30%|████████████▏                            | 59/198 [00:01<00:04, 34.54it/s]\u001b[A\n",
      " 12%|█████                                    | 24/195 [00:00<00:04, 41.80it/s]\u001b[A\n",
      "  0%|                                                    | 0/1 [00:00<?, ?it/s]\u001b[A\n",
      " 81%|███████████████████████████████▋       | 159/196 [00:01<00:00, 130.32it/s]\u001b[A\n",
      " 89%|███████████████████████████████████▊    | 177/198 [00:01<00:00, 91.18it/s]\u001b[A\n",
      "100%|███████████████████████████████████████| 194/194 [00:01<00:00, 100.77it/s]\u001b[A\n",
      "100%|███████████████████████████████████████| 198/198 [00:01<00:00, 110.53it/s]\u001b[A\n",
      "\n",
      " 79%|██████████████████████████████▊        | 154/195 [00:01<00:00, 125.61it/s]\u001b[A\n",
      " 99%|██████████████████████████████████████▌| 196/198 [00:01<00:00, 104.22it/s]\u001b[A\n",
      "100%|███████████████████████████████████████| 197/197 [00:01<00:00, 110.14it/s]\u001b[A\n",
      " 97%|██████████████████████████████████████ | 191/196 [00:01<00:00, 109.99it/s]\u001b[A\n",
      " 76%|█████████████████████████████▋         | 150/197 [00:01<00:00, 117.80it/s]\u001b[A\n",
      " 57%|██████████████████████▏                | 112/197 [00:00<00:00, 236.91it/s]\u001b[A\n",
      " 93%|████████████████████████████████████▎  | 185/199 [00:01<00:00, 114.77it/s]\u001b[A\n",
      " 87%|██████████████████████████████████     | 173/198 [00:01<00:00, 126.55it/s]\u001b[A\n",
      " 97%|█████████████████████████████████████▊ | 191/197 [00:01<00:00, 131.34it/s]\u001b[A\n",
      " 37%|███████████████▏                         | 74/199 [00:01<00:01, 89.32it/s]\u001b[A\n",
      " 38%|███████████████▋                         | 76/199 [00:01<00:01, 99.90it/s]\u001b[A\n",
      " 90%|███████████████████████████████████▎   | 181/200 [00:01<00:00, 130.01it/s]\u001b[A\n",
      " 95%|█████████████████████████████████████▏ | 189/198 [00:01<00:00, 144.92it/s]\u001b[A\n",
      " 38%|███████████████▍                         | 74/196 [00:01<00:02, 58.78it/s]\u001b[A\n",
      "  0%|                                                    | 0/1 [00:00<?, ?it/s]\u001b[A\n",
      " 34%|█████████████▊                           | 67/198 [00:01<00:02, 45.84it/s]\u001b[A\n",
      " 16%|██████▌                                  | 31/195 [00:00<00:03, 50.10it/s]\u001b[A\n",
      "100%|███████████████████████████████████████| 199/199 [00:01<00:00, 116.63it/s]\u001b[A\n",
      "\n",
      " 81%|███████████████████████████████▋       | 160/197 [00:00<00:00, 198.71it/s]\u001b[A\n",
      "100%|███████████████████████████████████████| 196/196 [00:01<00:00, 109.31it/s]\u001b[A\n",
      "\n",
      " 65%|█████████████████████████▎             | 127/196 [00:00<00:00, 128.90it/s]\u001b[A\n",
      " 94%|████████████████████████████████████▊  | 183/194 [00:01<00:00, 194.24it/s]\u001b[A\n",
      " 93%|█████████████████████████████████████▏  | 182/196 [00:01<00:00, 61.75it/s]\u001b[A\n",
      " 88%|██████████████████████████████████▍    | 173/196 [00:01<00:00, 127.14it/s]\u001b[A\n",
      " 71%|███████████████████████████▌           | 139/197 [00:00<00:00, 282.39it/s]\u001b[A\n",
      "  0%|                                                    | 0/1 [00:00<?, ?it/s]\u001b[A\n",
      " 86%|█████████████████████████████████▍     | 167/195 [00:01<00:00, 123.82it/s]\u001b[A\n",
      "100%|███████████████████████████████████████| 194/194 [00:01<00:00, 106.37it/s]\u001b[A\n",
      "\n",
      " 46%|███████████████████                      | 92/198 [00:01<00:01, 98.95it/s]\u001b[A\n",
      "100%|███████████████████████████████████████| 198/198 [00:01<00:00, 110.24it/s]\u001b[A\n",
      "100%|███████████████████████████████████████| 197/197 [00:01<00:00, 110.31it/s]\n",
      "\n",
      " 95%|█████████████████████████████████████▏ | 189/198 [00:01<00:00, 133.47it/s]\u001b[A\n",
      " 48%|███████████████████▎                    | 96/199 [00:01<00:00, 125.32it/s]\u001b[A\n",
      " 70%|███████████████████████████▎           | 138/197 [00:00<00:00, 229.02it/s]\u001b[A\n",
      "100%|███████████████████████████████████████| 196/196 [00:01<00:00, 112.51it/s]\u001b[A\n",
      "100%|███████████████████████████████████████| 197/197 [00:01<00:00, 173.24it/s]\n",
      "\n",
      " 50%|████████████████████                    | 98/196 [00:01<00:00, 109.05it/s]\u001b[A\n",
      "100%|███████████████████████████████████████| 194/194 [00:01<00:00, 118.77it/s]\u001b[A\n",
      "100%|████████████████████████████████████████| 198/198 [00:02<00:00, 94.49it/s]\n",
      "100%|███████████████████████████████████████| 199/199 [00:01<00:00, 109.58it/s]\n",
      "100%|███████████████████████████████████████| 198/198 [00:01<00:00, 130.69it/s]\n",
      "\u001b[A\n",
      " 92%|███████████████████████████████████▊   | 181/197 [00:00<00:00, 198.26it/s]\u001b[A\n",
      " 77%|█████████████████████████████▊         | 150/196 [00:00<00:00, 148.14it/s]\n",
      "100%|███████████████████████████████████████| 200/200 [00:01<00:00, 108.01it/s]\u001b[A\n",
      "100%|████████████████████████████████████████| 198/198 [00:01<00:00, 99.68it/s]\n",
      "\n",
      "  0%|                                                    | 0/1 [00:00<?, ?it/s]\u001b[A\n",
      " 86%|█████████████████████████████████▋     | 170/197 [00:00<00:00, 259.71it/s]\u001b[A\n",
      " 60%|███████████████████████▎               | 119/199 [00:01<00:00, 154.11it/s]\u001b[A\n",
      " 59%|███████████████████████▏               | 118/199 [00:01<00:00, 153.94it/s]\u001b[A\n",
      "100%|███████████████████████████████████████| 197/197 [00:01<00:00, 117.27it/s]\u001b[A\n",
      "\n",
      "100%|████████████████████████████████████████████| 1/1 [00:00<00:00,  4.69it/s]\u001b[A\n",
      " 69%|██████████████████████████▊            | 136/198 [00:01<00:00, 190.99it/s]\u001b[A\n",
      "100%|████████████████████████████████████████| 196/196 [00:02<00:00, 97.71it/s]\u001b[A\n",
      "\n",
      "100%|████████████████████████████████████████████| 1/1 [00:00<00:00,  5.86it/s]\u001b[A\n",
      "100%|████████████████████████████████████████| 196/196 [00:02<00:00, 96.47it/s]\u001b[A\n",
      "100%|███████████████████████████████████████| 196/196 [00:01<00:00, 133.02it/s]\n",
      "\n",
      "100%|████████████████████████████████████████████| 1/1 [00:00<00:00,  4.99it/s]\u001b[A\n",
      " 87%|█████████████████████████████████▊     | 170/196 [00:01<00:00, 146.01it/s]\u001b[A\n",
      "100%|████████████████████████████████████████████| 1/1 [00:00<00:00,  5.29it/s]\u001b[A\n",
      " 68%|██████████████████████████▋            | 136/199 [00:01<00:00, 151.45it/s]\u001b[A\n",
      "100%|████████████████████████████████████████████| 1/1 [00:00<00:00,  3.37it/s]\u001b[A\n",
      "\n"
     ]
    },
    {
     "name": "stdout",
     "output_type": "stream",
     "text": [
      "Total files processed: 1"
     ]
    },
    {
     "name": "stderr",
     "output_type": "stream",
     "text": [
      "  0%|                                                    | 0/1 [00:00<?, ?it/s]"
     ]
    },
    {
     "name": "stdout",
     "output_type": "stream",
     "text": [
      "\n"
     ]
    },
    {
     "name": "stderr",
     "output_type": "stream",
     "text": [
      "\u001b[A\n",
      " 93%|████████████████████████████████████▍  | 184/197 [00:01<00:00, 141.14it/s]/w/hallb-scshelf2102/clas12/users/gmat/clas12/neutneut/analysis/neutron_ml/../../src/TrainData.py:84: FutureWarning: The default of observed=False is deprecated and will be changed to True in a future version of pandas. Pass observed=False to retain current behavior or observed=True to adopt the future default and silence this warning.\n",
      "  group_sizes = df.groupby(group_cols).size()\n",
      "\u001b[A\n",
      " 62%|████████████████████████▎              | 122/196 [00:02<00:00, 107.86it/s]\u001b[A\n",
      "100%|███████████████████████████████████████| 197/197 [00:01<00:00, 183.89it/s]\u001b[A\n",
      "100%|████████████████████████████████████████████| 1/1 [00:00<00:00,  3.28it/s]\n"
     ]
    },
    {
     "name": "stdout",
     "output_type": "stream",
     "text": [
      "Total files processed: 1"
     ]
    },
    {
     "name": "stderr",
     "output_type": "stream",
     "text": [
      "\n",
      "  0%|                                                    | 0/1 [00:00<?, ?it/s]\u001b[A\n",
      " 79%|██████████████████████████████▉        | 157/198 [00:02<00:00, 181.10it/s]\u001b[A\n",
      "100%|████████████████████████████████████████████| 1/1 [00:00<00:00,  2.57it/s]\u001b[A\n",
      "Processing CSV files:  23%|████▏             | 116/500 [00:09<00:31, 12.30it/s]"
     ]
    },
    {
     "name": "stdout",
     "output_type": "stream",
     "text": [
      "Total files processed: 1"
     ]
    },
    {
     "name": "stderr",
     "output_type": "stream",
     "text": [
      "\n"
     ]
    },
    {
     "name": "stdout",
     "output_type": "stream",
     "text": [
      "\n"
     ]
    },
    {
     "name": "stderr",
     "output_type": "stream",
     "text": [
      "  0%|                                                    | 0/1 [00:00<?, ?it/s]"
     ]
    },
    {
     "name": "stdout",
     "output_type": "stream",
     "text": [
      "\n"
     ]
    },
    {
     "name": "stderr",
     "output_type": "stream",
     "text": [
      "\u001b[A\n",
      "/w/hallb-scshelf2102/clas12/users/gmat/clas12/neutneut/analysis/neutron_ml/../../src/TrainData.py:84: FutureWarning: The default of observed=False is deprecated and will be changed to True in a future version of pandas. Pass observed=False to retain current behavior or observed=True to adopt the future default and silence this warning.\n",
      "  group_sizes = df.groupby(group_cols).size()\n",
      "/w/hallb-scshelf2102/clas12/users/gmat/clas12/neutneut/analysis/neutron_ml/../../src/TrainData.py:84: FutureWarning: The default of observed=False is deprecated and will be changed to True in a future version of pandas. Pass observed=False to retain current behavior or observed=True to adopt the future default and silence this warning.\n",
      "  group_sizes = df.groupby(group_cols).size()\n",
      "  0%|                                                    | 0/1 [00:00<?, ?it/s]\u001b[A\n",
      "  0%|                                                    | 0/1 [00:00<?, ?it/s]\u001b[A\n",
      "  0%|                                                    | 0/1 [00:00<?, ?it/s]\u001b[A\n",
      "  0%|                                                    | 0/1 [00:00<?, ?it/s]\u001b[A\n",
      "100%|███████████████████████████████████████| 197/197 [00:00<00:00, 219.64it/s]\u001b[A\n",
      "100%|███████████████████████████████████████| 198/198 [00:01<00:00, 114.04it/s]\n",
      "\n",
      "100%|███████████████████████████████████████| 197/197 [00:00<00:00, 227.43it/s]\u001b[A\n",
      "\n",
      " 81%|███████████████████████████████▋       | 162/199 [00:02<00:00, 181.69it/s]\u001b[A\n",
      "100%|████████████████████████████████████████████| 1/1 [00:00<00:00,  2.91it/s]\u001b[A\n"
     ]
    },
    {
     "name": "stdout",
     "output_type": "stream",
     "text": [
      "Total files processed: 1"
     ]
    },
    {
     "name": "stderr",
     "output_type": "stream",
     "text": [
      "100%|███████████████████████████████████████| 197/197 [00:01<00:00, 117.07it/s]"
     ]
    },
    {
     "name": "stdout",
     "output_type": "stream",
     "text": [
      "\n"
     ]
    },
    {
     "name": "stderr",
     "output_type": "stream",
     "text": [
      "\n",
      "/w/hallb-scshelf2102/clas12/users/gmat/clas12/neutneut/analysis/neutron_ml/../../src/TrainData.py:84: FutureWarning: The default of observed=False is deprecated and will be changed to True in a future version of pandas. Pass observed=False to retain current behavior or observed=True to adopt the future default and silence this warning.\n",
      "  group_sizes = df.groupby(group_cols).size()\n",
      "\n",
      " 76%|█████████████████████████████▍         | 148/196 [00:02<00:00, 149.82it/s]\u001b[A\n",
      "  0%|                                                  | 0/200 [00:00<?, ?it/s]\u001b[A\n",
      "  0%|                                                    | 0/1 [00:00<?, ?it/s]\u001b[A\n",
      " 90%|███████████████████████████████████▎   | 179/198 [00:02<00:00, 191.44it/s]\u001b[A\n",
      "100%|███████████████████████████████████████| 196/196 [00:01<00:00, 156.63it/s]\u001b[A\n",
      "\n",
      "  0%|                                                    | 0/1 [00:00<?, ?it/s]\u001b[A\n",
      " 90%|███████████████████████████████████▎   | 180/199 [00:01<00:00, 187.69it/s]\u001b[A\n",
      "  0%|                                                    | 0/1 [00:00<?, ?it/s]\u001b[A\n",
      "  0%|                                                    | 0/1 [00:00<?, ?it/s]\u001b[A\n",
      "100%|████████████████████████████████████████████| 1/1 [00:00<00:00,  4.37it/s]\u001b[A\n",
      "  0%|                                                    | 0/1 [00:00<?, ?it/s]\u001b[A\n",
      "  0%|                                                    | 0/1 [00:00<?, ?it/s]\u001b[A\n",
      "Processing CSV files:  25%|████▌             | 125/500 [00:09<00:20, 18.27it/s]\u001b[A\n",
      " 90%|███████████████████████████████████    | 176/196 [00:02<00:00, 186.33it/s]\u001b[A\n",
      " 61%|███████████████████████▌               | 118/195 [00:01<00:00, 147.60it/s]\u001b[A\n",
      "100%|███████████████████████████████████████| 195/195 [00:01<00:00, 114.19it/s]\u001b[A\n",
      "\n",
      " 21%|████████▍                               | 42/200 [00:00<00:00, 410.77it/s]\u001b[A\n",
      "  0%|                                                  | 0/199 [00:00<?, ?it/s]\u001b[A\n",
      "  0%|                                                  | 0/196 [00:00<?, ?it/s]\u001b[A\n",
      "  0%|                                                    | 0/1 [00:00<?, ?it/s]\u001b[A\n",
      "100%|████████████████████████████████████████| 198/198 [00:02<00:00, 88.52it/s]\u001b[A\n",
      "\n",
      "  0%|                                                    | 0/1 [00:00<?, ?it/s]\u001b[A\n",
      "100%|████████████████████████████████████████████| 1/1 [00:00<00:00,  2.87it/s]\u001b[A\n",
      "\n"
     ]
    },
    {
     "name": "stdout",
     "output_type": "stream",
     "text": [
      "Total files processed: 1\n"
     ]
    },
    {
     "name": "stderr",
     "output_type": "stream",
     "text": [
      "  0%|                                                    | 0/1 [00:00<?, ?it/s]\u001b[A\n",
      "  0%|                                                  | 0/190 [00:00<?, ?it/s]/w/hallb-scshelf2102/clas12/users/gmat/clas12/neutneut/analysis/neutron_ml/../../src/TrainData.py:84: FutureWarning: The default of observed=False is deprecated and will be changed to True in a future version of pandas. Pass observed=False to retain current behavior or observed=True to adopt the future default and silence this warning.\n",
      "  group_sizes = df.groupby(group_cols).size()\n",
      "100%|████████████████████████████████████████| 199/199 [00:02<00:00, 88.14it/s]\n",
      "Processing CSV files:  26%|████▋             | 130/500 [00:09<00:17, 20.71it/s]\n",
      "100%|████████████████████████████████████████████| 1/1 [00:00<00:00,  5.47it/s]\u001b[A\n",
      "  0%|                                                    | 0/1 [00:00<?, ?it/s]\u001b[A\n",
      "100%|████████████████████████████████████████████| 1/1 [00:00<00:00,  5.28it/s]\u001b[A\n",
      "100%|████████████████████████████████████████████| 1/1 [00:00<00:00,  3.59it/s]\u001b[A\n",
      "\n"
     ]
    },
    {
     "name": "stdout",
     "output_type": "stream",
     "text": [
      "Total files processed: 1\n"
     ]
    },
    {
     "name": "stderr",
     "output_type": "stream",
     "text": [
      "100%|███████████████████████████████████████| 199/199 [00:01<00:00, 124.63it/s]\u001b[A/w/hallb-scshelf2102/clas12/users/gmat/clas12/neutneut/analysis/neutron_ml/../../src/TrainData.py:84: FutureWarning: The default of observed=False is deprecated and will be changed to True in a future version of pandas. Pass observed=False to retain current behavior or observed=True to adopt the future default and silence this warning.\n",
      "  group_sizes = df.groupby(group_cols).size()\n",
      "\n",
      "\n",
      "100%|████████████████████████████████████████████| 1/1 [00:00<00:00,  5.93it/s]\u001b[A\n",
      "  0%|                                                    | 0/1 [00:00<?, ?it/s]\u001b[A\n",
      "100%|████████████████████████████████████████████| 1/1 [00:00<00:00,  4.92it/s]\u001b[A\n",
      "100%|████████████████████████████████████████| 196/196 [00:02<00:00, 84.00it/s]\u001b[A\n",
      "\n",
      "100%|████████████████████████████████████████████| 1/1 [00:00<00:00,  3.58it/s]\u001b[A\n",
      "100%|████████████████████████████████████████████| 1/1 [00:00<00:00,  3.51it/s]"
     ]
    },
    {
     "name": "stdout",
     "output_type": "stream",
     "text": [
      "Total files processed: 1"
     ]
    },
    {
     "name": "stderr",
     "output_type": "stream",
     "text": [
      "\n"
     ]
    },
    {
     "name": "stdout",
     "output_type": "stream",
     "text": [
      "\n"
     ]
    },
    {
     "name": "stderr",
     "output_type": "stream",
     "text": [
      "100%|████████████████████████████████████████████| 1/1 [00:00<00:00,  3.09it/s]\n",
      "/w/hallb-scshelf2102/clas12/users/gmat/clas12/neutneut/analysis/neutron_ml/../../src/TrainData.py:84: FutureWarning: The default of observed=False is deprecated and will be changed to True in a future version of pandas. Pass observed=False to retain current behavior or observed=True to adopt the future default and silence this warning.\n",
      "  group_sizes = df.groupby(group_cols).size()\n"
     ]
    },
    {
     "name": "stdout",
     "output_type": "stream",
     "text": [
      "Total files processed: 1"
     ]
    },
    {
     "name": "stderr",
     "output_type": "stream",
     "text": [
      "100%|████████████████████████████████████████████| 1/1 [00:00<00:00,  3.40it/s]"
     ]
    },
    {
     "name": "stdout",
     "output_type": "stream",
     "text": [
      "\n"
     ]
    },
    {
     "name": "stderr",
     "output_type": "stream",
     "text": [
      "\n",
      "\n",
      "/w/hallb-scshelf2102/clas12/users/gmat/clas12/neutneut/analysis/neutron_ml/../../src/TrainData.py:84: FutureWarning: The default of observed=False is deprecated and will be changed to True in a future version of pandas. Pass observed=False to retain current behavior or observed=True to adopt the future default and silence this warning.\n",
      "  group_sizes = df.groupby(group_cols).size()\n"
     ]
    },
    {
     "name": "stdout",
     "output_type": "stream",
     "text": [
      "Total files processed: 1"
     ]
    },
    {
     "name": "stderr",
     "output_type": "stream",
     "text": [
      "  0%|                                                    | 0/1 [00:00<?, ?it/s]"
     ]
    },
    {
     "name": "stdout",
     "output_type": "stream",
     "text": [
      "Total files processed: 1\n",
      "\n"
     ]
    },
    {
     "name": "stderr",
     "output_type": "stream",
     "text": [
      "/w/hallb-scshelf2102/clas12/users/gmat/clas12/neutneut/analysis/neutron_ml/../../src/TrainData.py:84: FutureWarning: The default of observed=False is deprecated and will be changed to True in a future version of pandas. Pass observed=False to retain current behavior or observed=True to adopt the future default and silence this warning.\n",
      "  group_sizes = df.groupby(group_cols).size()\n",
      "/w/hallb-scshelf2102/clas12/users/gmat/clas12/neutneut/analysis/neutron_ml/../../src/TrainData.py:84: FutureWarning: The default of observed=False is deprecated and will be changed to True in a future version of pandas. Pass observed=False to retain current behavior or observed=True to adopt the future default and silence this warning.\n",
      "  group_sizes = df.groupby(group_cols).size()\n",
      "100%|████████████████████████████████████████████| 1/1 [00:00<00:00,  3.05it/s]\n",
      "\n"
     ]
    },
    {
     "name": "stdout",
     "output_type": "stream",
     "text": [
      "Total files processed: 1"
     ]
    },
    {
     "name": "stderr",
     "output_type": "stream",
     "text": [
      " 42%|████████████████▊                       | 84/200 [00:00<00:00, 369.82it/s]"
     ]
    },
    {
     "name": "stdout",
     "output_type": "stream",
     "text": [
      "\n"
     ]
    },
    {
     "name": "stderr",
     "output_type": "stream",
     "text": [
      "\u001b[A/w/hallb-scshelf2102/clas12/users/gmat/clas12/neutneut/analysis/neutron_ml/../../src/TrainData.py:84: FutureWarning: The default of observed=False is deprecated and will be changed to True in a future version of pandas. Pass observed=False to retain current behavior or observed=True to adopt the future default and silence this warning.\n",
      "  group_sizes = df.groupby(group_cols).size()\n",
      "\n",
      " 20%|███████▊                                | 39/199 [00:00<00:00, 389.37it/s]\u001b[A\n",
      "100%|████████████████████████████████████████████| 1/1 [00:00<00:00,  2.93it/s]\u001b[A\n",
      "\n"
     ]
    },
    {
     "name": "stdout",
     "output_type": "stream",
     "text": [
      "Total files processed: 1"
     ]
    },
    {
     "name": "stderr",
     "output_type": "stream",
     "text": [
      " 22%|████████▊                               | 42/190 [00:00<00:00, 408.11it/s]"
     ]
    },
    {
     "name": "stdout",
     "output_type": "stream",
     "text": [
      "\n"
     ]
    },
    {
     "name": "stderr",
     "output_type": "stream",
     "text": [
      "/w/hallb-scshelf2102/clas12/users/gmat/clas12/neutneut/analysis/neutron_ml/../../src/TrainData.py:84: FutureWarning: The default of observed=False is deprecated and will be changed to True in a future version of pandas. Pass observed=False to retain current behavior or observed=True to adopt the future default and silence this warning.\n",
      "  group_sizes = df.groupby(group_cols).size()\n",
      "\u001b[A\n",
      "100%|████████████████████████████████████████████| 1/1 [00:00<00:00,  4.59it/s]\u001b[A\n",
      "Processing CSV files:  27%|████▊             | 135/500 [00:09<00:15, 23.08it/s]\u001b[A\n",
      " 89%|██████████████████████████████████▊    | 174/195 [00:01<00:00, 212.81it/s]\u001b[A\n",
      "100%|████████████████████████████████████████████| 1/1 [00:00<00:00,  4.83it/s]\u001b[A\n",
      "100%|████████████████████████████████████████████| 1/1 [00:00<00:00,  2.90it/s]\u001b[A\n",
      "\n"
     ]
    },
    {
     "name": "stdout",
     "output_type": "stream",
     "text": [
      "Total files processed: 1"
     ]
    },
    {
     "name": "stderr",
     "output_type": "stream",
     "text": [
      "  0%|                                                  | 0/197 [00:00<?, ?it/s]"
     ]
    },
    {
     "name": "stdout",
     "output_type": "stream",
     "text": [
      "\n"
     ]
    },
    {
     "name": "stderr",
     "output_type": "stream",
     "text": [
      "\u001b[A/w/hallb-scshelf2102/clas12/users/gmat/clas12/neutneut/analysis/neutron_ml/../../src/TrainData.py:84: FutureWarning: The default of observed=False is deprecated and will be changed to True in a future version of pandas. Pass observed=False to retain current behavior or observed=True to adopt the future default and silence this warning.\n",
      "  group_sizes = df.groupby(group_cols).size()\n",
      "\n",
      "  0%|                                                  | 0/199 [00:00<?, ?it/s]\u001b[A\n",
      "100%|████████████████████████████████████████████| 1/1 [00:00<00:00,  3.05it/s]\u001b[A\n"
     ]
    },
    {
     "name": "stdout",
     "output_type": "stream",
     "text": [
      "Total files processed: 1"
     ]
    },
    {
     "name": "stderr",
     "output_type": "stream",
     "text": [
      "\n"
     ]
    },
    {
     "name": "stdout",
     "output_type": "stream",
     "text": [
      "\n"
     ]
    },
    {
     "name": "stderr",
     "output_type": "stream",
     "text": [
      "  0%|                                                    | 0/1 [00:00<?, ?it/s]\u001b[A\n",
      "/w/hallb-scshelf2102/clas12/users/gmat/clas12/neutneut/analysis/neutron_ml/../../src/TrainData.py:84: FutureWarning: The default of observed=False is deprecated and will be changed to True in a future version of pandas. Pass observed=False to retain current behavior or observed=True to adopt the future default and silence this warning.\n",
      "  group_sizes = df.groupby(group_cols).size()\n",
      "100%|████████████████████████████████████████████| 1/1 [00:00<00:00,  4.74it/s]\u001b[A\n",
      "100%|████████████████████████████████████████████| 1/1 [00:00<00:00,  3.61it/s]\u001b[A\n",
      "100%|████████████████████████████████████████████| 1/1 [00:00<00:00,  4.29it/s]\u001b[A\n",
      "100%|████████████████████████████████████████████| 1/1 [00:00<00:00,  3.25it/s]\u001b[A\n",
      "\n"
     ]
    },
    {
     "name": "stdout",
     "output_type": "stream",
     "text": [
      "Total files processed: 1\n"
     ]
    },
    {
     "name": "stderr",
     "output_type": "stream",
     "text": [
      "  0%|                                                    | 0/1 [00:00<?, ?it/s]\u001b[A\n",
      "  0%|                                                    | 0/1 [00:00<?, ?it/s]/w/hallb-scshelf2102/clas12/users/gmat/clas12/neutneut/analysis/neutron_ml/../../src/TrainData.py:84: FutureWarning: The default of observed=False is deprecated and will be changed to True in a future version of pandas. Pass observed=False to retain current behavior or observed=True to adopt the future default and silence this warning.\n",
      "  group_sizes = df.groupby(group_cols).size()\n",
      "\u001b[A\n",
      "  0%|                                                  | 0/198 [00:00<?, ?it/s]\u001b[A\n",
      "100%|████████████████████████████████████████████| 1/1 [00:00<00:00,  3.06it/s]\u001b[A\n",
      "100%|████████████████████████████████████████████| 1/1 [00:00<00:00,  3.17it/s]"
     ]
    },
    {
     "name": "stdout",
     "output_type": "stream",
     "text": [
      "Total files processed: 1"
     ]
    },
    {
     "name": "stderr",
     "output_type": "stream",
     "text": [
      "\n"
     ]
    },
    {
     "name": "stdout",
     "output_type": "stream",
     "text": [
      "\n",
      "Total files processed: 1"
     ]
    },
    {
     "name": "stderr",
     "output_type": "stream",
     "text": [
      "\n"
     ]
    },
    {
     "name": "stdout",
     "output_type": "stream",
     "text": [
      "\n"
     ]
    },
    {
     "name": "stderr",
     "output_type": "stream",
     "text": [
      "100%|████████████████████████████████████████████| 1/1 [00:00<00:00,  4.14it/s]\u001b[A/w/hallb-scshelf2102/clas12/users/gmat/clas12/neutneut/analysis/neutron_ml/../../src/TrainData.py:84: FutureWarning: The default of observed=False is deprecated and will be changed to True in a future version of pandas. Pass observed=False to retain current behavior or observed=True to adopt the future default and silence this warning.\n",
      "  group_sizes = df.groupby(group_cols).size()\n",
      "\n",
      "/w/hallb-scshelf2102/clas12/users/gmat/clas12/neutneut/analysis/neutron_ml/../../src/TrainData.py:84: FutureWarning: The default of observed=False is deprecated and will be changed to True in a future version of pandas. Pass observed=False to retain current behavior or observed=True to adopt the future default and silence this warning.\n",
      "  group_sizes = df.groupby(group_cols).size()\n",
      "100%|████████████████████████████████████████████| 1/1 [00:00<00:00,  4.47it/s]\u001b[A\n",
      "100%|████████████████████████████████████████████| 1/1 [00:00<00:00,  4.05it/s]\u001b[A\n",
      " 42%|████████████████▋                       | 82/196 [00:00<00:00, 292.93it/s]\u001b[A\n",
      " 39%|███████████████▋                        | 78/199 [00:00<00:00, 272.37it/s]\u001b[A\n",
      "Processing CSV files:  28%|█████             | 139/500 [00:09<00:14, 24.50it/s]\u001b[A\n",
      "  0%|                                                    | 0/1 [00:00<?, ?it/s]\u001b[A\n",
      " 61%|███████████████████████▊               | 122/200 [00:00<00:00, 308.06it/s]\u001b[A\n",
      "  0%|                                                    | 0/1 [00:00<?, ?it/s]\u001b[A\n",
      "  0%|                                                  | 0/197 [00:00<?, ?it/s]\u001b[A\n",
      "100%|████████████████████████████████████████████| 1/1 [00:00<00:00,  4.87it/s]\u001b[A\n",
      "  0%|                                                  | 0/198 [00:00<?, ?it/s]\u001b[A\n",
      "  0%|                                                  | 0/197 [00:00<?, ?it/s]\u001b[A\n",
      "100%|████████████████████████████████████████████| 1/1 [00:00<00:00,  2.99it/s]\u001b[A\n",
      "100%|████████████████████████████████████████████| 1/1 [00:00<00:00,  2.49it/s]"
     ]
    },
    {
     "name": "stdout",
     "output_type": "stream",
     "text": [
      "Total files processed: 1"
     ]
    },
    {
     "name": "stderr",
     "output_type": "stream",
     "text": [
      "\n"
     ]
    },
    {
     "name": "stdout",
     "output_type": "stream",
     "text": [
      "\n",
      "Total files processed: 1\n"
     ]
    },
    {
     "name": "stderr",
     "output_type": "stream",
     "text": [
      "/w/hallb-scshelf2102/clas12/users/gmat/clas12/neutneut/analysis/neutron_ml/../../src/TrainData.py:84: FutureWarning: The default of observed=False is deprecated and will be changed to True in a future version of pandas. Pass observed=False to retain current behavior or observed=True to adopt the future default and silence this warning.\n",
      "  group_sizes = df.groupby(group_cols).size()\n",
      "100%|███████████████████████████████████████| 195/195 [00:01<00:00, 117.91it/s]/w/hallb-scshelf2102/clas12/users/gmat/clas12/neutneut/analysis/neutron_ml/../../src/TrainData.py:84: FutureWarning: The default of observed=False is deprecated and will be changed to True in a future version of pandas. Pass observed=False to retain current behavior or observed=True to adopt the future default and silence this warning.\n",
      "  group_sizes = df.groupby(group_cols).size()\n",
      "\n",
      "100%|████████████████████████████████████████████| 1/1 [00:00<00:00,  2.71it/s]\n"
     ]
    },
    {
     "name": "stdout",
     "output_type": "stream",
     "text": [
      "Total files processed: 1\n"
     ]
    },
    {
     "name": "stderr",
     "output_type": "stream",
     "text": [
      "/w/hallb-scshelf2102/clas12/users/gmat/clas12/neutneut/analysis/neutron_ml/../../src/TrainData.py:84: FutureWarning: The default of observed=False is deprecated and will be changed to True in a future version of pandas. Pass observed=False to retain current behavior or observed=True to adopt the future default and silence this warning.\n",
      "  group_sizes = df.groupby(group_cols).size()\n",
      "\n",
      "100%|████████████████████████████████████████████| 1/1 [00:00<00:00,  2.67it/s]\u001b[A\n"
     ]
    },
    {
     "name": "stdout",
     "output_type": "stream",
     "text": [
      "Total files processed: 1\n"
     ]
    },
    {
     "name": "stderr",
     "output_type": "stream",
     "text": [
      "\n",
      "/w/hallb-scshelf2102/clas12/users/gmat/clas12/neutneut/analysis/neutron_ml/../../src/TrainData.py:84: FutureWarning: The default of observed=False is deprecated and will be changed to True in a future version of pandas. Pass observed=False to retain current behavior or observed=True to adopt the future default and silence this warning.\n",
      "  group_sizes = df.groupby(group_cols).size()\n",
      " 22%|████████▉                               | 44/197 [00:00<00:00, 428.68it/s]\u001b[A\n",
      "100%|████████████████████████████████████████████| 1/1 [00:00<00:00,  2.67it/s]\u001b[A\n",
      "100%|████████████████████████████████████████████| 1/1 [00:00<00:00,  2.53it/s]"
     ]
    },
    {
     "name": "stdout",
     "output_type": "stream",
     "text": [
      "Total files processed: 1"
     ]
    },
    {
     "name": "stderr",
     "output_type": "stream",
     "text": [
      "\n"
     ]
    },
    {
     "name": "stdout",
     "output_type": "stream",
     "text": [
      "\n"
     ]
    },
    {
     "name": "stderr",
     "output_type": "stream",
     "text": [
      "\n"
     ]
    },
    {
     "name": "stdout",
     "output_type": "stream",
     "text": [
      "Total files processed: 1\n"
     ]
    },
    {
     "name": "stderr",
     "output_type": "stream",
     "text": [
      " 58%|██████████████████████▋                | 114/196 [00:00<00:00, 300.73it/s]/w/hallb-scshelf2102/clas12/users/gmat/clas12/neutneut/analysis/neutron_ml/../../src/TrainData.py:84: FutureWarning: The default of observed=False is deprecated and will be changed to True in a future version of pandas. Pass observed=False to retain current behavior or observed=True to adopt the future default and silence this warning.\n",
      "  group_sizes = df.groupby(group_cols).size()\n",
      "\u001b[A\n",
      "/w/hallb-scshelf2102/clas12/users/gmat/clas12/neutneut/analysis/neutron_ml/../../src/TrainData.py:84: FutureWarning: The default of observed=False is deprecated and will be changed to True in a future version of pandas. Pass observed=False to retain current behavior or observed=True to adopt the future default and silence this warning.\n",
      "  group_sizes = df.groupby(group_cols).size()\n",
      "100%|████████████████████████████████████████████| 1/1 [00:00<00:00,  2.40it/s]\u001b[A\n",
      "\n"
     ]
    },
    {
     "name": "stdout",
     "output_type": "stream",
     "text": [
      "Total files processed: 1"
     ]
    },
    {
     "name": "stderr",
     "output_type": "stream",
     "text": [
      "100%|████████████████████████████████████████████| 1/1 [00:00<00:00,  4.15it/s]"
     ]
    },
    {
     "name": "stdout",
     "output_type": "stream",
     "text": [
      "\n"
     ]
    },
    {
     "name": "stderr",
     "output_type": "stream",
     "text": [
      "\u001b[A/w/hallb-scshelf2102/clas12/users/gmat/clas12/neutneut/analysis/neutron_ml/../../src/TrainData.py:84: FutureWarning: The default of observed=False is deprecated and will be changed to True in a future version of pandas. Pass observed=False to retain current behavior or observed=True to adopt the future default and silence this warning.\n",
      "  group_sizes = df.groupby(group_cols).size()\n",
      "\n",
      " 21%|████████▍                               | 42/198 [00:00<00:00, 419.58it/s]\u001b[A\n",
      " 21%|████████▏                               | 41/199 [00:00<00:00, 403.02it/s]\u001b[A\n",
      "100%|████████████████████████████████████████████| 1/1 [00:00<00:00,  2.63it/s]\u001b[A\n",
      "\n"
     ]
    },
    {
     "name": "stdout",
     "output_type": "stream",
     "text": [
      "Total files processed: 1"
     ]
    },
    {
     "name": "stderr",
     "output_type": "stream",
     "text": [
      " 77%|██████████████████████████████         | 154/200 [00:00<00:00, 270.14it/s]\u001b[A"
     ]
    },
    {
     "name": "stdout",
     "output_type": "stream",
     "text": [
      "\n"
     ]
    },
    {
     "name": "stderr",
     "output_type": "stream",
     "text": [
      "\n",
      "/w/hallb-scshelf2102/clas12/users/gmat/clas12/neutneut/analysis/neutron_ml/../../src/TrainData.py:84: FutureWarning: The default of observed=False is deprecated and will be changed to True in a future version of pandas. Pass observed=False to retain current behavior or observed=True to adopt the future default and silence this warning.\n",
      "  group_sizes = df.groupby(group_cols).size()\n",
      "100%|████████████████████████████████████████████| 1/1 [00:00<00:00,  5.21it/s]\u001b[A\n",
      "  0%|                                                  | 0/199 [00:00<?, ?it/s]\u001b[A\n",
      "  0%|                                                  | 0/198 [00:00<?, ?it/s]\u001b[A\n",
      " 22%|████████▉                               | 44/197 [00:00<00:00, 439.45it/s]\u001b[A\n",
      " 61%|███████████████████████▌               | 115/190 [00:00<00:00, 263.76it/s]\u001b[A\n",
      " 20%|████████                                | 40/198 [00:00<00:00, 394.23it/s]\u001b[A\n",
      "100%|████████████████████████████████████████████| 1/1 [00:00<00:00,  4.97it/s]\u001b[A\n",
      " 20%|███████▉                                | 39/197 [00:00<00:00, 385.21it/s]\u001b[A\n",
      "  0%|                                                  | 0/196 [00:00<?, ?it/s]\u001b[A\n",
      "  0%|                                                  | 0/198 [00:00<?, ?it/s]\u001b[A\n",
      "100%|████████████████████████████████████████████| 1/1 [00:00<00:00,  2.94it/s]\u001b[A\n",
      "\n"
     ]
    },
    {
     "name": "stdout",
     "output_type": "stream",
     "text": [
      "Total files processed: 1\n"
     ]
    },
    {
     "name": "stderr",
     "output_type": "stream",
     "text": [
      " 25%|█████████▊                              | 49/199 [00:00<00:00, 487.55it/s]\u001b[A\n",
      "/w/hallb-scshelf2102/clas12/users/gmat/clas12/neutneut/analysis/neutron_ml/../../src/TrainData.py:84: FutureWarning: The default of observed=False is deprecated and will be changed to True in a future version of pandas. Pass observed=False to retain current behavior or observed=True to adopt the future default and silence this warning.\n",
      "  group_sizes = df.groupby(group_cols).size()\n",
      "100%|████████████████████████████████████████████| 1/1 [00:00<00:00,  5.26it/s]\u001b[A\n",
      " 69%|███████████████████████████            | 138/199 [00:00<00:00, 262.16it/s]\u001b[A\n",
      " 44%|█████████████████▋                      | 87/197 [00:00<00:00, 319.14it/s]\u001b[A\n",
      "100%|████████████████████████████████████████████| 1/1 [00:00<00:00,  2.31it/s]\u001b[A\n",
      "\n"
     ]
    },
    {
     "name": "stdout",
     "output_type": "stream",
     "text": [
      "Total files processed: 1\n"
     ]
    },
    {
     "name": "stderr",
     "output_type": "stream",
     "text": [
      " 44%|█████████████████▋                      | 88/199 [00:00<00:00, 302.05it/s]\u001b[A\n",
      "/w/hallb-scshelf2102/clas12/users/gmat/clas12/neutneut/analysis/neutron_ml/../../src/TrainData.py:84: FutureWarning: The default of observed=False is deprecated and will be changed to True in a future version of pandas. Pass observed=False to retain current behavior or observed=True to adopt the future default and silence this warning.\n",
      "  group_sizes = df.groupby(group_cols).size()\n",
      "100%|████████████████████████████████████████████| 1/1 [00:00<00:00,  4.88it/s]\u001b[A\n",
      " 91%|███████████████████████████████████▍   | 182/200 [00:00<00:00, 249.83it/s]\u001b[A\n",
      "100%|████████████████████████████████████████████| 1/1 [00:00<00:00,  3.79it/s]\u001b[A\n",
      " 42%|████████████████▉                       | 84/198 [00:00<00:00, 303.75it/s]\u001b[A\n",
      " 41%|████████████████▍                       | 82/199 [00:00<00:00, 298.85it/s]\u001b[A\n",
      "100%|████████████████████████████████████████████| 1/1 [00:00<00:00,  4.09it/s]\u001b[A\n",
      "  0%|                                                  | 0/195 [00:00<?, ?it/s]\u001b[A\n",
      "  0%|                                                  | 0/193 [00:00<?, ?it/s]\u001b[A\n",
      "  0%|                                                  | 0/196 [00:00<?, ?it/s]\u001b[A\n",
      " 23%|█████████                               | 45/199 [00:00<00:00, 447.48it/s]\u001b[A\n",
      " 75%|█████████████████████████████▎         | 143/190 [00:00<00:00, 239.32it/s]\u001b[A\n",
      " 19%|███████▋                                | 38/198 [00:00<00:00, 379.75it/s]\u001b[A\n",
      " 45%|█████████████████▊                      | 88/197 [00:00<00:00, 334.06it/s]\u001b[A\n",
      "100%|████████████████████████████████████████████| 1/1 [00:00<00:00,  2.47it/s]\u001b[A\n"
     ]
    },
    {
     "name": "stdout",
     "output_type": "stream",
     "text": [
      "Total files processed: 1"
     ]
    },
    {
     "name": "stderr",
     "output_type": "stream",
     "text": [
      "\n",
      "  0%|                                                  | 0/198 [00:00<?, ?it/s]\u001b[A"
     ]
    },
    {
     "name": "stdout",
     "output_type": "stream",
     "text": [
      "\n"
     ]
    },
    {
     "name": "stderr",
     "output_type": "stream",
     "text": [
      "100%|████████████████████████████████████████████| 1/1 [00:00<00:00,  2.88it/s]/w/hallb-scshelf2102/clas12/users/gmat/clas12/neutneut/analysis/neutron_ml/../../src/TrainData.py:84: FutureWarning: The default of observed=False is deprecated and will be changed to True in a future version of pandas. Pass observed=False to retain current behavior or observed=True to adopt the future default and silence this warning.\n",
      "  group_sizes = df.groupby(group_cols).size()\n",
      "\n",
      "\n"
     ]
    },
    {
     "name": "stdout",
     "output_type": "stream",
     "text": [
      "Total files processed: 1\n"
     ]
    },
    {
     "name": "stderr",
     "output_type": "stream",
     "text": [
      " 40%|████████████████▏                       | 80/198 [00:00<00:00, 290.96it/s]/w/hallb-scshelf2102/clas12/users/gmat/clas12/neutneut/analysis/neutron_ml/../../src/TrainData.py:84: FutureWarning: The default of observed=False is deprecated and will be changed to True in a future version of pandas. Pass observed=False to retain current behavior or observed=True to adopt the future default and silence this warning.\n",
      "  group_sizes = df.groupby(group_cols).size()\n",
      "\u001b[A\n",
      "  0%|                                                  | 0/198 [00:00<?, ?it/s]\u001b[A\n",
      "100%|████████████████████████████████████████████| 1/1 [00:00<00:00,  2.40it/s]\u001b[A\n"
     ]
    },
    {
     "name": "stdout",
     "output_type": "stream",
     "text": [
      "Total files processed: 1"
     ]
    },
    {
     "name": "stderr",
     "output_type": "stream",
     "text": [
      "\n",
      " 83%|████████████████████████████████▎      | 165/199 [00:00<00:00, 242.45it/s]"
     ]
    },
    {
     "name": "stdout",
     "output_type": "stream",
     "text": [
      "\n"
     ]
    },
    {
     "name": "stderr",
     "output_type": "stream",
     "text": [
      "\u001b[A/w/hallb-scshelf2102/clas12/users/gmat/clas12/neutneut/analysis/neutron_ml/../../src/TrainData.py:84: FutureWarning: The default of observed=False is deprecated and will be changed to True in a future version of pandas. Pass observed=False to retain current behavior or observed=True to adopt the future default and silence this warning.\n",
      "  group_sizes = df.groupby(group_cols).size()\n",
      "\n",
      " 40%|███████████████▊                        | 78/197 [00:00<00:00, 263.38it/s]\u001b[A\n",
      "  0%|                                                  | 0/198 [00:00<?, ?it/s]\u001b[A\n",
      " 89%|██████████████████████████████████▊    | 175/196 [00:00<00:00, 250.70it/s]\u001b[A\n",
      " 22%|████████▊                               | 43/196 [00:00<00:00, 428.75it/s]\u001b[A\n",
      "  0%|                                                  | 0/194 [00:00<?, ?it/s]\u001b[A\n",
      " 21%|████████▎                               | 41/198 [00:00<00:00, 409.57it/s]\u001b[A\n",
      " 21%|████████▍                               | 41/193 [00:00<00:00, 404.74it/s]\u001b[A\n",
      " 61%|███████████████████████▉               | 121/197 [00:00<00:00, 264.85it/s]\u001b[A\n",
      " 49%|███████████████████▋                    | 98/199 [00:00<00:00, 253.26it/s]\u001b[A\n",
      " 61%|███████████████████████▋               | 121/199 [00:00<00:00, 263.55it/s]\u001b[A\n",
      "100%|████████████████████████████████████████████| 1/1 [00:00<00:00,  2.06it/s]\u001b[A\n",
      "\n"
     ]
    },
    {
     "name": "stdout",
     "output_type": "stream",
     "text": [
      "Total files processed: 1"
     ]
    },
    {
     "name": "stderr",
     "output_type": "stream",
     "text": [
      "100%|████████████████████████████████████████████| 1/1 [00:00<00:00,  2.16it/s]\u001b[A\n"
     ]
    },
    {
     "name": "stdout",
     "output_type": "stream",
     "text": [
      "Total files processed: 1\n"
     ]
    },
    {
     "name": "stderr",
     "output_type": "stream",
     "text": [
      "/w/hallb-scshelf2102/clas12/users/gmat/clas12/neutneut/analysis/neutron_ml/../../src/TrainData.py:84: FutureWarning: The default of observed=False is deprecated and will be changed to True in a future version of pandas. Pass observed=False to retain current behavior or observed=True to adopt the future default and silence this warning.\n",
      "  group_sizes = df.groupby(group_cols).size()\n",
      "\n"
     ]
    },
    {
     "name": "stdout",
     "output_type": "stream",
     "text": [
      "\n"
     ]
    },
    {
     "name": "stderr",
     "output_type": "stream",
     "text": [
      "100%|████████████████████████████████████████████| 1/1 [00:00<00:00,  4.18it/s]/w/hallb-scshelf2102/clas12/users/gmat/clas12/neutneut/analysis/neutron_ml/../../src/TrainData.py:84: FutureWarning: The default of observed=False is deprecated and will be changed to True in a future version of pandas. Pass observed=False to retain current behavior or observed=True to adopt the future default and silence this warning.\n",
      "  group_sizes = df.groupby(group_cols).size()\n",
      "\u001b[A\n",
      " 88%|██████████████████████████████████▍    | 168/190 [00:00<00:00, 226.55it/s]\u001b[A\n",
      " 21%|████████▍                               | 41/195 [00:00<00:00, 406.71it/s]\u001b[A\n",
      " 62%|████████████████████████▎              | 123/197 [00:00<00:00, 293.71it/s]\u001b[A\n",
      " 45%|██████████████████                      | 90/199 [00:00<00:00, 336.79it/s]\u001b[A\n",
      " 38%|███████████████▎                        | 76/198 [00:00<00:00, 296.58it/s]\u001b[A\n",
      "100%|███████████████████████████████████████| 200/200 [00:00<00:00, 207.78it/s]\u001b[A\n",
      "\n",
      "100%|████████████████████████████████████████████| 1/1 [00:00<00:00,  2.22it/s]\u001b[A\n",
      "\n"
     ]
    },
    {
     "name": "stdout",
     "output_type": "stream",
     "text": [
      "Total files processed: 1"
     ]
    },
    {
     "name": "stderr",
     "output_type": "stream",
     "text": [
      "  0%|                                                    | 0/1 [00:00<?, ?it/s]"
     ]
    },
    {
     "name": "stdout",
     "output_type": "stream",
     "text": [
      "\n"
     ]
    },
    {
     "name": "stderr",
     "output_type": "stream",
     "text": [
      "\u001b[A\n",
      " 56%|█████████████████████▊                 | 111/198 [00:00<00:00, 248.86it/s]\u001b[A/w/hallb-scshelf2102/clas12/users/gmat/clas12/neutneut/analysis/neutron_ml/../../src/TrainData.py:84: FutureWarning: The default of observed=False is deprecated and will be changed to True in a future version of pandas. Pass observed=False to retain current behavior or observed=True to adopt the future default and silence this warning.\n",
      "  group_sizes = df.groupby(group_cols).size()\n",
      "\n",
      "  0%|                                                  | 0/198 [00:00<?, ?it/s]\u001b[A\n",
      " 95%|█████████████████████████████████████▏ | 190/199 [00:00<00:00, 224.22it/s]\u001b[A\n",
      " 21%|████████▎                               | 41/198 [00:00<00:00, 404.19it/s]\u001b[A\n",
      " 54%|█████████████████████▏                 | 107/197 [00:00<00:00, 245.68it/s]\u001b[A\n",
      " 21%|████████▍                               | 42/198 [00:00<00:00, 418.64it/s]\u001b[A\n",
      "  0%|                                                  | 0/195 [00:00<?, ?it/s]\u001b[A\n",
      " 21%|████████▌                               | 42/196 [00:00<00:00, 410.85it/s]\u001b[A\n",
      "  0%|                                                  | 0/198 [00:00<?, ?it/s]\u001b[A\n",
      " 76%|█████████████████████████████▍         | 149/197 [00:00<00:00, 232.21it/s]\u001b[A\n",
      " 75%|█████████████████████████████▏         | 149/199 [00:00<00:00, 231.71it/s]\u001b[A\n",
      " 65%|█████████████████████████▍             | 130/199 [00:00<00:00, 228.36it/s]\u001b[A\n",
      " 41%|████████████████▌                       | 82/198 [00:00<00:00, 274.76it/s]\u001b[A\n",
      " 72%|████████████████████████████           | 143/199 [00:00<00:00, 236.66it/s]\u001b[A\n",
      " 22%|████████▉                               | 44/198 [00:00<00:00, 439.59it/s]\u001b[A\n",
      " 74%|████████████████████████████▊          | 146/198 [00:00<00:00, 238.40it/s]\u001b[A\n",
      " 44%|█████████████████▌                      | 86/196 [00:00<00:00, 276.18it/s]\u001b[A\n",
      " 42%|████████████████▉                       | 82/193 [00:00<00:00, 268.54it/s]\u001b[A\n",
      "100%|███████████████████████████████████████| 196/196 [00:00<00:00, 204.01it/s]\u001b[A\n",
      "100%|████████████████████████████████████████████| 1/1 [00:00<00:00,  1.98it/s]\n"
     ]
    },
    {
     "name": "stdout",
     "output_type": "stream",
     "text": [
      "Total files processed: 1"
     ]
    },
    {
     "name": "stderr",
     "output_type": "stream",
     "text": [
      "100%|███████████████████████████████████████| 199/199 [00:00<00:00, 205.27it/s]"
     ]
    },
    {
     "name": "stdout",
     "output_type": "stream",
     "text": [
      "\n"
     ]
    },
    {
     "name": "stderr",
     "output_type": "stream",
     "text": [
      "/w/hallb-scshelf2102/clas12/users/gmat/clas12/neutneut/analysis/neutron_ml/../../src/TrainData.py:84: FutureWarning: The default of observed=False is deprecated and will be changed to True in a future version of pandas. Pass observed=False to retain current behavior or observed=True to adopt the future default and silence this warning.\n",
      "  group_sizes = df.groupby(group_cols).size()\n",
      "\n",
      "\n",
      " 78%|██████████████████████████████▍        | 154/197 [00:00<00:00, 248.02it/s]\u001b[A\n",
      " 63%|████████████████████████▋              | 126/199 [00:00<00:00, 275.13it/s]\u001b[A\n",
      " 54%|█████████████████████                  | 107/198 [00:00<00:00, 237.48it/s]\u001b[A\n",
      " 69%|██████████████████████████▉            | 137/198 [00:00<00:00, 215.26it/s]\u001b[A\n",
      " 42%|████████████████▊                       | 82/195 [00:00<00:00, 262.21it/s]\u001b[A\n",
      " 68%|██████████████████████████▎            | 133/197 [00:00<00:00, 213.43it/s]\u001b[A\n",
      " 44%|█████████████████▌                      | 86/196 [00:00<00:00, 271.53it/s]\u001b[A\n",
      " 48%|███████████████████                     | 92/193 [00:00<00:00, 281.37it/s]\u001b[A\n",
      " 42%|████████████████▉                       | 84/198 [00:00<00:00, 325.01it/s]\u001b[A\n",
      " 41%|████████████████▌                       | 82/198 [00:00<00:00, 278.28it/s]\u001b[A\n",
      "100%|███████████████████████████████████████| 190/190 [00:01<00:00, 184.09it/s]\u001b[A\n",
      "\n",
      "  0%|                                                  | 0/197 [00:00<?, ?it/s]\u001b[A\n",
      " 88%|██████████████████████████████████▍    | 174/197 [00:00<00:00, 209.98it/s]\u001b[A\n",
      " 87%|██████████████████████████████████     | 174/199 [00:00<00:00, 210.02it/s]\u001b[A\n",
      " 21%|████████▍                               | 41/195 [00:00<00:00, 405.28it/s]\u001b[A\n",
      " 43%|█████████████████▏                      | 84/196 [00:00<00:00, 290.67it/s]\u001b[A\n",
      "  0%|                                                  | 0/195 [00:00<?, ?it/s]\u001b[A\n",
      " 78%|██████████████████████████████▌        | 156/199 [00:00<00:00, 206.77it/s]\u001b[A\n",
      " 84%|████████████████████████████████▉      | 168/199 [00:00<00:00, 208.28it/s]\u001b[A\n",
      " 23%|█████████                               | 45/198 [00:00<00:00, 441.90it/s]\u001b[A\n",
      " 57%|██████████████████████▎                | 113/198 [00:00<00:00, 230.72it/s]\u001b[A\n",
      " 86%|█████████████████████████████████▋     | 171/198 [00:00<00:00, 202.00it/s]\u001b[A\n",
      " 57%|██████████████████████▎                | 113/198 [00:00<00:00, 244.39it/s]\u001b[A\n",
      "  0%|                                                  | 0/200 [00:00<?, ?it/s]\u001b[A\n",
      " 58%|██████████████████████▋                | 112/193 [00:00<00:00, 214.07it/s]\u001b[A\n",
      " 60%|███████████████████████▎               | 117/196 [00:00<00:00, 220.21it/s]\u001b[A\n",
      "100%|████████████████████████████████████████████| 1/1 [00:00<00:00,  5.23it/s]\u001b[A\n",
      " 91%|███████████████████████████████████▋   | 180/197 [00:00<00:00, 219.32it/s]\u001b[A\n",
      " 44%|█████████████████▊                      | 88/198 [00:00<00:00, 266.64it/s]\u001b[A\n",
      " 78%|██████████████████████████████▌        | 156/199 [00:00<00:00, 244.06it/s]\u001b[A\n",
      " 43%|█████████████████▎                      | 84/194 [00:00<00:00, 249.90it/s]\u001b[A\n",
      " 81%|███████████████████████████████▌       | 160/198 [00:00<00:00, 193.13it/s]\u001b[A\n",
      " 79%|██████████████████████████████▉        | 156/197 [00:00<00:00, 195.61it/s]\u001b[A\n",
      " 67%|██████████████████████████▏            | 133/198 [00:00<00:00, 204.64it/s]\u001b[A\n",
      " 57%|██████████████████████▍                | 112/195 [00:00<00:00, 230.58it/s]\u001b[A\n",
      " 60%|███████████████████████▎               | 117/196 [00:00<00:00, 242.19it/s]\u001b[A\n",
      " 64%|█████████████████████████              | 124/193 [00:00<00:00, 254.33it/s]\u001b[A\n",
      "  0%|                                                  | 0/195 [00:00<?, ?it/s]\u001b[A\n",
      " 99%|██████████████████████████████████████▊| 196/197 [00:00<00:00, 189.11it/s]\u001b[A\n",
      " 98%|██████████████████████████████████████▍| 196/199 [00:00<00:00, 187.84it/s]\u001b[A\n",
      "Processing CSV files:  29%|█████▏            | 143/500 [00:10<00:29, 12.02it/s]\u001b[A\n",
      " 90%|███████████████████████████████████    | 179/199 [00:00<00:00, 188.17it/s]\u001b[A\n",
      " 95%|█████████████████████████████████████▏ | 190/199 [00:00<00:00, 187.23it/s]\u001b[A\n",
      " 70%|███████████████████████████▏           | 138/198 [00:00<00:00, 210.35it/s]\u001b[A\n",
      " 59%|███████████████████████                | 116/196 [00:00<00:00, 236.46it/s]\u001b[A\n",
      " 42%|████████████████▊                       | 82/195 [00:00<00:00, 267.65it/s]\u001b[A\n",
      " 45%|██████████████████▏                     | 90/198 [00:00<00:00, 272.87it/s]\u001b[A\n",
      " 21%|████████▌                               | 42/197 [00:00<00:00, 418.68it/s]\u001b[A\n",
      " 97%|██████████████████████████████████████ | 193/198 [00:00<00:00, 181.39it/s]\u001b[A\n",
      " 22%|████████▌                               | 42/195 [00:00<00:00, 415.88it/s]\u001b[A\n",
      "  0%|                                                  | 0/199 [00:00<?, ?it/s]\u001b[A\n",
      " 70%|███████████████████████████▍           | 136/193 [00:00<00:00, 191.68it/s]\u001b[A\n",
      "  0%|                                                    | 0/1 [00:00<?, ?it/s]\u001b[A\n",
      " 45%|██████████████████▏                     | 90/198 [00:00<00:00, 286.28it/s]\u001b[A\n",
      " 79%|██████████████████████████████▋        | 156/198 [00:00<00:00, 300.22it/s]\u001b[A\n",
      "100%|███████████████████████████████████████| 197/197 [00:01<00:00, 192.85it/s]\u001b[A\n",
      "\n",
      " 91%|███████████████████████████████████▋   | 182/199 [00:00<00:00, 214.35it/s]\u001b[A\n",
      " 91%|███████████████████████████████████▍   | 180/198 [00:00<00:00, 172.64it/s]\u001b[A\n",
      "  0%|                                                    | 0/1 [00:00<?, ?it/s]\u001b[A\n",
      " 90%|███████████████████████████████████    | 177/197 [00:00<00:00, 173.99it/s]\u001b[A\n",
      " 60%|███████████████████████▍               | 119/198 [00:00<00:00, 226.07it/s]\u001b[A\n",
      "100%|████████████████████████████████████████████| 1/1 [00:00<00:00,  2.19it/s]\u001b[A\n",
      "\n"
     ]
    },
    {
     "name": "stdout",
     "output_type": "stream",
     "text": [
      "Total files processed: 1"
     ]
    },
    {
     "name": "stderr",
     "output_type": "stream",
     "text": [
      " 78%|██████████████████████████████▌        | 155/198 [00:00<00:00, 179.80it/s]"
     ]
    },
    {
     "name": "stdout",
     "output_type": "stream",
     "text": [
      "\n"
     ]
    },
    {
     "name": "stderr",
     "output_type": "stream",
     "text": [
      "\u001b[A\n",
      "/w/hallb-scshelf2102/clas12/users/gmat/clas12/neutneut/analysis/neutron_ml/../../src/TrainData.py:84: FutureWarning: The default of observed=False is deprecated and will be changed to True in a future version of pandas. Pass observed=False to retain current behavior or observed=True to adopt the future default and silence this warning.\n",
      "  group_sizes = df.groupby(group_cols).size()\n",
      " 58%|██████████████████████▋                | 113/194 [00:00<00:00, 209.84it/s]\u001b[A\n",
      " 70%|███████████████████████████▍           | 137/195 [00:00<00:00, 194.67it/s]\u001b[A\n",
      "100%|███████████████████████████████████████| 197/197 [00:00<00:00, 197.67it/s]\u001b[A\n",
      "\n",
      " 79%|██████████████████████████████▋        | 152/193 [00:00<00:00, 219.98it/s]\u001b[A\n",
      "100%|███████████████████████████████████████| 199/199 [00:01<00:00, 181.56it/s]\u001b[A\n",
      "  0%|                                                  | 0/197 [00:00<?, ?it/s]\u001b[A\n",
      "  0%|                                                    | 0/1 [00:00<?, ?it/s]\u001b[A\n",
      " 81%|███████████████████████████████▌       | 160/198 [00:00<00:00, 198.23it/s]\u001b[A\n",
      " 74%|████████████████████████████▊          | 146/198 [00:00<00:00, 227.69it/s]\u001b[A\n",
      " 72%|████████████████████████████▎          | 142/196 [00:00<00:00, 225.75it/s]\u001b[A\n",
      " 57%|██████████████████████▍                | 112/195 [00:00<00:00, 254.62it/s]\u001b[A\n",
      " 81%|███████████████████████████████▋       | 157/193 [00:00<00:00, 189.41it/s]\u001b[A\n",
      " 61%|███████████████████████▊               | 121/198 [00:00<00:00, 252.80it/s]\u001b[A\n",
      " 22%|████████▊                               | 43/195 [00:00<00:00, 420.62it/s]\u001b[A\n",
      " 83%|████████████████████████████████▍      | 163/196 [00:00<00:00, 189.41it/s]\u001b[A\n",
      " 43%|█████████████████                       | 84/197 [00:00<00:00, 315.81it/s]\u001b[A\n",
      "100%|███████████████████████████████████████| 199/199 [00:01<00:00, 177.82it/s]\u001b[A\n",
      "\n",
      " 95%|█████████████████████████████████████▏ | 189/198 [00:00<00:00, 283.15it/s]\u001b[A\n",
      "100%|███████████████████████████████████████| 198/198 [00:01<00:00, 174.93it/s]\u001b[A\n",
      "\n",
      "100%|███████████████████████████████████████| 198/198 [00:01<00:00, 166.33it/s]\u001b[A\n",
      "100%|███████████████████████████████████████| 199/199 [00:01<00:00, 177.69it/s]\u001b[A\n",
      "\n",
      "100%|███████████████████████████████████████| 199/199 [00:01<00:00, 166.89it/s]\u001b[A\n",
      "\n",
      " 73%|████████████████████████████▎          | 144/198 [00:00<00:00, 211.69it/s]\u001b[A\n",
      " 71%|███████████████████████████▌           | 137/194 [00:00<00:00, 199.09it/s]\u001b[A\n",
      " 81%|███████████████████████████████▌       | 158/195 [00:00<00:00, 181.71it/s]\u001b[A\n",
      " 85%|█████████████████████████████████      | 166/196 [00:00<00:00, 196.89it/s]\u001b[A\n",
      " 91%|███████████████████████████████████▌   | 176/193 [00:00<00:00, 205.73it/s]\u001b[A\n",
      " 91%|███████████████████████████████████▋   | 181/198 [00:00<00:00, 191.10it/s]\u001b[A\n",
      " 85%|█████████████████████████████████      | 166/196 [00:00<00:00, 215.45it/s]\u001b[A\n",
      "100%|███████████████████████████████████████| 199/199 [00:01<00:00, 194.36it/s]\u001b[A\n",
      "\n",
      " 86%|█████████████████████████████████▍     | 170/198 [00:00<00:00, 209.56it/s]\u001b[A\n",
      " 92%|███████████████████████████████████▊   | 177/193 [00:00<00:00, 186.08it/s]\u001b[A\n",
      " 71%|███████████████████████████▊           | 139/195 [00:00<00:00, 236.47it/s]\u001b[A\n",
      "100%|███████████████████████████████████████| 198/198 [00:01<00:00, 168.75it/s]\u001b[A\n",
      "\n",
      " 93%|████████████████████████████████████▍  | 183/196 [00:00<00:00, 184.56it/s]\u001b[A\n",
      " 75%|█████████████████████████████▎         | 149/198 [00:00<00:00, 235.41it/s]\u001b[A\n",
      " 20%|████████                                | 40/197 [00:00<00:00, 396.65it/s]\u001b[A\n",
      "100%|████████████████████████████████████████████| 1/1 [00:00<00:00,  5.80it/s]\u001b[A\n",
      " 60%|███████████████████████▎               | 118/197 [00:00<00:00, 276.40it/s]\u001b[A\n",
      "Processing CSV files:  29%|█████▎            | 146/500 [00:10<00:31, 11.18it/s]\u001b[A\n",
      " 76%|█████████████████████████████▋         | 151/198 [00:00<00:00, 236.06it/s]\u001b[A\n",
      " 97%|█████████████████████████████████████▊ | 192/198 [00:01<00:00, 161.29it/s]\u001b[A\n",
      "100%|████████████████████████████████████████████| 1/1 [00:00<00:00,  7.26it/s]\u001b[A\n",
      " 84%|████████████████████████████████▉      | 167/198 [00:00<00:00, 200.00it/s]\u001b[A\n",
      " 82%|███████████████████████████████▉       | 159/194 [00:00<00:00, 194.89it/s]\u001b[A\n",
      " 61%|███████████████████████▌               | 118/195 [00:00<00:00, 264.35it/s]\u001b[A\n",
      "100%|████████████████████████████████████████████| 1/1 [00:00<00:00,  4.17it/s]\u001b[A\n",
      " 91%|███████████████████████████████████▍   | 177/195 [00:00<00:00, 171.76it/s]\u001b[A\n",
      " 95%|█████████████████████████████████████▏ | 187/196 [00:00<00:00, 188.58it/s]\u001b[A\n",
      "100%|███████████████████████████████████████| 197/197 [00:01<00:00, 160.87it/s]\u001b[A\n",
      "100%|███████████████████████████████████████| 198/198 [00:00<00:00, 216.19it/s]\n",
      "\n",
      "  0%|                                                  | 0/196 [00:00<?, ?it/s]\u001b[A\n",
      " 96%|█████████████████████████████████████▍ | 188/196 [00:00<00:00, 191.87it/s]\u001b[A\n",
      " 97%|█████████████████████████████████████▊ | 192/198 [00:00<00:00, 188.49it/s]\u001b[A\n",
      " 84%|████████████████████████████████▊      | 164/195 [00:00<00:00, 210.85it/s]\u001b[A\n",
      "Processing CSV files:  30%|█████▎            | 149/500 [00:10<00:26, 13.01it/s]\u001b[A\n",
      " 64%|████████████████████████▉              | 128/200 [00:00<00:00, 254.08it/s]\u001b[A\n",
      " 88%|██████████████████████████████████▎    | 174/198 [00:00<00:00, 205.37it/s]\u001b[A\n",
      " 89%|██████████████████████████████████▋    | 176/198 [00:00<00:00, 224.49it/s]\u001b[A\n",
      "100%|████████████████████████████████████████████| 1/1 [00:00<00:00,  2.93it/s]\u001b[A\n"
     ]
    },
    {
     "name": "stdout",
     "output_type": "stream",
     "text": [
      "Total files processed: 1"
     ]
    },
    {
     "name": "stderr",
     "output_type": "stream",
     "text": [
      "100%|███████████████████████████████████████| 198/198 [00:01<00:00, 182.49it/s]"
     ]
    },
    {
     "name": "stdout",
     "output_type": "stream",
     "text": [
      "\n"
     ]
    },
    {
     "name": "stderr",
     "output_type": "stream",
     "text": [
      "\n",
      "\n",
      "  0%|                                                    | 0/1 [00:00<?, ?it/s]/w/hallb-scshelf2102/clas12/users/gmat/clas12/neutneut/analysis/neutron_ml/../../src/TrainData.py:84: FutureWarning: The default of observed=False is deprecated and will be changed to True in a future version of pandas. Pass observed=False to retain current behavior or observed=True to adopt the future default and silence this warning.\n",
      "  group_sizes = df.groupby(group_cols).size()\n",
      "100%|███████████████████████████████████████| 193/193 [00:01<00:00, 191.87it/s]\n",
      "100%|███████████████████████████████████████| 193/193 [00:01<00:00, 176.89it/s]\n",
      "100%|███████████████████████████████████████| 196/196 [00:01<00:00, 178.13it/s]\n",
      "\n",
      " 95%|█████████████████████████████████████  | 188/198 [00:00<00:00, 193.00it/s]\u001b[A\n",
      " 93%|████████████████████████████████████▏  | 180/194 [00:00<00:00, 190.72it/s]\u001b[A\n",
      " 61%|███████████████████████▊               | 119/195 [00:00<00:00, 276.17it/s]\u001b[A\n",
      " 46%|██████████████████▍                     | 92/199 [00:00<00:00, 192.67it/s]\u001b[A\n",
      "100%|████████████████████████████████████████████| 1/1 [00:00<00:00,  2.90it/s]\u001b[A\n",
      "100%|███████████████████████████████████████| 198/198 [00:01<00:00, 163.98it/s]\n"
     ]
    },
    {
     "name": "stdout",
     "output_type": "stream",
     "text": [
      "Total files processed: 1\n"
     ]
    },
    {
     "name": "stderr",
     "output_type": "stream",
     "text": [
      "\n",
      "  0%|                                                    | 0/1 [00:00<?, ?it/s]\u001b[A/w/hallb-scshelf2102/clas12/users/gmat/clas12/neutneut/analysis/neutron_ml/../../src/TrainData.py:84: FutureWarning: The default of observed=False is deprecated and will be changed to True in a future version of pandas. Pass observed=False to retain current behavior or observed=True to adopt the future default and silence this warning.\n",
      "  group_sizes = df.groupby(group_cols).size()\n",
      "\n",
      " 75%|█████████████████████████████▏         | 146/195 [00:00<00:00, 245.22it/s]\u001b[A\n",
      "  0%|                                                    | 0/1 [00:00<?, ?it/s]\u001b[A\n",
      "100%|███████████████████████████████████████| 196/196 [00:01<00:00, 183.05it/s]\u001b[A\n",
      "100%|███████████████████████████████████████| 198/198 [00:00<00:00, 238.97it/s]\n",
      "\n",
      "100%|███████████████████████████████████████| 195/195 [00:01<00:00, 171.30it/s]\u001b[A\n",
      " 78%|██████████████████████████████▍        | 156/200 [00:00<00:00, 251.80it/s]\u001b[A\n",
      "100%|████████████████████████████████████████████| 1/1 [00:00<00:00,  5.49it/s]\u001b[A\n",
      "  0%|                                                    | 0/1 [00:00<?, ?it/s]\u001b[A\n",
      "  0%|                                                    | 0/1 [00:00<?, ?it/s]\u001b[A\n",
      " 88%|██████████████████████████████████▍    | 174/197 [00:00<00:00, 256.79it/s]\u001b[A\n",
      "100%|███████████████████████████████████████| 198/198 [00:01<00:00, 187.38it/s]\u001b[A\n",
      "\n",
      "100%|███████████████████████████████████████| 195/195 [00:00<00:00, 218.81it/s]\u001b[A\n",
      "\n",
      "100%|████████████████████████████████████████████| 1/1 [00:00<00:00,  1.94it/s]\u001b[A\n",
      "100%|████████████████████████████████████████████| 1/1 [00:00<00:00,  3.68it/s]"
     ]
    },
    {
     "name": "stdout",
     "output_type": "stream",
     "text": [
      "Total files processed: 1"
     ]
    },
    {
     "name": "stderr",
     "output_type": "stream",
     "text": [
      "\n"
     ]
    },
    {
     "name": "stdout",
     "output_type": "stream",
     "text": [
      "\n"
     ]
    },
    {
     "name": "stderr",
     "output_type": "stream",
     "text": [
      "100%|███████████████████████████████████████| 198/198 [00:01<00:00, 188.64it/s]"
     ]
    },
    {
     "name": "stdout",
     "output_type": "stream",
     "text": [
      "Total files processed: 1\n"
     ]
    },
    {
     "name": "stderr",
     "output_type": "stream",
     "text": [
      "\n",
      "/w/hallb-scshelf2102/clas12/users/gmat/clas12/neutneut/analysis/neutron_ml/../../src/TrainData.py:84: FutureWarning: The default of observed=False is deprecated and will be changed to True in a future version of pandas. Pass observed=False to retain current behavior or observed=True to adopt the future default and silence this warning.\n",
      "  group_sizes = df.groupby(group_cols).size()\n",
      "/w/hallb-scshelf2102/clas12/users/gmat/clas12/neutneut/analysis/neutron_ml/../../src/TrainData.py:84: FutureWarning: The default of observed=False is deprecated and will be changed to True in a future version of pandas. Pass observed=False to retain current behavior or observed=True to adopt the future default and silence this warning.\n",
      "  group_sizes = df.groupby(group_cols).size()\n",
      "100%|███████████████████████████████████████| 196/196 [00:01<00:00, 179.59it/s]\n",
      "\n",
      "100%|███████████████████████████████████████| 194/194 [00:01<00:00, 179.56it/s]\u001b[A\n",
      "\n",
      "100%|███████████████████████████████████████| 198/198 [00:00<00:00, 201.70it/s]\u001b[A\n",
      "\n",
      " 56%|█████████████████████▉                 | 111/197 [00:00<00:00, 246.19it/s]\u001b[A\n",
      "  0%|                                                  | 0/193 [00:00<?, ?it/s]\u001b[A\n",
      " 67%|██████████████████████████             | 133/199 [00:00<00:00, 248.00it/s]\u001b[A\n",
      "100%|████████████████████████████████████████████| 1/1 [00:00<00:00,  5.84it/s]\u001b[A\n",
      "100%|███████████████████████████████████████| 195/195 [00:00<00:00, 247.58it/s]\u001b[A\n",
      "Processing CSV files:  31%|█████▋            | 157/500 [00:11<00:18, 18.75it/s]\n",
      "100%|███████████████████████████████████████| 195/195 [00:01<00:00, 154.34it/s]\u001b[A\n",
      "\n",
      "  0%|                                                    | 0/1 [00:00<?, ?it/s]\u001b[A\n",
      "  0%|                                                    | 0/1 [00:00<?, ?it/s]\u001b[A\n",
      " 91%|███████████████████████████████████▌   | 178/195 [00:00<00:00, 265.41it/s]\u001b[A\n",
      " 44%|█████████████████▌                      | 86/196 [00:00<00:00, 323.09it/s]\u001b[A\n",
      "100%|███████████████████████████████████████| 197/197 [00:00<00:00, 233.29it/s]\u001b[A\n",
      "\n",
      "  0%|                                                    | 0/1 [00:00<?, ?it/s]\u001b[A\n",
      "100%|████████████████████████████████████████████| 1/1 [00:00<00:00,  5.57it/s]\u001b[A\n",
      "100%|████████████████████████████████████████████| 1/1 [00:00<00:00,  5.51it/s]\u001b[A\n",
      "  0%|                                                    | 0/1 [00:00<?, ?it/s]\u001b[A\n",
      "100%|████████████████████████████████████████████| 1/1 [00:00<00:00,  6.40it/s]\u001b[A\n",
      "100%|████████████████████████████████████████████| 1/1 [00:00<00:00,  3.20it/s]\u001b[A\n",
      "\n"
     ]
    },
    {
     "name": "stdout",
     "output_type": "stream",
     "text": [
      "Total files processed: 1\n"
     ]
    },
    {
     "name": "stderr",
     "output_type": "stream",
     "text": [
      "  0%|                                                    | 0/1 [00:00<?, ?it/s]\u001b[A\n",
      "  0%|                                                    | 0/1 [00:00<?, ?it/s]/w/hallb-scshelf2102/clas12/users/gmat/clas12/neutneut/analysis/neutron_ml/../../src/TrainData.py:84: FutureWarning: The default of observed=False is deprecated and will be changed to True in a future version of pandas. Pass observed=False to retain current behavior or observed=True to adopt the future default and silence this warning.\n",
      "  group_sizes = df.groupby(group_cols).size()\n",
      "\u001b[A\n",
      "100%|████████████████████████████████████████████| 1/1 [00:00<00:00,  5.59it/s]\u001b[A\n",
      "  0%|                                                    | 0/1 [00:00<?, ?it/s]\u001b[A\n",
      "100%|███████████████████████████████████████| 200/200 [00:00<00:00, 239.71it/s]\u001b[A\n",
      "100%|████████████████████████████████████████████| 1/1 [00:00<00:00,  3.18it/s]\n",
      "\n"
     ]
    },
    {
     "name": "stdout",
     "output_type": "stream",
     "text": [
      "Total files processed: 1\n"
     ]
    },
    {
     "name": "stderr",
     "output_type": "stream",
     "text": [
      "  0%|                                                    | 0/1 [00:00<?, ?it/s]\u001b[A/w/hallb-scshelf2102/clas12/users/gmat/clas12/neutneut/analysis/neutron_ml/../../src/TrainData.py:84: FutureWarning: The default of observed=False is deprecated and will be changed to True in a future version of pandas. Pass observed=False to retain current behavior or observed=True to adopt the future default and silence this warning.\n",
      "  group_sizes = df.groupby(group_cols).size()\n",
      "\n",
      " 21%|████████▎                               | 40/193 [00:00<00:00, 397.48it/s]\u001b[A\n",
      "  0%|                                                  | 0/200 [00:00<?, ?it/s]\u001b[A\n",
      "100%|████████████████████████████████████████████| 1/1 [00:00<00:00,  3.54it/s]\u001b[A\n"
     ]
    },
    {
     "name": "stdout",
     "output_type": "stream",
     "text": [
      "Total files processed: 1"
     ]
    },
    {
     "name": "stderr",
     "output_type": "stream",
     "text": [
      "100%|████████████████████████████████████████████| 1/1 [00:00<00:00,  4.12it/s]"
     ]
    },
    {
     "name": "stdout",
     "output_type": "stream",
     "text": [
      "\n"
     ]
    },
    {
     "name": "stderr",
     "output_type": "stream",
     "text": [
      "\n",
      "100%|███████████████████████████████████████| 195/195 [00:00<00:00, 246.05it/s]"
     ]
    },
    {
     "name": "stdout",
     "output_type": "stream",
     "text": [
      "Total files processed: 1\n"
     ]
    },
    {
     "name": "stderr",
     "output_type": "stream",
     "text": [
      "/w/hallb-scshelf2102/clas12/users/gmat/clas12/neutneut/analysis/neutron_ml/../../src/TrainData.py:84: FutureWarning: The default of observed=False is deprecated and will be changed to True in a future version of pandas. Pass observed=False to retain current behavior or observed=True to adopt the future default and silence this warning.\n",
      "  group_sizes = df.groupby(group_cols).size()\n",
      "\n",
      "Processing CSV files:  33%|█████▉            | 165/500 [00:11<00:12, 27.05it/s]\n",
      " 21%|████████▌                               | 42/196 [00:00<00:00, 412.43it/s]/w/hallb-scshelf2102/clas12/users/gmat/clas12/neutneut/analysis/neutron_ml/../../src/TrainData.py:84: FutureWarning: The default of observed=False is deprecated and will be changed to True in a future version of pandas. Pass observed=False to retain current behavior or observed=True to adopt the future default and silence this warning.\n",
      "  group_sizes = df.groupby(group_cols).size()\n",
      "\u001b[A\n",
      "100%|████████████████████████████████████████████| 1/1 [00:00<00:00,  3.21it/s]\u001b[A\n",
      "\n",
      "  0%|                                                  | 0/194 [00:00<?, ?it/s]\u001b[A"
     ]
    },
    {
     "name": "stdout",
     "output_type": "stream",
     "text": [
      "Total files processed: 1\n"
     ]
    },
    {
     "name": "stderr",
     "output_type": "stream",
     "text": [
      "/w/hallb-scshelf2102/clas12/users/gmat/clas12/neutneut/analysis/neutron_ml/../../src/TrainData.py:84: FutureWarning: The default of observed=False is deprecated and will be changed to True in a future version of pandas. Pass observed=False to retain current behavior or observed=True to adopt the future default and silence this warning.\n",
      "  group_sizes = df.groupby(group_cols).size()\n",
      "100%|████████████████████████████████████████████| 1/1 [00:00<00:00,  3.68it/s]\n"
     ]
    },
    {
     "name": "stdout",
     "output_type": "stream",
     "text": [
      "Total files processed: 1"
     ]
    },
    {
     "name": "stderr",
     "output_type": "stream",
     "text": [
      "\n"
     ]
    },
    {
     "name": "stdout",
     "output_type": "stream",
     "text": [
      "\n"
     ]
    },
    {
     "name": "stderr",
     "output_type": "stream",
     "text": [
      "  0%|                                                    | 0/1 [00:00<?, ?it/s]\u001b[A/w/hallb-scshelf2102/clas12/users/gmat/clas12/neutneut/analysis/neutron_ml/../../src/TrainData.py:84: FutureWarning: The default of observed=False is deprecated and will be changed to True in a future version of pandas. Pass observed=False to retain current behavior or observed=True to adopt the future default and silence this warning.\n",
      "  group_sizes = df.groupby(group_cols).size()\n",
      "\n",
      "  0%|                                                    | 0/1 [00:00<?, ?it/s]\u001b[A\n",
      "  0%|                                                    | 0/1 [00:00<?, ?it/s]\u001b[A\n",
      "  0%|                                                    | 0/1 [00:00<?, ?it/s]\u001b[A\n",
      "  0%|                                                  | 0/196 [00:00<?, ?it/s]\u001b[A\n",
      " 84%|████████████████████████████████▊      | 166/197 [00:00<00:00, 240.19it/s]\u001b[A\n",
      "100%|███████████████████████████████████████| 199/199 [00:00<00:00, 242.65it/s]\u001b[A\n",
      "\n",
      "  0%|                                                    | 0/1 [00:00<?, ?it/s]\u001b[A\n",
      "100%|████████████████████████████████████████████| 1/1 [00:00<00:00,  5.92it/s]\u001b[A\n",
      "  0%|                                                  | 0/195 [00:00<?, ?it/s]\u001b[A\n",
      " 41%|████████████████▌                       | 80/193 [00:00<00:00, 340.70it/s]\u001b[A\n",
      "100%|████████████████████████████████████████████| 1/1 [00:00<00:00,  5.57it/s]\u001b[A\n",
      "Processing CSV files:  34%|██████            | 170/500 [00:11<00:10, 30.95it/s]\u001b[A\n",
      "  0%|                                                    | 0/1 [00:00<?, ?it/s]\u001b[A\n",
      "  0%|                                                    | 0/1 [00:00<?, ?it/s]\u001b[A\n",
      " 77%|██████████████████████████████         | 151/196 [00:00<00:00, 293.39it/s]\u001b[A\n",
      "100%|████████████████████████████████████████████| 1/1 [00:00<00:00,  3.54it/s]\u001b[A\n"
     ]
    },
    {
     "name": "stdout",
     "output_type": "stream",
     "text": [
      "Total files processed: 1\n"
     ]
    },
    {
     "name": "stderr",
     "output_type": "stream",
     "text": [
      "\n",
      "/w/hallb-scshelf2102/clas12/users/gmat/clas12/neutneut/analysis/neutron_ml/../../src/TrainData.py:84: FutureWarning: The default of observed=False is deprecated and will be changed to True in a future version of pandas. Pass observed=False to retain current behavior or observed=True to adopt the future default and silence this warning.\n",
      "  group_sizes = df.groupby(group_cols).size()\n",
      "100%|████████████████████████████████████████████| 1/1 [00:00<00:00,  3.01it/s]\u001b[A\n",
      "\n",
      " 19%|███████▌                                | 38/200 [00:00<00:00, 370.80it/s]"
     ]
    },
    {
     "name": "stdout",
     "output_type": "stream",
     "text": [
      "Total files processed: 1"
     ]
    },
    {
     "name": "stderr",
     "output_type": "stream",
     "text": [
      "\u001b[A"
     ]
    },
    {
     "name": "stdout",
     "output_type": "stream",
     "text": [
      "\n"
     ]
    },
    {
     "name": "stderr",
     "output_type": "stream",
     "text": [
      "/w/hallb-scshelf2102/clas12/users/gmat/clas12/neutneut/analysis/neutron_ml/../../src/TrainData.py:84: FutureWarning: The default of observed=False is deprecated and will be changed to True in a future version of pandas. Pass observed=False to retain current behavior or observed=True to adopt the future default and silence this warning.\n",
      "  group_sizes = df.groupby(group_cols).size()\n",
      "\n",
      "  0%|                                                    | 0/1 [00:00<?, ?it/s]\u001b[A\n",
      "100%|████████████████████████████████████████████| 1/1 [00:00<00:00,  3.26it/s]\u001b[A\n",
      "100%|████████████████████████████████████████████| 1/1 [00:00<00:00,  3.28it/s]"
     ]
    },
    {
     "name": "stdout",
     "output_type": "stream",
     "text": [
      "Total files processed: 1"
     ]
    },
    {
     "name": "stderr",
     "output_type": "stream",
     "text": [
      "\n"
     ]
    },
    {
     "name": "stdout",
     "output_type": "stream",
     "text": [
      "\n",
      "Total files processed: 1"
     ]
    },
    {
     "name": "stderr",
     "output_type": "stream",
     "text": [
      "\n"
     ]
    },
    {
     "name": "stdout",
     "output_type": "stream",
     "text": [
      "\n"
     ]
    },
    {
     "name": "stderr",
     "output_type": "stream",
     "text": [
      " 20%|████████                                | 39/194 [00:00<00:00, 383.05it/s]/w/hallb-scshelf2102/clas12/users/gmat/clas12/neutneut/analysis/neutron_ml/../../src/TrainData.py:84: FutureWarning: The default of observed=False is deprecated and will be changed to True in a future version of pandas. Pass observed=False to retain current behavior or observed=True to adopt the future default and silence this warning.\n",
      "  group_sizes = df.groupby(group_cols).size()\n",
      "\u001b[A/w/hallb-scshelf2102/clas12/users/gmat/clas12/neutneut/analysis/neutron_ml/../../src/TrainData.py:84: FutureWarning: The default of observed=False is deprecated and will be changed to True in a future version of pandas. Pass observed=False to retain current behavior or observed=True to adopt the future default and silence this warning.\n",
      "  group_sizes = df.groupby(group_cols).size()\n",
      "\n",
      " 97%|█████████████████████████████████████▊ | 191/197 [00:00<00:00, 226.44it/s]\u001b[A\n",
      "100%|████████████████████████████████████████████| 1/1 [00:00<00:00,  5.28it/s]\u001b[A\n",
      "100%|████████████████████████████████████████████| 1/1 [00:00<00:00,  4.43it/s]\u001b[A\n",
      " 19%|███████▊                                | 38/196 [00:00<00:00, 371.22it/s]\u001b[A\n",
      " 60%|███████████████████████▏               | 115/193 [00:00<00:00, 335.61it/s]\u001b[A\n",
      " 21%|████████▍                               | 41/195 [00:00<00:00, 406.47it/s]\u001b[A\n",
      "  0%|                                                  | 0/196 [00:00<?, ?it/s]\u001b[A\n",
      " 97%|██████████████████████████████████████ | 191/196 [00:00<00:00, 325.22it/s]\u001b[A\n",
      "100%|████████████████████████████████████████████| 1/1 [00:00<00:00,  3.92it/s]\u001b[A\n",
      "100%|████████████████████████████████████████████| 1/1 [00:00<00:00,  4.77it/s]\u001b[A\n",
      "  0%|                                                  | 0/199 [00:00<?, ?it/s]\u001b[A\n",
      "100%|████████████████████████████████████████████| 1/1 [00:00<00:00,  6.49it/s]\u001b[A\n",
      "100%|████████████████████████████████████████████| 1/1 [00:00<00:00,  3.77it/s]\u001b[A\n",
      " 43%|█████████████████▏                      | 84/196 [00:00<00:00, 340.45it/s]\u001b[A\n",
      " 19%|███████▍                                | 37/199 [00:00<00:00, 363.47it/s]\u001b[A\n",
      "100%|████████████████████████████████████████████| 1/1 [00:00<00:00,  5.39it/s]\u001b[A\n",
      "100%|████████████████████████████████████████████| 1/1 [00:00<00:00,  3.21it/s]\u001b[A\n",
      "100%|████████████████████████████████████████████| 1/1 [00:00<00:00,  3.56it/s]\u001b[A\n",
      "100%|████████████████████████████████████████████| 1/1 [00:00<00:00,  5.08it/s]\u001b[A\n",
      "100%|███████████████████████████████████████| 196/196 [00:00<00:00, 281.88it/s]\u001b[A\n",
      "\n",
      "100%|████████████████████████████████████████████| 1/1 [00:00<00:00,  4.40it/s]\u001b[A\n",
      "  0%|                                                    | 0/1 [00:00<?, ?it/s]\u001b[A\n",
      "  0%|                                                    | 0/1 [00:00<?, ?it/s]\u001b[A\n",
      "  0%|                                                  | 0/198 [00:00<?, ?it/s]\u001b[A\n",
      "100%|████████████████████████████████████████████| 1/1 [00:00<00:00,  2.71it/s]\u001b[A\n"
     ]
    },
    {
     "name": "stdout",
     "output_type": "stream",
     "text": [
      "Total files processed: 1\n"
     ]
    },
    {
     "name": "stderr",
     "output_type": "stream",
     "text": [
      "/w/hallb-scshelf2102/clas12/users/gmat/clas12/neutneut/analysis/neutron_ml/../../src/TrainData.py:84: FutureWarning: The default of observed=False is deprecated and will be changed to True in a future version of pandas. Pass observed=False to retain current behavior or observed=True to adopt the future default and silence this warning.\n",
      "  group_sizes = df.groupby(group_cols).size()\n",
      "100%|███████████████████████████████████████| 197/197 [00:00<00:00, 201.31it/s]\n",
      "100%|████████████████████████████████████████████| 1/1 [00:00<00:00,  2.38it/s]\n"
     ]
    },
    {
     "name": "stdout",
     "output_type": "stream",
     "text": [
      "Total files processed: 1"
     ]
    },
    {
     "name": "stderr",
     "output_type": "stream",
     "text": [
      "\n"
     ]
    },
    {
     "name": "stdout",
     "output_type": "stream",
     "text": [
      "\n"
     ]
    },
    {
     "name": "stderr",
     "output_type": "stream",
     "text": [
      "100%|████████████████████████████████████████████| 1/1 [00:00<00:00,  4.89it/s]\u001b[A/w/hallb-scshelf2102/clas12/users/gmat/clas12/neutneut/analysis/neutron_ml/../../src/TrainData.py:84: FutureWarning: The default of observed=False is deprecated and will be changed to True in a future version of pandas. Pass observed=False to retain current behavior or observed=True to adopt the future default and silence this warning.\n",
      "  group_sizes = df.groupby(group_cols).size()\n",
      "100%|████████████████████████████████████████████| 1/1 [00:00<00:00,  2.64it/s]\n"
     ]
    },
    {
     "name": "stdout",
     "output_type": "stream",
     "text": [
      "Total files processed: 1"
     ]
    },
    {
     "name": "stderr",
     "output_type": "stream",
     "text": [
      "100%|████████████████████████████████████████████| 1/1 [00:00<00:00,  3.41it/s]"
     ]
    },
    {
     "name": "stdout",
     "output_type": "stream",
     "text": [
      "\n"
     ]
    },
    {
     "name": "stderr",
     "output_type": "stream",
     "text": [
      "\n"
     ]
    },
    {
     "name": "stdout",
     "output_type": "stream",
     "text": [
      "Total files processed: 1"
     ]
    },
    {
     "name": "stderr",
     "output_type": "stream",
     "text": [
      "\n",
      "/w/hallb-scshelf2102/clas12/users/gmat/clas12/neutneut/analysis/neutron_ml/../../src/TrainData.py:84: FutureWarning: The default of observed=False is deprecated and will be changed to True in a future version of pandas. Pass observed=False to retain current behavior or observed=True to adopt the future default and silence this warning.\n",
      "  group_sizes = df.groupby(group_cols).size()\n"
     ]
    },
    {
     "name": "stdout",
     "output_type": "stream",
     "text": [
      "\n"
     ]
    },
    {
     "name": "stderr",
     "output_type": "stream",
     "text": [
      "/w/hallb-scshelf2102/clas12/users/gmat/clas12/neutneut/analysis/neutron_ml/../../src/TrainData.py:84: FutureWarning: The default of observed=False is deprecated and will be changed to True in a future version of pandas. Pass observed=False to retain current behavior or observed=True to adopt the future default and silence this warning.\n",
      "  group_sizes = df.groupby(group_cols).size()\n",
      " 21%|████████▏                               | 40/194 [00:00<00:00, 395.47it/s]\u001b[A\n",
      "  0%|                                                  | 0/197 [00:00<?, ?it/s]\u001b[A\n",
      "100%|████████████████████████████████████████████| 1/1 [00:00<00:00,  2.35it/s]\u001b[A\n",
      "100%|████████████████████████████████████████████| 1/1 [00:00<00:00,  3.06it/s]"
     ]
    },
    {
     "name": "stdout",
     "output_type": "stream",
     "text": [
      "Total files processed: 1"
     ]
    },
    {
     "name": "stderr",
     "output_type": "stream",
     "text": [
      "\n"
     ]
    },
    {
     "name": "stdout",
     "output_type": "stream",
     "text": [
      "\n"
     ]
    },
    {
     "name": "stderr",
     "output_type": "stream",
     "text": [
      "\n"
     ]
    },
    {
     "name": "stdout",
     "output_type": "stream",
     "text": [
      "Total files processed: 1"
     ]
    },
    {
     "name": "stderr",
     "output_type": "stream",
     "text": [
      " 77%|██████████████████████████████         | 149/193 [00:00<00:00, 285.51it/s]/w/hallb-scshelf2102/clas12/users/gmat/clas12/neutneut/analysis/neutron_ml/../../src/TrainData.py:84: FutureWarning: The default of observed=False is deprecated and will be changed to True in a future version of pandas. Pass observed=False to retain current behavior or observed=True to adopt the future default and silence this warning.\n",
      "  group_sizes = df.groupby(group_cols).size()\n",
      "\u001b[A\n",
      "100%|████████████████████████████████████████████| 1/1 [00:00<00:00,  5.87it/s]\u001b[A\n",
      " 39%|███████████████▌                        | 76/196 [00:00<00:00, 264.96it/s]\u001b[A\n",
      "  0%|                                                    | 0/1 [00:00<?, ?it/s]\u001b[A\n",
      "100%|████████████████████████████████████████████| 1/1 [00:00<00:00,  2.20it/s]\u001b[A\n"
     ]
    },
    {
     "name": "stdout",
     "output_type": "stream",
     "text": [
      "\n",
      "Total files processed: 1"
     ]
    },
    {
     "name": "stderr",
     "output_type": "stream",
     "text": [
      "\n"
     ]
    },
    {
     "name": "stdout",
     "output_type": "stream",
     "text": [
      "\n"
     ]
    },
    {
     "name": "stderr",
     "output_type": "stream",
     "text": [
      "  0%|                                                  | 0/197 [00:00<?, ?it/s]\u001b[A\n",
      "/w/hallb-scshelf2102/clas12/users/gmat/clas12/neutneut/analysis/neutron_ml/../../src/TrainData.py:84: FutureWarning: The default of observed=False is deprecated and will be changed to True in a future version of pandas. Pass observed=False to retain current behavior or observed=True to adopt the future default and silence this warning.\n",
      "  group_sizes = df.groupby(group_cols).size()\n",
      "\n",
      "100%|████████████████████████████████████████████| 1/1 [00:00<00:00,  2.23it/s]\u001b[A\n",
      "100%|████████████████████████████████████████████| 1/1 [00:00<00:00,  2.47it/s]"
     ]
    },
    {
     "name": "stdout",
     "output_type": "stream",
     "text": [
      "Total files processed: 1\n"
     ]
    },
    {
     "name": "stderr",
     "output_type": "stream",
     "text": [
      "\n"
     ]
    },
    {
     "name": "stdout",
     "output_type": "stream",
     "text": [
      "Total files processed: 1"
     ]
    },
    {
     "name": "stderr",
     "output_type": "stream",
     "text": [
      " 21%|████████▌                               | 42/196 [00:00<00:00, 413.54it/s]/w/hallb-scshelf2102/clas12/users/gmat/clas12/neutneut/analysis/neutron_ml/../../src/TrainData.py:84: FutureWarning: The default of observed=False is deprecated and will be changed to True in a future version of pandas. Pass observed=False to retain current behavior or observed=True to adopt the future default and silence this warning.\n",
      "  group_sizes = df.groupby(group_cols).size()\n"
     ]
    },
    {
     "name": "stdout",
     "output_type": "stream",
     "text": [
      "\n"
     ]
    },
    {
     "name": "stderr",
     "output_type": "stream",
     "text": [
      "\u001b[A/w/hallb-scshelf2102/clas12/users/gmat/clas12/neutneut/analysis/neutron_ml/../../src/TrainData.py:84: FutureWarning: The default of observed=False is deprecated and will be changed to True in a future version of pandas. Pass observed=False to retain current behavior or observed=True to adopt the future default and silence this warning.\n",
      "  group_sizes = df.groupby(group_cols).size()\n",
      "\n",
      "100%|████████████████████████████████████████████| 1/1 [00:00<00:00,  4.03it/s]/w/hallb-scshelf2102/clas12/users/gmat/clas12/neutneut/analysis/neutron_ml/../../src/TrainData.py:84: FutureWarning: The default of observed=False is deprecated and will be changed to True in a future version of pandas. Pass observed=False to retain current behavior or observed=True to adopt the future default and silence this warning.\n",
      "  group_sizes = df.groupby(group_cols).size()\n",
      "\u001b[A\n",
      "100%|████████████████████████████████████████████| 1/1 [00:00<00:00,  2.51it/s]\u001b[A\n"
     ]
    },
    {
     "name": "stdout",
     "output_type": "stream",
     "text": [
      "Total files processed: 1"
     ]
    },
    {
     "name": "stderr",
     "output_type": "stream",
     "text": [
      "100%|████████████████████████████████████████████| 1/1 [00:00<00:00,  2.47it/s]"
     ]
    },
    {
     "name": "stdout",
     "output_type": "stream",
     "text": [
      "\n"
     ]
    },
    {
     "name": "stderr",
     "output_type": "stream",
     "text": [
      "\n",
      "\n"
     ]
    },
    {
     "name": "stdout",
     "output_type": "stream",
     "text": [
      "Total files processed: 1\n"
     ]
    },
    {
     "name": "stderr",
     "output_type": "stream",
     "text": [
      " 37%|██████████████▊                         | 74/199 [00:00<00:00, 287.42it/s]\u001b[A/w/hallb-scshelf2102/clas12/users/gmat/clas12/neutneut/analysis/neutron_ml/../../src/TrainData.py:84: FutureWarning: The default of observed=False is deprecated and will be changed to True in a future version of pandas. Pass observed=False to retain current behavior or observed=True to adopt the future default and silence this warning.\n",
      "  group_sizes = df.groupby(group_cols).size()\n",
      "100%|████████████████████████████████████████████| 1/1 [00:00<00:00,  2.87it/s]/w/hallb-scshelf2102/clas12/users/gmat/clas12/neutneut/analysis/neutron_ml/../../src/TrainData.py:84: FutureWarning: The default of observed=False is deprecated and will be changed to True in a future version of pandas. Pass observed=False to retain current behavior or observed=True to adopt the future default and silence this warning.\n",
      "  group_sizes = df.groupby(group_cols).size()\n",
      "\n",
      "\n"
     ]
    },
    {
     "name": "stdout",
     "output_type": "stream",
     "text": [
      "Total files processed: 1"
     ]
    },
    {
     "name": "stderr",
     "output_type": "stream",
     "text": [
      " 22%|████████▋                               | 43/199 [00:00<00:00, 424.79it/s]"
     ]
    },
    {
     "name": "stdout",
     "output_type": "stream",
     "text": [
      "\n"
     ]
    },
    {
     "name": "stderr",
     "output_type": "stream",
     "text": [
      "100%|████████████████████████████████████████████| 1/1 [00:00<00:00,  3.31it/s]/w/hallb-scshelf2102/clas12/users/gmat/clas12/neutneut/analysis/neutron_ml/../../src/TrainData.py:84: FutureWarning: The default of observed=False is deprecated and will be changed to True in a future version of pandas. Pass observed=False to retain current behavior or observed=True to adopt the future default and silence this warning.\n",
      "  group_sizes = df.groupby(group_cols).size()\n",
      "\n",
      "\n"
     ]
    },
    {
     "name": "stdout",
     "output_type": "stream",
     "text": [
      "Total files processed: 1\n"
     ]
    },
    {
     "name": "stderr",
     "output_type": "stream",
     "text": [
      "/w/hallb-scshelf2102/clas12/users/gmat/clas12/neutneut/analysis/neutron_ml/../../src/TrainData.py:84: FutureWarning: The default of observed=False is deprecated and will be changed to True in a future version of pandas. Pass observed=False to retain current behavior or observed=True to adopt the future default and silence this warning.\n",
      "  group_sizes = df.groupby(group_cols).size()\n",
      "100%|████████████████████████████████████████████| 1/1 [00:00<00:00,  2.61it/s]\u001b[A\n",
      "\n"
     ]
    },
    {
     "name": "stdout",
     "output_type": "stream",
     "text": [
      "Total files processed: 1"
     ]
    },
    {
     "name": "stderr",
     "output_type": "stream",
     "text": [
      "  0%|                                                  | 0/196 [00:00<?, ?it/s]"
     ]
    },
    {
     "name": "stdout",
     "output_type": "stream",
     "text": [
      "\n"
     ]
    },
    {
     "name": "stderr",
     "output_type": "stream",
     "text": [
      "\u001b[A\n",
      "/w/hallb-scshelf2102/clas12/users/gmat/clas12/neutneut/analysis/neutron_ml/../../src/TrainData.py:84: FutureWarning: The default of observed=False is deprecated and will be changed to True in a future version of pandas. Pass observed=False to retain current behavior or observed=True to adopt the future default and silence this warning.\n",
      "  group_sizes = df.groupby(group_cols).size()\n",
      " 20%|███████▉                                | 39/198 [00:00<00:00, 387.41it/s]\u001b[A\n",
      " 41%|████████████████▍                       | 80/194 [00:00<00:00, 323.36it/s]\u001b[A\n",
      " 93%|████████████████████████████████████▏  | 179/193 [00:00<00:00, 278.20it/s]\u001b[A\n",
      "100%|████████████████████████████████████████████| 1/1 [00:00<00:00,  3.17it/s]\u001b[A\n"
     ]
    },
    {
     "name": "stdout",
     "output_type": "stream",
     "text": [
      "Total files processed: 1"
     ]
    },
    {
     "name": "stderr",
     "output_type": "stream",
     "text": [
      "100%|████████████████████████████████████████████| 1/1 [00:00<00:00,  2.30it/s]"
     ]
    },
    {
     "name": "stdout",
     "output_type": "stream",
     "text": [
      "\n"
     ]
    },
    {
     "name": "stderr",
     "output_type": "stream",
     "text": [
      "\n"
     ]
    },
    {
     "name": "stdout",
     "output_type": "stream",
     "text": [
      "Total files processed: 1"
     ]
    },
    {
     "name": "stderr",
     "output_type": "stream",
     "text": [
      "/w/hallb-scshelf2102/clas12/users/gmat/clas12/neutneut/analysis/neutron_ml/../../src/TrainData.py:84: FutureWarning: The default of observed=False is deprecated and will be changed to True in a future version of pandas. Pass observed=False to retain current behavior or observed=True to adopt the future default and silence this warning.\n",
      "  group_sizes = df.groupby(group_cols).size()\n"
     ]
    },
    {
     "name": "stdout",
     "output_type": "stream",
     "text": [
      "\n"
     ]
    },
    {
     "name": "stderr",
     "output_type": "stream",
     "text": [
      "\n",
      " 20%|████████                                | 40/197 [00:00<00:00, 397.18it/s]\u001b[A/w/hallb-scshelf2102/clas12/users/gmat/clas12/neutneut/analysis/neutron_ml/../../src/TrainData.py:84: FutureWarning: The default of observed=False is deprecated and will be changed to True in a future version of pandas. Pass observed=False to retain current behavior or observed=True to adopt the future default and silence this warning.\n",
      "  group_sizes = df.groupby(group_cols).size()\n",
      "\n",
      "Processing CSV files:  35%|██████▎           | 174/500 [00:11<00:15, 20.45it/s]\u001b[A\n",
      " 19%|███████▋                                | 38/197 [00:00<00:00, 371.21it/s]\u001b[A\n",
      " 40%|████████████████                        | 78/194 [00:00<00:00, 261.23it/s]\u001b[A\n",
      " 20%|███████▉                                | 39/196 [00:00<00:00, 387.75it/s]\u001b[A\n",
      "100%|████████████████████████████████████████████| 1/1 [00:00<00:00,  5.40it/s]\u001b[A\n",
      "100%|████████████████████████████████████████████| 1/1 [00:00<00:00,  5.42it/s]\u001b[A\n",
      " 74%|████████████████████████████▊          | 145/196 [00:00<00:00, 203.41it/s]\u001b[A\n",
      " 43%|█████████████████▏                      | 84/196 [00:00<00:00, 299.87it/s]\u001b[A\n",
      "  0%|                                                  | 0/196 [00:00<?, ?it/s]\u001b[A\n",
      " 52%|████████████████████▍                  | 104/199 [00:00<00:00, 234.97it/s]\u001b[A\n",
      " 43%|█████████████████▎                      | 86/199 [00:00<00:00, 296.19it/s]\u001b[A\n",
      "100%|████████████████████████████████████████████| 1/1 [00:00<00:00,  3.56it/s]\u001b[A\n",
      "\n"
     ]
    },
    {
     "name": "stdout",
     "output_type": "stream",
     "text": [
      "Total files processed: 1\n"
     ]
    },
    {
     "name": "stderr",
     "output_type": "stream",
     "text": [
      "  0%|                                                  | 0/196 [00:00<?, ?it/s]\u001b[A\n",
      "/w/hallb-scshelf2102/clas12/users/gmat/clas12/neutneut/analysis/neutron_ml/../../src/TrainData.py:84: FutureWarning: The default of observed=False is deprecated and will be changed to True in a future version of pandas. Pass observed=False to retain current behavior or observed=True to adopt the future default and silence this warning.\n",
      "  group_sizes = df.groupby(group_cols).size()\n",
      "  0%|                                                  | 0/199 [00:00<?, ?it/s]\u001b[A\n",
      "100%|████████████████████████████████████████████| 1/1 [00:00<00:00,  3.40it/s]\u001b[A\n",
      "\n"
     ]
    },
    {
     "name": "stdout",
     "output_type": "stream",
     "text": [
      "Total files processed: 1\n"
     ]
    },
    {
     "name": "stderr",
     "output_type": "stream",
     "text": [
      "  0%|                                                  | 0/195 [00:00<?, ?it/s]\u001b[A\n",
      "/w/hallb-scshelf2102/clas12/users/gmat/clas12/neutneut/analysis/neutron_ml/../../src/TrainData.py:84: FutureWarning: The default of observed=False is deprecated and will be changed to True in a future version of pandas. Pass observed=False to retain current behavior or observed=True to adopt the future default and silence this warning.\n",
      "  group_sizes = df.groupby(group_cols).size()\n",
      "  0%|                                                  | 0/197 [00:00<?, ?it/s]\u001b[A\n",
      "  0%|                                                  | 0/197 [00:00<?, ?it/s]\u001b[A\n",
      " 86%|█████████████████████████████████▍     | 168/196 [00:00<00:00, 202.58it/s]\u001b[A\n",
      " 67%|██████████████████████████▎            | 132/196 [00:00<00:00, 237.91it/s]\u001b[A\n",
      "  0%|                                                    | 0/1 [00:00<?, ?it/s]\u001b[A\n",
      "100%|███████████████████████████████████████| 193/193 [00:00<00:00, 239.56it/s]\u001b[A\n",
      "\n",
      " 39%|███████████████▊                        | 78/198 [00:00<00:00, 277.93it/s]\u001b[A\n",
      "  0%|                                                  | 0/194 [00:00<?, ?it/s]\u001b[A\n",
      "  0%|                                                  | 0/196 [00:00<?, ?it/s]\u001b[A\n",
      " 74%|█████████████████████████████          | 145/195 [00:00<00:00, 275.05it/s]\u001b[A\n",
      "  0%|                                                  | 0/197 [00:00<?, ?it/s]\u001b[A\n",
      " 59%|██████████████████████▉                | 114/194 [00:00<00:00, 273.31it/s]\u001b[A\n",
      " 22%|████████▊                               | 43/196 [00:00<00:00, 420.95it/s]\u001b[A\n",
      " 39%|███████████████▍                        | 76/197 [00:00<00:00, 339.78it/s]\u001b[A\n",
      " 55%|█████████████████████▌                 | 107/194 [00:00<00:00, 154.51it/s]\u001b[A\n",
      " 41%|████████████████▏                       | 80/197 [00:00<00:00, 298.60it/s]\u001b[A\n",
      "  0%|                                                  | 0/198 [00:00<?, ?it/s]\u001b[A\n",
      "  0%|                                                  | 0/197 [00:00<?, ?it/s]\u001b[A\n",
      " 65%|█████████████████████████▎             | 129/199 [00:00<00:00, 228.72it/s]\u001b[A\n",
      " 40%|███████████████▉                        | 78/196 [00:00<00:00, 299.88it/s]\u001b[A\n",
      " 59%|███████████████████████                | 116/196 [00:00<00:00, 278.59it/s]\u001b[A\n",
      " 82%|████████████████████████████████▏      | 165/200 [00:00<00:00, 239.95it/s]\u001b[A\n",
      " 59%|███████████████████████▏               | 118/199 [00:00<00:00, 290.00it/s]\u001b[A\n",
      "  0%|                                                  | 0/198 [00:00<?, ?it/s]\u001b[A\n",
      "  0%|                                                  | 0/198 [00:00<?, ?it/s]\u001b[A\n",
      "  0%|                                                  | 0/196 [00:00<?, ?it/s]\u001b[A\n",
      "100%|████████████████████████████████████████████| 1/1 [00:00<00:00,  2.46it/s]\u001b[A\n",
      "\n",
      " 80%|███████████████████████████████▏       | 157/196 [00:00<00:00, 228.94it/s]\u001b[A\n",
      " 23%|█████████▏                              | 45/196 [00:00<00:00, 446.62it/s]\u001b[A\n",
      " 22%|████████▋                               | 43/199 [00:00<00:00, 422.16it/s]\u001b[A\n",
      "  0%|                                                  | 0/194 [00:00<?, ?it/s]\u001b[A"
     ]
    },
    {
     "name": "stdout",
     "output_type": "stream",
     "text": [
      "Total files processed: 1\n"
     ]
    },
    {
     "name": "stderr",
     "output_type": "stream",
     "text": [
      "/w/hallb-scshelf2102/clas12/users/gmat/clas12/neutneut/analysis/neutron_ml/../../src/TrainData.py:84: FutureWarning: The default of observed=False is deprecated and will be changed to True in a future version of pandas. Pass observed=False to retain current behavior or observed=True to adopt the future default and silence this warning.\n",
      "  group_sizes = df.groupby(group_cols).size()\n",
      "\n",
      " 22%|████████▌                               | 42/195 [00:00<00:00, 412.28it/s]\u001b[A\n",
      " 89%|██████████████████████████████████▌    | 173/195 [00:00<00:00, 249.92it/s]\u001b[A\n",
      " 21%|████████▌                               | 42/197 [00:00<00:00, 414.39it/s]\u001b[A\n",
      " 55%|█████████████████████▎                 | 108/198 [00:00<00:00, 247.37it/s]\u001b[A\n",
      " 21%|████████▎                               | 41/197 [00:00<00:00, 403.17it/s]\u001b[A\n",
      " 74%|████████████████████████████▋          | 143/194 [00:00<00:00, 241.60it/s]\u001b[A\n",
      " 65%|█████████████████████████▌             | 127/194 [00:00<00:00, 151.22it/s]\u001b[A\n",
      " 26%|██████████▌                             | 51/194 [00:00<00:00, 508.04it/s]\u001b[A\n",
      " 23%|█████████▏                              | 45/196 [00:00<00:00, 442.16it/s]\u001b[A\n",
      " 21%|████████▌                               | 42/197 [00:00<00:00, 417.32it/s]\u001b[A\n",
      " 56%|█████████████████████▉                 | 111/197 [00:00<00:00, 263.68it/s]\u001b[A\n",
      " 57%|██████████████████████▏                | 112/197 [00:00<00:00, 246.70it/s]\u001b[A\n",
      " 77%|█████████████████████████████▉         | 153/199 [00:00<00:00, 206.92it/s]\u001b[A\n",
      "100%|███████████████████████████████████████| 196/196 [00:01<00:00, 191.95it/s]\u001b[A\n",
      "\n",
      "100%|████████████████████████████████████████████| 1/1 [00:00<00:00,  6.67it/s]\u001b[A\n",
      "100%|████████████████████████████████████████████| 1/1 [00:00<00:00,  6.22it/s]\u001b[A\n",
      " 56%|█████████████████████▉                 | 110/196 [00:00<00:00, 234.92it/s]\u001b[A\n",
      " 24%|█████████▋                              | 48/198 [00:00<00:00, 466.91it/s]\u001b[A\n",
      " 96%|█████████████████████████████████████▏ | 191/200 [00:00<00:00, 205.69it/s]\u001b[A\n",
      " 43%|█████████████████▏                      | 84/195 [00:00<00:00, 261.24it/s]\u001b[A\n",
      " 74%|████████████████████████████▊          | 145/196 [00:00<00:00, 220.98it/s]\u001b[A\n",
      "  0%|                                                  | 0/198 [00:00<?, ?it/s]\u001b[A\n",
      " 92%|████████████████████████████████████   | 181/196 [00:00<00:00, 200.46it/s]\u001b[A\n",
      " 19%|███████▋                                | 38/198 [00:00<00:00, 376.98it/s]\u001b[A\n",
      " 41%|████████████████▎                       | 80/196 [00:00<00:00, 250.94it/s]\u001b[A\n",
      " 21%|████████▎                               | 41/198 [00:00<00:00, 408.65it/s]\u001b[A\n",
      " 43%|█████████████████▎                      | 86/199 [00:00<00:00, 288.78it/s]\u001b[A\n",
      " 21%|████████▌                               | 42/196 [00:00<00:00, 411.75it/s]\u001b[A\n",
      "  0%|                                                  | 0/194 [00:00<?, ?it/s]\u001b[A\n",
      " 68%|██████████████████████████▍            | 134/198 [00:00<00:00, 205.52it/s]\u001b[A\n",
      " 46%|██████████████████▎                     | 90/196 [00:00<00:00, 280.16it/s]\u001b[A\n",
      " 22%|████████▋                               | 42/194 [00:00<00:00, 419.53it/s]\u001b[A\n",
      "100%|████████████████████████████████████████████| 1/1 [00:00<00:00,  2.82it/s]\u001b[A\n",
      "\n"
     ]
    },
    {
     "name": "stdout",
     "output_type": "stream",
     "text": [
      "Total files processed: 1"
     ]
    },
    {
     "name": "stderr",
     "output_type": "stream",
     "text": [
      " 22%|████████▉                               | 44/197 [00:00<00:00, 432.49it/s]"
     ]
    },
    {
     "name": "stdout",
     "output_type": "stream",
     "text": [
      "\n"
     ]
    },
    {
     "name": "stderr",
     "output_type": "stream",
     "text": [
      "\u001b[A/w/hallb-scshelf2102/clas12/users/gmat/clas12/neutneut/analysis/neutron_ml/../../src/TrainData.py:84: FutureWarning: The default of observed=False is deprecated and will be changed to True in a future version of pandas. Pass observed=False to retain current behavior or observed=True to adopt the future default and silence this warning.\n",
      "  group_sizes = df.groupby(group_cols).size()\n",
      "\n",
      " 43%|█████████████████                       | 84/197 [00:00<00:00, 259.54it/s]\u001b[A\n",
      "100%|███████████████████████████████████████| 200/200 [00:01<00:00, 190.00it/s]\u001b[A\n",
      "\n",
      " 75%|█████████████████████████████▏         | 149/199 [00:00<00:00, 233.78it/s]\u001b[A\n",
      " 88%|██████████████████████████████████▎    | 175/199 [00:00<00:00, 178.68it/s]\u001b[A\n",
      " 70%|███████████████████████████▎           | 138/197 [00:00<00:00, 205.43it/s]\u001b[A\n",
      "100%|███████████████████████████████████████| 195/195 [00:00<00:00, 201.39it/s]\u001b[A\n",
      "\u001b[A\n",
      " 69%|███████████████████████████            | 136/196 [00:00<00:00, 210.19it/s]\n",
      " 60%|███████████████████████▎               | 117/196 [00:00<00:00, 223.36it/s]\u001b[A\n",
      " 43%|█████████████████                       | 84/197 [00:00<00:00, 256.09it/s]\u001b[A\n",
      " 46%|██████████████████▎                     | 90/196 [00:00<00:00, 256.75it/s]\u001b[A\n",
      " 86%|█████████████████████████████████▋     | 169/196 [00:00<00:00, 194.40it/s]\u001b[A\n",
      "100%|████████████████████████████████████████████| 1/1 [00:00<00:00,  2.24it/s]\u001b[A\n",
      "\n"
     ]
    },
    {
     "name": "stdout",
     "output_type": "stream",
     "text": [
      "Total files processed: 1\n"
     ]
    },
    {
     "name": "stderr",
     "output_type": "stream",
     "text": [
      " 87%|█████████████████████████████████▊     | 168/194 [00:00<00:00, 200.56it/s]\u001b[A\n",
      "/w/hallb-scshelf2102/clas12/users/gmat/clas12/neutneut/analysis/neutron_ml/../../src/TrainData.py:84: FutureWarning: The default of observed=False is deprecated and will be changed to True in a future version of pandas. Pass observed=False to retain current behavior or observed=True to adopt the future default and silence this warning.\n",
      "  group_sizes = df.groupby(group_cols).size()\n",
      " 66%|█████████████████████████▊             | 129/195 [00:00<00:00, 325.36it/s]\u001b[A\n",
      " 56%|█████████████████████▋                 | 109/196 [00:00<00:00, 226.76it/s]\u001b[A\n",
      " 48%|███████████████████▏                    | 95/198 [00:00<00:00, 292.52it/s]\u001b[A\n",
      " 38%|███████████████▎                        | 76/198 [00:00<00:00, 275.92it/s]\u001b[A\n",
      " 83%|████████████████████████████████▎      | 161/194 [00:01<00:00, 134.29it/s]\u001b[A\n",
      " 59%|███████████████████████▏               | 118/199 [00:00<00:00, 249.16it/s]\u001b[A\n",
      " 79%|██████████████████████████████▋        | 156/198 [00:00<00:00, 184.21it/s]\u001b[A\n",
      " 22%|████████▉                               | 44/198 [00:00<00:00, 431.01it/s]\u001b[A\n",
      "  0%|                                                    | 0/1 [00:00<?, ?it/s]\u001b[A\n",
      " 41%|████████████████▌                       | 82/198 [00:00<00:00, 286.52it/s]\u001b[A\n",
      "  0%|                                                  | 0/199 [00:00<?, ?it/s]\u001b[A\n",
      " 43%|█████████████████▏                      | 84/196 [00:00<00:00, 281.22it/s]\u001b[A\n",
      "100%|███████████████████████████████████████| 196/196 [00:01<00:00, 176.51it/s]\u001b[A\n",
      "\n",
      " 58%|██████████████████████▌                | 114/197 [00:00<00:00, 228.76it/s]\u001b[A\n",
      " 22%|████████▋                               | 42/194 [00:00<00:00, 412.44it/s]\u001b[A\n",
      " 97%|██████████████████████████████████████ | 194/199 [00:01<00:00, 163.72it/s]\u001b[A\n",
      " 43%|█████████████████▎                      | 84/194 [00:00<00:00, 271.83it/s]\u001b[A\n",
      " 88%|██████████████████████████████████▎    | 175/199 [00:00<00:00, 167.57it/s]\u001b[A\n",
      " 56%|█████████████████████▉                 | 111/197 [00:00<00:00, 212.30it/s]\u001b[A\n",
      " 81%|███████████████████████████████▋       | 160/197 [00:00<00:00, 185.32it/s]\u001b[A\n",
      " 83%|████████████████████████████████▎      | 163/197 [00:00<00:00, 197.71it/s]\u001b[A\n",
      " 81%|███████████████████████████████▍       | 158/196 [00:00<00:00, 192.70it/s]\u001b[A\n",
      " 45%|█████████████████▊                      | 88/197 [00:00<00:00, 210.87it/s]\u001b[A\n",
      " 72%|████████████████████████████▎          | 142/196 [00:00<00:00, 199.82it/s]\u001b[A\n",
      " 97%|█████████████████████████████████████▊ | 190/196 [00:00<00:00, 179.51it/s]\u001b[A\n",
      " 58%|██████████████████████▌                | 114/197 [00:00<00:00, 222.77it/s]\u001b[A\n",
      " 61%|███████████████████████▉               | 120/196 [00:00<00:00, 225.06it/s]\u001b[A\n",
      " 91%|███████████████████████████████████▋   | 180/197 [00:00<00:00, 169.65it/s]\u001b[A\n",
      " 98%|██████████████████████████████████████▏| 190/194 [00:01<00:00, 150.90it/s]\u001b[A\n",
      " 91%|███████████████████████████████████▍   | 176/194 [00:01<00:00, 132.73it/s]\u001b[A\n",
      " 70%|███████████████████████████▎           | 136/194 [00:00<00:00, 249.28it/s]\u001b[A\n",
      " 68%|██████████████████████████▋            | 134/196 [00:00<00:00, 213.22it/s]\u001b[A\n",
      " 65%|█████████████████████████▏             | 128/198 [00:00<00:00, 256.50it/s]\u001b[A\n",
      "100%|███████████████████████████████████████| 199/199 [00:01<00:00, 172.03it/s]\u001b[A\n",
      "\n",
      " 73%|████████████████████████████▍          | 145/199 [00:00<00:00, 221.11it/s]\u001b[A\n",
      " 89%|██████████████████████████████████▋    | 176/198 [00:00<00:00, 167.78it/s]\u001b[A\n",
      " 85%|█████████████████████████████████▏     | 166/195 [00:00<00:00, 272.95it/s]\u001b[A\n",
      " 76%|█████████████████████████████▍         | 148/196 [00:00<00:00, 212.76it/s]\u001b[A\n",
      " 59%|██████████████████████▉                | 115/196 [00:00<00:00, 242.04it/s]\u001b[A\n",
      " 71%|███████████████████████████▌           | 139/197 [00:00<00:00, 208.75it/s]\u001b[A\n",
      " 57%|██████████████████████▎                | 113/198 [00:00<00:00, 232.63it/s]\u001b[A\n",
      " 98%|██████████████████████████████████████▏| 195/199 [00:01<00:00, 161.13it/s]\u001b[A\n",
      " 44%|█████████████████▊                      | 88/198 [00:00<00:00, 281.79it/s]\u001b[A\n",
      " 93%|████████████████████████████████████▍  | 184/197 [00:00<00:00, 179.08it/s]\u001b[A\n",
      " 69%|██████████████████████████▋            | 135/197 [00:00<00:00, 192.99it/s]\u001b[A\n",
      " 59%|███████████████████████                | 115/194 [00:00<00:00, 238.86it/s]\u001b[A\n",
      " 91%|███████████████████████████████████▍   | 178/196 [00:00<00:00, 175.37it/s]\u001b[A\n",
      " 21%|████████▍                               | 42/199 [00:00<00:00, 413.64it/s]\u001b[A\n",
      " 43%|█████████████████▎                      | 84/194 [00:00<00:00, 286.55it/s]\u001b[A\n",
      "Processing CSV files:  36%|██████▍           | 178/500 [00:12<00:26, 12.02it/s]\u001b[A\n",
      " 84%|████████████████████████████████▋      | 164/196 [00:00<00:00, 181.17it/s]\u001b[A\n",
      " 58%|██████████████████████▊                | 115/197 [00:00<00:00, 188.66it/s]\u001b[A\n",
      " 98%|██████████████████████████████████████▏| 190/194 [00:01<00:00, 123.32it/s]\u001b[A\n",
      " 71%|███████████████████████████▌           | 139/197 [00:00<00:00, 196.53it/s]\u001b[A\n",
      "100%|████████████████████████████████████████████| 1/1 [00:00<00:00,  6.61it/s]\u001b[A\n",
      " 74%|████████████████████████████▊          | 145/196 [00:00<00:00, 199.35it/s]\u001b[A\n",
      "100%|███████████████████████████████████████| 196/196 [00:01<00:00, 174.48it/s]\u001b[A\n",
      "\n",
      "100%|███████████████████████████████████████| 196/196 [00:00<00:00, 167.96it/s]\u001b[A\n",
      " 98%|██████████████████████████████████████▏| 194/198 [00:01<00:00, 159.44it/s]\u001b[A\n",
      "  0%|                                                  | 0/195 [00:00<?, ?it/s]\u001b[A\n",
      " 85%|████████████████████████████████▉      | 164/194 [00:00<00:00, 217.50it/s]\u001b[A\n",
      " 67%|██████████████████████████             | 132/198 [00:00<00:00, 218.79it/s]\u001b[A\n",
      " 84%|████████████████████████████████▉      | 168/199 [00:00<00:00, 203.97it/s]\u001b[A\n",
      "  0%|                                                    | 0/1 [00:00<?, ?it/s]\u001b[A\n",
      "100%|███████████████████████████████████████| 194/194 [00:01<00:00, 160.81it/s]\u001b[A\n",
      "\n",
      " 87%|██████████████████████████████████     | 171/196 [00:00<00:00, 204.94it/s]\u001b[A\n",
      " 59%|███████████████████████                | 115/194 [00:00<00:00, 251.64it/s]\u001b[A\n",
      "100%|███████████████████████████████████████| 197/197 [00:01<00:00, 191.72it/s]\u001b[A\n",
      "100%|███████████████████████████████████████| 197/197 [00:01<00:00, 184.94it/s]\n",
      "\n",
      "  0%|                                                    | 0/1 [00:00<?, ?it/s]\u001b[A\n",
      " 70%|███████████████████████████▏           | 138/198 [00:00<00:00, 210.35it/s]\u001b[A\n",
      " 79%|██████████████████████████████▉        | 156/197 [00:00<00:00, 185.18it/s]\u001b[A\n",
      " 73%|████████████████████████████▎          | 141/194 [00:00<00:00, 223.89it/s]\u001b[A\n",
      "100%|███████████████████████████████████████| 199/199 [00:01<00:00, 167.82it/s]\u001b[A\n",
      "\n",
      " 93%|████████████████████████████████████▍  | 183/196 [00:00<00:00, 176.37it/s]\u001b[A\n",
      " 70%|███████████████████████████            | 137/197 [00:00<00:00, 186.84it/s]\u001b[A\n",
      " 81%|███████████████████████████████▋       | 160/197 [00:00<00:00, 195.48it/s]\u001b[A\n",
      "100%|███████████████████████████████████████| 195/195 [00:00<00:00, 227.48it/s]\u001b[A\n",
      "\n",
      " 72%|████████████████████████████           | 141/196 [00:00<00:00, 228.08it/s]\u001b[A\n",
      " 85%|█████████████████████████████████▏     | 167/196 [00:00<00:00, 199.41it/s]\u001b[A\n",
      " 91%|███████████████████████████████████▍   | 178/196 [00:00<00:00, 192.35it/s]\u001b[A\n",
      "100%|████████████████████████████████████████████| 1/1 [00:00<00:00,  2.82it/s]\u001b[A\n",
      "\n"
     ]
    },
    {
     "name": "stdout",
     "output_type": "stream",
     "text": [
      "Total files processed: 1"
     ]
    },
    {
     "name": "stderr",
     "output_type": "stream",
     "text": [
      " 22%|████████▊                               | 44/199 [00:00<00:00, 436.63it/s]"
     ]
    },
    {
     "name": "stdout",
     "output_type": "stream",
     "text": [
      "\n"
     ]
    },
    {
     "name": "stderr",
     "output_type": "stream",
     "text": [
      "\u001b[A\n",
      " 97%|█████████████████████████████████████▊ | 188/194 [00:00<00:00, 211.73it/s]/w/hallb-scshelf2102/clas12/users/gmat/clas12/neutneut/analysis/neutron_ml/../../src/TrainData.py:84: FutureWarning: The default of observed=False is deprecated and will be changed to True in a future version of pandas. Pass observed=False to retain current behavior or observed=True to adopt the future default and silence this warning.\n",
      "  group_sizes = df.groupby(group_cols).size()\n",
      "\u001b[A\n",
      " 95%|█████████████████████████████████████  | 189/199 [00:00<00:00, 195.74it/s]\u001b[A\n",
      " 78%|██████████████████████████████▌        | 155/198 [00:00<00:00, 209.50it/s]\u001b[A\n",
      "100%|███████████████████████████████████████| 196/196 [00:01<00:00, 170.85it/s]\u001b[A\n",
      "100%|███████████████████████████████████████| 198/198 [00:01<00:00, 161.07it/s]\n",
      "\n",
      " 98%|██████████████████████████████████████▍| 193/196 [00:00<00:00, 200.80it/s]\u001b[A\n",
      " 91%|███████████████████████████████████▋   | 181/198 [00:00<00:00, 219.51it/s]\u001b[A\n",
      " 81%|███████████████████████████████▌       | 160/198 [00:00<00:00, 206.65it/s]\u001b[A\n",
      " 22%|████████▌                               | 42/195 [00:00<00:00, 414.93it/s]\u001b[A\n",
      " 89%|██████████████████████████████████▊    | 176/197 [00:00<00:00, 180.21it/s]\u001b[A\n",
      " 81%|███████████████████████████████▊       | 158/194 [00:00<00:00, 306.35it/s]\u001b[A\n",
      " 85%|█████████████████████████████████▏     | 165/194 [00:00<00:00, 212.84it/s]\u001b[A\n",
      "100%|███████████████████████████████████████| 194/194 [00:01<00:00, 122.37it/s]\u001b[A\n",
      "\n",
      " 92%|███████████████████████████████████▊   | 181/197 [00:00<00:00, 198.10it/s]\u001b[A\n",
      " 74%|████████████████████████████▉          | 147/198 [00:00<00:00, 240.87it/s]\u001b[A\n",
      "100%|███████████████████████████████████████| 196/196 [00:01<00:00, 189.01it/s]\u001b[A\n",
      "\n",
      "100%|███████████████████████████████████████| 199/199 [00:01<00:00, 194.05it/s]\u001b[A\n",
      "100%|███████████████████████████████████████| 196/196 [00:01<00:00, 173.21it/s]\n",
      "\n",
      " 59%|██████████████████████▉                | 117/199 [00:00<00:00, 255.42it/s]\u001b[A\n",
      " 89%|██████████████████████████████████▊    | 177/198 [00:00<00:00, 190.79it/s]\u001b[A\n",
      "100%|████████████████████████████████████████████| 1/1 [00:00<00:00,  4.98it/s]\u001b[A\n",
      " 92%|███████████████████████████████████▊   | 182/198 [00:00<00:00, 196.13it/s]\u001b[A\n",
      "100%|████████████████████████████████████████████| 1/1 [00:00<00:00,  5.59it/s]\u001b[A\n",
      "100%|███████████████████████████████████████| 194/194 [00:01<00:00, 193.56it/s]\u001b[A\n",
      "\n",
      "  0%|                                                    | 0/1 [00:00<?, ?it/s]\u001b[A\n",
      " 96%|█████████████████████████████████████▍ | 188/196 [00:01<00:00, 187.18it/s]\u001b[A\n",
      " 99%|██████████████████████████████████████▌| 195/197 [00:01<00:00, 174.45it/s]\u001b[A\n",
      "100%|███████████████████████████████████████| 196/196 [00:01<00:00, 182.30it/s]\u001b[A\n",
      "\n",
      "100%|███████████████████████████████████████| 198/198 [00:00<00:00, 204.99it/s]\u001b[A\n",
      "\n",
      " 91%|███████████████████████████████████▍   | 179/197 [00:00<00:00, 176.92it/s]\u001b[A\n",
      " 96%|█████████████████████████████████████▌ | 187/194 [00:00<00:00, 193.36it/s]\u001b[A\n",
      " 98%|██████████████████████████████████████▍| 191/194 [00:00<00:00, 277.33it/s]\u001b[A\n",
      " 43%|█████████████████▏                      | 84/195 [00:00<00:00, 297.32it/s]\u001b[A\n",
      " 87%|█████████████████████████████████▉     | 172/198 [00:00<00:00, 214.30it/s]\u001b[A\n",
      "  0%|                                                    | 0/1 [00:00<?, ?it/s]\u001b[A\n",
      "Processing CSV files:  37%|██████▋           | 185/500 [00:13<00:23, 13.44it/s]\u001b[A\n",
      "  0%|                                                    | 0/1 [00:00<?, ?it/s]\u001b[A\n",
      "100%|███████████████████████████████████████| 197/197 [00:01<00:00, 179.05it/s]\u001b[A\n",
      "\n",
      "100%|███████████████████████████████████████| 198/198 [00:00<00:00, 209.30it/s]\u001b[A\n",
      "100%|████████████████████████████████████████████| 1/1 [00:00<00:00,  3.05it/s]\n",
      "\n"
     ]
    },
    {
     "name": "stdout",
     "output_type": "stream",
     "text": [
      "Total files processed: 1"
     ]
    },
    {
     "name": "stderr",
     "output_type": "stream",
     "text": [
      "  0%|                                                    | 0/1 [00:00<?, ?it/s]\u001b[A"
     ]
    },
    {
     "name": "stdout",
     "output_type": "stream",
     "text": [
      "\n"
     ]
    },
    {
     "name": "stderr",
     "output_type": "stream",
     "text": [
      "100%|████████████████████████████████████████████| 1/1 [00:00<00:00,  3.27it/s]\n",
      "/w/hallb-scshelf2102/clas12/users/gmat/clas12/neutneut/analysis/neutron_ml/../../src/TrainData.py:84: FutureWarning: The default of observed=False is deprecated and will be changed to True in a future version of pandas. Pass observed=False to retain current behavior or observed=True to adopt the future default and silence this warning.\n",
      "  group_sizes = df.groupby(group_cols).size()\n",
      "100%|████████████████████████████████████████████| 1/1 [00:00<00:00,  3.09it/s]"
     ]
    },
    {
     "name": "stdout",
     "output_type": "stream",
     "text": [
      "Total files processed: 1"
     ]
    },
    {
     "name": "stderr",
     "output_type": "stream",
     "text": [
      "\n"
     ]
    },
    {
     "name": "stdout",
     "output_type": "stream",
     "text": [
      "\n"
     ]
    },
    {
     "name": "stderr",
     "output_type": "stream",
     "text": [
      "\n"
     ]
    },
    {
     "name": "stdout",
     "output_type": "stream",
     "text": [
      "Total files processed: 1\n"
     ]
    },
    {
     "name": "stderr",
     "output_type": "stream",
     "text": [
      " 72%|████████████████████████████▏          | 144/199 [00:00<00:00, 243.84it/s]/w/hallb-scshelf2102/clas12/users/gmat/clas12/neutneut/analysis/neutron_ml/../../src/TrainData.py:84: FutureWarning: The default of observed=False is deprecated and will be changed to True in a future version of pandas. Pass observed=False to retain current behavior or observed=True to adopt the future default and silence this warning.\n",
      "  group_sizes = df.groupby(group_cols).size()\n",
      "\u001b[A/w/hallb-scshelf2102/clas12/users/gmat/clas12/neutneut/analysis/neutron_ml/../../src/TrainData.py:84: FutureWarning: The default of observed=False is deprecated and will be changed to True in a future version of pandas. Pass observed=False to retain current behavior or observed=True to adopt the future default and silence this warning.\n",
      "  group_sizes = df.groupby(group_cols).size()\n",
      "100%|███████████████████████████████████████| 197/197 [00:01<00:00, 175.39it/s]\n",
      "100%|███████████████████████████████████████| 197/197 [00:01<00:00, 179.91it/s]\n",
      "100%|███████████████████████████████████████| 196/196 [00:01<00:00, 177.37it/s]\n",
      "\n",
      " 99%|██████████████████████████████████████▊| 197/198 [00:01<00:00, 190.29it/s]\u001b[A\n",
      "100%|████████████████████████████████████████████| 1/1 [00:00<00:00,  5.21it/s]\u001b[A\n",
      "100%|███████████████████████████████████████| 194/194 [00:00<00:00, 240.79it/s]\u001b[A\n",
      "100%|███████████████████████████████████████| 194/194 [00:00<00:00, 196.88it/s]\n",
      "\n",
      " 98%|██████████████████████████████████████▍| 195/198 [00:00<00:00, 217.00it/s]\u001b[A\n",
      "100%|███████████████████████████████████████| 198/198 [00:01<00:00, 193.00it/s]\u001b[A\n",
      "\n",
      "100%|███████████████████████████████████████| 197/197 [00:01<00:00, 178.90it/s]\u001b[A\n",
      "100%|███████████████████████████████████████| 196/196 [00:01<00:00, 187.33it/s]\n",
      "Processing CSV files:  38%|██████▉           | 191/500 [00:13<00:15, 20.45it/s]\n",
      "  0%|                                                    | 0/1 [00:00<?, ?it/s]\u001b[A\n",
      "  0%|                                                    | 0/1 [00:00<?, ?it/s]\u001b[A\n",
      " 59%|███████████████████████▏               | 116/195 [00:00<00:00, 288.57it/s]\u001b[A\n",
      "  0%|                                                  | 0/198 [00:00<?, ?it/s]\u001b[A\n",
      " 86%|█████████████████████████████████▌     | 171/199 [00:00<00:00, 250.42it/s]\u001b[A\n",
      " 22%|████████▉                               | 43/192 [00:00<00:00, 421.94it/s]\u001b[A\n",
      "  0%|                                                    | 0/1 [00:00<?, ?it/s]\u001b[A\n",
      "100%|███████████████████████████████████████| 198/198 [00:00<00:00, 206.82it/s]\u001b[A\n",
      "\n",
      "  0%|                                                  | 0/197 [00:00<?, ?it/s]\u001b[A\n",
      "  0%|                                                    | 0/1 [00:00<?, ?it/s]\u001b[A\n",
      "100%|████████████████████████████████████████████| 1/1 [00:00<00:00,  5.31it/s]\u001b[A\n",
      "  0%|                                                    | 0/1 [00:00<?, ?it/s]\u001b[A\n",
      "100%|████████████████████████████████████████████| 1/1 [00:00<00:00,  2.46it/s]\u001b[A\n",
      "\n"
     ]
    },
    {
     "name": "stdout",
     "output_type": "stream",
     "text": [
      "Total files processed: 1\n"
     ]
    },
    {
     "name": "stderr",
     "output_type": "stream",
     "text": [
      "100%|████████████████████████████████████████████| 1/1 [00:00<00:00,  5.70it/s]\u001b[A\n",
      "100%|████████████████████████████████████████████| 1/1 [00:00<00:00,  4.88it/s]/w/hallb-scshelf2102/clas12/users/gmat/clas12/neutneut/analysis/neutron_ml/../../src/TrainData.py:84: FutureWarning: The default of observed=False is deprecated and will be changed to True in a future version of pandas. Pass observed=False to retain current behavior or observed=True to adopt the future default and silence this warning.\n",
      "  group_sizes = df.groupby(group_cols).size()\n",
      "\u001b[A\n",
      " 99%|██████████████████████████████████████▌| 197/199 [00:00<00:00, 235.95it/s]\u001b[A\n",
      "  0%|                                                  | 0/197 [00:00<?, ?it/s]\u001b[A\n",
      "100%|████████████████████████████████████████████| 1/1 [00:00<00:00,  5.10it/s]\u001b[A\n",
      "  0%|                                                    | 0/1 [00:00<?, ?it/s]\u001b[A\n",
      " 75%|█████████████████████████████▏         | 146/195 [00:00<00:00, 237.18it/s]\u001b[A\n",
      "  0%|                                                    | 0/1 [00:00<?, ?it/s]\u001b[A\n",
      "100%|████████████████████████████████████████████| 1/1 [00:00<00:00,  3.19it/s]\u001b[A\n"
     ]
    },
    {
     "name": "stdout",
     "output_type": "stream",
     "text": [
      "Total files processed: 1"
     ]
    },
    {
     "name": "stderr",
     "output_type": "stream",
     "text": [
      "\n"
     ]
    },
    {
     "name": "stdout",
     "output_type": "stream",
     "text": [
      "\n"
     ]
    },
    {
     "name": "stderr",
     "output_type": "stream",
     "text": [
      "100%|████████████████████████████████████████████| 1/1 [00:00<00:00,  3.70it/s]\u001b[A/w/hallb-scshelf2102/clas12/users/gmat/clas12/neutneut/analysis/neutron_ml/../../src/TrainData.py:84: FutureWarning: The default of observed=False is deprecated and will be changed to True in a future version of pandas. Pass observed=False to retain current behavior or observed=True to adopt the future default and silence this warning.\n",
      "  group_sizes = df.groupby(group_cols).size()\n",
      "\n",
      "\n"
     ]
    },
    {
     "name": "stdout",
     "output_type": "stream",
     "text": [
      "Total files processed: 1"
     ]
    },
    {
     "name": "stderr",
     "output_type": "stream",
     "text": [
      " 20%|███████▉                                | 39/198 [00:00<00:00, 380.53it/s]"
     ]
    },
    {
     "name": "stdout",
     "output_type": "stream",
     "text": [
      "\n"
     ]
    },
    {
     "name": "stderr",
     "output_type": "stream",
     "text": [
      "\u001b[A\n",
      "  0%|                                                    | 0/1 [00:00<?, ?it/s]/w/hallb-scshelf2102/clas12/users/gmat/clas12/neutneut/analysis/neutron_ml/../../src/TrainData.py:84: FutureWarning: The default of observed=False is deprecated and will be changed to True in a future version of pandas. Pass observed=False to retain current behavior or observed=True to adopt the future default and silence this warning.\n",
      "  group_sizes = df.groupby(group_cols).size()\n",
      "100%|████████████████████████████████████████████| 1/1 [00:00<00:00,  3.94it/s]\n",
      "\n"
     ]
    },
    {
     "name": "stdout",
     "output_type": "stream",
     "text": [
      "Total files processed: 1"
     ]
    },
    {
     "name": "stderr",
     "output_type": "stream",
     "text": [
      "  0%|                                                    | 0/1 [00:00<?, ?it/s]"
     ]
    },
    {
     "name": "stdout",
     "output_type": "stream",
     "text": [
      "\n"
     ]
    },
    {
     "name": "stderr",
     "output_type": "stream",
     "text": [
      "\u001b[A\n",
      "  0%|                                                    | 0/1 [00:00<?, ?it/s]/w/hallb-scshelf2102/clas12/users/gmat/clas12/neutneut/analysis/neutron_ml/../../src/TrainData.py:84: FutureWarning: The default of observed=False is deprecated and will be changed to True in a future version of pandas. Pass observed=False to retain current behavior or observed=True to adopt the future default and silence this warning.\n",
      "  group_sizes = df.groupby(group_cols).size()\n",
      "100%|████████████████████████████████████████████| 1/1 [00:00<00:00,  3.69it/s]\n"
     ]
    },
    {
     "name": "stdout",
     "output_type": "stream",
     "text": [
      "Total files processed: 1"
     ]
    },
    {
     "name": "stderr",
     "output_type": "stream",
     "text": [
      "\n",
      "  0%|                                                    | 0/1 [00:00<?, ?it/s]"
     ]
    },
    {
     "name": "stdout",
     "output_type": "stream",
     "text": [
      "\n"
     ]
    },
    {
     "name": "stderr",
     "output_type": "stream",
     "text": [
      "\u001b[A\n",
      "/w/hallb-scshelf2102/clas12/users/gmat/clas12/neutneut/analysis/neutron_ml/../../src/TrainData.py:84: FutureWarning: The default of observed=False is deprecated and will be changed to True in a future version of pandas. Pass observed=False to retain current behavior or observed=True to adopt the future default and silence this warning.\n",
      "  group_sizes = df.groupby(group_cols).size()\n",
      "100%|████████████████████████████████████████████| 1/1 [00:00<00:00,  5.71it/s]\u001b[A\n",
      "100%|████████████████████████████████████████████| 1/1 [00:00<00:00,  3.01it/s]\u001b[A\n",
      "100%|███████████████████████████████████████| 199/199 [00:00<00:00, 229.97it/s]"
     ]
    },
    {
     "name": "stdout",
     "output_type": "stream",
     "text": [
      "Total files processed: 1"
     ]
    },
    {
     "name": "stderr",
     "output_type": "stream",
     "text": [
      "\n"
     ]
    },
    {
     "name": "stdout",
     "output_type": "stream",
     "text": [
      "\n"
     ]
    },
    {
     "name": "stderr",
     "output_type": "stream",
     "text": [
      "\n",
      " 91%|███████████████████████████████████▍   | 181/199 [00:00<00:00, 268.66it/s]\u001b[A/w/hallb-scshelf2102/clas12/users/gmat/clas12/neutneut/analysis/neutron_ml/../../src/TrainData.py:84: FutureWarning: The default of observed=False is deprecated and will be changed to True in a future version of pandas. Pass observed=False to retain current behavior or observed=True to adopt the future default and silence this warning.\n",
      "  group_sizes = df.groupby(group_cols).size()\n",
      "\n",
      "100%|████████████████████████████████████████████| 1/1 [00:00<00:00,  4.23it/s]\u001b[A\n",
      "100%|████████████████████████████████████████████| 1/1 [00:00<00:00,  3.13it/s]"
     ]
    },
    {
     "name": "stdout",
     "output_type": "stream",
     "text": [
      "Total files processed: 1"
     ]
    },
    {
     "name": "stderr",
     "output_type": "stream",
     "text": [
      "\n",
      "\n"
     ]
    },
    {
     "name": "stdout",
     "output_type": "stream",
     "text": [
      "Total files processed: 1\n"
     ]
    },
    {
     "name": "stderr",
     "output_type": "stream",
     "text": [
      " 20%|████████                                | 40/197 [00:00<00:00, 391.57it/s]"
     ]
    },
    {
     "name": "stdout",
     "output_type": "stream",
     "text": [
      "\n"
     ]
    },
    {
     "name": "stderr",
     "output_type": "stream",
     "text": [
      "\u001b[A/w/hallb-scshelf2102/clas12/users/gmat/clas12/neutneut/analysis/neutron_ml/../../src/TrainData.py:84: FutureWarning: The default of observed=False is deprecated and will be changed to True in a future version of pandas. Pass observed=False to retain current behavior or observed=True to adopt the future default and silence this warning.\n",
      "  group_sizes = df.groupby(group_cols).size()\n",
      "\n",
      "/w/hallb-scshelf2102/clas12/users/gmat/clas12/neutneut/analysis/neutron_ml/../../src/TrainData.py:84: FutureWarning: The default of observed=False is deprecated and will be changed to True in a future version of pandas. Pass observed=False to retain current behavior or observed=True to adopt the future default and silence this warning.\n",
      "  group_sizes = df.groupby(group_cols).size()\n",
      "  0%|                                                    | 0/1 [00:00<?, ?it/s]\u001b[A\n",
      "100%|████████████████████████████████████████████| 1/1 [00:00<00:00,  5.01it/s]\u001b[A\n",
      "  0%|                                                    | 0/1 [00:00<?, ?it/s]\u001b[A\n",
      "  0%|                                                    | 0/1 [00:00<?, ?it/s]\u001b[A\n",
      " 89%|██████████████████████████████████▊    | 174/195 [00:00<00:00, 248.17it/s]\u001b[A\n",
      "100%|████████████████████████████████████████████| 1/1 [00:00<00:00,  5.51it/s]\u001b[A\n",
      " 19%|███████▋                                | 38/197 [00:00<00:00, 373.76it/s]\u001b[A\n",
      "  0%|                                                    | 0/1 [00:00<?, ?it/s]\u001b[A\n",
      "  0%|                                                  | 0/199 [00:00<?, ?it/s]\u001b[A\n",
      "100%|████████████████████████████████████████████| 1/1 [00:00<00:00,  4.55it/s]\u001b[A\n",
      "  0%|                                                    | 0/1 [00:00<?, ?it/s]\u001b[A\n",
      "100%|████████████████████████████████████████████| 1/1 [00:00<00:00,  4.34it/s]\u001b[A\n",
      "\n"
     ]
    },
    {
     "name": "stdout",
     "output_type": "stream",
     "text": [
      "Total files processed: 1\n"
     ]
    },
    {
     "name": "stderr",
     "output_type": "stream",
     "text": [
      " 39%|███████████████▊                        | 78/198 [00:00<00:00, 334.65it/s]\u001b[A\n",
      "/w/hallb-scshelf2102/clas12/users/gmat/clas12/neutneut/analysis/neutron_ml/../../src/TrainData.py:84: FutureWarning: The default of observed=False is deprecated and will be changed to True in a future version of pandas. Pass observed=False to retain current behavior or observed=True to adopt the future default and silence this warning.\n",
      "  group_sizes = df.groupby(group_cols).size()\n",
      "100%|████████████████████████████████████████████| 1/1 [00:00<00:00,  3.81it/s]\u001b[A\n",
      " 62%|████████████████████████▏              | 119/192 [00:00<00:00, 277.13it/s]\u001b[A\n",
      "  0%|                                                  | 0/197 [00:00<?, ?it/s]\u001b[A\n",
      "100%|████████████████████████████████████████████| 1/1 [00:00<00:00,  2.74it/s]\u001b[A\n"
     ]
    },
    {
     "name": "stdout",
     "output_type": "stream",
     "text": [
      "Total files processed: 1\n"
     ]
    },
    {
     "name": "stderr",
     "output_type": "stream",
     "text": [
      "/w/hallb-scshelf2102/clas12/users/gmat/clas12/neutneut/analysis/neutron_ml/../../src/TrainData.py:84: FutureWarning: The default of observed=False is deprecated and will be changed to True in a future version of pandas. Pass observed=False to retain current behavior or observed=True to adopt the future default and silence this warning.\n",
      "  group_sizes = df.groupby(group_cols).size()\n",
      "\n",
      "100%|████████████████████████████████████████████| 1/1 [00:00<00:00,  4.84it/s]\u001b[A\n",
      " 41%|████████████████▏                       | 80/197 [00:00<00:00, 339.52it/s]\u001b[A\n",
      "  0%|                                                  | 0/195 [00:00<?, ?it/s]\u001b[A\n",
      "100%|███████████████████████████████████████| 199/199 [00:00<00:00, 227.21it/s]\u001b[A\n",
      "\n",
      "100%|████████████████████████████████████████████| 1/1 [00:00<00:00,  5.03it/s]\u001b[A\n",
      "100%|████████████████████████████████████████████| 1/1 [00:00<00:00,  5.70it/s]\u001b[A\n",
      "100%|████████████████████████████████████████████| 1/1 [00:00<00:00,  2.62it/s]\u001b[A\n",
      "\n"
     ]
    },
    {
     "name": "stdout",
     "output_type": "stream",
     "text": [
      "Total files processed: 1"
     ]
    },
    {
     "name": "stderr",
     "output_type": "stream",
     "text": [
      "  0%|                                                  | 0/195 [00:00<?, ?it/s]"
     ]
    },
    {
     "name": "stdout",
     "output_type": "stream",
     "text": [
      "\n"
     ]
    },
    {
     "name": "stderr",
     "output_type": "stream",
     "text": [
      "\u001b[A\n",
      "100%|████████████████████████████████████████████| 1/1 [00:00<00:00,  5.54it/s]/w/hallb-scshelf2102/clas12/users/gmat/clas12/neutneut/analysis/neutron_ml/../../src/TrainData.py:84: FutureWarning: The default of observed=False is deprecated and will be changed to True in a future version of pandas. Pass observed=False to retain current behavior or observed=True to adopt the future default and silence this warning.\n",
      "  group_sizes = df.groupby(group_cols).size()\n",
      "\u001b[A\n",
      "100%|███████████████████████████████████████| 195/195 [00:00<00:00, 225.16it/s]\u001b[A\n",
      "\n",
      "  0%|                                                  | 0/197 [00:00<?, ?it/s]\u001b[A\n",
      "100%|████████████████████████████████████████████| 1/1 [00:00<00:00,  5.20it/s]\u001b[A\n",
      "100%|████████████████████████████████████████████| 1/1 [00:00<00:00,  4.62it/s]\u001b[A\n",
      "100%|████████████████████████████████████████████| 1/1 [00:00<00:00,  4.43it/s]\u001b[A\n",
      " 18%|███████▏                                | 36/199 [00:00<00:00, 355.87it/s]\u001b[A\n",
      "100%|████████████████████████████████████████████| 1/1 [00:00<00:00,  3.02it/s]\u001b[A\n",
      "\n"
     ]
    },
    {
     "name": "stdout",
     "output_type": "stream",
     "text": [
      "Total files processed: 1"
     ]
    },
    {
     "name": "stderr",
     "output_type": "stream",
     "text": [
      "100%|████████████████████████████████████████████| 1/1 [00:00<00:00,  6.41it/s]"
     ]
    },
    {
     "name": "stdout",
     "output_type": "stream",
     "text": [
      "\n"
     ]
    },
    {
     "name": "stderr",
     "output_type": "stream",
     "text": [
      "100%|████████████████████████████████████████████| 1/1 [00:00<00:00,  2.23it/s]\n",
      "/w/hallb-scshelf2102/clas12/users/gmat/clas12/neutneut/analysis/neutron_ml/../../src/TrainData.py:84: FutureWarning: The default of observed=False is deprecated and will be changed to True in a future version of pandas. Pass observed=False to retain current behavior or observed=True to adopt the future default and silence this warning.\n",
      "  group_sizes = df.groupby(group_cols).size()\n",
      "\n"
     ]
    },
    {
     "name": "stdout",
     "output_type": "stream",
     "text": [
      "Total files processed: 1\n"
     ]
    },
    {
     "name": "stderr",
     "output_type": "stream",
     "text": [
      "100%|████████████████████████████████████████████| 1/1 [00:00<00:00,  5.38it/s]\u001b[A\n",
      "/w/hallb-scshelf2102/clas12/users/gmat/clas12/neutneut/analysis/neutron_ml/../../src/TrainData.py:84: FutureWarning: The default of observed=False is deprecated and will be changed to True in a future version of pandas. Pass observed=False to retain current behavior or observed=True to adopt the future default and silence this warning.\n",
      "  group_sizes = df.groupby(group_cols).size()\n",
      "100%|████████████████████████████████████████████| 1/1 [00:00<00:00,  4.35it/s]\u001b[A\n",
      "100%|████████████████████████████████████████████| 1/1 [00:00<00:00,  3.14it/s]\u001b[A\n",
      "\n"
     ]
    },
    {
     "name": "stdout",
     "output_type": "stream",
     "text": [
      "Total files processed: 1"
     ]
    },
    {
     "name": "stderr",
     "output_type": "stream",
     "text": [
      " 77%|██████████████████████████████         | 148/192 [00:00<00:00, 254.66it/s]\u001b[A"
     ]
    },
    {
     "name": "stdout",
     "output_type": "stream",
     "text": [
      "\n"
     ]
    },
    {
     "name": "stderr",
     "output_type": "stream",
     "text": [
      "\n",
      "/w/hallb-scshelf2102/clas12/users/gmat/clas12/neutneut/analysis/neutron_ml/../../src/TrainData.py:84: FutureWarning: The default of observed=False is deprecated and will be changed to True in a future version of pandas. Pass observed=False to retain current behavior or observed=True to adopt the future default and silence this warning.\n",
      "  group_sizes = df.groupby(group_cols).size()\n",
      "100%|████████████████████████████████████████████| 1/1 [00:00<00:00,  5.06it/s]\u001b[A\n",
      "100%|████████████████████████████████████████████| 1/1 [00:00<00:00,  5.58it/s]\u001b[A\n",
      "100%|████████████████████████████████████████████| 1/1 [00:00<00:00,  2.51it/s]\u001b[A\n",
      "\n",
      "100%|████████████████████████████████████████████| 1/1 [00:00<00:00,  2.50it/s]\u001b[A\n",
      "\n"
     ]
    },
    {
     "name": "stdout",
     "output_type": "stream",
     "text": [
      "Total files processed: 1\n"
     ]
    },
    {
     "name": "stderr",
     "output_type": "stream",
     "text": [
      "  0%|                                                  | 0/197 [00:00<?, ?it/s]\u001b[A/w/hallb-scshelf2102/clas12/users/gmat/clas12/neutneut/analysis/neutron_ml/../../src/TrainData.py:84: FutureWarning: The default of observed=False is deprecated and will be changed to True in a future version of pandas. Pass observed=False to retain current behavior or observed=True to adopt the future default and silence this warning.\n",
      "  group_sizes = df.groupby(group_cols).size()\n",
      "\n",
      "100%|████████████████████████████████████████████| 1/1 [00:00<00:00,  5.77it/s]\u001b[A"
     ]
    },
    {
     "name": "stdout",
     "output_type": "stream",
     "text": [
      "Total files processed: 1"
     ]
    },
    {
     "name": "stderr",
     "output_type": "stream",
     "text": [
      "100%|████████████████████████████████████████████| 1/1 [00:00<00:00,  2.79it/s]"
     ]
    },
    {
     "name": "stdout",
     "output_type": "stream",
     "text": [
      "\n"
     ]
    },
    {
     "name": "stderr",
     "output_type": "stream",
     "text": [
      "\n"
     ]
    },
    {
     "name": "stdout",
     "output_type": "stream",
     "text": [
      "Total files processed: 1"
     ]
    },
    {
     "name": "stderr",
     "output_type": "stream",
     "text": [
      "100%|████████████████████████████████████████████| 1/1 [00:00<00:00,  3.34it/s]\n"
     ]
    },
    {
     "name": "stdout",
     "output_type": "stream",
     "text": [
      "\n"
     ]
    },
    {
     "name": "stderr",
     "output_type": "stream",
     "text": [
      "/w/hallb-scshelf2102/clas12/users/gmat/clas12/neutneut/analysis/neutron_ml/../../src/TrainData.py:84: FutureWarning: The default of observed=False is deprecated and will be changed to True in a future version of pandas. Pass observed=False to retain current behavior or observed=True to adopt the future default and silence this warning.\n",
      "  group_sizes = df.groupby(group_cols).size()\n",
      "\n"
     ]
    },
    {
     "name": "stdout",
     "output_type": "stream",
     "text": [
      "Total files processed: 1"
     ]
    },
    {
     "name": "stderr",
     "output_type": "stream",
     "text": [
      "/w/hallb-scshelf2102/clas12/users/gmat/clas12/neutneut/analysis/neutron_ml/../../src/TrainData.py:84: FutureWarning: The default of observed=False is deprecated and will be changed to True in a future version of pandas. Pass observed=False to retain current behavior or observed=True to adopt the future default and silence this warning.\n",
      "  group_sizes = df.groupby(group_cols).size()\n"
     ]
    },
    {
     "name": "stdout",
     "output_type": "stream",
     "text": [
      "\n"
     ]
    },
    {
     "name": "stderr",
     "output_type": "stream",
     "text": [
      "/w/hallb-scshelf2102/clas12/users/gmat/clas12/neutneut/analysis/neutron_ml/../../src/TrainData.py:84: FutureWarning: The default of observed=False is deprecated and will be changed to True in a future version of pandas. Pass observed=False to retain current behavior or observed=True to adopt the future default and silence this warning.\n",
      "  group_sizes = df.groupby(group_cols).size()\n",
      "100%|████████████████████████████████████████████| 1/1 [00:00<00:00,  2.52it/s]\u001b[A\n",
      "100%|████████████████████████████████████████████| 1/1 [00:00<00:00,  3.33it/s]"
     ]
    },
    {
     "name": "stdout",
     "output_type": "stream",
     "text": [
      "Total files processed: 1"
     ]
    },
    {
     "name": "stderr",
     "output_type": "stream",
     "text": [
      "\n"
     ]
    },
    {
     "name": "stdout",
     "output_type": "stream",
     "text": [
      "\n",
      "Total files processed: 1"
     ]
    },
    {
     "name": "stderr",
     "output_type": "stream",
     "text": [
      "100%|████████████████████████████████████████████| 1/1 [00:00<00:00,  2.71it/s]\n"
     ]
    },
    {
     "name": "stdout",
     "output_type": "stream",
     "text": [
      "\n",
      "Total files processed: 1"
     ]
    },
    {
     "name": "stderr",
     "output_type": "stream",
     "text": [
      "100%|████████████████████████████████████████████| 1/1 [00:00<00:00,  3.73it/s]"
     ]
    },
    {
     "name": "stdout",
     "output_type": "stream",
     "text": [
      "\n"
     ]
    },
    {
     "name": "stderr",
     "output_type": "stream",
     "text": [
      "\n",
      "/w/hallb-scshelf2102/clas12/users/gmat/clas12/neutneut/analysis/neutron_ml/../../src/TrainData.py:84: FutureWarning: The default of observed=False is deprecated and will be changed to True in a future version of pandas. Pass observed=False to retain current behavior or observed=True to adopt the future default and silence this warning.\n",
      "  group_sizes = df.groupby(group_cols).size()\n",
      "/w/hallb-scshelf2102/clas12/users/gmat/clas12/neutneut/analysis/neutron_ml/../../src/TrainData.py:84: FutureWarning: The default of observed=False is deprecated and will be changed to True in a future version of pandas. Pass observed=False to retain current behavior or observed=True to adopt the future default and silence this warning.\n",
      "  group_sizes = df.groupby(group_cols).size()\n",
      "100%|████████████████████████████████████████████| 1/1 [00:00<00:00,  2.51it/s]"
     ]
    },
    {
     "name": "stdout",
     "output_type": "stream",
     "text": [
      "Total files processed: 1"
     ]
    },
    {
     "name": "stderr",
     "output_type": "stream",
     "text": [
      "\n",
      "\n"
     ]
    },
    {
     "name": "stdout",
     "output_type": "stream",
     "text": [
      "Total files processed: 1\n"
     ]
    },
    {
     "name": "stderr",
     "output_type": "stream",
     "text": [
      " 56%|█████████████████████▊                 | 110/197 [00:00<00:00, 272.62it/s]/w/hallb-scshelf2102/clas12/users/gmat/clas12/neutneut/analysis/neutron_ml/../../src/TrainData.py:84: FutureWarning: The default of observed=False is deprecated and will be changed to True in a future version of pandas. Pass observed=False to retain current behavior or observed=True to adopt the future default and silence this warning.\n",
      "  group_sizes = df.groupby(group_cols).size()\n",
      "\u001b[A/w/hallb-scshelf2102/clas12/users/gmat/clas12/neutneut/analysis/neutron_ml/../../src/TrainData.py:84: FutureWarning: The default of observed=False is deprecated and will be changed to True in a future version of pandas. Pass observed=False to retain current behavior or observed=True to adopt the future default and silence this warning.\n",
      "  group_sizes = df.groupby(group_cols).size()\n"
     ]
    },
    {
     "name": "stdout",
     "output_type": "stream",
     "text": [
      "\n"
     ]
    },
    {
     "name": "stderr",
     "output_type": "stream",
     "text": [
      "/w/hallb-scshelf2102/clas12/users/gmat/clas12/neutneut/analysis/neutron_ml/../../src/TrainData.py:84: FutureWarning: The default of observed=False is deprecated and will be changed to True in a future version of pandas. Pass observed=False to retain current behavior or observed=True to adopt the future default and silence this warning.\n",
      "  group_sizes = df.groupby(group_cols).size()\n",
      "\n",
      " 19%|███████▌                                | 37/195 [00:00<00:00, 363.78it/s]\u001b[A\n",
      " 57%|██████████████████████                 | 112/198 [00:00<00:00, 295.57it/s]\u001b[A\n",
      "100%|████████████████████████████████████████████| 1/1 [00:00<00:00,  3.47it/s]\u001b[A\n",
      "\n"
     ]
    },
    {
     "name": "stdout",
     "output_type": "stream",
     "text": [
      "Total files processed: 1\n"
     ]
    },
    {
     "name": "stderr",
     "output_type": "stream",
     "text": [
      "100%|████████████████████████████████████████████| 1/1 [00:00<00:00,  2.49it/s]\u001b[A/w/hallb-scshelf2102/clas12/users/gmat/clas12/neutneut/analysis/neutron_ml/../../src/TrainData.py:84: FutureWarning: The default of observed=False is deprecated and will be changed to True in a future version of pandas. Pass observed=False to retain current behavior or observed=True to adopt the future default and silence this warning.\n",
      "  group_sizes = df.groupby(group_cols).size()\n",
      "\n",
      "\n"
     ]
    },
    {
     "name": "stdout",
     "output_type": "stream",
     "text": [
      "Total files processed: 1"
     ]
    },
    {
     "name": "stderr",
     "output_type": "stream",
     "text": [
      "  0%|                                                  | 0/197 [00:00<?, ?it/s]"
     ]
    },
    {
     "name": "stdout",
     "output_type": "stream",
     "text": [
      "\n"
     ]
    },
    {
     "name": "stderr",
     "output_type": "stream",
     "text": [
      "/w/hallb-scshelf2102/clas12/users/gmat/clas12/neutneut/analysis/neutron_ml/../../src/TrainData.py:84: FutureWarning: The default of observed=False is deprecated and will be changed to True in a future version of pandas. Pass observed=False to retain current behavior or observed=True to adopt the future default and silence this warning.\n",
      "  group_sizes = df.groupby(group_cols).size()\n",
      "\u001b[A\n",
      " 20%|███████▉                                | 39/197 [00:00<00:00, 382.44it/s]\u001b[A\n",
      "  0%|                                                    | 0/1 [00:00<?, ?it/s]\u001b[A\n",
      "100%|████████████████████████████████████████████| 1/1 [00:00<00:00,  2.21it/s]\u001b[A\n",
      "\n"
     ]
    },
    {
     "name": "stdout",
     "output_type": "stream",
     "text": [
      "Total files processed: 1\n"
     ]
    },
    {
     "name": "stderr",
     "output_type": "stream",
     "text": [
      " 91%|███████████████████████████████████▎   | 174/192 [00:00<00:00, 234.85it/s]\u001b[A/w/hallb-scshelf2102/clas12/users/gmat/clas12/neutneut/analysis/neutron_ml/../../src/TrainData.py:84: FutureWarning: The default of observed=False is deprecated and will be changed to True in a future version of pandas. Pass observed=False to retain current behavior or observed=True to adopt the future default and silence this warning.\n",
      "  group_sizes = df.groupby(group_cols).size()\n",
      "\n",
      " 79%|██████████████████████████████▋        | 155/197 [00:00<00:00, 323.52it/s]\u001b[A\n",
      "  0%|                                                    | 0/1 [00:00<?, ?it/s]\u001b[A\n",
      "  0%|                                                  | 0/198 [00:00<?, ?it/s]\u001b[A\n",
      "  0%|                                                  | 0/198 [00:00<?, ?it/s]\u001b[A\n",
      "  0%|                                                  | 0/199 [00:00<?, ?it/s]\u001b[A\n",
      " 40%|████████████████                        | 80/199 [00:00<00:00, 326.08it/s]\u001b[A\n",
      " 42%|████████████████▋                       | 82/197 [00:00<00:00, 314.57it/s]\u001b[A\n",
      " 21%|████████▎                               | 41/197 [00:00<00:00, 401.33it/s]\u001b[A\n",
      "Processing CSV files:  42%|███████▌          | 210/500 [00:13<00:12, 22.44it/s]\u001b[A\n",
      " 42%|████████████████▊                       | 82/195 [00:00<00:00, 314.82it/s]\u001b[A\n",
      "  0%|                                                  | 0/196 [00:00<?, ?it/s]\u001b[A\n",
      "100%|████████████████████████████████████████████| 1/1 [00:00<00:00,  2.51it/s]\u001b[A\n",
      "\n"
     ]
    },
    {
     "name": "stdout",
     "output_type": "stream",
     "text": [
      "Total files processed: 1"
     ]
    },
    {
     "name": "stderr",
     "output_type": "stream",
     "text": [
      " 72%|████████████████████████████▏          | 143/198 [00:00<00:00, 198.14it/s]\u001b[A\n",
      "  0%|                                                  | 0/196 [00:00<?, ?it/s]\u001b[A\n"
     ]
    },
    {
     "name": "stdout",
     "output_type": "stream",
     "text": [
      "\n"
     ]
    },
    {
     "name": "stderr",
     "output_type": "stream",
     "text": [
      "/w/hallb-scshelf2102/clas12/users/gmat/clas12/neutneut/analysis/neutron_ml/../../src/TrainData.py:84: FutureWarning: The default of observed=False is deprecated and will be changed to True in a future version of pandas. Pass observed=False to retain current behavior or observed=True to adopt the future default and silence this warning.\n",
      "  group_sizes = df.groupby(group_cols).size()\n",
      " 38%|███████████████▏                        | 74/195 [00:00<00:00, 285.60it/s]\u001b[A\n",
      "100%|████████████████████████████████████████████| 1/1 [00:00<00:00,  2.04it/s]\u001b[A\n",
      "\n"
     ]
    },
    {
     "name": "stdout",
     "output_type": "stream",
     "text": [
      "Total files processed: 1\n"
     ]
    },
    {
     "name": "stderr",
     "output_type": "stream",
     "text": [
      " 51%|███████████████████▊                   | 101/199 [00:00<00:00, 249.12it/s]\u001b[A\n",
      "/w/hallb-scshelf2102/clas12/users/gmat/clas12/neutneut/analysis/neutron_ml/../../src/TrainData.py:84: FutureWarning: The default of observed=False is deprecated and will be changed to True in a future version of pandas. Pass observed=False to retain current behavior or observed=True to adopt the future default and silence this warning.\n",
      "  group_sizes = df.groupby(group_cols).size()\n",
      " 41%|████████████████▍                       | 80/195 [00:00<00:00, 290.24it/s]\u001b[A\n",
      "  0%|                                                  | 0/195 [00:00<?, ?it/s]\u001b[A\n",
      "  0%|                                                  | 0/198 [00:00<?, ?it/s]\u001b[A\n",
      " 40%|███████████████▊                        | 78/197 [00:00<00:00, 296.22it/s]\u001b[A\n",
      "100%|███████████████████████████████████████| 192/192 [00:00<00:00, 217.80it/s]\u001b[A\n",
      "\n",
      "  0%|                                                  | 0/199 [00:00<?, ?it/s]\u001b[A\n",
      "  0%|                                                  | 0/199 [00:00<?, ?it/s]\u001b[A\n",
      "  0%|                                                  | 0/197 [00:00<?, ?it/s]\u001b[A\n",
      " 23%|█████████▎                              | 46/197 [00:00<00:00, 454.36it/s]\u001b[A\n",
      " 96%|█████████████████████████████████████▍ | 189/197 [00:00<00:00, 288.65it/s]\u001b[A\n",
      " 57%|██████████████████████▎                | 114/199 [00:00<00:00, 308.17it/s]\u001b[A\n",
      " 84%|████████████████████████████████▊      | 166/197 [00:00<00:00, 262.91it/s]\u001b[A\n",
      "  0%|                                                    | 0/1 [00:00<?, ?it/s]\u001b[A\n",
      " 58%|██████████████████████▊                | 115/197 [00:00<00:00, 286.87it/s]\u001b[A\n",
      "  0%|                                                  | 0/195 [00:00<?, ?it/s]\u001b[A\n",
      "  0%|                                                  | 0/194 [00:00<?, ?it/s]\u001b[A\n",
      "  0%|                                                  | 0/197 [00:00<?, ?it/s]\u001b[A\n",
      " 24%|█████████▍                              | 47/198 [00:00<00:00, 454.61it/s]\u001b[A\n",
      " 59%|███████████████████████                | 115/195 [00:00<00:00, 306.44it/s]\u001b[A\n",
      " 20%|████████                                | 40/198 [00:00<00:00, 393.02it/s]\u001b[A\n",
      " 25%|█████████▊                              | 49/199 [00:00<00:00, 483.67it/s]\u001b[A\n",
      " 84%|████████████████████████████████▉      | 167/198 [00:00<00:00, 204.08it/s]\u001b[A\n",
      " 42%|████████████████▋                       | 82/197 [00:00<00:00, 329.48it/s]\u001b[A\n",
      " 23%|█████████▏                              | 45/196 [00:00<00:00, 448.87it/s]\u001b[A\n",
      " 21%|████████▏                               | 41/199 [00:00<00:00, 409.61it/s]\u001b[A\n",
      " 64%|████████████████████████▉              | 127/199 [00:00<00:00, 230.70it/s]\u001b[A\n",
      " 21%|████████▌                               | 42/196 [00:00<00:00, 415.08it/s]\u001b[A\n",
      " 53%|████████████████████▊                  | 104/195 [00:00<00:00, 251.01it/s]\u001b[A\n",
      " 57%|██████████████████████▏                | 111/195 [00:00<00:00, 275.38it/s]\u001b[A\n",
      " 55%|█████████████████████▌                 | 109/197 [00:00<00:00, 261.52it/s]\u001b[A\n",
      "100%|████████████████████████████████████████████| 1/1 [00:00<00:00,  5.25it/s]\u001b[A\n",
      " 23%|█████████                               | 45/198 [00:00<00:00, 446.85it/s]\u001b[A\n",
      "  0%|                                                  | 0/197 [00:00<?, ?it/s]\u001b[A\n",
      " 22%|████████▊                               | 43/195 [00:00<00:00, 423.00it/s]\u001b[A\n",
      " 21%|████████▎                               | 41/198 [00:00<00:00, 405.09it/s]\u001b[A\n",
      " 21%|████████▏                               | 40/194 [00:00<00:00, 397.81it/s]\u001b[A\n",
      " 22%|████████▋                               | 43/199 [00:00<00:00, 427.78it/s]\u001b[A\n",
      "100%|████████████████████████████████████████████| 1/1 [00:00<00:00,  3.64it/s]\u001b[A\n",
      " 20%|████████                                | 40/199 [00:00<00:00, 399.04it/s]\u001b[A\n",
      " 73%|████████████████████████████▌          | 146/199 [00:00<00:00, 246.82it/s]\u001b[A\n",
      " 47%|██████████████████▋                     | 92/197 [00:00<00:00, 291.68it/s]\u001b[A\n",
      " 21%|████████▎                               | 41/197 [00:00<00:00, 402.45it/s]\u001b[A\n",
      " 98%|██████████████████████████████████████▏| 193/197 [00:00<00:00, 218.63it/s]\u001b[A\n",
      " 74%|████████████████████████████▋          | 145/197 [00:00<00:00, 234.13it/s]\u001b[A\n",
      "  0%|                                                  | 0/200 [00:00<?, ?it/s]\u001b[A\n",
      " 22%|████████▌                               | 42/195 [00:00<00:00, 416.01it/s]\u001b[A\n",
      " 23%|█████████                               | 44/194 [00:00<00:00, 432.75it/s]\u001b[A\n",
      " 96%|█████████████████████████████████████▍ | 190/198 [00:01<00:00, 167.91it/s]\u001b[A\n",
      "100%|███████████████████████████████████████| 197/197 [00:00<00:00, 201.79it/s]\u001b[A\n",
      "\n",
      "  0%|                                                  | 0/198 [00:00<?, ?it/s]\u001b[A\n",
      " 40%|████████████████▏                       | 80/198 [00:00<00:00, 236.46it/s]\u001b[A\n",
      " 47%|██████████████████▊                     | 93/198 [00:00<00:00, 430.54it/s]\u001b[A\n",
      " 76%|█████████████████████████████▌         | 151/199 [00:00<00:00, 192.84it/s]\u001b[A\n",
      " 67%|██████████████████████████             | 130/195 [00:00<00:00, 201.93it/s]\u001b[A\n",
      " 59%|██████████████████████▉                | 116/197 [00:00<00:00, 222.76it/s]\u001b[A\n",
      " 69%|██████████████████████████▉            | 136/197 [00:00<00:00, 220.44it/s]\u001b[A\n",
      " 72%|████████████████████████████           | 140/195 [00:00<00:00, 215.94it/s]\u001b[A\u001b[A\n",
      " 49%|███████████████████▋                    | 98/199 [00:00<00:00, 265.14it/s]\u001b[A\n",
      " 41%|████████████████▍                       | 82/199 [00:00<00:00, 246.38it/s]\n",
      " 43%|█████████████████▏                      | 84/196 [00:00<00:00, 254.69it/s]\u001b[A\n",
      " 46%|██████████████████▎                     | 90/196 [00:00<00:00, 248.86it/s]\u001b[A\n",
      "100%|████████████████████████████████████████████| 1/1 [00:00<00:00,  2.01it/s]\u001b[A\n",
      "\n"
     ]
    },
    {
     "name": "stdout",
     "output_type": "stream",
     "text": [
      "Total files processed: 1\n"
     ]
    },
    {
     "name": "stderr",
     "output_type": "stream",
     "text": [
      " 44%|█████████████████▋                      | 86/195 [00:00<00:00, 272.42it/s]\u001b[A\n",
      "/w/hallb-scshelf2102/clas12/users/gmat/clas12/neutneut/analysis/neutron_ml/../../src/TrainData.py:84: FutureWarning: The default of observed=False is deprecated and will be changed to True in a future version of pandas. Pass observed=False to retain current behavior or observed=True to adopt the future default and silence this warning.\n",
      "  group_sizes = df.groupby(group_cols).size()\n",
      "100%|████████████████████████████████████████████| 1/1 [00:00<00:00,  4.62it/s]\u001b[A\n",
      " 43%|█████████████████▎                      | 86/199 [00:00<00:00, 296.12it/s]\u001b[A\n",
      " 21%|████████▎                               | 41/197 [00:00<00:00, 409.87it/s]\u001b[A\n",
      " 45%|██████████████████▏                     | 90/198 [00:00<00:00, 256.03it/s]\u001b[A\n",
      " 41%|████████████████▍                       | 80/194 [00:00<00:00, 247.07it/s]\u001b[A\n",
      " 41%|████████████████▌                       | 82/198 [00:00<00:00, 176.67it/s]\u001b[A\n",
      " 87%|█████████████████████████████████▉     | 173/199 [00:00<00:00, 208.99it/s]\u001b[A\n",
      " 86%|█████████████████████████████████▋     | 170/197 [00:00<00:00, 202.67it/s]\u001b[A\n",
      "100%|████████████████████████████████████████████| 1/1 [00:00<00:00,  1.74it/s]\u001b[A\n",
      "\n"
     ]
    },
    {
     "name": "stdout",
     "output_type": "stream",
     "text": [
      "Total files processed: 1"
     ]
    },
    {
     "name": "stderr",
     "output_type": "stream",
     "text": [
      " 42%|████████████████▋                       | 82/197 [00:00<00:00, 271.26it/s]\u001b[A"
     ]
    },
    {
     "name": "stdout",
     "output_type": "stream",
     "text": [
      "\n"
     ]
    },
    {
     "name": "stderr",
     "output_type": "stream",
     "text": [
      "\n",
      " 40%|████████████████                        | 80/199 [00:00<00:00, 252.74it/s]\u001b[A/w/hallb-scshelf2102/clas12/users/gmat/clas12/neutneut/analysis/neutron_ml/../../src/TrainData.py:84: FutureWarning: The default of observed=False is deprecated and will be changed to True in a future version of pandas. Pass observed=False to retain current behavior or observed=True to adopt the future default and silence this warning.\n",
      "  group_sizes = df.groupby(group_cols).size()\n",
      "\n",
      "  0%|                                                    | 0/1 [00:00<?, ?it/s]\u001b[A\n",
      " 86%|█████████████████████████████████▋     | 172/199 [00:00<00:00, 172.99it/s]\u001b[A\n",
      " 43%|█████████████████▏                      | 84/195 [00:00<00:00, 286.10it/s]\u001b[A\n",
      " 22%|████████▌                               | 43/200 [00:00<00:00, 421.60it/s]\u001b[A\n",
      " 78%|██████████████████████████████▍        | 152/195 [00:00<00:00, 182.04it/s]\u001b[A\n",
      "100%|███████████████████████████████████████| 197/197 [00:01<00:00, 177.87it/s]\u001b[A\n",
      "\n",
      " 81%|███████████████████████████████▍       | 159/197 [00:00<00:00, 196.85it/s]\u001b[A\n",
      " 72%|████████████████████████████           | 142/197 [00:00<00:00, 198.79it/s]\u001b[A\n",
      "100%|████████████████████████████████████████████| 1/1 [00:00<00:00,  2.44it/s]\u001b[A\n",
      "\n"
     ]
    },
    {
     "name": "stdout",
     "output_type": "stream",
     "text": [
      "Total files processed: 1\n"
     ]
    },
    {
     "name": "stderr",
     "output_type": "stream",
     "text": [
      " 45%|██████████████████▏                     | 88/194 [00:00<00:00, 274.41it/s]\u001b[A\n",
      "/w/hallb-scshelf2102/clas12/users/gmat/clas12/neutneut/analysis/neutron_ml/../../src/TrainData.py:84: FutureWarning: The default of observed=False is deprecated and will be changed to True in a future version of pandas. Pass observed=False to retain current behavior or observed=True to adopt the future default and silence this warning.\n",
      "  group_sizes = df.groupby(group_cols).size()\n",
      " 69%|██████████████████████████▉            | 137/198 [00:00<00:00, 305.57it/s]\u001b[A\n",
      " 65%|█████████████████████████▍             | 130/199 [00:00<00:00, 229.92it/s]\u001b[A\u001b[A\n",
      " 56%|█████████████████████▊                 | 111/199 [00:00<00:00, 214.74it/s]\n",
      "100%|███████████████████████████████████████| 198/198 [00:01<00:00, 159.07it/s]\u001b[A\n",
      "\n",
      " 58%|██████████████████████▍                | 113/196 [00:00<00:00, 208.29it/s]\u001b[A\n",
      " 61%|███████████████████████▉               | 120/196 [00:00<00:00, 206.17it/s]\u001b[A\n",
      " 60%|███████████████████████▍               | 117/195 [00:00<00:00, 241.39it/s]\u001b[A\n",
      " 98%|██████████████████████████████████████▍| 196/199 [00:00<00:00, 187.95it/s]\u001b[A\n",
      " 59%|███████████████████████▏               | 118/199 [00:00<00:00, 240.90it/s]\u001b[A\n",
      " 56%|█████████████████████▋                 | 108/194 [00:00<00:00, 211.20it/s]\u001b[A\n",
      " 61%|███████████████████████▋               | 120/198 [00:00<00:00, 221.95it/s]\u001b[A\n",
      " 77%|█████████████████████████████▉         | 151/197 [00:00<00:00, 213.28it/s]\u001b[A\n",
      " 77%|██████████████████████████████▏        | 153/198 [00:00<00:00, 270.44it/s]\u001b[A\n",
      " 97%|██████████████████████████████████████ | 192/197 [00:00<00:00, 179.53it/s]\u001b[A\n",
      " 42%|████████████████▋                       | 82/197 [00:00<00:00, 275.84it/s]\u001b[A\n",
      " 44%|█████████████████▍                      | 86/197 [00:00<00:00, 273.38it/s]\u001b[A\n",
      " 95%|█████████████████████████████████████▏ | 190/199 [00:01<00:00, 165.38it/s]\u001b[A\n",
      " 57%|██████████████████████▏                | 112/197 [00:00<00:00, 219.27it/s]\u001b[A\n",
      " 55%|█████████████████████▎                 | 109/199 [00:00<00:00, 211.57it/s]\u001b[A\n",
      " 88%|██████████████████████████████████▏    | 171/195 [00:00<00:00, 164.70it/s]\u001b[A\n",
      " 59%|███████████████████████                | 115/195 [00:00<00:00, 245.71it/s]\u001b[A\n",
      " 91%|███████████████████████████████████▋   | 180/197 [00:00<00:00, 177.12it/s]\u001b[A\n",
      " 89%|██████████████████████████████████▊    | 174/195 [00:00<00:00, 143.80it/s]\u001b[A\n",
      " 83%|████████████████████████████████▍      | 164/197 [00:00<00:00, 181.36it/s]\u001b[A\n",
      " 54%|█████████████████████                  | 107/198 [00:00<00:00, 169.66it/s]\u001b[A\n",
      "  0%|                                                    | 0/1 [00:00<?, ?it/s]\u001b[A\n",
      " 95%|█████████████████████████████████████  | 185/195 [00:00<00:00, 176.51it/s]\u001b[A\n",
      " 43%|█████████████████▏                      | 86/200 [00:00<00:00, 290.62it/s]\u001b[A\n",
      " 68%|██████████████████████████▍            | 135/199 [00:00<00:00, 194.61it/s]\u001b[A\n",
      " 78%|██████████████████████████████▌        | 156/199 [00:00<00:00, 207.88it/s]\u001b[A\n",
      " 61%|███████████████████████▉               | 119/194 [00:00<00:00, 233.55it/s]\u001b[A\n",
      " 86%|█████████████████████████████████▋     | 171/198 [00:00<00:00, 260.73it/s]\u001b[A\n",
      " 69%|███████████████████████████            | 136/196 [00:00<00:00, 190.84it/s]\u001b[A\n",
      " 73%|████████████████████████████▋          | 144/196 [00:00<00:00, 192.12it/s]\u001b[A\n",
      " 73%|████████████████████████████▌          | 143/195 [00:00<00:00, 217.13it/s]\u001b[A\n",
      " 68%|██████████████████████████▎            | 131/194 [00:00<00:00, 202.12it/s]\u001b[A\n",
      " 72%|████████████████████████████▏          | 144/199 [00:00<00:00, 226.17it/s]\u001b[A\n",
      "  0%|                                                  | 0/199 [00:00<?, ?it/s]\u001b[A\n",
      " 88%|██████████████████████████████████▍    | 174/197 [00:00<00:00, 200.71it/s]\u001b[A\n",
      " 73%|████████████████████████████▌          | 145/198 [00:00<00:00, 208.02it/s]\u001b[A\n",
      " 43%|█████████████████▎                      | 86/198 [00:00<00:00, 261.19it/s]\u001b[A\n",
      " 93%|████████████████████████████████████▏  | 184/198 [00:00<00:00, 242.16it/s]\u001b[A\n",
      " 96%|█████████████████████████████████████▌ | 188/195 [00:01<00:00, 159.41it/s]\u001b[A\n",
      " 69%|██████████████████████████▉            | 136/197 [00:00<00:00, 207.34it/s]\u001b[A\n",
      "100%|███████████████████████████████████████| 199/199 [00:01<00:00, 178.65it/s]\u001b[A\n",
      "\n",
      " 57%|██████████████████████▎                | 113/197 [00:00<00:00, 235.74it/s]\u001b[A\n",
      " 99%|██████████████████████████████████████▊| 194/195 [00:01<00:00, 149.05it/s]\u001b[A\n",
      " 72%|████████████████████████████▏          | 141/195 [00:00<00:00, 230.89it/s]\u001b[A\n",
      "100%|███████████████████████████████████████| 197/197 [00:01<00:00, 173.80it/s]\u001b[A\n",
      "\n",
      "Processing CSV files:  43%|███████▋          | 214/500 [00:14<00:23, 12.24it/s]\u001b[A\n",
      " 65%|█████████████████████████▏             | 128/198 [00:00<00:00, 144.63it/s]\u001b[A\n",
      "  0%|                                                  | 0/197 [00:00<?, ?it/s]\u001b[A\n",
      "  0%|                                                  | 0/196 [00:00<?, ?it/s]\u001b[A\n",
      "100%|███████████████████████████████████████| 199/199 [00:01<00:00, 161.19it/s]\u001b[A\n",
      "\n",
      " 78%|██████████████████████████████▌        | 156/199 [00:00<00:00, 181.75it/s]\u001b[A\n",
      " 80%|███████████████████████████████▏       | 157/196 [00:00<00:00, 184.65it/s]\u001b[A\n",
      " 90%|███████████████████████████████████    | 179/199 [00:00<00:00, 192.45it/s]\u001b[A\n",
      " 84%|████████████████████████████████▊      | 165/196 [00:00<00:00, 185.82it/s]\u001b[A\n",
      " 75%|█████████████████████████████▏         | 145/194 [00:00<00:00, 209.91it/s]\u001b[A\n",
      " 59%|███████████████████████                | 118/200 [00:00<00:00, 243.42it/s]\u001b[A\n",
      " 85%|█████████████████████████████████▏     | 166/195 [00:00<00:00, 203.56it/s]\u001b[A\n",
      " 79%|██████████████████████████████▊        | 153/194 [00:00<00:00, 194.44it/s]\u001b[A\n",
      " 84%|████████████████████████████████▉      | 167/198 [00:00<00:00, 204.30it/s]\u001b[A\n",
      " 99%|██████████████████████████████████████▌| 195/197 [00:00<00:00, 193.19it/s]\u001b[A\n",
      "100%|███████████████████████████████████████| 197/197 [00:01<00:00, 173.36it/s]\u001b[A\n",
      "100%|███████████████████████████████████████| 195/195 [00:01<00:00, 168.29it/s]\n",
      "\n",
      " 59%|██████████████████████▊                | 116/198 [00:00<00:00, 248.26it/s]\u001b[A\n",
      "100%|████████████████████████████████████████████| 1/1 [00:00<00:00,  2.63it/s]\u001b[A\n",
      "\n"
     ]
    },
    {
     "name": "stdout",
     "output_type": "stream",
     "text": [
      "Total files processed: 1"
     ]
    },
    {
     "name": "stderr",
     "output_type": "stream",
     "text": [
      "  0%|                                                    | 0/1 [00:00<?, ?it/s]"
     ]
    },
    {
     "name": "stdout",
     "output_type": "stream",
     "text": [
      "\n"
     ]
    },
    {
     "name": "stderr",
     "output_type": "stream",
     "text": [
      "\u001b[A\n",
      "/w/hallb-scshelf2102/clas12/users/gmat/clas12/neutneut/analysis/neutron_ml/../../src/TrainData.py:84: FutureWarning: The default of observed=False is deprecated and will be changed to True in a future version of pandas. Pass observed=False to retain current behavior or observed=True to adopt the future default and silence this warning.\n",
      "  group_sizes = df.groupby(group_cols).size()\n",
      " 24%|█████████▋                              | 48/199 [00:00<00:00, 478.79it/s]\u001b[A\n",
      " 85%|█████████████████████████████████      | 165/195 [00:00<00:00, 217.96it/s]\u001b[A\n",
      " 73%|████████████████████████████▌          | 145/198 [00:00<00:00, 146.02it/s]\u001b[A\n",
      " 71%|███████████████████████████▌           | 139/197 [00:00<00:00, 180.86it/s]\u001b[A\n",
      " 71%|███████████████████████████▌           | 139/197 [00:00<00:00, 221.32it/s]\u001b[A\n",
      "100%|███████████████████████████████████████| 198/198 [00:00<00:00, 230.72it/s]\u001b[A\n",
      "100%|███████████████████████████████████████| 195/195 [00:01<00:00, 162.04it/s]\n",
      "\n",
      "100%|███████████████████████████████████████| 195/195 [00:01<00:00, 157.00it/s]\u001b[A\n",
      "\n",
      " 90%|███████████████████████████████████▏   | 177/196 [00:00<00:00, 182.33it/s]\u001b[A\n",
      "100%|███████████████████████████████████████| 198/198 [00:00<00:00, 199.11it/s]\u001b[A\n",
      "\n",
      "100%|███████████████████████████████████████| 199/199 [00:00<00:00, 188.17it/s]\u001b[A\n",
      " 94%|████████████████████████████████████▊  | 185/196 [00:00<00:00, 183.84it/s]\u001b[A\n",
      " 86%|█████████████████████████████████▌     | 167/194 [00:00<00:00, 207.90it/s]\u001b[A\n",
      " 77%|█████████████████████████████▉         | 153/199 [00:00<00:00, 190.58it/s]\u001b[A\n",
      "100%|███████████████████████████████████████| 197/197 [00:01<00:00, 171.06it/s]\u001b[A\n",
      "\n",
      " 96%|█████████████████████████████████████▍ | 187/195 [00:00<00:00, 197.26it/s]\u001b[A\n",
      " 72%|████████████████████████████           | 144/200 [00:00<00:00, 230.92it/s]\u001b[A\n",
      " 95%|█████████████████████████████████████▏ | 189/198 [00:00<00:00, 197.53it/s]\u001b[A\n",
      " 21%|████████▌                               | 42/197 [00:00<00:00, 412.12it/s]\u001b[A\n",
      "100%|███████████████████████████████████████| 197/197 [00:01<00:00, 178.28it/s]\u001b[A\n",
      "\n",
      " 95%|█████████████████████████████████████▏ | 190/199 [00:00<00:00, 195.16it/s]\u001b[A\n",
      " 91%|███████████████████████████████████▍   | 179/197 [00:00<00:00, 191.86it/s]\u001b[A\n",
      " 81%|███████████████████████████████▋       | 161/198 [00:01<00:00, 149.27it/s]\u001b[A\n",
      " 72%|████████████████████████████▏          | 143/198 [00:00<00:00, 231.51it/s]\u001b[A\n",
      " 96%|█████████████████████████████████████▌ | 188/195 [00:00<00:00, 211.95it/s]\u001b[A\n",
      " 81%|███████████████████████████████▋       | 160/197 [00:00<00:00, 182.15it/s]\u001b[A\n",
      "100%|███████████████████████████████████████| 196/196 [00:01<00:00, 184.75it/s]\u001b[A\n",
      "\n",
      "100%|███████████████████████████████████████| 195/195 [00:00<00:00, 196.67it/s]\u001b[A\n",
      "100%|████████████████████████████████████████████| 1/1 [00:00<00:00,  2.76it/s]\n"
     ]
    },
    {
     "name": "stdout",
     "output_type": "stream",
     "text": [
      "Total files processed: 1"
     ]
    },
    {
     "name": "stderr",
     "output_type": "stream",
     "text": [
      "\n"
     ]
    },
    {
     "name": "stdout",
     "output_type": "stream",
     "text": [
      "\n"
     ]
    },
    {
     "name": "stderr",
     "output_type": "stream",
     "text": [
      " 48%|███████████████████▎                    | 96/199 [00:00<00:00, 335.83it/s]\u001b[A/w/hallb-scshelf2102/clas12/users/gmat/clas12/neutneut/analysis/neutron_ml/../../src/TrainData.py:84: FutureWarning: The default of observed=False is deprecated and will be changed to True in a future version of pandas. Pass observed=False to retain current behavior or observed=True to adopt the future default and silence this warning.\n",
      "  group_sizes = df.groupby(group_cols).size()\n",
      "\n",
      "Processing CSV files:  43%|███████▊          | 217/500 [00:14<00:23, 11.81it/s]\u001b[A\n",
      "100%|███████████████████████████████████████| 199/199 [00:01<00:00, 175.71it/s]\u001b[A\n",
      "100%|███████████████████████████████████████| 199/199 [00:01<00:00, 197.88it/s]\n",
      "\n",
      " 99%|██████████████████████████████████████▊| 198/199 [00:01<00:00, 188.05it/s]\u001b[A\n",
      "100%|███████████████████████████████████████| 196/196 [00:01<00:00, 179.46it/s]\u001b[A\n",
      "\n",
      "100%|███████████████████████████████████████| 195/195 [00:00<00:00, 204.61it/s]\u001b[A\n",
      "\n",
      " 89%|██████████████████████████████████▊    | 177/198 [00:01<00:00, 143.87it/s]\u001b[A\n",
      "  0%|                                                    | 0/1 [00:00<?, ?it/s]\u001b[A\n",
      " 91%|███████████████████████████████████▋   | 180/197 [00:00<00:00, 176.26it/s]\u001b[A\n",
      "100%|███████████████████████████████████████| 198/198 [00:01<00:00, 182.55it/s]\u001b[A\n",
      "\n",
      "100%|████████████████████████████████████████████| 1/1 [00:00<00:00,  5.44it/s]\u001b[A\n",
      " 85%|█████████████████████████████████      | 168/198 [00:00<00:00, 213.13it/s]\u001b[A\n",
      "  0%|                                                    | 0/1 [00:00<?, ?it/s]\u001b[A\n",
      "100%|███████████████████████████████████████| 199/199 [00:01<00:00, 171.73it/s]\u001b[A\n",
      "\n",
      "100%|███████████████████████████████████████| 197/197 [00:01<00:00, 184.44it/s]\u001b[A\n",
      "100%|███████████████████████████████████████| 194/194 [00:01<00:00, 175.14it/s]\n",
      "Processing CSV files:  45%|████████          | 225/500 [00:15<00:14, 18.76it/s]\n",
      "  0%|                                                    | 0/1 [00:00<?, ?it/s]\u001b[A\n",
      " 47%|██████████████████▊                     | 92/196 [00:00<00:00, 273.15it/s]\u001b[A\n",
      "100%|████████████████████████████████████████████| 1/1 [00:00<00:00,  5.29it/s]\u001b[A\n",
      " 96%|█████████████████████████████████████▏ | 191/200 [00:00<00:00, 217.11it/s]\u001b[A\n",
      " 67%|██████████████████████████             | 133/199 [00:00<00:00, 301.67it/s]\u001b[A\n",
      "100%|███████████████████████████████████████| 194/194 [00:01<00:00, 186.99it/s]\u001b[A\n",
      "\n",
      "  0%|                                                    | 0/1 [00:00<?, ?it/s]\u001b[A\n",
      "  0%|                                                    | 0/1 [00:00<?, ?it/s]\u001b[A\n",
      "  0%|                                                    | 0/1 [00:00<?, ?it/s]\u001b[A\n",
      "  0%|                                                    | 0/1 [00:00<?, ?it/s]\u001b[A\n",
      "  0%|                                                    | 0/1 [00:00<?, ?it/s]\u001b[A\n",
      " 96%|█████████████████████████████████████▍ | 190/198 [00:00<00:00, 213.12it/s]\u001b[A\n",
      "100%|███████████████████████████████████████| 197/197 [00:01<00:00, 185.57it/s]\u001b[A\n",
      "100%|███████████████████████████████████████| 198/198 [00:01<00:00, 155.14it/s]\n",
      "\n",
      "100%|███████████████████████████████████████| 197/197 [00:00<00:00, 204.64it/s]\u001b[A\n",
      "\n",
      "100%|███████████████████████████████████████| 200/200 [00:00<00:00, 219.47it/s]\u001b[A\n",
      "\n",
      "  0%|                                                    | 0/1 [00:00<?, ?it/s]\u001b[A\n",
      "100%|████████████████████████████████████████████| 1/1 [00:00<00:00,  2.73it/s]\u001b[A\n"
     ]
    },
    {
     "name": "stdout",
     "output_type": "stream",
     "text": [
      "Total files processed: 1"
     ]
    },
    {
     "name": "stderr",
     "output_type": "stream",
     "text": [
      "\n"
     ]
    },
    {
     "name": "stdout",
     "output_type": "stream",
     "text": [
      "\n"
     ]
    },
    {
     "name": "stderr",
     "output_type": "stream",
     "text": [
      "  0%|                                                    | 0/1 [00:00<?, ?it/s]\u001b[A\n",
      "/w/hallb-scshelf2102/clas12/users/gmat/clas12/neutneut/analysis/neutron_ml/../../src/TrainData.py:84: FutureWarning: The default of observed=False is deprecated and will be changed to True in a future version of pandas. Pass observed=False to retain current behavior or observed=True to adopt the future default and silence this warning.\n",
      "  group_sizes = df.groupby(group_cols).size()\n",
      "100%|████████████████████████████████████████████| 1/1 [00:00<00:00,  2.93it/s]\u001b[A\n"
     ]
    },
    {
     "name": "stdout",
     "output_type": "stream",
     "text": [
      "Total files processed: 1"
     ]
    },
    {
     "name": "stderr",
     "output_type": "stream",
     "text": [
      "\n"
     ]
    },
    {
     "name": "stdout",
     "output_type": "stream",
     "text": [
      "\n"
     ]
    },
    {
     "name": "stderr",
     "output_type": "stream",
     "text": [
      " 63%|████████████████████████▋              | 124/196 [00:00<00:00, 261.20it/s]\u001b[A/w/hallb-scshelf2102/clas12/users/gmat/clas12/neutneut/analysis/neutron_ml/../../src/TrainData.py:84: FutureWarning: The default of observed=False is deprecated and will be changed to True in a future version of pandas. Pass observed=False to retain current behavior or observed=True to adopt the future default and silence this warning.\n",
      "  group_sizes = df.groupby(group_cols).size()\n",
      "\n",
      " 83%|████████████████████████████████▎      | 165/199 [00:00<00:00, 296.20it/s]\u001b[A\n",
      "Processing CSV files:  46%|████████▏         | 229/500 [00:15<00:12, 21.14it/s]\u001b[A\n",
      "  0%|                                                    | 0/1 [00:00<?, ?it/s]\u001b[A\n",
      "  0%|                                                    | 0/1 [00:00<?, ?it/s]\u001b[A\n",
      "100%|████████████████████████████████████████████| 1/1 [00:00<00:00,  5.69it/s]\u001b[A\n",
      " 21%|████████▏                               | 41/199 [00:00<00:00, 406.82it/s]\u001b[A\n",
      "100%|███████████████████████████████████████| 198/198 [00:00<00:00, 199.47it/s]\u001b[A\n",
      "\n",
      " 78%|██████████████████████████████▍        | 153/196 [00:00<00:00, 258.70it/s]\u001b[A\n",
      "100%|███████████████████████████████████████| 199/199 [00:01<00:00, 155.29it/s]\u001b[A\n",
      "\n",
      "100%|████████████████████████████████████████████| 1/1 [00:00<00:00,  5.70it/s]\u001b[A\n",
      "  0%|                                                    | 0/1 [00:00<?, ?it/s]\u001b[A\n",
      " 84%|████████████████████████████████▊      | 166/197 [00:00<00:00, 310.80it/s]\u001b[A\n",
      "Processing CSV files:  47%|████████▍         | 236/500 [00:15<00:09, 27.32it/s]\u001b[A\n",
      " 40%|███████████████▊                        | 78/197 [00:00<00:00, 312.73it/s]\u001b[A\n",
      "100%|████████████████████████████████████████████| 1/1 [00:00<00:00,  3.18it/s]\u001b[A\n"
     ]
    },
    {
     "name": "stdout",
     "output_type": "stream",
     "text": [
      "Total files processed: 1"
     ]
    },
    {
     "name": "stderr",
     "output_type": "stream",
     "text": [
      "\n",
      "  0%|                                                    | 0/1 [00:00<?, ?it/s]\u001b[A\n",
      " 98%|██████████████████████████████████████▍| 196/199 [00:00<00:00, 282.20it/s]"
     ]
    },
    {
     "name": "stdout",
     "output_type": "stream",
     "text": [
      "\n"
     ]
    },
    {
     "name": "stderr",
     "output_type": "stream",
     "text": [
      "/w/hallb-scshelf2102/clas12/users/gmat/clas12/neutneut/analysis/neutron_ml/../../src/TrainData.py:84: FutureWarning: The default of observed=False is deprecated and will be changed to True in a future version of pandas. Pass observed=False to retain current behavior or observed=True to adopt the future default and silence this warning.\n",
      "  group_sizes = df.groupby(group_cols).size()\n",
      "\u001b[A\n",
      "100%|████████████████████████████████████████████| 1/1 [00:00<00:00,  5.67it/s]\u001b[A\n",
      "100%|████████████████████████████████████████████| 1/1 [00:00<00:00,  4.56it/s]\u001b[A\n",
      "  0%|                                                  | 0/198 [00:00<?, ?it/s]\u001b[A\n",
      "  0%|                                                    | 0/1 [00:00<?, ?it/s]\u001b[A\n",
      "100%|████████████████████████████████████████████| 1/1 [00:00<00:00,  4.90it/s]\u001b[A\n",
      "100%|████████████████████████████████████████████| 1/1 [00:00<00:00,  4.40it/s]\u001b[A\n",
      "100%|████████████████████████████████████████████| 1/1 [00:00<00:00,  5.58it/s]\u001b[A\n",
      "100%|████████████████████████████████████████████| 1/1 [00:00<00:00,  5.88it/s]\u001b[A\n",
      "100%|████████████████████████████████████████████| 1/1 [00:00<00:00,  3.02it/s]\u001b[A\n",
      "\n"
     ]
    },
    {
     "name": "stdout",
     "output_type": "stream",
     "text": [
      "Total files processed: 1\n"
     ]
    },
    {
     "name": "stderr",
     "output_type": "stream",
     "text": [
      "100%|████████████████████████████████████████████| 1/1 [00:00<00:00,  4.00it/s]\u001b[A\n",
      "/w/hallb-scshelf2102/clas12/users/gmat/clas12/neutneut/analysis/neutron_ml/../../src/TrainData.py:84: FutureWarning: The default of observed=False is deprecated and will be changed to True in a future version of pandas. Pass observed=False to retain current behavior or observed=True to adopt the future default and silence this warning.\n",
      "  group_sizes = df.groupby(group_cols).size()\n",
      "100%|████████████████████████████████████████████| 1/1 [00:00<00:00,  4.10it/s]\u001b[A\n",
      "100%|████████████████████████████████████████████| 1/1 [00:00<00:00,  3.35it/s]\u001b[A\n",
      "\n"
     ]
    },
    {
     "name": "stdout",
     "output_type": "stream",
     "text": [
      "Total files processed: 1"
     ]
    },
    {
     "name": "stderr",
     "output_type": "stream",
     "text": [
      "100%|████████████████████████████████████████████| 1/1 [00:00<00:00,  4.98it/s]"
     ]
    },
    {
     "name": "stdout",
     "output_type": "stream",
     "text": [
      "\n"
     ]
    },
    {
     "name": "stderr",
     "output_type": "stream",
     "text": [
      "\u001b[A\n",
      " 41%|████████████████▍                       | 82/199 [00:00<00:00, 340.53it/s]/w/hallb-scshelf2102/clas12/users/gmat/clas12/neutneut/analysis/neutron_ml/../../src/TrainData.py:84: FutureWarning: The default of observed=False is deprecated and will be changed to True in a future version of pandas. Pass observed=False to retain current behavior or observed=True to adopt the future default and silence this warning.\n",
      "  group_sizes = df.groupby(group_cols).size()\n",
      "\u001b[A\n",
      " 98%|██████████████████████████████████████▍| 193/196 [00:00<00:00, 298.31it/s]\u001b[A\n",
      "100%|████████████████████████████████████████████| 1/1 [00:00<00:00,  3.26it/s]\u001b[A\n",
      "100%|████████████████████████████████████████████| 1/1 [00:00<00:00,  3.47it/s]"
     ]
    },
    {
     "name": "stdout",
     "output_type": "stream",
     "text": [
      "Total files processed: 1\n"
     ]
    },
    {
     "name": "stderr",
     "output_type": "stream",
     "text": [
      "\n"
     ]
    },
    {
     "name": "stdout",
     "output_type": "stream",
     "text": [
      "Total files processed: 1\n"
     ]
    },
    {
     "name": "stderr",
     "output_type": "stream",
     "text": [
      "/w/hallb-scshelf2102/clas12/users/gmat/clas12/neutneut/analysis/neutron_ml/../../src/TrainData.py:84: FutureWarning: The default of observed=False is deprecated and will be changed to True in a future version of pandas. Pass observed=False to retain current behavior or observed=True to adopt the future default and silence this warning.\n",
      "  group_sizes = df.groupby(group_cols).size()\n",
      "/w/hallb-scshelf2102/clas12/users/gmat/clas12/neutneut/analysis/neutron_ml/../../src/TrainData.py:84: FutureWarning: The default of observed=False is deprecated and will be changed to True in a future version of pandas. Pass observed=False to retain current behavior or observed=True to adopt the future default and silence this warning.\n",
      "  group_sizes = df.groupby(group_cols).size()\n",
      "100%|████████████████████████████████████████████| 1/1 [00:00<00:00,  3.00it/s]\n",
      "\n"
     ]
    },
    {
     "name": "stdout",
     "output_type": "stream",
     "text": [
      "Total files processed: 1\n"
     ]
    },
    {
     "name": "stderr",
     "output_type": "stream",
     "text": [
      "100%|████████████████████████████████████████████| 1/1 [00:00<00:00,  5.98it/s]\u001b[A\n",
      "  0%|                                                    | 0/1 [00:00<?, ?it/s]/w/hallb-scshelf2102/clas12/users/gmat/clas12/neutneut/analysis/neutron_ml/../../src/TrainData.py:84: FutureWarning: The default of observed=False is deprecated and will be changed to True in a future version of pandas. Pass observed=False to retain current behavior or observed=True to adopt the future default and silence this warning.\n",
      "  group_sizes = df.groupby(group_cols).size()\n",
      "100%|████████████████████████████████████████████| 1/1 [00:00<00:00,  3.23it/s]\n"
     ]
    },
    {
     "name": "stdout",
     "output_type": "stream",
     "text": [
      "Total files processed: 1"
     ]
    },
    {
     "name": "stderr",
     "output_type": "stream",
     "text": [
      "\n"
     ]
    },
    {
     "name": "stdout",
     "output_type": "stream",
     "text": [
      "\n"
     ]
    },
    {
     "name": "stderr",
     "output_type": "stream",
     "text": [
      "100%|████████████████████████████████████████████| 1/1 [00:00<00:00,  3.08it/s]\u001b[A/w/hallb-scshelf2102/clas12/users/gmat/clas12/neutneut/analysis/neutron_ml/../../src/TrainData.py:84: FutureWarning: The default of observed=False is deprecated and will be changed to True in a future version of pandas. Pass observed=False to retain current behavior or observed=True to adopt the future default and silence this warning.\n",
      "  group_sizes = df.groupby(group_cols).size()\n",
      "\n",
      "100%|████████████████████████████████████████████| 1/1 [00:00<00:00,  3.65it/s]"
     ]
    },
    {
     "name": "stdout",
     "output_type": "stream",
     "text": [
      "Total files processed: 1"
     ]
    },
    {
     "name": "stderr",
     "output_type": "stream",
     "text": [
      "\n"
     ]
    },
    {
     "name": "stdout",
     "output_type": "stream",
     "text": [
      "\n",
      "Total files processed: 1"
     ]
    },
    {
     "name": "stderr",
     "output_type": "stream",
     "text": [
      "100%|███████████████████████████████████████| 197/197 [00:00<00:00, 268.62it/s]"
     ]
    },
    {
     "name": "stdout",
     "output_type": "stream",
     "text": [
      "\n"
     ]
    },
    {
     "name": "stderr",
     "output_type": "stream",
     "text": [
      "\n",
      "/w/hallb-scshelf2102/clas12/users/gmat/clas12/neutneut/analysis/neutron_ml/../../src/TrainData.py:84: FutureWarning: The default of observed=False is deprecated and will be changed to True in a future version of pandas. Pass observed=False to retain current behavior or observed=True to adopt the future default and silence this warning.\n",
      "  group_sizes = df.groupby(group_cols).size()\n",
      "100%|███████████████████████████████████████| 199/199 [00:00<00:00, 247.16it/s]\n",
      "/w/hallb-scshelf2102/clas12/users/gmat/clas12/neutneut/analysis/neutron_ml/../../src/TrainData.py:84: FutureWarning: The default of observed=False is deprecated and will be changed to True in a future version of pandas. Pass observed=False to retain current behavior or observed=True to adopt the future default and silence this warning.\n",
      "  group_sizes = df.groupby(group_cols).size()\n",
      "\n",
      "100%|████████████████████████████████████████████| 1/1 [00:00<00:00,  2.85it/s]\u001b[A\n"
     ]
    },
    {
     "name": "stdout",
     "output_type": "stream",
     "text": [
      "Total files processed: 1"
     ]
    },
    {
     "name": "stderr",
     "output_type": "stream",
     "text": [
      "\n"
     ]
    },
    {
     "name": "stdout",
     "output_type": "stream",
     "text": [
      "\n"
     ]
    },
    {
     "name": "stderr",
     "output_type": "stream",
     "text": [
      " 56%|█████████████████████▉                 | 111/197 [00:00<00:00, 271.70it/s]\u001b[A/w/hallb-scshelf2102/clas12/users/gmat/clas12/neutneut/analysis/neutron_ml/../../src/TrainData.py:84: FutureWarning: The default of observed=False is deprecated and will be changed to True in a future version of pandas. Pass observed=False to retain current behavior or observed=True to adopt the future default and silence this warning.\n",
      "  group_sizes = df.groupby(group_cols).size()\n",
      "\n",
      "100%|████████████████████████████████████████████| 1/1 [00:00<00:00,  2.78it/s]\u001b[A\n",
      "\n",
      "Processing CSV files:  48%|████████▋         | 241/500 [00:15<00:09, 28.47it/s]\u001b[A"
     ]
    },
    {
     "name": "stdout",
     "output_type": "stream",
     "text": [
      "Total files processed: 1"
     ]
    },
    {
     "name": "stderr",
     "output_type": "stream",
     "text": [
      "\n"
     ]
    },
    {
     "name": "stdout",
     "output_type": "stream",
     "text": [
      "\n"
     ]
    },
    {
     "name": "stderr",
     "output_type": "stream",
     "text": [
      "100%|████████████████████████████████████████████| 1/1 [00:00<00:00,  5.14it/s]\u001b[A\n",
      "/w/hallb-scshelf2102/clas12/users/gmat/clas12/neutneut/analysis/neutron_ml/../../src/TrainData.py:84: FutureWarning: The default of observed=False is deprecated and will be changed to True in a future version of pandas. Pass observed=False to retain current behavior or observed=True to adopt the future default and silence this warning.\n",
      "  group_sizes = df.groupby(group_cols).size()\n",
      " 19%|███████▋                                | 38/198 [00:00<00:00, 377.00it/s]\u001b[A\n",
      "100%|███████████████████████████████████████| 196/196 [00:00<00:00, 250.73it/s]\u001b[A\n",
      "100%|████████████████████████████████████████████| 1/1 [00:00<00:00,  3.79it/s]\n",
      "100%|████████████████████████████████████████████| 1/1 [00:00<00:00,  3.09it/s]"
     ]
    },
    {
     "name": "stdout",
     "output_type": "stream",
     "text": [
      "Total files processed: 1"
     ]
    },
    {
     "name": "stderr",
     "output_type": "stream",
     "text": [
      "\n"
     ]
    },
    {
     "name": "stdout",
     "output_type": "stream",
     "text": [
      "Total files processed: 1\n"
     ]
    },
    {
     "name": "stderr",
     "output_type": "stream",
     "text": [
      "/w/hallb-scshelf2102/clas12/users/gmat/clas12/neutneut/analysis/neutron_ml/../../src/TrainData.py:84: FutureWarning: The default of observed=False is deprecated and will be changed to True in a future version of pandas. Pass observed=False to retain current behavior or observed=True to adopt the future default and silence this warning.\n",
      "  group_sizes = df.groupby(group_cols).size()\n",
      "\n"
     ]
    },
    {
     "name": "stdout",
     "output_type": "stream",
     "text": [
      "\n"
     ]
    },
    {
     "name": "stderr",
     "output_type": "stream",
     "text": [
      "  0%|                                                    | 0/1 [00:00<?, ?it/s]/w/hallb-scshelf2102/clas12/users/gmat/clas12/neutneut/analysis/neutron_ml/../../src/TrainData.py:84: FutureWarning: The default of observed=False is deprecated and will be changed to True in a future version of pandas. Pass observed=False to retain current behavior or observed=True to adopt the future default and silence this warning.\n",
      "  group_sizes = df.groupby(group_cols).size()\n",
      "\u001b[A\n",
      "100%|████████████████████████████████████████████| 1/1 [00:00<00:00,  4.95it/s]\u001b[A\n",
      "100%|████████████████████████████████████████████| 1/1 [00:00<00:00,  5.43it/s]\u001b[A\n",
      "100%|████████████████████████████████████████████| 1/1 [00:00<00:00,  3.68it/s]\u001b[A\n",
      "\n"
     ]
    },
    {
     "name": "stdout",
     "output_type": "stream",
     "text": [
      "Total files processed: 1"
     ]
    },
    {
     "name": "stderr",
     "output_type": "stream",
     "text": [
      "  0%|                                                  | 0/198 [00:00<?, ?it/s]\u001b[A\n",
      "  0%|                                                  | 0/195 [00:00<?, ?it/s]"
     ]
    },
    {
     "name": "stdout",
     "output_type": "stream",
     "text": [
      "\n"
     ]
    },
    {
     "name": "stderr",
     "output_type": "stream",
     "text": [
      "\u001b[A/w/hallb-scshelf2102/clas12/users/gmat/clas12/neutneut/analysis/neutron_ml/../../src/TrainData.py:84: FutureWarning: The default of observed=False is deprecated and will be changed to True in a future version of pandas. Pass observed=False to retain current behavior or observed=True to adopt the future default and silence this warning.\n",
      "  group_sizes = df.groupby(group_cols).size()\n",
      "\n",
      "100%|████████████████████████████████████████████| 1/1 [00:00<00:00,  3.09it/s]\u001b[A\n",
      "\n",
      "100%|████████████████████████████████████████████| 1/1 [00:00<00:00,  4.26it/s]\u001b[A\n",
      "100%|████████████████████████████████████████████| 1/1 [00:00<00:00,  2.98it/s]\u001b[A\n",
      "\n"
     ]
    },
    {
     "name": "stdout",
     "output_type": "stream",
     "text": [
      "Total files processed: 1"
     ]
    },
    {
     "name": "stderr",
     "output_type": "stream",
     "text": [
      "  0%|                                                    | 0/1 [00:00<?, ?it/s]"
     ]
    },
    {
     "name": "stdout",
     "output_type": "stream",
     "text": [
      "\n"
     ]
    },
    {
     "name": "stderr",
     "output_type": "stream",
     "text": [
      "\u001b[A\n",
      "/w/hallb-scshelf2102/clas12/users/gmat/clas12/neutneut/analysis/neutron_ml/../../src/TrainData.py:84: FutureWarning: The default of observed=False is deprecated and will be changed to True in a future version of pandas. Pass observed=False to retain current behavior or observed=True to adopt the future default and silence this warning.\n",
      "  group_sizes = df.groupby(group_cols).size()\n"
     ]
    },
    {
     "name": "stdout",
     "output_type": "stream",
     "text": [
      "Total files processed: 1"
     ]
    },
    {
     "name": "stderr",
     "output_type": "stream",
     "text": [
      "  0%|                                                  | 0/195 [00:00<?, ?it/s]"
     ]
    },
    {
     "name": "stdout",
     "output_type": "stream",
     "text": [
      "\n"
     ]
    },
    {
     "name": "stderr",
     "output_type": "stream",
     "text": [
      "/w/hallb-scshelf2102/clas12/users/gmat/clas12/neutneut/analysis/neutron_ml/../../src/TrainData.py:84: FutureWarning: The default of observed=False is deprecated and will be changed to True in a future version of pandas. Pass observed=False to retain current behavior or observed=True to adopt the future default and silence this warning.\n",
      "  group_sizes = df.groupby(group_cols).size()\n",
      "\u001b[A\n",
      "100%|████████████████████████████████████████████| 1/1 [00:00<00:00,  6.74it/s]\u001b[A\n",
      "100%|████████████████████████████████████████████| 1/1 [00:00<00:00,  4.52it/s]\u001b[A\n",
      "  0%|                                                  | 0/192 [00:00<?, ?it/s]\u001b[A\n",
      "100%|████████████████████████████████████████████| 1/1 [00:00<00:00,  5.75it/s]\u001b[A\n",
      "100%|████████████████████████████████████████████| 1/1 [00:00<00:00,  2.74it/s]\u001b[A\n",
      "100%|████████████████████████████████████████████| 1/1 [00:00<00:00,  2.89it/s]"
     ]
    },
    {
     "name": "stdout",
     "output_type": "stream",
     "text": [
      "Total files processed: 1"
     ]
    },
    {
     "name": "stderr",
     "output_type": "stream",
     "text": [
      "\n"
     ]
    },
    {
     "name": "stdout",
     "output_type": "stream",
     "text": [
      "\n"
     ]
    },
    {
     "name": "stderr",
     "output_type": "stream",
     "text": [
      "\n"
     ]
    },
    {
     "name": "stdout",
     "output_type": "stream",
     "text": [
      "Total files processed: 1\n"
     ]
    },
    {
     "name": "stderr",
     "output_type": "stream",
     "text": [
      "  0%|                                                  | 0/194 [00:00<?, ?it/s]/w/hallb-scshelf2102/clas12/users/gmat/clas12/neutneut/analysis/neutron_ml/../../src/TrainData.py:84: FutureWarning: The default of observed=False is deprecated and will be changed to True in a future version of pandas. Pass observed=False to retain current behavior or observed=True to adopt the future default and silence this warning.\n",
      "  group_sizes = df.groupby(group_cols).size()\n",
      "\u001b[A\n",
      "/w/hallb-scshelf2102/clas12/users/gmat/clas12/neutneut/analysis/neutron_ml/../../src/TrainData.py:84: FutureWarning: The default of observed=False is deprecated and will be changed to True in a future version of pandas. Pass observed=False to retain current behavior or observed=True to adopt the future default and silence this warning.\n",
      "  group_sizes = df.groupby(group_cols).size()\n",
      "  0%|                                                  | 0/195 [00:00<?, ?it/s]\u001b[A\n",
      "  0%|                                                  | 0/192 [00:00<?, ?it/s]\u001b[A\n",
      " 20%|████████                                | 40/198 [00:00<00:00, 399.91it/s]\u001b[A\n",
      "  0%|                                                  | 0/197 [00:00<?, ?it/s]\u001b[A\n",
      "  0%|                                                  | 0/197 [00:00<?, ?it/s]\u001b[A\n",
      "100%|████████████████████████████████████████████| 1/1 [00:00<00:00,  3.78it/s]\u001b[A\n",
      "100%|████████████████████████████████████████████| 1/1 [00:00<00:00,  4.82it/s]\u001b[A\n",
      " 37%|██████████████▊                         | 74/199 [00:00<00:00, 282.02it/s]\u001b[A\n",
      "100%|████████████████████████████████████████████| 1/1 [00:00<00:00,  3.35it/s]\u001b[A\n"
     ]
    },
    {
     "name": "stdout",
     "output_type": "stream",
     "text": [
      "Total files processed: 1"
     ]
    },
    {
     "name": "stderr",
     "output_type": "stream",
     "text": [
      "\n"
     ]
    },
    {
     "name": "stdout",
     "output_type": "stream",
     "text": [
      "\n"
     ]
    },
    {
     "name": "stderr",
     "output_type": "stream",
     "text": [
      " 75%|█████████████████████████████▏         | 149/199 [00:00<00:00, 265.48it/s]/w/hallb-scshelf2102/clas12/users/gmat/clas12/neutneut/analysis/neutron_ml/../../src/TrainData.py:84: FutureWarning: The default of observed=False is deprecated and will be changed to True in a future version of pandas. Pass observed=False to retain current behavior or observed=True to adopt the future default and silence this warning.\n",
      "  group_sizes = df.groupby(group_cols).size()\n",
      "100%|████████████████████████████████████████████| 1/1 [00:00<00:00,  2.70it/s]\n",
      "\n"
     ]
    },
    {
     "name": "stdout",
     "output_type": "stream",
     "text": [
      "Total files processed: 1\n"
     ]
    },
    {
     "name": "stderr",
     "output_type": "stream",
     "text": [
      " 84%|████████████████████████████████▋      | 165/197 [00:00<00:00, 247.31it/s]\u001b[A/w/hallb-scshelf2102/clas12/users/gmat/clas12/neutneut/analysis/neutron_ml/../../src/TrainData.py:84: FutureWarning: The default of observed=False is deprecated and will be changed to True in a future version of pandas. Pass observed=False to retain current behavior or observed=True to adopt the future default and silence this warning.\n",
      "  group_sizes = df.groupby(group_cols).size()\n",
      "\n",
      " 21%|████████▍                               | 42/198 [00:00<00:00, 411.16it/s]\u001b[A\n",
      "  0%|                                                  | 0/196 [00:00<?, ?it/s]\u001b[A\n",
      "100%|████████████████████████████████████████████| 1/1 [00:00<00:00,  3.01it/s]\u001b[A\n",
      "100%|████████████████████████████████████████████| 1/1 [00:00<00:00,  2.43it/s]"
     ]
    },
    {
     "name": "stdout",
     "output_type": "stream",
     "text": [
      "Total files processed: 1"
     ]
    },
    {
     "name": "stderr",
     "output_type": "stream",
     "text": [
      "\n"
     ]
    },
    {
     "name": "stdout",
     "output_type": "stream",
     "text": [
      "\n"
     ]
    },
    {
     "name": "stderr",
     "output_type": "stream",
     "text": [
      "\n"
     ]
    },
    {
     "name": "stdout",
     "output_type": "stream",
     "text": [
      "Total files processed: 1\n"
     ]
    },
    {
     "name": "stderr",
     "output_type": "stream",
     "text": [
      "/w/hallb-scshelf2102/clas12/users/gmat/clas12/neutneut/analysis/neutron_ml/../../src/TrainData.py:84: FutureWarning: The default of observed=False is deprecated and will be changed to True in a future version of pandas. Pass observed=False to retain current behavior or observed=True to adopt the future default and silence this warning.\n",
      "  group_sizes = df.groupby(group_cols).size()\n",
      "100%|████████████████████████████████████████████| 1/1 [00:00<00:00,  5.03it/s]\u001b[A/w/hallb-scshelf2102/clas12/users/gmat/clas12/neutneut/analysis/neutron_ml/../../src/TrainData.py:84: FutureWarning: The default of observed=False is deprecated and will be changed to True in a future version of pandas. Pass observed=False to retain current behavior or observed=True to adopt the future default and silence this warning.\n",
      "  group_sizes = df.groupby(group_cols).size()\n",
      "\n",
      "100%|████████████████████████████████████████████| 1/1 [00:00<00:00,  3.06it/s]\u001b[A\n",
      "\n"
     ]
    },
    {
     "name": "stdout",
     "output_type": "stream",
     "text": [
      "Total files processed: 1\n"
     ]
    },
    {
     "name": "stderr",
     "output_type": "stream",
     "text": [
      "100%|████████████████████████████████████████████| 1/1 [00:00<00:00,  5.71it/s]\u001b[A\n",
      "/w/hallb-scshelf2102/clas12/users/gmat/clas12/neutneut/analysis/neutron_ml/../../src/TrainData.py:84: FutureWarning: The default of observed=False is deprecated and will be changed to True in a future version of pandas. Pass observed=False to retain current behavior or observed=True to adopt the future default and silence this warning.\n",
      "  group_sizes = df.groupby(group_cols).size()\n",
      " 22%|████████▌                               | 42/195 [00:00<00:00, 417.29it/s]\u001b[A\n",
      " 20%|████████▏                               | 39/192 [00:00<00:00, 388.85it/s]\u001b[A\n",
      " 57%|██████████████████████▎                | 113/198 [00:00<00:00, 290.05it/s]\u001b[A\n",
      "  0%|                                                    | 0/1 [00:00<?, ?it/s]\u001b[A\n",
      "  0%|                                                    | 0/1 [00:00<?, ?it/s]\u001b[A\n",
      " 22%|████████▊                               | 43/194 [00:00<00:00, 429.09it/s]\u001b[A\n",
      "  0%|                                                  | 0/196 [00:00<?, ?it/s]\u001b[A\n",
      "  0%|                                                  | 0/195 [00:00<?, ?it/s]\u001b[A\n",
      "100%|████████████████████████████████████████████| 1/1 [00:00<00:00,  2.34it/s]\u001b[A\n",
      "\n"
     ]
    },
    {
     "name": "stdout",
     "output_type": "stream",
     "text": [
      "Total files processed: 1"
     ]
    },
    {
     "name": "stderr",
     "output_type": "stream",
     "text": [
      " 52%|████████████████████▍                  | 104/199 [00:00<00:00, 269.79it/s]"
     ]
    },
    {
     "name": "stdout",
     "output_type": "stream",
     "text": [
      "\n"
     ]
    },
    {
     "name": "stderr",
     "output_type": "stream",
     "text": [
      "/w/hallb-scshelf2102/clas12/users/gmat/clas12/neutneut/analysis/neutron_ml/../../src/TrainData.py:84: FutureWarning: The default of observed=False is deprecated and will be changed to True in a future version of pandas. Pass observed=False to retain current behavior or observed=True to adopt the future default and silence this warning.\n",
      "  group_sizes = df.groupby(group_cols).size()\n",
      "\u001b[A\n",
      " 40%|████████████████▏                       | 80/198 [00:00<00:00, 292.73it/s]\u001b[A\n",
      " 25%|█████████▊                              | 48/195 [00:00<00:00, 469.31it/s]\u001b[A\n",
      "100%|████████████████████████████████████████████| 1/1 [00:00<00:00,  2.50it/s]\u001b[A\n",
      "\n"
     ]
    },
    {
     "name": "stdout",
     "output_type": "stream",
     "text": [
      "Total files processed: 1\n"
     ]
    },
    {
     "name": "stderr",
     "output_type": "stream",
     "text": [
      "/w/hallb-scshelf2102/clas12/users/gmat/clas12/neutneut/analysis/neutron_ml/../../src/TrainData.py:84: FutureWarning: The default of observed=False is deprecated and will be changed to True in a future version of pandas. Pass observed=False to retain current behavior or observed=True to adopt the future default and silence this warning.\n",
      "  group_sizes = df.groupby(group_cols).size()\n",
      " 96%|█████████████████████████████████████▌ | 190/197 [00:00<00:00, 235.34it/s]\u001b[A\n",
      " 21%|████████▎                               | 41/197 [00:00<00:00, 407.59it/s]\u001b[A\n",
      "  0%|                                                    | 0/1 [00:00<?, ?it/s]\u001b[A\n",
      " 89%|██████████████████████████████████▋    | 177/199 [00:00<00:00, 252.10it/s]\u001b[A\n",
      " 20%|███████▉                                | 39/197 [00:00<00:00, 384.25it/s]\u001b[A\n",
      "100%|████████████████████████████████████████████| 1/1 [00:00<00:00,  4.89it/s]\u001b[A\n",
      "  0%|                                                  | 0/194 [00:00<?, ?it/s]\u001b[A\n",
      "100%|████████████████████████████████████████████| 1/1 [00:00<00:00,  2.40it/s]\u001b[A\n",
      "\n"
     ]
    },
    {
     "name": "stdout",
     "output_type": "stream",
     "text": [
      "Total files processed: 1\n"
     ]
    },
    {
     "name": "stderr",
     "output_type": "stream",
     "text": [
      " 21%|████████▌                               | 42/196 [00:00<00:00, 413.91it/s]/w/hallb-scshelf2102/clas12/users/gmat/clas12/neutneut/analysis/neutron_ml/../../src/TrainData.py:84: FutureWarning: The default of observed=False is deprecated and will be changed to True in a future version of pandas. Pass observed=False to retain current behavior or observed=True to adopt the future default and silence this warning.\n",
      "  group_sizes = df.groupby(group_cols).size()\n",
      "\u001b[A\n",
      "  0%|                                                  | 0/199 [00:00<?, ?it/s]\u001b[A\n",
      " 38%|███████████████▏                        | 74/195 [00:00<00:00, 259.61it/s]\u001b[A\n",
      " 73%|████████████████████████████▎          | 144/198 [00:00<00:00, 276.39it/s]\u001b[A\n",
      " 43%|█████████████████▎                      | 83/192 [00:00<00:00, 411.42it/s]\u001b[A\n",
      " 41%|████████████████▎                       | 78/192 [00:00<00:00, 314.01it/s]\u001b[A\n",
      " 66%|█████████████████████████▊             | 132/199 [00:00<00:00, 260.55it/s]\u001b[A\n",
      " 43%|█████████████████▏                      | 84/195 [00:00<00:00, 296.45it/s]\u001b[A\n",
      "  0%|                                                  | 0/198 [00:00<?, ?it/s]\u001b[A\n",
      "100%|████████████████████████████████████████████| 1/1 [00:00<00:00,  2.31it/s]\u001b[A\n",
      "\n",
      "  0%|                                                  | 0/196 [00:00<?, ?it/s]"
     ]
    },
    {
     "name": "stdout",
     "output_type": "stream",
     "text": [
      "Total files processed: 1"
     ]
    },
    {
     "name": "stderr",
     "output_type": "stream",
     "text": [
      "\u001b[A"
     ]
    },
    {
     "name": "stdout",
     "output_type": "stream",
     "text": [
      "\n"
     ]
    },
    {
     "name": "stderr",
     "output_type": "stream",
     "text": [
      "\n",
      " 56%|█████████████████████▊                 | 111/198 [00:00<00:00, 270.32it/s]/w/hallb-scshelf2102/clas12/users/gmat/clas12/neutneut/analysis/neutron_ml/../../src/TrainData.py:84: FutureWarning: The default of observed=False is deprecated and will be changed to True in a future version of pandas. Pass observed=False to retain current behavior or observed=True to adopt the future default and silence this warning.\n",
      "  group_sizes = df.groupby(group_cols).size()\n",
      "100%|████████████████████████████████████████████| 1/1 [00:00<00:00,  2.63it/s]\n"
     ]
    },
    {
     "name": "stdout",
     "output_type": "stream",
     "text": [
      "Total files processed: 1"
     ]
    },
    {
     "name": "stderr",
     "output_type": "stream",
     "text": [
      "\n"
     ]
    },
    {
     "name": "stdout",
     "output_type": "stream",
     "text": [
      "\n"
     ]
    },
    {
     "name": "stderr",
     "output_type": "stream",
     "text": [
      "  0%|                                                  | 0/196 [00:00<?, ?it/s]\u001b[A\n",
      " 23%|█████████▏                              | 45/196 [00:00<00:00, 442.11it/s]/w/hallb-scshelf2102/clas12/users/gmat/clas12/neutneut/analysis/neutron_ml/../../src/TrainData.py:84: FutureWarning: The default of observed=False is deprecated and will be changed to True in a future version of pandas. Pass observed=False to retain current behavior or observed=True to adopt the future default and silence this warning.\n",
      "  group_sizes = df.groupby(group_cols).size()\n",
      "\u001b[A\n",
      " 24%|█████████▋                              | 47/195 [00:00<00:00, 469.38it/s]\u001b[A\n",
      " 21%|████████▌                               | 42/196 [00:00<00:00, 417.93it/s]\u001b[A\n",
      " 21%|████████▎                               | 40/192 [00:00<00:00, 397.12it/s]\u001b[A\n",
      " 49%|███████████████████▍                    | 95/195 [00:00<00:00, 325.48it/s]\u001b[A\n",
      "100%|████████████████████████████████████████████| 1/1 [00:00<00:00,  6.40it/s]\u001b[A\n",
      "100%|███████████████████████████████████████| 197/197 [00:01<00:00, 194.33it/s]\u001b[A\n",
      "\n",
      "100%|████████████████████████████████████████████| 1/1 [00:00<00:00,  6.12it/s]\u001b[A\n",
      " 59%|██████████████████████▊                | 116/198 [00:00<00:00, 275.49it/s]\u001b[A\n",
      " 40%|███████████████▊                        | 78/197 [00:00<00:00, 264.62it/s]\u001b[A\n",
      " 20%|████████                                | 40/198 [00:00<00:00, 386.06it/s]\u001b[A\n",
      " 44%|█████████████████▋                      | 86/194 [00:00<00:00, 355.71it/s]\u001b[A\n",
      " 52%|████████████████████▍                  | 102/195 [00:00<00:00, 219.99it/s]\u001b[A\n",
      " 21%|████████▍                               | 41/194 [00:00<00:00, 405.13it/s]\u001b[A\n",
      " 43%|█████████████████▏                      | 84/196 [00:00<00:00, 301.34it/s]\u001b[A\n",
      " 87%|██████████████████████████████████     | 173/198 [00:00<00:00, 248.81it/s]\u001b[A\n",
      " 20%|████████                                | 40/199 [00:00<00:00, 395.02it/s]\u001b[A\n",
      "  0%|                                                  | 0/197 [00:00<?, ?it/s]\u001b[A\n",
      "100%|███████████████████████████████████████| 199/199 [00:00<00:00, 201.89it/s]\u001b[A\n",
      "\n",
      " 58%|██████████████████████▌                | 111/192 [00:00<00:00, 258.26it/s]\u001b[A\n",
      " 59%|███████████████████████▏               | 116/195 [00:00<00:00, 250.93it/s]\u001b[A\n",
      "100%|████████████████████████████████████████████| 1/1 [00:00<00:00,  2.90it/s]\u001b[A\n"
     ]
    },
    {
     "name": "stdout",
     "output_type": "stream",
     "text": [
      "Total files processed: 1"
     ]
    },
    {
     "name": "stderr",
     "output_type": "stream",
     "text": [
      "\n"
     ]
    },
    {
     "name": "stdout",
     "output_type": "stream",
     "text": [
      "\n"
     ]
    },
    {
     "name": "stderr",
     "output_type": "stream",
     "text": [
      " 21%|████████▎                               | 41/198 [00:00<00:00, 402.80it/s]/w/hallb-scshelf2102/clas12/users/gmat/clas12/neutneut/analysis/neutron_ml/../../src/TrainData.py:84: FutureWarning: The default of observed=False is deprecated and will be changed to True in a future version of pandas. Pass observed=False to retain current behavior or observed=True to adopt the future default and silence this warning.\n",
      "  group_sizes = df.groupby(group_cols).size()\n",
      "\u001b[A\n",
      " 19%|███████▌                                | 37/196 [00:00<00:00, 362.47it/s]\u001b[A\n",
      "  0%|                                                  | 0/196 [00:00<?, ?it/s]\u001b[A\n",
      "  0%|                                                  | 0/198 [00:00<?, ?it/s]\u001b[A\n",
      "100%|████████████████████████████████████████████| 1/1 [00:00<00:00,  4.80it/s]\u001b[A\n",
      " 22%|████████▊                               | 43/196 [00:00<00:00, 429.97it/s]\u001b[A\n",
      " 43%|█████████████████▏                      | 84/196 [00:00<00:00, 265.93it/s]\u001b[A\n",
      " 67%|██████████████████████████▏            | 131/195 [00:00<00:00, 271.41it/s]\u001b[A\n",
      " 42%|████████████████▋                       | 80/192 [00:00<00:00, 275.66it/s]\u001b[A\n",
      " 73%|████████████████████████████▌          | 145/198 [00:00<00:00, 233.62it/s]\u001b[A\n",
      " 46%|██████████████████▎                     | 90/196 [00:00<00:00, 264.82it/s]\u001b[A\n",
      " 65%|█████████████████████████▏             | 126/195 [00:00<00:00, 208.82it/s]\u001b[A\n",
      " 54%|█████████████████████▏                 | 107/197 [00:00<00:00, 220.48it/s]\u001b[A\n",
      " 48%|███████████████████▎                    | 94/195 [00:00<00:00, 271.40it/s]\u001b[A\n",
      "100%|████████████████████████████████████████████| 1/1 [00:00<00:00,  2.27it/s]\u001b[A\n",
      "\n",
      "  0%|                                                  | 0/199 [00:00<?, ?it/s]"
     ]
    },
    {
     "name": "stdout",
     "output_type": "stream",
     "text": [
      "Total files processed: 1"
     ]
    },
    {
     "name": "stderr",
     "output_type": "stream",
     "text": [
      "\u001b[A"
     ]
    },
    {
     "name": "stdout",
     "output_type": "stream",
     "text": [
      "\n"
     ]
    },
    {
     "name": "stderr",
     "output_type": "stream",
     "text": [
      "/w/hallb-scshelf2102/clas12/users/gmat/clas12/neutneut/analysis/neutron_ml/../../src/TrainData.py:84: FutureWarning: The default of observed=False is deprecated and will be changed to True in a future version of pandas. Pass observed=False to retain current behavior or observed=True to adopt the future default and silence this warning.\n",
      "  group_sizes = df.groupby(group_cols).size()\n",
      "\n",
      " 93%|████████████████████████████████████▍  | 185/198 [00:00<00:00, 296.52it/s]\u001b[A\n",
      "  0%|                                                  | 0/195 [00:00<?, ?it/s]\u001b[A\n",
      " 63%|████████████████████████▋              | 123/194 [00:00<00:00, 215.83it/s]\u001b[A\n",
      " 42%|████████████████▊                       | 83/198 [00:00<00:00, 410.27it/s]\u001b[A\n",
      " 59%|███████████████████████                | 116/196 [00:00<00:00, 238.49it/s]\u001b[A\n",
      " 92%|███████████████████████████████████▊   | 183/199 [00:00<00:00, 200.14it/s]\u001b[A\n",
      " 72%|████████████████████████████           | 138/192 [00:00<00:00, 222.02it/s]\u001b[A\n",
      " 42%|████████████████▉                       | 82/194 [00:00<00:00, 257.72it/s]\u001b[A\n",
      " 73%|████████████████████████████▌          | 143/195 [00:00<00:00, 217.96it/s]\u001b[A\n",
      "  0%|                                                  | 0/198 [00:00<?, ?it/s]\u001b[A\n",
      " 40%|████████████████                        | 80/199 [00:00<00:00, 252.02it/s]\u001b[A\n",
      " 83%|████████████████████████████████▎      | 159/192 [00:00<00:00, 259.94it/s]\u001b[A\n",
      " 22%|████████▋                               | 43/197 [00:00<00:00, 427.60it/s]\u001b[A\n",
      "  0%|                                                  | 0/197 [00:00<?, ?it/s]\u001b[A\n",
      " 41%|████████████████▌                       | 82/198 [00:00<00:00, 281.31it/s]\u001b[A\n",
      " 38%|███████████████                         | 74/196 [00:00<00:00, 256.22it/s]\u001b[A\n",
      " 86%|█████████████████████████████████▍     | 170/198 [00:00<00:00, 213.65it/s]\u001b[A\n",
      " 58%|██████████████████████▋                | 114/196 [00:00<00:00, 229.74it/s]\u001b[A\n",
      " 82%|████████████████████████████████       | 160/195 [00:00<00:00, 237.18it/s]\u001b[A\n",
      " 57%|██████████████████████▎                | 110/192 [00:00<00:00, 236.27it/s]\u001b[A\n",
      " 62%|████████████████████████               | 121/196 [00:00<00:00, 236.85it/s]\u001b[A\n",
      " 76%|█████████████████████████████▌         | 148/195 [00:00<00:00, 185.04it/s]\u001b[A\n",
      " 66%|█████████████████████████▉             | 131/197 [00:00<00:00, 196.14it/s]\u001b[A\n",
      " 20%|████████▏                               | 40/196 [00:00<00:00, 398.65it/s]\u001b[A\n",
      " 20%|████████                                | 40/198 [00:00<00:00, 396.33it/s]\u001b[A\n",
      "100%|███████████████████████████████████████| 198/198 [00:01<00:00, 196.45it/s]\u001b[A\n",
      "100%|████████████████████████████████████████████| 1/1 [00:00<00:00,  2.00it/s]\n",
      "\n"
     ]
    },
    {
     "name": "stdout",
     "output_type": "stream",
     "text": [
      "Total files processed: 1"
     ]
    },
    {
     "name": "stderr",
     "output_type": "stream",
     "text": [
      " 65%|█████████████████████████▏             | 126/195 [00:00<00:00, 235.40it/s]"
     ]
    },
    {
     "name": "stdout",
     "output_type": "stream",
     "text": [
      "\n"
     ]
    },
    {
     "name": "stderr",
     "output_type": "stream",
     "text": [
      "\u001b[A/w/hallb-scshelf2102/clas12/users/gmat/clas12/neutneut/analysis/neutron_ml/../../src/TrainData.py:84: FutureWarning: The default of observed=False is deprecated and will be changed to True in a future version of pandas. Pass observed=False to retain current behavior or observed=True to adopt the future default and silence this warning.\n",
      "  group_sizes = df.groupby(group_cols).size()\n",
      "\n",
      " 44%|█████████████████▍                      | 86/197 [00:00<00:00, 284.46it/s]\u001b[A\n",
      " 57%|██████████████████████▎                | 113/197 [00:00<00:00, 149.54it/s]\u001b[A\n",
      " 23%|█████████▏                              | 46/199 [00:00<00:00, 455.01it/s]\u001b[A\n",
      " 57%|██████████████████████▎                | 111/194 [00:00<00:00, 229.43it/s]\u001b[A\n",
      " 84%|████████████████████████████████▉      | 162/192 [00:00<00:00, 195.59it/s]\u001b[A\n",
      " 77%|██████████████████████████████▏        | 150/194 [00:00<00:00, 186.56it/s]\u001b[A\n",
      " 72%|████████████████████████████▎          | 142/196 [00:00<00:00, 202.90it/s]\u001b[A\n",
      " 85%|█████████████████████████████████▏     | 166/195 [00:00<00:00, 193.87it/s]\u001b[A\n",
      " 63%|████████████████████████▌              | 125/198 [00:00<00:00, 288.54it/s]\u001b[A\n",
      " 21%|████████▍                               | 41/195 [00:00<00:00, 406.16it/s]\u001b[A\n",
      " 55%|█████████████████████▎                 | 109/199 [00:00<00:00, 220.92it/s]\u001b[A\n",
      " 98%|██████████████████████████████████████▏| 188/192 [00:00<00:00, 229.34it/s]\u001b[A\n",
      " 78%|██████████████████████████████▍        | 152/195 [00:00<00:00, 201.20it/s]\u001b[A\n",
      " 97%|█████████████████████████████████████▊ | 192/198 [00:00<00:00, 195.27it/s]\u001b[A\n",
      " 57%|██████████████████████▎                | 113/198 [00:00<00:00, 240.31it/s]\u001b[A\n",
      " 21%|████████▎                               | 41/198 [00:00<00:00, 401.25it/s]\u001b[A\n",
      " 71%|███████████████████████████▋           | 139/196 [00:00<00:00, 206.22it/s]\u001b[A\n",
      " 52%|████████████████████▎                  | 102/196 [00:00<00:00, 211.11it/s]\u001b[A\n",
      " 95%|█████████████████████████████████████  | 185/195 [00:00<00:00, 211.91it/s]\u001b[A\n",
      " 21%|████████▎                               | 41/197 [00:00<00:00, 406.25it/s]\u001b[A\n",
      "100%|███████████████████████████████████████| 199/199 [00:01<00:00, 176.70it/s]\u001b[A\n",
      "\n",
      " 86%|█████████████████████████████████▍     | 167/195 [00:00<00:00, 167.20it/s]\u001b[A\n",
      " 77%|██████████████████████████████         | 152/197 [00:00<00:00, 179.68it/s]\u001b[A\n",
      " 70%|███████████████████████████▍           | 135/192 [00:00<00:00, 207.89it/s]\u001b[A\n",
      "  0%|                                                    | 0/1 [00:00<?, ?it/s]\u001b[A\n",
      " 75%|█████████████████████████████▎         | 147/196 [00:00<00:00, 200.72it/s]\u001b[A\n",
      " 60%|███████████████████████▍               | 118/196 [00:00<00:00, 236.68it/s]\u001b[A\n",
      " 68%|██████████████████████████▌            | 134/197 [00:00<00:00, 147.29it/s]\u001b[A\n",
      " 41%|████████████████▎                       | 80/196 [00:00<00:00, 268.62it/s]\u001b[A\n",
      " 42%|████████████████▊                       | 82/195 [00:00<00:00, 271.37it/s]\u001b[A\n",
      "100%|███████████████████████████████████████| 198/198 [00:01<00:00, 187.58it/s]\u001b[A\n",
      "\n",
      " 70%|███████████████████████████▎           | 136/194 [00:00<00:00, 217.35it/s]\u001b[A\n",
      " 89%|██████████████████████████████████▌    | 172/194 [00:00<00:00, 181.75it/s]\u001b[A\n",
      " 40%|████████████████▏                       | 80/198 [00:00<00:00, 249.94it/s]\u001b[A\n",
      "  0%|                                                  | 0/197 [00:00<?, ?it/s]\u001b[A\n",
      " 95%|█████████████████████████████████████▏ | 186/195 [00:00<00:00, 177.87it/s]\u001b[A\n",
      " 84%|████████████████████████████████▋      | 164/196 [00:00<00:00, 186.40it/s]\u001b[A\n",
      " 67%|██████████████████████████             | 133/199 [00:00<00:00, 203.88it/s]\u001b[A\n",
      " 46%|██████████████████▍                     | 92/199 [00:00<00:00, 335.20it/s]\u001b[A\n",
      " 65%|█████████████████████████▎             | 128/197 [00:00<00:00, 330.77it/s]\u001b[A\n",
      " 80%|███████████████████████████████        | 158/198 [00:00<00:00, 260.38it/s]\u001b[A\n",
      " 70%|███████████████████████████▍           | 139/198 [00:00<00:00, 230.20it/s]\u001b[A\n",
      " 82%|████████████████████████████████       | 161/196 [00:00<00:00, 195.99it/s]\u001b[A\n",
      "  0%|                                                  | 0/197 [00:00<?, ?it/s]\u001b[A\n",
      "100%|███████████████████████████████████████| 192/192 [00:00<00:00, 197.83it/s]\u001b[A\n",
      "\n",
      " 95%|█████████████████████████████████████  | 185/195 [00:01<00:00, 151.84it/s]\u001b[A\n",
      " 87%|█████████████████████████████████▊     | 171/197 [00:00<00:00, 160.95it/s]\u001b[A\n",
      " 41%|████████████████▌                       | 82/198 [00:00<00:00, 289.83it/s]\u001b[A\n",
      " 82%|███████████████████████████████▉       | 157/192 [00:00<00:00, 183.15it/s]\u001b[A\n",
      " 77%|██████████████████████████████         | 152/197 [00:01<00:00, 146.59it/s]\u001b[A\n",
      "100%|███████████████████████████████████████| 198/198 [00:01<00:00, 176.18it/s]\u001b[A\n",
      "\n",
      " 73%|████████████████████████████▋          | 144/196 [00:00<00:00, 216.08it/s]\u001b[A\n",
      " 99%|██████████████████████████████████████▌| 192/194 [00:01<00:00, 174.85it/s]\u001b[A\n",
      " 42%|████████████████▋                       | 82/197 [00:00<00:00, 267.58it/s]\u001b[A\n",
      " 56%|█████████████████████▉                 | 110/196 [00:00<00:00, 233.01it/s]\u001b[A\n",
      " 82%|███████████████████████████████▉       | 159/194 [00:00<00:00, 197.17it/s]\u001b[A\n",
      "100%|███████████████████████████████████████| 195/195 [00:01<00:00, 187.39it/s]\u001b[A\n",
      "100%|███████████████████████████████████████| 195/195 [00:00<00:00, 216.18it/s]\n",
      "\n",
      " 78%|██████████████████████████████▍        | 155/199 [00:00<00:00, 193.59it/s]\u001b[A\n",
      " 94%|████████████████████████████████████▌  | 184/196 [00:00<00:00, 171.13it/s]\u001b[A\n",
      " 55%|█████████████████████▍                 | 109/198 [00:00<00:00, 215.49it/s]\u001b[A\n",
      " 65%|█████████████████████████▏             | 126/195 [00:00<00:00, 328.88it/s]\u001b[A\n",
      "100%|███████████████████████████████████████| 192/192 [00:01<00:00, 173.79it/s]\u001b[A\n",
      "Processing CSV files:  50%|████████▉         | 249/500 [00:16<00:23, 10.59it/s]\n",
      " 93%|████████████████████████████████████▏  | 182/196 [00:00<00:00, 184.49it/s]\u001b[A\n",
      " 94%|████████████████████████████████████▊  | 187/198 [00:00<00:00, 228.45it/s]\u001b[A\n",
      " 82%|████████████████████████████████       | 163/198 [00:00<00:00, 199.26it/s]\u001b[A\n",
      " 64%|█████████████████████████              | 128/199 [00:00<00:00, 267.19it/s]\u001b[A\n",
      " 20%|████████                                | 40/197 [00:00<00:00, 396.11it/s]\u001b[A\n",
      " 83%|████████████████████████████████▍      | 164/197 [00:00<00:00, 271.09it/s]\u001b[A\n",
      "100%|███████████████████████████████████████| 195/195 [00:01<00:00, 167.27it/s]\u001b[A\n",
      "\n",
      " 74%|████████████████████████████▊          | 145/196 [00:00<00:00, 178.75it/s]\u001b[A\n",
      "100%|████████████████████████████████████████████| 1/1 [00:00<00:00,  5.67it/s]\u001b[A\n",
      "  0%|                                                    | 0/1 [00:00<?, ?it/s]\u001b[A\n",
      "100%|████████████████████████████████████████████| 1/1 [00:00<00:00,  5.68it/s]\u001b[A\n",
      " 92%|███████████████████████████████████▊   | 176/192 [00:00<00:00, 167.66it/s]\u001b[A\n",
      " 86%|█████████████████████████████████▍     | 169/197 [00:01<00:00, 141.30it/s]\u001b[A\n",
      " 96%|█████████████████████████████████████▌ | 189/196 [00:01<00:00, 174.82it/s]\u001b[A\n",
      " 57%|██████████████████████▎                | 113/198 [00:00<00:00, 250.24it/s]\u001b[A\n",
      " 85%|█████████████████████████████████▏     | 167/196 [00:00<00:00, 198.60it/s]\u001b[A\n",
      " 69%|██████████████████████████▊            | 135/196 [00:00<00:00, 217.88it/s]\u001b[A\n",
      " 93%|████████████████████████████████████▏  | 180/194 [00:00<00:00, 182.49it/s]\u001b[A\n",
      " 57%|██████████████████████▏                | 112/197 [00:00<00:00, 235.02it/s]\u001b[A\n",
      " 88%|██████████████████████████████████▎    | 175/199 [00:00<00:00, 180.35it/s]\u001b[A\n",
      "100%|███████████████████████████████████████| 194/194 [00:01<00:00, 162.25it/s]\u001b[A\n",
      "\n",
      " 24%|█████████▌                              | 47/196 [00:00<00:00, 467.42it/s]\u001b[A\n",
      " 93%|████████████████████████████████████▏  | 184/198 [00:00<00:00, 191.21it/s]\u001b[A\n",
      "100%|███████████████████████████████████████| 195/195 [00:01<00:00, 150.32it/s]\u001b[A\n",
      "\n",
      "  0%|                                                    | 0/1 [00:00<?, ?it/s]\u001b[A\n",
      "100%|███████████████████████████████████████| 196/196 [00:01<00:00, 172.08it/s]\u001b[A\n",
      "100%|███████████████████████████████████████| 196/196 [00:01<00:00, 182.39it/s]\n",
      "\n",
      " 45%|█████████████████▊                      | 88/197 [00:00<00:00, 440.47it/s]\u001b[A\n",
      " 98%|██████████████████████████████████████▍| 194/197 [00:00<00:00, 246.11it/s]\u001b[A\n",
      " 94%|████████████████████████████████████▌  | 185/197 [00:01<00:00, 137.95it/s]\u001b[A\n",
      "100%|███████████████████████████████████████| 196/196 [00:01<00:00, 180.42it/s]\u001b[A\n",
      "\n",
      "100%|███████████████████████████████████████| 198/198 [00:00<00:00, 210.19it/s]\u001b[A\n",
      "100%|████████████████████████████████████████████| 1/1 [00:00<00:00,  2.58it/s]\n",
      "100%|███████████████████████████████████████| 197/197 [00:01<00:00, 160.05it/s]"
     ]
    },
    {
     "name": "stdout",
     "output_type": "stream",
     "text": [
      "Total files processed: 1"
     ]
    },
    {
     "name": "stderr",
     "output_type": "stream",
     "text": [
      "\n"
     ]
    },
    {
     "name": "stdout",
     "output_type": "stream",
     "text": [
      "\n"
     ]
    },
    {
     "name": "stderr",
     "output_type": "stream",
     "text": [
      "/w/hallb-scshelf2102/clas12/users/gmat/clas12/neutneut/analysis/neutron_ml/../../src/TrainData.py:84: FutureWarning: The default of observed=False is deprecated and will be changed to True in a future version of pandas. Pass observed=False to retain current behavior or observed=True to adopt the future default and silence this warning.\n",
      "  group_sizes = df.groupby(group_cols).size()\n",
      "100%|████████████████████████████████████████████| 1/1 [00:00<00:00,  2.50it/s]\n"
     ]
    },
    {
     "name": "stdout",
     "output_type": "stream",
     "text": [
      "Total files processed: 1"
     ]
    },
    {
     "name": "stderr",
     "output_type": "stream",
     "text": [
      "\n"
     ]
    },
    {
     "name": "stdout",
     "output_type": "stream",
     "text": [
      "\n"
     ]
    },
    {
     "name": "stderr",
     "output_type": "stream",
     "text": [
      " 71%|███████████████████████████▌           | 140/198 [00:00<00:00, 229.30it/s]\u001b[A\n",
      "/w/hallb-scshelf2102/clas12/users/gmat/clas12/neutneut/analysis/neutron_ml/../../src/TrainData.py:84: FutureWarning: The default of observed=False is deprecated and will be changed to True in a future version of pandas. Pass observed=False to retain current behavior or observed=True to adopt the future default and silence this warning.\n",
      "  group_sizes = df.groupby(group_cols).size()\n",
      " 96%|█████████████████████████████████████▍ | 188/196 [00:00<00:00, 188.72it/s]\u001b[A\n",
      "100%|███████████████████████████████████████| 197/197 [00:00<00:00, 234.80it/s]\u001b[A\n",
      "\n",
      " 97%|██████████████████████████████████████ | 194/199 [00:01<00:00, 168.60it/s]\u001b[A\n",
      " 70%|███████████████████████████            | 137/197 [00:00<00:00, 210.39it/s]\u001b[A\n",
      "100%|███████████████████████████████████████| 194/194 [00:01<00:00, 178.46it/s]\u001b[A\n",
      "\n",
      " 99%|██████████████████████████████████████▌| 193/195 [00:00<00:00, 273.95it/s]\u001b[A\n",
      "  0%|                                                    | 0/1 [00:00<?, ?it/s]\u001b[A\n",
      " 84%|████████████████████████████████▋      | 164/196 [00:01<00:00, 164.54it/s]\u001b[A\n",
      "  0%|                                                    | 0/1 [00:00<?, ?it/s]\u001b[A\n",
      " 91%|███████████████████████████████████▋   | 182/199 [00:00<00:00, 232.89it/s]\u001b[A\n",
      "100%|███████████████████████████████████████| 192/192 [00:01<00:00, 164.59it/s]\u001b[A\n",
      "\n",
      " 48%|███████████████████▏                    | 94/196 [00:00<00:00, 340.27it/s]\u001b[A\n",
      "  0%|                                                    | 0/1 [00:00<?, ?it/s]\u001b[A\n",
      "100%|████████████████████████████████████████████| 1/1 [00:00<00:00,  5.44it/s]\u001b[A\n",
      " 56%|█████████████████████▉                 | 111/197 [00:00<00:00, 268.81it/s]\u001b[A\n",
      "100%|███████████████████████████████████████| 197/197 [00:01<00:00, 145.16it/s]\u001b[A\n",
      "\n",
      "100%|███████████████████████████████████████| 198/198 [00:01<00:00, 183.65it/s]\u001b[A\n",
      "100%|███████████████████████████████████████| 196/196 [00:01<00:00, 187.02it/s]\n",
      "100%|████████████████████████████████████████████| 1/1 [00:00<00:00,  3.91it/s]\n"
     ]
    },
    {
     "name": "stdout",
     "output_type": "stream",
     "text": [
      "Total files processed: 1\n"
     ]
    },
    {
     "name": "stderr",
     "output_type": "stream",
     "text": [
      "100%|███████████████████████████████████████| 199/199 [00:01<00:00, 174.83it/s]\n",
      "/w/hallb-scshelf2102/clas12/users/gmat/clas12/neutneut/analysis/neutron_ml/../../src/TrainData.py:84: FutureWarning: The default of observed=False is deprecated and will be changed to True in a future version of pandas. Pass observed=False to retain current behavior or observed=True to adopt the future default and silence this warning.\n",
      "  group_sizes = df.groupby(group_cols).size()\n",
      "\n",
      "  0%|                                                    | 0/1 [00:00<?, ?it/s]\u001b[A\n",
      " 88%|██████████████████████████████████▍    | 175/198 [00:00<00:00, 181.93it/s]\u001b[A\n",
      " 81%|███████████████████████████████▍       | 159/197 [00:00<00:00, 197.18it/s]\u001b[A\n",
      " 92%|████████████████████████████████████   | 181/196 [00:01<00:00, 130.41it/s]\u001b[A\n",
      "100%|███████████████████████████████████████| 195/195 [00:00<00:00, 234.18it/s]\u001b[A\n",
      "\n",
      "  0%|                                                  | 0/195 [00:00<?, ?it/s]\u001b[A\n",
      "100%|███████████████████████████████████████| 199/199 [00:00<00:00, 231.85it/s]\u001b[A\n",
      "\n",
      "100%|████████████████████████████████████████████| 1/1 [00:00<00:00,  5.38it/s]\u001b[A\n",
      "  0%|                                                  | 0/196 [00:00<?, ?it/s]\u001b[A\n",
      "  0%|                                                    | 0/1 [00:00<?, ?it/s]\u001b[A\n",
      " 72%|████████████████████████████           | 142/197 [00:00<00:00, 279.63it/s]\u001b[A\n",
      " 67%|██████████████████████████             | 131/196 [00:00<00:00, 323.34it/s]\u001b[A\n",
      "Processing CSV files:  52%|█████████▍        | 262/500 [00:17<00:12, 19.11it/s]\u001b[A\n",
      "100%|████████████████████████████████████████████| 1/1 [00:00<00:00,  4.43it/s]\u001b[A\n",
      " 91%|███████████████████████████████████▌   | 179/196 [00:00<00:00, 187.67it/s]\u001b[A\n",
      "100%|████████████████████████████████████████████| 1/1 [00:00<00:00,  3.41it/s]\u001b[A\n"
     ]
    },
    {
     "name": "stdout",
     "output_type": "stream",
     "text": [
      "Total files processed: 1"
     ]
    },
    {
     "name": "stderr",
     "output_type": "stream",
     "text": [
      "\n",
      "  0%|                                                    | 0/1 [00:00<?, ?it/s]"
     ]
    },
    {
     "name": "stdout",
     "output_type": "stream",
     "text": [
      "\n"
     ]
    },
    {
     "name": "stderr",
     "output_type": "stream",
     "text": [
      "\u001b[A/w/hallb-scshelf2102/clas12/users/gmat/clas12/neutneut/analysis/neutron_ml/../../src/TrainData.py:84: FutureWarning: The default of observed=False is deprecated and will be changed to True in a future version of pandas. Pass observed=False to retain current behavior or observed=True to adopt the future default and silence this warning.\n",
      "  group_sizes = df.groupby(group_cols).size()\n",
      "\n",
      "  0%|                                                  | 0/195 [00:00<?, ?it/s]\u001b[A\n",
      "  0%|                                                    | 0/1 [00:00<?, ?it/s]\u001b[A\n",
      "100%|███████████████████████████████████████| 198/198 [00:01<00:00, 190.77it/s]\u001b[A\n",
      "\n",
      " 92%|████████████████████████████████████   | 182/197 [00:00<00:00, 204.95it/s]\u001b[A\n",
      "100%|████████████████████████████████████████████| 1/1 [00:00<00:00,  2.84it/s]\u001b[A\n",
      "Processing CSV files:  53%|█████████▌        | 267/500 [00:17<00:09, 23.60it/s]"
     ]
    },
    {
     "name": "stdout",
     "output_type": "stream",
     "text": [
      "Total files processed: 1"
     ]
    },
    {
     "name": "stderr",
     "output_type": "stream",
     "text": [
      "\n"
     ]
    },
    {
     "name": "stdout",
     "output_type": "stream",
     "text": [
      "\n"
     ]
    },
    {
     "name": "stderr",
     "output_type": "stream",
     "text": [
      " 21%|████████▏                               | 40/195 [00:00<00:00, 388.94it/s]\u001b[A/w/hallb-scshelf2102/clas12/users/gmat/clas12/neutneut/analysis/neutron_ml/../../src/TrainData.py:84: FutureWarning: The default of observed=False is deprecated and will be changed to True in a future version of pandas. Pass observed=False to retain current behavior or observed=True to adopt the future default and silence this warning.\n",
      "  group_sizes = df.groupby(group_cols).size()\n",
      "\n",
      "100%|████████████████████████████████████████████| 1/1 [00:00<00:00,  4.60it/s]\u001b[A\n",
      " 20%|████████▏                               | 40/196 [00:00<00:00, 396.49it/s]\u001b[A\n",
      "  0%|                                                    | 0/1 [00:00<?, ?it/s]\u001b[A\n",
      "100%|████████████████████████████████████████████| 1/1 [00:00<00:00,  4.56it/s]\u001b[A\n",
      " 84%|████████████████████████████████▊      | 165/196 [00:00<00:00, 302.89it/s]\u001b[A\n",
      "100%|███████████████████████████████████████| 196/196 [00:01<00:00, 151.56it/s]\u001b[A\n",
      "\n",
      "100%|███████████████████████████████████████| 198/198 [00:00<00:00, 205.36it/s]\u001b[A\n",
      "\n",
      "  0%|                                                    | 0/1 [00:00<?, ?it/s]\u001b[A\n",
      "100%|███████████████████████████████████████| 196/196 [00:01<00:00, 178.48it/s]\u001b[A\n",
      "\n",
      "100%|████████████████████████████████████████████| 1/1 [00:00<00:00,  5.66it/s]\u001b[A\n",
      "100%|████████████████████████████████████████████| 1/1 [00:00<00:00,  3.56it/s]\u001b[A\n",
      "100%|███████████████████████████████████████| 197/197 [00:00<00:00, 203.32it/s]"
     ]
    },
    {
     "name": "stdout",
     "output_type": "stream",
     "text": [
      "Total files processed: 1"
     ]
    },
    {
     "name": "stderr",
     "output_type": "stream",
     "text": [
      "\n"
     ]
    },
    {
     "name": "stdout",
     "output_type": "stream",
     "text": [
      "\n"
     ]
    },
    {
     "name": "stderr",
     "output_type": "stream",
     "text": [
      "\n",
      "/w/hallb-scshelf2102/clas12/users/gmat/clas12/neutneut/analysis/neutron_ml/../../src/TrainData.py:84: FutureWarning: The default of observed=False is deprecated and will be changed to True in a future version of pandas. Pass observed=False to retain current behavior or observed=True to adopt the future default and silence this warning.\n",
      "  group_sizes = df.groupby(group_cols).size()\n",
      "  0%|                                                    | 0/1 [00:00<?, ?it/s]\u001b[A\n",
      "100%|████████████████████████████████████████████| 1/1 [00:00<00:00,  5.62it/s]\u001b[A\n",
      "100%|███████████████████████████████████████| 197/197 [00:00<00:00, 296.00it/s]\u001b[A\n",
      "100%|████████████████████████████████████████████| 1/1 [00:00<00:00,  3.24it/s]\n",
      "\n"
     ]
    },
    {
     "name": "stdout",
     "output_type": "stream",
     "text": [
      "Total files processed: 1\n"
     ]
    },
    {
     "name": "stderr",
     "output_type": "stream",
     "text": [
      "100%|████████████████████████████████████████████| 1/1 [00:00<00:00,  3.24it/s]\u001b[A/w/hallb-scshelf2102/clas12/users/gmat/clas12/neutneut/analysis/neutron_ml/../../src/TrainData.py:84: FutureWarning: The default of observed=False is deprecated and will be changed to True in a future version of pandas. Pass observed=False to retain current behavior or observed=True to adopt the future default and silence this warning.\n",
      "  group_sizes = df.groupby(group_cols).size()\n",
      "\n",
      "\n"
     ]
    },
    {
     "name": "stdout",
     "output_type": "stream",
     "text": [
      "Total files processed: 1"
     ]
    },
    {
     "name": "stderr",
     "output_type": "stream",
     "text": [
      "  0%|                                                    | 0/1 [00:00<?, ?it/s]"
     ]
    },
    {
     "name": "stdout",
     "output_type": "stream",
     "text": [
      "\n"
     ]
    },
    {
     "name": "stderr",
     "output_type": "stream",
     "text": [
      "\u001b[A/w/hallb-scshelf2102/clas12/users/gmat/clas12/neutneut/analysis/neutron_ml/../../src/TrainData.py:84: FutureWarning: The default of observed=False is deprecated and will be changed to True in a future version of pandas. Pass observed=False to retain current behavior or observed=True to adopt the future default and silence this warning.\n",
      "  group_sizes = df.groupby(group_cols).size()\n",
      "\n",
      "100%|████████████████████████████████████████████| 1/1 [00:00<00:00,  5.30it/s]\u001b[A\n",
      "100%|████████████████████████████████████████████| 1/1 [00:00<00:00,  4.49it/s]\u001b[A\n",
      "\n"
     ]
    },
    {
     "name": "stdout",
     "output_type": "stream",
     "text": [
      "Total files processed: 1"
     ]
    },
    {
     "name": "stderr",
     "output_type": "stream",
     "text": [
      "  0%|                                                    | 0/1 [00:00<?, ?it/s]"
     ]
    },
    {
     "name": "stdout",
     "output_type": "stream",
     "text": [
      "\n"
     ]
    },
    {
     "name": "stderr",
     "output_type": "stream",
     "text": [
      "100%|████████████████████████████████████████████| 1/1 [00:00<00:00,  3.74it/s]\n",
      "/w/hallb-scshelf2102/clas12/users/gmat/clas12/neutneut/analysis/neutron_ml/../../src/TrainData.py:84: FutureWarning: The default of observed=False is deprecated and will be changed to True in a future version of pandas. Pass observed=False to retain current behavior or observed=True to adopt the future default and silence this warning.\n",
      "  group_sizes = df.groupby(group_cols).size()\n"
     ]
    },
    {
     "name": "stdout",
     "output_type": "stream",
     "text": [
      "Total files processed: 1\n"
     ]
    },
    {
     "name": "stderr",
     "output_type": "stream",
     "text": [
      "/w/hallb-scshelf2102/clas12/users/gmat/clas12/neutneut/analysis/neutron_ml/../../src/TrainData.py:84: FutureWarning: The default of observed=False is deprecated and will be changed to True in a future version of pandas. Pass observed=False to retain current behavior or observed=True to adopt the future default and silence this warning.\n",
      "  group_sizes = df.groupby(group_cols).size()\n",
      "\n",
      "  0%|                                                    | 0/1 [00:00<?, ?it/s]\u001b[A\n",
      "100%|███████████████████████████████████████| 197/197 [00:00<00:00, 256.08it/s]\u001b[A\n",
      "100%|████████████████████████████████████████████| 1/1 [00:00<00:00,  2.88it/s]\n",
      "\n"
     ]
    },
    {
     "name": "stdout",
     "output_type": "stream",
     "text": [
      "Total files processed: 1\n"
     ]
    },
    {
     "name": "stderr",
     "output_type": "stream",
     "text": [
      "  0%|                                                    | 0/1 [00:00<?, ?it/s]\u001b[A\n",
      "  0%|                                                  | 0/199 [00:00<?, ?it/s]/w/hallb-scshelf2102/clas12/users/gmat/clas12/neutneut/analysis/neutron_ml/../../src/TrainData.py:84: FutureWarning: The default of observed=False is deprecated and will be changed to True in a future version of pandas. Pass observed=False to retain current behavior or observed=True to adopt the future default and silence this warning.\n",
      "  group_sizes = df.groupby(group_cols).size()\n",
      "100%|████████████████████████████████████████████| 1/1 [00:00<00:00,  3.82it/s]\n",
      "\n",
      "  0%|                                                  | 0/195 [00:00<?, ?it/s]\u001b[A\n",
      " 41%|████████████████▏                       | 79/195 [00:00<00:00, 344.13it/s]\u001b[A\n",
      "100%|███████████████████████████████████████| 196/196 [00:00<00:00, 296.12it/s]\u001b[A"
     ]
    },
    {
     "name": "stdout",
     "output_type": "stream",
     "text": [
      "Total files processed: 1\n"
     ]
    },
    {
     "name": "stderr",
     "output_type": "stream",
     "text": [
      "/w/hallb-scshelf2102/clas12/users/gmat/clas12/neutneut/analysis/neutron_ml/../../src/TrainData.py:84: FutureWarning: The default of observed=False is deprecated and will be changed to True in a future version of pandas. Pass observed=False to retain current behavior or observed=True to adopt the future default and silence this warning.\n",
      "  group_sizes = df.groupby(group_cols).size()\n",
      "100%|███████████████████████████████████████| 196/196 [00:00<00:00, 289.13it/s]\n",
      "100%|████████████████████████████████████████████| 1/1 [00:00<00:00,  3.48it/s]\n"
     ]
    },
    {
     "name": "stdout",
     "output_type": "stream",
     "text": [
      "Total files processed: 1"
     ]
    },
    {
     "name": "stderr",
     "output_type": "stream",
     "text": [
      "\n"
     ]
    },
    {
     "name": "stdout",
     "output_type": "stream",
     "text": [
      "\n"
     ]
    },
    {
     "name": "stderr",
     "output_type": "stream",
     "text": [
      "/w/hallb-scshelf2102/clas12/users/gmat/clas12/neutneut/analysis/neutron_ml/../../src/TrainData.py:84: FutureWarning: The default of observed=False is deprecated and will be changed to True in a future version of pandas. Pass observed=False to retain current behavior or observed=True to adopt the future default and silence this warning.\n",
      "  group_sizes = df.groupby(group_cols).size()\n",
      " 41%|████████████████▎                       | 80/196 [00:00<00:00, 339.05it/s]\u001b[A\n",
      "Processing CSV files:  55%|█████████▊        | 273/500 [00:17<00:08, 25.29it/s]\u001b[A\n",
      "100%|████████████████████████████████████████████| 1/1 [00:00<00:00,  4.35it/s]\u001b[A\n",
      " 41%|████████████████▍                       | 80/195 [00:00<00:00, 345.74it/s]\u001b[A\n",
      "  0%|                                                  | 0/197 [00:00<?, ?it/s]\u001b[A\n",
      "100%|████████████████████████████████████████████| 1/1 [00:00<00:00,  5.07it/s]\u001b[A\n",
      "100%|████████████████████████████████████████████| 1/1 [00:00<00:00,  4.96it/s]\u001b[A\n",
      "  0%|                                                  | 0/197 [00:00<?, ?it/s]\u001b[A\n",
      " 18%|███████▏                                | 36/199 [00:00<00:00, 353.05it/s]\u001b[A\n",
      " 58%|██████████████████████▊                | 114/195 [00:00<00:00, 291.74it/s]\u001b[A\n",
      " 18%|███████▏                                | 35/195 [00:00<00:00, 345.37it/s]\u001b[A\n",
      "100%|████████████████████████████████████████████| 1/1 [00:00<00:00,  4.76it/s]\u001b[A\n",
      "100%|████████████████████████████████████████████| 1/1 [00:00<00:00,  6.08it/s]\u001b[A\n",
      "100%|████████████████████████████████████████████| 1/1 [00:00<00:00,  4.73it/s]\u001b[A\n",
      "100%|████████████████████████████████████████████| 1/1 [00:00<00:00,  4.67it/s]\u001b[A\n",
      "100%|████████████████████████████████████████████| 1/1 [00:00<00:00,  3.74it/s]\u001b[A\n",
      "\n"
     ]
    },
    {
     "name": "stdout",
     "output_type": "stream",
     "text": [
      "Total files processed: 1\n"
     ]
    },
    {
     "name": "stderr",
     "output_type": "stream",
     "text": [
      "100%|████████████████████████████████████████████| 1/1 [00:00<00:00,  4.22it/s]\u001b[A/w/hallb-scshelf2102/clas12/users/gmat/clas12/neutneut/analysis/neutron_ml/../../src/TrainData.py:84: FutureWarning: The default of observed=False is deprecated and will be changed to True in a future version of pandas. Pass observed=False to retain current behavior or observed=True to adopt the future default and silence this warning.\n",
      "  group_sizes = df.groupby(group_cols).size()\n",
      "\n",
      "  0%|                                                  | 0/195 [00:00<?, ?it/s]\u001b[A\n",
      "  0%|                                                  | 0/199 [00:00<?, ?it/s]\u001b[A\n",
      "100%|████████████████████████████████████████████| 1/1 [00:00<00:00,  5.42it/s]\u001b[A\n",
      "100%|████████████████████████████████████████████| 1/1 [00:00<00:00,  4.81it/s]\u001b[A\n",
      "100%|████████████████████████████████████████████| 1/1 [00:00<00:00,  2.65it/s]\u001b[A\n",
      "\n"
     ]
    },
    {
     "name": "stdout",
     "output_type": "stream",
     "text": [
      "Total files processed: 1\n"
     ]
    },
    {
     "name": "stderr",
     "output_type": "stream",
     "text": [
      "Processing CSV files:  56%|██████████        | 279/500 [00:17<00:07, 30.36it/s]\u001b[A/w/hallb-scshelf2102/clas12/users/gmat/clas12/neutneut/analysis/neutron_ml/../../src/TrainData.py:84: FutureWarning: The default of observed=False is deprecated and will be changed to True in a future version of pandas. Pass observed=False to retain current behavior or observed=True to adopt the future default and silence this warning.\n",
      "  group_sizes = df.groupby(group_cols).size()\n",
      "\n",
      "  0%|                                                    | 0/1 [00:00<?, ?it/s]\u001b[A\n",
      "  0%|                                                    | 0/1 [00:00<?, ?it/s]\u001b[A\n",
      "100%|████████████████████████████████████████████| 1/1 [00:00<00:00,  3.10it/s]\u001b[A\n",
      "\n"
     ]
    },
    {
     "name": "stdout",
     "output_type": "stream",
     "text": [
      "Total files processed: 1"
     ]
    },
    {
     "name": "stderr",
     "output_type": "stream",
     "text": [
      "  0%|                                                    | 0/1 [00:00<?, ?it/s]"
     ]
    },
    {
     "name": "stdout",
     "output_type": "stream",
     "text": [
      "\n"
     ]
    },
    {
     "name": "stderr",
     "output_type": "stream",
     "text": [
      "\u001b[A\n",
      "  0%|                                                  | 0/196 [00:00<?, ?it/s]/w/hallb-scshelf2102/clas12/users/gmat/clas12/neutneut/analysis/neutron_ml/../../src/TrainData.py:84: FutureWarning: The default of observed=False is deprecated and will be changed to True in a future version of pandas. Pass observed=False to retain current behavior or observed=True to adopt the future default and silence this warning.\n",
      "  group_sizes = df.groupby(group_cols).size()\n",
      "\u001b[A\n",
      "100%|████████████████████████████████████████████| 1/1 [00:00<00:00,  4.91it/s]\u001b[A\n",
      "100%|████████████████████████████████████████████| 1/1 [00:00<00:00,  5.17it/s]\u001b[A\n",
      "100%|████████████████████████████████████████████| 1/1 [00:00<00:00,  3.09it/s]\u001b[A\n"
     ]
    },
    {
     "name": "stdout",
     "output_type": "stream",
     "text": [
      "Total files processed: 1"
     ]
    },
    {
     "name": "stderr",
     "output_type": "stream",
     "text": [
      "100%|████████████████████████████████████████████| 1/1 [00:00<00:00,  3.57it/s]"
     ]
    },
    {
     "name": "stdout",
     "output_type": "stream",
     "text": [
      "\n"
     ]
    },
    {
     "name": "stderr",
     "output_type": "stream",
     "text": [
      "\n",
      "\n"
     ]
    },
    {
     "name": "stdout",
     "output_type": "stream",
     "text": [
      "Total files processed: 1\n"
     ]
    },
    {
     "name": "stderr",
     "output_type": "stream",
     "text": [
      "100%|████████████████████████████████████████████| 1/1 [00:00<00:00,  4.85it/s]/w/hallb-scshelf2102/clas12/users/gmat/clas12/neutneut/analysis/neutron_ml/../../src/TrainData.py:84: FutureWarning: The default of observed=False is deprecated and will be changed to True in a future version of pandas. Pass observed=False to retain current behavior or observed=True to adopt the future default and silence this warning.\n",
      "  group_sizes = df.groupby(group_cols).size()\n",
      "100%|████████████████████████████████████████████| 1/1 [00:00<00:00,  3.11it/s]\n",
      "/w/hallb-scshelf2102/clas12/users/gmat/clas12/neutneut/analysis/neutron_ml/../../src/TrainData.py:84: FutureWarning: The default of observed=False is deprecated and will be changed to True in a future version of pandas. Pass observed=False to retain current behavior or observed=True to adopt the future default and silence this warning.\n",
      "  group_sizes = df.groupby(group_cols).size()\n"
     ]
    },
    {
     "name": "stdout",
     "output_type": "stream",
     "text": [
      "Total files processed: 1"
     ]
    },
    {
     "name": "stderr",
     "output_type": "stream",
     "text": [
      "100%|████████████████████████████████████████████| 1/1 [00:00<00:00,  2.61it/s]"
     ]
    },
    {
     "name": "stdout",
     "output_type": "stream",
     "text": [
      "\n"
     ]
    },
    {
     "name": "stderr",
     "output_type": "stream",
     "text": [
      "\n",
      "\n"
     ]
    },
    {
     "name": "stdout",
     "output_type": "stream",
     "text": [
      "Total files processed: 1\n"
     ]
    },
    {
     "name": "stderr",
     "output_type": "stream",
     "text": [
      "  0%|                                                  | 0/198 [00:00<?, ?it/s]/w/hallb-scshelf2102/clas12/users/gmat/clas12/neutneut/analysis/neutron_ml/../../src/TrainData.py:84: FutureWarning: The default of observed=False is deprecated and will be changed to True in a future version of pandas. Pass observed=False to retain current behavior or observed=True to adopt the future default and silence this warning.\n",
      "  group_sizes = df.groupby(group_cols).size()\n",
      "100%|████████████████████████████████████████████| 1/1 [00:00<00:00,  3.20it/s]/w/hallb-scshelf2102/clas12/users/gmat/clas12/neutneut/analysis/neutron_ml/../../src/TrainData.py:84: FutureWarning: The default of observed=False is deprecated and will be changed to True in a future version of pandas. Pass observed=False to retain current behavior or observed=True to adopt the future default and silence this warning.\n",
      "  group_sizes = df.groupby(group_cols).size()\n",
      "\n"
     ]
    },
    {
     "name": "stdout",
     "output_type": "stream",
     "text": [
      "Total files processed: 1"
     ]
    },
    {
     "name": "stderr",
     "output_type": "stream",
     "text": [
      "\n",
      " 59%|███████████████████████▏               | 116/195 [00:00<00:00, 286.25it/s]"
     ]
    },
    {
     "name": "stdout",
     "output_type": "stream",
     "text": [
      "\n"
     ]
    },
    {
     "name": "stderr",
     "output_type": "stream",
     "text": [
      "\u001b[A/w/hallb-scshelf2102/clas12/users/gmat/clas12/neutneut/analysis/neutron_ml/../../src/TrainData.py:84: FutureWarning: The default of observed=False is deprecated and will be changed to True in a future version of pandas. Pass observed=False to retain current behavior or observed=True to adopt the future default and silence this warning.\n",
      "  group_sizes = df.groupby(group_cols).size()\n",
      "\n",
      "100%|████████████████████████████████████████████| 1/1 [00:00<00:00,  2.90it/s]\u001b[A\n"
     ]
    },
    {
     "name": "stdout",
     "output_type": "stream",
     "text": [
      "Total files processed: 1\n"
     ]
    },
    {
     "name": "stderr",
     "output_type": "stream",
     "text": [
      "100%|████████████████████████████████████████████| 1/1 [00:00<00:00,  3.40it/s]/w/hallb-scshelf2102/clas12/users/gmat/clas12/neutneut/analysis/neutron_ml/../../src/TrainData.py:84: FutureWarning: The default of observed=False is deprecated and will be changed to True in a future version of pandas. Pass observed=False to retain current behavior or observed=True to adopt the future default and silence this warning.\n",
      "  group_sizes = df.groupby(group_cols).size()\n",
      "\n"
     ]
    },
    {
     "name": "stdout",
     "output_type": "stream",
     "text": [
      "Total files processed: 1"
     ]
    },
    {
     "name": "stderr",
     "output_type": "stream",
     "text": [
      "\n"
     ]
    },
    {
     "name": "stdout",
     "output_type": "stream",
     "text": [
      "\n"
     ]
    },
    {
     "name": "stderr",
     "output_type": "stream",
     "text": [
      " 21%|████████▏                               | 41/199 [00:00<00:00, 401.63it/s]/w/hallb-scshelf2102/clas12/users/gmat/clas12/neutneut/analysis/neutron_ml/../../src/TrainData.py:84: FutureWarning: The default of observed=False is deprecated and will be changed to True in a future version of pandas. Pass observed=False to retain current behavior or observed=True to adopt the future default and silence this warning.\n",
      "  group_sizes = df.groupby(group_cols).size()\n",
      "100%|████████████████████████████████████████████| 1/1 [00:00<00:00,  3.52it/s]\n"
     ]
    },
    {
     "name": "stdout",
     "output_type": "stream",
     "text": [
      "Total files processed: 1"
     ]
    },
    {
     "name": "stderr",
     "output_type": "stream",
     "text": [
      "100%|████████████████████████████████████████████| 1/1 [00:00<00:00,  3.00it/s]"
     ]
    },
    {
     "name": "stdout",
     "output_type": "stream",
     "text": [
      "\n"
     ]
    },
    {
     "name": "stderr",
     "output_type": "stream",
     "text": [
      "\n"
     ]
    },
    {
     "name": "stdout",
     "output_type": "stream",
     "text": [
      "Total files processed: 1\n"
     ]
    },
    {
     "name": "stderr",
     "output_type": "stream",
     "text": [
      "/w/hallb-scshelf2102/clas12/users/gmat/clas12/neutneut/analysis/neutron_ml/../../src/TrainData.py:84: FutureWarning: The default of observed=False is deprecated and will be changed to True in a future version of pandas. Pass observed=False to retain current behavior or observed=True to adopt the future default and silence this warning.\n",
      "  group_sizes = df.groupby(group_cols).size()\n",
      "\n",
      " 74%|████████████████████████████▊          | 144/195 [00:00<00:00, 275.38it/s]/w/hallb-scshelf2102/clas12/users/gmat/clas12/neutneut/analysis/neutron_ml/../../src/TrainData.py:84: FutureWarning: The default of observed=False is deprecated and will be changed to True in a future version of pandas. Pass observed=False to retain current behavior or observed=True to adopt the future default and silence this warning.\n",
      "  group_sizes = df.groupby(group_cols).size()\n",
      "\u001b[A\n",
      " 20%|███████▉                                | 39/197 [00:00<00:00, 388.31it/s]\u001b[A\n",
      " 36%|██████████████▍                         | 72/199 [00:00<00:00, 307.14it/s]\u001b[A\n",
      " 36%|██████████████▎                         | 70/195 [00:00<00:00, 308.29it/s]\u001b[A\n",
      " 20%|███████▉                                | 39/197 [00:00<00:00, 385.29it/s]\u001b[A\n",
      "100%|████████████████████████████████████████████| 1/1 [00:00<00:00,  3.03it/s]\u001b[A\n"
     ]
    },
    {
     "name": "stdout",
     "output_type": "stream",
     "text": [
      "Total files processed: 1"
     ]
    },
    {
     "name": "stderr",
     "output_type": "stream",
     "text": [
      "\n",
      " 21%|████████▍                               | 41/195 [00:00<00:00, 404.65it/s]\u001b[A\n",
      " 20%|███████▊                                | 39/199 [00:00<00:00, 380.68it/s]\u001b[A"
     ]
    },
    {
     "name": "stdout",
     "output_type": "stream",
     "text": [
      "\n"
     ]
    },
    {
     "name": "stderr",
     "output_type": "stream",
     "text": [
      "\n",
      "/w/hallb-scshelf2102/clas12/users/gmat/clas12/neutneut/analysis/neutron_ml/../../src/TrainData.py:84: FutureWarning: The default of observed=False is deprecated and will be changed to True in a future version of pandas. Pass observed=False to retain current behavior or observed=True to adopt the future default and silence this warning.\n",
      "  group_sizes = df.groupby(group_cols).size()\n",
      "100%|████████████████████████████████████████████| 1/1 [00:00<00:00,  2.75it/s]\u001b[A\n",
      "\n",
      "  0%|                                                    | 0/1 [00:00<?, ?it/s]\u001b[A\n",
      " 19%|███████▊                                | 38/196 [00:00<00:00, 379.62it/s]\u001b[A\n",
      " 75%|█████████████████████████████▏         | 146/195 [00:00<00:00, 281.76it/s]"
     ]
    },
    {
     "name": "stdout",
     "output_type": "stream",
     "text": [
      "Total files processed: 1"
     ]
    },
    {
     "name": "stderr",
     "output_type": "stream",
     "text": [
      "\n"
     ]
    },
    {
     "name": "stdout",
     "output_type": "stream",
     "text": [
      "\n"
     ]
    },
    {
     "name": "stderr",
     "output_type": "stream",
     "text": [
      "  0%|                                                  | 0/193 [00:00<?, ?it/s]\u001b[A/w/hallb-scshelf2102/clas12/users/gmat/clas12/neutneut/analysis/neutron_ml/../../src/TrainData.py:84: FutureWarning: The default of observed=False is deprecated and will be changed to True in a future version of pandas. Pass observed=False to retain current behavior or observed=True to adopt the future default and silence this warning.\n",
      "  group_sizes = df.groupby(group_cols).size()\n",
      "\n",
      "  0%|                                                  | 0/199 [00:00<?, ?it/s]\u001b[A\n",
      " 72%|████████████████████████████▎          | 142/196 [00:00<00:00, 237.83it/s]\u001b[A\n",
      "  0%|                                                  | 0/195 [00:00<?, ?it/s]\u001b[A\n",
      " 18%|███████▏                                | 35/196 [00:00<00:00, 347.13it/s]\u001b[A\n",
      " 88%|██████████████████████████████████▍    | 172/195 [00:00<00:00, 250.43it/s]\u001b[A\n",
      " 41%|████████████████▍                       | 82/199 [00:00<00:00, 316.58it/s]\u001b[A\n",
      " 52%|████████████████████▍                  | 104/199 [00:00<00:00, 259.06it/s]\u001b[A\n",
      " 42%|████████████████▊                       | 82/195 [00:00<00:00, 302.65it/s]\u001b[A\n",
      "  0%|                                                  | 0/194 [00:00<?, ?it/s]\u001b[A\n",
      "100%|████████████████████████████████████████████| 1/1 [00:00<00:00,  5.76it/s]\u001b[A\n",
      "  0%|                                                  | 0/198 [00:00<?, ?it/s]\u001b[A\n",
      "  0%|                                                  | 0/197 [00:00<?, ?it/s]\u001b[A\n",
      " 52%|████████████████████▍                  | 102/195 [00:00<00:00, 255.20it/s]\u001b[A\n",
      "  0%|                                                  | 0/192 [00:00<?, ?it/s]\u001b[A\n",
      " 40%|███████████████▊                        | 78/197 [00:00<00:00, 257.29it/s]\u001b[A\n",
      "100%|████████████████████████████████████████████| 1/1 [00:00<00:00,  4.53it/s]\u001b[A\n",
      "  0%|                                                  | 0/197 [00:00<?, ?it/s]\u001b[A\n",
      "  0%|                                                  | 0/197 [00:00<?, ?it/s]\u001b[A\n",
      " 39%|███████████████▋                        | 78/199 [00:00<00:00, 298.06it/s]\u001b[A\n",
      " 40%|███████████████▊                        | 78/197 [00:00<00:00, 296.68it/s]\u001b[A\n",
      " 86%|█████████████████████████████████▍     | 168/196 [00:00<00:00, 218.44it/s]\u001b[A\n",
      " 90%|███████████████████████████████████    | 175/195 [00:00<00:00, 266.33it/s]\u001b[A\n",
      "100%|████████████████████████████████████████████| 1/1 [00:00<00:00,  5.25it/s]\u001b[A\n",
      " 38%|███████████████▎                        | 76/198 [00:00<00:00, 366.12it/s]\u001b[A\n",
      "100%|████████████████████████████████████████████| 1/1 [00:00<00:00,  4.17it/s]\u001b[A\n",
      " 39%|███████████████▌                        | 76/196 [00:00<00:00, 317.97it/s]\u001b[A\n",
      "100%|████████████████████████████████████████████| 1/1 [00:00<00:00,  2.80it/s]\u001b[A\n"
     ]
    },
    {
     "name": "stdout",
     "output_type": "stream",
     "text": [
      "Total files processed: 1"
     ]
    },
    {
     "name": "stderr",
     "output_type": "stream",
     "text": [
      "\n",
      "100%|████████████████████████████████████████████| 1/1 [00:00<00:00,  3.76it/s]\u001b[A\n",
      "  0%|                                                  | 0/197 [00:00<?, ?it/s]\u001b[A\n",
      " 13%|█████▏                                  | 25/193 [00:00<00:00, 247.99it/s]"
     ]
    },
    {
     "name": "stdout",
     "output_type": "stream",
     "text": [
      "\n"
     ]
    },
    {
     "name": "stderr",
     "output_type": "stream",
     "text": [
      "\u001b[A\n",
      "/w/hallb-scshelf2102/clas12/users/gmat/clas12/neutneut/analysis/neutron_ml/../../src/TrainData.py:84: FutureWarning: The default of observed=False is deprecated and will be changed to True in a future version of pandas. Pass observed=False to retain current behavior or observed=True to adopt the future default and silence this warning.\n",
      "  group_sizes = df.groupby(group_cols).size()\n",
      " 21%|████████▍                               | 42/199 [00:00<00:00, 414.12it/s]\u001b[A\n",
      " 24%|█████████▋                              | 47/195 [00:00<00:00, 461.26it/s]\u001b[A\n",
      " 36%|██████████████▎                         | 70/196 [00:00<00:00, 272.07it/s]\u001b[A\n",
      " 66%|█████████████████████████▋             | 131/199 [00:00<00:00, 243.31it/s]\u001b[A\n",
      " 58%|██████████████████████▌                | 115/199 [00:00<00:00, 275.28it/s]\u001b[A\n",
      "100%|████████████████████████████████████████████| 1/1 [00:00<00:00,  4.80it/s]\u001b[A\n",
      " 66%|█████████████████████████▊             | 129/195 [00:00<00:00, 221.32it/s]\u001b[A\n",
      " 64%|████████████████████████▊              | 124/195 [00:00<00:00, 347.07it/s]\u001b[A\n",
      "100%|████████████████████████████████████████████| 1/1 [00:00<00:00,  2.53it/s]\u001b[A\n"
     ]
    },
    {
     "name": "stdout",
     "output_type": "stream",
     "text": [
      "Total files processed: 1"
     ]
    },
    {
     "name": "stderr",
     "output_type": "stream",
     "text": [
      "\n"
     ]
    },
    {
     "name": "stdout",
     "output_type": "stream",
     "text": [
      "\n"
     ]
    },
    {
     "name": "stderr",
     "output_type": "stream",
     "text": [
      "100%|████████████████████████████████████████████| 1/1 [00:00<00:00,  5.11it/s]\u001b[A/w/hallb-scshelf2102/clas12/users/gmat/clas12/neutneut/analysis/neutron_ml/../../src/TrainData.py:84: FutureWarning: The default of observed=False is deprecated and will be changed to True in a future version of pandas. Pass observed=False to retain current behavior or observed=True to adopt the future default and silence this warning.\n",
      "  group_sizes = df.groupby(group_cols).size()\n",
      "\n",
      "  0%|                                                  | 0/197 [00:00<?, ?it/s]\u001b[A\n",
      " 54%|█████████████████████▏                 | 107/197 [00:00<00:00, 238.97it/s]\u001b[A\n",
      "100%|████████████████████████████████████████████| 1/1 [00:00<00:00,  2.38it/s]\u001b[A\n"
     ]
    },
    {
     "name": "stdout",
     "output_type": "stream",
     "text": [
      "Total files processed: 1\n"
     ]
    },
    {
     "name": "stderr",
     "output_type": "stream",
     "text": [
      "/w/hallb-scshelf2102/clas12/users/gmat/clas12/neutneut/analysis/neutron_ml/../../src/TrainData.py:84: FutureWarning: The default of observed=False is deprecated and will be changed to True in a future version of pandas. Pass observed=False to retain current behavior or observed=True to adopt the future default and silence this warning.\n",
      "  group_sizes = df.groupby(group_cols).size()\n",
      "\n",
      " 21%|████████▎                               | 41/198 [00:00<00:00, 408.52it/s]\u001b[A\n",
      " 98%|██████████████████████████████████████▏| 192/196 [00:00<00:00, 206.97it/s]\u001b[A\n",
      " 21%|████████▌                               | 42/197 [00:00<00:00, 417.51it/s]\u001b[A\n",
      "100%|████████████████████████████████████████████| 1/1 [00:00<00:00,  2.22it/s]\u001b[A\n",
      "\n"
     ]
    },
    {
     "name": "stdout",
     "output_type": "stream",
     "text": [
      "Total files processed: 1"
     ]
    },
    {
     "name": "stderr",
     "output_type": "stream",
     "text": [
      " 55%|█████████████████████▎                 | 109/199 [00:00<00:00, 258.95it/s]"
     ]
    },
    {
     "name": "stdout",
     "output_type": "stream",
     "text": [
      "\n"
     ]
    },
    {
     "name": "stderr",
     "output_type": "stream",
     "text": [
      "100%|███████████████████████████████████████| 195/195 [00:00<00:00, 233.68it/s]\n",
      "\n",
      "/w/hallb-scshelf2102/clas12/users/gmat/clas12/neutneut/analysis/neutron_ml/../../src/TrainData.py:84: FutureWarning: The default of observed=False is deprecated and will be changed to True in a future version of pandas. Pass observed=False to retain current behavior or observed=True to adopt the future default and silence this warning.\n",
      "  group_sizes = df.groupby(group_cols).size()\n",
      "100%|████████████████████████████████████████████| 1/1 [00:00<00:00,  2.05it/s]\u001b[A\n"
     ]
    },
    {
     "name": "stdout",
     "output_type": "stream",
     "text": [
      "Total files processed: 1"
     ]
    },
    {
     "name": "stderr",
     "output_type": "stream",
     "text": [
      "100%|████████████████████████████████████████████| 1/1 [00:00<00:00,  2.10it/s]\n"
     ]
    },
    {
     "name": "stdout",
     "output_type": "stream",
     "text": [
      "\n"
     ]
    },
    {
     "name": "stderr",
     "output_type": "stream",
     "text": [
      "\n"
     ]
    },
    {
     "name": "stdout",
     "output_type": "stream",
     "text": [
      "Total files processed: 1\n"
     ]
    },
    {
     "name": "stderr",
     "output_type": "stream",
     "text": [
      "/w/hallb-scshelf2102/clas12/users/gmat/clas12/neutneut/analysis/neutron_ml/../../src/TrainData.py:84: FutureWarning: The default of observed=False is deprecated and will be changed to True in a future version of pandas. Pass observed=False to retain current behavior or observed=True to adopt the future default and silence this warning.\n",
      "  group_sizes = df.groupby(group_cols).size()\n",
      " 21%|████████▌                               | 42/197 [00:00<00:00, 411.48it/s]\u001b[A/w/hallb-scshelf2102/clas12/users/gmat/clas12/neutneut/analysis/neutron_ml/../../src/TrainData.py:84: FutureWarning: The default of observed=False is deprecated and will be changed to True in a future version of pandas. Pass observed=False to retain current behavior or observed=True to adopt the future default and silence this warning.\n",
      "  group_sizes = df.groupby(group_cols).size()\n",
      "\n",
      "100%|████████████████████████████████████████████| 1/1 [00:00<00:00,  2.87it/s]\u001b[A\n",
      "\n"
     ]
    },
    {
     "name": "stdout",
     "output_type": "stream",
     "text": [
      "Total files processed: 1"
     ]
    },
    {
     "name": "stderr",
     "output_type": "stream",
     "text": [
      " 26%|██████████▎                             | 50/193 [00:00<00:00, 197.64it/s]"
     ]
    },
    {
     "name": "stdout",
     "output_type": "stream",
     "text": [
      "\n"
     ]
    },
    {
     "name": "stderr",
     "output_type": "stream",
     "text": [
      "\u001b[A\n",
      "/w/hallb-scshelf2102/clas12/users/gmat/clas12/neutneut/analysis/neutron_ml/../../src/TrainData.py:84: FutureWarning: The default of observed=False is deprecated and will be changed to True in a future version of pandas. Pass observed=False to retain current behavior or observed=True to adopt the future default and silence this warning.\n",
      "  group_sizes = df.groupby(group_cols).size()\n",
      " 56%|█████████████████████▋                 | 109/196 [00:00<00:00, 241.63it/s]\u001b[A\n",
      "100%|███████████████████████████████████████| 195/195 [00:00<00:00, 195.53it/s]\u001b[A\n",
      "\n",
      " 78%|██████████████████████████████▌        | 156/199 [00:00<00:00, 219.83it/s]\u001b[A\n",
      " 78%|██████████████████████████████▍        | 152/195 [00:00<00:00, 220.13it/s]\u001b[A\n",
      " 51%|████████████████████▏                   | 99/196 [00:00<00:00, 233.90it/s]\u001b[A\n",
      " 72%|████████████████████████████▏          | 144/199 [00:00<00:00, 248.41it/s]\u001b[A\n",
      " 55%|█████████████████████▌                 | 109/197 [00:00<00:00, 213.60it/s]\u001b[A\n",
      " 22%|████████▉                               | 44/197 [00:00<00:00, 431.32it/s]\u001b[A\n",
      "100%|████████████████████████████████████████████| 1/1 [00:00<00:00,  2.27it/s]\u001b[A\n",
      "\n"
     ]
    },
    {
     "name": "stdout",
     "output_type": "stream",
     "text": [
      "Total files processed: 1"
     ]
    },
    {
     "name": "stderr",
     "output_type": "stream",
     "text": [
      " 68%|██████████████████████████▎            | 133/197 [00:00<00:00, 227.80it/s]\u001b[A\n",
      "/w/hallb-scshelf2102/clas12/users/gmat/clas12/neutneut/analysis/neutron_ml/../../src/TrainData.py:84: FutureWarning: The default of observed=False is deprecated and will be changed to True in a future version of pandas. Pass observed=False to retain current behavior or observed=True to adopt the future default and silence this warning.\n",
      "  group_sizes = df.groupby(group_cols).size()\n",
      " 83%|████████████████████████████████▏      | 161/195 [00:00<00:00, 304.39it/s]"
     ]
    },
    {
     "name": "stdout",
     "output_type": "stream",
     "text": [
      "\n"
     ]
    },
    {
     "name": "stderr",
     "output_type": "stream",
     "text": [
      "\u001b[A\n",
      " 48%|███████████████████▎                    | 94/195 [00:00<00:00, 307.64it/s]\u001b[A\n",
      " 23%|█████████                               | 44/195 [00:00<00:00, 439.59it/s]\u001b[A\n",
      "  0%|                                                  | 0/196 [00:00<?, ?it/s]\u001b[A\n",
      " 42%|████████████████▉                       | 82/194 [00:00<00:00, 304.27it/s]\u001b[A\n",
      " 22%|████████▉                               | 44/197 [00:00<00:00, 434.78it/s]\u001b[A\n",
      " 68%|██████████████████████████▋            | 136/199 [00:00<00:00, 228.73it/s]\u001b[A\n",
      " 41%|████████████████▌                       | 82/198 [00:00<00:00, 292.21it/s]\u001b[A\n",
      " 43%|█████████████████                       | 84/197 [00:00<00:00, 283.90it/s]\u001b[A\n",
      "100%|███████████████████████████████████████| 196/196 [00:01<00:00, 180.61it/s]\u001b[A\n",
      "\n",
      " 43%|█████████████████                       | 82/192 [00:00<00:00, 273.93it/s]\u001b[A\n",
      " 37%|██████████████▋                         | 71/193 [00:00<00:00, 171.02it/s]\u001b[A\n",
      " 45%|█████████████████▊                      | 88/197 [00:00<00:00, 282.60it/s]\u001b[A\n",
      " 90%|███████████████████████████████████    | 175/195 [00:00<00:00, 195.88it/s]\u001b[A\n",
      " 43%|█████████████████                       | 84/197 [00:00<00:00, 271.63it/s]\u001b[A\n",
      " 72%|███████████████████████████▉           | 142/198 [00:00<00:00, 228.31it/s]\u001b[A\n",
      " 90%|███████████████████████████████████    | 179/199 [00:00<00:00, 193.09it/s]\u001b[A\n",
      " 42%|████████████████▋                       | 82/197 [00:00<00:00, 264.96it/s]\u001b[A\n",
      " 63%|████████████████████████▋              | 124/196 [00:00<00:00, 203.32it/s]\u001b[A\n",
      "  0%|                                                  | 0/199 [00:00<?, ?it/s]\u001b[A\n",
      " 85%|█████████████████████████████████▎     | 170/199 [00:00<00:00, 212.45it/s]\u001b[A\n",
      " 68%|██████████████████████████▎            | 133/197 [00:00<00:00, 162.11it/s]\u001b[A\n",
      "  0%|                                                  | 0/199 [00:00<?, ?it/s]\u001b[A\n",
      "  0%|                                                  | 0/198 [00:00<?, ?it/s]\u001b[A\n",
      " 80%|███████████████████████████████        | 157/197 [00:00<00:00, 200.92it/s]\u001b[A\n",
      " 58%|██████████████████████▌                | 115/199 [00:00<00:00, 236.65it/s]\u001b[A\n",
      "  0%|                                                  | 0/195 [00:00<?, ?it/s]\u001b[A\n",
      " 69%|██████████████████████████▊            | 135/196 [00:00<00:00, 212.46it/s]\u001b[A\n",
      " 80%|███████████████████████████████▎       | 160/199 [00:00<00:00, 209.19it/s]\u001b[A\n",
      " 99%|██████████████████████████████████████▌| 193/195 [00:00<00:00, 251.63it/s]\u001b[A\n",
      " 77%|██████████████████████████████         | 152/197 [00:00<00:00, 153.93it/s]\u001b[A\n",
      " 66%|█████████████████████████▌             | 128/195 [00:00<00:00, 243.82it/s]\u001b[A\n",
      " 59%|███████████████████████                | 115/194 [00:00<00:00, 251.19it/s]\u001b[A\n",
      " 58%|██████████████████████▍                | 114/198 [00:00<00:00, 252.43it/s]\u001b[A\n",
      " 45%|██████████████████                      | 88/195 [00:00<00:00, 291.31it/s]\u001b[A\n",
      " 46%|██████████████████▍                     | 89/193 [00:00<00:00, 163.65it/s]\u001b[A\n",
      " 58%|██████████████████████▊                | 115/197 [00:00<00:00, 253.84it/s]\u001b[A\n",
      " 58%|██████████████████████▊                | 112/192 [00:00<00:00, 253.86it/s]\u001b[A\n",
      " 21%|████████▌                               | 42/196 [00:00<00:00, 413.68it/s]\u001b[A\n",
      " 45%|█████████████████▊                      | 88/197 [00:00<00:00, 279.07it/s]\u001b[A\n",
      "  0%|                                                  | 0/198 [00:00<?, ?it/s]\u001b[A\n",
      " 84%|████████████████████████████████▉      | 167/198 [00:00<00:00, 210.84it/s]\u001b[A\n",
      " 58%|██████████████████████▌                | 114/197 [00:00<00:00, 241.90it/s]\u001b[A\n",
      " 51%|████████████████████                   | 100/195 [00:00<00:00, 332.13it/s]\u001b[A\n",
      "100%|███████████████████████████████████████| 199/199 [00:01<00:00, 173.91it/s]\u001b[A\n",
      "  0%|                                                  | 0/194 [00:00<?, ?it/s]\u001b[A\n",
      " 74%|█████████████████████████████          | 146/196 [00:00<00:00, 185.42it/s]\u001b[A\n",
      "100%|███████████████████████████████████████| 195/195 [00:00<00:00, 225.31it/s]\u001b[A\n",
      "\n",
      " 69%|██████████████████████████▉            | 136/197 [00:00<00:00, 349.61it/s]\u001b[A\n",
      "Processing CSV files:  57%|██████████▏       | 283/500 [00:18<00:16, 13.21it/s]\u001b[A\n",
      " 71%|███████████████████████████▋           | 141/199 [00:00<00:00, 204.97it/s]\u001b[A\n",
      " 81%|███████████████████████████████▍       | 158/196 [00:00<00:00, 164.84it/s]\u001b[A\n",
      " 91%|███████████████████████████████████▋   | 182/199 [00:00<00:00, 191.09it/s]\u001b[A\n",
      " 21%|████████▍                               | 42/199 [00:00<00:00, 415.23it/s]\u001b[A\n",
      "  0%|                                                  | 0/199 [00:00<?, ?it/s]\u001b[A\n",
      "  0%|                                                    | 0/1 [00:00<?, ?it/s]\u001b[A\n",
      "  0%|                                                  | 0/197 [00:00<?, ?it/s]\u001b[A\n",
      " 24%|█████████▍                              | 47/199 [00:00<00:00, 468.10it/s]\u001b[A\n",
      " 79%|██████████████████████████████▉        | 155/195 [00:00<00:00, 221.22it/s]\u001b[A\n",
      " 70%|███████████████████████████▍           | 137/195 [00:00<00:00, 278.32it/s]\u001b[A\n",
      " 73%|████████████████████████████▌          | 142/194 [00:00<00:00, 227.26it/s]\u001b[A\n",
      " 71%|███████████████████████████▊           | 141/198 [00:00<00:00, 229.48it/s]\u001b[A\n",
      " 55%|█████████████████████▍                 | 106/193 [00:00<00:00, 150.04it/s]\u001b[A\n",
      "  0%|                                                    | 0/1 [00:00<?, ?it/s]\u001b[A\n",
      " 62%|████████████████████████               | 120/195 [00:00<00:00, 255.95it/s]\u001b[A\n",
      " 57%|██████████████████████▏                | 112/197 [00:00<00:00, 225.96it/s]\u001b[A\n",
      " 23%|█████████▏                              | 45/195 [00:00<00:00, 444.07it/s]\u001b[A\n",
      " 72%|████████████████████████████           | 142/197 [00:00<00:00, 212.18it/s]\u001b[A\n",
      " 72%|████████████████████████████▏          | 139/192 [00:00<00:00, 212.01it/s]\u001b[A\n",
      " 96%|█████████████████████████████████████▍ | 190/198 [00:00<00:00, 193.40it/s]\u001b[A\n",
      " 61%|███████████████████████▊               | 120/197 [00:00<00:00, 239.42it/s]\u001b[A\n",
      " 84%|████████████████████████████████▊      | 165/196 [00:00<00:00, 170.67it/s]\u001b[A\n",
      "100%|███████████████████████████████████████| 195/195 [00:01<00:00, 165.26it/s]\u001b[A\n",
      "\n",
      "100%|███████████████████████████████████████| 197/197 [00:01<00:00, 176.90it/s]\u001b[A\n",
      " 43%|█████████████████▏                      | 84/196 [00:00<00:00, 268.15it/s]\u001b[A\n",
      " 90%|███████████████████████████████████▏   | 177/196 [00:00<00:00, 165.67it/s]\u001b[A\n",
      " 82%|███████████████████████████████▉       | 163/199 [00:00<00:00, 200.91it/s]\u001b[A\n",
      " 25%|██████████                              | 50/198 [00:00<00:00, 492.13it/s]\u001b[A\n",
      "100%|███████████████████████████████████████| 199/199 [00:01<00:00, 163.66it/s]\u001b[A\n",
      "100%|███████████████████████████████████████| 197/197 [00:01<00:00, 180.46it/s]\n",
      "\n",
      " 22%|████████▊                               | 43/194 [00:00<00:00, 428.26it/s]\u001b[A\n",
      "100%|███████████████████████████████████████| 199/199 [00:01<00:00, 176.80it/s]\u001b[A\n",
      "\n",
      "  0%|                                                    | 0/1 [00:00<?, ?it/s]\u001b[A\n",
      " 63%|████████████████████████▋              | 122/193 [00:00<00:00, 142.63it/s]\u001b[A\n",
      " 92%|███████████████████████████████████▊   | 179/195 [00:00<00:00, 205.56it/s]\u001b[A\n",
      " 83%|████████████████████████████████▌      | 165/198 [00:00<00:00, 209.92it/s]\u001b[A\n",
      " 86%|█████████████████████████████████▎     | 166/194 [00:00<00:00, 206.24it/s]\u001b[A\n",
      " 70%|███████████████████████████            | 137/197 [00:00<00:00, 172.90it/s]\u001b[A\n",
      " 76%|█████████████████████████████▌         | 148/195 [00:00<00:00, 233.90it/s]\u001b[A\n",
      " 42%|████████████████▉                       | 84/199 [00:00<00:00, 280.63it/s]\u001b[A\n",
      "100%|███████████████████████████████████████| 197/197 [00:01<00:00, 169.96it/s]\u001b[A\n",
      "\n",
      " 22%|████████▉                               | 44/197 [00:00<00:00, 436.61it/s]\u001b[A\n",
      " 84%|████████████████████████████████▋      | 165/197 [00:00<00:00, 198.76it/s]\u001b[A\n",
      " 47%|██████████████████▉                     | 94/199 [00:00<00:00, 305.02it/s]\u001b[A\n",
      " 84%|████████████████████████████████▉      | 162/192 [00:00<00:00, 197.54it/s]\u001b[A\n",
      " 92%|████████████████████████████████████   | 180/195 [00:00<00:00, 321.99it/s]\u001b[A\n",
      " 93%|████████████████████████████████████▍  | 183/196 [00:01<00:00, 155.32it/s]\u001b[A\n",
      " 83%|████████████████████████████████▎      | 163/197 [00:00<00:00, 195.04it/s]\u001b[A\n",
      " 46%|██████████████████▍                     | 90/195 [00:00<00:00, 293.10it/s]\u001b[A\n",
      " 74%|████████████████████████████▉          | 146/197 [00:00<00:00, 210.62it/s]\u001b[A\n",
      " 99%|██████████████████████████████████████▊| 195/196 [00:01<00:00, 159.19it/s]\u001b[A\n",
      " 92%|████████████████████████████████████   | 184/199 [00:00<00:00, 189.07it/s]\u001b[A\n",
      "100%|███████████████████████████████████████| 198/198 [00:01<00:00, 176.29it/s]\u001b[A\n",
      "\n",
      " 58%|██████████████████████▋                | 114/196 [00:00<00:00, 232.06it/s]\u001b[A\n",
      "100%|████████████████████████████████████████████| 1/1 [00:00<00:00,  6.13it/s]\u001b[A\n",
      "100%|███████████████████████████████████████| 197/197 [00:00<00:00, 243.59it/s]\u001b[A\n",
      "\n",
      " 80%|███████████████████████████████        | 157/197 [00:00<00:00, 169.41it/s]\u001b[A\n",
      " 94%|████████████████████████████████████▊  | 187/198 [00:00<00:00, 192.01it/s]\u001b[A\n",
      " 43%|█████████████████▎                      | 86/198 [00:00<00:00, 278.92it/s]\u001b[A\n",
      " 97%|█████████████████████████████████████▊ | 188/194 [00:00<00:00, 189.81it/s]\u001b[A\n",
      " 51%|███████████████████▋                   | 100/198 [00:00<00:00, 229.42it/s]\u001b[A\n",
      " 44%|█████████████████▋                      | 86/194 [00:00<00:00, 279.27it/s]\u001b[A\n",
      " 89%|██████████████████████████████████▌    | 173/195 [00:00<00:00, 199.61it/s]\u001b[A\n",
      " 94%|████████████████████████████████████▊  | 186/197 [00:00<00:00, 176.63it/s]\u001b[A\n",
      " 95%|█████████████████████████████████████▏ | 183/192 [00:00<00:00, 176.40it/s]\u001b[A\n",
      "100%|███████████████████████████████████████| 195/195 [00:01<00:00, 190.12it/s]\u001b[A\n",
      "100%|███████████████████████████████████████| 199/199 [00:01<00:00, 159.94it/s]\n",
      "\n",
      " 93%|████████████████████████████████████▍  | 184/197 [00:00<00:00, 179.72it/s]\u001b[A\n",
      "  0%|                                                    | 0/1 [00:00<?, ?it/s]\u001b[A\n",
      " 64%|█████████████████████████              | 128/199 [00:00<00:00, 247.07it/s]\u001b[A\n",
      " 41%|████████████████▍                       | 82/199 [00:00<00:00, 258.92it/s]\u001b[A\n",
      "100%|████████████████████████████████████████████| 1/1 [00:00<00:00,  6.87it/s]\u001b[A\n",
      " 45%|█████████████████▊                      | 88/197 [00:00<00:00, 280.53it/s]\u001b[A\n",
      " 86%|█████████████████████████████████▍     | 169/197 [00:00<00:00, 184.32it/s]\u001b[A\n",
      " 78%|██████████████████████████████▌        | 151/193 [00:01<00:00, 129.20it/s]\u001b[A\n",
      "100%|███████████████████████████████████████| 195/195 [00:00<00:00, 239.23it/s]\u001b[A\n",
      "100%|███████████████████████████████████████| 196/196 [00:01<00:00, 160.40it/s]\n",
      "\n",
      "  0%|                                                    | 0/1 [00:00<?, ?it/s]\u001b[A\n",
      "100%|███████████████████████████████████████| 194/194 [00:01<00:00, 190.00it/s]\u001b[A\n",
      "\n",
      "100%|████████████████████████████████████████████| 1/1 [00:00<00:00,  2.75it/s]\u001b[A\n"
     ]
    },
    {
     "name": "stdout",
     "output_type": "stream",
     "text": [
      "Total files processed: 1"
     ]
    },
    {
     "name": "stderr",
     "output_type": "stream",
     "text": [
      "100%|███████████████████████████████████████| 197/197 [00:01<00:00, 193.23it/s]"
     ]
    },
    {
     "name": "stdout",
     "output_type": "stream",
     "text": [
      "\n"
     ]
    },
    {
     "name": "stderr",
     "output_type": "stream",
     "text": [
      "\n",
      "/w/hallb-scshelf2102/clas12/users/gmat/clas12/neutneut/analysis/neutron_ml/../../src/TrainData.py:84: FutureWarning: The default of observed=False is deprecated and will be changed to True in a future version of pandas. Pass observed=False to retain current behavior or observed=True to adopt the future default and silence this warning.\n",
      "  group_sizes = df.groupby(group_cols).size()\n",
      "100%|███████████████████████████████████████| 199/199 [00:01<00:00, 179.46it/s]\n",
      "\n",
      " 99%|██████████████████████████████████████▊| 194/195 [00:00<00:00, 197.64it/s]\u001b[A\n",
      "100%|███████████████████████████████████████| 198/198 [00:01<00:00, 188.38it/s]\u001b[A\n",
      "\n",
      " 60%|███████████████████████▌               | 117/194 [00:00<00:00, 252.34it/s]\u001b[A\n",
      "100%|███████████████████████████████████████| 196/196 [00:01<00:00, 148.88it/s]\u001b[A\n",
      "\n",
      "100%|████████████████████████████████████████████| 1/1 [00:00<00:00,  2.26it/s]\u001b[A\n"
     ]
    },
    {
     "name": "stdout",
     "output_type": "stream",
     "text": [
      "Total files processed: 1"
     ]
    },
    {
     "name": "stderr",
     "output_type": "stream",
     "text": [
      "\n"
     ]
    },
    {
     "name": "stdout",
     "output_type": "stream",
     "text": [
      "\n"
     ]
    },
    {
     "name": "stderr",
     "output_type": "stream",
     "text": [
      "  0%|                                                    | 0/1 [00:00<?, ?it/s]/w/hallb-scshelf2102/clas12/users/gmat/clas12/neutneut/analysis/neutron_ml/../../src/TrainData.py:84: FutureWarning: The default of observed=False is deprecated and will be changed to True in a future version of pandas. Pass observed=False to retain current behavior or observed=True to adopt the future default and silence this warning.\n",
      "  group_sizes = df.groupby(group_cols).size()\n",
      "100%|███████████████████████████████████████| 192/192 [00:01<00:00, 179.25it/s]\n",
      "\n",
      " 78%|██████████████████████████████▍        | 155/199 [00:00<00:00, 247.03it/s]\u001b[A\n",
      "  0%|                                                    | 0/1 [00:00<?, ?it/s]\u001b[A\n",
      " 56%|█████████████████████▊                 | 111/199 [00:00<00:00, 256.90it/s]\u001b[A\n",
      "100%|███████████████████████████████████████| 197/197 [00:01<00:00, 179.79it/s]\u001b[A\n",
      "\n",
      " 61%|███████████████████████▊               | 120/197 [00:00<00:00, 276.17it/s]\u001b[A\n",
      " 96%|█████████████████████████████████████▍ | 189/197 [00:00<00:00, 181.91it/s]\u001b[A\n",
      "  0%|                                                    | 0/1 [00:00<?, ?it/s]\u001b[A\n",
      " 98%|██████████████████████████████████████▍| 194/197 [00:01<00:00, 170.62it/s]\u001b[A\n",
      " 82%|████████████████████████████████       | 161/196 [00:00<00:00, 201.26it/s]\u001b[A\n",
      "100%|████████████████████████████████████████████| 1/1 [00:00<00:00,  2.72it/s]\u001b[A\n",
      "\n"
     ]
    },
    {
     "name": "stdout",
     "output_type": "stream",
     "text": [
      "Total files processed: 1\n"
     ]
    },
    {
     "name": "stderr",
     "output_type": "stream",
     "text": [
      "/w/hallb-scshelf2102/clas12/users/gmat/clas12/neutneut/analysis/neutron_ml/../../src/TrainData.py:84: FutureWarning: The default of observed=False is deprecated and will be changed to True in a future version of pandas. Pass observed=False to retain current behavior or observed=True to adopt the future default and silence this warning.\n",
      "  group_sizes = df.groupby(group_cols).size()\n",
      " 72%|████████████████████████████▏          | 143/198 [00:00<00:00, 241.54it/s]\u001b[A\n",
      " 74%|████████████████████████████▉          | 144/194 [00:00<00:00, 250.80it/s]\u001b[A\n",
      " 79%|██████████████████████████████▉        | 157/198 [00:00<00:00, 222.41it/s]\u001b[A\n",
      "Processing CSV files:  59%|██████████▌       | 293/500 [00:18<00:12, 16.15it/s]\u001b[A\n",
      "100%|███████████████████████████████████████| 195/195 [00:01<00:00, 184.86it/s]\u001b[A\n",
      "\n",
      "100%|████████████████████████████████████████████| 1/1 [00:00<00:00,  5.81it/s]\u001b[A\n",
      "  0%|                                                    | 0/1 [00:00<?, ?it/s]\u001b[A\n",
      " 94%|████████████████████████████████████▌  | 181/193 [00:01<00:00, 129.48it/s]\u001b[A\n",
      " 91%|███████████████████████████████████▋   | 182/199 [00:00<00:00, 231.59it/s]\u001b[A\n",
      "  0%|                                                    | 0/1 [00:00<?, ?it/s]\u001b[A\n",
      "  0%|                                                    | 0/1 [00:00<?, ?it/s]\u001b[A\n",
      "100%|███████████████████████████████████████| 197/197 [00:01<00:00, 164.46it/s]\u001b[A\n",
      "100%|███████████████████████████████████████| 197/197 [00:01<00:00, 181.43it/s]\n",
      "\n",
      " 76%|█████████████████████████████▋         | 150/197 [00:00<00:00, 234.09it/s]\u001b[A\n",
      " 92%|███████████████████████████████████▊   | 182/198 [00:00<00:00, 218.24it/s]\u001b[A\n",
      " 88%|██████████████████████████████████▏    | 170/194 [00:00<00:00, 244.07it/s]\u001b[A\n",
      "  0%|                                                    | 0/1 [00:00<?, ?it/s]\u001b[A\n",
      " 70%|███████████████████████████▏           | 139/199 [00:00<00:00, 224.66it/s]\u001b[A\n",
      "  0%|                                                  | 0/196 [00:00<?, ?it/s]\u001b[A\n",
      "Processing CSV files:  60%|██████████▊       | 299/500 [00:19<00:08, 22.75it/s]\u001b[A\n",
      "  0%|                                                    | 0/1 [00:00<?, ?it/s]\u001b[A\n",
      "100%|████████████████████████████████████████████| 1/1 [00:00<00:00,  4.41it/s]\u001b[A\n",
      " 94%|████████████████████████████████████▋  | 187/199 [00:00<00:00, 213.16it/s]\u001b[A\n",
      " 90%|███████████████████████████████████    | 175/195 [00:00<00:00, 210.31it/s]\u001b[A\n",
      "  0%|                                                    | 0/1 [00:00<?, ?it/s]\u001b[A\n",
      "  0%|                                                    | 0/1 [00:00<?, ?it/s]\u001b[A\n",
      "  0%|                                                    | 0/1 [00:00<?, ?it/s]\u001b[A\n",
      "100%|████████████████████████████████████████████| 1/1 [00:00<00:00,  2.97it/s]\u001b[A\n",
      "\n"
     ]
    },
    {
     "name": "stdout",
     "output_type": "stream",
     "text": [
      "Total files processed: 1"
     ]
    },
    {
     "name": "stderr",
     "output_type": "stream",
     "text": [
      "  0%|                                                  | 0/195 [00:00<?, ?it/s]"
     ]
    },
    {
     "name": "stdout",
     "output_type": "stream",
     "text": [
      "\n"
     ]
    },
    {
     "name": "stderr",
     "output_type": "stream",
     "text": [
      "\u001b[A\n",
      "100%|████████████████████████████████████████████| 1/1 [00:00<00:00,  7.22it/s]/w/hallb-scshelf2102/clas12/users/gmat/clas12/neutneut/analysis/neutron_ml/../../src/TrainData.py:84: FutureWarning: The default of observed=False is deprecated and will be changed to True in a future version of pandas. Pass observed=False to retain current behavior or observed=True to adopt the future default and silence this warning.\n",
      "  group_sizes = df.groupby(group_cols).size()\n",
      "\u001b[A\n",
      "100%|███████████████████████████████████████| 193/193 [00:01<00:00, 138.40it/s]\u001b[A\n",
      "\n",
      "  0%|                                                    | 0/1 [00:00<?, ?it/s]\u001b[A\n",
      "  0%|                                                  | 0/198 [00:00<?, ?it/s]\u001b[A\n",
      "100%|████████████████████████████████████████████| 1/1 [00:00<00:00,  5.76it/s]\u001b[A\n",
      "100%|███████████████████████████████████████| 199/199 [00:00<00:00, 226.90it/s]\u001b[A\n",
      "100%|███████████████████████████████████████| 196/196 [00:00<00:00, 198.47it/s]\n",
      "\n",
      "100%|████████████████████████████████████████████| 1/1 [00:00<00:00,  3.11it/s]\u001b[A\n",
      "\n"
     ]
    },
    {
     "name": "stdout",
     "output_type": "stream",
     "text": [
      "Total files processed: 1"
     ]
    },
    {
     "name": "stderr",
     "output_type": "stream",
     "text": [
      " 93%|████████████████████████████████████▍  | 184/197 [00:00<00:00, 261.77it/s]"
     ]
    },
    {
     "name": "stdout",
     "output_type": "stream",
     "text": [
      "\n"
     ]
    },
    {
     "name": "stderr",
     "output_type": "stream",
     "text": [
      "100%|███████████████████████████████████████| 198/198 [00:00<00:00, 221.97it/s]/w/hallb-scshelf2102/clas12/users/gmat/clas12/neutneut/analysis/neutron_ml/../../src/TrainData.py:84: FutureWarning: The default of observed=False is deprecated and will be changed to True in a future version of pandas. Pass observed=False to retain current behavior or observed=True to adopt the future default and silence this warning.\n",
      "  group_sizes = df.groupby(group_cols).size()\n",
      "\n",
      "\n",
      "100%|███████████████████████████████████████| 194/194 [00:00<00:00, 247.51it/s]\u001b[A\n",
      "100%|████████████████████████████████████████████| 1/1 [00:00<00:00,  4.57it/s]\n",
      "100%|████████████████████████████████████████████| 1/1 [00:00<00:00,  3.64it/s]"
     ]
    },
    {
     "name": "stdout",
     "output_type": "stream",
     "text": [
      "Total files processed: 1"
     ]
    },
    {
     "name": "stderr",
     "output_type": "stream",
     "text": [
      "\n",
      "\n"
     ]
    },
    {
     "name": "stdout",
     "output_type": "stream",
     "text": [
      "Total files processed: 1"
     ]
    },
    {
     "name": "stderr",
     "output_type": "stream",
     "text": [
      "  0%|                                                    | 0/1 [00:00<?, ?it/s]"
     ]
    },
    {
     "name": "stdout",
     "output_type": "stream",
     "text": [
      "\n"
     ]
    },
    {
     "name": "stderr",
     "output_type": "stream",
     "text": [
      "/w/hallb-scshelf2102/clas12/users/gmat/clas12/neutneut/analysis/neutron_ml/../../src/TrainData.py:84: FutureWarning: The default of observed=False is deprecated and will be changed to True in a future version of pandas. Pass observed=False to retain current behavior or observed=True to adopt the future default and silence this warning.\n",
      "  group_sizes = df.groupby(group_cols).size()\n",
      "\u001b[A"
     ]
    },
    {
     "name": "stdout",
     "output_type": "stream",
     "text": [
      "\n"
     ]
    },
    {
     "name": "stderr",
     "output_type": "stream",
     "text": [
      "/w/hallb-scshelf2102/clas12/users/gmat/clas12/neutneut/analysis/neutron_ml/../../src/TrainData.py:84: FutureWarning: The default of observed=False is deprecated and will be changed to True in a future version of pandas. Pass observed=False to retain current behavior or observed=True to adopt the future default and silence this warning.\n",
      "  group_sizes = df.groupby(group_cols).size()\n",
      "100%|███████████████████████████████████████| 195/195 [00:00<00:00, 214.24it/s]\n",
      "100%|████████████████████████████████████████████| 1/1 [00:00<00:00,  3.54it/s]\n",
      "\n"
     ]
    },
    {
     "name": "stdout",
     "output_type": "stream",
     "text": [
      "Total files processed: 1\n"
     ]
    },
    {
     "name": "stderr",
     "output_type": "stream",
     "text": [
      " 22%|████████▊                               | 43/196 [00:00<00:00, 420.75it/s]\u001b[A/w/hallb-scshelf2102/clas12/users/gmat/clas12/neutneut/analysis/neutron_ml/../../src/TrainData.py:84: FutureWarning: The default of observed=False is deprecated and will be changed to True in a future version of pandas. Pass observed=False to retain current behavior or observed=True to adopt the future default and silence this warning.\n",
      "  group_sizes = df.groupby(group_cols).size()\n",
      "\n",
      "Processing CSV files:  61%|██████████▉       | 303/500 [00:19<00:08, 24.31it/s]\u001b[A\n",
      "  0%|                                                    | 0/1 [00:00<?, ?it/s]\u001b[A\n",
      " 97%|██████████████████████████████████████ | 194/199 [00:00<00:00, 246.89it/s]\u001b[A\n",
      " 17%|██████▊                                 | 33/195 [00:00<00:00, 313.87it/s]\u001b[A\n",
      " 18%|███████                                 | 35/198 [00:00<00:00, 347.08it/s]\u001b[A\n",
      "100%|████████████████████████████████████████████| 1/1 [00:00<00:00,  5.26it/s]\u001b[A\n",
      "100%|████████████████████████████████████████████| 1/1 [00:00<00:00,  4.16it/s]\u001b[A\n",
      "100%|███████████████████████████████████████| 199/199 [00:01<00:00, 187.38it/s]\u001b[A\n",
      "\n",
      "100%|████████████████████████████████████████████| 1/1 [00:00<00:00,  5.67it/s]\u001b[A\n",
      "  0%|                                                  | 0/197 [00:00<?, ?it/s]\u001b[A\n",
      "100%|████████████████████████████████████████████| 1/1 [00:00<00:00,  5.67it/s]\u001b[A\n",
      "Processing CSV files:  61%|███████████       | 307/500 [00:19<00:07, 26.58it/s]\u001b[A\n",
      "100%|████████████████████████████████████████████| 1/1 [00:00<00:00,  4.27it/s]\u001b[A\n",
      "  0%|                                                    | 0/1 [00:00<?, ?it/s]\u001b[A\n",
      "100%|███████████████████████████████████████| 197/197 [00:00<00:00, 221.31it/s]\u001b[A\n",
      "100%|███████████████████████████████████████| 198/198 [00:00<00:00, 203.35it/s]\n",
      "100%|████████████████████████████████████████████| 1/1 [00:00<00:00,  4.29it/s]\n",
      "\n"
     ]
    },
    {
     "name": "stdout",
     "output_type": "stream",
     "text": [
      "Total files processed: 1\n"
     ]
    },
    {
     "name": "stderr",
     "output_type": "stream",
     "text": [
      "100%|████████████████████████████████████████████| 1/1 [00:00<00:00,  4.71it/s]\u001b[A/w/hallb-scshelf2102/clas12/users/gmat/clas12/neutneut/analysis/neutron_ml/../../src/TrainData.py:84: FutureWarning: The default of observed=False is deprecated and will be changed to True in a future version of pandas. Pass observed=False to retain current behavior or observed=True to adopt the future default and silence this warning.\n",
      "  group_sizes = df.groupby(group_cols).size()\n",
      "\n",
      "  0%|                                                    | 0/1 [00:00<?, ?it/s]\u001b[A\n",
      "100%|████████████████████████████████████████████| 1/1 [00:00<00:00,  3.24it/s]\u001b[A\n"
     ]
    },
    {
     "name": "stdout",
     "output_type": "stream",
     "text": [
      "Total files processed: 1"
     ]
    },
    {
     "name": "stderr",
     "output_type": "stream",
     "text": [
      "100%|███████████████████████████████████████| 199/199 [00:00<00:00, 217.07it/s]\n"
     ]
    },
    {
     "name": "stdout",
     "output_type": "stream",
     "text": [
      "\n"
     ]
    },
    {
     "name": "stderr",
     "output_type": "stream",
     "text": [
      "100%|████████████████████████████████████████████| 1/1 [00:00<00:00,  2.85it/s]/w/hallb-scshelf2102/clas12/users/gmat/clas12/neutneut/analysis/neutron_ml/../../src/TrainData.py:84: FutureWarning: The default of observed=False is deprecated and will be changed to True in a future version of pandas. Pass observed=False to retain current behavior or observed=True to adopt the future default and silence this warning.\n",
      "  group_sizes = df.groupby(group_cols).size()\n",
      "\n"
     ]
    },
    {
     "name": "stdout",
     "output_type": "stream",
     "text": [
      "Total files processed: 1"
     ]
    },
    {
     "name": "stderr",
     "output_type": "stream",
     "text": [
      "\n"
     ]
    },
    {
     "name": "stdout",
     "output_type": "stream",
     "text": [
      "\n"
     ]
    },
    {
     "name": "stderr",
     "output_type": "stream",
     "text": [
      "/w/hallb-scshelf2102/clas12/users/gmat/clas12/neutneut/analysis/neutron_ml/../../src/TrainData.py:84: FutureWarning: The default of observed=False is deprecated and will be changed to True in a future version of pandas. Pass observed=False to retain current behavior or observed=True to adopt the future default and silence this warning.\n",
      "  group_sizes = df.groupby(group_cols).size()\n",
      "  0%|                                                    | 0/1 [00:00<?, ?it/s]\u001b[A\n",
      "100%|████████████████████████████████████████████| 1/1 [00:00<00:00,  2.72it/s]\u001b[A\n",
      "\n"
     ]
    },
    {
     "name": "stdout",
     "output_type": "stream",
     "text": [
      "Total files processed: 1\n"
     ]
    },
    {
     "name": "stderr",
     "output_type": "stream",
     "text": [
      "100%|████████████████████████████████████████████| 1/1 [00:00<00:00,  3.40it/s]\u001b[A\n",
      "/w/hallb-scshelf2102/clas12/users/gmat/clas12/neutneut/analysis/neutron_ml/../../src/TrainData.py:84: FutureWarning: The default of observed=False is deprecated and will be changed to True in a future version of pandas. Pass observed=False to retain current behavior or observed=True to adopt the future default and silence this warning.\n",
      "  group_sizes = df.groupby(group_cols).size()\n"
     ]
    },
    {
     "name": "stdout",
     "output_type": "stream",
     "text": [
      "Total files processed: 1"
     ]
    },
    {
     "name": "stderr",
     "output_type": "stream",
     "text": [
      "100%|████████████████████████████████████████████| 1/1 [00:00<00:00,  3.62it/s]\n",
      "100%|████████████████████████████████████████████| 1/1 [00:00<00:00,  3.53it/s]"
     ]
    },
    {
     "name": "stdout",
     "output_type": "stream",
     "text": [
      "Total files processed: 1\n"
     ]
    },
    {
     "name": "stderr",
     "output_type": "stream",
     "text": [
      "/w/hallb-scshelf2102/clas12/users/gmat/clas12/neutneut/analysis/neutron_ml/../../src/TrainData.py:84: FutureWarning: The default of observed=False is deprecated and will be changed to True in a future version of pandas. Pass observed=False to retain current behavior or observed=True to adopt the future default and silence this warning.\n",
      "  group_sizes = df.groupby(group_cols).size()\n"
     ]
    },
    {
     "name": "stdout",
     "output_type": "stream",
     "text": [
      "\n"
     ]
    },
    {
     "name": "stderr",
     "output_type": "stream",
     "text": [
      "\n"
     ]
    },
    {
     "name": "stdout",
     "output_type": "stream",
     "text": [
      "Total files processed: 1"
     ]
    },
    {
     "name": "stderr",
     "output_type": "stream",
     "text": [
      "100%|████████████████████████████████████████████| 1/1 [00:00<00:00,  3.00it/s]"
     ]
    },
    {
     "name": "stdout",
     "output_type": "stream",
     "text": [
      "\n"
     ]
    },
    {
     "name": "stderr",
     "output_type": "stream",
     "text": [
      "\n",
      "/w/hallb-scshelf2102/clas12/users/gmat/clas12/neutneut/analysis/neutron_ml/../../src/TrainData.py:84: FutureWarning: The default of observed=False is deprecated and will be changed to True in a future version of pandas. Pass observed=False to retain current behavior or observed=True to adopt the future default and silence this warning.\n",
      "  group_sizes = df.groupby(group_cols).size()\n",
      "\n",
      "/w/hallb-scshelf2102/clas12/users/gmat/clas12/neutneut/analysis/neutron_ml/../../src/TrainData.py:84: FutureWarning: The default of observed=False is deprecated and will be changed to True in a future version of pandas. Pass observed=False to retain current behavior or observed=True to adopt the future default and silence this warning.\n",
      "  group_sizes = df.groupby(group_cols).size()\n",
      "100%|████████████████████████████████████████████| 1/1 [00:00<00:00,  5.39it/s]\u001b[A"
     ]
    },
    {
     "name": "stdout",
     "output_type": "stream",
     "text": [
      "Total files processed: 1"
     ]
    },
    {
     "name": "stderr",
     "output_type": "stream",
     "text": [
      "\n",
      "  0%|                                                    | 0/1 [00:00<?, ?it/s]\u001b[A\n"
     ]
    },
    {
     "name": "stdout",
     "output_type": "stream",
     "text": [
      "\n"
     ]
    },
    {
     "name": "stderr",
     "output_type": "stream",
     "text": [
      "/w/hallb-scshelf2102/clas12/users/gmat/clas12/neutneut/analysis/neutron_ml/../../src/TrainData.py:84: FutureWarning: The default of observed=False is deprecated and will be changed to True in a future version of pandas. Pass observed=False to retain current behavior or observed=True to adopt the future default and silence this warning.\n",
      "  group_sizes = df.groupby(group_cols).size()\n",
      " 44%|█████████████████▌                      | 86/196 [00:00<00:00, 284.80it/s]\u001b[A\n",
      "100%|████████████████████████████████████████████| 1/1 [00:00<00:00,  3.33it/s]\u001b[A\n",
      "\n"
     ]
    },
    {
     "name": "stdout",
     "output_type": "stream",
     "text": [
      "Total files processed: 1"
     ]
    },
    {
     "name": "stderr",
     "output_type": "stream",
     "text": [
      " 35%|██████████████▏                         | 70/198 [00:00<00:00, 270.78it/s]\u001b[A\n",
      "  0%|                                                  | 0/197 [00:00<?, ?it/s]\u001b[A"
     ]
    },
    {
     "name": "stdout",
     "output_type": "stream",
     "text": [
      "\n"
     ]
    },
    {
     "name": "stderr",
     "output_type": "stream",
     "text": [
      "\n",
      "100%|████████████████████████████████████████████| 1/1 [00:00<00:00,  5.84it/s]/w/hallb-scshelf2102/clas12/users/gmat/clas12/neutneut/analysis/neutron_ml/../../src/TrainData.py:84: FutureWarning: The default of observed=False is deprecated and will be changed to True in a future version of pandas. Pass observed=False to retain current behavior or observed=True to adopt the future default and silence this warning.\n",
      "  group_sizes = df.groupby(group_cols).size()\n",
      "100%|████████████████████████████████████████████| 1/1 [00:00<00:00,  2.46it/s]\n"
     ]
    },
    {
     "name": "stdout",
     "output_type": "stream",
     "text": [
      "Total files processed: 1"
     ]
    },
    {
     "name": "stderr",
     "output_type": "stream",
     "text": [
      "\n"
     ]
    },
    {
     "name": "stdout",
     "output_type": "stream",
     "text": [
      "\n"
     ]
    },
    {
     "name": "stderr",
     "output_type": "stream",
     "text": [
      "Processing CSV files:  62%|███████████▏      | 311/500 [00:19<00:06, 29.26it/s]\u001b[A/w/hallb-scshelf2102/clas12/users/gmat/clas12/neutneut/analysis/neutron_ml/../../src/TrainData.py:84: FutureWarning: The default of observed=False is deprecated and will be changed to True in a future version of pandas. Pass observed=False to retain current behavior or observed=True to adopt the future default and silence this warning.\n",
      "  group_sizes = df.groupby(group_cols).size()\n",
      "\n",
      "  0%|                                                  | 0/197 [00:00<?, ?it/s]\u001b[A\n",
      "100%|████████████████████████████████████████████| 1/1 [00:00<00:00,  4.90it/s]\u001b[A\n",
      " 20%|███████▉                                | 39/197 [00:00<00:00, 379.94it/s]\u001b[A\n",
      " 33%|█████████████▎                          | 65/195 [00:00<00:00, 247.95it/s]\u001b[A\n",
      "  0%|                                                    | 0/1 [00:00<?, ?it/s]\u001b[A\n",
      "100%|████████████████████████████████████████████| 1/1 [00:00<00:00,  3.07it/s]\u001b[A\n"
     ]
    },
    {
     "name": "stdout",
     "output_type": "stream",
     "text": [
      "Total files processed: 1"
     ]
    },
    {
     "name": "stderr",
     "output_type": "stream",
     "text": [
      "\n"
     ]
    },
    {
     "name": "stdout",
     "output_type": "stream",
     "text": [
      "\n"
     ]
    },
    {
     "name": "stderr",
     "output_type": "stream",
     "text": [
      "100%|████████████████████████████████████████████| 1/1 [00:00<00:00,  2.84it/s]\u001b[A/w/hallb-scshelf2102/clas12/users/gmat/clas12/neutneut/analysis/neutron_ml/../../src/TrainData.py:84: FutureWarning: The default of observed=False is deprecated and will be changed to True in a future version of pandas. Pass observed=False to retain current behavior or observed=True to adopt the future default and silence this warning.\n",
      "  group_sizes = df.groupby(group_cols).size()\n",
      "\n",
      "\n"
     ]
    },
    {
     "name": "stdout",
     "output_type": "stream",
     "text": [
      "Total files processed: 1\n"
     ]
    },
    {
     "name": "stderr",
     "output_type": "stream",
     "text": [
      "  0%|                                                  | 0/197 [00:00<?, ?it/s]\u001b[A\n",
      "/w/hallb-scshelf2102/clas12/users/gmat/clas12/neutneut/analysis/neutron_ml/../../src/TrainData.py:84: FutureWarning: The default of observed=False is deprecated and will be changed to True in a future version of pandas. Pass observed=False to retain current behavior or observed=True to adopt the future default and silence this warning.\n",
      "  group_sizes = df.groupby(group_cols).size()\n",
      "100%|████████████████████████████████████████████| 1/1 [00:00<00:00,  5.38it/s]\u001b[A\n",
      " 19%|███████▊                                | 38/195 [00:00<00:00, 378.33it/s]\u001b[A\n",
      "100%|████████████████████████████████████████████| 1/1 [00:00<00:00,  2.32it/s]\u001b[A\n",
      "\n"
     ]
    },
    {
     "name": "stdout",
     "output_type": "stream",
     "text": [
      "Total files processed: 1\n"
     ]
    },
    {
     "name": "stderr",
     "output_type": "stream",
     "text": [
      "/w/hallb-scshelf2102/clas12/users/gmat/clas12/neutneut/analysis/neutron_ml/../../src/TrainData.py:84: FutureWarning: The default of observed=False is deprecated and will be changed to True in a future version of pandas. Pass observed=False to retain current behavior or observed=True to adopt the future default and silence this warning.\n",
      "  group_sizes = df.groupby(group_cols).size()\n",
      " 60%|███████████████████████▎               | 117/196 [00:00<00:00, 264.90it/s]\u001b[A\n",
      "  0%|                                                  | 0/198 [00:00<?, ?it/s]\u001b[A\n",
      "  0%|                                                    | 0/1 [00:00<?, ?it/s]\u001b[A\n",
      " 50%|████████████████████                    | 99/198 [00:00<00:00, 259.97it/s]\u001b[A\n",
      "  0%|                                                  | 0/198 [00:00<?, ?it/s]\u001b[A\n",
      "  0%|                                                  | 0/196 [00:00<?, ?it/s]\u001b[A\n",
      "  0%|                                                  | 0/199 [00:00<?, ?it/s]\u001b[A\n",
      "  0%|                                                  | 0/196 [00:00<?, ?it/s]\u001b[A\n",
      " 47%|██████████████████▋                     | 91/195 [00:00<00:00, 210.36it/s]\u001b[A\n",
      " 18%|███████                                 | 35/197 [00:00<00:00, 348.80it/s]\u001b[A\n",
      " 17%|██████▋                                 | 33/197 [00:00<00:00, 328.46it/s]\u001b[A\n",
      " 39%|███████████████▋                        | 77/197 [00:00<00:00, 307.69it/s]\u001b[A\n",
      "100%|████████████████████████████████████████████| 1/1 [00:00<00:00,  2.35it/s]\u001b[A\n",
      "\n"
     ]
    },
    {
     "name": "stdout",
     "output_type": "stream",
     "text": [
      "Total files processed: 1\n"
     ]
    },
    {
     "name": "stderr",
     "output_type": "stream",
     "text": [
      "100%|████████████████████████████████████████████| 1/1 [00:00<00:00,  4.33it/s]\u001b[A\n",
      "/w/hallb-scshelf2102/clas12/users/gmat/clas12/neutneut/analysis/neutron_ml/../../src/TrainData.py:84: FutureWarning: The default of observed=False is deprecated and will be changed to True in a future version of pandas. Pass observed=False to retain current behavior or observed=True to adopt the future default and silence this warning.\n",
      "  group_sizes = df.groupby(group_cols).size()\n",
      "100%|████████████████████████████████████████████| 1/1 [00:00<00:00,  4.63it/s]\u001b[A\n",
      " 39%|███████████████▌                        | 76/196 [00:00<00:00, 336.95it/s]\u001b[A\n",
      "  0%|                                                  | 0/199 [00:00<?, ?it/s]\u001b[A\n",
      "100%|████████████████████████████████████████████| 1/1 [00:00<00:00,  2.83it/s]\u001b[A\n",
      "\n"
     ]
    },
    {
     "name": "stdout",
     "output_type": "stream",
     "text": [
      "Total files processed: 1"
     ]
    },
    {
     "name": "stderr",
     "output_type": "stream",
     "text": [
      "100%|████████████████████████████████████████████| 1/1 [00:00<00:00,  5.83it/s]"
     ]
    },
    {
     "name": "stdout",
     "output_type": "stream",
     "text": [
      "\n"
     ]
    },
    {
     "name": "stderr",
     "output_type": "stream",
     "text": [
      "\u001b[A\n",
      "/w/hallb-scshelf2102/clas12/users/gmat/clas12/neutneut/analysis/neutron_ml/../../src/TrainData.py:84: FutureWarning: The default of observed=False is deprecated and will be changed to True in a future version of pandas. Pass observed=False to retain current behavior or observed=True to adopt the future default and silence this warning.\n",
      "  group_sizes = df.groupby(group_cols).size()\n",
      "100%|████████████████████████████████████████████| 1/1 [00:00<00:00,  4.86it/s]\u001b[A\n",
      "100%|████████████████████████████████████████████| 1/1 [00:00<00:00,  4.77it/s]\u001b[A\n",
      "  0%|                                                    | 0/1 [00:00<?, ?it/s]\u001b[A\n",
      " 19%|███████▋                                | 37/194 [00:00<00:00, 367.13it/s]\u001b[A\n",
      " 20%|███████▉                                | 39/197 [00:00<00:00, 386.93it/s]\u001b[A\n",
      " 74%|████████████████████████████▊          | 145/196 [00:00<00:00, 248.90it/s]\u001b[A\n",
      " 64%|████████████████████████▊              | 126/198 [00:00<00:00, 242.55it/s]\u001b[A\n",
      " 39%|███████████████▌                        | 76/195 [00:00<00:00, 305.98it/s]\u001b[A\n",
      "  0%|                                                  | 0/199 [00:00<?, ?it/s]\u001b[A\n",
      "100%|████████████████████████████████████████████| 1/1 [00:00<00:00,  3.52it/s]\u001b[A\n",
      "\n"
     ]
    },
    {
     "name": "stdout",
     "output_type": "stream",
     "text": [
      "Total files processed: 1\n"
     ]
    },
    {
     "name": "stderr",
     "output_type": "stream",
     "text": [
      " 22%|████████▋                               | 43/198 [00:00<00:00, 428.91it/s]\u001b[A\n",
      "/w/hallb-scshelf2102/clas12/users/gmat/clas12/neutneut/analysis/neutron_ml/../../src/TrainData.py:84: FutureWarning: The default of observed=False is deprecated and will be changed to True in a future version of pandas. Pass observed=False to retain current behavior or observed=True to adopt the future default and silence this warning.\n",
      "  group_sizes = df.groupby(group_cols).size()\n",
      "Processing CSV files:  63%|███████████▎      | 315/500 [00:19<00:06, 28.44it/s]\u001b[A\n",
      "  0%|                                                  | 0/197 [00:00<?, ?it/s]\u001b[A\n",
      " 36%|██████████████▏                         | 70/197 [00:00<00:00, 286.94it/s]\u001b[A\n",
      " 34%|█████████████▍                          | 66/197 [00:00<00:00, 295.20it/s]\u001b[A\n",
      " 21%|████████▎                               | 41/196 [00:00<00:00, 405.48it/s]\u001b[A\n",
      "  0%|                                                  | 0/197 [00:00<?, ?it/s]\u001b[A\n",
      "  0%|                                                  | 0/197 [00:00<?, ?it/s]\u001b[A\n",
      " 21%|████████▍                               | 42/199 [00:00<00:00, 414.62it/s]\u001b[A\n",
      " 21%|████████▎                               | 41/196 [00:00<00:00, 404.42it/s]\u001b[A\n",
      "100%|████████████████████████████████████████████| 1/1 [00:00<00:00,  2.24it/s]\u001b[A\n",
      "100%|████████████████████████████████████████████| 1/1 [00:00<00:00,  2.31it/s]\n"
     ]
    },
    {
     "name": "stdout",
     "output_type": "stream",
     "text": [
      "Total files processed: 1"
     ]
    },
    {
     "name": "stderr",
     "output_type": "stream",
     "text": [
      "\n",
      "  0%|                                                    | 0/1 [00:00<?, ?it/s]\u001b[A"
     ]
    },
    {
     "name": "stdout",
     "output_type": "stream",
     "text": [
      "\n"
     ]
    },
    {
     "name": "stderr",
     "output_type": "stream",
     "text": [
      "\n",
      "  0%|                                                    | 0/1 [00:00<?, ?it/s]/w/hallb-scshelf2102/clas12/users/gmat/clas12/neutneut/analysis/neutron_ml/../../src/TrainData.py:84: FutureWarning: The default of observed=False is deprecated and will be changed to True in a future version of pandas. Pass observed=False to retain current behavior or observed=True to adopt the future default and silence this warning.\n",
      "  group_sizes = df.groupby(group_cols).size()\n",
      "\u001b[A"
     ]
    },
    {
     "name": "stdout",
     "output_type": "stream",
     "text": [
      "Total files processed: 1\n"
     ]
    },
    {
     "name": "stderr",
     "output_type": "stream",
     "text": [
      "/w/hallb-scshelf2102/clas12/users/gmat/clas12/neutneut/analysis/neutron_ml/../../src/TrainData.py:84: FutureWarning: The default of observed=False is deprecated and will be changed to True in a future version of pandas. Pass observed=False to retain current behavior or observed=True to adopt the future default and silence this warning.\n",
      "  group_sizes = df.groupby(group_cols).size()\n",
      "100%|████████████████████████████████████████████| 1/1 [00:00<00:00,  2.37it/s]\n"
     ]
    },
    {
     "name": "stdout",
     "output_type": "stream",
     "text": [
      "Total files processed: 1"
     ]
    },
    {
     "name": "stderr",
     "output_type": "stream",
     "text": [
      "100%|████████████████████████████████████████████| 1/1 [00:00<00:00,  2.26it/s]"
     ]
    },
    {
     "name": "stdout",
     "output_type": "stream",
     "text": [
      "\n"
     ]
    },
    {
     "name": "stderr",
     "output_type": "stream",
     "text": [
      "\n",
      "\n",
      "/w/hallb-scshelf2102/clas12/users/gmat/clas12/neutneut/analysis/neutron_ml/../../src/TrainData.py:84: FutureWarning: The default of observed=False is deprecated and will be changed to True in a future version of pandas. Pass observed=False to retain current behavior or observed=True to adopt the future default and silence this warning.\n",
      "  group_sizes = df.groupby(group_cols).size()\n"
     ]
    },
    {
     "name": "stdout",
     "output_type": "stream",
     "text": [
      "Total files processed: 1"
     ]
    },
    {
     "name": "stderr",
     "output_type": "stream",
     "text": [
      " 56%|█████████████████████▉                 | 110/196 [00:00<00:00, 295.41it/s]"
     ]
    },
    {
     "name": "stdout",
     "output_type": "stream",
     "text": [
      "\n"
     ]
    },
    {
     "name": "stderr",
     "output_type": "stream",
     "text": [
      "\u001b[A\n",
      "/w/hallb-scshelf2102/clas12/users/gmat/clas12/neutneut/analysis/neutron_ml/../../src/TrainData.py:84: FutureWarning: The default of observed=False is deprecated and will be changed to True in a future version of pandas. Pass observed=False to retain current behavior or observed=True to adopt the future default and silence this warning.\n",
      "  group_sizes = df.groupby(group_cols).size()\n",
      "100%|████████████████████████████████████████████| 1/1 [00:00<00:00,  5.50it/s]\u001b[A\n",
      " 21%|████████▏                               | 41/199 [00:00<00:00, 408.97it/s]\u001b[A\n",
      " 22%|████████▋                               | 43/197 [00:00<00:00, 428.97it/s]\u001b[A\n",
      "100%|████████████████████████████████████████████| 1/1 [00:00<00:00,  3.94it/s]\u001b[A\n",
      " 76%|█████████████████████████████▋         | 151/198 [00:00<00:00, 230.16it/s]\u001b[A\n",
      " 87%|██████████████████████████████████     | 171/196 [00:00<00:00, 231.74it/s]\u001b[A\n",
      " 69%|██████████████████████████▊            | 134/195 [00:00<00:00, 200.91it/s]\u001b[A\n",
      " 55%|█████████████████████▌                 | 108/195 [00:00<00:00, 271.20it/s]\u001b[A\n",
      " 38%|███████████████▎                        | 74/194 [00:00<00:00, 262.97it/s]\u001b[A\n",
      " 40%|███████████████▊                        | 78/197 [00:00<00:00, 281.64it/s]\u001b[A\n",
      "100%|████████████████████████████████████████████| 1/1 [00:00<00:00,  4.75it/s]\u001b[A\n",
      " 20%|███████▊                                | 39/199 [00:00<00:00, 386.50it/s]\u001b[A\n",
      "100%|████████████████████████████████████████████| 1/1 [00:00<00:00,  5.42it/s]\u001b[A\n",
      " 51%|███████████████████▊                   | 100/197 [00:00<00:00, 253.38it/s]\u001b[A\n",
      " 39%|███████████████▊                        | 78/198 [00:00<00:00, 316.26it/s]\u001b[A\n",
      " 49%|███████████████████▍                    | 96/197 [00:00<00:00, 253.28it/s]\u001b[A\n",
      " 43%|█████████████████▎                      | 86/198 [00:00<00:00, 324.11it/s]\u001b[A\n",
      "  0%|                                                  | 0/196 [00:00<?, ?it/s]\u001b[A\n",
      " 70%|███████████████████████████▎           | 138/197 [00:00<00:00, 243.27it/s]\u001b[A\n",
      "100%|████████████████████████████████████████████| 1/1 [00:00<00:00,  2.66it/s]\u001b[A\n",
      "\n",
      "100%|████████████████████████████████████████████| 1/1 [00:00<00:00,  5.61it/s]\u001b[A\n",
      " 42%|████████████████▋                       | 82/196 [00:00<00:00, 287.26it/s]"
     ]
    },
    {
     "name": "stdout",
     "output_type": "stream",
     "text": [
      "Total files processed: 1"
     ]
    },
    {
     "name": "stderr",
     "output_type": "stream",
     "text": [
      "\u001b[A\n",
      " 42%|████████████████▉                       | 84/199 [00:00<00:00, 288.24it/s]"
     ]
    },
    {
     "name": "stdout",
     "output_type": "stream",
     "text": [
      "\n"
     ]
    },
    {
     "name": "stderr",
     "output_type": "stream",
     "text": [
      "/w/hallb-scshelf2102/clas12/users/gmat/clas12/neutneut/analysis/neutron_ml/../../src/TrainData.py:84: FutureWarning: The default of observed=False is deprecated and will be changed to True in a future version of pandas. Pass observed=False to retain current behavior or observed=True to adopt the future default and silence this warning.\n",
      "  group_sizes = df.groupby(group_cols).size()\n",
      "\u001b[A\n",
      " 21%|████████▎                               | 41/197 [00:00<00:00, 403.34it/s]\u001b[A\n",
      " 23%|█████████▏                              | 45/197 [00:00<00:00, 448.34it/s]\u001b[A\n",
      "100%|████████████████████████████████████████████| 1/1 [00:00<00:00,  2.58it/s]\u001b[A\n",
      "\n"
     ]
    },
    {
     "name": "stdout",
     "output_type": "stream",
     "text": [
      "Total files processed: 1\n"
     ]
    },
    {
     "name": "stderr",
     "output_type": "stream",
     "text": [
      " 72%|████████████████████████████           | 141/196 [00:00<00:00, 227.96it/s]\u001b[A\n",
      "/w/hallb-scshelf2102/clas12/users/gmat/clas12/neutneut/analysis/neutron_ml/../../src/TrainData.py:84: FutureWarning: The default of observed=False is deprecated and will be changed to True in a future version of pandas. Pass observed=False to retain current behavior or observed=True to adopt the future default and silence this warning.\n",
      "  group_sizes = df.groupby(group_cols).size()\n",
      " 99%|██████████████████████████████████████▊| 195/196 [00:00<00:00, 200.03it/s]\u001b[A\n",
      " 79%|██████████████████████████████▉        | 155/195 [00:00<00:00, 172.96it/s]\u001b[A\n",
      " 70%|███████████████████████████▏           | 136/195 [00:00<00:00, 236.30it/s]\u001b[A\n",
      " 88%|██████████████████████████████████▍    | 175/198 [00:00<00:00, 193.02it/s]\u001b[A\n",
      "  0%|                                                  | 0/198 [00:00<?, ?it/s]\u001b[A\n",
      " 53%|████████████████████▋                  | 103/194 [00:00<00:00, 219.02it/s]\u001b[A\n",
      " 41%|████████████████▍                       | 82/199 [00:00<00:00, 260.19it/s]\u001b[A\n",
      " 64%|████████████████████████▉              | 126/197 [00:00<00:00, 235.96it/s]\u001b[A\n",
      " 55%|█████████████████████▍                 | 108/197 [00:00<00:00, 228.52it/s]\u001b[A\n",
      " 62%|████████████████████████▏              | 122/197 [00:00<00:00, 232.70it/s]\u001b[A\n",
      " 44%|█████████████████▍                      | 86/197 [00:00<00:00, 264.96it/s]\u001b[A\n",
      " 56%|█████████████████████▊                 | 111/198 [00:00<00:00, 278.54it/s]\u001b[A\n",
      "  0%|                                                  | 0/199 [00:00<?, ?it/s]\u001b[A\n",
      "  0%|                                                  | 0/194 [00:00<?, ?it/s]\u001b[A\n",
      " 39%|███████████████▋                        | 78/199 [00:00<00:00, 279.41it/s]\u001b[A\n",
      " 83%|████████████████████████████████▎      | 163/197 [00:00<00:00, 223.92it/s]\u001b[A\n",
      "100%|████████████████████████████████████████████| 1/1 [00:00<00:00,  5.38it/s]\u001b[A\n",
      "100%|████████████████████████████████████████████| 1/1 [00:00<00:00,  2.27it/s]\u001b[A\n",
      "\n"
     ]
    },
    {
     "name": "stdout",
     "output_type": "stream",
     "text": [
      "Total files processed: 1"
     ]
    },
    {
     "name": "stderr",
     "output_type": "stream",
     "text": [
      "100%|████████████████████████████████████████████| 1/1 [00:00<00:00,  5.63it/s]"
     ]
    },
    {
     "name": "stdout",
     "output_type": "stream",
     "text": [
      "\n"
     ]
    },
    {
     "name": "stderr",
     "output_type": "stream",
     "text": [
      "\u001b[A\n",
      "  0%|                                                  | 0/198 [00:00<?, ?it/s]/w/hallb-scshelf2102/clas12/users/gmat/clas12/neutneut/analysis/neutron_ml/../../src/TrainData.py:84: FutureWarning: The default of observed=False is deprecated and will be changed to True in a future version of pandas. Pass observed=False to retain current behavior or observed=True to adopt the future default and silence this warning.\n",
      "  group_sizes = df.groupby(group_cols).size()\n",
      "100%|████████████████████████████████████████████| 1/1 [00:00<00:00,  1.71it/s]\n",
      "\n"
     ]
    },
    {
     "name": "stdout",
     "output_type": "stream",
     "text": [
      "Total files processed: 1\n"
     ]
    },
    {
     "name": "stderr",
     "output_type": "stream",
     "text": [
      " 23%|█████████▏                              | 45/196 [00:00<00:00, 441.59it/s]\u001b[A/w/hallb-scshelf2102/clas12/users/gmat/clas12/neutneut/analysis/neutron_ml/../../src/TrainData.py:84: FutureWarning: The default of observed=False is deprecated and will be changed to True in a future version of pandas. Pass observed=False to retain current behavior or observed=True to adopt the future default and silence this warning.\n",
      "  group_sizes = df.groupby(group_cols).size()\n",
      "100%|████████████████████████████████████████████| 1/1 [00:00<00:00,  2.47it/s]\n"
     ]
    },
    {
     "name": "stdout",
     "output_type": "stream",
     "text": [
      "Total files processed: 1"
     ]
    },
    {
     "name": "stderr",
     "output_type": "stream",
     "text": [
      "\n"
     ]
    },
    {
     "name": "stdout",
     "output_type": "stream",
     "text": [
      "\n"
     ]
    },
    {
     "name": "stderr",
     "output_type": "stream",
     "text": [
      " 42%|████████████████▋                       | 82/197 [00:00<00:00, 287.56it/s]\u001b[A/w/hallb-scshelf2102/clas12/users/gmat/clas12/neutneut/analysis/neutron_ml/../../src/TrainData.py:84: FutureWarning: The default of observed=False is deprecated and will be changed to True in a future version of pandas. Pass observed=False to retain current behavior or observed=True to adopt the future default and silence this warning.\n",
      "  group_sizes = df.groupby(group_cols).size()\n",
      "\n",
      " 58%|██████████████████████▋                | 116/199 [00:00<00:00, 247.07it/s]\u001b[A\n",
      " 57%|██████████████████████▎                | 112/196 [00:00<00:00, 230.77it/s]\u001b[A\n",
      " 89%|██████████████████████████████████▌    | 173/195 [00:00<00:00, 164.13it/s]\u001b[A\n",
      "  0%|                                                  | 0/195 [00:00<?, ?it/s]\u001b[A\n",
      " 42%|████████████████▋                       | 82/197 [00:00<00:00, 278.14it/s]\u001b[A\n",
      " 46%|██████████████████▎                     | 90/197 [00:00<00:00, 309.11it/s]\u001b[A\n",
      " 85%|█████████████████████████████████      | 166/196 [00:00<00:00, 209.65it/s]\u001b[A\n",
      " 99%|██████████████████████████████████████▌| 196/198 [00:00<00:00, 182.93it/s]\u001b[A\n",
      "  0%|                                                  | 0/198 [00:00<?, ?it/s]\u001b[A\n",
      " 83%|████████████████████████████████▏      | 161/195 [00:00<00:00, 213.38it/s]\u001b[A\n",
      " 65%|█████████████████████████▌             | 127/194 [00:00<00:00, 209.56it/s]\u001b[A\n",
      " 56%|█████████████████████▉                 | 112/199 [00:00<00:00, 245.94it/s]\u001b[A\n",
      "100%|███████████████████████████████████████| 196/196 [00:01<00:00, 181.62it/s]\u001b[A\n",
      "\n",
      " 58%|██████████████████████▍                | 113/196 [00:00<00:00, 246.98it/s]\u001b[A\n",
      " 68%|██████████████████████████▎            | 133/197 [00:00<00:00, 207.78it/s]\u001b[A\n",
      " 74%|████████████████████████████▉          | 146/197 [00:00<00:00, 208.75it/s]\u001b[A\n",
      " 94%|████████████████████████████████████▊  | 186/197 [00:00<00:00, 210.77it/s]\u001b[A\n",
      " 71%|███████████████████████████▌           | 140/198 [00:00<00:00, 241.56it/s]\u001b[A\n",
      " 59%|██████████████████████▉                | 116/197 [00:00<00:00, 233.44it/s]\u001b[A\n",
      " 21%|████████▎                               | 41/198 [00:00<00:00, 403.07it/s]\u001b[A\n",
      " 54%|█████████████████████▏                 | 108/199 [00:00<00:00, 235.36it/s]\u001b[A\n",
      "100%|███████████████████████████████████████| 198/198 [00:01<00:00, 184.54it/s]\u001b[A\n",
      "100%|████████████████████████████████████████████| 1/1 [00:00<00:00,  2.40it/s]\n",
      "\n"
     ]
    },
    {
     "name": "stdout",
     "output_type": "stream",
     "text": [
      "Total files processed: 1"
     ]
    },
    {
     "name": "stderr",
     "output_type": "stream",
     "text": [
      " 21%|████████▍                               | 42/199 [00:00<00:00, 419.20it/s]"
     ]
    },
    {
     "name": "stdout",
     "output_type": "stream",
     "text": [
      "\n"
     ]
    },
    {
     "name": "stderr",
     "output_type": "stream",
     "text": [
      "\u001b[A\n",
      "/w/hallb-scshelf2102/clas12/users/gmat/clas12/neutneut/analysis/neutron_ml/../../src/TrainData.py:84: FutureWarning: The default of observed=False is deprecated and will be changed to True in a future version of pandas. Pass observed=False to retain current behavior or observed=True to adopt the future default and silence this warning.\n",
      "  group_sizes = df.groupby(group_cols).size()\n",
      "  0%|                                                  | 0/197 [00:00<?, ?it/s]\n",
      "\u001b[A\n",
      " 22%|████████▊                               | 43/194 [00:00<00:00, 422.15it/s]\u001b[A\n",
      "100%|████████████████████████████████████████████| 1/1 [00:00<00:00,  2.38it/s]\u001b[A"
     ]
    },
    {
     "name": "stdout",
     "output_type": "stream",
     "text": [
      "Total files processed: 1\n"
     ]
    },
    {
     "name": "stderr",
     "output_type": "stream",
     "text": [
      "/w/hallb-scshelf2102/clas12/users/gmat/clas12/neutneut/analysis/neutron_ml/../../src/TrainData.py:84: FutureWarning: The default of observed=False is deprecated and will be changed to True in a future version of pandas. Pass observed=False to retain current behavior or observed=True to adopt the future default and silence this warning.\n",
      "  group_sizes = df.groupby(group_cols).size()\n",
      "\n",
      " 85%|█████████████████████████████████▎     | 168/197 [00:00<00:00, 185.55it/s]\u001b[A\n",
      " 72%|████████████████████████████           | 143/199 [00:00<00:00, 220.78it/s]\u001b[A\n",
      " 57%|██████████████████████▎                | 113/197 [00:00<00:00, 245.01it/s]\u001b[A\n",
      " 21%|████████▎                               | 41/198 [00:00<00:00, 409.29it/s]\u001b[A\n",
      " 96%|█████████████████████████████████████▌ | 189/196 [00:00<00:00, 197.12it/s]\u001b[A\n",
      " 57%|██████████████████████▎                | 113/197 [00:00<00:00, 248.57it/s]\u001b[A\n",
      " 46%|██████████████████▎                     | 90/196 [00:00<00:00, 293.01it/s]\u001b[A\n",
      " 94%|████████████████████████████████████▌  | 183/195 [00:00<00:00, 196.43it/s]\u001b[A\n",
      " 87%|██████████████████████████████████     | 172/197 [00:00<00:00, 202.13it/s]\u001b[A\n",
      " 77%|█████████████████████████████▉         | 149/194 [00:00<00:00, 191.74it/s]\u001b[A\n",
      "  0%|                                                  | 0/198 [00:00<?, ?it/s]\u001b[A\n",
      " 63%|████████████████████████▌              | 124/197 [00:00<00:00, 263.19it/s]\u001b[A\n",
      " 70%|███████████████████████████▏           | 139/199 [00:00<00:00, 228.98it/s]\u001b[A\n",
      " 22%|████████▌                               | 42/195 [00:00<00:00, 413.17it/s]\u001b[A\n",
      " 79%|██████████████████████████████▋        | 155/197 [00:00<00:00, 191.33it/s]\u001b[A\n",
      " 71%|███████████████████████████▋           | 139/196 [00:00<00:00, 185.90it/s]\u001b[A\n",
      " 70%|███████████████████████████▎           | 137/196 [00:00<00:00, 214.25it/s]\u001b[A\n",
      " 24%|█████████▍                              | 47/198 [00:00<00:00, 464.55it/s]\u001b[A\n",
      " 72%|████████████████████████████           | 142/197 [00:00<00:00, 209.50it/s]\u001b[A\n",
      " 83%|████████████████████████████████▌      | 165/198 [00:00<00:00, 210.73it/s]\u001b[A\n",
      " 67%|██████████████████████████             | 133/199 [00:00<00:00, 214.36it/s]\u001b[A\n",
      " 88%|██████████████████████████████████▎    | 174/198 [00:00<00:00, 222.76it/s]\u001b[A\n",
      " 41%|████████████████▌                       | 82/198 [00:00<00:00, 266.20it/s]\u001b[A\n",
      " 83%|████████████████████████████████▌      | 166/199 [00:00<00:00, 204.25it/s]\u001b[A\n",
      " 42%|████████████████▉                       | 84/199 [00:00<00:00, 298.68it/s]\u001b[A\n",
      " 71%|███████████████████████████▌           | 139/197 [00:00<00:00, 220.34it/s]\u001b[A\n",
      "  0%|                                                  | 0/198 [00:00<?, ?it/s]\u001b[A\n",
      "100%|███████████████████████████████████████| 197/197 [00:01<00:00, 185.26it/s]\u001b[A\n",
      "\n",
      " 23%|█████████▎                              | 46/197 [00:00<00:00, 457.10it/s]\u001b[A\n",
      " 98%|██████████████████████████████████████▏| 193/197 [00:00<00:00, 190.46it/s]\u001b[A\n",
      "100%|███████████████████████████████████████| 195/195 [00:01<00:00, 150.48it/s]\u001b[A\n",
      "\n",
      " 71%|███████████████████████████▋           | 140/197 [00:00<00:00, 223.11it/s]\u001b[A\n",
      " 44%|█████████████████▋                      | 86/194 [00:00<00:00, 284.98it/s]\u001b[A\n",
      " 63%|████████████████████████▍              | 123/196 [00:00<00:00, 258.03it/s]\u001b[A\n",
      " 77%|██████████████████████████████         | 152/197 [00:00<00:00, 232.79it/s]\u001b[A\n",
      " 41%|████████████████▌                       | 82/198 [00:00<00:00, 276.73it/s]\u001b[A\n",
      "100%|███████████████████████████████████████| 196/196 [00:01<00:00, 181.02it/s]\u001b[A\n",
      "\n",
      " 82%|███████████████████████████████▊       | 160/196 [00:00<00:00, 174.04it/s]\u001b[A\n",
      " 89%|██████████████████████████████████▋    | 175/197 [00:00<00:00, 173.71it/s]\u001b[A\n",
      "100%|███████████████████████████████████████| 195/195 [00:01<00:00, 178.80it/s]\u001b[A\n",
      "100%|███████████████████████████████████████| 197/197 [00:01<00:00, 192.21it/s]\n",
      "\n",
      "  0%|                                                  | 0/198 [00:00<?, ?it/s]\u001b[A\n",
      " 22%|████████▋                               | 43/198 [00:00<00:00, 420.98it/s]\u001b[A\n",
      " 43%|█████████████████▏                      | 84/195 [00:00<00:00, 273.20it/s]\u001b[A\n",
      " 83%|████████████████████████████████▍      | 164/197 [00:00<00:00, 185.83it/s]\u001b[A\n",
      " 94%|████████████████████████████████████▊  | 187/198 [00:00<00:00, 186.30it/s]\u001b[A\n",
      " 99%|██████████████████████████████████████▊| 197/198 [00:00<00:00, 196.71it/s]\u001b[A\n",
      " 78%|██████████████████████████████▌        | 156/199 [00:00<00:00, 188.19it/s]\u001b[A\n",
      " 94%|████████████████████████████████████▋  | 187/199 [00:00<00:00, 195.99it/s]\u001b[A\n",
      " 47%|██████████████████▉                     | 94/198 [00:00<00:00, 312.12it/s]\u001b[A\n",
      " 82%|████████████████████████████████       | 162/197 [00:00<00:00, 212.04it/s]\u001b[A\n",
      " 57%|██████████████████████                 | 112/198 [00:00<00:00, 245.40it/s]\u001b[A\n",
      "  0%|                                                  | 0/198 [00:00<?, ?it/s]\u001b[A\n",
      " 58%|██████████████████████▋                | 116/199 [00:00<00:00, 271.75it/s]\u001b[A\n",
      " 97%|█████████████████████████████████████▊ | 188/194 [00:01<00:00, 169.29it/s]\u001b[A\n",
      " 83%|████████████████████████████████▍      | 164/197 [00:00<00:00, 202.06it/s]\u001b[A\n",
      " 91%|███████████████████████████████████▌   | 179/196 [00:00<00:00, 167.98it/s]\u001b[A\n",
      " 22%|████████▉                               | 44/198 [00:00<00:00, 436.87it/s]\u001b[A\n",
      " 21%|████████▍                               | 42/198 [00:00<00:00, 414.65it/s]\u001b[A\n",
      "  0%|                                                  | 0/194 [00:00<?, ?it/s]\u001b[A\n",
      " 91%|███████████████████████████████████▌   | 179/196 [00:00<00:00, 169.50it/s]\u001b[A\n",
      " 57%|██████████████████████▎                | 113/198 [00:00<00:00, 260.32it/s]\u001b[A\n",
      " 77%|██████████████████████████████         | 151/196 [00:00<00:00, 231.85it/s]\u001b[A\n",
      " 90%|███████████████████████████████████    | 177/197 [00:00<00:00, 214.27it/s]\u001b[A\n",
      "  0%|                                                    | 0/1 [00:00<?, ?it/s]\u001b[A\n",
      " 61%|███████████████████████▋               | 118/194 [00:00<00:00, 240.37it/s]\u001b[A\n",
      "100%|███████████████████████████████████████| 197/197 [00:01<00:00, 168.46it/s]\u001b[A\n",
      "\n",
      " 47%|██████████████████▋                     | 92/197 [00:00<00:00, 302.12it/s]\u001b[A\n",
      " 92%|████████████████████████████████████   | 184/199 [00:00<00:00, 175.61it/s]\u001b[A\n",
      " 93%|████████████████████████████████████▍  | 184/197 [00:00<00:00, 178.92it/s]\u001b[A\n",
      " 88%|██████████████████████████████████▍    | 176/199 [00:00<00:00, 175.73it/s]\u001b[A\n",
      "Processing CSV files:  64%|███████████▍      | 319/500 [00:20<00:17, 10.09it/s]\u001b[A\n",
      "  0%|                                                    | 0/1 [00:00<?, ?it/s]\u001b[A\n",
      " 93%|████████████████████████████████████▍  | 184/197 [00:00<00:00, 189.74it/s]\u001b[A\n",
      " 70%|███████████████████████████▏           | 138/198 [00:00<00:00, 214.75it/s]\u001b[A\n",
      " 43%|█████████████████▎                      | 86/198 [00:00<00:00, 272.93it/s]\u001b[A\n",
      " 23%|█████████                               | 45/198 [00:00<00:00, 442.27it/s]\u001b[A\n",
      " 94%|████████████████████████████████████▌  | 185/197 [00:00<00:00, 197.65it/s]\u001b[A\n",
      " 73%|████████████████████████████▍          | 145/199 [00:00<00:00, 235.89it/s]\u001b[A\n",
      "100%|███████████████████████████████████████| 198/198 [00:01<00:00, 180.14it/s]\u001b[A\n",
      "100%|███████████████████████████████████████| 198/198 [00:01<00:00, 181.01it/s]\n",
      "100%|███████████████████████████████████████| 199/199 [00:01<00:00, 182.56it/s]\n",
      "100%|███████████████████████████████████████| 197/197 [00:00<00:00, 210.50it/s]\n",
      "\n",
      " 20%|███████▉                                | 39/198 [00:00<00:00, 388.35it/s]\u001b[A\n",
      "100%|███████████████████████████████████████| 199/199 [00:01<00:00, 187.20it/s]\u001b[A\n",
      "\n",
      " 90%|███████████████████████████████████    | 176/196 [00:00<00:00, 202.49it/s]\u001b[A\n",
      " 44%|█████████████████▊                      | 88/198 [00:00<00:00, 303.23it/s]\u001b[A\n",
      "100%|███████████████████████████████████████| 196/196 [00:01<00:00, 172.42it/s]\u001b[A\n",
      "100%|███████████████████████████████████████| 196/196 [00:01<00:00, 172.92it/s]\n",
      "\n",
      " 74%|████████████████████████████▉          | 144/194 [00:00<00:00, 206.97it/s]\u001b[A\u001b[A\n",
      " 22%|████████▊                               | 43/194 [00:00<00:00, 424.49it/s]\u001b[A\n",
      "100%|███████████████████████████████████████| 194/194 [00:01<00:00, 157.25it/s]\n",
      "\n",
      "100%|███████████████████████████████████████| 197/197 [00:01<00:00, 157.01it/s]\u001b[A\n",
      "\n",
      " 72%|████████████████████████████▏          | 141/195 [00:00<00:00, 227.98it/s]\u001b[A\n",
      "100%|███████████████████████████████████████| 197/197 [00:01<00:00, 192.39it/s]\u001b[A\n",
      "\n",
      "100%|███████████████████████████████████████| 197/197 [00:01<00:00, 171.25it/s]\u001b[A\n",
      "\n",
      "  0%|                                                    | 0/1 [00:00<?, ?it/s]\u001b[A\n",
      " 85%|█████████████████████████████████▎     | 170/199 [00:00<00:00, 227.07it/s]\u001b[A\n",
      " 59%|███████████████████████                | 117/198 [00:00<00:00, 253.28it/s]\u001b[A\n",
      " 79%|██████████████████████████████▉        | 157/198 [00:00<00:00, 247.00it/s]\u001b[A\n",
      "  0%|                                                    | 0/1 [00:00<?, ?it/s]\u001b[A\n",
      " 45%|██████████████████▏                     | 90/198 [00:00<00:00, 319.96it/s]\u001b[A\n",
      " 71%|███████████████████████████▊           | 141/198 [00:00<00:00, 227.33it/s]\u001b[A\n",
      "100%|███████████████████████████████████████| 197/197 [00:01<00:00, 179.74it/s]\u001b[A\n",
      "\n",
      " 59%|██████████████████████▊                | 116/198 [00:00<00:00, 277.28it/s]\u001b[A\n",
      " 61%|███████████████████████▊               | 121/198 [00:00<00:00, 278.60it/s]\u001b[A\n",
      "100%|████████████████████████████████████████████| 1/1 [00:00<00:00,  5.99it/s]\u001b[A\n",
      "100%|███████████████████████████████████████| 199/199 [00:01<00:00, 167.30it/s]\u001b[A\n",
      "\n",
      " 85%|█████████████████████████████████      | 165/195 [00:00<00:00, 199.27it/s]\u001b[A\n",
      "100%|███████████████████████████████████████| 196/196 [00:00<00:00, 196.93it/s]\u001b[A\n",
      "\n",
      " 92%|████████████████████████████████████   | 183/198 [00:00<00:00, 188.07it/s]\u001b[A\n",
      " 78%|██████████████████████████████▎        | 153/197 [00:00<00:00, 216.03it/s]\u001b[A\n",
      " 86%|█████████████████████████████████▎     | 166/194 [00:00<00:00, 202.07it/s]\u001b[A\n",
      "  0%|                                                    | 0/1 [00:00<?, ?it/s]\u001b[A\n",
      "100%|████████████████████████████████████████████| 1/1 [00:00<00:00,  8.83it/s]\u001b[A\n",
      "100%|████████████████████████████████████████████| 1/1 [00:00<00:00,  4.47it/s]\u001b[A\n",
      "100%|████████████████████████████████████████████| 1/1 [00:00<00:00,  3.44it/s]"
     ]
    },
    {
     "name": "stdout",
     "output_type": "stream",
     "text": [
      "Total files processed: 1"
     ]
    },
    {
     "name": "stderr",
     "output_type": "stream",
     "text": [
      "\n"
     ]
    },
    {
     "name": "stdout",
     "output_type": "stream",
     "text": [
      "\n",
      "Total files processed: 1\n"
     ]
    },
    {
     "name": "stderr",
     "output_type": "stream",
     "text": [
      "/w/hallb-scshelf2102/clas12/users/gmat/clas12/neutneut/analysis/neutron_ml/../../src/TrainData.py:84: FutureWarning: The default of observed=False is deprecated and will be changed to True in a future version of pandas. Pass observed=False to retain current behavior or observed=True to adopt the future default and silence this warning.\n",
      "  group_sizes = df.groupby(group_cols).size()\n",
      "\n",
      "/w/hallb-scshelf2102/clas12/users/gmat/clas12/neutneut/analysis/neutron_ml/../../src/TrainData.py:84: FutureWarning: The default of observed=False is deprecated and will be changed to True in a future version of pandas. Pass observed=False to retain current behavior or observed=True to adopt the future default and silence this warning.\n",
      "  group_sizes = df.groupby(group_cols).size()\n",
      "  0%|                                                    | 0/1 [00:00<?, ?it/s]\u001b[A\n",
      " 97%|██████████████████████████████████████ | 194/199 [00:00<00:00, 194.10it/s]\u001b[A\n",
      " 92%|████████████████████████████████████   | 183/198 [00:00<00:00, 204.35it/s]\u001b[A\n",
      " 73%|████████████████████████████▎          | 144/198 [00:00<00:00, 205.41it/s]\u001b[A\n",
      " 83%|████████████████████████████████▌      | 165/198 [00:00<00:00, 156.77it/s]\u001b[A\n",
      "  0%|                                                    | 0/1 [00:00<?, ?it/s]\u001b[A\n",
      "100%|████████████████████████████████████████████| 1/1 [00:00<00:00,  4.77it/s]\u001b[A\n",
      "\n"
     ]
    },
    {
     "name": "stdout",
     "output_type": "stream",
     "text": [
      "Total files processed: 1\n"
     ]
    },
    {
     "name": "stderr",
     "output_type": "stream",
     "text": [
      " 73%|████████████████████████████▌          | 145/198 [00:00<00:00, 245.27it/s]\u001b[A\n",
      " 63%|████████████████████████▍              | 124/198 [00:00<00:00, 258.35it/s]/w/hallb-scshelf2102/clas12/users/gmat/clas12/neutneut/analysis/neutron_ml/../../src/TrainData.py:84: FutureWarning: The default of observed=False is deprecated and will be changed to True in a future version of pandas. Pass observed=False to retain current behavior or observed=True to adopt the future default and silence this warning.\n",
      "  group_sizes = df.groupby(group_cols).size()\n",
      "100%|████████████████████████████████████████████| 1/1 [00:00<00:00,  2.67it/s]\n",
      "\n"
     ]
    },
    {
     "name": "stdout",
     "output_type": "stream",
     "text": [
      "Total files processed: 1\n"
     ]
    },
    {
     "name": "stderr",
     "output_type": "stream",
     "text": [
      " 57%|██████████████████████                 | 112/198 [00:00<00:00, 260.51it/s]\u001b[A\n",
      "/w/hallb-scshelf2102/clas12/users/gmat/clas12/neutneut/analysis/neutron_ml/../../src/TrainData.py:84: FutureWarning: The default of observed=False is deprecated and will be changed to True in a future version of pandas. Pass observed=False to retain current behavior or observed=True to adopt the future default and silence this warning.\n",
      "  group_sizes = df.groupby(group_cols).size()\n",
      " 76%|█████████████████████████████▋         | 151/198 [00:00<00:00, 245.50it/s]\u001b[A\n",
      "100%|███████████████████████████████████████| 198/198 [00:00<00:00, 200.60it/s]\u001b[A\n",
      "\n",
      " 89%|██████████████████████████████████▊    | 176/197 [00:00<00:00, 210.04it/s]\u001b[A\n",
      " 61%|███████████████████████▋               | 118/194 [00:00<00:00, 279.32it/s]\u001b[A\n",
      "Processing CSV files:  66%|███████████▊      | 328/500 [00:20<00:10, 15.78it/s]\u001b[A\n",
      "  0%|                                                    | 0/1 [00:00<?, ?it/s]\u001b[A\n",
      "  0%|                                                    | 0/1 [00:00<?, ?it/s]\u001b[A\n",
      "  0%|                                                    | 0/1 [00:00<?, ?it/s]\u001b[A\n",
      "100%|███████████████████████████████████████| 199/199 [00:00<00:00, 201.26it/s]\u001b[A\n",
      "\n",
      "100%|████████████████████████████████████████████| 1/1 [00:00<00:00,  5.49it/s]\u001b[A\n",
      "100%|███████████████████████████████████████| 195/195 [00:00<00:00, 210.74it/s]\u001b[A\n",
      "Processing CSV files:  66%|███████████▉      | 331/500 [00:20<00:10, 16.79it/s]\n",
      "  0%|                                                  | 0/196 [00:00<?, ?it/s]\u001b[A\n",
      "  0%|                                                  | 0/195 [00:00<?, ?it/s]\u001b[A\n",
      "  0%|                                                    | 0/1 [00:00<?, ?it/s]\u001b[A\n",
      "100%|████████████████████████████████████████████| 1/1 [00:00<00:00,  5.42it/s]\u001b[A\n",
      "  0%|                                                    | 0/1 [00:00<?, ?it/s]\u001b[A\n",
      "  0%|                                                    | 0/1 [00:00<?, ?it/s]\u001b[A\n",
      " 94%|████████████████████████████████████▊  | 187/198 [00:00<00:00, 169.61it/s]\u001b[A\n",
      " 86%|█████████████████████████████████▋     | 171/198 [00:00<00:00, 242.20it/s]\u001b[A\n",
      " 77%|█████████████████████████████▉         | 152/198 [00:00<00:00, 256.21it/s]\u001b[A\n",
      "100%|███████████████████████████████████████| 198/198 [00:00<00:00, 212.59it/s]\u001b[A\n",
      "100%|███████████████████████████████████████| 197/197 [00:00<00:00, 231.72it/s]\n",
      "\n",
      " 71%|███████████████████████████▌           | 140/198 [00:00<00:00, 250.11it/s]\u001b[A\n",
      "100%|████████████████████████████████████████████| 1/1 [00:00<00:00,  3.79it/s]\u001b[A\n",
      "100%|███████████████████████████████████████| 194/194 [00:01<00:00, 179.98it/s]"
     ]
    },
    {
     "name": "stdout",
     "output_type": "stream",
     "text": [
      "Total files processed: 1"
     ]
    },
    {
     "name": "stderr",
     "output_type": "stream",
     "text": [
      "\n"
     ]
    },
    {
     "name": "stdout",
     "output_type": "stream",
     "text": [
      "\n"
     ]
    },
    {
     "name": "stderr",
     "output_type": "stream",
     "text": [
      "100%|████████████████████████████████████████████| 1/1 [00:00<00:00,  3.32it/s]/w/hallb-scshelf2102/clas12/users/gmat/clas12/neutneut/analysis/neutron_ml/../../src/TrainData.py:84: FutureWarning: The default of observed=False is deprecated and will be changed to True in a future version of pandas. Pass observed=False to retain current behavior or observed=True to adopt the future default and silence this warning.\n",
      "  group_sizes = df.groupby(group_cols).size()\n",
      "\n",
      "\n"
     ]
    },
    {
     "name": "stdout",
     "output_type": "stream",
     "text": [
      "Total files processed: 1"
     ]
    },
    {
     "name": "stderr",
     "output_type": "stream",
     "text": [
      "  0%|                                                    | 0/1 [00:00<?, ?it/s]"
     ]
    },
    {
     "name": "stdout",
     "output_type": "stream",
     "text": [
      "\n"
     ]
    },
    {
     "name": "stderr",
     "output_type": "stream",
     "text": [
      "\u001b[A/w/hallb-scshelf2102/clas12/users/gmat/clas12/neutneut/analysis/neutron_ml/../../src/TrainData.py:84: FutureWarning: The default of observed=False is deprecated and will be changed to True in a future version of pandas. Pass observed=False to retain current behavior or observed=True to adopt the future default and silence this warning.\n",
      "  group_sizes = df.groupby(group_cols).size()\n",
      "\n",
      "  0%|                                                    | 0/1 [00:00<?, ?it/s]\u001b[A\n",
      "  0%|                                                  | 0/196 [00:00<?, ?it/s]\u001b[A\n",
      " 89%|██████████████████████████████████▊    | 177/198 [00:00<00:00, 243.86it/s]\u001b[A\n",
      " 76%|█████████████████████████████▌         | 147/194 [00:00<00:00, 272.77it/s]\u001b[A\n",
      " 99%|██████████████████████████████████████▊| 197/198 [00:00<00:00, 234.37it/s]\u001b[A\n",
      "100%|████████████████████████████████████████████| 1/1 [00:00<00:00,  5.12it/s]\u001b[A\n",
      "100%|████████████████████████████████████████████| 1/1 [00:00<00:00,  5.46it/s]\u001b[A\n",
      "  0%|                                                  | 0/197 [00:00<?, ?it/s]\u001b[A\n",
      " 91%|███████████████████████████████████▋   | 181/198 [00:00<00:00, 264.33it/s]\u001b[A\n",
      " 20%|███████▉                                | 39/196 [00:00<00:00, 387.72it/s]\u001b[A\n",
      " 20%|████████                                | 39/195 [00:00<00:00, 385.38it/s]\u001b[A\n",
      "100%|████████████████████████████████████████████| 1/1 [00:00<00:00,  5.29it/s]\u001b[A\n",
      "100%|███████████████████████████████████████| 198/198 [00:01<00:00, 171.10it/s]\u001b[A\n",
      "100%|████████████████████████████████████████████| 1/1 [00:00<00:00,  3.14it/s]\n"
     ]
    },
    {
     "name": "stdout",
     "output_type": "stream",
     "text": [
      "Total files processed: 1\n"
     ]
    },
    {
     "name": "stderr",
     "output_type": "stream",
     "text": [
      "/w/hallb-scshelf2102/clas12/users/gmat/clas12/neutneut/analysis/neutron_ml/../../src/TrainData.py:84: FutureWarning: The default of observed=False is deprecated and will be changed to True in a future version of pandas. Pass observed=False to retain current behavior or observed=True to adopt the future default and silence this warning.\n",
      "  group_sizes = df.groupby(group_cols).size()\n",
      "\n",
      "100%|███████████████████████████████████████| 198/198 [00:00<00:00, 225.58it/s]\u001b[A\n",
      "\n",
      "  0%|                                                    | 0/1 [00:00<?, ?it/s]\u001b[A\n",
      "100%|███████████████████████████████████████| 198/198 [00:00<00:00, 220.47it/s]\u001b[A\n",
      "\n",
      " 90%|███████████████████████████████████▏   | 175/194 [00:00<00:00, 241.64it/s]\u001b[A\n",
      "100%|████████████████████████████████████████████| 1/1 [00:00<00:00,  4.70it/s]\u001b[A\n",
      "100%|████████████████████████████████████████████| 1/1 [00:00<00:00,  4.38it/s]\u001b[A\n",
      "100%|████████████████████████████████████████████| 1/1 [00:00<00:00,  2.83it/s]\u001b[A\n",
      "\n"
     ]
    },
    {
     "name": "stdout",
     "output_type": "stream",
     "text": [
      "Total files processed: 1\n"
     ]
    },
    {
     "name": "stderr",
     "output_type": "stream",
     "text": [
      "100%|████████████████████████████████████████████| 1/1 [00:00<00:00,  4.19it/s]\u001b[A\n",
      "/w/hallb-scshelf2102/clas12/users/gmat/clas12/neutneut/analysis/neutron_ml/../../src/TrainData.py:84: FutureWarning: The default of observed=False is deprecated and will be changed to True in a future version of pandas. Pass observed=False to retain current behavior or observed=True to adopt the future default and silence this warning.\n",
      "  group_sizes = df.groupby(group_cols).size()\n",
      " 19%|███████▋                                | 38/197 [00:00<00:00, 378.17it/s]\u001b[A\n",
      "100%|████████████████████████████████████████████| 1/1 [00:00<00:00,  6.04it/s]\u001b[A\n",
      " 40%|███████████████▉                        | 78/196 [00:00<00:00, 327.70it/s]\u001b[A\n",
      "100%|███████████████████████████████████████| 198/198 [00:00<00:00, 241.73it/s]\u001b[A\n",
      "\n",
      "  0%|                                                  | 0/199 [00:00<?, ?it/s]\u001b[A\n",
      "100%|███████████████████████████████████████| 198/198 [00:01<00:00, 192.33it/s]\u001b[A\n",
      "\n",
      "100%|████████████████████████████████████████████| 1/1 [00:00<00:00,  4.39it/s]\u001b[A\n",
      "100%|████████████████████████████████████████████| 1/1 [00:00<00:00,  4.29it/s]\u001b[A\n",
      " 99%|██████████████████████████████████████▊| 197/198 [00:00<00:00, 238.31it/s]\u001b[A\n",
      "100%|████████████████████████████████████████████| 1/1 [00:00<00:00,  4.39it/s]\u001b[A\n",
      "100%|████████████████████████████████████████████| 1/1 [00:00<00:00,  2.67it/s]\u001b[A\n",
      "\n"
     ]
    },
    {
     "name": "stdout",
     "output_type": "stream",
     "text": [
      "Total files processed: 1"
     ]
    },
    {
     "name": "stderr",
     "output_type": "stream",
     "text": [
      "  0%|                                                    | 0/1 [00:00<?, ?it/s]"
     ]
    },
    {
     "name": "stdout",
     "output_type": "stream",
     "text": [
      "\n"
     ]
    },
    {
     "name": "stderr",
     "output_type": "stream",
     "text": [
      "\u001b[A/w/hallb-scshelf2102/clas12/users/gmat/clas12/neutneut/analysis/neutron_ml/../../src/TrainData.py:84: FutureWarning: The default of observed=False is deprecated and will be changed to True in a future version of pandas. Pass observed=False to retain current behavior or observed=True to adopt the future default and silence this warning.\n",
      "  group_sizes = df.groupby(group_cols).size()\n",
      "\n",
      "  0%|                                                    | 0/1 [00:00<?, ?it/s]\u001b[A\n",
      "Processing CSV files:  69%|████████████▎     | 343/500 [00:21<00:06, 25.83it/s]\u001b[A\n",
      "100%|████████████████████████████████████████████| 1/1 [00:00<00:00,  2.99it/s]\u001b[A\n"
     ]
    },
    {
     "name": "stdout",
     "output_type": "stream",
     "text": [
      "Total files processed: 1"
     ]
    },
    {
     "name": "stderr",
     "output_type": "stream",
     "text": [
      "100%|████████████████████████████████████████████| 1/1 [00:00<00:00,  2.93it/s]"
     ]
    },
    {
     "name": "stdout",
     "output_type": "stream",
     "text": [
      "\n"
     ]
    },
    {
     "name": "stderr",
     "output_type": "stream",
     "text": [
      "\n",
      "100%|████████████████████████████████████████████| 1/1 [00:00<00:00,  3.22it/s]"
     ]
    },
    {
     "name": "stdout",
     "output_type": "stream",
     "text": [
      "Total files processed: 1\n"
     ]
    },
    {
     "name": "stderr",
     "output_type": "stream",
     "text": [
      "\n",
      "/w/hallb-scshelf2102/clas12/users/gmat/clas12/neutneut/analysis/neutron_ml/../../src/TrainData.py:84: FutureWarning: The default of observed=False is deprecated and will be changed to True in a future version of pandas. Pass observed=False to retain current behavior or observed=True to adopt the future default and silence this warning.\n",
      "  group_sizes = df.groupby(group_cols).size()\n"
     ]
    },
    {
     "name": "stdout",
     "output_type": "stream",
     "text": [
      "Total files processed: 1"
     ]
    },
    {
     "name": "stderr",
     "output_type": "stream",
     "text": [
      "100%|███████████████████████████████████████| 194/194 [00:00<00:00, 242.20it/s]"
     ]
    },
    {
     "name": "stdout",
     "output_type": "stream",
     "text": [
      "\n"
     ]
    },
    {
     "name": "stderr",
     "output_type": "stream",
     "text": [
      "\n",
      "/w/hallb-scshelf2102/clas12/users/gmat/clas12/neutneut/analysis/neutron_ml/../../src/TrainData.py:84: FutureWarning: The default of observed=False is deprecated and will be changed to True in a future version of pandas. Pass observed=False to retain current behavior or observed=True to adopt the future default and silence this warning.\n",
      "  group_sizes = df.groupby(group_cols).size()\n",
      "/w/hallb-scshelf2102/clas12/users/gmat/clas12/neutneut/analysis/neutron_ml/../../src/TrainData.py:84: FutureWarning: The default of observed=False is deprecated and will be changed to True in a future version of pandas. Pass observed=False to retain current behavior or observed=True to adopt the future default and silence this warning.\n",
      "  group_sizes = df.groupby(group_cols).size()\n",
      "\n",
      "100%|████████████████████████████████████████████| 1/1 [00:00<00:00,  2.82it/s]\u001b[A\n"
     ]
    },
    {
     "name": "stdout",
     "output_type": "stream",
     "text": [
      "Total files processed: 1"
     ]
    },
    {
     "name": "stderr",
     "output_type": "stream",
     "text": [
      "100%|████████████████████████████████████████████| 1/1 [00:00<00:00,  3.28it/s]"
     ]
    },
    {
     "name": "stdout",
     "output_type": "stream",
     "text": [
      "\n"
     ]
    },
    {
     "name": "stderr",
     "output_type": "stream",
     "text": [
      "\n"
     ]
    },
    {
     "name": "stdout",
     "output_type": "stream",
     "text": [
      "Total files processed: 1"
     ]
    },
    {
     "name": "stderr",
     "output_type": "stream",
     "text": [
      "\n"
     ]
    },
    {
     "name": "stdout",
     "output_type": "stream",
     "text": [
      "\n"
     ]
    },
    {
     "name": "stderr",
     "output_type": "stream",
     "text": [
      "/w/hallb-scshelf2102/clas12/users/gmat/clas12/neutneut/analysis/neutron_ml/../../src/TrainData.py:84: FutureWarning: The default of observed=False is deprecated and will be changed to True in a future version of pandas. Pass observed=False to retain current behavior or observed=True to adopt the future default and silence this warning.\n",
      "  group_sizes = df.groupby(group_cols).size()\n",
      "100%|████████████████████████████████████████████| 1/1 [00:00<00:00,  2.19it/s]\u001b[A/w/hallb-scshelf2102/clas12/users/gmat/clas12/neutneut/analysis/neutron_ml/../../src/TrainData.py:84: FutureWarning: The default of observed=False is deprecated and will be changed to True in a future version of pandas. Pass observed=False to retain current behavior or observed=True to adopt the future default and silence this warning.\n",
      "  group_sizes = df.groupby(group_cols).size()\n",
      "\n"
     ]
    },
    {
     "name": "stdout",
     "output_type": "stream",
     "text": [
      "Total files processed: 1"
     ]
    },
    {
     "name": "stderr",
     "output_type": "stream",
     "text": [
      "100%|████████████████████████████████████████████| 1/1 [00:00<00:00,  2.76it/s]"
     ]
    },
    {
     "name": "stdout",
     "output_type": "stream",
     "text": [
      "\n"
     ]
    },
    {
     "name": "stderr",
     "output_type": "stream",
     "text": [
      "\n",
      "\n"
     ]
    },
    {
     "name": "stdout",
     "output_type": "stream",
     "text": [
      "Total files processed: 1\n"
     ]
    },
    {
     "name": "stderr",
     "output_type": "stream",
     "text": [
      "/w/hallb-scshelf2102/clas12/users/gmat/clas12/neutneut/analysis/neutron_ml/../../src/TrainData.py:84: FutureWarning: The default of observed=False is deprecated and will be changed to True in a future version of pandas. Pass observed=False to retain current behavior or observed=True to adopt the future default and silence this warning.\n",
      "  group_sizes = df.groupby(group_cols).size()\n",
      "100%|████████████████████████████████████████████| 1/1 [00:00<00:00,  5.23it/s]\u001b[A/w/hallb-scshelf2102/clas12/users/gmat/clas12/neutneut/analysis/neutron_ml/../../src/TrainData.py:84: FutureWarning: The default of observed=False is deprecated and will be changed to True in a future version of pandas. Pass observed=False to retain current behavior or observed=True to adopt the future default and silence this warning.\n",
      "  group_sizes = df.groupby(group_cols).size()\n",
      "\n",
      "  0%|                                                  | 0/196 [00:00<?, ?it/s]\u001b[A\n",
      " 39%|███████████████▍                        | 76/197 [00:00<00:00, 356.78it/s]\u001b[A\n",
      " 57%|██████████████████████▍                | 112/195 [00:00<00:00, 320.55it/s]\u001b[A\n",
      " 57%|██████████████████████▎                | 112/196 [00:00<00:00, 314.84it/s]\u001b[A\n",
      "100%|███████████████████████████████████████| 198/198 [00:00<00:00, 212.58it/s]\u001b[A\n",
      "100%|████████████████████████████████████████████| 1/1 [00:00<00:00,  2.53it/s]\n"
     ]
    },
    {
     "name": "stdout",
     "output_type": "stream",
     "text": [
      "Total files processed: 1"
     ]
    },
    {
     "name": "stderr",
     "output_type": "stream",
     "text": [
      "\n",
      " 21%|████████▍                               | 42/199 [00:00<00:00, 413.86it/s]"
     ]
    },
    {
     "name": "stdout",
     "output_type": "stream",
     "text": [
      "\n"
     ]
    },
    {
     "name": "stderr",
     "output_type": "stream",
     "text": [
      "\u001b[A\n",
      "  0%|                                                  | 0/197 [00:00<?, ?it/s]/w/hallb-scshelf2102/clas12/users/gmat/clas12/neutneut/analysis/neutron_ml/../../src/TrainData.py:84: FutureWarning: The default of observed=False is deprecated and will be changed to True in a future version of pandas. Pass observed=False to retain current behavior or observed=True to adopt the future default and silence this warning.\n",
      "  group_sizes = df.groupby(group_cols).size()\n",
      "\u001b[A\n",
      "100%|████████████████████████████████████████████| 1/1 [00:00<00:00,  2.33it/s]\u001b[A\n",
      "100%|████████████████████████████████████████████| 1/1 [00:00<00:00,  2.19it/s]"
     ]
    },
    {
     "name": "stdout",
     "output_type": "stream",
     "text": [
      "Total files processed: 1\n"
     ]
    },
    {
     "name": "stderr",
     "output_type": "stream",
     "text": [
      "/w/hallb-scshelf2102/clas12/users/gmat/clas12/neutneut/analysis/neutron_ml/../../src/TrainData.py:84: FutureWarning: The default of observed=False is deprecated and will be changed to True in a future version of pandas. Pass observed=False to retain current behavior or observed=True to adopt the future default and silence this warning.\n",
      "  group_sizes = df.groupby(group_cols).size()\n",
      "\n"
     ]
    },
    {
     "name": "stdout",
     "output_type": "stream",
     "text": [
      "Total files processed: 1\n"
     ]
    },
    {
     "name": "stderr",
     "output_type": "stream",
     "text": [
      "/w/hallb-scshelf2102/clas12/users/gmat/clas12/neutneut/analysis/neutron_ml/../../src/TrainData.py:84: FutureWarning: The default of observed=False is deprecated and will be changed to True in a future version of pandas. Pass observed=False to retain current behavior or observed=True to adopt the future default and silence this warning.\n",
      "  group_sizes = df.groupby(group_cols).size()\n",
      "\n",
      "100%|████████████████████████████████████████████| 1/1 [00:00<00:00,  5.20it/s]\u001b[A\n",
      "100%|████████████████████████████████████████████| 1/1 [00:00<00:00,  2.62it/s]\u001b[A\n",
      "Processing CSV files:  69%|████████████▍     | 347/500 [00:21<00:06, 25.08it/s]"
     ]
    },
    {
     "name": "stdout",
     "output_type": "stream",
     "text": [
      "Total files processed: 1"
     ]
    },
    {
     "name": "stderr",
     "output_type": "stream",
     "text": [
      "\n"
     ]
    },
    {
     "name": "stdout",
     "output_type": "stream",
     "text": [
      "\n"
     ]
    },
    {
     "name": "stderr",
     "output_type": "stream",
     "text": [
      "  0%|                                                  | 0/199 [00:00<?, ?it/s]\u001b[A/w/hallb-scshelf2102/clas12/users/gmat/clas12/neutneut/analysis/neutron_ml/../../src/TrainData.py:84: FutureWarning: The default of observed=False is deprecated and will be changed to True in a future version of pandas. Pass observed=False to retain current behavior or observed=True to adopt the future default and silence this warning.\n",
      "  group_sizes = df.groupby(group_cols).size()\n",
      "\n",
      "\n",
      "  0%|                                                  | 0/196 [00:00<?, ?it/s]\u001b[A\u001b[A\n",
      " 73%|████████████████████████████▋          | 144/196 [00:00<00:00, 265.54it/s]\u001b[A\n",
      "100%|████████████████████████████████████████████| 1/1 [00:00<00:00,  5.25it/s]\u001b[A\n",
      "100%|████████████████████████████████████████████| 1/1 [00:00<00:00,  3.46it/s]\u001b[A\n"
     ]
    },
    {
     "name": "stdout",
     "output_type": "stream",
     "text": [
      "Total files processed: 1"
     ]
    },
    {
     "name": "stderr",
     "output_type": "stream",
     "text": [
      "\n",
      "  0%|                                                  | 0/198 [00:00<?, ?it/s]"
     ]
    },
    {
     "name": "stdout",
     "output_type": "stream",
     "text": [
      "\n"
     ]
    },
    {
     "name": "stderr",
     "output_type": "stream",
     "text": [
      "\u001b[A/w/hallb-scshelf2102/clas12/users/gmat/clas12/neutneut/analysis/neutron_ml/../../src/TrainData.py:84: FutureWarning: The default of observed=False is deprecated and will be changed to True in a future version of pandas. Pass observed=False to retain current behavior or observed=True to adopt the future default and silence this warning.\n",
      "  group_sizes = df.groupby(group_cols).size()\n",
      "\n",
      "  0%|                                                  | 0/198 [00:00<?, ?it/s]\u001b[A\n",
      " 57%|██████████████████████▏                | 112/197 [00:00<00:00, 299.45it/s]\u001b[A\n",
      " 19%|███████▊                                | 38/196 [00:00<00:00, 375.46it/s]\u001b[A\n",
      "  0%|                                                  | 0/197 [00:00<?, ?it/s]\u001b[A\n",
      "100%|████████████████████████████████████████████| 1/1 [00:00<00:00,  5.35it/s]\u001b[A\n",
      "  0%|                                                  | 0/199 [00:00<?, ?it/s]\u001b[A\n",
      "100%|████████████████████████████████████████████| 1/1 [00:00<00:00,  4.57it/s]\u001b[A\n",
      " 19%|███████▋                                | 38/197 [00:00<00:00, 367.16it/s]\u001b[A\n",
      " 42%|████████████████▉                       | 84/199 [00:00<00:00, 300.42it/s]\u001b[A\n",
      "  0%|                                                  | 0/197 [00:00<?, ?it/s]\u001b[A\n",
      "100%|████████████████████████████████████████████| 1/1 [00:00<00:00,  4.23it/s]\u001b[A\n",
      "  0%|                                                  | 0/199 [00:00<?, ?it/s]\u001b[A\n",
      "100%|████████████████████████████████████████████| 1/1 [00:00<00:00,  4.63it/s]\u001b[A\n",
      "  0%|                                                    | 0/1 [00:00<?, ?it/s]\u001b[A\n",
      "100%|████████████████████████████████████████████| 1/1 [00:00<00:00,  3.04it/s]\u001b[A\n",
      "\n"
     ]
    },
    {
     "name": "stdout",
     "output_type": "stream",
     "text": [
      "Total files processed: 1"
     ]
    },
    {
     "name": "stderr",
     "output_type": "stream",
     "text": [
      " 90%|███████████████████████████████████    | 175/195 [00:00<00:00, 294.22it/s]"
     ]
    },
    {
     "name": "stdout",
     "output_type": "stream",
     "text": [
      "\n"
     ]
    },
    {
     "name": "stderr",
     "output_type": "stream",
     "text": [
      "\u001b[A\n",
      "  0%|                                                  | 0/197 [00:00<?, ?it/s]/w/hallb-scshelf2102/clas12/users/gmat/clas12/neutneut/analysis/neutron_ml/../../src/TrainData.py:84: FutureWarning: The default of observed=False is deprecated and will be changed to True in a future version of pandas. Pass observed=False to retain current behavior or observed=True to adopt the future default and silence this warning.\n",
      "  group_sizes = df.groupby(group_cols).size()\n",
      "100%|████████████████████████████████████████████| 1/1 [00:00<00:00,  1.82it/s]\n"
     ]
    },
    {
     "name": "stdout",
     "output_type": "stream",
     "text": [
      "Total files processed: 1"
     ]
    },
    {
     "name": "stderr",
     "output_type": "stream",
     "text": [
      "\n"
     ]
    },
    {
     "name": "stdout",
     "output_type": "stream",
     "text": [
      "\n"
     ]
    },
    {
     "name": "stderr",
     "output_type": "stream",
     "text": [
      "/w/hallb-scshelf2102/clas12/users/gmat/clas12/neutneut/analysis/neutron_ml/../../src/TrainData.py:84: FutureWarning: The default of observed=False is deprecated and will be changed to True in a future version of pandas. Pass observed=False to retain current behavior or observed=True to adopt the future default and silence this warning.\n",
      "  group_sizes = df.groupby(group_cols).size()\n",
      "  0%|                                                  | 0/198 [00:00<?, ?it/s]\u001b[A\n",
      " 24%|█████████▋                              | 48/199 [00:00<00:00, 476.42it/s]\u001b[A\n",
      " 21%|████████▌                               | 42/196 [00:00<00:00, 417.80it/s]\u001b[A\n",
      "  0%|                                                    | 0/1 [00:00<?, ?it/s]\u001b[A\n",
      "100%|████████████████████████████████████████████| 1/1 [00:00<00:00,  2.60it/s]\u001b[A\n",
      "\n"
     ]
    },
    {
     "name": "stdout",
     "output_type": "stream",
     "text": [
      "Total files processed: 1"
     ]
    },
    {
     "name": "stderr",
     "output_type": "stream",
     "text": [
      " 22%|████████▊                               | 44/199 [00:00<00:01, 137.49it/s]"
     ]
    },
    {
     "name": "stdout",
     "output_type": "stream",
     "text": [
      "\n"
     ]
    },
    {
     "name": "stderr",
     "output_type": "stream",
     "text": [
      "\u001b[A\n",
      "/w/hallb-scshelf2102/clas12/users/gmat/clas12/neutneut/analysis/neutron_ml/../../src/TrainData.py:84: FutureWarning: The default of observed=False is deprecated and will be changed to True in a future version of pandas. Pass observed=False to retain current behavior or observed=True to adopt the future default and silence this warning.\n",
      "  group_sizes = df.groupby(group_cols).size()\n",
      " 19%|███████▍                                | 37/198 [00:00<00:00, 366.89it/s]\u001b[A\n",
      " 21%|████████▎                               | 41/198 [00:00<00:00, 402.19it/s]\u001b[A\n",
      "100%|████████████████████████████████████████████| 1/1 [00:00<00:00,  2.25it/s]\u001b[A\n",
      "\n"
     ]
    },
    {
     "name": "stdout",
     "output_type": "stream",
     "text": [
      "Total files processed: 1"
     ]
    },
    {
     "name": "stderr",
     "output_type": "stream",
     "text": [
      "100%|████████████████████████████████████████████| 1/1 [00:00<00:00,  5.63it/s]\u001b[A"
     ]
    },
    {
     "name": "stdout",
     "output_type": "stream",
     "text": [
      "\n"
     ]
    },
    {
     "name": "stderr",
     "output_type": "stream",
     "text": [
      "\n",
      " 21%|████████▍                               | 42/199 [00:00<00:00, 413.28it/s]\u001b[A/w/hallb-scshelf2102/clas12/users/gmat/clas12/neutneut/analysis/neutron_ml/../../src/TrainData.py:84: FutureWarning: The default of observed=False is deprecated and will be changed to True in a future version of pandas. Pass observed=False to retain current behavior or observed=True to adopt the future default and silence this warning.\n",
      "  group_sizes = df.groupby(group_cols).size()\n",
      "\n",
      " 58%|██████████████████████▋                | 116/199 [00:00<00:00, 263.78it/s]\u001b[A\n",
      "100%|████████████████████████████████████████████| 1/1 [00:00<00:00,  2.36it/s]\u001b[A\n",
      "\n"
     ]
    },
    {
     "name": "stdout",
     "output_type": "stream",
     "text": [
      "Total files processed: 1"
     ]
    },
    {
     "name": "stderr",
     "output_type": "stream",
     "text": [
      "  0%|                                                  | 0/199 [00:00<?, ?it/s]"
     ]
    },
    {
     "name": "stdout",
     "output_type": "stream",
     "text": [
      "\n"
     ]
    },
    {
     "name": "stderr",
     "output_type": "stream",
     "text": [
      "\u001b[A\n",
      "/w/hallb-scshelf2102/clas12/users/gmat/clas12/neutneut/analysis/neutron_ml/../../src/TrainData.py:84: FutureWarning: The default of observed=False is deprecated and will be changed to True in a future version of pandas. Pass observed=False to retain current behavior or observed=True to adopt the future default and silence this warning.\n",
      "  group_sizes = df.groupby(group_cols).size()\n",
      " 21%|████████▏                               | 41/199 [00:00<00:00, 401.57it/s]\u001b[A\n",
      " 56%|█████████████████████▉                 | 110/196 [00:00<00:00, 157.46it/s]\u001b[A\n",
      "  0%|                                                    | 0/1 [00:00<?, ?it/s]\u001b[A\n",
      "100%|████████████████████████████████████████████| 1/1 [00:00<00:00,  2.31it/s]\u001b[A\n",
      "\n"
     ]
    },
    {
     "name": "stdout",
     "output_type": "stream",
     "text": [
      "Total files processed: 1\n"
     ]
    },
    {
     "name": "stderr",
     "output_type": "stream",
     "text": [
      " 20%|████████                                | 40/197 [00:00<00:00, 398.39it/s]\u001b[A\n",
      "/w/hallb-scshelf2102/clas12/users/gmat/clas12/neutneut/analysis/neutron_ml/../../src/TrainData.py:84: FutureWarning: The default of observed=False is deprecated and will be changed to True in a future version of pandas. Pass observed=False to retain current behavior or observed=True to adopt the future default and silence this warning.\n",
      "  group_sizes = df.groupby(group_cols).size()\n",
      "  0%|                                                    | 0/1 [00:00<?, ?it/s]\u001b[A\n",
      "  0%|                                                  | 0/199 [00:00<?, ?it/s]\u001b[A\n",
      " 22%|████████▋                               | 43/197 [00:00<00:00, 429.62it/s]\u001b[A\n",
      "100%|████████████████████████████████████████████| 1/1 [00:00<00:00,  3.07it/s]\u001b[A\n",
      "\n"
     ]
    },
    {
     "name": "stdout",
     "output_type": "stream",
     "text": [
      "Total files processed: 1\n"
     ]
    },
    {
     "name": "stderr",
     "output_type": "stream",
     "text": [
      " 29%|███████████▋                            | 58/199 [00:00<00:01, 135.03it/s]\u001b[A/w/hallb-scshelf2102/clas12/users/gmat/clas12/neutneut/analysis/neutron_ml/../../src/TrainData.py:84: FutureWarning: The default of observed=False is deprecated and will be changed to True in a future version of pandas. Pass observed=False to retain current behavior or observed=True to adopt the future default and silence this warning.\n",
      "  group_sizes = df.groupby(group_cols).size()\n",
      "\n",
      "100%|███████████████████████████████████████| 195/195 [00:00<00:00, 239.49it/s]\u001b[A\n",
      "\n",
      " 22%|████████▋                               | 43/197 [00:00<00:00, 425.00it/s]\u001b[A\n",
      "  0%|                                                    | 0/1 [00:00<?, ?it/s]\u001b[A\n",
      " 87%|██████████████████████████████████     | 172/197 [00:00<00:00, 242.41it/s]\u001b[A\n",
      " 23%|█████████▎                              | 46/198 [00:00<00:00, 456.28it/s]\u001b[A\n",
      " 37%|██████████████▉                         | 74/198 [00:00<00:00, 278.95it/s]\u001b[A\u001b[A\n",
      " 43%|█████████████████▏                      | 84/196 [00:00<00:00, 275.82it/s]\n",
      "100%|████████████████████████████████████████████| 1/1 [00:00<00:00,  2.33it/s]\u001b[A\n"
     ]
    },
    {
     "name": "stdout",
     "output_type": "stream",
     "text": [
      "Total files processed: 1"
     ]
    },
    {
     "name": "stderr",
     "output_type": "stream",
     "text": [
      "\n"
     ]
    },
    {
     "name": "stdout",
     "output_type": "stream",
     "text": [
      "\n"
     ]
    },
    {
     "name": "stderr",
     "output_type": "stream",
     "text": [
      "/w/hallb-scshelf2102/clas12/users/gmat/clas12/neutneut/analysis/neutron_ml/../../src/TrainData.py:84: FutureWarning: The default of observed=False is deprecated and will be changed to True in a future version of pandas. Pass observed=False to retain current behavior or observed=True to adopt the future default and silence this warning.\n",
      "  group_sizes = df.groupby(group_cols).size()\n",
      " 88%|██████████████████████████████████▏    | 172/196 [00:00<00:00, 171.81it/s]\u001b[A\n",
      " 72%|████████████████████████████▏          | 144/199 [00:00<00:00, 255.55it/s]\u001b[A\n",
      " 53%|████████████████████▊                  | 105/197 [00:00<00:00, 269.76it/s]\u001b[A\n",
      " 41%|████████████████▌                       | 82/198 [00:00<00:00, 287.96it/s]\u001b[A\n",
      "100%|████████████████████████████████████████████| 1/1 [00:00<00:00,  5.82it/s]\u001b[A\n",
      " 43%|█████████████████▎                      | 86/199 [00:00<00:00, 425.86it/s]\u001b[A\n",
      " 69%|██████████████████████████▊            | 135/196 [00:00<00:00, 168.08it/s]\u001b[A\n",
      "  0%|                                                  | 0/197 [00:00<?, ?it/s]\u001b[A\n",
      " 41%|████████████████▍                       | 82/199 [00:00<00:00, 293.10it/s]\u001b[A\n",
      " 55%|█████████████████████▎                 | 107/196 [00:00<00:00, 204.71it/s]\u001b[A\n",
      " 21%|████████▍                               | 42/199 [00:00<00:00, 417.12it/s]\u001b[A\n",
      "100%|████████████████████████████████████████████| 1/1 [00:00<00:00,  4.38it/s]\u001b[A\n",
      " 41%|████████████████▏                       | 80/197 [00:00<00:00, 276.54it/s]\u001b[A\n",
      " 21%|████████▏                               | 41/199 [00:00<00:00, 409.24it/s]\u001b[A\n",
      " 44%|█████████████████▍                      | 86/197 [00:00<00:00, 240.39it/s]\u001b[A\n",
      "100%|███████████████████████████████████████| 197/197 [00:00<00:00, 234.10it/s]\u001b[A\n",
      "\n",
      "  0%|                                                  | 0/196 [00:00<?, ?it/s]\u001b[A\n",
      " 36%|██████████████▍                         | 72/199 [00:00<00:00, 128.64it/s]\u001b[A\n",
      " 53%|████████████████████▍                  | 104/198 [00:00<00:00, 250.37it/s]\u001b[A\n",
      " 59%|██████████████████████▉                | 115/196 [00:00<00:00, 252.99it/s]\u001b[A\n",
      " 47%|██████████████████▊                     | 94/200 [00:00<00:00, 313.28it/s]\u001b[A\n",
      "100%|████████████████████████████████████████████| 1/1 [00:00<00:00,  4.18it/s]\u001b[A\n",
      " 99%|██████████████████████████████████████▌| 194/196 [00:01<00:00, 166.01it/s]\u001b[A\n",
      " 44%|█████████████████▍                      | 86/197 [00:00<00:00, 286.71it/s]\u001b[A\n",
      "  0%|                                                  | 0/198 [00:00<?, ?it/s]\u001b[A\n",
      " 46%|██████████████████▌                     | 92/198 [00:00<00:00, 324.82it/s]\u001b[A\n",
      "  0%|                                                  | 0/196 [00:00<?, ?it/s]\u001b[A\n",
      "Processing CSV files:  70%|████████████▋     | 351/500 [00:22<00:09, 15.48it/s]\u001b[A\n",
      " 22%|████████▋                               | 43/198 [00:00<00:00, 419.62it/s]\u001b[A\n",
      " 86%|█████████████████████████████████▌     | 171/199 [00:00<00:00, 215.55it/s]\u001b[A\n",
      " 57%|██████████████████████▎                | 113/198 [00:00<00:00, 237.27it/s]\u001b[A\n",
      "  0%|                                                  | 0/195 [00:00<?, ?it/s]\u001b[A\n",
      "100%|████████████████████████████████████████████| 1/1 [00:00<00:00,  4.80it/s]\u001b[A\n",
      "  0%|                                                  | 0/196 [00:00<?, ?it/s]\u001b[A\n",
      "  0%|                                                  | 0/198 [00:00<?, ?it/s]\u001b[A\n",
      " 65%|█████████████████████████▎             | 129/199 [00:00<00:00, 304.91it/s]\u001b[A\n",
      " 57%|██████████████████████▎                | 114/199 [00:00<00:00, 246.23it/s]\u001b[A\n",
      "100%|████████████████████████████████████████████| 1/1 [00:00<00:00,  5.30it/s]\u001b[A\n",
      " 56%|█████████████████████▊                 | 110/197 [00:00<00:00, 244.13it/s]\u001b[A\n",
      " 58%|██████████████████████▊                | 115/197 [00:00<00:00, 229.87it/s]\u001b[A\n",
      " 43%|█████████████████                       | 85/199 [00:00<00:01, 103.35it/s]\u001b[A\n",
      "100%|████████████████████████████████████████████| 1/1 [00:00<00:00,  2.05it/s]\u001b[A\n"
     ]
    },
    {
     "name": "stdout",
     "output_type": "stream",
     "text": [
      "Total files processed: 1"
     ]
    },
    {
     "name": "stderr",
     "output_type": "stream",
     "text": [
      "\n",
      " 41%|████████████████▍                       | 82/199 [00:00<00:00, 317.05it/s]"
     ]
    },
    {
     "name": "stdout",
     "output_type": "stream",
     "text": [
      "\n"
     ]
    },
    {
     "name": "stderr",
     "output_type": "stream",
     "text": [
      "\u001b[A\n",
      " 42%|████████████████▉                       | 84/199 [00:00<00:00, 269.91it/s]\u001b[A\n",
      " 87%|██████████████████████████████████     | 174/199 [00:00<00:00, 297.39it/s]\u001b[A/w/hallb-scshelf2102/clas12/users/gmat/clas12/neutneut/analysis/neutron_ml/../../src/TrainData.py:84: FutureWarning: The default of observed=False is deprecated and will be changed to True in a future version of pandas. Pass observed=False to retain current behavior or observed=True to adopt the future default and silence this warning.\n",
      "  group_sizes = df.groupby(group_cols).size()\n",
      "\n",
      "  0%|                                                    | 0/1 [00:00<?, ?it/s]\u001b[A\n",
      " 81%|███████████████████████████████▍       | 158/196 [00:01<00:00, 163.07it/s]\u001b[A\n",
      " 66%|█████████████████████████▌             | 130/198 [00:00<00:00, 223.85it/s]\u001b[A\n",
      " 72%|████████████████████████████▎          | 142/196 [00:00<00:00, 226.18it/s]\u001b[A\n",
      "100%|████████████████████████████████████████████| 1/1 [00:00<00:00,  2.59it/s]\u001b[A\n",
      "\n"
     ]
    },
    {
     "name": "stdout",
     "output_type": "stream",
     "text": [
      "Total files processed: 1"
     ]
    },
    {
     "name": "stderr",
     "output_type": "stream",
     "text": [
      " 22%|████████▉                               | 44/196 [00:00<00:00, 430.71it/s]"
     ]
    },
    {
     "name": "stdout",
     "output_type": "stream",
     "text": [
      "\n"
     ]
    },
    {
     "name": "stderr",
     "output_type": "stream",
     "text": [
      "\u001b[A\n",
      " 64%|█████████████████████████▏             | 129/200 [00:00<00:00, 259.58it/s]\u001b[A\n",
      " 60%|███████████████████████▎               | 118/197 [00:00<00:00, 239.01it/s]\u001b[A/w/hallb-scshelf2102/clas12/users/gmat/clas12/neutneut/analysis/neutron_ml/../../src/TrainData.py:84: FutureWarning: The default of observed=False is deprecated and will be changed to True in a future version of pandas. Pass observed=False to retain current behavior or observed=True to adopt the future default and silence this warning.\n",
      "  group_sizes = df.groupby(group_cols).size()\n",
      "\n",
      " 64%|█████████████████████████              | 127/198 [00:00<00:00, 274.80it/s]\u001b[A\n",
      "100%|████████████████████████████████████████████| 1/1 [00:00<00:00,  2.90it/s]\u001b[A\n",
      "100%|████████████████████████████████████████████| 1/1 [00:00<00:00,  1.93it/s]\u001b[A\n",
      "\n"
     ]
    },
    {
     "name": "stdout",
     "output_type": "stream",
     "text": [
      "Total files processed: 1\n"
     ]
    },
    {
     "name": "stderr",
     "output_type": "stream",
     "text": [
      "100%|███████████████████████████████████████| 196/196 [00:01<00:00, 160.95it/s]\u001b[A/w/hallb-scshelf2102/clas12/users/gmat/clas12/neutneut/analysis/neutron_ml/../../src/TrainData.py:84: FutureWarning: The default of observed=False is deprecated and will be changed to True in a future version of pandas. Pass observed=False to retain current behavior or observed=True to adopt the future default and silence this warning.\n",
      "  group_sizes = df.groupby(group_cols).size()\n",
      "\n",
      "100%|████████████████████████████████████████████| 1/1 [00:00<00:00,  1.37it/s]\n",
      "\n"
     ]
    },
    {
     "name": "stdout",
     "output_type": "stream",
     "text": [
      "Total files processed: 1"
     ]
    },
    {
     "name": "stderr",
     "output_type": "stream",
     "text": [
      " 23%|█████████▎                              | 46/198 [00:00<00:00, 449.86it/s]\u001b[A"
     ]
    },
    {
     "name": "stdout",
     "output_type": "stream",
     "text": [
      "\n"
     ]
    },
    {
     "name": "stderr",
     "output_type": "stream",
     "text": [
      "\n",
      "/w/hallb-scshelf2102/clas12/users/gmat/clas12/neutneut/analysis/neutron_ml/../../src/TrainData.py:84: FutureWarning: The default of observed=False is deprecated and will be changed to True in a future version of pandas. Pass observed=False to retain current behavior or observed=True to adopt the future default and silence this warning.\n",
      "  group_sizes = df.groupby(group_cols).size()\n",
      " 20%|███████▉                                | 39/196 [00:00<00:00, 387.12it/s]\u001b[A\n",
      " 48%|███████████████████▎                    | 96/199 [00:00<00:01, 101.54it/s]\u001b[A\n",
      " 43%|█████████████████▏                      | 85/198 [00:00<00:00, 274.89it/s]\u001b[A\n",
      " 70%|███████████████████████████▍           | 140/199 [00:00<00:00, 217.84it/s]\u001b[A\n",
      " 25%|█████████▊                              | 48/195 [00:00<00:00, 475.53it/s]\u001b[A\n",
      " 21%|████████▎                               | 41/196 [00:00<00:00, 406.03it/s]\u001b[A\n",
      " 72%|███████████████████████████▉           | 141/197 [00:00<00:00, 208.70it/s]\u001b[A\n",
      " 22%|████████▋                               | 43/198 [00:00<00:00, 424.45it/s]\u001b[A\n",
      "100%|████████████████████████████████████████████| 1/1 [00:00<00:00,  2.25it/s]\u001b[A\n"
     ]
    },
    {
     "name": "stdout",
     "output_type": "stream",
     "text": [
      "Total files processed: 1"
     ]
    },
    {
     "name": "stderr",
     "output_type": "stream",
     "text": [
      "\n"
     ]
    },
    {
     "name": "stdout",
     "output_type": "stream",
     "text": [
      "\n"
     ]
    },
    {
     "name": "stderr",
     "output_type": "stream",
     "text": [
      " 58%|██████████████████████▌                | 115/199 [00:00<00:00, 254.90it/s]/w/hallb-scshelf2102/clas12/users/gmat/clas12/neutneut/analysis/neutron_ml/../../src/TrainData.py:84: FutureWarning: The default of observed=False is deprecated and will be changed to True in a future version of pandas. Pass observed=False to retain current behavior or observed=True to adopt the future default and silence this warning.\n",
      "  group_sizes = df.groupby(group_cols).size()\n",
      "\u001b[A\n",
      " 57%|██████████████████████▎                | 114/199 [00:00<00:00, 229.34it/s]\u001b[A\n",
      " 91%|███████████████████████████████████▍   | 178/196 [00:01<00:00, 130.33it/s]\u001b[A\n",
      " 77%|██████████████████████████████▏        | 153/198 [00:00<00:00, 189.91it/s]\u001b[A\n",
      " 85%|█████████████████████████████████      | 166/196 [00:00<00:00, 197.68it/s]\u001b[A\n",
      " 41%|████████████████▏                       | 80/197 [00:00<00:00, 250.98it/s]\u001b[A\n",
      " 78%|██████████████████████████████▏        | 152/196 [00:00<00:00, 142.47it/s]\u001b[A\n",
      " 78%|██████████████████████████████▌        | 157/200 [00:00<00:00, 228.42it/s]\u001b[A\n",
      " 73%|████████████████████████████▌          | 144/197 [00:00<00:00, 212.25it/s]\u001b[A\n",
      "  0%|                                                    | 0/1 [00:00<?, ?it/s]\u001b[A\n",
      " 54%|█████████████████████▌                  | 107/199 [00:01<00:00, 98.73it/s]\u001b[A\n",
      " 79%|██████████████████████████████▋        | 156/198 [00:00<00:00, 236.86it/s]\u001b[A\n",
      "100%|███████████████████████████████████████| 199/199 [00:00<00:00, 226.44it/s]\u001b[A\n",
      "100%|████████████████████████████████████████████| 1/1 [00:00<00:00,  1.65it/s]\n",
      "\n"
     ]
    },
    {
     "name": "stdout",
     "output_type": "stream",
     "text": [
      "Total files processed: 1\n"
     ]
    },
    {
     "name": "stderr",
     "output_type": "stream",
     "text": [
      " 45%|█████████████████▉                      | 88/196 [00:00<00:00, 278.10it/s]\u001b[A\n",
      "/w/hallb-scshelf2102/clas12/users/gmat/clas12/neutneut/analysis/neutron_ml/../../src/TrainData.py:84: FutureWarning: The default of observed=False is deprecated and will be changed to True in a future version of pandas. Pass observed=False to retain current behavior or observed=True to adopt the future default and silence this warning.\n",
      "  group_sizes = df.groupby(group_cols).size()\n",
      " 59%|██████████████████████▊                | 116/198 [00:00<00:00, 238.30it/s]\u001b[A\n",
      " 82%|███████████████████████████████▉       | 163/199 [00:00<00:00, 192.30it/s]\u001b[A\n",
      " 80%|███████████████████████████████        | 157/197 [00:00<00:00, 132.31it/s]\u001b[A\n",
      " 83%|████████████████████████████████▍      | 164/197 [00:00<00:00, 191.23it/s]\u001b[A\n",
      " 80%|███████████████████████████████▎       | 158/197 [00:00<00:00, 193.01it/s]\u001b[A\n",
      "100%|███████████████████████████████████████| 199/199 [00:01<00:00, 172.61it/s]\u001b[A\n",
      "\n",
      "100%|████████████████████████████████████████████| 1/1 [00:00<00:00,  5.86it/s]\u001b[A\n",
      " 46%|██████████████████▍                     | 91/198 [00:00<00:00, 285.22it/s]\u001b[A\n",
      " 71%|███████████████████████████▊           | 142/199 [00:00<00:00, 234.26it/s]\u001b[A\n",
      " 99%|██████████████████████████████████████▌| 194/196 [00:01<00:00, 125.53it/s]\u001b[A\n",
      " 49%|███████████████████▋                    | 96/195 [00:00<00:00, 317.39it/s]\u001b[A\n",
      " 42%|████████████████▋                       | 82/196 [00:00<00:00, 275.60it/s]\u001b[A\n",
      " 82%|███████████████████████████████▉       | 163/199 [00:00<00:00, 176.14it/s]\u001b[A\n",
      " 70%|███████████████████████████▏           | 139/199 [00:00<00:00, 199.84it/s]\u001b[A\n",
      " 43%|█████████████████▎                      | 86/198 [00:00<00:00, 277.73it/s]\u001b[A\n",
      " 95%|█████████████████████████████████████▏ | 187/196 [00:00<00:00, 178.96it/s]\u001b[A\n",
      " 59%|███████████████████████▌                | 117/199 [00:01<00:00, 94.04it/s]\u001b[A\n",
      " 92%|███████████████████████████████████▊   | 182/198 [00:00<00:00, 177.94it/s]\u001b[A\n",
      " 55%|█████████████████████▌                 | 109/197 [00:00<00:00, 214.61it/s]\u001b[A\n",
      " 90%|███████████████████████████████████▎   | 181/200 [00:00<00:00, 200.39it/s]\u001b[A\n",
      " 85%|█████████████████████████████████      | 167/197 [00:00<00:00, 189.60it/s]\u001b[A\n",
      "  0%|                                                  | 0/198 [00:00<?, ?it/s]\u001b[A\n",
      "100%|████████████████████████████████████████████| 1/1 [00:00<00:00,  2.90it/s]\u001b[A\n",
      "\n"
     ]
    },
    {
     "name": "stdout",
     "output_type": "stream",
     "text": [
      "Total files processed: 1"
     ]
    },
    {
     "name": "stderr",
     "output_type": "stream",
     "text": [
      " 92%|███████████████████████████████████▊   | 183/199 [00:00<00:00, 187.22it/s]"
     ]
    },
    {
     "name": "stdout",
     "output_type": "stream",
     "text": [
      "\n"
     ]
    },
    {
     "name": "stderr",
     "output_type": "stream",
     "text": [
      "\u001b[A\n",
      " 72%|███████████████████████████▉           | 142/198 [00:00<00:00, 227.93it/s]/w/hallb-scshelf2102/clas12/users/gmat/clas12/neutneut/analysis/neutron_ml/../../src/TrainData.py:84: FutureWarning: The default of observed=False is deprecated and will be changed to True in a future version of pandas. Pass observed=False to retain current behavior or observed=True to adopt the future default and silence this warning.\n",
      "  group_sizes = df.groupby(group_cols).size()\n",
      "100%|███████████████████████████████████████| 196/196 [00:01<00:00, 138.56it/s]\n",
      "\n",
      "  0%|                                                  | 0/198 [00:00<?, ?it/s]\u001b[A\n",
      " 89%|██████████████████████████████████▋    | 175/197 [00:01<00:00, 133.67it/s]\u001b[A\n",
      " 93%|████████████████████████████████████▍  | 184/197 [00:00<00:00, 179.62it/s]\u001b[A\n",
      " 61%|███████████████████████▋               | 119/196 [00:00<00:00, 228.78it/s]\u001b[A\n",
      " 90%|███████████████████████████████████▏   | 178/197 [00:00<00:00, 179.68it/s]\u001b[A\n",
      " 55%|█████████████████████▎                 | 107/196 [00:00<00:00, 226.93it/s]\u001b[A\n",
      "100%|███████████████████████████████████████| 196/196 [00:01<00:00, 184.17it/s]\u001b[A\n",
      "\n",
      "  0%|                                                    | 0/1 [00:00<?, ?it/s]\u001b[A\n",
      " 64%|█████████████████████████▌              | 127/199 [00:01<00:00, 94.41it/s]\u001b[A\n",
      " 57%|██████████████████████▎                | 112/196 [00:00<00:00, 245.38it/s]\u001b[A\n",
      " 94%|████████████████████████████████████▊  | 188/199 [00:00<00:00, 175.64it/s]\u001b[A\n",
      " 81%|███████████████████████████████▌       | 161/199 [00:00<00:00, 185.54it/s]\u001b[A\n",
      " 67%|██████████████████████████▏            | 131/195 [00:00<00:00, 273.85it/s]\u001b[A\n",
      "100%|███████████████████████████████████████| 198/198 [00:01<00:00, 185.00it/s]\u001b[A\n",
      "\n",
      " 59%|███████████████████████                | 117/198 [00:00<00:00, 236.46it/s]\u001b[A\n",
      " 68%|██████████████████████████▎            | 133/197 [00:00<00:00, 202.67it/s]\u001b[A\n",
      "100%|███████████████████████████████████████| 199/199 [00:01<00:00, 189.64it/s]\u001b[A\n",
      "Processing CSV files:  71%|████████████▋     | 354/500 [00:22<00:13, 10.49it/s]\n",
      " 87%|██████████████████████████████████     | 173/198 [00:01<00:00, 117.98it/s]\u001b[A\n",
      "100%|████████████████████████████████████████████| 1/1 [00:00<00:00,  4.74it/s]\u001b[A\n",
      "  0%|                                                  | 0/200 [00:00<?, ?it/s]\u001b[A\n",
      "100%|███████████████████████████████████████| 197/197 [00:01<00:00, 181.14it/s]\u001b[A\n",
      "\n",
      " 86%|██████████████████████████████████▍     | 169/196 [00:01<00:00, 97.20it/s]\u001b[A\n",
      " 97%|██████████████████████████████████████ | 192/197 [00:01<00:00, 130.34it/s]\u001b[A\n",
      "100%|███████████████████████████████████████| 200/200 [00:01<00:00, 195.39it/s]\u001b[A\n",
      "\n",
      "100%|███████████████████████████████████████| 199/199 [00:01<00:00, 188.44it/s]\u001b[A\n",
      "\n",
      "100%|███████████████████████████████████████| 198/198 [00:01<00:00, 197.84it/s]\u001b[A\n",
      "\n",
      " 62%|████████████████████████▏              | 123/198 [00:00<00:00, 255.60it/s]\u001b[A\n",
      " 91%|███████████████████████████████████▍   | 181/199 [00:00<00:00, 177.66it/s]\u001b[A\n",
      " 70%|███████████████████████████▍           | 138/196 [00:00<00:00, 224.48it/s]\u001b[A\n",
      "100%|███████████████████████████████████████| 197/197 [00:01<00:00, 185.78it/s]\u001b[A\n",
      "\n",
      "  0%|                                                  | 0/194 [00:00<?, ?it/s]\u001b[A\n",
      " 69%|███████████████████████████▌            | 137/199 [00:01<00:00, 92.42it/s]\u001b[A\n",
      " 25%|█████████▉                              | 49/198 [00:00<00:00, 484.35it/s]\u001b[A\n",
      " 83%|████████████████████████████████▏      | 162/196 [00:00<00:00, 216.20it/s]\u001b[A\n",
      " 83%|████████████████████████████████▏      | 161/195 [00:00<00:00, 245.60it/s]\u001b[A\n",
      " 95%|█████████████████████████████████████  | 188/198 [00:01<00:00, 123.33it/s]\u001b[A\n",
      " 95%|█████████████████████████████████████  | 189/199 [00:00<00:00, 201.74it/s]\u001b[A\n",
      " 79%|██████████████████████████████▋        | 155/197 [00:00<00:00, 188.10it/s]\u001b[A\n",
      " 72%|████████████████████████████▏          | 143/198 [00:00<00:00, 216.20it/s]\u001b[A\n",
      "Processing CSV files:  72%|████████████▉     | 358/500 [00:22<00:11, 12.24it/s]\u001b[A\n",
      "100%|████████████████████████████████████████████| 1/1 [00:00<00:00,  2.29it/s]\u001b[A\n",
      "\n"
     ]
    },
    {
     "name": "stdout",
     "output_type": "stream",
     "text": [
      "Total files processed: 1\n"
     ]
    },
    {
     "name": "stderr",
     "output_type": "stream",
     "text": [
      " 22%|████████▋                               | 43/197 [00:00<00:00, 425.28it/s]\u001b[A\n",
      "/w/hallb-scshelf2102/clas12/users/gmat/clas12/neutneut/analysis/neutron_ml/../../src/TrainData.py:84: FutureWarning: The default of observed=False is deprecated and will be changed to True in a future version of pandas. Pass observed=False to retain current behavior or observed=True to adopt the future default and silence this warning.\n",
      "  group_sizes = df.groupby(group_cols).size()\n",
      "  0%|                                                    | 0/1 [00:00<?, ?it/s]\u001b[A\n",
      " 85%|█████████████████████████████████      | 166/196 [00:00<00:00, 201.15it/s]\u001b[A\n",
      "100%|███████████████████████████████████████| 199/199 [00:01<00:00, 186.42it/s]\u001b[A\n",
      "\n",
      " 23%|█████████                               | 44/194 [00:00<00:00, 433.24it/s]\u001b[A\n",
      " 76%|█████████████████████████████▋         | 151/198 [00:00<00:00, 176.11it/s]\u001b[A\n",
      "100%|███████████████████████████████████████| 197/197 [00:01<00:00, 139.91it/s]\u001b[A\n",
      "100%|███████████████████████████████████████| 197/197 [00:01<00:00, 159.58it/s]\n",
      "\n",
      " 74%|█████████████████████████████▌          | 147/199 [00:01<00:00, 78.46it/s]\u001b[A\n",
      "  0%|                                                    | 0/1 [00:00<?, ?it/s]\u001b[A\n",
      "100%|███████████████████████████████████████| 199/199 [00:01<00:00, 186.93it/s]\u001b[A\n",
      "\n",
      " 46%|██████████████████▌                     | 92/198 [00:00<00:00, 329.89it/s]\u001b[A\n",
      " 23%|█████████▏                              | 46/200 [00:00<00:00, 452.68it/s]\u001b[A\n",
      " 96%|█████████████████████████████████████▍ | 187/195 [00:00<00:00, 213.18it/s]\u001b[A\n",
      " 89%|██████████████████████████████████▋    | 175/197 [00:00<00:00, 168.77it/s]\u001b[A\n",
      " 84%|████████████████████████████████▋      | 166/198 [00:00<00:00, 188.21it/s]\u001b[A\n",
      "  0%|                                                    | 0/1 [00:00<?, ?it/s]\u001b[A\n",
      "  0%|                                                    | 0/1 [00:00<?, ?it/s]\u001b[A\n",
      "100%|███████████████████████████████████████| 198/198 [00:01<00:00, 144.79it/s]\u001b[A\n",
      "\n",
      "  0%|                                                    | 0/1 [00:00<?, ?it/s]\u001b[A\n",
      " 49%|███████████████████▊                    | 98/198 [00:00<00:00, 254.59it/s]\u001b[A\n",
      " 95%|█████████████████████████████████████▏ | 187/196 [00:00<00:00, 182.66it/s]\u001b[A\n",
      " 90%|███████████████████████████████████▏   | 177/196 [00:00<00:00, 189.81it/s]\u001b[A\n",
      " 87%|█████████████████████████████████▉     | 172/198 [00:00<00:00, 173.92it/s]\u001b[A\n",
      " 93%|████████████████████████████████████▏  | 184/198 [00:01<00:00, 144.02it/s]\u001b[A\n",
      "100%|███████████████████████████████████████| 196/196 [00:00<00:00, 227.81it/s]\u001b[A\n",
      "\n",
      "100%|███████████████████████████████████████| 196/196 [00:01<00:00, 124.76it/s]\u001b[A\n",
      "\n",
      " 21%|████████▏                               | 40/194 [00:00<00:00, 399.91it/s]\u001b[A\n",
      " 44%|█████████████████▍                      | 86/197 [00:00<00:00, 261.16it/s]\u001b[A\n",
      "  0%|                                                    | 0/1 [00:00<?, ?it/s]\u001b[A\n",
      "100%|███████████████████████████████████████| 196/196 [00:00<00:00, 197.11it/s]\u001b[A\n",
      "\n",
      "100%|████████████████████████████████████████████| 1/1 [00:00<00:00,  2.47it/s]\u001b[A\n",
      "\n"
     ]
    },
    {
     "name": "stdout",
     "output_type": "stream",
     "text": [
      "Total files processed: 1"
     ]
    },
    {
     "name": "stderr",
     "output_type": "stream",
     "text": [
      " 97%|██████████████████████████████████████ | 193/198 [00:00<00:00, 208.03it/s]"
     ]
    },
    {
     "name": "stdout",
     "output_type": "stream",
     "text": [
      "\n"
     ]
    },
    {
     "name": "stderr",
     "output_type": "stream",
     "text": [
      "\u001b[A\n",
      "/w/hallb-scshelf2102/clas12/users/gmat/clas12/neutneut/analysis/neutron_ml/../../src/TrainData.py:84: FutureWarning: The default of observed=False is deprecated and will be changed to True in a future version of pandas. Pass observed=False to retain current behavior or observed=True to adopt the future default and silence this warning.\n",
      "  group_sizes = df.groupby(group_cols).size()\n",
      " 65%|█████████████████████████▏             | 128/198 [00:00<00:00, 300.52it/s]\u001b[A\n",
      "  0%|                                                    | 0/1 [00:00<?, ?it/s]\u001b[A\n",
      "100%|███████████████████████████████████████| 195/195 [00:00<00:00, 209.82it/s]\u001b[A\n",
      "\n",
      "  0%|                                                    | 0/1 [00:00<?, ?it/s]\u001b[A\n",
      " 66%|█████████████████████████▌             | 130/198 [00:00<00:00, 269.42it/s]\u001b[A\n",
      " 45%|██████████████████▏                     | 88/194 [00:00<00:00, 300.52it/s]\u001b[A\n",
      " 98%|██████████████████████████████████████▍| 195/198 [00:00<00:00, 186.74it/s]\u001b[A\n",
      "Processing CSV files:  73%|█████████████▏    | 365/500 [00:23<00:07, 18.44it/s]\u001b[A\n",
      " 90%|███████████████████████████████████    | 179/199 [00:01<00:00, 116.20it/s]\u001b[A\n",
      "  0%|                                                  | 0/199 [00:00<?, ?it/s]\u001b[A\n",
      " 42%|████████████████▉                       | 82/194 [00:00<00:00, 334.31it/s]\u001b[A\n",
      "100%|███████████████████████████████████████| 198/198 [00:01<00:00, 164.28it/s]\u001b[A\n",
      "100%|███████████████████████████████████████| 196/196 [00:01<00:00, 191.92it/s]\n",
      "100%|███████████████████████████████████████| 198/198 [00:01<00:00, 192.44it/s]\n",
      "100%|███████████████████████████████████████| 197/197 [00:01<00:00, 172.22it/s]\n",
      "\n",
      "  0%|                                                    | 0/1 [00:00<?, ?it/s]\u001b[A\n",
      "100%|███████████████████████████████████████| 198/198 [00:01<00:00, 194.96it/s]\u001b[A\n",
      "\n",
      " 81%|███████████████████████████████▌       | 160/198 [00:00<00:00, 292.55it/s]\u001b[A\n",
      "100%|████████████████████████████████████████████| 1/1 [00:00<00:00,  6.10it/s]\u001b[A\n",
      "  0%|                                                    | 0/1 [00:00<?, ?it/s]\u001b[A\n",
      " 59%|██████████████████████▉                | 116/197 [00:00<00:00, 252.64it/s]\u001b[A\n",
      " 81%|███████████████████████████████▋       | 161/198 [00:00<00:00, 274.72it/s]\u001b[A\n",
      " 41%|████████████████▍                       | 80/194 [00:00<00:00, 297.78it/s]\u001b[A\n",
      "100%|████████████████████████████████████████████| 1/1 [00:00<00:00,  6.02it/s]\u001b[A\n",
      "  0%|                                                    | 0/1 [00:00<?, ?it/s]\u001b[A\n",
      " 62%|███████████████████████▉               | 123/200 [00:00<00:00, 260.20it/s]\u001b[A\n",
      "100%|████████████████████████████████████████████| 1/1 [00:00<00:00,  3.46it/s]\u001b[A\n",
      "\n"
     ]
    },
    {
     "name": "stdout",
     "output_type": "stream",
     "text": [
      "Total files processed: 1\n"
     ]
    },
    {
     "name": "stderr",
     "output_type": "stream",
     "text": [
      "100%|████████████████████████████████████████████| 1/1 [00:00<00:00,  3.76it/s]\u001b[A/w/hallb-scshelf2102/clas12/users/gmat/clas12/neutneut/analysis/neutron_ml/../../src/TrainData.py:84: FutureWarning: The default of observed=False is deprecated and will be changed to True in a future version of pandas. Pass observed=False to retain current behavior or observed=True to adopt the future default and silence this warning.\n",
      "  group_sizes = df.groupby(group_cols).size()\n",
      "\n",
      "  0%|                                                  | 0/197 [00:00<?, ?it/s]\u001b[A\n",
      "  0%|                                                    | 0/1 [00:00<?, ?it/s]\u001b[A\n",
      " 99%|██████████████████████████████████████▌| 197/199 [00:01<00:00, 131.84it/s]\u001b[A\n",
      " 60%|███████████████████████▌               | 117/194 [00:00<00:00, 273.04it/s]\u001b[A\n",
      " 20%|███████▊                                | 39/199 [00:00<00:00, 382.67it/s]\u001b[A\n",
      "100%|████████████████████████████████████████████| 1/1 [00:00<00:00,  5.33it/s]\u001b[A\n",
      "100%|████████████████████████████████████████████| 1/1 [00:00<00:00,  4.81it/s]\u001b[A\n",
      "Processing CSV files:  74%|█████████████▎    | 371/500 [00:23<00:05, 23.84it/s]\u001b[A\n",
      " 62%|████████████████████████▎              | 121/194 [00:00<00:00, 243.00it/s]\u001b[A\n",
      "100%|████████████████████████████████████████████| 1/1 [00:00<00:00,  4.82it/s]\u001b[A\n",
      "100%|████████████████████████████████████████████| 1/1 [00:00<00:00,  3.14it/s]\u001b[A\n"
     ]
    },
    {
     "name": "stdout",
     "output_type": "stream",
     "text": [
      "Total files processed: 1\n"
     ]
    },
    {
     "name": "stderr",
     "output_type": "stream",
     "text": [
      "\n",
      "100%|████████████████████████████████████████████| 1/1 [00:00<00:00,  5.29it/s]/w/hallb-scshelf2102/clas12/users/gmat/clas12/neutneut/analysis/neutron_ml/../../src/TrainData.py:84: FutureWarning: The default of observed=False is deprecated and will be changed to True in a future version of pandas. Pass observed=False to retain current behavior or observed=True to adopt the future default and silence this warning.\n",
      "  group_sizes = df.groupby(group_cols).size()\n",
      "\u001b[A\n",
      " 73%|████████████████████████████▌          | 144/197 [00:00<00:00, 223.43it/s]\u001b[A\n",
      "  0%|                                                    | 0/1 [00:00<?, ?it/s]\u001b[A\n",
      "100%|████████████████████████████████████████████| 1/1 [00:00<00:00,  2.84it/s]\u001b[A\n",
      "\n"
     ]
    },
    {
     "name": "stdout",
     "output_type": "stream",
     "text": [
      "Total files processed: 1\n"
     ]
    },
    {
     "name": "stderr",
     "output_type": "stream",
     "text": [
      "100%|████████████████████████████████████████████| 1/1 [00:00<00:00,  3.61it/s]\u001b[A/w/hallb-scshelf2102/clas12/users/gmat/clas12/neutneut/analysis/neutron_ml/../../src/TrainData.py:84: FutureWarning: The default of observed=False is deprecated and will be changed to True in a future version of pandas. Pass observed=False to retain current behavior or observed=True to adopt the future default and silence this warning.\n",
      "  group_sizes = df.groupby(group_cols).size()\n",
      "\n",
      "100%|████████████████████████████████████████████| 1/1 [00:00<00:00,  2.28it/s]"
     ]
    },
    {
     "name": "stdout",
     "output_type": "stream",
     "text": [
      "Total files processed: 1"
     ]
    },
    {
     "name": "stderr",
     "output_type": "stream",
     "text": [
      "\n"
     ]
    },
    {
     "name": "stdout",
     "output_type": "stream",
     "text": [
      "\n",
      "Total files processed: 1"
     ]
    },
    {
     "name": "stderr",
     "output_type": "stream",
     "text": [
      "100%|████████████████████████████████████████████| 1/1 [00:00<00:00,  2.51it/s]"
     ]
    },
    {
     "name": "stdout",
     "output_type": "stream",
     "text": [
      "\n"
     ]
    },
    {
     "name": "stderr",
     "output_type": "stream",
     "text": [
      "/w/hallb-scshelf2102/clas12/users/gmat/clas12/neutneut/analysis/neutron_ml/../../src/TrainData.py:84: FutureWarning: The default of observed=False is deprecated and will be changed to True in a future version of pandas. Pass observed=False to retain current behavior or observed=True to adopt the future default and silence this warning.\n",
      "  group_sizes = df.groupby(group_cols).size()\n",
      "\n",
      "100%|███████████████████████████████████████| 198/198 [00:00<00:00, 277.39it/s]"
     ]
    },
    {
     "name": "stdout",
     "output_type": "stream",
     "text": [
      "Total files processed: 1"
     ]
    },
    {
     "name": "stderr",
     "output_type": "stream",
     "text": [
      "/w/hallb-scshelf2102/clas12/users/gmat/clas12/neutneut/analysis/neutron_ml/../../src/TrainData.py:84: FutureWarning: The default of observed=False is deprecated and will be changed to True in a future version of pandas. Pass observed=False to retain current behavior or observed=True to adopt the future default and silence this warning.\n",
      "  group_sizes = df.groupby(group_cols).size()\n"
     ]
    },
    {
     "name": "stdout",
     "output_type": "stream",
     "text": [
      "\n"
     ]
    },
    {
     "name": "stderr",
     "output_type": "stream",
     "text": [
      "\n",
      "\n",
      "100%|████████████████████████████████████████████| 1/1 [00:00<00:00,  4.42it/s]/w/hallb-scshelf2102/clas12/users/gmat/clas12/neutneut/analysis/neutron_ml/../../src/TrainData.py:84: FutureWarning: The default of observed=False is deprecated and will be changed to True in a future version of pandas. Pass observed=False to retain current behavior or observed=True to adopt the future default and silence this warning.\n",
      "  group_sizes = df.groupby(group_cols).size()\n",
      "\u001b[A\n",
      "100%|████████████████████████████████████████████| 1/1 [00:00<00:00,  4.26it/s]\u001b[A\n",
      "100%|████████████████████████████████████████████| 1/1 [00:00<00:00,  3.13it/s]\u001b[A\n",
      "100%|████████████████████████████████████████████| 1/1 [00:00<00:00,  2.93it/s]"
     ]
    },
    {
     "name": "stdout",
     "output_type": "stream",
     "text": [
      "Total files processed: 1\n"
     ]
    },
    {
     "name": "stderr",
     "output_type": "stream",
     "text": [
      "\n",
      "\n"
     ]
    },
    {
     "name": "stdout",
     "output_type": "stream",
     "text": [
      "Total files processed: 1"
     ]
    },
    {
     "name": "stderr",
     "output_type": "stream",
     "text": [
      " 58%|██████████████████████▌                | 112/194 [00:00<00:00, 228.98it/s]"
     ]
    },
    {
     "name": "stdout",
     "output_type": "stream",
     "text": [
      "\n"
     ]
    },
    {
     "name": "stderr",
     "output_type": "stream",
     "text": [
      "/w/hallb-scshelf2102/clas12/users/gmat/clas12/neutneut/analysis/neutron_ml/../../src/TrainData.py:84: FutureWarning: The default of observed=False is deprecated and will be changed to True in a future version of pandas. Pass observed=False to retain current behavior or observed=True to adopt the future default and silence this warning.\n",
      "  group_sizes = df.groupby(group_cols).size()\n",
      "\u001b[A\n",
      " 76%|█████████████████████████████▋         | 152/200 [00:00<00:00, 231.25it/s]/w/hallb-scshelf2102/clas12/users/gmat/clas12/neutneut/analysis/neutron_ml/../../src/TrainData.py:84: FutureWarning: The default of observed=False is deprecated and will be changed to True in a future version of pandas. Pass observed=False to retain current behavior or observed=True to adopt the future default and silence this warning.\n",
      "  group_sizes = df.groupby(group_cols).size()\n",
      "Processing CSV files:  75%|█████████████▌    | 375/500 [00:23<00:04, 25.90it/s]\n",
      " 75%|█████████████████████████████▎         | 146/194 [00:00<00:00, 268.53it/s]\u001b[A\n",
      " 76%|█████████████████████████████▊         | 148/194 [00:00<00:00, 205.04it/s]\u001b[A\n",
      "100%|████████████████████████████████████████████| 1/1 [00:00<00:00,  3.15it/s]\u001b[A\n"
     ]
    },
    {
     "name": "stdout",
     "output_type": "stream",
     "text": [
      "Total files processed: 1\n"
     ]
    },
    {
     "name": "stderr",
     "output_type": "stream",
     "text": [
      "/w/hallb-scshelf2102/clas12/users/gmat/clas12/neutneut/analysis/neutron_ml/../../src/TrainData.py:84: FutureWarning: The default of observed=False is deprecated and will be changed to True in a future version of pandas. Pass observed=False to retain current behavior or observed=True to adopt the future default and silence this warning.\n",
      "  group_sizes = df.groupby(group_cols).size()\n",
      "\n",
      "100%|████████████████████████████████████████| 199/199 [00:02<00:00, 97.59it/s]\u001b[A\n",
      "\n",
      " 39%|███████████████▋                        | 78/199 [00:00<00:00, 302.04it/s]\u001b[A\n",
      "100%|████████████████████████████████████████████| 1/1 [00:00<00:00,  4.82it/s]\u001b[A\n",
      "  0%|                                                    | 0/1 [00:00<?, ?it/s]\u001b[A\n",
      "  0%|                                                    | 0/1 [00:00<?, ?it/s]\u001b[A\n",
      "100%|███████████████████████████████████████| 198/198 [00:00<00:00, 228.88it/s]\u001b[A\n",
      "\n",
      "100%|████████████████████████████████████████████| 1/1 [00:00<00:00,  2.69it/s]\u001b[A\n",
      "\n"
     ]
    },
    {
     "name": "stdout",
     "output_type": "stream",
     "text": [
      "Total files processed: 1\n"
     ]
    },
    {
     "name": "stderr",
     "output_type": "stream",
     "text": [
      "100%|████████████████████████████████████████████| 1/1 [00:00<00:00,  4.86it/s]\u001b[A\n",
      "/w/hallb-scshelf2102/clas12/users/gmat/clas12/neutneut/analysis/neutron_ml/../../src/TrainData.py:84: FutureWarning: The default of observed=False is deprecated and will be changed to True in a future version of pandas. Pass observed=False to retain current behavior or observed=True to adopt the future default and silence this warning.\n",
      "  group_sizes = df.groupby(group_cols).size()\n",
      "100%|████████████████████████████████████████████| 1/1 [00:00<00:00,  2.59it/s]\u001b[A\n",
      "\n"
     ]
    },
    {
     "name": "stdout",
     "output_type": "stream",
     "text": [
      "Total files processed: 1"
     ]
    },
    {
     "name": "stderr",
     "output_type": "stream",
     "text": [
      "  0%|                                                    | 0/1 [00:00<?, ?it/s]"
     ]
    },
    {
     "name": "stdout",
     "output_type": "stream",
     "text": [
      "\n"
     ]
    },
    {
     "name": "stderr",
     "output_type": "stream",
     "text": [
      "\u001b[A\n",
      "/w/hallb-scshelf2102/clas12/users/gmat/clas12/neutneut/analysis/neutron_ml/../../src/TrainData.py:84: FutureWarning: The default of observed=False is deprecated and will be changed to True in a future version of pandas. Pass observed=False to retain current behavior or observed=True to adopt the future default and silence this warning.\n",
      "  group_sizes = df.groupby(group_cols).size()\n",
      "  0%|                                                  | 0/197 [00:00<?, ?it/s]\u001b[A\n",
      " 85%|█████████████████████████████████▎     | 168/197 [00:00<00:00, 221.51it/s]\u001b[A\n",
      "100%|████████████████████████████████████████████| 1/1 [00:00<00:00,  3.21it/s]\u001b[A\n",
      "\n",
      "100%|████████████████████████████████████████████| 1/1 [00:00<00:00,  5.00it/s]\u001b[A\n",
      " 90%|██████████████████████████████████▉    | 174/194 [00:00<00:00, 265.04it/s]"
     ]
    },
    {
     "name": "stdout",
     "output_type": "stream",
     "text": [
      "Total files processed: 1"
     ]
    },
    {
     "name": "stderr",
     "output_type": "stream",
     "text": [
      "100%|████████████████████████████████████████████| 1/1 [00:00<00:00,  2.91it/s]"
     ]
    },
    {
     "name": "stdout",
     "output_type": "stream",
     "text": [
      "\n"
     ]
    },
    {
     "name": "stderr",
     "output_type": "stream",
     "text": [
      "/w/hallb-scshelf2102/clas12/users/gmat/clas12/neutneut/analysis/neutron_ml/../../src/TrainData.py:84: FutureWarning: The default of observed=False is deprecated and will be changed to True in a future version of pandas. Pass observed=False to retain current behavior or observed=True to adopt the future default and silence this warning.\n",
      "  group_sizes = df.groupby(group_cols).size()\n",
      "\n"
     ]
    },
    {
     "name": "stdout",
     "output_type": "stream",
     "text": [
      "Total files processed: 1"
     ]
    },
    {
     "name": "stderr",
     "output_type": "stream",
     "text": [
      "\n"
     ]
    },
    {
     "name": "stdout",
     "output_type": "stream",
     "text": [
      "\n"
     ]
    },
    {
     "name": "stderr",
     "output_type": "stream",
     "text": [
      "/w/hallb-scshelf2102/clas12/users/gmat/clas12/neutneut/analysis/neutron_ml/../../src/TrainData.py:84: FutureWarning: The default of observed=False is deprecated and will be changed to True in a future version of pandas. Pass observed=False to retain current behavior or observed=True to adopt the future default and silence this warning.\n",
      "  group_sizes = df.groupby(group_cols).size()\n",
      "  0%|                                                  | 0/198 [00:00<?, ?it/s]\u001b[A\n",
      " 93%|████████████████████████████████████▍  | 181/194 [00:00<00:00, 236.29it/s]\u001b[A\n",
      "100%|████████████████████████████████████████████| 1/1 [00:00<00:00,  5.09it/s]\u001b[A\n",
      "100%|████████████████████████████████████████████| 1/1 [00:00<00:00,  5.60it/s]\u001b[A\n",
      "100%|████████████████████████████████████████████| 1/1 [00:00<00:00,  5.71it/s]\u001b[A\n",
      "Processing CSV files:  76%|█████████████▋    | 379/500 [00:23<00:05, 24.11it/s]\u001b[A\n",
      " 55%|█████████████████████▌                 | 110/199 [00:00<00:00, 278.70it/s]\u001b[A\n",
      "  0%|                                                    | 0/1 [00:00<?, ?it/s]\u001b[A\n",
      " 38%|███████████████                         | 74/197 [00:00<00:00, 289.49it/s]\u001b[A\n",
      "  0%|                                                  | 0/198 [00:00<?, ?it/s]\u001b[A\n",
      "100%|████████████████████████████████████████████| 1/1 [00:00<00:00,  2.65it/s]\u001b[A\n",
      "\n"
     ]
    },
    {
     "name": "stdout",
     "output_type": "stream",
     "text": [
      "Total files processed: 1"
     ]
    },
    {
     "name": "stderr",
     "output_type": "stream",
     "text": [
      " 83%|████████████████████████████████▎      | 161/194 [00:00<00:00, 223.94it/s]"
     ]
    },
    {
     "name": "stdout",
     "output_type": "stream",
     "text": [
      "\n"
     ]
    },
    {
     "name": "stderr",
     "output_type": "stream",
     "text": [
      "\u001b[A/w/hallb-scshelf2102/clas12/users/gmat/clas12/neutneut/analysis/neutron_ml/../../src/TrainData.py:84: FutureWarning: The default of observed=False is deprecated and will be changed to True in a future version of pandas. Pass observed=False to retain current behavior or observed=True to adopt the future default and silence this warning.\n",
      "  group_sizes = df.groupby(group_cols).size()\n",
      "100%|████████████████████████████████████████████| 1/1 [00:00<00:00,  3.15it/s]\n",
      "\n"
     ]
    },
    {
     "name": "stdout",
     "output_type": "stream",
     "text": [
      "Total files processed: 1"
     ]
    },
    {
     "name": "stderr",
     "output_type": "stream",
     "text": [
      "100%|████████████████████████████████████████████| 1/1 [00:00<00:00,  3.39it/s]\u001b[A\n"
     ]
    },
    {
     "name": "stdout",
     "output_type": "stream",
     "text": [
      "Total files processed: 1\n"
     ]
    },
    {
     "name": "stderr",
     "output_type": "stream",
     "text": [
      "/w/hallb-scshelf2102/clas12/users/gmat/clas12/neutneut/analysis/neutron_ml/../../src/TrainData.py:84: FutureWarning: The default of observed=False is deprecated and will be changed to True in a future version of pandas. Pass observed=False to retain current behavior or observed=True to adopt the future default and silence this warning.\n",
      "  group_sizes = df.groupby(group_cols).size()\n"
     ]
    },
    {
     "name": "stdout",
     "output_type": "stream",
     "text": [
      "\n"
     ]
    },
    {
     "name": "stderr",
     "output_type": "stream",
     "text": [
      "\n",
      " 88%|██████████████████████████████████▌    | 177/200 [00:00<00:00, 224.56it/s]/w/hallb-scshelf2102/clas12/users/gmat/clas12/neutneut/analysis/neutron_ml/../../src/TrainData.py:84: FutureWarning: The default of observed=False is deprecated and will be changed to True in a future version of pandas. Pass observed=False to retain current behavior or observed=True to adopt the future default and silence this warning.\n",
      "  group_sizes = df.groupby(group_cols).size()\n",
      "\u001b[A\n",
      " 19%|███████▌                                | 37/196 [00:00<00:00, 365.85it/s]\u001b[A\n",
      "100%|███████████████████████████████████████| 194/194 [00:00<00:00, 238.13it/s]\u001b[A\n",
      "100%|████████████████████████████████████████████| 1/1 [00:00<00:00,  2.51it/s]\n",
      "\n"
     ]
    },
    {
     "name": "stdout",
     "output_type": "stream",
     "text": [
      "Total files processed: 1"
     ]
    },
    {
     "name": "stderr",
     "output_type": "stream",
     "text": [
      "  0%|                                                    | 0/1 [00:00<?, ?it/s]"
     ]
    },
    {
     "name": "stdout",
     "output_type": "stream",
     "text": [
      "\n"
     ]
    },
    {
     "name": "stderr",
     "output_type": "stream",
     "text": [
      "\u001b[A\n",
      "100%|████████████████████████████████████████████| 1/1 [00:00<00:00,  4.99it/s]/w/hallb-scshelf2102/clas12/users/gmat/clas12/neutneut/analysis/neutron_ml/../../src/TrainData.py:84: FutureWarning: The default of observed=False is deprecated and will be changed to True in a future version of pandas. Pass observed=False to retain current behavior or observed=True to adopt the future default and silence this warning.\n",
      "  group_sizes = df.groupby(group_cols).size()\n",
      "\u001b[A\n",
      " 21%|████████▌                               | 42/197 [00:00<00:00, 411.90it/s]\u001b[A\n",
      "100%|███████████████████████████████████████| 197/197 [00:00<00:00, 200.22it/s]\u001b[A\n",
      "\n",
      " 70%|███████████████████████████▏           | 139/199 [00:00<00:00, 265.61it/s]\u001b[A\n",
      " 18%|███████▎                                | 36/198 [00:00<00:00, 359.25it/s]\u001b[A\n",
      "100%|████████████████████████████████████████████| 1/1 [00:00<00:00,  5.56it/s]\u001b[A\n",
      " 96%|█████████████████████████████████████▍ | 186/194 [00:00<00:00, 230.29it/s]\u001b[A\n",
      "100%|███████████████████████████████████████| 194/194 [00:00<00:00, 197.66it/s]\u001b[A\n",
      "\n",
      "100%|████████████████████████████████████████████| 1/1 [00:00<00:00,  4.71it/s]\u001b[A\n",
      "  0%|                                                  | 0/198 [00:00<?, ?it/s]\u001b[A\n",
      "100%|████████████████████████████████████████████| 1/1 [00:00<00:00,  5.14it/s]\u001b[A\n",
      " 20%|███████▉                                | 39/198 [00:00<00:00, 388.57it/s]\u001b[A\n",
      "100%|███████████████████████████████████████| 200/200 [00:01<00:00, 198.22it/s]\u001b[A\n",
      "100%|████████████████████████████████████████████| 1/1 [00:00<00:00,  2.45it/s]\n",
      "100%|████████████████████████████████████████████| 1/1 [00:00<00:00,  2.38it/s]"
     ]
    },
    {
     "name": "stdout",
     "output_type": "stream",
     "text": [
      "Total files processed: 1"
     ]
    },
    {
     "name": "stderr",
     "output_type": "stream",
     "text": [
      "\n"
     ]
    },
    {
     "name": "stdout",
     "output_type": "stream",
     "text": [
      "\n"
     ]
    },
    {
     "name": "stderr",
     "output_type": "stream",
     "text": [
      "\n",
      "/w/hallb-scshelf2102/clas12/users/gmat/clas12/neutneut/analysis/neutron_ml/../../src/TrainData.py:84: FutureWarning: The default of observed=False is deprecated and will be changed to True in a future version of pandas. Pass observed=False to retain current behavior or observed=True to adopt the future default and silence this warning.\n",
      "  group_sizes = df.groupby(group_cols).size()\n"
     ]
    },
    {
     "name": "stdout",
     "output_type": "stream",
     "text": [
      "Total files processed: 1\n"
     ]
    },
    {
     "name": "stderr",
     "output_type": "stream",
     "text": [
      "/w/hallb-scshelf2102/clas12/users/gmat/clas12/neutneut/analysis/neutron_ml/../../src/TrainData.py:84: FutureWarning: The default of observed=False is deprecated and will be changed to True in a future version of pandas. Pass observed=False to retain current behavior or observed=True to adopt the future default and silence this warning.\n",
      "  group_sizes = df.groupby(group_cols).size()\n",
      "  0%|                                                  | 0/197 [00:00<?, ?it/s]\u001b[A\n",
      "  0%|                                                  | 0/197 [00:00<?, ?it/s]\u001b[A\n",
      "100%|████████████████████████████████████████████| 1/1 [00:00<00:00,  2.46it/s]\u001b[A\n"
     ]
    },
    {
     "name": "stdout",
     "output_type": "stream",
     "text": [
      "Total files processed: 1"
     ]
    },
    {
     "name": "stderr",
     "output_type": "stream",
     "text": [
      "\n",
      "  0%|                                                  | 0/195 [00:00<?, ?it/s]"
     ]
    },
    {
     "name": "stdout",
     "output_type": "stream",
     "text": [
      "\n"
     ]
    },
    {
     "name": "stderr",
     "output_type": "stream",
     "text": [
      "\u001b[A\n",
      "/w/hallb-scshelf2102/clas12/users/gmat/clas12/neutneut/analysis/neutron_ml/../../src/TrainData.py:84: FutureWarning: The default of observed=False is deprecated and will be changed to True in a future version of pandas. Pass observed=False to retain current behavior or observed=True to adopt the future default and silence this warning.\n",
      "  group_sizes = df.groupby(group_cols).size()\n",
      " 38%|███████████████                         | 74/196 [00:00<00:00, 264.97it/s]\u001b[A\n",
      "  0%|                                                  | 0/198 [00:00<?, ?it/s]\u001b[A\n",
      "  0%|                                                  | 0/196 [00:00<?, ?it/s]\u001b[A\n",
      " 83%|████████████████████████████████▌      | 166/199 [00:00<00:00, 261.84it/s]\u001b[A\n",
      " 36%|██████████████▌                         | 72/198 [00:00<00:00, 322.86it/s]\u001b[A\n",
      "100%|███████████████████████████████████████| 194/194 [00:00<00:00, 198.69it/s]\u001b[A\n",
      "\n",
      " 19%|███████▋                                | 38/197 [00:00<00:00, 379.87it/s]\u001b[A\n",
      "100%|████████████████████████████████████████████| 1/1 [00:00<00:00,  3.08it/s]\u001b[A\n",
      " 66%|█████████████████████████▉             | 131/197 [00:00<00:00, 242.19it/s]\u001b[A\n",
      "Processing CSV files:  76%|█████████████▊    | 382/500 [00:23<00:06, 18.97it/s]\u001b[A\n",
      "100%|████████████████████████████████████████████| 1/1 [00:00<00:00,  2.20it/s]\u001b[A\n"
     ]
    },
    {
     "name": "stdout",
     "output_type": "stream",
     "text": [
      "Total files processed: 1"
     ]
    },
    {
     "name": "stderr",
     "output_type": "stream",
     "text": [
      "\n"
     ]
    },
    {
     "name": "stdout",
     "output_type": "stream",
     "text": [
      "\n"
     ]
    },
    {
     "name": "stderr",
     "output_type": "stream",
     "text": [
      " 39%|███████████████▊                        | 78/198 [00:00<00:00, 314.57it/s]\u001b[A\n",
      "/w/hallb-scshelf2102/clas12/users/gmat/clas12/neutneut/analysis/neutron_ml/../../src/TrainData.py:84: FutureWarning: The default of observed=False is deprecated and will be changed to True in a future version of pandas. Pass observed=False to retain current behavior or observed=True to adopt the future default and silence this warning.\n",
      "  group_sizes = df.groupby(group_cols).size()\n",
      "100%|████████████████████████████████████████████| 1/1 [00:00<00:00,  2.29it/s]\u001b[A\n",
      "\n"
     ]
    },
    {
     "name": "stdout",
     "output_type": "stream",
     "text": [
      "Total files processed: 1"
     ]
    },
    {
     "name": "stderr",
     "output_type": "stream",
     "text": [
      " 20%|███████▉                                | 39/198 [00:00<00:00, 386.26it/s]"
     ]
    },
    {
     "name": "stdout",
     "output_type": "stream",
     "text": [
      "\n"
     ]
    },
    {
     "name": "stderr",
     "output_type": "stream",
     "text": [
      "100%|████████████████████████████████████████████| 1/1 [00:00<00:00,  2.22it/s]/w/hallb-scshelf2102/clas12/users/gmat/clas12/neutneut/analysis/neutron_ml/../../src/TrainData.py:84: FutureWarning: The default of observed=False is deprecated and will be changed to True in a future version of pandas. Pass observed=False to retain current behavior or observed=True to adopt the future default and silence this warning.\n",
      "  group_sizes = df.groupby(group_cols).size()\n",
      "\n"
     ]
    },
    {
     "name": "stdout",
     "output_type": "stream",
     "text": [
      "Total files processed: 1"
     ]
    },
    {
     "name": "stderr",
     "output_type": "stream",
     "text": [
      "\n"
     ]
    },
    {
     "name": "stdout",
     "output_type": "stream",
     "text": [
      "\n"
     ]
    },
    {
     "name": "stderr",
     "output_type": "stream",
     "text": [
      "/w/hallb-scshelf2102/clas12/users/gmat/clas12/neutneut/analysis/neutron_ml/../../src/TrainData.py:84: FutureWarning: The default of observed=False is deprecated and will be changed to True in a future version of pandas. Pass observed=False to retain current behavior or observed=True to adopt the future default and silence this warning.\n",
      "  group_sizes = df.groupby(group_cols).size()\n",
      "100%|████████████████████████████████████████████| 1/1 [00:00<00:00,  5.24it/s]\u001b[A\n",
      " 13%|█████▍                                   | 26/198 [00:00<00:01, 91.24it/s]\u001b[A\n",
      " 23%|█████████▎                              | 46/197 [00:00<00:00, 451.43it/s]\u001b[A\n",
      "100%|████████████████████████████████████████████| 1/1 [00:00<00:00,  3.35it/s]\u001b[A\n",
      " 23%|█████████▎                              | 46/197 [00:00<00:00, 456.22it/s]\u001b[A\n",
      " 21%|████████▍                               | 42/199 [00:00<00:00, 418.52it/s]\u001b[A\n",
      " 53%|████████████████████▍                  | 103/196 [00:00<00:00, 223.93it/s]\u001b[A\n",
      "  0%|                                                  | 0/199 [00:00<?, ?it/s]\u001b[A\n",
      " 97%|█████████████████████████████████████▊ | 193/199 [00:00<00:00, 219.44it/s]\u001b[A\n",
      " 23%|█████████                               | 44/195 [00:00<00:00, 437.73it/s]\u001b[A\n",
      " 20%|███████▉                                | 39/198 [00:00<00:00, 384.37it/s]\u001b[A\n",
      "Processing CSV files:  77%|█████████████▊    | 385/500 [00:23<00:05, 19.21it/s]\u001b[A\n",
      " 20%|████████▏                               | 40/196 [00:00<00:00, 399.21it/s]\u001b[A\n",
      " 39%|███████████████▍                        | 76/197 [00:00<00:00, 263.12it/s]\u001b[A\n",
      " 79%|██████████████████████████████▉        | 156/197 [00:00<00:00, 203.62it/s]\u001b[A\n",
      "100%|████████████████████████████████████████████| 1/1 [00:00<00:00,  3.03it/s]\n"
     ]
    },
    {
     "name": "stdout",
     "output_type": "stream",
     "text": [
      "Total files processed: 1"
     ]
    },
    {
     "name": "stderr",
     "output_type": "stream",
     "text": [
      " 25%|█████████▊                              | 48/195 [00:00<00:00, 474.09it/s]"
     ]
    },
    {
     "name": "stdout",
     "output_type": "stream",
     "text": [
      "\n"
     ]
    },
    {
     "name": "stderr",
     "output_type": "stream",
     "text": [
      "\u001b[A/w/hallb-scshelf2102/clas12/users/gmat/clas12/neutneut/analysis/neutron_ml/../../src/TrainData.py:84: FutureWarning: The default of observed=False is deprecated and will be changed to True in a future version of pandas. Pass observed=False to retain current behavior or observed=True to adopt the future default and silence this warning.\n",
      "  group_sizes = df.groupby(group_cols).size()\n",
      "100%|████████████████████████████████████████████| 1/1 [00:00<00:00,  1.80it/s]\n",
      "\n"
     ]
    },
    {
     "name": "stdout",
     "output_type": "stream",
     "text": [
      "Total files processed: 1\n"
     ]
    },
    {
     "name": "stderr",
     "output_type": "stream",
     "text": [
      "  0%|                                                    | 0/1 [00:00<?, ?it/s]\u001b[A/w/hallb-scshelf2102/clas12/users/gmat/clas12/neutneut/analysis/neutron_ml/../../src/TrainData.py:84: FutureWarning: The default of observed=False is deprecated and will be changed to True in a future version of pandas. Pass observed=False to retain current behavior or observed=True to adopt the future default and silence this warning.\n",
      "  group_sizes = df.groupby(group_cols).size()\n",
      "\n",
      "  0%|                                                  | 0/196 [00:00<?, ?it/s]\u001b[A\n",
      "  0%|                                                  | 0/196 [00:00<?, ?it/s]\u001b[A\n",
      " 39%|███████████████▊                        | 78/198 [00:00<00:00, 315.76it/s]\u001b[A\n",
      "  0%|                                                    | 0/1 [00:00<?, ?it/s]\u001b[A\n",
      " 64%|█████████████████████████              | 126/196 [00:00<00:00, 220.97it/s]\u001b[A\n",
      "  0%|                                                  | 0/197 [00:00<?, ?it/s]\u001b[A\n",
      " 43%|█████████████████                       | 84/197 [00:00<00:00, 153.62it/s]\u001b[A\n",
      "100%|████████████████████████████████████████████| 1/1 [00:00<00:00,  1.95it/s]\u001b[A\n",
      "\n",
      " 39%|███████████████▊                        | 78/198 [00:00<00:00, 262.16it/s]\u001b[A"
     ]
    },
    {
     "name": "stdout",
     "output_type": "stream",
     "text": [
      "Total files processed: 1"
     ]
    },
    {
     "name": "stderr",
     "output_type": "stream",
     "text": [
      "\n",
      " 65%|█████████████████████████▎             | 127/196 [00:00<00:00, 206.56it/s]"
     ]
    },
    {
     "name": "stdout",
     "output_type": "stream",
     "text": [
      "\n"
     ]
    },
    {
     "name": "stderr",
     "output_type": "stream",
     "text": [
      "\u001b[A/w/hallb-scshelf2102/clas12/users/gmat/clas12/neutneut/analysis/neutron_ml/../../src/TrainData.py:84: FutureWarning: The default of observed=False is deprecated and will be changed to True in a future version of pandas. Pass observed=False to retain current behavior or observed=True to adopt the future default and silence this warning.\n",
      "  group_sizes = df.groupby(group_cols).size()\n",
      "\n",
      " 67%|██████████████████████████             | 132/198 [00:00<00:00, 246.80it/s]\u001b[A\n",
      " 90%|███████████████████████████████████▏   | 178/197 [00:00<00:00, 205.56it/s]\u001b[A\n",
      " 53%|████████████████████▊                  | 105/197 [00:00<00:00, 261.87it/s]\u001b[A\n",
      " 47%|██████████████████▋                     | 92/197 [00:00<00:00, 294.92it/s]\u001b[A\n",
      " 19%|███████▍                                | 37/199 [00:00<00:00, 366.97it/s]\u001b[A\n",
      "  0%|                                                  | 0/198 [00:00<?, ?it/s]\u001b[A\n",
      " 47%|██████████████████▋                     | 92/197 [00:00<00:00, 299.52it/s]\u001b[A\n",
      " 42%|████████████████▉                       | 84/199 [00:00<00:00, 276.48it/s]\u001b[A\n",
      " 41%|████████████████▎                       | 80/196 [00:00<00:00, 316.05it/s]\u001b[A\n",
      " 45%|██████████████████                      | 88/195 [00:00<00:00, 312.63it/s]\u001b[A\n",
      "100%|███████████████████████████████████████| 199/199 [00:01<00:00, 184.05it/s]\u001b[A\n",
      "\n",
      "  0%|                                                    | 0/1 [00:00<?, ?it/s]\u001b[A\n",
      "100%|████████████████████████████████████████████| 1/1 [00:00<00:00,  5.21it/s]\u001b[A\n",
      "  0%|                                                  | 0/198 [00:00<?, ?it/s]\u001b[A\n",
      " 23%|█████████▎                               | 45/198 [00:00<00:01, 80.47it/s]\u001b[A\n",
      " 49%|███████████████████▋                    | 96/195 [00:00<00:00, 357.15it/s]\u001b[A\n",
      " 77%|█████████████████████████████▊         | 150/196 [00:00<00:00, 195.05it/s]\u001b[A\n",
      " 55%|█████████████████████▍                 | 108/197 [00:00<00:00, 154.97it/s]\u001b[A\n",
      "100%|████████████████████████████████████████████| 1/1 [00:00<00:00,  4.12it/s]\u001b[A\n",
      " 24%|█████████▊                              | 48/196 [00:00<00:00, 478.10it/s]\u001b[A\n",
      " 62%|████████████████████████▏              | 123/198 [00:00<00:00, 369.32it/s]\u001b[A\n",
      " 54%|█████████████████████                  | 107/198 [00:00<00:00, 223.50it/s]\u001b[A\n",
      " 80%|███████████████████████████████        | 158/198 [00:00<00:00, 225.97it/s]\u001b[A\n",
      " 76%|█████████████████████████████▋         | 149/196 [00:00<00:00, 182.67it/s]\u001b[A\n",
      " 68%|██████████████████████████▎            | 133/197 [00:00<00:00, 227.84it/s]\u001b[A\n",
      " 56%|█████████████████████▊                 | 111/198 [00:00<00:00, 145.60it/s]\u001b[A\n",
      "  0%|                                                  | 0/198 [00:00<?, ?it/s]\u001b[A\n",
      "100%|████████████████████████████████████████████| 1/1 [00:00<00:00,  4.77it/s]\u001b[A\n",
      " 63%|████████████████████████▋              | 125/197 [00:00<00:00, 241.33it/s]\u001b[A\n",
      " 63%|████████████████████████▋              | 125/197 [00:00<00:00, 239.52it/s]\u001b[A\n",
      " 58%|██████████████████████▌                | 115/199 [00:00<00:00, 221.21it/s]\u001b[A\n",
      " 37%|██████████████▊                         | 74/199 [00:00<00:00, 238.73it/s]\u001b[A\n",
      " 58%|██████████████████████▍                | 113/196 [00:00<00:00, 240.25it/s]\u001b[A\n",
      " 20%|████████                                | 40/198 [00:00<00:00, 398.02it/s]\u001b[A\n",
      " 27%|██████████▉                              | 53/198 [00:00<00:02, 65.84it/s]\u001b[A\n",
      " 63%|████████████████████████▍              | 122/195 [00:00<00:00, 227.82it/s]\u001b[A\n",
      " 87%|██████████████████████████████████     | 171/196 [00:00<00:00, 165.38it/s]\u001b[A\n",
      " 65%|█████████████████████████▎             | 128/197 [00:00<00:00, 140.58it/s]\u001b[A\n",
      "100%|███████████████████████████████████████| 197/197 [00:01<00:00, 171.77it/s]\u001b[A\n",
      "\n",
      "  0%|                                                    | 0/1 [00:00<?, ?it/s]\u001b[A\n",
      "100%|████████████████████████████████████████████| 1/1 [00:00<00:00,  1.89it/s]\u001b[A\n",
      "\n"
     ]
    },
    {
     "name": "stdout",
     "output_type": "stream",
     "text": [
      "Total files processed: 1"
     ]
    },
    {
     "name": "stderr",
     "output_type": "stream",
     "text": [
      " 10%|████▏                                    | 20/196 [00:00<00:02, 69.71it/s]"
     ]
    },
    {
     "name": "stdout",
     "output_type": "stream",
     "text": [
      "\n"
     ]
    },
    {
     "name": "stderr",
     "output_type": "stream",
     "text": [
      "\u001b[A/w/hallb-scshelf2102/clas12/users/gmat/clas12/neutneut/analysis/neutron_ml/../../src/TrainData.py:84: FutureWarning: The default of observed=False is deprecated and will be changed to True in a future version of pandas. Pass observed=False to retain current behavior or observed=True to adopt the future default and silence this warning.\n",
      "  group_sizes = df.groupby(group_cols).size()\n",
      "\n",
      " 69%|██████████████████████████▊            | 134/195 [00:00<00:00, 238.76it/s]\u001b[A\n",
      " 66%|█████████████████████████▊             | 131/198 [00:00<00:00, 176.47it/s]\u001b[A\n",
      " 92%|███████████████████████████████████▊   | 182/198 [00:00<00:00, 180.64it/s]\u001b[A\n",
      " 67%|██████████████████████████▏            | 133/198 [00:00<00:00, 144.36it/s]\u001b[A\n",
      "100%|████████████████████████████████████████████| 1/1 [00:00<00:00,  1.85it/s]\u001b[A\n"
     ]
    },
    {
     "name": "stdout",
     "output_type": "stream",
     "text": [
      "Total files processed: 1"
     ]
    },
    {
     "name": "stderr",
     "output_type": "stream",
     "text": [
      "\n"
     ]
    },
    {
     "name": "stdout",
     "output_type": "stream",
     "text": [
      "\n"
     ]
    },
    {
     "name": "stderr",
     "output_type": "stream",
     "text": [
      "/w/hallb-scshelf2102/clas12/users/gmat/clas12/neutneut/analysis/neutron_ml/../../src/TrainData.py:84: FutureWarning: The default of observed=False is deprecated and will be changed to True in a future version of pandas. Pass observed=False to retain current behavior or observed=True to adopt the future default and silence this warning.\n",
      "  group_sizes = df.groupby(group_cols).size()\n",
      " 16%|██████▍                                 | 32/197 [00:00<00:01, 105.57it/s]\u001b[A\n",
      " 49%|███████████████████▌                    | 96/196 [00:00<00:00, 266.71it/s]\u001b[A\n",
      " 82%|███████████████████████████████▉       | 162/198 [00:00<00:00, 256.33it/s]\u001b[A\n",
      "  0%|                                                  | 0/199 [00:00<?, ?it/s]\u001b[A\n",
      "100%|████████████████████████████████████████████| 1/1 [00:00<00:00,  5.32it/s]\u001b[A\n",
      " 30%|████████████▍                            | 60/198 [00:00<00:02, 61.78it/s]\u001b[A\n",
      " 77%|██████████████████████████████         | 152/197 [00:00<00:00, 205.25it/s]\u001b[A\n",
      "  0%|                                                  | 0/196 [00:00<?, ?it/s]\u001b[A\n",
      " 77%|██████████████████████████████         | 152/197 [00:00<00:00, 208.22it/s]\u001b[A\n",
      "100%|████████████████████████████████████████████| 1/1 [00:00<00:00,  2.08it/s]\u001b[A\n",
      "\n"
     ]
    },
    {
     "name": "stdout",
     "output_type": "stream",
     "text": [
      "Total files processed: 1\n"
     ]
    },
    {
     "name": "stderr",
     "output_type": "stream",
     "text": [
      " 51%|███████████████████▊                   | 101/199 [00:00<00:00, 199.13it/s]/w/hallb-scshelf2102/clas12/users/gmat/clas12/neutneut/analysis/neutron_ml/../../src/TrainData.py:84: FutureWarning: The default of observed=False is deprecated and will be changed to True in a future version of pandas. Pass observed=False to retain current behavior or observed=True to adopt the future default and silence this warning.\n",
      "  group_sizes = df.groupby(group_cols).size()\n",
      "\u001b[A\n",
      " 22%|████████▉                               | 44/198 [00:00<00:00, 439.35it/s]\u001b[A\n",
      "  0%|                                                  | 0/197 [00:00<?, ?it/s]\u001b[A\n",
      "100%|████████████████████████████████████████████| 1/1 [00:00<00:00,  4.54it/s]\u001b[A\n",
      " 74%|████████████████████████████▋          | 145/197 [00:01<00:00, 134.20it/s]\u001b[A\n",
      " 16%|██████▋                                  | 32/196 [00:00<00:01, 85.88it/s]\u001b[A\n",
      " 96%|█████████████████████████████████████▌ | 189/196 [00:01<00:00, 151.33it/s]\u001b[A\n",
      " 76%|█████████████████████████████▌         | 148/195 [00:00<00:00, 200.56it/s]\u001b[A\n",
      " 40%|████████████████▏                       | 80/198 [00:00<00:00, 252.24it/s]\u001b[A\n",
      "  0%|                                                  | 0/200 [00:00<?, ?it/s]\n",
      "100%|████████████████████████████████████████████| 1/1 [00:00<00:00,  1.99it/s]\u001b[A\n",
      "\n"
     ]
    },
    {
     "name": "stdout",
     "output_type": "stream",
     "text": [
      "Total files processed: 1\n"
     ]
    },
    {
     "name": "stderr",
     "output_type": "stream",
     "text": [
      " 22%|████████▋                               | 43/197 [00:00<00:01, 102.83it/s]\u001b[A\n",
      "/w/hallb-scshelf2102/clas12/users/gmat/clas12/neutneut/analysis/neutron_ml/../../src/TrainData.py:84: FutureWarning: The default of observed=False is deprecated and will be changed to True in a future version of pandas. Pass observed=False to retain current behavior or observed=True to adopt the future default and silence this warning.\n",
      "  group_sizes = df.groupby(group_cols).size()\n",
      " 76%|█████████████████████████████▋         | 151/198 [00:00<00:00, 171.83it/s]\u001b[A\n",
      " 77%|█████████████████████████████▉         | 152/198 [00:01<00:00, 146.61it/s]\u001b[A\n",
      " 83%|████████████████████████████████▍      | 162/195 [00:00<00:00, 217.93it/s]\u001b[A\n",
      " 36%|██████████████▉                          | 72/198 [00:01<00:01, 76.00it/s]\u001b[A\n",
      " 45%|██████████████████▏                     | 90/198 [00:00<00:00, 288.54it/s]\u001b[A\n",
      "100%|████████████████████████████████████████████| 1/1 [00:00<00:00,  2.58it/s]\u001b[A\n",
      "\n"
     ]
    },
    {
     "name": "stdout",
     "output_type": "stream",
     "text": [
      "Total files processed: 1\n"
     ]
    },
    {
     "name": "stderr",
     "output_type": "stream",
     "text": [
      "/w/hallb-scshelf2102/clas12/users/gmat/clas12/neutneut/analysis/neutron_ml/../../src/TrainData.py:84: FutureWarning: The default of observed=False is deprecated and will be changed to True in a future version of pandas. Pass observed=False to retain current behavior or observed=True to adopt the future default and silence this warning.\n",
      "  group_sizes = df.groupby(group_cols).size()\n",
      " 65%|█████████████████████████▍             | 128/196 [00:00<00:00, 240.60it/s]\u001b[A\n",
      "  0%|                                                    | 0/1 [00:00<?, ?it/s]\u001b[A\n",
      " 81%|███████████████████████████████▌       | 161/199 [00:00<00:00, 180.84it/s]\u001b[A\n",
      " 89%|██████████████████████████████████▋    | 175/197 [00:00<00:00, 194.66it/s]\u001b[A\n",
      " 21%|████████▊                                | 42/196 [00:00<00:01, 85.15it/s]\u001b[A\n",
      " 62%|████████████████████████               | 123/199 [00:00<00:00, 185.53it/s]\u001b[A\n",
      "100%|███████████████████████████████████████| 198/198 [00:01<00:00, 179.29it/s]\u001b[A\n",
      "100%|████████████████████████████████████████████| 1/1 [00:00<00:00,  2.36it/s]\n",
      "\n"
     ]
    },
    {
     "name": "stdout",
     "output_type": "stream",
     "text": [
      "Total files processed: 1"
     ]
    },
    {
     "name": "stderr",
     "output_type": "stream",
     "text": [
      " 80%|███████████████████████████████        | 157/197 [00:00<00:00, 129.70it/s]\u001b[A"
     ]
    },
    {
     "name": "stdout",
     "output_type": "stream",
     "text": [
      "\n"
     ]
    },
    {
     "name": "stderr",
     "output_type": "stream",
     "text": [
      "/w/hallb-scshelf2102/clas12/users/gmat/clas12/neutneut/analysis/neutron_ml/../../src/TrainData.py:84: FutureWarning: The default of observed=False is deprecated and will be changed to True in a future version of pandas. Pass observed=False to retain current behavior or observed=True to adopt the future default and silence this warning.\n",
      "  group_sizes = df.groupby(group_cols).size()\n",
      "\n",
      " 21%|████████▍                               | 42/199 [00:00<00:00, 417.10it/s]\u001b[A\n",
      " 23%|█████████▏                              | 45/196 [00:00<00:00, 445.02it/s]\u001b[A\n",
      " 27%|██████████▉                             | 54/197 [00:00<00:01, 101.12it/s]\u001b[A\n",
      "100%|████████████████████████████████████████████| 1/1 [00:00<00:00,  5.36it/s]\u001b[A\n",
      " 88%|██████████████████████████████████▍    | 174/197 [00:00<00:00, 194.86it/s]\u001b[A\n",
      " 41%|████████████████▊                        | 81/198 [00:01<00:01, 78.98it/s]\u001b[A\n",
      " 21%|████████▎                               | 41/197 [00:00<00:00, 409.43it/s]\u001b[A\n",
      " 86%|█████████████████████████████████▍     | 170/198 [00:01<00:00, 143.86it/s]\u001b[A\n",
      " 86%|█████████████████████████████████▍     | 170/198 [00:00<00:00, 162.23it/s]\u001b[A\n",
      "100%|███████████████████████████████████████| 196/196 [00:01<00:00, 158.51it/s]\u001b[A\n",
      "\n",
      " 44%|█████████████████▊                      | 88/198 [00:00<00:00, 282.53it/s]\u001b[A\n",
      " 55%|█████████████████████▍                 | 109/198 [00:00<00:00, 217.21it/s]\u001b[A\n",
      " 95%|█████████████████████████████████████▏ | 186/195 [00:00<00:00, 203.50it/s]\u001b[A\n",
      "100%|███████████████████████████████████████| 196/196 [00:01<00:00, 155.00it/s]\u001b[A\n",
      "\n",
      " 71%|███████████████████████████▋           | 139/196 [00:00<00:00, 131.09it/s]\u001b[A\n",
      " 30%|████████████                            | 59/196 [00:00<00:01, 110.02it/s]\u001b[A\n",
      " 42%|████████████████▉                       | 84/199 [00:00<00:00, 304.74it/s]\u001b[A\n",
      " 89%|██████████████████████████████████▋    | 175/197 [00:01<00:00, 135.12it/s]\u001b[A\n",
      " 20%|████████                                | 40/200 [00:00<00:00, 395.24it/s]\u001b[A\n",
      " 72%|████████████████████████████           | 143/199 [00:00<00:00, 186.94it/s]\u001b[A\n",
      " 79%|██████████████████████████████▊        | 155/196 [00:00<00:00, 231.47it/s]\u001b[A\n",
      " 99%|██████████████████████████████████████▊| 196/197 [00:00<00:00, 191.51it/s]\u001b[A\n",
      "100%|████████████████████████████████████████████| 1/1 [00:00<00:00,  2.77it/s]\u001b[A\n"
     ]
    },
    {
     "name": "stdout",
     "output_type": "stream",
     "text": [
      "Total files processed: 1\n"
     ]
    },
    {
     "name": "stderr",
     "output_type": "stream",
     "text": [
      "100%|███████████████████████████████████████| 198/198 [00:00<00:00, 204.43it/s]\n",
      "/w/hallb-scshelf2102/clas12/users/gmat/clas12/neutneut/analysis/neutron_ml/../../src/TrainData.py:84: FutureWarning: The default of observed=False is deprecated and will be changed to True in a future version of pandas. Pass observed=False to retain current behavior or observed=True to adopt the future default and silence this warning.\n",
      "  group_sizes = df.groupby(group_cols).size()\n",
      "\n",
      "  0%|                                                  | 0/198 [00:00<?, ?it/s]\u001b[A\n",
      " 62%|████████████████████████▏              | 123/198 [00:00<00:00, 250.18it/s]\u001b[A\n",
      " 89%|██████████████████████████████████▋    | 175/197 [00:01<00:00, 136.11it/s]\u001b[A\n",
      " 38%|███████████████                         | 74/197 [00:00<00:00, 130.23it/s]\u001b[A\n",
      "  0%|                                                    | 0/1 [00:00<?, ?it/s]\u001b[A\n",
      "  0%|                                                  | 0/198 [00:00<?, ?it/s]\u001b[A\n",
      " 99%|██████████████████████████████████████▌| 195/197 [00:01<00:00, 166.59it/s]\u001b[A\n",
      " 95%|█████████████████████████████████████▏ | 189/198 [00:01<00:00, 154.29it/s]\u001b[A\n",
      " 95%|█████████████████████████████████████  | 188/198 [00:01<00:00, 166.43it/s]\u001b[A\n",
      " 90%|███████████████████████████████████▎   | 180/199 [00:01<00:00, 177.88it/s]\u001b[A\n",
      " 46%|██████████████████▎                     | 90/196 [00:00<00:00, 349.28it/s]\u001b[A\n",
      " 61%|███████████████████████▋               | 120/198 [00:00<00:00, 267.09it/s]\u001b[A\n",
      " 67%|██████████████████████████▏            | 133/198 [00:00<00:00, 203.98it/s]\u001b[A\n",
      " 37%|██████████████▋                         | 72/196 [00:00<00:01, 115.69it/s]\u001b[A\n",
      " 42%|████████████████▋                       | 82/197 [00:00<00:00, 314.81it/s]\u001b[A\n",
      " 81%|███████████████████████████████▍       | 158/196 [00:01<00:00, 136.63it/s]\u001b[A\n",
      " 43%|█████████████████▎                      | 85/196 [00:00<00:00, 111.30it/s]\u001b[A\n",
      " 96%|█████████████████████████████████████▌ | 190/197 [00:01<00:00, 133.31it/s]\u001b[A\n",
      " 72%|███████████████████████████▉           | 142/198 [00:01<00:00, 194.48it/s]\u001b[A\n",
      " 97%|██████████████████████████████████████ | 190/195 [00:01<00:00, 144.62it/s]\u001b[A\n",
      " 92%|███████████████████████████████████▊   | 180/196 [00:00<00:00, 203.41it/s]\u001b[A\n",
      " 40%|████████████████                        | 80/200 [00:00<00:00, 292.98it/s]\u001b[A\n",
      "100%|███████████████████████████████████████| 195/195 [00:01<00:00, 181.03it/s]\u001b[A\n",
      "\n",
      " 45%|█████████████████▊                      | 88/197 [00:00<00:00, 113.46it/s]\u001b[A\n",
      " 98%|██████████████████████████████████████▏| 193/197 [00:01<00:00, 125.13it/s]\u001b[A\n",
      "  0%|                                                  | 0/198 [00:00<?, ?it/s]\u001b[A\n",
      " 76%|█████████████████████████████▌         | 150/198 [00:00<00:00, 197.11it/s]\u001b[A\n",
      "100%|███████████████████████████████████████| 199/199 [00:01<00:00, 136.51it/s]\u001b[A\n",
      "100%|███████████████████████████████████████| 197/197 [00:01<00:00, 166.40it/s]\u001b[A\n",
      "\n",
      " 23%|█████████                               | 45/198 [00:00<00:00, 441.11it/s]\u001b[A\n",
      "100%|███████████████████████████████████████| 195/195 [00:01<00:00, 167.96it/s]\u001b[A\n",
      "\n",
      " 90%|███████████████████████████████████    | 176/196 [00:01<00:00, 129.57it/s]\u001b[A\n",
      " 75%|█████████████████████████████▎         | 149/198 [00:00<00:00, 221.06it/s]\u001b[A\n",
      "100%|███████████████████████████████████████| 198/198 [00:01<00:00, 138.62it/s]\u001b[A\n",
      "100%|███████████████████████████████████████| 198/198 [00:01<00:00, 153.07it/s]\n",
      "Processing CSV files:  78%|██████████████    | 390/500 [00:24<00:11,  9.41it/s]\n",
      "  7%|██▊                                      | 14/200 [00:00<00:03, 53.98it/s]\u001b[A\n",
      " 65%|█████████████████████████▎             | 127/196 [00:00<00:00, 257.54it/s]\u001b[A\n",
      "100%|███████████████████████████████████████| 199/199 [00:01<00:00, 156.71it/s]\u001b[A\n",
      "\n",
      "100%|████████████████████████████████████████████| 1/1 [00:00<00:00,  5.15it/s]\u001b[A\n",
      " 82%|████████████████████████████████       | 163/198 [00:01<00:00, 177.83it/s]\u001b[A\n",
      "100%|███████████████████████████████████████| 197/197 [00:01<00:00, 123.64it/s]\u001b[A\n",
      "100%|███████████████████████████████████████| 197/197 [00:01<00:00, 150.30it/s]\n",
      "\n",
      " 51%|███████████████████▉                   | 101/197 [00:01<00:00, 115.89it/s]\u001b[A\n",
      " 56%|█████████████████████▋                 | 111/200 [00:00<00:00, 244.77it/s]\u001b[A\n",
      " 66%|█████████████████████████▋             | 129/196 [00:01<00:00, 204.25it/s]\u001b[A\n",
      " 82%|███████████████████████████████▉       | 163/199 [00:01<00:00, 115.17it/s]\u001b[A\n",
      "Processing CSV files:  78%|██████████████    | 392/500 [00:25<00:10, 10.17it/s]\u001b[A\n",
      " 90%|███████████████████████████████████▎   | 179/198 [00:00<00:00, 193.67it/s]\u001b[A\n",
      "  0%|                                                  | 0/199 [00:00<?, ?it/s]\u001b[A\n",
      " 99%|██████████████████████████████████████▌| 194/196 [00:01<00:00, 139.47it/s]\u001b[A\n",
      " 12%|████▋                                    | 23/200 [00:00<00:02, 66.52it/s]\u001b[A\n",
      " 87%|██████████████████████████████████     | 173/198 [00:00<00:00, 218.76it/s]\u001b[A\n",
      "100%|████████████████████████████████████████████| 1/1 [00:00<00:00,  4.68it/s]\u001b[A\n",
      "100%|███████████████████████████████████████| 197/197 [00:01<00:00, 133.58it/s]\u001b[A\n",
      "\n",
      "  0%|                                                    | 0/1 [00:00<?, ?it/s]\u001b[A\n",
      " 21%|████████▍                               | 42/198 [00:00<00:00, 416.40it/s]\u001b[A\n",
      "100%|███████████████████████████████████████| 196/196 [00:01<00:00, 178.65it/s]\u001b[A\n",
      "\n",
      "  0%|                                                    | 0/1 [00:00<?, ?it/s]\u001b[A\n",
      "  0%|                                                    | 0/1 [00:00<?, ?it/s]\u001b[A\n",
      " 80%|███████████████████████████████        | 156/196 [00:00<00:00, 235.97it/s]\u001b[A\n",
      " 72%|████████████████████████████           | 142/197 [00:00<00:00, 222.65it/s]\u001b[A\n",
      " 41%|████████████████▌                       | 82/198 [00:00<00:00, 294.43it/s]\u001b[A\n",
      " 58%|██████████████████████▌                | 114/197 [00:01<00:00, 107.04it/s]\u001b[A\n",
      "Processing CSV files:  79%|██████████████▏   | 395/500 [00:25<00:08, 12.71it/s]\u001b[A\n",
      " 89%|██████████████████████████████████▉    | 178/199 [00:01<00:00, 115.60it/s]\u001b[A\n",
      " 99%|██████████████████████████████████████▌| 196/198 [00:00<00:00, 200.86it/s]\u001b[A\n",
      " 78%|██████████████████████████████▏        | 152/196 [00:01<00:00, 185.82it/s]\u001b[A\n",
      "100%|████████████████████████████████████████████| 1/1 [00:00<00:00,  1.68it/s]\u001b[A\n"
     ]
    },
    {
     "name": "stdout",
     "output_type": "stream",
     "text": [
      "Total files processed: 1\n"
     ]
    },
    {
     "name": "stderr",
     "output_type": "stream",
     "text": [
      "100%|███████████████████████████████████████| 198/198 [00:01<00:00, 187.97it/s]\n",
      "\n",
      "/w/hallb-scshelf2102/clas12/users/gmat/clas12/neutneut/analysis/neutron_ml/../../src/TrainData.py:84: FutureWarning: The default of observed=False is deprecated and will be changed to True in a future version of pandas. Pass observed=False to retain current behavior or observed=True to adopt the future default and silence this warning.\n",
      "  group_sizes = df.groupby(group_cols).size()\n",
      " 97%|██████████████████████████████████████ | 194/199 [00:00<00:00, 248.94it/s]\u001b[A\n",
      "  0%|                                                    | 0/1 [00:00<?, ?it/s]\u001b[A\n",
      " 68%|██████████████████████████▋            | 137/200 [00:00<00:00, 218.19it/s]\u001b[A\n",
      "  0%|                                                    | 0/1 [00:00<?, ?it/s]\u001b[A\n",
      " 20%|███████▊                                | 39/199 [00:00<00:00, 383.97it/s]\u001b[A\n",
      " 67%|██████████████████████████▏            | 132/197 [00:01<00:00, 125.01it/s]\u001b[A\n",
      " 87%|█████████████████████████████████▉     | 172/198 [00:01<00:00, 193.91it/s]\u001b[A\n",
      " 84%|████████████████████████████████▊      | 166/197 [00:00<00:00, 211.88it/s]\u001b[A\n",
      "  0%|                                                  | 0/196 [00:00<?, ?it/s]\u001b[A\n",
      "  0%|                                                    | 0/1 [00:00<?, ?it/s]\u001b[A\n",
      "  0%|                                                    | 0/1 [00:00<?, ?it/s]\u001b[A\n",
      "100%|███████████████████████████████████████| 196/196 [00:01<00:00, 135.64it/s]\u001b[A\n",
      "100%|███████████████████████████████████████| 198/198 [00:00<00:00, 210.05it/s]\n",
      "\n",
      " 58%|██████████████████████▍                | 114/198 [00:00<00:00, 268.68it/s]\u001b[A\n",
      " 92%|████████████████████████████████████   | 181/196 [00:00<00:00, 229.34it/s]\u001b[A\n",
      "100%|███████████████████████████████████████| 199/199 [00:01<00:00, 134.31it/s]\u001b[A\n",
      " 42%|████████████████▉                       | 84/198 [00:00<00:00, 272.71it/s]\u001b[A\n",
      "  0%|                                                    | 0/1 [00:00<?, ?it/s]\u001b[A\n",
      " 22%|█████████▏                               | 45/200 [00:00<00:01, 91.67it/s]\u001b[A\n",
      "100%|████████████████████████████████████████████| 1/1 [00:00<00:00,  1.98it/s]\u001b[A\n",
      "\n"
     ]
    },
    {
     "name": "stdout",
     "output_type": "stream",
     "text": [
      "Total files processed: 1"
     ]
    },
    {
     "name": "stderr",
     "output_type": "stream",
     "text": [
      " 49%|███████████████████▋                    | 98/199 [00:00<00:00, 295.96it/s]"
     ]
    },
    {
     "name": "stdout",
     "output_type": "stream",
     "text": [
      "\n"
     ]
    },
    {
     "name": "stderr",
     "output_type": "stream",
     "text": [
      "\u001b[A/w/hallb-scshelf2102/clas12/users/gmat/clas12/neutneut/analysis/neutron_ml/../../src/TrainData.py:84: FutureWarning: The default of observed=False is deprecated and will be changed to True in a future version of pandas. Pass observed=False to retain current behavior or observed=True to adopt the future default and silence this warning.\n",
      "  group_sizes = df.groupby(group_cols).size()\n",
      "Processing CSV files:  80%|██████████████▍   | 401/500 [00:25<00:05, 19.18it/s]\n",
      "  0%|                                                    | 0/1 [00:00<?, ?it/s]\u001b[A\n",
      " 45%|██████████████████▏                     | 90/198 [00:00<00:00, 168.41it/s]\u001b[A\n",
      "100%|███████████████████████████████████████| 199/199 [00:00<00:00, 225.40it/s]\u001b[A\n",
      "\n",
      " 80%|███████████████████████████████▏       | 160/200 [00:00<00:00, 184.28it/s]\u001b[A\n",
      "100%|████████████████████████████████████████████| 1/1 [00:00<00:00,  5.74it/s]\u001b[A\n",
      " 81%|███████████████████████████████▋       | 160/197 [00:01<00:00, 166.21it/s]\u001b[A\n",
      "  0%|                                                    | 0/1 [00:00<?, ?it/s]\u001b[A\n",
      " 96%|█████████████████████████████████████▍ | 189/197 [00:00<00:00, 215.72it/s]\u001b[A\n",
      "100%|████████████████████████████████████████████| 1/1 [00:00<00:00,  5.23it/s]\u001b[A\n",
      " 72%|███████████████████████████▉           | 142/198 [00:00<00:00, 268.71it/s]\u001b[A\n",
      " 39%|███████████████▋                        | 78/199 [00:00<00:00, 322.85it/s]\u001b[A\n",
      "100%|███████████████████████████████████████| 198/198 [00:01<00:00, 107.62it/s]\u001b[A\n",
      "\n",
      "100%|████████████████████████████████████████████| 1/1 [00:00<00:00,  5.12it/s]\u001b[A\n",
      "100%|███████████████████████████████████████| 199/199 [00:01<00:00, 136.49it/s]\u001b[A\n",
      "\n",
      "100%|████████████████████████████████████████████| 1/1 [00:00<00:00,  4.90it/s]\u001b[A\n",
      "100%|███████████████████████████████████████| 198/198 [00:01<00:00, 164.06it/s]\u001b[A\n",
      "100%|███████████████████████████████████████| 196/196 [00:00<00:00, 209.08it/s]\n",
      "\n",
      " 98%|██████████████████████████████████████▍| 193/196 [00:01<00:00, 176.24it/s]\u001b[A\n",
      "  0%|                                                    | 0/1 [00:00<?, ?it/s]\u001b[A\n",
      "100%|████████████████████████████████████████████| 1/1 [00:00<00:00,  2.66it/s]\u001b[A\n",
      "100%|███████████████████████████████████████| 197/197 [00:00<00:00, 211.86it/s]\n",
      "\n",
      " 59%|██████████████████████▊                | 116/198 [00:00<00:00, 180.35it/s]\u001b[A"
     ]
    },
    {
     "name": "stdout",
     "output_type": "stream",
     "text": [
      "Total files processed: 1"
     ]
    },
    {
     "name": "stderr",
     "output_type": "stream",
     "text": [
      "\n"
     ]
    },
    {
     "name": "stdout",
     "output_type": "stream",
     "text": [
      "\n"
     ]
    },
    {
     "name": "stderr",
     "output_type": "stream",
     "text": [
      " 90%|███████████████████████████████████▏   | 178/197 [00:01<00:00, 164.49it/s]\u001b[A\n",
      "/w/hallb-scshelf2102/clas12/users/gmat/clas12/neutneut/analysis/neutron_ml/../../src/TrainData.py:84: FutureWarning: The default of observed=False is deprecated and will be changed to True in a future version of pandas. Pass observed=False to retain current behavior or observed=True to adopt the future default and silence this warning.\n",
      "  group_sizes = df.groupby(group_cols).size()\n",
      "100%|████████████████████████████████████████████| 1/1 [00:00<00:00,  5.16it/s]\u001b[A\n",
      " 90%|███████████████████████████████████    | 180/200 [00:00<00:00, 179.73it/s]\u001b[A\n",
      "100%|████████████████████████████████████████████| 1/1 [00:00<00:00,  5.31it/s]\u001b[A\n",
      "100%|████████████████████████████████████████████| 1/1 [00:00<00:00,  2.91it/s]\u001b[A\n",
      "\n"
     ]
    },
    {
     "name": "stdout",
     "output_type": "stream",
     "text": [
      "Total files processed: 1\n"
     ]
    },
    {
     "name": "stderr",
     "output_type": "stream",
     "text": [
      "/w/hallb-scshelf2102/clas12/users/gmat/clas12/neutneut/analysis/neutron_ml/../../src/TrainData.py:84: FutureWarning: The default of observed=False is deprecated and will be changed to True in a future version of pandas. Pass observed=False to retain current behavior or observed=True to adopt the future default and silence this warning.\n",
      "  group_sizes = df.groupby(group_cols).size()\n",
      "100%|████████████████████████████████████████████| 1/1 [00:00<00:00,  5.78it/s]\u001b[A\n",
      "100%|████████████████████████████████████████████| 1/1 [00:00<00:00,  2.74it/s]\u001b[A\n",
      "\n"
     ]
    },
    {
     "name": "stdout",
     "output_type": "stream",
     "text": [
      "Total files processed: 1\n"
     ]
    },
    {
     "name": "stderr",
     "output_type": "stream",
     "text": [
      "  0%|                                                  | 0/196 [00:00<?, ?it/s]\u001b[A\n",
      "/w/hallb-scshelf2102/clas12/users/gmat/clas12/neutneut/analysis/neutron_ml/../../src/TrainData.py:84: FutureWarning: The default of observed=False is deprecated and will be changed to True in a future version of pandas. Pass observed=False to retain current behavior or observed=True to adopt the future default and silence this warning.\n",
      "  group_sizes = df.groupby(group_cols).size()\n",
      "100%|████████████████████████████████████████████| 1/1 [00:00<00:00,  6.96it/s]\u001b[A\n",
      "  0%|                                                    | 0/1 [00:00<?, ?it/s]\u001b[A\n",
      "100%|████████████████████████████████████████████| 1/1 [00:00<00:00,  2.66it/s]\u001b[A\n",
      "\n"
     ]
    },
    {
     "name": "stdout",
     "output_type": "stream",
     "text": [
      "Total files processed: 1\n"
     ]
    },
    {
     "name": "stderr",
     "output_type": "stream",
     "text": [
      " 86%|█████████████████████████████████▍     | 170/198 [00:00<00:00, 257.99it/s]\u001b[A\n",
      "/w/hallb-scshelf2102/clas12/users/gmat/clas12/neutneut/analysis/neutron_ml/../../src/TrainData.py:84: FutureWarning: The default of observed=False is deprecated and will be changed to True in a future version of pandas. Pass observed=False to retain current behavior or observed=True to adopt the future default and silence this warning.\n",
      "  group_sizes = df.groupby(group_cols).size()\n",
      " 56%|█████████████████████▊                 | 111/199 [00:00<00:00, 294.51it/s]\u001b[A\n",
      "100%|████████████████████████████████████████████| 1/1 [00:00<00:00,  5.17it/s]\u001b[A\n",
      " 74%|████████████████████████████▉          | 147/198 [00:00<00:00, 211.01it/s]\u001b[A\n",
      "100%|████████████████████████████████████████████| 1/1 [00:00<00:00,  3.41it/s]\u001b[A\n",
      "\n"
     ]
    },
    {
     "name": "stdout",
     "output_type": "stream",
     "text": [
      "Total files processed: 1"
     ]
    },
    {
     "name": "stderr",
     "output_type": "stream",
     "text": [
      "100%|████████████████████████████████████████████| 1/1 [00:00<00:00,  5.64it/s]"
     ]
    },
    {
     "name": "stdout",
     "output_type": "stream",
     "text": [
      "\n"
     ]
    },
    {
     "name": "stderr",
     "output_type": "stream",
     "text": [
      "\u001b[A/w/hallb-scshelf2102/clas12/users/gmat/clas12/neutneut/analysis/neutron_ml/../../src/TrainData.py:84: FutureWarning: The default of observed=False is deprecated and will be changed to True in a future version of pandas. Pass observed=False to retain current behavior or observed=True to adopt the future default and silence this warning.\n",
      "  group_sizes = df.groupby(group_cols).size()\n",
      "100%|████████████████████████████████████████████| 1/1 [00:00<00:00,  2.94it/s]\n",
      "100%|████████████████████████████████████████████| 1/1 [00:00<00:00,  3.00it/s]"
     ]
    },
    {
     "name": "stdout",
     "output_type": "stream",
     "text": [
      "Total files processed: 1"
     ]
    },
    {
     "name": "stderr",
     "output_type": "stream",
     "text": [
      "\n",
      "\n",
      "  0%|                                                    | 0/1 [00:00<?, ?it/s]"
     ]
    },
    {
     "name": "stdout",
     "output_type": "stream",
     "text": [
      "\n"
     ]
    },
    {
     "name": "stderr",
     "output_type": "stream",
     "text": [
      "\u001b[A\n",
      "  0%|                                                    | 0/1 [00:00<?, ?it/s]/w/hallb-scshelf2102/clas12/users/gmat/clas12/neutneut/analysis/neutron_ml/../../src/TrainData.py:84: FutureWarning: The default of observed=False is deprecated and will be changed to True in a future version of pandas. Pass observed=False to retain current behavior or observed=True to adopt the future default and silence this warning.\n",
      "  group_sizes = df.groupby(group_cols).size()\n",
      "\u001b[A"
     ]
    },
    {
     "name": "stdout",
     "output_type": "stream",
     "text": [
      "Total files processed: 1\n"
     ]
    },
    {
     "name": "stderr",
     "output_type": "stream",
     "text": [
      "100%|████████████████████████████████████████████| 1/1 [00:00<00:00,  3.11it/s]\n",
      "100%|███████████████████████████████████████| 197/197 [00:01<00:00, 129.98it/s]"
     ]
    },
    {
     "name": "stdout",
     "output_type": "stream",
     "text": [
      "Total files processed: 1"
     ]
    },
    {
     "name": "stderr",
     "output_type": "stream",
     "text": [
      "/w/hallb-scshelf2102/clas12/users/gmat/clas12/neutneut/analysis/neutron_ml/../../src/TrainData.py:84: FutureWarning: The default of observed=False is deprecated and will be changed to True in a future version of pandas. Pass observed=False to retain current behavior or observed=True to adopt the future default and silence this warning.\n",
      "  group_sizes = df.groupby(group_cols).size()\n",
      "\n"
     ]
    },
    {
     "name": "stdout",
     "output_type": "stream",
     "text": [
      "\n"
     ]
    },
    {
     "name": "stderr",
     "output_type": "stream",
     "text": [
      "/w/hallb-scshelf2102/clas12/users/gmat/clas12/neutneut/analysis/neutron_ml/../../src/TrainData.py:84: FutureWarning: The default of observed=False is deprecated and will be changed to True in a future version of pandas. Pass observed=False to retain current behavior or observed=True to adopt the future default and silence this warning.\n",
      "  group_sizes = df.groupby(group_cols).size()\n",
      "\n",
      "100%|███████████████████████████████████████| 200/200 [00:01<00:00, 190.27it/s]\u001b[A\n",
      "100%|███████████████████████████████████████| 196/196 [00:01<00:00, 125.23it/s]\n",
      "100%|████████████████████████████████████████████| 1/1 [00:00<00:00,  2.12it/s]\n",
      "\n"
     ]
    },
    {
     "name": "stdout",
     "output_type": "stream",
     "text": [
      "Total files processed: 1"
     ]
    },
    {
     "name": "stderr",
     "output_type": "stream",
     "text": [
      " 40%|████████████████▏                       | 81/200 [00:00<00:01, 107.64it/s]"
     ]
    },
    {
     "name": "stdout",
     "output_type": "stream",
     "text": [
      "\n"
     ]
    },
    {
     "name": "stderr",
     "output_type": "stream",
     "text": [
      "100%|████████████████████████████████████████████| 1/1 [00:00<00:00,  3.48it/s]\n",
      "\n",
      "/w/hallb-scshelf2102/clas12/users/gmat/clas12/neutneut/analysis/neutron_ml/../../src/TrainData.py:84: FutureWarning: The default of observed=False is deprecated and will be changed to True in a future version of pandas. Pass observed=False to retain current behavior or observed=True to adopt the future default and silence this warning.\n",
      "  group_sizes = df.groupby(group_cols).size()\n"
     ]
    },
    {
     "name": "stdout",
     "output_type": "stream",
     "text": [
      "Total files processed: 1"
     ]
    },
    {
     "name": "stderr",
     "output_type": "stream",
     "text": [
      " 72%|███████████████████████████▉           | 142/198 [00:00<00:00, 200.38it/s]"
     ]
    },
    {
     "name": "stdout",
     "output_type": "stream",
     "text": [
      "\n"
     ]
    },
    {
     "name": "stderr",
     "output_type": "stream",
     "text": [
      "\u001b[A\n",
      "100%|████████████████████████████████████████████| 1/1 [00:00<00:00,  5.41it/s]/w/hallb-scshelf2102/clas12/users/gmat/clas12/neutneut/analysis/neutron_ml/../../src/TrainData.py:84: FutureWarning: The default of observed=False is deprecated and will be changed to True in a future version of pandas. Pass observed=False to retain current behavior or observed=True to adopt the future default and silence this warning.\n",
      "  group_sizes = df.groupby(group_cols).size()\n",
      "\u001b[A\n",
      " 99%|██████████████████████████████████████▊| 197/198 [00:00<00:00, 228.60it/s]\u001b[A\n",
      " 71%|███████████████████████████▋           | 141/199 [00:00<00:00, 255.25it/s]\u001b[A\n",
      "100%|████████████████████████████████████████████| 1/1 [00:00<00:00,  3.00it/s]\u001b[A\n"
     ]
    },
    {
     "name": "stdout",
     "output_type": "stream",
     "text": [
      "Total files processed: 1"
     ]
    },
    {
     "name": "stderr",
     "output_type": "stream",
     "text": [
      "\n"
     ]
    },
    {
     "name": "stdout",
     "output_type": "stream",
     "text": [
      "\n"
     ]
    },
    {
     "name": "stderr",
     "output_type": "stream",
     "text": [
      " 88%|██████████████████████████████████▎    | 174/198 [00:00<00:00, 225.41it/s]\u001b[A/w/hallb-scshelf2102/clas12/users/gmat/clas12/neutneut/analysis/neutron_ml/../../src/TrainData.py:84: FutureWarning: The default of observed=False is deprecated and will be changed to True in a future version of pandas. Pass observed=False to retain current behavior or observed=True to adopt the future default and silence this warning.\n",
      "  group_sizes = df.groupby(group_cols).size()\n",
      "\n",
      "100%|████████████████████████████████████████████| 1/1 [00:00<00:00,  4.17it/s]\u001b[A\n",
      " 20%|████████▏                               | 40/196 [00:00<00:00, 393.79it/s]\u001b[A\n",
      " 53%|████████████████████▍                  | 103/196 [00:00<00:00, 266.39it/s]\u001b[A\n",
      "  0%|                                                    | 0/1 [00:00<?, ?it/s]\u001b[A\n",
      " 46%|██████████████████▌                     | 93/200 [00:01<00:00, 109.99it/s]\u001b[A\n",
      "  4%|█▋                                        | 8/198 [00:00<00:05, 33.69it/s]\u001b[A\n",
      "100%|████████████████████████████████████████████| 1/1 [00:00<00:00,  2.96it/s]\u001b[A\n"
     ]
    },
    {
     "name": "stdout",
     "output_type": "stream",
     "text": [
      "Total files processed: 1\n"
     ]
    },
    {
     "name": "stderr",
     "output_type": "stream",
     "text": [
      "/w/hallb-scshelf2102/clas12/users/gmat/clas12/neutneut/analysis/neutron_ml/../../src/TrainData.py:84: FutureWarning: The default of observed=False is deprecated and will be changed to True in a future version of pandas. Pass observed=False to retain current behavior or observed=True to adopt the future default and silence this warning.\n",
      "  group_sizes = df.groupby(group_cols).size()\n",
      "\n",
      " 83%|████████████████████████████████▎      | 164/198 [00:00<00:00, 194.59it/s]\u001b[A\n",
      "  0%|                                                    | 0/1 [00:00<?, ?it/s]\u001b[A\n",
      "  0%|                                                  | 0/199 [00:00<?, ?it/s]\u001b[A\n",
      "  0%|                                                    | 0/1 [00:00<?, ?it/s]\u001b[A\n",
      "100%|████████████████████████████████████████████| 1/1 [00:00<00:00,  2.77it/s]\u001b[A\n"
     ]
    },
    {
     "name": "stdout",
     "output_type": "stream",
     "text": [
      "Total files processed: 1"
     ]
    },
    {
     "name": "stderr",
     "output_type": "stream",
     "text": [
      "\n"
     ]
    },
    {
     "name": "stdout",
     "output_type": "stream",
     "text": [
      "\n"
     ]
    },
    {
     "name": "stderr",
     "output_type": "stream",
     "text": [
      "100%|███████████████████████████████████████| 198/198 [00:00<00:00, 212.99it/s]\u001b[A/w/hallb-scshelf2102/clas12/users/gmat/clas12/neutneut/analysis/neutron_ml/../../src/TrainData.py:84: FutureWarning: The default of observed=False is deprecated and will be changed to True in a future version of pandas. Pass observed=False to retain current behavior or observed=True to adopt the future default and silence this warning.\n",
      "  group_sizes = df.groupby(group_cols).size()\n",
      "\n",
      "\n",
      "  0%|                                                    | 0/1 [00:00<?, ?it/s]\u001b[A\n",
      "  0%|                                                  | 0/199 [00:00<?, ?it/s]\u001b[A\n",
      " 85%|█████████████████████████████████▎     | 170/199 [00:00<00:00, 264.12it/s]\u001b[A\n",
      "100%|████████████████████████████████████████████| 1/1 [00:00<00:00,  3.99it/s]\u001b[A\n",
      "100%|████████████████████████████████████████████| 1/1 [00:00<00:00,  4.94it/s]\u001b[A\n",
      " 21%|████████▏                               | 41/199 [00:00<00:00, 403.61it/s]\u001b[A\n",
      "  0%|                                                  | 0/195 [00:00<?, ?it/s]\u001b[A\n",
      "  0%|                                                    | 0/1 [00:00<?, ?it/s]\u001b[A\n",
      " 67%|██████████████████████████             | 131/196 [00:00<00:00, 238.10it/s]\u001b[A\n",
      "100%|████████████████████████████████████████████| 1/1 [00:00<00:00,  5.26it/s]\u001b[A\n",
      "  0%|                                                  | 0/196 [00:00<?, ?it/s]\u001b[A\n",
      "Processing CSV files:  82%|██████████████▊   | 412/500 [00:25<00:03, 23.21it/s]\u001b[A\n",
      "100%|███████████████████████████████████████| 198/198 [00:01<00:00, 196.87it/s]\u001b[A\n",
      "\n",
      "  0%|                                                  | 0/198 [00:00<?, ?it/s]\u001b[A\n",
      "  0%|                                                  | 0/199 [00:00<?, ?it/s]\u001b[A\n",
      "  0%|                                                  | 0/194 [00:00<?, ?it/s]\u001b[A\n",
      " 20%|████████                                | 40/199 [00:00<00:00, 392.79it/s]\u001b[A\n",
      " 41%|████████████████▎                       | 80/196 [00:00<00:00, 283.26it/s]\u001b[A\n",
      " 57%|██████████████████████▍                | 115/200 [00:01<00:00, 141.64it/s]\u001b[A\n",
      " 93%|████████████████████████████████████▍  | 185/198 [00:00<00:00, 196.44it/s]\u001b[A\n",
      "  0%|                                                  | 0/196 [00:00<?, ?it/s]\u001b[A\n",
      "  0%|                                                    | 0/1 [00:00<?, ?it/s]\u001b[A\n",
      "100%|████████████████████████████████████████████| 1/1 [00:00<00:00,  2.64it/s]\u001b[A\n"
     ]
    },
    {
     "name": "stdout",
     "output_type": "stream",
     "text": [
      "Total files processed: 1\n"
     ]
    },
    {
     "name": "stderr",
     "output_type": "stream",
     "text": [
      "/w/hallb-scshelf2102/clas12/users/gmat/clas12/neutneut/analysis/neutron_ml/../../src/TrainData.py:84: FutureWarning: The default of observed=False is deprecated and will be changed to True in a future version of pandas. Pass observed=False to retain current behavior or observed=True to adopt the future default and silence this warning.\n",
      "  group_sizes = df.groupby(group_cols).size()\n",
      "100%|███████████████████████████████████████| 199/199 [00:00<00:00, 209.04it/s]\n",
      "\n",
      " 22%|████████▌                               | 42/195 [00:00<00:00, 418.33it/s]\u001b[A\n",
      " 82%|████████████████████████████████       | 161/196 [00:00<00:00, 256.50it/s]\u001b[A\n",
      " 19%|███████▋                                | 38/199 [00:00<00:00, 378.29it/s]\u001b[A\n",
      " 32%|████████████▉                           | 64/198 [00:00<00:00, 179.68it/s]\u001b[A\n",
      " 41%|████████████████▍                       | 82/199 [00:00<00:00, 345.62it/s]\u001b[A\n",
      "  0%|                                                  | 0/199 [00:00<?, ?it/s]\u001b[A\n",
      "100%|████████████████████████████████████████████| 1/1 [00:00<00:00,  5.56it/s]\u001b[A\n",
      "  0%|                                                    | 0/1 [00:00<?, ?it/s]\u001b[A\n",
      "100%|████████████████████████████████████████████| 1/1 [00:00<00:00,  1.86it/s]\u001b[A\n",
      "\n"
     ]
    },
    {
     "name": "stdout",
     "output_type": "stream",
     "text": [
      "Total files processed: 1"
     ]
    },
    {
     "name": "stderr",
     "output_type": "stream",
     "text": [
      " 99%|██████████████████████████████████████▌| 197/199 [00:00<00:00, 246.33it/s]"
     ]
    },
    {
     "name": "stdout",
     "output_type": "stream",
     "text": [
      "\n"
     ]
    },
    {
     "name": "stderr",
     "output_type": "stream",
     "text": [
      "\u001b[A\n",
      " 19%|███████▊                                | 38/196 [00:00<00:00, 379.19it/s]/w/hallb-scshelf2102/clas12/users/gmat/clas12/neutneut/analysis/neutron_ml/../../src/TrainData.py:84: FutureWarning: The default of observed=False is deprecated and will be changed to True in a future version of pandas. Pass observed=False to retain current behavior or observed=True to adopt the future default and silence this warning.\n",
      "  group_sizes = df.groupby(group_cols).size()\n",
      "Processing CSV files:  83%|██████████████▉   | 415/500 [00:25<00:04, 20.17it/s]\n",
      " 20%|███████▉                                | 39/198 [00:00<00:00, 388.14it/s]\u001b[A\n",
      " 65%|█████████████████████████▎             | 130/200 [00:01<00:00, 122.72it/s]\u001b[A\n",
      " 20%|████████                                | 40/199 [00:00<00:00, 398.67it/s]\u001b[A\n",
      "100%|████████████████████████████████████████████| 1/1 [00:00<00:00,  5.18it/s]\u001b[A\n",
      "  0%|                                                  | 0/197 [00:00<?, ?it/s]\u001b[A\n",
      " 20%|████████                                | 39/194 [00:00<00:00, 381.48it/s]\u001b[A\n",
      " 57%|██████████████████████                 | 111/196 [00:00<00:00, 235.03it/s]\u001b[A\n",
      "100%|████████████████████████████████████████████| 1/1 [00:00<00:00,  2.17it/s]\u001b[A\n",
      "\n"
     ]
    },
    {
     "name": "stdout",
     "output_type": "stream",
     "text": [
      "Total files processed: 1"
     ]
    },
    {
     "name": "stderr",
     "output_type": "stream",
     "text": [
      " 40%|████████████████                        | 80/199 [00:00<00:00, 353.09it/s]\u001b[A"
     ]
    },
    {
     "name": "stdout",
     "output_type": "stream",
     "text": [
      "\n"
     ]
    },
    {
     "name": "stderr",
     "output_type": "stream",
     "text": [
      "/w/hallb-scshelf2102/clas12/users/gmat/clas12/neutneut/analysis/neutron_ml/../../src/TrainData.py:84: FutureWarning: The default of observed=False is deprecated and will be changed to True in a future version of pandas. Pass observed=False to retain current behavior or observed=True to adopt the future default and silence this warning.\n",
      "  group_sizes = df.groupby(group_cols).size()\n",
      "\n",
      "100%|████████████████████████████████████████████| 1/1 [00:00<00:00,  4.57it/s]\u001b[A\n",
      "  0%|                                                  | 0/198 [00:00<?, ?it/s]\u001b[A\n",
      "100%|████████████████████████████████████████████| 1/1 [00:00<00:00,  5.62it/s]\u001b[A\n",
      "100%|████████████████████████████████████████████| 1/1 [00:00<00:00,  4.35it/s]\u001b[A\n",
      " 20%|███████▉                                | 39/196 [00:00<00:00, 389.12it/s]\u001b[A\n",
      "100%|███████████████████████████████████████| 198/198 [00:01<00:00, 172.55it/s]\u001b[A\n",
      "\n",
      " 96%|█████████████████████████████████████▍ | 188/196 [00:00<00:00, 235.06it/s]\u001b[A\n",
      " 43%|█████████████████▏                      | 84/195 [00:00<00:00, 299.48it/s]\u001b[A\n",
      " 38%|███████████████▎                        | 76/199 [00:00<00:00, 288.29it/s]\u001b[A\n",
      "100%|████████████████████████████████████████████| 1/1 [00:00<00:00,  2.47it/s]\u001b[A\n",
      "\n"
     ]
    },
    {
     "name": "stdout",
     "output_type": "stream",
     "text": [
      "Total files processed: 1\n"
     ]
    },
    {
     "name": "stderr",
     "output_type": "stream",
     "text": [
      " 59%|███████████████████████▏               | 118/199 [00:00<00:00, 271.82it/s]\u001b[A\n",
      "/w/hallb-scshelf2102/clas12/users/gmat/clas12/neutneut/analysis/neutron_ml/../../src/TrainData.py:84: FutureWarning: The default of observed=False is deprecated and will be changed to True in a future version of pandas. Pass observed=False to retain current behavior or observed=True to adopt the future default and silence this warning.\n",
      "  group_sizes = df.groupby(group_cols).size()\n",
      "100%|████████████████████████████████████████████| 1/1 [00:00<00:00,  3.11it/s]\u001b[A\n"
     ]
    },
    {
     "name": "stdout",
     "output_type": "stream",
     "text": [
      "Total files processed: 1"
     ]
    },
    {
     "name": "stderr",
     "output_type": "stream",
     "text": [
      "100%|████████████████████████████████████████████| 1/1 [00:00<00:00,  1.84it/s]"
     ]
    },
    {
     "name": "stdout",
     "output_type": "stream",
     "text": [
      "\n"
     ]
    },
    {
     "name": "stderr",
     "output_type": "stream",
     "text": [
      "\n"
     ]
    },
    {
     "name": "stdout",
     "output_type": "stream",
     "text": [
      "Total files processed: 1"
     ]
    },
    {
     "name": "stderr",
     "output_type": "stream",
     "text": [
      "\n",
      "/w/hallb-scshelf2102/clas12/users/gmat/clas12/neutneut/analysis/neutron_ml/../../src/TrainData.py:84: FutureWarning: The default of observed=False is deprecated and will be changed to True in a future version of pandas. Pass observed=False to retain current behavior or observed=True to adopt the future default and silence this warning.\n",
      "  group_sizes = df.groupby(group_cols).size()\n"
     ]
    },
    {
     "name": "stdout",
     "output_type": "stream",
     "text": [
      "\n"
     ]
    },
    {
     "name": "stderr",
     "output_type": "stream",
     "text": [
      "100%|███████████████████████████████████████| 199/199 [00:01<00:00, 194.04it/s]\u001b[A\n",
      "\n",
      "  0%|                                                    | 0/1 [00:00<?, ?it/s]\u001b[A\n",
      " 69%|███████████████████████████            | 136/196 [00:00<00:00, 219.04it/s]\u001b[A\n",
      "100%|████████████████████████████████████████████| 1/1 [00:00<00:00,  3.53it/s]\u001b[A/w/hallb-scshelf2102/clas12/users/gmat/clas12/neutneut/analysis/neutron_ml/../../src/TrainData.py:84: FutureWarning: The default of observed=False is deprecated and will be changed to True in a future version of pandas. Pass observed=False to retain current behavior or observed=True to adopt the future default and silence this warning.\n",
      "  group_sizes = df.groupby(group_cols).size()\n",
      "\n",
      "100%|████████████████████████████████████████████| 1/1 [00:00<00:00,  5.19it/s]\u001b[A\n",
      "100%|████████████████████████████████████████████| 1/1 [00:00<00:00,  2.43it/s]\u001b[A\n",
      "\n"
     ]
    },
    {
     "name": "stdout",
     "output_type": "stream",
     "text": [
      "Total files processed: 1"
     ]
    },
    {
     "name": "stderr",
     "output_type": "stream",
     "text": [
      " 39%|███████████████▊                        | 78/198 [00:00<00:00, 261.85it/s]"
     ]
    },
    {
     "name": "stdout",
     "output_type": "stream",
     "text": [
      "\n"
     ]
    },
    {
     "name": "stderr",
     "output_type": "stream",
     "text": [
      "/w/hallb-scshelf2102/clas12/users/gmat/clas12/neutneut/analysis/neutron_ml/../../src/TrainData.py:84: FutureWarning: The default of observed=False is deprecated and will be changed to True in a future version of pandas. Pass observed=False to retain current behavior or observed=True to adopt the future default and silence this warning.\n",
      "  group_sizes = df.groupby(group_cols).size()\n",
      "\u001b[A\n",
      " 40%|████████████████                        | 80/199 [00:00<00:00, 274.91it/s]\u001b[A\n",
      "100%|████████████████████████████████████████████| 1/1 [00:00<00:00,  2.46it/s]\u001b[A\n",
      "\n"
     ]
    },
    {
     "name": "stdout",
     "output_type": "stream",
     "text": [
      "Total files processed: 1\n"
     ]
    },
    {
     "name": "stderr",
     "output_type": "stream",
     "text": [
      "100%|████████████████████████████████████████████| 1/1 [00:00<00:00,  2.32it/s]\u001b[A/w/hallb-scshelf2102/clas12/users/gmat/clas12/neutneut/analysis/neutron_ml/../../src/TrainData.py:84: FutureWarning: The default of observed=False is deprecated and will be changed to True in a future version of pandas. Pass observed=False to retain current behavior or observed=True to adopt the future default and silence this warning.\n",
      "  group_sizes = df.groupby(group_cols).size()\n",
      "\n",
      "\n"
     ]
    },
    {
     "name": "stdout",
     "output_type": "stream",
     "text": [
      "Total files processed: 1\n"
     ]
    },
    {
     "name": "stderr",
     "output_type": "stream",
     "text": [
      " 21%|████████▎                               | 41/197 [00:00<00:00, 403.02it/s]\u001b[A/w/hallb-scshelf2102/clas12/users/gmat/clas12/neutneut/analysis/neutron_ml/../../src/TrainData.py:84: FutureWarning: The default of observed=False is deprecated and will be changed to True in a future version of pandas. Pass observed=False to retain current behavior or observed=True to adopt the future default and silence this warning.\n",
      "  group_sizes = df.groupby(group_cols).size()\n",
      "\n",
      "100%|████████████████████████████████████████████| 1/1 [00:00<00:00,  6.69it/s]\u001b[A\n",
      "  0%|                                                    | 0/1 [00:00<?, ?it/s]\u001b[A\n",
      "100%|████████████████████████████████████████████| 1/1 [00:00<00:00,  2.17it/s]\u001b[A\n",
      "\n"
     ]
    },
    {
     "name": "stdout",
     "output_type": "stream",
     "text": [
      "Total files processed: 1\n"
     ]
    },
    {
     "name": "stderr",
     "output_type": "stream",
     "text": [
      "/w/hallb-scshelf2102/clas12/users/gmat/clas12/neutneut/analysis/neutron_ml/../../src/TrainData.py:84: FutureWarning: The default of observed=False is deprecated and will be changed to True in a future version of pandas. Pass observed=False to retain current behavior or observed=True to adopt the future default and silence this warning.\n",
      "  group_sizes = df.groupby(group_cols).size()\n",
      " 78%|██████████████████████████████▍        | 156/200 [00:01<00:00, 121.79it/s]\u001b[A\n",
      " 55%|█████████████████████▍                 | 109/198 [00:00<00:00, 171.72it/s]\u001b[A\n",
      "  0%|                                                    | 0/1 [00:00<?, ?it/s]\u001b[A\n",
      " 22%|████████▉                               | 44/198 [00:00<00:00, 436.57it/s]\u001b[A\n",
      "  0%|                                                  | 0/195 [00:00<?, ?it/s]\u001b[A\n",
      " 40%|███████████████▉                        | 78/196 [00:00<00:00, 266.63it/s]\u001b[A\n",
      " 54%|████████████████████▉                  | 107/199 [00:00<00:00, 254.57it/s]\u001b[A\n",
      " 59%|███████████████████████▏               | 116/195 [00:00<00:00, 259.89it/s]\u001b[A\n",
      " 81%|███████████████████████████████▋       | 159/196 [00:00<00:00, 221.63it/s]\u001b[A\n",
      "100%|███████████████████████████████████████| 196/196 [00:01<00:00, 192.00it/s]\u001b[A\n",
      "\n",
      " 58%|██████████████████████▌                | 113/195 [00:00<00:00, 263.13it/s]\u001b[A\n",
      "100%|████████████████████████████████████████████| 1/1 [00:00<00:00,  2.09it/s]\u001b[A\n",
      "\n"
     ]
    },
    {
     "name": "stdout",
     "output_type": "stream",
     "text": [
      "Total files processed: 1\n"
     ]
    },
    {
     "name": "stderr",
     "output_type": "stream",
     "text": [
      "100%|████████████████████████████████████████████| 1/1 [00:00<00:00,  2.54it/s]\u001b[A/w/hallb-scshelf2102/clas12/users/gmat/clas12/neutneut/analysis/neutron_ml/../../src/TrainData.py:84: FutureWarning: The default of observed=False is deprecated and will be changed to True in a future version of pandas. Pass observed=False to retain current behavior or observed=True to adopt the future default and silence this warning.\n",
      "  group_sizes = df.groupby(group_cols).size()\n",
      "\n"
     ]
    },
    {
     "name": "stdout",
     "output_type": "stream",
     "text": [
      "Total files processed: 1"
     ]
    },
    {
     "name": "stderr",
     "output_type": "stream",
     "text": [
      "\n"
     ]
    },
    {
     "name": "stdout",
     "output_type": "stream",
     "text": [
      "\n"
     ]
    },
    {
     "name": "stderr",
     "output_type": "stream",
     "text": [
      " 54%|█████████████████████                  | 107/198 [00:00<00:00, 237.50it/s]/w/hallb-scshelf2102/clas12/users/gmat/clas12/neutneut/analysis/neutron_ml/../../src/TrainData.py:84: FutureWarning: The default of observed=False is deprecated and will be changed to True in a future version of pandas. Pass observed=False to retain current behavior or observed=True to adopt the future default and silence this warning.\n",
      "  group_sizes = df.groupby(group_cols).size()\n",
      "\u001b[A\n",
      " 93%|████████████████████████████████████▏  | 182/196 [00:00<00:00, 198.63it/s]\u001b[A\n",
      " 55%|█████████████████████▌                 | 110/199 [00:00<00:00, 244.18it/s]\u001b[A\n",
      " 87%|█████████████████████████████████▉     | 173/199 [00:00<00:00, 219.34it/s]\u001b[A\n",
      "Processing CSV files:  84%|███████████████   | 418/500 [00:26<00:05, 15.06it/s]\u001b[A\n",
      "  0%|                                                    | 0/1 [00:00<?, ?it/s]\u001b[A\n",
      " 65%|█████████████████████████▏             | 128/198 [00:00<00:00, 165.37it/s]\u001b[A\n",
      "100%|████████████████████████████████████████████| 1/1 [00:00<00:00,  2.58it/s]\u001b[A\n",
      "\n"
     ]
    },
    {
     "name": "stdout",
     "output_type": "stream",
     "text": [
      "Total files processed: 1"
     ]
    },
    {
     "name": "stderr",
     "output_type": "stream",
     "text": [
      " 20%|████████▏                               | 40/196 [00:00<00:00, 394.34it/s]\u001b[A"
     ]
    },
    {
     "name": "stdout",
     "output_type": "stream",
     "text": [
      "\n"
     ]
    },
    {
     "name": "stderr",
     "output_type": "stream",
     "text": [
      "\n",
      " 74%|████████████████████████████▊          | 144/195 [00:00<00:00, 240.22it/s]/w/hallb-scshelf2102/clas12/users/gmat/clas12/neutneut/analysis/neutron_ml/../../src/TrainData.py:84: FutureWarning: The default of observed=False is deprecated and will be changed to True in a future version of pandas. Pass observed=False to retain current behavior or observed=True to adopt the future default and silence this warning.\n",
      "  group_sizes = df.groupby(group_cols).size()\n",
      "\u001b[A\n",
      "  0%|                                                  | 0/195 [00:00<?, ?it/s]\u001b[A\n",
      " 55%|█████████████████████▎                 | 107/196 [00:00<00:00, 238.03it/s]\u001b[A\n",
      " 67%|██████████████████████████▎            | 134/199 [00:00<00:00, 227.01it/s]\u001b[A\n",
      " 44%|█████████████████▊                      | 88/198 [00:00<00:00, 308.41it/s]\u001b[A\n",
      " 84%|████████████████████████████████▉      | 169/200 [00:01<00:00, 119.11it/s]\u001b[A\n",
      "100%|████████████████████████████████████████████| 1/1 [00:00<00:00,  4.69it/s]\u001b[A\n",
      " 74%|████████████████████████████▊          | 147/199 [00:00<00:00, 259.53it/s]\u001b[A\n",
      " 66%|█████████████████████████▋             | 129/196 [00:00<00:00, 222.28it/s]\u001b[A\n",
      " 72%|████████████████████████████▏          | 141/195 [00:00<00:00, 231.42it/s]\u001b[A\n",
      " 21%|████████▍                               | 41/195 [00:00<00:00, 402.96it/s]\u001b[A\n",
      "  0%|                                                  | 0/199 [00:00<?, ?it/s]\u001b[A\n",
      " 59%|███████████████████████▏               | 118/199 [00:00<00:00, 266.62it/s]\u001b[A\n",
      " 67%|██████████████████████████             | 132/198 [00:00<00:00, 213.18it/s]\u001b[A\n",
      "  0%|                                                    | 0/1 [00:00<?, ?it/s]\u001b[A\n",
      "  0%|                                                  | 0/193 [00:00<?, ?it/s]\u001b[A\n",
      "  0%|                                                  | 0/198 [00:00<?, ?it/s]\u001b[A\n",
      " 74%|████████████████████████████▊          | 146/198 [00:01<00:00, 159.59it/s]\u001b[A\n",
      " 68%|██████████████████████████▋            | 136/199 [00:00<00:00, 220.94it/s]\u001b[A\n",
      "100%|████████████████████████████████████████████| 1/1 [00:00<00:00,  2.99it/s]\u001b[A\n",
      "\n"
     ]
    },
    {
     "name": "stdout",
     "output_type": "stream",
     "text": [
      "Total files processed: 1"
     ]
    },
    {
     "name": "stderr",
     "output_type": "stream",
     "text": [
      "100%|███████████████████████████████████████| 196/196 [00:00<00:00, 205.16it/s]\u001b[A\n",
      "\n",
      " 69%|██████████████████████████▉            | 134/194 [00:00<00:00, 206.72it/s]"
     ]
    },
    {
     "name": "stdout",
     "output_type": "stream",
     "text": [
      "\n"
     ]
    },
    {
     "name": "stderr",
     "output_type": "stream",
     "text": [
      "\u001b[A/w/hallb-scshelf2102/clas12/users/gmat/clas12/neutneut/analysis/neutron_ml/../../src/TrainData.py:84: FutureWarning: The default of observed=False is deprecated and will be changed to True in a future version of pandas. Pass observed=False to retain current behavior or observed=True to adopt the future default and silence this warning.\n",
      "  group_sizes = df.groupby(group_cols).size()\n",
      "\n",
      " 58%|██████████████████████▌                | 114/197 [00:00<00:00, 256.98it/s]\u001b[A\n",
      " 91%|███████████████████████████████████▍   | 182/200 [00:01<00:00, 100.89it/s]\u001b[A\n",
      "Processing CSV files:  84%|███████████████   | 420/500 [00:26<00:05, 14.10it/s]\u001b[A\n",
      "  0%|                                                    | 0/1 [00:00<?, ?it/s]\u001b[A\n",
      "  0%|                                                  | 0/195 [00:00<?, ?it/s]\u001b[A\n",
      " 79%|██████████████████████████████▉        | 158/199 [00:00<00:00, 213.61it/s]\u001b[A\n",
      " 41%|████████████████▎                       | 80/196 [00:00<00:00, 277.15it/s]\u001b[A\n",
      "100%|████████████████████████████████████████████| 1/1 [00:00<00:00,  4.70it/s]\u001b[A\n",
      " 85%|█████████████████████████████████      | 165/195 [00:00<00:00, 227.86it/s]\u001b[A\n",
      " 78%|██████████████████████████████▏        | 152/196 [00:00<00:00, 216.29it/s]\u001b[A\n",
      "  0%|                                                  | 0/196 [00:00<?, ?it/s]\u001b[A\n",
      "100%|████████████████████████████████████████████| 1/1 [00:00<00:00,  3.00it/s]\u001b[A\n",
      "\n",
      " 62%|████████████████████████               | 122/198 [00:00<00:00, 289.54it/s]"
     ]
    },
    {
     "name": "stdout",
     "output_type": "stream",
     "text": [
      "Total files processed: 1\n"
     ]
    },
    {
     "name": "stderr",
     "output_type": "stream",
     "text": [
      "\u001b[A\n",
      " 87%|██████████████████████████████████     | 174/199 [00:00<00:00, 201.89it/s]/w/hallb-scshelf2102/clas12/users/gmat/clas12/neutneut/analysis/neutron_ml/../../src/TrainData.py:84: FutureWarning: The default of observed=False is deprecated and will be changed to True in a future version of pandas. Pass observed=False to retain current behavior or observed=True to adopt the future default and silence this warning.\n",
      "  group_sizes = df.groupby(group_cols).size()\n",
      "\u001b[A\n",
      "  0%|                                                  | 0/195 [00:00<?, ?it/s]\u001b[A\n",
      " 21%|████████▍                               | 41/195 [00:00<00:00, 409.40it/s]\u001b[A\n",
      " 78%|██████████████████████████████▌        | 155/198 [00:00<00:00, 214.70it/s]\u001b[A\n",
      "  0%|                                                  | 0/195 [00:00<?, ?it/s]\u001b[A\n",
      " 67%|██████████████████████████▎            | 132/196 [00:00<00:00, 224.17it/s]\u001b[A\n",
      " 82%|████████████████████████████████       | 163/198 [00:01<00:00, 157.01it/s]\u001b[A\n",
      " 74%|████████████████████████████▊          | 147/199 [00:00<00:00, 249.49it/s]\u001b[A\n",
      " 42%|████████████████▊                       | 82/195 [00:00<00:00, 303.61it/s]\u001b[A\n",
      " 80%|███████████████████████████████▏       | 159/199 [00:00<00:00, 207.22it/s]\u001b[A\n",
      "100%|████████████████████████████████████████████| 1/1 [00:00<00:00,  5.59it/s]\u001b[A\n",
      " 80%|███████████████████████████████▎       | 156/194 [00:00<00:00, 206.22it/s]\u001b[A\n",
      "100%|██████████████████████████████████████▊| 199/200 [00:01<00:00, 117.07it/s]\u001b[A\n",
      " 72%|███████████████████████████▉           | 141/197 [00:00<00:00, 247.89it/s]\u001b[A\n",
      " 23%|█████████                               | 44/193 [00:00<00:00, 433.89it/s]\u001b[A\n",
      " 99%|██████████████████████████████████████▌| 193/195 [00:00<00:00, 219.39it/s]\u001b[A\n",
      "  0%|                                                  | 0/192 [00:00<?, ?it/s]\u001b[A\n",
      " 21%|████████▌                               | 42/196 [00:00<00:00, 417.09it/s]\u001b[A\n",
      " 90%|███████████████████████████████████▎   | 180/199 [00:00<00:00, 198.00it/s]\u001b[A\n",
      " 97%|█████████████████████████████████████▊ | 189/195 [00:00<00:00, 212.43it/s]\u001b[A\n",
      " 56%|█████████████████████▉                 | 110/196 [00:00<00:00, 250.12it/s]\u001b[A\n",
      " 89%|██████████████████████████████████▌    | 174/196 [00:00<00:00, 194.58it/s]\u001b[A\n",
      " 77%|██████████████████████████████▏        | 153/198 [00:00<00:00, 258.11it/s]\u001b[A\n",
      "100%|████████████████████████████████████████████| 1/1 [00:00<00:00,  2.19it/s]\u001b[A\n",
      "\n"
     ]
    },
    {
     "name": "stdout",
     "output_type": "stream",
     "text": [
      "Total files processed: 1\n"
     ]
    },
    {
     "name": "stderr",
     "output_type": "stream",
     "text": [
      "  0%|                                                  | 0/198 [00:00<?, ?it/s]\u001b[A\n",
      "/w/hallb-scshelf2102/clas12/users/gmat/clas12/neutneut/analysis/neutron_ml/../../src/TrainData.py:84: FutureWarning: The default of observed=False is deprecated and will be changed to True in a future version of pandas. Pass observed=False to retain current behavior or observed=True to adopt the future default and silence this warning.\n",
      "  group_sizes = df.groupby(group_cols).size()\n",
      " 21%|████████▏                               | 41/199 [00:00<00:00, 406.26it/s]\u001b[A\n",
      "100%|████████████████████████████████████████████| 1/1 [00:00<00:00,  5.26it/s]\u001b[A\n",
      " 89%|██████████████████████████████████▊    | 177/198 [00:00<00:00, 189.91it/s]\u001b[A\n",
      " 19%|███████▊                                | 38/196 [00:00<00:00, 372.88it/s]\u001b[A\n",
      " 91%|███████████████████████████████████▍   | 180/198 [00:01<00:00, 145.82it/s]\u001b[A\n",
      "100%|███████████████████████████████████████| 199/199 [00:01<00:00, 182.50it/s]\u001b[A\n",
      "\n",
      " 79%|██████████████████████████████▊        | 155/196 [00:00<00:00, 170.25it/s]\u001b[A\n",
      " 21%|████████▍                               | 41/195 [00:00<00:00, 403.70it/s]\u001b[A\n",
      " 87%|█████████████████████████████████▉     | 173/199 [00:00<00:00, 216.99it/s]\u001b[A\n",
      " 42%|████████████████▊                       | 82/195 [00:00<00:00, 264.95it/s]\u001b[A\n",
      " 91%|███████████████████████████████████▍   | 181/199 [00:00<00:00, 182.57it/s]\u001b[A\n",
      " 58%|██████████████████████▊                | 114/195 [00:00<00:00, 237.97it/s]\u001b[A\n",
      " 92%|███████████████████████████████████▊   | 178/194 [00:00<00:00, 179.48it/s]\u001b[A\n",
      " 19%|███████▌                                | 37/195 [00:00<00:00, 367.76it/s]\u001b[A\n",
      " 10%|████▏                                    | 20/198 [00:00<00:02, 76.35it/s]\u001b[A\n",
      " 85%|█████████████████████████████████      | 167/197 [00:00<00:00, 208.58it/s]\u001b[A\n",
      " 99%|██████████████████████████████████████▌| 194/196 [00:01<00:00, 186.70it/s]\u001b[A\n",
      "100%|████████████████████████████████████████████| 1/1 [00:00<00:00,  2.13it/s]\u001b[A\n",
      "\n"
     ]
    },
    {
     "name": "stdout",
     "output_type": "stream",
     "text": [
      "Total files processed: 1\n"
     ]
    },
    {
     "name": "stderr",
     "output_type": "stream",
     "text": [
      "100%|████████████████████████████████████████| 200/200 [00:02<00:00, 93.15it/s]\u001b[A/w/hallb-scshelf2102/clas12/users/gmat/clas12/neutneut/analysis/neutron_ml/../../src/TrainData.py:84: FutureWarning: The default of observed=False is deprecated and will be changed to True in a future version of pandas. Pass observed=False to retain current behavior or observed=True to adopt the future default and silence this warning.\n",
      "  group_sizes = df.groupby(group_cols).size()\n",
      "\n",
      "\n",
      " 22%|████████▉                               | 43/192 [00:00<00:00, 429.85it/s]\u001b[A\n",
      " 43%|█████████████████▏                      | 84/196 [00:00<00:00, 274.50it/s]\u001b[A\n",
      " 91%|███████████████████████████████████▍   | 180/198 [00:00<00:00, 228.56it/s]\u001b[A\n",
      " 98%|██████████████████████████████████████▍| 195/198 [00:01<00:00, 138.36it/s]\u001b[A\n",
      " 46%|██████████████████▏                     | 88/193 [00:00<00:00, 258.99it/s]\u001b[A\n",
      "100%|███████████████████████████████████████| 195/195 [00:01<00:00, 179.22it/s]\u001b[A\n",
      "\n",
      "100%|███████████████████████████████████████| 195/195 [00:01<00:00, 183.69it/s]\u001b[A\n",
      "\n",
      " 89%|██████████████████████████████████▌    | 174/196 [00:00<00:00, 159.98it/s]\u001b[A\n",
      " 46%|██████████████████▍                     | 90/195 [00:00<00:00, 299.09it/s]\u001b[A\n",
      " 98%|██████████████████████████████████████▍| 196/199 [00:01<00:00, 130.39it/s]\u001b[A\n",
      " 39%|███████████████▌                        | 76/196 [00:00<00:00, 268.60it/s]\u001b[A\n",
      "100%|███████████████████████████████████████| 199/199 [00:01<00:00, 179.98it/s]\u001b[A\n",
      "\n",
      "100%|████████████████████████████████████████████| 1/1 [00:00<00:00,  2.25it/s]\u001b[A\n"
     ]
    },
    {
     "name": "stdout",
     "output_type": "stream",
     "text": [
      "Total files processed: 1"
     ]
    },
    {
     "name": "stderr",
     "output_type": "stream",
     "text": [
      "\n"
     ]
    },
    {
     "name": "stdout",
     "output_type": "stream",
     "text": [
      "\n"
     ]
    },
    {
     "name": "stderr",
     "output_type": "stream",
     "text": [
      "/w/hallb-scshelf2102/clas12/users/gmat/clas12/neutneut/analysis/neutron_ml/../../src/TrainData.py:84: FutureWarning: The default of observed=False is deprecated and will be changed to True in a future version of pandas. Pass observed=False to retain current behavior or observed=True to adopt the future default and silence this warning.\n",
      "  group_sizes = df.groupby(group_cols).size()\n",
      " 97%|██████████████████████████████████████ | 191/196 [00:01<00:00, 159.63it/s]\n",
      " 59%|██████████████████████▉                | 115/196 [00:00<00:00, 248.28it/s]\u001b[A\n",
      " 43%|█████████████████▎                      | 86/199 [00:00<00:00, 285.85it/s]\u001b[A\n",
      " 61%|███████████████████████▊               | 118/193 [00:00<00:00, 229.61it/s]\u001b[A\n",
      " 57%|██████████████████████▍                | 112/195 [00:00<00:00, 224.34it/s]\u001b[A\n",
      " 42%|████████████████▊                       | 82/195 [00:00<00:00, 269.93it/s]\u001b[A\n",
      "100%|███████████████████████████████████████| 198/198 [00:01<00:00, 175.76it/s]\u001b[A\n",
      "\n",
      " 82%|████████████████████████████████       | 161/196 [00:00<00:00, 206.58it/s]\u001b[A\n",
      "Processing CSV files:  84%|███████████████▏  | 422/500 [00:26<00:08,  9.52it/s]\u001b[A\n",
      "100%|███████████████████████████████████████| 194/194 [00:01<00:00, 174.30it/s]\u001b[A\n",
      "100%|███████████████████████████████████████| 199/199 [00:01<00:00, 175.64it/s]\n",
      "\n",
      "100%|███████████████████████████████████████| 196/196 [00:01<00:00, 166.32it/s]\u001b[A\n",
      "100%|████████████████████████████████████████████| 1/1 [00:00<00:00,  2.07it/s]\n",
      "\n"
     ]
    },
    {
     "name": "stdout",
     "output_type": "stream",
     "text": [
      "Total files processed: 1"
     ]
    },
    {
     "name": "stderr",
     "output_type": "stream",
     "text": [
      " 14%|█████▊                                   | 28/198 [00:00<00:02, 72.76it/s]"
     ]
    },
    {
     "name": "stdout",
     "output_type": "stream",
     "text": [
      "\n"
     ]
    },
    {
     "name": "stderr",
     "output_type": "stream",
     "text": [
      "/w/hallb-scshelf2102/clas12/users/gmat/clas12/neutneut/analysis/neutron_ml/../../src/TrainData.py:84: FutureWarning: The default of observed=False is deprecated and will be changed to True in a future version of pandas. Pass observed=False to retain current behavior or observed=True to adopt the future default and silence this warning.\n",
      "  group_sizes = df.groupby(group_cols).size()\n",
      "\u001b[A\n",
      " 45%|█████████████████▉                      | 86/192 [00:00<00:00, 301.23it/s]\u001b[A\n",
      " 63%|████████████████████████▌              | 123/195 [00:00<00:00, 276.01it/s]\u001b[A\n",
      " 54%|█████████████████████▏                 | 108/199 [00:00<00:00, 196.16it/s]\u001b[A\n",
      "100%|███████████████████████████████████████| 198/198 [00:01<00:00, 124.96it/s]\u001b[A\n",
      "\n",
      "100%|███████████████████████████████████████| 198/198 [00:00<00:00, 204.83it/s]\u001b[A\n",
      "\n",
      "100%|███████████████████████████████████████| 199/199 [00:01<00:00, 153.92it/s]\u001b[A\n",
      "\n",
      "Processing CSV files:  85%|███████████████▎  | 424/500 [00:26<00:07, 10.74it/s]\u001b[A\n",
      " 70%|███████████████████████████▍           | 137/195 [00:00<00:00, 199.18it/s]\u001b[A\n",
      " 59%|███████████████████████▏               | 118/199 [00:00<00:00, 240.59it/s]\u001b[A\n",
      "100%|███████████████████████████████████████| 196/196 [00:01<00:00, 165.75it/s]\u001b[A\n",
      "\n",
      " 93%|████████████████████████████████████▍  | 183/196 [00:00<00:00, 192.73it/s]\u001b[A\n",
      " 57%|██████████████████████▍                | 112/195 [00:00<00:00, 229.53it/s]\u001b[A\n",
      " 80%|███████████████████████████████▏       | 157/196 [00:00<00:00, 298.85it/s]\u001b[A\n",
      " 82%|███████████████████████████████▉       | 158/193 [00:00<00:00, 276.68it/s]\u001b[A\n",
      " 52%|████████████████████▍                  | 102/195 [00:00<00:00, 222.08it/s]\u001b[A\n",
      " 18%|███████▍                                 | 36/198 [00:00<00:02, 57.19it/s]\u001b[A\n",
      "  0%|                                                  | 0/194 [00:00<?, ?it/s]\u001b[A\n",
      "  0%|                                                  | 0/196 [00:00<?, ?it/s]\u001b[A\n",
      " 66%|█████████████████████████▋             | 131/199 [00:00<00:00, 191.88it/s]\u001b[A\n",
      " 66%|█████████████████████████▌             | 130/198 [00:00<00:00, 358.68it/s]\u001b[A\n",
      " 62%|████████████████████████▏              | 119/192 [00:00<00:00, 263.95it/s]\u001b[A\n",
      " 78%|██████████████████████████████▍        | 152/195 [00:00<00:00, 245.98it/s]\u001b[A\n",
      " 67%|██████████████████████████             | 131/196 [00:00<00:00, 221.04it/s]\u001b[A\n",
      "  0%|                                                    | 0/1 [00:00<?, ?it/s]\u001b[A\n",
      " 81%|███████████████████████████████▌       | 158/195 [00:00<00:00, 192.04it/s]\u001b[A\n",
      " 94%|████████████████████████████████████▌  | 183/195 [00:00<00:00, 182.23it/s]\u001b[A\n",
      " 72%|████████████████████████████▏          | 144/199 [00:00<00:00, 225.02it/s]\u001b[A\n",
      "  0%|                                                  | 0/198 [00:00<?, ?it/s]\u001b[A\n",
      "  0%|                                                    | 0/1 [00:00<?, ?it/s]\u001b[A\n",
      "Processing CSV files:  85%|███████████████▎  | 427/500 [00:27<00:05, 12.97it/s]\u001b[A\n",
      "100%|███████████████████████████████████████| 199/199 [00:01<00:00, 162.20it/s]\u001b[A\n",
      "100%|███████████████████████████████████████| 197/197 [00:01<00:00, 167.10it/s]\n",
      "\n",
      " 21%|████████▋                                | 42/198 [00:00<00:02, 56.82it/s]\u001b[A\n",
      "  0%|                                                    | 0/1 [00:00<?, ?it/s]\u001b[A\n",
      " 70%|███████████████████████████▍           | 137/195 [00:00<00:00, 215.82it/s]\u001b[A\n",
      "100%|████████████████████████████████████████████| 1/1 [00:00<00:00,  5.51it/s]\u001b[A\n",
      " 97%|█████████████████████████████████████▊ | 190/196 [00:00<00:00, 266.24it/s]\u001b[A\n",
      " 98%|██████████████████████████████████████▏| 189/193 [00:00<00:00, 257.45it/s]\u001b[A\n",
      " 65%|█████████████████████████▏             | 126/195 [00:00<00:00, 197.98it/s]\u001b[A\n",
      "  0%|                                                    | 0/1 [00:00<?, ?it/s]\u001b[A\n",
      "  0%|                                                  | 0/197 [00:00<?, ?it/s]\u001b[A\n",
      " 79%|██████████████████████████████▋        | 154/196 [00:00<00:00, 209.59it/s]\u001b[A\n",
      " 77%|█████████████████████████████▊         | 147/192 [00:00<00:00, 247.27it/s]\u001b[A\n",
      " 91%|███████████████████████████████████▌   | 178/195 [00:00<00:00, 231.57it/s]\u001b[A\n",
      "100%|███████████████████████████████████████| 196/196 [00:01<00:00, 184.57it/s]\u001b[A\n",
      "\n",
      "  0%|                                                    | 0/1 [00:00<?, ?it/s]\u001b[A\n",
      " 93%|████████████████████████████████████▍  | 182/195 [00:00<00:00, 203.78it/s]\u001b[A\n",
      "100%|███████████████████████████████████████| 195/195 [00:01<00:00, 194.78it/s]\u001b[A\n",
      "\n",
      " 86%|█████████████████████████████████▌     | 171/199 [00:00<00:00, 236.02it/s]\u001b[A\n",
      " 85%|█████████████████████████████████▎     | 169/198 [00:00<00:00, 312.91it/s]\u001b[A\n",
      " 20%|████████                                | 39/194 [00:00<00:00, 387.80it/s]\u001b[A\n",
      " 29%|████████████                             | 58/198 [00:00<00:01, 84.27it/s]\u001b[A\n",
      "100%|████████████████████████████████████████████| 1/1 [00:00<00:00,  3.09it/s]\u001b[A\n",
      "Processing CSV files:  87%|███████████████▌  | 434/500 [00:27<00:02, 22.49it/s]"
     ]
    },
    {
     "name": "stdout",
     "output_type": "stream",
     "text": [
      "Total files processed: 1\n"
     ]
    },
    {
     "name": "stderr",
     "output_type": "stream",
     "text": [
      "\n",
      "/w/hallb-scshelf2102/clas12/users/gmat/clas12/neutneut/analysis/neutron_ml/../../src/TrainData.py:84: FutureWarning: The default of observed=False is deprecated and will be changed to True in a future version of pandas. Pass observed=False to retain current behavior or observed=True to adopt the future default and silence this warning.\n",
      "  group_sizes = df.groupby(group_cols).size()\n",
      "  0%|                                                    | 0/1 [00:00<?, ?it/s]\u001b[A\n",
      "  0%|                                                    | 0/1 [00:00<?, ?it/s]\u001b[A\n",
      " 76%|█████████████████████████████▊         | 152/199 [00:00<00:00, 185.95it/s]\u001b[A\n",
      " 58%|██████████████████████▊                | 115/197 [00:00<00:00, 275.86it/s]\u001b[A\n",
      "  0%|                                                    | 0/1 [00:00<?, ?it/s]\u001b[A\n",
      "  0%|                                                    | 0/1 [00:00<?, ?it/s]\u001b[A\n",
      "100%|███████████████████████████████████████| 193/193 [00:00<00:00, 213.67it/s]\u001b[A\n",
      "100%|███████████████████████████████████████| 196/196 [00:00<00:00, 222.77it/s]\n",
      "\n",
      " 20%|███████▉                                | 39/198 [00:00<00:00, 383.10it/s]\u001b[A\n",
      " 75%|█████████████████████████████▍         | 147/195 [00:00<00:00, 200.67it/s]\u001b[A\n",
      " 94%|████████████████████████████████████▊  | 185/196 [00:00<00:00, 236.42it/s]\u001b[A\n",
      " 93%|████████████████████████████████████▎  | 179/192 [00:00<00:00, 267.62it/s]\u001b[A\n",
      " 40%|███████████████▉                        | 78/196 [00:00<00:00, 313.28it/s]\u001b[A\n",
      " 40%|███████████████▉                        | 79/198 [00:00<00:01, 118.47it/s]\u001b[A\n",
      "100%|████████████████████████████████████████████| 1/1 [00:00<00:00,  5.94it/s]\u001b[A\n",
      "100%|████████████████████████████████████████████| 1/1 [00:00<00:00,  6.27it/s]\u001b[A\n",
      " 40%|████████████████                        | 78/194 [00:00<00:00, 329.15it/s]\u001b[A\n",
      "100%|███████████████████████████████████████| 195/195 [00:00<00:00, 219.01it/s]\u001b[A\n",
      "100%|███████████████████████████████████████| 195/195 [00:01<00:00, 188.80it/s]\n",
      "\n",
      "  0%|                                                    | 0/1 [00:00<?, ?it/s]\u001b[A\n",
      "100%|███████████████████████████████████████| 199/199 [00:00<00:00, 225.49it/s]\u001b[A\n",
      "100%|███████████████████████████████████████| 198/198 [00:00<00:00, 275.65it/s]\n",
      "\n",
      " 22%|████████▋                               | 43/197 [00:00<00:00, 420.41it/s]\u001b[A\n",
      " 86%|█████████████████████████████████▋     | 172/199 [00:01<00:00, 152.33it/s]\u001b[A\n",
      "  0%|                                                    | 0/1 [00:00<?, ?it/s]\u001b[A\n",
      " 73%|████████████████████████████▌          | 144/197 [00:00<00:00, 239.39it/s]\u001b[A\n",
      "100%|███████████████████████████████████████| 196/196 [00:00<00:00, 208.32it/s]\u001b[A\n",
      "\n",
      " 86%|█████████████████████████████████▌     | 168/195 [00:00<00:00, 178.19it/s]\u001b[A\n",
      " 49%|███████████████████▌                    | 97/198 [00:01<00:00, 135.36it/s]\u001b[A\n",
      "Processing CSV files:  88%|███████████████▊  | 438/500 [00:27<00:02, 20.94it/s]\u001b[A\n",
      "100%|████████████████████████████████████████████| 1/1 [00:00<00:00,  4.42it/s]\u001b[A\n",
      "100%|████████████████████████████████████████████| 1/1 [00:00<00:00,  3.19it/s]\u001b[A\n",
      "\n"
     ]
    },
    {
     "name": "stdout",
     "output_type": "stream",
     "text": [
      "Total files processed: 1\n"
     ]
    },
    {
     "name": "stderr",
     "output_type": "stream",
     "text": [
      "  0%|                                                    | 0/1 [00:00<?, ?it/s]\u001b[A\n",
      "/w/hallb-scshelf2102/clas12/users/gmat/clas12/neutneut/analysis/neutron_ml/../../src/TrainData.py:84: FutureWarning: The default of observed=False is deprecated and will be changed to True in a future version of pandas. Pass observed=False to retain current behavior or observed=True to adopt the future default and silence this warning.\n",
      "  group_sizes = df.groupby(group_cols).size()\n",
      "100%|███████████████████████████████████████| 192/192 [00:00<00:00, 222.74it/s]\u001b[A\n",
      "100%|████████████████████████████████████████████| 1/1 [00:00<00:00,  2.86it/s]\n",
      "\n"
     ]
    },
    {
     "name": "stdout",
     "output_type": "stream",
     "text": [
      "Total files processed: 1\n"
     ]
    },
    {
     "name": "stderr",
     "output_type": "stream",
     "text": [
      " 57%|██████████████████████▎                | 112/196 [00:00<00:00, 322.71it/s]\u001b[A/w/hallb-scshelf2102/clas12/users/gmat/clas12/neutneut/analysis/neutron_ml/../../src/TrainData.py:84: FutureWarning: The default of observed=False is deprecated and will be changed to True in a future version of pandas. Pass observed=False to retain current behavior or observed=True to adopt the future default and silence this warning.\n",
      "  group_sizes = df.groupby(group_cols).size()\n",
      "\n",
      "100%|████████████████████████████████████████████| 1/1 [00:00<00:00,  5.26it/s]\u001b[A\n",
      " 58%|██████████████████████▌                | 112/194 [00:00<00:00, 304.77it/s]\u001b[A\n",
      "100%|████████████████████████████████████████████| 1/1 [00:00<00:00,  2.59it/s]\u001b[A\n",
      "\n"
     ]
    },
    {
     "name": "stdout",
     "output_type": "stream",
     "text": [
      "Total files processed: 1"
     ]
    },
    {
     "name": "stderr",
     "output_type": "stream",
     "text": [
      "100%|████████████████████████████████████████████| 1/1 [00:00<00:00,  5.37it/s]"
     ]
    },
    {
     "name": "stdout",
     "output_type": "stream",
     "text": [
      "\n"
     ]
    },
    {
     "name": "stderr",
     "output_type": "stream",
     "text": [
      "\u001b[A\n",
      " 95%|█████████████████████████████████████  | 189/199 [00:01<00:00, 149.95it/s]/w/hallb-scshelf2102/clas12/users/gmat/clas12/neutneut/analysis/neutron_ml/../../src/TrainData.py:84: FutureWarning: The default of observed=False is deprecated and will be changed to True in a future version of pandas. Pass observed=False to retain current behavior or observed=True to adopt the future default and silence this warning.\n",
      "  group_sizes = df.groupby(group_cols).size()\n",
      "\u001b[A\n",
      "100%|████████████████████████████████████████████| 1/1 [00:00<00:00,  2.74it/s]\u001b[A\n",
      "\n"
     ]
    },
    {
     "name": "stdout",
     "output_type": "stream",
     "text": [
      "Total files processed: 1\n"
     ]
    },
    {
     "name": "stderr",
     "output_type": "stream",
     "text": [
      "  0%|                                                    | 0/1 [00:00<?, ?it/s]\u001b[A/w/hallb-scshelf2102/clas12/users/gmat/clas12/neutneut/analysis/neutron_ml/../../src/TrainData.py:84: FutureWarning: The default of observed=False is deprecated and will be changed to True in a future version of pandas. Pass observed=False to retain current behavior or observed=True to adopt the future default and silence this warning.\n",
      "  group_sizes = df.groupby(group_cols).size()\n",
      "\n",
      "100%|████████████████████████████████████████████| 1/1 [00:00<00:00,  5.55it/s]\u001b[A\n",
      "100%|████████████████████████████████████████████| 1/1 [00:00<00:00,  5.45it/s]\u001b[A\n",
      " 86%|█████████████████████████████████▍     | 169/197 [00:00<00:00, 224.09it/s]\u001b[A\n",
      " 96%|█████████████████████████████████████▍ | 187/195 [00:00<00:00, 174.29it/s]\u001b[A\n",
      "100%|████████████████████████████████████████████| 1/1 [00:00<00:00,  3.58it/s]\u001b[A\n",
      "100%|███████████████████████████████████████| 195/195 [00:01<00:00, 188.77it/s]"
     ]
    },
    {
     "name": "stdout",
     "output_type": "stream",
     "text": [
      "Total files processed: 1"
     ]
    },
    {
     "name": "stderr",
     "output_type": "stream",
     "text": [
      "\n"
     ]
    },
    {
     "name": "stdout",
     "output_type": "stream",
     "text": [
      "\n"
     ]
    },
    {
     "name": "stderr",
     "output_type": "stream",
     "text": [
      "100%|████████████████████████████████████████████| 1/1 [00:00<00:00,  2.90it/s]/w/hallb-scshelf2102/clas12/users/gmat/clas12/neutneut/analysis/neutron_ml/../../src/TrainData.py:84: FutureWarning: The default of observed=False is deprecated and will be changed to True in a future version of pandas. Pass observed=False to retain current behavior or observed=True to adopt the future default and silence this warning.\n",
      "  group_sizes = df.groupby(group_cols).size()\n",
      "\n",
      "\n",
      " 44%|█████████████████▍                      | 86/197 [00:00<00:00, 251.90it/s]\u001b[A\n",
      "100%|████████████████████████████████████████████| 1/1 [00:00<00:00,  2.64it/s]\u001b[A\n"
     ]
    },
    {
     "name": "stdout",
     "output_type": "stream",
     "text": [
      "Total files processed: 1"
     ]
    },
    {
     "name": "stderr",
     "output_type": "stream",
     "text": [
      "\n"
     ]
    },
    {
     "name": "stdout",
     "output_type": "stream",
     "text": [
      "\n"
     ]
    },
    {
     "name": "stderr",
     "output_type": "stream",
     "text": [
      "100%|████████████████████████████████████████████| 1/1 [00:00<00:00,  2.77it/s]\u001b[A/w/hallb-scshelf2102/clas12/users/gmat/clas12/neutneut/analysis/neutron_ml/../../src/TrainData.py:84: FutureWarning: The default of observed=False is deprecated and will be changed to True in a future version of pandas. Pass observed=False to retain current behavior or observed=True to adopt the future default and silence this warning.\n",
      "  group_sizes = df.groupby(group_cols).size()\n",
      "\n"
     ]
    },
    {
     "name": "stdout",
     "output_type": "stream",
     "text": [
      "Total files processed: 1Total files processed: 1"
     ]
    },
    {
     "name": "stderr",
     "output_type": "stream",
     "text": [
      "\n",
      "100%|████████████████████████████████████████████| 1/1 [00:00<00:00,  5.61it/s]"
     ]
    },
    {
     "name": "stdout",
     "output_type": "stream",
     "text": [
      "\n"
     ]
    },
    {
     "name": "stderr",
     "output_type": "stream",
     "text": [
      "\u001b[A/w/hallb-scshelf2102/clas12/users/gmat/clas12/neutneut/analysis/neutron_ml/../../src/TrainData.py:84: FutureWarning: The default of observed=False is deprecated and will be changed to True in a future version of pandas. Pass observed=False to retain current behavior or observed=True to adopt the future default and silence this warning.\n",
      "  group_sizes = df.groupby(group_cols).size()\n"
     ]
    },
    {
     "name": "stdout",
     "output_type": "stream",
     "text": [
      "\n"
     ]
    },
    {
     "name": "stderr",
     "output_type": "stream",
     "text": [
      "/w/hallb-scshelf2102/clas12/users/gmat/clas12/neutneut/analysis/neutron_ml/../../src/TrainData.py:84: FutureWarning: The default of observed=False is deprecated and will be changed to True in a future version of pandas. Pass observed=False to retain current behavior or observed=True to adopt the future default and silence this warning.\n",
      "  group_sizes = df.groupby(group_cols).size()\n",
      "100%|████████████████████████████████████████████| 1/1 [00:00<00:00,  2.63it/s]\n",
      "\n"
     ]
    },
    {
     "name": "stdout",
     "output_type": "stream",
     "text": [
      "Total files processed: 1\n"
     ]
    },
    {
     "name": "stderr",
     "output_type": "stream",
     "text": [
      "  0%|                                                    | 0/1 [00:00<?, ?it/s]\u001b[A\n",
      "/w/hallb-scshelf2102/clas12/users/gmat/clas12/neutneut/analysis/neutron_ml/../../src/TrainData.py:84: FutureWarning: The default of observed=False is deprecated and will be changed to True in a future version of pandas. Pass observed=False to retain current behavior or observed=True to adopt the future default and silence this warning.\n",
      "  group_sizes = df.groupby(group_cols).size()\n",
      "100%|████████████████████████████████████████████| 1/1 [00:00<00:00,  3.24it/s]\u001b[A\n",
      "100%|███████████████████████████████████████| 199/199 [00:01<00:00, 163.20it/s]"
     ]
    },
    {
     "name": "stdout",
     "output_type": "stream",
     "text": [
      "Total files processed: 1"
     ]
    },
    {
     "name": "stderr",
     "output_type": "stream",
     "text": [
      "\n"
     ]
    },
    {
     "name": "stdout",
     "output_type": "stream",
     "text": [
      "\n"
     ]
    },
    {
     "name": "stderr",
     "output_type": "stream",
     "text": [
      "\n",
      " 74%|████████████████████████████▊          | 145/196 [00:00<00:00, 289.37it/s]/w/hallb-scshelf2102/clas12/users/gmat/clas12/neutneut/analysis/neutron_ml/../../src/TrainData.py:84: FutureWarning: The default of observed=False is deprecated and will be changed to True in a future version of pandas. Pass observed=False to retain current behavior or observed=True to adopt the future default and silence this warning.\n",
      "  group_sizes = df.groupby(group_cols).size()\n",
      "\u001b[A\n",
      " 74%|████████████████████████████▋          | 143/194 [00:00<00:00, 277.48it/s]\u001b[A\n",
      "  0%|                                                    | 0/1 [00:00<?, ?it/s]\u001b[A\n",
      " 97%|██████████████████████████████████████ | 192/197 [00:00<00:00, 225.57it/s]\u001b[A\n",
      "100%|████████████████████████████████████████████| 1/1 [00:00<00:00,  3.09it/s]\u001b[A\n",
      "\n"
     ]
    },
    {
     "name": "stdout",
     "output_type": "stream",
     "text": [
      "Total files processed: 1"
     ]
    },
    {
     "name": "stderr",
     "output_type": "stream",
     "text": [
      "  0%|                                                    | 0/1 [00:00<?, ?it/s]"
     ]
    },
    {
     "name": "stdout",
     "output_type": "stream",
     "text": [
      "\n"
     ]
    },
    {
     "name": "stderr",
     "output_type": "stream",
     "text": [
      "100%|███████████████████████████████████████| 195/195 [00:01<00:00, 180.18it/s]\n",
      "/w/hallb-scshelf2102/clas12/users/gmat/clas12/neutneut/analysis/neutron_ml/../../src/TrainData.py:84: FutureWarning: The default of observed=False is deprecated and will be changed to True in a future version of pandas. Pass observed=False to retain current behavior or observed=True to adopt the future default and silence this warning.\n",
      "  group_sizes = df.groupby(group_cols).size()\n",
      "100%|████████████████████████████████████████████| 1/1 [00:00<00:00,  2.99it/s]\n",
      "\n"
     ]
    },
    {
     "name": "stdout",
     "output_type": "stream",
     "text": [
      "Total files processed: 1"
     ]
    },
    {
     "name": "stderr",
     "output_type": "stream",
     "text": [
      " 68%|██████████████████████████▍            | 134/198 [00:01<00:00, 161.26it/s]"
     ]
    },
    {
     "name": "stdout",
     "output_type": "stream",
     "text": [
      "\n"
     ]
    },
    {
     "name": "stderr",
     "output_type": "stream",
     "text": [
      "\u001b[A\n",
      "  0%|                                                  | 0/199 [00:00<?, ?it/s]/w/hallb-scshelf2102/clas12/users/gmat/clas12/neutneut/analysis/neutron_ml/../../src/TrainData.py:84: FutureWarning: The default of observed=False is deprecated and will be changed to True in a future version of pandas. Pass observed=False to retain current behavior or observed=True to adopt the future default and silence this warning.\n",
      "  group_sizes = df.groupby(group_cols).size()\n",
      "\u001b[A\n",
      "  0%|                                                  | 0/198 [00:00<?, ?it/s]\u001b[A\n",
      "  0%|                                                  | 0/196 [00:00<?, ?it/s]\u001b[A\n",
      " 21%|████████▎                               | 41/198 [00:00<00:00, 409.30it/s]\u001b[A\n",
      "100%|████████████████████████████████████████████| 1/1 [00:00<00:00,  3.33it/s]\u001b[A\n",
      "\n"
     ]
    },
    {
     "name": "stdout",
     "output_type": "stream",
     "text": [
      "Total files processed: 1"
     ]
    },
    {
     "name": "stderr",
     "output_type": "stream",
     "text": [
      "  0%|                                                    | 0/1 [00:00<?, ?it/s]\u001b[A"
     ]
    },
    {
     "name": "stdout",
     "output_type": "stream",
     "text": [
      "\n"
     ]
    },
    {
     "name": "stderr",
     "output_type": "stream",
     "text": [
      "/w/hallb-scshelf2102/clas12/users/gmat/clas12/neutneut/analysis/neutron_ml/../../src/TrainData.py:84: FutureWarning: The default of observed=False is deprecated and will be changed to True in a future version of pandas. Pass observed=False to retain current behavior or observed=True to adopt the future default and silence this warning.\n",
      "  group_sizes = df.groupby(group_cols).size()\n",
      "\n",
      " 89%|██████████████████████████████████▌    | 172/194 [00:00<00:00, 269.77it/s]\u001b[A\n",
      "Processing CSV files:  89%|████████████████  | 445/500 [00:27<00:02, 25.46it/s]\u001b[A\n",
      " 71%|███████████████████████████▊           | 141/198 [00:00<00:00, 278.72it/s]\u001b[A\n",
      "  0%|                                                    | 0/1 [00:00<?, ?it/s]\u001b[A\n",
      "100%|████████████████████████████████████████████| 1/1 [00:00<00:00,  5.18it/s]\u001b[A\n",
      "100%|████████████████████████████████████████████| 1/1 [00:00<00:00,  3.23it/s]\u001b[A\n",
      "\n"
     ]
    },
    {
     "name": "stdout",
     "output_type": "stream",
     "text": [
      "Total files processed: 1"
     ]
    },
    {
     "name": "stderr",
     "output_type": "stream",
     "text": [
      " 89%|██████████████████████████████████▊    | 175/196 [00:00<00:00, 269.56it/s]"
     ]
    },
    {
     "name": "stdout",
     "output_type": "stream",
     "text": [
      "\n"
     ]
    },
    {
     "name": "stderr",
     "output_type": "stream",
     "text": [
      "\u001b[A/w/hallb-scshelf2102/clas12/users/gmat/clas12/neutneut/analysis/neutron_ml/../../src/TrainData.py:84: FutureWarning: The default of observed=False is deprecated and will be changed to True in a future version of pandas. Pass observed=False to retain current behavior or observed=True to adopt the future default and silence this warning.\n",
      "  group_sizes = df.groupby(group_cols).size()\n",
      "\n",
      " 79%|██████████████████████████████▋        | 156/198 [00:01<00:00, 178.06it/s]\u001b[A\n",
      "100%|███████████████████████████████████████| 197/197 [00:00<00:00, 206.73it/s]\u001b[A\n",
      "\n",
      "100%|████████████████████████████████████████████| 1/1 [00:00<00:00,  5.17it/s]\u001b[A\n",
      "Processing CSV files:  90%|████████████████▏ | 448/500 [00:27<00:01, 26.02it/s]\u001b[A\n",
      "  0%|                                                  | 0/200 [00:00<?, ?it/s]\u001b[A\n",
      " 18%|███████▏                                | 36/199 [00:00<00:00, 355.85it/s]\u001b[A\n",
      " 19%|███████▍                                | 37/198 [00:00<00:00, 369.52it/s]\u001b[A\n",
      " 41%|████████████████▌                       | 82/198 [00:00<00:00, 320.68it/s]\u001b[A\n",
      " 18%|███████▎                                | 36/196 [00:00<00:00, 359.26it/s]\u001b[A\n",
      "  0%|                                                    | 0/1 [00:00<?, ?it/s]\u001b[A\n",
      "  0%|                                                  | 0/196 [00:00<?, ?it/s]\u001b[A\n",
      " 72%|████████████████████████████           | 142/197 [00:00<00:00, 224.89it/s]\u001b[A\n",
      "100%|████████████████████████████████████████████| 1/1 [00:00<00:00,  5.58it/s]\u001b[A\n",
      " 21%|████████▎                               | 41/197 [00:00<00:00, 405.47it/s]\u001b[A\n",
      "100%|████████████████████████████████████████████| 1/1 [00:00<00:00,  5.38it/s]\u001b[A\n",
      "100%|████████████████████████████████████████████| 1/1 [00:00<00:00,  3.35it/s]\u001b[A\n",
      "\n",
      "100%|████████████████████████████████████████████| 1/1 [00:00<00:00,  2.62it/s]\u001b[A"
     ]
    },
    {
     "name": "stdout",
     "output_type": "stream",
     "text": [
      "Total files processed: 1\n"
     ]
    },
    {
     "name": "stderr",
     "output_type": "stream",
     "text": [
      "\n",
      "/w/hallb-scshelf2102/clas12/users/gmat/clas12/neutneut/analysis/neutron_ml/../../src/TrainData.py:84: FutureWarning: The default of observed=False is deprecated and will be changed to True in a future version of pandas. Pass observed=False to retain current behavior or observed=True to adopt the future default and silence this warning.\n",
      "  group_sizes = df.groupby(group_cols).size()\n"
     ]
    },
    {
     "name": "stdout",
     "output_type": "stream",
     "text": [
      "Total files processed: 1"
     ]
    },
    {
     "name": "stderr",
     "output_type": "stream",
     "text": [
      "\n"
     ]
    },
    {
     "name": "stdout",
     "output_type": "stream",
     "text": [
      "\n"
     ]
    },
    {
     "name": "stderr",
     "output_type": "stream",
     "text": [
      "/w/hallb-scshelf2102/clas12/users/gmat/clas12/neutneut/analysis/neutron_ml/../../src/TrainData.py:84: FutureWarning: The default of observed=False is deprecated and will be changed to True in a future version of pandas. Pass observed=False to retain current behavior or observed=True to adopt the future default and silence this warning.\n",
      "  group_sizes = df.groupby(group_cols).size()\n",
      "  0%|                                                  | 0/194 [00:00<?, ?it/s]\u001b[A\n",
      "100%|████████████████████████████████████████████| 1/1 [00:00<00:00,  5.77it/s]\u001b[A\n",
      "100%|███████████████████████████████████████| 194/194 [00:00<00:00, 243.56it/s]\u001b[A\n",
      "\n",
      "  0%|                                                  | 0/197 [00:00<?, ?it/s]\u001b[A\n",
      "100%|████████████████████████████████████████████| 1/1 [00:00<00:00,  3.42it/s]\u001b[A\n",
      "\n"
     ]
    },
    {
     "name": "stdout",
     "output_type": "stream",
     "text": [
      "Total files processed: 1"
     ]
    },
    {
     "name": "stderr",
     "output_type": "stream",
     "text": [
      "  0%|                                                  | 0/195 [00:00<?, ?it/s]"
     ]
    },
    {
     "name": "stdout",
     "output_type": "stream",
     "text": [
      "\n"
     ]
    },
    {
     "name": "stderr",
     "output_type": "stream",
     "text": [
      "\u001b[A/w/hallb-scshelf2102/clas12/users/gmat/clas12/neutneut/analysis/neutron_ml/../../src/TrainData.py:84: FutureWarning: The default of observed=False is deprecated and will be changed to True in a future version of pandas. Pass observed=False to retain current behavior or observed=True to adopt the future default and silence this warning.\n",
      "  group_sizes = df.groupby(group_cols).size()\n",
      "\n",
      " 23%|█████████▏                              | 45/197 [00:00<00:00, 442.10it/s]\u001b[A\n",
      " 22%|████████▊                               | 43/196 [00:00<00:00, 427.49it/s]\u001b[A\n",
      " 59%|██████████████████████▊                | 116/198 [00:00<00:00, 317.72it/s]\u001b[A\n",
      "100%|████████████████████████████████████████████| 1/1 [00:00<00:00,  5.27it/s]\u001b[A\n",
      "100%|████████████████████████████████████████████| 1/1 [00:00<00:00,  2.24it/s]\u001b[A\n",
      "\n",
      " 87%|██████████████████████████████████     | 172/197 [00:00<00:00, 244.66it/s]\u001b[A\n"
     ]
    },
    {
     "name": "stdout",
     "output_type": "stream",
     "text": [
      "Total files processed: 1"
     ]
    },
    {
     "name": "stderr",
     "output_type": "stream",
     "text": [
      "100%|████████████████████████████████████████████| 1/1 [00:00<00:00,  4.09it/s]"
     ]
    },
    {
     "name": "stdout",
     "output_type": "stream",
     "text": [
      "\n"
     ]
    },
    {
     "name": "stderr",
     "output_type": "stream",
     "text": [
      "\u001b[A/w/hallb-scshelf2102/clas12/users/gmat/clas12/neutneut/analysis/neutron_ml/../../src/TrainData.py:84: FutureWarning: The default of observed=False is deprecated and will be changed to True in a future version of pandas. Pass observed=False to retain current behavior or observed=True to adopt the future default and silence this warning.\n",
      "  group_sizes = df.groupby(group_cols).size()\n",
      "\n",
      " 36%|██████████████▍                         | 72/199 [00:00<00:00, 308.38it/s]\u001b[A\n",
      "  0%|                                                    | 0/1 [00:00<?, ?it/s]\u001b[A\n",
      "100%|███████████████████████████████████████| 196/196 [00:00<00:00, 224.96it/s]\u001b[A\n",
      "\n",
      " 37%|██████████████▉                         | 74/198 [00:00<00:00, 316.41it/s]\u001b[A\n",
      " 37%|██████████████▋                         | 72/196 [00:00<00:00, 313.09it/s]\u001b[A\n",
      "100%|███████████████████████████████████████| 198/198 [00:00<00:00, 253.13it/s]\u001b[A\n",
      "  0%|                                                  | 0/198 [00:00<?, ?it/s]\u001b[A\n",
      " 22%|█████████                               | 45/200 [00:00<00:00, 440.11it/s]\u001b[A\n",
      " 23%|█████████▍                              | 46/196 [00:00<00:00, 449.57it/s]\u001b[A\n",
      " 42%|████████████████▋                       | 82/197 [00:00<00:00, 325.86it/s]\u001b[A\n",
      " 98%|██████████████████████████████████████▏| 194/198 [00:01<00:00, 164.90it/s]\u001b[A\n",
      "100%|████████████████████████████████████████████| 1/1 [00:00<00:00,  4.18it/s]\u001b[A\n",
      "100%|████████████████████████████████████████████| 1/1 [00:00<00:00,  2.50it/s]\u001b[A\n"
     ]
    },
    {
     "name": "stdout",
     "output_type": "stream",
     "text": [
      "Total files processed: 1"
     ]
    },
    {
     "name": "stderr",
     "output_type": "stream",
     "text": [
      "\n"
     ]
    },
    {
     "name": "stdout",
     "output_type": "stream",
     "text": [
      "\n"
     ]
    },
    {
     "name": "stderr",
     "output_type": "stream",
     "text": [
      " 23%|█████████▎                              | 45/194 [00:00<00:00, 441.54it/s]\u001b[A/w/hallb-scshelf2102/clas12/users/gmat/clas12/neutneut/analysis/neutron_ml/../../src/TrainData.py:84: FutureWarning: The default of observed=False is deprecated and will be changed to True in a future version of pandas. Pass observed=False to retain current behavior or observed=True to adopt the future default and silence this warning.\n",
      "  group_sizes = df.groupby(group_cols).size()\n",
      "\n",
      " 21%|████████▎                               | 41/197 [00:00<00:00, 405.60it/s]\u001b[A\n",
      "100%|████████████████████████████████████████████| 1/1 [00:00<00:00,  2.21it/s]\u001b[A\n",
      "\n"
     ]
    },
    {
     "name": "stdout",
     "output_type": "stream",
     "text": [
      "Total files processed: 1\n"
     ]
    },
    {
     "name": "stderr",
     "output_type": "stream",
     "text": [
      "/w/hallb-scshelf2102/clas12/users/gmat/clas12/neutneut/analysis/neutron_ml/../../src/TrainData.py:84: FutureWarning: The default of observed=False is deprecated and will be changed to True in a future version of pandas. Pass observed=False to retain current behavior or observed=True to adopt the future default and silence this warning.\n",
      "  group_sizes = df.groupby(group_cols).size()\n",
      "  0%|                                                    | 0/1 [00:00<?, ?it/s]\u001b[A\n",
      " 21%|████████▍                               | 41/195 [00:00<00:00, 407.57it/s]\u001b[A\n",
      " 75%|█████████████████████████████▎         | 149/198 [00:00<00:00, 289.91it/s]\u001b[A\n",
      "100%|████████████████████████████████████████████| 1/1 [00:00<00:00,  2.55it/s]\u001b[A\n",
      "100%|████████████████████████████████████████████| 1/1 [00:00<00:00,  2.26it/s]"
     ]
    },
    {
     "name": "stdout",
     "output_type": "stream",
     "text": [
      "Total files processed: 1\n"
     ]
    },
    {
     "name": "stderr",
     "output_type": "stream",
     "text": [
      "\n",
      "/w/hallb-scshelf2102/clas12/users/gmat/clas12/neutneut/analysis/neutron_ml/../../src/TrainData.py:84: FutureWarning: The default of observed=False is deprecated and will be changed to True in a future version of pandas. Pass observed=False to retain current behavior or observed=True to adopt the future default and silence this warning.\n",
      "  group_sizes = df.groupby(group_cols).size()\n"
     ]
    },
    {
     "name": "stdout",
     "output_type": "stream",
     "text": [
      "Total files processed: 1"
     ]
    },
    {
     "name": "stderr",
     "output_type": "stream",
     "text": [
      "\n"
     ]
    },
    {
     "name": "stdout",
     "output_type": "stream",
     "text": [
      "\n"
     ]
    },
    {
     "name": "stderr",
     "output_type": "stream",
     "text": [
      " 46%|██████████████████▎                     | 90/197 [00:00<00:00, 314.49it/s]/w/hallb-scshelf2102/clas12/users/gmat/clas12/neutneut/analysis/neutron_ml/../../src/TrainData.py:84: FutureWarning: The default of observed=False is deprecated and will be changed to True in a future version of pandas. Pass observed=False to retain current behavior or observed=True to adopt the future default and silence this warning.\n",
      "  group_sizes = df.groupby(group_cols).size()\n",
      "\u001b[A\n",
      " 52%|████████████████████▍                  | 104/199 [00:00<00:00, 262.62it/s]\u001b[A\n",
      "100%|███████████████████████████████████████| 198/198 [00:00<00:00, 201.36it/s]\u001b[A\n",
      "100%|███████████████████████████████████████| 197/197 [00:00<00:00, 213.18it/s]\n",
      "\n",
      " 45%|█████████████████▊                      | 88/197 [00:00<00:00, 427.06it/s]\u001b[A\n",
      " 54%|█████████████████████                  | 107/198 [00:00<00:00, 238.72it/s]\u001b[A\n",
      " 53%|████████████████████▋                  | 104/196 [00:00<00:00, 234.31it/s]\u001b[A\n",
      "  0%|                                                    | 0/1 [00:00<?, ?it/s]\u001b[A\n",
      "  0%|                                                  | 0/194 [00:00<?, ?it/s]\u001b[A\n",
      " 59%|██████████████████████▉                | 116/197 [00:00<00:00, 261.24it/s]\u001b[A\n",
      "100%|████████████████████████████████████████████| 1/1 [00:00<00:00,  6.12it/s]\u001b[A\n",
      " 20%|████████                                | 40/198 [00:00<00:00, 392.32it/s]\u001b[A\n",
      " 46%|██████████████████▌                     | 91/196 [00:00<00:00, 295.39it/s]\u001b[A\n",
      "  0%|                                                  | 0/197 [00:00<?, ?it/s]\u001b[A\n",
      "100%|████████████████████████████████████████████| 1/1 [00:00<00:00,  2.24it/s]\u001b[A\n"
     ]
    },
    {
     "name": "stdout",
     "output_type": "stream",
     "text": [
      "Total files processed: 1\n"
     ]
    },
    {
     "name": "stderr",
     "output_type": "stream",
     "text": [
      "/w/hallb-scshelf2102/clas12/users/gmat/clas12/neutneut/analysis/neutron_ml/../../src/TrainData.py:84: FutureWarning: The default of observed=False is deprecated and will be changed to True in a future version of pandas. Pass observed=False to retain current behavior or observed=True to adopt the future default and silence this warning.\n",
      "  group_sizes = df.groupby(group_cols).size()\n",
      "100%|███████████████████████████████████████| 198/198 [00:01<00:00, 112.74it/s]\n",
      "\n",
      " 45%|██████████████████                      | 90/200 [00:00<00:00, 268.80it/s]\u001b[A\n",
      "100%|████████████████████████████████████████████| 1/1 [00:00<00:00,  2.48it/s]\u001b[A\n",
      "\n"
     ]
    },
    {
     "name": "stdout",
     "output_type": "stream",
     "text": [
      "Total files processed: 1\n"
     ]
    },
    {
     "name": "stderr",
     "output_type": "stream",
     "text": [
      " 20%|████████                                | 40/198 [00:00<00:00, 397.48it/s]\u001b[A/w/hallb-scshelf2102/clas12/users/gmat/clas12/neutneut/analysis/neutron_ml/../../src/TrainData.py:84: FutureWarning: The default of observed=False is deprecated and will be changed to True in a future version of pandas. Pass observed=False to retain current behavior or observed=True to adopt the future default and silence this warning.\n",
      "  group_sizes = df.groupby(group_cols).size()\n",
      "\n",
      " 46%|██████████████████▌                     | 90/194 [00:00<00:00, 347.57it/s]\u001b[A\n",
      " 42%|████████████████▋                       | 82/197 [00:00<00:00, 322.34it/s]\u001b[A\n",
      " 90%|███████████████████████████████████▎   | 179/198 [00:00<00:00, 258.06it/s]\u001b[A\n",
      "100%|████████████████████████████████████████████| 1/1 [00:00<00:00,  5.28it/s]\u001b[A\n",
      " 42%|████████████████▊                       | 82/195 [00:00<00:00, 309.32it/s]\u001b[A\n",
      " 62%|████████████████████████▎              | 122/196 [00:00<00:00, 289.99it/s]\u001b[A\n",
      " 66%|█████████████████████████▋             | 131/199 [00:00<00:00, 229.92it/s]\u001b[A\n",
      " 63%|████████████████████████▌              | 124/197 [00:00<00:00, 257.55it/s]\u001b[A\n",
      " 67%|██████████████████████████▏            | 133/198 [00:00<00:00, 227.65it/s]\u001b[A\n",
      " 66%|█████████████████████████▊             | 130/196 [00:00<00:00, 223.57it/s]\u001b[A\n",
      "100%|████████████████████████████████████████████| 1/1 [00:00<00:00,  2.53it/s]\u001b[A\n",
      "\n"
     ]
    },
    {
     "name": "stdout",
     "output_type": "stream",
     "text": [
      "Total files processed: 1\n"
     ]
    },
    {
     "name": "stderr",
     "output_type": "stream",
     "text": [
      "/w/hallb-scshelf2102/clas12/users/gmat/clas12/neutneut/analysis/neutron_ml/../../src/TrainData.py:84: FutureWarning: The default of observed=False is deprecated and will be changed to True in a future version of pandas. Pass observed=False to retain current behavior or observed=True to adopt the future default and silence this warning.\n",
      "  group_sizes = df.groupby(group_cols).size()\n",
      "  0%|                                                    | 0/1 [00:00<?, ?it/s]\u001b[A\n",
      " 66%|█████████████████████████▉             | 131/197 [00:00<00:00, 350.50it/s]\u001b[A\n",
      "  0%|                                                  | 0/197 [00:00<?, ?it/s]\u001b[A\n",
      " 40%|████████████████▏                       | 80/198 [00:00<00:00, 263.66it/s]\u001b[A\n",
      " 63%|████████████████████████▋              | 124/196 [00:00<00:00, 277.14it/s]\u001b[A\n",
      " 40%|████████████████▏                       | 80/198 [00:00<00:00, 318.38it/s]\u001b[A\n",
      " 24%|█████████▋                              | 47/194 [00:00<00:00, 466.54it/s]\u001b[A\n",
      "100%|████████████████████████████████████████████| 1/1 [00:00<00:00,  5.07it/s]\u001b[A\n",
      " 22%|████████▉                               | 44/197 [00:00<00:00, 431.93it/s]\u001b[A\n",
      " 25%|█████████▉                              | 48/194 [00:00<00:00, 479.23it/s]\u001b[A\n",
      "100%|███████████████████████████████████████| 198/198 [00:00<00:00, 240.51it/s]\u001b[A\n",
      "Processing CSV files:  91%|████████████████▎ | 454/500 [00:28<00:02, 16.37it/s]\n",
      " 60%|███████████████████████▌               | 121/200 [00:00<00:00, 226.13it/s]\u001b[A\n",
      " 65%|█████████████████████████▎             | 126/194 [00:00<00:00, 280.15it/s]\u001b[A\n",
      "  0%|                                                  | 0/194 [00:00<?, ?it/s]\u001b[A\n",
      "  0%|                                                  | 0/197 [00:00<?, ?it/s]\u001b[A\n",
      " 59%|██████████████████████▉                | 116/197 [00:00<00:00, 253.54it/s]\u001b[A\n",
      " 21%|████████▍                               | 42/198 [00:00<00:00, 408.95it/s]\u001b[A\n",
      "100%|████████████████████████████████████████████| 1/1 [00:00<00:00,  2.17it/s]\u001b[A\n"
     ]
    },
    {
     "name": "stdout",
     "output_type": "stream",
     "text": [
      "Total files processed: 1"
     ]
    },
    {
     "name": "stderr",
     "output_type": "stream",
     "text": [
      "100%|████████████████████████████████████████████| 1/1 [00:00<00:00,  2.33it/s]\n"
     ]
    },
    {
     "name": "stdout",
     "output_type": "stream",
     "text": [
      "Total files processed: 1"
     ]
    },
    {
     "name": "stderr",
     "output_type": "stream",
     "text": [
      "\n"
     ]
    },
    {
     "name": "stdout",
     "output_type": "stream",
     "text": [
      "\n"
     ]
    },
    {
     "name": "stderr",
     "output_type": "stream",
     "text": [
      " 78%|██████████████████████████████▍        | 153/196 [00:00<00:00, 244.00it/s]/w/hallb-scshelf2102/clas12/users/gmat/clas12/neutneut/analysis/neutron_ml/../../src/TrainData.py:84: FutureWarning: The default of observed=False is deprecated and will be changed to True in a future version of pandas. Pass observed=False to retain current behavior or observed=True to adopt the future default and silence this warning.\n",
      "  group_sizes = df.groupby(group_cols).size()\n",
      "\u001b[A"
     ]
    },
    {
     "name": "stdout",
     "output_type": "stream",
     "text": [
      "\n"
     ]
    },
    {
     "name": "stderr",
     "output_type": "stream",
     "text": [
      "/w/hallb-scshelf2102/clas12/users/gmat/clas12/neutneut/analysis/neutron_ml/../../src/TrainData.py:84: FutureWarning: The default of observed=False is deprecated and will be changed to True in a future version of pandas. Pass observed=False to retain current behavior or observed=True to adopt the future default and silence this warning.\n",
      "  group_sizes = df.groupby(group_cols).size()\n",
      "\n",
      " 59%|███████████████████████                | 115/195 [00:00<00:00, 247.30it/s]\u001b[A\n",
      " 79%|██████████████████████████████▉        | 157/198 [00:00<00:00, 208.65it/s]\u001b[A\n",
      " 79%|██████████████████████████████▋        | 154/196 [00:00<00:00, 208.05it/s]\u001b[A\n",
      " 77%|██████████████████████████████         | 152/197 [00:00<00:00, 228.02it/s]\u001b[A\n",
      "  0%|                                                    | 0/1 [00:00<?, ?it/s]\u001b[A\n",
      "100%|████████████████████████████████████████████| 1/1 [00:00<00:00,  4.87it/s]\u001b[A\n",
      " 79%|██████████████████████████████▋        | 154/196 [00:00<00:00, 250.80it/s]\u001b[A\n",
      " 21%|████████▏                               | 41/199 [00:00<00:00, 404.33it/s]\u001b[A\n",
      " 85%|█████████████████████████████████▎     | 168/197 [00:00<00:00, 287.39it/s]\u001b[A\n",
      " 57%|██████████████████████▎                | 113/198 [00:00<00:00, 264.50it/s]\u001b[A\n",
      " 73%|████████████████████████████▍          | 146/200 [00:00<00:00, 221.36it/s]\u001b[A\n",
      " 21%|████████▎                               | 41/197 [00:00<00:00, 409.47it/s]\u001b[A\n",
      " 66%|█████████████████████████▌             | 130/198 [00:00<00:00, 345.89it/s]\u001b[A\n",
      "100%|████████████████████████████████████████████| 1/1 [00:00<00:00,  2.31it/s]\u001b[A\n",
      "\n"
     ]
    },
    {
     "name": "stdout",
     "output_type": "stream",
     "text": [
      "Total files processed: 1\n"
     ]
    },
    {
     "name": "stderr",
     "output_type": "stream",
     "text": [
      " 45%|█████████████████▊                      | 88/197 [00:00<00:00, 319.79it/s]\u001b[A\n",
      " 48%|███████████████████▍                    | 94/194 [00:00<00:00, 307.22it/s]/w/hallb-scshelf2102/clas12/users/gmat/clas12/neutneut/analysis/neutron_ml/../../src/TrainData.py:84: FutureWarning: The default of observed=False is deprecated and will be changed to True in a future version of pandas. Pass observed=False to retain current behavior or observed=True to adopt the future default and silence this warning.\n",
      "  group_sizes = df.groupby(group_cols).size()\n",
      "\u001b[A\n",
      " 73%|████████████████████████████▌          | 144/197 [00:00<00:00, 256.34it/s]\u001b[A\n",
      "  0%|                                                  | 0/196 [00:00<?, ?it/s]\u001b[A\n",
      " 49%|███████████████████▊                    | 96/194 [00:00<00:00, 334.84it/s]\u001b[A\n",
      "  0%|                                                    | 0/1 [00:00<?, ?it/s]\u001b[A\n",
      " 89%|██████████████████████████████████▋    | 177/199 [00:00<00:00, 197.34it/s]\u001b[A\n",
      "  0%|                                                  | 0/197 [00:00<?, ?it/s]\u001b[A\n",
      " 73%|████████████████████████████▎          | 143/197 [00:00<00:00, 236.12it/s]\u001b[A\n",
      "  0%|                                                    | 0/1 [00:00<?, ?it/s]\u001b[A\n",
      " 18%|███████                                 | 35/197 [00:00<00:00, 343.14it/s]\u001b[A\n",
      " 91%|███████████████████████████████████▌   | 179/196 [00:00<00:00, 223.64it/s]\u001b[A\n",
      " 90%|███████████████████████████████████▎   | 179/198 [00:00<00:00, 188.15it/s]\u001b[A\n",
      " 42%|████████████████▊                       | 83/198 [00:00<00:00, 294.20it/s]\u001b[A\n",
      " 73%|████████████████████████████▍          | 142/195 [00:00<00:00, 217.52it/s]\u001b[A\n",
      " 90%|███████████████████████████████████    | 176/196 [00:00<00:00, 182.24it/s]\u001b[A\n",
      " 92%|███████████████████████████████████▊   | 180/196 [00:00<00:00, 240.07it/s]\u001b[A\n",
      " 89%|██████████████████████████████████▊    | 176/197 [00:00<00:00, 199.67it/s]\u001b[A\n",
      "  0%|                                                  | 0/198 [00:00<?, ?it/s]\u001b[A\n",
      "100%|████████████████████████████████████████████| 1/1 [00:00<00:00,  4.78it/s]\u001b[A\n",
      " 71%|███████████████████████████▊           | 141/198 [00:00<00:00, 260.19it/s]\u001b[A\n",
      " 85%|█████████████████████████████████▏     | 170/200 [00:00<00:00, 220.29it/s]\u001b[A\n",
      "100%|████████████████████████████████████████████| 1/1 [00:00<00:00,  2.17it/s]\u001b[A\n"
     ]
    },
    {
     "name": "stdout",
     "output_type": "stream",
     "text": [
      "Total files processed: 1"
     ]
    },
    {
     "name": "stderr",
     "output_type": "stream",
     "text": [
      "\n",
      " 22%|████████▊                               | 43/194 [00:00<00:00, 424.04it/s]"
     ]
    },
    {
     "name": "stdout",
     "output_type": "stream",
     "text": [
      "\n"
     ]
    },
    {
     "name": "stderr",
     "output_type": "stream",
     "text": [
      "\u001b[A/w/hallb-scshelf2102/clas12/users/gmat/clas12/neutneut/analysis/neutron_ml/../../src/TrainData.py:84: FutureWarning: The default of observed=False is deprecated and will be changed to True in a future version of pandas. Pass observed=False to retain current behavior or observed=True to adopt the future default and silence this warning.\n",
      "  group_sizes = df.groupby(group_cols).size()\n",
      "\n",
      "100%|████████████████████████████████████████████| 1/1 [00:00<00:00,  4.94it/s]\u001b[A\n",
      " 41%|████████████████▍                       | 82/199 [00:00<00:00, 295.23it/s]\u001b[A\n",
      " 85%|█████████████████████████████████▎     | 169/198 [00:00<00:00, 317.86it/s]\u001b[A\n",
      " 42%|████████████████▋                       | 82/197 [00:00<00:00, 314.46it/s]\u001b[A\n",
      " 99%|██████████████████████████████████████▌| 197/199 [00:00<00:00, 188.13it/s]\u001b[A\n",
      " 95%|████████████████████████████████████▉  | 184/194 [00:00<00:00, 238.00it/s]\u001b[A\n",
      " 87%|█████████████████████████████████▊     | 171/197 [00:00<00:00, 144.70it/s]\u001b[A\n",
      " 62%|████████████████████████▏              | 122/197 [00:00<00:00, 271.24it/s]\u001b[A\n",
      " 85%|█████████████████████████████████▎     | 168/197 [00:00<00:00, 214.77it/s]\u001b[A\n",
      "100%|███████████████████████████████████████| 197/197 [00:00<00:00, 248.24it/s]\u001b[A\n",
      "\n",
      " 68%|██████████████████████████▌            | 132/194 [00:00<00:00, 282.89it/s]\u001b[A\n",
      "  0%|                                                  | 0/199 [00:00<?, ?it/s]\u001b[A\n",
      " 99%|██████████████████████████████████████▊| 195/196 [00:01<00:00, 173.70it/s]\u001b[A\n",
      " 22%|████████▊                               | 43/196 [00:00<00:00, 420.70it/s]\u001b[A\n",
      " 85%|█████████████████████████████████      | 165/195 [00:00<00:00, 201.27it/s]\u001b[A\n",
      "100%|███████████████████████████████████████| 197/197 [00:00<00:00, 191.03it/s]\u001b[A\n",
      " 22%|████████▉                               | 44/197 [00:00<00:00, 434.20it/s]\u001b[A\n",
      " 36%|██████████████▏                         | 70/197 [00:00<00:00, 247.82it/s]\u001b[A\n",
      "  0%|                                                    | 0/1 [00:00<?, ?it/s]\u001b[A\n",
      " 58%|██████████████████████▋                | 115/198 [00:00<00:00, 255.44it/s]\u001b[A\n",
      "100%|███████████████████████████████████████| 196/196 [00:00<00:00, 206.35it/s]\u001b[A\n",
      "100%|████████████████████████████████████████████| 1/1 [00:00<00:00,  2.38it/s]\n",
      "100%|███████████████████████████████████████| 198/198 [00:01<00:00, 185.25it/s]"
     ]
    },
    {
     "name": "stdout",
     "output_type": "stream",
     "text": [
      "Total files processed: 1"
     ]
    },
    {
     "name": "stderr",
     "output_type": "stream",
     "text": [
      "\n"
     ]
    },
    {
     "name": "stdout",
     "output_type": "stream",
     "text": [
      "\n"
     ]
    },
    {
     "name": "stderr",
     "output_type": "stream",
     "text": [
      "\n",
      "/w/hallb-scshelf2102/clas12/users/gmat/clas12/neutneut/analysis/neutron_ml/../../src/TrainData.py:84: FutureWarning: The default of observed=False is deprecated and will be changed to True in a future version of pandas. Pass observed=False to retain current behavior or observed=True to adopt the future default and silence this warning.\n",
      "  group_sizes = df.groupby(group_cols).size()\n",
      "100%|████████████████████████████████████████████| 1/1 [00:00<00:00,  4.62it/s]\u001b[A\n",
      " 85%|█████████████████████████████████      | 168/198 [00:00<00:00, 227.71it/s]\u001b[A\n",
      "100%|███████████████████████████████████████| 196/196 [00:00<00:00, 211.61it/s]\u001b[A\n",
      "\n",
      " 57%|██████████████████████▎                | 114/199 [00:00<00:00, 267.19it/s]\u001b[A\n",
      "100%|████████████████████████████████████████████| 1/1 [00:00<00:00,  2.34it/s]\u001b[A\n",
      "\n"
     ]
    },
    {
     "name": "stdout",
     "output_type": "stream",
     "text": [
      "Total files processed: 1\n"
     ]
    },
    {
     "name": "stderr",
     "output_type": "stream",
     "text": [
      " 58%|██████████████████████▊                | 115/197 [00:00<00:00, 275.48it/s]\u001b[A\n",
      "/w/hallb-scshelf2102/clas12/users/gmat/clas12/neutneut/analysis/neutron_ml/../../src/TrainData.py:84: FutureWarning: The default of observed=False is deprecated and will be changed to True in a future version of pandas. Pass observed=False to retain current behavior or observed=True to adopt the future default and silence this warning.\n",
      "  group_sizes = df.groupby(group_cols).size()\n",
      " 96%|█████████████████████████████████████▌ | 190/197 [00:00<00:00, 207.79it/s]\u001b[A\n",
      "100%|███████████████████████████████████████| 197/197 [00:01<00:00, 188.51it/s]\u001b[A\n",
      "\n",
      " 44%|█████████████████▋                      | 86/194 [00:00<00:00, 227.06it/s]\u001b[A\n",
      "100%|███████████████████████████████████████| 199/199 [00:01<00:00, 174.13it/s]\u001b[A\n",
      "\n",
      " 81%|███████████████████████████████▌       | 157/194 [00:00<00:00, 254.58it/s]\u001b[A\n",
      "100%|███████████████████████████████████████| 200/200 [00:01<00:00, 196.69it/s]\u001b[A\n",
      "\n",
      " 95%|█████████████████████████████████████▏ | 186/195 [00:00<00:00, 192.16it/s]\u001b[A\n",
      " 84%|████████████████████████████████▌      | 162/194 [00:00<00:00, 249.18it/s]\u001b[A\n",
      "100%|███████████████████████████████████████| 198/198 [00:00<00:00, 246.07it/s]\u001b[A\n",
      "100%|███████████████████████████████████████| 196/196 [00:01<00:00, 167.84it/s]\n",
      "\n",
      " 49%|███████████████████▋                    | 97/197 [00:00<00:00, 219.56it/s]\u001b[A\n",
      " 72%|███████████████████████████▉           | 142/198 [00:00<00:00, 228.31it/s]\u001b[A\n",
      "  0%|                                                  | 0/197 [00:00<?, ?it/s]\u001b[A\n",
      " 22%|████████▋                               | 43/199 [00:00<00:00, 426.21it/s]\u001b[A\n",
      " 44%|█████████████████▌                      | 86/196 [00:00<00:00, 297.59it/s]\u001b[A\n",
      " 97%|█████████████████████████████████████▊ | 192/198 [00:00<00:00, 214.76it/s]\u001b[A\n",
      " 45%|█████████████████▊                      | 88/197 [00:00<00:00, 299.18it/s]\u001b[A\n",
      " 71%|███████████████████████████▊           | 142/199 [00:00<00:00, 253.29it/s]\u001b[A\n",
      "100%|███████████████████████████████████████| 194/194 [00:01<00:00, 192.47it/s]\u001b[A\n",
      "100%|████████████████████████████████████████████| 1/1 [00:00<00:00,  2.23it/s]\n",
      "Processing CSV files:  91%|████████████████▍ | 457/500 [00:28<00:04, 10.55it/s]"
     ]
    },
    {
     "name": "stdout",
     "output_type": "stream",
     "text": [
      "Total files processed: 1"
     ]
    },
    {
     "name": "stderr",
     "output_type": "stream",
     "text": [
      "\n"
     ]
    },
    {
     "name": "stdout",
     "output_type": "stream",
     "text": [
      "\n"
     ]
    },
    {
     "name": "stderr",
     "output_type": "stream",
     "text": [
      " 41%|████████████████▌                       | 82/198 [00:00<00:00, 325.32it/s]/w/hallb-scshelf2102/clas12/users/gmat/clas12/neutneut/analysis/neutron_ml/../../src/TrainData.py:84: FutureWarning: The default of observed=False is deprecated and will be changed to True in a future version of pandas. Pass observed=False to retain current behavior or observed=True to adopt the future default and silence this warning.\n",
      "  group_sizes = df.groupby(group_cols).size()\n",
      "\u001b[A\n",
      "100%|███████████████████████████████████████| 195/195 [00:01<00:00, 190.49it/s]\u001b[A\n",
      "\n",
      " 90%|███████████████████████████████████    | 177/197 [00:00<00:00, 228.06it/s]\u001b[A\n",
      " 59%|██████████████████████▉                | 114/194 [00:00<00:00, 208.35it/s]\u001b[A\n",
      " 95%|████████████████████████████████████▉  | 184/194 [00:00<00:00, 224.06it/s]\u001b[A\n",
      " 42%|████████████████▋                       | 82/196 [00:00<00:00, 284.68it/s]\u001b[A\n",
      "100%|████████████████████████████████████████████| 1/1 [00:00<00:00,  2.30it/s]\u001b[A\n",
      "\n"
     ]
    },
    {
     "name": "stdout",
     "output_type": "stream",
     "text": [
      "Total files processed: 1\n"
     ]
    },
    {
     "name": "stderr",
     "output_type": "stream",
     "text": [
      " 61%|███████████████████████▊               | 120/197 [00:00<00:00, 210.30it/s]\u001b[A/w/hallb-scshelf2102/clas12/users/gmat/clas12/neutneut/analysis/neutron_ml/../../src/TrainData.py:84: FutureWarning: The default of observed=False is deprecated and will be changed to True in a future version of pandas. Pass observed=False to retain current behavior or observed=True to adopt the future default and silence this warning.\n",
      "  group_sizes = df.groupby(group_cols).size()\n",
      "\n",
      "100%|████████████████████████████████████████████| 1/1 [00:00<00:00,  2.34it/s]\u001b[A\n",
      "\n"
     ]
    },
    {
     "name": "stdout",
     "output_type": "stream",
     "text": [
      "Total files processed: 1\n"
     ]
    },
    {
     "name": "stderr",
     "output_type": "stream",
     "text": [
      "/w/hallb-scshelf2102/clas12/users/gmat/clas12/neutneut/analysis/neutron_ml/../../src/TrainData.py:84: FutureWarning: The default of observed=False is deprecated and will be changed to True in a future version of pandas. Pass observed=False to retain current behavior or observed=True to adopt the future default and silence this warning.\n",
      "  group_sizes = df.groupby(group_cols).size()\n",
      "100%|███████████████████████████████████████| 197/197 [00:01<00:00, 151.34it/s]\u001b[A\n",
      "\n",
      "Processing CSV files:  92%|████████████████▌ | 461/500 [00:28<00:02, 14.04it/s]\u001b[A\n",
      " 60%|███████████████████████▍               | 118/196 [00:00<00:00, 262.24it/s]\u001b[A\n",
      "100%|███████████████████████████████████████| 197/197 [00:01<00:00, 178.59it/s]\u001b[A\n",
      "\n",
      "  0%|                                                  | 0/197 [00:00<?, ?it/s]\u001b[A\n",
      "100%|███████████████████████████████████████| 198/198 [00:01<00:00, 197.46it/s]\u001b[A\n",
      "\n",
      " 84%|████████████████████████████████▋      | 166/198 [00:00<00:00, 217.12it/s]\u001b[A\n",
      "100%|███████████████████████████████████████| 194/194 [00:00<00:00, 228.84it/s]\u001b[A\n",
      "\n",
      " 86%|█████████████████████████████████▋     | 170/197 [00:00<00:00, 222.41it/s]\u001b[A\n",
      " 61%|███████████████████████▉               | 121/197 [00:00<00:00, 241.03it/s]\u001b[A\n",
      "100%|████████████████████████████████████████████| 1/1 [00:00<00:00,  3.17it/s]\u001b[A\n",
      "\n"
     ]
    },
    {
     "name": "stdout",
     "output_type": "stream",
     "text": [
      "Total files processed: 1\n"
     ]
    },
    {
     "name": "stderr",
     "output_type": "stream",
     "text": [
      "/w/hallb-scshelf2102/clas12/users/gmat/clas12/neutneut/analysis/neutron_ml/../../src/TrainData.py:84: FutureWarning: The default of observed=False is deprecated and will be changed to True in a future version of pandas. Pass observed=False to retain current behavior or observed=True to adopt the future default and silence this warning.\n",
      "  group_sizes = df.groupby(group_cols).size()\n",
      "  0%|                                                    | 0/1 [00:00<?, ?it/s]\u001b[A\n",
      " 20%|████████                                | 40/199 [00:00<00:00, 398.54it/s]\u001b[A\n",
      " 59%|██████████████████████▊                | 116/198 [00:00<00:00, 262.91it/s]\u001b[A\n",
      " 71%|███████████████████████████▋           | 138/194 [00:00<00:00, 196.72it/s]\u001b[A\n",
      "  0%|                                                    | 0/1 [00:00<?, ?it/s]\u001b[A\n",
      " 72%|████████████████████████████           | 142/197 [00:00<00:00, 205.75it/s]\u001b[A\n",
      "  0%|                                                    | 0/1 [00:00<?, ?it/s]\u001b[A\n",
      "100%|███████████████████████████████████████| 197/197 [00:00<00:00, 211.06it/s]\u001b[A\n",
      "Processing CSV files:  93%|████████████████▊ | 466/500 [00:29<00:01, 19.17it/s]\n",
      " 96%|█████████████████████████████████████▋ | 192/199 [00:00<00:00, 229.85it/s]\u001b[A\n",
      " 74%|█████████████████████████████          | 146/196 [00:00<00:00, 253.85it/s]\u001b[A\n",
      "  0%|                                                    | 0/1 [00:00<?, ?it/s]\u001b[A\n",
      "  0%|                                                  | 0/192 [00:00<?, ?it/s]\u001b[A\n",
      " 95%|█████████████████████████████████████▏ | 189/198 [00:00<00:00, 186.42it/s]\u001b[A\n",
      "  0%|                                                  | 0/198 [00:00<?, ?it/s]\u001b[A\n",
      " 75%|█████████████████████████████▎         | 148/197 [00:00<00:00, 249.24it/s]\u001b[A\n",
      " 59%|███████████████████████▏               | 118/199 [00:00<00:00, 282.10it/s]\u001b[A\n",
      "  0%|                                                    | 0/1 [00:00<?, ?it/s]\u001b[A\n",
      "  0%|                                                    | 0/1 [00:00<?, ?it/s]\u001b[A\n",
      " 21%|████████▌                               | 42/197 [00:00<00:00, 419.05it/s]\u001b[A\n",
      " 82%|███████████████████████████████▉       | 159/194 [00:00<00:00, 192.37it/s]\u001b[A\n",
      " 51%|███████████████████▊                   | 100/197 [00:00<00:00, 365.90it/s]\u001b[A\n",
      "100%|███████████████████████████████████████| 197/197 [00:00<00:00, 229.22it/s]\u001b[A\n",
      "\n",
      "100%|███████████████████████████████████████| 194/194 [00:01<00:00, 186.52it/s]\u001b[A\n",
      "\n",
      "  0%|                                                    | 0/1 [00:00<?, ?it/s]\u001b[A\n",
      "  0%|                                                  | 0/197 [00:00<?, ?it/s]\u001b[A\n",
      " 83%|████████████████████████████████▎      | 163/197 [00:00<00:00, 186.76it/s]\u001b[A\n",
      "Processing CSV files:  94%|████████████████▉ | 469/500 [00:29<00:01, 20.55it/s]\u001b[A\n",
      " 71%|███████████████████████████▊           | 140/196 [00:00<00:00, 228.20it/s]\u001b[A\n",
      "100%|███████████████████████████████████████| 199/199 [00:00<00:00, 206.65it/s]\u001b[A\n",
      "\n",
      " 88%|██████████████████████████████████▏    | 172/196 [00:00<00:00, 241.95it/s]\u001b[A\n",
      " 89%|██████████████████████████████████▋    | 175/197 [00:00<00:00, 252.63it/s]\u001b[A\n",
      "  0%|                                                  | 0/198 [00:00<?, ?it/s]\u001b[A\n",
      "100%|███████████████████████████████████████| 198/198 [00:01<00:00, 186.86it/s]\u001b[A\n",
      "\n",
      "100%|████████████████████████████████████████████| 1/1 [00:00<00:00,  5.46it/s]\u001b[A\n",
      "100%|████████████████████████████████████████████| 1/1 [00:00<00:00,  6.28it/s]\u001b[A\n",
      " 96%|█████████████████████████████████████▍ | 186/194 [00:00<00:00, 212.37it/s]\u001b[A\n",
      " 22%|████████▉                               | 43/192 [00:00<00:00, 421.92it/s]\u001b[A\n",
      " 20%|████████                                | 40/198 [00:00<00:00, 397.29it/s]\u001b[A\n",
      " 71%|███████████████████████████▌           | 139/197 [00:00<00:00, 345.76it/s]\u001b[A\n",
      " 43%|█████████████████                       | 84/197 [00:00<00:00, 339.51it/s]\u001b[A\n",
      " 86%|█████████████████████████████████▍     | 170/198 [00:00<00:00, 231.32it/s]\u001b[A\n",
      " 92%|████████████████████████████████████   | 182/197 [00:00<00:00, 182.18it/s]\u001b[A\n",
      " 42%|████████████████▋                       | 82/196 [00:00<00:00, 279.15it/s]\u001b[A\n",
      "100%|████████████████████████████████████████████| 1/1 [00:00<00:00,  6.09it/s]\u001b[A\n",
      "100%|████████████████████████████████████████████| 1/1 [00:00<00:00,  6.56it/s]\u001b[A\n",
      "100%|████████████████████████████████████████████| 1/1 [00:00<00:00,  4.81it/s]\u001b[A\n",
      " 56%|█████████████████████▉                 | 112/199 [00:00<00:00, 261.29it/s]\u001b[A\n",
      " 22%|████████▋                               | 43/197 [00:00<00:00, 423.38it/s]\u001b[A\n",
      "100%|████████████████████████████████████████████| 1/1 [00:00<00:00,  5.83it/s]\u001b[A\n",
      " 84%|████████████████████████████████▋      | 164/196 [00:00<00:00, 206.63it/s]\u001b[A\n",
      "100%|████████████████████████████████████████████| 1/1 [00:00<00:00,  2.56it/s]\u001b[A\n"
     ]
    },
    {
     "name": "stdout",
     "output_type": "stream",
     "text": [
      "Total files processed: 1"
     ]
    },
    {
     "name": "stderr",
     "output_type": "stream",
     "text": [
      "100%|████████████████████████████████████████████| 1/1 [00:00<00:00,  3.03it/s]\n"
     ]
    },
    {
     "name": "stdout",
     "output_type": "stream",
     "text": [
      "\n",
      "Total files processed: 1"
     ]
    },
    {
     "name": "stderr",
     "output_type": "stream",
     "text": [
      "\n",
      "/w/hallb-scshelf2102/clas12/users/gmat/clas12/neutneut/analysis/neutron_ml/../../src/TrainData.py:84: FutureWarning: The default of observed=False is deprecated and will be changed to True in a future version of pandas. Pass observed=False to retain current behavior or observed=True to adopt the future default and silence this warning.\n",
      "  group_sizes = df.groupby(group_cols).size()\n",
      "100%|████████████████████████████████████████████| 1/1 [00:00<00:00,  7.20it/s]"
     ]
    },
    {
     "name": "stdout",
     "output_type": "stream",
     "text": [
      "\n"
     ]
    },
    {
     "name": "stderr",
     "output_type": "stream",
     "text": [
      "\u001b[A\n",
      " 89%|██████████████████████████████████▋    | 177/199 [00:00<00:00, 251.99it/s]/w/hallb-scshelf2102/clas12/users/gmat/clas12/neutneut/analysis/neutron_ml/../../src/TrainData.py:84: FutureWarning: The default of observed=False is deprecated and will be changed to True in a future version of pandas. Pass observed=False to retain current behavior or observed=True to adopt the future default and silence this warning.\n",
      "  group_sizes = df.groupby(group_cols).size()\n",
      "100%|████████████████████████████████████████████| 1/1 [00:00<00:00,  3.14it/s]\n",
      "100%|████████████████████████████████████████████| 1/1 [00:00<00:00,  3.52it/s]"
     ]
    },
    {
     "name": "stdout",
     "output_type": "stream",
     "text": [
      "Total files processed: 1\n"
     ]
    },
    {
     "name": "stderr",
     "output_type": "stream",
     "text": [
      "\n",
      "/w/hallb-scshelf2102/clas12/users/gmat/clas12/neutneut/analysis/neutron_ml/../../src/TrainData.py:84: FutureWarning: The default of observed=False is deprecated and will be changed to True in a future version of pandas. Pass observed=False to retain current behavior or observed=True to adopt the future default and silence this warning.\n",
      "  group_sizes = df.groupby(group_cols).size()\n",
      "100%|███████████████████████████████████████| 197/197 [00:00<00:00, 229.49it/s]"
     ]
    },
    {
     "name": "stdout",
     "output_type": "stream",
     "text": [
      "Total files processed: 1"
     ]
    },
    {
     "name": "stderr",
     "output_type": "stream",
     "text": [
      "\n"
     ]
    },
    {
     "name": "stdout",
     "output_type": "stream",
     "text": [
      "\n"
     ]
    },
    {
     "name": "stderr",
     "output_type": "stream",
     "text": [
      "/w/hallb-scshelf2102/clas12/users/gmat/clas12/neutneut/analysis/neutron_ml/../../src/TrainData.py:84: FutureWarning: The default of observed=False is deprecated and will be changed to True in a future version of pandas. Pass observed=False to retain current behavior or observed=True to adopt the future default and silence this warning.\n",
      "  group_sizes = df.groupby(group_cols).size()\n",
      "100%|███████████████████████████████████████| 194/194 [00:01<00:00, 186.96it/s]\n",
      "100%|████████████████████████████████████████████| 1/1 [00:00<00:00,  3.41it/s]\n"
     ]
    },
    {
     "name": "stdout",
     "output_type": "stream",
     "text": [
      "Total files processed: 1"
     ]
    },
    {
     "name": "stderr",
     "output_type": "stream",
     "text": [
      "100%|████████████████████████████████████████████| 1/1 [00:00<00:00,  3.76it/s]"
     ]
    },
    {
     "name": "stdout",
     "output_type": "stream",
     "text": [
      "\n"
     ]
    },
    {
     "name": "stderr",
     "output_type": "stream",
     "text": [
      "\n",
      "/w/hallb-scshelf2102/clas12/users/gmat/clas12/neutneut/analysis/neutron_ml/../../src/TrainData.py:84: FutureWarning: The default of observed=False is deprecated and will be changed to True in a future version of pandas. Pass observed=False to retain current behavior or observed=True to adopt the future default and silence this warning.\n",
      "  group_sizes = df.groupby(group_cols).size()\n"
     ]
    },
    {
     "name": "stdout",
     "output_type": "stream",
     "text": [
      "Total files processed: 1"
     ]
    },
    {
     "name": "stderr",
     "output_type": "stream",
     "text": [
      "\n"
     ]
    },
    {
     "name": "stdout",
     "output_type": "stream",
     "text": [
      "\n"
     ]
    },
    {
     "name": "stderr",
     "output_type": "stream",
     "text": [
      "100%|████████████████████████████████████████████| 1/1 [00:00<00:00,  3.06it/s]\u001b[A/w/hallb-scshelf2102/clas12/users/gmat/clas12/neutneut/analysis/neutron_ml/../../src/TrainData.py:84: FutureWarning: The default of observed=False is deprecated and will be changed to True in a future version of pandas. Pass observed=False to retain current behavior or observed=True to adopt the future default and silence this warning.\n",
      "  group_sizes = df.groupby(group_cols).size()\n",
      "\n"
     ]
    },
    {
     "name": "stdout",
     "output_type": "stream",
     "text": [
      "Total files processed: 1"
     ]
    },
    {
     "name": "stderr",
     "output_type": "stream",
     "text": [
      "100%|████████████████████████████████████████████| 1/1 [00:00<00:00,  3.52it/s]"
     ]
    },
    {
     "name": "stdout",
     "output_type": "stream",
     "text": [
      "\n"
     ]
    },
    {
     "name": "stderr",
     "output_type": "stream",
     "text": [
      "\n"
     ]
    },
    {
     "name": "stdout",
     "output_type": "stream",
     "text": [
      "Total files processed: 1"
     ]
    },
    {
     "name": "stderr",
     "output_type": "stream",
     "text": [
      "100%|███████████████████████████████████████| 196/196 [00:00<00:00, 216.91it/s]"
     ]
    },
    {
     "name": "stdout",
     "output_type": "stream",
     "text": [
      "\n"
     ]
    },
    {
     "name": "stderr",
     "output_type": "stream",
     "text": [
      "/w/hallb-scshelf2102/clas12/users/gmat/clas12/neutneut/analysis/neutron_ml/../../src/TrainData.py:84: FutureWarning: The default of observed=False is deprecated and will be changed to True in a future version of pandas. Pass observed=False to retain current behavior or observed=True to adopt the future default and silence this warning.\n",
      "  group_sizes = df.groupby(group_cols).size()\n",
      "\n",
      "\n",
      " 98%|██████████████████████████████████████▏| 194/198 [00:00<00:00, 214.10it/s]/w/hallb-scshelf2102/clas12/users/gmat/clas12/neutneut/analysis/neutron_ml/../../src/TrainData.py:84: FutureWarning: The default of observed=False is deprecated and will be changed to True in a future version of pandas. Pass observed=False to retain current behavior or observed=True to adopt the future default and silence this warning.\n",
      "  group_sizes = df.groupby(group_cols).size()\n",
      "\u001b[A\n",
      " 60%|███████████████████████▌               | 119/197 [00:00<00:00, 278.70it/s]\u001b[A\n",
      " 89%|██████████████████████████████████▋    | 175/197 [00:00<00:00, 287.54it/s]\u001b[A\n",
      " 58%|██████████████████████▍                | 113/196 [00:00<00:00, 253.15it/s]\u001b[A\n",
      "100%|███████████████████████████████████████| 197/197 [00:01<00:00, 182.55it/s]\u001b[A\n",
      "100%|████████████████████████████████████████████| 1/1 [00:00<00:00,  4.12it/s]\n"
     ]
    },
    {
     "name": "stdout",
     "output_type": "stream",
     "text": [
      "Total files processed: 1\n"
     ]
    },
    {
     "name": "stderr",
     "output_type": "stream",
     "text": [
      "/w/hallb-scshelf2102/clas12/users/gmat/clas12/neutneut/analysis/neutron_ml/../../src/TrainData.py:84: FutureWarning: The default of observed=False is deprecated and will be changed to True in a future version of pandas. Pass observed=False to retain current behavior or observed=True to adopt the future default and silence this warning.\n",
      "  group_sizes = df.groupby(group_cols).size()\n",
      "\n",
      " 40%|████████████████▏                       | 80/198 [00:00<00:00, 261.15it/s]\u001b[A\n",
      " 70%|███████████████████████████▍           | 140/199 [00:00<00:00, 251.95it/s]\u001b[A\n",
      "100%|███████████████████████████████████████| 199/199 [00:00<00:00, 255.55it/s]\u001b[A\n",
      "\n",
      " 44%|█████████████████▍                      | 86/197 [00:00<00:00, 333.05it/s]\u001b[A\n",
      "  0%|                                                  | 0/195 [00:00<?, ?it/s]\u001b[A\n",
      "100%|███████████████████████████████████████| 198/198 [00:00<00:00, 217.26it/s]\u001b[A\n",
      "100%|███████████████████████████████████████| 196/196 [00:00<00:00, 219.20it/s]\n",
      "\n",
      "  0%|                                                  | 0/199 [00:00<?, ?it/s]\u001b[A\n",
      "  0%|                                                  | 0/193 [00:00<?, ?it/s]\u001b[A\n",
      "100%|███████████████████████████████████████| 197/197 [00:00<00:00, 296.05it/s]\u001b[A\n",
      "\n",
      " 78%|██████████████████████████████▎        | 153/197 [00:00<00:00, 298.08it/s]\u001b[A\n",
      " 74%|████████████████████████████▊          | 145/196 [00:00<00:00, 272.96it/s]\u001b[A\n",
      "  0%|                                                  | 0/198 [00:00<?, ?it/s]\u001b[A\n",
      "Processing CSV files:  95%|█████████████████▏| 477/500 [00:29<00:01, 21.44it/s]\u001b[A\n",
      "  0%|                                                  | 0/197 [00:00<?, ?it/s]\u001b[A\n",
      " 83%|████████████████████████████████▌      | 166/199 [00:00<00:00, 249.64it/s]\u001b[A\n",
      " 55%|█████████████████████▍                 | 109/198 [00:00<00:00, 262.24it/s]\u001b[A\n",
      " 61%|███████████████████████▊               | 117/192 [00:00<00:00, 268.99it/s]\u001b[A\n",
      " 61%|███████████████████████▉               | 121/197 [00:00<00:00, 333.73it/s]\u001b[A\n",
      "  0%|                                                  | 0/200 [00:00<?, ?it/s]\u001b[A\n",
      " 25%|█████████▊                              | 48/195 [00:00<00:00, 475.26it/s]\u001b[A\n",
      " 27%|██████████▋                             | 52/195 [00:00<00:00, 514.40it/s]\u001b[A\n",
      " 94%|████████████████████████████████████▌  | 185/197 [00:00<00:00, 304.85it/s]\u001b[A\n",
      "  0%|                                                  | 0/195 [00:00<?, ?it/s]\u001b[A\n",
      " 89%|██████████████████████████████████▌    | 174/196 [00:00<00:00, 274.03it/s]\u001b[A\n",
      " 23%|█████████                               | 45/199 [00:00<00:00, 442.89it/s]\u001b[A\n",
      " 23%|█████████                               | 44/193 [00:00<00:00, 439.20it/s]\u001b[A\n",
      " 22%|████████▋                               | 42/194 [00:00<00:00, 413.61it/s]\u001b[A\n",
      "Processing CSV files:  96%|█████████████████▎| 481/500 [00:29<00:00, 23.88it/s]\u001b[A\n",
      " 22%|████████▋                               | 43/198 [00:00<00:00, 425.89it/s]\u001b[A\n",
      " 96%|█████████████████████████████████████▋ | 192/199 [00:00<00:00, 228.04it/s]\u001b[A\n",
      " 69%|██████████████████████████▉            | 137/198 [00:00<00:00, 237.54it/s]\u001b[A\n",
      " 76%|█████████████████████████████▋         | 146/192 [00:00<00:00, 248.17it/s]\u001b[A\n",
      "100%|███████████████████████████████████████| 197/197 [00:00<00:00, 287.23it/s]\u001b[A\n",
      "\n",
      "100%|███████████████████████████████████████| 196/196 [00:00<00:00, 266.31it/s]\u001b[A\n",
      "\n",
      "100%|███████████████████████████████████████| 199/199 [00:00<00:00, 238.15it/s]\u001b[A\n",
      "\n",
      " 49%|███████████████████▋                    | 96/195 [00:00<00:00, 395.53it/s]\u001b[A\n",
      " 21%|████████▍                               | 41/195 [00:00<00:00, 405.07it/s]\u001b[A\n",
      " 53%|████████████████████▊                  | 104/195 [00:00<00:00, 432.97it/s]\u001b[A\n",
      " 45%|██████████████████                      | 90/199 [00:00<00:00, 404.88it/s]\u001b[A\n",
      " 46%|██████████████████▏                     | 88/193 [00:00<00:00, 386.74it/s]\u001b[A\n",
      " 76%|█████████████████████████████▌         | 150/198 [00:00<00:00, 305.45it/s]\u001b[A\n",
      " 43%|█████████████████▎                      | 84/194 [00:00<00:00, 362.04it/s]\u001b[A\n",
      " 87%|█████████████████████████████████▉     | 172/198 [00:00<00:00, 270.49it/s]\u001b[A\n",
      " 95%|█████████████████████████████████████▏ | 183/192 [00:00<00:00, 283.50it/s]\u001b[A\n",
      " 43%|█████████████████▎                      | 86/198 [00:00<00:00, 371.85it/s]\u001b[A\n",
      " 46%|██████████████████▎                     | 90/197 [00:00<00:00, 406.09it/s]\u001b[A\n",
      " 97%|█████████████████████████████████████▊ | 191/197 [00:00<00:00, 320.53it/s]\u001b[A\n",
      "100%|███████████████████████████████████████| 192/192 [00:00<00:00, 271.19it/s]\u001b[A\n",
      "\n",
      " 73%|████████████████████████████▍          | 142/195 [00:00<00:00, 421.27it/s]\u001b[A\n",
      "100%|███████████████████████████████████████| 197/197 [00:00<00:00, 311.69it/s]\u001b[A\n",
      "\n",
      " 96%|█████████████████████████████████████▍ | 190/198 [00:00<00:00, 335.30it/s]\u001b[A\n",
      " 66%|█████████████████████████▊             | 128/193 [00:00<00:00, 384.21it/s]\u001b[A\n",
      " 76%|█████████████████████████████▊         | 149/195 [00:00<00:00, 414.58it/s]\u001b[A\n",
      "100%|███████████████████████████████████████| 198/198 [00:00<00:00, 270.74it/s]\u001b[A\n",
      "\n",
      "100%|███████████████████████████████████████| 198/198 [00:00<00:00, 333.43it/s]\u001b[A\n",
      "\n",
      " 63%|████████████████████████▍              | 124/198 [00:00<00:00, 358.10it/s]\u001b[A\n",
      " 66%|█████████████████████████▉             | 131/197 [00:00<00:00, 380.77it/s]\u001b[A\n",
      " 61%|███████████████████████▊               | 122/200 [00:00<00:00, 402.22it/s]\u001b[A\n",
      " 95%|█████████████████████████████████████▏ | 186/195 [00:00<00:00, 426.07it/s]\u001b[A\n",
      " 69%|███████████████████████████            | 135/195 [00:00<00:00, 451.81it/s]\u001b[A\n",
      " 90%|██████████████████████████████████▉    | 173/193 [00:00<00:00, 406.27it/s]\u001b[A\n",
      " 98%|██████████████████████████████████████▏| 191/195 [00:00<00:00, 415.36it/s]\u001b[A\n",
      "100%|███████████████████████████████████████| 195/195 [00:00<00:00, 421.89it/s]\u001b[A\n",
      "100%|███████████████████████████████████████| 195/195 [00:00<00:00, 422.19it/s]\n",
      "\n",
      "Processing CSV files:  98%|█████████████████▌| 488/500 [00:29<00:00, 22.75it/s]\u001b[A\n",
      "100%|███████████████████████████████████████| 193/193 [00:00<00:00, 402.36it/s]\u001b[A\n",
      "\n",
      "100%|███████████████████████████████████████| 198/198 [00:00<00:00, 427.46it/s]\u001b[A\n",
      "100%|███████████████████████████████████████| 194/194 [00:00<00:00, 392.58it/s]\n",
      "\n",
      "100%|███████████████████████████████████████| 199/199 [00:00<00:00, 389.32it/s]\u001b[A\n",
      "100%|███████████████████████████████████████| 197/197 [00:00<00:00, 416.87it/s]\n",
      "\n",
      "100%|███████████████████████████████████████| 200/200 [00:00<00:00, 458.60it/s]\u001b[A\n",
      "100%|███████████████████████████████████████| 195/195 [00:00<00:00, 445.47it/s]\n",
      "Processing CSV files: 100%|██████████████████| 500/500 [00:30<00:00, 16.51it/s]\n"
     ]
    },
    {
     "name": "stdout",
     "output_type": "stream",
     "text": [
      "Processing completed in 30.48 seconds.\n"
     ]
    }
   ],
   "source": [
    "import h5py\n",
    "import os\n",
    "import glob\n",
    "from concurrent.futures import ProcessPoolExecutor, as_completed\n",
    "from tqdm import tqdm\n",
    "import time\n",
    "import sys\n",
    "sys.path.append(\"../../src\")\n",
    "from TrainData import TrainData\n",
    "# Assuming TrainData is already defined and imported\n",
    "# from your_module import TrainData\n",
    "\n",
    "def process_csv_to_h5(csv_file, h5_file):\n",
    "    \"\"\"\n",
    "    Function to process a single CSV file, converting it to an HDF5 (.h5) file.\n",
    "    \n",
    "    Parameters:\n",
    "    -----------\n",
    "    csv_file : str\n",
    "        Path to the CSV file to be processed.\n",
    "    h5_file : str\n",
    "        Path where the resulting HDF5 file will be saved.\n",
    "    \"\"\"\n",
    "    # Initialize TrainData with the given CSV\n",
    "    td = TrainData([csv_file], K=100)\n",
    "    \n",
    "    # Get the data\n",
    "    X, y, misc = td.get_data()\n",
    "    \n",
    "    # Save the data to an HDF5 file\n",
    "    with h5py.File(h5_file, 'w') as hf:\n",
    "        hf.create_dataset('X', data=X)\n",
    "        hf.create_dataset('y', data=y)\n",
    "        hf.create_dataset('misc', data=misc)\n",
    "\n",
    "\n",
    "def process_all_files(csv_files, max_workers=35):\n",
    "    \"\"\"\n",
    "    Process all CSV files and convert them to corresponding HDF5 files using ProcessPoolExecutor.\n",
    "    \n",
    "    Parameters:\n",
    "    -----------\n",
    "    csv_files : list\n",
    "        List of paths to CSV files.\n",
    "    max_workers : int\n",
    "        Number of parallel workers for the processing.\n",
    "    \"\"\"\n",
    "    with ProcessPoolExecutor(max_workers=max_workers) as executor:\n",
    "        futures = []\n",
    "        total_files = len(csv_files)\n",
    "        \n",
    "        # Track progress with tqdm\n",
    "        progress = tqdm(total=total_files, desc=\"Processing CSV files\")\n",
    "        \n",
    "        for csv_file in csv_files:\n",
    "            # Define the corresponding .h5 output file name\n",
    "            h5_file = csv_file.replace('.csv', '.h5')\n",
    "            \n",
    "            # Submit each CSV processing task to the executor\n",
    "            future = executor.submit(process_csv_to_h5, csv_file, h5_file)\n",
    "            futures.append(future)\n",
    "        \n",
    "        # As each future completes, update the progress\n",
    "        for future in as_completed(futures):\n",
    "            progress.update(1)\n",
    "            try:\n",
    "                future.result()  # Check if any exception occurred\n",
    "            except Exception as e:\n",
    "                print(f\"Error occurred: {e}\")\n",
    "        \n",
    "        progress.close()\n",
    "\n",
    "\n",
    "if __name__ == \"__main__\":\n",
    "    # Get the list of all CSV files to process\n",
    "    csv_files = glob.glob(\"../../projects/supercell.10.08.2024.18.28/training/clasdispr.00.e10.600.emn0.75tmn.09.xs68.34nb.dis.*.csv\")\n",
    "    \n",
    "    # Start processing all files with a max of 35 workers\n",
    "    start_time = time.time()\n",
    "    process_all_files(csv_files, max_workers=35)\n",
    "    end_time = time.time()\n",
    "    \n",
    "    print(f\"Processing completed in {end_time - start_time:.2f} seconds.\")\n"
   ]
  },
  {
   "cell_type": "code",
   "execution_count": null,
   "id": "fad3cc33-fd6c-4e13-a964-d430827615fe",
   "metadata": {},
   "outputs": [],
   "source": []
  }
 ],
 "metadata": {
  "kernelspec": {
   "display_name": "Python 3",
   "language": "python",
   "name": "python3"
  },
  "language_info": {
   "codemirror_mode": {
    "name": "ipython",
    "version": 3
   },
   "file_extension": ".py",
   "mimetype": "text/x-python",
   "name": "python",
   "nbconvert_exporter": "python",
   "pygments_lexer": "ipython3",
   "version": "3.11.9"
  }
 },
 "nbformat": 4,
 "nbformat_minor": 5
}
