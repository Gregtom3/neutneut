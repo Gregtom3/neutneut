{
 "cells": [
  {
   "cell_type": "code",
   "execution_count": 2,
   "id": "b556fa21-3d1a-429a-a71b-8affda5e0f6c",
   "metadata": {},
   "outputs": [
    {
     "name": "stderr",
     "output_type": "stream",
     "text": [
      "2024-10-09 12:08:06.431399: I external/local_xla/xla/tsl/cuda/cudart_stub.cc:32] Could not find cuda drivers on your machine, GPU will not be used.\n",
      "2024-10-09 12:08:06.703818: I external/local_xla/xla/tsl/cuda/cudart_stub.cc:32] Could not find cuda drivers on your machine, GPU will not be used.\n",
      "2024-10-09 12:08:06.930335: E external/local_xla/xla/stream_executor/cuda/cuda_fft.cc:485] Unable to register cuFFT factory: Attempting to register factory for plugin cuFFT when one has already been registered\n",
      "2024-10-09 12:08:07.098498: E external/local_xla/xla/stream_executor/cuda/cuda_dnn.cc:8454] Unable to register cuDNN factory: Attempting to register factory for plugin cuDNN when one has already been registered\n",
      "2024-10-09 12:08:07.141902: E external/local_xla/xla/stream_executor/cuda/cuda_blas.cc:1452] Unable to register cuBLAS factory: Attempting to register factory for plugin cuBLAS when one has already been registered\n",
      "2024-10-09 12:08:07.544425: I tensorflow/core/platform/cpu_feature_guard.cc:210] This TensorFlow binary is optimized to use available CPU instructions in performance-critical operations.\n",
      "To enable the following instructions: AVX2 AVX512F FMA, in other operations, rebuild TensorFlow with the appropriate compiler flags.\n",
      "2024-10-09 12:08:08.968174: W tensorflow/compiler/tf2tensorrt/utils/py_utils.cc:38] TF-TRT Warning: Could not find TensorRT\n",
      "Processing CSV files:   0%|                            | 0/500 [00:00<?, ?it/s]\n",
      "  0%|                                                    | 0/1 [00:00<?, ?it/s]\u001b[A\n",
      "  0%|                                                    | 0/1 [00:00<?, ?it/s]\u001b[A\n",
      "  0%|                                                    | 0/1 [00:00<?, ?it/s]\u001b[A\n",
      "  0%|                                                    | 0/1 [00:00<?, ?it/s]\u001b[A\n",
      "  0%|                                                    | 0/1 [00:00<?, ?it/s]\u001b[A\n",
      "  0%|                                                    | 0/1 [00:00<?, ?it/s]\u001b[A\n",
      "  0%|                                                    | 0/1 [00:00<?, ?it/s]\u001b[A\n",
      "  0%|                                                    | 0/1 [00:00<?, ?it/s]\u001b[A\n",
      "  0%|                                                    | 0/1 [00:00<?, ?it/s]\u001b[A\n",
      "  0%|                                                    | 0/1 [00:00<?, ?it/s]\u001b[A\n",
      "  0%|                                                    | 0/1 [00:00<?, ?it/s]\u001b[A\n",
      "  0%|                                                    | 0/1 [00:00<?, ?it/s]\u001b[A\n",
      "  0%|                                                    | 0/1 [00:00<?, ?it/s]\u001b[A\n",
      "  0%|                                                    | 0/1 [00:00<?, ?it/s]\u001b[A\n",
      "  0%|                                                    | 0/1 [00:00<?, ?it/s]\u001b[A\n",
      "  0%|                                                    | 0/1 [00:00<?, ?it/s]\u001b[A\n",
      "  0%|                                                    | 0/1 [00:00<?, ?it/s]\u001b[A\n",
      "  0%|                                                    | 0/1 [00:00<?, ?it/s]\u001b[A\n",
      "  0%|                                                    | 0/1 [00:00<?, ?it/s]\u001b[A\n",
      "  0%|                                                    | 0/1 [00:00<?, ?it/s]\u001b[A\n",
      "  0%|                                                    | 0/1 [00:00<?, ?it/s]\u001b[A\n",
      "  0%|                                                    | 0/1 [00:00<?, ?it/s]\u001b[A\n",
      "  0%|                                                    | 0/1 [00:00<?, ?it/s]\u001b[A\n",
      "  0%|                                                    | 0/1 [00:00<?, ?it/s]\u001b[A\n",
      "  0%|                                                    | 0/1 [00:00<?, ?it/s]\u001b[A\n",
      "  0%|                                                    | 0/1 [00:00<?, ?it/s]\u001b[A\n",
      "  0%|                                                    | 0/1 [00:00<?, ?it/s]\u001b[A\n",
      "  0%|                                                    | 0/1 [00:00<?, ?it/s]\u001b[A\n",
      "  0%|                                                    | 0/1 [00:00<?, ?it/s]\u001b[A\n",
      "  0%|                                                    | 0/1 [00:00<?, ?it/s]\u001b[A\n",
      "  0%|                                                    | 0/1 [00:00<?, ?it/s]\u001b[A\n",
      "  0%|                                                    | 0/1 [00:00<?, ?it/s]\u001b[A\n",
      "  0%|                                                    | 0/1 [00:00<?, ?it/s]\u001b[A\n",
      "  0%|                                                    | 0/1 [00:00<?, ?it/s]\u001b[A\n",
      "  0%|                                                    | 0/1 [00:00<?, ?it/s]\u001b[A\n",
      "100%|████████████████████████████████████████████| 1/1 [00:00<00:00,  3.88it/s]\u001b[A\n",
      "\n"
     ]
    },
    {
     "name": "stdout",
     "output_type": "stream",
     "text": [
      "Total files processed: 1\n"
     ]
    },
    {
     "name": "stderr",
     "output_type": "stream",
     "text": [
      "100%|████████████████████████████████████████████| 1/1 [00:00<00:00,  4.24it/s]\u001b[A/w/hallb-scshelf2102/clas12/users/gmat/clas12/neutneut/analysis/neutron_ml/../../src/TrainData.py:84: FutureWarning: The default of observed=False is deprecated and will be changed to True in a future version of pandas. Pass observed=False to retain current behavior or observed=True to adopt the future default and silence this warning.\n",
      "  group_sizes = df.groupby(group_cols).size()\n",
      "100%|████████████████████████████████████████████| 1/1 [00:00<00:00,  3.24it/s]\n"
     ]
    },
    {
     "name": "stdout",
     "output_type": "stream",
     "text": [
      "Total files processed: 1\n"
     ]
    },
    {
     "name": "stderr",
     "output_type": "stream",
     "text": [
      "\n",
      "100%|████████████████████████████████████████████| 1/1 [00:00<00:00,  4.78it/s]\u001b[A\n",
      "100%|████████████████████████████████████████████| 1/1 [00:00<00:00,  4.64it/s]\u001b[A/w/hallb-scshelf2102/clas12/users/gmat/clas12/neutneut/analysis/neutron_ml/../../src/TrainData.py:84: FutureWarning: The default of observed=False is deprecated and will be changed to True in a future version of pandas. Pass observed=False to retain current behavior or observed=True to adopt the future default and silence this warning.\n",
      "  group_sizes = df.groupby(group_cols).size()\n",
      "\n",
      "100%|████████████████████████████████████████████| 1/1 [00:00<00:00,  3.60it/s]\u001b[A\n",
      "100%|████████████████████████████████████████████| 1/1 [00:00<00:00,  3.62it/s]\u001b[A\n",
      "100%|████████████████████████████████████████████| 1/1 [00:00<00:00,  3.99it/s]\u001b[A\n",
      "100%|████████████████████████████████████████████| 1/1 [00:00<00:00,  3.92it/s]\u001b[A\n",
      "100%|████████████████████████████████████████████| 1/1 [00:00<00:00,  4.22it/s]\u001b[A\n",
      "100%|████████████████████████████████████████████| 1/1 [00:00<00:00,  4.29it/s]\u001b[A\n",
      "100%|████████████████████████████████████████████| 1/1 [00:00<00:00,  3.48it/s]\u001b[A\n",
      "100%|████████████████████████████████████████████| 1/1 [00:00<00:00,  3.75it/s]\u001b[A\n",
      "100%|████████████████████████████████████████████| 1/1 [00:00<00:00,  3.84it/s]\u001b[A\n",
      "100%|████████████████████████████████████████████| 1/1 [00:00<00:00,  4.29it/s]\u001b[A\n",
      "100%|████████████████████████████████████████████| 1/1 [00:00<00:00,  3.42it/s]\u001b[A\n",
      "100%|████████████████████████████████████████████| 1/1 [00:00<00:00,  4.01it/s]\u001b[A\n",
      "100%|████████████████████████████████████████████| 1/1 [00:00<00:00,  3.14it/s]\u001b[A\n",
      "100%|████████████████████████████████████████████| 1/1 [00:00<00:00,  3.17it/s]\u001b[A\n",
      "100%|████████████████████████████████████████████| 1/1 [00:00<00:00,  4.38it/s]\u001b[A\n",
      "100%|████████████████████████████████████████████| 1/1 [00:00<00:00,  4.93it/s]\u001b[A\n",
      "100%|████████████████████████████████████████████| 1/1 [00:00<00:00,  4.84it/s]\u001b[A\n",
      "100%|████████████████████████████████████████████| 1/1 [00:00<00:00,  4.47it/s]\u001b[A\n",
      "100%|████████████████████████████████████████████| 1/1 [00:00<00:00,  3.80it/s]\u001b[A\n",
      "100%|████████████████████████████████████████████| 1/1 [00:00<00:00,  4.47it/s]\u001b[A\n",
      "100%|████████████████████████████████████████████| 1/1 [00:00<00:00,  4.15it/s]\u001b[A\n",
      "100%|████████████████████████████████████████████| 1/1 [00:00<00:00,  3.32it/s]\u001b[A\n",
      "100%|████████████████████████████████████████████| 1/1 [00:00<00:00,  3.71it/s]\u001b[A\n",
      "100%|████████████████████████████████████████████| 1/1 [00:00<00:00,  4.48it/s]\u001b[A\n",
      "100%|████████████████████████████████████████████| 1/1 [00:00<00:00,  4.18it/s]\u001b[A\n",
      "100%|████████████████████████████████████████████| 1/1 [00:00<00:00,  2.78it/s]\u001b[A\n",
      "100%|████████████████████████████████████████████| 1/1 [00:00<00:00,  3.70it/s]\u001b[A\n",
      "100%|████████████████████████████████████████████| 1/1 [00:00<00:00,  3.63it/s]\u001b[A\n",
      "100%|████████████████████████████████████████████| 1/1 [00:00<00:00,  3.88it/s]\u001b[A\n",
      "100%|████████████████████████████████████████████| 1/1 [00:00<00:00,  2.67it/s]\u001b[A\n",
      "\n"
     ]
    },
    {
     "name": "stdout",
     "output_type": "stream",
     "text": [
      "Total files processed: 1\n"
     ]
    },
    {
     "name": "stderr",
     "output_type": "stream",
     "text": [
      "100%|████████████████████████████████████████████| 1/1 [00:00<00:00,  2.75it/s]\u001b[A\n",
      "/w/hallb-scshelf2102/clas12/users/gmat/clas12/neutneut/analysis/neutron_ml/../../src/TrainData.py:84: FutureWarning: The default of observed=False is deprecated and will be changed to True in a future version of pandas. Pass observed=False to retain current behavior or observed=True to adopt the future default and silence this warning.\n",
      "  group_sizes = df.groupby(group_cols).size()\n"
     ]
    },
    {
     "name": "stdout",
     "output_type": "stream",
     "text": [
      "Total files processed: 1"
     ]
    },
    {
     "name": "stderr",
     "output_type": "stream",
     "text": [
      "100%|████████████████████████████████████████████| 1/1 [00:00<00:00,  2.76it/s]"
     ]
    },
    {
     "name": "stdout",
     "output_type": "stream",
     "text": [
      "\n"
     ]
    },
    {
     "name": "stderr",
     "output_type": "stream",
     "text": [
      "\n",
      "100%|████████████████████████████████████████████| 1/1 [00:00<00:00,  2.64it/s]"
     ]
    },
    {
     "name": "stdout",
     "output_type": "stream",
     "text": [
      "Total files processed: 1"
     ]
    },
    {
     "name": "stderr",
     "output_type": "stream",
     "text": [
      "\n"
     ]
    },
    {
     "name": "stdout",
     "output_type": "stream",
     "text": [
      "\n",
      "Total files processed: 1"
     ]
    },
    {
     "name": "stderr",
     "output_type": "stream",
     "text": [
      "100%|████████████████████████████████████████████| 1/1 [00:00<00:00,  2.33it/s]/w/hallb-scshelf2102/clas12/users/gmat/clas12/neutneut/analysis/neutron_ml/../../src/TrainData.py:84: FutureWarning: The default of observed=False is deprecated and will be changed to True in a future version of pandas. Pass observed=False to retain current behavior or observed=True to adopt the future default and silence this warning.\n",
      "  group_sizes = df.groupby(group_cols).size()\n"
     ]
    },
    {
     "name": "stdout",
     "output_type": "stream",
     "text": [
      "\n"
     ]
    },
    {
     "name": "stderr",
     "output_type": "stream",
     "text": [
      "\n",
      "100%|████████████████████████████████████████████| 1/1 [00:00<00:00,  2.37it/s]"
     ]
    },
    {
     "name": "stdout",
     "output_type": "stream",
     "text": [
      "Total files processed: 1"
     ]
    },
    {
     "name": "stderr",
     "output_type": "stream",
     "text": [
      "/w/hallb-scshelf2102/clas12/users/gmat/clas12/neutneut/analysis/neutron_ml/../../src/TrainData.py:84: FutureWarning: The default of observed=False is deprecated and will be changed to True in a future version of pandas. Pass observed=False to retain current behavior or observed=True to adopt the future default and silence this warning.\n",
      "  group_sizes = df.groupby(group_cols).size()\n",
      "\n"
     ]
    },
    {
     "name": "stdout",
     "output_type": "stream",
     "text": [
      "\n"
     ]
    },
    {
     "name": "stderr",
     "output_type": "stream",
     "text": [
      "100%|████████████████████████████████████████████| 1/1 [00:00<00:00,  2.54it/s]"
     ]
    },
    {
     "name": "stdout",
     "output_type": "stream",
     "text": [
      "Total files processed: 1"
     ]
    },
    {
     "name": "stderr",
     "output_type": "stream",
     "text": [
      "/w/hallb-scshelf2102/clas12/users/gmat/clas12/neutneut/analysis/neutron_ml/../../src/TrainData.py:84: FutureWarning: The default of observed=False is deprecated and will be changed to True in a future version of pandas. Pass observed=False to retain current behavior or observed=True to adopt the future default and silence this warning.\n",
      "  group_sizes = df.groupby(group_cols).size()\n"
     ]
    },
    {
     "name": "stdout",
     "output_type": "stream",
     "text": [
      "\n"
     ]
    },
    {
     "name": "stderr",
     "output_type": "stream",
     "text": [
      "\n",
      "100%|████████████████████████████████████████████| 1/1 [00:00<00:00,  2.50it/s]"
     ]
    },
    {
     "name": "stdout",
     "output_type": "stream",
     "text": [
      "Total files processed: 1"
     ]
    },
    {
     "name": "stderr",
     "output_type": "stream",
     "text": [
      "\n"
     ]
    },
    {
     "name": "stdout",
     "output_type": "stream",
     "text": [
      "\n",
      "Total files processed: 1"
     ]
    },
    {
     "name": "stderr",
     "output_type": "stream",
     "text": [
      "100%|████████████████████████████████████████████| 1/1 [00:00<00:00,  2.70it/s]/w/hallb-scshelf2102/clas12/users/gmat/clas12/neutneut/analysis/neutron_ml/../../src/TrainData.py:84: FutureWarning: The default of observed=False is deprecated and will be changed to True in a future version of pandas. Pass observed=False to retain current behavior or observed=True to adopt the future default and silence this warning.\n",
      "  group_sizes = df.groupby(group_cols).size()\n",
      "/w/hallb-scshelf2102/clas12/users/gmat/clas12/neutneut/analysis/neutron_ml/../../src/TrainData.py:84: FutureWarning: The default of observed=False is deprecated and will be changed to True in a future version of pandas. Pass observed=False to retain current behavior or observed=True to adopt the future default and silence this warning.\n",
      "  group_sizes = df.groupby(group_cols).size()\n"
     ]
    },
    {
     "name": "stdout",
     "output_type": "stream",
     "text": [
      "\n"
     ]
    },
    {
     "name": "stderr",
     "output_type": "stream",
     "text": [
      "\n",
      "100%|████████████████████████████████████████████| 1/1 [00:00<00:00,  2.72it/s]"
     ]
    },
    {
     "name": "stdout",
     "output_type": "stream",
     "text": [
      "Total files processed: 1"
     ]
    },
    {
     "name": "stderr",
     "output_type": "stream",
     "text": [
      "\n"
     ]
    },
    {
     "name": "stdout",
     "output_type": "stream",
     "text": [
      "\n"
     ]
    },
    {
     "name": "stderr",
     "output_type": "stream",
     "text": [
      "100%|████████████████████████████████████████████| 1/1 [00:00<00:00,  2.38it/s]"
     ]
    },
    {
     "name": "stdout",
     "output_type": "stream",
     "text": [
      "Total files processed: 1"
     ]
    },
    {
     "name": "stderr",
     "output_type": "stream",
     "text": [
      "/w/hallb-scshelf2102/clas12/users/gmat/clas12/neutneut/analysis/neutron_ml/../../src/TrainData.py:84: FutureWarning: The default of observed=False is deprecated and will be changed to True in a future version of pandas. Pass observed=False to retain current behavior or observed=True to adopt the future default and silence this warning.\n",
      "  group_sizes = df.groupby(group_cols).size()\n",
      "/w/hallb-scshelf2102/clas12/users/gmat/clas12/neutneut/analysis/neutron_ml/../../src/TrainData.py:84: FutureWarning: The default of observed=False is deprecated and will be changed to True in a future version of pandas. Pass observed=False to retain current behavior or observed=True to adopt the future default and silence this warning.\n",
      "  group_sizes = df.groupby(group_cols).size()\n",
      "\n"
     ]
    },
    {
     "name": "stdout",
     "output_type": "stream",
     "text": [
      "\n"
     ]
    },
    {
     "name": "stderr",
     "output_type": "stream",
     "text": [
      "100%|████████████████████████████████████████████| 1/1 [00:00<00:00,  2.78it/s]"
     ]
    },
    {
     "name": "stdout",
     "output_type": "stream",
     "text": [
      "Total files processed: 1"
     ]
    },
    {
     "name": "stderr",
     "output_type": "stream",
     "text": [
      "\n",
      "/w/hallb-scshelf2102/clas12/users/gmat/clas12/neutneut/analysis/neutron_ml/../../src/TrainData.py:84: FutureWarning: The default of observed=False is deprecated and will be changed to True in a future version of pandas. Pass observed=False to retain current behavior or observed=True to adopt the future default and silence this warning.\n",
      "  group_sizes = df.groupby(group_cols).size()\n"
     ]
    },
    {
     "name": "stdout",
     "output_type": "stream",
     "text": [
      "\n"
     ]
    },
    {
     "name": "stderr",
     "output_type": "stream",
     "text": [
      "100%|████████████████████████████████████████████| 1/1 [00:00<00:00,  2.39it/s]"
     ]
    },
    {
     "name": "stdout",
     "output_type": "stream",
     "text": [
      "Total files processed: 1"
     ]
    },
    {
     "name": "stderr",
     "output_type": "stream",
     "text": [
      "\n",
      "/w/hallb-scshelf2102/clas12/users/gmat/clas12/neutneut/analysis/neutron_ml/../../src/TrainData.py:84: FutureWarning: The default of observed=False is deprecated and will be changed to True in a future version of pandas. Pass observed=False to retain current behavior or observed=True to adopt the future default and silence this warning.\n",
      "  group_sizes = df.groupby(group_cols).size()\n",
      "100%|████████████████████████████████████████████| 1/1 [00:00<00:00,  2.67it/s]"
     ]
    },
    {
     "name": "stdout",
     "output_type": "stream",
     "text": [
      "Total files processed: 1\n"
     ]
    },
    {
     "name": "stderr",
     "output_type": "stream",
     "text": [
      "\n",
      "/w/hallb-scshelf2102/clas12/users/gmat/clas12/neutneut/analysis/neutron_ml/../../src/TrainData.py:84: FutureWarning: The default of observed=False is deprecated and will be changed to True in a future version of pandas. Pass observed=False to retain current behavior or observed=True to adopt the future default and silence this warning.\n",
      "  group_sizes = df.groupby(group_cols).size()\n",
      "100%|████████████████████████████████████████████| 1/1 [00:00<00:00,  2.30it/s]"
     ]
    },
    {
     "name": "stdout",
     "output_type": "stream",
     "text": [
      "Total files processed: 1"
     ]
    },
    {
     "name": "stderr",
     "output_type": "stream",
     "text": [
      "\n",
      "100%|████████████████████████████████████████████| 1/1 [00:00<00:00,  2.32it/s]"
     ]
    },
    {
     "name": "stdout",
     "output_type": "stream",
     "text": [
      "Total files processed: 1\n",
      "\n"
     ]
    },
    {
     "name": "stderr",
     "output_type": "stream",
     "text": [
      "/w/hallb-scshelf2102/clas12/users/gmat/clas12/neutneut/analysis/neutron_ml/../../src/TrainData.py:84: FutureWarning: The default of observed=False is deprecated and will be changed to True in a future version of pandas. Pass observed=False to retain current behavior or observed=True to adopt the future default and silence this warning.\n",
      "  group_sizes = df.groupby(group_cols).size()\n"
     ]
    },
    {
     "name": "stdout",
     "output_type": "stream",
     "text": [
      "\n"
     ]
    },
    {
     "name": "stderr",
     "output_type": "stream",
     "text": [
      "/w/hallb-scshelf2102/clas12/users/gmat/clas12/neutneut/analysis/neutron_ml/../../src/TrainData.py:84: FutureWarning: The default of observed=False is deprecated and will be changed to True in a future version of pandas. Pass observed=False to retain current behavior or observed=True to adopt the future default and silence this warning.\n",
      "  group_sizes = df.groupby(group_cols).size()\n",
      "/w/hallb-scshelf2102/clas12/users/gmat/clas12/neutneut/analysis/neutron_ml/../../src/TrainData.py:84: FutureWarning: The default of observed=False is deprecated and will be changed to True in a future version of pandas. Pass observed=False to retain current behavior or observed=True to adopt the future default and silence this warning.\n",
      "  group_sizes = df.groupby(group_cols).size()\n",
      "/w/hallb-scshelf2102/clas12/users/gmat/clas12/neutneut/analysis/neutron_ml/../../src/TrainData.py:84: FutureWarning: The default of observed=False is deprecated and will be changed to True in a future version of pandas. Pass observed=False to retain current behavior or observed=True to adopt the future default and silence this warning.\n",
      "  group_sizes = df.groupby(group_cols).size()\n",
      "\n",
      "100%|████████████████████████████████████████████| 1/1 [00:00<00:00,  2.28it/s]"
     ]
    },
    {
     "name": "stdout",
     "output_type": "stream",
     "text": [
      "Total files processed: 1"
     ]
    },
    {
     "name": "stderr",
     "output_type": "stream",
     "text": [
      "\n"
     ]
    },
    {
     "name": "stdout",
     "output_type": "stream",
     "text": [
      "\n"
     ]
    },
    {
     "name": "stderr",
     "output_type": "stream",
     "text": [
      "100%|████████████████████████████████████████████| 1/1 [00:00<00:00,  2.80it/s]"
     ]
    },
    {
     "name": "stdout",
     "output_type": "stream",
     "text": [
      "Total files processed: 1"
     ]
    },
    {
     "name": "stderr",
     "output_type": "stream",
     "text": [
      "\n"
     ]
    },
    {
     "name": "stdout",
     "output_type": "stream",
     "text": [
      "\n"
     ]
    },
    {
     "name": "stderr",
     "output_type": "stream",
     "text": [
      "100%|████████████████████████████████████████████| 1/1 [00:00<00:00,  2.53it/s]"
     ]
    },
    {
     "name": "stdout",
     "output_type": "stream",
     "text": [
      "Total files processed: 1"
     ]
    },
    {
     "name": "stderr",
     "output_type": "stream",
     "text": [
      "/w/hallb-scshelf2102/clas12/users/gmat/clas12/neutneut/analysis/neutron_ml/../../src/TrainData.py:84: FutureWarning: The default of observed=False is deprecated and will be changed to True in a future version of pandas. Pass observed=False to retain current behavior or observed=True to adopt the future default and silence this warning.\n",
      "  group_sizes = df.groupby(group_cols).size()\n"
     ]
    },
    {
     "name": "stdout",
     "output_type": "stream",
     "text": [
      "\n"
     ]
    },
    {
     "name": "stderr",
     "output_type": "stream",
     "text": [
      "\n",
      "100%|████████████████████████████████████████████| 1/1 [00:00<00:00,  2.78it/s]"
     ]
    },
    {
     "name": "stdout",
     "output_type": "stream",
     "text": [
      "Total files processed: 1"
     ]
    },
    {
     "name": "stderr",
     "output_type": "stream",
     "text": [
      "\n"
     ]
    },
    {
     "name": "stdout",
     "output_type": "stream",
     "text": [
      "\n"
     ]
    },
    {
     "name": "stderr",
     "output_type": "stream",
     "text": [
      "100%|████████████████████████████████████████████| 1/1 [00:00<00:00,  2.64it/s]"
     ]
    },
    {
     "name": "stdout",
     "output_type": "stream",
     "text": [
      "Total files processed: 1"
     ]
    },
    {
     "name": "stderr",
     "output_type": "stream",
     "text": [
      "/w/hallb-scshelf2102/clas12/users/gmat/clas12/neutneut/analysis/neutron_ml/../../src/TrainData.py:84: FutureWarning: The default of observed=False is deprecated and will be changed to True in a future version of pandas. Pass observed=False to retain current behavior or observed=True to adopt the future default and silence this warning.\n",
      "  group_sizes = df.groupby(group_cols).size()\n",
      "/w/hallb-scshelf2102/clas12/users/gmat/clas12/neutneut/analysis/neutron_ml/../../src/TrainData.py:84: FutureWarning: The default of observed=False is deprecated and will be changed to True in a future version of pandas. Pass observed=False to retain current behavior or observed=True to adopt the future default and silence this warning.\n",
      "  group_sizes = df.groupby(group_cols).size()\n",
      "\n"
     ]
    },
    {
     "name": "stdout",
     "output_type": "stream",
     "text": [
      "\n"
     ]
    },
    {
     "name": "stderr",
     "output_type": "stream",
     "text": [
      "100%|████████████████████████████████████████████| 1/1 [00:00<00:00,  2.27it/s]"
     ]
    },
    {
     "name": "stdout",
     "output_type": "stream",
     "text": [
      "Total files processed: 1"
     ]
    },
    {
     "name": "stderr",
     "output_type": "stream",
     "text": [
      "\n"
     ]
    },
    {
     "name": "stdout",
     "output_type": "stream",
     "text": [
      "\n"
     ]
    },
    {
     "name": "stderr",
     "output_type": "stream",
     "text": [
      "/w/hallb-scshelf2102/clas12/users/gmat/clas12/neutneut/analysis/neutron_ml/../../src/TrainData.py:84: FutureWarning: The default of observed=False is deprecated and will be changed to True in a future version of pandas. Pass observed=False to retain current behavior or observed=True to adopt the future default and silence this warning.\n",
      "  group_sizes = df.groupby(group_cols).size()\n",
      "\n"
     ]
    },
    {
     "name": "stdout",
     "output_type": "stream",
     "text": [
      "Total files processed: 1"
     ]
    },
    {
     "name": "stderr",
     "output_type": "stream",
     "text": [
      "  0%|                                                  | 0/197 [00:00<?, ?it/s]"
     ]
    },
    {
     "name": "stdout",
     "output_type": "stream",
     "text": [
      "\n"
     ]
    },
    {
     "name": "stderr",
     "output_type": "stream",
     "text": [
      "/w/hallb-scshelf2102/clas12/users/gmat/clas12/neutneut/analysis/neutron_ml/../../src/TrainData.py:84: FutureWarning: The default of observed=False is deprecated and will be changed to True in a future version of pandas. Pass observed=False to retain current behavior or observed=True to adopt the future default and silence this warning.\n",
      "  group_sizes = df.groupby(group_cols).size()\n",
      "100%|████████████████████████████████████████████| 1/1 [00:00<00:00,  2.73it/s]\n",
      "/w/hallb-scshelf2102/clas12/users/gmat/clas12/neutneut/analysis/neutron_ml/../../src/TrainData.py:84: FutureWarning: The default of observed=False is deprecated and will be changed to True in a future version of pandas. Pass observed=False to retain current behavior or observed=True to adopt the future default and silence this warning.\n",
      "  group_sizes = df.groupby(group_cols).size()\n",
      "100%|████████████████████████████████████████████| 1/1 [00:00<00:00,  2.61it/s]"
     ]
    },
    {
     "name": "stdout",
     "output_type": "stream",
     "text": [
      "Total files processed: 1"
     ]
    },
    {
     "name": "stderr",
     "output_type": "stream",
     "text": [
      "/w/hallb-scshelf2102/clas12/users/gmat/clas12/neutneut/analysis/neutron_ml/../../src/TrainData.py:84: FutureWarning: The default of observed=False is deprecated and will be changed to True in a future version of pandas. Pass observed=False to retain current behavior or observed=True to adopt the future default and silence this warning.\n",
      "  group_sizes = df.groupby(group_cols).size()\n",
      "\n"
     ]
    },
    {
     "name": "stdout",
     "output_type": "stream",
     "text": [
      "\n",
      "Total files processed: 1\n"
     ]
    },
    {
     "name": "stderr",
     "output_type": "stream",
     "text": [
      "100%|████████████████████████████████████████████| 1/1 [00:00<00:00,  1.99it/s]\n",
      "/w/hallb-scshelf2102/clas12/users/gmat/clas12/neutneut/analysis/neutron_ml/../../src/TrainData.py:84: FutureWarning: The default of observed=False is deprecated and will be changed to True in a future version of pandas. Pass observed=False to retain current behavior or observed=True to adopt the future default and silence this warning.\n",
      "  group_sizes = df.groupby(group_cols).size()\n",
      "100%|████████████████████████████████████████████| 1/1 [00:00<00:00,  2.42it/s]"
     ]
    },
    {
     "name": "stdout",
     "output_type": "stream",
     "text": [
      "Total files processed: 1"
     ]
    },
    {
     "name": "stderr",
     "output_type": "stream",
     "text": [
      "/w/hallb-scshelf2102/clas12/users/gmat/clas12/neutneut/analysis/neutron_ml/../../src/TrainData.py:84: FutureWarning: The default of observed=False is deprecated and will be changed to True in a future version of pandas. Pass observed=False to retain current behavior or observed=True to adopt the future default and silence this warning.\n",
      "  group_sizes = df.groupby(group_cols).size()\n"
     ]
    },
    {
     "name": "stdout",
     "output_type": "stream",
     "text": [
      "\n"
     ]
    },
    {
     "name": "stderr",
     "output_type": "stream",
     "text": [
      "\n"
     ]
    },
    {
     "name": "stdout",
     "output_type": "stream",
     "text": [
      "Total files processed: 1"
     ]
    },
    {
     "name": "stderr",
     "output_type": "stream",
     "text": [
      "100%|████████████████████████████████████████████| 1/1 [00:00<00:00,  2.37it/s]\n",
      "/w/hallb-scshelf2102/clas12/users/gmat/clas12/neutneut/analysis/neutron_ml/../../src/TrainData.py:84: FutureWarning: The default of observed=False is deprecated and will be changed to True in a future version of pandas. Pass observed=False to retain current behavior or observed=True to adopt the future default and silence this warning.\n",
      "  group_sizes = df.groupby(group_cols).size()\n",
      "100%|████████████████████████████████████████████| 1/1 [00:00<00:00,  2.48it/s]"
     ]
    },
    {
     "name": "stdout",
     "output_type": "stream",
     "text": [
      "Total files processed: 1"
     ]
    },
    {
     "name": "stderr",
     "output_type": "stream",
     "text": [
      "\n"
     ]
    },
    {
     "name": "stdout",
     "output_type": "stream",
     "text": [
      "\n"
     ]
    },
    {
     "name": "stderr",
     "output_type": "stream",
     "text": [
      "100%|████████████████████████████████████████████| 1/1 [00:00<00:00,  2.50it/s]"
     ]
    },
    {
     "name": "stdout",
     "output_type": "stream",
     "text": [
      "Total files processed: 1\n"
     ]
    },
    {
     "name": "stderr",
     "output_type": "stream",
     "text": [
      "\n",
      "/w/hallb-scshelf2102/clas12/users/gmat/clas12/neutneut/analysis/neutron_ml/../../src/TrainData.py:84: FutureWarning: The default of observed=False is deprecated and will be changed to True in a future version of pandas. Pass observed=False to retain current behavior or observed=True to adopt the future default and silence this warning.\n",
      "  group_sizes = df.groupby(group_cols).size()\n"
     ]
    },
    {
     "name": "stdout",
     "output_type": "stream",
     "text": [
      "Total files processed: 1"
     ]
    },
    {
     "name": "stderr",
     "output_type": "stream",
     "text": [
      "100%|████████████████████████████████████████████| 1/1 [00:00<00:00,  2.10it/s]"
     ]
    },
    {
     "name": "stdout",
     "output_type": "stream",
     "text": [
      "\n",
      "\n"
     ]
    },
    {
     "name": "stderr",
     "output_type": "stream",
     "text": [
      "/w/hallb-scshelf2102/clas12/users/gmat/clas12/neutneut/analysis/neutron_ml/../../src/TrainData.py:84: FutureWarning: The default of observed=False is deprecated and will be changed to True in a future version of pandas. Pass observed=False to retain current behavior or observed=True to adopt the future default and silence this warning.\n",
      "  group_sizes = df.groupby(group_cols).size()\n",
      "/w/hallb-scshelf2102/clas12/users/gmat/clas12/neutneut/analysis/neutron_ml/../../src/TrainData.py:84: FutureWarning: The default of observed=False is deprecated and will be changed to True in a future version of pandas. Pass observed=False to retain current behavior or observed=True to adopt the future default and silence this warning.\n",
      "  group_sizes = df.groupby(group_cols).size()\n",
      "/w/hallb-scshelf2102/clas12/users/gmat/clas12/neutneut/analysis/neutron_ml/../../src/TrainData.py:84: FutureWarning: The default of observed=False is deprecated and will be changed to True in a future version of pandas. Pass observed=False to retain current behavior or observed=True to adopt the future default and silence this warning.\n",
      "  group_sizes = df.groupby(group_cols).size()\n",
      "\n",
      "100%|████████████████████████████████████████████| 1/1 [00:00<00:00,  2.04it/s]"
     ]
    },
    {
     "name": "stdout",
     "output_type": "stream",
     "text": [
      "Total files processed: 1"
     ]
    },
    {
     "name": "stderr",
     "output_type": "stream",
     "text": [
      "\n"
     ]
    },
    {
     "name": "stdout",
     "output_type": "stream",
     "text": [
      "\n",
      "Total files processed: 1"
     ]
    },
    {
     "name": "stderr",
     "output_type": "stream",
     "text": [
      "100%|████████████████████████████████████████████| 1/1 [00:00<00:00,  2.43it/s]"
     ]
    },
    {
     "name": "stdout",
     "output_type": "stream",
     "text": [
      "\n"
     ]
    },
    {
     "name": "stderr",
     "output_type": "stream",
     "text": [
      "/w/hallb-scshelf2102/clas12/users/gmat/clas12/neutneut/analysis/neutron_ml/../../src/TrainData.py:84: FutureWarning: The default of observed=False is deprecated and will be changed to True in a future version of pandas. Pass observed=False to retain current behavior or observed=True to adopt the future default and silence this warning.\n",
      "  group_sizes = df.groupby(group_cols).size()\n",
      "\n"
     ]
    },
    {
     "name": "stdout",
     "output_type": "stream",
     "text": [
      "Total files processed: 1"
     ]
    },
    {
     "name": "stderr",
     "output_type": "stream",
     "text": [
      "100%|████████████████████████████████████████████| 1/1 [00:00<00:00,  2.14it/s]\n",
      "/w/hallb-scshelf2102/clas12/users/gmat/clas12/neutneut/analysis/neutron_ml/../../src/TrainData.py:84: FutureWarning: The default of observed=False is deprecated and will be changed to True in a future version of pandas. Pass observed=False to retain current behavior or observed=True to adopt the future default and silence this warning.\n",
      "  group_sizes = df.groupby(group_cols).size()\n"
     ]
    },
    {
     "name": "stdout",
     "output_type": "stream",
     "text": [
      "Total files processed: 1\n",
      "\n"
     ]
    },
    {
     "name": "stderr",
     "output_type": "stream",
     "text": [
      "\n",
      "  0%|                                                  | 0/197 [00:00<?, ?it/s]/w/hallb-scshelf2102/clas12/users/gmat/clas12/neutneut/analysis/neutron_ml/../../src/TrainData.py:84: FutureWarning: The default of observed=False is deprecated and will be changed to True in a future version of pandas. Pass observed=False to retain current behavior or observed=True to adopt the future default and silence this warning.\n",
      "  group_sizes = df.groupby(group_cols).size()\n",
      "/w/hallb-scshelf2102/clas12/users/gmat/clas12/neutneut/analysis/neutron_ml/../../src/TrainData.py:84: FutureWarning: The default of observed=False is deprecated and will be changed to True in a future version of pandas. Pass observed=False to retain current behavior or observed=True to adopt the future default and silence this warning.\n",
      "  group_sizes = df.groupby(group_cols).size()\n",
      "\u001b[A\n",
      "  0%|                                                  | 0/197 [00:00<?, ?it/s]\u001b[A\n",
      "  0%|                                                  | 0/194 [00:00<?, ?it/s]\u001b[A\n",
      "  0%|                                                  | 0/198 [00:00<?, ?it/s]\u001b[A\n",
      "  0%|                                                  | 0/196 [00:00<?, ?it/s]\u001b[A\n",
      "  0%|                                                  | 0/198 [00:00<?, ?it/s]\u001b[A\n",
      " 17%|██████▋                                 | 33/197 [00:00<00:00, 325.20it/s]\u001b[A\n",
      "  0%|                                                  | 0/198 [00:00<?, ?it/s]\u001b[A\n",
      "  0%|                                                  | 0/197 [00:00<?, ?it/s]\u001b[A\n",
      "  0%|                                                  | 0/199 [00:00<?, ?it/s]\u001b[A\n",
      "  0%|                                                  | 0/195 [00:00<?, ?it/s]\u001b[A\n",
      "  0%|                                                  | 0/196 [00:00<?, ?it/s]\u001b[A\n",
      "  0%|                                                  | 0/197 [00:00<?, ?it/s]\u001b[A\n",
      "  0%|                                                  | 0/198 [00:00<?, ?it/s]\u001b[A\n",
      "  0%|                                                  | 0/199 [00:00<?, ?it/s]\u001b[A\n",
      "  0%|                                                  | 0/198 [00:00<?, ?it/s]\u001b[A\n",
      "  0%|                                                  | 0/200 [00:00<?, ?it/s]\u001b[A\n",
      "  0%|                                                  | 0/194 [00:00<?, ?it/s]\u001b[A\n",
      "  0%|                                                  | 0/196 [00:00<?, ?it/s]\u001b[A\n",
      "  0%|                                                  | 0/198 [00:00<?, ?it/s]\u001b[A\n",
      "  0%|                                                  | 0/196 [00:00<?, ?it/s]\u001b[A\n",
      "  0%|                                                  | 0/197 [00:00<?, ?it/s]\u001b[A\n",
      "  0%|                                                  | 0/197 [00:00<?, ?it/s]\u001b[A\n",
      "  0%|                                                  | 0/199 [00:00<?, ?it/s]\u001b[A\n",
      "  0%|                                                  | 0/200 [00:00<?, ?it/s]\u001b[A\n",
      "  0%|                                                  | 0/198 [00:00<?, ?it/s]\u001b[A\n",
      "  0%|                                                  | 0/196 [00:00<?, ?it/s]\u001b[A\n",
      " 22%|████████▉                               | 44/197 [00:00<00:00, 431.83it/s]\u001b[A\n",
      " 20%|████████                                | 40/197 [00:00<00:00, 396.20it/s]\u001b[A\n",
      " 21%|████████▍                               | 41/194 [00:00<00:00, 404.49it/s]\u001b[A\n",
      " 21%|████████▍                               | 42/198 [00:00<00:00, 416.22it/s]\u001b[A\n",
      " 22%|████████▉                               | 44/196 [00:00<00:00, 431.00it/s]\u001b[A\n",
      " 40%|███████████████▊                        | 78/197 [00:00<00:00, 397.40it/s]\u001b[A\n",
      " 21%|████████▍                               | 42/198 [00:00<00:00, 413.86it/s]\u001b[A\n",
      " 23%|█████████▎                              | 46/198 [00:00<00:00, 453.18it/s]\u001b[A\n",
      "  0%|                                                  | 0/198 [00:00<?, ?it/s]\u001b[A\n",
      " 23%|█████████▎                              | 46/197 [00:00<00:00, 453.92it/s]\u001b[A\n",
      " 21%|████████▍                               | 42/199 [00:00<00:00, 413.61it/s]\u001b[A\n",
      " 24%|█████████▋                              | 47/195 [00:00<00:00, 465.79it/s]\u001b[A\n",
      " 22%|████████▉                               | 44/196 [00:00<00:00, 438.83it/s]\u001b[A\n",
      "  0%|                                                  | 0/198 [00:00<?, ?it/s]\u001b[A\n",
      " 21%|████████▎                               | 41/197 [00:00<00:00, 404.09it/s]\u001b[A\n",
      " 22%|████████▋                               | 43/198 [00:00<00:00, 429.00it/s]\u001b[A\n",
      "  0%|                                                  | 0/196 [00:00<?, ?it/s]\u001b[A\n",
      " 20%|████████                                | 40/199 [00:00<00:00, 393.15it/s]\u001b[A\n",
      " 20%|████████                                | 40/198 [00:00<00:00, 398.71it/s]\u001b[A\n",
      " 23%|█████████▏                              | 46/200 [00:00<00:00, 451.29it/s]\u001b[A\n",
      " 22%|████████▊                               | 43/194 [00:00<00:00, 421.65it/s]\u001b[A\n",
      " 21%|████████▌                               | 42/196 [00:00<00:00, 418.21it/s]\u001b[A\n",
      " 21%|████████▍                               | 42/198 [00:00<00:00, 415.83it/s]\u001b[A\n",
      " 22%|████████▊                               | 43/196 [00:00<00:00, 424.55it/s]\u001b[A\n",
      " 21%|████████▌                               | 42/197 [00:00<00:00, 419.57it/s]\u001b[A\n",
      " 21%|████████▎                               | 41/197 [00:00<00:00, 409.56it/s]\u001b[A\n",
      " 23%|█████████▏                              | 46/199 [00:00<00:00, 458.10it/s]\u001b[A\n",
      " 21%|████████▍                               | 42/200 [00:00<00:00, 413.49it/s]\u001b[A\n",
      " 21%|████████▍                               | 42/198 [00:00<00:00, 412.88it/s]\u001b[A\n",
      " 23%|█████████▍                              | 46/196 [00:00<00:00, 452.39it/s]\u001b[A\n",
      " 45%|█████████████████▊                      | 88/197 [00:00<00:00, 294.83it/s]\u001b[A\n",
      " 41%|████████████████▏                       | 80/197 [00:00<00:00, 281.37it/s]\u001b[A\n",
      " 42%|████████████████▉                       | 82/194 [00:00<00:00, 295.03it/s]\u001b[A\n",
      "  0%|                                                  | 0/195 [00:00<?, ?it/s]\u001b[A\n",
      "  0%|                                                  | 0/198 [00:00<?, ?it/s]\u001b[A\n",
      "  0%|                                                  | 0/198 [00:00<?, ?it/s]\u001b[A\n",
      " 42%|████████████████▉                       | 84/198 [00:00<00:00, 267.10it/s]\u001b[A\n",
      " 60%|███████████████████████▎               | 118/197 [00:00<00:00, 280.62it/s]\u001b[A\n",
      "  0%|                                                  | 0/194 [00:00<?, ?it/s]\u001b[A\n",
      " 42%|████████████████▉                       | 84/198 [00:00<00:00, 262.69it/s]\u001b[A\n",
      " 45%|█████████████████▉                      | 88/196 [00:00<00:00, 268.43it/s]\u001b[A\n",
      " 46%|██████████████████▌                     | 92/198 [00:00<00:00, 276.95it/s]\u001b[A\n",
      " 47%|██████████████████▋                     | 92/197 [00:00<00:00, 268.93it/s]\u001b[A\n",
      " 42%|████████████████▉                       | 84/199 [00:00<00:00, 245.84it/s]\u001b[A\n",
      " 23%|█████████                               | 45/198 [00:00<00:00, 441.14it/s]\u001b[A\n",
      " 42%|████████████████▋                       | 82/197 [00:00<00:00, 233.37it/s]\u001b[A\n",
      " 45%|█████████████████▉                      | 88/196 [00:00<00:00, 246.40it/s]\u001b[A\n",
      " 21%|████████▎                               | 41/198 [00:00<00:00, 408.86it/s]\u001b[A\n",
      " 48%|███████████████████▎                    | 94/195 [00:00<00:00, 256.89it/s]\u001b[A\n",
      " 43%|█████████████████▎                      | 86/198 [00:00<00:00, 240.75it/s]\u001b[A\n",
      " 22%|████████▉                               | 44/196 [00:00<00:00, 438.40it/s]\u001b[A\n",
      " 40%|████████████████                        | 80/199 [00:00<00:00, 224.55it/s]\u001b[A\n",
      " 40%|████████████████▏                       | 80/198 [00:00<00:00, 235.38it/s]\u001b[A\n",
      " 46%|██████████████████▍                     | 92/200 [00:00<00:00, 287.74it/s]\u001b[A\n",
      " 44%|█████████████████▋                      | 86/194 [00:00<00:00, 265.31it/s]\u001b[A\n",
      " 43%|█████████████████▏                      | 84/196 [00:00<00:00, 257.02it/s]\u001b[A\n",
      " 42%|████████████████▉                       | 84/198 [00:00<00:00, 260.34it/s]\u001b[A\n",
      "  0%|                                                  | 0/197 [00:00<?, ?it/s]\u001b[A\n",
      " 44%|█████████████████▌                      | 86/196 [00:00<00:00, 261.66it/s]\u001b[A\n",
      " 43%|█████████████████                       | 84/197 [00:00<00:00, 249.56it/s]\u001b[A\n",
      " 42%|████████████████▊                       | 84/200 [00:00<00:00, 264.37it/s]\u001b[A\n",
      "\u001b[A\n",
      " 61%|███████████████████████▊               | 120/197 [00:00<00:00, 225.73it/s]\u001b[A\n",
      " 42%|████████████████▉                       | 84/198 [00:00<00:00, 252.67it/s]\u001b[A\n",
      " 56%|█████████████████████▉                 | 111/197 [00:00<00:00, 209.97it/s]\u001b[A\n",
      " 46%|██████████████████▍                     | 92/199 [00:00<00:00, 252.20it/s]\u001b[A\n",
      " 59%|██████████████████████▉                | 114/194 [00:00<00:00, 216.12it/s]\u001b[A\n",
      " 47%|██████████████████▊                     | 92/196 [00:00<00:00, 271.91it/s]\u001b[A\n",
      " 58%|██████████████████████▍                | 114/198 [00:00<00:00, 205.69it/s]\u001b[A\n",
      " 76%|█████████████████████████████▋         | 150/197 [00:00<00:00, 220.24it/s]\u001b[A\n",
      " 58%|██████████████████████▍                | 114/198 [00:00<00:00, 206.20it/s]\u001b[A\n",
      " 23%|█████████▏                              | 45/195 [00:00<00:00, 448.59it/s]\u001b[A\n",
      " 28%|███████████                             | 55/198 [00:00<00:00, 548.45it/s]\u001b[A\n",
      " 22%|████████▉                               | 44/198 [00:00<00:00, 434.52it/s]\u001b[A\n",
      " 61%|███████████████████████▋               | 119/196 [00:00<00:00, 202.84it/s]\u001b[A\n",
      " 63%|████████████████████████▍              | 124/198 [00:00<00:00, 214.02it/s]\u001b[A\n",
      " 62%|████████████████████████▎              | 123/197 [00:00<00:00, 213.65it/s]\u001b[A\n",
      " 24%|█████████▍                              | 46/194 [00:00<00:00, 454.31it/s]\u001b[A\n",
      " 57%|██████████████████████▏                | 113/199 [00:00<00:00, 188.78it/s]\u001b[A\n",
      " 56%|█████████████████████▊                 | 110/197 [00:00<00:00, 186.78it/s]\u001b[A\n",
      " 60%|███████████████████████▍               | 118/196 [00:00<00:00, 195.64it/s]\u001b[A\n",
      " 64%|█████████████████████████              | 125/195 [00:00<00:00, 195.08it/s]\u001b[A\n",
      " 45%|██████████████████▏                     | 90/198 [00:00<00:00, 237.09it/s]\u001b[A\n",
      " 58%|██████████████████████▋                | 115/198 [00:00<00:00, 181.14it/s]\u001b[A\n",
      " 54%|████████████████████▉                  | 107/199 [00:00<00:00, 177.99it/s]\u001b[A\n",
      " 41%|████████████████▌                       | 82/198 [00:00<00:00, 228.90it/s]\u001b[A\n",
      " 55%|█████████████████████▎                 | 108/198 [00:00<00:00, 188.02it/s]\u001b[A\n",
      " 60%|███████████████████████▎               | 116/194 [00:00<00:00, 212.72it/s]\u001b[A\n",
      " 62%|████████████████████████▍              | 125/200 [00:00<00:00, 220.87it/s]\u001b[A\n",
      " 58%|██████████████████████▋                | 114/196 [00:00<00:00, 201.24it/s]\u001b[A\n",
      " 57%|██████████████████████▎                | 113/197 [00:00<00:00, 202.88it/s]\u001b[A\n",
      " 45%|█████████████████▉                      | 88/196 [00:00<00:00, 229.20it/s]\u001b[A\n",
      " 58%|██████████████████████▍                | 114/198 [00:00<00:00, 199.40it/s]\u001b[A\n",
      " 59%|███████████████████████                | 116/196 [00:00<00:00, 203.89it/s]\u001b[A\n",
      " 56%|█████████████████████▉                 | 111/197 [00:00<00:00, 192.27it/s]\u001b[A\n",
      " 57%|██████████████████████▏                | 114/200 [00:00<00:00, 199.51it/s]\u001b[A\n",
      " 74%|████████████████████████████▋          | 145/197 [00:00<00:00, 178.40it/s]\u001b[A\n",
      " 25%|█████████▉                              | 49/197 [00:00<00:00, 479.96it/s]\u001b[A\n",
      " 69%|██████████████████████████▋            | 135/197 [00:00<00:00, 169.78it/s]\u001b[A\n",
      " 57%|██████████████████████▎                | 113/198 [00:00<00:00, 195.78it/s]\u001b[A\n",
      " 71%|███████████████████████████▋           | 138/194 [00:00<00:00, 172.94it/s]\u001b[A\n",
      " 62%|████████████████████████               | 123/199 [00:00<00:00, 201.30it/s]\u001b[A\n",
      " 69%|██████████████████████████▉            | 137/198 [00:00<00:00, 175.03it/s]\u001b[A\n",
      " 69%|██████████████████████████▉            | 137/198 [00:00<00:00, 175.61it/s]\u001b[A\n",
      " 89%|██████████████████████████████████▋    | 175/197 [00:00<00:00, 187.53it/s]\u001b[A\n",
      " 63%|████████████████████████▋              | 124/196 [00:00<00:00, 206.11it/s]\u001b[A\n",
      " 72%|████████████████████████████▎          | 142/196 [00:00<00:00, 170.14it/s]\u001b[A\n",
      " 68%|██████████████████████████▍            | 135/199 [00:00<00:00, 169.10it/s]\u001b[A\n",
      " 75%|█████████████████████████████▎         | 149/198 [00:00<00:00, 179.38it/s]\u001b[A\n",
      " 75%|█████████████████████████████▎         | 148/197 [00:00<00:00, 179.49it/s]\u001b[A\n",
      " 46%|██████████████████▍                     | 90/195 [00:00<00:00, 270.45it/s]\u001b[A\n",
      " 67%|██████████████████████████▏            | 132/197 [00:00<00:00, 165.60it/s]\u001b[A\n",
      " 72%|████████████████████████████           | 141/196 [00:00<00:00, 174.00it/s]\u001b[A\n",
      " 76%|█████████████████████████████▌         | 148/195 [00:00<00:00, 182.13it/s]\u001b[A\n",
      " 64%|█████████████████████████              | 128/199 [00:00<00:00, 164.15it/s]\u001b[A\n",
      " 60%|███████████████████████▍               | 119/198 [00:00<00:00, 212.26it/s]\u001b[A\n",
      " 69%|██████████████████████████▉            | 137/198 [00:00<00:00, 166.46it/s]\u001b[A\n",
      " 44%|█████████████████▊                      | 88/198 [00:00<00:00, 246.18it/s]\u001b[A\n",
      " 56%|█████████████████████▋                 | 110/198 [00:00<00:00, 302.17it/s]\u001b[A\n",
      " 47%|██████████████████▉                     | 92/194 [00:00<00:00, 276.25it/s]\u001b[A\n",
      " 66%|█████████████████████████▌             | 130/198 [00:00<00:00, 164.30it/s]\u001b[A\n",
      " 72%|████████████████████████████▏          | 140/194 [00:00<00:00, 181.23it/s]\u001b[A\n",
      " 56%|█████████████████████▋                 | 110/198 [00:00<00:00, 192.33it/s]\u001b[A\n",
      " 70%|███████████████████████████▎           | 137/196 [00:00<00:00, 178.99it/s]\u001b[A\n",
      " 69%|██████████████████████████▉            | 136/197 [00:00<00:00, 181.19it/s]\u001b[A\n",
      " 75%|█████████████████████████████▎         | 150/200 [00:00<00:00, 191.53it/s]\u001b[A\n",
      " 69%|██████████████████████████▉            | 137/198 [00:00<00:00, 176.96it/s]\u001b[A\n",
      " 60%|███████████████████████▎               | 117/196 [00:00<00:00, 203.56it/s]\u001b[A\n",
      " 71%|███████████████████████████▋           | 139/196 [00:00<00:00, 174.85it/s]\u001b[A\n",
      " 68%|██████████████████████████▎            | 133/197 [00:00<00:00, 170.40it/s]\u001b[A\n",
      " 68%|██████████████████████████▋            | 137/200 [00:00<00:00, 183.89it/s]\u001b[A\n",
      " 84%|████████████████████████████████▋      | 165/197 [00:00<00:00, 165.52it/s]\u001b[A\n",
      " 86%|█████████████████████████████████▎     | 171/200 [00:00<00:00, 182.55it/s]\u001b[A\n",
      " 69%|██████████████████████████▊            | 136/198 [00:00<00:00, 178.73it/s]\u001b[A\n",
      " 79%|██████████████████████████████▋        | 156/198 [00:00<00:00, 157.82it/s]\u001b[A\n",
      " 81%|███████████████████████████████▊       | 158/194 [00:00<00:00, 157.14it/s]\u001b[A\n",
      " 79%|██████████████████████████████▋        | 156/198 [00:00<00:00, 158.10it/s]\u001b[A\n",
      " 74%|████████████████████████████▊          | 147/199 [00:00<00:00, 181.51it/s]\u001b[A\n",
      " 77%|██████████████████████████████▏        | 154/199 [00:00<00:00, 162.42it/s]\u001b[A\n",
      " 99%|██████████████████████████████████████▊| 196/197 [00:01<00:00, 168.27it/s]\u001b[A\n",
      " 82%|████████████████████████████████       | 161/196 [00:00<00:00, 161.29it/s]\u001b[A\n",
      " 85%|█████████████████████████████████▎     | 168/197 [00:00<00:00, 172.67it/s]\u001b[A\n",
      " 76%|█████████████████████████████▍         | 148/196 [00:00<00:00, 184.15it/s]\u001b[A\n",
      " 76%|█████████████████████████████▋         | 150/197 [00:00<00:00, 157.86it/s]\u001b[A\n",
      " 85%|█████████████████████████████████▎     | 169/198 [00:00<00:00, 170.32it/s]\u001b[A\n",
      " 49%|███████████████████▋                    | 97/197 [00:00<00:00, 301.79it/s]\u001b[A\n",
      " 82%|███████████████████████████████▊       | 160/196 [00:00<00:00, 164.44it/s]\u001b[A\n",
      " 73%|████████████████████████████▌          | 146/199 [00:00<00:00, 157.64it/s]\u001b[A\n",
      " 86%|█████████████████████████████████▌     | 168/195 [00:00<00:00, 169.56it/s]\u001b[A\n",
      " 62%|████████████████████████▏              | 121/195 [00:00<00:00, 235.91it/s]\u001b[A\n",
      " 79%|██████████████████████████████▋        | 156/198 [00:00<00:00, 155.79it/s]\u001b[A\n",
      " 75%|█████████████████████████████▏         | 148/198 [00:00<00:00, 156.07it/s]\u001b[A\n",
      " 72%|████████████████████████████▏          | 143/198 [00:00<00:00, 192.49it/s]\u001b[A\n",
      " 82%|████████████████████████████████▏      | 160/194 [00:00<00:00, 172.47it/s]\u001b[A\n",
      " 78%|██████████████████████████████▍        | 154/197 [00:01<00:00, 157.75it/s]\u001b[A\n",
      " 80%|███████████████████████████████▏       | 157/196 [00:00<00:00, 170.15it/s]\u001b[A\n",
      " 67%|██████████████████████████             | 132/198 [00:00<00:00, 181.36it/s]\u001b[A\n",
      " 79%|██████████████████████████████▉        | 156/197 [00:00<00:00, 170.33it/s]\u001b[A\n",
      " 60%|███████████████████████▏               | 118/198 [00:00<00:00, 216.34it/s]\u001b[A\n",
      " 79%|██████████████████████████████▉        | 157/198 [00:00<00:00, 169.72it/s]\u001b[A\n",
      " 64%|████████████████████████▉              | 124/194 [00:00<00:00, 236.81it/s]\u001b[A\n",
      " 74%|████████████████████████████▉          | 147/198 [00:00<00:00, 263.16it/s]\u001b[A\n",
      " 81%|███████████████████████████████▍       | 158/196 [00:00<00:00, 165.04it/s]\u001b[A\n",
      " 77%|██████████████████████████████         | 152/197 [00:00<00:00, 159.55it/s]\u001b[A\n",
      " 72%|████████████████████████████           | 141/196 [00:00<00:00, 186.35it/s]\u001b[A\n",
      " 93%|████████████████████████████████████▏  | 183/197 [00:01<00:00, 153.62it/s]\u001b[A\n",
      " 78%|██████████████████████████████▌        | 157/200 [00:00<00:00, 168.23it/s]\u001b[A\n",
      " 87%|██████████████████████████████████     | 173/198 [00:01<00:00, 148.93it/s]\u001b[A\n",
      " 90%|███████████████████████████████████▏   | 175/194 [00:01<00:00, 149.06it/s]\u001b[A\n",
      " 87%|██████████████████████████████████     | 173/198 [00:01<00:00, 150.28it/s]\u001b[A\n",
      " 79%|██████████████████████████████▋        | 156/198 [00:00<00:00, 166.00it/s]\u001b[A\n",
      " 84%|████████████████████████████████▋      | 167/199 [00:00<00:00, 172.55it/s]\u001b[A\n",
      " 86%|█████████████████████████████████▌     | 171/199 [00:01<00:00, 154.97it/s]\u001b[A\n",
      " 91%|███████████████████████████████████▍   | 178/196 [00:01<00:00, 153.78it/s]\u001b[A\n",
      " 95%|█████████████████████████████████████  | 187/197 [00:01<00:00, 163.60it/s]\u001b[A\n",
      " 86%|█████████████████████████████████▍     | 168/196 [00:00<00:00, 173.52it/s]\u001b[A\n",
      " 85%|█████████████████████████████████      | 167/197 [00:01<00:00, 146.86it/s]\u001b[A\n",
      " 94%|████████████████████████████████████▊  | 187/198 [00:01<00:00, 157.96it/s]\u001b[A\n",
      " 91%|███████████████████████████████████▍   | 178/196 [00:01<00:00, 153.47it/s]\u001b[A\n",
      " 82%|███████████████████████████████▉       | 163/199 [00:01<00:00, 148.13it/s]\u001b[A\n",
      " 95%|█████████████████████████████████████▏ | 186/195 [00:01<00:00, 159.39it/s]\u001b[A\n",
      "100%|███████████████████████████████████████| 197/197 [00:01<00:00, 165.86it/s]\u001b[A\n",
      "\n",
      " 83%|████████████████████████████████▌      | 165/198 [00:01<00:00, 153.28it/s]\u001b[A\n",
      " 87%|█████████████████████████████████▊     | 171/197 [00:01<00:00, 126.61it/s]\u001b[A\n",
      " 92%|███████████████████████████████████▊   | 178/194 [00:00<00:00, 167.58it/s]\u001b[A\n",
      " 83%|████████████████████████████████▎      | 164/198 [00:00<00:00, 184.96it/s]\u001b[A\n",
      " 88%|██████████████████████████████████▍    | 174/197 [00:00<00:00, 167.70it/s]\u001b[A\n",
      " 89%|██████████████████████████████████▊    | 175/196 [00:00<00:00, 165.66it/s]\u001b[A\n",
      " 75%|█████████████████████████████▍         | 147/195 [00:00<00:00, 213.79it/s]\u001b[A\n",
      " 66%|█████████████████████████▉             | 131/197 [00:00<00:00, 251.37it/s]\u001b[A\n",
      " 77%|█████████████████████████████▉         | 152/198 [00:00<00:00, 175.87it/s]\u001b[A\n",
      " 88%|██████████████████████████████████▍    | 175/198 [00:01<00:00, 162.80it/s]\u001b[A\n",
      "100%|███████████████████████████████████████| 200/200 [00:01<00:00, 195.65it/s]\u001b[A\n",
      "\n",
      " 90%|███████████████████████████████████    | 176/196 [00:01<00:00, 160.99it/s]\u001b[A\n",
      " 77%|██████████████████████████████▏        | 150/194 [00:00<00:00, 223.35it/s]\u001b[A\n",
      " 86%|█████████████████████████████████▍     | 169/197 [00:01<00:00, 153.29it/s]\u001b[A\n",
      " 95%|█████████████████████████████████████▏ | 189/198 [00:01<00:00, 145.79it/s]\u001b[A\n",
      " 98%|██████████████████████████████████████▍| 191/194 [00:01<00:00, 145.85it/s]\u001b[A\n",
      " 83%|████████████████████████████████▏      | 162/196 [00:00<00:00, 178.78it/s]\u001b[A\n",
      " 88%|██████████████████████████████████▏    | 175/200 [00:01<00:00, 160.37it/s]\u001b[A\n",
      " 89%|██████████████████████████████████▊    | 177/198 [00:00<00:00, 239.30it/s]\u001b[A\n",
      " 95%|█████████████████████████████████████▏ | 189/198 [00:01<00:00, 145.55it/s]\u001b[A\n",
      " 88%|██████████████████████████████████▎    | 174/198 [00:01<00:00, 160.60it/s]\u001b[A\n",
      " 98%|██████████████████████████████████████▍| 193/196 [00:01<00:00, 160.11it/s]\u001b[A\n",
      " 99%|██████████████████████████████████████▌| 194/196 [00:01<00:00, 148.23it/s]\u001b[A\n",
      " 93%|████████████████████████████████████▍  | 186/199 [00:01<00:00, 165.95it/s]\u001b[A\n",
      " 95%|█████████████████████████████████████▏ | 187/196 [00:01<00:00, 170.64it/s]\u001b[A\n",
      " 93%|████████████████████████████████████▏  | 183/197 [00:01<00:00, 145.44it/s]\u001b[A\n",
      " 99%|██████████████████████████████████████▌| 194/196 [00:01<00:00, 152.32it/s]\u001b[A\n",
      " 90%|███████████████████████████████████    | 179/199 [00:01<00:00, 147.04it/s]\u001b[A\n",
      " 95%|█████████████████████████████████████▏ | 189/198 [00:01<00:00, 151.38it/s]\u001b[A\n",
      " 91%|███████████████████████████████████▋   | 181/198 [00:01<00:00, 152.52it/s]\u001b[A\n",
      "100%|███████████████████████████████████████| 197/197 [00:01<00:00, 161.13it/s]\u001b[A\n",
      "\n",
      " 98%|██████████████████████████████████████▏| 192/196 [00:01<00:00, 162.77it/s]\u001b[A\n",
      " 97%|██████████████████████████████████████ | 192/197 [00:01<00:00, 164.83it/s]\u001b[A\n",
      "100%|███████████████████████████████████████| 194/194 [00:01<00:00, 159.66it/s]\u001b[A\n",
      "\n",
      " 86%|█████████████████████████████████▋     | 171/198 [00:00<00:00, 170.38it/s]\u001b[A\n",
      "100%|███████████████████████████████████████| 197/197 [00:01<00:00, 163.94it/s]\u001b[A\n",
      "\n",
      " 94%|████████████████████████████████████▋  | 187/199 [00:01<00:00, 148.61it/s]\u001b[A\n",
      " 81%|███████████████████████████████▍       | 159/197 [00:00<00:00, 236.85it/s]\u001b[A\n",
      " 83%|████████████████████████████████▎      | 164/198 [00:00<00:00, 198.32it/s]\u001b[A\n",
      "100%|███████████████████████████████████████| 198/198 [00:01<00:00, 162.11it/s]\u001b[A\n",
      "100%|███████████████████████████████████████| 195/195 [00:01<00:00, 160.57it/s]\n",
      "100%|███████████████████████████████████████| 196/196 [00:01<00:00, 158.49it/s]\n",
      "\n",
      " 96%|█████████████████████████████████████▍ | 192/200 [00:01<00:00, 158.90it/s]\u001b[A\n",
      "100%|███████████████████████████████████████| 194/194 [00:01<00:00, 169.30it/s]\u001b[A\n",
      "100%|███████████████████████████████████████| 199/199 [00:01<00:00, 175.99it/s]\n",
      "100%|███████████████████████████████████████| 198/198 [00:00<00:00, 235.13it/s]\n",
      "100%|███████████████████████████████████████| 198/198 [00:01<00:00, 155.99it/s]\n",
      "100%|███████████████████████████████████████| 197/197 [00:01<00:00, 158.46it/s]\n",
      "\n",
      " 97%|██████████████████████████████████████ | 194/199 [00:01<00:00, 147.31it/s]\u001b[A\n",
      "100%|███████████████████████████████████████| 196/196 [00:01<00:00, 168.07it/s]\u001b[A\n",
      "\n",
      "100%|███████████████████████████████████████| 198/198 [00:01<00:00, 153.91it/s]\u001b[A\n",
      "100%|███████████████████████████████████████| 196/196 [00:01<00:00, 154.30it/s]\n",
      "100%|███████████████████████████████████████| 199/199 [00:01<00:00, 155.04it/s]\n",
      "\n",
      " 97%|█████████████████████████████████████▊ | 192/198 [00:01<00:00, 159.26it/s]\u001b[A\n",
      "100%|███████████████████████████████████████| 197/197 [00:01<00:00, 159.14it/s]\u001b[A\n",
      "\n",
      " 98%|██████████████████████████████████████▏| 194/198 [00:01<00:00, 185.02it/s]\u001b[A\n",
      "100%|███████████████████████████████████████| 196/196 [00:01<00:00, 153.83it/s]\u001b[A\n",
      "100%|███████████████████████████████████████| 197/197 [00:01<00:00, 140.61it/s]\n",
      "\n",
      " 93%|████████████████████████████████████▍  | 185/198 [00:00<00:00, 200.63it/s]\u001b[A\n",
      "100%|███████████████████████████████████████| 198/198 [00:01<00:00, 169.80it/s]\u001b[A\n",
      "100%|███████████████████████████████████████| 198/198 [00:01<00:00, 149.21it/s]\n",
      "100%|███████████████████████████████████████| 196/196 [00:01<00:00, 156.17it/s]\n",
      "100%|███████████████████████████████████████| 194/194 [00:00<00:00, 201.17it/s]\n",
      "\n",
      "100%|███████████████████████████████████████| 198/198 [00:01<00:00, 141.31it/s]\u001b[A\n",
      "100%|███████████████████████████████████████| 195/195 [00:01<00:00, 191.10it/s]\n",
      "\n",
      "100%|███████████████████████████████████████| 199/199 [00:01<00:00, 143.45it/s]\u001b[A\n",
      "100%|███████████████████████████████████████| 198/198 [00:01<00:00, 148.57it/s]\n",
      "100%|███████████████████████████████████████| 200/200 [00:01<00:00, 153.63it/s]\n",
      "100%|███████████████████████████████████████| 198/198 [00:01<00:00, 152.14it/s]\n",
      "100%|███████████████████████████████████████| 198/198 [00:01<00:00, 165.76it/s]\n",
      "100%|███████████████████████████████████████| 197/197 [00:00<00:00, 218.13it/s]\n",
      "Processing CSV files:   0%|                    | 2/500 [00:02<08:01,  1.03it/s]\n",
      "  0%|                                                    | 0/1 [00:00<?, ?it/s]\u001b[A\n",
      "  0%|                                                    | 0/1 [00:00<?, ?it/s]\u001b[A\n",
      "100%|███████████████████████████████████████| 196/196 [00:01<00:00, 157.75it/s]\u001b[A\n",
      "\n",
      "  0%|                                                    | 0/1 [00:00<?, ?it/s]\u001b[A\n",
      "100%|███████████████████████████████████████| 198/198 [00:01<00:00, 175.59it/s]\u001b[A\n",
      "\n",
      "  0%|                                                    | 0/1 [00:00<?, ?it/s]\u001b[A\n",
      "  0%|                                                    | 0/1 [00:00<?, ?it/s]\u001b[A\n",
      "100%|███████████████████████████████████████| 197/197 [00:01<00:00, 135.66it/s]\u001b[A\n",
      "\n",
      "  0%|                                                    | 0/1 [00:00<?, ?it/s]\u001b[A\n",
      "  0%|                                                    | 0/1 [00:00<?, ?it/s]\u001b[A\n",
      "  0%|                                                    | 0/1 [00:00<?, ?it/s]\u001b[A\n",
      "  0%|                                                    | 0/1 [00:00<?, ?it/s]\u001b[A\n",
      "Processing CSV files:   3%|▌                  | 16/500 [00:02<00:41, 11.66it/s]\u001b[A\n",
      "  0%|                                                    | 0/1 [00:00<?, ?it/s]\u001b[A\n",
      "  0%|                                                    | 0/1 [00:00<?, ?it/s]\u001b[A\n",
      "  0%|                                                    | 0/1 [00:00<?, ?it/s]\u001b[A\n",
      "  0%|                                                    | 0/1 [00:00<?, ?it/s]\u001b[A\n",
      "100%|████████████████████████████████████████████| 1/1 [00:00<00:00,  4.97it/s]\u001b[A\n"
     ]
    },
    {
     "name": "stdout",
     "output_type": "stream",
     "text": [
      "Total files processed: 1"
     ]
    },
    {
     "name": "stderr",
     "output_type": "stream",
     "text": [
      "\n"
     ]
    },
    {
     "name": "stdout",
     "output_type": "stream",
     "text": [
      "\n"
     ]
    },
    {
     "name": "stderr",
     "output_type": "stream",
     "text": [
      "  0%|                                                    | 0/1 [00:00<?, ?it/s]\u001b[A/w/hallb-scshelf2102/clas12/users/gmat/clas12/neutneut/analysis/neutron_ml/../../src/TrainData.py:84: FutureWarning: The default of observed=False is deprecated and will be changed to True in a future version of pandas. Pass observed=False to retain current behavior or observed=True to adopt the future default and silence this warning.\n",
      "  group_sizes = df.groupby(group_cols).size()\n",
      "\n",
      "  0%|                                                    | 0/1 [00:00<?, ?it/s]\u001b[A\n",
      "  0%|                                                    | 0/1 [00:00<?, ?it/s]\u001b[A\n",
      "  0%|                                                    | 0/1 [00:00<?, ?it/s]\u001b[A\n",
      "  0%|                                                    | 0/1 [00:00<?, ?it/s]\u001b[A\n",
      "100%|████████████████████████████████████████████| 1/1 [00:00<00:00,  4.32it/s]\u001b[A\n",
      "100%|████████████████████████████████████████████| 1/1 [00:00<00:00,  6.20it/s]\u001b[A\n",
      "100%|████████████████████████████████████████████| 1/1 [00:00<00:00,  4.16it/s]\u001b[A\n"
     ]
    },
    {
     "name": "stdout",
     "output_type": "stream",
     "text": [
      "Total files processed: 1"
     ]
    },
    {
     "name": "stderr",
     "output_type": "stream",
     "text": [
      "100%|████████████████████████████████████████████| 1/1 [00:00<00:00,  5.82it/s]\n"
     ]
    },
    {
     "name": "stdout",
     "output_type": "stream",
     "text": [
      "Total files processed: 1\n"
     ]
    },
    {
     "name": "stderr",
     "output_type": "stream",
     "text": [
      "\n"
     ]
    },
    {
     "name": "stdout",
     "output_type": "stream",
     "text": [
      "\n"
     ]
    },
    {
     "name": "stderr",
     "output_type": "stream",
     "text": [
      "  0%|                                                    | 0/1 [00:00<?, ?it/s]\u001b[A/w/hallb-scshelf2102/clas12/users/gmat/clas12/neutneut/analysis/neutron_ml/../../src/TrainData.py:84: FutureWarning: The default of observed=False is deprecated and will be changed to True in a future version of pandas. Pass observed=False to retain current behavior or observed=True to adopt the future default and silence this warning.\n",
      "  group_sizes = df.groupby(group_cols).size()\n",
      "/w/hallb-scshelf2102/clas12/users/gmat/clas12/neutneut/analysis/neutron_ml/../../src/TrainData.py:84: FutureWarning: The default of observed=False is deprecated and will be changed to True in a future version of pandas. Pass observed=False to retain current behavior or observed=True to adopt the future default and silence this warning.\n",
      "  group_sizes = df.groupby(group_cols).size()\n",
      "\n",
      "  0%|                                                    | 0/1 [00:00<?, ?it/s]\u001b[A\n",
      "100%|████████████████████████████████████████████| 1/1 [00:00<00:00,  4.84it/s]\u001b[A\n",
      "100%|████████████████████████████████████████████| 1/1 [00:00<00:00,  4.57it/s]\u001b[A\n",
      "\n",
      "  0%|                                                    | 0/1 [00:00<?, ?it/s]\u001b[A"
     ]
    },
    {
     "name": "stdout",
     "output_type": "stream",
     "text": [
      "Total files processed: 1"
     ]
    },
    {
     "name": "stderr",
     "output_type": "stream",
     "text": [
      "\n"
     ]
    },
    {
     "name": "stdout",
     "output_type": "stream",
     "text": [
      "\n"
     ]
    },
    {
     "name": "stderr",
     "output_type": "stream",
     "text": [
      "  0%|                                                    | 0/1 [00:00<?, ?it/s]\u001b[A/w/hallb-scshelf2102/clas12/users/gmat/clas12/neutneut/analysis/neutron_ml/../../src/TrainData.py:84: FutureWarning: The default of observed=False is deprecated and will be changed to True in a future version of pandas. Pass observed=False to retain current behavior or observed=True to adopt the future default and silence this warning.\n",
      "  group_sizes = df.groupby(group_cols).size()\n",
      "\n",
      "Processing CSV files:   6%|█▏                 | 30/500 [00:02<00:19, 23.54it/s]\u001b[A\n",
      "100%|████████████████████████████████████████████| 1/1 [00:00<00:00,  6.18it/s]\u001b[A\n",
      "100%|████████████████████████████████████████████| 1/1 [00:00<00:00,  3.91it/s]\u001b[A\n",
      "100%|████████████████████████████████████████████| 1/1 [00:00<00:00,  3.95it/s]\u001b[A\n",
      "\n",
      "  0%|                                                    | 0/1 [00:00<?, ?it/s]"
     ]
    },
    {
     "name": "stdout",
     "output_type": "stream",
     "text": [
      "Total files processed: 1"
     ]
    },
    {
     "name": "stderr",
     "output_type": "stream",
     "text": [
      "\u001b[A"
     ]
    },
    {
     "name": "stdout",
     "output_type": "stream",
     "text": [
      "\n"
     ]
    },
    {
     "name": "stderr",
     "output_type": "stream",
     "text": [
      "\n",
      "100%|████████████████████████████████████████████| 1/1 [00:00<00:00,  6.25it/s]\u001b[A/w/hallb-scshelf2102/clas12/users/gmat/clas12/neutneut/analysis/neutron_ml/../../src/TrainData.py:84: FutureWarning: The default of observed=False is deprecated and will be changed to True in a future version of pandas. Pass observed=False to retain current behavior or observed=True to adopt the future default and silence this warning.\n",
      "  group_sizes = df.groupby(group_cols).size()\n",
      "\n",
      "100%|████████████████████████████████████████████| 1/1 [00:00<00:00,  4.90it/s]\u001b[A\n",
      "100%|████████████████████████████████████████████| 1/1 [00:00<00:00,  4.36it/s]\u001b[A"
     ]
    },
    {
     "name": "stdout",
     "output_type": "stream",
     "text": [
      "Total files processed: 1"
     ]
    },
    {
     "name": "stderr",
     "output_type": "stream",
     "text": [
      "\n",
      "100%|████████████████████████████████████████████| 1/1 [00:00<00:00,  4.23it/s]\u001b[A\n",
      "\n",
      "100%|████████████████████████████████████████████| 1/1 [00:00<00:00,  4.79it/s]"
     ]
    },
    {
     "name": "stdout",
     "output_type": "stream",
     "text": [
      "\n"
     ]
    },
    {
     "name": "stderr",
     "output_type": "stream",
     "text": [
      "\u001b[A\n",
      " 18%|███████▎                                | 36/197 [00:00<00:00, 353.00it/s]\u001b[A/w/hallb-scshelf2102/clas12/users/gmat/clas12/neutneut/analysis/neutron_ml/../../src/TrainData.py:84: FutureWarning: The default of observed=False is deprecated and will be changed to True in a future version of pandas. Pass observed=False to retain current behavior or observed=True to adopt the future default and silence this warning.\n",
      "  group_sizes = df.groupby(group_cols).size()\n",
      "100%|████████████████████████████████████████████| 1/1 [00:00<00:00,  4.09it/s]\n",
      "\n"
     ]
    },
    {
     "name": "stdout",
     "output_type": "stream",
     "text": [
      "Total files processed: 1\n"
     ]
    },
    {
     "name": "stderr",
     "output_type": "stream",
     "text": [
      "100%|████████████████████████████████████████████| 1/1 [00:00<00:00,  4.16it/s]\u001b[A\n",
      "/w/hallb-scshelf2102/clas12/users/gmat/clas12/neutneut/analysis/neutron_ml/../../src/TrainData.py:84: FutureWarning: The default of observed=False is deprecated and will be changed to True in a future version of pandas. Pass observed=False to retain current behavior or observed=True to adopt the future default and silence this warning.\n",
      "  group_sizes = df.groupby(group_cols).size()\n",
      "100%|████████████████████████████████████████████| 1/1 [00:00<00:00,  5.17it/s]\u001b[A\n",
      "100%|████████████████████████████████████████████| 1/1 [00:00<00:00,  2.77it/s]\u001b[A\n"
     ]
    },
    {
     "name": "stdout",
     "output_type": "stream",
     "text": [
      "Total files processed: 1"
     ]
    },
    {
     "name": "stderr",
     "output_type": "stream",
     "text": [
      "\n",
      "100%|████████████████████████████████████████████| 1/1 [00:00<00:00,  4.00it/s]\u001b[A\n",
      "  0%|                                                  | 0/196 [00:00<?, ?it/s]"
     ]
    },
    {
     "name": "stdout",
     "output_type": "stream",
     "text": [
      "\n"
     ]
    },
    {
     "name": "stderr",
     "output_type": "stream",
     "text": [
      "\u001b[A\n",
      "100%|████████████████████████████████████████████| 1/1 [00:00<00:00,  4.81it/s]/w/hallb-scshelf2102/clas12/users/gmat/clas12/neutneut/analysis/neutron_ml/../../src/TrainData.py:84: FutureWarning: The default of observed=False is deprecated and will be changed to True in a future version of pandas. Pass observed=False to retain current behavior or observed=True to adopt the future default and silence this warning.\n",
      "  group_sizes = df.groupby(group_cols).size()\n",
      "100%|████████████████████████████████████████████| 1/1 [00:00<00:00,  3.89it/s]\n",
      "\n"
     ]
    },
    {
     "name": "stdout",
     "output_type": "stream",
     "text": [
      "Total files processed: 1\n"
     ]
    },
    {
     "name": "stderr",
     "output_type": "stream",
     "text": [
      "100%|████████████████████████████████████████████| 1/1 [00:00<00:00,  5.22it/s]\u001b[A\n",
      "100%|████████████████████████████████████████████| 1/1 [00:00<00:00,  6.23it/s]/w/hallb-scshelf2102/clas12/users/gmat/clas12/neutneut/analysis/neutron_ml/../../src/TrainData.py:84: FutureWarning: The default of observed=False is deprecated and will be changed to True in a future version of pandas. Pass observed=False to retain current behavior or observed=True to adopt the future default and silence this warning.\n",
      "  group_sizes = df.groupby(group_cols).size()\n",
      "\u001b[A\n",
      "100%|████████████████████████████████████████████| 1/1 [00:00<00:00,  3.68it/s]\u001b[A\n",
      "\n"
     ]
    },
    {
     "name": "stdout",
     "output_type": "stream",
     "text": [
      "Total files processed: 1"
     ]
    },
    {
     "name": "stderr",
     "output_type": "stream",
     "text": [
      "100%|████████████████████████████████████████████| 1/1 [00:00<00:00,  5.33it/s]"
     ]
    },
    {
     "name": "stdout",
     "output_type": "stream",
     "text": [
      "\n"
     ]
    },
    {
     "name": "stderr",
     "output_type": "stream",
     "text": [
      "100%|████████████████████████████████████████████| 1/1 [00:00<00:00,  3.29it/s]/w/hallb-scshelf2102/clas12/users/gmat/clas12/neutneut/analysis/neutron_ml/../../src/TrainData.py:84: FutureWarning: The default of observed=False is deprecated and will be changed to True in a future version of pandas. Pass observed=False to retain current behavior or observed=True to adopt the future default and silence this warning.\n",
      "  group_sizes = df.groupby(group_cols).size()\n",
      "\n"
     ]
    },
    {
     "name": "stdout",
     "output_type": "stream",
     "text": [
      "Total files processed: 1"
     ]
    },
    {
     "name": "stderr",
     "output_type": "stream",
     "text": [
      "100%|████████████████████████████████████████████| 1/1 [00:00<00:00,  3.04it/s]\n"
     ]
    },
    {
     "name": "stdout",
     "output_type": "stream",
     "text": [
      "\n"
     ]
    },
    {
     "name": "stderr",
     "output_type": "stream",
     "text": [
      "/w/hallb-scshelf2102/clas12/users/gmat/clas12/neutneut/analysis/neutron_ml/../../src/TrainData.py:84: FutureWarning: The default of observed=False is deprecated and will be changed to True in a future version of pandas. Pass observed=False to retain current behavior or observed=True to adopt the future default and silence this warning.\n",
      "  group_sizes = df.groupby(group_cols).size()\n",
      "100%|████████████████████████████████████████████| 1/1 [00:00<00:00,  3.44it/s]"
     ]
    },
    {
     "name": "stdout",
     "output_type": "stream",
     "text": [
      "Total files processed: 1\n"
     ]
    },
    {
     "name": "stderr",
     "output_type": "stream",
     "text": [
      "\n",
      "\n"
     ]
    },
    {
     "name": "stdout",
     "output_type": "stream",
     "text": [
      "Total files processed: 1"
     ]
    },
    {
     "name": "stderr",
     "output_type": "stream",
     "text": [
      "  0%|                                                  | 0/194 [00:00<?, ?it/s]"
     ]
    },
    {
     "name": "stdout",
     "output_type": "stream",
     "text": [
      "\n"
     ]
    },
    {
     "name": "stderr",
     "output_type": "stream",
     "text": [
      "/w/hallb-scshelf2102/clas12/users/gmat/clas12/neutneut/analysis/neutron_ml/../../src/TrainData.py:84: FutureWarning: The default of observed=False is deprecated and will be changed to True in a future version of pandas. Pass observed=False to retain current behavior or observed=True to adopt the future default and silence this warning.\n",
      "  group_sizes = df.groupby(group_cols).size()\n",
      "100%|████████████████████████████████████████████| 1/1 [00:00<00:00,  3.28it/s]\n",
      "/w/hallb-scshelf2102/clas12/users/gmat/clas12/neutneut/analysis/neutron_ml/../../src/TrainData.py:84: FutureWarning: The default of observed=False is deprecated and will be changed to True in a future version of pandas. Pass observed=False to retain current behavior or observed=True to adopt the future default and silence this warning.\n",
      "  group_sizes = df.groupby(group_cols).size()\n"
     ]
    },
    {
     "name": "stdout",
     "output_type": "stream",
     "text": [
      "Total files processed: 1"
     ]
    },
    {
     "name": "stderr",
     "output_type": "stream",
     "text": [
      "\n"
     ]
    },
    {
     "name": "stdout",
     "output_type": "stream",
     "text": [
      "\n"
     ]
    },
    {
     "name": "stderr",
     "output_type": "stream",
     "text": [
      "  0%|                                                    | 0/1 [00:00<?, ?it/s]\u001b[A\n",
      "/w/hallb-scshelf2102/clas12/users/gmat/clas12/neutneut/analysis/neutron_ml/../../src/TrainData.py:84: FutureWarning: The default of observed=False is deprecated and will be changed to True in a future version of pandas. Pass observed=False to retain current behavior or observed=True to adopt the future default and silence this warning.\n",
      "  group_sizes = df.groupby(group_cols).size()\n",
      "100%|████████████████████████████████████████████| 1/1 [00:00<00:00,  3.53it/s]\u001b[A\n",
      "\n",
      "100%|████████████████████████████████████████████| 1/1 [00:00<00:00,  5.73it/s]\u001b[A\n",
      "100%|████████████████████████████████████████████| 1/1 [00:00<00:00,  5.65it/s]\u001b[A\n",
      "100%|████████████████████████████████████████████| 1/1 [00:00<00:00,  3.47it/s]\u001b[A\n",
      "\n"
     ]
    },
    {
     "name": "stdout",
     "output_type": "stream",
     "text": [
      "Total files processed: 1Total files processed: 1"
     ]
    },
    {
     "name": "stderr",
     "output_type": "stream",
     "text": [
      "100%|████████████████████████████████████████████| 1/1 [00:00<00:00,  4.08it/s]"
     ]
    },
    {
     "name": "stdout",
     "output_type": "stream",
     "text": [
      "\n",
      "\n"
     ]
    },
    {
     "name": "stderr",
     "output_type": "stream",
     "text": [
      "100%|████████████████████████████████████████████| 1/1 [00:00<00:00,  2.88it/s]/w/hallb-scshelf2102/clas12/users/gmat/clas12/neutneut/analysis/neutron_ml/../../src/TrainData.py:84: FutureWarning: The default of observed=False is deprecated and will be changed to True in a future version of pandas. Pass observed=False to retain current behavior or observed=True to adopt the future default and silence this warning.\n",
      "  group_sizes = df.groupby(group_cols).size()\n",
      "/w/hallb-scshelf2102/clas12/users/gmat/clas12/neutneut/analysis/neutron_ml/../../src/TrainData.py:84: FutureWarning: The default of observed=False is deprecated and will be changed to True in a future version of pandas. Pass observed=False to retain current behavior or observed=True to adopt the future default and silence this warning.\n",
      "  group_sizes = df.groupby(group_cols).size()\n",
      "\n",
      "100%|████████████████████████████████████████████| 1/1 [00:00<00:00,  3.54it/s]"
     ]
    },
    {
     "name": "stdout",
     "output_type": "stream",
     "text": [
      "Total files processed: 1"
     ]
    },
    {
     "name": "stderr",
     "output_type": "stream",
     "text": [
      "\n"
     ]
    },
    {
     "name": "stdout",
     "output_type": "stream",
     "text": [
      "\n"
     ]
    },
    {
     "name": "stderr",
     "output_type": "stream",
     "text": [
      "100%|████████████████████████████████████████████| 1/1 [00:00<00:00,  3.93it/s]"
     ]
    },
    {
     "name": "stdout",
     "output_type": "stream",
     "text": [
      "Total files processed: 1"
     ]
    },
    {
     "name": "stderr",
     "output_type": "stream",
     "text": [
      "\n"
     ]
    },
    {
     "name": "stdout",
     "output_type": "stream",
     "text": [
      "\n"
     ]
    },
    {
     "name": "stderr",
     "output_type": "stream",
     "text": [
      "100%|████████████████████████████████████████████| 1/1 [00:00<00:00,  2.74it/s]"
     ]
    },
    {
     "name": "stdout",
     "output_type": "stream",
     "text": [
      "Total files processed: 1\n"
     ]
    },
    {
     "name": "stderr",
     "output_type": "stream",
     "text": [
      "\n",
      "/w/hallb-scshelf2102/clas12/users/gmat/clas12/neutneut/analysis/neutron_ml/../../src/TrainData.py:84: FutureWarning: The default of observed=False is deprecated and will be changed to True in a future version of pandas. Pass observed=False to retain current behavior or observed=True to adopt the future default and silence this warning.\n",
      "  group_sizes = df.groupby(group_cols).size()\n",
      "100%|████████████████████████████████████████████| 1/1 [00:00<00:00,  3.13it/s]/w/hallb-scshelf2102/clas12/users/gmat/clas12/neutneut/analysis/neutron_ml/../../src/TrainData.py:84: FutureWarning: The default of observed=False is deprecated and will be changed to True in a future version of pandas. Pass observed=False to retain current behavior or observed=True to adopt the future default and silence this warning.\n",
      "  group_sizes = df.groupby(group_cols).size()\n"
     ]
    },
    {
     "name": "stdout",
     "output_type": "stream",
     "text": [
      "Total files processed: 1"
     ]
    },
    {
     "name": "stderr",
     "output_type": "stream",
     "text": [
      "\n",
      "\n"
     ]
    },
    {
     "name": "stdout",
     "output_type": "stream",
     "text": [
      "\n"
     ]
    },
    {
     "name": "stderr",
     "output_type": "stream",
     "text": [
      "/w/hallb-scshelf2102/clas12/users/gmat/clas12/neutneut/analysis/neutron_ml/../../src/TrainData.py:84: FutureWarning: The default of observed=False is deprecated and will be changed to True in a future version of pandas. Pass observed=False to retain current behavior or observed=True to adopt the future default and silence this warning.\n",
      "  group_sizes = df.groupby(group_cols).size()\n"
     ]
    },
    {
     "name": "stdout",
     "output_type": "stream",
     "text": [
      "Total files processed: 1"
     ]
    },
    {
     "name": "stderr",
     "output_type": "stream",
     "text": [
      "  0%|                                                  | 0/199 [00:00<?, ?it/s]"
     ]
    },
    {
     "name": "stdout",
     "output_type": "stream",
     "text": [
      "\n"
     ]
    },
    {
     "name": "stderr",
     "output_type": "stream",
     "text": [
      "/w/hallb-scshelf2102/clas12/users/gmat/clas12/neutneut/analysis/neutron_ml/../../src/TrainData.py:84: FutureWarning: The default of observed=False is deprecated and will be changed to True in a future version of pandas. Pass observed=False to retain current behavior or observed=True to adopt the future default and silence this warning.\n",
      "  group_sizes = df.groupby(group_cols).size()\n",
      "100%|████████████████████████████████████████████| 1/1 [00:00<00:00,  3.63it/s]/w/hallb-scshelf2102/clas12/users/gmat/clas12/neutneut/analysis/neutron_ml/../../src/TrainData.py:84: FutureWarning: The default of observed=False is deprecated and will be changed to True in a future version of pandas. Pass observed=False to retain current behavior or observed=True to adopt the future default and silence this warning.\n",
      "  group_sizes = df.groupby(group_cols).size()\n",
      "\n",
      "\n"
     ]
    },
    {
     "name": "stdout",
     "output_type": "stream",
     "text": [
      "Total files processed: 1"
     ]
    },
    {
     "name": "stderr",
     "output_type": "stream",
     "text": [
      " 37%|██████████████▌                         | 72/197 [00:00<00:00, 336.99it/s]"
     ]
    },
    {
     "name": "stdout",
     "output_type": "stream",
     "text": [
      "\n"
     ]
    },
    {
     "name": "stderr",
     "output_type": "stream",
     "text": [
      "\u001b[A\n",
      "/w/hallb-scshelf2102/clas12/users/gmat/clas12/neutneut/analysis/neutron_ml/../../src/TrainData.py:84: FutureWarning: The default of observed=False is deprecated and will be changed to True in a future version of pandas. Pass observed=False to retain current behavior or observed=True to adopt the future default and silence this warning.\n",
      "  group_sizes = df.groupby(group_cols).size()\n",
      "100%|████████████████████████████████████████████| 1/1 [00:00<00:00,  6.91it/s]\u001b[A\n",
      "100%|████████████████████████████████████████████| 1/1 [00:00<00:00,  4.16it/s]\u001b[A\n",
      "  0%|                                                    | 0/1 [00:00<?, ?it/s]\u001b[A\n",
      "  0%|                                                    | 0/1 [00:00<?, ?it/s]\u001b[A\n",
      "  0%|                                                  | 0/195 [00:00<?, ?it/s]\u001b[A\n",
      "100%|████████████████████████████████████████████| 1/1 [00:00<00:00,  3.50it/s]\u001b[A\n"
     ]
    },
    {
     "name": "stdout",
     "output_type": "stream",
     "text": [
      "Total files processed: 1"
     ]
    },
    {
     "name": "stderr",
     "output_type": "stream",
     "text": [
      "100%|████████████████████████████████████████████| 1/1 [00:00<00:00,  3.33it/s]"
     ]
    },
    {
     "name": "stdout",
     "output_type": "stream",
     "text": [
      "\n"
     ]
    },
    {
     "name": "stderr",
     "output_type": "stream",
     "text": [
      "\n",
      "\n"
     ]
    },
    {
     "name": "stdout",
     "output_type": "stream",
     "text": [
      "Total files processed: 1"
     ]
    },
    {
     "name": "stderr",
     "output_type": "stream",
     "text": [
      "100%|████████████████████████████████████████████| 1/1 [00:00<00:00,  6.44it/s]/w/hallb-scshelf2102/clas12/users/gmat/clas12/neutneut/analysis/neutron_ml/../../src/TrainData.py:84: FutureWarning: The default of observed=False is deprecated and will be changed to True in a future version of pandas. Pass observed=False to retain current behavior or observed=True to adopt the future default and silence this warning.\n",
      "  group_sizes = df.groupby(group_cols).size()\n",
      "\u001b[A\n"
     ]
    },
    {
     "name": "stdout",
     "output_type": "stream",
     "text": [
      "\n"
     ]
    },
    {
     "name": "stderr",
     "output_type": "stream",
     "text": [
      "100%|████████████████████████████████████████████| 1/1 [00:00<00:00,  2.86it/s]\u001b[A/w/hallb-scshelf2102/clas12/users/gmat/clas12/neutneut/analysis/neutron_ml/../../src/TrainData.py:84: FutureWarning: The default of observed=False is deprecated and will be changed to True in a future version of pandas. Pass observed=False to retain current behavior or observed=True to adopt the future default and silence this warning.\n",
      "  group_sizes = df.groupby(group_cols).size()\n",
      "\n"
     ]
    },
    {
     "name": "stdout",
     "output_type": "stream",
     "text": [
      "Total files processed: 1"
     ]
    },
    {
     "name": "stderr",
     "output_type": "stream",
     "text": [
      "100%|████████████████████████████████████████████| 1/1 [00:00<00:00,  2.92it/s]"
     ]
    },
    {
     "name": "stdout",
     "output_type": "stream",
     "text": [
      "\n"
     ]
    },
    {
     "name": "stderr",
     "output_type": "stream",
     "text": [
      "\n",
      "/w/hallb-scshelf2102/clas12/users/gmat/clas12/neutneut/analysis/neutron_ml/../../src/TrainData.py:84: FutureWarning: The default of observed=False is deprecated and will be changed to True in a future version of pandas. Pass observed=False to retain current behavior or observed=True to adopt the future default and silence this warning.\n",
      "  group_sizes = df.groupby(group_cols).size()\n",
      "\n"
     ]
    },
    {
     "name": "stdout",
     "output_type": "stream",
     "text": [
      "Total files processed: 1"
     ]
    },
    {
     "name": "stderr",
     "output_type": "stream",
     "text": [
      "  0%|                                                    | 0/1 [00:00<?, ?it/s]"
     ]
    },
    {
     "name": "stdout",
     "output_type": "stream",
     "text": [
      "\n"
     ]
    },
    {
     "name": "stderr",
     "output_type": "stream",
     "text": [
      "100%|████████████████████████████████████████████| 1/1 [00:00<00:00,  3.22it/s]\n",
      "/w/hallb-scshelf2102/clas12/users/gmat/clas12/neutneut/analysis/neutron_ml/../../src/TrainData.py:84: FutureWarning: The default of observed=False is deprecated and will be changed to True in a future version of pandas. Pass observed=False to retain current behavior or observed=True to adopt the future default and silence this warning.\n",
      "  group_sizes = df.groupby(group_cols).size()\n",
      "\n"
     ]
    },
    {
     "name": "stdout",
     "output_type": "stream",
     "text": [
      "Total files processed: 1"
     ]
    },
    {
     "name": "stderr",
     "output_type": "stream",
     "text": [
      "  0%|                                                  | 0/198 [00:00<?, ?it/s]"
     ]
    },
    {
     "name": "stdout",
     "output_type": "stream",
     "text": [
      "\n"
     ]
    },
    {
     "name": "stderr",
     "output_type": "stream",
     "text": [
      "\u001b[A\n",
      "/w/hallb-scshelf2102/clas12/users/gmat/clas12/neutneut/analysis/neutron_ml/../../src/TrainData.py:84: FutureWarning: The default of observed=False is deprecated and will be changed to True in a future version of pandas. Pass observed=False to retain current behavior or observed=True to adopt the future default and silence this warning.\n",
      "  group_sizes = df.groupby(group_cols).size()\n",
      "  0%|                                                  | 0/197 [00:00<?, ?it/s]\u001b[A\n",
      "  0%|                                                  | 0/193 [00:00<?, ?it/s]\u001b[A\n",
      "  0%|                                                  | 0/196 [00:00<?, ?it/s]\u001b[A\n",
      "  0%|                                                  | 0/198 [00:00<?, ?it/s]\u001b[A\n",
      "  0%|                                                    | 0/1 [00:00<?, ?it/s]\u001b[A\n",
      " 21%|████████▏                               | 40/194 [00:00<00:00, 395.92it/s]\u001b[A\n",
      " 19%|███████▋                                | 38/198 [00:00<00:00, 379.78it/s]\u001b[A\n",
      "  0%|                                                  | 0/195 [00:00<?, ?it/s]\u001b[A\n",
      "100%|████████████████████████████████████████████| 1/1 [00:00<00:00,  3.92it/s]\u001b[A\n",
      "100%|████████████████████████████████████████████| 1/1 [00:00<00:00,  3.62it/s]\u001b[A\n",
      "\n"
     ]
    },
    {
     "name": "stdout",
     "output_type": "stream",
     "text": [
      "Total files processed: 1\n"
     ]
    },
    {
     "name": "stderr",
     "output_type": "stream",
     "text": [
      " 23%|█████████▏                              | 45/195 [00:00<00:00, 447.81it/s]\u001b[A/w/hallb-scshelf2102/clas12/users/gmat/clas12/neutneut/analysis/neutron_ml/../../src/TrainData.py:84: FutureWarning: The default of observed=False is deprecated and will be changed to True in a future version of pandas. Pass observed=False to retain current behavior or observed=True to adopt the future default and silence this warning.\n",
      "  group_sizes = df.groupby(group_cols).size()\n",
      "\n",
      "100%|████████████████████████████████████████████| 1/1 [00:00<00:00,  2.88it/s]\u001b[A\n"
     ]
    },
    {
     "name": "stdout",
     "output_type": "stream",
     "text": [
      "Total files processed: 1"
     ]
    },
    {
     "name": "stderr",
     "output_type": "stream",
     "text": [
      "\n"
     ]
    },
    {
     "name": "stdout",
     "output_type": "stream",
     "text": [
      "\n"
     ]
    },
    {
     "name": "stderr",
     "output_type": "stream",
     "text": [
      "/w/hallb-scshelf2102/clas12/users/gmat/clas12/neutneut/analysis/neutron_ml/../../src/TrainData.py:84: FutureWarning: The default of observed=False is deprecated and will be changed to True in a future version of pandas. Pass observed=False to retain current behavior or observed=True to adopt the future default and silence this warning.\n",
      "  group_sizes = df.groupby(group_cols).size()\n",
      " 21%|████████▍                               | 42/199 [00:00<00:00, 415.18it/s]\u001b[A\n",
      " 54%|████████████████████▉                  | 106/197 [00:00<00:00, 300.49it/s]\u001b[A\n",
      "  0%|                                                  | 0/194 [00:00<?, ?it/s]\u001b[A\n",
      "100%|████████████████████████████████████████████| 1/1 [00:00<00:00,  2.38it/s]\u001b[A\n"
     ]
    },
    {
     "name": "stdout",
     "output_type": "stream",
     "text": [
      "Total files processed: 1"
     ]
    },
    {
     "name": "stderr",
     "output_type": "stream",
     "text": [
      "\n"
     ]
    },
    {
     "name": "stdout",
     "output_type": "stream",
     "text": [
      "\n"
     ]
    },
    {
     "name": "stderr",
     "output_type": "stream",
     "text": [
      "  0%|                                                  | 0/197 [00:00<?, ?it/s]\u001b[A\n",
      "/w/hallb-scshelf2102/clas12/users/gmat/clas12/neutneut/analysis/neutron_ml/../../src/TrainData.py:84: FutureWarning: The default of observed=False is deprecated and will be changed to True in a future version of pandas. Pass observed=False to retain current behavior or observed=True to adopt the future default and silence this warning.\n",
      "  group_sizes = df.groupby(group_cols).size()\n",
      " 20%|████████▏                               | 40/196 [00:00<00:00, 399.72it/s]\u001b[A\n",
      " 39%|███████████████▌                        | 76/196 [00:00<00:00, 336.25it/s]\u001b[A\n",
      "100%|████████████████████████████████████████████| 1/1 [00:00<00:00,  5.35it/s]\u001b[A\n",
      " 22%|████████▉                               | 44/198 [00:00<00:00, 430.94it/s]\u001b[A\n",
      " 21%|████████▎                               | 41/197 [00:00<00:00, 403.45it/s]\u001b[A\n",
      "100%|████████████████████████████████████████████| 1/1 [00:00<00:00,  6.69it/s]\u001b[A\n",
      " 23%|█████████                               | 44/193 [00:00<00:00, 432.81it/s]\u001b[A\n",
      " 24%|█████████▌                              | 47/196 [00:00<00:00, 466.55it/s]\u001b[A\n",
      " 41%|████████████████▍                       | 80/194 [00:00<00:00, 318.39it/s]\u001b[A\n",
      " 38%|███████████████▎                        | 76/198 [00:00<00:00, 308.18it/s]\u001b[A\n",
      " 20%|████████                                | 40/198 [00:00<00:00, 396.86it/s]\u001b[A\n",
      "  0%|                                                  | 0/197 [00:00<?, ?it/s]\u001b[A\n",
      "100%|████████████████████████████████████████████| 1/1 [00:00<00:00,  5.88it/s]\u001b[A\n",
      "  0%|                                                  | 0/198 [00:00<?, ?it/s]\u001b[A\n",
      "  0%|                                                  | 0/198 [00:00<?, ?it/s]\u001b[A\n",
      "  0%|                                                  | 0/198 [00:00<?, ?it/s]\u001b[A\n",
      "100%|████████████████████████████████████████████| 1/1 [00:00<00:00,  2.85it/s]\u001b[A\n"
     ]
    },
    {
     "name": "stdout",
     "output_type": "stream",
     "text": [
      "Total files processed: 1"
     ]
    },
    {
     "name": "stderr",
     "output_type": "stream",
     "text": [
      "\n",
      "  0%|                                                  | 0/194 [00:00<?, ?it/s]"
     ]
    },
    {
     "name": "stdout",
     "output_type": "stream",
     "text": [
      "\n"
     ]
    },
    {
     "name": "stderr",
     "output_type": "stream",
     "text": [
      "\u001b[A\n",
      "/w/hallb-scshelf2102/clas12/users/gmat/clas12/neutneut/analysis/neutron_ml/../../src/TrainData.py:84: FutureWarning: The default of observed=False is deprecated and will be changed to True in a future version of pandas. Pass observed=False to retain current behavior or observed=True to adopt the future default and silence this warning.\n",
      "  group_sizes = df.groupby(group_cols).size()\n",
      "  0%|                                                  | 0/196 [00:00<?, ?it/s]\u001b[A\n",
      "100%|████████████████████████████████████████████| 1/1 [00:00<00:00,  5.86it/s]\u001b[A\n",
      " 21%|████████▌                               | 42/197 [00:00<00:00, 412.18it/s]\u001b[A\n",
      "100%|████████████████████████████████████████████| 1/1 [00:00<00:00,  4.90it/s]\u001b[A\n",
      " 46%|██████████████████▍                     | 90/195 [00:00<00:00, 420.83it/s]\u001b[A\n",
      " 22%|████████▉                               | 44/197 [00:00<00:00, 439.79it/s]\u001b[A\n",
      " 70%|███████████████████████████            | 137/197 [00:00<00:00, 250.01it/s]\u001b[A\n",
      "  0%|                                                  | 0/197 [00:00<?, ?it/s]\u001b[A\n",
      " 42%|████████████████▉                       | 84/199 [00:00<00:00, 284.35it/s]\u001b[A\n",
      " 56%|█████████████████████▉                 | 110/196 [00:00<00:00, 273.06it/s]\u001b[A\n",
      " 22%|████████▋                               | 42/194 [00:00<00:00, 414.65it/s]\u001b[A\n",
      " 23%|█████████▏                              | 45/195 [00:00<00:00, 440.36it/s]\u001b[A\n",
      " 41%|████████████████▎                       | 80/196 [00:00<00:00, 282.07it/s]\u001b[A\n",
      " 22%|████████▋                               | 43/197 [00:00<00:00, 421.31it/s]\u001b[A\n",
      "  0%|                                                  | 0/196 [00:00<?, ?it/s]\u001b[A\n",
      " 44%|█████████████████▊                      | 88/198 [00:00<00:00, 321.42it/s]\u001b[A\n",
      " 42%|████████████████▋                       | 82/197 [00:00<00:00, 297.80it/s]\u001b[A\n",
      " 58%|██████████████████████▋                | 113/194 [00:00<00:00, 277.58it/s]\u001b[A\n",
      "100%|████████████████████████████████████████████| 1/1 [00:00<00:00,  2.48it/s]\u001b[A\n"
     ]
    },
    {
     "name": "stdout",
     "output_type": "stream",
     "text": [
      "Total files processed: 1"
     ]
    },
    {
     "name": "stderr",
     "output_type": "stream",
     "text": [
      "\n"
     ]
    },
    {
     "name": "stdout",
     "output_type": "stream",
     "text": [
      "\n"
     ]
    },
    {
     "name": "stderr",
     "output_type": "stream",
     "text": [
      " 46%|██████████████████▏                     | 88/193 [00:00<00:00, 312.27it/s]\u001b[A\n",
      "/w/hallb-scshelf2102/clas12/users/gmat/clas12/neutneut/analysis/neutron_ml/../../src/TrainData.py:84: FutureWarning: The default of observed=False is deprecated and will be changed to True in a future version of pandas. Pass observed=False to retain current behavior or observed=True to adopt the future default and silence this warning.\n",
      "  group_sizes = df.groupby(group_cols).size()\n",
      " 40%|████████████████▏                       | 80/198 [00:00<00:00, 308.10it/s]\u001b[A\n",
      "  0%|                                                  | 0/195 [00:00<?, ?it/s]\u001b[A\n",
      " 48%|███████████████████▏                    | 94/196 [00:00<00:00, 324.55it/s]\u001b[A\n",
      "100%|████████████████████████████████████████████| 1/1 [00:00<00:00,  2.76it/s]\n"
     ]
    },
    {
     "name": "stdout",
     "output_type": "stream",
     "text": [
      "Total files processed: 1\n"
     ]
    },
    {
     "name": "stderr",
     "output_type": "stream",
     "text": [
      "\n",
      "/w/hallb-scshelf2102/clas12/users/gmat/clas12/neutneut/analysis/neutron_ml/../../src/TrainData.py:84: FutureWarning: The default of observed=False is deprecated and will be changed to True in a future version of pandas. Pass observed=False to retain current behavior or observed=True to adopt the future default and silence this warning.\n",
      "  group_sizes = df.groupby(group_cols).size()\n",
      " 21%|████████▌                               | 42/197 [00:00<00:00, 413.83it/s]\u001b[A\n",
      " 24%|█████████▍                              | 47/198 [00:00<00:00, 467.25it/s]\u001b[A\n",
      " 22%|████████▉                               | 44/198 [00:00<00:00, 439.64it/s]\u001b[A\n",
      " 43%|█████████████████▏                      | 84/195 [00:00<00:00, 276.74it/s]\u001b[A\n",
      " 22%|████████▋                               | 43/198 [00:00<00:00, 425.78it/s]\u001b[A\n",
      "  0%|                                                  | 0/199 [00:00<?, ?it/s]\u001b[A\n",
      " 83%|████████████████████████████████▍      | 164/197 [00:00<00:00, 222.26it/s]\u001b[A\n",
      " 43%|█████████████████                       | 84/197 [00:00<00:00, 277.06it/s]\u001b[A\n",
      " 22%|████████▊                               | 43/194 [00:00<00:00, 426.44it/s]\u001b[A\n",
      "100%|████████████████████████████████████████████| 1/1 [00:00<00:00,  2.14it/s]\u001b[A\n",
      "\n"
     ]
    },
    {
     "name": "stdout",
     "output_type": "stream",
     "text": [
      "Total files processed: 1\n"
     ]
    },
    {
     "name": "stderr",
     "output_type": "stream",
     "text": [
      "/w/hallb-scshelf2102/clas12/users/gmat/clas12/neutneut/analysis/neutron_ml/../../src/TrainData.py:84: FutureWarning: The default of observed=False is deprecated and will be changed to True in a future version of pandas. Pass observed=False to retain current behavior or observed=True to adopt the future default and silence this warning.\n",
      "  group_sizes = df.groupby(group_cols).size()\n",
      "100%|████████████████████████████████████████████| 1/1 [00:00<00:00,  1.93it/s]\u001b[A\n"
     ]
    },
    {
     "name": "stdout",
     "output_type": "stream",
     "text": [
      "Total files processed: 1\n"
     ]
    },
    {
     "name": "stderr",
     "output_type": "stream",
     "text": [
      "\n",
      " 71%|███████████████████████████▋           | 139/196 [00:00<00:00, 246.14it/s]/w/hallb-scshelf2102/clas12/users/gmat/clas12/neutneut/analysis/neutron_ml/../../src/TrainData.py:84: FutureWarning: The default of observed=False is deprecated and will be changed to True in a future version of pandas. Pass observed=False to retain current behavior or observed=True to adopt the future default and silence this warning.\n",
      "  group_sizes = df.groupby(group_cols).size()\n",
      "\u001b[A\n",
      " 68%|██████████████████████████▌            | 133/195 [00:00<00:00, 307.11it/s]\u001b[A\n",
      "  0%|                                                  | 0/195 [00:00<?, ?it/s]\u001b[A\n",
      " 45%|█████████████████▊                      | 88/197 [00:00<00:00, 293.06it/s]\u001b[A\n",
      " 22%|████████▉                               | 44/197 [00:00<00:00, 436.89it/s]\u001b[A\n",
      " 57%|██████████████████████                 | 111/196 [00:00<00:00, 237.96it/s]\u001b[A\n",
      " 43%|█████████████████▎                      | 84/194 [00:00<00:00, 283.72it/s]\u001b[A\n",
      " 46%|██████████████████▍                     | 90/195 [00:00<00:00, 301.14it/s]\u001b[A\n",
      " 69%|██████████████████████████▊            | 136/198 [00:00<00:00, 231.77it/s]\u001b[A\n",
      " 73%|████████████████████████████▌          | 142/194 [00:00<00:00, 235.90it/s]\u001b[A\n",
      " 58%|██████████████████████▌                | 114/197 [00:00<00:00, 246.19it/s]\u001b[A\n",
      " 62%|████████████████████████               | 122/198 [00:00<00:00, 259.42it/s]\u001b[A\n",
      " 44%|█████████████████▍                      | 86/197 [00:00<00:00, 281.33it/s]\u001b[A\n",
      " 44%|█████████████████▋                      | 86/194 [00:00<00:00, 268.93it/s]\u001b[A\n",
      " 63%|████████████████████████▋              | 122/193 [00:00<00:00, 259.61it/s]\u001b[A\n",
      " 57%|██████████████████████▎                | 113/198 [00:00<00:00, 253.66it/s]\u001b[A\u001b[A\n",
      " 22%|████████▉                               | 44/196 [00:00<00:00, 430.69it/s]\n",
      " 22%|████████▌                               | 42/195 [00:00<00:00, 411.00it/s]\u001b[A\n",
      " 66%|█████████████████████████▋             | 129/196 [00:00<00:00, 250.62it/s]\u001b[A\n",
      " 24%|█████████▍                              | 47/198 [00:00<00:00, 460.80it/s]\u001b[A\n",
      " 95%|█████████████████████████████████████▏ | 188/197 [00:00<00:00, 193.61it/s]\u001b[A\n",
      " 43%|█████████████████                       | 84/197 [00:00<00:00, 259.40it/s]\u001b[A\n",
      " 59%|███████████████████████                | 115/195 [00:00<00:00, 225.50it/s]\u001b[A\n",
      " 71%|███████████████████████████▊           | 142/199 [00:00<00:00, 216.21it/s]\u001b[A\n",
      " 47%|██████████████████▉                     | 94/198 [00:00<00:00, 291.66it/s]\u001b[A\n",
      "  0%|                                                  | 0/195 [00:00<?, ?it/s]\u001b[A\n",
      " 58%|██████████████████████▊                | 115/197 [00:00<00:00, 230.64it/s]\u001b[A\n",
      " 43%|█████████████████▎                      | 86/198 [00:00<00:00, 276.53it/s]\u001b[A\n",
      " 44%|█████████████████▊                      | 88/198 [00:00<00:00, 269.28it/s]\u001b[A\n",
      " 22%|████████▊                               | 44/199 [00:00<00:00, 436.66it/s]\u001b[A\n",
      " 84%|████████████████████████████████▊      | 165/196 [00:00<00:00, 198.66it/s]\u001b[A\n",
      " 70%|███████████████████████████▎           | 137/196 [00:00<00:00, 197.17it/s]\u001b[A\n",
      " 86%|█████████████████████████████████▍     | 167/195 [00:00<00:00, 233.01it/s]\u001b[A\n",
      " 81%|███████████████████████████████▌       | 160/198 [00:00<00:00, 197.00it/s]\u001b[A\n",
      " 50%|████████████████████                    | 98/196 [00:00<00:00, 277.05it/s]\u001b[A\n",
      " 61%|███████████████████████▉               | 121/197 [00:00<00:00, 211.81it/s]\u001b[A\n",
      " 76%|█████████████████████████████▌         | 150/198 [00:00<00:00, 222.07it/s]\u001b[A\n",
      " 86%|█████████████████████████████████▌     | 167/194 [00:00<00:00, 199.65it/s]\u001b[A\n",
      " 59%|███████████████████████                | 115/194 [00:00<00:00, 224.86it/s]\u001b[A\n",
      " 71%|███████████████████████████▋           | 140/197 [00:00<00:00, 206.36it/s]\u001b[A\n",
      " 63%|████████████████████████▌              | 123/195 [00:00<00:00, 239.22it/s]\u001b[A\n",
      " 45%|█████████████████▊                      | 88/197 [00:00<00:00, 256.94it/s]\u001b[A\n",
      " 23%|█████████▏                              | 45/195 [00:00<00:00, 443.28it/s]\u001b[A\n",
      "100%|███████████████████████████████████████| 197/197 [00:01<00:00, 190.36it/s]\u001b[A\n",
      "\n",
      "  0%|                                                  | 0/198 [00:00<?, ?it/s]\u001b[A\n",
      " 78%|██████████████████████████████▎        | 150/193 [00:00<00:00, 208.48it/s]\u001b[A\n",
      " 71%|███████████████████████████▌           | 140/198 [00:00<00:00, 198.50it/s]\u001b[A\n",
      " 80%|███████████████████████████████▏       | 157/196 [00:00<00:00, 216.30it/s]\u001b[A\n",
      " 65%|█████████████████████████▎             | 126/194 [00:00<00:00, 312.86it/s]\u001b[A\n",
      " 83%|████████████████████████████████▎      | 165/199 [00:00<00:00, 194.42it/s]\u001b[A\n",
      " 72%|████████████████████████████           | 140/195 [00:00<00:00, 196.93it/s]\u001b[A\n",
      " 58%|██████████████████████▌                | 114/197 [00:00<00:00, 220.16it/s]\u001b[A\n",
      " 45%|█████████████████▉                      | 88/196 [00:00<00:00, 250.98it/s]\u001b[A\n",
      " 71%|███████████████████████████▋           | 140/197 [00:00<00:00, 201.37it/s]\u001b[A\n",
      " 43%|█████████████████▏                      | 84/195 [00:00<00:00, 253.20it/s]\u001b[A\n",
      " 64%|█████████████████████████              | 127/198 [00:00<00:00, 243.56it/s]\u001b[A\n",
      " 47%|██████████████████▉                     | 94/198 [00:00<00:00, 277.17it/s]\u001b[A\n",
      " 59%|███████████████████████                | 117/198 [00:00<00:00, 226.70it/s]\u001b[A\n",
      " 60%|███████████████████████▍               | 119/198 [00:00<00:00, 226.13it/s]\u001b[A\n",
      " 81%|███████████████████████████████▍       | 158/196 [00:00<00:00, 183.92it/s]\u001b[A\n",
      " 92%|████████████████████████████████████   | 181/196 [00:00<00:00, 190.38it/s]\u001b[A\n",
      " 95%|█████████████████████████████████████▏ | 187/196 [00:00<00:00, 175.56it/s]\u001b[A\n",
      " 23%|█████████                               | 44/195 [00:00<00:00, 434.80it/s]\u001b[A\n",
      " 97%|█████████████████████████████████████▊ | 188/194 [00:00<00:00, 182.46it/s]\u001b[A\n",
      " 99%|██████████████████████████████████████▊| 194/195 [00:00<00:00, 210.79it/s]\u001b[A\n",
      " 74%|████████████████████████████▉          | 146/197 [00:00<00:00, 194.69it/s]\u001b[A\n",
      " 88%|██████████████████████████████████▎    | 174/198 [00:00<00:00, 198.65it/s]\u001b[A\n",
      " 44%|█████████████████▋                      | 88/199 [00:00<00:00, 266.24it/s]\u001b[A\n",
      " 72%|████████████████████████████▏          | 140/194 [00:00<00:00, 199.94it/s]\u001b[A\n",
      " 82%|████████████████████████████████       | 162/197 [00:00<00:00, 179.58it/s]\u001b[A\n",
      " 60%|███████████████████████▎               | 118/197 [00:00<00:00, 230.68it/s]\u001b[A\n",
      "  0%|                                                  | 0/197 [00:00<?, ?it/s]\u001b[A\n",
      " 72%|████████████████████████████           | 142/197 [00:00<00:00, 199.22it/s]\u001b[A\n",
      " 76%|█████████████████████████████▊         | 149/195 [00:00<00:00, 204.20it/s]\u001b[A\n",
      " 67%|██████████████████████████             | 131/196 [00:00<00:00, 230.94it/s]\u001b[A\n",
      " 90%|██████████████████████████████████▉    | 173/193 [00:00<00:00, 184.13it/s]\u001b[A\n",
      " 82%|███████████████████████████████▉       | 162/198 [00:00<00:00, 176.89it/s]\u001b[A\n",
      " 46%|██████████████████▍                     | 90/195 [00:00<00:00, 293.93it/s]\u001b[A\n",
      " 93%|████████████████████████████████████▍  | 186/199 [00:00<00:00, 176.46it/s]\u001b[A\n",
      " 83%|████████████████████████████████▏      | 161/195 [00:00<00:00, 179.07it/s]\u001b[A\n",
      "  0%|                                                  | 0/197 [00:00<?, ?it/s]\u001b[A\n",
      " 70%|███████████████████████████▎           | 138/197 [00:00<00:00, 193.22it/s]\u001b[A\n",
      " 82%|████████████████████████████████       | 162/197 [00:00<00:00, 179.87it/s]\u001b[A\n",
      "  0%|                                                  | 0/196 [00:00<?, ?it/s]\u001b[A\n",
      " 83%|████████████████████████████████▎      | 161/194 [00:00<00:00, 249.10it/s]\u001b[A\n",
      " 60%|███████████████████████▍               | 118/196 [00:00<00:00, 217.76it/s]\u001b[A\n",
      " 58%|██████████████████████▌                | 113/195 [00:00<00:00, 218.67it/s]\u001b[A\n",
      " 23%|█████████                               | 45/198 [00:00<00:00, 442.88it/s]\u001b[A\n",
      " 78%|██████████████████████████████▎        | 154/198 [00:00<00:00, 213.81it/s]\u001b[A\n",
      " 91%|███████████████████████████████████▍   | 178/196 [00:00<00:00, 169.07it/s]\u001b[A\n",
      " 72%|███████████████████████████▉           | 142/198 [00:00<00:00, 201.05it/s]\u001b[A\n",
      " 73%|████████████████████████████▎          | 144/198 [00:00<00:00, 202.48it/s]\u001b[A\n",
      " 64%|████████████████████████▊              | 126/198 [00:00<00:00, 234.82it/s]\u001b[A\n",
      " 85%|█████████████████████████████████▎     | 168/197 [00:00<00:00, 176.07it/s]\u001b[A\n",
      " 98%|██████████████████████████████████████▍| 195/198 [00:00<00:00, 176.76it/s]\u001b[A\n",
      " 92%|███████████████████████████████████▊   | 181/197 [00:00<00:00, 162.10it/s]\u001b[A\n",
      " 73%|████████████████████████████▌          | 144/197 [00:00<00:00, 207.90it/s]\u001b[A\n",
      " 84%|████████████████████████████████▌      | 162/194 [00:00<00:00, 175.61it/s]\u001b[A\n",
      " 45%|██████████████████                      | 88/195 [00:00<00:00, 272.39it/s]\u001b[A\n",
      " 88%|██████████████████████████████████▏    | 171/195 [00:00<00:00, 183.10it/s]\u001b[A\n",
      " 60%|███████████████████████▎               | 119/199 [00:00<00:00, 223.98it/s]\u001b[A\n",
      " 83%|████████████████████████████████▍      | 164/197 [00:00<00:00, 178.80it/s]\u001b[A\n",
      "100%|███████████████████████████████████████| 193/193 [00:01<00:00, 174.61it/s]\u001b[A\n",
      " 91%|███████████████████████████████████▋   | 181/198 [00:00<00:00, 166.34it/s]\u001b[A\n",
      "100%|███████████████████████████████████████| 196/196 [00:01<00:00, 165.44it/s]\u001b[A\n",
      "\n",
      " 92%|████████████████████████████████████   | 180/195 [00:00<00:00, 165.45it/s]\u001b[A\n",
      "100%|███████████████████████████████████████| 194/194 [00:01<00:00, 167.51it/s]\u001b[A\n",
      "\n",
      "100%|███████████████████████████████████████| 195/195 [00:01<00:00, 180.80it/s]\u001b[A\n",
      "\n",
      " 81%|███████████████████████████████▍       | 159/197 [00:00<00:00, 181.15it/s]\u001b[A\n",
      " 22%|████████▋                               | 43/197 [00:00<00:00, 428.98it/s]\u001b[A\n",
      " 92%|███████████████████████████████████▊   | 181/197 [00:01<00:00, 165.72it/s]\u001b[A\n",
      " 91%|███████████████████████████████████▋   | 181/198 [00:01<00:00, 113.26it/s]\u001b[A\n",
      " 70%|███████████████████████████▍           | 137/195 [00:00<00:00, 200.87it/s]\u001b[A\n",
      " 72%|████████████████████████████▎          | 142/196 [00:00<00:00, 198.10it/s]\u001b[A\n",
      " 98%|██████████████████████████████████████▏| 190/194 [00:00<00:00, 230.04it/s]\u001b[A\n",
      "100%|███████████████████████████████████████| 196/196 [00:01<00:00, 153.13it/s]\u001b[A\n",
      " 83%|████████████████████████████████▎      | 164/198 [00:00<00:00, 181.43it/s]\u001b[A\n",
      " 84%|████████████████████████████████▋      | 166/198 [00:00<00:00, 181.81it/s]\u001b[A\n",
      "100%|███████████████████████████████████████| 193/193 [00:01<00:00, 178.27it/s]\u001b[A\n",
      "\n",
      "100%|███████████████████████████████████████| 199/199 [00:01<00:00, 169.83it/s]\u001b[A\n",
      "\n",
      " 77%|█████████████████████████████▉         | 152/198 [00:00<00:00, 208.32it/s]\u001b[A\n",
      " 21%|████████▌                               | 42/196 [00:00<00:00, 418.49it/s]\u001b[A\n",
      " 84%|████████████████████████████████▊      | 166/197 [00:00<00:00, 198.50it/s]\u001b[A\n",
      "100%|███████████████████████████████████████| 196/196 [00:01<00:00, 176.22it/s]\u001b[A\n",
      "\n",
      "  0%|                                                    | 0/1 [00:00<?, ?it/s]\u001b[A\n",
      " 93%|████████████████████████████████████▏  | 183/197 [00:00<00:00, 167.96it/s]\u001b[A\n",
      " 98%|██████████████████████████████████████▏| 191/195 [00:01<00:00, 172.04it/s]\u001b[A\n",
      " 61%|███████████████████████▊               | 119/195 [00:00<00:00, 250.59it/s]\u001b[A\n",
      "100%|███████████████████████████████████████| 198/198 [00:01<00:00, 172.11it/s]\u001b[A\n",
      "\n",
      "100%|███████████████████████████████████████| 196/196 [00:01<00:00, 165.54it/s]\u001b[A\n",
      "100%|███████████████████████████████████████| 197/197 [00:01<00:00, 170.46it/s]\n",
      "\n",
      " 23%|█████████▏                              | 45/197 [00:00<00:00, 440.47it/s]\u001b[A\n",
      " 77%|██████████████████████████████▏        | 151/195 [00:00<00:00, 239.33it/s]\u001b[A\n",
      " 90%|███████████████████████████████████▏   | 178/197 [00:00<00:00, 172.69it/s]\u001b[A\n",
      " 99%|██████████████████████████████████████▊| 197/198 [00:01<00:00, 117.56it/s]\u001b[A\n",
      " 83%|████████████████████████████████▍      | 163/196 [00:00<00:00, 189.53it/s]\u001b[A\n",
      " 81%|███████████████████████████████▌       | 158/195 [00:00<00:00, 189.53it/s]\u001b[A\n",
      " 92%|████████████████████████████████████   | 183/198 [00:00<00:00, 179.30it/s]\u001b[A\n",
      " 99%|██████████████████████████████████████▊| 197/198 [00:00<00:00, 186.92it/s]\u001b[A\n",
      "100%|███████████████████████████████████████| 198/198 [00:01<00:00, 167.09it/s]\u001b[A\n",
      "100%|███████████████████████████████████████| 194/194 [00:01<00:00, 178.54it/s]\n",
      "100%|███████████████████████████████████████| 195/195 [00:01<00:00, 165.31it/s]\n",
      "\n",
      "100%|███████████████████████████████████████| 194/194 [00:00<00:00, 196.17it/s]\u001b[A\n",
      "\n",
      "100%|███████████████████████████████████████| 197/197 [00:01<00:00, 166.67it/s]\u001b[A\n",
      "\n",
      " 83%|████████████████████████████████▌      | 166/199 [00:00<00:00, 197.82it/s]\u001b[A\n",
      " 75%|█████████████████████████████▏         | 146/195 [00:00<00:00, 235.67it/s]\u001b[A\n",
      "100%|███████████████████████████████████████| 197/197 [00:01<00:00, 165.89it/s]\u001b[A\n",
      "\n",
      "100%|███████████████████████████████████████| 195/195 [00:01<00:00, 171.17it/s]\u001b[A\n",
      "\n",
      " 90%|███████████████████████████████████▏   | 176/195 [00:00<00:00, 228.31it/s]\u001b[A\n",
      "100%|███████████████████████████████████████| 197/197 [00:01<00:00, 172.25it/s]\u001b[A\n",
      "\n",
      "100%|███████████████████████████████████████| 196/196 [00:01<00:00, 185.33it/s]\u001b[A\n",
      "\n",
      " 93%|████████████████████████████████████▍  | 183/196 [00:00<00:00, 176.63it/s]\u001b[A\n",
      "100%|███████████████████████████████████████| 198/198 [00:01<00:00, 137.16it/s]\u001b[A\n",
      "100%|███████████████████████████████████████| 197/197 [00:01<00:00, 188.73it/s]\n",
      "100%|███████████████████████████████████████| 198/198 [00:01<00:00, 178.37it/s]\n",
      "\n",
      " 88%|██████████████████████████████████▍    | 175/198 [00:00<00:00, 201.57it/s]\u001b[A\n",
      "100%|███████████████████████████████████████| 197/197 [00:01<00:00, 171.65it/s]\u001b[A\n",
      "\n",
      " 94%|████████████████████████████████████▋  | 187/199 [00:00<00:00, 195.42it/s]\u001b[A\n",
      "Processing CSV files:   8%|█▌                 | 42/500 [00:04<00:34, 13.22it/s]\u001b[A\n",
      " 88%|██████████████████████████████████▏    | 171/195 [00:00<00:00, 224.94it/s]\u001b[A\n",
      "100%|████████████████████████████████████████████| 1/1 [00:00<00:00,  5.19it/s]\u001b[A\n",
      "100%|███████████████████████████████████████| 198/198 [00:01<00:00, 169.53it/s]\u001b[A\n",
      "\n",
      "100%|███████████████████████████████████████| 198/198 [00:01<00:00, 169.06it/s]\u001b[A\n",
      "\n",
      " 59%|███████████████████████                | 116/196 [00:00<00:00, 266.27it/s]\u001b[A\n",
      "  0%|                                                    | 0/1 [00:00<?, ?it/s]\u001b[A\n",
      "  0%|                                                    | 0/1 [00:00<?, ?it/s]\u001b[A\n",
      "  0%|                                                    | 0/1 [00:00<?, ?it/s]\u001b[A\n",
      " 99%|██████████████████████████████████████▌| 196/198 [00:01<00:00, 151.74it/s]\u001b[A\n",
      " 61%|███████████████████████▊               | 120/197 [00:00<00:00, 238.48it/s]\u001b[A\n",
      "  0%|                                                    | 0/1 [00:00<?, ?it/s]\u001b[A\n",
      "100%|███████████████████████████████████████| 196/196 [00:01<00:00, 181.20it/s]\u001b[A\n",
      "100%|███████████████████████████████████████| 195/195 [00:01<00:00, 184.25it/s]\n",
      "\n",
      "100%|███████████████████████████████████████| 195/195 [00:00<00:00, 211.14it/s]\u001b[A\n",
      "100%|████████████████████████████████████████████| 1/1 [00:00<00:00,  3.22it/s]\n"
     ]
    },
    {
     "name": "stdout",
     "output_type": "stream",
     "text": [
      "Total files processed: 1"
     ]
    },
    {
     "name": "stderr",
     "output_type": "stream",
     "text": [
      "100%|███████████████████████████████████████| 199/199 [00:01<00:00, 198.69it/s]\n",
      "100%|███████████████████████████████████████| 198/198 [00:01<00:00, 186.37it/s]\n",
      "\n",
      " 99%|██████████████████████████████████████▊| 194/195 [00:00<00:00, 219.75it/s]\u001b[A\n"
     ]
    },
    {
     "name": "stdout",
     "output_type": "stream",
     "text": [
      "\n"
     ]
    },
    {
     "name": "stderr",
     "output_type": "stream",
     "text": [
      " 74%|████████████████████████████▋          | 145/197 [00:00<00:00, 237.32it/s]\u001b[A/w/hallb-scshelf2102/clas12/users/gmat/clas12/neutneut/analysis/neutron_ml/../../src/TrainData.py:84: FutureWarning: The default of observed=False is deprecated and will be changed to True in a future version of pandas. Pass observed=False to retain current behavior or observed=True to adopt the future default and silence this warning.\n",
      "  group_sizes = df.groupby(group_cols).size()\n",
      "\n",
      "  0%|                                                    | 0/1 [00:00<?, ?it/s]\u001b[A\n",
      " 73%|████████████████████████████▋          | 144/196 [00:00<00:00, 249.19it/s]\u001b[A\n",
      " 88%|██████████████████████████████████▍    | 175/198 [00:00<00:00, 231.93it/s]\u001b[A\n",
      "  0%|                                                    | 0/1 [00:00<?, ?it/s]\u001b[A\n",
      "100%|███████████████████████████████████████| 195/195 [00:00<00:00, 213.82it/s]\n",
      "\n",
      " 77%|█████████████████████████████▉         | 151/197 [00:00<00:00, 257.99it/s]\u001b[A\n",
      "100%|████████████████████████████████████████████| 1/1 [00:00<00:00,  5.68it/s]\u001b[A\n",
      "  0%|                                                    | 0/1 [00:00<?, ?it/s]\u001b[A\n",
      "  0%|                                                    | 0/1 [00:00<?, ?it/s]\u001b[A\n",
      "  0%|                                                    | 0/1 [00:00<?, ?it/s]\u001b[A\n",
      "  0%|                                                    | 0/1 [00:00<?, ?it/s]\u001b[A\n",
      "100%|███████████████████████████████████████| 198/198 [00:00<00:00, 241.61it/s]\u001b[A\n",
      "\n",
      "  0%|                                                    | 0/1 [00:00<?, ?it/s]\u001b[A\n",
      " 89%|██████████████████████████████████▊    | 176/197 [00:00<00:00, 257.21it/s]\u001b[A\n",
      "  0%|                                                    | 0/1 [00:00<?, ?it/s]\u001b[A\n",
      "Processing CSV files:  12%|██▎                | 60/500 [00:04<00:16, 26.03it/s]\u001b[A\n",
      "100%|████████████████████████████████████████████| 1/1 [00:00<00:00,  4.12it/s]\u001b[A\n"
     ]
    },
    {
     "name": "stdout",
     "output_type": "stream",
     "text": [
      "Total files processed: 1\n"
     ]
    },
    {
     "name": "stderr",
     "output_type": "stream",
     "text": [
      "/w/hallb-scshelf2102/clas12/users/gmat/clas12/neutneut/analysis/neutron_ml/../../src/TrainData.py:84: FutureWarning: The default of observed=False is deprecated and will be changed to True in a future version of pandas. Pass observed=False to retain current behavior or observed=True to adopt the future default and silence this warning.\n",
      "  group_sizes = df.groupby(group_cols).size()\n",
      "\n",
      "100%|████████████████████████████████████████████| 1/1 [00:00<00:00,  6.48it/s]\u001b[A\n",
      " 91%|███████████████████████████████████▌   | 179/196 [00:00<00:00, 278.19it/s]\u001b[A\n",
      "  0%|                                                    | 0/1 [00:00<?, ?it/s]\u001b[A\n",
      "  0%|                                                    | 0/1 [00:00<?, ?it/s]\u001b[A\n",
      "  0%|                                                    | 0/1 [00:00<?, ?it/s]\u001b[A\n",
      "100%|████████████████████████████████████████████| 1/1 [00:00<00:00,  5.90it/s]\u001b[A\n",
      "100%|████████████████████████████████████████████| 1/1 [00:00<00:00,  6.22it/s]\u001b[A\n",
      "100%|████████████████████████████████████████████| 1/1 [00:00<00:00,  5.93it/s]\u001b[A\n",
      "100%|████████████████████████████████████████████| 1/1 [00:00<00:00,  4.91it/s]\u001b[A\n",
      "  0%|                                                    | 0/1 [00:00<?, ?it/s]\u001b[A\n",
      "  0%|                                                    | 0/1 [00:00<?, ?it/s]\u001b[A\n",
      "100%|████████████████████████████████████████████| 1/1 [00:00<00:00,  4.46it/s]\u001b[A\n",
      "\n"
     ]
    },
    {
     "name": "stdout",
     "output_type": "stream",
     "text": [
      "Total files processed: 1"
     ]
    },
    {
     "name": "stderr",
     "output_type": "stream",
     "text": [
      "100%|████████████████████████████████████████████| 1/1 [00:00<00:00,  4.64it/s]"
     ]
    },
    {
     "name": "stdout",
     "output_type": "stream",
     "text": [
      "\n"
     ]
    },
    {
     "name": "stderr",
     "output_type": "stream",
     "text": [
      "100%|███████████████████████████████████████| 197/197 [00:00<00:00, 254.34it/s]/w/hallb-scshelf2102/clas12/users/gmat/clas12/neutneut/analysis/neutron_ml/../../src/TrainData.py:84: FutureWarning: The default of observed=False is deprecated and will be changed to True in a future version of pandas. Pass observed=False to retain current behavior or observed=True to adopt the future default and silence this warning.\n",
      "  group_sizes = df.groupby(group_cols).size()\n",
      "\n",
      "\n",
      "  0%|                                                    | 0/1 [00:00<?, ?it/s]\u001b[A\n",
      "100%|████████████████████████████████████████████| 1/1 [00:00<00:00,  4.57it/s]\u001b[A\n"
     ]
    },
    {
     "name": "stdout",
     "output_type": "stream",
     "text": [
      "Total files processed: 1"
     ]
    },
    {
     "name": "stderr",
     "output_type": "stream",
     "text": [
      "100%|████████████████████████████████████████████| 1/1 [00:00<00:00,  4.39it/s]\n"
     ]
    },
    {
     "name": "stdout",
     "output_type": "stream",
     "text": [
      "\n"
     ]
    },
    {
     "name": "stderr",
     "output_type": "stream",
     "text": [
      "/w/hallb-scshelf2102/clas12/users/gmat/clas12/neutneut/analysis/neutron_ml/../../src/TrainData.py:84: FutureWarning: The default of observed=False is deprecated and will be changed to True in a future version of pandas. Pass observed=False to retain current behavior or observed=True to adopt the future default and silence this warning.\n",
      "  group_sizes = df.groupby(group_cols).size()\n"
     ]
    },
    {
     "name": "stdout",
     "output_type": "stream",
     "text": [
      "Total files processed: 1\n"
     ]
    },
    {
     "name": "stderr",
     "output_type": "stream",
     "text": [
      "/w/hallb-scshelf2102/clas12/users/gmat/clas12/neutneut/analysis/neutron_ml/../../src/TrainData.py:84: FutureWarning: The default of observed=False is deprecated and will be changed to True in a future version of pandas. Pass observed=False to retain current behavior or observed=True to adopt the future default and silence this warning.\n",
      "  group_sizes = df.groupby(group_cols).size()\n",
      "100%|████████████████████████████████████████████| 1/1 [00:00<00:00,  3.81it/s]\n",
      "100%|████████████████████████████████████████████| 1/1 [00:00<00:00,  4.03it/s]"
     ]
    },
    {
     "name": "stdout",
     "output_type": "stream",
     "text": [
      "Total files processed: 1\n"
     ]
    },
    {
     "name": "stderr",
     "output_type": "stream",
     "text": [
      "\n",
      "/w/hallb-scshelf2102/clas12/users/gmat/clas12/neutneut/analysis/neutron_ml/../../src/TrainData.py:84: FutureWarning: The default of observed=False is deprecated and will be changed to True in a future version of pandas. Pass observed=False to retain current behavior or observed=True to adopt the future default and silence this warning.\n",
      "  group_sizes = df.groupby(group_cols).size()\n"
     ]
    },
    {
     "name": "stdout",
     "output_type": "stream",
     "text": [
      "Total files processed: 1"
     ]
    },
    {
     "name": "stderr",
     "output_type": "stream",
     "text": [
      "\n",
      "  0%|                                                    | 0/1 [00:00<?, ?it/s]\n",
      "\u001b[A"
     ]
    },
    {
     "name": "stdout",
     "output_type": "stream",
     "text": [
      "\n"
     ]
    },
    {
     "name": "stderr",
     "output_type": "stream",
     "text": [
      "/w/hallb-scshelf2102/clas12/users/gmat/clas12/neutneut/analysis/neutron_ml/../../src/TrainData.py:84: FutureWarning: The default of observed=False is deprecated and will be changed to True in a future version of pandas. Pass observed=False to retain current behavior or observed=True to adopt the future default and silence this warning.\n",
      "  group_sizes = df.groupby(group_cols).size()\n",
      "100%|████████████████████████████████████████████| 1/1 [00:00<00:00,  5.27it/s]\u001b[A\n",
      "100%|████████████████████████████████████████████| 1/1 [00:00<00:00,  3.14it/s]\u001b[A\n",
      "\n",
      "  0%|                                                    | 0/1 [00:00<?, ?it/s]\u001b[A"
     ]
    },
    {
     "name": "stdout",
     "output_type": "stream",
     "text": [
      "Total files processed: 1"
     ]
    },
    {
     "name": "stderr",
     "output_type": "stream",
     "text": [
      "\n"
     ]
    },
    {
     "name": "stdout",
     "output_type": "stream",
     "text": [
      "\n"
     ]
    },
    {
     "name": "stderr",
     "output_type": "stream",
     "text": [
      "/w/hallb-scshelf2102/clas12/users/gmat/clas12/neutneut/analysis/neutron_ml/../../src/TrainData.py:84: FutureWarning: The default of observed=False is deprecated and will be changed to True in a future version of pandas. Pass observed=False to retain current behavior or observed=True to adopt the future default and silence this warning.\n",
      "  group_sizes = df.groupby(group_cols).size()\n",
      "100%|████████████████████████████████████████████| 1/1 [00:00<00:00,  2.91it/s]\u001b[A\n",
      "\n",
      "100%|████████████████████████████████████████████| 1/1 [00:00<00:00,  5.66it/s]\u001b[A"
     ]
    },
    {
     "name": "stdout",
     "output_type": "stream",
     "text": [
      "Total files processed: 1"
     ]
    },
    {
     "name": "stderr",
     "output_type": "stream",
     "text": [
      "\n"
     ]
    },
    {
     "name": "stdout",
     "output_type": "stream",
     "text": [
      "\n"
     ]
    },
    {
     "name": "stderr",
     "output_type": "stream",
     "text": [
      "100%|████████████████████████████████████████████| 1/1 [00:00<00:00,  3.16it/s]\u001b[A/w/hallb-scshelf2102/clas12/users/gmat/clas12/neutneut/analysis/neutron_ml/../../src/TrainData.py:84: FutureWarning: The default of observed=False is deprecated and will be changed to True in a future version of pandas. Pass observed=False to retain current behavior or observed=True to adopt the future default and silence this warning.\n",
      "  group_sizes = df.groupby(group_cols).size()\n",
      "\n",
      "100%|███████████████████████████████████████| 196/196 [00:00<00:00, 228.26it/s]\n"
     ]
    },
    {
     "name": "stdout",
     "output_type": "stream",
     "text": [
      "Total files processed: 1"
     ]
    },
    {
     "name": "stderr",
     "output_type": "stream",
     "text": [
      "\n"
     ]
    },
    {
     "name": "stdout",
     "output_type": "stream",
     "text": [
      "\n"
     ]
    },
    {
     "name": "stderr",
     "output_type": "stream",
     "text": [
      "100%|████████████████████████████████████████████| 1/1 [00:00<00:00,  5.32it/s]/w/hallb-scshelf2102/clas12/users/gmat/clas12/neutneut/analysis/neutron_ml/../../src/TrainData.py:84: FutureWarning: The default of observed=False is deprecated and will be changed to True in a future version of pandas. Pass observed=False to retain current behavior or observed=True to adopt the future default and silence this warning.\n",
      "  group_sizes = df.groupby(group_cols).size()\n",
      "\u001b[A\n",
      "Processing CSV files:  13%|██▌                | 66/500 [00:04<00:14, 29.00it/s]\u001b[A\n",
      "  0%|                                                    | 0/1 [00:00<?, ?it/s]\u001b[A\n",
      "100%|████████████████████████████████████████████| 1/1 [00:00<00:00,  5.00it/s]\u001b[A\n",
      "100%|████████████████████████████████████████████| 1/1 [00:00<00:00,  4.68it/s]\u001b[A\n",
      "100%|████████████████████████████████████████████| 1/1 [00:00<00:00,  5.14it/s]\u001b[A\n",
      "100%|████████████████████████████████████████████| 1/1 [00:00<00:00,  5.06it/s]\u001b[A\n",
      "100%|███████████████████████████████████████| 197/197 [00:00<00:00, 213.48it/s]\u001b[A\n",
      "\n",
      "  0%|                                                  | 0/197 [00:00<?, ?it/s]\u001b[A\n",
      "100%|████████████████████████████████████████████| 1/1 [00:00<00:00,  4.87it/s]\u001b[A\n",
      "100%|████████████████████████████████████████████| 1/1 [00:00<00:00,  5.37it/s]\u001b[A\n",
      "100%|████████████████████████████████████████████| 1/1 [00:00<00:00,  4.67it/s]\u001b[A\n",
      "  0%|                                                  | 0/197 [00:00<?, ?it/s]\u001b[A\n",
      "100%|████████████████████████████████████████████| 1/1 [00:00<00:00,  4.53it/s]\u001b[A\n",
      "100%|████████████████████████████████████████████| 1/1 [00:00<00:00,  3.51it/s]\u001b[A\n",
      "\n"
     ]
    },
    {
     "name": "stdout",
     "output_type": "stream",
     "text": [
      "Total files processed: 1\n"
     ]
    },
    {
     "name": "stderr",
     "output_type": "stream",
     "text": [
      "100%|████████████████████████████████████████████| 1/1 [00:00<00:00,  2.94it/s]\u001b[A/w/hallb-scshelf2102/clas12/users/gmat/clas12/neutneut/analysis/neutron_ml/../../src/TrainData.py:84: FutureWarning: The default of observed=False is deprecated and will be changed to True in a future version of pandas. Pass observed=False to retain current behavior or observed=True to adopt the future default and silence this warning.\n",
      "  group_sizes = df.groupby(group_cols).size()\n",
      "\n",
      "100%|████████████████████████████████████████████| 1/1 [00:00<00:00,  2.78it/s]"
     ]
    },
    {
     "name": "stdout",
     "output_type": "stream",
     "text": [
      "Total files processed: 1"
     ]
    },
    {
     "name": "stderr",
     "output_type": "stream",
     "text": [
      "\n"
     ]
    },
    {
     "name": "stdout",
     "output_type": "stream",
     "text": [
      "\n"
     ]
    },
    {
     "name": "stderr",
     "output_type": "stream",
     "text": [
      "\n"
     ]
    },
    {
     "name": "stdout",
     "output_type": "stream",
     "text": [
      "Total files processed: 1"
     ]
    },
    {
     "name": "stderr",
     "output_type": "stream",
     "text": [
      "100%|████████████████████████████████████████████| 1/1 [00:00<00:00,  3.92it/s]/w/hallb-scshelf2102/clas12/users/gmat/clas12/neutneut/analysis/neutron_ml/../../src/TrainData.py:84: FutureWarning: The default of observed=False is deprecated and will be changed to True in a future version of pandas. Pass observed=False to retain current behavior or observed=True to adopt the future default and silence this warning.\n",
      "  group_sizes = df.groupby(group_cols).size()\n",
      "\u001b[A"
     ]
    },
    {
     "name": "stdout",
     "output_type": "stream",
     "text": [
      "\n"
     ]
    },
    {
     "name": "stderr",
     "output_type": "stream",
     "text": [
      "/w/hallb-scshelf2102/clas12/users/gmat/clas12/neutneut/analysis/neutron_ml/../../src/TrainData.py:84: FutureWarning: The default of observed=False is deprecated and will be changed to True in a future version of pandas. Pass observed=False to retain current behavior or observed=True to adopt the future default and silence this warning.\n",
      "  group_sizes = df.groupby(group_cols).size()\n",
      "\n",
      "100%|████████████████████████████████████████████| 1/1 [00:00<00:00,  2.85it/s]\u001b[A\n",
      "100%|████████████████████████████████████████████| 1/1 [00:00<00:00,  3.65it/s]"
     ]
    },
    {
     "name": "stdout",
     "output_type": "stream",
     "text": [
      "Total files processed: 1\n"
     ]
    },
    {
     "name": "stderr",
     "output_type": "stream",
     "text": [
      "/w/hallb-scshelf2102/clas12/users/gmat/clas12/neutneut/analysis/neutron_ml/../../src/TrainData.py:84: FutureWarning: The default of observed=False is deprecated and will be changed to True in a future version of pandas. Pass observed=False to retain current behavior or observed=True to adopt the future default and silence this warning.\n",
      "  group_sizes = df.groupby(group_cols).size()\n",
      "\n",
      "100%|████████████████████████████████████████████| 1/1 [00:00<00:00,  2.66it/s]\n"
     ]
    },
    {
     "name": "stdout",
     "output_type": "stream",
     "text": [
      "Total files processed: 1"
     ]
    },
    {
     "name": "stderr",
     "output_type": "stream",
     "text": [
      "\n"
     ]
    },
    {
     "name": "stdout",
     "output_type": "stream",
     "text": [
      "Total files processed: 1\n"
     ]
    },
    {
     "name": "stderr",
     "output_type": "stream",
     "text": [
      "100%|████████████████████████████████████████████| 1/1 [00:00<00:00,  2.59it/s]\u001b[A/w/hallb-scshelf2102/clas12/users/gmat/clas12/neutneut/analysis/neutron_ml/../../src/TrainData.py:84: FutureWarning: The default of observed=False is deprecated and will be changed to True in a future version of pandas. Pass observed=False to retain current behavior or observed=True to adopt the future default and silence this warning.\n",
      "  group_sizes = df.groupby(group_cols).size()\n",
      "\n",
      "100%|████████████████████████████████████████████| 1/1 [00:00<00:00,  2.51it/s]"
     ]
    },
    {
     "name": "stdout",
     "output_type": "stream",
     "text": [
      "Total files processed: 1\n",
      "\n"
     ]
    },
    {
     "name": "stderr",
     "output_type": "stream",
     "text": [
      "/w/hallb-scshelf2102/clas12/users/gmat/clas12/neutneut/analysis/neutron_ml/../../src/TrainData.py:84: FutureWarning: The default of observed=False is deprecated and will be changed to True in a future version of pandas. Pass observed=False to retain current behavior or observed=True to adopt the future default and silence this warning.\n",
      "  group_sizes = df.groupby(group_cols).size()\n",
      "\n",
      "/w/hallb-scshelf2102/clas12/users/gmat/clas12/neutneut/analysis/neutron_ml/../../src/TrainData.py:84: FutureWarning: The default of observed=False is deprecated and will be changed to True in a future version of pandas. Pass observed=False to retain current behavior or observed=True to adopt the future default and silence this warning.\n",
      "  group_sizes = df.groupby(group_cols).size()\n",
      "\n"
     ]
    },
    {
     "name": "stdout",
     "output_type": "stream",
     "text": [
      "Total files processed: 1"
     ]
    },
    {
     "name": "stderr",
     "output_type": "stream",
     "text": [
      "  0%|                                                  | 0/197 [00:00<?, ?it/s]"
     ]
    },
    {
     "name": "stdout",
     "output_type": "stream",
     "text": [
      "\n"
     ]
    },
    {
     "name": "stderr",
     "output_type": "stream",
     "text": [
      "100%|████████████████████████████████████████████| 1/1 [00:00<00:00,  2.54it/s]\n",
      "/w/hallb-scshelf2102/clas12/users/gmat/clas12/neutneut/analysis/neutron_ml/../../src/TrainData.py:84: FutureWarning: The default of observed=False is deprecated and will be changed to True in a future version of pandas. Pass observed=False to retain current behavior or observed=True to adopt the future default and silence this warning.\n",
      "  group_sizes = df.groupby(group_cols).size()\n",
      "100%|████████████████████████████████████████████| 1/1 [00:00<00:00,  2.47it/s]"
     ]
    },
    {
     "name": "stdout",
     "output_type": "stream",
     "text": [
      "Total files processed: 1"
     ]
    },
    {
     "name": "stderr",
     "output_type": "stream",
     "text": [
      "\n"
     ]
    },
    {
     "name": "stdout",
     "output_type": "stream",
     "text": [
      "Total files processed: 1"
     ]
    },
    {
     "name": "stderr",
     "output_type": "stream",
     "text": [
      "100%|████████████████████████████████████████████| 1/1 [00:00<00:00,  2.37it/s]"
     ]
    },
    {
     "name": "stdout",
     "output_type": "stream",
     "text": [
      "\n"
     ]
    },
    {
     "name": "stderr",
     "output_type": "stream",
     "text": [
      "\n"
     ]
    },
    {
     "name": "stdout",
     "output_type": "stream",
     "text": [
      "\n",
      "Total files processed: 1"
     ]
    },
    {
     "name": "stderr",
     "output_type": "stream",
     "text": [
      "\n",
      "/w/hallb-scshelf2102/clas12/users/gmat/clas12/neutneut/analysis/neutron_ml/../../src/TrainData.py:84: FutureWarning: The default of observed=False is deprecated and will be changed to True in a future version of pandas. Pass observed=False to retain current behavior or observed=True to adopt the future default and silence this warning.\n",
      "  group_sizes = df.groupby(group_cols).size()\n",
      "/w/hallb-scshelf2102/clas12/users/gmat/clas12/neutneut/analysis/neutron_ml/../../src/TrainData.py:84: FutureWarning: The default of observed=False is deprecated and will be changed to True in a future version of pandas. Pass observed=False to retain current behavior or observed=True to adopt the future default and silence this warning.\n",
      "  group_sizes = df.groupby(group_cols).size()\n"
     ]
    },
    {
     "name": "stdout",
     "output_type": "stream",
     "text": [
      "\n"
     ]
    },
    {
     "name": "stderr",
     "output_type": "stream",
     "text": [
      "/w/hallb-scshelf2102/clas12/users/gmat/clas12/neutneut/analysis/neutron_ml/../../src/TrainData.py:84: FutureWarning: The default of observed=False is deprecated and will be changed to True in a future version of pandas. Pass observed=False to retain current behavior or observed=True to adopt the future default and silence this warning.\n",
      "  group_sizes = df.groupby(group_cols).size()\n",
      "100%|████████████████████████████████████████████| 1/1 [00:00<00:00,  7.05it/s]\u001b[A\n",
      "100%|████████████████████████████████████████████| 1/1 [00:00<00:00,  2.49it/s]\u001b[A\n",
      "\n"
     ]
    },
    {
     "name": "stdout",
     "output_type": "stream",
     "text": [
      "Total files processed: 1\n"
     ]
    },
    {
     "name": "stderr",
     "output_type": "stream",
     "text": [
      "100%|████████████████████████████████████████████| 1/1 [00:00<00:00,  3.45it/s]/w/hallb-scshelf2102/clas12/users/gmat/clas12/neutneut/analysis/neutron_ml/../../src/TrainData.py:84: FutureWarning: The default of observed=False is deprecated and will be changed to True in a future version of pandas. Pass observed=False to retain current behavior or observed=True to adopt the future default and silence this warning.\n",
      "  group_sizes = df.groupby(group_cols).size()\n",
      "\u001b[A\n",
      "100%|████████████████████████████████████████████| 1/1 [00:00<00:00,  2.54it/s]\u001b[A\n"
     ]
    },
    {
     "name": "stdout",
     "output_type": "stream",
     "text": [
      "Total files processed: 1"
     ]
    },
    {
     "name": "stderr",
     "output_type": "stream",
     "text": [
      "100%|████████████████████████████████████████████| 1/1 [00:00<00:00,  2.40it/s]"
     ]
    },
    {
     "name": "stdout",
     "output_type": "stream",
     "text": [
      "\n"
     ]
    },
    {
     "name": "stderr",
     "output_type": "stream",
     "text": [
      "\n"
     ]
    },
    {
     "name": "stdout",
     "output_type": "stream",
     "text": [
      "Total files processed: 1"
     ]
    },
    {
     "name": "stderr",
     "output_type": "stream",
     "text": [
      "/w/hallb-scshelf2102/clas12/users/gmat/clas12/neutneut/analysis/neutron_ml/../../src/TrainData.py:84: FutureWarning: The default of observed=False is deprecated and will be changed to True in a future version of pandas. Pass observed=False to retain current behavior or observed=True to adopt the future default and silence this warning.\n",
      "  group_sizes = df.groupby(group_cols).size()\n",
      "\n"
     ]
    },
    {
     "name": "stdout",
     "output_type": "stream",
     "text": [
      "\n"
     ]
    },
    {
     "name": "stderr",
     "output_type": "stream",
     "text": [
      "/w/hallb-scshelf2102/clas12/users/gmat/clas12/neutneut/analysis/neutron_ml/../../src/TrainData.py:84: FutureWarning: The default of observed=False is deprecated and will be changed to True in a future version of pandas. Pass observed=False to retain current behavior or observed=True to adopt the future default and silence this warning.\n",
      "  group_sizes = df.groupby(group_cols).size()\n",
      "  0%|                                                  | 0/195 [00:00<?, ?it/s]\u001b[A\n",
      "100%|████████████████████████████████████████████| 1/1 [00:00<00:00,  3.07it/s]\u001b[A\n"
     ]
    },
    {
     "name": "stdout",
     "output_type": "stream",
     "text": [
      "Total files processed: 1"
     ]
    },
    {
     "name": "stderr",
     "output_type": "stream",
     "text": [
      "\n"
     ]
    },
    {
     "name": "stdout",
     "output_type": "stream",
     "text": [
      "\n"
     ]
    },
    {
     "name": "stderr",
     "output_type": "stream",
     "text": [
      "100%|████████████████████████████████████████████| 1/1 [00:00<00:00,  6.76it/s]/w/hallb-scshelf2102/clas12/users/gmat/clas12/neutneut/analysis/neutron_ml/../../src/TrainData.py:84: FutureWarning: The default of observed=False is deprecated and will be changed to True in a future version of pandas. Pass observed=False to retain current behavior or observed=True to adopt the future default and silence this warning.\n",
      "  group_sizes = df.groupby(group_cols).size()\n",
      "\u001b[A\n",
      "  0%|                                                  | 0/193 [00:00<?, ?it/s]\u001b[A\n",
      "  0%|                                                  | 0/199 [00:00<?, ?it/s]\u001b[A\n",
      "100%|████████████████████████████████████████████| 1/1 [00:00<00:00,  2.03it/s]\u001b[A\n",
      "\n"
     ]
    },
    {
     "name": "stdout",
     "output_type": "stream",
     "text": [
      "Total files processed: 1\n"
     ]
    },
    {
     "name": "stderr",
     "output_type": "stream",
     "text": [
      "/w/hallb-scshelf2102/clas12/users/gmat/clas12/neutneut/analysis/neutron_ml/../../src/TrainData.py:84: FutureWarning: The default of observed=False is deprecated and will be changed to True in a future version of pandas. Pass observed=False to retain current behavior or observed=True to adopt the future default and silence this warning.\n",
      "  group_sizes = df.groupby(group_cols).size()\n",
      "  0%|                                                    | 0/1 [00:00<?, ?it/s]\u001b[A\n",
      "  0%|                                                    | 0/1 [00:00<?, ?it/s]\u001b[A\n",
      "100%|████████████████████████████████████████████| 1/1 [00:00<00:00,  5.79it/s]\u001b[A\n",
      "100%|████████████████████████████████████████████| 1/1 [00:00<00:00,  2.20it/s]\u001b[A\n"
     ]
    },
    {
     "name": "stdout",
     "output_type": "stream",
     "text": [
      "Total files processed: 1\n"
     ]
    },
    {
     "name": "stderr",
     "output_type": "stream",
     "text": [
      "\n",
      "/w/hallb-scshelf2102/clas12/users/gmat/clas12/neutneut/analysis/neutron_ml/../../src/TrainData.py:84: FutureWarning: The default of observed=False is deprecated and will be changed to True in a future version of pandas. Pass observed=False to retain current behavior or observed=True to adopt the future default and silence this warning.\n",
      "  group_sizes = df.groupby(group_cols).size()\n",
      "100%|████████████████████████████████████████████| 1/1 [00:00<00:00,  3.12it/s]\u001b[A\n"
     ]
    },
    {
     "name": "stdout",
     "output_type": "stream",
     "text": [
      "Total files processed: 1"
     ]
    },
    {
     "name": "stderr",
     "output_type": "stream",
     "text": [
      "\n"
     ]
    },
    {
     "name": "stdout",
     "output_type": "stream",
     "text": [
      "\n"
     ]
    },
    {
     "name": "stderr",
     "output_type": "stream",
     "text": [
      " 32%|████████████▉                           | 64/197 [00:00<00:00, 272.19it/s]\u001b[A/w/hallb-scshelf2102/clas12/users/gmat/clas12/neutneut/analysis/neutron_ml/../../src/TrainData.py:84: FutureWarning: The default of observed=False is deprecated and will be changed to True in a future version of pandas. Pass observed=False to retain current behavior or observed=True to adopt the future default and silence this warning.\n",
      "  group_sizes = df.groupby(group_cols).size()\n",
      "\n",
      " 39%|███████████████▋                        | 78/199 [00:00<00:00, 133.61it/s]\u001b[A\n",
      "  0%|                                                  | 0/197 [00:00<?, ?it/s]\u001b[A\n",
      "  0%|                                                    | 0/1 [00:00<?, ?it/s]\u001b[A\n",
      "  0%|                                                    | 0/1 [00:00<?, ?it/s]\u001b[A\n",
      " 20%|███████▉                                | 39/197 [00:00<00:00, 387.83it/s]\u001b[A\n",
      "100%|████████████████████████████████████████████| 1/1 [00:00<00:00,  1.49it/s]\u001b[A\n",
      "\n"
     ]
    },
    {
     "name": "stdout",
     "output_type": "stream",
     "text": [
      "Total files processed: 1\n"
     ]
    },
    {
     "name": "stderr",
     "output_type": "stream",
     "text": [
      " 26%|██████████▍                             | 52/199 [00:00<00:00, 512.36it/s]\u001b[A/w/hallb-scshelf2102/clas12/users/gmat/clas12/neutneut/analysis/neutron_ml/../../src/TrainData.py:84: FutureWarning: The default of observed=False is deprecated and will be changed to True in a future version of pandas. Pass observed=False to retain current behavior or observed=True to adopt the future default and silence this warning.\n",
      "  group_sizes = df.groupby(group_cols).size()\n",
      "100%|████████████████████████████████████████████| 1/1 [00:00<00:00,  1.63it/s]\n",
      "\n"
     ]
    },
    {
     "name": "stdout",
     "output_type": "stream",
     "text": [
      "Total files processed: 1"
     ]
    },
    {
     "name": "stderr",
     "output_type": "stream",
     "text": [
      "  0%|                                                  | 0/198 [00:00<?, ?it/s]"
     ]
    },
    {
     "name": "stdout",
     "output_type": "stream",
     "text": [
      "\n"
     ]
    },
    {
     "name": "stderr",
     "output_type": "stream",
     "text": [
      "\u001b[A/w/hallb-scshelf2102/clas12/users/gmat/clas12/neutneut/analysis/neutron_ml/../../src/TrainData.py:84: FutureWarning: The default of observed=False is deprecated and will be changed to True in a future version of pandas. Pass observed=False to retain current behavior or observed=True to adopt the future default and silence this warning.\n",
      "  group_sizes = df.groupby(group_cols).size()\n",
      "\n",
      " 20%|████████▏                               | 41/200 [00:00<00:00, 398.34it/s]\u001b[A\n",
      " 50%|███████████████████▌                   | 100/199 [00:00<00:00, 130.64it/s]\u001b[A\n",
      "  0%|                                                  | 0/195 [00:00<?, ?it/s]\u001b[A\n",
      "  0%|                                                  | 0/197 [00:00<?, ?it/s]\u001b[A\n",
      "  0%|                                                  | 0/199 [00:00<?, ?it/s]\u001b[A\n",
      "  0%|                                                  | 0/197 [00:00<?, ?it/s]\u001b[A\n",
      "100%|████████████████████████████████████████████| 1/1 [00:00<00:00,  5.54it/s]\u001b[A\n",
      "100%|████████████████████████████████████████████| 1/1 [00:00<00:00,  5.06it/s]\u001b[A\n",
      " 41%|████████████████▏                       | 80/197 [00:00<00:00, 147.28it/s]\u001b[A\n",
      "  0%|                                                  | 0/194 [00:00<?, ?it/s]\u001b[A\n",
      "  0%|                                                  | 0/196 [00:00<?, ?it/s]\u001b[A\n",
      " 17%|██████▉                                 | 34/197 [00:00<00:00, 333.82it/s]\u001b[A\n",
      "  0%|                                                  | 0/198 [00:00<?, ?it/s]\u001b[A\n",
      "  0%|                                                  | 0/196 [00:00<?, ?it/s]\u001b[A\n",
      "\u001b[A\n",
      "  0%|                                                  | 0/197 [00:00<?, ?it/s]\u001b[A\n",
      "  0%|                                                  | 0/197 [00:00<?, ?it/s]\u001b[A\n",
      " 40%|███████████████▊                        | 78/197 [00:00<00:00, 156.09it/s]\u001b[A\n",
      "100%|████████████████████████████████████████████| 1/1 [00:00<00:00,  6.99it/s]\u001b[A\n",
      " 59%|███████████████████████▏               | 118/199 [00:00<00:00, 126.01it/s]\u001b[A\n",
      "  0%|                                                  | 0/195 [00:00<?, ?it/s]\u001b[A\n",
      " 20%|████████                                | 40/198 [00:00<00:00, 393.77it/s]\u001b[A\n",
      "  0%|                                                  | 0/197 [00:00<?, ?it/s]\u001b[A\n",
      "100%|████████████████████████████████████████████| 1/1 [00:00<00:00,  1.32it/s]\u001b[A\n",
      "\n"
     ]
    },
    {
     "name": "stdout",
     "output_type": "stream",
     "text": [
      "Total files processed: 1\n"
     ]
    },
    {
     "name": "stderr",
     "output_type": "stream",
     "text": [
      "/w/hallb-scshelf2102/clas12/users/gmat/clas12/neutneut/analysis/neutron_ml/../../src/TrainData.py:84: FutureWarning: The default of observed=False is deprecated and will be changed to True in a future version of pandas. Pass observed=False to retain current behavior or observed=True to adopt the future default and silence this warning.\n",
      "  group_sizes = df.groupby(group_cols).size()\n",
      "100%|████████████████████████████████████████████| 1/1 [00:00<00:00,  5.60it/s]\u001b[A\n",
      " 41%|████████████████▌                       | 82/198 [00:00<00:00, 124.50it/s]\u001b[A\n",
      "  0%|                                                  | 0/197 [00:00<?, ?it/s]\u001b[A\n",
      " 52%|████████████████████▍                  | 103/197 [00:00<00:00, 141.17it/s]\u001b[A\n",
      " 21%|████████▍                               | 41/195 [00:00<00:00, 399.42it/s]\u001b[A\n",
      " 32%|████████████▋                           | 62/195 [00:00<00:01, 116.65it/s]\u001b[A\n",
      " 21%|████████▎                               | 41/197 [00:00<00:00, 405.26it/s]\u001b[A\n",
      " 23%|█████████                               | 45/199 [00:00<00:00, 447.14it/s]\u001b[A\n",
      " 22%|████████▉                               | 44/197 [00:00<00:00, 432.98it/s]\u001b[A\n",
      " 35%|█████████████▊                          | 68/197 [00:00<00:00, 226.06it/s]\u001b[A\n",
      "  0%|                                                  | 0/195 [00:00<?, ?it/s]\u001b[A\n",
      " 21%|████████▏                               | 40/194 [00:00<00:00, 399.20it/s]\u001b[A\n",
      "100%|████████████████████████████████████████████| 1/1 [00:00<00:00,  1.89it/s]\u001b[A\n"
     ]
    },
    {
     "name": "stdout",
     "output_type": "stream",
     "text": [
      "Total files processed: 1"
     ]
    },
    {
     "name": "stderr",
     "output_type": "stream",
     "text": [
      "\n"
     ]
    },
    {
     "name": "stdout",
     "output_type": "stream",
     "text": [
      "\n"
     ]
    },
    {
     "name": "stderr",
     "output_type": "stream",
     "text": [
      "/w/hallb-scshelf2102/clas12/users/gmat/clas12/neutneut/analysis/neutron_ml/../../src/TrainData.py:84: FutureWarning: The default of observed=False is deprecated and will be changed to True in a future version of pandas. Pass observed=False to retain current behavior or observed=True to adopt the future default and silence this warning.\n",
      "  group_sizes = df.groupby(group_cols).size()\n",
      "100%|████████████████████████████████████████████| 1/1 [00:00<00:00,  1.84it/s]\u001b[A\n",
      "\n",
      " 47%|██████████████████▋                     | 92/197 [00:00<00:00, 105.40it/s]\u001b[A\n"
     ]
    },
    {
     "name": "stdout",
     "output_type": "stream",
     "text": [
      "Total files processed: 1"
     ]
    },
    {
     "name": "stderr",
     "output_type": "stream",
     "text": [
      " 21%|████████▌                               | 42/196 [00:00<00:00, 419.69it/s]"
     ]
    },
    {
     "name": "stdout",
     "output_type": "stream",
     "text": [
      "\n"
     ]
    },
    {
     "name": "stderr",
     "output_type": "stream",
     "text": [
      "\u001b[A/w/hallb-scshelf2102/clas12/users/gmat/clas12/neutneut/analysis/neutron_ml/../../src/TrainData.py:84: FutureWarning: The default of observed=False is deprecated and will be changed to True in a future version of pandas. Pass observed=False to retain current behavior or observed=True to adopt the future default and silence this warning.\n",
      "  group_sizes = df.groupby(group_cols).size()\n",
      "\n",
      "  0%|                                                  | 0/194 [00:00<?, ?it/s]\u001b[A\n",
      " 23%|█████████▎                              | 46/198 [00:00<00:00, 459.73it/s]\u001b[A\n",
      "100%|████████████████████████████████████████████| 1/1 [00:00<00:00,  2.36it/s]\u001b[A\n"
     ]
    },
    {
     "name": "stdout",
     "output_type": "stream",
     "text": [
      "Total files processed: 1"
     ]
    },
    {
     "name": "stderr",
     "output_type": "stream",
     "text": [
      "\n"
     ]
    },
    {
     "name": "stdout",
     "output_type": "stream",
     "text": [
      "\n"
     ]
    },
    {
     "name": "stderr",
     "output_type": "stream",
     "text": [
      " 51%|███████████████████▉                   | 101/197 [00:00<00:00, 145.67it/s]\u001b[A\n",
      "/w/hallb-scshelf2102/clas12/users/gmat/clas12/neutneut/analysis/neutron_ml/../../src/TrainData.py:84: FutureWarning: The default of observed=False is deprecated and will be changed to True in a future version of pandas. Pass observed=False to retain current behavior or observed=True to adopt the future default and silence this warning.\n",
      "  group_sizes = df.groupby(group_cols).size()\n",
      " 21%|████████▎                               | 41/196 [00:00<00:00, 401.39it/s]\u001b[A\n",
      " 24%|█████████▌                              | 47/197 [00:00<00:00, 465.67it/s]\u001b[A\n",
      " 19%|███████▋                                | 38/197 [00:00<00:00, 377.10it/s]\u001b[A\n",
      " 68%|██████████████████████████▋            | 136/199 [00:00<00:00, 221.70it/s]\u001b[A\n",
      " 53%|████████████████████▍                  | 104/198 [00:00<00:00, 128.83it/s]\u001b[A\n",
      " 40%|████████████████▏                       | 80/198 [00:00<00:00, 252.47it/s]\u001b[A\n",
      "100%|████████████████████████████████████████████| 1/1 [00:00<00:00,  2.06it/s]\u001b[A\n",
      "\n",
      " 60%|███████████████████████▏               | 115/193 [00:00<00:00, 219.12it/s]\u001b[A"
     ]
    },
    {
     "name": "stdout",
     "output_type": "stream",
     "text": [
      "Total files processed: 1"
     ]
    },
    {
     "name": "stderr",
     "output_type": "stream",
     "text": [
      "\n"
     ]
    },
    {
     "name": "stdout",
     "output_type": "stream",
     "text": [
      "\n"
     ]
    },
    {
     "name": "stderr",
     "output_type": "stream",
     "text": [
      "/w/hallb-scshelf2102/clas12/users/gmat/clas12/neutneut/analysis/neutron_ml/../../src/TrainData.py:84: FutureWarning: The default of observed=False is deprecated and will be changed to True in a future version of pandas. Pass observed=False to retain current behavior or observed=True to adopt the future default and silence this warning.\n",
      "  group_sizes = df.groupby(group_cols).size()\n",
      " 41%|████████████████▍                       | 80/195 [00:00<00:00, 120.57it/s]\u001b[A\n",
      " 23%|█████████▎                              | 46/197 [00:00<00:00, 450.05it/s]\u001b[A\n",
      " 42%|████████████████▌                       | 81/195 [00:00<00:00, 273.92it/s]\u001b[A\n",
      " 23%|█████████▎                              | 46/197 [00:00<00:00, 453.59it/s]\u001b[A\n",
      " 47%|██████████████████▉                     | 93/197 [00:00<00:00, 195.16it/s]\u001b[A\n",
      " 42%|████████████████▋                       | 82/197 [00:00<00:00, 277.95it/s]\u001b[A\n",
      " 56%|█████████████████████▊                 | 110/197 [00:00<00:00, 108.67it/s]\u001b[A\n",
      "  0%|                                                  | 0/200 [00:00<?, ?it/s]\u001b[A\n",
      " 40%|████████████████▏                       | 81/200 [00:00<00:00, 122.96it/s]\u001b[A\n",
      " 45%|█████████████████▊                      | 88/197 [00:00<00:00, 280.04it/s]\u001b[A\n",
      " 24%|█████████▍                              | 46/195 [00:00<00:00, 449.78it/s]\u001b[A\n",
      "  0%|                                                  | 0/199 [00:00<?, ?it/s]\u001b[A\n",
      " 74%|████████████████████████████▊          | 147/199 [00:01<00:00, 107.63it/s]\u001b[A\n",
      " 24%|█████████▊                              | 49/200 [00:00<00:00, 488.82it/s]\u001b[A\n",
      " 61%|███████████████████████▊               | 120/197 [00:00<00:00, 132.84it/s]\u001b[A\n",
      " 21%|████████▍                               | 41/194 [00:00<00:00, 407.23it/s]\u001b[A\n",
      " 62%|████████████████████████▏              | 123/198 [00:01<00:00, 124.81it/s]\u001b[A\n",
      " 53%|████████████████████▊                  | 104/195 [00:00<00:00, 395.37it/s]\u001b[A\n",
      " 81%|███████████████████████████████▋       | 162/199 [00:00<00:00, 195.12it/s]\u001b[A\n",
      " 46%|██████████████████▌                     | 92/198 [00:00<00:00, 261.40it/s]\u001b[A\n",
      " 71%|███████████████████████████▌           | 139/197 [00:01<00:00, 122.31it/s]\u001b[A\n",
      " 55%|█████████████████████▍                 | 109/198 [00:00<00:00, 202.08it/s]\u001b[A\n",
      " 42%|████████████████▋                       | 82/196 [00:00<00:00, 229.97it/s]\u001b[A\n",
      " 39%|███████████████▍                        | 76/197 [00:00<00:00, 232.77it/s]\u001b[A\n",
      " 73%|████████████████████████████▎          | 140/193 [00:00<00:00, 150.00it/s]\u001b[A\n",
      " 49%|███████████████████▋                    | 96/195 [00:00<00:00, 107.68it/s]\u001b[A\n",
      "  0%|                                                  | 0/195 [00:00<?, ?it/s]\u001b[A\n",
      " 64%|████████████████████████▉              | 126/197 [00:01<00:00, 105.22it/s]\u001b[A\n",
      " 48%|███████████████████                     | 94/197 [00:00<00:00, 231.36it/s]\u001b[A\n",
      " 58%|██████████████████████▌                | 114/197 [00:00<00:00, 160.75it/s]\u001b[A\n",
      " 57%|██████████████████████▏                | 111/195 [00:00<00:00, 209.72it/s]\u001b[A\n",
      " 57%|██████████████████████▎                | 113/197 [00:00<00:00, 211.32it/s]\u001b[A\n",
      " 47%|██████████████████▋                     | 92/197 [00:00<00:00, 242.33it/s]\u001b[A\n",
      " 52%|████████████████████                   | 103/200 [00:00<00:00, 120.16it/s]\u001b[A\n",
      "  0%|                                                  | 0/198 [00:00<?, ?it/s]\u001b[A\n",
      " 26%|██████████▍                             | 52/200 [00:00<00:00, 518.45it/s]\u001b[A\n",
      " 69%|██████████████████████████▉            | 136/197 [00:01<00:00, 115.20it/s]\u001b[A\n",
      " 70%|███████████████████████████▍           | 139/198 [00:01<00:00, 116.72it/s]\u001b[A\n",
      " 61%|███████████████████████▊               | 120/197 [00:00<00:00, 196.78it/s]\u001b[A\n",
      " 47%|██████████████████▋                     | 91/195 [00:00<00:00, 247.08it/s]\u001b[A\n",
      " 41%|████████████████▍                       | 80/194 [00:00<00:00, 132.75it/s]\u001b[A\n",
      " 45%|██████████████████                      | 90/199 [00:00<00:00, 142.80it/s]\u001b[A\n",
      " 23%|█████████                               | 45/199 [00:00<00:00, 449.93it/s]\u001b[A\n",
      " 78%|██████████████████████████████▎        | 153/197 [00:01<00:00, 108.31it/s]\u001b[A\n",
      "  0%|                                                  | 0/197 [00:00<?, ?it/s]\u001b[A\n",
      " 92%|████████████████████████████████████   | 184/199 [00:01<00:00, 162.55it/s]\u001b[A\n",
      " 42%|████████████████▉                       | 82/194 [00:00<00:00, 234.96it/s]\u001b[A\n",
      " 49%|███████████████████▌                    | 98/200 [00:00<00:00, 241.84it/s]\u001b[A\n",
      " 62%|████████████████████████▏              | 123/198 [00:00<00:00, 196.13it/s]\u001b[A\n",
      " 56%|██████████████████████▎                 | 109/195 [00:01<00:00, 92.36it/s]\u001b[A\n",
      " 67%|██████████████████████████             | 132/198 [00:00<00:00, 158.24it/s]\u001b[A\n",
      " 75%|█████████████████████████████▏         | 146/195 [00:00<00:00, 260.51it/s]\u001b[A\n",
      " 82%|████████████████████████████████▏      | 159/193 [00:01<00:00, 127.63it/s]\u001b[A\n",
      " 71%|████████████████████████████▍           | 140/197 [00:01<00:00, 97.56it/s]\u001b[A\n",
      " 80%|███████████████████████████████▉        | 159/199 [00:01<00:00, 91.43it/s]\u001b[A\n",
      " 43%|█████████████████▏                      | 84/196 [00:00<00:00, 125.22it/s]\u001b[A\n",
      " 56%|█████████████████████▋                 | 109/196 [00:00<00:00, 168.18it/s]\u001b[A\n",
      " 67%|██████████████████████████▏            | 132/197 [00:00<00:00, 130.04it/s]\u001b[A\n",
      " 69%|███████████████████████████            | 135/195 [00:00<00:00, 166.32it/s]\u001b[A\n",
      " 60%|███████████████████████▍               | 120/200 [00:01<00:00, 112.04it/s]\u001b[A\n",
      " 63%|████████████████████████▌              | 124/197 [00:00<00:00, 186.71it/s]\u001b[A\n",
      " 70%|███████████████████████████            | 137/197 [00:00<00:00, 175.17it/s]\u001b[A\n",
      " 76%|█████████████████████████████▍         | 149/197 [00:01<00:00, 109.63it/s]\u001b[A\n",
      " 77%|██████████████████████████████▏        | 153/198 [00:01<00:00, 108.91it/s]\u001b[A\n",
      " 22%|████████▌                               | 42/195 [00:00<00:00, 416.75it/s]\u001b[A\n",
      " 62%|████████████████████████▏              | 122/197 [00:00<00:00, 195.91it/s]\u001b[A\n",
      "  0%|                                                  | 0/198 [00:00<?, ?it/s]\u001b[A\n",
      " 84%|████████████████████████████████▋      | 165/197 [00:01<00:00, 101.10it/s]\u001b[A\n",
      " 53%|████████████████████▌                  | 102/194 [00:00<00:00, 133.16it/s]\u001b[A\n",
      " 73%|████████████████████████████▎          | 143/197 [00:00<00:00, 169.91it/s]\u001b[A\n",
      " 25%|██████████                              | 50/198 [00:00<00:00, 496.33it/s]\u001b[A\n",
      " 58%|██████████████████████▌                | 115/199 [00:00<00:00, 144.53it/s]\u001b[A\n",
      " 62%|████████████████████████▏              | 121/195 [00:00<00:00, 208.14it/s]\u001b[A\n",
      " 47%|██████████████████▋                     | 92/197 [00:00<00:00, 138.47it/s]\u001b[A\n",
      " 62%|████████████████████████▌               | 120/195 [00:01<00:00, 88.08it/s]\u001b[A\n",
      " 52%|████████████████████▎                  | 104/200 [00:00<00:00, 281.83it/s]\u001b[A\n",
      " 57%|██████████████████████                 | 110/194 [00:00<00:00, 198.98it/s]\u001b[A\n",
      " 77%|██████████████████████████████▊         | 152/197 [00:01<00:00, 92.48it/s]\u001b[A\n",
      " 85%|█████████████████████████████████▉      | 169/199 [00:01<00:00, 70.04it/s]\u001b[A\n",
      " 90%|███████████████████████████████████▏   | 174/193 [00:01<00:00, 119.21it/s]\u001b[A\n",
      " 76%|█████████████████████████████▌         | 150/198 [00:00<00:00, 142.90it/s]\u001b[A\n",
      " 74%|████████████████████████████▊          | 146/198 [00:00<00:00, 173.05it/s]\u001b[A\n",
      " 64%|█████████████████████████▏             | 129/200 [00:00<00:00, 208.53it/s]\u001b[A\n",
      " 45%|██████████████████                      | 90/199 [00:00<00:00, 266.75it/s]\u001b[A\n",
      " 23%|█████████▏                              | 45/197 [00:00<00:00, 449.32it/s]\u001b[A\n",
      "  0%|                                                  | 0/196 [00:00<?, ?it/s]\u001b[A\n",
      " 75%|█████████████████████████████          | 147/197 [00:01<00:00, 119.82it/s]\u001b[A\n",
      " 91%|███████████████████████████████████▍   | 177/195 [00:00<00:00, 220.08it/s]\u001b[A\n",
      " 67%|██████████████████████████▏            | 134/200 [00:01<00:00, 106.77it/s]\u001b[A\n",
      " 66%|█████████████████████████▋             | 129/196 [00:00<00:00, 146.47it/s]\u001b[A\n",
      " 82%|███████████████████████████████▊       | 161/197 [00:01<00:00, 100.77it/s]\u001b[A\n",
      " 83%|████████████████████████████████▌      | 165/198 [00:01<00:00, 103.92it/s]\u001b[A\n",
      " 79%|██████████████████████████████▊        | 154/195 [00:00<00:00, 150.30it/s]\u001b[A\n",
      "100%|███████████████████████████████████████| 199/199 [00:01<00:00, 156.37it/s]\u001b[A\n",
      "\n",
      " 75%|█████████████████████████████          | 147/197 [00:00<00:00, 170.23it/s]\u001b[A\n",
      " 80%|███████████████████████████████        | 157/197 [00:00<00:00, 157.05it/s]\u001b[A\n",
      " 89%|███████████████████████████████████▋    | 176/197 [00:01<00:00, 99.58it/s]\u001b[A\n",
      " 74%|████████████████████████████▋          | 145/197 [00:00<00:00, 178.20it/s]\u001b[A\n",
      " 67%|██████████████████████████▋             | 130/195 [00:01<00:00, 89.72it/s]\u001b[A\n",
      " 62%|████████████████████████               | 120/194 [00:00<00:00, 132.05it/s]\u001b[A\n",
      " 82%|████████████████████████████████       | 162/197 [00:00<00:00, 158.74it/s]\u001b[A\n",
      " 83%|█████████████████████████████████▎      | 164/197 [00:01<00:00, 98.01it/s]\u001b[A\n",
      " 68%|██████████████████████████▍            | 135/199 [00:00<00:00, 143.58it/s]\u001b[A\n",
      " 91%|████████████████████████████████████▍   | 181/199 [00:01<00:00, 78.85it/s]\u001b[A\n",
      " 52%|████████████████████▍                  | 103/197 [00:00<00:00, 107.26it/s]\u001b[A\n",
      " 43%|█████████████████▏                      | 84/195 [00:00<00:00, 268.15it/s]\u001b[A\n",
      " 97%|█████████████████████████████████████▉ | 188/193 [00:01<00:00, 121.77it/s]\u001b[A\n",
      " 74%|█████████████████████████████          | 145/195 [00:00<00:00, 191.75it/s]\u001b[A\n",
      " 69%|██████████████████████████▋            | 133/194 [00:00<00:00, 191.40it/s]\u001b[A\n",
      " 59%|███████████████████████▏               | 117/197 [00:00<00:00, 148.26it/s]\u001b[A\n",
      " 84%|████████████████████████████████▋      | 166/198 [00:01<00:00, 140.01it/s]\u001b[A\n",
      " 22%|████████▋                               | 43/198 [00:00<00:00, 424.51it/s]\u001b[A\n",
      " 69%|██████████████████████████▉            | 138/200 [00:00<00:00, 258.95it/s]\u001b[A\n",
      " 84%|████████████████████████████████▋      | 166/198 [00:00<00:00, 166.04it/s]\u001b[A\n",
      " 81%|███████████████████████████████▋       | 160/197 [00:01<00:00, 117.80it/s]\u001b[A\n",
      " 74%|████████████████████████████▋          | 147/200 [00:01<00:00, 108.24it/s]\u001b[A\n",
      " 89%|██████████████████████████████████▋    | 176/198 [00:01<00:00, 102.28it/s]\u001b[A\n",
      " 77%|██████████████████████████████         | 154/200 [00:00<00:00, 191.37it/s]\u001b[A\n",
      " 51%|███████████████████▋                   | 100/198 [00:00<00:00, 304.08it/s]\u001b[A\n",
      " 74%|█████████████████████████████          | 146/196 [00:00<00:00, 144.47it/s]\u001b[A\n",
      " 88%|██████████████████████████████████▏    | 171/195 [00:01<00:00, 145.41it/s]\u001b[A\n",
      "  0%|                                                  | 0/195 [00:00<?, ?it/s]\u001b[A\n",
      " 61%|███████████████████████▋               | 121/199 [00:00<00:00, 228.64it/s]\u001b[A\n",
      " 64%|████████████████████████▊              | 125/196 [00:01<00:00, 127.14it/s]\u001b[A\n",
      " 88%|██████████████████████████████████▍    | 174/197 [00:01<00:00, 150.76it/s]\u001b[A\n",
      " 95%|█████████████████████████████████████▉  | 187/197 [00:01<00:00, 94.21it/s]\u001b[A\n",
      " 72%|████████████████████████████▋           | 140/195 [00:01<00:00, 88.63it/s]\u001b[A\u001b[A\n",
      " 84%|████████████████████████████████▊      | 166/197 [00:00<00:00, 157.64it/s]\n",
      " 89%|███████████████████████████████████▌    | 175/197 [00:01<00:00, 97.48it/s]\u001b[A\n",
      " 70%|███████████████████████████▎           | 136/194 [00:01<00:00, 130.07it/s]\u001b[A\n",
      " 96%|██████████████████████████████████████▍ | 191/199 [00:01<00:00, 80.46it/s]\u001b[A\n",
      " 24%|█████████▊                              | 48/196 [00:00<00:00, 476.93it/s]\u001b[A\n",
      " 84%|████████████████████████████████▋      | 165/197 [00:00<00:00, 164.39it/s]\u001b[A\n",
      " 72%|████████████████████████████▎          | 142/196 [00:01<00:00, 125.17it/s]\u001b[A\n",
      " 77%|█████████████████████████████▉         | 153/199 [00:01<00:00, 141.78it/s]\u001b[A\n",
      " 61%|███████████████████████▊               | 120/197 [00:01<00:00, 112.60it/s]\u001b[A\n",
      "100%|███████████████████████████████████████| 195/195 [00:00<00:00, 196.30it/s]\u001b[A\n",
      "\n",
      " 91%|███████████████████████████████████▋   | 181/198 [00:01<00:00, 129.92it/s]\u001b[A\n",
      " 58%|██████████████████████▊                | 114/195 [00:00<00:00, 230.90it/s]\u001b[A\n",
      " 80%|███████████████████████████████        | 159/200 [00:01<00:00, 107.23it/s]\u001b[A\n",
      " 88%|██████████████████████████████████▏    | 173/197 [00:01<00:00, 114.77it/s]\u001b[A\n",
      " 94%|████████████████████████████████████▊  | 187/198 [00:01<00:00, 100.77it/s]\u001b[A\n",
      " 79%|██████████████████████████████▉        | 154/194 [00:00<00:00, 171.83it/s]\u001b[A\n",
      " 71%|███████████████████████████▌           | 139/197 [00:00<00:00, 146.14it/s]\u001b[A\n",
      " 93%|████████████████████████████████████▏  | 184/198 [00:01<00:00, 154.20it/s]\u001b[A\n",
      " 83%|████████████████████████████████▏      | 162/196 [00:01<00:00, 138.56it/s]\u001b[A\n",
      " 88%|██████████████████████████████████▏    | 175/200 [00:00<00:00, 180.63it/s]\u001b[A\n",
      " 84%|████████████████████████████████▌      | 167/200 [00:00<00:00, 222.66it/s]\u001b[A\n",
      " 96%|█████████████████████████████████████▍ | 187/195 [00:01<00:00, 138.60it/s]\u001b[A\n",
      "100%|████████████████████████████████████████| 197/197 [00:01<00:00, 91.84it/s]\u001b[A\n",
      " 96%|█████████████████████████████████████▌ | 190/197 [00:01<00:00, 140.65it/s]\u001b[A\n",
      "100%|███████████████████████████████████████| 193/193 [00:01<00:00, 124.29it/s]\u001b[A\n",
      "\n",
      " 93%|████████████████████████████████████▏  | 183/197 [00:01<00:00, 151.08it/s]\u001b[A\n",
      " 94%|█████████████████████████████████████▊  | 186/197 [00:01<00:00, 95.88it/s]\u001b[A\n",
      " 43%|█████████████████▎                      | 86/198 [00:00<00:00, 263.40it/s]\u001b[A\n",
      " 68%|██████████████████████████▌            | 135/198 [00:00<00:00, 254.55it/s]\u001b[A\n",
      " 74%|████████████████████████████▊          | 147/199 [00:00<00:00, 200.27it/s]\u001b[A\n",
      " 78%|██████████████████████████████▎        | 151/194 [00:01<00:00, 126.19it/s]\u001b[A\n",
      " 93%|████████████████████████████████████▏  | 183/197 [00:01<00:00, 153.37it/s]\u001b[A\n",
      " 86%|█████████████████████████████████▋     | 173/200 [00:01<00:00, 114.66it/s]\u001b[A\n",
      " 85%|█████████████████████████████████▎     | 170/199 [00:01<00:00, 135.54it/s]\u001b[A\n",
      " 69%|██████████████████████████▉            | 136/197 [00:01<00:00, 113.36it/s]\u001b[A\n",
      " 98%|██████████████████████████████████████▍| 195/198 [00:01<00:00, 129.00it/s]\u001b[A\n",
      " 23%|█████████                               | 44/195 [00:00<00:00, 434.53it/s]\u001b[A\n",
      " 95%|█████████████████████████████████████  | 185/195 [00:01<00:00, 169.07it/s]\u001b[A\n",
      " 94%|████████████████████████████████████▌  | 185/197 [00:01<00:00, 109.06it/s]\u001b[A\n",
      "100%|███████████████████████████████████████| 197/197 [00:01<00:00, 106.48it/s]\u001b[A\n",
      "\n",
      " 77%|██████████████████████████████▊         | 150/195 [00:01<00:00, 88.14it/s]\u001b[A\n",
      " 71%|███████████████████████████▊           | 139/195 [00:00<00:00, 212.12it/s]\u001b[A\n",
      " 89%|██████████████████████████████████▌    | 172/194 [00:00<00:00, 157.46it/s]\u001b[A\n",
      " 87%|██████████████████████████████████▉     | 172/197 [00:01<00:00, 64.44it/s]\u001b[A\n",
      " 90%|███████████████████████████████████▏   | 177/196 [00:01<00:00, 133.86it/s]\u001b[A\n",
      " 95%|█████████████████████████████████████  | 186/196 [00:01<00:00, 192.64it/s]\u001b[A\n",
      " 49%|███████████████████▌                    | 96/196 [00:00<00:00, 297.23it/s]\u001b[A\n",
      " 80%|███████████████████████████████▎       | 158/197 [00:01<00:00, 141.33it/s]\u001b[A\n",
      "100%|████████████████████████████████████████| 199/199 [00:02<00:00, 93.19it/s]\u001b[A\n",
      "\n",
      " 99%|██████████████████████████████████████▌| 195/197 [00:01<00:00, 118.94it/s]\u001b[A\n",
      " 96%|█████████████████████████████████████▍ | 192/200 [00:00<00:00, 207.69it/s]\u001b[A\n",
      "100%|████████████████████████████████████████| 197/197 [00:01<00:00, 95.33it/s]\u001b[A\n",
      "  0%|                                                    | 0/1 [00:00<?, ?it/s]\u001b[A\n",
      " 46%|██████████████████▎                     | 90/197 [00:00<00:00, 148.58it/s]\u001b[A\n",
      "100%|███████████████████████████████████████| 197/197 [00:01<00:00, 168.88it/s]\u001b[A\n",
      "\n",
      " 94%|████████████████████████████████████▍  | 187/200 [00:01<00:00, 120.49it/s]\u001b[A\n",
      " 93%|████████████████████████████████████▎  | 185/199 [00:01<00:00, 137.32it/s]\u001b[A\n",
      "100%|███████████████████████████████████████| 195/195 [00:01<00:00, 145.01it/s]\u001b[A\n",
      "100%|███████████████████████████████████████| 198/198 [00:01<00:00, 156.36it/s]\n",
      "\n",
      "Processing CSV files:  14%|██▋                | 72/500 [00:06<00:47,  8.95it/s]\u001b[A\n",
      "100%|███████████████████████████████████████| 197/197 [00:01<00:00, 147.95it/s]\u001b[A\n",
      "\n",
      "\n",
      "100%|███████████████████████████████████████| 197/197 [00:01<00:00, 155.99it/s]\u001b[A\n",
      "100%|███████████████████████████████████████| 198/198 [00:01<00:00, 137.54it/s]\n",
      "\n",
      " 97%|█████████████████████████████████████▉ | 189/194 [00:01<00:00, 159.85it/s]\u001b[A\n",
      " 98%|██████████████████████████████████████▏| 192/196 [00:01<00:00, 137.40it/s]\u001b[A\n",
      "100%|███████████████████████████████████████| 195/195 [00:01<00:00, 168.59it/s]\u001b[A\n",
      "\n",
      " 83%|████████████████████████████████▍      | 162/195 [00:00<00:00, 203.91it/s]\u001b[A\n",
      " 89%|██████████████████████████████████▋    | 175/197 [00:01<00:00, 144.69it/s]\u001b[A\n",
      " 45%|██████████████████                      | 88/195 [00:00<00:00, 307.57it/s]\u001b[A\n",
      "100%|███████████████████████████████████████| 200/200 [00:01<00:00, 118.88it/s]\u001b[A\n",
      "100%|███████████████████████████████████████| 197/197 [00:01<00:00, 141.99it/s]\n",
      "\n",
      " 66%|█████████████████████████▊             | 130/196 [00:00<00:00, 272.92it/s]\u001b[A\n",
      " 97%|█████████████████████████████████████▉ | 189/194 [00:01<00:00, 151.20it/s]\u001b[A\n",
      "100%|███████████████████████████████████████| 196/196 [00:01<00:00, 140.53it/s]\u001b[A\n",
      "100%|███████████████████████████████████████| 200/200 [00:01<00:00, 165.11it/s]\n",
      "\n",
      " 87%|█████████████████████████████████▊     | 171/197 [00:01<00:00, 137.01it/s]\u001b[A\n",
      "100%|████████████████████████████████████████| 198/198 [00:01<00:00, 99.82it/s]\u001b[A\n",
      "100%|███████████████████████████████████████| 200/200 [00:01<00:00, 194.48it/s]\n",
      "\n",
      " 91%|███████████████████████████████████▌   | 178/195 [00:01<00:00, 100.21it/s]\u001b[A\n",
      "  0%|                                                    | 0/1 [00:00<?, ?it/s]\u001b[A\n",
      "100%|███████████████████████████████████████| 199/199 [00:01<00:00, 135.64it/s]\u001b[A\n",
      "100%|████████████████████████████████████████| 197/197 [00:02<00:00, 95.70it/s]\n",
      "\n",
      "100%|████████████████████████████████████████████| 1/1 [00:00<00:00,  7.84it/s]\u001b[A\n",
      " 97%|██████████████████████████████████████ | 192/197 [00:01<00:00, 147.79it/s]\u001b[A\n",
      " 94%|████████████████████████████████████▌  | 183/195 [00:00<00:00, 197.84it/s]\u001b[A\n",
      "100%|███████████████████████████████████████| 194/194 [00:01<00:00, 131.61it/s]\u001b[A\n",
      "\n",
      "Processing CSV files:  15%|██▉                | 76/500 [00:06<00:42, 10.07it/s]\u001b[A\n",
      "100%|████████████████████████████████████████| 197/197 [00:01<00:00, 99.78it/s]\u001b[A\n",
      "\n",
      "  0%|                                                    | 0/1 [00:00<?, ?it/s]\u001b[A\n",
      " 71%|███████████████████████████▋           | 140/197 [00:00<00:00, 170.82it/s]\u001b[A\n",
      " 82%|███████████████████████████████▊       | 160/196 [00:00<00:00, 246.47it/s]\u001b[A\n",
      " 97%|██████████████████████████████████████ | 190/195 [00:01<00:00, 100.37it/s]\u001b[A\n",
      "100%|███████████████████████████████████████| 194/194 [00:01<00:00, 152.07it/s]\u001b[A\n",
      "100%|███████████████████████████████████████| 196/196 [00:01<00:00, 133.04it/s]\n",
      "\n",
      "100%|████████████████████████████████████████████| 1/1 [00:00<00:00,  3.92it/s]\u001b[A\n"
     ]
    },
    {
     "name": "stdout",
     "output_type": "stream",
     "text": [
      "Total files processed: 1"
     ]
    },
    {
     "name": "stderr",
     "output_type": "stream",
     "text": [
      "\n"
     ]
    },
    {
     "name": "stdout",
     "output_type": "stream",
     "text": [
      "\n"
     ]
    },
    {
     "name": "stderr",
     "output_type": "stream",
     "text": [
      "  0%|                                                    | 0/1 [00:00<?, ?it/s]\u001b[A/w/hallb-scshelf2102/clas12/users/gmat/clas12/neutneut/analysis/neutron_ml/../../src/TrainData.py:84: FutureWarning: The default of observed=False is deprecated and will be changed to True in a future version of pandas. Pass observed=False to retain current behavior or observed=True to adopt the future default and silence this warning.\n",
      "  group_sizes = df.groupby(group_cols).size()\n",
      "\n",
      "100%|███████████████████████████████████████| 197/197 [00:01<00:00, 141.25it/s]\u001b[A\n",
      "100%|███████████████████████████████████████| 199/199 [00:01<00:00, 182.45it/s]\n",
      "\n",
      "  0%|                                                    | 0/1 [00:00<?, ?it/s]\u001b[A\n",
      "  0%|                                                    | 0/1 [00:00<?, ?it/s]\u001b[A\n",
      "100%|███████████████████████████████████████| 198/198 [00:00<00:00, 208.97it/s]\u001b[A\n",
      "\n",
      "  0%|                                                    | 0/1 [00:00<?, ?it/s]\u001b[A\n",
      "100%|████████████████████████████████████████| 195/195 [00:01<00:00, 98.04it/s]\u001b[A\n",
      "\n",
      "100%|███████████████████████████████████████| 195/195 [00:01<00:00, 192.48it/s]\u001b[A\n",
      "\n",
      " 87%|█████████████████████████████████▊     | 171/197 [00:00<00:00, 203.21it/s]\u001b[A\n",
      " 98%|██████████████████████████████████████▍| 193/196 [00:00<00:00, 268.50it/s]\u001b[A\n",
      "  0%|                                                    | 0/1 [00:00<?, ?it/s]\u001b[A\n",
      "100%|███████████████████████████████████████| 197/197 [00:01<00:00, 126.71it/s]\u001b[A\n",
      "100%|███████████████████████████████████████| 196/196 [00:00<00:00, 256.34it/s]\n",
      "\n",
      " 95%|█████████████████████████████████████▏ | 189/198 [00:00<00:00, 199.66it/s]\u001b[A\n",
      "  0%|                                                    | 0/1 [00:00<?, ?it/s]\u001b[A\n",
      "  0%|                                                    | 0/1 [00:00<?, ?it/s]\u001b[A\n",
      "100%|████████████████████████████████████████████| 1/1 [00:00<00:00,  5.89it/s]\u001b[A\n",
      "  0%|                                                    | 0/1 [00:00<?, ?it/s]\u001b[A\n",
      "  0%|                                                    | 0/1 [00:00<?, ?it/s]\u001b[A\n",
      " 92%|████████████████████████████████████   | 180/195 [00:00<00:00, 281.26it/s]\u001b[A\n",
      "Processing CSV files:  18%|███▍               | 92/500 [00:07<00:20, 20.12it/s]\u001b[A\n",
      "  0%|                                                    | 0/1 [00:00<?, ?it/s]\u001b[A\n",
      "100%|████████████████████████████████████████████| 1/1 [00:00<00:00,  6.04it/s]\u001b[A\n",
      "  0%|                                                    | 0/1 [00:00<?, ?it/s]\u001b[A\n",
      "100%|███████████████████████████████████████| 197/197 [00:01<00:00, 194.82it/s]\u001b[A\n",
      "\n",
      "  0%|                                                    | 0/1 [00:00<?, ?it/s]\u001b[A\n",
      "  0%|                                                    | 0/1 [00:00<?, ?it/s]\u001b[A\n",
      "100%|████████████████████████████████████████████| 1/1 [00:00<00:00,  4.95it/s]\u001b[A\n"
     ]
    },
    {
     "name": "stdout",
     "output_type": "stream",
     "text": [
      "Total files processed: 1"
     ]
    },
    {
     "name": "stderr",
     "output_type": "stream",
     "text": [
      "100%|███████████████████████████████████████| 198/198 [00:00<00:00, 216.56it/s]"
     ]
    },
    {
     "name": "stdout",
     "output_type": "stream",
     "text": [
      "\n"
     ]
    },
    {
     "name": "stderr",
     "output_type": "stream",
     "text": [
      "\n",
      "\n",
      "100%|████████████████████████████████████████████| 1/1 [00:00<00:00,  5.91it/s]\u001b[A/w/hallb-scshelf2102/clas12/users/gmat/clas12/neutneut/analysis/neutron_ml/../../src/TrainData.py:84: FutureWarning: The default of observed=False is deprecated and will be changed to True in a future version of pandas. Pass observed=False to retain current behavior or observed=True to adopt the future default and silence this warning.\n",
      "  group_sizes = df.groupby(group_cols).size()\n",
      "100%|████████████████████████████████████████████| 1/1 [00:00<00:00,  4.55it/s]\n",
      "\n"
     ]
    },
    {
     "name": "stdout",
     "output_type": "stream",
     "text": [
      "Total files processed: 1\n"
     ]
    },
    {
     "name": "stderr",
     "output_type": "stream",
     "text": [
      "  0%|                                                    | 0/1 [00:00<?, ?it/s]\u001b[A/w/hallb-scshelf2102/clas12/users/gmat/clas12/neutneut/analysis/neutron_ml/../../src/TrainData.py:84: FutureWarning: The default of observed=False is deprecated and will be changed to True in a future version of pandas. Pass observed=False to retain current behavior or observed=True to adopt the future default and silence this warning.\n",
      "  group_sizes = df.groupby(group_cols).size()\n",
      "100%|████████████████████████████████████████████| 1/1 [00:00<00:00,  4.68it/s]\n"
     ]
    },
    {
     "name": "stdout",
     "output_type": "stream",
     "text": [
      "Total files processed: 1"
     ]
    },
    {
     "name": "stderr",
     "output_type": "stream",
     "text": [
      "\n"
     ]
    },
    {
     "name": "stdout",
     "output_type": "stream",
     "text": [
      "\n"
     ]
    },
    {
     "name": "stderr",
     "output_type": "stream",
     "text": [
      "100%|████████████████████████████████████████████| 1/1 [00:00<00:00,  5.49it/s]/w/hallb-scshelf2102/clas12/users/gmat/clas12/neutneut/analysis/neutron_ml/../../src/TrainData.py:84: FutureWarning: The default of observed=False is deprecated and will be changed to True in a future version of pandas. Pass observed=False to retain current behavior or observed=True to adopt the future default and silence this warning.\n",
      "  group_sizes = df.groupby(group_cols).size()\n",
      "100%|████████████████████████████████████████████| 1/1 [00:00<00:00,  3.32it/s]\n",
      "\n"
     ]
    },
    {
     "name": "stdout",
     "output_type": "stream",
     "text": [
      "Total files processed: 1"
     ]
    },
    {
     "name": "stderr",
     "output_type": "stream",
     "text": [
      "100%|████████████████████████████████████████████| 1/1 [00:00<00:00,  5.79it/s]"
     ]
    },
    {
     "name": "stdout",
     "output_type": "stream",
     "text": [
      "\n"
     ]
    },
    {
     "name": "stderr",
     "output_type": "stream",
     "text": [
      "100%|███████████████████████████████████████| 195/195 [00:00<00:00, 270.75it/s]/w/hallb-scshelf2102/clas12/users/gmat/clas12/neutneut/analysis/neutron_ml/../../src/TrainData.py:84: FutureWarning: The default of observed=False is deprecated and will be changed to True in a future version of pandas. Pass observed=False to retain current behavior or observed=True to adopt the future default and silence this warning.\n",
      "  group_sizes = df.groupby(group_cols).size()\n",
      "\n",
      "\n",
      "  0%|                                                    | 0/1 [00:00<?, ?it/s]\u001b[A\n",
      "  0%|                                                    | 0/1 [00:00<?, ?it/s]\u001b[A\n",
      "100%|████████████████████████████████████████████| 1/1 [00:00<00:00,  4.77it/s]\u001b[A\n"
     ]
    },
    {
     "name": "stdout",
     "output_type": "stream",
     "text": [
      "Total files processed: 1\n"
     ]
    },
    {
     "name": "stderr",
     "output_type": "stream",
     "text": [
      "/w/hallb-scshelf2102/clas12/users/gmat/clas12/neutneut/analysis/neutron_ml/../../src/TrainData.py:84: FutureWarning: The default of observed=False is deprecated and will be changed to True in a future version of pandas. Pass observed=False to retain current behavior or observed=True to adopt the future default and silence this warning.\n",
      "  group_sizes = df.groupby(group_cols).size()\n",
      "\n",
      "100%|████████████████████████████████████████████| 1/1 [00:00<00:00,  3.75it/s]\u001b[A\n",
      "\n"
     ]
    },
    {
     "name": "stdout",
     "output_type": "stream",
     "text": [
      "Total files processed: 1\n"
     ]
    },
    {
     "name": "stderr",
     "output_type": "stream",
     "text": [
      "/w/hallb-scshelf2102/clas12/users/gmat/clas12/neutneut/analysis/neutron_ml/../../src/TrainData.py:84: FutureWarning: The default of observed=False is deprecated and will be changed to True in a future version of pandas. Pass observed=False to retain current behavior or observed=True to adopt the future default and silence this warning.\n",
      "  group_sizes = df.groupby(group_cols).size()\n",
      "  0%|                                                    | 0/1 [00:00<?, ?it/s]\u001b[A\n",
      "100%|████████████████████████████████████████████| 1/1 [00:00<00:00,  4.98it/s]\u001b[A\n",
      "  0%|                                                  | 0/199 [00:00<?, ?it/s]\u001b[A\n",
      "100%|████████████████████████████████████████████| 1/1 [00:00<00:00,  3.03it/s]\u001b[A\n",
      "\n"
     ]
    },
    {
     "name": "stdout",
     "output_type": "stream",
     "text": [
      "Total files processed: 1"
     ]
    },
    {
     "name": "stderr",
     "output_type": "stream",
     "text": [
      "  0%|                                                    | 0/1 [00:00<?, ?it/s]"
     ]
    },
    {
     "name": "stdout",
     "output_type": "stream",
     "text": [
      "\n"
     ]
    },
    {
     "name": "stderr",
     "output_type": "stream",
     "text": [
      "/w/hallb-scshelf2102/clas12/users/gmat/clas12/neutneut/analysis/neutron_ml/../../src/TrainData.py:84: FutureWarning: The default of observed=False is deprecated and will be changed to True in a future version of pandas. Pass observed=False to retain current behavior or observed=True to adopt the future default and silence this warning.\n",
      "  group_sizes = df.groupby(group_cols).size()\n",
      "\u001b[A\n",
      "100%|████████████████████████████████████████████| 1/1 [00:00<00:00,  3.25it/s]\u001b[A\n",
      "\n"
     ]
    },
    {
     "name": "stdout",
     "output_type": "stream",
     "text": [
      "Total files processed: 1\n"
     ]
    },
    {
     "name": "stderr",
     "output_type": "stream",
     "text": [
      "100%|████████████████████████████████████████████| 1/1 [00:00<00:00,  4.59it/s]\u001b[A\n",
      "100%|████████████████████████████████████████████| 1/1 [00:00<00:00,  3.40it/s]/w/hallb-scshelf2102/clas12/users/gmat/clas12/neutneut/analysis/neutron_ml/../../src/TrainData.py:84: FutureWarning: The default of observed=False is deprecated and will be changed to True in a future version of pandas. Pass observed=False to retain current behavior or observed=True to adopt the future default and silence this warning.\n",
      "  group_sizes = df.groupby(group_cols).size()\n",
      "\u001b[A\n",
      "100%|████████████████████████████████████████████| 1/1 [00:00<00:00,  5.77it/s]\u001b[A\n",
      "100%|████████████████████████████████████████████| 1/1 [00:00<00:00,  3.35it/s]\u001b[A\n"
     ]
    },
    {
     "name": "stdout",
     "output_type": "stream",
     "text": [
      "Total files processed: 1"
     ]
    },
    {
     "name": "stderr",
     "output_type": "stream",
     "text": [
      "\n"
     ]
    },
    {
     "name": "stdout",
     "output_type": "stream",
     "text": [
      "\n"
     ]
    },
    {
     "name": "stderr",
     "output_type": "stream",
     "text": [
      "  0%|                                                    | 0/1 [00:00<?, ?it/s]\u001b[A\n",
      "/w/hallb-scshelf2102/clas12/users/gmat/clas12/neutneut/analysis/neutron_ml/../../src/TrainData.py:84: FutureWarning: The default of observed=False is deprecated and will be changed to True in a future version of pandas. Pass observed=False to retain current behavior or observed=True to adopt the future default and silence this warning.\n",
      "  group_sizes = df.groupby(group_cols).size()\n",
      "  0%|                                                    | 0/1 [00:00<?, ?it/s]\u001b[A\n",
      "100%|████████████████████████████████████████████| 1/1 [00:00<00:00,  5.69it/s]\u001b[A\n",
      "100%|████████████████████████████████████████████| 1/1 [00:00<00:00,  4.37it/s]\u001b[A\n",
      "100%|████████████████████████████████████████████| 1/1 [00:00<00:00,  4.44it/s]\u001b[A\n",
      "100%|████████████████████████████████████████████| 1/1 [00:00<00:00,  3.54it/s]\u001b[A\n",
      "\n"
     ]
    },
    {
     "name": "stdout",
     "output_type": "stream",
     "text": [
      "Total files processed: 1\n"
     ]
    },
    {
     "name": "stderr",
     "output_type": "stream",
     "text": [
      "  0%|                                                  | 0/196 [00:00<?, ?it/s]\u001b[A\n",
      "/w/hallb-scshelf2102/clas12/users/gmat/clas12/neutneut/analysis/neutron_ml/../../src/TrainData.py:84: FutureWarning: The default of observed=False is deprecated and will be changed to True in a future version of pandas. Pass observed=False to retain current behavior or observed=True to adopt the future default and silence this warning.\n",
      "  group_sizes = df.groupby(group_cols).size()\n",
      "  0%|                                                    | 0/1 [00:00<?, ?it/s]\u001b[A\n",
      "100%|████████████████████████████████████████████| 1/1 [00:00<00:00,  4.18it/s]\u001b[A\n",
      "  0%|                                                    | 0/1 [00:00<?, ?it/s]\u001b[A\n",
      "100%|████████████████████████████████████████████| 1/1 [00:00<00:00,  4.83it/s]\u001b[A\n",
      "  0%|                                                    | 0/1 [00:00<?, ?it/s]\u001b[A\n",
      "100%|████████████████████████████████████████████| 1/1 [00:00<00:00,  4.83it/s]\u001b[A\n",
      "100%|████████████████████████████████████████████| 1/1 [00:00<00:00,  4.13it/s]\u001b[A\n",
      "100%|████████████████████████████████████████████| 1/1 [00:00<00:00,  3.78it/s]\u001b[A\n",
      "\n"
     ]
    },
    {
     "name": "stdout",
     "output_type": "stream",
     "text": [
      "Total files processed: 1"
     ]
    },
    {
     "name": "stderr",
     "output_type": "stream",
     "text": [
      "  0%|                                                  | 0/196 [00:00<?, ?it/s]"
     ]
    },
    {
     "name": "stdout",
     "output_type": "stream",
     "text": [
      "\n"
     ]
    },
    {
     "name": "stderr",
     "output_type": "stream",
     "text": [
      "100%|████████████████████████████████████████████| 1/1 [00:00<00:00,  3.41it/s]\n",
      "/w/hallb-scshelf2102/clas12/users/gmat/clas12/neutneut/analysis/neutron_ml/../../src/TrainData.py:84: FutureWarning: The default of observed=False is deprecated and will be changed to True in a future version of pandas. Pass observed=False to retain current behavior or observed=True to adopt the future default and silence this warning.\n",
      "  group_sizes = df.groupby(group_cols).size()\n",
      "\n"
     ]
    },
    {
     "name": "stdout",
     "output_type": "stream",
     "text": [
      "Total files processed: 1"
     ]
    },
    {
     "name": "stderr",
     "output_type": "stream",
     "text": [
      "100%|████████████████████████████████████████████| 1/1 [00:00<00:00,  6.83it/s]"
     ]
    },
    {
     "name": "stdout",
     "output_type": "stream",
     "text": [
      "\n"
     ]
    },
    {
     "name": "stderr",
     "output_type": "stream",
     "text": [
      "\u001b[A\n",
      "/w/hallb-scshelf2102/clas12/users/gmat/clas12/neutneut/analysis/neutron_ml/../../src/TrainData.py:84: FutureWarning: The default of observed=False is deprecated and will be changed to True in a future version of pandas. Pass observed=False to retain current behavior or observed=True to adopt the future default and silence this warning.\n",
      "  group_sizes = df.groupby(group_cols).size()\n",
      "  0%|                                                    | 0/1 [00:00<?, ?it/s]\u001b[A\n",
      "  0%|                                                    | 0/1 [00:00<?, ?it/s]\u001b[A\n",
      "100%|████████████████████████████████████████████| 1/1 [00:00<00:00,  2.50it/s]\u001b[A\n",
      "\n"
     ]
    },
    {
     "name": "stdout",
     "output_type": "stream",
     "text": [
      "Total files processed: 1\n"
     ]
    },
    {
     "name": "stderr",
     "output_type": "stream",
     "text": [
      "100%|████████████████████████████████████████████| 1/1 [00:00<00:00,  4.29it/s]\u001b[A\n",
      "/w/hallb-scshelf2102/clas12/users/gmat/clas12/neutneut/analysis/neutron_ml/../../src/TrainData.py:84: FutureWarning: The default of observed=False is deprecated and will be changed to True in a future version of pandas. Pass observed=False to retain current behavior or observed=True to adopt the future default and silence this warning.\n",
      "  group_sizes = df.groupby(group_cols).size()\n",
      "Processing CSV files:  21%|███▊              | 105/500 [00:07<00:14, 27.31it/s]"
     ]
    },
    {
     "name": "stdout",
     "output_type": "stream",
     "text": [
      "Total files processed: 1\n"
     ]
    },
    {
     "name": "stderr",
     "output_type": "stream",
     "text": [
      "100%|████████████████████████████████████████████| 1/1 [00:00<00:00,  3.70it/s]\n",
      "100%|████████████████████████████████████████████| 1/1 [00:00<00:00,  3.64it/s]\n"
     ]
    },
    {
     "name": "stdout",
     "output_type": "stream",
     "text": [
      "Total files processed: 1"
     ]
    },
    {
     "name": "stderr",
     "output_type": "stream",
     "text": [
      "\n"
     ]
    },
    {
     "name": "stdout",
     "output_type": "stream",
     "text": [
      "Total files processed: 1\n"
     ]
    },
    {
     "name": "stderr",
     "output_type": "stream",
     "text": [
      "100%|████████████████████████████████████████████| 1/1 [00:00<00:00,  5.46it/s]/w/hallb-scshelf2102/clas12/users/gmat/clas12/neutneut/analysis/neutron_ml/../../src/TrainData.py:84: FutureWarning: The default of observed=False is deprecated and will be changed to True in a future version of pandas. Pass observed=False to retain current behavior or observed=True to adopt the future default and silence this warning.\n",
      "  group_sizes = df.groupby(group_cols).size()\n"
     ]
    },
    {
     "name": "stdout",
     "output_type": "stream",
     "text": [
      "\n"
     ]
    },
    {
     "name": "stderr",
     "output_type": "stream",
     "text": [
      "\u001b[A/w/hallb-scshelf2102/clas12/users/gmat/clas12/neutneut/analysis/neutron_ml/../../src/TrainData.py:84: FutureWarning: The default of observed=False is deprecated and will be changed to True in a future version of pandas. Pass observed=False to retain current behavior or observed=True to adopt the future default and silence this warning.\n",
      "  group_sizes = df.groupby(group_cols).size()\n",
      "/w/hallb-scshelf2102/clas12/users/gmat/clas12/neutneut/analysis/neutron_ml/../../src/TrainData.py:84: FutureWarning: The default of observed=False is deprecated and will be changed to True in a future version of pandas. Pass observed=False to retain current behavior or observed=True to adopt the future default and silence this warning.\n",
      "  group_sizes = df.groupby(group_cols).size()\n",
      "100%|████████████████████████████████████████████| 1/1 [00:00<00:00,  2.36it/s]\n"
     ]
    },
    {
     "name": "stdout",
     "output_type": "stream",
     "text": [
      "Total files processed: 1\n"
     ]
    },
    {
     "name": "stderr",
     "output_type": "stream",
     "text": [
      "\n",
      " 23%|█████████▏                              | 46/199 [00:00<00:00, 451.09it/s]/w/hallb-scshelf2102/clas12/users/gmat/clas12/neutneut/analysis/neutron_ml/../../src/TrainData.py:84: FutureWarning: The default of observed=False is deprecated and will be changed to True in a future version of pandas. Pass observed=False to retain current behavior or observed=True to adopt the future default and silence this warning.\n",
      "  group_sizes = df.groupby(group_cols).size()\n",
      "\u001b[A\n",
      "100%|████████████████████████████████████████████| 1/1 [00:00<00:00,  2.99it/s]\u001b[A\n",
      "100%|████████████████████████████████████████████| 1/1 [00:00<00:00,  2.76it/s]"
     ]
    },
    {
     "name": "stdout",
     "output_type": "stream",
     "text": [
      "Total files processed: 1"
     ]
    },
    {
     "name": "stderr",
     "output_type": "stream",
     "text": [
      "\n"
     ]
    },
    {
     "name": "stdout",
     "output_type": "stream",
     "text": [
      "\n"
     ]
    },
    {
     "name": "stderr",
     "output_type": "stream",
     "text": [
      "100%|████████████████████████████████████████████| 1/1 [00:00<00:00,  3.03it/s]"
     ]
    },
    {
     "name": "stdout",
     "output_type": "stream",
     "text": [
      "Total files processed: 1\n"
     ]
    },
    {
     "name": "stderr",
     "output_type": "stream",
     "text": [
      "\n",
      "/w/hallb-scshelf2102/clas12/users/gmat/clas12/neutneut/analysis/neutron_ml/../../src/TrainData.py:84: FutureWarning: The default of observed=False is deprecated and will be changed to True in a future version of pandas. Pass observed=False to retain current behavior or observed=True to adopt the future default and silence this warning.\n",
      "  group_sizes = df.groupby(group_cols).size()\n",
      "\n"
     ]
    },
    {
     "name": "stdout",
     "output_type": "stream",
     "text": [
      "Total files processed: 1"
     ]
    },
    {
     "name": "stderr",
     "output_type": "stream",
     "text": [
      "/w/hallb-scshelf2102/clas12/users/gmat/clas12/neutneut/analysis/neutron_ml/../../src/TrainData.py:84: FutureWarning: The default of observed=False is deprecated and will be changed to True in a future version of pandas. Pass observed=False to retain current behavior or observed=True to adopt the future default and silence this warning.\n",
      "  group_sizes = df.groupby(group_cols).size()\n",
      " 36%|██████████████▌                         | 72/198 [00:00<00:00, 275.36it/s]"
     ]
    },
    {
     "name": "stdout",
     "output_type": "stream",
     "text": [
      "\n"
     ]
    },
    {
     "name": "stderr",
     "output_type": "stream",
     "text": [
      "100%|████████████████████████████████████████████| 1/1 [00:00<00:00,  2.74it/s]/w/hallb-scshelf2102/clas12/users/gmat/clas12/neutneut/analysis/neutron_ml/../../src/TrainData.py:84: FutureWarning: The default of observed=False is deprecated and will be changed to True in a future version of pandas. Pass observed=False to retain current behavior or observed=True to adopt the future default and silence this warning.\n",
      "  group_sizes = df.groupby(group_cols).size()\n",
      "\n",
      "100%|████████████████████████████████████████████| 1/1 [00:00<00:00,  3.61it/s]\n"
     ]
    },
    {
     "name": "stdout",
     "output_type": "stream",
     "text": [
      "Total files processed: 1Total files processed: 1\n"
     ]
    },
    {
     "name": "stderr",
     "output_type": "stream",
     "text": [
      "\n"
     ]
    },
    {
     "name": "stdout",
     "output_type": "stream",
     "text": [
      "\n"
     ]
    },
    {
     "name": "stderr",
     "output_type": "stream",
     "text": [
      "/w/hallb-scshelf2102/clas12/users/gmat/clas12/neutneut/analysis/neutron_ml/../../src/TrainData.py:84: FutureWarning: The default of observed=False is deprecated and will be changed to True in a future version of pandas. Pass observed=False to retain current behavior or observed=True to adopt the future default and silence this warning.\n",
      "  group_sizes = df.groupby(group_cols).size()\n",
      "/w/hallb-scshelf2102/clas12/users/gmat/clas12/neutneut/analysis/neutron_ml/../../src/TrainData.py:84: FutureWarning: The default of observed=False is deprecated and will be changed to True in a future version of pandas. Pass observed=False to retain current behavior or observed=True to adopt the future default and silence this warning.\n",
      "  group_sizes = df.groupby(group_cols).size()\n",
      "100%|████████████████████████████████████████████| 1/1 [00:00<00:00,  2.49it/s]\u001b[A\n",
      "\n"
     ]
    },
    {
     "name": "stdout",
     "output_type": "stream",
     "text": [
      "Total files processed: 1"
     ]
    },
    {
     "name": "stderr",
     "output_type": "stream",
     "text": [
      " 23%|█████████▍                              | 46/196 [00:00<00:00, 458.37it/s]"
     ]
    },
    {
     "name": "stdout",
     "output_type": "stream",
     "text": [
      "\n"
     ]
    },
    {
     "name": "stderr",
     "output_type": "stream",
     "text": [
      "\u001b[A\n",
      "  0%|                                                    | 0/1 [00:00<?, ?it/s]\u001b[A\n",
      "  0%|                                                  | 0/198 [00:00<?, ?it/s]\u001b[A\n",
      "/w/hallb-scshelf2102/clas12/users/gmat/clas12/neutneut/analysis/neutron_ml/../../src/TrainData.py:84: FutureWarning: The default of observed=False is deprecated and will be changed to True in a future version of pandas. Pass observed=False to retain current behavior or observed=True to adopt the future default and silence this warning.\n",
      "  group_sizes = df.groupby(group_cols).size()\n",
      "100%|████████████████████████████████████████████| 1/1 [00:00<00:00,  2.81it/s]\u001b[A\n",
      "\n"
     ]
    },
    {
     "name": "stdout",
     "output_type": "stream",
     "text": [
      "Total files processed: 1"
     ]
    },
    {
     "name": "stderr",
     "output_type": "stream",
     "text": [
      "100%|████████████████████████████████████████████| 1/1 [00:00<00:00,  6.19it/s]"
     ]
    },
    {
     "name": "stdout",
     "output_type": "stream",
     "text": [
      "\n"
     ]
    },
    {
     "name": "stderr",
     "output_type": "stream",
     "text": [
      "\u001b[A\n",
      " 18%|███████▎                                | 36/197 [00:00<00:00, 359.18it/s]/w/hallb-scshelf2102/clas12/users/gmat/clas12/neutneut/analysis/neutron_ml/../../src/TrainData.py:84: FutureWarning: The default of observed=False is deprecated and will be changed to True in a future version of pandas. Pass observed=False to retain current behavior or observed=True to adopt the future default and silence this warning.\n",
      "  group_sizes = df.groupby(group_cols).size()\n",
      "\u001b[A\n",
      " 20%|███████▉                                | 39/196 [00:00<00:00, 384.12it/s]\u001b[A\n",
      " 20%|████████▏                               | 40/196 [00:00<00:00, 396.20it/s]\u001b[A\n",
      "100%|████████████████████████████████████████████| 1/1 [00:00<00:00,  3.13it/s]\u001b[A\n"
     ]
    },
    {
     "name": "stdout",
     "output_type": "stream",
     "text": [
      "Total files processed: 1"
     ]
    },
    {
     "name": "stderr",
     "output_type": "stream",
     "text": [
      "\n"
     ]
    },
    {
     "name": "stdout",
     "output_type": "stream",
     "text": [
      "\n"
     ]
    },
    {
     "name": "stderr",
     "output_type": "stream",
     "text": [
      "  0%|                                                  | 0/197 [00:00<?, ?it/s]/w/hallb-scshelf2102/clas12/users/gmat/clas12/neutneut/analysis/neutron_ml/../../src/TrainData.py:84: FutureWarning: The default of observed=False is deprecated and will be changed to True in a future version of pandas. Pass observed=False to retain current behavior or observed=True to adopt the future default and silence this warning.\n",
      "  group_sizes = df.groupby(group_cols).size()\n",
      "\u001b[A\n",
      "  0%|                                                  | 0/199 [00:00<?, ?it/s]\u001b[A\n",
      "  0%|                                                  | 0/200 [00:00<?, ?it/s]\u001b[A\n",
      "100%|████████████████████████████████████████████| 1/1 [00:00<00:00,  5.22it/s]\u001b[A\n",
      "100%|████████████████████████████████████████████| 1/1 [00:00<00:00,  5.19it/s]\u001b[A\n",
      "100%|████████████████████████████████████████████| 1/1 [00:00<00:00,  5.94it/s]\u001b[A\n",
      "100%|████████████████████████████████████████████| 1/1 [00:00<00:00,  5.18it/s]\u001b[A\n",
      " 46%|██████████████████▍                     | 92/199 [00:00<00:00, 315.98it/s]\u001b[A\n",
      "  0%|                                                  | 0/196 [00:00<?, ?it/s]\u001b[A\n",
      "100%|████████████████████████████████████████████| 1/1 [00:00<00:00,  4.79it/s]\u001b[A\n",
      " 16%|██████▍                                 | 32/198 [00:00<00:00, 316.55it/s]\u001b[A\n",
      "100%|████████████████████████████████████████████| 1/1 [00:00<00:00,  5.49it/s]\u001b[A\n",
      "100%|████████████████████████████████████████████| 1/1 [00:00<00:00,  3.08it/s]\u001b[A\n",
      "\n"
     ]
    },
    {
     "name": "stdout",
     "output_type": "stream",
     "text": [
      "Total files processed: 1"
     ]
    },
    {
     "name": "stderr",
     "output_type": "stream",
     "text": [
      " 51%|███████████████████▉                   | 101/198 [00:00<00:00, 227.50it/s]"
     ]
    },
    {
     "name": "stdout",
     "output_type": "stream",
     "text": [
      "\n"
     ]
    },
    {
     "name": "stderr",
     "output_type": "stream",
     "text": [
      "100%|████████████████████████████████████████████| 1/1 [00:00<00:00,  3.23it/s]/w/hallb-scshelf2102/clas12/users/gmat/clas12/neutneut/analysis/neutron_ml/../../src/TrainData.py:84: FutureWarning: The default of observed=False is deprecated and will be changed to True in a future version of pandas. Pass observed=False to retain current behavior or observed=True to adopt the future default and silence this warning.\n",
      "  group_sizes = df.groupby(group_cols).size()\n",
      "\n"
     ]
    },
    {
     "name": "stdout",
     "output_type": "stream",
     "text": [
      "Total files processed: 1\n"
     ]
    },
    {
     "name": "stderr",
     "output_type": "stream",
     "text": [
      "\n",
      " 15%|█████▊                                  | 29/198 [00:00<00:00, 282.22it/s]/w/hallb-scshelf2102/clas12/users/gmat/clas12/neutneut/analysis/neutron_ml/../../src/TrainData.py:84: FutureWarning: The default of observed=False is deprecated and will be changed to True in a future version of pandas. Pass observed=False to retain current behavior or observed=True to adopt the future default and silence this warning.\n",
      "  group_sizes = df.groupby(group_cols).size()\n",
      "\u001b[A\n",
      "100%|████████████████████████████████████████████| 1/1 [00:00<00:00,  2.60it/s]\u001b[A\n"
     ]
    },
    {
     "name": "stdout",
     "output_type": "stream",
     "text": [
      "Total files processed: 1"
     ]
    },
    {
     "name": "stderr",
     "output_type": "stream",
     "text": [
      "\n"
     ]
    },
    {
     "name": "stdout",
     "output_type": "stream",
     "text": [
      "\n"
     ]
    },
    {
     "name": "stderr",
     "output_type": "stream",
     "text": [
      " 21%|████████▎                               | 41/198 [00:00<00:00, 408.17it/s]\u001b[A/w/hallb-scshelf2102/clas12/users/gmat/clas12/neutneut/analysis/neutron_ml/../../src/TrainData.py:84: FutureWarning: The default of observed=False is deprecated and will be changed to True in a future version of pandas. Pass observed=False to retain current behavior or observed=True to adopt the future default and silence this warning.\n",
      "  group_sizes = df.groupby(group_cols).size()\n",
      "\n",
      " 37%|██████████████▌                         | 72/197 [00:00<00:00, 256.56it/s]\u001b[A\n",
      "  0%|                                                  | 0/199 [00:00<?, ?it/s]\u001b[A\n",
      " 40%|███████████████▉                        | 78/196 [00:00<00:00, 271.44it/s]\u001b[A\n",
      "  0%|                                                  | 0/197 [00:00<?, ?it/s]\u001b[A\n",
      "  0%|                                                  | 0/194 [00:00<?, ?it/s]\u001b[A\n",
      " 40%|████████████████▏                       | 80/198 [00:00<00:00, 290.88it/s]\u001b[A\n",
      " 41%|████████████████▎                       | 80/196 [00:00<00:00, 285.14it/s]\u001b[A\n",
      "  0%|                                                  | 0/197 [00:00<?, ?it/s]\u001b[A\n",
      "  0%|                                                  | 0/196 [00:00<?, ?it/s]\u001b[A\n",
      " 21%|████████▏                               | 41/199 [00:00<00:00, 401.76it/s]\u001b[A\n",
      "100%|████████████████████████████████████████████| 1/1 [00:00<00:00,  2.52it/s]\u001b[A\n",
      "100%|████████████████████████████████████████████| 1/1 [00:00<00:00,  2.35it/s]"
     ]
    },
    {
     "name": "stdout",
     "output_type": "stream",
     "text": [
      "Total files processed: 1\n"
     ]
    },
    {
     "name": "stderr",
     "output_type": "stream",
     "text": [
      "/w/hallb-scshelf2102/clas12/users/gmat/clas12/neutneut/analysis/neutron_ml/../../src/TrainData.py:84: FutureWarning: The default of observed=False is deprecated and will be changed to True in a future version of pandas. Pass observed=False to retain current behavior or observed=True to adopt the future default and silence this warning.\n",
      "  group_sizes = df.groupby(group_cols).size()\n",
      "\n",
      "\n"
     ]
    },
    {
     "name": "stdout",
     "output_type": "stream",
     "text": [
      "Total files processed: 1\n"
     ]
    },
    {
     "name": "stderr",
     "output_type": "stream",
     "text": [
      "/w/hallb-scshelf2102/clas12/users/gmat/clas12/neutneut/analysis/neutron_ml/../../src/TrainData.py:84: FutureWarning: The default of observed=False is deprecated and will be changed to True in a future version of pandas. Pass observed=False to retain current behavior or observed=True to adopt the future default and silence this warning.\n",
      "  group_sizes = df.groupby(group_cols).size()\n",
      "  0%|                                                  | 0/198 [00:00<?, ?it/s]\u001b[A\n",
      " 63%|████████████████████████▋              | 126/199 [00:00<00:00, 268.69it/s]\u001b[A\n",
      " 63%|████████████████████████▌              | 125/198 [00:00<00:00, 182.04it/s]\u001b[A\n",
      "100%|████████████████████████████████████████████| 1/1 [00:00<00:00,  2.06it/s]\u001b[A\n",
      "\n"
     ]
    },
    {
     "name": "stdout",
     "output_type": "stream",
     "text": [
      "Total files processed: 1"
     ]
    },
    {
     "name": "stderr",
     "output_type": "stream",
     "text": [
      "  0%|                                                  | 0/199 [00:00<?, ?it/s]"
     ]
    },
    {
     "name": "stdout",
     "output_type": "stream",
     "text": [
      "\n"
     ]
    },
    {
     "name": "stderr",
     "output_type": "stream",
     "text": [
      "\u001b[A\n",
      "100%|████████████████████████████████████████████| 1/1 [00:00<00:00,  5.12it/s]\u001b[A/w/hallb-scshelf2102/clas12/users/gmat/clas12/neutneut/analysis/neutron_ml/../../src/TrainData.py:84: FutureWarning: The default of observed=False is deprecated and will be changed to True in a future version of pandas. Pass observed=False to retain current behavior or observed=True to adopt the future default and silence this warning.\n",
      "  group_sizes = df.groupby(group_cols).size()\n",
      "\n",
      " 22%|████████▉                               | 44/196 [00:00<00:00, 431.71it/s]\u001b[A\n",
      " 37%|██████████████▉                         | 74/198 [00:00<00:00, 373.94it/s]\u001b[A\n",
      " 65%|█████████████████████████▎             | 127/196 [00:00<00:00, 297.85it/s]\u001b[A\n",
      "100%|████████████████████████████████████████████| 1/1 [00:00<00:00,  1.83it/s]\u001b[A\n",
      "100%|████████████████████████████████████████████| 1/1 [00:00<00:00,  2.03it/s]"
     ]
    },
    {
     "name": "stdout",
     "output_type": "stream",
     "text": [
      "Total files processed: 1"
     ]
    },
    {
     "name": "stderr",
     "output_type": "stream",
     "text": [
      "\n"
     ]
    },
    {
     "name": "stdout",
     "output_type": "stream",
     "text": [
      "\n"
     ]
    },
    {
     "name": "stderr",
     "output_type": "stream",
     "text": [
      "\n"
     ]
    },
    {
     "name": "stdout",
     "output_type": "stream",
     "text": [
      "Total files processed: 1\n"
     ]
    },
    {
     "name": "stderr",
     "output_type": "stream",
     "text": [
      " 16%|██████▎                                 | 31/197 [00:00<00:00, 304.81it/s]/w/hallb-scshelf2102/clas12/users/gmat/clas12/neutneut/analysis/neutron_ml/../../src/TrainData.py:84: FutureWarning: The default of observed=False is deprecated and will be changed to True in a future version of pandas. Pass observed=False to retain current behavior or observed=True to adopt the future default and silence this warning.\n",
      "  group_sizes = df.groupby(group_cols).size()\n",
      "/w/hallb-scshelf2102/clas12/users/gmat/clas12/neutneut/analysis/neutron_ml/../../src/TrainData.py:84: FutureWarning: The default of observed=False is deprecated and will be changed to True in a future version of pandas. Pass observed=False to retain current behavior or observed=True to adopt the future default and silence this warning.\n",
      "  group_sizes = df.groupby(group_cols).size()\n",
      "\u001b[A\n",
      " 51%|███████████████████▊                   | 100/197 [00:00<00:00, 225.04it/s]\u001b[A\n",
      " 41%|████████████████▌                       | 82/198 [00:00<00:00, 303.19it/s]\u001b[A\n",
      " 55%|█████████████████████▍                 | 108/196 [00:00<00:00, 238.58it/s]\u001b[A\n",
      "  0%|                                                  | 0/198 [00:00<?, ?it/s]\u001b[A\n",
      " 56%|█████████████████████▊                 | 111/198 [00:00<00:00, 231.01it/s]\u001b[A\n",
      " 25%|██████████▏                             | 50/197 [00:00<00:00, 499.52it/s]\u001b[A\n",
      " 57%|██████████████████████                 | 111/196 [00:00<00:00, 226.33it/s]\u001b[A\n",
      " 22%|████████▊                               | 43/194 [00:00<00:00, 428.98it/s]\u001b[A\n",
      " 41%|████████████████▍                       | 82/200 [00:00<00:00, 287.86it/s]\u001b[A\n",
      " 28%|███████████▏                            | 55/197 [00:00<00:00, 548.90it/s]\u001b[A\n",
      " 41%|████████████████▍                       | 82/199 [00:00<00:00, 275.03it/s]\u001b[A\n",
      " 23%|█████████▏                              | 45/196 [00:00<00:00, 447.78it/s]\u001b[A\n",
      "  0%|                                                  | 0/198 [00:00<?, ?it/s]\u001b[A\n",
      " 73%|████████████████████████████▌          | 145/198 [00:00<00:00, 156.48it/s]\u001b[A\n",
      "  0%|                                                  | 0/196 [00:00<?, ?it/s]\u001b[A\n",
      " 78%|██████████████████████████████▍        | 155/199 [00:00<00:00, 218.49it/s]\u001b[A\n",
      " 25%|█████████▉                              | 49/198 [00:00<00:00, 488.87it/s]\u001b[A\n",
      "  0%|                                                  | 0/196 [00:00<?, ?it/s]\u001b[A\n",
      " 23%|█████████                               | 45/199 [00:00<00:00, 442.95it/s]\u001b[A\n",
      " 39%|███████████████▊                        | 78/198 [00:00<00:00, 150.56it/s]\u001b[A\n",
      "  0%|                                                  | 0/195 [00:00<?, ?it/s]\u001b[A\n",
      " 63%|████████████████████████▌              | 124/197 [00:00<00:00, 193.73it/s]\u001b[A\n",
      " 81%|███████████████████████████████▋       | 159/196 [00:00<00:00, 233.43it/s]\u001b[A\n",
      " 22%|████████▊                               | 43/196 [00:00<00:00, 421.95it/s]\u001b[A\n",
      "  0%|                                                  | 0/197 [00:00<?, ?it/s]\u001b[A\n",
      " 23%|█████████▏                              | 46/199 [00:00<00:00, 455.84it/s]\u001b[A\n",
      " 57%|██████████████████████                 | 112/198 [00:00<00:00, 251.21it/s]\u001b[A\n",
      " 68%|██████████████████████████▍            | 133/196 [00:00<00:00, 202.51it/s]\u001b[A\n",
      "  0%|                                                  | 0/196 [00:00<?, ?it/s]\u001b[A\n",
      "  0%|                                                  | 0/197 [00:00<?, ?it/s]\u001b[A\n",
      " 31%|████████████▌                           | 62/197 [00:00<00:00, 148.72it/s]\u001b[A\n",
      " 45%|█████████████████▉                      | 88/196 [00:00<00:00, 250.18it/s]\u001b[A\n",
      " 58%|██████████████████████▍                | 114/198 [00:00<00:00, 240.17it/s]\u001b[A\n",
      " 69%|██████████████████████████▊            | 136/198 [00:00<00:00, 208.55it/s]\u001b[A\n",
      " 69%|███████████████████████████            | 136/196 [00:00<00:00, 196.67it/s]\u001b[A\n",
      " 82%|███████████████████████████████▉       | 162/198 [00:00<00:00, 153.26it/s]\u001b[A\n",
      " 21%|████████▎                               | 41/198 [00:00<00:00, 409.51it/s]\u001b[A\n",
      " 56%|█████████████████████▉                 | 112/199 [00:00<00:00, 237.55it/s]\u001b[A\n",
      " 56%|██████████████████████                 | 113/200 [00:00<00:00, 239.84it/s]\u001b[A\n",
      "100%|████████████████████████████████████████████| 1/1 [00:00<00:00,  1.65it/s]\u001b[A\n"
     ]
    },
    {
     "name": "stdout",
     "output_type": "stream",
     "text": [
      "Total files processed: 1\n"
     ]
    },
    {
     "name": "stderr",
     "output_type": "stream",
     "text": [
      "/w/hallb-scshelf2102/clas12/users/gmat/clas12/neutneut/analysis/neutron_ml/../../src/TrainData.py:84: FutureWarning: The default of observed=False is deprecated and will be changed to True in a future version of pandas. Pass observed=False to retain current behavior or observed=True to adopt the future default and silence this warning.\n",
      "  group_sizes = df.groupby(group_cols).size()\n",
      "\n",
      " 90%|███████████████████████████████████    | 179/199 [00:00<00:00, 203.23it/s]\u001b[A\n",
      " 44%|█████████████████▋                      | 86/194 [00:00<00:00, 283.21it/s]\u001b[A\n",
      " 48%|███████████████████▏                    | 95/198 [00:00<00:00, 145.58it/s]\u001b[A\n",
      " 46%|██████████████████▎                     | 90/196 [00:00<00:00, 292.97it/s]\u001b[A\n",
      " 21%|████████▍                               | 42/198 [00:00<00:00, 416.27it/s]\u001b[A\n",
      " 56%|█████████████████████▊                 | 110/197 [00:00<00:00, 345.27it/s]\u001b[A\n",
      " 24%|█████████▌                              | 47/196 [00:00<00:00, 468.95it/s]\u001b[A\n",
      " 74%|████████████████████████████▋          | 145/197 [00:00<00:00, 181.28it/s]\u001b[A\n",
      " 21%|████████▎                               | 41/196 [00:00<00:00, 404.53it/s]\u001b[A\n",
      " 49%|███████████████████▊                    | 98/198 [00:00<00:00, 335.95it/s]\u001b[A\n",
      " 94%|████████████████████████████████████▊  | 185/196 [00:00<00:00, 217.53it/s]\u001b[A\n",
      "  0%|                                                  | 0/195 [00:00<?, ?it/s]\u001b[A\n",
      "  0%|                                                  | 0/197 [00:00<?, ?it/s]\u001b[A\n",
      " 45%|██████████████████                      | 90/199 [00:00<00:00, 224.15it/s]\u001b[A\n",
      "  0%|                                                  | 0/199 [00:00<?, ?it/s]\u001b[A\n",
      "  0%|                                                  | 0/194 [00:00<?, ?it/s]\u001b[A\n",
      " 25%|█████████▊                              | 48/195 [00:00<00:00, 471.90it/s]\u001b[A\n",
      " 79%|██████████████████████████████▊        | 155/196 [00:00<00:00, 178.15it/s]\u001b[A\n",
      " 41%|████████████████▍                       | 81/197 [00:00<00:00, 137.16it/s]\u001b[A\n",
      " 71%|███████████████████████████▊           | 141/198 [00:00<00:00, 218.64it/s]\u001b[A\n",
      " 44%|█████████████████▌                      | 86/196 [00:00<00:00, 293.04it/s]\u001b[A\n",
      " 90%|███████████████████████████████████    | 178/198 [00:01<00:00, 145.64it/s]\u001b[A\n",
      " 23%|█████████▏                              | 45/197 [00:00<00:00, 443.37it/s]\u001b[A\n",
      " 80%|███████████████████████████████        | 158/198 [00:00<00:00, 179.29it/s]\u001b[A\n",
      " 80%|███████████████████████████████▏       | 157/196 [00:00<00:00, 179.33it/s]\u001b[A\n",
      " 71%|███████████████████████████▌           | 140/198 [00:00<00:00, 196.94it/s]\u001b[A\n",
      " 60%|███████████████████████▍               | 118/196 [00:00<00:00, 207.01it/s]\u001b[A\n",
      " 46%|██████████████████▍                     | 92/199 [00:00<00:00, 281.25it/s]\u001b[A\n",
      " 24%|█████████▊                              | 48/196 [00:00<00:00, 478.61it/s]\u001b[A\n",
      " 24%|█████████▌                              | 47/197 [00:00<00:00, 466.16it/s]\u001b[A\n",
      " 69%|███████████████████████████            | 138/199 [00:00<00:00, 204.31it/s]\u001b[A\n",
      " 70%|███████████████████████████            | 139/200 [00:00<00:00, 203.77it/s]\u001b[A\n",
      " 56%|█████████████████████▊                 | 111/198 [00:00<00:00, 129.48it/s]\u001b[A\n",
      " 41%|████████████████▌                       | 82/198 [00:00<00:00, 265.41it/s]\u001b[A\n",
      " 69%|██████████████████████████▉            | 136/197 [00:00<00:00, 257.34it/s]\u001b[A\n",
      " 83%|████████████████████████████████▍      | 164/197 [00:00<00:00, 164.76it/s]\u001b[A\n",
      " 61%|███████████████████████▋               | 118/194 [00:00<00:00, 224.38it/s]\u001b[A\n",
      " 63%|████████████████████████▍              | 123/196 [00:00<00:00, 238.21it/s]\u001b[A\n",
      " 76%|█████████████████████████████▍         | 149/197 [00:00<00:00, 278.70it/s]\u001b[A\n",
      " 68%|██████████████████████████▌            | 135/198 [00:00<00:00, 276.63it/s]\u001b[A\n",
      " 89%|██████████████████████████████████▌    | 174/196 [00:00<00:00, 163.92it/s]\u001b[A\n",
      " 42%|████████████████▉                       | 84/198 [00:00<00:00, 262.15it/s]\u001b[A\n",
      " 42%|████████████████▋                       | 82/196 [00:00<00:00, 264.03it/s]\u001b[A\n",
      " 60%|███████████████████████▎               | 119/199 [00:00<00:00, 196.30it/s]\u001b[A\n",
      " 48%|███████████████████▏                    | 94/196 [00:00<00:00, 282.50it/s]\u001b[A\n",
      " 49%|███████████████████▋                    | 97/197 [00:00<00:00, 122.30it/s]\u001b[A\n",
      " 26%|██████████▎                             | 50/195 [00:00<00:00, 498.88it/s]\u001b[A\n",
      " 97%|██████████████████████████████████████ | 193/198 [00:01<00:00, 126.34it/s]\u001b[A\n",
      " 21%|████████▌                               | 42/197 [00:00<00:00, 416.40it/s]\u001b[A\n",
      " 84%|████████████████████████████████▋      | 166/198 [00:00<00:00, 185.41it/s]\u001b[A\n",
      " 89%|██████████████████████████████████▊    | 177/198 [00:01<00:00, 155.37it/s]\u001b[A\n",
      " 22%|████████▋                               | 43/199 [00:00<00:00, 425.33it/s]\u001b[A\n",
      " 90%|███████████████████████████████████    | 176/196 [00:01<00:00, 153.94it/s]\u001b[A\n",
      "100%|███████████████████████████████████████| 199/199 [00:01<00:00, 174.76it/s]\u001b[A\n",
      "100%|███████████████████████████████████████| 196/196 [00:01<00:00, 183.07it/s]\n",
      "\n",
      " 49%|███████████████████▋                    | 96/195 [00:00<00:00, 286.33it/s]\u001b[A\n",
      " 60%|███████████████████████▍               | 118/196 [00:00<00:00, 219.90it/s]\u001b[A\n",
      " 82%|███████████████████████████████▉       | 162/198 [00:00<00:00, 168.86it/s]\u001b[A\n",
      " 72%|████████████████████████████▎          | 142/196 [00:00<00:00, 176.23it/s]\u001b[A\n",
      " 63%|████████████████████████▌              | 125/198 [00:00<00:00, 116.79it/s]\u001b[A\n",
      " 80%|███████████████████████████████▎       | 160/199 [00:00<00:00, 175.82it/s]\u001b[A\n",
      " 46%|██████████████████▎                     | 90/197 [00:00<00:00, 267.33it/s]\u001b[A\n",
      " 62%|████████████████████████▎              | 124/199 [00:00<00:00, 219.04it/s]\u001b[A\n",
      " 80%|███████████████████████████████▍       | 161/200 [00:00<00:00, 172.62it/s]\u001b[A\n",
      " 92%|███████████████████████████████████▊   | 181/197 [00:01<00:00, 147.33it/s]\u001b[A\n",
      " 74%|████████████████████████████▋          | 143/194 [00:00<00:00, 202.52it/s]\u001b[A\n",
      " 49%|███████████████████▌                    | 96/196 [00:00<00:00, 280.71it/s]\u001b[A\n",
      " 57%|██████████████████████                 | 112/198 [00:00<00:00, 213.97it/s]\u001b[A\n",
      " 84%|████████████████████████████████▋      | 165/197 [00:00<00:00, 217.70it/s]\u001b[A\n",
      " 97%|██████████████████████████████████████ | 191/196 [00:01<00:00, 153.15it/s]\u001b[A\n",
      " 76%|█████████████████████████████▋         | 149/196 [00:00<00:00, 211.33it/s]\u001b[A\n",
      " 48%|███████████████████                     | 94/197 [00:00<00:00, 272.62it/s]\u001b[A\n",
      " 90%|███████████████████████████████████    | 180/200 [00:00<00:00, 161.74it/s]\u001b[A\n",
      " 91%|███████████████████████████████████▋   | 180/197 [00:00<00:00, 245.89it/s]\u001b[A\n",
      " 83%|████████████████████████████████▌      | 165/198 [00:00<00:00, 241.86it/s]\u001b[A\n",
      " 56%|█████████████████████▉                 | 111/197 [00:00<00:00, 118.37it/s]\u001b[A\n",
      " 58%|██████████████████████▍                | 114/198 [00:00<00:00, 233.90it/s]\u001b[A\n",
      " 71%|███████████████████████████▊           | 142/199 [00:00<00:00, 180.52it/s]\u001b[A\n",
      " 57%|██████████████████████▎                | 112/196 [00:00<00:00, 227.79it/s]\u001b[A\n",
      " 98%|██████████████████████████████████████▏| 194/198 [00:01<00:00, 147.01it/s]\u001b[A\n",
      " 98%|██████████████████████████████████████▏| 192/196 [00:01<00:00, 144.77it/s]\u001b[A\n",
      " 94%|████████████████████████████████████▊  | 187/198 [00:00<00:00, 174.02it/s]\u001b[A\n",
      " 65%|█████████████████████████▎             | 127/196 [00:00<00:00, 239.69it/s]\u001b[A\n",
      " 69%|██████████████████████████▉            | 137/198 [00:01<00:00, 113.76it/s]\u001b[A\n",
      " 91%|███████████████████████████████████▍   | 180/198 [00:01<00:00, 155.30it/s]\u001b[A\n",
      " 63%|████████████████████████▌              | 124/197 [00:00<00:00, 110.65it/s]\u001b[A\n",
      " 90%|███████████████████████████████████    | 179/199 [00:00<00:00, 166.67it/s]\u001b[A\n",
      " 43%|█████████████████                       | 84/197 [00:00<00:00, 286.32it/s]\u001b[A\n",
      " 83%|████████████████████████████████▏      | 162/196 [00:00<00:00, 161.63it/s]\u001b[A\n",
      " 66%|█████████████████████████▊             | 129/195 [00:00<00:00, 248.53it/s]\u001b[A\n",
      " 43%|█████████████████▎                      | 86/199 [00:00<00:00, 290.12it/s]\u001b[A\n",
      " 51%|████████████████████                   | 100/195 [00:00<00:00, 307.37it/s]\u001b[A\n",
      " 45%|██████████████████▏                     | 88/194 [00:00<00:00, 287.06it/s]\u001b[A\n",
      "100%|███████████████████████████████████████| 196/196 [00:01<00:00, 161.12it/s]\u001b[A\n",
      "\n",
      " 61%|███████████████████████▉               | 121/197 [00:00<00:00, 234.65it/s]\u001b[A\n",
      " 99%|██████████████████████████████████████▊| 196/197 [00:01<00:00, 133.40it/s]\u001b[A\n",
      " 75%|█████████████████████████████▏         | 149/199 [00:00<00:00, 197.56it/s]\u001b[A\n",
      " 85%|█████████████████████████████████▏     | 165/194 [00:00<00:00, 184.44it/s]\u001b[A\n",
      " 69%|██████████████████████████▊            | 136/198 [00:00<00:00, 193.73it/s]\u001b[A\n",
      " 96%|█████████████████████████████████████▍ | 189/197 [00:00<00:00, 197.61it/s]\u001b[A\n",
      " 88%|██████████████████████████████████▏    | 172/196 [00:00<00:00, 187.74it/s]\u001b[A\n",
      " 73%|████████████████████████████▍          | 143/196 [00:00<00:00, 199.08it/s]\u001b[A\n",
      "100%|███████████████████████████████████████| 198/198 [00:01<00:00, 181.01it/s]\u001b[A\n",
      "\n",
      " 96%|█████████████████████████████████████▌ | 191/198 [00:00<00:00, 212.15it/s]\u001b[A\n",
      " 81%|███████████████████████████████▋       | 162/199 [00:00<00:00, 166.40it/s]\u001b[A\n",
      "100%|███████████████████████████████████████| 198/198 [00:01<00:00, 128.14it/s]\u001b[A\n",
      "\n",
      " 71%|███████████████████████████▌           | 140/198 [00:00<00:00, 198.54it/s]\u001b[A\n",
      " 99%|██████████████████████████████████████▊| 197/198 [00:01<00:00, 153.19it/s]\u001b[A\n",
      " 70%|███████████████████████████▎           | 137/196 [00:00<00:00, 202.51it/s]\u001b[A\n",
      " 99%|██████████████████████████████████████▌| 197/199 [00:01<00:00, 164.29it/s]\u001b[A\n",
      "100%|███████████████████████████████████████| 198/198 [00:01<00:00, 154.49it/s]\u001b[A\n",
      "100%|███████████████████████████████████████| 196/196 [00:01<00:00, 152.15it/s]\n",
      "100%|███████████████████████████████████████| 197/197 [00:00<00:00, 216.06it/s]\n",
      "\n",
      "100%|███████████████████████████████████████| 200/200 [00:01<00:00, 182.48it/s]\u001b[A\n",
      "\n",
      " 80%|███████████████████████████████▏       | 156/195 [00:00<00:00, 228.19it/s]\u001b[A\n",
      " 64%|████████████████████████▉              | 126/197 [00:00<00:00, 229.82it/s]\u001b[A\n",
      " 58%|██████████████████████▊                | 115/197 [00:00<00:00, 244.01it/s]\u001b[A\n",
      " 95%|█████████████████████████████████████▏ | 185/194 [00:00<00:00, 181.64it/s]\u001b[A\n",
      " 59%|███████████████████████▏               | 118/199 [00:00<00:00, 250.53it/s]\u001b[A\n",
      " 86%|█████████████████████████████████▌     | 171/199 [00:00<00:00, 186.55it/s]\u001b[A\n",
      " 75%|█████████████████████████████          | 147/197 [00:00<00:00, 218.18it/s]\u001b[A\n",
      " 83%|████████████████████████████████▍      | 164/197 [00:01<00:00, 179.85it/s]\u001b[A\n",
      " 62%|████████████████████████               | 120/194 [00:00<00:00, 254.95it/s]\u001b[A\n",
      " 79%|██████████████████████████████▉        | 157/198 [00:00<00:00, 190.81it/s]\u001b[A\n",
      " 69%|███████████████████████████            | 135/195 [00:00<00:00, 269.06it/s]\u001b[A\n",
      "100%|███████████████████████████████████████| 197/197 [00:01<00:00, 141.31it/s]\u001b[A\n",
      "\n",
      " 84%|████████████████████████████████▊      | 165/196 [00:00<00:00, 164.49it/s]\u001b[A\n",
      "  0%|                                                    | 0/1 [00:00<?, ?it/s]\u001b[A\n",
      " 81%|███████████████████████████████▋       | 161/198 [00:01<00:00, 112.83it/s]\u001b[A\n",
      "100%|███████████████████████████████████████| 197/197 [00:01<00:00, 188.73it/s]\u001b[A\n",
      "\n",
      " 80%|███████████████████████████████        | 156/196 [00:00<00:00, 228.42it/s]\u001b[A\n",
      " 90%|███████████████████████████████████▎   | 180/199 [00:01<00:00, 161.07it/s]\u001b[A\n",
      " 82%|███████████████████████████████▉       | 162/198 [00:00<00:00, 194.28it/s]\u001b[A\n",
      " 81%|███████████████████████████████▋       | 159/196 [00:00<00:00, 195.38it/s]\u001b[A\n",
      "100%|███████████████████████████████████████| 194/194 [00:01<00:00, 186.93it/s]\u001b[A\n",
      "\n",
      " 92%|████████████████████████████████████   | 180/195 [00:00<00:00, 223.24it/s]\u001b[A\n",
      " 77%|██████████████████████████████         | 152/197 [00:00<00:00, 197.13it/s]\u001b[A\n",
      " 72%|███████████████████████████▉           | 141/197 [00:00<00:00, 242.65it/s]\u001b[A\n",
      "100%|███████████████████████████████████████| 198/198 [00:01<00:00, 154.02it/s]\u001b[A\n",
      "100%|███████████████████████████████████████| 198/198 [00:01<00:00, 195.07it/s]\n",
      "\n",
      "100%|███████████████████████████████████████| 199/199 [00:01<00:00, 158.12it/s]\u001b[A\n",
      "\n",
      " 96%|█████████████████████████████████████▍ | 191/199 [00:00<00:00, 180.20it/s]\u001b[A\n",
      " 94%|████████████████████████████████████▌  | 185/197 [00:01<00:00, 174.49it/s]\u001b[A\n",
      " 86%|█████████████████████████████████▋     | 170/197 [00:00<00:00, 204.28it/s]\u001b[A\n",
      " 89%|██████████████████████████████████▊    | 177/198 [00:00<00:00, 179.43it/s]\u001b[A\n",
      " 91%|███████████████████████████████████▍   | 178/196 [00:00<00:00, 214.24it/s]\u001b[A\n",
      " 76%|█████████████████████████████▊         | 148/194 [00:00<00:00, 234.23it/s]\u001b[A\n",
      " 87%|██████████████████████████████████     | 173/198 [00:01<00:00, 109.61it/s]\u001b[A\n",
      "Processing CSV files:  22%|███▉              | 111/500 [00:08<00:36, 10.70it/s]\u001b[A\n",
      " 99%|██████████████████████████████████████▌| 197/199 [00:01<00:00, 154.47it/s]\u001b[A\n",
      " 85%|█████████████████████████████████      | 165/195 [00:00<00:00, 233.73it/s]\u001b[A\n",
      " 91%|███████████████████████████████████▌   | 179/196 [00:00<00:00, 187.16it/s]\u001b[A\n",
      " 92%|████████████████████████████████████   | 183/198 [00:00<00:00, 185.47it/s]\u001b[A\n",
      "100%|███████████████████████████████████████| 196/196 [00:01<00:00, 173.51it/s]\u001b[A\n",
      "\n",
      " 88%|██████████████████████████████████▍    | 174/197 [00:00<00:00, 197.95it/s]\u001b[A\n",
      " 44%|█████████████████▍                      | 86/197 [00:00<00:00, 295.03it/s]\u001b[A\n",
      " 85%|█████████████████████████████████      | 167/197 [00:00<00:00, 235.66it/s]\u001b[A\n",
      "100%|███████████████████████████████████████| 196/196 [00:01<00:00, 151.36it/s]\u001b[A\n",
      "\n",
      "  0%|                                                    | 0/1 [00:00<?, ?it/s]\u001b[A\n",
      " 99%|██████████████████████████████████████▌| 196/198 [00:01<00:00, 178.20it/s]\u001b[A\n",
      "100%|███████████████████████████████████████| 195/195 [00:00<00:00, 209.97it/s]\u001b[A\n",
      "\n",
      "100%|███████████████████████████████████████| 199/199 [00:01<00:00, 181.52it/s]\u001b[A\n",
      "\n",
      "  0%|                                                    | 0/1 [00:00<?, ?it/s]\u001b[A\n",
      "100%|███████████████████████████████████████| 197/197 [00:01<00:00, 142.78it/s]\u001b[A\n",
      "\n",
      " 89%|██████████████████████████████████▊    | 173/194 [00:00<00:00, 217.43it/s]\u001b[A\n",
      "  0%|                                                    | 0/1 [00:00<?, ?it/s]\u001b[A\n",
      "  0%|                                                    | 0/1 [00:00<?, ?it/s]\u001b[A\n",
      "  0%|                                                    | 0/1 [00:00<?, ?it/s]\u001b[A\n",
      "100%|███████████████████████████████████████| 199/199 [00:01<00:00, 159.24it/s]\u001b[A\n",
      "\n",
      "  0%|                                                    | 0/1 [00:00<?, ?it/s]\u001b[A\n",
      "100%|███████████████████████████████████████| 198/198 [00:01<00:00, 185.74it/s]\u001b[A\n",
      "100%|███████████████████████████████████████| 196/196 [00:01<00:00, 172.11it/s]\n",
      "100%|███████████████████████████████████████| 196/196 [00:01<00:00, 193.11it/s]\n",
      "Processing CSV files:  23%|████▏             | 116/500 [00:08<00:29, 13.22it/s]\n",
      "100%|███████████████████████████████████████| 196/196 [00:01<00:00, 194.10it/s]\u001b[A\n",
      "\n",
      "100%|███████████████████████████████████████| 198/198 [00:01<00:00, 189.28it/s]\u001b[A\n",
      "100%|███████████████████████████████████████| 196/196 [00:00<00:00, 208.32it/s]\n",
      "\n",
      " 97%|██████████████████████████████████████ | 190/195 [00:00<00:00, 225.72it/s]\u001b[A\n",
      " 60%|███████████████████████▎               | 118/197 [00:00<00:00, 284.80it/s]\u001b[A\n",
      "100%|███████████████████████████████████████| 197/197 [00:00<00:00, 199.87it/s]\u001b[A\n",
      "100%|████████████████████████████████████████████| 1/1 [00:00<00:00,  3.88it/s]\n"
     ]
    },
    {
     "name": "stdout",
     "output_type": "stream",
     "text": [
      "Total files processed: 1"
     ]
    },
    {
     "name": "stderr",
     "output_type": "stream",
     "text": [
      "\n"
     ]
    },
    {
     "name": "stdout",
     "output_type": "stream",
     "text": [
      "\n"
     ]
    },
    {
     "name": "stderr",
     "output_type": "stream",
     "text": [
      "100%|███████████████████████████████████████| 197/197 [00:00<00:00, 205.10it/s]\u001b[A/w/hallb-scshelf2102/clas12/users/gmat/clas12/neutneut/analysis/neutron_ml/../../src/TrainData.py:84: FutureWarning: The default of observed=False is deprecated and will be changed to True in a future version of pandas. Pass observed=False to retain current behavior or observed=True to adopt the future default and silence this warning.\n",
      "  group_sizes = df.groupby(group_cols).size()\n",
      "\n",
      "  0%|                                                    | 0/1 [00:00<?, ?it/s]\u001b[A\n",
      "100%|███████████████████████████████████████| 198/198 [00:01<00:00, 120.17it/s]\u001b[A\n",
      "100%|███████████████████████████████████████| 195/195 [00:00<00:00, 216.70it/s]\n",
      "100%|███████████████████████████████████████| 197/197 [00:00<00:00, 221.02it/s]\n",
      "\n",
      "100%|████████████████████████████████████████████| 1/1 [00:00<00:00,  3.43it/s]\u001b[A\n"
     ]
    },
    {
     "name": "stdout",
     "output_type": "stream",
     "text": [
      "Total files processed: 1"
     ]
    },
    {
     "name": "stderr",
     "output_type": "stream",
     "text": [
      "100%|███████████████████████████████████████| 194/194 [00:00<00:00, 211.69it/s]"
     ]
    },
    {
     "name": "stdout",
     "output_type": "stream",
     "text": [
      "\n"
     ]
    },
    {
     "name": "stderr",
     "output_type": "stream",
     "text": [
      "\n",
      "\n",
      "  0%|                                                    | 0/1 [00:00<?, ?it/s]/w/hallb-scshelf2102/clas12/users/gmat/clas12/neutneut/analysis/neutron_ml/../../src/TrainData.py:84: FutureWarning: The default of observed=False is deprecated and will be changed to True in a future version of pandas. Pass observed=False to retain current behavior or observed=True to adopt the future default and silence this warning.\n",
      "  group_sizes = df.groupby(group_cols).size()\n",
      "100%|███████████████████████████████████████| 199/199 [00:00<00:00, 213.58it/s]\n",
      "\n",
      "100%|████████████████████████████████████████████| 1/1 [00:00<00:00,  5.30it/s]\u001b[A\n",
      "100%|████████████████████████████████████████████| 1/1 [00:00<00:00,  5.98it/s]\u001b[A\n",
      "  0%|                                                    | 0/1 [00:00<?, ?it/s]\u001b[A\n",
      "100%|████████████████████████████████████████████| 1/1 [00:00<00:00,  6.07it/s]\u001b[A\n",
      "100%|███████████████████████████████████████| 197/197 [00:01<00:00, 179.86it/s]\u001b[A\n",
      "\n",
      "100%|████████████████████████████████████████████| 1/1 [00:00<00:00,  5.16it/s]\u001b[A\n",
      "  0%|                                                  | 0/199 [00:00<?, ?it/s]\u001b[A\n",
      "  0%|                                                    | 0/1 [00:00<?, ?it/s]\u001b[A\n",
      "  0%|                                                    | 0/1 [00:00<?, ?it/s]\u001b[A\n",
      "100%|████████████████████████████████████████████| 1/1 [00:00<00:00,  4.65it/s]\u001b[A\n"
     ]
    },
    {
     "name": "stdout",
     "output_type": "stream",
     "text": [
      "Total files processed: 1"
     ]
    },
    {
     "name": "stderr",
     "output_type": "stream",
     "text": [
      "100%|████████████████████████████████████████████| 1/1 [00:00<00:00,  4.11it/s]\n"
     ]
    },
    {
     "name": "stdout",
     "output_type": "stream",
     "text": [
      "Total files processed: 1"
     ]
    },
    {
     "name": "stderr",
     "output_type": "stream",
     "text": [
      "\n"
     ]
    },
    {
     "name": "stdout",
     "output_type": "stream",
     "text": [
      "\n"
     ]
    },
    {
     "name": "stderr",
     "output_type": "stream",
     "text": [
      "100%|████████████████████████████████████████████| 1/1 [00:00<00:00,  3.73it/s]\u001b[A"
     ]
    },
    {
     "name": "stdout",
     "output_type": "stream",
     "text": [
      "\n"
     ]
    },
    {
     "name": "stderr",
     "output_type": "stream",
     "text": [
      "\n",
      "\n",
      "/w/hallb-scshelf2102/clas12/users/gmat/clas12/neutneut/analysis/neutron_ml/../../src/TrainData.py:84: FutureWarning: The default of observed=False is deprecated and will be changed to True in a future version of pandas. Pass observed=False to retain current behavior or observed=True to adopt the future default and silence this warning.\n",
      "  group_sizes = df.groupby(group_cols).size()\n"
     ]
    },
    {
     "name": "stdout",
     "output_type": "stream",
     "text": [
      "Total files processed: 1"
     ]
    },
    {
     "name": "stderr",
     "output_type": "stream",
     "text": [
      "  0%|                                                    | 0/1 [00:00<?, ?it/s]"
     ]
    },
    {
     "name": "stdout",
     "output_type": "stream",
     "text": [
      "\n"
     ]
    },
    {
     "name": "stderr",
     "output_type": "stream",
     "text": [
      "100%|████████████████████████████████████████████| 1/1 [00:00<00:00,  4.16it/s]/w/hallb-scshelf2102/clas12/users/gmat/clas12/neutneut/analysis/neutron_ml/../../src/TrainData.py:84: FutureWarning: The default of observed=False is deprecated and will be changed to True in a future version of pandas. Pass observed=False to retain current behavior or observed=True to adopt the future default and silence this warning.\n",
      "  group_sizes = df.groupby(group_cols).size()\n",
      "\n",
      "\n",
      "/w/hallb-scshelf2102/clas12/users/gmat/clas12/neutneut/analysis/neutron_ml/../../src/TrainData.py:84: FutureWarning: The default of observed=False is deprecated and will be changed to True in a future version of pandas. Pass observed=False to retain current behavior or observed=True to adopt the future default and silence this warning.\n",
      "  group_sizes = df.groupby(group_cols).size()\n"
     ]
    },
    {
     "name": "stdout",
     "output_type": "stream",
     "text": [
      "Total files processed: 1"
     ]
    },
    {
     "name": "stderr",
     "output_type": "stream",
     "text": [
      "  0%|                                                    | 0/1 [00:00<?, ?it/s]"
     ]
    },
    {
     "name": "stdout",
     "output_type": "stream",
     "text": [
      "\n"
     ]
    },
    {
     "name": "stderr",
     "output_type": "stream",
     "text": [
      "\u001b[A\n",
      "/w/hallb-scshelf2102/clas12/users/gmat/clas12/neutneut/analysis/neutron_ml/../../src/TrainData.py:84: FutureWarning: The default of observed=False is deprecated and will be changed to True in a future version of pandas. Pass observed=False to retain current behavior or observed=True to adopt the future default and silence this warning.\n",
      "  group_sizes = df.groupby(group_cols).size()\n",
      "100%|████████████████████████████████████████████| 1/1 [00:00<00:00,  5.02it/s]\u001b[A\n",
      "  0%|                                                    | 0/1 [00:00<?, ?it/s]\u001b[A\n",
      " 90%|███████████████████████████████████▏   | 178/197 [00:00<00:00, 274.09it/s]\u001b[A\n",
      "100%|████████████████████████████████████████████| 1/1 [00:00<00:00,  3.82it/s]\u001b[A\n",
      "\n"
     ]
    },
    {
     "name": "stdout",
     "output_type": "stream",
     "text": [
      "Total files processed: 1\n"
     ]
    },
    {
     "name": "stderr",
     "output_type": "stream",
     "text": [
      "100%|████████████████████████████████████████████| 1/1 [00:00<00:00,  5.35it/s]\u001b[A\n",
      "/w/hallb-scshelf2102/clas12/users/gmat/clas12/neutneut/analysis/neutron_ml/../../src/TrainData.py:84: FutureWarning: The default of observed=False is deprecated and will be changed to True in a future version of pandas. Pass observed=False to retain current behavior or observed=True to adopt the future default and silence this warning.\n",
      "  group_sizes = df.groupby(group_cols).size()\n",
      "  0%|                                                    | 0/1 [00:00<?, ?it/s]\u001b[A\n",
      "100%|████████████████████████████████████████████| 1/1 [00:00<00:00,  5.64it/s]\u001b[A\n",
      "  0%|                                                    | 0/1 [00:00<?, ?it/s]\u001b[A\n",
      "  0%|                                                    | 0/1 [00:00<?, ?it/s]\u001b[A\n",
      "100%|████████████████████████████████████████████| 1/1 [00:00<00:00,  3.51it/s]\u001b[A\n",
      "\n"
     ]
    },
    {
     "name": "stdout",
     "output_type": "stream",
     "text": [
      "Total files processed: 1\n"
     ]
    },
    {
     "name": "stderr",
     "output_type": "stream",
     "text": [
      "  0%|                                                    | 0/1 [00:00<?, ?it/s]\u001b[A\n",
      "/w/hallb-scshelf2102/clas12/users/gmat/clas12/neutneut/analysis/neutron_ml/../../src/TrainData.py:84: FutureWarning: The default of observed=False is deprecated and will be changed to True in a future version of pandas. Pass observed=False to retain current behavior or observed=True to adopt the future default and silence this warning.\n",
      "  group_sizes = df.groupby(group_cols).size()\n",
      "  0%|                                                    | 0/1 [00:00<?, ?it/s]\u001b[A\n",
      "  0%|                                                    | 0/1 [00:00<?, ?it/s]\u001b[A\n",
      "100%|████████████████████████████████████████████| 1/1 [00:00<00:00,  3.56it/s]\u001b[A\n",
      "100%|████████████████████████████████████████████| 1/1 [00:00<00:00,  3.91it/s]"
     ]
    },
    {
     "name": "stdout",
     "output_type": "stream",
     "text": [
      "Total files processed: 1"
     ]
    },
    {
     "name": "stderr",
     "output_type": "stream",
     "text": [
      "\n"
     ]
    },
    {
     "name": "stdout",
     "output_type": "stream",
     "text": [
      "\n"
     ]
    },
    {
     "name": "stderr",
     "output_type": "stream",
     "text": [
      "100%|████████████████████████████████████████████| 1/1 [00:00<00:00,  4.50it/s]"
     ]
    },
    {
     "name": "stdout",
     "output_type": "stream",
     "text": [
      "Total files processed: 1"
     ]
    },
    {
     "name": "stderr",
     "output_type": "stream",
     "text": [
      "\n"
     ]
    },
    {
     "name": "stdout",
     "output_type": "stream",
     "text": [
      "\n"
     ]
    },
    {
     "name": "stderr",
     "output_type": "stream",
     "text": [
      "\n"
     ]
    },
    {
     "name": "stdout",
     "output_type": "stream",
     "text": [
      "Total files processed: 1"
     ]
    },
    {
     "name": "stderr",
     "output_type": "stream",
     "text": [
      "/w/hallb-scshelf2102/clas12/users/gmat/clas12/neutneut/analysis/neutron_ml/../../src/TrainData.py:84: FutureWarning: The default of observed=False is deprecated and will be changed to True in a future version of pandas. Pass observed=False to retain current behavior or observed=True to adopt the future default and silence this warning.\n",
      "  group_sizes = df.groupby(group_cols).size()\n"
     ]
    },
    {
     "name": "stdout",
     "output_type": "stream",
     "text": [
      "\n"
     ]
    },
    {
     "name": "stderr",
     "output_type": "stream",
     "text": [
      "  0%|                                                  | 0/197 [00:00<?, ?it/s]/w/hallb-scshelf2102/clas12/users/gmat/clas12/neutneut/analysis/neutron_ml/../../src/TrainData.py:84: FutureWarning: The default of observed=False is deprecated and will be changed to True in a future version of pandas. Pass observed=False to retain current behavior or observed=True to adopt the future default and silence this warning.\n",
      "  group_sizes = df.groupby(group_cols).size()\n",
      "\u001b[A/w/hallb-scshelf2102/clas12/users/gmat/clas12/neutneut/analysis/neutron_ml/../../src/TrainData.py:84: FutureWarning: The default of observed=False is deprecated and will be changed to True in a future version of pandas. Pass observed=False to retain current behavior or observed=True to adopt the future default and silence this warning.\n",
      "  group_sizes = df.groupby(group_cols).size()\n",
      "100%|███████████████████████████████████████| 197/197 [00:00<00:00, 286.49it/s]\n",
      "\n",
      "Processing CSV files:  27%|████▊             | 134/500 [00:09<00:13, 26.64it/s]\u001b[A\n",
      "  0%|                                                    | 0/1 [00:00<?, ?it/s]\u001b[A\n",
      "  0%|                                                  | 0/199 [00:00<?, ?it/s]\u001b[A\n",
      "  0%|                                                  | 0/198 [00:00<?, ?it/s]\u001b[A\n",
      "  0%|                                                  | 0/199 [00:00<?, ?it/s]\u001b[A\n",
      " 19%|███████▋                                | 38/199 [00:00<00:00, 373.04it/s]\u001b[A\n",
      "  0%|                                                    | 0/1 [00:00<?, ?it/s]\u001b[A\n",
      " 18%|███████▍                                | 37/200 [00:00<00:00, 368.71it/s]\u001b[A\n",
      "100%|████████████████████████████████████████████| 1/1 [00:00<00:00,  4.68it/s]\u001b[A\n",
      "100%|████████████████████████████████████████████| 1/1 [00:00<00:00,  6.93it/s]\u001b[A\n",
      " 13%|█████▎                                  | 26/197 [00:00<00:00, 254.29it/s]\u001b[A\n",
      "Processing CSV files:  28%|█████             | 139/500 [00:09<00:12, 29.59it/s]\u001b[A\n",
      "100%|████████████████████████████████████████████| 1/1 [00:00<00:00,  5.69it/s]\u001b[A\n",
      "100%|████████████████████████████████████████████| 1/1 [00:00<00:00,  5.93it/s]\u001b[A\n",
      " 19%|███████▋                                | 38/199 [00:00<00:00, 374.68it/s]\u001b[A\n",
      "100%|████████████████████████████████████████████| 1/1 [00:00<00:00,  3.91it/s]\u001b[A\n",
      " 19%|███████▋                                | 38/198 [00:00<00:00, 373.97it/s]\u001b[A\n",
      "100%|████████████████████████████████████████████| 1/1 [00:00<00:00,  4.73it/s]\u001b[A\n",
      "100%|████████████████████████████████████████████| 1/1 [00:00<00:00,  4.35it/s]\u001b[A\n",
      "100%|████████████████████████████████████████████| 1/1 [00:00<00:00,  4.39it/s]\u001b[A\n",
      "  0%|                                                    | 0/1 [00:00<?, ?it/s]\u001b[A\n",
      "100%|████████████████████████████████████████████| 1/1 [00:00<00:00,  4.43it/s]\u001b[A\n",
      "100%|████████████████████████████████████████████| 1/1 [00:00<00:00,  5.60it/s]\u001b[A\n",
      "100%|████████████████████████████████████████████| 1/1 [00:00<00:00,  5.56it/s]\u001b[A\n",
      "100%|████████████████████████████████████████████| 1/1 [00:00<00:00,  4.41it/s]\u001b[A\n",
      "100%|████████████████████████████████████████████| 1/1 [00:00<00:00,  5.57it/s]\u001b[A\n",
      "100%|████████████████████████████████████████████| 1/1 [00:00<00:00,  5.59it/s]\u001b[A\n",
      "100%|████████████████████████████████████████████| 1/1 [00:00<00:00,  5.33it/s]\u001b[A\n",
      "100%|████████████████████████████████████████████| 1/1 [00:00<00:00,  3.56it/s]\u001b[A\n",
      "\n"
     ]
    },
    {
     "name": "stdout",
     "output_type": "stream",
     "text": [
      "Total files processed: 1"
     ]
    },
    {
     "name": "stderr",
     "output_type": "stream",
     "text": [
      "  0%|                                                    | 0/1 [00:00<?, ?it/s]"
     ]
    },
    {
     "name": "stdout",
     "output_type": "stream",
     "text": [
      "\n"
     ]
    },
    {
     "name": "stderr",
     "output_type": "stream",
     "text": [
      "\u001b[A\n",
      "  0%|                                                  | 0/190 [00:00<?, ?it/s]\u001b[A/w/hallb-scshelf2102/clas12/users/gmat/clas12/neutneut/analysis/neutron_ml/../../src/TrainData.py:84: FutureWarning: The default of observed=False is deprecated and will be changed to True in a future version of pandas. Pass observed=False to retain current behavior or observed=True to adopt the future default and silence this warning.\n",
      "  group_sizes = df.groupby(group_cols).size()\n",
      "\n",
      "  0%|                                                  | 0/199 [00:00<?, ?it/s]\u001b[A\n",
      "  0%|                                                  | 0/199 [00:00<?, ?it/s]\u001b[A\n",
      "100%|████████████████████████████████████████████| 1/1 [00:00<00:00,  2.83it/s]\u001b[A\n"
     ]
    },
    {
     "name": "stdout",
     "output_type": "stream",
     "text": [
      "Total files processed: 1"
     ]
    },
    {
     "name": "stderr",
     "output_type": "stream",
     "text": [
      "100%|████████████████████████████████████████████| 1/1 [00:00<00:00,  3.58it/s]"
     ]
    },
    {
     "name": "stdout",
     "output_type": "stream",
     "text": [
      "\n"
     ]
    },
    {
     "name": "stderr",
     "output_type": "stream",
     "text": [
      "/w/hallb-scshelf2102/clas12/users/gmat/clas12/neutneut/analysis/neutron_ml/../../src/TrainData.py:84: FutureWarning: The default of observed=False is deprecated and will be changed to True in a future version of pandas. Pass observed=False to retain current behavior or observed=True to adopt the future default and silence this warning.\n",
      "  group_sizes = df.groupby(group_cols).size()\n",
      "\n"
     ]
    },
    {
     "name": "stdout",
     "output_type": "stream",
     "text": [
      "Total files processed: 1"
     ]
    },
    {
     "name": "stderr",
     "output_type": "stream",
     "text": [
      "\n"
     ]
    },
    {
     "name": "stdout",
     "output_type": "stream",
     "text": [
      "\n"
     ]
    },
    {
     "name": "stderr",
     "output_type": "stream",
     "text": [
      "100%|████████████████████████████████████████████| 1/1 [00:00<00:00,  3.35it/s]\u001b[A/w/hallb-scshelf2102/clas12/users/gmat/clas12/neutneut/analysis/neutron_ml/../../src/TrainData.py:84: FutureWarning: The default of observed=False is deprecated and will be changed to True in a future version of pandas. Pass observed=False to retain current behavior or observed=True to adopt the future default and silence this warning.\n",
      "  group_sizes = df.groupby(group_cols).size()\n",
      "\n",
      "100%|████████████████████████████████████████████| 1/1 [00:00<00:00,  3.59it/s]"
     ]
    },
    {
     "name": "stdout",
     "output_type": "stream",
     "text": [
      "Total files processed: 1\n"
     ]
    },
    {
     "name": "stderr",
     "output_type": "stream",
     "text": [
      "\n"
     ]
    },
    {
     "name": "stdout",
     "output_type": "stream",
     "text": [
      "Total files processed: 1"
     ]
    },
    {
     "name": "stderr",
     "output_type": "stream",
     "text": [
      "100%|████████████████████████████████████████████| 1/1 [00:00<00:00,  2.79it/s]"
     ]
    },
    {
     "name": "stdout",
     "output_type": "stream",
     "text": [
      "\n"
     ]
    },
    {
     "name": "stderr",
     "output_type": "stream",
     "text": [
      "\n",
      "/w/hallb-scshelf2102/clas12/users/gmat/clas12/neutneut/analysis/neutron_ml/../../src/TrainData.py:84: FutureWarning: The default of observed=False is deprecated and will be changed to True in a future version of pandas. Pass observed=False to retain current behavior or observed=True to adopt the future default and silence this warning.\n",
      "  group_sizes = df.groupby(group_cols).size()\n"
     ]
    },
    {
     "name": "stdout",
     "output_type": "stream",
     "text": [
      "Total files processed: 1"
     ]
    },
    {
     "name": "stderr",
     "output_type": "stream",
     "text": [
      "100%|████████████████████████████████████████████| 1/1 [00:00<00:00,  2.99it/s]\n",
      "/w/hallb-scshelf2102/clas12/users/gmat/clas12/neutneut/analysis/neutron_ml/../../src/TrainData.py:84: FutureWarning: The default of observed=False is deprecated and will be changed to True in a future version of pandas. Pass observed=False to retain current behavior or observed=True to adopt the future default and silence this warning.\n",
      "  group_sizes = df.groupby(group_cols).size()\n"
     ]
    },
    {
     "name": "stdout",
     "output_type": "stream",
     "text": [
      "\n",
      "Total files processed: 1\n"
     ]
    },
    {
     "name": "stderr",
     "output_type": "stream",
     "text": [
      "/w/hallb-scshelf2102/clas12/users/gmat/clas12/neutneut/analysis/neutron_ml/../../src/TrainData.py:84: FutureWarning: The default of observed=False is deprecated and will be changed to True in a future version of pandas. Pass observed=False to retain current behavior or observed=True to adopt the future default and silence this warning.\n",
      "  group_sizes = df.groupby(group_cols).size()\n",
      "/w/hallb-scshelf2102/clas12/users/gmat/clas12/neutneut/analysis/neutron_ml/../../src/TrainData.py:84: FutureWarning: The default of observed=False is deprecated and will be changed to True in a future version of pandas. Pass observed=False to retain current behavior or observed=True to adopt the future default and silence this warning.\n",
      "  group_sizes = df.groupby(group_cols).size()\n",
      "\n",
      " 21%|████████▏                               | 41/199 [00:00<00:00, 401.58it/s]\u001b[A\n",
      "100%|████████████████████████████████████████████| 1/1 [00:00<00:00,  2.93it/s]\u001b[A\n",
      "\n"
     ]
    },
    {
     "name": "stdout",
     "output_type": "stream",
     "text": [
      "Total files processed: 1\n"
     ]
    },
    {
     "name": "stderr",
     "output_type": "stream",
     "text": [
      " 26%|██████████▌                             | 52/197 [00:00<00:00, 243.06it/s]\u001b[A/w/hallb-scshelf2102/clas12/users/gmat/clas12/neutneut/analysis/neutron_ml/../../src/TrainData.py:84: FutureWarning: The default of observed=False is deprecated and will be changed to True in a future version of pandas. Pass observed=False to retain current behavior or observed=True to adopt the future default and silence this warning.\n",
      "  group_sizes = df.groupby(group_cols).size()\n",
      "100%|████████████████████████████████████████████| 1/1 [00:00<00:00,  3.39it/s]\n",
      "\n"
     ]
    },
    {
     "name": "stdout",
     "output_type": "stream",
     "text": [
      "Total files processed: 1"
     ]
    },
    {
     "name": "stderr",
     "output_type": "stream",
     "text": [
      "100%|████████████████████████████████████████████| 1/1 [00:00<00:00,  5.14it/s]"
     ]
    },
    {
     "name": "stdout",
     "output_type": "stream",
     "text": [
      "\n"
     ]
    },
    {
     "name": "stderr",
     "output_type": "stream",
     "text": [
      "\u001b[A/w/hallb-scshelf2102/clas12/users/gmat/clas12/neutneut/analysis/neutron_ml/../../src/TrainData.py:84: FutureWarning: The default of observed=False is deprecated and will be changed to True in a future version of pandas. Pass observed=False to retain current behavior or observed=True to adopt the future default and silence this warning.\n",
      "  group_sizes = df.groupby(group_cols).size()\n",
      "100%|████████████████████████████████████████████| 1/1 [00:00<00:00,  3.26it/s]\n",
      "\n"
     ]
    },
    {
     "name": "stdout",
     "output_type": "stream",
     "text": [
      "Total files processed: 1\n"
     ]
    },
    {
     "name": "stderr",
     "output_type": "stream",
     "text": [
      " 38%|███████████████▎                        | 76/199 [00:00<00:00, 222.27it/s]\u001b[A\n",
      "/w/hallb-scshelf2102/clas12/users/gmat/clas12/neutneut/analysis/neutron_ml/../../src/TrainData.py:84: FutureWarning: The default of observed=False is deprecated and will be changed to True in a future version of pandas. Pass observed=False to retain current behavior or observed=True to adopt the future default and silence this warning.\n",
      "  group_sizes = df.groupby(group_cols).size()\n",
      "100%|████████████████████████████████████████████| 1/1 [00:00<00:00,  1.88it/s]\u001b[A\n",
      " 36%|██████████████▎                         | 70/196 [00:00<00:00, 313.85it/s]\u001b[A\n",
      "100%|████████████████████████████████████████████| 1/1 [00:00<00:00,  2.59it/s]\u001b[A\n",
      "100%|████████████████████████████████████████████| 1/1 [00:00<00:00,  2.96it/s]"
     ]
    },
    {
     "name": "stdout",
     "output_type": "stream",
     "text": [
      "Total files processed: 1"
     ]
    },
    {
     "name": "stderr",
     "output_type": "stream",
     "text": [
      "\n"
     ]
    },
    {
     "name": "stdout",
     "output_type": "stream",
     "text": [
      "\n"
     ]
    },
    {
     "name": "stderr",
     "output_type": "stream",
     "text": [
      "100%|████████████████████████████████████████████| 1/1 [00:00<00:00,  2.97it/s]"
     ]
    },
    {
     "name": "stdout",
     "output_type": "stream",
     "text": [
      "Total files processed: 1\n"
     ]
    },
    {
     "name": "stderr",
     "output_type": "stream",
     "text": [
      "\n",
      "/w/hallb-scshelf2102/clas12/users/gmat/clas12/neutneut/analysis/neutron_ml/../../src/TrainData.py:84: FutureWarning: The default of observed=False is deprecated and will be changed to True in a future version of pandas. Pass observed=False to retain current behavior or observed=True to adopt the future default and silence this warning.\n",
      "  group_sizes = df.groupby(group_cols).size()\n"
     ]
    },
    {
     "name": "stdout",
     "output_type": "stream",
     "text": [
      "Total files processed: 1"
     ]
    },
    {
     "name": "stderr",
     "output_type": "stream",
     "text": [
      "100%|████████████████████████████████████████████| 1/1 [00:00<00:00,  2.89it/s]"
     ]
    },
    {
     "name": "stdout",
     "output_type": "stream",
     "text": [
      "\n"
     ]
    },
    {
     "name": "stderr",
     "output_type": "stream",
     "text": [
      "\n",
      "/w/hallb-scshelf2102/clas12/users/gmat/clas12/neutneut/analysis/neutron_ml/../../src/TrainData.py:84: FutureWarning: The default of observed=False is deprecated and will be changed to True in a future version of pandas. Pass observed=False to retain current behavior or observed=True to adopt the future default and silence this warning.\n",
      "  group_sizes = df.groupby(group_cols).size()\n",
      "100%|████████████████████████████████████████████| 1/1 [00:00<00:00,  2.76it/s]"
     ]
    },
    {
     "name": "stdout",
     "output_type": "stream",
     "text": [
      "Total files processed: 1"
     ]
    },
    {
     "name": "stderr",
     "output_type": "stream",
     "text": [
      "\n",
      "/w/hallb-scshelf2102/clas12/users/gmat/clas12/neutneut/analysis/neutron_ml/../../src/TrainData.py:84: FutureWarning: The default of observed=False is deprecated and will be changed to True in a future version of pandas. Pass observed=False to retain current behavior or observed=True to adopt the future default and silence this warning.\n",
      "  group_sizes = df.groupby(group_cols).size()\n"
     ]
    },
    {
     "name": "stdout",
     "output_type": "stream",
     "text": [
      "\n"
     ]
    },
    {
     "name": "stderr",
     "output_type": "stream",
     "text": [
      "100%|████████████████████████████████████████████| 1/1 [00:00<00:00,  2.39it/s]"
     ]
    },
    {
     "name": "stdout",
     "output_type": "stream",
     "text": [
      "Total files processed: 1\n"
     ]
    },
    {
     "name": "stderr",
     "output_type": "stream",
     "text": [
      "\n",
      "\n"
     ]
    },
    {
     "name": "stdout",
     "output_type": "stream",
     "text": [
      "Total files processed: 1"
     ]
    },
    {
     "name": "stderr",
     "output_type": "stream",
     "text": [
      " 38%|███████████████▎                        | 76/198 [00:00<00:00, 365.26it/s]"
     ]
    },
    {
     "name": "stdout",
     "output_type": "stream",
     "text": [
      "\n"
     ]
    },
    {
     "name": "stderr",
     "output_type": "stream",
     "text": [
      "/w/hallb-scshelf2102/clas12/users/gmat/clas12/neutneut/analysis/neutron_ml/../../src/TrainData.py:84: FutureWarning: The default of observed=False is deprecated and will be changed to True in a future version of pandas. Pass observed=False to retain current behavior or observed=True to adopt the future default and silence this warning.\n",
      "  group_sizes = df.groupby(group_cols).size()\n",
      "/w/hallb-scshelf2102/clas12/users/gmat/clas12/neutneut/analysis/neutron_ml/../../src/TrainData.py:84: FutureWarning: The default of observed=False is deprecated and will be changed to True in a future version of pandas. Pass observed=False to retain current behavior or observed=True to adopt the future default and silence this warning.\n",
      "  group_sizes = df.groupby(group_cols).size()\n",
      "\u001b[A\n",
      " 38%|███████████████▎                        | 76/199 [00:00<00:00, 336.53it/s]/w/hallb-scshelf2102/clas12/users/gmat/clas12/neutneut/analysis/neutron_ml/../../src/TrainData.py:84: FutureWarning: The default of observed=False is deprecated and will be changed to True in a future version of pandas. Pass observed=False to retain current behavior or observed=True to adopt the future default and silence this warning.\n",
      "  group_sizes = df.groupby(group_cols).size()\n",
      "\u001b[A\n",
      " 40%|████████████████                        | 79/197 [00:00<00:00, 253.98it/s]\u001b[A\n",
      " 22%|████████▊                               | 42/190 [00:00<00:00, 415.12it/s]\u001b[A\n",
      " 20%|████████                                | 40/199 [00:00<00:00, 398.84it/s]\u001b[A\n",
      " 22%|████████▋                               | 43/199 [00:00<00:00, 429.90it/s]\u001b[A\n",
      " 25%|█████████▉                              | 49/197 [00:00<00:00, 489.26it/s]\u001b[A\n",
      "100%|████████████████████████████████████████████| 1/1 [00:00<00:00,  5.25it/s]\u001b[A\n",
      " 41%|████████████████▍                       | 82/199 [00:00<00:00, 329.88it/s]\u001b[A\n",
      "  0%|                                                  | 0/198 [00:00<?, ?it/s]\u001b[A\n",
      "  0%|                                                  | 0/198 [00:00<?, ?it/s]\u001b[A\n",
      "100%|████████████████████████████████████████████| 1/1 [00:00<00:00,  1.38it/s]\u001b[A\n"
     ]
    },
    {
     "name": "stdout",
     "output_type": "stream",
     "text": [
      "Total files processed: 1"
     ]
    },
    {
     "name": "stderr",
     "output_type": "stream",
     "text": [
      "\n"
     ]
    },
    {
     "name": "stdout",
     "output_type": "stream",
     "text": [
      "\n"
     ]
    },
    {
     "name": "stderr",
     "output_type": "stream",
     "text": [
      "  0%|                                                  | 0/196 [00:00<?, ?it/s]/w/hallb-scshelf2102/clas12/users/gmat/clas12/neutneut/analysis/neutron_ml/../../src/TrainData.py:84: FutureWarning: The default of observed=False is deprecated and will be changed to True in a future version of pandas. Pass observed=False to retain current behavior or observed=True to adopt the future default and silence this warning.\n",
      "  group_sizes = df.groupby(group_cols).size()\n",
      "\u001b[A\n",
      " 52%|████████████████████▎                  | 102/196 [00:00<00:00, 251.63it/s]\u001b[A\n",
      "  0%|                                                  | 0/198 [00:00<?, ?it/s]\u001b[A\n",
      "100%|████████████████████████████████████████████| 1/1 [00:00<00:00,  2.31it/s]\u001b[A\n",
      "\n"
     ]
    },
    {
     "name": "stdout",
     "output_type": "stream",
     "text": [
      "Total files processed: 1"
     ]
    },
    {
     "name": "stderr",
     "output_type": "stream",
     "text": [
      "  0%|                                                  | 0/198 [00:00<?, ?it/s]\u001b[A"
     ]
    },
    {
     "name": "stdout",
     "output_type": "stream",
     "text": [
      "\n"
     ]
    },
    {
     "name": "stderr",
     "output_type": "stream",
     "text": [
      "\n",
      "/w/hallb-scshelf2102/clas12/users/gmat/clas12/neutneut/analysis/neutron_ml/../../src/TrainData.py:84: FutureWarning: The default of observed=False is deprecated and will be changed to True in a future version of pandas. Pass observed=False to retain current behavior or observed=True to adopt the future default and silence this warning.\n",
      "  group_sizes = df.groupby(group_cols).size()\n",
      "  0%|                                                  | 0/198 [00:00<?, ?it/s]\u001b[A\n",
      "100%|████████████████████████████████████████████| 1/1 [00:00<00:00,  4.69it/s]\u001b[A\n",
      "  0%|                                                  | 0/196 [00:00<?, ?it/s]\u001b[A\n",
      "  0%|                                                  | 0/193 [00:00<?, ?it/s]\u001b[A\n",
      "100%|████████████████████████████████████████████| 1/1 [00:00<00:00,  5.05it/s]\u001b[A\n",
      " 51%|███████████████████▉                   | 102/199 [00:00<00:00, 202.40it/s]\u001b[A\n",
      " 53%|████████████████████▊                  | 105/197 [00:00<00:00, 242.58it/s]\u001b[A\n",
      "100%|████████████████████████████████████████████| 1/1 [00:00<00:00,  5.85it/s]\u001b[A\n",
      "  0%|                                                    | 0/1 [00:00<?, ?it/s]\u001b[A\n",
      " 57%|██████████████████████▎                | 113/198 [00:00<00:00, 263.14it/s]\u001b[A\n",
      "100%|████████████████████████████████████████████| 1/1 [00:00<00:00,  4.91it/s]\u001b[A\n",
      " 55%|█████████████████████▌                 | 110/199 [00:00<00:00, 241.40it/s]\u001b[A\n",
      " 40%|████████████████                        | 80/199 [00:00<00:00, 306.87it/s]\u001b[A\n",
      " 44%|█████████████████▋                      | 84/190 [00:00<00:00, 312.21it/s]\u001b[A\n",
      " 58%|██████████████████████▋                | 116/199 [00:00<00:00, 303.16it/s]\u001b[A\n",
      " 43%|█████████████████▎                      | 86/199 [00:00<00:00, 318.48it/s]\u001b[A\n",
      "100%|████████████████████████████████████████████| 1/1 [00:00<00:00,  2.81it/s]\u001b[A\n",
      "\n"
     ]
    },
    {
     "name": "stdout",
     "output_type": "stream",
     "text": [
      "Total files processed: 1"
     ]
    },
    {
     "name": "stderr",
     "output_type": "stream",
     "text": [
      "  0%|                                                  | 0/198 [00:00<?, ?it/s]"
     ]
    },
    {
     "name": "stdout",
     "output_type": "stream",
     "text": [
      "\n"
     ]
    },
    {
     "name": "stderr",
     "output_type": "stream",
     "text": [
      "\u001b[A/w/hallb-scshelf2102/clas12/users/gmat/clas12/neutneut/analysis/neutron_ml/../../src/TrainData.py:84: FutureWarning: The default of observed=False is deprecated and will be changed to True in a future version of pandas. Pass observed=False to retain current behavior or observed=True to adopt the future default and silence this warning.\n",
      "  group_sizes = df.groupby(group_cols).size()\n",
      "\n",
      "  0%|                                                  | 0/195 [00:00<?, ?it/s]\u001b[A\n",
      " 50%|███████████████████▉                    | 98/197 [00:00<00:00, 350.03it/s]\u001b[A\n",
      " 66%|█████████████████████████▋             | 129/196 [00:00<00:00, 252.70it/s]\u001b[A\n",
      " 23%|█████████▎                              | 46/198 [00:00<00:00, 456.11it/s]\u001b[A\n",
      "100%|████████████████████████████████████████████| 1/1 [00:00<00:00,  2.96it/s]\u001b[A\n"
     ]
    },
    {
     "name": "stdout",
     "output_type": "stream",
     "text": [
      "Total files processed: 1"
     ]
    },
    {
     "name": "stderr",
     "output_type": "stream",
     "text": [
      "\n"
     ]
    },
    {
     "name": "stdout",
     "output_type": "stream",
     "text": [
      "\n"
     ]
    },
    {
     "name": "stderr",
     "output_type": "stream",
     "text": [
      "100%|████████████████████████████████████████████| 1/1 [00:00<00:00,  2.18it/s]\u001b[A/w/hallb-scshelf2102/clas12/users/gmat/clas12/neutneut/analysis/neutron_ml/../../src/TrainData.py:84: FutureWarning: The default of observed=False is deprecated and will be changed to True in a future version of pandas. Pass observed=False to retain current behavior or observed=True to adopt the future default and silence this warning.\n",
      "  group_sizes = df.groupby(group_cols).size()\n",
      "\n",
      "\n"
     ]
    },
    {
     "name": "stdout",
     "output_type": "stream",
     "text": [
      "Total files processed: 1\n"
     ]
    },
    {
     "name": "stderr",
     "output_type": "stream",
     "text": [
      " 22%|████████▉                               | 44/198 [00:00<00:00, 432.00it/s]\u001b[A\n",
      "/w/hallb-scshelf2102/clas12/users/gmat/clas12/neutneut/analysis/neutron_ml/../../src/TrainData.py:84: FutureWarning: The default of observed=False is deprecated and will be changed to True in a future version of pandas. Pass observed=False to retain current behavior or observed=True to adopt the future default and silence this warning.\n",
      "  group_sizes = df.groupby(group_cols).size()\n",
      " 23%|█████████▏                              | 45/196 [00:00<00:00, 439.33it/s]\u001b[A\n",
      "  0%|                                                  | 0/197 [00:00<?, ?it/s]\u001b[A\n",
      "  0%|                                                  | 0/194 [00:00<?, ?it/s]\u001b[A\n",
      " 21%|████████▍                               | 42/198 [00:00<00:00, 417.95it/s]\u001b[A\n",
      " 62%|████████████████████████▎              | 124/199 [00:00<00:00, 168.50it/s]\u001b[A\n",
      " 24%|█████████▋                              | 48/198 [00:00<00:00, 477.30it/s]\u001b[A\n",
      " 66%|█████████████████████████▋             | 130/197 [00:00<00:00, 217.81it/s]\u001b[A\n",
      "  0%|                                                  | 0/195 [00:00<?, ?it/s]\u001b[A\n",
      " 23%|█████████                               | 45/198 [00:00<00:00, 447.42it/s]\u001b[A\n",
      " 21%|████████▌                               | 42/196 [00:00<00:00, 419.06it/s]\u001b[A\n",
      " 72%|███████████████████████████▉           | 142/198 [00:00<00:00, 230.94it/s]\u001b[A\n",
      " 56%|█████████████████████▉                 | 112/199 [00:00<00:00, 289.45it/s]\u001b[A\n",
      " 69%|██████████████████████████▊            | 137/199 [00:00<00:00, 219.44it/s]\u001b[A\n",
      " 23%|█████████                               | 44/193 [00:00<00:00, 437.17it/s]\u001b[A\n",
      " 44%|█████████████████▊                      | 88/198 [00:00<00:00, 280.46it/s]\u001b[A\n",
      "  0%|                                                  | 0/195 [00:00<?, ?it/s]\u001b[A\n",
      " 74%|████████████████████████████▊          | 147/199 [00:00<00:00, 280.65it/s]\u001b[A\n",
      "100%|████████████████████████████████████████████| 1/1 [00:00<00:00,  2.03it/s]\u001b[A\n",
      "\n"
     ]
    },
    {
     "name": "stdout",
     "output_type": "stream",
     "text": [
      "Total files processed: 1"
     ]
    },
    {
     "name": "stderr",
     "output_type": "stream",
     "text": [
      " 23%|█████████▍                              | 46/196 [00:00<00:00, 457.38it/s]"
     ]
    },
    {
     "name": "stdout",
     "output_type": "stream",
     "text": [
      "\n"
     ]
    },
    {
     "name": "stderr",
     "output_type": "stream",
     "text": [
      "\u001b[A/w/hallb-scshelf2102/clas12/users/gmat/clas12/neutneut/analysis/neutron_ml/../../src/TrainData.py:84: FutureWarning: The default of observed=False is deprecated and will be changed to True in a future version of pandas. Pass observed=False to retain current behavior or observed=True to adopt the future default and silence this warning.\n",
      "  group_sizes = df.groupby(group_cols).size()\n",
      "\n",
      " 60%|███████████████████████▌               | 120/199 [00:00<00:00, 290.15it/s]\u001b[A\n",
      " 79%|██████████████████████████████▊        | 155/196 [00:00<00:00, 228.27it/s]\u001b[A\n",
      " 19%|███████▋                                | 37/193 [00:00<00:00, 361.43it/s]\u001b[A\n",
      " 20%|████████                                | 40/198 [00:00<00:00, 394.01it/s]\u001b[A\n",
      " 75%|█████████████████████████████▎         | 150/200 [00:00<00:00, 197.35it/s]\u001b[A\n",
      " 69%|██████████████████████████▉            | 136/197 [00:00<00:00, 290.72it/s]\u001b[A\n",
      " 24%|█████████▍                              | 46/195 [00:00<00:00, 458.82it/s]\u001b[A\n",
      "100%|████████████████████████████████████████████| 1/1 [00:00<00:00,  5.87it/s]\u001b[A\n",
      " 22%|████████▉                               | 44/198 [00:00<00:00, 438.56it/s]\u001b[A\n",
      " 72%|████████████████████████████           | 143/199 [00:00<00:00, 156.59it/s]\u001b[A\n",
      " 46%|██████████████████▌                     | 92/198 [00:00<00:00, 293.05it/s]\u001b[A\n",
      " 45%|██████████████████▏                     | 89/196 [00:00<00:00, 297.75it/s]\u001b[A\n",
      "100%|████████████████████████████████████████████| 1/1 [00:00<00:00,  1.65it/s]\u001b[A\n"
     ]
    },
    {
     "name": "stdout",
     "output_type": "stream",
     "text": [
      "Total files processed: 1\n"
     ]
    },
    {
     "name": "stderr",
     "output_type": "stream",
     "text": [
      "\n",
      " 42%|████████████████▉                       | 84/198 [00:00<00:00, 298.96it/s]/w/hallb-scshelf2102/clas12/users/gmat/clas12/neutneut/analysis/neutron_ml/../../src/TrainData.py:84: FutureWarning: The default of observed=False is deprecated and will be changed to True in a future version of pandas. Pass observed=False to retain current behavior or observed=True to adopt the future default and silence this warning.\n",
      "  group_sizes = df.groupby(group_cols).size()\n",
      "\u001b[A\n",
      " 22%|████████▊                               | 43/194 [00:00<00:00, 425.01it/s]\u001b[A\n",
      " 78%|██████████████████████████████▎        | 153/197 [00:00<00:00, 187.62it/s]\u001b[A\n",
      "  0%|                                                  | 0/198 [00:00<?, ?it/s]\u001b[A\n",
      " 84%|████████████████████████████████▉      | 167/198 [00:00<00:00, 211.98it/s]\u001b[A\n",
      " 81%|███████████████████████████████▌       | 161/199 [00:00<00:00, 190.86it/s]\u001b[A\n",
      " 48%|███████████████████▍                    | 96/198 [00:00<00:00, 307.45it/s]\u001b[A\n",
      " 71%|███████████████████████████▊           | 142/199 [00:00<00:00, 237.40it/s]\u001b[A\n",
      " 45%|██████████████████▏                     | 90/198 [00:00<00:00, 302.71it/s]\u001b[A\n",
      " 27%|██████████▋                             | 52/195 [00:00<00:00, 510.73it/s]\u001b[A\n",
      " 43%|█████████████████▏                      | 84/196 [00:00<00:00, 283.62it/s]\u001b[A\n",
      "  0%|                                                  | 0/197 [00:00<?, ?it/s]\u001b[A\n",
      " 88%|██████████████████████████████████▍    | 176/199 [00:00<00:00, 219.69it/s]\u001b[A\n",
      " 77%|██████████████████████████████▏        | 147/190 [00:00<00:00, 220.84it/s]\u001b[A\n",
      " 46%|██████████████████▏                     | 88/193 [00:00<00:00, 256.40it/s]\u001b[A\n",
      " 75%|█████████████████████████████▍         | 150/199 [00:00<00:00, 218.29it/s]\u001b[A\n",
      " 91%|███████████████████████████████████▌   | 179/196 [00:00<00:00, 186.77it/s]\u001b[A\n",
      " 66%|█████████████████████████▊             | 131/198 [00:00<00:00, 330.01it/s]\u001b[A\n",
      " 24%|█████████▋                              | 47/195 [00:00<00:00, 465.75it/s]\u001b[A\n",
      " 86%|█████████████████████████████████▎     | 171/200 [00:00<00:00, 168.55it/s]\u001b[A\n",
      "  0%|                                                  | 0/200 [00:00<?, ?it/s]\u001b[A\n",
      " 47%|██████████████████▊                     | 92/196 [00:00<00:00, 208.58it/s]\u001b[A\n",
      " 80%|███████████████████████████████▎       | 160/199 [00:01<00:00, 145.50it/s]\u001b[A\n",
      " 85%|█████████████████████████████████      | 167/197 [00:00<00:00, 232.84it/s]\u001b[A\n",
      " 38%|███████████████▎                        | 74/193 [00:00<00:00, 227.20it/s]\u001b[A\n",
      " 40%|████████████████▏                       | 80/198 [00:00<00:00, 247.97it/s]\u001b[A\n",
      " 63%|████████████████████████▌              | 125/198 [00:00<00:00, 242.92it/s]\u001b[A\n",
      "  0%|                                                  | 0/195 [00:00<?, ?it/s]\u001b[A\n",
      " 88%|██████████████████████████████████▏    | 173/197 [00:00<00:00, 165.81it/s]\u001b[A\n",
      " 44%|█████████████████▊                      | 88/198 [00:00<00:00, 288.57it/s]\u001b[A\n",
      " 53%|████████████████████▊                  | 104/195 [00:00<00:00, 304.62it/s]\u001b[A\n",
      " 62%|████████████████████████▎              | 122/196 [00:00<00:00, 239.40it/s]\u001b[A\n",
      " 59%|██████████████████████▊                | 116/198 [00:00<00:00, 239.72it/s]\u001b[A\n",
      " 96%|█████████████████████████████████████▍ | 190/198 [00:00<00:00, 180.93it/s]\u001b[A\n",
      " 43%|█████████████████                       | 84/197 [00:00<00:00, 271.05it/s]\u001b[A\n",
      " 91%|███████████████████████████████████▋   | 182/199 [00:00<00:00, 171.36it/s]\u001b[A\n",
      " 44%|█████████████████▋                      | 86/194 [00:00<00:00, 264.08it/s]\u001b[A\n",
      " 84%|████████████████████████████████▋      | 167/199 [00:00<00:00, 200.24it/s]\u001b[A\n",
      " 66%|█████████████████████████▊             | 131/198 [00:00<00:00, 251.06it/s]\u001b[A\n",
      " 62%|████████████████████████▏              | 123/198 [00:00<00:00, 241.59it/s]\u001b[A\n",
      " 21%|████████▍                               | 42/198 [00:00<00:00, 415.59it/s]\u001b[A\n",
      " 90%|███████████████████████████████████    | 171/190 [00:00<00:00, 198.13it/s]\u001b[A\n",
      " 59%|██████████████████████▉                | 115/196 [00:00<00:00, 220.82it/s]\u001b[A\n",
      " 94%|████████████████████████████████████▊  | 189/200 [00:01<00:00, 153.86it/s]\u001b[A\n",
      " 61%|███████████████████████▊               | 118/193 [00:00<00:00, 226.66it/s]\u001b[A\n",
      " 87%|██████████████████████████████████     | 174/199 [00:00<00:00, 193.93it/s]\u001b[A\n",
      "100%|████████████████████████████████████████████| 1/1 [00:00<00:00,  1.81it/s]\u001b[A\n",
      "\n"
     ]
    },
    {
     "name": "stdout",
     "output_type": "stream",
     "text": [
      "Total files processed: 1"
     ]
    },
    {
     "name": "stderr",
     "output_type": "stream",
     "text": [
      " 23%|█████████                               | 44/195 [00:00<00:00, 437.80it/s]"
     ]
    },
    {
     "name": "stdout",
     "output_type": "stream",
     "text": [
      "\n"
     ]
    },
    {
     "name": "stderr",
     "output_type": "stream",
     "text": [
      "\u001b[A\n",
      " 23%|█████████▎                              | 46/197 [00:00<00:00, 452.35it/s]/w/hallb-scshelf2102/clas12/users/gmat/clas12/neutneut/analysis/neutron_ml/../../src/TrainData.py:84: FutureWarning: The default of observed=False is deprecated and will be changed to True in a future version of pandas. Pass observed=False to retain current behavior or observed=True to adopt the future default and silence this warning.\n",
      "  group_sizes = df.groupby(group_cols).size()\n",
      "\u001b[A\n",
      "  0%|                                                  | 0/197 [00:00<?, ?it/s]\u001b[A\n",
      " 85%|█████████████████████████████████      | 168/198 [00:00<00:00, 272.41it/s]\u001b[A\n",
      " 61%|███████████████████████▉               | 120/196 [00:00<00:00, 193.31it/s]\u001b[A\n",
      " 52%|████████████████████▏                  | 100/193 [00:00<00:00, 199.36it/s]\u001b[A\n",
      " 48%|███████████████████▎                    | 94/195 [00:00<00:00, 308.15it/s]\u001b[A\n",
      " 98%|██████████████████████████████████████▏| 193/197 [00:00<00:00, 205.06it/s]\u001b[A\n",
      " 55%|█████████████████████▎                 | 108/198 [00:00<00:00, 211.88it/s]\u001b[A\n",
      "100%|███████████████████████████████████████| 199/199 [00:01<00:00, 196.27it/s]\u001b[A\n",
      "100%|███████████████████████████████████████| 196/196 [00:01<00:00, 176.33it/s]\n",
      "\n",
      " 77%|█████████████████████████████▉         | 152/198 [00:00<00:00, 214.77it/s]\u001b[A\n",
      " 22%|████████▊                               | 44/200 [00:00<00:00, 439.01it/s]\u001b[A\n",
      " 76%|█████████████████████████████▍         | 148/196 [00:00<00:00, 209.96it/s]\u001b[A\n",
      " 61%|███████████████████████▋               | 120/198 [00:00<00:00, 244.01it/s]\u001b[A\n",
      "  0%|                                                  | 0/199 [00:00<?, ?it/s]\u001b[A\n",
      " 72%|███████████████████████████▉           | 142/198 [00:00<00:00, 201.31it/s]\u001b[A\n",
      " 95%|█████████████████████████████████████  | 189/199 [00:00<00:00, 184.41it/s]\u001b[A\n",
      " 47%|██████████████████▊                     | 92/195 [00:00<00:00, 267.35it/s]\u001b[A\n",
      " 77%|██████████████████████████████▏        | 151/195 [00:00<00:00, 357.66it/s]\u001b[A\n",
      " 58%|██████████████████████▊                | 115/197 [00:00<00:00, 223.43it/s]\u001b[A\n",
      " 60%|███████████████████████▎               | 116/194 [00:00<00:00, 227.35it/s]\u001b[A\n",
      " 80%|███████████████████████████████▎       | 159/198 [00:00<00:00, 224.59it/s]\u001b[A\n",
      " 76%|█████████████████████████████▌         | 150/198 [00:00<00:00, 219.58it/s]\u001b[A\n",
      " 23%|█████████▏                              | 45/197 [00:00<00:00, 444.95it/s]\u001b[A\n",
      " 98%|██████████████████████████████████████▏| 195/199 [00:00<00:00, 181.15it/s]\u001b[A\n",
      " 71%|███████████████████████████▊           | 140/196 [00:00<00:00, 197.95it/s]\u001b[A\n",
      "100%|███████████████████████████████████████| 198/198 [00:01<00:00, 168.16it/s]\u001b[A\n",
      "\n",
      "100%|███████████████████████████████████████| 199/199 [00:01<00:00, 164.64it/s]\u001b[A\n",
      "\n",
      " 63%|████████████████████████▋              | 122/193 [00:00<00:00, 183.68it/s]\u001b[A\n",
      " 73%|████████████████████████████▍          | 143/196 [00:00<00:00, 181.63it/s]\u001b[A\n",
      "100%|███████████████████████████████████████| 200/200 [00:01<00:00, 156.95it/s]\u001b[A\n",
      "\n",
      " 66%|█████████████████████████▌             | 128/195 [00:00<00:00, 259.98it/s]\u001b[A\n",
      " 88%|██████████████████████████████████▍    | 175/198 [00:00<00:00, 195.19it/s]\u001b[A\n",
      " 45%|██████████████████                      | 88/195 [00:00<00:00, 426.66it/s]\u001b[A\n",
      " 87%|██████████████████████████████████     | 171/196 [00:00<00:00, 195.40it/s]\u001b[A\n",
      " 47%|██████████████████▋                     | 92/197 [00:00<00:00, 290.66it/s]\u001b[A\n",
      "100%|███████████████████████████████████████| 190/190 [00:01<00:00, 180.56it/s]\u001b[A\n",
      "\n",
      "100%|███████████████████████████████████████| 197/197 [00:01<00:00, 185.52it/s]\u001b[A\n",
      "\n",
      "100%|███████████████████████████████████████| 199/199 [00:01<00:00, 185.07it/s]\u001b[A\n",
      "\n",
      " 44%|█████████████████▌                      | 88/200 [00:00<00:00, 297.02it/s]\u001b[A\n",
      " 92%|████████████████████████████████████   | 183/198 [00:00<00:00, 206.00it/s]\u001b[A\n",
      "100%|███████████████████████████████████████| 197/197 [00:01<00:00, 148.79it/s]\u001b[A\n",
      "\n",
      " 71%|███████████████████████████▋           | 140/197 [00:00<00:00, 202.26it/s]\u001b[A\n",
      "100%|███████████████████████████████████████| 198/198 [00:00<00:00, 214.08it/s]\u001b[A\n",
      "\n",
      " 88%|██████████████████████████████████▎    | 174/198 [00:00<00:00, 198.07it/s]\u001b[A\n",
      "100%|███████████████████████████████████████| 199/199 [00:01<00:00, 175.45it/s]\u001b[A\n",
      "\n",
      " 98%|██████████████████████████████████████▍| 192/195 [00:00<00:00, 305.86it/s]\u001b[A\n",
      " 82%|████████████████████████████████       | 161/196 [00:00<00:00, 181.13it/s]\u001b[A\n",
      " 85%|█████████████████████████████████▎     | 165/193 [00:00<00:00, 187.85it/s]\u001b[A\n",
      " 74%|████████████████████████████▋          | 142/193 [00:00<00:00, 171.12it/s]\u001b[A\n",
      " 84%|████████████████████████████████▋      | 164/196 [00:00<00:00, 171.91it/s]\u001b[A\n",
      " 77%|█████████████████████████████▉         | 152/198 [00:00<00:00, 184.56it/s]\u001b[A\n",
      " 99%|██████████████████████████████████████▌| 196/198 [00:00<00:00, 192.02it/s]\u001b[A\n",
      " 46%|██████████████████▎                     | 90/197 [00:00<00:00, 439.72it/s]\u001b[A\n",
      "  0%|                                                  | 0/196 [00:00<?, ?it/s]\u001b[A\n",
      " 98%|██████████████████████████████████████▏| 192/196 [00:00<00:00, 188.56it/s]\u001b[A\n",
      " 80%|███████████████████████████████▏       | 156/195 [00:00<00:00, 239.14it/s]\u001b[A\n",
      " 58%|██████████████████████▋                | 115/198 [00:00<00:00, 223.43it/s]\u001b[A\n",
      " 86%|█████████████████████████████████▍     | 170/198 [00:00<00:00, 201.24it/s]\u001b[A\n",
      " 63%|████████████████████████▋              | 125/197 [00:00<00:00, 259.57it/s]\u001b[A\n",
      " 93%|████████████████████████████████████▏  | 184/198 [00:00<00:00, 175.63it/s]\u001b[A\n",
      " 67%|██████████████████████████▏            | 131/195 [00:00<00:00, 323.52it/s]\u001b[A\n",
      " 75%|█████████████████████████████▏         | 146/195 [00:00<00:00, 158.90it/s]\u001b[A\n",
      "100%|███████████████████████████████████████| 199/199 [00:01<00:00, 130.24it/s]\u001b[A\n",
      "\n",
      " 82%|████████████████████████████████       | 162/197 [00:00<00:00, 181.75it/s]\u001b[A\n",
      " 92%|███████████████████████████████████▊   | 180/196 [00:00<00:00, 166.69it/s]\u001b[A\n",
      " 98%|██████████████████████████████████████▍| 195/198 [00:00<00:00, 177.76it/s]\u001b[A\n",
      "Processing CSV files:  29%|█████▏            | 144/500 [00:10<00:33, 10.61it/s]\u001b[A\n",
      " 93%|████████████████████████████████████▍  | 183/196 [00:01<00:00, 163.81it/s]\u001b[A\n",
      "100%|███████████████████████████████████████| 198/198 [00:01<00:00, 194.99it/s]\u001b[A\n",
      "\n",
      "100%|███████████████████████████████████████| 195/195 [00:00<00:00, 238.67it/s]\u001b[A\n",
      "\n",
      " 84%|████████████████████████████████▊      | 163/194 [00:00<00:00, 184.41it/s]\u001b[A\n",
      " 74%|█████████████████████████████          | 149/200 [00:00<00:00, 252.01it/s]\u001b[A\n",
      " 43%|█████████████████▎                      | 86/199 [00:00<00:00, 267.21it/s]\u001b[A\n",
      " 93%|████████████████████████████████████▏  | 181/195 [00:00<00:00, 216.23it/s]\u001b[A\n",
      " 71%|███████████████████████████▌           | 140/198 [00:00<00:00, 205.17it/s]\u001b[A\n",
      "  0%|                                                    | 0/1 [00:00<?, ?it/s]\u001b[A\n",
      "100%|███████████████████████████████████████| 196/196 [00:01<00:00, 179.79it/s]\u001b[A\n",
      "\n",
      "  0%|                                                    | 0/1 [00:00<?, ?it/s]\u001b[A\n",
      " 85%|█████████████████████████████████▏     | 166/195 [00:00<00:00, 164.78it/s]\u001b[A\n",
      "  0%|                                                    | 0/1 [00:00<?, ?it/s]\u001b[A\n",
      "  0%|                                                    | 0/1 [00:00<?, ?it/s]\u001b[A\n",
      " 68%|██████████████████████████▌            | 134/197 [00:00<00:00, 310.26it/s]\u001b[A\n",
      "100%|███████████████████████████████████████| 198/198 [00:01<00:00, 175.21it/s]\u001b[A\n",
      "\n",
      "100%|███████████████████████████████████████| 198/198 [00:01<00:00, 182.23it/s]\u001b[A\n",
      "\n",
      " 85%|█████████████████████████████████▏     | 166/195 [00:00<00:00, 285.05it/s]\u001b[A\n",
      "  0%|                                                    | 0/1 [00:00<?, ?it/s]\u001b[A\n",
      " 92%|███████████████████████████████████▊   | 181/197 [00:00<00:00, 175.43it/s]\u001b[A\n",
      "Processing CSV files:  30%|█████▍            | 150/500 [00:10<00:24, 14.27it/s]\u001b[A\n",
      " 97%|█████████████████████████████████████▊ | 192/198 [00:01<00:00, 181.32it/s]\u001b[A\n",
      "100%|███████████████████████████████████████| 195/195 [00:00<00:00, 228.82it/s]\u001b[A\n",
      "\n",
      "100%|███████████████████████████████████████| 196/196 [00:01<00:00, 168.70it/s]\u001b[A\n",
      "100%|███████████████████████████████████████| 196/196 [00:01<00:00, 176.63it/s]\n",
      "100%|███████████████████████████████████████| 193/193 [00:01<00:00, 173.96it/s]\n",
      "\n",
      " 83%|████████████████████████████████▌      | 165/198 [00:00<00:00, 216.31it/s]\u001b[A\n",
      "100%|███████████████████████████████████████| 198/198 [00:01<00:00, 175.04it/s]\u001b[A\n",
      "\n",
      "100%|███████████████████████████████████████| 198/198 [00:01<00:00, 193.01it/s]\u001b[A\n",
      "\n",
      "  0%|                                                    | 0/1 [00:00<?, ?it/s]\u001b[A\n",
      "  0%|                                                    | 0/1 [00:00<?, ?it/s]\u001b[A\n",
      " 98%|██████████████████████████████████████▏| 191/195 [00:01<00:00, 184.26it/s]\u001b[A\n",
      " 91%|███████████████████████████████████▍   | 179/197 [00:00<00:00, 238.36it/s]\u001b[A\n",
      " 98%|██████████████████████████████████████▍| 197/200 [00:00<00:00, 317.67it/s]\u001b[A\n",
      " 86%|█████████████████████████████████▍     | 169/197 [00:00<00:00, 308.12it/s]\u001b[A\n",
      "  0%|                                                    | 0/1 [00:00<?, ?it/s]\u001b[A\n",
      "100%|███████████████████████████████████████| 198/198 [00:01<00:00, 171.61it/s]\u001b[A\n",
      "100%|███████████████████████████████████████| 195/195 [00:01<00:00, 170.27it/s]\n",
      "\n",
      " 95%|█████████████████████████████████████  | 188/198 [00:00<00:00, 217.96it/s]\u001b[A\n",
      " 73%|████████████████████████████▍          | 145/199 [00:00<00:00, 267.86it/s]\u001b[A\n",
      "100%|███████████████████████████████████████| 197/197 [00:01<00:00, 178.24it/s]\u001b[A\n",
      "100%|███████████████████████████████████████| 193/193 [00:01<00:00, 163.37it/s]\n",
      "100%|███████████████████████████████████████| 194/194 [00:01<00:00, 175.45it/s]\n",
      "100%|███████████████████████████████████████| 195/195 [00:00<00:00, 254.20it/s]\n",
      "\n",
      "  0%|                                                    | 0/1 [00:00<?, ?it/s]\u001b[A\n",
      "100%|████████████████████████████████████████████| 1/1 [00:00<00:00,  5.27it/s]\u001b[A\n",
      "100%|████████████████████████████████████████████| 1/1 [00:00<00:00,  3.76it/s]\u001b[A\n",
      "100%|███████████████████████████████████████| 200/200 [00:00<00:00, 238.31it/s]"
     ]
    },
    {
     "name": "stdout",
     "output_type": "stream",
     "text": [
      "Total files processed: 1"
     ]
    },
    {
     "name": "stderr",
     "output_type": "stream",
     "text": [
      "\n"
     ]
    },
    {
     "name": "stdout",
     "output_type": "stream",
     "text": [
      "\n"
     ]
    },
    {
     "name": "stderr",
     "output_type": "stream",
     "text": [
      "100%|███████████████████████████████████████| 197/197 [00:00<00:00, 220.90it/s]\n",
      "/w/hallb-scshelf2102/clas12/users/gmat/clas12/neutneut/analysis/neutron_ml/../../src/TrainData.py:84: FutureWarning: The default of observed=False is deprecated and will be changed to True in a future version of pandas. Pass observed=False to retain current behavior or observed=True to adopt the future default and silence this warning.\n",
      "  group_sizes = df.groupby(group_cols).size()\n",
      "\n",
      "  0%|                                                    | 0/1 [00:00<?, ?it/s]\u001b[A\n",
      "100%|████████████████████████████████████████████| 1/1 [00:00<00:00,  5.73it/s]\u001b[A\n",
      "100%|████████████████████████████████████████████| 1/1 [00:00<00:00,  4.94it/s]\u001b[A\n",
      "  0%|                                                    | 0/1 [00:00<?, ?it/s]\u001b[A\n",
      "100%|████████████████████████████████████████████| 1/1 [00:00<00:00,  7.30it/s]\u001b[A\n",
      "100%|████████████████████████████████████████████| 1/1 [00:00<00:00,  6.86it/s]\u001b[A\n",
      "  0%|                                                    | 0/1 [00:00<?, ?it/s]\u001b[A\n",
      "  0%|                                                    | 0/1 [00:00<?, ?it/s]\u001b[A\n",
      " 87%|█████████████████████████████████▉     | 173/199 [00:00<00:00, 260.81it/s]\u001b[A\n",
      " 60%|███████████████████████▍               | 118/196 [00:00<00:00, 276.04it/s]\u001b[A\n",
      "100%|███████████████████████████████████████| 198/198 [00:00<00:00, 204.97it/s]\u001b[A\n",
      "100%|███████████████████████████████████████| 197/197 [00:00<00:00, 271.28it/s]\n",
      "100%|████████████████████████████████████████████| 1/1 [00:00<00:00,  3.33it/s]\n",
      "\n"
     ]
    },
    {
     "name": "stdout",
     "output_type": "stream",
     "text": [
      "Total files processed: 1"
     ]
    },
    {
     "name": "stderr",
     "output_type": "stream",
     "text": [
      "  0%|                                                    | 0/1 [00:00<?, ?it/s]"
     ]
    },
    {
     "name": "stdout",
     "output_type": "stream",
     "text": [
      "\n"
     ]
    },
    {
     "name": "stderr",
     "output_type": "stream",
     "text": [
      "\u001b[A\n",
      "/w/hallb-scshelf2102/clas12/users/gmat/clas12/neutneut/analysis/neutron_ml/../../src/TrainData.py:84: FutureWarning: The default of observed=False is deprecated and will be changed to True in a future version of pandas. Pass observed=False to retain current behavior or observed=True to adopt the future default and silence this warning.\n",
      "  group_sizes = df.groupby(group_cols).size()\n",
      "100%|████████████████████████████████████████████| 1/1 [00:00<00:00,  4.81it/s]\u001b[A\n",
      "  0%|                                                    | 0/1 [00:00<?, ?it/s]\u001b[A\n",
      "100%|████████████████████████████████████████████| 1/1 [00:00<00:00,  5.40it/s]\u001b[A\n",
      "Processing CSV files:  33%|█████▊            | 163/500 [00:11<00:14, 23.91it/s]\u001b[A\n",
      "100%|████████████████████████████████████████████| 1/1 [00:00<00:00,  3.21it/s]\u001b[A\n"
     ]
    },
    {
     "name": "stdout",
     "output_type": "stream",
     "text": [
      "Total files processed: 1"
     ]
    },
    {
     "name": "stderr",
     "output_type": "stream",
     "text": [
      "\n"
     ]
    },
    {
     "name": "stdout",
     "output_type": "stream",
     "text": [
      "\n"
     ]
    },
    {
     "name": "stderr",
     "output_type": "stream",
     "text": [
      "100%|████████████████████████████████████████████| 1/1 [00:00<00:00,  4.65it/s]\u001b[A/w/hallb-scshelf2102/clas12/users/gmat/clas12/neutneut/analysis/neutron_ml/../../src/TrainData.py:84: FutureWarning: The default of observed=False is deprecated and will be changed to True in a future version of pandas. Pass observed=False to retain current behavior or observed=True to adopt the future default and silence this warning.\n",
      "  group_sizes = df.groupby(group_cols).size()\n",
      "\n"
     ]
    },
    {
     "name": "stdout",
     "output_type": "stream",
     "text": [
      "Total files processed: 1"
     ]
    },
    {
     "name": "stderr",
     "output_type": "stream",
     "text": [
      "100%|████████████████████████████████████████████| 1/1 [00:00<00:00,  4.52it/s]"
     ]
    },
    {
     "name": "stdout",
     "output_type": "stream",
     "text": [
      "\n"
     ]
    },
    {
     "name": "stderr",
     "output_type": "stream",
     "text": [
      "\n",
      "\n",
      "  0%|                                                    | 0/1 [00:00<?, ?it/s]/w/hallb-scshelf2102/clas12/users/gmat/clas12/neutneut/analysis/neutron_ml/../../src/TrainData.py:84: FutureWarning: The default of observed=False is deprecated and will be changed to True in a future version of pandas. Pass observed=False to retain current behavior or observed=True to adopt the future default and silence this warning.\n",
      "  group_sizes = df.groupby(group_cols).size()\n",
      "100%|████████████████████████████████████████████| 1/1 [00:00<00:00,  4.26it/s]\n"
     ]
    },
    {
     "name": "stdout",
     "output_type": "stream",
     "text": [
      "Total files processed: 1\n"
     ]
    },
    {
     "name": "stderr",
     "output_type": "stream",
     "text": [
      "100%|████████████████████████████████████████████| 1/1 [00:00<00:00,  3.22it/s]/w/hallb-scshelf2102/clas12/users/gmat/clas12/neutneut/analysis/neutron_ml/../../src/TrainData.py:84: FutureWarning: The default of observed=False is deprecated and will be changed to True in a future version of pandas. Pass observed=False to retain current behavior or observed=True to adopt the future default and silence this warning.\n",
      "  group_sizes = df.groupby(group_cols).size()\n"
     ]
    },
    {
     "name": "stdout",
     "output_type": "stream",
     "text": [
      "Total files processed: 1"
     ]
    },
    {
     "name": "stderr",
     "output_type": "stream",
     "text": [
      "\n"
     ]
    },
    {
     "name": "stdout",
     "output_type": "stream",
     "text": [
      "\n"
     ]
    },
    {
     "name": "stderr",
     "output_type": "stream",
     "text": [
      "100%|████████████████████████████████████████████| 1/1 [00:00<00:00,  3.66it/s]"
     ]
    },
    {
     "name": "stdout",
     "output_type": "stream",
     "text": [
      "Total files processed: 1"
     ]
    },
    {
     "name": "stderr",
     "output_type": "stream",
     "text": [
      "\n"
     ]
    },
    {
     "name": "stdout",
     "output_type": "stream",
     "text": [
      "\n",
      "Total files processed: 1"
     ]
    },
    {
     "name": "stderr",
     "output_type": "stream",
     "text": [
      "\n"
     ]
    },
    {
     "name": "stdout",
     "output_type": "stream",
     "text": [
      "\n"
     ]
    },
    {
     "name": "stderr",
     "output_type": "stream",
     "text": [
      "/w/hallb-scshelf2102/clas12/users/gmat/clas12/neutneut/analysis/neutron_ml/../../src/TrainData.py:84: FutureWarning: The default of observed=False is deprecated and will be changed to True in a future version of pandas. Pass observed=False to retain current behavior or observed=True to adopt the future default and silence this warning.\n",
      "  group_sizes = df.groupby(group_cols).size()\n",
      "/w/hallb-scshelf2102/clas12/users/gmat/clas12/neutneut/analysis/neutron_ml/../../src/TrainData.py:84: FutureWarning: The default of observed=False is deprecated and will be changed to True in a future version of pandas. Pass observed=False to retain current behavior or observed=True to adopt the future default and silence this warning.\n",
      "  group_sizes = df.groupby(group_cols).size()\n",
      "  0%|                                                    | 0/1 [00:00<?, ?it/s]\u001b[A/w/hallb-scshelf2102/clas12/users/gmat/clas12/neutneut/analysis/neutron_ml/../../src/TrainData.py:84: FutureWarning: The default of observed=False is deprecated and will be changed to True in a future version of pandas. Pass observed=False to retain current behavior or observed=True to adopt the future default and silence this warning.\n",
      "  group_sizes = df.groupby(group_cols).size()\n",
      "\n",
      "  0%|                                                  | 0/193 [00:00<?, ?it/s]\u001b[A\n",
      "100%|███████████████████████████████████████| 199/199 [00:00<00:00, 264.95it/s]\u001b[A\n",
      "\n",
      "  0%|                                                    | 0/1 [00:00<?, ?it/s]\u001b[A\n",
      " 78%|██████████████████████████████▍        | 153/196 [00:00<00:00, 298.37it/s]\u001b[A\n",
      "100%|████████████████████████████████████████████| 1/1 [00:00<00:00,  2.48it/s]\u001b[A\n",
      "\n"
     ]
    },
    {
     "name": "stdout",
     "output_type": "stream",
     "text": [
      "Total files processed: 1"
     ]
    },
    {
     "name": "stderr",
     "output_type": "stream",
     "text": [
      "  0%|                                                    | 0/1 [00:00<?, ?it/s]"
     ]
    },
    {
     "name": "stdout",
     "output_type": "stream",
     "text": [
      "\n"
     ]
    },
    {
     "name": "stderr",
     "output_type": "stream",
     "text": [
      "\u001b[A/w/hallb-scshelf2102/clas12/users/gmat/clas12/neutneut/analysis/neutron_ml/../../src/TrainData.py:84: FutureWarning: The default of observed=False is deprecated and will be changed to True in a future version of pandas. Pass observed=False to retain current behavior or observed=True to adopt the future default and silence this warning.\n",
      "  group_sizes = df.groupby(group_cols).size()\n",
      "\n",
      "  0%|                                                  | 0/199 [00:00<?, ?it/s]\u001b[A\n",
      "  0%|                                                  | 0/194 [00:00<?, ?it/s]\u001b[A\n",
      "Processing CSV files:  34%|██████            | 169/500 [00:11<00:12, 27.16it/s]\u001b[A\n",
      "100%|████████████████████████████████████████████| 1/1 [00:00<00:00,  6.04it/s]\u001b[A\n",
      "  0%|                                                  | 0/196 [00:00<?, ?it/s]\u001b[A\n",
      "100%|████████████████████████████████████████████| 1/1 [00:00<00:00,  3.27it/s]\u001b[A\n",
      "\n"
     ]
    },
    {
     "name": "stdout",
     "output_type": "stream",
     "text": [
      "Total files processed: 1\n"
     ]
    },
    {
     "name": "stderr",
     "output_type": "stream",
     "text": [
      "100%|████████████████████████████████████████████| 1/1 [00:00<00:00,  4.63it/s]\u001b[A/w/hallb-scshelf2102/clas12/users/gmat/clas12/neutneut/analysis/neutron_ml/../../src/TrainData.py:84: FutureWarning: The default of observed=False is deprecated and will be changed to True in a future version of pandas. Pass observed=False to retain current behavior or observed=True to adopt the future default and silence this warning.\n",
      "  group_sizes = df.groupby(group_cols).size()\n",
      "\n",
      "  0%|                                                  | 0/200 [00:00<?, ?it/s]\u001b[A\n",
      "  0%|                                                  | 0/194 [00:00<?, ?it/s]\u001b[A\n",
      "100%|████████████████████████████████████████████| 1/1 [00:00<00:00,  3.77it/s]\u001b[A\n",
      "\n",
      "  0%|                                                  | 0/196 [00:00<?, ?it/s]\u001b[A\n"
     ]
    },
    {
     "name": "stdout",
     "output_type": "stream",
     "text": [
      "Total files processed: 1"
     ]
    },
    {
     "name": "stderr",
     "output_type": "stream",
     "text": [
      "100%|████████████████████████████████████████████| 1/1 [00:00<00:00,  5.00it/s]\u001b[A\n"
     ]
    },
    {
     "name": "stdout",
     "output_type": "stream",
     "text": [
      "\n"
     ]
    },
    {
     "name": "stderr",
     "output_type": "stream",
     "text": [
      "100%|████████████████████████████████████████████| 1/1 [00:00<00:00,  6.10it/s]\u001b[A/w/hallb-scshelf2102/clas12/users/gmat/clas12/neutneut/analysis/neutron_ml/../../src/TrainData.py:84: FutureWarning: The default of observed=False is deprecated and will be changed to True in a future version of pandas. Pass observed=False to retain current behavior or observed=True to adopt the future default and silence this warning.\n",
      "  group_sizes = df.groupby(group_cols).size()\n",
      "\n",
      " 94%|████████████████████████████████████▊  | 185/196 [00:00<00:00, 301.95it/s]\u001b[A\n",
      "100%|████████████████████████████████████████████| 1/1 [00:00<00:00,  5.01it/s]\u001b[A\n",
      "100%|████████████████████████████████████████████| 1/1 [00:00<00:00,  5.06it/s]\u001b[A\n",
      "100%|████████████████████████████████████████████| 1/1 [00:00<00:00,  5.41it/s]\u001b[A\n",
      "100%|████████████████████████████████████████████| 1/1 [00:00<00:00,  5.06it/s]\u001b[A\n",
      "100%|████████████████████████████████████████████| 1/1 [00:00<00:00,  5.13it/s]\u001b[A\n",
      "  0%|                                                    | 0/1 [00:00<?, ?it/s]\u001b[A\n",
      "  0%|                                                  | 0/195 [00:00<?, ?it/s]\u001b[A\n",
      "100%|████████████████████████████████████████████| 1/1 [00:00<00:00,  5.64it/s]\u001b[A\n",
      "100%|████████████████████████████████████████████| 1/1 [00:00<00:00,  4.28it/s]\u001b[A\n",
      "  0%|                                                    | 0/1 [00:00<?, ?it/s]\u001b[A\n",
      " 19%|███████▋                                | 38/199 [00:00<00:00, 376.89it/s]\u001b[A\n",
      "100%|████████████████████████████████████████████| 1/1 [00:00<00:00,  5.80it/s]\u001b[A\n",
      " 20%|████████                                | 39/194 [00:00<00:00, 381.59it/s]\u001b[A\n",
      "100%|████████████████████████████████████████████| 1/1 [00:00<00:00,  3.16it/s]\u001b[A\n",
      "\n"
     ]
    },
    {
     "name": "stdout",
     "output_type": "stream",
     "text": [
      "Total files processed: 1"
     ]
    },
    {
     "name": "stderr",
     "output_type": "stream",
     "text": [
      "  0%|                                                    | 0/1 [00:00<?, ?it/s]"
     ]
    },
    {
     "name": "stdout",
     "output_type": "stream",
     "text": [
      "\n"
     ]
    },
    {
     "name": "stderr",
     "output_type": "stream",
     "text": [
      "100%|████████████████████████████████████████████| 1/1 [00:00<00:00,  2.93it/s]\n",
      "/w/hallb-scshelf2102/clas12/users/gmat/clas12/neutneut/analysis/neutron_ml/../../src/TrainData.py:84: FutureWarning: The default of observed=False is deprecated and will be changed to True in a future version of pandas. Pass observed=False to retain current behavior or observed=True to adopt the future default and silence this warning.\n",
      "  group_sizes = df.groupby(group_cols).size()\n",
      "\n"
     ]
    },
    {
     "name": "stdout",
     "output_type": "stream",
     "text": [
      "Total files processed: 1\n"
     ]
    },
    {
     "name": "stderr",
     "output_type": "stream",
     "text": [
      "  0%|                                                  | 0/196 [00:00<?, ?it/s]\u001b[A\n",
      "/w/hallb-scshelf2102/clas12/users/gmat/clas12/neutneut/analysis/neutron_ml/../../src/TrainData.py:84: FutureWarning: The default of observed=False is deprecated and will be changed to True in a future version of pandas. Pass observed=False to retain current behavior or observed=True to adopt the future default and silence this warning.\n",
      "  group_sizes = df.groupby(group_cols).size()\n",
      "100%|████████████████████████████████████████████| 1/1 [00:00<00:00,  4.23it/s]\u001b[A\n",
      "  0%|                                                    | 0/1 [00:00<?, ?it/s]\u001b[A\n",
      "100%|████████████████████████████████████████████| 1/1 [00:00<00:00,  4.05it/s]\u001b[A\n",
      "100%|████████████████████████████████████████████| 1/1 [00:00<00:00,  3.67it/s]"
     ]
    },
    {
     "name": "stdout",
     "output_type": "stream",
     "text": [
      "Total files processed: 1"
     ]
    },
    {
     "name": "stderr",
     "output_type": "stream",
     "text": [
      "\n"
     ]
    },
    {
     "name": "stdout",
     "output_type": "stream",
     "text": [
      "\n"
     ]
    },
    {
     "name": "stderr",
     "output_type": "stream",
     "text": [
      "\n"
     ]
    },
    {
     "name": "stdout",
     "output_type": "stream",
     "text": [
      "Total files processed: 1"
     ]
    },
    {
     "name": "stderr",
     "output_type": "stream",
     "text": [
      " 41%|████████████████▌                       | 80/193 [00:00<00:00, 328.60it/s]"
     ]
    },
    {
     "name": "stdout",
     "output_type": "stream",
     "text": [
      "\n"
     ]
    },
    {
     "name": "stderr",
     "output_type": "stream",
     "text": [
      "\u001b[A/w/hallb-scshelf2102/clas12/users/gmat/clas12/neutneut/analysis/neutron_ml/../../src/TrainData.py:84: FutureWarning: The default of observed=False is deprecated and will be changed to True in a future version of pandas. Pass observed=False to retain current behavior or observed=True to adopt the future default and silence this warning.\n",
      "  group_sizes = df.groupby(group_cols).size()\n",
      "100%|████████████████████████████████████████████| 1/1 [00:00<00:00,  2.99it/s]\n",
      "/w/hallb-scshelf2102/clas12/users/gmat/clas12/neutneut/analysis/neutron_ml/../../src/TrainData.py:84: FutureWarning: The default of observed=False is deprecated and will be changed to True in a future version of pandas. Pass observed=False to retain current behavior or observed=True to adopt the future default and silence this warning.\n",
      "  group_sizes = df.groupby(group_cols).size()\n"
     ]
    },
    {
     "name": "stdout",
     "output_type": "stream",
     "text": [
      "Total files processed: 1"
     ]
    },
    {
     "name": "stderr",
     "output_type": "stream",
     "text": [
      "\n"
     ]
    },
    {
     "name": "stdout",
     "output_type": "stream",
     "text": [
      "\n"
     ]
    },
    {
     "name": "stderr",
     "output_type": "stream",
     "text": [
      "100%|████████████████████████████████████████████| 1/1 [00:00<00:00,  6.77it/s]/w/hallb-scshelf2102/clas12/users/gmat/clas12/neutneut/analysis/neutron_ml/../../src/TrainData.py:84: FutureWarning: The default of observed=False is deprecated and will be changed to True in a future version of pandas. Pass observed=False to retain current behavior or observed=True to adopt the future default and silence this warning.\n",
      "  group_sizes = df.groupby(group_cols).size()\n",
      "100%|████████████████████████████████████████████| 1/1 [00:00<00:00,  2.92it/s]\n"
     ]
    },
    {
     "name": "stdout",
     "output_type": "stream",
     "text": [
      "Total files processed: 1"
     ]
    },
    {
     "name": "stderr",
     "output_type": "stream",
     "text": [
      "100%|████████████████████████████████████████████| 1/1 [00:00<00:00,  4.02it/s]"
     ]
    },
    {
     "name": "stdout",
     "output_type": "stream",
     "text": [
      "\n"
     ]
    },
    {
     "name": "stderr",
     "output_type": "stream",
     "text": [
      "\n"
     ]
    },
    {
     "name": "stdout",
     "output_type": "stream",
     "text": [
      "Total files processed: 1\n"
     ]
    },
    {
     "name": "stderr",
     "output_type": "stream",
     "text": [
      "/w/hallb-scshelf2102/clas12/users/gmat/clas12/neutneut/analysis/neutron_ml/../../src/TrainData.py:84: FutureWarning: The default of observed=False is deprecated and will be changed to True in a future version of pandas. Pass observed=False to retain current behavior or observed=True to adopt the future default and silence this warning.\n",
      "  group_sizes = df.groupby(group_cols).size()\n",
      "\n",
      "/w/hallb-scshelf2102/clas12/users/gmat/clas12/neutneut/analysis/neutron_ml/../../src/TrainData.py:84: FutureWarning: The default of observed=False is deprecated and will be changed to True in a future version of pandas. Pass observed=False to retain current behavior or observed=True to adopt the future default and silence this warning.\n",
      "  group_sizes = df.groupby(group_cols).size()\n",
      "100%|████████████████████████████████████████████| 1/1 [00:00<00:00,  2.99it/s]\u001b[A\n",
      "\n"
     ]
    },
    {
     "name": "stdout",
     "output_type": "stream",
     "text": [
      "Total files processed: 1"
     ]
    },
    {
     "name": "stderr",
     "output_type": "stream",
     "text": [
      "  0%|                                                    | 0/1 [00:00<?, ?it/s]"
     ]
    },
    {
     "name": "stdout",
     "output_type": "stream",
     "text": [
      "\n"
     ]
    },
    {
     "name": "stderr",
     "output_type": "stream",
     "text": [
      "100%|████████████████████████████████████████████| 1/1 [00:00<00:00,  3.04it/s]/w/hallb-scshelf2102/clas12/users/gmat/clas12/neutneut/analysis/neutron_ml/../../src/TrainData.py:84: FutureWarning: The default of observed=False is deprecated and will be changed to True in a future version of pandas. Pass observed=False to retain current behavior or observed=True to adopt the future default and silence this warning.\n",
      "  group_sizes = df.groupby(group_cols).size()\n",
      "\n"
     ]
    },
    {
     "name": "stdout",
     "output_type": "stream",
     "text": [
      "Total files processed: 1"
     ]
    },
    {
     "name": "stderr",
     "output_type": "stream",
     "text": [
      "100%|████████████████████████████████████████████| 1/1 [00:00<00:00,  3.04it/s]\n"
     ]
    },
    {
     "name": "stdout",
     "output_type": "stream",
     "text": [
      "Total files processed: 1\n"
     ]
    },
    {
     "name": "stderr",
     "output_type": "stream",
     "text": [
      "\n",
      "/w/hallb-scshelf2102/clas12/users/gmat/clas12/neutneut/analysis/neutron_ml/../../src/TrainData.py:84: FutureWarning: The default of observed=False is deprecated and will be changed to True in a future version of pandas. Pass observed=False to retain current behavior or observed=True to adopt the future default and silence this warning.\n",
      "  group_sizes = df.groupby(group_cols).size()\n",
      " 22%|████████▊                               | 44/200 [00:00<00:00, 439.10it/s]\u001b[A\n",
      "  0%|                                                    | 0/1 [00:00<?, ?it/s]\u001b[A\n"
     ]
    },
    {
     "name": "stdout",
     "output_type": "stream",
     "text": [
      "\n"
     ]
    },
    {
     "name": "stderr",
     "output_type": "stream",
     "text": [
      "/w/hallb-scshelf2102/clas12/users/gmat/clas12/neutneut/analysis/neutron_ml/../../src/TrainData.py:84: FutureWarning: The default of observed=False is deprecated and will be changed to True in a future version of pandas. Pass observed=False to retain current behavior or observed=True to adopt the future default and silence this warning.\n",
      "  group_sizes = df.groupby(group_cols).size()\n",
      " 21%|████████▏                               | 40/194 [00:00<00:00, 395.93it/s]\u001b[A\n",
      "100%|███████████████████████████████████████| 196/196 [00:00<00:00, 244.03it/s]\u001b[A\n",
      "\n",
      "100%|████████████████████████████████████████████| 1/1 [00:00<00:00,  2.52it/s]\u001b[A\n"
     ]
    },
    {
     "name": "stdout",
     "output_type": "stream",
     "text": [
      "Total files processed: 1\n"
     ]
    },
    {
     "name": "stderr",
     "output_type": "stream",
     "text": [
      "\n",
      "/w/hallb-scshelf2102/clas12/users/gmat/clas12/neutneut/analysis/neutron_ml/../../src/TrainData.py:84: FutureWarning: The default of observed=False is deprecated and will be changed to True in a future version of pandas. Pass observed=False to retain current behavior or observed=True to adopt the future default and silence this warning.\n",
      "  group_sizes = df.groupby(group_cols).size()\n",
      "100%|████████████████████████████████████████████| 1/1 [00:00<00:00,  3.19it/s]\u001b[A\n",
      "100%|████████████████████████████████████████████| 1/1 [00:00<00:00,  2.64it/s]"
     ]
    },
    {
     "name": "stdout",
     "output_type": "stream",
     "text": [
      "Total files processed: 1\n"
     ]
    },
    {
     "name": "stderr",
     "output_type": "stream",
     "text": [
      "/w/hallb-scshelf2102/clas12/users/gmat/clas12/neutneut/analysis/neutron_ml/../../src/TrainData.py:84: FutureWarning: The default of observed=False is deprecated and will be changed to True in a future version of pandas. Pass observed=False to retain current behavior or observed=True to adopt the future default and silence this warning.\n",
      "  group_sizes = df.groupby(group_cols).size()\n",
      "\n"
     ]
    },
    {
     "name": "stdout",
     "output_type": "stream",
     "text": [
      "Total files processed: 1"
     ]
    },
    {
     "name": "stderr",
     "output_type": "stream",
     "text": [
      "100%|████████████████████████████████████████████| 1/1 [00:00<00:00,  2.45it/s]"
     ]
    },
    {
     "name": "stdout",
     "output_type": "stream",
     "text": [
      "\n"
     ]
    },
    {
     "name": "stderr",
     "output_type": "stream",
     "text": [
      "\n",
      "\n"
     ]
    },
    {
     "name": "stdout",
     "output_type": "stream",
     "text": [
      "Total files processed: 1"
     ]
    },
    {
     "name": "stderr",
     "output_type": "stream",
     "text": [
      "/w/hallb-scshelf2102/clas12/users/gmat/clas12/neutneut/analysis/neutron_ml/../../src/TrainData.py:84: FutureWarning: The default of observed=False is deprecated and will be changed to True in a future version of pandas. Pass observed=False to retain current behavior or observed=True to adopt the future default and silence this warning.\n",
      "  group_sizes = df.groupby(group_cols).size()\n"
     ]
    },
    {
     "name": "stdout",
     "output_type": "stream",
     "text": [
      "\n"
     ]
    },
    {
     "name": "stderr",
     "output_type": "stream",
     "text": [
      "/w/hallb-scshelf2102/clas12/users/gmat/clas12/neutneut/analysis/neutron_ml/../../src/TrainData.py:84: FutureWarning: The default of observed=False is deprecated and will be changed to True in a future version of pandas. Pass observed=False to retain current behavior or observed=True to adopt the future default and silence this warning.\n",
      "  group_sizes = df.groupby(group_cols).size()\n",
      " 21%|████████▍                               | 41/195 [00:00<00:00, 404.25it/s]\u001b[A\n",
      " 38%|███████████████▎                        | 76/199 [00:00<00:00, 337.74it/s]\u001b[A\n",
      "100%|████████████████████████████████████████████| 1/1 [00:00<00:00,  2.90it/s]\u001b[A\n",
      "\n"
     ]
    },
    {
     "name": "stdout",
     "output_type": "stream",
     "text": [
      "Total files processed: 1"
     ]
    },
    {
     "name": "stderr",
     "output_type": "stream",
     "text": [
      "  0%|                                                  | 0/198 [00:00<?, ?it/s]"
     ]
    },
    {
     "name": "stdout",
     "output_type": "stream",
     "text": [
      "\n"
     ]
    },
    {
     "name": "stderr",
     "output_type": "stream",
     "text": [
      "\u001b[A\n",
      "/w/hallb-scshelf2102/clas12/users/gmat/clas12/neutneut/analysis/neutron_ml/../../src/TrainData.py:84: FutureWarning: The default of observed=False is deprecated and will be changed to True in a future version of pandas. Pass observed=False to retain current behavior or observed=True to adopt the future default and silence this warning.\n",
      "  group_sizes = df.groupby(group_cols).size()\n",
      "  0%|                                                  | 0/196 [00:00<?, ?it/s]\u001b[A\n",
      " 22%|████████▊                               | 43/196 [00:00<00:00, 426.70it/s]\u001b[A\n",
      " 62%|████████████████████████▏              | 120/193 [00:00<00:00, 356.48it/s]\u001b[A\n",
      "100%|████████████████████████████████████████████| 1/1 [00:00<00:00,  7.36it/s]\u001b[A\n",
      " 43%|█████████████████▏                      | 84/196 [00:00<00:00, 313.42it/s]\u001b[A\n",
      "100%|████████████████████████████████████████████| 1/1 [00:00<00:00,  5.58it/s]\u001b[A\n",
      " 41%|████████████████▍                       | 80/194 [00:00<00:00, 316.33it/s]\u001b[A\n",
      "100%|████████████████████████████████████████████| 1/1 [00:00<00:00,  5.81it/s]\u001b[A\n",
      " 44%|█████████████████▌                      | 88/200 [00:00<00:00, 325.91it/s]\u001b[A\n",
      "100%|████████████████████████████████████████████| 1/1 [00:00<00:00,  2.83it/s]\u001b[A\n",
      "\n"
     ]
    },
    {
     "name": "stdout",
     "output_type": "stream",
     "text": [
      "Total files processed: 1"
     ]
    },
    {
     "name": "stderr",
     "output_type": "stream",
     "text": [
      "  0%|                                                  | 0/198 [00:00<?, ?it/s]"
     ]
    },
    {
     "name": "stdout",
     "output_type": "stream",
     "text": [
      "\n"
     ]
    },
    {
     "name": "stderr",
     "output_type": "stream",
     "text": [
      "\u001b[A/w/hallb-scshelf2102/clas12/users/gmat/clas12/neutneut/analysis/neutron_ml/../../src/TrainData.py:84: FutureWarning: The default of observed=False is deprecated and will be changed to True in a future version of pandas. Pass observed=False to retain current behavior or observed=True to adopt the future default and silence this warning.\n",
      "  group_sizes = df.groupby(group_cols).size()\n",
      "\n",
      " 19%|███████▍                                | 37/199 [00:00<00:00, 367.61it/s]\u001b[A\n",
      "  0%|                                                  | 0/198 [00:00<?, ?it/s]\u001b[A\n",
      "  0%|                                                  | 0/199 [00:00<?, ?it/s]\u001b[A\n",
      "  0%|                                                  | 0/197 [00:00<?, ?it/s]\u001b[A\n",
      " 42%|████████████████▋                       | 82/196 [00:00<00:00, 290.00it/s]\u001b[A\n",
      "100%|████████████████████████████████████████████| 1/1 [00:00<00:00,  4.90it/s]\u001b[A\n",
      "  0%|                                                  | 0/197 [00:00<?, ?it/s]\u001b[A\n",
      "100%|████████████████████████████████████████████| 1/1 [00:00<00:00,  6.17it/s]\u001b[A\n",
      "  0%|                                                  | 0/196 [00:00<?, ?it/s]\u001b[A\n",
      "  0%|                                                  | 0/197 [00:00<?, ?it/s]\u001b[A\n",
      "100%|████████████████████████████████████████████| 1/1 [00:00<00:00,  5.33it/s]\u001b[A\n",
      "  0%|                                                  | 0/196 [00:00<?, ?it/s]\u001b[A\n",
      " 56%|█████████████████████▊                 | 111/199 [00:00<00:00, 268.02it/s]\u001b[A\n",
      "100%|████████████████████████████████████████████| 1/1 [00:00<00:00,  3.41it/s]\u001b[A\n",
      "\n"
     ]
    },
    {
     "name": "stdout",
     "output_type": "stream",
     "text": [
      "Total files processed: 1\n"
     ]
    },
    {
     "name": "stderr",
     "output_type": "stream",
     "text": [
      "  0%|                                                  | 0/195 [00:00<?, ?it/s]\u001b[A/w/hallb-scshelf2102/clas12/users/gmat/clas12/neutneut/analysis/neutron_ml/../../src/TrainData.py:84: FutureWarning: The default of observed=False is deprecated and will be changed to True in a future version of pandas. Pass observed=False to retain current behavior or observed=True to adopt the future default and silence this warning.\n",
      "  group_sizes = df.groupby(group_cols).size()\n",
      "\n",
      "Processing CSV files:  35%|██████▎           | 175/500 [00:11<00:15, 20.92it/s]\u001b[A\n",
      " 81%|███████████████████████████████▋       | 157/193 [00:00<00:00, 295.64it/s]\u001b[A\n",
      " 58%|██████████████████████▋                | 113/194 [00:00<00:00, 303.21it/s]\u001b[A\n",
      "100%|████████████████████████████████████████████| 1/1 [00:00<00:00,  2.65it/s]\u001b[A\n",
      "\n"
     ]
    },
    {
     "name": "stdout",
     "output_type": "stream",
     "text": [
      "Total files processed: 1\n"
     ]
    },
    {
     "name": "stderr",
     "output_type": "stream",
     "text": [
      " 60%|███████████████████████▎               | 117/196 [00:00<00:00, 278.29it/s]/w/hallb-scshelf2102/clas12/users/gmat/clas12/neutneut/analysis/neutron_ml/../../src/TrainData.py:84: FutureWarning: The default of observed=False is deprecated and will be changed to True in a future version of pandas. Pass observed=False to retain current behavior or observed=True to adopt the future default and silence this warning.\n",
      "  group_sizes = df.groupby(group_cols).size()\n",
      "\u001b[A\n",
      "100%|████████████████████████████████████████████| 1/1 [00:00<00:00,  2.63it/s]\u001b[A\n",
      "\n"
     ]
    },
    {
     "name": "stdout",
     "output_type": "stream",
     "text": [
      "Total files processed: 1\n"
     ]
    },
    {
     "name": "stderr",
     "output_type": "stream",
     "text": [
      "  0%|                                                  | 0/197 [00:00<?, ?it/s]/w/hallb-scshelf2102/clas12/users/gmat/clas12/neutneut/analysis/neutron_ml/../../src/TrainData.py:84: FutureWarning: The default of observed=False is deprecated and will be changed to True in a future version of pandas. Pass observed=False to retain current behavior or observed=True to adopt the future default and silence this warning.\n",
      "  group_sizes = df.groupby(group_cols).size()\n",
      "100%|████████████████████████████████████████████| 1/1 [00:00<00:00,  2.42it/s]\n",
      "\n"
     ]
    },
    {
     "name": "stdout",
     "output_type": "stream",
     "text": [
      "Total files processed: 1"
     ]
    },
    {
     "name": "stderr",
     "output_type": "stream",
     "text": [
      " 21%|████████▌                               | 42/196 [00:00<00:00, 415.10it/s]"
     ]
    },
    {
     "name": "stdout",
     "output_type": "stream",
     "text": [
      "\n"
     ]
    },
    {
     "name": "stderr",
     "output_type": "stream",
     "text": [
      "\u001b[A/w/hallb-scshelf2102/clas12/users/gmat/clas12/neutneut/analysis/neutron_ml/../../src/TrainData.py:84: FutureWarning: The default of observed=False is deprecated and will be changed to True in a future version of pandas. Pass observed=False to retain current behavior or observed=True to adopt the future default and silence this warning.\n",
      "  group_sizes = df.groupby(group_cols).size()\n",
      "\n",
      " 44%|█████████████████▌                      | 86/196 [00:00<00:00, 280.91it/s]\u001b[A\n",
      "  0%|                                                  | 0/197 [00:00<?, ?it/s]\u001b[A\n",
      "  0%|                                                  | 0/194 [00:00<?, ?it/s]\u001b[A\n",
      " 62%|███████████████████████▉               | 123/200 [00:00<00:00, 299.28it/s]\u001b[A\n",
      "  0%|                                                    | 0/1 [00:00<?, ?it/s]\u001b[A\n",
      " 37%|██████████████▊                         | 74/199 [00:00<00:00, 309.36it/s]\u001b[A\n",
      " 58%|██████████████████████▍                | 113/196 [00:00<00:00, 273.50it/s]\u001b[A\n",
      " 21%|████████▍                               | 42/198 [00:00<00:00, 416.62it/s]\u001b[A\n",
      " 22%|████████▉                               | 44/198 [00:00<00:00, 436.63it/s]\u001b[A\n",
      " 23%|█████████                               | 45/199 [00:00<00:00, 444.80it/s]\u001b[A\n",
      " 24%|█████████▌                              | 47/197 [00:00<00:00, 469.84it/s]\u001b[A\n",
      "100%|████████████████████████████████████████████| 1/1 [00:00<00:00,  2.16it/s]\u001b[A\n",
      "\n"
     ]
    },
    {
     "name": "stdout",
     "output_type": "stream",
     "text": [
      "Total files processed: 1"
     ]
    },
    {
     "name": "stderr",
     "output_type": "stream",
     "text": [
      " 70%|███████████████████████████▍           | 140/199 [00:00<00:00, 255.13it/s]\u001b[A"
     ]
    },
    {
     "name": "stdout",
     "output_type": "stream",
     "text": [
      "\n"
     ]
    },
    {
     "name": "stderr",
     "output_type": "stream",
     "text": [
      "\n",
      " 73%|████████████████████████████▎          | 141/194 [00:00<00:00, 252.60it/s]/w/hallb-scshelf2102/clas12/users/gmat/clas12/neutneut/analysis/neutron_ml/../../src/TrainData.py:84: FutureWarning: The default of observed=False is deprecated and will be changed to True in a future version of pandas. Pass observed=False to retain current behavior or observed=True to adopt the future default and silence this warning.\n",
      "  group_sizes = df.groupby(group_cols).size()\n",
      "\u001b[A\n",
      " 22%|████████▋                               | 43/197 [00:00<00:00, 424.02it/s]\u001b[A\n",
      "100%|████████████████████████████████████████████| 1/1 [00:00<00:00,  2.34it/s]\u001b[A\n",
      "\n"
     ]
    },
    {
     "name": "stdout",
     "output_type": "stream",
     "text": [
      "Total files processed: 1"
     ]
    },
    {
     "name": "stderr",
     "output_type": "stream",
     "text": [
      " 22%|████████▋                               | 43/197 [00:00<00:00, 424.10it/s]"
     ]
    },
    {
     "name": "stdout",
     "output_type": "stream",
     "text": [
      "\n"
     ]
    },
    {
     "name": "stderr",
     "output_type": "stream",
     "text": [
      "\u001b[A/w/hallb-scshelf2102/clas12/users/gmat/clas12/neutneut/analysis/neutron_ml/../../src/TrainData.py:84: FutureWarning: The default of observed=False is deprecated and will be changed to True in a future version of pandas. Pass observed=False to retain current behavior or observed=True to adopt the future default and silence this warning.\n",
      "  group_sizes = df.groupby(group_cols).size()\n",
      "\n",
      " 24%|█████████▊                              | 48/196 [00:00<00:00, 468.68it/s]\u001b[A\n",
      " 98%|██████████████████████████████████████▏| 189/193 [00:00<00:00, 279.80it/s]\u001b[A\n",
      "100%|████████████████████████████████████████████| 1/1 [00:00<00:00,  2.06it/s]\u001b[A\n",
      "\n"
     ]
    },
    {
     "name": "stdout",
     "output_type": "stream",
     "text": [
      "Total files processed: 1\n"
     ]
    },
    {
     "name": "stderr",
     "output_type": "stream",
     "text": [
      " 24%|█████████▍                              | 46/195 [00:00<00:00, 451.94it/s]\u001b[A/w/hallb-scshelf2102/clas12/users/gmat/clas12/neutneut/analysis/neutron_ml/../../src/TrainData.py:84: FutureWarning: The default of observed=False is deprecated and will be changed to True in a future version of pandas. Pass observed=False to retain current behavior or observed=True to adopt the future default and silence this warning.\n",
      "  group_sizes = df.groupby(group_cols).size()\n",
      "\n",
      "  0%|                                                  | 0/196 [00:00<?, ?it/s]\u001b[A\n",
      " 74%|█████████████████████████████          | 146/196 [00:00<00:00, 241.58it/s]\u001b[A\n",
      " 46%|██████████████████▌                     | 92/198 [00:00<00:00, 313.45it/s]\u001b[A\n",
      " 22%|████████▉                               | 44/196 [00:00<00:00, 432.57it/s]\u001b[A\n",
      " 60%|███████████████████████▎               | 117/196 [00:00<00:00, 226.78it/s]\u001b[A\n",
      " 77%|██████████████████████████████         | 154/200 [00:00<00:00, 238.14it/s]\u001b[A\n",
      " 21%|████████▎                               | 41/197 [00:00<00:00, 403.30it/s]\u001b[A\n",
      " 72%|████████████████████████████▎          | 142/196 [00:00<00:00, 237.82it/s]\u001b[A\n",
      " 53%|████████████████████▊                  | 106/199 [00:00<00:00, 246.28it/s]\u001b[A\n",
      " 43%|█████████████████▏                      | 84/196 [00:00<00:00, 260.55it/s]\u001b[A\n",
      " 22%|████████▉                               | 44/197 [00:00<00:00, 437.78it/s]\u001b[A\n",
      " 22%|████████▋                               | 42/194 [00:00<00:00, 412.53it/s]\u001b[A\n",
      " 42%|████████████████▉                       | 84/198 [00:00<00:00, 271.34it/s]\u001b[A\n",
      " 73%|████████████████████████████▌          | 143/195 [00:00<00:00, 229.79it/s]\u001b[A\n",
      " 44%|█████████████████▊                      | 88/198 [00:00<00:00, 285.97it/s]\u001b[A\n",
      " 74%|████████████████████████████▉          | 144/194 [00:00<00:00, 263.49it/s]\u001b[A\n",
      " 84%|████████████████████████████████▋      | 167/199 [00:00<00:00, 210.45it/s]\u001b[A\n",
      " 48%|███████████████████                     | 94/197 [00:00<00:00, 300.26it/s]\u001b[A\n",
      " 45%|██████████████████                      | 90/199 [00:00<00:00, 282.19it/s]\u001b[A\n",
      "  0%|                                                  | 0/199 [00:00<?, ?it/s]\u001b[A\n",
      " 87%|█████████████████████████████████▊     | 168/194 [00:00<00:00, 207.85it/s]\u001b[A\n",
      " 44%|█████████████████▍                      | 86/197 [00:00<00:00, 275.62it/s]\u001b[A\n",
      " 44%|█████████████████▍                      | 86/197 [00:00<00:00, 279.87it/s]\u001b[A\n",
      " 44%|█████████████████▌                      | 86/196 [00:00<00:00, 269.02it/s]\u001b[A\n",
      " 87%|██████████████████████████████████     | 171/196 [00:00<00:00, 203.79it/s]\u001b[A\n",
      " 72%|████████████████████████████▎          | 142/196 [00:00<00:00, 206.68it/s]\u001b[A\n",
      " 48%|███████████████████▍                    | 95/196 [00:00<00:00, 280.26it/s]\u001b[A\n",
      "100%|████████████████████████████████████████████| 1/1 [00:00<00:00,  4.87it/s]\u001b[A\n",
      "  0%|                                                  | 0/198 [00:00<?, ?it/s]\u001b[A\n",
      "100%|███████████████████████████████████████| 193/193 [00:00<00:00, 205.78it/s]\u001b[A\n",
      "\n",
      " 64%|████████████████████████▊              | 126/198 [00:00<00:00, 260.74it/s]\u001b[A\n",
      " 21%|████████▌                               | 42/197 [00:00<00:00, 413.61it/s]\u001b[A\n",
      " 47%|██████████████████▊                     | 92/195 [00:00<00:00, 258.72it/s]\u001b[A\n",
      " 22%|████████▉                               | 44/196 [00:00<00:00, 432.47it/s]\u001b[A\n",
      " 98%|██████████████████████████████████████▍| 193/196 [00:00<00:00, 194.40it/s]\u001b[A\n",
      " 45%|█████████████████▉                      | 88/196 [00:00<00:00, 293.70it/s]\u001b[A\n",
      " 85%|█████████████████████████████████▏     | 167/196 [00:00<00:00, 201.37it/s]\u001b[A\n",
      "  0%|                                                  | 0/198 [00:00<?, ?it/s]\u001b[A\n",
      " 66%|█████████████████████████▊             | 132/199 [00:00<00:00, 204.35it/s]\u001b[A\n",
      " 58%|██████████████████████▋                | 114/196 [00:00<00:00, 210.74it/s]\u001b[A\n",
      " 42%|████████████████▋                       | 82/197 [00:00<00:00, 263.64it/s]\u001b[A\n",
      " 86%|█████████████████████████████████▌     | 168/195 [00:00<00:00, 206.46it/s]\u001b[A\n",
      " 95%|█████████████████████████████████████▏ | 190/199 [00:00<00:00, 192.72it/s]\u001b[A\n",
      " 58%|██████████████████████▍                | 114/198 [00:00<00:00, 232.45it/s]\u001b[A\n",
      " 89%|██████████████████████████████████▌    | 172/194 [00:00<00:00, 178.52it/s]\u001b[A\n",
      " 45%|█████████████████▊                      | 88/197 [00:00<00:00, 276.25it/s]\u001b[A\n",
      " 61%|███████████████████████▋               | 120/198 [00:00<00:00, 241.94it/s]\u001b[A\n",
      " 43%|█████████████████▎                      | 84/194 [00:00<00:00, 264.05it/s]\u001b[A\n",
      " 98%|██████████████████████████████████████▍| 191/194 [00:00<00:00, 187.34it/s]\u001b[A\n",
      "  0%|                                                  | 0/194 [00:00<?, ?it/s]\u001b[A\n",
      "  0%|                                                  | 0/196 [00:00<?, ?it/s]\u001b[A\n",
      " 65%|█████████████████████████▎             | 128/197 [00:00<00:00, 248.98it/s]\u001b[A\n",
      " 61%|███████████████████████▉               | 122/199 [00:00<00:00, 234.81it/s]\u001b[A\n",
      "  0%|                                                  | 0/194 [00:00<?, ?it/s]\u001b[A\n",
      " 84%|████████████████████████████████▋      | 164/196 [00:00<00:00, 194.68it/s]\u001b[A\n",
      " 59%|███████████████████████▏               | 117/197 [00:00<00:00, 238.03it/s]\u001b[A\n",
      " 59%|███████████████████████▏               | 117/197 [00:00<00:00, 232.84it/s]\u001b[A\n",
      " 60%|███████████████████████▎               | 117/196 [00:00<00:00, 233.53it/s]\u001b[A\n",
      "  0%|                                                  | 0/195 [00:00<?, ?it/s]\u001b[A\n",
      " 23%|█████████                               | 45/199 [00:00<00:00, 443.13it/s]\u001b[A\n",
      " 65%|█████████████████████████▍             | 128/196 [00:00<00:00, 247.99it/s]\u001b[A\n",
      " 78%|██████████████████████████████▎        | 154/198 [00:00<00:00, 225.90it/s]\u001b[A\n",
      " 63%|████████████████████████▌              | 123/195 [00:00<00:00, 235.23it/s]\u001b[A\n",
      " 96%|█████████████████████████████████████▌ | 189/196 [00:00<00:00, 184.82it/s]\u001b[A\n",
      " 77%|██████████████████████████████▏        | 154/199 [00:00<00:00, 185.36it/s]\u001b[A\n",
      " 97%|██████████████████████████████████████ | 190/195 [00:00<00:00, 196.33it/s]\u001b[A\n",
      " 22%|████████▉                               | 44/198 [00:00<00:00, 439.34it/s]\u001b[A\n",
      " 61%|███████████████████████▉               | 120/196 [00:00<00:00, 248.24it/s]\u001b[A\n",
      " 43%|█████████████████                       | 84/197 [00:00<00:00, 287.44it/s]\u001b[A\n",
      "100%|████████████████████████████████████████████| 1/1 [00:00<00:00,  1.98it/s]\u001b[A\n",
      "\n"
     ]
    },
    {
     "name": "stdout",
     "output_type": "stream",
     "text": [
      "Total files processed: 1\n"
     ]
    },
    {
     "name": "stderr",
     "output_type": "stream",
     "text": [
      " 45%|█████████████████▉                      | 88/196 [00:00<00:00, 304.01it/s]/w/hallb-scshelf2102/clas12/users/gmat/clas12/neutneut/analysis/neutron_ml/../../src/TrainData.py:84: FutureWarning: The default of observed=False is deprecated and will be changed to True in a future version of pandas. Pass observed=False to retain current behavior or observed=True to adopt the future default and silence this warning.\n",
      "  group_sizes = df.groupby(group_cols).size()\n",
      "\u001b[A\n",
      " 57%|██████████████████████▏                | 112/197 [00:00<00:00, 236.63it/s]\u001b[A\n",
      "100%|███████████████████████████████████████| 196/196 [00:01<00:00, 187.62it/s]\u001b[A\n",
      "\n",
      "100%|███████████████████████████████████████| 194/194 [00:01<00:00, 170.61it/s]\u001b[A\n",
      " 24%|█████████▍                              | 47/198 [00:00<00:00, 461.33it/s]\u001b[A\n",
      " 74%|████████████████████████████▊          | 146/198 [00:00<00:00, 206.53it/s]\u001b[A\n",
      " 59%|██████████████████████▉                | 114/194 [00:00<00:00, 219.91it/s]\u001b[A\n",
      " 60%|███████████████████████▌               | 119/197 [00:00<00:00, 227.02it/s]\u001b[A\n",
      " 94%|████████████████████████████████████▌  | 184/196 [00:00<00:00, 178.04it/s]\u001b[A\n",
      " 74%|█████████████████████████████          | 148/199 [00:00<00:00, 205.99it/s]\u001b[A\n",
      " 79%|██████████████████████████████▉        | 156/197 [00:00<00:00, 217.71it/s]\u001b[A\n",
      "100%|███████████████████████████████████████| 199/199 [00:01<00:00, 176.38it/s]\u001b[A\n",
      "\n",
      " 73%|████████████████████████████▎          | 143/197 [00:00<00:00, 209.26it/s]\u001b[A\n",
      " 73%|████████████████████████████▍          | 143/196 [00:00<00:00, 211.48it/s]\u001b[A\n",
      " 22%|████████▊                               | 43/194 [00:00<00:00, 421.79it/s]\u001b[A\n",
      " 79%|██████████████████████████████▊        | 155/196 [00:00<00:00, 222.68it/s]\u001b[A\n",
      " 22%|████████▉                               | 44/196 [00:00<00:00, 436.76it/s]\u001b[A\n",
      "100%|███████████████████████████████████████| 194/194 [00:01<00:00, 167.95it/s]\u001b[A\n",
      "\n",
      "100%|███████████████████████████████████████| 194/194 [00:01<00:00, 176.68it/s]\u001b[A\n",
      "100%|███████████████████████████████████████| 200/200 [00:01<00:00, 179.45it/s]\n",
      "\n",
      " 87%|██████████████████████████████████     | 174/199 [00:00<00:00, 172.42it/s]\u001b[A\n",
      " 24%|█████████▋                              | 47/195 [00:00<00:00, 463.97it/s]\u001b[A\n",
      " 76%|█████████████████████████████▊         | 149/195 [00:00<00:00, 205.60it/s]\u001b[A\n",
      " 45%|██████████████████                      | 90/199 [00:00<00:00, 277.89it/s]\u001b[A\n",
      " 81%|███████████████████████████████▋       | 159/196 [00:00<00:00, 177.17it/s]\u001b[A\n",
      " 75%|█████████████████████████████▎         | 147/196 [00:00<00:00, 218.01it/s]\u001b[A\n",
      " 81%|███████████████████████████████▋       | 161/198 [00:00<00:00, 189.44it/s]\u001b[A\n",
      " 58%|██████████████████████▊                | 115/197 [00:00<00:00, 237.15it/s]\u001b[A\n",
      " 70%|███████████████████████████▎           | 138/197 [00:00<00:00, 206.48it/s]\u001b[A\n",
      "100%|███████████████████████████████████████| 196/196 [00:01<00:00, 178.78it/s]\u001b[A\n",
      "\n",
      "100%|███████████████████████████████████████| 195/195 [00:01<00:00, 171.59it/s]\u001b[A\n",
      "\n",
      " 85%|█████████████████████████████████      | 168/198 [00:00<00:00, 191.81it/s]\u001b[A\n",
      " 73%|████████████████████████████▌          | 144/197 [00:00<00:00, 216.09it/s]\u001b[A\n",
      " 71%|███████████████████████████▋           | 138/194 [00:00<00:00, 206.11it/s]\u001b[A\n",
      " 85%|█████████████████████████████████▎     | 170/199 [00:00<00:00, 192.49it/s]\u001b[A\n",
      " 91%|███████████████████████████████████▋   | 180/197 [00:00<00:00, 201.60it/s]\u001b[A\n",
      " 84%|████████████████████████████████▊      | 166/197 [00:00<00:00, 199.35it/s]\u001b[A\n",
      " 47%|██████████████████▉                     | 94/198 [00:00<00:00, 317.53it/s]\u001b[A\n",
      "  0%|                                                    | 0/1 [00:00<?, ?it/s]\u001b[A\n",
      " 84%|████████████████████████████████▋      | 165/197 [00:00<00:00, 189.12it/s]\u001b[A\n",
      " 85%|█████████████████████████████████      | 166/196 [00:00<00:00, 192.35it/s]\u001b[A\n",
      "  0%|                                                  | 0/199 [00:00<?, ?it/s]\u001b[A\n",
      " 96%|█████████████████████████████████████▋ | 192/199 [00:01<00:00, 157.58it/s]\u001b[A\n",
      " 44%|█████████████████▋                      | 86/194 [00:00<00:00, 306.64it/s]\u001b[A\n",
      " 88%|██████████████████████████████████▏    | 171/195 [00:00<00:00, 191.34it/s]\u001b[A\n",
      "100%|███████████████████████████████████████| 196/196 [00:01<00:00, 158.55it/s]\u001b[A\n",
      "\n",
      " 46%|██████████████████▌                     | 90/194 [00:00<00:00, 318.36it/s]\u001b[A\n",
      " 45%|█████████████████▉                      | 88/196 [00:00<00:00, 297.36it/s]\u001b[A\n",
      " 91%|███████████████████████████████████▋   | 181/198 [00:00<00:00, 178.18it/s]\u001b[A\n",
      " 87%|█████████████████████████████████▊     | 170/196 [00:00<00:00, 197.73it/s]\u001b[A\n",
      " 61%|███████████████████████▉               | 122/199 [00:00<00:00, 239.86it/s]\u001b[A\n",
      " 72%|███████████████████████████▉           | 141/197 [00:00<00:00, 212.85it/s]\u001b[A\n",
      " 81%|███████████████████████████████▋       | 160/197 [00:00<00:00, 187.51it/s]\u001b[A\n",
      "100%|███████████████████████████████████████| 198/198 [00:01<00:00, 189.37it/s]\u001b[A\n",
      "\n",
      " 91%|███████████████████████████████████▌   | 179/196 [00:00<00:00, 208.23it/s]\u001b[A\n",
      " 76%|█████████████████████████████▍         | 148/196 [00:00<00:00, 214.03it/s]\u001b[A\n",
      " 95%|█████████████████████████████████████  | 188/198 [00:01<00:00, 170.34it/s]\u001b[A\n",
      " 95%|█████████████████████████████████████▏ | 190/199 [00:01<00:00, 173.74it/s]\u001b[A\n",
      " 85%|█████████████████████████████████      | 167/197 [00:00<00:00, 187.44it/s]\u001b[A\n",
      " 82%|████████████████████████████████▏      | 160/194 [00:00<00:00, 180.59it/s]\u001b[A\n",
      " 95%|█████████████████████████████████████  | 187/197 [00:00<00:00, 177.55it/s]\u001b[A\n",
      "Processing CSV files:  36%|██████▍           | 179/500 [00:12<00:28, 11.36it/s]\u001b[A\n",
      " 95%|█████████████████████████████████████  | 186/196 [00:00<00:00, 173.46it/s]\u001b[A\n",
      " 98%|██████████████████████████████████████▏| 191/195 [00:00<00:00, 184.71it/s]\u001b[A\n",
      "100%|███████████████████████████████████████| 196/196 [00:01<00:00, 179.73it/s]\u001b[A\n",
      "\n",
      " 61%|███████████████████████▉               | 119/194 [00:00<00:00, 266.19it/s]\u001b[A\n",
      " 97%|██████████████████████████████████████ | 191/196 [00:00<00:00, 188.19it/s]\u001b[A\n",
      " 62%|████████████████████████               | 121/196 [00:00<00:00, 267.05it/s]\u001b[A\n",
      " 64%|████████████████████████▉              | 124/194 [00:00<00:00, 277.10it/s]\u001b[A\n",
      " 91%|███████████████████████████████████▋   | 180/197 [00:00<00:00, 181.47it/s]\u001b[A\n",
      " 74%|█████████████████████████████          | 148/199 [00:00<00:00, 228.68it/s]\u001b[A\n",
      "100%|███████████████████████████████████████| 197/197 [00:01<00:00, 187.95it/s]\u001b[A\n",
      "\n",
      " 83%|████████████████████████████████▍      | 164/197 [00:00<00:00, 204.15it/s]\u001b[A\n",
      "100%|███████████████████████████████████████| 199/199 [00:01<00:00, 162.56it/s]\u001b[A\n",
      "\n",
      "  0%|                                                    | 0/1 [00:00<?, ?it/s]\u001b[A\n",
      "100%|███████████████████████████████████████| 198/198 [00:01<00:00, 182.47it/s]\u001b[A\n",
      "\n",
      "100%|████████████████████████████████████████████| 1/1 [00:00<00:00,  6.76it/s]\u001b[A\n",
      " 87%|██████████████████████████████████     | 171/196 [00:00<00:00, 200.05it/s]\u001b[A\n",
      " 66%|█████████████████████████▌             | 128/195 [00:00<00:00, 264.50it/s]\u001b[A\n",
      "Processing CSV files:  37%|██████▌           | 183/500 [00:12<00:23, 13.51it/s]\u001b[A\n",
      " 92%|███████████████████████████████████▉   | 179/194 [00:00<00:00, 167.73it/s]\u001b[A\n",
      "  0%|                                                    | 0/1 [00:00<?, ?it/s]\u001b[A\n",
      "100%|███████████████████████████████████████| 196/196 [00:01<00:00, 185.01it/s]\u001b[A\n",
      "100%|███████████████████████████████████████| 198/198 [00:01<00:00, 177.65it/s]\n",
      "100%|███████████████████████████████████████| 199/199 [00:01<00:00, 178.79it/s]\n",
      "\n",
      "100%|███████████████████████████████████████| 195/195 [00:01<00:00, 184.68it/s]\u001b[A\n",
      "100%|███████████████████████████████████████| 197/197 [00:01<00:00, 183.22it/s]\n",
      "\n",
      "100%|████████████████████████████████████████████| 1/1 [00:00<00:00,  4.27it/s]\u001b[A\n",
      "100%|███████████████████████████████████████| 196/196 [00:01<00:00, 180.52it/s]"
     ]
    },
    {
     "name": "stdout",
     "output_type": "stream",
     "text": [
      "Total files processed: 1\n"
     ]
    },
    {
     "name": "stderr",
     "output_type": "stream",
     "text": [
      "/w/hallb-scshelf2102/clas12/users/gmat/clas12/neutneut/analysis/neutron_ml/../../src/TrainData.py:84: FutureWarning: The default of observed=False is deprecated and will be changed to True in a future version of pandas. Pass observed=False to retain current behavior or observed=True to adopt the future default and silence this warning.\n",
      "  group_sizes = df.groupby(group_cols).size()\n",
      "\n",
      "100%|███████████████████████████████████████| 197/197 [00:01<00:00, 195.51it/s]\n",
      "\n",
      "100%|███████████████████████████████████████| 196/196 [00:00<00:00, 211.94it/s]\u001b[A\n",
      " 76%|█████████████████████████████▊         | 148/194 [00:00<00:00, 272.24it/s]\u001b[A\n",
      " 86%|█████████████████████████████████▋     | 172/199 [00:00<00:00, 231.75it/s]\u001b[A\n",
      " 77%|█████████████████████████████▊         | 150/196 [00:00<00:00, 272.46it/s]\u001b[A\n",
      " 79%|██████████████████████████████▊        | 153/194 [00:00<00:00, 278.78it/s]\u001b[A\n",
      " 75%|█████████████████████████████▏         | 148/198 [00:00<00:00, 213.64it/s]\u001b[A\n",
      "100%|███████████████████████████████████████| 197/197 [00:01<00:00, 170.51it/s]\u001b[A\n",
      "\n",
      "100%|███████████████████████████████████████| 194/194 [00:01<00:00, 178.89it/s]\u001b[A\n",
      "\n",
      " 79%|██████████████████████████████▉        | 157/198 [00:00<00:00, 245.24it/s]\u001b[A\n",
      "  0%|                                                    | 0/1 [00:00<?, ?it/s]\u001b[A\n",
      " 81%|███████████████████████████████▌       | 158/195 [00:00<00:00, 270.49it/s]\u001b[A\n",
      "100%|███████████████████████████████████████| 197/197 [00:01<00:00, 177.85it/s]\u001b[A\n",
      "Processing CSV files:  37%|██████▋           | 186/500 [00:12<00:21, 14.59it/s]\n",
      " 98%|██████████████████████████████████████▍| 196/199 [00:00<00:00, 222.81it/s]\u001b[A\n",
      "100%|███████████████████████████████████████| 196/196 [00:01<00:00, 169.84it/s]\u001b[A\n",
      "\n",
      "  0%|                                                    | 0/1 [00:00<?, ?it/s]\u001b[A\n",
      "100%|███████████████████████████████████████| 196/196 [00:01<00:00, 194.83it/s]\u001b[A\n",
      "\n",
      "100%|███████████████████████████████████████| 197/197 [00:01<00:00, 193.01it/s]\u001b[A\n",
      "\n",
      "  0%|                                                    | 0/1 [00:00<?, ?it/s]\u001b[A\n",
      " 87%|██████████████████████████████████     | 173/198 [00:00<00:00, 192.55it/s]\u001b[A\n",
      "100%|███████████████████████████████████████| 199/199 [00:00<00:00, 218.65it/s]\u001b[A\n",
      "\n",
      "Processing CSV files:  39%|███████           | 195/500 [00:12<00:12, 23.87it/s]\u001b[A\n",
      "100%|████████████████████████████████████████████| 1/1 [00:00<00:00,  5.24it/s]\u001b[A\n",
      "100%|████████████████████████████████████████████| 1/1 [00:00<00:00,  5.06it/s]\u001b[A\n",
      "  0%|                                                    | 0/1 [00:00<?, ?it/s]\u001b[A\n",
      "100%|████████████████████████████████████████████| 1/1 [00:00<00:00,  5.48it/s]\u001b[A\n",
      "  0%|                                                    | 0/1 [00:00<?, ?it/s]\u001b[A\n",
      "100%|████████████████████████████████████████████| 1/1 [00:00<00:00,  5.03it/s]\u001b[A\n",
      "100%|███████████████████████████████████████| 194/194 [00:00<00:00, 251.61it/s]\u001b[A\n",
      "\n",
      "100%|████████████████████████████████████████████| 1/1 [00:00<00:00,  4.15it/s]\u001b[A\n"
     ]
    },
    {
     "name": "stdout",
     "output_type": "stream",
     "text": [
      "Total files processed: 1"
     ]
    },
    {
     "name": "stderr",
     "output_type": "stream",
     "text": [
      "\n"
     ]
    },
    {
     "name": "stdout",
     "output_type": "stream",
     "text": [
      "\n"
     ]
    },
    {
     "name": "stderr",
     "output_type": "stream",
     "text": [
      "100%|███████████████████████████████████████| 196/196 [00:00<00:00, 251.88it/s]\u001b[A/w/hallb-scshelf2102/clas12/users/gmat/clas12/neutneut/analysis/neutron_ml/../../src/TrainData.py:84: FutureWarning: The default of observed=False is deprecated and will be changed to True in a future version of pandas. Pass observed=False to retain current behavior or observed=True to adopt the future default and silence this warning.\n",
      "  group_sizes = df.groupby(group_cols).size()\n",
      "\n",
      "100%|████████████████████████████████████████████| 1/1 [00:00<00:00,  3.52it/s]\n",
      "\n"
     ]
    },
    {
     "name": "stdout",
     "output_type": "stream",
     "text": [
      "Total files processed: 1"
     ]
    },
    {
     "name": "stderr",
     "output_type": "stream",
     "text": [
      " 92%|████████████████████████████████████   | 183/198 [00:00<00:00, 185.89it/s]"
     ]
    },
    {
     "name": "stdout",
     "output_type": "stream",
     "text": [
      "\n"
     ]
    },
    {
     "name": "stderr",
     "output_type": "stream",
     "text": [
      "\u001b[A\n",
      "/w/hallb-scshelf2102/clas12/users/gmat/clas12/neutneut/analysis/neutron_ml/../../src/TrainData.py:84: FutureWarning: The default of observed=False is deprecated and will be changed to True in a future version of pandas. Pass observed=False to retain current behavior or observed=True to adopt the future default and silence this warning.\n",
      "  group_sizes = df.groupby(group_cols).size()\n",
      "  0%|                                                    | 0/1 [00:00<?, ?it/s]\u001b[A\n",
      " 61%|███████████████████████▋               | 121/199 [00:00<00:00, 257.04it/s]\u001b[A\n",
      "  0%|                                                    | 0/1 [00:00<?, ?it/s]\u001b[A\n",
      "  0%|                                                    | 0/1 [00:00<?, ?it/s]\u001b[A\n",
      "  0%|                                                    | 0/1 [00:00<?, ?it/s]\u001b[A\n",
      "100%|███████████████████████████████████████| 194/194 [00:00<00:00, 237.63it/s]\u001b[A\n",
      "100%|████████████████████████████████████████████| 1/1 [00:00<00:00,  3.37it/s]\n",
      "100%|████████████████████████████████████████████| 1/1 [00:00<00:00,  3.57it/s]"
     ]
    },
    {
     "name": "stdout",
     "output_type": "stream",
     "text": [
      "Total files processed: 1\n"
     ]
    },
    {
     "name": "stderr",
     "output_type": "stream",
     "text": [
      "\n",
      "\n"
     ]
    },
    {
     "name": "stdout",
     "output_type": "stream",
     "text": [
      "Total files processed: 1"
     ]
    },
    {
     "name": "stderr",
     "output_type": "stream",
     "text": [
      " 99%|██████████████████████████████████████▌| 196/198 [00:00<00:00, 201.41it/s]"
     ]
    },
    {
     "name": "stdout",
     "output_type": "stream",
     "text": [
      "\n"
     ]
    },
    {
     "name": "stderr",
     "output_type": "stream",
     "text": [
      "\u001b[A/w/hallb-scshelf2102/clas12/users/gmat/clas12/neutneut/analysis/neutron_ml/../../src/TrainData.py:84: FutureWarning: The default of observed=False is deprecated and will be changed to True in a future version of pandas. Pass observed=False to retain current behavior or observed=True to adopt the future default and silence this warning.\n",
      "  group_sizes = df.groupby(group_cols).size()\n",
      "\n",
      "100%|████████████████████████████████████████████| 1/1 [00:00<00:00,  7.38it/s]/w/hallb-scshelf2102/clas12/users/gmat/clas12/neutneut/analysis/neutron_ml/../../src/TrainData.py:84: FutureWarning: The default of observed=False is deprecated and will be changed to True in a future version of pandas. Pass observed=False to retain current behavior or observed=True to adopt the future default and silence this warning.\n",
      "  group_sizes = df.groupby(group_cols).size()\n",
      "100%|███████████████████████████████████████| 195/195 [00:00<00:00, 240.75it/s]\n",
      "100%|████████████████████████████████████████████| 1/1 [00:00<00:00,  3.37it/s]\n"
     ]
    },
    {
     "name": "stdout",
     "output_type": "stream",
     "text": [
      "Total files processed: 1"
     ]
    },
    {
     "name": "stderr",
     "output_type": "stream",
     "text": [
      "100%|████████████████████████████████████████████| 1/1 [00:00<00:00,  2.89it/s]"
     ]
    },
    {
     "name": "stdout",
     "output_type": "stream",
     "text": [
      "\n"
     ]
    },
    {
     "name": "stderr",
     "output_type": "stream",
     "text": [
      "\n",
      "\n"
     ]
    },
    {
     "name": "stdout",
     "output_type": "stream",
     "text": [
      "Total files processed: 1\n"
     ]
    },
    {
     "name": "stderr",
     "output_type": "stream",
     "text": [
      "  0%|                                                    | 0/1 [00:00<?, ?it/s]/w/hallb-scshelf2102/clas12/users/gmat/clas12/neutneut/analysis/neutron_ml/../../src/TrainData.py:84: FutureWarning: The default of observed=False is deprecated and will be changed to True in a future version of pandas. Pass observed=False to retain current behavior or observed=True to adopt the future default and silence this warning.\n",
      "  group_sizes = df.groupby(group_cols).size()\n",
      "100%|████████████████████████████████████████████| 1/1 [00:00<00:00,  5.97it/s]/w/hallb-scshelf2102/clas12/users/gmat/clas12/neutneut/analysis/neutron_ml/../../src/TrainData.py:84: FutureWarning: The default of observed=False is deprecated and will be changed to True in a future version of pandas. Pass observed=False to retain current behavior or observed=True to adopt the future default and silence this warning.\n",
      "  group_sizes = df.groupby(group_cols).size()\n",
      "\n",
      "\n"
     ]
    },
    {
     "name": "stdout",
     "output_type": "stream",
     "text": [
      "Total files processed: 1\n"
     ]
    },
    {
     "name": "stderr",
     "output_type": "stream",
     "text": [
      "/w/hallb-scshelf2102/clas12/users/gmat/clas12/neutneut/analysis/neutron_ml/../../src/TrainData.py:84: FutureWarning: The default of observed=False is deprecated and will be changed to True in a future version of pandas. Pass observed=False to retain current behavior or observed=True to adopt the future default and silence this warning.\n",
      "  group_sizes = df.groupby(group_cols).size()\n",
      "100%|███████████████████████████████████████| 198/198 [00:00<00:00, 211.87it/s]\u001b[A\n",
      "\n",
      "  0%|                                                    | 0/1 [00:00<?, ?it/s]\u001b[A\n",
      "100%|███████████████████████████████████████| 198/198 [00:01<00:00, 195.53it/s]\u001b[A\n",
      "\n",
      "Processing CSV files:  40%|███████▏          | 200/500 [00:13<00:11, 25.81it/s]\u001b[A\n",
      " 75%|█████████████████████████████▏         | 149/199 [00:00<00:00, 255.79it/s]\u001b[A\n",
      "  0%|                                                  | 0/197 [00:00<?, ?it/s]\u001b[A\n",
      "  0%|                                                    | 0/1 [00:00<?, ?it/s]\u001b[A\n",
      "  0%|                                                    | 0/1 [00:00<?, ?it/s]\u001b[A\n",
      "  0%|                                                  | 0/198 [00:00<?, ?it/s]\u001b[A\n",
      "100%|████████████████████████████████████████████| 1/1 [00:00<00:00,  5.08it/s]\u001b[A\n",
      "100%|████████████████████████████████████████████| 1/1 [00:00<00:00,  6.22it/s]\u001b[A\n",
      "  0%|                                                    | 0/1 [00:00<?, ?it/s]\u001b[A\n",
      "  0%|                                                    | 0/1 [00:00<?, ?it/s]\u001b[A\n",
      "  0%|                                                  | 0/197 [00:00<?, ?it/s]\u001b[A\n",
      "  0%|                                                  | 0/195 [00:00<?, ?it/s]\u001b[A\n",
      "100%|████████████████████████████████████████████| 1/1 [00:00<00:00,  4.87it/s]\u001b[A\n",
      "100%|████████████████████████████████████████████| 1/1 [00:00<00:00,  4.83it/s]\u001b[A\n",
      " 46%|██████████████████▎                     | 88/192 [00:00<00:00, 374.66it/s]\u001b[A\n",
      "100%|████████████████████████████████████████████| 1/1 [00:00<00:00,  5.74it/s]\u001b[A\n",
      "  0%|                                                    | 0/1 [00:00<?, ?it/s]\u001b[A\n",
      " 88%|██████████████████████████████████▍    | 176/199 [00:00<00:00, 241.18it/s]\u001b[A\n",
      " 20%|████████                                | 40/197 [00:00<00:00, 399.02it/s]\u001b[A\n",
      "  0%|                                                    | 0/1 [00:00<?, ?it/s]\u001b[A\n",
      "100%|████████████████████████████████████████████| 1/1 [00:00<00:00,  5.15it/s]\u001b[A\n",
      "100%|████████████████████████████████████████████| 1/1 [00:00<00:00,  5.42it/s]\u001b[A\n",
      "100%|████████████████████████████████████████████| 1/1 [00:00<00:00,  5.03it/s]\u001b[A\n",
      "100%|████████████████████████████████████████████| 1/1 [00:00<00:00,  4.28it/s]\u001b[A\n",
      "100%|████████████████████████████████████████████| 1/1 [00:00<00:00,  5.90it/s]\u001b[A\n",
      "100%|████████████████████████████████████████████| 1/1 [00:00<00:00,  3.19it/s]\u001b[A\n"
     ]
    },
    {
     "name": "stdout",
     "output_type": "stream",
     "text": [
      "Total files processed: 1"
     ]
    },
    {
     "name": "stderr",
     "output_type": "stream",
     "text": [
      "100%|████████████████████████████████████████████| 1/1 [00:00<00:00,  3.61it/s]"
     ]
    },
    {
     "name": "stdout",
     "output_type": "stream",
     "text": [
      "\n"
     ]
    },
    {
     "name": "stderr",
     "output_type": "stream",
     "text": [
      "\n",
      "\n"
     ]
    },
    {
     "name": "stdout",
     "output_type": "stream",
     "text": [
      "Total files processed: 1\n"
     ]
    },
    {
     "name": "stderr",
     "output_type": "stream",
     "text": [
      "  0%|                                                    | 0/1 [00:00<?, ?it/s]/w/hallb-scshelf2102/clas12/users/gmat/clas12/neutneut/analysis/neutron_ml/../../src/TrainData.py:84: FutureWarning: The default of observed=False is deprecated and will be changed to True in a future version of pandas. Pass observed=False to retain current behavior or observed=True to adopt the future default and silence this warning.\n",
      "  group_sizes = df.groupby(group_cols).size()\n",
      "\u001b[A\n",
      "  0%|                                                    | 0/1 [00:00<?, ?it/s]/w/hallb-scshelf2102/clas12/users/gmat/clas12/neutneut/analysis/neutron_ml/../../src/TrainData.py:84: FutureWarning: The default of observed=False is deprecated and will be changed to True in a future version of pandas. Pass observed=False to retain current behavior or observed=True to adopt the future default and silence this warning.\n",
      "  group_sizes = df.groupby(group_cols).size()\n",
      "\u001b[A\n",
      "100%|████████████████████████████████████████████| 1/1 [00:00<00:00,  4.92it/s]\u001b[A\n",
      "100%|████████████████████████████████████████████| 1/1 [00:00<00:00,  4.71it/s]\u001b[A\n",
      "100%|████████████████████████████████████████████| 1/1 [00:00<00:00,  6.53it/s]\u001b[A\n",
      "100%|████████████████████████████████████████████| 1/1 [00:00<00:00,  3.20it/s]\u001b[A\n"
     ]
    },
    {
     "name": "stdout",
     "output_type": "stream",
     "text": [
      "Total files processed: 1"
     ]
    },
    {
     "name": "stderr",
     "output_type": "stream",
     "text": [
      "\n"
     ]
    },
    {
     "name": "stdout",
     "output_type": "stream",
     "text": [
      "\n"
     ]
    },
    {
     "name": "stderr",
     "output_type": "stream",
     "text": [
      " 21%|████████▎                               | 41/198 [00:00<00:00, 404.31it/s]/w/hallb-scshelf2102/clas12/users/gmat/clas12/neutneut/analysis/neutron_ml/../../src/TrainData.py:84: FutureWarning: The default of observed=False is deprecated and will be changed to True in a future version of pandas. Pass observed=False to retain current behavior or observed=True to adopt the future default and silence this warning.\n",
      "  group_sizes = df.groupby(group_cols).size()\n",
      "100%|████████████████████████████████████████████| 1/1 [00:00<00:00,  2.80it/s]\n",
      "\n"
     ]
    },
    {
     "name": "stdout",
     "output_type": "stream",
     "text": [
      "Total files processed: 1"
     ]
    },
    {
     "name": "stderr",
     "output_type": "stream",
     "text": [
      " 18%|███████▎                                | 36/197 [00:00<00:00, 357.53it/s]"
     ]
    },
    {
     "name": "stdout",
     "output_type": "stream",
     "text": [
      "\n"
     ]
    },
    {
     "name": "stderr",
     "output_type": "stream",
     "text": [
      "100%|████████████████████████████████████████████| 1/1 [00:00<00:00,  3.71it/s]/w/hallb-scshelf2102/clas12/users/gmat/clas12/neutneut/analysis/neutron_ml/../../src/TrainData.py:84: FutureWarning: The default of observed=False is deprecated and will be changed to True in a future version of pandas. Pass observed=False to retain current behavior or observed=True to adopt the future default and silence this warning.\n",
      "  group_sizes = df.groupby(group_cols).size()\n",
      "\n"
     ]
    },
    {
     "name": "stdout",
     "output_type": "stream",
     "text": [
      "Total files processed: 1"
     ]
    },
    {
     "name": "stderr",
     "output_type": "stream",
     "text": [
      "100%|████████████████████████████████████████████| 1/1 [00:00<00:00,  3.03it/s]"
     ]
    },
    {
     "name": "stdout",
     "output_type": "stream",
     "text": [
      "\n"
     ]
    },
    {
     "name": "stderr",
     "output_type": "stream",
     "text": [
      "\n",
      "100%|████████████████████████████████████████████| 1/1 [00:00<00:00,  3.65it/s]"
     ]
    },
    {
     "name": "stdout",
     "output_type": "stream",
     "text": [
      "Total files processed: 1\n"
     ]
    },
    {
     "name": "stderr",
     "output_type": "stream",
     "text": [
      "\n",
      "/w/hallb-scshelf2102/clas12/users/gmat/clas12/neutneut/analysis/neutron_ml/../../src/TrainData.py:84: FutureWarning: The default of observed=False is deprecated and will be changed to True in a future version of pandas. Pass observed=False to retain current behavior or observed=True to adopt the future default and silence this warning.\n",
      "  group_sizes = df.groupby(group_cols).size()\n",
      "/w/hallb-scshelf2102/clas12/users/gmat/clas12/neutneut/analysis/neutron_ml/../../src/TrainData.py:84: FutureWarning: The default of observed=False is deprecated and will be changed to True in a future version of pandas. Pass observed=False to retain current behavior or observed=True to adopt the future default and silence this warning.\n",
      "  group_sizes = df.groupby(group_cols).size()\n"
     ]
    },
    {
     "name": "stdout",
     "output_type": "stream",
     "text": [
      "Total files processed: 1\n"
     ]
    },
    {
     "name": "stderr",
     "output_type": "stream",
     "text": [
      "/w/hallb-scshelf2102/clas12/users/gmat/clas12/neutneut/analysis/neutron_ml/../../src/TrainData.py:84: FutureWarning: The default of observed=False is deprecated and will be changed to True in a future version of pandas. Pass observed=False to retain current behavior or observed=True to adopt the future default and silence this warning.\n",
      "  group_sizes = df.groupby(group_cols).size()\n",
      "\n",
      "100%|████████████████████████████████████████████| 1/1 [00:00<00:00,  3.03it/s]\u001b[A\n",
      "100%|████████████████████████████████████████████| 1/1 [00:00<00:00,  2.74it/s]"
     ]
    },
    {
     "name": "stdout",
     "output_type": "stream",
     "text": [
      "Total files processed: 1"
     ]
    },
    {
     "name": "stderr",
     "output_type": "stream",
     "text": [
      "\n"
     ]
    },
    {
     "name": "stdout",
     "output_type": "stream",
     "text": [
      "\n"
     ]
    },
    {
     "name": "stderr",
     "output_type": "stream",
     "text": [
      "100%|████████████████████████████████████████████| 1/1 [00:00<00:00,  3.32it/s]"
     ]
    },
    {
     "name": "stdout",
     "output_type": "stream",
     "text": [
      "Total files processed: 1"
     ]
    },
    {
     "name": "stderr",
     "output_type": "stream",
     "text": [
      "\n"
     ]
    },
    {
     "name": "stdout",
     "output_type": "stream",
     "text": [
      "\n"
     ]
    },
    {
     "name": "stderr",
     "output_type": "stream",
     "text": [
      "\n"
     ]
    },
    {
     "name": "stdout",
     "output_type": "stream",
     "text": [
      "Total files processed: 1"
     ]
    },
    {
     "name": "stderr",
     "output_type": "stream",
     "text": [
      "/w/hallb-scshelf2102/clas12/users/gmat/clas12/neutneut/analysis/neutron_ml/../../src/TrainData.py:84: FutureWarning: The default of observed=False is deprecated and will be changed to True in a future version of pandas. Pass observed=False to retain current behavior or observed=True to adopt the future default and silence this warning.\n",
      "  group_sizes = df.groupby(group_cols).size()\n",
      "/w/hallb-scshelf2102/clas12/users/gmat/clas12/neutneut/analysis/neutron_ml/../../src/TrainData.py:84: FutureWarning: The default of observed=False is deprecated and will be changed to True in a future version of pandas. Pass observed=False to retain current behavior or observed=True to adopt the future default and silence this warning.\n",
      "  group_sizes = df.groupby(group_cols).size()\n",
      "  0%|                                                  | 0/195 [00:00<?, ?it/s]\u001b[A\n",
      "100%|████████████████████████████████████████████| 1/1 [00:00<00:00,  5.58it/s]\u001b[A"
     ]
    },
    {
     "name": "stdout",
     "output_type": "stream",
     "text": [
      "\n"
     ]
    },
    {
     "name": "stderr",
     "output_type": "stream",
     "text": [
      "/w/hallb-scshelf2102/clas12/users/gmat/clas12/neutneut/analysis/neutron_ml/../../src/TrainData.py:84: FutureWarning: The default of observed=False is deprecated and will be changed to True in a future version of pandas. Pass observed=False to retain current behavior or observed=True to adopt the future default and silence this warning.\n",
      "  group_sizes = df.groupby(group_cols).size()\n",
      "\n",
      "100%|███████████████████████████████████████| 199/199 [00:00<00:00, 238.56it/s]\u001b[A\n",
      "100%|████████████████████████████████████████████| 1/1 [00:00<00:00,  2.86it/s]\n",
      "100%|████████████████████████████████████████████| 1/1 [00:00<00:00,  2.77it/s]"
     ]
    },
    {
     "name": "stdout",
     "output_type": "stream",
     "text": [
      "Total files processed: 1\n"
     ]
    },
    {
     "name": "stderr",
     "output_type": "stream",
     "text": [
      "\n"
     ]
    },
    {
     "name": "stdout",
     "output_type": "stream",
     "text": [
      "Total files processed: 1\n"
     ]
    },
    {
     "name": "stderr",
     "output_type": "stream",
     "text": [
      "/w/hallb-scshelf2102/clas12/users/gmat/clas12/neutneut/analysis/neutron_ml/../../src/TrainData.py:84: FutureWarning: The default of observed=False is deprecated and will be changed to True in a future version of pandas. Pass observed=False to retain current behavior or observed=True to adopt the future default and silence this warning.\n",
      "  group_sizes = df.groupby(group_cols).size()\n",
      "\n",
      " 22%|████████▉                               | 44/197 [00:00<00:00, 431.16it/s]/w/hallb-scshelf2102/clas12/users/gmat/clas12/neutneut/analysis/neutron_ml/../../src/TrainData.py:84: FutureWarning: The default of observed=False is deprecated and will be changed to True in a future version of pandas. Pass observed=False to retain current behavior or observed=True to adopt the future default and silence this warning.\n",
      "  group_sizes = df.groupby(group_cols).size()\n",
      "\u001b[A\n",
      " 20%|████████                                | 39/195 [00:00<00:00, 383.18it/s]\u001b[A\n",
      " 66%|█████████████████████████▊             | 127/192 [00:00<00:00, 319.07it/s]\u001b[A\n",
      " 41%|████████████████▏                       | 80/197 [00:00<00:00, 359.31it/s]\u001b[A\n",
      "100%|████████████████████████████████████████████| 1/1 [00:00<00:00,  3.14it/s]\u001b[A\n",
      "\n"
     ]
    },
    {
     "name": "stdout",
     "output_type": "stream",
     "text": [
      "Total files processed: 1\n"
     ]
    },
    {
     "name": "stderr",
     "output_type": "stream",
     "text": [
      " 37%|██████████████▌                         | 72/197 [00:00<00:00, 321.36it/s]\u001b[A\n",
      "100%|████████████████████████████████████████████| 1/1 [00:00<00:00,  4.77it/s]/w/hallb-scshelf2102/clas12/users/gmat/clas12/neutneut/analysis/neutron_ml/../../src/TrainData.py:84: FutureWarning: The default of observed=False is deprecated and will be changed to True in a future version of pandas. Pass observed=False to retain current behavior or observed=True to adopt the future default and silence this warning.\n",
      "  group_sizes = df.groupby(group_cols).size()\n",
      "\u001b[A\n",
      " 19%|███████▋                                | 38/199 [00:00<00:00, 374.41it/s]\u001b[A\n",
      "100%|████████████████████████████████████████████| 1/1 [00:00<00:00,  2.86it/s]\u001b[A\n"
     ]
    },
    {
     "name": "stdout",
     "output_type": "stream",
     "text": [
      "Total files processed: 1"
     ]
    },
    {
     "name": "stderr",
     "output_type": "stream",
     "text": [
      "\n"
     ]
    },
    {
     "name": "stdout",
     "output_type": "stream",
     "text": [
      "\n"
     ]
    },
    {
     "name": "stderr",
     "output_type": "stream",
     "text": [
      "100%|████████████████████████████████████████████| 1/1 [00:00<00:00,  5.68it/s]/w/hallb-scshelf2102/clas12/users/gmat/clas12/neutneut/analysis/neutron_ml/../../src/TrainData.py:84: FutureWarning: The default of observed=False is deprecated and will be changed to True in a future version of pandas. Pass observed=False to retain current behavior or observed=True to adopt the future default and silence this warning.\n",
      "  group_sizes = df.groupby(group_cols).size()\n",
      "\u001b[A\n",
      "100%|████████████████████████████████████████████| 1/1 [00:00<00:00,  5.75it/s]\u001b[A\n",
      "100%|████████████████████████████████████████████| 1/1 [00:00<00:00,  4.81it/s]\u001b[A\n",
      "  0%|                                                    | 0/1 [00:00<?, ?it/s]\u001b[A\n",
      "100%|████████████████████████████████████████████| 1/1 [00:00<00:00,  5.20it/s]\u001b[A\n",
      "100%|████████████████████████████████████████████| 1/1 [00:00<00:00,  5.76it/s]\u001b[A\n",
      "100%|████████████████████████████████████████████| 1/1 [00:00<00:00,  3.69it/s]\u001b[A\n"
     ]
    },
    {
     "name": "stdout",
     "output_type": "stream",
     "text": [
      "Total files processed: 1"
     ]
    },
    {
     "name": "stderr",
     "output_type": "stream",
     "text": [
      "\n"
     ]
    },
    {
     "name": "stdout",
     "output_type": "stream",
     "text": [
      "\n"
     ]
    },
    {
     "name": "stderr",
     "output_type": "stream",
     "text": [
      "100%|████████████████████████████████████████████| 1/1 [00:00<00:00,  5.25it/s]\u001b[A\n",
      "/w/hallb-scshelf2102/clas12/users/gmat/clas12/neutneut/analysis/neutron_ml/../../src/TrainData.py:84: FutureWarning: The default of observed=False is deprecated and will be changed to True in a future version of pandas. Pass observed=False to retain current behavior or observed=True to adopt the future default and silence this warning.\n",
      "  group_sizes = df.groupby(group_cols).size()\n",
      "100%|████████████████████████████████████████████| 1/1 [00:00<00:00,  3.98it/s]\u001b[A\n",
      "100%|████████████████████████████████████████████| 1/1 [00:00<00:00,  3.12it/s]"
     ]
    },
    {
     "name": "stdout",
     "output_type": "stream",
     "text": [
      "Total files processed: 1"
     ]
    },
    {
     "name": "stderr",
     "output_type": "stream",
     "text": [
      "\n"
     ]
    },
    {
     "name": "stdout",
     "output_type": "stream",
     "text": [
      "\n",
      "Total files processed: 1"
     ]
    },
    {
     "name": "stderr",
     "output_type": "stream",
     "text": [
      "\n"
     ]
    },
    {
     "name": "stdout",
     "output_type": "stream",
     "text": [
      "\n"
     ]
    },
    {
     "name": "stderr",
     "output_type": "stream",
     "text": [
      "100%|████████████████████████████████████████████| 1/1 [00:00<00:00,  4.78it/s]\u001b[A\n",
      "/w/hallb-scshelf2102/clas12/users/gmat/clas12/neutneut/analysis/neutron_ml/../../src/TrainData.py:84: FutureWarning: The default of observed=False is deprecated and will be changed to True in a future version of pandas. Pass observed=False to retain current behavior or observed=True to adopt the future default and silence this warning.\n",
      "  group_sizes = df.groupby(group_cols).size()\n",
      "100%|████████████████████████████████████████████| 1/1 [00:00<00:00,  4.01it/s]\u001b[A\n",
      "\n"
     ]
    },
    {
     "name": "stdout",
     "output_type": "stream",
     "text": [
      "Total files processed: 1\n"
     ]
    },
    {
     "name": "stderr",
     "output_type": "stream",
     "text": [
      "  0%|                                                  | 0/198 [00:00<?, ?it/s]\u001b[A\n",
      "/w/hallb-scshelf2102/clas12/users/gmat/clas12/neutneut/analysis/neutron_ml/../../src/TrainData.py:84: FutureWarning: The default of observed=False is deprecated and will be changed to True in a future version of pandas. Pass observed=False to retain current behavior or observed=True to adopt the future default and silence this warning.\n",
      "  group_sizes = df.groupby(group_cols).size()\n",
      "100%|████████████████████████████████████████████| 1/1 [00:00<00:00,  2.88it/s]\u001b[A/w/hallb-scshelf2102/clas12/users/gmat/clas12/neutneut/analysis/neutron_ml/../../src/TrainData.py:84: FutureWarning: The default of observed=False is deprecated and will be changed to True in a future version of pandas. Pass observed=False to retain current behavior or observed=True to adopt the future default and silence this warning.\n",
      "  group_sizes = df.groupby(group_cols).size()\n",
      "\n"
     ]
    },
    {
     "name": "stdout",
     "output_type": "stream",
     "text": [
      "Total files processed: 1"
     ]
    },
    {
     "name": "stderr",
     "output_type": "stream",
     "text": [
      "\n",
      "  0%|                                                  | 0/197 [00:00<?, ?it/s]\u001b[A"
     ]
    },
    {
     "name": "stdout",
     "output_type": "stream",
     "text": [
      "\n"
     ]
    },
    {
     "name": "stderr",
     "output_type": "stream",
     "text": [
      "100%|████████████████████████████████████████████| 1/1 [00:00<00:00,  3.81it/s]\n",
      "\n"
     ]
    },
    {
     "name": "stdout",
     "output_type": "stream",
     "text": [
      "Total files processed: 1\n"
     ]
    },
    {
     "name": "stderr",
     "output_type": "stream",
     "text": [
      "/w/hallb-scshelf2102/clas12/users/gmat/clas12/neutneut/analysis/neutron_ml/../../src/TrainData.py:84: FutureWarning: The default of observed=False is deprecated and will be changed to True in a future version of pandas. Pass observed=False to retain current behavior or observed=True to adopt the future default and silence this warning.\n",
      "  group_sizes = df.groupby(group_cols).size()\n",
      " 83%|████████████████████████████████▌      | 160/192 [00:00<00:00, 264.41it/s]/w/hallb-scshelf2102/clas12/users/gmat/clas12/neutneut/analysis/neutron_ml/../../src/TrainData.py:84: FutureWarning: The default of observed=False is deprecated and will be changed to True in a future version of pandas. Pass observed=False to retain current behavior or observed=True to adopt the future default and silence this warning.\n",
      "  group_sizes = df.groupby(group_cols).size()\n",
      "\u001b[A\n",
      "  0%|                                                  | 0/198 [00:00<?, ?it/s]\u001b[A\n",
      "  0%|                                                  | 0/199 [00:00<?, ?it/s]\u001b[A\n",
      "100%|████████████████████████████████████████████| 1/1 [00:00<00:00,  3.02it/s]\u001b[A\n",
      "\n"
     ]
    },
    {
     "name": "stdout",
     "output_type": "stream",
     "text": [
      "Total files processed: 1\n"
     ]
    },
    {
     "name": "stderr",
     "output_type": "stream",
     "text": [
      " 59%|███████████████████████▏               | 117/197 [00:00<00:00, 276.95it/s]/w/hallb-scshelf2102/clas12/users/gmat/clas12/neutneut/analysis/neutron_ml/../../src/TrainData.py:84: FutureWarning: The default of observed=False is deprecated and will be changed to True in a future version of pandas. Pass observed=False to retain current behavior or observed=True to adopt the future default and silence this warning.\n",
      "  group_sizes = df.groupby(group_cols).size()\n",
      "\n",
      "  0%|                                                  | 0/198 [00:00<?, ?it/s]\u001b[A\n",
      "\n",
      "  0%|                                                  | 0/197 [00:00<?, ?it/s]\u001b[A\u001b[A\n",
      " 53%|████████████████████▊                  | 105/197 [00:00<00:00, 281.02it/s]\u001b[A\n",
      "100%|████████████████████████████████████████████| 1/1 [00:00<00:00,  5.72it/s]\u001b[A\n",
      "  0%|                                                  | 0/194 [00:00<?, ?it/s]\u001b[A\n",
      "  0%|                                                  | 0/197 [00:00<?, ?it/s]\u001b[A\n",
      " 38%|███████████████▎                        | 76/199 [00:00<00:00, 289.61it/s]\u001b[A\n",
      " 40%|████████████████                        | 78/195 [00:00<00:00, 275.52it/s]\u001b[A\n",
      "  0%|                                                  | 0/197 [00:00<?, ?it/s]\u001b[A\n",
      " 66%|█████████████████████████▊             | 131/198 [00:00<00:00, 330.84it/s]\u001b[A\n",
      "100%|████████████████████████████████████████████| 1/1 [00:00<00:00,  2.29it/s]\u001b[A\n",
      "\n"
     ]
    },
    {
     "name": "stdout",
     "output_type": "stream",
     "text": [
      "Total files processed: 1\n"
     ]
    },
    {
     "name": "stderr",
     "output_type": "stream",
     "text": [
      "/w/hallb-scshelf2102/clas12/users/gmat/clas12/neutneut/analysis/neutron_ml/../../src/TrainData.py:84: FutureWarning: The default of observed=False is deprecated and will be changed to True in a future version of pandas. Pass observed=False to retain current behavior or observed=True to adopt the future default and silence this warning.\n",
      "  group_sizes = df.groupby(group_cols).size()\n",
      "100%|████████████████████████████████████████████| 1/1 [00:00<00:00,  2.49it/s]\u001b[A\n",
      "\n"
     ]
    },
    {
     "name": "stdout",
     "output_type": "stream",
     "text": [
      "Total files processed: 1\n"
     ]
    },
    {
     "name": "stderr",
     "output_type": "stream",
     "text": [
      " 38%|███████████████▏                        | 74/195 [00:00<00:00, 342.99it/s]\u001b[A\n",
      "/w/hallb-scshelf2102/clas12/users/gmat/clas12/neutneut/analysis/neutron_ml/../../src/TrainData.py:84: FutureWarning: The default of observed=False is deprecated and will be changed to True in a future version of pandas. Pass observed=False to retain current behavior or observed=True to adopt the future default and silence this warning.\n",
      "  group_sizes = df.groupby(group_cols).size()\n",
      " 24%|█████████▍                              | 47/199 [00:00<00:00, 464.13it/s]\u001b[A\n",
      " 21%|████████▏                               | 40/195 [00:00<00:00, 393.92it/s]\u001b[A\n",
      " 22%|████████▉                               | 44/198 [00:00<00:00, 435.30it/s]\u001b[A\n",
      " 23%|█████████                               | 45/198 [00:00<00:00, 443.42it/s]\u001b[A\n",
      " 98%|██████████████████████████████████████▏| 188/192 [00:00<00:00, 246.63it/s]\u001b[A\n",
      "100%|████████████████████████████████████████████| 1/1 [00:00<00:00,  6.56it/s]\u001b[A\n",
      " 24%|█████████▋                              | 48/197 [00:00<00:00, 475.09it/s]\u001b[A\n",
      " 75%|█████████████████████████████          | 147/197 [00:00<00:00, 258.78it/s]\u001b[A\n",
      " 61%|███████████████████████▊               | 120/197 [00:00<00:00, 269.53it/s]\u001b[A\n",
      " 21%|████████▍                               | 42/198 [00:00<00:00, 417.34it/s]\u001b[A\n",
      " 68%|██████████████████████████▌            | 134/197 [00:00<00:00, 244.05it/s]\u001b[A\n",
      " 21%|████████▍                               | 42/199 [00:00<00:00, 413.18it/s]\u001b[A\n",
      " 21%|████████▎                               | 41/198 [00:00<00:00, 406.14it/s]\u001b[A\n",
      "100%|████████████████████████████████████████████| 1/1 [00:00<00:00,  2.56it/s]\u001b[A\n",
      "\n",
      " 54%|████████████████████▉                  | 107/199 [00:00<00:00, 241.94it/s]"
     ]
    },
    {
     "name": "stdout",
     "output_type": "stream",
     "text": [
      "Total files processed: 1"
     ]
    },
    {
     "name": "stderr",
     "output_type": "stream",
     "text": [
      "\u001b[A"
     ]
    },
    {
     "name": "stdout",
     "output_type": "stream",
     "text": [
      "\n"
     ]
    },
    {
     "name": "stderr",
     "output_type": "stream",
     "text": [
      "\n",
      "/w/hallb-scshelf2102/clas12/users/gmat/clas12/neutneut/analysis/neutron_ml/../../src/TrainData.py:84: FutureWarning: The default of observed=False is deprecated and will be changed to True in a future version of pandas. Pass observed=False to retain current behavior or observed=True to adopt the future default and silence this warning.\n",
      "  group_sizes = df.groupby(group_cols).size()\n",
      "  0%|                                                  | 0/195 [00:00<?, ?it/s]\u001b[A\n",
      " 55%|█████████████████████▌                 | 108/195 [00:00<00:00, 204.50it/s]\u001b[A\n",
      "100%|████████████████████████████████████████████| 1/1 [00:00<00:00,  3.20it/s]\u001b[A\n",
      "\n"
     ]
    },
    {
     "name": "stdout",
     "output_type": "stream",
     "text": [
      "Total files processed: 1"
     ]
    },
    {
     "name": "stderr",
     "output_type": "stream",
     "text": [
      " 47%|██████████████████▉                     | 94/199 [00:00<00:00, 292.22it/s]"
     ]
    },
    {
     "name": "stdout",
     "output_type": "stream",
     "text": [
      "\n"
     ]
    },
    {
     "name": "stderr",
     "output_type": "stream",
     "text": [
      "\u001b[A\n",
      "  0%|                                                    | 0/1 [00:00<?, ?it/s]/w/hallb-scshelf2102/clas12/users/gmat/clas12/neutneut/analysis/neutron_ml/../../src/TrainData.py:84: FutureWarning: The default of observed=False is deprecated and will be changed to True in a future version of pandas. Pass observed=False to retain current behavior or observed=True to adopt the future default and silence this warning.\n",
      "  group_sizes = df.groupby(group_cols).size()\n",
      "\u001b[A\n",
      " 84%|████████████████████████████████▉      | 167/198 [00:00<00:00, 283.40it/s]\u001b[A\n",
      "  0%|                                                  | 0/199 [00:00<?, ?it/s]\u001b[A\n",
      "100%|████████████████████████████████████████████| 1/1 [00:00<00:00,  2.21it/s]\u001b[A\n"
     ]
    },
    {
     "name": "stdout",
     "output_type": "stream",
     "text": [
      "Total files processed: 1"
     ]
    },
    {
     "name": "stderr",
     "output_type": "stream",
     "text": [
      "\n"
     ]
    },
    {
     "name": "stdout",
     "output_type": "stream",
     "text": [
      "\n"
     ]
    },
    {
     "name": "stderr",
     "output_type": "stream",
     "text": [
      " 23%|█████████                               | 44/194 [00:00<00:00, 432.74it/s]\u001b[A/w/hallb-scshelf2102/clas12/users/gmat/clas12/neutneut/analysis/neutron_ml/../../src/TrainData.py:84: FutureWarning: The default of observed=False is deprecated and will be changed to True in a future version of pandas. Pass observed=False to retain current behavior or observed=True to adopt the future default and silence this warning.\n",
      "  group_sizes = df.groupby(group_cols).size()\n",
      "\n",
      " 22%|████████▋                               | 43/197 [00:00<00:00, 426.12it/s]\u001b[A\n",
      "  0%|                                                  | 0/199 [00:00<?, ?it/s]\u001b[A\n",
      " 23%|█████████▏                              | 45/197 [00:00<00:00, 442.97it/s]\u001b[A\n",
      "  0%|                                                  | 0/199 [00:00<?, ?it/s]\u001b[A\n",
      " 56%|█████████████████████▊                 | 109/195 [00:00<00:00, 258.59it/s]\u001b[A\n",
      " 20%|████████                                | 39/194 [00:00<00:00, 387.05it/s]\u001b[A\n",
      " 41%|████████████████▍                       | 80/195 [00:00<00:00, 288.33it/s]\u001b[A\n",
      " 88%|██████████████████████████████████▍    | 174/197 [00:00<00:00, 236.64it/s]\u001b[A\n",
      " 44%|█████████████████▊                      | 88/198 [00:00<00:00, 320.28it/s]\u001b[A\n",
      " 81%|███████████████████████████████▋       | 160/197 [00:00<00:00, 235.99it/s]\u001b[A\n",
      "  0%|                                                  | 0/195 [00:00<?, ?it/s]\u001b[A\n",
      " 76%|█████████████████████████████▍         | 149/197 [00:00<00:00, 242.59it/s]\u001b[A\n",
      "100%|███████████████████████████████████████| 192/192 [00:00<00:00, 199.14it/s]\u001b[A\n",
      "\n",
      " 67%|██████████████████████████             | 133/199 [00:00<00:00, 235.03it/s]\u001b[A\n",
      " 42%|████████████████▉                       | 84/199 [00:00<00:00, 331.20it/s]\u001b[A\n",
      " 49%|███████████████████▍                    | 96/197 [00:00<00:00, 325.81it/s]\u001b[A\n",
      " 41%|████████████████▌                       | 82/198 [00:00<00:00, 345.52it/s]\u001b[A\n",
      " 42%|████████████████▉                       | 84/198 [00:00<00:00, 318.46it/s]\u001b[A\n",
      " 47%|██████████████████▊                     | 92/196 [00:00<00:00, 358.14it/s]\u001b[A\n",
      " 67%|██████████████████████████▏            | 131/195 [00:00<00:00, 191.14it/s]\u001b[A\n",
      "100%|████████████████████████████████████████████| 1/1 [00:00<00:00,  6.04it/s]\u001b[A\n",
      "\n",
      " 26%|██████████▎                             | 50/195 [00:00<00:00, 491.43it/s]\u001b[A\n",
      " 70%|███████████████████████████▍           | 140/199 [00:00<00:00, 347.30it/s]\u001b[A\n",
      "100%|███████████████████████████████████████| 198/198 [00:00<00:00, 237.88it/s]\u001b[A"
     ]
    },
    {
     "name": "stdout",
     "output_type": "stream",
     "text": [
      "Total files processed: 1"
     ]
    },
    {
     "name": "stderr",
     "output_type": "stream",
     "text": [
      "\n"
     ]
    },
    {
     "name": "stdout",
     "output_type": "stream",
     "text": [
      "\n"
     ]
    },
    {
     "name": "stderr",
     "output_type": "stream",
     "text": [
      " 70%|███████████████████████████▍           | 137/195 [00:00<00:00, 224.17it/s]/w/hallb-scshelf2102/clas12/users/gmat/clas12/neutneut/analysis/neutron_ml/../../src/TrainData.py:84: FutureWarning: The default of observed=False is deprecated and will be changed to True in a future version of pandas. Pass observed=False to retain current behavior or observed=True to adopt the future default and silence this warning.\n",
      "  group_sizes = df.groupby(group_cols).size()\n",
      "\u001b[A\n",
      " 20%|███████▊                                | 39/199 [00:00<00:00, 383.34it/s]\u001b[A\n",
      " 22%|████████▉                               | 44/198 [00:00<00:00, 434.37it/s]\u001b[A\n",
      " 45%|██████████████████▏                     | 88/194 [00:00<00:00, 263.20it/s]\u001b[A\n",
      " 44%|█████████████████▍                      | 86/197 [00:00<00:00, 259.52it/s]\u001b[A\n",
      " 22%|████████▊                               | 44/199 [00:00<00:00, 436.90it/s]\u001b[A\n",
      " 46%|██████████████████▎                     | 90/197 [00:00<00:00, 275.94it/s]\u001b[A\n",
      " 40%|████████████████                        | 78/194 [00:00<00:00, 267.67it/s]\u001b[A\n",
      " 21%|████████▍                               | 42/199 [00:00<00:00, 415.95it/s]\u001b[A\n",
      " 93%|████████████████████████████████████▍  | 184/197 [00:00<00:00, 199.01it/s]\u001b[A\n",
      " 89%|██████████████████████████████████▋    | 175/197 [00:00<00:00, 204.74it/s]\u001b[A\n",
      "  0%|                                                  | 0/200 [00:00<?, ?it/s]\u001b[A\n",
      " 57%|██████████████████████▏                | 111/195 [00:00<00:00, 222.95it/s]\u001b[A\n",
      " 44%|█████████████████▍                      | 86/197 [00:00<00:00, 293.65it/s]\u001b[A\n",
      " 62%|████████████████████████               | 122/198 [00:00<00:00, 240.34it/s]\u001b[A\n",
      " 79%|██████████████████████████████▉        | 158/199 [00:00<00:00, 189.66it/s]\u001b[A\n",
      " 63%|████████████████████████▍              | 124/198 [00:00<00:00, 231.49it/s]\u001b[A\n",
      " 78%|██████████████████████████████▍        | 152/195 [00:00<00:00, 168.65it/s]\u001b[A\n",
      " 22%|████████▊                               | 43/195 [00:00<00:00, 429.91it/s]\u001b[A\n",
      "  0%|                                                  | 0/196 [00:00<?, ?it/s]\u001b[A\n",
      "  0%|                                                  | 0/197 [00:00<?, ?it/s]\u001b[A\n",
      "100%|███████████████████████████████████████| 197/197 [00:00<00:00, 198.29it/s]\u001b[A\n",
      "\n",
      " 67%|██████████████████████████▏            | 132/197 [00:00<00:00, 238.73it/s]\u001b[A\n",
      " 60%|███████████████████████▏               | 118/198 [00:00<00:00, 238.72it/s]\u001b[A\n",
      " 60%|███████████████████████▏               | 118/198 [00:00<00:00, 227.26it/s]\u001b[A\n",
      " 66%|█████████████████████████▊             | 130/196 [00:00<00:00, 255.76it/s]\u001b[A\n",
      " 83%|████████████████████████████████▏      | 161/195 [00:00<00:00, 202.45it/s]\u001b[A\n",
      " 90%|███████████████████████████████████    | 179/199 [00:00<00:00, 295.51it/s]\u001b[A\n",
      "  0%|                                                  | 0/199 [00:00<?, ?it/s]\u001b[A\n",
      " 22%|████████▉                               | 44/197 [00:00<00:00, 439.20it/s]\u001b[A\n",
      "  0%|                                                  | 0/197 [00:00<?, ?it/s]\u001b[A\n",
      "100%|███████████████████████████████████████| 198/198 [00:01<00:00, 196.36it/s]\u001b[A\n",
      "\n",
      " 61%|███████████████████████▋               | 118/194 [00:00<00:00, 238.78it/s]\u001b[A\n",
      " 59%|██████████████████████▉                | 116/197 [00:00<00:00, 233.42it/s]\u001b[A\n",
      "100%|███████████████████████████████████████| 197/197 [00:00<00:00, 191.91it/s]\u001b[A\n",
      " 55%|█████████████████████▌                 | 107/194 [00:00<00:00, 234.43it/s]\u001b[A\n",
      " 39%|███████████████▋                        | 78/199 [00:00<00:00, 280.68it/s]\u001b[A\n",
      " 62%|████████████████████████▏              | 122/197 [00:00<00:00, 242.89it/s]\u001b[A\n",
      " 44%|█████████████████▊                      | 88/198 [00:00<00:00, 305.88it/s]\u001b[A\n",
      " 90%|███████████████████████████████████    | 179/199 [00:00<00:00, 185.41it/s]\u001b[A\n",
      " 70%|███████████████████████████▏           | 136/195 [00:00<00:00, 196.59it/s]\u001b[A\n",
      " 44%|█████████████████▋                      | 88/199 [00:00<00:00, 295.06it/s]\u001b[A\n",
      " 42%|████████████████▉                       | 84/199 [00:00<00:00, 281.86it/s]\u001b[A\n",
      " 87%|██████████████████████████████████     | 170/195 [00:01<00:00, 157.70it/s]\u001b[A\n",
      " 75%|█████████████████████████████▎         | 149/198 [00:00<00:00, 211.13it/s]\u001b[A\n",
      " 60%|███████████████████████▎               | 118/197 [00:00<00:00, 190.66it/s]\u001b[A\n",
      "100%|███████████████████████████████████████| 197/197 [00:01<00:00, 177.64it/s]\u001b[A\n",
      "\n",
      " 22%|█████████                               | 45/200 [00:00<00:00, 449.30it/s]\u001b[A\n",
      " 73%|████████████████████████████▌          | 146/199 [00:00<00:00, 214.90it/s]\u001b[A\n",
      " 73%|████████████████████████████▎          | 144/198 [00:00<00:00, 208.37it/s]\u001b[A\n",
      " 73%|████████████████████████████▌          | 145/198 [00:00<00:00, 215.60it/s]\u001b[A\n",
      " 81%|███████████████████████████████▍       | 159/197 [00:00<00:00, 216.22it/s]\u001b[A\n",
      " 94%|████████████████████████████████████▌  | 183/195 [00:00<00:00, 192.74it/s]\u001b[A\n",
      " 81%|███████████████████████████████▋       | 159/196 [00:00<00:00, 236.20it/s]\u001b[A\n",
      " 44%|█████████████████▋                      | 86/195 [00:00<00:00, 284.61it/s]\u001b[A\n",
      " 24%|█████████▌                              | 47/196 [00:00<00:00, 459.11it/s]\u001b[A\n",
      " 24%|█████████▌                              | 47/197 [00:00<00:00, 467.01it/s]\u001b[A\n",
      "  0%|                                                  | 0/196 [00:00<?, ?it/s]\u001b[A\n",
      " 45%|█████████████████▊                      | 88/197 [00:00<00:00, 302.10it/s]\u001b[A\n",
      " 74%|████████████████████████████▉          | 144/194 [00:00<00:00, 208.55it/s]\u001b[A\n",
      "  0%|                                                    | 0/1 [00:00<?, ?it/s]\u001b[A\n",
      " 24%|█████████▍                              | 47/199 [00:00<00:00, 466.82it/s]\u001b[A\n",
      " 72%|████████████████████████████           | 142/197 [00:00<00:00, 202.03it/s]\u001b[A\n",
      "100%|███████████████████████████████████████| 199/199 [00:01<00:00, 172.69it/s]\u001b[A\n",
      " 68%|██████████████████████████▌            | 132/194 [00:00<00:00, 199.01it/s]\u001b[A\n",
      " 76%|█████████████████████████████▍         | 149/197 [00:00<00:00, 212.68it/s]\u001b[A\n",
      " 81%|███████████████████████████████▍       | 157/195 [00:00<00:00, 180.67it/s]\u001b[A\n",
      " 26%|██████████▎                             | 51/197 [00:00<00:00, 500.35it/s]\u001b[A\n",
      " 70%|███████████████████████████▏           | 136/195 [00:00<00:00, 252.95it/s]\u001b[A\n",
      "Processing CSV files:  42%|███████▋          | 212/500 [00:14<00:22, 12.65it/s]\u001b[A\n",
      " 96%|█████████████████████████████████████▍ | 187/195 [00:01<00:00, 144.28it/s]\u001b[A\n",
      "100%|███████████████████████████████████████| 199/199 [00:00<00:00, 221.02it/s]\u001b[A\n",
      "100%|███████████████████████████████████████| 197/197 [00:01<00:00, 168.38it/s]\n",
      "\n",
      " 61%|███████████████████████▋               | 121/199 [00:00<00:00, 244.85it/s]\u001b[A\n",
      " 87%|█████████████████████████████████▉     | 172/198 [00:00<00:00, 185.37it/s]\u001b[A\n",
      " 58%|██████████████████████▌                | 115/199 [00:00<00:00, 229.32it/s]\u001b[A\n",
      " 72%|███████████████████████████▉           | 141/197 [00:00<00:00, 170.54it/s]\u001b[A\n",
      " 87%|██████████████████████████████████     | 173/198 [00:00<00:00, 182.94it/s]\u001b[A\n",
      " 84%|████████████████████████████████▉      | 167/198 [00:00<00:00, 191.50it/s]\u001b[A\n",
      " 85%|█████████████████████████████████      | 169/199 [00:00<00:00, 189.56it/s]\u001b[A\n",
      " 85%|█████████████████████████████████▎     | 169/198 [00:00<00:00, 194.57it/s]\u001b[A\n",
      " 93%|████████████████████████████████████▏  | 183/197 [00:00<00:00, 193.04it/s]\u001b[A\n",
      " 94%|████████████████████████████████████▊  | 185/196 [00:00<00:00, 209.61it/s]\u001b[A\n",
      " 45%|██████████████████                      | 90/200 [00:00<00:00, 280.61it/s]\u001b[A\n",
      " 61%|███████████████████████▌               | 118/195 [00:00<00:00, 233.83it/s]\u001b[A\n",
      " 86%|█████████████████████████████████▎     | 166/194 [00:00<00:00, 194.54it/s]\u001b[A\n",
      " 83%|████████████████████████████████▍      | 164/197 [00:00<00:00, 190.53it/s]\u001b[A\n",
      " 79%|██████████████████████████████▊        | 153/194 [00:00<00:00, 186.72it/s]\u001b[A\n",
      " 87%|██████████████████████████████████     | 172/197 [00:00<00:00, 201.99it/s]\u001b[A\n",
      " 47%|██████████████████▉                     | 93/196 [00:00<00:00, 303.18it/s]\u001b[A\n",
      " 90%|███████████████████████████████████▏   | 176/195 [00:00<00:00, 170.42it/s]\u001b[A\n",
      " 61%|███████████████████████▉               | 121/197 [00:00<00:00, 258.55it/s]\u001b[A\n",
      " 48%|███████████████████                     | 94/197 [00:00<00:00, 300.97it/s]\u001b[A\n",
      " 66%|█████████████████████████▊             | 132/199 [00:00<00:00, 201.23it/s]\u001b[A\n",
      " 27%|██████████▌                             | 52/196 [00:00<00:00, 515.53it/s]\u001b[A\n",
      "100%|███████████████████████████████████████| 195/195 [00:01<00:00, 170.04it/s]\n",
      "\n",
      "100%|███████████████████████████████████████| 199/199 [00:01<00:00, 159.46it/s]\u001b[A\n",
      "\n",
      " 75%|█████████████████████████████▏         | 148/198 [00:00<00:00, 213.04it/s]\u001b[A\n",
      " 52%|████████████████████▏                  | 102/197 [00:00<00:00, 336.00it/s]\u001b[A\n",
      " 97%|█████████████████████████████████████▊ | 192/198 [00:01<00:00, 162.31it/s]\u001b[A\n",
      " 94%|████████████████████████████████████▊  | 187/198 [00:00<00:00, 171.53it/s]\u001b[A\n",
      " 96%|█████████████████████████████████████▍ | 190/198 [00:00<00:00, 179.96it/s]\u001b[A\n",
      " 82%|███████████████████████████████▊       | 161/197 [00:00<00:00, 155.50it/s]\u001b[A\n",
      " 97%|██████████████████████████████████████ | 193/198 [00:01<00:00, 164.07it/s]\u001b[A\n",
      "  0%|                                                    | 0/1 [00:00<?, ?it/s]\u001b[A\n",
      " 74%|█████████████████████████████          | 148/199 [00:00<00:00, 201.49it/s]\u001b[A\n",
      " 95%|█████████████████████████████████████  | 189/199 [00:01<00:00, 169.04it/s]\u001b[A\n",
      "100%|███████████████████████████████████████| 195/195 [00:01<00:00, 144.57it/s]\u001b[A\n",
      "\n",
      "100%|████████████████████████████████████████████| 1/1 [00:00<00:00,  5.98it/s]\u001b[A\n",
      " 93%|████████████████████████████████████▍  | 184/197 [00:00<00:00, 177.16it/s]\u001b[A\n",
      " 96%|█████████████████████████████████████▍ | 186/194 [00:00<00:00, 174.24it/s]\u001b[A\n",
      " 89%|██████████████████████████████████▊    | 173/194 [00:00<00:00, 173.67it/s]\u001b[A\n",
      "  0%|                                                    | 0/1 [00:00<?, ?it/s]\u001b[A\n",
      " 74%|████████████████████████████▊          | 144/195 [00:00<00:00, 202.74it/s]\u001b[A\n",
      " 98%|██████████████████████████████████████▏| 193/197 [00:00<00:00, 184.63it/s]\u001b[A\n",
      " 61%|███████████████████████▊               | 122/200 [00:00<00:00, 235.10it/s]\u001b[A\n",
      " 99%|██████████████████████████████████████▊| 194/195 [00:01<00:00, 155.42it/s]\u001b[A\n",
      " 77%|█████████████████████████████▉         | 153/199 [00:00<00:00, 187.52it/s]\u001b[A\n",
      "100%|███████████████████████████████████████| 197/197 [00:01<00:00, 181.18it/s]\u001b[A\n",
      "\n",
      " 96%|█████████████████████████████████████▌ | 188/195 [00:00<00:00, 211.10it/s]\u001b[A\n",
      "100%|███████████████████████████████████████| 196/196 [00:01<00:00, 188.48it/s]\u001b[A\n",
      "100%|███████████████████████████████████████| 198/198 [00:01<00:00, 185.89it/s]\n",
      "Processing CSV files:  43%|███████▊          | 216/500 [00:14<00:22, 12.76it/s]\n",
      " 86%|█████████████████████████████████▋     | 171/198 [00:00<00:00, 198.56it/s]\u001b[A\n",
      "  0%|                                                    | 0/1 [00:00<?, ?it/s]\u001b[A\n",
      " 90%|███████████████████████████████████▏   | 178/197 [00:01<00:00, 151.11it/s]\u001b[A\n",
      "100%|███████████████████████████████████████| 197/197 [00:01<00:00, 193.34it/s]\u001b[A\n",
      "\n",
      " 53%|████████████████████▋                  | 104/196 [00:00<00:00, 337.02it/s]\u001b[A\n",
      "100%|███████████████████████████████████████| 198/198 [00:01<00:00, 171.58it/s]\u001b[A\n",
      "\n",
      "100%|███████████████████████████████████████| 198/198 [00:01<00:00, 179.35it/s]\u001b[A\n",
      "\n",
      "100%|███████████████████████████████████████| 198/198 [00:01<00:00, 168.84it/s]\u001b[A\n",
      "100%|████████████████████████████████████████████| 1/1 [00:00<00:00,  2.76it/s]\n",
      "\n"
     ]
    },
    {
     "name": "stdout",
     "output_type": "stream",
     "text": [
      "Total files processed: 1"
     ]
    },
    {
     "name": "stderr",
     "output_type": "stream",
     "text": [
      "  0%|                                                    | 0/1 [00:00<?, ?it/s]"
     ]
    },
    {
     "name": "stdout",
     "output_type": "stream",
     "text": [
      "\n"
     ]
    },
    {
     "name": "stderr",
     "output_type": "stream",
     "text": [
      "/w/hallb-scshelf2102/clas12/users/gmat/clas12/neutneut/analysis/neutron_ml/../../src/TrainData.py:84: FutureWarning: The default of observed=False is deprecated and will be changed to True in a future version of pandas. Pass observed=False to retain current behavior or observed=True to adopt the future default and silence this warning.\n",
      "  group_sizes = df.groupby(group_cols).size()\n",
      "100%|███████████████████████████████████████| 199/199 [00:01<00:00, 173.41it/s]\n",
      "100%|███████████████████████████████████████| 194/194 [00:01<00:00, 177.30it/s]\n",
      "\n",
      " 71%|███████████████████████████▌           | 139/197 [00:00<00:00, 292.74it/s]\u001b[A\n",
      " 85%|█████████████████████████████████▏     | 166/195 [00:00<00:00, 195.25it/s]\u001b[A\n",
      "100%|███████████████████████████████████████| 195/195 [00:01<00:00, 158.55it/s]\u001b[A\n",
      "\n",
      "100%|███████████████████████████████████████| 197/197 [00:01<00:00, 177.84it/s]\u001b[A\n",
      "\n",
      " 88%|██████████████████████████████████▏    | 173/197 [00:00<00:00, 219.47it/s]\u001b[A\n",
      "100%|███████████████████████████████████████| 194/194 [00:01<00:00, 175.64it/s]\u001b[A\n",
      "\n",
      " 79%|██████████████████████████████▊        | 155/196 [00:00<00:00, 243.02it/s]\u001b[A\n",
      " 79%|██████████████████████████████▉        | 158/199 [00:00<00:00, 268.70it/s]\u001b[A\n",
      "100%|███████████████████████████████████████| 195/195 [00:01<00:00, 191.62it/s]\u001b[A\n",
      "\n",
      " 95%|█████████████████████████████████████▏ | 190/199 [00:00<00:00, 192.17it/s]\u001b[A\n",
      "100%|████████████████████████████████████████████| 1/1 [00:00<00:00,  6.32it/s]\u001b[A\n",
      " 72%|████████████████████████████▎          | 142/196 [00:00<00:00, 332.95it/s]\u001b[A\n",
      "Processing CSV files:  44%|███████▉          | 219/500 [00:14<00:20, 13.70it/s]\u001b[A\n",
      "100%|███████████████████████████████████████| 197/197 [00:01<00:00, 161.46it/s]\u001b[A\n",
      "\n",
      " 96%|█████████████████████████████████████▍ | 187/195 [00:00<00:00, 192.21it/s]\u001b[A\n",
      " 96%|█████████████████████████████████████▋ | 192/199 [00:01<00:00, 175.93it/s]\u001b[A\n",
      " 86%|█████████████████████████████████▋     | 170/197 [00:00<00:00, 237.42it/s]\u001b[A\n",
      " 86%|█████████████████████████████████▌     | 172/200 [00:00<00:00, 210.48it/s]\u001b[A\n",
      "100%|████████████████████████████████████████████| 1/1 [00:00<00:00,  5.66it/s]\u001b[A\n",
      " 99%|██████████████████████████████████████▊| 196/197 [00:00<00:00, 198.38it/s]\u001b[A\n",
      "  0%|                                                    | 0/1 [00:00<?, ?it/s]\u001b[A\n",
      "100%|███████████████████████████████████████| 198/198 [00:01<00:00, 191.28it/s]\u001b[A\n",
      "\n",
      "  0%|                                                    | 0/1 [00:00<?, ?it/s]\u001b[A\n",
      "100%|███████████████████████████████████████| 199/199 [00:01<00:00, 190.36it/s]\u001b[A\n",
      "\n",
      "  0%|                                                    | 0/1 [00:00<?, ?it/s]\u001b[A\n",
      "  0%|                                                    | 0/1 [00:00<?, ?it/s]\u001b[A\n",
      "100%|███████████████████████████████████████| 199/199 [00:01<00:00, 167.36it/s]\u001b[A\n",
      "  0%|                                                    | 0/1 [00:00<?, ?it/s]\u001b[A\n",
      "100%|███████████████████████████████████████| 199/199 [00:01<00:00, 190.03it/s]\u001b[A\n",
      "\n",
      "Processing CSV files:  45%|████████          | 224/500 [00:14<00:15, 17.79it/s]\u001b[A\n",
      "  0%|                                                    | 0/1 [00:00<?, ?it/s]\u001b[A\n",
      "100%|███████████████████████████████████████| 195/195 [00:00<00:00, 195.48it/s]\u001b[A\n",
      "100%|████████████████████████████████████████████| 1/1 [00:00<00:00,  2.97it/s]\n",
      "\n"
     ]
    },
    {
     "name": "stdout",
     "output_type": "stream",
     "text": [
      "Total files processed: 1\n"
     ]
    },
    {
     "name": "stderr",
     "output_type": "stream",
     "text": [
      "100%|████████████████████████████████████████████| 1/1 [00:00<00:00,  3.75it/s]\u001b[A\n",
      "/w/hallb-scshelf2102/clas12/users/gmat/clas12/neutneut/analysis/neutron_ml/../../src/TrainData.py:84: FutureWarning: The default of observed=False is deprecated and will be changed to True in a future version of pandas. Pass observed=False to retain current behavior or observed=True to adopt the future default and silence this warning.\n",
      "  group_sizes = df.groupby(group_cols).size()\n",
      "100%|███████████████████████████████████████| 197/197 [00:00<00:00, 208.52it/s]"
     ]
    },
    {
     "name": "stdout",
     "output_type": "stream",
     "text": [
      "Total files processed: 1\n"
     ]
    },
    {
     "name": "stderr",
     "output_type": "stream",
     "text": [
      "\n",
      "100%|████████████████████████████████████████████| 1/1 [00:00<00:00,  3.27it/s]\n",
      "\n"
     ]
    },
    {
     "name": "stdout",
     "output_type": "stream",
     "text": [
      "Total files processed: 1"
     ]
    },
    {
     "name": "stderr",
     "output_type": "stream",
     "text": [
      "/w/hallb-scshelf2102/clas12/users/gmat/clas12/neutneut/analysis/neutron_ml/../../src/TrainData.py:84: FutureWarning: The default of observed=False is deprecated and will be changed to True in a future version of pandas. Pass observed=False to retain current behavior or observed=True to adopt the future default and silence this warning.\n",
      "  group_sizes = df.groupby(group_cols).size()\n"
     ]
    },
    {
     "name": "stdout",
     "output_type": "stream",
     "text": [
      "\n"
     ]
    },
    {
     "name": "stderr",
     "output_type": "stream",
     "text": [
      "  0%|                                                    | 0/1 [00:00<?, ?it/s]\u001b[A/w/hallb-scshelf2102/clas12/users/gmat/clas12/neutneut/analysis/neutron_ml/../../src/TrainData.py:84: FutureWarning: The default of observed=False is deprecated and will be changed to True in a future version of pandas. Pass observed=False to retain current behavior or observed=True to adopt the future default and silence this warning.\n",
      "  group_sizes = df.groupby(group_cols).size()\n",
      "\n",
      " 91%|███████████████████████████████████▍   | 178/196 [00:00<00:00, 285.40it/s]\u001b[A\n",
      "  0%|                                                    | 0/1 [00:00<?, ?it/s]\u001b[A\n",
      " 97%|█████████████████████████████████████▊ | 194/200 [00:00<00:00, 211.27it/s]\u001b[A\n",
      "100%|███████████████████████████████████████| 196/196 [00:00<00:00, 231.01it/s]\u001b[A\n",
      "\n",
      "100%|███████████████████████████████████████| 199/199 [00:01<00:00, 176.33it/s]\u001b[A\n",
      "\n",
      "  0%|                                                    | 0/1 [00:00<?, ?it/s]\u001b[A\n",
      "100%|████████████████████████████████████████████| 1/1 [00:00<00:00,  3.69it/s]\u001b[A\n"
     ]
    },
    {
     "name": "stdout",
     "output_type": "stream",
     "text": [
      "Total files processed: 1"
     ]
    },
    {
     "name": "stderr",
     "output_type": "stream",
     "text": [
      "100%|███████████████████████████████████████| 199/199 [00:00<00:00, 239.16it/s]"
     ]
    },
    {
     "name": "stdout",
     "output_type": "stream",
     "text": [
      "\n"
     ]
    },
    {
     "name": "stderr",
     "output_type": "stream",
     "text": [
      "\n",
      "/w/hallb-scshelf2102/clas12/users/gmat/clas12/neutneut/analysis/neutron_ml/../../src/TrainData.py:84: FutureWarning: The default of observed=False is deprecated and will be changed to True in a future version of pandas. Pass observed=False to retain current behavior or observed=True to adopt the future default and silence this warning.\n",
      "  group_sizes = df.groupby(group_cols).size()\n",
      "\n",
      "100%|███████████████████████████████████████| 197/197 [00:00<00:00, 220.63it/s]\u001b[A\n",
      "\n",
      "  0%|                                                    | 0/1 [00:00<?, ?it/s]\u001b[A\n",
      "100%|███████████████████████████████████████| 196/196 [00:00<00:00, 280.08it/s]\u001b[A\n",
      "Processing CSV files:  47%|████████▍         | 233/500 [00:14<00:10, 26.10it/s]\n",
      " 19%|███████▋                                | 38/197 [00:00<00:00, 373.17it/s]\u001b[A\n",
      "100%|████████████████████████████████████████████| 1/1 [00:00<00:00,  5.27it/s]\u001b[A\n",
      "  0%|                                                  | 0/199 [00:00<?, ?it/s]\u001b[A\n",
      "100%|███████████████████████████████████████| 200/200 [00:00<00:00, 203.13it/s]\u001b[A\n",
      "\n",
      "100%|████████████████████████████████████████████| 1/1 [00:00<00:00,  7.72it/s]\u001b[A\n",
      "100%|████████████████████████████████████████████| 1/1 [00:00<00:00,  6.06it/s]\u001b[A\n",
      "  0%|                                                  | 0/198 [00:00<?, ?it/s]\u001b[A\n",
      "  0%|                                                    | 0/1 [00:00<?, ?it/s]\u001b[A\n",
      "100%|████████████████████████████████████████████| 1/1 [00:00<00:00,  5.54it/s]\u001b[A\n",
      "  0%|                                                  | 0/199 [00:00<?, ?it/s]\u001b[A\n",
      "100%|████████████████████████████████████████████| 1/1 [00:00<00:00,  5.36it/s]\u001b[A\n",
      "100%|████████████████████████████████████████████| 1/1 [00:00<00:00,  5.14it/s]\u001b[A\n",
      "100%|████████████████████████████████████████████| 1/1 [00:00<00:00,  5.17it/s]\u001b[A\n",
      "100%|████████████████████████████████████████████| 1/1 [00:00<00:00,  3.88it/s]\u001b[A\n"
     ]
    },
    {
     "name": "stdout",
     "output_type": "stream",
     "text": [
      "Total files processed: 1"
     ]
    },
    {
     "name": "stderr",
     "output_type": "stream",
     "text": [
      "100%|████████████████████████████████████████████| 1/1 [00:00<00:00,  3.12it/s]"
     ]
    },
    {
     "name": "stdout",
     "output_type": "stream",
     "text": [
      "\n"
     ]
    },
    {
     "name": "stderr",
     "output_type": "stream",
     "text": [
      "\n",
      "100%|███████████████████████████████████████| 197/197 [00:00<00:00, 205.94it/s]"
     ]
    },
    {
     "name": "stdout",
     "output_type": "stream",
     "text": [
      "Total files processed: 1"
     ]
    },
    {
     "name": "stderr",
     "output_type": "stream",
     "text": [
      "\n"
     ]
    },
    {
     "name": "stdout",
     "output_type": "stream",
     "text": [
      "\n"
     ]
    },
    {
     "name": "stderr",
     "output_type": "stream",
     "text": [
      "/w/hallb-scshelf2102/clas12/users/gmat/clas12/neutneut/analysis/neutron_ml/../../src/TrainData.py:84: FutureWarning: The default of observed=False is deprecated and will be changed to True in a future version of pandas. Pass observed=False to retain current behavior or observed=True to adopt the future default and silence this warning.\n",
      "  group_sizes = df.groupby(group_cols).size()\n",
      "100%|████████████████████████████████████████████| 1/1 [00:00<00:00,  4.79it/s]\n",
      "\n",
      "/w/hallb-scshelf2102/clas12/users/gmat/clas12/neutneut/analysis/neutron_ml/../../src/TrainData.py:84: FutureWarning: The default of observed=False is deprecated and will be changed to True in a future version of pandas. Pass observed=False to retain current behavior or observed=True to adopt the future default and silence this warning.\n",
      "  group_sizes = df.groupby(group_cols).size()\n",
      "  0%|                                                    | 0/1 [00:00<?, ?it/s]\u001b[A"
     ]
    },
    {
     "name": "stdout",
     "output_type": "stream",
     "text": [
      "Total files processed: 1"
     ]
    },
    {
     "name": "stderr",
     "output_type": "stream",
     "text": [
      "\n",
      "  0%|                                                    | 0/1 [00:00<?, ?it/s]"
     ]
    },
    {
     "name": "stdout",
     "output_type": "stream",
     "text": [
      "\n"
     ]
    },
    {
     "name": "stderr",
     "output_type": "stream",
     "text": [
      "\u001b[A/w/hallb-scshelf2102/clas12/users/gmat/clas12/neutneut/analysis/neutron_ml/../../src/TrainData.py:84: FutureWarning: The default of observed=False is deprecated and will be changed to True in a future version of pandas. Pass observed=False to retain current behavior or observed=True to adopt the future default and silence this warning.\n",
      "  group_sizes = df.groupby(group_cols).size()\n",
      "\n",
      "100%|████████████████████████████████████████████| 1/1 [00:00<00:00,  3.98it/s]\u001b[A\n",
      "\n"
     ]
    },
    {
     "name": "stdout",
     "output_type": "stream",
     "text": [
      "Total files processed: 1"
     ]
    },
    {
     "name": "stderr",
     "output_type": "stream",
     "text": [
      " 39%|███████████████▍                        | 76/197 [00:00<00:00, 326.86it/s]"
     ]
    },
    {
     "name": "stdout",
     "output_type": "stream",
     "text": [
      "\n"
     ]
    },
    {
     "name": "stderr",
     "output_type": "stream",
     "text": [
      "\u001b[A\n",
      "/w/hallb-scshelf2102/clas12/users/gmat/clas12/neutneut/analysis/neutron_ml/../../src/TrainData.py:84: FutureWarning: The default of observed=False is deprecated and will be changed to True in a future version of pandas. Pass observed=False to retain current behavior or observed=True to adopt the future default and silence this warning.\n",
      "  group_sizes = df.groupby(group_cols).size()\n",
      "100%|████████████████████████████████████████████| 1/1 [00:00<00:00,  3.68it/s]\u001b[A\n",
      "\n",
      "Processing CSV files:  48%|████████▌         | 238/500 [00:15<00:08, 29.21it/s]\u001b[A\n",
      "100%|████████████████████████████████████████████| 1/1 [00:00<00:00,  5.23it/s]\u001b[A\n",
      "100%|████████████████████████████████████████████| 1/1 [00:00<00:00,  5.32it/s]\u001b[A"
     ]
    },
    {
     "name": "stdout",
     "output_type": "stream",
     "text": [
      "Total files processed: 1"
     ]
    },
    {
     "name": "stderr",
     "output_type": "stream",
     "text": [
      "\n"
     ]
    },
    {
     "name": "stdout",
     "output_type": "stream",
     "text": [
      "\n"
     ]
    },
    {
     "name": "stderr",
     "output_type": "stream",
     "text": [
      " 19%|███████▋                                | 38/199 [00:00<00:00, 374.85it/s]\u001b[A/w/hallb-scshelf2102/clas12/users/gmat/clas12/neutneut/analysis/neutron_ml/../../src/TrainData.py:84: FutureWarning: The default of observed=False is deprecated and will be changed to True in a future version of pandas. Pass observed=False to retain current behavior or observed=True to adopt the future default and silence this warning.\n",
      "  group_sizes = df.groupby(group_cols).size()\n",
      "\n",
      "100%|████████████████████████████████████████████| 1/1 [00:00<00:00,  7.45it/s]\u001b[A\n",
      "100%|████████████████████████████████████████████| 1/1 [00:00<00:00,  3.22it/s]\u001b[A\n"
     ]
    },
    {
     "name": "stdout",
     "output_type": "stream",
     "text": [
      "Total files processed: 1"
     ]
    },
    {
     "name": "stderr",
     "output_type": "stream",
     "text": [
      "\n"
     ]
    },
    {
     "name": "stdout",
     "output_type": "stream",
     "text": [
      "\n"
     ]
    },
    {
     "name": "stderr",
     "output_type": "stream",
     "text": [
      "100%|████████████████████████████████████████████| 1/1 [00:00<00:00,  4.64it/s]\u001b[A/w/hallb-scshelf2102/clas12/users/gmat/clas12/neutneut/analysis/neutron_ml/../../src/TrainData.py:84: FutureWarning: The default of observed=False is deprecated and will be changed to True in a future version of pandas. Pass observed=False to retain current behavior or observed=True to adopt the future default and silence this warning.\n",
      "  group_sizes = df.groupby(group_cols).size()\n",
      "\n",
      "100%|████████████████████████████████████████████| 1/1 [00:00<00:00,  4.00it/s]"
     ]
    },
    {
     "name": "stdout",
     "output_type": "stream",
     "text": [
      "Total files processed: 1\n"
     ]
    },
    {
     "name": "stderr",
     "output_type": "stream",
     "text": [
      "/w/hallb-scshelf2102/clas12/users/gmat/clas12/neutneut/analysis/neutron_ml/../../src/TrainData.py:84: FutureWarning: The default of observed=False is deprecated and will be changed to True in a future version of pandas. Pass observed=False to retain current behavior or observed=True to adopt the future default and silence this warning.\n",
      "  group_sizes = df.groupby(group_cols).size()\n",
      "\n",
      "\n"
     ]
    },
    {
     "name": "stdout",
     "output_type": "stream",
     "text": [
      "Total files processed: 1"
     ]
    },
    {
     "name": "stderr",
     "output_type": "stream",
     "text": [
      "100%|████████████████████████████████████████████| 1/1 [00:00<00:00,  4.89it/s]"
     ]
    },
    {
     "name": "stdout",
     "output_type": "stream",
     "text": [
      "\n"
     ]
    },
    {
     "name": "stderr",
     "output_type": "stream",
     "text": [
      "\u001b[A\n",
      "/w/hallb-scshelf2102/clas12/users/gmat/clas12/neutneut/analysis/neutron_ml/../../src/TrainData.py:84: FutureWarning: The default of observed=False is deprecated and will be changed to True in a future version of pandas. Pass observed=False to retain current behavior or observed=True to adopt the future default and silence this warning.\n",
      "  group_sizes = df.groupby(group_cols).size()\n",
      "100%|████████████████████████████████████████████| 1/1 [00:00<00:00,  2.98it/s]\u001b[A\n",
      "\n"
     ]
    },
    {
     "name": "stdout",
     "output_type": "stream",
     "text": [
      "Total files processed: 1\n"
     ]
    },
    {
     "name": "stderr",
     "output_type": "stream",
     "text": [
      "  0%|                                                    | 0/1 [00:00<?, ?it/s]\u001b[A\n",
      "/w/hallb-scshelf2102/clas12/users/gmat/clas12/neutneut/analysis/neutron_ml/../../src/TrainData.py:84: FutureWarning: The default of observed=False is deprecated and will be changed to True in a future version of pandas. Pass observed=False to retain current behavior or observed=True to adopt the future default and silence this warning.\n",
      "  group_sizes = df.groupby(group_cols).size()\n",
      "100%|████████████████████████████████████████████| 1/1 [00:00<00:00,  2.85it/s]\u001b[A\n",
      "\n"
     ]
    },
    {
     "name": "stdout",
     "output_type": "stream",
     "text": [
      "Total files processed: 1\n"
     ]
    },
    {
     "name": "stderr",
     "output_type": "stream",
     "text": [
      " 19%|███████▋                                | 38/199 [00:00<00:00, 379.53it/s]\u001b[A\n",
      "100%|████████████████████████████████████████████| 1/1 [00:00<00:00,  6.31it/s]\u001b[A\n",
      "100%|████████████████████████████████████████████| 1/1 [00:00<00:00,  4.51it/s]\u001b[A\n",
      "/w/hallb-scshelf2102/clas12/users/gmat/clas12/neutneut/analysis/neutron_ml/../../src/TrainData.py:84: FutureWarning: The default of observed=False is deprecated and will be changed to True in a future version of pandas. Pass observed=False to retain current behavior or observed=True to adopt the future default and silence this warning.\n",
      "  group_sizes = df.groupby(group_cols).size()\n"
     ]
    },
    {
     "name": "stdout",
     "output_type": "stream",
     "text": [
      "Total files processed: 1"
     ]
    },
    {
     "name": "stderr",
     "output_type": "stream",
     "text": [
      "\n"
     ]
    },
    {
     "name": "stdout",
     "output_type": "stream",
     "text": [
      "\n"
     ]
    },
    {
     "name": "stderr",
     "output_type": "stream",
     "text": [
      "  0%|                                                  | 0/196 [00:00<?, ?it/s]\u001b[A\n",
      "/w/hallb-scshelf2102/clas12/users/gmat/clas12/neutneut/analysis/neutron_ml/../../src/TrainData.py:84: FutureWarning: The default of observed=False is deprecated and will be changed to True in a future version of pandas. Pass observed=False to retain current behavior or observed=True to adopt the future default and silence this warning.\n",
      "  group_sizes = df.groupby(group_cols).size()\n",
      "  0%|                                                    | 0/1 [00:00<?, ?it/s]\u001b[A\n",
      "100%|████████████████████████████████████████████| 1/1 [00:00<00:00,  3.21it/s]\u001b[A\n"
     ]
    },
    {
     "name": "stdout",
     "output_type": "stream",
     "text": [
      "Total files processed: 1"
     ]
    },
    {
     "name": "stderr",
     "output_type": "stream",
     "text": [
      "100%|████████████████████████████████████████████| 1/1 [00:00<00:00,  4.92it/s]"
     ]
    },
    {
     "name": "stdout",
     "output_type": "stream",
     "text": [
      "\n"
     ]
    },
    {
     "name": "stderr",
     "output_type": "stream",
     "text": [
      "\n",
      "\n"
     ]
    },
    {
     "name": "stdout",
     "output_type": "stream",
     "text": [
      "Total files processed: 1"
     ]
    },
    {
     "name": "stderr",
     "output_type": "stream",
     "text": [
      "  0%|                                                    | 0/1 [00:00<?, ?it/s]"
     ]
    },
    {
     "name": "stdout",
     "output_type": "stream",
     "text": [
      "\n"
     ]
    },
    {
     "name": "stderr",
     "output_type": "stream",
     "text": [
      "/w/hallb-scshelf2102/clas12/users/gmat/clas12/neutneut/analysis/neutron_ml/../../src/TrainData.py:84: FutureWarning: The default of observed=False is deprecated and will be changed to True in a future version of pandas. Pass observed=False to retain current behavior or observed=True to adopt the future default and silence this warning.\n",
      "  group_sizes = df.groupby(group_cols).size()\n",
      "100%|████████████████████████████████████████████| 1/1 [00:00<00:00,  3.65it/s]/w/hallb-scshelf2102/clas12/users/gmat/clas12/neutneut/analysis/neutron_ml/../../src/TrainData.py:84: FutureWarning: The default of observed=False is deprecated and will be changed to True in a future version of pandas. Pass observed=False to retain current behavior or observed=True to adopt the future default and silence this warning.\n",
      "  group_sizes = df.groupby(group_cols).size()\n",
      "\n",
      "\n"
     ]
    },
    {
     "name": "stdout",
     "output_type": "stream",
     "text": [
      "Total files processed: 1"
     ]
    },
    {
     "name": "stderr",
     "output_type": "stream",
     "text": [
      "  0%|                                                    | 0/1 [00:00<?, ?it/s]"
     ]
    },
    {
     "name": "stdout",
     "output_type": "stream",
     "text": [
      "\n"
     ]
    },
    {
     "name": "stderr",
     "output_type": "stream",
     "text": [
      "\u001b[A\n",
      " 56%|█████████████████████▊                 | 110/197 [00:00<00:00, 306.15it/s]\u001b[A/w/hallb-scshelf2102/clas12/users/gmat/clas12/neutneut/analysis/neutron_ml/../../src/TrainData.py:84: FutureWarning: The default of observed=False is deprecated and will be changed to True in a future version of pandas. Pass observed=False to retain current behavior or observed=True to adopt the future default and silence this warning.\n",
      "  group_sizes = df.groupby(group_cols).size()\n",
      "\n",
      "100%|████████████████████████████████████████████| 1/1 [00:00<00:00,  3.94it/s]\u001b[A\n"
     ]
    },
    {
     "name": "stdout",
     "output_type": "stream",
     "text": [
      "Total files processed: 1"
     ]
    },
    {
     "name": "stderr",
     "output_type": "stream",
     "text": [
      "\n",
      "  0%|                                                  | 0/195 [00:00<?, ?it/s]\u001b[A\n"
     ]
    },
    {
     "name": "stdout",
     "output_type": "stream",
     "text": [
      "\n"
     ]
    },
    {
     "name": "stderr",
     "output_type": "stream",
     "text": [
      "  0%|                                                    | 0/1 [00:00<?, ?it/s]\u001b[A\n",
      "/w/hallb-scshelf2102/clas12/users/gmat/clas12/neutneut/analysis/neutron_ml/../../src/TrainData.py:84: FutureWarning: The default of observed=False is deprecated and will be changed to True in a future version of pandas. Pass observed=False to retain current behavior or observed=True to adopt the future default and silence this warning.\n",
      "  group_sizes = df.groupby(group_cols).size()\n",
      "  0%|                                                  | 0/192 [00:00<?, ?it/s]\u001b[A\n",
      " 21%|████████▎                               | 41/198 [00:00<00:00, 402.38it/s]\u001b[A\n",
      "  0%|                                                  | 0/194 [00:00<?, ?it/s]\u001b[A\n",
      "Processing CSV files:  49%|████████▊         | 245/500 [00:15<00:08, 31.15it/s]\u001b[A\n",
      "100%|████████████████████████████████████████████| 1/1 [00:00<00:00,  4.18it/s]\u001b[A\n",
      " 38%|███████████████▎                        | 76/199 [00:00<00:00, 328.20it/s]\u001b[A\n",
      " 19%|███████▊                                | 38/195 [00:00<00:00, 372.73it/s]\u001b[A\n",
      " 72%|███████████████████████████▉           | 141/197 [00:00<00:00, 306.43it/s]\u001b[A\n",
      "100%|████████████████████████████████████████████| 1/1 [00:00<00:00,  4.13it/s]\u001b[A\n",
      " 19%|███████▊                                | 38/196 [00:00<00:00, 376.46it/s]\u001b[A\n",
      "100%|████████████████████████████████████████████| 1/1 [00:00<00:00,  5.30it/s]\u001b[A\n",
      "100%|████████████████████████████████████████████| 1/1 [00:00<00:00,  6.70it/s]\u001b[A\n",
      "  0%|                                                  | 0/197 [00:00<?, ?it/s]\u001b[A\n",
      "100%|████████████████████████████████████████████| 1/1 [00:00<00:00,  4.58it/s]\u001b[A\n",
      " 36%|██████████████▌                         | 72/198 [00:00<00:00, 254.18it/s]\u001b[A\n",
      "100%|████████████████████████████████████████████| 1/1 [00:00<00:00,  4.21it/s]\u001b[A\n",
      "100%|████████████████████████████████████████████| 1/1 [00:00<00:00,  6.28it/s]\u001b[A\n",
      "  0%|                                                  | 0/192 [00:00<?, ?it/s]\u001b[A\n",
      " 20%|████████                                | 39/195 [00:00<00:00, 383.49it/s]\u001b[A\n",
      "100%|████████████████████████████████████████████| 1/1 [00:00<00:00,  6.65it/s]\u001b[A\n",
      "  0%|                                                  | 0/197 [00:00<?, ?it/s]\u001b[A\n",
      "100%|████████████████████████████████████████████| 1/1 [00:00<00:00,  5.29it/s]\u001b[A\n",
      "100%|████████████████████████████████████████████| 1/1 [00:00<00:00,  5.84it/s]\u001b[A\n",
      "100%|████████████████████████████████████████████| 1/1 [00:00<00:00,  6.22it/s]\u001b[A\n",
      "  0%|                                                  | 0/192 [00:00<?, ?it/s]\u001b[A\n",
      "100%|████████████████████████████████████████████| 1/1 [00:00<00:00,  4.24it/s]\u001b[A\n",
      "100%|████████████████████████████████████████████| 1/1 [00:00<00:00,  7.39it/s]\u001b[A\n",
      "100%|████████████████████████████████████████████| 1/1 [00:00<00:00,  2.14it/s]\u001b[A\n",
      "\n"
     ]
    },
    {
     "name": "stdout",
     "output_type": "stream",
     "text": [
      "Total files processed: 1"
     ]
    },
    {
     "name": "stderr",
     "output_type": "stream",
     "text": [
      " 41%|████████████████▌                       | 82/198 [00:00<00:00, 268.90it/s]"
     ]
    },
    {
     "name": "stdout",
     "output_type": "stream",
     "text": [
      "\n"
     ]
    },
    {
     "name": "stderr",
     "output_type": "stream",
     "text": [
      "\u001b[A\n",
      "  0%|                                                  | 0/198 [00:00<?, ?it/s]/w/hallb-scshelf2102/clas12/users/gmat/clas12/neutneut/analysis/neutron_ml/../../src/TrainData.py:84: FutureWarning: The default of observed=False is deprecated and will be changed to True in a future version of pandas. Pass observed=False to retain current behavior or observed=True to adopt the future default and silence this warning.\n",
      "  group_sizes = df.groupby(group_cols).size()\n",
      "\u001b[A\n",
      "  0%|                                                  | 0/195 [00:00<?, ?it/s]\u001b[A\n",
      "  0%|                                                  | 0/196 [00:00<?, ?it/s]\u001b[A\n",
      "  0%|                                                  | 0/199 [00:00<?, ?it/s]\u001b[A\n",
      "  0%|                                                    | 0/1 [00:00<?, ?it/s]\u001b[A\n",
      "  0%|                                                  | 0/198 [00:00<?, ?it/s]\u001b[A\n",
      "100%|████████████████████████████████████████████| 1/1 [00:00<00:00,  2.44it/s]\u001b[A\n",
      "\n"
     ]
    },
    {
     "name": "stdout",
     "output_type": "stream",
     "text": [
      "Total files processed: 1"
     ]
    },
    {
     "name": "stderr",
     "output_type": "stream",
     "text": [
      " 55%|█████████████████████▎                 | 109/199 [00:00<00:00, 244.91it/s]"
     ]
    },
    {
     "name": "stdout",
     "output_type": "stream",
     "text": [
      "\n"
     ]
    },
    {
     "name": "stderr",
     "output_type": "stream",
     "text": [
      "/w/hallb-scshelf2102/clas12/users/gmat/clas12/neutneut/analysis/neutron_ml/../../src/TrainData.py:84: FutureWarning: The default of observed=False is deprecated and will be changed to True in a future version of pandas. Pass observed=False to retain current behavior or observed=True to adopt the future default and silence this warning.\n",
      "  group_sizes = df.groupby(group_cols).size()\n",
      "\u001b[A\n",
      "100%|████████████████████████████████████████████| 1/1 [00:00<00:00,  2.69it/s]\u001b[A\n",
      "100%|████████████████████████████████████████████| 1/1 [00:00<00:00,  3.00it/s]"
     ]
    },
    {
     "name": "stdout",
     "output_type": "stream",
     "text": [
      "Total files processed: 1\n"
     ]
    },
    {
     "name": "stderr",
     "output_type": "stream",
     "text": [
      "/w/hallb-scshelf2102/clas12/users/gmat/clas12/neutneut/analysis/neutron_ml/../../src/TrainData.py:84: FutureWarning: The default of observed=False is deprecated and will be changed to True in a future version of pandas. Pass observed=False to retain current behavior or observed=True to adopt the future default and silence this warning.\n",
      "  group_sizes = df.groupby(group_cols).size()\n",
      "\n"
     ]
    },
    {
     "name": "stdout",
     "output_type": "stream",
     "text": [
      "Total files processed: 1\n"
     ]
    },
    {
     "name": "stderr",
     "output_type": "stream",
     "text": [
      "\n",
      " 22%|████████▋                               | 42/194 [00:00<00:00, 412.11it/s]\u001b[A/w/hallb-scshelf2102/clas12/users/gmat/clas12/neutneut/analysis/neutron_ml/../../src/TrainData.py:84: FutureWarning: The default of observed=False is deprecated and will be changed to True in a future version of pandas. Pass observed=False to retain current behavior or observed=True to adopt the future default and silence this warning.\n",
      "  group_sizes = df.groupby(group_cols).size()\n",
      "100%|████████████████████████████████████████████| 1/1 [00:00<00:00,  2.47it/s]\n",
      "\n"
     ]
    },
    {
     "name": "stdout",
     "output_type": "stream",
     "text": [
      "Total files processed: 1"
     ]
    },
    {
     "name": "stderr",
     "output_type": "stream",
     "text": [
      " 87%|██████████████████████████████████     | 172/197 [00:00<00:00, 283.14it/s]"
     ]
    },
    {
     "name": "stdout",
     "output_type": "stream",
     "text": [
      "\n"
     ]
    },
    {
     "name": "stderr",
     "output_type": "stream",
     "text": [
      "\u001b[A/w/hallb-scshelf2102/clas12/users/gmat/clas12/neutneut/analysis/neutron_ml/../../src/TrainData.py:84: FutureWarning: The default of observed=False is deprecated and will be changed to True in a future version of pandas. Pass observed=False to retain current behavior or observed=True to adopt the future default and silence this warning.\n",
      "  group_sizes = df.groupby(group_cols).size()\n",
      "100%|████████████████████████████████████████████| 1/1 [00:00<00:00,  2.35it/s]\n",
      "\n"
     ]
    },
    {
     "name": "stdout",
     "output_type": "stream",
     "text": [
      "Total files processed: 1"
     ]
    },
    {
     "name": "stderr",
     "output_type": "stream",
     "text": [
      " 55%|█████████████████████▌                 | 110/199 [00:00<00:00, 291.12it/s]"
     ]
    },
    {
     "name": "stdout",
     "output_type": "stream",
     "text": [
      "\n"
     ]
    },
    {
     "name": "stderr",
     "output_type": "stream",
     "text": [
      "/w/hallb-scshelf2102/clas12/users/gmat/clas12/neutneut/analysis/neutron_ml/../../src/TrainData.py:84: FutureWarning: The default of observed=False is deprecated and will be changed to True in a future version of pandas. Pass observed=False to retain current behavior or observed=True to adopt the future default and silence this warning.\n",
      "  group_sizes = df.groupby(group_cols).size()\n",
      "100%|████████████████████████████████████████████| 1/1 [00:00<00:00,  2.75it/s]\n",
      "\n"
     ]
    },
    {
     "name": "stdout",
     "output_type": "stream",
     "text": [
      "Total files processed: 1\n"
     ]
    },
    {
     "name": "stderr",
     "output_type": "stream",
     "text": [
      " 39%|███████████████▌                        | 76/195 [00:00<00:00, 296.63it/s]\u001b[A\n",
      " 39%|███████████████▌                        | 76/196 [00:00<00:00, 294.09it/s]/w/hallb-scshelf2102/clas12/users/gmat/clas12/neutneut/analysis/neutron_ml/../../src/TrainData.py:84: FutureWarning: The default of observed=False is deprecated and will be changed to True in a future version of pandas. Pass observed=False to retain current behavior or observed=True to adopt the future default and silence this warning.\n",
      "  group_sizes = df.groupby(group_cols).size()\n",
      "\u001b[A\n",
      "100%|████████████████████████████████████████████| 1/1 [00:00<00:00,  2.99it/s]\u001b[A\n",
      "\n"
     ]
    },
    {
     "name": "stdout",
     "output_type": "stream",
     "text": [
      "Total files processed: 1"
     ]
    },
    {
     "name": "stderr",
     "output_type": "stream",
     "text": [
      " 40%|████████████████                        | 78/195 [00:00<00:00, 326.48it/s]"
     ]
    },
    {
     "name": "stdout",
     "output_type": "stream",
     "text": [
      "\n"
     ]
    },
    {
     "name": "stderr",
     "output_type": "stream",
     "text": [
      "100%|████████████████████████████████████████████| 1/1 [00:00<00:00,  2.65it/s]/w/hallb-scshelf2102/clas12/users/gmat/clas12/neutneut/analysis/neutron_ml/../../src/TrainData.py:84: FutureWarning: The default of observed=False is deprecated and will be changed to True in a future version of pandas. Pass observed=False to retain current behavior or observed=True to adopt the future default and silence this warning.\n",
      "  group_sizes = df.groupby(group_cols).size()\n",
      "\n",
      "\n"
     ]
    },
    {
     "name": "stdout",
     "output_type": "stream",
     "text": [
      "Total files processed: 1\n"
     ]
    },
    {
     "name": "stderr",
     "output_type": "stream",
     "text": [
      "100%|████████████████████████████████████████████| 1/1 [00:00<00:00,  2.72it/s]\u001b[A/w/hallb-scshelf2102/clas12/users/gmat/clas12/neutneut/analysis/neutron_ml/../../src/TrainData.py:84: FutureWarning: The default of observed=False is deprecated and will be changed to True in a future version of pandas. Pass observed=False to retain current behavior or observed=True to adopt the future default and silence this warning.\n",
      "  group_sizes = df.groupby(group_cols).size()\n",
      "\n"
     ]
    },
    {
     "name": "stdout",
     "output_type": "stream",
     "text": [
      "Total files processed: 1\n"
     ]
    },
    {
     "name": "stderr",
     "output_type": "stream",
     "text": [
      "/w/hallb-scshelf2102/clas12/users/gmat/clas12/neutneut/analysis/neutron_ml/../../src/TrainData.py:84: FutureWarning: The default of observed=False is deprecated and will be changed to True in a future version of pandas. Pass observed=False to retain current behavior or observed=True to adopt the future default and silence this warning.\n",
      "  group_sizes = df.groupby(group_cols).size()\n",
      "100%|████████████████████████████████████████████| 1/1 [00:00<00:00,  2.84it/s]\n",
      "\n"
     ]
    },
    {
     "name": "stdout",
     "output_type": "stream",
     "text": [
      "Total files processed: 1\n"
     ]
    },
    {
     "name": "stderr",
     "output_type": "stream",
     "text": [
      " 23%|█████████▏                              | 44/192 [00:00<00:00, 438.26it/s]/w/hallb-scshelf2102/clas12/users/gmat/clas12/neutneut/analysis/neutron_ml/../../src/TrainData.py:84: FutureWarning: The default of observed=False is deprecated and will be changed to True in a future version of pandas. Pass observed=False to retain current behavior or observed=True to adopt the future default and silence this warning.\n",
      "  group_sizes = df.groupby(group_cols).size()\n",
      "\u001b[A\n",
      " 59%|██████████████████████▊                | 116/198 [00:00<00:00, 292.27it/s]\u001b[A\n",
      "100%|████████████████████████████████████████████| 1/1 [00:00<00:00,  2.16it/s]\u001b[A\n",
      "\n"
     ]
    },
    {
     "name": "stdout",
     "output_type": "stream",
     "text": [
      "Total files processed: 1\n"
     ]
    },
    {
     "name": "stderr",
     "output_type": "stream",
     "text": [
      " 42%|████████████████▋                       | 80/192 [00:00<00:00, 356.37it/s]\u001b[A\n",
      "/w/hallb-scshelf2102/clas12/users/gmat/clas12/neutneut/analysis/neutron_ml/../../src/TrainData.py:84: FutureWarning: The default of observed=False is deprecated and will be changed to True in a future version of pandas. Pass observed=False to retain current behavior or observed=True to adopt the future default and silence this warning.\n",
      "  group_sizes = df.groupby(group_cols).size()\n",
      "100%|████████████████████████████████████████████| 1/1 [00:00<00:00,  2.76it/s]\u001b[A\n"
     ]
    },
    {
     "name": "stdout",
     "output_type": "stream",
     "text": [
      "Total files processed: 1"
     ]
    },
    {
     "name": "stderr",
     "output_type": "stream",
     "text": [
      "\n"
     ]
    },
    {
     "name": "stdout",
     "output_type": "stream",
     "text": [
      "\n"
     ]
    },
    {
     "name": "stderr",
     "output_type": "stream",
     "text": [
      " 20%|████████                                | 40/198 [00:00<00:00, 393.87it/s]\u001b[A\n",
      "/w/hallb-scshelf2102/clas12/users/gmat/clas12/neutneut/analysis/neutron_ml/../../src/TrainData.py:84: FutureWarning: The default of observed=False is deprecated and will be changed to True in a future version of pandas. Pass observed=False to retain current behavior or observed=True to adopt the future default and silence this warning.\n",
      "  group_sizes = df.groupby(group_cols).size()\n",
      " 23%|█████████                               | 44/195 [00:00<00:00, 437.93it/s]\u001b[A\n",
      " 21%|████████▌                               | 42/196 [00:00<00:00, 416.32it/s]\u001b[A\n",
      "100%|████████████████████████████████████████████| 1/1 [00:00<00:00,  2.31it/s]\u001b[A\n"
     ]
    },
    {
     "name": "stdout",
     "output_type": "stream",
     "text": [
      "Total files processed: 1"
     ]
    },
    {
     "name": "stderr",
     "output_type": "stream",
     "text": [
      "\n"
     ]
    },
    {
     "name": "stdout",
     "output_type": "stream",
     "text": [
      "\n"
     ]
    },
    {
     "name": "stderr",
     "output_type": "stream",
     "text": [
      " 21%|████████▍                               | 42/199 [00:00<00:00, 413.63it/s]\u001b[A/w/hallb-scshelf2102/clas12/users/gmat/clas12/neutneut/analysis/neutron_ml/../../src/TrainData.py:84: FutureWarning: The default of observed=False is deprecated and will be changed to True in a future version of pandas. Pass observed=False to retain current behavior or observed=True to adopt the future default and silence this warning.\n",
      "  group_sizes = df.groupby(group_cols).size()\n",
      "\n",
      "100%|███████████████████████████████████████| 197/197 [00:00<00:00, 244.95it/s]\u001b[A\n",
      "\n",
      " 43%|█████████████████▎                      | 84/194 [00:00<00:00, 280.37it/s]\u001b[A\n",
      " 63%|████████████████████████▌              | 125/198 [00:00<00:00, 208.24it/s]\u001b[A\n",
      " 70%|███████████████████████████▍           | 140/199 [00:00<00:00, 230.44it/s]\u001b[A\n",
      " 55%|█████████████████████▎                 | 107/196 [00:00<00:00, 241.07it/s]\u001b[A\n",
      " 55%|█████████████████████▍                 | 107/195 [00:00<00:00, 234.89it/s]\u001b[A\n",
      "100%|████████████████████████████████████████████| 1/1 [00:00<00:00,  6.45it/s]\u001b[A\n",
      " 57%|██████████████████████▍                | 112/195 [00:00<00:00, 272.18it/s]\u001b[A\n",
      "  0%|                                                  | 0/195 [00:00<?, ?it/s]\u001b[A\n",
      " 21%|████████▌                               | 42/196 [00:00<00:00, 414.30it/s]\u001b[A\n",
      " 75%|█████████████████████████████▏         | 148/198 [00:00<00:00, 251.15it/s]\u001b[A\n",
      " 44%|█████████████████▍                      | 86/197 [00:00<00:00, 294.71it/s]\u001b[A\n",
      "  0%|                                                  | 0/194 [00:00<?, ?it/s]\u001b[A\n",
      " 46%|██████████████████▎                     | 88/192 [00:00<00:00, 294.77it/s]\u001b[A\n",
      " 80%|███████████████████████████████▎       | 160/199 [00:00<00:00, 202.67it/s]\u001b[A\n",
      " 60%|███████████████████████▌               | 116/192 [00:00<00:00, 266.54it/s]\u001b[A\n",
      " 40%|████████████████▏                       | 80/198 [00:00<00:00, 273.86it/s]\u001b[A\n",
      "100%|████████████████████████████████████████████| 1/1 [00:00<00:00,  3.45it/s]\u001b[A\n"
     ]
    },
    {
     "name": "stdout",
     "output_type": "stream",
     "text": [
      "Total files processed: 1"
     ]
    },
    {
     "name": "stderr",
     "output_type": "stream",
     "text": [
      "\n"
     ]
    },
    {
     "name": "stdout",
     "output_type": "stream",
     "text": [
      "\n"
     ]
    },
    {
     "name": "stderr",
     "output_type": "stream",
     "text": [
      "/w/hallb-scshelf2102/clas12/users/gmat/clas12/neutneut/analysis/neutron_ml/../../src/TrainData.py:84: FutureWarning: The default of observed=False is deprecated and will be changed to True in a future version of pandas. Pass observed=False to retain current behavior or observed=True to adopt the future default and silence this warning.\n",
      "  group_sizes = df.groupby(group_cols).size()\n",
      " 47%|██████████████████▊                     | 90/192 [00:00<00:00, 280.60it/s]\u001b[A\n",
      " 74%|████████████████████████████▉          | 147/198 [00:00<00:00, 201.66it/s]\u001b[A\n",
      " 63%|████████████████████████▌              | 121/192 [00:00<00:00, 294.66it/s]\u001b[A\n",
      "  0%|                                                  | 0/196 [00:00<?, ?it/s]\u001b[A\n",
      " 45%|██████████████████                      | 88/195 [00:00<00:00, 284.96it/s]\u001b[A\n",
      " 43%|█████████████████▏                      | 84/196 [00:00<00:00, 276.48it/s]\u001b[A\n",
      "  0%|                                                  | 0/198 [00:00<?, ?it/s]\u001b[A\n",
      " 60%|███████████████████████▎               | 118/197 [00:00<00:00, 258.92it/s]\u001b[A\n",
      " 42%|████████████████▉                       | 84/198 [00:00<00:00, 302.89it/s]\u001b[A\n",
      "  0%|                                                  | 0/197 [00:00<?, ?it/s]\u001b[A\n",
      "  0%|                                                  | 0/196 [00:00<?, ?it/s]\u001b[A\n",
      "  0%|                                                  | 0/198 [00:00<?, ?it/s]\u001b[A\n",
      " 83%|████████████████████████████████▎      | 165/199 [00:00<00:00, 217.54it/s]\u001b[A\n",
      " 59%|███████████████████████                | 115/194 [00:00<00:00, 259.21it/s]\u001b[A\n",
      "  0%|                                                  | 0/196 [00:00<?, ?it/s]\u001b[A\n",
      " 42%|████████████████▉                       | 84/199 [00:00<00:00, 283.30it/s]\u001b[A\n",
      " 68%|██████████████████████████▍            | 133/196 [00:00<00:00, 220.90it/s]\u001b[A\n",
      " 68%|██████████████████████████▍            | 132/195 [00:00<00:00, 205.99it/s]\u001b[A\n",
      "  0%|                                                  | 0/199 [00:00<?, ?it/s]\u001b[A\n",
      " 72%|████████████████████████████▏          | 141/195 [00:00<00:00, 233.82it/s]\u001b[A\n",
      " 88%|██████████████████████████████████▍    | 175/198 [00:00<00:00, 237.13it/s]\u001b[A\n",
      " 92%|███████████████████████████████████▊   | 183/199 [00:00<00:00, 208.68it/s]\u001b[A\n",
      "  0%|                                                  | 0/195 [00:00<?, ?it/s]\u001b[A\n",
      " 76%|█████████████████████████████▍         | 145/192 [00:00<00:00, 260.66it/s]\u001b[A\n",
      " 58%|██████████████████████▋                | 115/198 [00:00<00:00, 301.38it/s]\u001b[A\n",
      " 43%|█████████████████▏                      | 84/196 [00:00<00:00, 233.95it/s]\u001b[A\n",
      " 23%|█████████                               | 44/195 [00:00<00:00, 437.59it/s]\u001b[A\n",
      " 64%|█████████████████████████▏             | 127/197 [00:00<00:00, 289.45it/s]\u001b[A\n",
      " 85%|█████████████████████████████████      | 168/198 [00:00<00:00, 195.72it/s]\u001b[A\n",
      " 25%|██████████                              | 49/194 [00:00<00:00, 480.46it/s]\u001b[A\n",
      " 64%|████████████████████████▊              | 122/192 [00:00<00:00, 275.75it/s]\u001b[A\n",
      "  0%|                                                  | 0/197 [00:00<?, ?it/s]\u001b[A\n",
      "  0%|                                                  | 0/197 [00:00<?, ?it/s]\u001b[A\n",
      " 62%|████████████████████████               | 120/195 [00:00<00:00, 261.07it/s]\u001b[A\n",
      " 59%|██████████████████████▉                | 115/196 [00:00<00:00, 251.68it/s]\u001b[A\n",
      "  0%|                                                  | 0/198 [00:00<?, ?it/s]\u001b[A\n",
      " 94%|████████████████████████████████████▊  | 188/199 [00:00<00:00, 196.76it/s]\u001b[A\n",
      " 59%|███████████████████████                | 117/198 [00:00<00:00, 254.21it/s]\u001b[A\n",
      " 86%|█████████████████████████████████▌     | 165/192 [00:00<00:00, 340.88it/s]\u001b[A\n",
      " 21%|████████▌                               | 42/196 [00:00<00:00, 413.70it/s]\u001b[A\n",
      " 74%|████████████████████████████▋          | 143/194 [00:00<00:00, 217.06it/s]\u001b[A\n",
      " 82%|████████████████████████████████       | 162/197 [00:00<00:00, 313.47it/s]\u001b[A\n",
      " 22%|████████▋                               | 43/198 [00:00<00:00, 424.11it/s]\u001b[A\n",
      " 25%|█████████▉                              | 49/197 [00:00<00:00, 488.62it/s]\u001b[A\n",
      " 80%|███████████████████████████████        | 156/196 [00:00<00:00, 183.35it/s]\u001b[A\n",
      " 21%|████████▌                               | 42/196 [00:00<00:00, 414.41it/s]\u001b[A\n",
      " 58%|██████████████████████▌                | 115/199 [00:00<00:00, 222.16it/s]\u001b[A\n",
      " 79%|██████████████████████████████▊        | 154/195 [00:00<00:00, 178.65it/s]\u001b[A\n",
      "  0%|                                                  | 0/197 [00:00<?, ?it/s]\u001b[A\n",
      "100%|███████████████████████████████████████| 198/198 [00:00<00:00, 208.02it/s]\u001b[A\n",
      "\n",
      " 85%|█████████████████████████████████▏     | 166/195 [00:00<00:00, 203.23it/s]\u001b[A\n",
      " 25%|██████████                              | 49/196 [00:00<00:00, 480.37it/s]\u001b[A\n",
      " 90%|███████████████████████████████████▏   | 173/192 [00:00<00:00, 220.52it/s]\u001b[A\n",
      " 22%|████████▊                               | 44/199 [00:00<00:00, 439.80it/s]\u001b[A\n",
      " 95%|█████████████████████████████████████  | 188/198 [00:01<00:00, 172.17it/s]\u001b[A\n",
      " 57%|██████████████████████▎                | 112/196 [00:00<00:00, 204.44it/s]\u001b[A\n",
      " 74%|████████████████████████████▉          | 147/198 [00:00<00:00, 234.56it/s]\u001b[A\n",
      " 80%|███████████████████████████████▎       | 158/197 [00:00<00:00, 235.71it/s]\u001b[A\n",
      " 25%|█████████▊                              | 48/195 [00:00<00:00, 478.12it/s]\u001b[A\n",
      " 79%|██████████████████████████████▉        | 152/192 [00:00<00:00, 229.22it/s]\u001b[A\n",
      " 76%|█████████████████████████████▌         | 148/195 [00:00<00:00, 231.71it/s]\u001b[A\n",
      " 72%|████████████████████████████▎          | 142/196 [00:00<00:00, 223.41it/s]\u001b[A\n",
      "  0%|                                                  | 0/196 [00:00<?, ?it/s]\u001b[A\n",
      " 45%|██████████████████                      | 88/195 [00:00<00:00, 270.69it/s]\u001b[A\n",
      " 51%|████████████████████▏                   | 98/194 [00:00<00:00, 299.02it/s]\u001b[A\n",
      " 23%|█████████▎                              | 46/197 [00:00<00:00, 452.98it/s]\u001b[A\n",
      " 73%|████████████████████████████▎          | 144/198 [00:00<00:00, 218.09it/s]\u001b[A\n",
      "100%|███████████████████████████████████████| 199/199 [00:01<00:00, 170.37it/s]\u001b[A\n",
      "\n",
      " 27%|██████████▉                             | 54/198 [00:00<00:00, 530.74it/s]\u001b[A\n",
      " 86%|█████████████████████████████████▎     | 166/194 [00:00<00:00, 189.44it/s]\u001b[A\n",
      " 90%|███████████████████████████████████    | 176/196 [00:00<00:00, 166.99it/s]\u001b[A\n",
      " 89%|██████████████████████████████████▌    | 173/195 [00:01<00:00, 156.08it/s]\u001b[A\n",
      " 99%|██████████████████████████████████████▊| 196/197 [00:00<00:00, 253.38it/s]\u001b[A\n",
      " 70%|███████████████████████████▍           | 140/199 [00:00<00:00, 190.35it/s]\u001b[A\n",
      " 43%|█████████████████▏                      | 84/196 [00:00<00:00, 254.08it/s]\u001b[A\n",
      " 96%|█████████████████████████████████████▌ | 188/195 [00:00<00:00, 178.47it/s]\u001b[A\n",
      " 50%|███████████████████▉                    | 98/197 [00:00<00:00, 311.07it/s]\u001b[A\n",
      " 43%|█████████████████▏                      | 84/196 [00:00<00:00, 268.00it/s]\u001b[A\n",
      "100%|███████████████████████████████████████| 199/199 [00:01<00:00, 170.12it/s]\u001b[A\n",
      "\n",
      " 41%|████████████████▌                       | 82/198 [00:00<00:00, 251.22it/s]\u001b[A\n",
      " 24%|█████████▋                              | 48/197 [00:00<00:00, 475.62it/s]\u001b[A\n",
      " 69%|██████████████████████████▊            | 135/196 [00:00<00:00, 179.14it/s]\u001b[A\n",
      "100%|███████████████████████████████████████| 192/192 [00:00<00:00, 224.74it/s]\u001b[A\n",
      "\n",
      " 87%|██████████████████████████████████     | 173/198 [00:00<00:00, 204.27it/s]\u001b[A\n",
      " 44%|█████████████████▋                      | 88/199 [00:00<00:00, 291.65it/s]\u001b[A\n",
      "  0%|                                                    | 0/1 [00:00<?, ?it/s]\u001b[A\n",
      " 92%|███████████████████████████████████▉   | 177/192 [00:00<00:00, 197.84it/s]\u001b[A\n",
      " 93%|████████████████████████████████████▍  | 184/197 [00:00<00:00, 200.61it/s]\u001b[A\n",
      " 89%|██████████████████████████████████▌    | 173/195 [00:00<00:00, 198.09it/s]\u001b[A\n",
      " 85%|█████████████████████████████████      | 166/196 [00:00<00:00, 189.35it/s]\u001b[A\n",
      " 84%|████████████████████████████████▉      | 167/198 [00:00<00:00, 195.76it/s]\u001b[A\n",
      "100%|███████████████████████████████████████| 192/192 [00:01<00:00, 189.67it/s]\u001b[A\n",
      "\n",
      " 68%|██████████████████████████▌            | 132/194 [00:00<00:00, 246.12it/s]\u001b[A\n",
      "100%|███████████████████████████████████████| 198/198 [00:01<00:00, 155.81it/s]\u001b[A\n",
      "\n",
      " 96%|█████████████████████████████████████▍ | 186/194 [00:01<00:00, 165.47it/s]\u001b[A\n",
      " 99%|██████████████████████████████████████▌| 194/196 [00:01<00:00, 148.52it/s]\u001b[A\n",
      " 49%|███████████████████▋                    | 96/195 [00:00<00:00, 271.59it/s]\u001b[A\n",
      " 26%|██████████▏                             | 50/196 [00:00<00:00, 493.84it/s]\u001b[A\n",
      " 81%|███████████████████████████████▌       | 161/199 [00:00<00:00, 176.86it/s]\u001b[A\n",
      " 47%|██████████████████▋                     | 92/197 [00:00<00:00, 278.54it/s]\u001b[A\n",
      " 48%|███████████████████                     | 94/197 [00:00<00:00, 280.88it/s]\u001b[A\n",
      " 58%|██████████████████████▍                | 113/196 [00:00<00:00, 221.71it/s]\u001b[A\n",
      " 58%|██████████████████████▋                | 114/196 [00:00<00:00, 225.82it/s]\u001b[A\n",
      " 68%|██████████████████████████▎            | 133/197 [00:00<00:00, 260.36it/s]\u001b[A\n",
      " 55%|█████████████████████▎                 | 108/198 [00:00<00:00, 305.57it/s]\u001b[A\n",
      " 79%|██████████████████████████████▊        | 155/196 [00:00<00:00, 168.13it/s]\u001b[A\n",
      "100%|███████████████████████████████████████| 197/197 [00:00<00:00, 199.71it/s]\u001b[A\n",
      "\n",
      " 56%|█████████████████████▊                 | 111/198 [00:00<00:00, 215.28it/s]\u001b[A\n",
      "100%|███████████████████████████████████████| 195/195 [00:01<00:00, 166.23it/s]\u001b[A\n",
      "\n",
      " 60%|███████████████████████▌               | 120/199 [00:00<00:00, 247.92it/s]\u001b[A\n",
      " 67%|██████████████████████████▎            | 132/196 [00:00<00:00, 248.49it/s]\u001b[A\n",
      " 95%|█████████████████████████████████████  | 186/196 [00:00<00:00, 170.64it/s]\u001b[A\n",
      " 99%|██████████████████████████████████████▊| 194/195 [00:00<00:00, 175.94it/s]\u001b[A\n",
      " 95%|█████████████████████████████████████  | 188/198 [00:00<00:00, 177.95it/s]\u001b[A\n",
      " 74%|████████████████████████████▊          | 144/195 [00:00<00:00, 206.10it/s]\u001b[A\n",
      " 49%|███████████████████▍                    | 96/197 [00:00<00:00, 303.17it/s]\u001b[A\n",
      " 82%|███████████████████████████████▉       | 159/194 [00:00<00:00, 226.76it/s]\u001b[A\n",
      "Processing CSV files:  50%|████████▉         | 249/500 [00:16<00:22, 11.36it/s]\u001b[A\n",
      " 66%|█████████████████████████▌             | 128/195 [00:00<00:00, 235.90it/s]\u001b[A\n",
      " 88%|██████████████████████████████████▍    | 173/196 [00:00<00:00, 164.93it/s]\u001b[A\n",
      " 70%|███████████████████████████▎           | 137/196 [00:00<00:00, 200.46it/s]\u001b[A\n",
      " 63%|████████████████████████▌              | 124/197 [00:00<00:00, 245.81it/s]\u001b[A\n",
      " 71%|███████████████████████████▌           | 140/198 [00:00<00:00, 212.42it/s]\u001b[A\n",
      "100%|███████████████████████████████████████| 197/197 [00:01<00:00, 183.73it/s]\u001b[A\n",
      "100%|███████████████████████████████████████| 192/192 [00:01<00:00, 180.10it/s]\n",
      "100%|███████████████████████████████████████| 195/195 [00:01<00:00, 149.77it/s]\n",
      "\n",
      "100%|███████████████████████████████████████| 196/196 [00:01<00:00, 150.86it/s]\u001b[A\n",
      "\n",
      " 82%|████████████████████████████████       | 162/197 [00:00<00:00, 243.77it/s]\u001b[A\n",
      "100%|███████████████████████████████████████| 194/194 [00:01<00:00, 163.16it/s]\u001b[A\n",
      "100%|███████████████████████████████████████| 195/195 [00:01<00:00, 181.65it/s]\n",
      "\n",
      " 73%|████████████████████████████▎          | 144/198 [00:00<00:00, 281.77it/s]\u001b[A\n",
      " 66%|█████████████████████████▋             | 130/197 [00:00<00:00, 261.40it/s]\u001b[A\n",
      "100%|████████████████████████████████████████████| 1/1 [00:00<00:00,  5.90it/s]\u001b[A\n",
      "100%|███████████████████████████████████████| 198/198 [00:01<00:00, 181.10it/s]\u001b[A\n",
      "\n",
      " 85%|█████████████████████████████████▏     | 166/195 [00:00<00:00, 194.24it/s]\u001b[A\n",
      " 74%|████████████████████████████▊          | 147/199 [00:00<00:00, 219.61it/s]\u001b[A\n",
      " 82%|███████████████████████████████▊       | 160/196 [00:00<00:00, 223.81it/s]\u001b[A\n",
      "100%|███████████████████████████████████████| 199/199 [00:01<00:00, 168.92it/s]\u001b[A\n",
      " 94%|████████████████████████████████████▊  | 183/194 [00:00<00:00, 214.75it/s]\u001b[A\n",
      " 82%|████████████████████████████████       | 160/195 [00:00<00:00, 257.57it/s]\u001b[A\n",
      " 68%|██████████████████████████▌            | 135/198 [00:00<00:00, 199.76it/s]\u001b[A\n",
      " 78%|██████████████████████████████▍        | 154/197 [00:00<00:00, 261.32it/s]\u001b[A\n",
      " 86%|█████████████████████████████████▍     | 168/196 [00:00<00:00, 228.47it/s]\u001b[A\n",
      " 84%|████████████████████████████████▋      | 166/198 [00:00<00:00, 224.92it/s]\u001b[A\n",
      "100%|███████████████████████████████████████| 196/196 [00:01<00:00, 168.06it/s]\u001b[A\n",
      "\n",
      "100%|███████████████████████████████████████| 198/198 [00:01<00:00, 172.51it/s]\u001b[A\n",
      "\n",
      " 87%|█████████████████████████████████▊     | 171/197 [00:00<00:00, 304.52it/s]\u001b[A\n",
      "Processing CSV files:  51%|█████████         | 253/500 [00:16<00:18, 13.33it/s]\u001b[A\n",
      " 95%|█████████████████████████████████████▏ | 188/197 [00:00<00:00, 229.11it/s]\u001b[A\n",
      " 78%|██████████████████████████████▎        | 153/197 [00:00<00:00, 228.22it/s]\u001b[A\n",
      " 88%|██████████████████████████████████▍    | 175/198 [00:00<00:00, 258.54it/s]\u001b[A\n",
      "100%|███████████████████████████████████████| 199/199 [00:01<00:00, 169.02it/s]\u001b[A\n",
      "Processing CSV files:  51%|█████████▏        | 256/500 [00:16<00:16, 15.00it/s]\n",
      "  0%|                                                    | 0/1 [00:00<?, ?it/s]\u001b[A\n",
      " 94%|████████████████████████████████████▌  | 184/196 [00:00<00:00, 224.65it/s]\u001b[A\n",
      "100%|████████████████████████████████████████████| 1/1 [00:00<00:00,  2.61it/s]\u001b[A\n",
      "\n"
     ]
    },
    {
     "name": "stdout",
     "output_type": "stream",
     "text": [
      "Total files processed: 1"
     ]
    },
    {
     "name": "stderr",
     "output_type": "stream",
     "text": [
      "  0%|                                                    | 0/1 [00:00<?, ?it/s]"
     ]
    },
    {
     "name": "stdout",
     "output_type": "stream",
     "text": [
      "\n"
     ]
    },
    {
     "name": "stderr",
     "output_type": "stream",
     "text": [
      "\u001b[A\n",
      "  0%|                                                    | 0/1 [00:00<?, ?it/s]/w/hallb-scshelf2102/clas12/users/gmat/clas12/neutneut/analysis/neutron_ml/../../src/TrainData.py:84: FutureWarning: The default of observed=False is deprecated and will be changed to True in a future version of pandas. Pass observed=False to retain current behavior or observed=True to adopt the future default and silence this warning.\n",
      "  group_sizes = df.groupby(group_cols).size()\n",
      "\u001b[A\n",
      " 85%|█████████████████████████████████▎     | 170/199 [00:00<00:00, 220.90it/s]\u001b[A\n",
      "100%|███████████████████████████████████████| 196/196 [00:01<00:00, 164.98it/s]\u001b[A\n",
      "\n",
      "100%|████████████████████████████████████████████| 1/1 [00:00<00:00,  6.59it/s]\u001b[A\n",
      " 98%|██████████████████████████████████████▍| 193/196 [00:00<00:00, 211.61it/s]\u001b[A\n",
      " 92%|████████████████████████████████████   | 182/197 [00:00<00:00, 238.85it/s]\u001b[A\n",
      " 97%|█████████████████████████████████████▊ | 189/195 [00:00<00:00, 233.66it/s]\u001b[A\n",
      " 96%|█████████████████████████████████████▍ | 190/198 [00:00<00:00, 204.16it/s]\u001b[A\n",
      "100%|███████████████████████████████████████| 194/194 [00:00<00:00, 202.00it/s]\u001b[A\n",
      "\n",
      "100%|███████████████████████████████████████| 197/197 [00:00<00:00, 223.66it/s]\u001b[A\n",
      "100%|███████████████████████████████████████| 195/195 [00:00<00:00, 198.63it/s]\n",
      "\n",
      " 90%|███████████████████████████████████    | 177/197 [00:00<00:00, 220.69it/s]\u001b[A\n",
      "  0%|                                                    | 0/1 [00:00<?, ?it/s]\u001b[A\n",
      "  0%|                                                    | 0/1 [00:00<?, ?it/s]\u001b[A\n",
      "100%|███████████████████████████████████████| 197/197 [00:00<00:00, 287.56it/s]\u001b[A\n",
      "\n",
      "100%|████████████████████████████████████████████| 1/1 [00:00<00:00,  4.07it/s]\u001b[A\n",
      "\n"
     ]
    },
    {
     "name": "stdout",
     "output_type": "stream",
     "text": [
      "Total files processed: 1"
     ]
    },
    {
     "name": "stderr",
     "output_type": "stream",
     "text": [
      "  0%|                                                    | 0/1 [00:00<?, ?it/s]"
     ]
    },
    {
     "name": "stdout",
     "output_type": "stream",
     "text": [
      "\n"
     ]
    },
    {
     "name": "stderr",
     "output_type": "stream",
     "text": [
      "100%|███████████████████████████████████████| 196/196 [00:00<00:00, 217.63it/s]\n",
      "/w/hallb-scshelf2102/clas12/users/gmat/clas12/neutneut/analysis/neutron_ml/../../src/TrainData.py:84: FutureWarning: The default of observed=False is deprecated and will be changed to True in a future version of pandas. Pass observed=False to retain current behavior or observed=True to adopt the future default and silence this warning.\n",
      "  group_sizes = df.groupby(group_cols).size()\n",
      "100%|███████████████████████████████████████| 198/198 [00:00<00:00, 252.01it/s]\n",
      "\n",
      "100%|███████████████████████████████████████| 196/196 [00:00<00:00, 205.04it/s]\u001b[A\n",
      "\n",
      "100%|███████████████████████████████████████| 195/195 [00:00<00:00, 222.92it/s]\u001b[A\n",
      "\n",
      "100%|███████████████████████████████████████| 198/198 [00:01<00:00, 194.27it/s]\u001b[A\n",
      "100%|███████████████████████████████████████| 197/197 [00:00<00:00, 223.31it/s]\n",
      "\n",
      " 94%|████████████████████████████████████▊  | 187/198 [00:01<00:00, 194.47it/s]\u001b[A\n",
      "100%|███████████████████████████████████████| 196/196 [00:01<00:00, 189.88it/s]\u001b[A\n",
      "\n",
      "  0%|                                                    | 0/1 [00:00<?, ?it/s]\u001b[A\n",
      "  0%|                                                    | 0/1 [00:00<?, ?it/s]\u001b[A\n",
      "100%|████████████████████████████████████████████| 1/1 [00:00<00:00,  4.83it/s]\u001b[A\n",
      "100%|████████████████████████████████████████████| 1/1 [00:00<00:00,  6.31it/s]\u001b[A\n",
      " 98%|██████████████████████████████████████▏| 192/196 [00:00<00:00, 257.57it/s]\u001b[A\n",
      "100%|████████████████████████████████████████████| 1/1 [00:00<00:00,  5.75it/s]\u001b[A\n",
      "100%|████████████████████████████████████████████| 1/1 [00:00<00:00,  6.80it/s]\u001b[A\n",
      "100%|███████████████████████████████████████| 199/199 [00:01<00:00, 198.92it/s]\u001b[A\n",
      "\n",
      "100%|████████████████████████████████████████████| 1/1 [00:00<00:00,  5.18it/s]\u001b[A\n",
      "  0%|                                                  | 0/195 [00:00<?, ?it/s]\u001b[A\n",
      "  0%|                                                    | 0/1 [00:00<?, ?it/s]\u001b[A\n",
      "100%|████████████████████████████████████████████| 1/1 [00:00<00:00,  3.51it/s]\u001b[A\n"
     ]
    },
    {
     "name": "stdout",
     "output_type": "stream",
     "text": [
      "Total files processed: 1"
     ]
    },
    {
     "name": "stderr",
     "output_type": "stream",
     "text": [
      "100%|███████████████████████████████████████| 197/197 [00:00<00:00, 208.27it/s]"
     ]
    },
    {
     "name": "stdout",
     "output_type": "stream",
     "text": [
      "\n"
     ]
    },
    {
     "name": "stderr",
     "output_type": "stream",
     "text": [
      "\n",
      "\n",
      "100%|████████████████████████████████████████████| 1/1 [00:00<00:00,  6.90it/s]/w/hallb-scshelf2102/clas12/users/gmat/clas12/neutneut/analysis/neutron_ml/../../src/TrainData.py:84: FutureWarning: The default of observed=False is deprecated and will be changed to True in a future version of pandas. Pass observed=False to retain current behavior or observed=True to adopt the future default and silence this warning.\n",
      "  group_sizes = df.groupby(group_cols).size()\n",
      "100%|████████████████████████████████████████████| 1/1 [00:00<00:00,  4.26it/s]\n"
     ]
    },
    {
     "name": "stdout",
     "output_type": "stream",
     "text": [
      "Total files processed: 1"
     ]
    },
    {
     "name": "stderr",
     "output_type": "stream",
     "text": [
      "100%|████████████████████████████████████████████| 1/1 [00:00<00:00,  3.32it/s]"
     ]
    },
    {
     "name": "stdout",
     "output_type": "stream",
     "text": [
      "\n"
     ]
    },
    {
     "name": "stderr",
     "output_type": "stream",
     "text": [
      "\n",
      "100%|████████████████████████████████████████████| 1/1 [00:00<00:00,  3.96it/s]"
     ]
    },
    {
     "name": "stdout",
     "output_type": "stream",
     "text": [
      "Total files processed: 1\n"
     ]
    },
    {
     "name": "stderr",
     "output_type": "stream",
     "text": [
      "\n",
      "\n",
      "/w/hallb-scshelf2102/clas12/users/gmat/clas12/neutneut/analysis/neutron_ml/../../src/TrainData.py:84: FutureWarning: The default of observed=False is deprecated and will be changed to True in a future version of pandas. Pass observed=False to retain current behavior or observed=True to adopt the future default and silence this warning.\n",
      "  group_sizes = df.groupby(group_cols).size()\n"
     ]
    },
    {
     "name": "stdout",
     "output_type": "stream",
     "text": [
      "Total files processed: 1"
     ]
    },
    {
     "name": "stderr",
     "output_type": "stream",
     "text": [
      "  0%|                                                  | 0/196 [00:00<?, ?it/s]/w/hallb-scshelf2102/clas12/users/gmat/clas12/neutneut/analysis/neutron_ml/../../src/TrainData.py:84: FutureWarning: The default of observed=False is deprecated and will be changed to True in a future version of pandas. Pass observed=False to retain current behavior or observed=True to adopt the future default and silence this warning.\n",
      "  group_sizes = df.groupby(group_cols).size()\n"
     ]
    },
    {
     "name": "stdout",
     "output_type": "stream",
     "text": [
      "\n"
     ]
    },
    {
     "name": "stderr",
     "output_type": "stream",
     "text": [
      "/w/hallb-scshelf2102/clas12/users/gmat/clas12/neutneut/analysis/neutron_ml/../../src/TrainData.py:84: FutureWarning: The default of observed=False is deprecated and will be changed to True in a future version of pandas. Pass observed=False to retain current behavior or observed=True to adopt the future default and silence this warning.\n",
      "  group_sizes = df.groupby(group_cols).size()\n",
      "\u001b[A\n",
      "100%|████████████████████████████████████████████| 1/1 [00:00<00:00,  3.84it/s]\u001b[A\n",
      "\n"
     ]
    },
    {
     "name": "stdout",
     "output_type": "stream",
     "text": [
      "Total files processed: 1\n"
     ]
    },
    {
     "name": "stderr",
     "output_type": "stream",
     "text": [
      "100%|████████████████████████████████████████████| 1/1 [00:00<00:00,  5.92it/s]\u001b[A/w/hallb-scshelf2102/clas12/users/gmat/clas12/neutneut/analysis/neutron_ml/../../src/TrainData.py:84: FutureWarning: The default of observed=False is deprecated and will be changed to True in a future version of pandas. Pass observed=False to retain current behavior or observed=True to adopt the future default and silence this warning.\n",
      "  group_sizes = df.groupby(group_cols).size()\n",
      "100%|████████████████████████████████████████████| 1/1 [00:00<00:00,  4.10it/s]\n",
      "\n"
     ]
    },
    {
     "name": "stdout",
     "output_type": "stream",
     "text": [
      "Total files processed: 1\n"
     ]
    },
    {
     "name": "stderr",
     "output_type": "stream",
     "text": [
      "  0%|                                                    | 0/1 [00:00<?, ?it/s]\u001b[A\n",
      "/w/hallb-scshelf2102/clas12/users/gmat/clas12/neutneut/analysis/neutron_ml/../../src/TrainData.py:84: FutureWarning: The default of observed=False is deprecated and will be changed to True in a future version of pandas. Pass observed=False to retain current behavior or observed=True to adopt the future default and silence this warning.\n",
      "  group_sizes = df.groupby(group_cols).size()\n",
      "100%|████████████████████████████████████████████| 1/1 [00:00<00:00,  6.36it/s]\u001b[A\n",
      "100%|███████████████████████████████████████| 198/198 [00:01<00:00, 176.53it/s]\u001b[A\n",
      "100%|███████████████████████████████████████| 196/196 [00:00<00:00, 240.44it/s]\n",
      "\n",
      "  0%|                                                    | 0/1 [00:00<?, ?it/s]\u001b[A\n",
      "100%|████████████████████████████████████████████| 1/1 [00:00<00:00,  4.22it/s]\u001b[A\n"
     ]
    },
    {
     "name": "stdout",
     "output_type": "stream",
     "text": [
      "Total files processed: 1"
     ]
    },
    {
     "name": "stderr",
     "output_type": "stream",
     "text": [
      "\n"
     ]
    },
    {
     "name": "stdout",
     "output_type": "stream",
     "text": [
      "\n"
     ]
    },
    {
     "name": "stderr",
     "output_type": "stream",
     "text": [
      "/w/hallb-scshelf2102/clas12/users/gmat/clas12/neutneut/analysis/neutron_ml/../../src/TrainData.py:84: FutureWarning: The default of observed=False is deprecated and will be changed to True in a future version of pandas. Pass observed=False to retain current behavior or observed=True to adopt the future default and silence this warning.\n",
      "  group_sizes = df.groupby(group_cols).size()\n",
      "100%|████████████████████████████████████████████| 1/1 [00:00<00:00,  4.26it/s]\u001b[A\n",
      "\n"
     ]
    },
    {
     "name": "stdout",
     "output_type": "stream",
     "text": [
      "Total files processed: 1\n"
     ]
    },
    {
     "name": "stderr",
     "output_type": "stream",
     "text": [
      "  0%|                                                    | 0/1 [00:00<?, ?it/s]/w/hallb-scshelf2102/clas12/users/gmat/clas12/neutneut/analysis/neutron_ml/../../src/TrainData.py:84: FutureWarning: The default of observed=False is deprecated and will be changed to True in a future version of pandas. Pass observed=False to retain current behavior or observed=True to adopt the future default and silence this warning.\n",
      "  group_sizes = df.groupby(group_cols).size()\n",
      "\u001b[A\n",
      "100%|████████████████████████████████████████████| 1/1 [00:00<00:00,  4.10it/s]\u001b[A\n",
      "\n"
     ]
    },
    {
     "name": "stdout",
     "output_type": "stream",
     "text": [
      "Total files processed: 1"
     ]
    },
    {
     "name": "stderr",
     "output_type": "stream",
     "text": [
      "  0%|                                                  | 0/199 [00:00<?, ?it/s]"
     ]
    },
    {
     "name": "stdout",
     "output_type": "stream",
     "text": [
      "\n"
     ]
    },
    {
     "name": "stderr",
     "output_type": "stream",
     "text": [
      "\u001b[A\n",
      "/w/hallb-scshelf2102/clas12/users/gmat/clas12/neutneut/analysis/neutron_ml/../../src/TrainData.py:84: FutureWarning: The default of observed=False is deprecated and will be changed to True in a future version of pandas. Pass observed=False to retain current behavior or observed=True to adopt the future default and silence this warning.\n",
      "  group_sizes = df.groupby(group_cols).size()\n",
      "  0%|                                                    | 0/1 [00:00<?, ?it/s]\u001b[A\n",
      "100%|████████████████████████████████████████████| 1/1 [00:00<00:00,  3.82it/s]\u001b[A\n",
      "\n"
     ]
    },
    {
     "name": "stdout",
     "output_type": "stream",
     "text": [
      "Total files processed: 1\n"
     ]
    },
    {
     "name": "stderr",
     "output_type": "stream",
     "text": [
      "/w/hallb-scshelf2102/clas12/users/gmat/clas12/neutneut/analysis/neutron_ml/../../src/TrainData.py:84: FutureWarning: The default of observed=False is deprecated and will be changed to True in a future version of pandas. Pass observed=False to retain current behavior or observed=True to adopt the future default and silence this warning.\n",
      "  group_sizes = df.groupby(group_cols).size()\n",
      "  0%|                                                  | 0/197 [00:00<?, ?it/s]\u001b[A\n",
      "100%|████████████████████████████████████████████| 1/1 [00:00<00:00,  3.64it/s]\u001b[A\n",
      "\n"
     ]
    },
    {
     "name": "stdout",
     "output_type": "stream",
     "text": [
      "Total files processed: 1"
     ]
    },
    {
     "name": "stderr",
     "output_type": "stream",
     "text": [
      " 22%|████████▌                               | 42/195 [00:00<00:00, 417.61it/s]"
     ]
    },
    {
     "name": "stdout",
     "output_type": "stream",
     "text": [
      "\n"
     ]
    },
    {
     "name": "stderr",
     "output_type": "stream",
     "text": [
      "\u001b[A\n",
      "  0%|                                                  | 0/195 [00:00<?, ?it/s]\u001b[A\n",
      "  0%|                                                    | 0/1 [00:00<?, ?it/s]/w/hallb-scshelf2102/clas12/users/gmat/clas12/neutneut/analysis/neutron_ml/../../src/TrainData.py:84: FutureWarning: The default of observed=False is deprecated and will be changed to True in a future version of pandas. Pass observed=False to retain current behavior or observed=True to adopt the future default and silence this warning.\n",
      "  group_sizes = df.groupby(group_cols).size()\n",
      "\u001b[A\n",
      "  0%|                                                  | 0/199 [00:00<?, ?it/s]\u001b[A\n",
      "  0%|                                                    | 0/1 [00:00<?, ?it/s]\u001b[A\n",
      " 18%|███████▏                                | 35/196 [00:00<00:00, 348.01it/s]\u001b[A\n",
      "100%|████████████████████████████████████████████| 1/1 [00:00<00:00,  5.47it/s]\u001b[A\n",
      "  0%|                                                    | 0/1 [00:00<?, ?it/s]\u001b[A\n",
      "  0%|                                                  | 0/195 [00:00<?, ?it/s]\u001b[A\n",
      "  0%|                                                  | 0/199 [00:00<?, ?it/s]\u001b[A\n",
      "  0%|                                                    | 0/1 [00:00<?, ?it/s]\u001b[A\n",
      "100%|████████████████████████████████████████████| 1/1 [00:00<00:00,  4.52it/s]\u001b[A\n",
      " 18%|███████                                 | 35/199 [00:00<00:00, 344.07it/s]\u001b[A\n",
      "100%|████████████████████████████████████████████| 1/1 [00:00<00:00,  4.39it/s]\u001b[A\n",
      "100%|████████████████████████████████████████████| 1/1 [00:00<00:00,  4.66it/s]\u001b[A\n",
      "100%|████████████████████████████████████████████| 1/1 [00:00<00:00,  4.72it/s]\u001b[A\n",
      " 17%|██████▋                                 | 33/197 [00:00<00:00, 323.22it/s]\u001b[A\n",
      " 43%|█████████████████▏                      | 84/195 [00:00<00:00, 361.49it/s]\u001b[A\n",
      " 21%|████████▏                               | 40/195 [00:00<00:00, 391.91it/s]\u001b[A\n",
      "  0%|                                                    | 0/1 [00:00<?, ?it/s]\u001b[A\n",
      "100%|████████████████████████████████████████████| 1/1 [00:00<00:00,  5.69it/s]\u001b[A\n",
      "  0%|                                                  | 0/196 [00:00<?, ?it/s]\u001b[A\n",
      "100%|████████████████████████████████████████████| 1/1 [00:00<00:00,  7.06it/s]\u001b[A\n",
      " 19%|███████▌                                | 37/195 [00:00<00:00, 367.17it/s]\u001b[A\n",
      "100%|████████████████████████████████████████████| 1/1 [00:00<00:00,  5.36it/s]\u001b[A\n"
     ]
    },
    {
     "name": "stdout",
     "output_type": "stream",
     "text": [
      "Error occurred: [Errno 11] Unable to synchronously create file (unable to lock file, errno = 11, error message = 'Resource temporarily unavailable')\n"
     ]
    },
    {
     "name": "stderr",
     "output_type": "stream",
     "text": [
      "100%|████████████████████████████████████████████| 1/1 [00:00<00:00,  6.52it/s]\u001b[A\n",
      "100%|████████████████████████████████████████████| 1/1 [00:00<00:00,  5.61it/s]\u001b[A\n",
      "Processing CSV files:  56%|██████████        | 280/500 [00:17<00:06, 31.99it/s]\u001b[A\n",
      "100%|████████████████████████████████████████████| 1/1 [00:00<00:00,  4.71it/s]\u001b[A\n",
      "100%|████████████████████████████████████████████| 1/1 [00:00<00:00,  5.79it/s]\u001b[A\n",
      "100%|████████████████████████████████████████████| 1/1 [00:00<00:00,  4.01it/s]\u001b[A\n",
      "\n"
     ]
    },
    {
     "name": "stdout",
     "output_type": "stream",
     "text": [
      "Total files processed: 1\n"
     ]
    },
    {
     "name": "stderr",
     "output_type": "stream",
     "text": [
      "  0%|                                                    | 0/1 [00:00<?, ?it/s]/w/hallb-scshelf2102/clas12/users/gmat/clas12/neutneut/analysis/neutron_ml/../../src/TrainData.py:84: FutureWarning: The default of observed=False is deprecated and will be changed to True in a future version of pandas. Pass observed=False to retain current behavior or observed=True to adopt the future default and silence this warning.\n",
      "  group_sizes = df.groupby(group_cols).size()\n",
      "100%|████████████████████████████████████████████| 1/1 [00:00<00:00,  3.55it/s]\n",
      "\n"
     ]
    },
    {
     "name": "stdout",
     "output_type": "stream",
     "text": [
      "Total files processed: 1\n"
     ]
    },
    {
     "name": "stderr",
     "output_type": "stream",
     "text": [
      "/w/hallb-scshelf2102/clas12/users/gmat/clas12/neutneut/analysis/neutron_ml/../../src/TrainData.py:84: FutureWarning: The default of observed=False is deprecated and will be changed to True in a future version of pandas. Pass observed=False to retain current behavior or observed=True to adopt the future default and silence this warning.\n",
      "  group_sizes = df.groupby(group_cols).size()\n",
      "100%|████████████████████████████████████████████| 1/1 [00:00<00:00,  2.78it/s]\u001b[A\n"
     ]
    },
    {
     "name": "stdout",
     "output_type": "stream",
     "text": [
      "Total files processed: 1"
     ]
    },
    {
     "name": "stderr",
     "output_type": "stream",
     "text": [
      "100%|████████████████████████████████████████████| 1/1 [00:00<00:00,  2.71it/s]"
     ]
    },
    {
     "name": "stdout",
     "output_type": "stream",
     "text": [
      "\n"
     ]
    },
    {
     "name": "stderr",
     "output_type": "stream",
     "text": [
      "\n",
      "100%|████████████████████████████████████████████| 1/1 [00:00<00:00,  3.64it/s]"
     ]
    },
    {
     "name": "stdout",
     "output_type": "stream",
     "text": [
      "Total files processed: 1"
     ]
    },
    {
     "name": "stderr",
     "output_type": "stream",
     "text": [
      "\n",
      "/w/hallb-scshelf2102/clas12/users/gmat/clas12/neutneut/analysis/neutron_ml/../../src/TrainData.py:84: FutureWarning: The default of observed=False is deprecated and will be changed to True in a future version of pandas. Pass observed=False to retain current behavior or observed=True to adopt the future default and silence this warning.\n",
      "  group_sizes = df.groupby(group_cols).size()\n"
     ]
    },
    {
     "name": "stdout",
     "output_type": "stream",
     "text": [
      "\n"
     ]
    },
    {
     "name": "stderr",
     "output_type": "stream",
     "text": [
      "100%|████████████████████████████████████████████| 1/1 [00:00<00:00,  2.81it/s]"
     ]
    },
    {
     "name": "stdout",
     "output_type": "stream",
     "text": [
      "Total files processed: 1\n"
     ]
    },
    {
     "name": "stderr",
     "output_type": "stream",
     "text": [
      "\n",
      "/w/hallb-scshelf2102/clas12/users/gmat/clas12/neutneut/analysis/neutron_ml/../../src/TrainData.py:84: FutureWarning: The default of observed=False is deprecated and will be changed to True in a future version of pandas. Pass observed=False to retain current behavior or observed=True to adopt the future default and silence this warning.\n",
      "  group_sizes = df.groupby(group_cols).size()\n",
      "100%|████████████████████████████████████████████| 1/1 [00:00<00:00,  3.36it/s]"
     ]
    },
    {
     "name": "stdout",
     "output_type": "stream",
     "text": [
      "Total files processed: 1"
     ]
    },
    {
     "name": "stderr",
     "output_type": "stream",
     "text": [
      "\n",
      "/w/hallb-scshelf2102/clas12/users/gmat/clas12/neutneut/analysis/neutron_ml/../../src/TrainData.py:84: FutureWarning: The default of observed=False is deprecated and will be changed to True in a future version of pandas. Pass observed=False to retain current behavior or observed=True to adopt the future default and silence this warning.\n",
      "  group_sizes = df.groupby(group_cols).size()\n"
     ]
    },
    {
     "name": "stdout",
     "output_type": "stream",
     "text": [
      "Total files processed: 1\n"
     ]
    },
    {
     "name": "stderr",
     "output_type": "stream",
     "text": [
      "100%|████████████████████████████████████████████| 1/1 [00:00<00:00,  3.83it/s]"
     ]
    },
    {
     "name": "stdout",
     "output_type": "stream",
     "text": [
      "\n"
     ]
    },
    {
     "name": "stderr",
     "output_type": "stream",
     "text": [
      "\n",
      "/w/hallb-scshelf2102/clas12/users/gmat/clas12/neutneut/analysis/neutron_ml/../../src/TrainData.py:84: FutureWarning: The default of observed=False is deprecated and will be changed to True in a future version of pandas. Pass observed=False to retain current behavior or observed=True to adopt the future default and silence this warning.\n",
      "  group_sizes = df.groupby(group_cols).size()\n",
      "\n"
     ]
    },
    {
     "name": "stdout",
     "output_type": "stream",
     "text": [
      "Total files processed: 1"
     ]
    },
    {
     "name": "stderr",
     "output_type": "stream",
     "text": [
      "  0%|                                                    | 0/1 [00:00<?, ?it/s]"
     ]
    },
    {
     "name": "stdout",
     "output_type": "stream",
     "text": [
      "\n"
     ]
    },
    {
     "name": "stderr",
     "output_type": "stream",
     "text": [
      "100%|████████████████████████████████████████████| 1/1 [00:00<00:00,  2.35it/s]/w/hallb-scshelf2102/clas12/users/gmat/clas12/neutneut/analysis/neutron_ml/../../src/TrainData.py:84: FutureWarning: The default of observed=False is deprecated and will be changed to True in a future version of pandas. Pass observed=False to retain current behavior or observed=True to adopt the future default and silence this warning.\n",
      "  group_sizes = df.groupby(group_cols).size()\n",
      "\n",
      "/w/hallb-scshelf2102/clas12/users/gmat/clas12/neutneut/analysis/neutron_ml/../../src/TrainData.py:84: FutureWarning: The default of observed=False is deprecated and will be changed to True in a future version of pandas. Pass observed=False to retain current behavior or observed=True to adopt the future default and silence this warning.\n",
      "  group_sizes = df.groupby(group_cols).size()\n",
      "\n"
     ]
    },
    {
     "name": "stdout",
     "output_type": "stream",
     "text": [
      "Total files processed: 1"
     ]
    },
    {
     "name": "stderr",
     "output_type": "stream",
     "text": [
      " 36%|██████████████▎                         | 70/196 [00:00<00:00, 232.56it/s]"
     ]
    },
    {
     "name": "stdout",
     "output_type": "stream",
     "text": [
      "\n"
     ]
    },
    {
     "name": "stderr",
     "output_type": "stream",
     "text": [
      "\u001b[A\n",
      " 19%|███████▋                                | 38/199 [00:00<00:00, 376.56it/s]/w/hallb-scshelf2102/clas12/users/gmat/clas12/neutneut/analysis/neutron_ml/../../src/TrainData.py:84: FutureWarning: The default of observed=False is deprecated and will be changed to True in a future version of pandas. Pass observed=False to retain current behavior or observed=True to adopt the future default and silence this warning.\n",
      "  group_sizes = df.groupby(group_cols).size()\n",
      "\u001b[A\n",
      "100%|████████████████████████████████████████████| 1/1 [00:00<00:00,  3.16it/s]\u001b[A\n",
      "100%|████████████████████████████████████████████| 1/1 [00:00<00:00,  3.52it/s]"
     ]
    },
    {
     "name": "stdout",
     "output_type": "stream",
     "text": [
      "Total files processed: 1"
     ]
    },
    {
     "name": "stderr",
     "output_type": "stream",
     "text": [
      "\n"
     ]
    },
    {
     "name": "stdout",
     "output_type": "stream",
     "text": [
      "\n"
     ]
    },
    {
     "name": "stderr",
     "output_type": "stream",
     "text": [
      "\n"
     ]
    },
    {
     "name": "stdout",
     "output_type": "stream",
     "text": [
      "Total files processed: 1"
     ]
    },
    {
     "name": "stderr",
     "output_type": "stream",
     "text": [
      " 19%|███████▊                                | 38/195 [00:00<00:00, 377.48it/s]"
     ]
    },
    {
     "name": "stdout",
     "output_type": "stream",
     "text": [
      "\n"
     ]
    },
    {
     "name": "stderr",
     "output_type": "stream",
     "text": [
      "/w/hallb-scshelf2102/clas12/users/gmat/clas12/neutneut/analysis/neutron_ml/../../src/TrainData.py:84: FutureWarning: The default of observed=False is deprecated and will be changed to True in a future version of pandas. Pass observed=False to retain current behavior or observed=True to adopt the future default and silence this warning.\n",
      "  group_sizes = df.groupby(group_cols).size()\n",
      "\u001b[A\n",
      "/w/hallb-scshelf2102/clas12/users/gmat/clas12/neutneut/analysis/neutron_ml/../../src/TrainData.py:84: FutureWarning: The default of observed=False is deprecated and will be changed to True in a future version of pandas. Pass observed=False to retain current behavior or observed=True to adopt the future default and silence this warning.\n",
      "  group_sizes = df.groupby(group_cols).size()\n",
      "100%|████████████████████████████████████████████| 1/1 [00:00<00:00,  3.14it/s]\u001b[A\n"
     ]
    },
    {
     "name": "stdout",
     "output_type": "stream",
     "text": [
      "Total files processed: 1"
     ]
    },
    {
     "name": "stderr",
     "output_type": "stream",
     "text": [
      "100%|████████████████████████████████████████████| 1/1 [00:00<00:00,  2.48it/s]"
     ]
    },
    {
     "name": "stdout",
     "output_type": "stream",
     "text": [
      "\n"
     ]
    },
    {
     "name": "stderr",
     "output_type": "stream",
     "text": [
      "\n",
      "/w/hallb-scshelf2102/clas12/users/gmat/clas12/neutneut/analysis/neutron_ml/../../src/TrainData.py:84: FutureWarning: The default of observed=False is deprecated and will be changed to True in a future version of pandas. Pass observed=False to retain current behavior or observed=True to adopt the future default and silence this warning.\n",
      "  group_sizes = df.groupby(group_cols).size()\n",
      "100%|████████████████████████████████████████████| 1/1 [00:00<00:00,  3.15it/s]"
     ]
    },
    {
     "name": "stdout",
     "output_type": "stream",
     "text": [
      "Total files processed: 1"
     ]
    },
    {
     "name": "stderr",
     "output_type": "stream",
     "text": [
      "\n"
     ]
    },
    {
     "name": "stdout",
     "output_type": "stream",
     "text": [
      "\n"
     ]
    },
    {
     "name": "stderr",
     "output_type": "stream",
     "text": [
      "/w/hallb-scshelf2102/clas12/users/gmat/clas12/neutneut/analysis/neutron_ml/../../src/TrainData.py:84: FutureWarning: The default of observed=False is deprecated and will be changed to True in a future version of pandas. Pass observed=False to retain current behavior or observed=True to adopt the future default and silence this warning.\n",
      "  group_sizes = df.groupby(group_cols).size()\n",
      "\n",
      "  0%|                                                  | 0/198 [00:00<?, ?it/s]"
     ]
    },
    {
     "name": "stdout",
     "output_type": "stream",
     "text": [
      "Total files processed: 1"
     ]
    },
    {
     "name": "stderr",
     "output_type": "stream",
     "text": [
      "\u001b[A"
     ]
    },
    {
     "name": "stdout",
     "output_type": "stream",
     "text": [
      "\n"
     ]
    },
    {
     "name": "stderr",
     "output_type": "stream",
     "text": [
      "\n",
      " 62%|████████████████████████▏              | 121/195 [00:00<00:00, 318.52it/s]\u001b[A\n",
      "  0%|                                                  | 0/197 [00:00<?, ?it/s]/w/hallb-scshelf2102/clas12/users/gmat/clas12/neutneut/analysis/neutron_ml/../../src/TrainData.py:84: FutureWarning: The default of observed=False is deprecated and will be changed to True in a future version of pandas. Pass observed=False to retain current behavior or observed=True to adopt the future default and silence this warning.\n",
      "  group_sizes = df.groupby(group_cols).size()\n",
      "\u001b[A\n",
      " 41%|████████████████▍                       | 80/195 [00:00<00:00, 326.59it/s]\u001b[A\n",
      "100%|████████████████████████████████████████████| 1/1 [00:00<00:00,  3.65it/s]\u001b[A\n"
     ]
    },
    {
     "name": "stdout",
     "output_type": "stream",
     "text": [
      "Total files processed: 1\n"
     ]
    },
    {
     "name": "stderr",
     "output_type": "stream",
     "text": [
      "/w/hallb-scshelf2102/clas12/users/gmat/clas12/neutneut/analysis/neutron_ml/../../src/TrainData.py:84: FutureWarning: The default of observed=False is deprecated and will be changed to True in a future version of pandas. Pass observed=False to retain current behavior or observed=True to adopt the future default and silence this warning.\n",
      "  group_sizes = df.groupby(group_cols).size()\n",
      "\n",
      " 20%|███████▉                                | 39/196 [00:00<00:00, 379.67it/s]\u001b[A\n",
      " 34%|█████████████▍                          | 66/197 [00:00<00:00, 298.41it/s]\u001b[A\n",
      "100%|████████████████████████████████████████████| 1/1 [00:00<00:00,  5.97it/s]\u001b[A\n",
      "  0%|                                                    | 0/1 [00:00<?, ?it/s]\u001b[A\n",
      "100%|████████████████████████████████████████████| 1/1 [00:00<00:00,  5.18it/s]\u001b[A\n",
      " 18%|███████▎                                | 36/196 [00:00<00:00, 351.69it/s]\u001b[A\n",
      " 49%|███████████████████▌                    | 96/196 [00:00<00:00, 228.53it/s]\u001b[A\n",
      "  0%|                                                  | 0/196 [00:00<?, ?it/s]\u001b[A\n",
      " 50%|███████████████████▉                    | 99/199 [00:00<00:00, 257.45it/s]\u001b[A\n",
      " 38%|███████████████▎                        | 76/199 [00:00<00:00, 298.12it/s]\u001b[A\n",
      " 39%|███████████████▌                        | 76/195 [00:00<00:00, 301.14it/s]\u001b[A\n",
      "100%|████████████████████████████████████████████| 1/1 [00:00<00:00,  4.75it/s]\u001b[A\n",
      " 20%|████████                                | 40/199 [00:00<00:00, 397.50it/s]\u001b[A\n",
      "  0%|                                                  | 0/197 [00:00<?, ?it/s]\u001b[A\n",
      "  0%|                                                  | 0/195 [00:00<?, ?it/s]\u001b[A\n",
      "  0%|                                                  | 0/195 [00:00<?, ?it/s]\u001b[A\n",
      "100%|████████████████████████████████████████████| 1/1 [00:00<00:00,  4.98it/s]\u001b[A\n",
      "100%|████████████████████████████████████████████| 1/1 [00:00<00:00,  7.07it/s]\u001b[A\n",
      "100%|████████████████████████████████████████████| 1/1 [00:00<00:00,  4.20it/s]\u001b[A\n",
      "\n"
     ]
    },
    {
     "name": "stdout",
     "output_type": "stream",
     "text": [
      "Total files processed: 1"
     ]
    },
    {
     "name": "stderr",
     "output_type": "stream",
     "text": [
      " 79%|██████████████████████████████▊        | 154/195 [00:00<00:00, 265.01it/s]"
     ]
    },
    {
     "name": "stdout",
     "output_type": "stream",
     "text": [
      "\n"
     ]
    },
    {
     "name": "stderr",
     "output_type": "stream",
     "text": [
      "\u001b[A\n",
      "/w/hallb-scshelf2102/clas12/users/gmat/clas12/neutneut/analysis/neutron_ml/../../src/TrainData.py:84: FutureWarning: The default of observed=False is deprecated and will be changed to True in a future version of pandas. Pass observed=False to retain current behavior or observed=True to adopt the future default and silence this warning.\n",
      "  group_sizes = df.groupby(group_cols).size()\n",
      " 54%|█████████████████████▏                 | 106/195 [00:00<00:00, 259.48it/s]\u001b[A\n",
      "  0%|                                                  | 0/197 [00:00<?, ?it/s]\u001b[A\n",
      " 58%|██████████████████████▊                | 114/195 [00:00<00:00, 265.26it/s]\u001b[A\n",
      "  0%|                                                  | 0/199 [00:00<?, ?it/s]\u001b[A\n",
      "  0%|                                                  | 0/197 [00:00<?, ?it/s]\u001b[A\n",
      "  0%|                                                  | 0/193 [00:00<?, ?it/s]\u001b[A\n",
      "100%|████████████████████████████████████████████| 1/1 [00:00<00:00,  2.70it/s]\u001b[A\n"
     ]
    },
    {
     "name": "stdout",
     "output_type": "stream",
     "text": [
      "Total files processed: 1\n"
     ]
    },
    {
     "name": "stderr",
     "output_type": "stream",
     "text": [
      "/w/hallb-scshelf2102/clas12/users/gmat/clas12/neutneut/analysis/neutron_ml/../../src/TrainData.py:84: FutureWarning: The default of observed=False is deprecated and will be changed to True in a future version of pandas. Pass observed=False to retain current behavior or observed=True to adopt the future default and silence this warning.\n",
      "  group_sizes = df.groupby(group_cols).size()\n",
      "\n",
      "  0%|                                                  | 0/197 [00:00<?, ?it/s]\u001b[A\n",
      " 22%|████████▋                               | 43/197 [00:00<00:00, 421.33it/s]\u001b[A\n",
      " 49%|███████████████████▍                    | 96/197 [00:00<00:00, 201.73it/s]\u001b[A\n",
      "  0%|                                                  | 0/194 [00:00<?, ?it/s]\u001b[A\n",
      "  0%|                                                  | 0/195 [00:00<?, ?it/s]\u001b[A\n",
      "  0%|                                                  | 0/198 [00:00<?, ?it/s]\u001b[A\n",
      " 61%|███████████████████████▉               | 120/196 [00:00<00:00, 215.82it/s]\u001b[A\n",
      " 39%|███████████████▋                        | 77/196 [00:00<00:00, 260.57it/s]\u001b[A\n",
      "100%|████████████████████████████████████████████| 1/1 [00:00<00:00,  2.57it/s]\u001b[A\n",
      "\n"
     ]
    },
    {
     "name": "stdout",
     "output_type": "stream",
     "text": [
      "Total files processed: 1"
     ]
    },
    {
     "name": "stderr",
     "output_type": "stream",
     "text": [
      " 63%|████████████████████████▋              | 126/199 [00:00<00:00, 255.63it/s]"
     ]
    },
    {
     "name": "stdout",
     "output_type": "stream",
     "text": [
      "\n"
     ]
    },
    {
     "name": "stderr",
     "output_type": "stream",
     "text": [
      "\u001b[A\n",
      " 37%|██████████████▋                         | 72/196 [00:00<00:00, 276.95it/s]\u001b[A/w/hallb-scshelf2102/clas12/users/gmat/clas12/neutneut/analysis/neutron_ml/../../src/TrainData.py:84: FutureWarning: The default of observed=False is deprecated and will be changed to True in a future version of pandas. Pass observed=False to retain current behavior or observed=True to adopt the future default and silence this warning.\n",
      "  group_sizes = df.groupby(group_cols).size()\n",
      "\n",
      " 54%|████████████████████▉                  | 107/199 [00:00<00:00, 281.56it/s]\u001b[A\n",
      " 55%|█████████████████████▌                 | 108/195 [00:00<00:00, 295.41it/s]\u001b[A\n",
      " 21%|████████▌                               | 42/196 [00:00<00:00, 417.69it/s]\u001b[A\n",
      " 93%|████████████████████████████████████▍  | 182/195 [00:00<00:00, 268.13it/s]\u001b[A\n",
      "\u001b[A\n",
      "100%|████████████████████████████████████████████| 1/1 [00:00<00:00,  2.03it/s]\u001b[A\n",
      "100%|████████████████████████████████████████████| 1/1 [00:00<00:00,  2.62it/s]"
     ]
    },
    {
     "name": "stdout",
     "output_type": "stream",
     "text": [
      "Total files processed: 1\n"
     ]
    },
    {
     "name": "stderr",
     "output_type": "stream",
     "text": [
      "\n",
      "/w/hallb-scshelf2102/clas12/users/gmat/clas12/neutneut/analysis/neutron_ml/../../src/TrainData.py:84: FutureWarning: The default of observed=False is deprecated and will be changed to True in a future version of pandas. Pass observed=False to retain current behavior or observed=True to adopt the future default and silence this warning.\n",
      "  group_sizes = df.groupby(group_cols).size()\n",
      "\n"
     ]
    },
    {
     "name": "stdout",
     "output_type": "stream",
     "text": [
      "Total files processed: 1\n"
     ]
    },
    {
     "name": "stderr",
     "output_type": "stream",
     "text": [
      " 68%|██████████████████████████▌            | 133/195 [00:00<00:00, 256.52it/s]\u001b[A\n",
      "/w/hallb-scshelf2102/clas12/users/gmat/clas12/neutneut/analysis/neutron_ml/../../src/TrainData.py:84: FutureWarning: The default of observed=False is deprecated and will be changed to True in a future version of pandas. Pass observed=False to retain current behavior or observed=True to adopt the future default and silence this warning.\n",
      "  group_sizes = df.groupby(group_cols).size()\n",
      " 73%|████████████████████████████▍          | 142/195 [00:00<00:00, 263.68it/s]\u001b[A\n",
      " 22%|████████▉                               | 44/197 [00:00<00:00, 433.11it/s]\u001b[A\n",
      "100%|████████████████████████████████████████████| 1/1 [00:00<00:00,  1.91it/s]\u001b[A\n",
      "\n"
     ]
    },
    {
     "name": "stdout",
     "output_type": "stream",
     "text": [
      "Total files processed: 1\n"
     ]
    },
    {
     "name": "stderr",
     "output_type": "stream",
     "text": [
      " 24%|█████████▋                              | 47/195 [00:00<00:00, 466.58it/s]/w/hallb-scshelf2102/clas12/users/gmat/clas12/neutneut/analysis/neutron_ml/../../src/TrainData.py:84: FutureWarning: The default of observed=False is deprecated and will be changed to True in a future version of pandas. Pass observed=False to retain current behavior or observed=True to adopt the future default and silence this warning.\n",
      "  group_sizes = df.groupby(group_cols).size()\n",
      "\u001b[A\n",
      "  0%|                                                  | 0/198 [00:00<?, ?it/s]\u001b[A\n",
      " 20%|███████▉                                | 39/197 [00:00<00:00, 381.91it/s]\u001b[A\n",
      " 20%|████████                                | 40/199 [00:00<00:00, 399.43it/s]\u001b[A\n",
      "100%|████████████████████████████████████████████| 1/1 [00:00<00:00,  5.21it/s]\u001b[A\n",
      " 21%|████████▎                               | 41/197 [00:00<00:00, 409.02it/s]\u001b[A\n",
      " 60%|███████████████████████▌               | 119/197 [00:00<00:00, 190.61it/s]\u001b[A\n",
      " 41%|████████████████▌                       | 82/198 [00:00<00:00, 307.57it/s]\u001b[A\n",
      " 22%|████████▉                               | 43/193 [00:00<00:00, 418.83it/s]\u001b[A\n",
      " 73%|████████████████████████████▍          | 143/196 [00:00<00:00, 190.50it/s]\u001b[A\n",
      " 21%|████████▌                               | 42/197 [00:00<00:00, 415.57it/s]\u001b[A\n",
      " 54%|█████████████████████                  | 106/196 [00:00<00:00, 218.31it/s]\u001b[A\n",
      " 44%|█████████████████▍                      | 86/197 [00:00<00:00, 280.12it/s]\u001b[A\n",
      " 24%|█████████▍                              | 46/194 [00:00<00:00, 451.38it/s]\u001b[A\n",
      " 71%|███████████████████████████▊           | 139/195 [00:00<00:00, 255.28it/s]\u001b[A\n",
      " 22%|████████▌                               | 42/195 [00:00<00:00, 417.08it/s]\u001b[A\n",
      " 76%|█████████████████████████████▊         | 152/199 [00:00<00:00, 207.17it/s]\u001b[A\n",
      " 21%|████████▍                               | 42/198 [00:00<00:00, 418.04it/s]\u001b[A\n",
      " 52%|████████████████████                   | 101/196 [00:00<00:00, 220.22it/s]\u001b[A\n",
      " 68%|██████████████████████████▋            | 136/199 [00:00<00:00, 230.86it/s]\u001b[A\n",
      " 22%|████████▉                               | 44/197 [00:00<00:00, 439.52it/s]\u001b[A\n",
      "100%|████████████████████████████████████████████| 1/1 [00:00<00:00,  2.55it/s]\u001b[A\n"
     ]
    },
    {
     "name": "stdout",
     "output_type": "stream",
     "text": [
      "Total files processed: 1\n"
     ]
    },
    {
     "name": "stderr",
     "output_type": "stream",
     "text": [
      "/w/hallb-scshelf2102/clas12/users/gmat/clas12/neutneut/analysis/neutron_ml/../../src/TrainData.py:84: FutureWarning: The default of observed=False is deprecated and will be changed to True in a future version of pandas. Pass observed=False to retain current behavior or observed=True to adopt the future default and silence this warning.\n",
      "  group_sizes = df.groupby(group_cols).size()\n",
      "\n",
      " 43%|█████████████████▏                      | 84/196 [00:00<00:00, 277.42it/s]\u001b[A\n",
      "  0%|                                                  | 0/195 [00:00<?, ?it/s]\u001b[A\n",
      " 82%|████████████████████████████████       | 160/195 [00:00<00:00, 211.06it/s]\u001b[A\n",
      " 87%|██████████████████████████████████     | 170/195 [00:00<00:00, 212.45it/s]\u001b[A\n",
      " 71%|███████████████████████████▋           | 140/197 [00:00<00:00, 171.21it/s]\u001b[A\n",
      " 24%|█████████▊                              | 47/192 [00:00<00:00, 463.50it/s]\u001b[A\n",
      " 45%|█████████████████▊                      | 88/197 [00:00<00:00, 261.43it/s]\u001b[A\n",
      " 42%|████████████████▊                       | 82/195 [00:00<00:00, 242.51it/s]\u001b[A\n",
      " 83%|████████████████████████████████▍      | 163/196 [00:00<00:00, 170.32it/s]\u001b[A\n",
      " 40%|███████████████▊                        | 78/197 [00:00<00:00, 257.57it/s]\u001b[A\n",
      "100%|███████████████████████████████████████| 195/195 [00:00<00:00, 204.58it/s]\u001b[A\n",
      "\n",
      " 58%|██████████████████████▋                | 115/198 [00:00<00:00, 243.41it/s]\u001b[A\n",
      " 48%|███████████████████▎                    | 94/195 [00:00<00:00, 266.97it/s]\u001b[A\n",
      " 22%|████████▋                               | 43/198 [00:00<00:00, 424.76it/s]\u001b[A\n",
      " 42%|████████████████▋                       | 82/197 [00:00<00:00, 260.12it/s]\u001b[A\n",
      " 66%|█████████████████████████▊             | 130/196 [00:00<00:00, 195.11it/s]\u001b[A\n",
      "  0%|                                                  | 0/199 [00:00<?, ?it/s]\u001b[A\n",
      " 43%|█████████████████                       | 84/197 [00:00<00:00, 288.85it/s]\u001b[A\n",
      " 44%|█████████████████▌                      | 85/193 [00:00<00:00, 258.66it/s]\u001b[A\n",
      " 85%|█████████████████████████████████▏     | 166/195 [00:00<00:00, 220.51it/s]\u001b[A\n",
      " 59%|███████████████████████▏               | 117/197 [00:00<00:00, 230.03it/s]\u001b[A\n",
      " 87%|██████████████████████████████████     | 174/199 [00:00<00:00, 178.31it/s]\u001b[A\n",
      "  0%|                                                  | 0/199 [00:00<?, ?it/s]\u001b[A\n",
      " 64%|████████████████████████▉              | 127/199 [00:00<00:00, 169.17it/s]\u001b[A\n",
      " 64%|████████████████████████▊              | 125/196 [00:00<00:00, 184.91it/s]\u001b[A\n",
      " 81%|███████████████████████████████▌       | 161/199 [00:00<00:00, 194.30it/s]\u001b[A\n",
      " 47%|██████████████████▉                     | 92/194 [00:00<00:00, 286.94it/s]\u001b[A\n",
      " 42%|████████████████▉                       | 84/198 [00:00<00:00, 266.59it/s]\u001b[A\n",
      " 43%|█████████████████▏                      | 84/195 [00:00<00:00, 261.72it/s]\u001b[A\n",
      " 45%|█████████████████▊                      | 88/197 [00:00<00:00, 277.52it/s]\u001b[A\n",
      " 81%|███████████████████████████████▍       | 159/197 [00:00<00:00, 164.90it/s]\u001b[A\n",
      " 94%|████████████████████████████████████▌  | 183/195 [00:00<00:00, 187.92it/s]\u001b[A\n",
      " 99%|██████████████████████████████████████▌| 193/195 [00:00<00:00, 193.51it/s]\u001b[A\n",
      " 92%|████████████████████████████████████   | 181/196 [00:01<00:00, 164.69it/s]\u001b[A\n",
      " 59%|██████████████████████▉                | 115/196 [00:00<00:00, 227.64it/s]\u001b[A\n",
      "  0%|                                                  | 0/199 [00:00<?, ?it/s]\u001b[A\n",
      " 60%|███████████████████████▎               | 118/197 [00:00<00:00, 240.64it/s]\u001b[A\n",
      " 54%|█████████████████████▏                 | 107/197 [00:00<00:00, 239.47it/s]\u001b[A\n",
      " 56%|██████████████████████                 | 110/195 [00:00<00:00, 224.84it/s]\u001b[A\n",
      " 24%|█████████▋                              | 47/195 [00:00<00:00, 462.40it/s]\u001b[A\n",
      " 55%|█████████████████████▌                 | 110/199 [00:00<00:00, 234.66it/s]\u001b[A\n",
      " 71%|███████████████████████████▊           | 141/198 [00:00<00:00, 216.68it/s]\u001b[A\n",
      " 49%|███████████████████▌                    | 94/192 [00:00<00:00, 323.05it/s]\u001b[A\n",
      "  0%|                                                  | 0/197 [00:00<?, ?it/s]\u001b[A\n",
      " 77%|██████████████████████████████         | 151/196 [00:00<00:00, 175.21it/s]\u001b[A\n",
      " 65%|█████████████████████████▏             | 126/195 [00:00<00:00, 230.02it/s]\u001b[A\n",
      " 57%|██████████████████████▏                | 112/197 [00:00<00:00, 223.89it/s]\u001b[A\n",
      " 97%|█████████████████████████████████████▊ | 189/195 [00:00<00:00, 200.05it/s]\u001b[A\n",
      " 72%|████████████████████████████           | 142/197 [00:00<00:00, 208.08it/s]\u001b[A\n",
      " 59%|██████████████████████▉                | 116/197 [00:00<00:00, 247.37it/s]\u001b[A\n",
      " 60%|███████████████████████▏               | 115/193 [00:00<00:00, 227.55it/s]\u001b[A\n",
      " 97%|█████████████████████████████████████▊ | 193/199 [00:01<00:00, 162.21it/s]\u001b[A\n",
      " 43%|█████████████████▎                      | 86/198 [00:00<00:00, 274.48it/s]\u001b[A\n",
      " 73%|████████████████████████████▌          | 146/199 [00:00<00:00, 157.00it/s]\u001b[A\n",
      " 74%|████████████████████████████▊          | 145/196 [00:00<00:00, 166.30it/s]\u001b[A\n",
      " 91%|███████████████████████████████████▋   | 182/199 [00:00<00:00, 177.30it/s]\u001b[A\n",
      "  0%|                                                  | 0/198 [00:00<?, ?it/s]\u001b[A\n",
      " 23%|█████████                               | 45/199 [00:00<00:00, 440.52it/s]\u001b[A\n",
      " 90%|███████████████████████████████████    | 177/197 [00:01<00:00, 153.42it/s]\u001b[A\n",
      "100%|███████████████████████████████████████| 196/196 [00:01<00:00, 168.40it/s]\u001b[A\n",
      "\n",
      " 23%|█████████                               | 45/199 [00:00<00:00, 441.23it/s]\u001b[A\n",
      " 58%|██████████████████████▊                | 114/195 [00:00<00:00, 219.12it/s]\u001b[A\n",
      " 71%|███████████████████████████▊           | 140/196 [00:00<00:00, 204.27it/s]\u001b[A\n",
      "  0%|                                                  | 0/194 [00:00<?, ?it/s]\u001b[A\n",
      " 61%|███████████████████████▊               | 120/197 [00:00<00:00, 234.95it/s]\u001b[A\n",
      " 73%|████████████████████████████▌          | 144/197 [00:00<00:00, 218.70it/s]\u001b[A\n",
      " 68%|██████████████████████████▎            | 133/197 [00:00<00:00, 215.42it/s]\u001b[A\n",
      " 69%|███████████████████████████            | 135/195 [00:00<00:00, 202.63it/s]\u001b[A\n",
      " 68%|██████████████████████████▍            | 135/199 [00:00<00:00, 213.65it/s]\u001b[A\n",
      "100%|███████████████████████████████████████| 195/195 [00:01<00:00, 174.16it/s]\u001b[A\n",
      "\n",
      " 87%|█████████████████████████████████▊     | 170/196 [00:00<00:00, 161.74it/s]\u001b[A\n",
      " 24%|█████████▍                              | 47/199 [00:00<00:00, 468.98it/s]\u001b[A\n",
      "100%|███████████████████████████████████████| 195/195 [00:01<00:00, 172.19it/s]\u001b[A\n",
      "\n",
      " 70%|███████████████████████████            | 137/197 [00:00<00:00, 203.70it/s]\u001b[A\n",
      " 85%|█████████████████████████████████      | 167/197 [00:00<00:00, 198.08it/s]\u001b[A\n",
      " 67%|██████████████████████████▏            | 129/192 [00:00<00:00, 261.88it/s]\u001b[A\n",
      " 58%|██████████████████████▍                | 114/198 [00:00<00:00, 221.60it/s]\u001b[A\n",
      " 48%|███████████████████▎                    | 94/195 [00:00<00:00, 314.19it/s]\u001b[A\n",
      " 73%|████████████████████████████▎          | 143/197 [00:00<00:00, 227.00it/s]\u001b[A\n",
      " 73%|████████████████████████████▎          | 140/193 [00:00<00:00, 209.24it/s]\u001b[A\n",
      " 82%|███████████████████████████████▉       | 163/199 [00:01<00:00, 145.32it/s]\u001b[A\n",
      " 83%|████████████████████████████████▍      | 163/196 [00:00<00:00, 156.01it/s]\u001b[A\n",
      " 98%|██████████████████████████████████████▏| 193/197 [00:01<00:00, 148.48it/s]\u001b[A\n",
      "100%|███████████████████████████████████████| 195/195 [00:01<00:00, 180.01it/s]\u001b[A\n",
      "\n",
      "100%|███████████████████████████████████████| 199/199 [00:01<00:00, 161.35it/s]\u001b[A\n",
      "\n",
      " 83%|████████████████████████████████▏      | 162/196 [00:00<00:00, 196.42it/s]\u001b[A\n",
      " 78%|██████████████████████████████▌        | 152/194 [00:00<00:00, 226.01it/s]\u001b[A\n",
      " 71%|███████████████████████████▌           | 138/195 [00:00<00:00, 205.80it/s]\u001b[A\n",
      " 79%|██████████████████████████████▉        | 156/197 [00:00<00:00, 199.97it/s]\u001b[A\n",
      " 74%|████████████████████████████▉          | 146/197 [00:00<00:00, 215.91it/s]\u001b[A\n",
      " 83%|████████████████████████████████▍      | 164/197 [00:00<00:00, 192.21it/s]\u001b[A\n",
      " 21%|████████▍                               | 42/198 [00:00<00:00, 418.89it/s]\u001b[A\n",
      " 81%|███████████████████████████████▍       | 157/195 [00:00<00:00, 187.67it/s]\u001b[A\n",
      " 79%|██████████████████████████████▉        | 158/199 [00:00<00:00, 200.29it/s]\u001b[A\n",
      " 45%|██████████████████                      | 90/199 [00:00<00:00, 288.08it/s]\u001b[A\n",
      " 93%|████████████████████████████████████▍  | 185/198 [00:00<00:00, 185.55it/s]\u001b[A\n",
      "  0%|                                                    | 0/1 [00:00<?, ?it/s]\u001b[A\n",
      " 95%|█████████████████████████████████████▏ | 187/196 [00:01<00:00, 155.99it/s]\u001b[A\n",
      "100%|███████████████████████████████████████| 199/199 [00:01<00:00, 167.16it/s]\u001b[A\n",
      "\n",
      " 24%|█████████▍                              | 46/194 [00:00<00:00, 453.23it/s]\u001b[A\n",
      " 90%|███████████████████████████████████    | 175/195 [00:00<00:00, 196.50it/s]\u001b[A\n",
      " 81%|███████████████████████████████▍       | 159/197 [00:00<00:00, 189.28it/s]\u001b[A\n",
      " 89%|██████████████████████████████████▉    | 178/199 [00:01<00:00, 139.31it/s]\u001b[A\n",
      " 91%|███████████████████████████████████▌   | 179/196 [00:01<00:00, 146.41it/s]\u001b[A\n",
      " 70%|███████████████████████████▍           | 139/198 [00:00<00:00, 170.59it/s]\u001b[A\n",
      " 85%|█████████████████████████████████      | 167/197 [00:00<00:00, 203.77it/s]\u001b[A\n",
      " 84%|████████████████████████████████▋      | 162/193 [00:00<00:00, 186.53it/s]\u001b[A\n",
      " 82%|████████████████████████████████       | 158/192 [00:00<00:00, 227.26it/s]\u001b[A\n",
      " 66%|█████████████████████████▊             | 129/195 [00:00<00:00, 258.42it/s]\u001b[A\n",
      " 47%|██████████████████▉                     | 94/199 [00:00<00:00, 300.12it/s]\u001b[A\n",
      " 72%|███████████████████████████▉           | 142/198 [00:00<00:00, 208.32it/s]\u001b[A\n",
      " 93%|████████████████████████████████████▍  | 183/196 [00:00<00:00, 178.52it/s]\u001b[A\n",
      " 82%|████████████████████████████████       | 160/195 [00:00<00:00, 186.26it/s]\u001b[A\n",
      " 90%|███████████████████████████████████    | 177/197 [00:00<00:00, 186.19it/s]\u001b[A\n",
      " 91%|███████████████████████████████████▍   | 176/194 [00:00<00:00, 200.84it/s]\u001b[A\n",
      " 86%|█████████████████████████████████▍     | 169/197 [00:00<00:00, 201.10it/s]\u001b[A\n",
      " 93%|████████████████████████████████████▍  | 184/197 [00:01<00:00, 148.52it/s]\u001b[A\n",
      "100%|███████████████████████████████████████| 197/197 [00:01<00:00, 143.92it/s]\u001b[A\n",
      "\n",
      " 90%|███████████████████████████████████    | 179/199 [00:00<00:00, 185.79it/s]\u001b[A\n",
      "100%|███████████████████████████████████████| 198/198 [00:01<00:00, 185.18it/s]\u001b[A\n",
      "\n",
      " 42%|████████████████▉                       | 84/198 [00:00<00:00, 293.96it/s]\u001b[A\n",
      " 97%|█████████████████████████████████████▊ | 193/199 [00:01<00:00, 132.73it/s]\u001b[A\n",
      " 80%|███████████████████████████████        | 158/198 [00:00<00:00, 167.85it/s]\u001b[A\n",
      " 99%|██████████████████████████████████████▌| 194/196 [00:01<00:00, 140.16it/s]\u001b[A\n",
      " 61%|███████████████████████▉               | 122/199 [00:00<00:00, 236.55it/s]\u001b[A\n",
      "Processing CSV files:  57%|██████████▎       | 285/500 [00:18<00:19, 11.03it/s]\u001b[A\n",
      " 95%|█████████████████████████████████████▏ | 188/197 [00:00<00:00, 188.83it/s]\u001b[A\n",
      " 62%|████████████████████████▎              | 124/199 [00:00<00:00, 245.34it/s]\u001b[A\n",
      " 94%|████████████████████████████████████▊  | 182/193 [00:00<00:00, 177.02it/s]\u001b[A\n",
      " 95%|████████████████████████████████████▉  | 182/192 [00:00<00:00, 211.66it/s]\u001b[A\n",
      "100%|███████████████████████████████████████| 197/197 [00:01<00:00, 193.64it/s]\u001b[A\n",
      "\n",
      " 92%|████████████████████████████████████   | 180/195 [00:00<00:00, 183.98it/s]\u001b[A\n",
      " 47%|██████████████████▉                     | 92/194 [00:00<00:00, 284.54it/s]\u001b[A\n",
      " 99%|██████████████████████████████████████▊| 196/197 [00:01<00:00, 182.05it/s]\u001b[A\n",
      " 83%|████████████████████████████████▎      | 164/198 [00:00<00:00, 193.46it/s]\u001b[A\n",
      "  0%|                                                    | 0/1 [00:00<?, ?it/s]\u001b[A\n",
      "100%|███████████████████████████████████████| 195/195 [00:01<00:00, 187.27it/s]\u001b[A\n",
      "\n",
      " 96%|█████████████████████████████████████▌ | 190/197 [00:00<00:00, 194.98it/s]\u001b[A\n",
      " 64%|█████████████████████████              | 128/199 [00:00<00:00, 259.77it/s]\u001b[A\n",
      " 99%|██████████████████████████████████████▊| 198/199 [00:01<00:00, 179.98it/s]\u001b[A\n",
      "100%|███████████████████████████████████████| 196/196 [00:01<00:00, 180.66it/s]\u001b[A\n",
      "100%|███████████████████████████████████████| 196/196 [00:01<00:00, 148.39it/s]\n",
      "100%|███████████████████████████████████████| 197/197 [00:01<00:00, 169.64it/s]\n",
      "\n",
      " 89%|██████████████████████████████████▋    | 176/198 [00:00<00:00, 169.75it/s]\u001b[A\n",
      " 63%|████████████████████████▋              | 125/197 [00:00<00:00, 265.14it/s]\u001b[A\n",
      "100%|███████████████████████████████████████| 194/194 [00:00<00:00, 200.20it/s]\u001b[A\n",
      "100%|███████████████████████████████████████| 195/195 [00:01<00:00, 180.89it/s]\n",
      "\n",
      " 74%|█████████████████████████████          | 148/199 [00:00<00:00, 224.50it/s]\u001b[A\n",
      " 59%|██████████████████████▊                | 116/198 [00:00<00:00, 265.82it/s]\u001b[A\n",
      "100%|███████████████████████████████████████| 199/199 [00:01<00:00, 142.18it/s]\u001b[A\n",
      "\n",
      " 76%|█████████████████████████████▌         | 151/199 [00:00<00:00, 243.29it/s]\u001b[A\n",
      "  0%|                                                    | 0/1 [00:00<?, ?it/s]\u001b[A\n",
      "  0%|                                                    | 0/1 [00:00<?, ?it/s]\u001b[A\n",
      "100%|███████████████████████████████████████| 197/197 [00:01<00:00, 187.08it/s]\u001b[A\n",
      "100%|███████████████████████████████████████| 193/193 [00:01<00:00, 177.59it/s]\n",
      "100%|███████████████████████████████████████| 192/192 [00:00<00:00, 203.73it/s]\n",
      "100%|███████████████████████████████████████| 197/197 [00:01<00:00, 176.73it/s]\n",
      "\n",
      "  0%|                                                    | 0/1 [00:00<?, ?it/s]\u001b[A\n",
      " 93%|████████████████████████████████████▏  | 184/198 [00:00<00:00, 195.03it/s]\u001b[A\n",
      "100%|███████████████████████████████████████| 196/196 [00:01<00:00, 141.62it/s]\u001b[A\n",
      "\n",
      "100%|███████████████████████████████████████| 199/199 [00:01<00:00, 173.39it/s]\u001b[A\n",
      "Processing CSV files:  58%|██████████▍       | 289/500 [00:18<00:16, 12.45it/s]\n",
      "100%|████████████████████████████████████████████| 1/1 [00:00<00:00,  2.99it/s]\u001b[A\n",
      "100%|███████████████████████████████████████| 197/197 [00:01<00:00, 169.55it/s]\n",
      "\n",
      " 73%|████████████████████████████▌          | 145/198 [00:00<00:00, 272.57it/s]\u001b[A\n"
     ]
    },
    {
     "name": "stdout",
     "output_type": "stream",
     "text": [
      "Total files processed: 1"
     ]
    },
    {
     "name": "stderr",
     "output_type": "stream",
     "text": [
      " 91%|███████████████████████████████████▋   | 182/199 [00:00<00:00, 254.49it/s]\u001b[A\n",
      " 89%|██████████████████████████████████▋    | 177/199 [00:00<00:00, 242.43it/s]\u001b[A"
     ]
    },
    {
     "name": "stdout",
     "output_type": "stream",
     "text": [
      "\n"
     ]
    },
    {
     "name": "stderr",
     "output_type": "stream",
     "text": [
      "100%|███████████████████████████████████████| 195/195 [00:01<00:00, 176.12it/s]/w/hallb-scshelf2102/clas12/users/gmat/clas12/neutneut/analysis/neutron_ml/../../src/TrainData.py:84: FutureWarning: The default of observed=False is deprecated and will be changed to True in a future version of pandas. Pass observed=False to retain current behavior or observed=True to adopt the future default and silence this warning.\n",
      "  group_sizes = df.groupby(group_cols).size()\n",
      "\n",
      "\n",
      "100%|████████████████████████████████████████████| 1/1 [00:00<00:00,  5.61it/s]\u001b[A\n",
      "  0%|                                                    | 0/1 [00:00<?, ?it/s]\u001b[A\n",
      "100%|███████████████████████████████████████| 195/195 [00:00<00:00, 218.18it/s]\u001b[A\n",
      "\n",
      "Processing CSV files:  58%|██████████▌       | 292/500 [00:18<00:14, 14.00it/s]\u001b[A\n",
      " 92%|███████████████████████████████████▊   | 183/199 [00:00<00:00, 230.31it/s]\u001b[A\n",
      "100%|███████████████████████████████████████| 198/198 [00:01<00:00, 169.09it/s]\u001b[A\n",
      "\n",
      "100%|███████████████████████████████████████| 197/197 [00:01<00:00, 169.53it/s]\u001b[A\n",
      "100%|███████████████████████████████████████| 198/198 [00:01<00:00, 187.12it/s]\n",
      "\n",
      "  0%|                                                    | 0/1 [00:00<?, ?it/s]\u001b[A\n",
      "100%|███████████████████████████████████████| 199/199 [00:00<00:00, 235.69it/s]\u001b[A\n",
      "100%|████████████████████████████████████████████| 1/1 [00:00<00:00,  3.50it/s]\n",
      "\n"
     ]
    },
    {
     "name": "stdout",
     "output_type": "stream",
     "text": [
      "Total files processed: 1"
     ]
    },
    {
     "name": "stderr",
     "output_type": "stream",
     "text": [
      "  0%|                                                    | 0/1 [00:00<?, ?it/s]\u001b[A"
     ]
    },
    {
     "name": "stdout",
     "output_type": "stream",
     "text": [
      "\n"
     ]
    },
    {
     "name": "stderr",
     "output_type": "stream",
     "text": [
      "\n",
      "100%|████████████████████████████████████████████| 1/1 [00:00<00:00,  4.79it/s]/w/hallb-scshelf2102/clas12/users/gmat/clas12/neutneut/analysis/neutron_ml/../../src/TrainData.py:84: FutureWarning: The default of observed=False is deprecated and will be changed to True in a future version of pandas. Pass observed=False to retain current behavior or observed=True to adopt the future default and silence this warning.\n",
      "  group_sizes = df.groupby(group_cols).size()\n",
      "\u001b[A\n",
      "100%|████████████████████████████████████████████| 1/1 [00:00<00:00,  6.08it/s]\u001b[A\n",
      " 88%|██████████████████████████████████▎    | 174/198 [00:00<00:00, 248.85it/s]\u001b[A\n",
      "100%|████████████████████████████████████████████| 1/1 [00:00<00:00,  3.61it/s]\u001b[A\n"
     ]
    },
    {
     "name": "stdout",
     "output_type": "stream",
     "text": [
      "Total files processed: 1"
     ]
    },
    {
     "name": "stderr",
     "output_type": "stream",
     "text": [
      "\n"
     ]
    },
    {
     "name": "stdout",
     "output_type": "stream",
     "text": [
      "\n"
     ]
    },
    {
     "name": "stderr",
     "output_type": "stream",
     "text": [
      "  0%|                                                    | 0/1 [00:00<?, ?it/s]\u001b[A/w/hallb-scshelf2102/clas12/users/gmat/clas12/neutneut/analysis/neutron_ml/../../src/TrainData.py:84: FutureWarning: The default of observed=False is deprecated and will be changed to True in a future version of pandas. Pass observed=False to retain current behavior or observed=True to adopt the future default and silence this warning.\n",
      "  group_sizes = df.groupby(group_cols).size()\n",
      "\n",
      "100%|███████████████████████████████████████| 199/199 [00:00<00:00, 233.15it/s]\u001b[A\n",
      "\n",
      "  0%|                                                    | 0/1 [00:00<?, ?it/s]\u001b[A\n",
      "100%|███████████████████████████████████████| 194/194 [00:00<00:00, 288.51it/s]\u001b[A\n",
      "\n",
      "Processing CSV files:  61%|██████████▉       | 303/500 [00:18<00:07, 25.57it/s]\u001b[A\n",
      "100%|████████████████████████████████████████████| 1/1 [00:00<00:00,  4.41it/s]\u001b[A\n"
     ]
    },
    {
     "name": "stdout",
     "output_type": "stream",
     "text": [
      "Total files processed: 1"
     ]
    },
    {
     "name": "stderr",
     "output_type": "stream",
     "text": [
      "100%|███████████████████████████████████████| 199/199 [00:00<00:00, 243.55it/s]"
     ]
    },
    {
     "name": "stdout",
     "output_type": "stream",
     "text": [
      "\n"
     ]
    },
    {
     "name": "stderr",
     "output_type": "stream",
     "text": [
      "\n",
      "100%|████████████████████████████████████████████| 1/1 [00:00<00:00,  4.43it/s]\n"
     ]
    },
    {
     "name": "stdout",
     "output_type": "stream",
     "text": [
      "Total files processed: 1"
     ]
    },
    {
     "name": "stderr",
     "output_type": "stream",
     "text": [
      "100%|███████████████████████████████████████| 197/197 [00:00<00:00, 254.58it/s]"
     ]
    },
    {
     "name": "stdout",
     "output_type": "stream",
     "text": [
      "\n"
     ]
    },
    {
     "name": "stderr",
     "output_type": "stream",
     "text": [
      "/w/hallb-scshelf2102/clas12/users/gmat/clas12/neutneut/analysis/neutron_ml/../../src/TrainData.py:84: FutureWarning: The default of observed=False is deprecated and will be changed to True in a future version of pandas. Pass observed=False to retain current behavior or observed=True to adopt the future default and silence this warning.\n",
      "  group_sizes = df.groupby(group_cols).size()\n",
      "/w/hallb-scshelf2102/clas12/users/gmat/clas12/neutneut/analysis/neutron_ml/../../src/TrainData.py:84: FutureWarning: The default of observed=False is deprecated and will be changed to True in a future version of pandas. Pass observed=False to retain current behavior or observed=True to adopt the future default and silence this warning.\n",
      "  group_sizes = df.groupby(group_cols).size()\n",
      "\n",
      "\n",
      "  0%|                                                    | 0/1 [00:00<?, ?it/s]\u001b[A\n",
      "  0%|                                                    | 0/1 [00:00<?, ?it/s]\u001b[A\n",
      "100%|████████████████████████████████████████████| 1/1 [00:00<00:00,  2.98it/s]\u001b[A\n"
     ]
    },
    {
     "name": "stdout",
     "output_type": "stream",
     "text": [
      "Total files processed: 1"
     ]
    },
    {
     "name": "stderr",
     "output_type": "stream",
     "text": [
      "\n"
     ]
    },
    {
     "name": "stdout",
     "output_type": "stream",
     "text": [
      "\n"
     ]
    },
    {
     "name": "stderr",
     "output_type": "stream",
     "text": [
      "100%|███████████████████████████████████████| 198/198 [00:00<00:00, 260.10it/s]\u001b[A/w/hallb-scshelf2102/clas12/users/gmat/clas12/neutneut/analysis/neutron_ml/../../src/TrainData.py:84: FutureWarning: The default of observed=False is deprecated and will be changed to True in a future version of pandas. Pass observed=False to retain current behavior or observed=True to adopt the future default and silence this warning.\n",
      "  group_sizes = df.groupby(group_cols).size()\n",
      "\n",
      "\n",
      "  0%|                                                    | 0/1 [00:00<?, ?it/s]\u001b[A\n",
      "  0%|                                                  | 0/197 [00:00<?, ?it/s]\u001b[A\n",
      "  0%|                                                    | 0/1 [00:00<?, ?it/s]\u001b[A\n",
      "100%|████████████████████████████████████████████| 1/1 [00:00<00:00,  3.41it/s]\u001b[A\n",
      "\n"
     ]
    },
    {
     "name": "stdout",
     "output_type": "stream",
     "text": [
      "Total files processed: 1"
     ]
    },
    {
     "name": "stderr",
     "output_type": "stream",
     "text": [
      "  0%|                                                    | 0/1 [00:00<?, ?it/s]\u001b[A"
     ]
    },
    {
     "name": "stdout",
     "output_type": "stream",
     "text": [
      "\n"
     ]
    },
    {
     "name": "stderr",
     "output_type": "stream",
     "text": [
      "/w/hallb-scshelf2102/clas12/users/gmat/clas12/neutneut/analysis/neutron_ml/../../src/TrainData.py:84: FutureWarning: The default of observed=False is deprecated and will be changed to True in a future version of pandas. Pass observed=False to retain current behavior or observed=True to adopt the future default and silence this warning.\n",
      "  group_sizes = df.groupby(group_cols).size()\n",
      "\n",
      " 21%|████████▏                               | 40/195 [00:00<00:00, 393.08it/s]\u001b[A\n",
      "100%|████████████████████████████████████████████| 1/1 [00:00<00:00,  6.43it/s]\u001b[A\n",
      "  0%|                                                  | 0/196 [00:00<?, ?it/s]\u001b[A\n",
      "100%|████████████████████████████████████████████| 1/1 [00:00<00:00,  5.73it/s]\u001b[A\n",
      "Processing CSV files:  62%|███████████       | 309/500 [00:18<00:06, 29.49it/s]\u001b[A\n",
      "  0%|                                                  | 0/197 [00:00<?, ?it/s]\u001b[A\n",
      "100%|████████████████████████████████████████████| 1/1 [00:00<00:00,  4.98it/s]\u001b[A\n",
      "100%|████████████████████████████████████████████| 1/1 [00:00<00:00,  4.60it/s]\u001b[A\n",
      "  0%|                                                    | 0/1 [00:00<?, ?it/s]\u001b[A\n",
      "  0%|                                                    | 0/1 [00:00<?, ?it/s]\u001b[A\n",
      "  0%|                                                    | 0/1 [00:00<?, ?it/s]\u001b[A\n",
      "100%|████████████████████████████████████████████| 1/1 [00:00<00:00,  4.25it/s]\u001b[A\n",
      "\n"
     ]
    },
    {
     "name": "stdout",
     "output_type": "stream",
     "text": [
      "Total files processed: 1\n"
     ]
    },
    {
     "name": "stderr",
     "output_type": "stream",
     "text": [
      "100%|████████████████████████████████████████████| 1/1 [00:00<00:00,  3.88it/s]\u001b[A\n",
      "/w/hallb-scshelf2102/clas12/users/gmat/clas12/neutneut/analysis/neutron_ml/../../src/TrainData.py:84: FutureWarning: The default of observed=False is deprecated and will be changed to True in a future version of pandas. Pass observed=False to retain current behavior or observed=True to adopt the future default and silence this warning.\n",
      "  group_sizes = df.groupby(group_cols).size()\n",
      "\n"
     ]
    },
    {
     "name": "stdout",
     "output_type": "stream",
     "text": [
      "Total files processed: 1"
     ]
    },
    {
     "name": "stderr",
     "output_type": "stream",
     "text": [
      "  0%|                                                  | 0/195 [00:00<?, ?it/s]"
     ]
    },
    {
     "name": "stdout",
     "output_type": "stream",
     "text": [
      "\n"
     ]
    },
    {
     "name": "stderr",
     "output_type": "stream",
     "text": [
      "100%|████████████████████████████████████████████| 1/1 [00:00<00:00,  3.50it/s]\n",
      "\n",
      "/w/hallb-scshelf2102/clas12/users/gmat/clas12/neutneut/analysis/neutron_ml/../../src/TrainData.py:84: FutureWarning: The default of observed=False is deprecated and will be changed to True in a future version of pandas. Pass observed=False to retain current behavior or observed=True to adopt the future default and silence this warning.\n",
      "  group_sizes = df.groupby(group_cols).size()\n"
     ]
    },
    {
     "name": "stdout",
     "output_type": "stream",
     "text": [
      "Total files processed: 1"
     ]
    },
    {
     "name": "stderr",
     "output_type": "stream",
     "text": [
      "100%|████████████████████████████████████████████| 1/1 [00:00<00:00,  5.51it/s]\u001b[A\n",
      "  0%|                                                    | 0/1 [00:00<?, ?it/s]\u001b[A\n",
      "100%|████████████████████████████████████████████| 1/1 [00:00<00:00,  5.28it/s]"
     ]
    },
    {
     "name": "stdout",
     "output_type": "stream",
     "text": [
      "\n"
     ]
    },
    {
     "name": "stderr",
     "output_type": "stream",
     "text": [
      "\u001b[A\n",
      "  0%|                                                  | 0/198 [00:00<?, ?it/s]/w/hallb-scshelf2102/clas12/users/gmat/clas12/neutneut/analysis/neutron_ml/../../src/TrainData.py:84: FutureWarning: The default of observed=False is deprecated and will be changed to True in a future version of pandas. Pass observed=False to retain current behavior or observed=True to adopt the future default and silence this warning.\n",
      "  group_sizes = df.groupby(group_cols).size()\n",
      "\u001b[A\n",
      "100%|████████████████████████████████████████████| 1/1 [00:00<00:00,  4.84it/s]\u001b[A\n",
      "100%|████████████████████████████████████████████| 1/1 [00:00<00:00,  3.31it/s]\u001b[A\n",
      "\n"
     ]
    },
    {
     "name": "stdout",
     "output_type": "stream",
     "text": [
      "Total files processed: 1\n"
     ]
    },
    {
     "name": "stderr",
     "output_type": "stream",
     "text": [
      " 19%|███████▌                                | 37/197 [00:00<00:00, 364.61it/s]\u001b[A\n",
      "/w/hallb-scshelf2102/clas12/users/gmat/clas12/neutneut/analysis/neutron_ml/../../src/TrainData.py:84: FutureWarning: The default of observed=False is deprecated and will be changed to True in a future version of pandas. Pass observed=False to retain current behavior or observed=True to adopt the future default and silence this warning.\n",
      "  group_sizes = df.groupby(group_cols).size()\n",
      "  0%|                                                    | 0/1 [00:00<?, ?it/s]\u001b[A\n",
      "100%|████████████████████████████████████████████| 1/1 [00:00<00:00,  3.09it/s]\u001b[A\n",
      "\n"
     ]
    },
    {
     "name": "stdout",
     "output_type": "stream",
     "text": [
      "Total files processed: 1\n"
     ]
    },
    {
     "name": "stderr",
     "output_type": "stream",
     "text": [
      "100%|████████████████████████████████████████████| 1/1 [00:00<00:00,  6.24it/s]\u001b[A/w/hallb-scshelf2102/clas12/users/gmat/clas12/neutneut/analysis/neutron_ml/../../src/TrainData.py:84: FutureWarning: The default of observed=False is deprecated and will be changed to True in a future version of pandas. Pass observed=False to retain current behavior or observed=True to adopt the future default and silence this warning.\n",
      "  group_sizes = df.groupby(group_cols).size()\n",
      "\n",
      "100%|████████████████████████████████████████████| 1/1 [00:00<00:00,  3.71it/s]\u001b[A\n",
      "Processing CSV files:  63%|███████████▎      | 315/500 [00:19<00:05, 33.89it/s]"
     ]
    },
    {
     "name": "stdout",
     "output_type": "stream",
     "text": [
      "Total files processed: 1\n"
     ]
    },
    {
     "name": "stderr",
     "output_type": "stream",
     "text": [
      "\n",
      "100%|████████████████████████████████████████████| 1/1 [00:00<00:00,  3.38it/s]\u001b[A\n",
      "/w/hallb-scshelf2102/clas12/users/gmat/clas12/neutneut/analysis/neutron_ml/../../src/TrainData.py:84: FutureWarning: The default of observed=False is deprecated and will be changed to True in a future version of pandas. Pass observed=False to retain current behavior or observed=True to adopt the future default and silence this warning.\n",
      "  group_sizes = df.groupby(group_cols).size()\n"
     ]
    },
    {
     "name": "stdout",
     "output_type": "stream",
     "text": [
      "Total files processed: 1\n"
     ]
    },
    {
     "name": "stderr",
     "output_type": "stream",
     "text": [
      "/w/hallb-scshelf2102/clas12/users/gmat/clas12/neutneut/analysis/neutron_ml/../../src/TrainData.py:84: FutureWarning: The default of observed=False is deprecated and will be changed to True in a future version of pandas. Pass observed=False to retain current behavior or observed=True to adopt the future default and silence this warning.\n",
      "  group_sizes = df.groupby(group_cols).size()\n",
      "\n",
      "100%|████████████████████████████████████████████| 1/1 [00:00<00:00,  4.83it/s]\u001b[A\n",
      "100%|████████████████████████████████████████████| 1/1 [00:00<00:00,  3.45it/s]\u001b[A\n"
     ]
    },
    {
     "name": "stdout",
     "output_type": "stream",
     "text": [
      "Total files processed: 1"
     ]
    },
    {
     "name": "stderr",
     "output_type": "stream",
     "text": [
      "100%|████████████████████████████████████████████| 1/1 [00:00<00:00,  3.34it/s]"
     ]
    },
    {
     "name": "stdout",
     "output_type": "stream",
     "text": [
      "\n"
     ]
    },
    {
     "name": "stderr",
     "output_type": "stream",
     "text": [
      "\n",
      "\n"
     ]
    },
    {
     "name": "stdout",
     "output_type": "stream",
     "text": [
      "Total files processed: 1\n"
     ]
    },
    {
     "name": "stderr",
     "output_type": "stream",
     "text": [
      "  0%|                                                    | 0/1 [00:00<?, ?it/s]/w/hallb-scshelf2102/clas12/users/gmat/clas12/neutneut/analysis/neutron_ml/../../src/TrainData.py:84: FutureWarning: The default of observed=False is deprecated and will be changed to True in a future version of pandas. Pass observed=False to retain current behavior or observed=True to adopt the future default and silence this warning.\n",
      "  group_sizes = df.groupby(group_cols).size()\n",
      "\u001b[A\n",
      "/w/hallb-scshelf2102/clas12/users/gmat/clas12/neutneut/analysis/neutron_ml/../../src/TrainData.py:84: FutureWarning: The default of observed=False is deprecated and will be changed to True in a future version of pandas. Pass observed=False to retain current behavior or observed=True to adopt the future default and silence this warning.\n",
      "  group_sizes = df.groupby(group_cols).size()\n",
      "100%|████████████████████████████████████████████| 1/1 [00:00<00:00,  5.35it/s]\u001b[A\n",
      " 20%|████████                                | 40/197 [00:00<00:00, 392.23it/s]\u001b[A\n",
      "  0%|                                                    | 0/1 [00:00<?, ?it/s]\u001b[A\n",
      " 41%|████████████████▍                       | 80/195 [00:00<00:00, 337.66it/s]\u001b[A\n",
      "100%|████████████████████████████████████████████| 1/1 [00:00<00:00,  5.43it/s]\u001b[A\n",
      "100%|████████████████████████████████████████████| 1/1 [00:00<00:00,  6.28it/s]\u001b[A\n",
      "100%|████████████████████████████████████████████| 1/1 [00:00<00:00,  6.24it/s]\u001b[A\n",
      "  0%|                                                  | 0/198 [00:00<?, ?it/s]\u001b[A\n",
      "100%|████████████████████████████████████████████| 1/1 [00:00<00:00,  3.17it/s]\u001b[A\n",
      "100%|████████████████████████████████████████████| 1/1 [00:00<00:00,  2.71it/s]"
     ]
    },
    {
     "name": "stdout",
     "output_type": "stream",
     "text": [
      "Total files processed: 1\n"
     ]
    },
    {
     "name": "stderr",
     "output_type": "stream",
     "text": [
      "\n"
     ]
    },
    {
     "name": "stdout",
     "output_type": "stream",
     "text": [
      "Total files processed: 1"
     ]
    },
    {
     "name": "stderr",
     "output_type": "stream",
     "text": [
      "\n"
     ]
    },
    {
     "name": "stdout",
     "output_type": "stream",
     "text": [
      "\n"
     ]
    },
    {
     "name": "stderr",
     "output_type": "stream",
     "text": [
      "/w/hallb-scshelf2102/clas12/users/gmat/clas12/neutneut/analysis/neutron_ml/../../src/TrainData.py:84: FutureWarning: The default of observed=False is deprecated and will be changed to True in a future version of pandas. Pass observed=False to retain current behavior or observed=True to adopt the future default and silence this warning.\n",
      "  group_sizes = df.groupby(group_cols).size()\n",
      "100%|████████████████████████████████████████████| 1/1 [00:00<00:00,  3.13it/s]\u001b[A/w/hallb-scshelf2102/clas12/users/gmat/clas12/neutneut/analysis/neutron_ml/../../src/TrainData.py:84: FutureWarning: The default of observed=False is deprecated and will be changed to True in a future version of pandas. Pass observed=False to retain current behavior or observed=True to adopt the future default and silence this warning.\n",
      "  group_sizes = df.groupby(group_cols).size()\n",
      "\n",
      "100%|████████████████████████████████████████████| 1/1 [00:00<00:00,  3.56it/s]\n"
     ]
    },
    {
     "name": "stdout",
     "output_type": "stream",
     "text": [
      "Total files processed: 1"
     ]
    },
    {
     "name": "stderr",
     "output_type": "stream",
     "text": [
      "\n"
     ]
    },
    {
     "name": "stdout",
     "output_type": "stream",
     "text": [
      "Total files processed: 1\n",
      "\n"
     ]
    },
    {
     "name": "stderr",
     "output_type": "stream",
     "text": [
      "  0%|                                                  | 0/196 [00:00<?, ?it/s]\u001b[A/w/hallb-scshelf2102/clas12/users/gmat/clas12/neutneut/analysis/neutron_ml/../../src/TrainData.py:84: FutureWarning: The default of observed=False is deprecated and will be changed to True in a future version of pandas. Pass observed=False to retain current behavior or observed=True to adopt the future default and silence this warning.\n",
      "  group_sizes = df.groupby(group_cols).size()\n",
      "/w/hallb-scshelf2102/clas12/users/gmat/clas12/neutneut/analysis/neutron_ml/../../src/TrainData.py:84: FutureWarning: The default of observed=False is deprecated and will be changed to True in a future version of pandas. Pass observed=False to retain current behavior or observed=True to adopt the future default and silence this warning.\n",
      "  group_sizes = df.groupby(group_cols).size()\n",
      "\n",
      "  0%|                                                  | 0/196 [00:00<?, ?it/s]\u001b[A\n",
      "100%|████████████████████████████████████████████| 1/1 [00:00<00:00,  3.62it/s]\u001b[A\n"
     ]
    },
    {
     "name": "stdout",
     "output_type": "stream",
     "text": [
      "Total files processed: 1\n"
     ]
    },
    {
     "name": "stderr",
     "output_type": "stream",
     "text": [
      "/w/hallb-scshelf2102/clas12/users/gmat/clas12/neutneut/analysis/neutron_ml/../../src/TrainData.py:84: FutureWarning: The default of observed=False is deprecated and will be changed to True in a future version of pandas. Pass observed=False to retain current behavior or observed=True to adopt the future default and silence this warning.\n",
      "  group_sizes = df.groupby(group_cols).size()\n",
      "\n",
      " 21%|████████▍                               | 42/198 [00:00<00:00, 414.25it/s]\u001b[A\n",
      " 38%|███████████████                         | 74/197 [00:00<00:00, 281.52it/s]\u001b[A\n",
      "100%|████████████████████████████████████████████| 1/1 [00:00<00:00,  6.14it/s]\u001b[A\n",
      " 22%|████████▋                               | 43/197 [00:00<00:00, 419.20it/s]\u001b[A\n",
      "  0%|                                                  | 0/199 [00:00<?, ?it/s]\u001b[A\n",
      " 36%|██████████████▎                         | 70/196 [00:00<00:00, 315.74it/s]\u001b[A\n",
      "100%|████████████████████████████████████████████| 1/1 [00:00<00:00,  4.82it/s]\u001b[A\n",
      "100%|████████████████████████████████████████████| 1/1 [00:00<00:00,  5.32it/s]\u001b[A\n",
      " 41%|████████████████▏                       | 80/197 [00:00<00:00, 331.18it/s]\u001b[A\n",
      " 59%|███████████████████████                | 115/195 [00:00<00:00, 267.95it/s]\u001b[A\n",
      "100%|████████████████████████████████████████████| 1/1 [00:00<00:00,  2.71it/s]\u001b[A\n"
     ]
    },
    {
     "name": "stdout",
     "output_type": "stream",
     "text": [
      "Total files processed: 1\n"
     ]
    },
    {
     "name": "stderr",
     "output_type": "stream",
     "text": [
      "\n",
      "/w/hallb-scshelf2102/clas12/users/gmat/clas12/neutneut/analysis/neutron_ml/../../src/TrainData.py:84: FutureWarning: The default of observed=False is deprecated and will be changed to True in a future version of pandas. Pass observed=False to retain current behavior or observed=True to adopt the future default and silence this warning.\n",
      "  group_sizes = df.groupby(group_cols).size()\n",
      "100%|████████████████████████████████████████████| 1/1 [00:00<00:00,  2.71it/s]\u001b[A\n",
      "\n"
     ]
    },
    {
     "name": "stdout",
     "output_type": "stream",
     "text": [
      "Total files processed: 1\n"
     ]
    },
    {
     "name": "stderr",
     "output_type": "stream",
     "text": [
      "  0%|                                                  | 0/199 [00:00<?, ?it/s]\u001b[A\n",
      " 18%|███████▎                                | 36/198 [00:00<00:00, 351.20it/s]/w/hallb-scshelf2102/clas12/users/gmat/clas12/neutneut/analysis/neutron_ml/../../src/TrainData.py:84: FutureWarning: The default of observed=False is deprecated and will be changed to True in a future version of pandas. Pass observed=False to retain current behavior or observed=True to adopt the future default and silence this warning.\n",
      "  group_sizes = df.groupby(group_cols).size()\n",
      "100%|████████████████████████████████████████████| 1/1 [00:00<00:00,  2.25it/s]\n",
      "\n"
     ]
    },
    {
     "name": "stdout",
     "output_type": "stream",
     "text": [
      "Total files processed: 1\n"
     ]
    },
    {
     "name": "stderr",
     "output_type": "stream",
     "text": [
      "100%|████████████████████████████████████████████| 1/1 [00:00<00:00,  5.45it/s]\u001b[A\n",
      "  0%|                                                  | 0/194 [00:00<?, ?it/s]\u001b[A\n",
      "  0%|                                                  | 0/197 [00:00<?, ?it/s]\u001b[A\n",
      "/w/hallb-scshelf2102/clas12/users/gmat/clas12/neutneut/analysis/neutron_ml/../../src/TrainData.py:84: FutureWarning: The default of observed=False is deprecated and will be changed to True in a future version of pandas. Pass observed=False to retain current behavior or observed=True to adopt the future default and silence this warning.\n",
      "  group_sizes = df.groupby(group_cols).size()\n",
      "100%|████████████████████████████████████████████| 1/1 [00:00<00:00,  5.98it/s]\u001b[A\n",
      "100%|████████████████████████████████████████████| 1/1 [00:00<00:00,  2.99it/s]\u001b[A\n"
     ]
    },
    {
     "name": "stdout",
     "output_type": "stream",
     "text": [
      "Total files processed: 1"
     ]
    },
    {
     "name": "stderr",
     "output_type": "stream",
     "text": [
      "\n"
     ]
    },
    {
     "name": "stdout",
     "output_type": "stream",
     "text": [
      "\n"
     ]
    },
    {
     "name": "stderr",
     "output_type": "stream",
     "text": [
      "  0%|                                                  | 0/196 [00:00<?, ?it/s]/w/hallb-scshelf2102/clas12/users/gmat/clas12/neutneut/analysis/neutron_ml/../../src/TrainData.py:84: FutureWarning: The default of observed=False is deprecated and will be changed to True in a future version of pandas. Pass observed=False to retain current behavior or observed=True to adopt the future default and silence this warning.\n",
      "  group_sizes = df.groupby(group_cols).size()\n",
      "\u001b[A\n",
      "100%|████████████████████████████████████████████| 1/1 [00:00<00:00,  4.39it/s]\u001b[A\n",
      " 21%|████████▎                               | 41/196 [00:00<00:00, 403.31it/s]\u001b[A\n",
      " 20%|████████▏                               | 40/196 [00:00<00:00, 392.11it/s]\u001b[A\n",
      "100%|████████████████████████████████████████████| 1/1 [00:00<00:00,  2.78it/s]\u001b[A\n"
     ]
    },
    {
     "name": "stdout",
     "output_type": "stream",
     "text": [
      "Total files processed: 1\n"
     ]
    },
    {
     "name": "stderr",
     "output_type": "stream",
     "text": [
      "/w/hallb-scshelf2102/clas12/users/gmat/clas12/neutneut/analysis/neutron_ml/../../src/TrainData.py:84: FutureWarning: The default of observed=False is deprecated and will be changed to True in a future version of pandas. Pass observed=False to retain current behavior or observed=True to adopt the future default and silence this warning.\n",
      "  group_sizes = df.groupby(group_cols).size()\n",
      "\n",
      "100%|████████████████████████████████████████████| 1/1 [00:00<00:00,  3.23it/s]\u001b[A\n",
      "\n"
     ]
    },
    {
     "name": "stdout",
     "output_type": "stream",
     "text": [
      "Total files processed: 1\n"
     ]
    },
    {
     "name": "stderr",
     "output_type": "stream",
     "text": [
      "100%|████████████████████████████████████████████| 1/1 [00:00<00:00,  4.40it/s]/w/hallb-scshelf2102/clas12/users/gmat/clas12/neutneut/analysis/neutron_ml/../../src/TrainData.py:84: FutureWarning: The default of observed=False is deprecated and will be changed to True in a future version of pandas. Pass observed=False to retain current behavior or observed=True to adopt the future default and silence this warning.\n",
      "  group_sizes = df.groupby(group_cols).size()\n",
      "\u001b[A\n",
      "  0%|                                                  | 0/197 [00:00<?, ?it/s]\u001b[A\n",
      " 42%|████████████████▉                       | 84/198 [00:00<00:00, 293.35it/s]\u001b[A\n",
      " 58%|██████████████████████▌                | 114/197 [00:00<00:00, 308.40it/s]\u001b[A\n",
      " 52%|████████████████████▎                  | 102/196 [00:00<00:00, 262.37it/s]\u001b[A\n",
      "100%|████████████████████████████████████████████| 1/1 [00:00<00:00,  2.32it/s]\u001b[A\n",
      "\n"
     ]
    },
    {
     "name": "stdout",
     "output_type": "stream",
     "text": [
      "Total files processed: 1"
     ]
    },
    {
     "name": "stderr",
     "output_type": "stream",
     "text": [
      "  0%|                                                  | 0/199 [00:00<?, ?it/s]"
     ]
    },
    {
     "name": "stdout",
     "output_type": "stream",
     "text": [
      "\n"
     ]
    },
    {
     "name": "stderr",
     "output_type": "stream",
     "text": [
      "\u001b[A/w/hallb-scshelf2102/clas12/users/gmat/clas12/neutneut/analysis/neutron_ml/../../src/TrainData.py:84: FutureWarning: The default of observed=False is deprecated and will be changed to True in a future version of pandas. Pass observed=False to retain current behavior or observed=True to adopt the future default and silence this warning.\n",
      "  group_sizes = df.groupby(group_cols).size()\n",
      "\n",
      " 20%|███████▊                                | 39/199 [00:00<00:00, 387.72it/s]\u001b[A\n",
      " 74%|████████████████████████████▊          | 144/195 [00:00<00:00, 251.80it/s]\u001b[A\u001b[A\n",
      "  0%|                                                  | 0/197 [00:00<?, ?it/s]\n",
      " 42%|████████████████▋                       | 82/196 [00:00<00:00, 307.28it/s]\u001b[A\n",
      "100%|████████████████████████████████████████████| 1/1 [00:00<00:00,  2.26it/s]\u001b[A\n"
     ]
    },
    {
     "name": "stdout",
     "output_type": "stream",
     "text": [
      "Total files processed: 1"
     ]
    },
    {
     "name": "stderr",
     "output_type": "stream",
     "text": [
      "\n"
     ]
    },
    {
     "name": "stdout",
     "output_type": "stream",
     "text": [
      "\n"
     ]
    },
    {
     "name": "stderr",
     "output_type": "stream",
     "text": [
      "/w/hallb-scshelf2102/clas12/users/gmat/clas12/neutneut/analysis/neutron_ml/../../src/TrainData.py:84: FutureWarning: The default of observed=False is deprecated and will be changed to True in a future version of pandas. Pass observed=False to retain current behavior or observed=True to adopt the future default and silence this warning.\n",
      "  group_sizes = df.groupby(group_cols).size()\n",
      "100%|████████████████████████████████████████████| 1/1 [00:00<00:00,  5.66it/s]\u001b[A\n",
      "100%|████████████████████████████████████████████| 1/1 [00:00<00:00,  2.51it/s]\u001b[A\n",
      "\n"
     ]
    },
    {
     "name": "stdout",
     "output_type": "stream",
     "text": [
      "Total files processed: 1"
     ]
    },
    {
     "name": "stderr",
     "output_type": "stream",
     "text": [
      "  0%|                                                  | 0/196 [00:00<?, ?it/s]"
     ]
    },
    {
     "name": "stdout",
     "output_type": "stream",
     "text": [
      "\n"
     ]
    },
    {
     "name": "stderr",
     "output_type": "stream",
     "text": [
      "\u001b[A/w/hallb-scshelf2102/clas12/users/gmat/clas12/neutneut/analysis/neutron_ml/../../src/TrainData.py:84: FutureWarning: The default of observed=False is deprecated and will be changed to True in a future version of pandas. Pass observed=False to retain current behavior or observed=True to adopt the future default and silence this warning.\n",
      "  group_sizes = df.groupby(group_cols).size()\n",
      "\n",
      "100%|████████████████████████████████████████████| 1/1 [00:00<00:00,  2.51it/s]\u001b[A\n",
      "\n"
     ]
    },
    {
     "name": "stdout",
     "output_type": "stream",
     "text": [
      "Total files processed: 1"
     ]
    },
    {
     "name": "stderr",
     "output_type": "stream",
     "text": [
      " 21%|████████▌                               | 42/197 [00:00<00:00, 418.28it/s]"
     ]
    },
    {
     "name": "stdout",
     "output_type": "stream",
     "text": [
      "\n"
     ]
    },
    {
     "name": "stderr",
     "output_type": "stream",
     "text": [
      "\u001b[A\n",
      "/w/hallb-scshelf2102/clas12/users/gmat/clas12/neutneut/analysis/neutron_ml/../../src/TrainData.py:84: FutureWarning: The default of observed=False is deprecated and will be changed to True in a future version of pandas. Pass observed=False to retain current behavior or observed=True to adopt the future default and silence this warning.\n",
      "  group_sizes = df.groupby(group_cols).size()\n",
      "100%|████████████████████████████████████████████| 1/1 [00:00<00:00,  2.07it/s]\u001b[A\n"
     ]
    },
    {
     "name": "stdout",
     "output_type": "stream",
     "text": [
      "Total files processed: 1"
     ]
    },
    {
     "name": "stderr",
     "output_type": "stream",
     "text": [
      "100%|████████████████████████████████████████████| 1/1 [00:00<00:00,  1.83it/s]"
     ]
    },
    {
     "name": "stdout",
     "output_type": "stream",
     "text": [
      "\n"
     ]
    },
    {
     "name": "stderr",
     "output_type": "stream",
     "text": [
      "\n",
      "\n"
     ]
    },
    {
     "name": "stdout",
     "output_type": "stream",
     "text": [
      "Total files processed: 1\n"
     ]
    },
    {
     "name": "stderr",
     "output_type": "stream",
     "text": [
      " 20%|███████▉                                | 39/196 [00:00<00:00, 384.10it/s]/w/hallb-scshelf2102/clas12/users/gmat/clas12/neutneut/analysis/neutron_ml/../../src/TrainData.py:84: FutureWarning: The default of observed=False is deprecated and will be changed to True in a future version of pandas. Pass observed=False to retain current behavior or observed=True to adopt the future default and silence this warning.\n",
      "  group_sizes = df.groupby(group_cols).size()\n",
      "\u001b[A\n",
      "/w/hallb-scshelf2102/clas12/users/gmat/clas12/neutneut/analysis/neutron_ml/../../src/TrainData.py:84: FutureWarning: The default of observed=False is deprecated and will be changed to True in a future version of pandas. Pass observed=False to retain current behavior or observed=True to adopt the future default and silence this warning.\n",
      "  group_sizes = df.groupby(group_cols).size()\n",
      " 22%|████████▋                               | 43/198 [00:00<00:00, 423.18it/s]\u001b[A\n",
      " 66%|█████████████████████████▊             | 130/196 [00:00<00:00, 231.10it/s]\u001b[A\n",
      " 74%|████████████████████████████▉          | 146/197 [00:00<00:00, 264.53it/s]\u001b[A\n",
      " 59%|███████████████████████▏               | 116/195 [00:00<00:00, 284.13it/s]\u001b[A\n",
      " 59%|██████████████████████▊                | 116/198 [00:00<00:00, 246.87it/s]\u001b[A\n",
      " 26%|██████████▎                             | 50/194 [00:00<00:00, 493.21it/s]\u001b[A\n",
      " 87%|██████████████████████████████████     | 170/195 [00:00<00:00, 221.47it/s]\u001b[A\n",
      "100%|████████████████████████████████████████████| 1/1 [00:00<00:00,  2.05it/s]\u001b[A\n",
      "\n"
     ]
    },
    {
     "name": "stdout",
     "output_type": "stream",
     "text": [
      "Total files processed: 1\n"
     ]
    },
    {
     "name": "stderr",
     "output_type": "stream",
     "text": [
      "/w/hallb-scshelf2102/clas12/users/gmat/clas12/neutneut/analysis/neutron_ml/../../src/TrainData.py:84: FutureWarning: The default of observed=False is deprecated and will be changed to True in a future version of pandas. Pass observed=False to retain current behavior or observed=True to adopt the future default and silence this warning.\n",
      "  group_sizes = df.groupby(group_cols).size()\n",
      " 39%|███████████████▋                        | 78/199 [00:00<00:00, 273.94it/s]\u001b[A\n",
      " 20%|████████                                | 40/199 [00:00<00:00, 399.37it/s]\u001b[A\n",
      " 23%|█████████▎                              | 46/197 [00:00<00:00, 453.18it/s]\u001b[A\n",
      " 43%|█████████████████▎                      | 85/197 [00:00<00:00, 162.85it/s]\u001b[A\n",
      "  0%|                                                  | 0/194 [00:00<?, ?it/s]\u001b[A\n",
      " 64%|█████████████████████████              | 126/196 [00:00<00:00, 355.30it/s]\u001b[A\n",
      "  0%|                                                  | 0/198 [00:00<?, ?it/s]\u001b[A\n",
      "  0%|                                                  | 0/198 [00:00<?, ?it/s]\u001b[A\n",
      "100%|████████████████████████████████████████████| 1/1 [00:00<00:00,  2.21it/s]\u001b[A\n"
     ]
    },
    {
     "name": "stdout",
     "output_type": "stream",
     "text": [
      "Total files processed: 1"
     ]
    },
    {
     "name": "stderr",
     "output_type": "stream",
     "text": [
      "\n"
     ]
    },
    {
     "name": "stdout",
     "output_type": "stream",
     "text": [
      "\n"
     ]
    },
    {
     "name": "stderr",
     "output_type": "stream",
     "text": [
      " 24%|█████████▋                              | 48/197 [00:00<00:00, 471.80it/s]\u001b[A/w/hallb-scshelf2102/clas12/users/gmat/clas12/neutneut/analysis/neutron_ml/../../src/TrainData.py:84: FutureWarning: The default of observed=False is deprecated and will be changed to True in a future version of pandas. Pass observed=False to retain current behavior or observed=True to adopt the future default and silence this warning.\n",
      "  group_sizes = df.groupby(group_cols).size()\n",
      "\n",
      " 19%|███████▋                                | 38/199 [00:00<00:01, 130.39it/s]\u001b[A\n",
      " 21%|████████▎                               | 41/196 [00:00<00:00, 406.27it/s]\u001b[A\n",
      "  0%|                                                  | 0/198 [00:00<?, ?it/s]\u001b[A\n",
      " 78%|██████████████████████████████▍        | 154/197 [00:00<00:00, 192.25it/s]\u001b[A\n",
      " 79%|██████████████████████████████▋        | 154/196 [00:00<00:00, 218.26it/s]\u001b[A\n",
      " 22%|████████▋                               | 43/197 [00:00<00:00, 424.35it/s]\u001b[A\n",
      " 43%|█████████████████                       | 84/197 [00:00<00:00, 272.12it/s]\u001b[A\n",
      " 88%|██████████████████████████████████▍    | 174/197 [00:00<00:00, 244.98it/s]\u001b[A\n",
      " 75%|█████████████████████████████▏         | 146/195 [00:00<00:00, 200.96it/s]\u001b[A\n",
      " 25%|██████████                              | 49/194 [00:00<00:00, 486.97it/s]\u001b[A\n",
      " 40%|███████████████▉                        | 78/196 [00:00<00:00, 251.69it/s]\u001b[A\n",
      " 52%|████████████████████                   | 102/198 [00:00<00:00, 231.36it/s]\u001b[A\n",
      " 99%|██████████████████████████████████████▌| 193/195 [00:00<00:00, 196.30it/s]\u001b[A\n",
      " 72%|████████████████████████████▏          | 143/198 [00:00<00:00, 215.27it/s]\u001b[A\n",
      " 43%|█████████████████▎                      | 86/198 [00:00<00:00, 276.84it/s]\u001b[A\n",
      " 41%|████████████████▎                       | 80/196 [00:00<00:00, 156.38it/s]\u001b[A\n",
      " 52%|████████████████████                   | 100/194 [00:00<00:00, 251.07it/s]\u001b[A\n",
      " 42%|████████████████▋                       | 82/197 [00:00<00:00, 262.71it/s]\u001b[A\n",
      " 54%|█████████████████████▏                 | 108/199 [00:00<00:00, 215.85it/s]\u001b[A\n",
      " 55%|█████████████████████▌                 | 109/197 [00:00<00:00, 156.57it/s]\u001b[A\n",
      " 26%|██████████▍                             | 52/199 [00:00<00:01, 121.26it/s]\u001b[A\n",
      " 40%|████████████████                        | 80/199 [00:00<00:00, 256.81it/s]\u001b[A\n",
      " 47%|██████████████████▋                     | 92/197 [00:00<00:00, 304.14it/s]\u001b[A\n",
      " 84%|████████████████████████████████▋      | 164/196 [00:00<00:00, 283.31it/s]\u001b[A\n",
      "  0%|                                                  | 0/199 [00:00<?, ?it/s]\u001b[A\n",
      " 22%|████████▋                               | 43/198 [00:00<00:00, 425.69it/s]\u001b[A\n",
      " 22%|████████▉                               | 44/198 [00:00<00:00, 430.72it/s]\u001b[A\n",
      " 26%|██████████▎                             | 51/198 [00:00<00:00, 505.88it/s]\u001b[A\n",
      " 89%|██████████████████████████████████▋    | 175/197 [00:00<00:00, 168.92it/s]\u001b[A\n",
      " 90%|███████████████████████████████████▏   | 177/196 [00:00<00:00, 188.79it/s]\u001b[A\n",
      " 49%|███████████████████▍                    | 96/197 [00:00<00:00, 296.52it/s]\u001b[A\n",
      "  0%|                                                  | 0/198 [00:00<?, ?it/s]\u001b[A\n",
      "  0%|                                                  | 0/198 [00:00<?, ?it/s]\u001b[A\n",
      "  0%|                                                  | 0/197 [00:00<?, ?it/s]\u001b[A\n",
      " 87%|█████████████████████████████████▊     | 169/195 [00:00<00:00, 183.17it/s]\u001b[A\n",
      "100%|███████████████████████████████████████| 197/197 [00:00<00:00, 217.51it/s]\u001b[A\n",
      "\n",
      " 21%|████████▍                               | 42/198 [00:00<00:00, 416.39it/s]\u001b[A\n",
      " 58%|██████████████████████▊                | 115/197 [00:00<00:00, 214.64it/s]\u001b[A\n",
      " 54%|█████████████████████                  | 106/196 [00:00<00:00, 201.80it/s]\u001b[A\n",
      " 64%|█████████████████████████              | 127/198 [00:00<00:00, 154.35it/s]\u001b[A\n",
      " 44%|█████████████████▍                      | 86/197 [00:00<00:00, 251.66it/s]\u001b[A\n",
      " 53%|████████████████████▍                  | 103/196 [00:00<00:00, 149.16it/s]\u001b[A\n",
      " 32%|████████████▊                           | 64/199 [00:00<00:01, 117.25it/s]\u001b[A\n",
      "  0%|                                                  | 0/198 [00:00<?, ?it/s]\u001b[A\n",
      " 59%|███████████████████████                | 117/198 [00:00<00:00, 220.01it/s]\u001b[A\n",
      " 65%|█████████████████████████▌             | 129/197 [00:00<00:00, 154.60it/s]\u001b[A\n",
      "  0%|                                                  | 0/195 [00:00<?, ?it/s]\u001b[A\n",
      " 66%|█████████████████████████▊             | 132/199 [00:00<00:00, 196.35it/s]\u001b[A\n",
      " 68%|██████████████████████████▌            | 132/194 [00:00<00:00, 226.87it/s]\u001b[A\n",
      "100%|███████████████████████████████████████| 195/195 [00:01<00:00, 168.30it/s]\u001b[A\n",
      "\n",
      " 57%|██████████████████████▏                | 112/197 [00:00<00:00, 229.10it/s]\u001b[A\n",
      "  0%|                                                  | 0/198 [00:00<?, ?it/s]\u001b[A\n",
      " 55%|█████████████████████▎                 | 109/199 [00:00<00:00, 228.09it/s]\u001b[A\n",
      " 64%|████████████████████████▉              | 126/197 [00:00<00:00, 263.58it/s]\u001b[A\u001b[A\n",
      " 98%|██████████████████████████████████████▏| 193/197 [00:01<00:00, 162.43it/s]\u001b[A\n",
      " 99%|██████████████████████████████████████▊| 195/196 [00:00<00:00, 242.56it/s]\n",
      " 97%|█████████████████████████████████████▊ | 189/195 [00:01<00:00, 179.59it/s]\u001b[A\n",
      " 66%|█████████████████████████▋             | 130/197 [00:00<00:00, 266.92it/s]\u001b[A\n",
      " 22%|████████▋                               | 43/199 [00:00<00:00, 426.64it/s]\u001b[A\n",
      " 44%|█████████████████▊                      | 88/198 [00:00<00:00, 295.87it/s]\u001b[A\n",
      " 43%|█████████████████▎                      | 86/198 [00:00<00:00, 285.38it/s]\u001b[A\n",
      " 57%|██████████████████████                 | 111/196 [00:00<00:00, 226.36it/s]\u001b[A\n",
      " 52%|████████████████████                   | 102/198 [00:00<00:00, 331.04it/s]\u001b[A\n",
      " 26%|██████████▌                             | 52/198 [00:00<00:00, 518.99it/s]\u001b[A\n",
      " 66%|█████████████████████████▋             | 129/196 [00:00<00:00, 190.87it/s]\u001b[A\n",
      " 23%|█████████                               | 45/198 [00:00<00:00, 446.71it/s]\u001b[A\n",
      " 23%|█████████▎                              | 46/197 [00:00<00:00, 457.16it/s]\u001b[A\n",
      " 71%|███████████████████████████▌           | 139/197 [00:00<00:00, 191.36it/s]\u001b[A\n",
      " 38%|███████████████▎                        | 76/199 [00:00<00:01, 107.52it/s]\u001b[A\n",
      " 74%|████████████████████████████▊          | 146/198 [00:00<00:00, 145.11it/s]\u001b[A\n",
      " 42%|████████████████▉                       | 84/198 [00:00<00:00, 283.79it/s]\u001b[A\n",
      " 62%|████████████████████████▎              | 122/196 [00:00<00:00, 140.32it/s]\u001b[A\n",
      "100%|███████████████████████████████████████| 196/196 [00:01<00:00, 169.35it/s]\u001b[A\n",
      "\n",
      " 75%|█████████████████████████████          | 147/197 [00:01<00:00, 139.55it/s]\u001b[A\n",
      " 77%|█████████████████████████████▉         | 153/199 [00:00<00:00, 170.22it/s]\u001b[A\n",
      " 72%|███████████████████████████▉           | 142/198 [00:00<00:00, 187.28it/s]\u001b[A\n",
      " 81%|███████████████████████████████▊       | 158/194 [00:00<00:00, 195.25it/s]\u001b[A\n",
      " 84%|████████████████████████████████▋      | 166/198 [00:01<00:00, 124.12it/s]\u001b[A\n",
      " 70%|███████████████████████████            | 137/197 [00:00<00:00, 189.81it/s]\u001b[A\n",
      " 26%|██████████▌                             | 52/198 [00:00<00:00, 515.85it/s]\u001b[A\n",
      " 78%|██████████████████████████████▍        | 154/197 [00:00<00:00, 220.82it/s]\u001b[A\n",
      " 75%|█████████████████████████████▏         | 145/194 [00:00<00:00, 315.98it/s]\u001b[A\n",
      " 23%|█████████                               | 44/195 [00:00<00:00, 430.89it/s]\u001b[A\n",
      " 81%|███████████████████████████████▍       | 159/197 [00:00<00:00, 231.58it/s]\u001b[A\n",
      " 22%|████████▋                               | 43/198 [00:00<00:00, 429.57it/s]\u001b[A\n",
      " 69%|███████████████████████████            | 136/196 [00:00<00:00, 201.26it/s]\u001b[A\n",
      " 44%|█████████████████▉                       | 87/199 [00:00<00:01, 95.95it/s]\u001b[A\n",
      " 60%|███████████████████████▏               | 118/198 [00:00<00:00, 234.39it/s]\u001b[A\n",
      " 61%|███████████████████████▊               | 121/198 [00:00<00:00, 239.57it/s]\u001b[A\n",
      " 77%|█████████████████████████████▊         | 150/196 [00:00<00:00, 168.79it/s]\u001b[A\n",
      "100%|███████████████████████████████████████| 196/196 [00:01<00:00, 188.54it/s]\u001b[A\n",
      "\n",
      "100%|███████████████████████████████████████| 197/197 [00:01<00:00, 148.04it/s]\u001b[A\n",
      "\n",
      " 71%|███████████████████████████▋           | 139/196 [00:01<00:00, 130.08it/s]\u001b[A\n",
      "100%|███████████████████████████████████████| 195/195 [00:01<00:00, 156.39it/s]\u001b[A\n",
      "\n",
      " 70%|███████████████████████████▍           | 139/198 [00:00<00:00, 249.30it/s]\u001b[A\n",
      " 83%|████████████████████████████████▎      | 163/197 [00:01<00:00, 127.39it/s]\u001b[A\n",
      " 58%|██████████████████████▋                | 115/198 [00:00<00:00, 226.38it/s]\u001b[A\n",
      " 53%|████████████████████▍                  | 104/198 [00:00<00:00, 301.70it/s]\u001b[A\n",
      " 86%|█████████████████████████████████▌     | 171/199 [00:01<00:00, 147.64it/s]\u001b[A\n",
      " 45%|██████████████████▏                     | 90/198 [00:00<00:00, 257.57it/s]\u001b[A\n",
      " 47%|██████████████████▋                     | 92/197 [00:00<00:00, 265.81it/s]\u001b[A\n",
      " 82%|████████████████████████████████       | 163/198 [00:00<00:00, 161.90it/s]\u001b[A\n",
      " 92%|████████████████████████████████████   | 183/198 [00:01<00:00, 117.99it/s]\u001b[A\n",
      " 93%|████████████████████████████████████▏  | 180/194 [00:00<00:00, 170.90it/s]\u001b[A\n",
      " 58%|██████████████████████▊                | 115/197 [00:00<00:00, 137.88it/s]\u001b[A\n",
      " 80%|███████████████████████████████▎       | 158/197 [00:00<00:00, 164.76it/s]\u001b[A\n",
      " 22%|████████▋                               | 42/194 [00:00<00:00, 416.94it/s]\u001b[A\n",
      " 90%|███████████████████████████████████▏   | 178/197 [00:00<00:00, 189.34it/s]\u001b[A\n",
      " 49%|███████████████████▉                     | 97/199 [00:01<00:01, 89.90it/s]\u001b[A\n",
      " 67%|██████████████████████████▎            | 134/199 [00:00<00:00, 129.22it/s]\u001b[A\n",
      " 93%|████████████████████████████████████▍  | 184/197 [00:00<00:00, 197.82it/s]\u001b[A\n",
      " 81%|███████████████████████████████▍       | 158/196 [00:00<00:00, 177.78it/s]\u001b[A\n",
      " 86%|█████████████████████████████████▍     | 168/196 [00:00<00:00, 154.57it/s]\u001b[A\n",
      " 93%|████████████████████████████████████▍  | 181/194 [00:00<00:00, 250.99it/s]\u001b[A\n",
      " 90%|███████████████████████████████████    | 178/198 [00:01<00:00, 128.94it/s]\u001b[A\n",
      " 73%|████████████████████████████▎          | 144/198 [00:00<00:00, 210.16it/s]\u001b[A\n",
      " 90%|███████████████████████████████████▏   | 178/197 [00:01<00:00, 156.05it/s]\u001b[A\n",
      " 45%|██████████████████                      | 88/195 [00:00<00:00, 274.27it/s]\u001b[A\n",
      " 74%|████████████████████████████▉          | 147/198 [00:00<00:00, 212.72it/s]\u001b[A\n",
      "  0%|                                                    | 0/1 [00:00<?, ?it/s]\u001b[A\n",
      " 53%|████████████████████▍                  | 104/198 [00:00<00:00, 289.15it/s]\u001b[A\n",
      " 79%|██████████████████████████████▋        | 154/196 [00:01<00:00, 122.41it/s]\u001b[A\n",
      " 43%|█████████████████▎                      | 86/198 [00:00<00:00, 262.71it/s]\u001b[A\n",
      " 90%|███████████████████████████████████    | 177/197 [00:01<00:00, 120.35it/s]\u001b[A\n",
      " 94%|████████████████████████████████████▋  | 187/199 [00:01<00:00, 139.13it/s]\u001b[A\n",
      " 58%|██████████████████████▋                | 116/199 [00:00<00:00, 216.13it/s]\u001b[A\n",
      "  0%|                                                    | 0/1 [00:00<?, ?it/s]\u001b[A\n",
      " 84%|████████████████████████████████▉      | 167/198 [00:00<00:00, 218.75it/s]\u001b[A\n",
      " 71%|███████████████████████████▌           | 140/198 [00:00<00:00, 198.89it/s]\u001b[A\n",
      "100%|███████████████████████████████████████| 198/198 [00:01<00:00, 118.68it/s]\u001b[A\n",
      " 91%|███████████████████████████████████▋   | 181/198 [00:01<00:00, 155.42it/s]\u001b[A\n",
      " 61%|███████████████████████▊               | 121/198 [00:00<00:00, 226.72it/s]\u001b[A\n",
      " 71%|███████████████████████████▌           | 140/198 [00:00<00:00, 257.25it/s]\u001b[A\n",
      " 53%|█████████████████████▎                  | 106/199 [00:01<00:01, 87.37it/s]\u001b[A\n",
      " 89%|██████████████████████████████████▊    | 176/197 [00:01<00:00, 151.28it/s]\u001b[A\n",
      " 69%|██████████████████████████▋            | 135/197 [00:00<00:00, 134.57it/s]\u001b[A\n",
      " 62%|████████████████████████▎              | 123/197 [00:00<00:00, 219.64it/s]\u001b[A\n",
      " 76%|█████████████████████████████▊         | 152/199 [00:01<00:00, 131.97it/s]\u001b[A\n",
      " 94%|████████████████████████████████████▌  | 184/196 [00:01<00:00, 150.44it/s]\u001b[A\n",
      " 90%|███████████████████████████████████▏   | 177/196 [00:00<00:00, 172.87it/s]\u001b[A\n",
      " 97%|█████████████████████████████████████▊ | 192/198 [00:01<00:00, 123.91it/s]\u001b[A\n",
      "100%|███████████████████████████████████████| 198/198 [00:01<00:00, 141.15it/s]\u001b[A\n",
      "\n",
      " 85%|█████████████████████████████████▏     | 167/196 [00:01<00:00, 117.76it/s]\u001b[A\n",
      " 84%|████████████████████████████████▉      | 167/198 [00:00<00:00, 190.75it/s]\u001b[A\n",
      " 96%|█████████████████████████████████████▌ | 190/197 [00:01<00:00, 117.83it/s]\u001b[A\n",
      " 43%|█████████████████▎                      | 84/194 [00:00<00:00, 265.21it/s]\u001b[A\n",
      "100%|███████████████████████████████████████| 197/197 [00:01<00:00, 195.19it/s]\u001b[A\n",
      "100%|███████████████████████████████████████| 197/197 [00:01<00:00, 190.10it/s]\n",
      "\n",
      "  0%|                                                    | 0/1 [00:00<?, ?it/s]\u001b[A\n",
      " 61%|███████████████████████▊               | 119/195 [00:00<00:00, 231.47it/s]\u001b[A\n",
      " 99%|██████████████████████████████████████▊| 197/198 [00:01<00:00, 149.21it/s]\u001b[A\n",
      "100%|███████████████████████████████████████| 194/194 [00:00<00:00, 229.15it/s]\u001b[A\n",
      "\n",
      " 82%|███████████████████████████████▉       | 162/198 [00:00<00:00, 191.87it/s]\u001b[A\n",
      " 96%|█████████████████████████████████████▌ | 191/198 [00:00<00:00, 209.35it/s]\u001b[A\n",
      " 60%|███████████████████████▌               | 120/199 [00:01<00:00, 101.07it/s]\u001b[A\n",
      " 59%|██████████████████████▊                | 116/198 [00:00<00:00, 231.32it/s]\u001b[A\n",
      " 97%|█████████████████████████████████████▊ | 192/198 [00:00<00:00, 197.99it/s]\u001b[A\n",
      "  0%|                                                    | 0/1 [00:00<?, ?it/s]\u001b[A\n",
      " 97%|██████████████████████████████████████ | 192/197 [00:01<00:00, 151.57it/s]\u001b[A\n",
      "100%|███████████████████████████████████████| 199/199 [00:01<00:00, 153.35it/s]\u001b[A\n",
      "\n",
      " 78%|██████████████████████████████▎        | 153/197 [00:01<00:00, 143.27it/s]\u001b[A\n",
      " 74%|████████████████████████████▊          | 146/198 [00:00<00:00, 221.28it/s]\u001b[A\n",
      "  0%|                                                    | 0/1 [00:00<?, ?it/s]\u001b[A\n",
      " 86%|█████████████████████████████████▌     | 171/199 [00:01<00:00, 143.66it/s]\u001b[A\n",
      " 85%|█████████████████████████████████▎     | 169/198 [00:00<00:00, 247.38it/s]\u001b[A\n",
      " 75%|█████████████████████████████▎         | 148/197 [00:00<00:00, 220.26it/s]\u001b[A\n",
      " 99%|██████████████████████████████████████▊| 195/196 [00:01<00:00, 170.11it/s]\u001b[A\n",
      " 97%|█████████████████████████████████████▊ | 190/196 [00:01<00:00, 143.71it/s]\u001b[A\n",
      "100%|███████████████████████████████████████| 196/196 [00:01<00:00, 158.92it/s]\u001b[A\n",
      "100%|███████████████████████████████████████| 197/197 [00:01<00:00, 156.21it/s]\n",
      "\n",
      " 59%|██████████████████████▉                | 114/194 [00:00<00:00, 266.66it/s]\u001b[A\n",
      " 74%|████████████████████████████▊          | 144/195 [00:00<00:00, 235.93it/s]\u001b[A\n",
      "100%|████████████████████████████████████████████| 1/1 [00:00<00:00,  6.78it/s]\u001b[A\n",
      "100%|███████████████████████████████████████| 198/198 [00:01<00:00, 136.02it/s]\u001b[A\n",
      "\n",
      " 96%|█████████████████████████████████████▌ | 191/198 [00:00<00:00, 215.90it/s]\u001b[A\n",
      " 71%|███████████████████████████▊           | 142/199 [00:01<00:00, 133.14it/s]\u001b[A\n",
      "100%|███████████████████████████████████████| 197/197 [00:01<00:00, 127.97it/s]\u001b[A\n",
      "100%|███████████████████████████████████████| 198/198 [00:01<00:00, 157.90it/s]\n",
      "\n",
      "100%|███████████████████████████████████████| 198/198 [00:00<00:00, 204.12it/s]\u001b[A\n",
      "\n",
      "100%|████████████████████████████████████████████| 1/1 [00:00<00:00,  4.79it/s]\u001b[A\n",
      "100%|███████████████████████████████████████| 198/198 [00:00<00:00, 198.06it/s]\u001b[A\n",
      "100%|███████████████████████████████████████| 197/197 [00:01<00:00, 156.91it/s]\n",
      "\n",
      " 95%|█████████████████████████████████████  | 189/199 [00:01<00:00, 144.95it/s]\u001b[A\n",
      " 84%|████████████████████████████████▉      | 167/198 [00:00<00:00, 232.99it/s]\u001b[A\n",
      " 86%|█████████████████████████████████▍     | 170/198 [00:00<00:00, 208.96it/s]\u001b[A\n",
      " 87%|██████████████████████████████████     | 172/197 [00:00<00:00, 208.58it/s]\u001b[A\n",
      "100%|███████████████████████████████████████| 196/196 [00:01<00:00, 164.05it/s]\u001b[A\n",
      "100%|███████████████████████████████████████| 196/196 [00:01<00:00, 131.12it/s]\n",
      "100%|███████████████████████████████████████| 194/194 [00:01<00:00, 140.85it/s]\n",
      "\n",
      " 87%|█████████████████████████████████▊     | 169/195 [00:00<00:00, 237.20it/s]\u001b[A\n",
      " 74%|████████████████████████████▋          | 143/194 [00:00<00:00, 259.89it/s]\u001b[A\n",
      " 99%|██████████████████████████████████████▌| 197/199 [00:00<00:00, 238.44it/s]\u001b[A\n",
      "100%|████████████████████████████████████████████| 1/1 [00:00<00:00,  2.96it/s]\u001b[A\n",
      "Processing CSV files:  65%|███████████▋      | 325/500 [00:20<00:14, 12.21it/s]"
     ]
    },
    {
     "name": "stdout",
     "output_type": "stream",
     "text": [
      "Total files processed: 1\n"
     ]
    },
    {
     "name": "stderr",
     "output_type": "stream",
     "text": [
      "100%|███████████████████████████████████████| 198/198 [00:01<00:00, 182.35it/s]\n",
      "\n",
      "/w/hallb-scshelf2102/clas12/users/gmat/clas12/neutneut/analysis/neutron_ml/../../src/TrainData.py:84: FutureWarning: The default of observed=False is deprecated and will be changed to True in a future version of pandas. Pass observed=False to retain current behavior or observed=True to adopt the future default and silence this warning.\n",
      "  group_sizes = df.groupby(group_cols).size()\n",
      "100%|████████████████████████████████████████████| 1/1 [00:00<00:00,  5.08it/s]\u001b[A\n",
      "100%|███████████████████████████████████████| 198/198 [00:01<00:00, 190.19it/s]\u001b[A\n",
      "\n",
      "  0%|                                                    | 0/1 [00:00<?, ?it/s]\u001b[A\n",
      "100%|███████████████████████████████████████| 198/198 [00:00<00:00, 219.56it/s]\u001b[A\n",
      "100%|████████████████████████████████████████████| 1/1 [00:00<00:00,  2.56it/s]\n"
     ]
    },
    {
     "name": "stdout",
     "output_type": "stream",
     "text": [
      "Total files processed: 1\n"
     ]
    },
    {
     "name": "stderr",
     "output_type": "stream",
     "text": [
      "\n",
      "/w/hallb-scshelf2102/clas12/users/gmat/clas12/neutneut/analysis/neutron_ml/../../src/TrainData.py:84: FutureWarning: The default of observed=False is deprecated and will be changed to True in a future version of pandas. Pass observed=False to retain current behavior or observed=True to adopt the future default and silence this warning.\n",
      "  group_sizes = df.groupby(group_cols).size()\n",
      " 97%|█████████████████████████████████████▊ | 192/198 [00:00<00:00, 225.13it/s]\u001b[A\n",
      "100%|████████████████████████████████████████████| 1/1 [00:00<00:00,  5.87it/s]\u001b[A\n",
      "100%|████████████████████████████████████████████| 1/1 [00:00<00:00,  5.02it/s]\u001b[A\n",
      " 97%|█████████████████████████████████████▊ | 192/198 [00:00<00:00, 196.69it/s]\u001b[A\n",
      "100%|███████████████████████████████████████| 199/199 [00:01<00:00, 145.71it/s]\u001b[A\n",
      "\n",
      "  0%|                                                    | 0/1 [00:00<?, ?it/s]\u001b[A\n",
      "  0%|                                                    | 0/1 [00:00<?, ?it/s]\u001b[A\n",
      " 88%|██████████████████████████████████▏    | 170/194 [00:00<00:00, 250.43it/s]\u001b[A\n",
      "Processing CSV files:  66%|███████████▊      | 329/500 [00:20<00:11, 14.36it/s]\u001b[A\n",
      "100%|███████████████████████████████████████| 199/199 [00:00<00:00, 202.97it/s]\u001b[A\n",
      "\n",
      "100%|████████████████████████████████████████████| 1/1 [00:00<00:00,  2.99it/s]\u001b[A\n",
      "\n"
     ]
    },
    {
     "name": "stdout",
     "output_type": "stream",
     "text": [
      "Total files processed: 1\n"
     ]
    },
    {
     "name": "stderr",
     "output_type": "stream",
     "text": [
      "100%|███████████████████████████████████████| 197/197 [00:01<00:00, 150.27it/s]\u001b[A/w/hallb-scshelf2102/clas12/users/gmat/clas12/neutneut/analysis/neutron_ml/../../src/TrainData.py:84: FutureWarning: The default of observed=False is deprecated and will be changed to True in a future version of pandas. Pass observed=False to retain current behavior or observed=True to adopt the future default and silence this warning.\n",
      "  group_sizes = df.groupby(group_cols).size()\n",
      "\n",
      "\n",
      "100%|████████████████████████████████████████████| 1/1 [00:00<00:00,  3.69it/s]\u001b[A\n",
      "\n"
     ]
    },
    {
     "name": "stdout",
     "output_type": "stream",
     "text": [
      "Total files processed: 1"
     ]
    },
    {
     "name": "stderr",
     "output_type": "stream",
     "text": [
      "  0%|                                                    | 0/1 [00:00<?, ?it/s]"
     ]
    },
    {
     "name": "stdout",
     "output_type": "stream",
     "text": [
      "\n"
     ]
    },
    {
     "name": "stderr",
     "output_type": "stream",
     "text": [
      "100%|████████████████████████████████████████████| 1/1 [00:00<00:00,  3.32it/s]\n"
     ]
    },
    {
     "name": "stdout",
     "output_type": "stream",
     "text": [
      "Total files processed: 1"
     ]
    },
    {
     "name": "stderr",
     "output_type": "stream",
     "text": [
      "/w/hallb-scshelf2102/clas12/users/gmat/clas12/neutneut/analysis/neutron_ml/../../src/TrainData.py:84: FutureWarning: The default of observed=False is deprecated and will be changed to True in a future version of pandas. Pass observed=False to retain current behavior or observed=True to adopt the future default and silence this warning.\n",
      "  group_sizes = df.groupby(group_cols).size()\n"
     ]
    },
    {
     "name": "stdout",
     "output_type": "stream",
     "text": [
      "\n"
     ]
    },
    {
     "name": "stderr",
     "output_type": "stream",
     "text": [
      "/w/hallb-scshelf2102/clas12/users/gmat/clas12/neutneut/analysis/neutron_ml/../../src/TrainData.py:84: FutureWarning: The default of observed=False is deprecated and will be changed to True in a future version of pandas. Pass observed=False to retain current behavior or observed=True to adopt the future default and silence this warning.\n",
      "  group_sizes = df.groupby(group_cols).size()\n",
      "\n",
      "  0%|                                                    | 0/1 [00:00<?, ?it/s]\u001b[A\n",
      "  0%|                                                    | 0/1 [00:00<?, ?it/s]\u001b[A\n",
      "100%|███████████████████████████████████████| 197/197 [00:00<00:00, 199.62it/s]\u001b[A\n",
      "100%|███████████████████████████████████████| 198/198 [00:00<00:00, 199.31it/s]\n",
      "\n",
      "100%|████████████████████████████████████████████| 1/1 [00:00<00:00,  4.01it/s]\u001b[A\n"
     ]
    },
    {
     "name": "stdout",
     "output_type": "stream",
     "text": [
      "Total files processed: 1"
     ]
    },
    {
     "name": "stderr",
     "output_type": "stream",
     "text": [
      "100%|███████████████████████████████████████| 198/198 [00:00<00:00, 217.40it/s]"
     ]
    },
    {
     "name": "stdout",
     "output_type": "stream",
     "text": [
      "\n"
     ]
    },
    {
     "name": "stderr",
     "output_type": "stream",
     "text": [
      "\n",
      "100%|███████████████████████████████████████| 199/199 [00:01<00:00, 127.37it/s]/w/hallb-scshelf2102/clas12/users/gmat/clas12/neutneut/analysis/neutron_ml/../../src/TrainData.py:84: FutureWarning: The default of observed=False is deprecated and will be changed to True in a future version of pandas. Pass observed=False to retain current behavior or observed=True to adopt the future default and silence this warning.\n",
      "  group_sizes = df.groupby(group_cols).size()\n",
      "\n",
      "\n",
      "100%|███████████████████████████████████████| 198/198 [00:00<00:00, 223.98it/s]\u001b[A\n",
      "\n",
      "  0%|                                                    | 0/1 [00:00<?, ?it/s]\u001b[A\n",
      "  0%|                                                  | 0/195 [00:00<?, ?it/s]\u001b[A\n",
      "100%|███████████████████████████████████████| 195/195 [00:00<00:00, 210.45it/s]\u001b[A\n",
      "100%|███████████████████████████████████████| 194/194 [00:00<00:00, 248.18it/s]\n",
      "Processing CSV files:  67%|████████████▏     | 337/500 [00:20<00:07, 21.43it/s]\n",
      "  0%|                                                    | 0/1 [00:00<?, ?it/s]\u001b[A\n",
      "  0%|                                                    | 0/1 [00:00<?, ?it/s]\u001b[A\n",
      "  0%|                                                    | 0/1 [00:00<?, ?it/s]\u001b[A\n",
      "100%|████████████████████████████████████████████| 1/1 [00:00<00:00,  5.35it/s]\u001b[A\n",
      "Processing CSV files:  69%|████████████▎     | 343/500 [00:20<00:05, 26.50it/s]\u001b[A\n",
      " 17%|██████▉                                 | 34/195 [00:00<00:00, 333.30it/s]\u001b[A\n",
      "100%|████████████████████████████████████████████| 1/1 [00:00<00:00,  5.09it/s]\u001b[A\n",
      "  0%|                                                    | 0/1 [00:00<?, ?it/s]\u001b[A\n",
      "  0%|                                                    | 0/1 [00:00<?, ?it/s]\u001b[A\n",
      "  0%|                                                  | 0/196 [00:00<?, ?it/s]\u001b[A\n",
      "100%|████████████████████████████████████████████| 1/1 [00:00<00:00,  6.51it/s]\u001b[A\n",
      "100%|████████████████████████████████████████████| 1/1 [00:00<00:00,  4.86it/s]\u001b[A\n",
      "100%|████████████████████████████████████████████| 1/1 [00:00<00:00,  5.54it/s]\u001b[A\n",
      "100%|████████████████████████████████████████████| 1/1 [00:00<00:00,  4.92it/s]\u001b[A\n",
      "100%|████████████████████████████████████████████| 1/1 [00:00<00:00,  5.29it/s]\u001b[A\n",
      "100%|████████████████████████████████████████████| 1/1 [00:00<00:00,  5.16it/s]\u001b[A\n",
      "100%|████████████████████████████████████████████| 1/1 [00:00<00:00,  3.83it/s]\u001b[A\n"
     ]
    },
    {
     "name": "stdout",
     "output_type": "stream",
     "text": [
      "Total files processed: 1"
     ]
    },
    {
     "name": "stderr",
     "output_type": "stream",
     "text": [
      "\n",
      "  0%|                                                    | 0/1 [00:00<?, ?it/s]"
     ]
    },
    {
     "name": "stdout",
     "output_type": "stream",
     "text": [
      "\n"
     ]
    },
    {
     "name": "stderr",
     "output_type": "stream",
     "text": [
      "\u001b[A/w/hallb-scshelf2102/clas12/users/gmat/clas12/neutneut/analysis/neutron_ml/../../src/TrainData.py:84: FutureWarning: The default of observed=False is deprecated and will be changed to True in a future version of pandas. Pass observed=False to retain current behavior or observed=True to adopt the future default and silence this warning.\n",
      "  group_sizes = df.groupby(group_cols).size()\n",
      "\n",
      "  0%|                                                    | 0/1 [00:00<?, ?it/s]\u001b[A\n",
      "  0%|                                                    | 0/1 [00:00<?, ?it/s]\u001b[A\n",
      "  0%|                                                    | 0/1 [00:00<?, ?it/s]\u001b[A\n",
      "  0%|                                                    | 0/1 [00:00<?, ?it/s]\u001b[A\n",
      "100%|████████████████████████████████████████████| 1/1 [00:00<00:00,  3.51it/s]\u001b[A\n"
     ]
    },
    {
     "name": "stdout",
     "output_type": "stream",
     "text": [
      "Total files processed: 1"
     ]
    },
    {
     "name": "stderr",
     "output_type": "stream",
     "text": [
      "100%|████████████████████████████████████████████| 1/1 [00:00<00:00,  3.71it/s]"
     ]
    },
    {
     "name": "stdout",
     "output_type": "stream",
     "text": [
      "\n"
     ]
    },
    {
     "name": "stderr",
     "output_type": "stream",
     "text": [
      "\n",
      "100%|████████████████████████████████████████████| 1/1 [00:00<00:00,  2.97it/s]"
     ]
    },
    {
     "name": "stdout",
     "output_type": "stream",
     "text": [
      "Total files processed: 1"
     ]
    },
    {
     "name": "stderr",
     "output_type": "stream",
     "text": [
      "\n"
     ]
    },
    {
     "name": "stdout",
     "output_type": "stream",
     "text": [
      "\n"
     ]
    },
    {
     "name": "stderr",
     "output_type": "stream",
     "text": [
      "/w/hallb-scshelf2102/clas12/users/gmat/clas12/neutneut/analysis/neutron_ml/../../src/TrainData.py:84: FutureWarning: The default of observed=False is deprecated and will be changed to True in a future version of pandas. Pass observed=False to retain current behavior or observed=True to adopt the future default and silence this warning.\n",
      "  group_sizes = df.groupby(group_cols).size()\n",
      "\n"
     ]
    },
    {
     "name": "stdout",
     "output_type": "stream",
     "text": [
      "Total files processed: 1\n"
     ]
    },
    {
     "name": "stderr",
     "output_type": "stream",
     "text": [
      "  0%|                                                    | 0/1 [00:00<?, ?it/s]\u001b[A/w/hallb-scshelf2102/clas12/users/gmat/clas12/neutneut/analysis/neutron_ml/../../src/TrainData.py:84: FutureWarning: The default of observed=False is deprecated and will be changed to True in a future version of pandas. Pass observed=False to retain current behavior or observed=True to adopt the future default and silence this warning.\n",
      "  group_sizes = df.groupby(group_cols).size()\n",
      "100%|████████████████████████████████████████████| 1/1 [00:00<00:00,  4.01it/s]\n",
      "/w/hallb-scshelf2102/clas12/users/gmat/clas12/neutneut/analysis/neutron_ml/../../src/TrainData.py:84: FutureWarning: The default of observed=False is deprecated and will be changed to True in a future version of pandas. Pass observed=False to retain current behavior or observed=True to adopt the future default and silence this warning.\n",
      "  group_sizes = df.groupby(group_cols).size()\n"
     ]
    },
    {
     "name": "stdout",
     "output_type": "stream",
     "text": [
      "Total files processed: 1"
     ]
    },
    {
     "name": "stderr",
     "output_type": "stream",
     "text": [
      "\n",
      "  0%|                                                    | 0/1 [00:00<?, ?it/s]"
     ]
    },
    {
     "name": "stdout",
     "output_type": "stream",
     "text": [
      "\n"
     ]
    },
    {
     "name": "stderr",
     "output_type": "stream",
     "text": [
      "\u001b[A/w/hallb-scshelf2102/clas12/users/gmat/clas12/neutneut/analysis/neutron_ml/../../src/TrainData.py:84: FutureWarning: The default of observed=False is deprecated and will be changed to True in a future version of pandas. Pass observed=False to retain current behavior or observed=True to adopt the future default and silence this warning.\n",
      "  group_sizes = df.groupby(group_cols).size()\n",
      "\n",
      "100%|████████████████████████████████████████████| 1/1 [00:00<00:00,  5.25it/s]\u001b[A\n",
      "100%|████████████████████████████████████████████| 1/1 [00:00<00:00,  3.47it/s]\u001b[A\n"
     ]
    },
    {
     "name": "stdout",
     "output_type": "stream",
     "text": [
      "Total files processed: 1"
     ]
    },
    {
     "name": "stderr",
     "output_type": "stream",
     "text": [
      "100%|████████████████████████████████████████████| 1/1 [00:00<00:00,  3.67it/s]"
     ]
    },
    {
     "name": "stdout",
     "output_type": "stream",
     "text": [
      "\n"
     ]
    },
    {
     "name": "stderr",
     "output_type": "stream",
     "text": [
      "/w/hallb-scshelf2102/clas12/users/gmat/clas12/neutneut/analysis/neutron_ml/../../src/TrainData.py:84: FutureWarning: The default of observed=False is deprecated and will be changed to True in a future version of pandas. Pass observed=False to retain current behavior or observed=True to adopt the future default and silence this warning.\n",
      "  group_sizes = df.groupby(group_cols).size()\n",
      "\n",
      "100%|████████████████████████████████████████████| 1/1 [00:00<00:00,  3.54it/s]"
     ]
    },
    {
     "name": "stdout",
     "output_type": "stream",
     "text": [
      "Total files processed: 1"
     ]
    },
    {
     "name": "stderr",
     "output_type": "stream",
     "text": [
      "\n"
     ]
    },
    {
     "name": "stdout",
     "output_type": "stream",
     "text": [
      "\n",
      "Total files processed: 1"
     ]
    },
    {
     "name": "stderr",
     "output_type": "stream",
     "text": [
      "/w/hallb-scshelf2102/clas12/users/gmat/clas12/neutneut/analysis/neutron_ml/../../src/TrainData.py:84: FutureWarning: The default of observed=False is deprecated and will be changed to True in a future version of pandas. Pass observed=False to retain current behavior or observed=True to adopt the future default and silence this warning.\n",
      "  group_sizes = df.groupby(group_cols).size()\n",
      "\n",
      "100%|████████████████████████████████████████████| 1/1 [00:00<00:00,  3.54it/s]\u001b[A"
     ]
    },
    {
     "name": "stdout",
     "output_type": "stream",
     "text": [
      "\n"
     ]
    },
    {
     "name": "stderr",
     "output_type": "stream",
     "text": [
      "\n",
      "\n"
     ]
    },
    {
     "name": "stdout",
     "output_type": "stream",
     "text": [
      "Total files processed: 1"
     ]
    },
    {
     "name": "stderr",
     "output_type": "stream",
     "text": [
      "/w/hallb-scshelf2102/clas12/users/gmat/clas12/neutneut/analysis/neutron_ml/../../src/TrainData.py:84: FutureWarning: The default of observed=False is deprecated and will be changed to True in a future version of pandas. Pass observed=False to retain current behavior or observed=True to adopt the future default and silence this warning.\n",
      "  group_sizes = df.groupby(group_cols).size()\n"
     ]
    },
    {
     "name": "stdout",
     "output_type": "stream",
     "text": [
      "\n"
     ]
    },
    {
     "name": "stderr",
     "output_type": "stream",
     "text": [
      "100%|████████████████████████████████████████████| 1/1 [00:00<00:00,  4.74it/s]\u001b[A\n",
      "/w/hallb-scshelf2102/clas12/users/gmat/clas12/neutneut/analysis/neutron_ml/../../src/TrainData.py:84: FutureWarning: The default of observed=False is deprecated and will be changed to True in a future version of pandas. Pass observed=False to retain current behavior or observed=True to adopt the future default and silence this warning.\n",
      "  group_sizes = df.groupby(group_cols).size()\n",
      "  0%|                                                  | 0/196 [00:00<?, ?it/s]\u001b[A\n",
      "100%|████████████████████████████████████████████| 1/1 [00:00<00:00,  3.85it/s]\u001b[A\n",
      "\n"
     ]
    },
    {
     "name": "stdout",
     "output_type": "stream",
     "text": [
      "Total files processed: 1"
     ]
    },
    {
     "name": "stderr",
     "output_type": "stream",
     "text": [
      " 21%|████████▌                               | 42/196 [00:00<00:00, 411.99it/s]"
     ]
    },
    {
     "name": "stdout",
     "output_type": "stream",
     "text": [
      "\n"
     ]
    },
    {
     "name": "stderr",
     "output_type": "stream",
     "text": [
      "\u001b[A\n",
      "  0%|                                                    | 0/1 [00:00<?, ?it/s]\u001b[A/w/hallb-scshelf2102/clas12/users/gmat/clas12/neutneut/analysis/neutron_ml/../../src/TrainData.py:84: FutureWarning: The default of observed=False is deprecated and will be changed to True in a future version of pandas. Pass observed=False to retain current behavior or observed=True to adopt the future default and silence this warning.\n",
      "  group_sizes = df.groupby(group_cols).size()\n",
      "100%|████████████████████████████████████████████| 1/1 [00:00<00:00,  3.31it/s]\n",
      "\n",
      " 23%|█████████                               | 45/199 [00:00<00:00, 438.88it/s]\u001b[A"
     ]
    },
    {
     "name": "stdout",
     "output_type": "stream",
     "text": [
      "Total files processed: 1"
     ]
    },
    {
     "name": "stderr",
     "output_type": "stream",
     "text": [
      "\n"
     ]
    },
    {
     "name": "stdout",
     "output_type": "stream",
     "text": [
      "\n"
     ]
    },
    {
     "name": "stderr",
     "output_type": "stream",
     "text": [
      "  0%|                                                  | 0/197 [00:00<?, ?it/s]\u001b[A/w/hallb-scshelf2102/clas12/users/gmat/clas12/neutneut/analysis/neutron_ml/../../src/TrainData.py:84: FutureWarning: The default of observed=False is deprecated and will be changed to True in a future version of pandas. Pass observed=False to retain current behavior or observed=True to adopt the future default and silence this warning.\n",
      "  group_sizes = df.groupby(group_cols).size()\n",
      "\n",
      "100%|████████████████████████████████████████████| 1/1 [00:00<00:00,  6.26it/s]\u001b[A\n",
      "100%|████████████████████████████████████████████| 1/1 [00:00<00:00,  5.72it/s]\u001b[A\n",
      "  0%|                                                  | 0/197 [00:00<?, ?it/s]\u001b[A\n",
      "  0%|                                                    | 0/1 [00:00<?, ?it/s]\u001b[A\n",
      "100%|████████████████████████████████████████████| 1/1 [00:00<00:00,  4.16it/s]\u001b[A\n",
      "100%|████████████████████████████████████████████| 1/1 [00:00<00:00,  7.34it/s]\u001b[A\n",
      "100%|████████████████████████████████████████████| 1/1 [00:00<00:00,  5.52it/s]\u001b[A\n",
      " 51%|████████████████████▎                   | 99/195 [00:00<00:00, 283.10it/s]\u001b[A\n",
      "100%|████████████████████████████████████████████| 1/1 [00:00<00:00,  5.91it/s]\u001b[A\n",
      "100%|████████████████████████████████████████████| 1/1 [00:00<00:00,  5.97it/s]\u001b[A\n",
      " 16%|██████▌                                 | 32/196 [00:00<00:00, 315.82it/s]\u001b[A\n",
      "100%|████████████████████████████████████████████| 1/1 [00:00<00:00,  5.89it/s]\u001b[A\n",
      "100%|████████████████████████████████████████████| 1/1 [00:00<00:00,  5.68it/s]\u001b[A\n",
      "  0%|                                                  | 0/198 [00:00<?, ?it/s]\u001b[A\n",
      "  0%|                                                  | 0/196 [00:00<?, ?it/s]\u001b[A\n",
      "  0%|                                                    | 0/1 [00:00<?, ?it/s]\u001b[A\n",
      "  0%|                                                  | 0/199 [00:00<?, ?it/s]\u001b[A\n",
      "  0%|                                                  | 0/197 [00:00<?, ?it/s]\u001b[A\n",
      "100%|████████████████████████████████████████████| 1/1 [00:00<00:00,  2.68it/s]\u001b[A\n",
      "\n"
     ]
    },
    {
     "name": "stdout",
     "output_type": "stream",
     "text": [
      "Total files processed: 1"
     ]
    },
    {
     "name": "stderr",
     "output_type": "stream",
     "text": [
      "  0%|                                                  | 0/199 [00:00<?, ?it/s]\u001b[A"
     ]
    },
    {
     "name": "stdout",
     "output_type": "stream",
     "text": [
      "\n"
     ]
    },
    {
     "name": "stderr",
     "output_type": "stream",
     "text": [
      "\n",
      " 66%|█████████████████████████▌             | 128/195 [00:00<00:00, 265.35it/s]/w/hallb-scshelf2102/clas12/users/gmat/clas12/neutneut/analysis/neutron_ml/../../src/TrainData.py:84: FutureWarning: The default of observed=False is deprecated and will be changed to True in a future version of pandas. Pass observed=False to retain current behavior or observed=True to adopt the future default and silence this warning.\n",
      "  group_sizes = df.groupby(group_cols).size()\n",
      "\u001b[A\n",
      "100%|████████████████████████████████████████████| 1/1 [00:00<00:00,  4.70it/s]\u001b[A\n",
      "100%|████████████████████████████████████████████| 1/1 [00:00<00:00,  3.14it/s]\u001b[A\n"
     ]
    },
    {
     "name": "stdout",
     "output_type": "stream",
     "text": [
      "Total files processed: 1"
     ]
    },
    {
     "name": "stderr",
     "output_type": "stream",
     "text": [
      "100%|████████████████████████████████████████████| 1/1 [00:00<00:00,  2.53it/s]"
     ]
    },
    {
     "name": "stdout",
     "output_type": "stream",
     "text": [
      "\n"
     ]
    },
    {
     "name": "stderr",
     "output_type": "stream",
     "text": [
      "/w/hallb-scshelf2102/clas12/users/gmat/clas12/neutneut/analysis/neutron_ml/../../src/TrainData.py:84: FutureWarning: The default of observed=False is deprecated and will be changed to True in a future version of pandas. Pass observed=False to retain current behavior or observed=True to adopt the future default and silence this warning.\n",
      "  group_sizes = df.groupby(group_cols).size()\n",
      "\n",
      "100%|████████████████████████████████████████████| 1/1 [00:00<00:00,  2.42it/s]"
     ]
    },
    {
     "name": "stdout",
     "output_type": "stream",
     "text": [
      "Total files processed: 1\n"
     ]
    },
    {
     "name": "stderr",
     "output_type": "stream",
     "text": [
      "\n",
      "\n"
     ]
    },
    {
     "name": "stdout",
     "output_type": "stream",
     "text": [
      "Total files processed: 1"
     ]
    },
    {
     "name": "stderr",
     "output_type": "stream",
     "text": [
      "/w/hallb-scshelf2102/clas12/users/gmat/clas12/neutneut/analysis/neutron_ml/../../src/TrainData.py:84: FutureWarning: The default of observed=False is deprecated and will be changed to True in a future version of pandas. Pass observed=False to retain current behavior or observed=True to adopt the future default and silence this warning.\n",
      "  group_sizes = df.groupby(group_cols).size()\n"
     ]
    },
    {
     "name": "stdout",
     "output_type": "stream",
     "text": [
      "\n"
     ]
    },
    {
     "name": "stderr",
     "output_type": "stream",
     "text": [
      "/w/hallb-scshelf2102/clas12/users/gmat/clas12/neutneut/analysis/neutron_ml/../../src/TrainData.py:84: FutureWarning: The default of observed=False is deprecated and will be changed to True in a future version of pandas. Pass observed=False to retain current behavior or observed=True to adopt the future default and silence this warning.\n",
      "  group_sizes = df.groupby(group_cols).size()\n",
      "100%|████████████████████████████████████████████| 1/1 [00:00<00:00,  4.83it/s]\u001b[A\n",
      "100%|████████████████████████████████████████████| 1/1 [00:00<00:00,  4.47it/s]\u001b[A\n",
      " 45%|█████████████████▉                      | 89/199 [00:00<00:00, 286.68it/s]\u001b[A\n",
      "100%|████████████████████████████████████████████| 1/1 [00:00<00:00,  1.75it/s]\u001b[A\n",
      "\n"
     ]
    },
    {
     "name": "stdout",
     "output_type": "stream",
     "text": [
      "Total files processed: 1"
     ]
    },
    {
     "name": "stderr",
     "output_type": "stream",
     "text": [
      "  0%|                                                  | 0/198 [00:00<?, ?it/s]"
     ]
    },
    {
     "name": "stdout",
     "output_type": "stream",
     "text": [
      "\n"
     ]
    },
    {
     "name": "stderr",
     "output_type": "stream",
     "text": [
      "100%|████████████████████████████████████████████| 1/1 [00:00<00:00,  3.20it/s]/w/hallb-scshelf2102/clas12/users/gmat/clas12/neutneut/analysis/neutron_ml/../../src/TrainData.py:84: FutureWarning: The default of observed=False is deprecated and will be changed to True in a future version of pandas. Pass observed=False to retain current behavior or observed=True to adopt the future default and silence this warning.\n",
      "  group_sizes = df.groupby(group_cols).size()\n",
      "\n",
      "\n"
     ]
    },
    {
     "name": "stdout",
     "output_type": "stream",
     "text": [
      "Total files processed: 1"
     ]
    },
    {
     "name": "stderr",
     "output_type": "stream",
     "text": [
      " 23%|█████████▏                              | 45/197 [00:00<00:00, 440.50it/s]"
     ]
    },
    {
     "name": "stdout",
     "output_type": "stream",
     "text": [
      "\n"
     ]
    },
    {
     "name": "stderr",
     "output_type": "stream",
     "text": [
      "100%|████████████████████████████████████████████| 1/1 [00:00<00:00,  2.54it/s]/w/hallb-scshelf2102/clas12/users/gmat/clas12/neutneut/analysis/neutron_ml/../../src/TrainData.py:84: FutureWarning: The default of observed=False is deprecated and will be changed to True in a future version of pandas. Pass observed=False to retain current behavior or observed=True to adopt the future default and silence this warning.\n",
      "  group_sizes = df.groupby(group_cols).size()\n",
      "\n",
      "\n"
     ]
    },
    {
     "name": "stdout",
     "output_type": "stream",
     "text": [
      "Total files processed: 1"
     ]
    },
    {
     "name": "stderr",
     "output_type": "stream",
     "text": [
      " 21%|████████▎                               | 41/197 [00:00<00:00, 400.30it/s]"
     ]
    },
    {
     "name": "stdout",
     "output_type": "stream",
     "text": [
      "\n"
     ]
    },
    {
     "name": "stderr",
     "output_type": "stream",
     "text": [
      "100%|████████████████████████████████████████████| 1/1 [00:00<00:00,  2.53it/s]\n",
      "/w/hallb-scshelf2102/clas12/users/gmat/clas12/neutneut/analysis/neutron_ml/../../src/TrainData.py:84: FutureWarning: The default of observed=False is deprecated and will be changed to True in a future version of pandas. Pass observed=False to retain current behavior or observed=True to adopt the future default and silence this warning.\n",
      "  group_sizes = df.groupby(group_cols).size()\n",
      "100%|████████████████████████████████████████████| 1/1 [00:00<00:00,  2.59it/s]"
     ]
    },
    {
     "name": "stdout",
     "output_type": "stream",
     "text": [
      "Total files processed: 1\n"
     ]
    },
    {
     "name": "stderr",
     "output_type": "stream",
     "text": [
      "\n"
     ]
    },
    {
     "name": "stdout",
     "output_type": "stream",
     "text": [
      "Total files processed: 1"
     ]
    },
    {
     "name": "stderr",
     "output_type": "stream",
     "text": [
      "\n",
      "/w/hallb-scshelf2102/clas12/users/gmat/clas12/neutneut/analysis/neutron_ml/../../src/TrainData.py:84: FutureWarning: The default of observed=False is deprecated and will be changed to True in a future version of pandas. Pass observed=False to retain current behavior or observed=True to adopt the future default and silence this warning.\n",
      "  group_sizes = df.groupby(group_cols).size()\n"
     ]
    },
    {
     "name": "stdout",
     "output_type": "stream",
     "text": [
      "\n"
     ]
    },
    {
     "name": "stderr",
     "output_type": "stream",
     "text": [
      "100%|████████████████████████████████████████████| 1/1 [00:00<00:00,  5.05it/s]\u001b[A\n",
      "/w/hallb-scshelf2102/clas12/users/gmat/clas12/neutneut/analysis/neutron_ml/../../src/TrainData.py:84: FutureWarning: The default of observed=False is deprecated and will be changed to True in a future version of pandas. Pass observed=False to retain current behavior or observed=True to adopt the future default and silence this warning.\n",
      "  group_sizes = df.groupby(group_cols).size()\n",
      " 33%|█████████████                           | 64/196 [00:00<00:00, 248.30it/s]\u001b[A\n",
      "\n",
      " 20%|███████▉                                | 39/196 [00:00<00:00, 385.42it/s]\u001b[A\u001b[A\n",
      " 18%|███████                                 | 35/197 [00:00<00:00, 349.88it/s]\u001b[A\n",
      "100%|████████████████████████████████████████████| 1/1 [00:00<00:00,  2.25it/s]\u001b[A\n",
      "\n",
      " 85%|█████████████████████████████████      | 165/195 [00:00<00:00, 297.82it/s]\u001b[A\n"
     ]
    },
    {
     "name": "stdout",
     "output_type": "stream",
     "text": [
      "Total files processed: 1"
     ]
    },
    {
     "name": "stderr",
     "output_type": "stream",
     "text": [
      "100%|████████████████████████████████████████████| 1/1 [00:00<00:00,  5.27it/s]"
     ]
    },
    {
     "name": "stdout",
     "output_type": "stream",
     "text": [
      "\n"
     ]
    },
    {
     "name": "stderr",
     "output_type": "stream",
     "text": [
      "100%|████████████████████████████████████████████| 1/1 [00:00<00:00,  2.03it/s]\n"
     ]
    },
    {
     "name": "stdout",
     "output_type": "stream",
     "text": [
      "Total files processed: 1"
     ]
    },
    {
     "name": "stderr",
     "output_type": "stream",
     "text": [
      "100%|████████████████████████████████████████████| 1/1 [00:00<00:00,  2.19it/s]/w/hallb-scshelf2102/clas12/users/gmat/clas12/neutneut/analysis/neutron_ml/../../src/TrainData.py:84: FutureWarning: The default of observed=False is deprecated and will be changed to True in a future version of pandas. Pass observed=False to retain current behavior or observed=True to adopt the future default and silence this warning.\n",
      "  group_sizes = df.groupby(group_cols).size()\n"
     ]
    },
    {
     "name": "stdout",
     "output_type": "stream",
     "text": [
      "\n"
     ]
    },
    {
     "name": "stderr",
     "output_type": "stream",
     "text": [
      "/w/hallb-scshelf2102/clas12/users/gmat/clas12/neutneut/analysis/neutron_ml/../../src/TrainData.py:84: FutureWarning: The default of observed=False is deprecated and will be changed to True in a future version of pandas. Pass observed=False to retain current behavior or observed=True to adopt the future default and silence this warning.\n",
      "  group_sizes = df.groupby(group_cols).size()\n",
      "\n",
      "\n"
     ]
    },
    {
     "name": "stdout",
     "output_type": "stream",
     "text": [
      "Total files processed: 1\n"
     ]
    },
    {
     "name": "stderr",
     "output_type": "stream",
     "text": [
      "/w/hallb-scshelf2102/clas12/users/gmat/clas12/neutneut/analysis/neutron_ml/../../src/TrainData.py:84: FutureWarning: The default of observed=False is deprecated and will be changed to True in a future version of pandas. Pass observed=False to retain current behavior or observed=True to adopt the future default and silence this warning.\n",
      "  group_sizes = df.groupby(group_cols).size()\n",
      "100%|████████████████████████████████████████████| 1/1 [00:00<00:00,  1.85it/s]\u001b[A\n"
     ]
    },
    {
     "name": "stdout",
     "output_type": "stream",
     "text": [
      "Total files processed: 1"
     ]
    },
    {
     "name": "stderr",
     "output_type": "stream",
     "text": [
      "\n"
     ]
    },
    {
     "name": "stdout",
     "output_type": "stream",
     "text": [
      "\n"
     ]
    },
    {
     "name": "stderr",
     "output_type": "stream",
     "text": [
      "  0%|                                                  | 0/197 [00:00<?, ?it/s]\u001b[A\n",
      "/w/hallb-scshelf2102/clas12/users/gmat/clas12/neutneut/analysis/neutron_ml/../../src/TrainData.py:84: FutureWarning: The default of observed=False is deprecated and will be changed to True in a future version of pandas. Pass observed=False to retain current behavior or observed=True to adopt the future default and silence this warning.\n",
      "  group_sizes = df.groupby(group_cols).size()\n",
      "100%|████████████████████████████████████████████| 1/1 [00:00<00:00,  2.01it/s]\u001b[A\n",
      "\n"
     ]
    },
    {
     "name": "stdout",
     "output_type": "stream",
     "text": [
      "Total files processed: 1\n"
     ]
    },
    {
     "name": "stderr",
     "output_type": "stream",
     "text": [
      "  0%|                                                  | 0/197 [00:00<?, ?it/s]\u001b[A\n",
      "  0%|                                                  | 0/200 [00:00<?, ?it/s]/w/hallb-scshelf2102/clas12/users/gmat/clas12/neutneut/analysis/neutron_ml/../../src/TrainData.py:84: FutureWarning: The default of observed=False is deprecated and will be changed to True in a future version of pandas. Pass observed=False to retain current behavior or observed=True to adopt the future default and silence this warning.\n",
      "  group_sizes = df.groupby(group_cols).size()\n",
      "\u001b[A\n",
      " 16%|██████▏                                 | 31/199 [00:00<00:00, 306.37it/s]\u001b[A\n",
      " 43%|█████████████████▏                      | 84/196 [00:00<00:00, 158.68it/s]\u001b[A\n",
      " 18%|███████▎                                | 36/198 [00:00<00:00, 358.71it/s]\u001b[A\n",
      " 42%|████████████████▋                       | 82/197 [00:00<00:00, 257.68it/s]\u001b[A\n",
      " 46%|██████████████████▎                     | 90/196 [00:00<00:00, 197.45it/s]\u001b[A\n",
      "100%|████████████████████████████████████████████| 1/1 [00:00<00:00,  2.23it/s]\u001b[A\n"
     ]
    },
    {
     "name": "stdout",
     "output_type": "stream",
     "text": [
      "Total files processed: 1"
     ]
    },
    {
     "name": "stderr",
     "output_type": "stream",
     "text": [
      "\n"
     ]
    },
    {
     "name": "stdout",
     "output_type": "stream",
     "text": [
      "\n"
     ]
    },
    {
     "name": "stderr",
     "output_type": "stream",
     "text": [
      " 46%|██████████████████▎                     | 90/197 [00:00<00:00, 245.23it/s]\u001b[A/w/hallb-scshelf2102/clas12/users/gmat/clas12/neutneut/analysis/neutron_ml/../../src/TrainData.py:84: FutureWarning: The default of observed=False is deprecated and will be changed to True in a future version of pandas. Pass observed=False to retain current behavior or observed=True to adopt the future default and silence this warning.\n",
      "  group_sizes = df.groupby(group_cols).size()\n",
      "\n",
      " 55%|█████████████████████▍                 | 108/196 [00:00<00:00, 163.31it/s]\u001b[A\n",
      " 36%|██████████████▏                         | 70/197 [00:00<00:00, 253.67it/s]\u001b[A\n",
      "100%|████████████████████████████████████████████| 1/1 [00:00<00:00,  1.68it/s]\u001b[A\n"
     ]
    },
    {
     "name": "stdout",
     "output_type": "stream",
     "text": [
      "Total files processed: 1"
     ]
    },
    {
     "name": "stderr",
     "output_type": "stream",
     "text": [
      "\n"
     ]
    },
    {
     "name": "stdout",
     "output_type": "stream",
     "text": [
      "\n"
     ]
    },
    {
     "name": "stderr",
     "output_type": "stream",
     "text": [
      "  0%|                                                  | 0/199 [00:00<?, ?it/s]\u001b[A/w/hallb-scshelf2102/clas12/users/gmat/clas12/neutneut/analysis/neutron_ml/../../src/TrainData.py:84: FutureWarning: The default of observed=False is deprecated and will be changed to True in a future version of pandas. Pass observed=False to retain current behavior or observed=True to adopt the future default and silence this warning.\n",
      "  group_sizes = df.groupby(group_cols).size()\n",
      "\n",
      "100%|████████████████████████████████████████████| 1/1 [00:00<00:00,  2.26it/s]\u001b[A\n",
      "\n"
     ]
    },
    {
     "name": "stdout",
     "output_type": "stream",
     "text": [
      "Total files processed: 1"
     ]
    },
    {
     "name": "stderr",
     "output_type": "stream",
     "text": [
      "  0%|                                                  | 0/198 [00:00<?, ?it/s]\u001b[A"
     ]
    },
    {
     "name": "stdout",
     "output_type": "stream",
     "text": [
      "\n"
     ]
    },
    {
     "name": "stderr",
     "output_type": "stream",
     "text": [
      "\n",
      "/w/hallb-scshelf2102/clas12/users/gmat/clas12/neutneut/analysis/neutron_ml/../../src/TrainData.py:84: FutureWarning: The default of observed=False is deprecated and will be changed to True in a future version of pandas. Pass observed=False to retain current behavior or observed=True to adopt the future default and silence this warning.\n",
      "  group_sizes = df.groupby(group_cols).size()\n",
      " 37%|██████████████▉                         | 74/198 [00:00<00:00, 252.75it/s]\u001b[A\n",
      "  0%|                                                  | 0/198 [00:00<?, ?it/s]\u001b[A\n",
      " 16%|██████▌                                  | 32/199 [00:00<00:01, 98.97it/s]\u001b[A\n",
      " 73%|████████████████████████████▌          | 146/199 [00:00<00:00, 210.79it/s]\u001b[A\n",
      "  0%|                                                  | 0/198 [00:00<?, ?it/s]\u001b[A\n",
      " 57%|██████████████████████                 | 111/196 [00:00<00:00, 197.68it/s]\u001b[A\n",
      " 17%|██████▉                                 | 34/197 [00:00<00:00, 334.28it/s]\u001b[A\n",
      " 21%|████████▎                               | 41/197 [00:00<00:00, 408.89it/s]\u001b[A\n",
      "  0%|                                                  | 0/196 [00:00<?, ?it/s]\u001b[A\n",
      "100%|███████████████████████████████████████| 195/195 [00:00<00:00, 204.42it/s]\u001b[A\n",
      "\n",
      " 26%|██████████▍                             | 52/200 [00:00<00:00, 519.83it/s]\u001b[A\n",
      " 61%|███████████████████████▊               | 120/197 [00:00<00:00, 225.33it/s]\u001b[A\n",
      " 23%|█████████▍                              | 46/196 [00:00<00:00, 458.72it/s]\u001b[A\n",
      " 72%|████████████████████████████▎          | 142/196 [00:00<00:00, 205.39it/s]\u001b[A\n",
      " 49%|███████████████████▋                    | 97/197 [00:00<00:00, 201.69it/s]\u001b[A\n",
      " 42%|████████████████▋                       | 82/197 [00:00<00:00, 244.06it/s]\u001b[A\n",
      " 22%|████████▊                               | 44/199 [00:00<00:00, 430.61it/s]\u001b[A\n",
      " 40%|███████████████▉                        | 78/196 [00:00<00:00, 144.44it/s]\u001b[A\n",
      " 21%|████████▋                                | 42/199 [00:00<00:01, 84.03it/s]\u001b[A\n",
      " 24%|█████████▍                              | 47/199 [00:00<00:00, 465.17it/s]\u001b[A\n",
      " 52%|████████████████████                   | 102/198 [00:00<00:00, 191.56it/s]\u001b[A\n",
      " 22%|████████▌                               | 42/195 [00:00<00:00, 412.51it/s]\u001b[A\n",
      " 42%|████████████████▉                       | 84/198 [00:00<00:00, 149.15it/s]\u001b[A\n",
      " 20%|████████                                | 40/198 [00:00<00:00, 393.50it/s]\u001b[A\n",
      " 85%|█████████████████████████████████      | 169/199 [00:00<00:00, 178.01it/s]\u001b[A\n",
      " 23%|█████████▎                              | 46/198 [00:00<00:00, 459.62it/s]\u001b[A\n",
      " 67%|██████████████████████████▎            | 132/196 [00:00<00:00, 160.59it/s]\u001b[A\n",
      "100%|████████████████████████████████████████████| 1/1 [00:00<00:00,  1.50it/s]\u001b[A\n"
     ]
    },
    {
     "name": "stdout",
     "output_type": "stream",
     "text": [
      "Total files processed: 1"
     ]
    },
    {
     "name": "stderr",
     "output_type": "stream",
     "text": [
      "\n",
      "  0%|                                                  | 0/199 [00:00<?, ?it/s]"
     ]
    },
    {
     "name": "stdout",
     "output_type": "stream",
     "text": [
      "\n"
     ]
    },
    {
     "name": "stderr",
     "output_type": "stream",
     "text": [
      "\u001b[A\n",
      " 35%|█████████████▊                          | 68/197 [00:00<00:00, 208.38it/s]/w/hallb-scshelf2102/clas12/users/gmat/clas12/neutneut/analysis/neutron_ml/../../src/TrainData.py:84: FutureWarning: The default of observed=False is deprecated and will be changed to True in a future version of pandas. Pass observed=False to retain current behavior or observed=True to adopt the future default and silence this warning.\n",
      "  group_sizes = df.groupby(group_cols).size()\n",
      "\u001b[A\n",
      " 21%|████████▍                               | 42/198 [00:00<00:00, 419.85it/s]\u001b[A\n",
      " 31%|████████████▍                           | 62/199 [00:00<00:00, 181.11it/s]\u001b[A\n",
      " 36%|██████████████▌                         | 72/198 [00:00<00:00, 139.57it/s]\u001b[A\n",
      " 22%|████████▉                               | 44/196 [00:00<00:00, 436.77it/s]\u001b[A\n",
      " 74%|████████████████████████████▋          | 145/197 [00:00<00:00, 182.15it/s]\u001b[A\n",
      " 56%|█████████████████████▉                 | 111/197 [00:00<00:00, 140.08it/s]\u001b[A\n",
      " 86%|█████████████████████████████████▍     | 168/196 [00:00<00:00, 182.18it/s]\u001b[A\n",
      " 21%|████████▎                               | 41/196 [00:00<00:00, 407.39it/s]\u001b[A\n",
      " 60%|███████████████████████▌               | 119/197 [00:00<00:00, 165.37it/s]\u001b[A\n",
      " 25%|██████████▎                              | 50/199 [00:00<00:02, 72.39it/s]\u001b[A\n",
      "  0%|                                                  | 0/194 [00:00<?, ?it/s]\u001b[A\n",
      " 52%|████████████████████▎                  | 104/200 [00:00<00:00, 257.95it/s]\u001b[A\n",
      " 51%|███████████████████▉                   | 100/196 [00:00<00:00, 137.82it/s]\u001b[A\n",
      " 47%|██████████████████▊                     | 92/196 [00:00<00:00, 250.92it/s]\u001b[A\n",
      "  0%|                                                  | 0/194 [00:00<?, ?it/s]\u001b[A\n",
      "  0%|                                                  | 0/197 [00:00<?, ?it/s]\u001b[A\n",
      " 63%|████████████████████████▍              | 124/198 [00:00<00:00, 158.98it/s]\u001b[A\n",
      " 94%|████████████████████████████████████▊  | 188/199 [00:01<00:00, 152.46it/s]\u001b[A\n",
      " 64%|█████████████████████████▏             | 127/197 [00:00<00:00, 311.76it/s]\u001b[A\n",
      "  0%|                                                  | 0/200 [00:00<?, ?it/s]\u001b[A\n",
      " 55%|█████████████████████▎                 | 108/198 [00:00<00:00, 139.26it/s]\u001b[A\n",
      " 44%|█████████████████▋                      | 88/199 [00:00<00:00, 257.98it/s]\u001b[A\n",
      " 77%|█████████████████████████████▊         | 150/196 [00:00<00:00, 142.33it/s]\u001b[A\n",
      "  0%|                                                  | 0/197 [00:00<?, ?it/s]\u001b[A\n",
      " 47%|██████████████████▉                     | 94/199 [00:00<00:00, 254.55it/s]\u001b[A\n",
      " 43%|█████████████████▏                      | 84/195 [00:00<00:00, 236.20it/s]\u001b[A\n",
      " 40%|████████████████▏                       | 80/198 [00:00<00:00, 230.02it/s]\u001b[A\n",
      " 47%|██████████████████▋                     | 92/197 [00:00<00:00, 177.02it/s]\u001b[A\n",
      " 42%|█████████████████                        | 83/199 [00:00<00:01, 97.89it/s]\u001b[A\n",
      " 47%|██████████████████▊                     | 93/198 [00:00<00:00, 141.38it/s]\u001b[A\n",
      " 84%|████████████████████████████████▋      | 165/197 [00:00<00:00, 172.25it/s]\u001b[A\n",
      " 29%|███████████▋                             | 57/199 [00:00<00:02, 69.51it/s]\u001b[A\n",
      " 66%|█████████████████████████▉             | 131/197 [00:00<00:00, 141.03it/s]\u001b[A\n",
      "Processing CSV files:  70%|████████████▋     | 351/500 [00:22<00:10, 14.26it/s]\u001b[A\n",
      " 46%|██████████████████▌                     | 92/198 [00:00<00:00, 264.87it/s]\u001b[A\n",
      " 97%|█████████████████████████████████████▊ | 190/196 [00:01<00:00, 174.81it/s]\u001b[A\n",
      " 22%|████████▉                               | 44/196 [00:00<00:00, 430.11it/s]\u001b[A\n",
      "  0%|                                                  | 0/198 [00:00<?, ?it/s]\u001b[A\n",
      " 70%|███████████████████████████            | 137/197 [00:00<00:00, 152.62it/s]\u001b[A\n",
      " 23%|█████████                               | 45/199 [00:00<00:00, 442.56it/s]\u001b[A\n",
      " 42%|████████████████▉                       | 84/198 [00:00<00:00, 260.98it/s]\u001b[A\n",
      " 60%|███████████████████████▍               | 118/196 [00:00<00:00, 135.24it/s]\u001b[A\n",
      " 45%|█████████████████▉                      | 88/196 [00:00<00:00, 289.46it/s]\u001b[A\n",
      " 72%|███████████████████████████▉           | 142/198 [00:00<00:00, 154.88it/s]\u001b[A\n",
      " 42%|████████████████▋                       | 82/196 [00:00<00:00, 267.46it/s]\u001b[A\n",
      " 64%|█████████████████████████              | 127/198 [00:00<00:00, 141.46it/s]\u001b[A\n",
      " 68%|██████████████████████████▋            | 137/200 [00:00<00:00, 231.07it/s]\u001b[A\n",
      " 85%|█████████████████████████████████      | 166/196 [00:01<00:00, 136.72it/s]\u001b[A\n",
      " 63%|████████████████████████▍              | 123/196 [00:00<00:00, 213.96it/s]\u001b[A\n",
      " 22%|████████▋                               | 42/194 [00:00<00:00, 415.03it/s]\u001b[A\n",
      " 59%|███████████████████████▏               | 118/199 [00:00<00:00, 229.41it/s]\u001b[A\n",
      " 83%|████████████████████████████████▎      | 163/197 [00:00<00:00, 266.77it/s]\u001b[A\n",
      " 23%|█████████                               | 44/194 [00:00<00:00, 432.83it/s]\u001b[A\n",
      " 21%|████████▌                               | 42/197 [00:00<00:00, 419.69it/s]\u001b[A\n",
      " 57%|██████████████████████▏                | 112/197 [00:00<00:00, 173.25it/s]\u001b[A\n",
      " 32%|█████████████▏                           | 64/199 [00:00<00:02, 66.84it/s]\u001b[A\n",
      "  0%|                                                    | 0/1 [00:00<?, ?it/s]\u001b[A\n",
      " 49%|███████████████████▍                    | 97/199 [00:00<00:01, 100.56it/s]\u001b[A\n",
      " 57%|██████████████████████▍                | 112/195 [00:00<00:00, 218.78it/s]\u001b[A\n",
      " 63%|████████████████████████▍              | 125/199 [00:00<00:00, 236.02it/s]\u001b[A\n",
      " 20%|████████▏                               | 41/200 [00:00<00:00, 409.32it/s]\u001b[A\n",
      " 54%|█████████████████████                  | 107/198 [00:00<00:00, 211.86it/s]\u001b[A\n",
      " 56%|█████████████████████▊                 | 111/198 [00:00<00:00, 138.00it/s]\u001b[A\n",
      "100%|███████████████████████████████████████| 199/199 [00:01<00:00, 154.54it/s]\u001b[A\n",
      "\n",
      "  0%|                                                  | 0/198 [00:00<?, ?it/s]\u001b[A\n",
      " 76%|█████████████████████████████▍         | 149/197 [00:01<00:00, 137.64it/s]\u001b[A\n",
      " 21%|████████▎                               | 41/197 [00:00<00:00, 401.97it/s]\u001b[A\n",
      " 78%|██████████████████████████████▎        | 153/197 [00:01<00:00, 141.03it/s]\u001b[A\n",
      " 80%|███████████████████████████████▎       | 159/198 [00:01<00:00, 153.24it/s]\u001b[A\n",
      " 68%|██████████████████████████▋            | 134/196 [00:01<00:00, 132.28it/s]\u001b[A\n",
      " 73%|████████████████████████████▎          | 144/198 [00:01<00:00, 143.36it/s]\u001b[A\n",
      " 62%|████████████████████████▏              | 123/198 [00:00<00:00, 220.80it/s]\u001b[A\n",
      " 92%|████████████████████████████████████   | 181/196 [00:01<00:00, 134.12it/s]\u001b[A\n",
      " 58%|██████████████████████▍                | 114/198 [00:00<00:00, 221.57it/s]\u001b[A\n",
      " 61%|███████████████████████▉               | 120/196 [00:00<00:00, 244.12it/s]\u001b[A\n",
      " 57%|██████████████████████▎                | 112/196 [00:00<00:00, 240.57it/s]\u001b[A\n",
      " 82%|███████████████████████████████▉       | 164/200 [00:00<00:00, 218.10it/s]\u001b[A\n",
      " 23%|█████████▏                              | 46/199 [00:00<00:00, 459.76it/s]\u001b[A\n",
      " 76%|█████████████████████████████▍         | 148/196 [00:00<00:00, 207.13it/s]\u001b[A\n",
      " 45%|██████████████████                      | 90/199 [00:00<00:00, 286.13it/s]\u001b[A\n",
      " 45%|█████████████████▉                      | 88/196 [00:00<00:00, 263.99it/s]\u001b[A\n",
      " 23%|█████████▎                              | 46/198 [00:00<00:00, 457.44it/s]\u001b[A\n",
      " 72%|████████████████████████████           | 143/199 [00:00<00:00, 214.29it/s]\u001b[A\n",
      " 41%|████████████████▍                       | 82/200 [00:00<00:00, 257.77it/s]\u001b[A\n",
      " 36%|██████████████▋                          | 71/199 [00:01<00:02, 63.69it/s]\u001b[A\n",
      " 43%|█████████████████▎                      | 84/194 [00:00<00:00, 308.98it/s]\u001b[A\n",
      " 55%|██████████████████████                  | 110/199 [00:01<00:00, 99.21it/s]\u001b[A\n",
      " 98%|██████████████████████████████████████▏| 193/197 [00:00<00:00, 244.61it/s]\u001b[A\n",
      " 66%|█████████████████████████▉             | 131/197 [00:00<00:00, 155.93it/s]\u001b[A\n",
      " 64%|█████████████████████████              | 127/198 [00:00<00:00, 130.03it/s]\u001b[A\n",
      " 70%|███████████████████████████▏           | 136/195 [00:00<00:00, 192.47it/s]\u001b[A\n",
      " 87%|██████████████████████████████████     | 171/196 [00:00<00:00, 189.86it/s]\u001b[A\n",
      " 43%|█████████████████                       | 84/197 [00:00<00:00, 287.50it/s]\u001b[A\n",
      " 76%|█████████████████████████████▊         | 152/199 [00:00<00:00, 206.97it/s]\u001b[A\n",
      " 45%|██████████████████▏                     | 88/194 [00:00<00:00, 296.30it/s]\u001b[A\n",
      " 84%|████████████████████████████████▋      | 165/197 [00:01<00:00, 128.36it/s]\u001b[A\n",
      " 85%|█████████████████████████████████▎     | 168/197 [00:01<00:00, 131.43it/s]\u001b[A\n",
      " 76%|█████████████████████████████▋         | 149/196 [00:01<00:00, 127.38it/s]\u001b[A\n",
      " 88%|██████████████████████████████████▍    | 175/198 [00:01<00:00, 143.00it/s]\u001b[A\n",
      " 81%|███████████████████████████████▋       | 161/198 [00:01<00:00, 141.44it/s]\u001b[A\n",
      "100%|███████████████████████████████████████| 196/196 [00:01<00:00, 135.37it/s]\u001b[A\n",
      "\n",
      "\n",
      " 21%|████████▎                               | 41/198 [00:00<00:00, 404.49it/s]\u001b[A\u001b[A\n",
      " 70%|███████████████████████████▍           | 139/198 [00:00<00:00, 202.26it/s]\u001b[A\n",
      " 75%|█████████████████████████████▎         | 147/196 [00:00<00:00, 224.69it/s]\u001b[A\n",
      " 42%|████████████████▋                       | 82/197 [00:00<00:00, 256.08it/s]\u001b[A\n",
      " 39%|████████████████                         | 78/199 [00:01<00:01, 63.14it/s]\u001b[A\n",
      " 94%|████████████████████████████████████▋  | 188/200 [00:00<00:00, 200.92it/s]\u001b[A\n",
      "100%|███████████████████████████████████████| 197/197 [00:01<00:00, 154.02it/s]\u001b[A\n",
      "\n",
      " 66%|█████████████████████████▌             | 130/198 [00:00<00:00, 184.66it/s]\u001b[A\n",
      " 83%|████████████████████████████████▌      | 166/199 [00:00<00:00, 197.76it/s]\u001b[A\n",
      " 61%|████████████████████████▌               | 122/199 [00:01<00:00, 98.02it/s]\u001b[A\n",
      " 61%|███████████████████████▉               | 122/199 [00:00<00:00, 243.83it/s]\u001b[A\n",
      " 60%|███████████████████████▍               | 118/196 [00:00<00:00, 227.05it/s]\u001b[A\n",
      " 72%|███████████████████████████▉           | 142/198 [00:01<00:00, 127.25it/s]\u001b[A\n",
      " 75%|█████████████████████████████▎         | 148/197 [00:00<00:00, 145.42it/s]\u001b[A\n",
      " 46%|██████████████████▍                     | 92/199 [00:00<00:00, 297.06it/s]\u001b[A\n",
      " 81%|███████████████████████████████▍       | 157/195 [00:00<00:00, 179.81it/s]\u001b[A\n",
      " 91%|███████████████████████████████████▍   | 179/197 [00:01<00:00, 123.41it/s]\u001b[A\n",
      " 76%|█████████████████████████████▌         | 150/198 [00:00<00:00, 147.57it/s]\u001b[A\n",
      " 62%|████████████████████████▏              | 124/200 [00:00<00:00, 313.10it/s]\u001b[A\n",
      " 92%|████████████████████████████████████   | 182/197 [00:01<00:00, 124.16it/s]\u001b[A\n",
      " 46%|██████████████████▌                     | 92/198 [00:00<00:00, 287.23it/s]\u001b[A\n",
      " 60%|███████████████████████▌               | 117/194 [00:00<00:00, 245.03it/s]\u001b[A\n",
      "100%|████████████████████████████████████████████| 1/1 [00:00<00:00,  4.85it/s]\u001b[A\n",
      " 83%|████████████████████████████████▍      | 163/196 [00:01<00:00, 121.95it/s]\u001b[A\n",
      " 88%|██████████████████████████████████▎    | 175/199 [00:00<00:00, 189.78it/s]\u001b[A\n",
      " 96%|█████████████████████████████████████▍ | 190/198 [00:01<00:00, 132.35it/s]\u001b[A\n",
      " 89%|██████████████████████████████████▊    | 177/198 [00:01<00:00, 133.97it/s]\u001b[A\n",
      "100%|███████████████████████████████████████| 197/197 [00:01<00:00, 191.50it/s]\u001b[A\n",
      "\n",
      " 43%|█████████████████▌                       | 85/199 [00:01<00:01, 64.17it/s]\u001b[A\n",
      " 86%|█████████████████████████████████▍     | 170/198 [00:00<00:00, 187.90it/s]\u001b[A\n",
      " 62%|████████████████████████▎              | 121/194 [00:00<00:00, 233.97it/s]\u001b[A\n",
      " 81%|███████████████████████████████▋       | 161/198 [00:00<00:00, 191.48it/s]\u001b[A\n",
      " 67%|██████████████████████████▎            | 134/199 [00:01<00:00, 102.88it/s]\u001b[A\n",
      " 94%|████████████████████████████████████▋  | 187/199 [00:00<00:00, 189.78it/s]\u001b[A\n",
      "100%|███████████████████████████████████████| 196/196 [00:01<00:00, 193.44it/s]\u001b[A\n",
      "\n",
      " 56%|█████████████████████▉                 | 111/197 [00:00<00:00, 229.79it/s]\u001b[A\n",
      " 79%|██████████████████████████████▋        | 156/198 [00:01<00:00, 127.26it/s]\u001b[A\n",
      " 83%|████████████████████████████████▎      | 163/197 [00:01<00:00, 142.81it/s]\u001b[A\n",
      " 41%|████████████████▌                       | 82/198 [00:00<00:00, 288.82it/s]\u001b[A\n",
      " 75%|█████████████████████████████▏         | 149/199 [00:00<00:00, 229.96it/s]\u001b[A\n",
      " 97%|██████████████████████████████████████ | 192/197 [00:01<00:00, 124.27it/s]\u001b[A\n",
      " 73%|████████████████████████████▍          | 143/196 [00:00<00:00, 213.58it/s]\u001b[A\n",
      " 63%|████████████████████████▍              | 125/199 [00:00<00:00, 270.58it/s]\u001b[A\n",
      "100%|███████████████████████████████████████| 200/200 [00:01<00:00, 181.90it/s]\u001b[A\n",
      "\n",
      " 90%|███████████████████████████████████    | 176/196 [00:01<00:00, 117.22it/s]\u001b[A\n",
      " 97%|█████████████████████████████████████▊ | 192/198 [00:01<00:00, 131.76it/s]\u001b[A\n",
      " 98%|██████████████████████████████████████▏| 195/199 [00:01<00:00, 178.80it/s]\u001b[A\n",
      "100%|███████████████████████████████████████| 196/196 [00:01<00:00, 125.27it/s]\u001b[A\n",
      "\n",
      " 80%|███████████████████████████████        | 159/200 [00:00<00:00, 275.83it/s]\u001b[A\n",
      " 74%|████████████████████████████▉          | 144/194 [00:00<00:00, 218.58it/s]\u001b[A\n",
      " 63%|████████████████████████▌              | 125/198 [00:00<00:00, 253.27it/s]\u001b[A\n",
      " 99%|██████████████████████████████████████▊| 197/198 [00:01<00:00, 219.94it/s]\u001b[A\n",
      " 73%|████████████████████████████▌          | 146/199 [00:01<00:00, 102.70it/s]\u001b[A\n",
      " 96%|█████████████████████████████████████▍ | 190/198 [00:00<00:00, 178.35it/s]\u001b[A\n",
      " 73%|████████████████████████████▎          | 143/197 [00:00<00:00, 213.32it/s]\u001b[A\n",
      " 91%|███████████████████████████████████▋   | 181/198 [00:00<00:00, 177.79it/s]\u001b[A\n",
      " 86%|█████████████████████████████████▍     | 170/198 [00:01<00:00, 127.59it/s]\u001b[A\n",
      "100%|████████████████████████████████████████████| 1/1 [00:00<00:00,  2.05it/s]\u001b[A\n",
      "\n"
     ]
    },
    {
     "name": "stdout",
     "output_type": "stream",
     "text": [
      "Total files processed: 1"
     ]
    },
    {
     "name": "stderr",
     "output_type": "stream",
     "text": [
      "  0%|                                                    | 0/1 [00:00<?, ?it/s]"
     ]
    },
    {
     "name": "stdout",
     "output_type": "stream",
     "text": [
      "\n"
     ]
    },
    {
     "name": "stderr",
     "output_type": "stream",
     "text": [
      "100%|███████████████████████████████████████| 198/198 [00:01<00:00, 135.84it/s]\n",
      "/w/hallb-scshelf2102/clas12/users/gmat/clas12/neutneut/analysis/neutron_ml/../../src/TrainData.py:84: FutureWarning: The default of observed=False is deprecated and will be changed to True in a future version of pandas. Pass observed=False to retain current behavior or observed=True to adopt the future default and silence this warning.\n",
      "  group_sizes = df.groupby(group_cols).size()\n",
      "\n",
      " 93%|████████████████████████████████████▏  | 182/196 [00:00<00:00, 187.90it/s]\u001b[A\n",
      " 90%|███████████████████████████████████▏   | 178/197 [00:01<00:00, 135.52it/s]\u001b[A\n",
      " 69%|██████████████████████████▉            | 136/197 [00:00<00:00, 208.82it/s]\u001b[A\n",
      " 96%|█████████████████████████████████████▍ | 188/196 [00:01<00:00, 117.04it/s]\u001b[A\n",
      "100%|███████████████████████████████████████| 199/199 [00:01<00:00, 179.25it/s]\u001b[A\n",
      "\n",
      " 53%|█████████████████████                   | 105/199 [00:01<00:01, 80.93it/s]\u001b[A\n",
      " 85%|█████████████████████████████████      | 166/196 [00:00<00:00, 191.47it/s]\u001b[A\n",
      " 77%|██████████████████████████████▏        | 154/199 [00:00<00:00, 243.05it/s]\u001b[A\n",
      " 81%|███████████████████████████████▌       | 161/199 [00:01<00:00, 114.35it/s]\u001b[A\n",
      " 87%|██████████████████████████████████     | 171/196 [00:01<00:00, 134.30it/s]\u001b[A\n",
      " 86%|█████████████████████████████████▌     | 167/194 [00:00<00:00, 206.43it/s]\u001b[A\n",
      "100%|███████████████████████████████████████| 197/197 [00:01<00:00, 125.15it/s]\u001b[A\n",
      "100%|███████████████████████████████████████| 197/197 [00:01<00:00, 129.65it/s]\n",
      "\n",
      " 93%|████████████████████████████████████▏  | 184/198 [00:01<00:00, 129.75it/s]\u001b[A\n",
      " 84%|████████████████████████████████▊      | 166/197 [00:00<00:00, 209.77it/s]\u001b[A\n",
      "  0%|                                                    | 0/1 [00:00<?, ?it/s]\u001b[A\n",
      "100%|███████████████████████████████████████| 199/199 [00:01<00:00, 168.63it/s]\u001b[A\n",
      "100%|███████████████████████████████████████| 198/198 [00:01<00:00, 125.57it/s]\n",
      "100%|███████████████████████████████████████| 198/198 [00:01<00:00, 170.83it/s]\n",
      "\n",
      "100%|███████████████████████████████████████| 196/196 [00:01<00:00, 187.65it/s]\u001b[A\n",
      "\n",
      " 77%|██████████████████████████████▏        | 153/198 [00:00<00:00, 215.47it/s]\u001b[A\n",
      "100%|███████████████████████████████████████| 198/198 [00:01<00:00, 172.91it/s]\u001b[A\n",
      "\n",
      " 88%|██████████████████████████████████▏    | 170/194 [00:00<00:00, 196.32it/s]\u001b[A\n",
      "  0%|                                                    | 0/1 [00:00<?, ?it/s]\u001b[A\n",
      " 60%|████████████████████████                | 120/199 [00:01<00:00, 99.72it/s]\u001b[A\n",
      " 80%|███████████████████████████████▎       | 158/197 [00:00<00:00, 193.98it/s]\u001b[A\n",
      "Processing CSV files:  72%|████████████▉     | 359/500 [00:22<00:11, 12.06it/s]\u001b[A\n",
      " 90%|███████████████████████████████████▎   | 180/199 [00:01<00:00, 133.90it/s]\u001b[A\n",
      " 95%|█████████████████████████████████████  | 186/196 [00:00<00:00, 178.89it/s]\u001b[A\n",
      " 98%|██████████████████████████████████████▏| 192/196 [00:01<00:00, 147.71it/s]\u001b[A\n",
      " 90%|███████████████████████████████████▎   | 180/199 [00:00<00:00, 235.32it/s]\u001b[A\n",
      "100%|███████████████████████████████████████| 198/198 [00:01<00:00, 169.35it/s]\u001b[A\n",
      "\n",
      "100%|████████████████████████████████████████████| 1/1 [00:00<00:00,  7.57it/s]\u001b[A\n",
      " 98%|██████████████████████████████████████▏| 191/195 [00:01<00:00, 119.49it/s]\u001b[A\n",
      "100%|███████████████████████████████████████| 198/198 [00:01<00:00, 129.52it/s]\u001b[A\n",
      "\n",
      "100%|███████████████████████████████████████| 196/196 [00:01<00:00, 116.27it/s]\u001b[A\n",
      " 66%|█████████████████████████▋             | 131/199 [00:01<00:00, 102.00it/s]\u001b[A\n",
      " 98%|██████████████████████████████████████▍| 191/194 [00:00<00:00, 187.80it/s]\u001b[A\n",
      "\n",
      "100%|███████████████████████████████████████| 197/197 [00:01<00:00, 138.61it/s]\u001b[A\n",
      "\n",
      " 90%|███████████████████████████████████▏   | 178/197 [00:00<00:00, 184.84it/s]\u001b[A\n",
      "100%|████████████████████████████████████████████| 1/1 [00:00<00:00,  4.40it/s]\u001b[A\n",
      "\n"
     ]
    },
    {
     "name": "stdout",
     "output_type": "stream",
     "text": [
      "Total files processed: 1\n"
     ]
    },
    {
     "name": "stderr",
     "output_type": "stream",
     "text": [
      "  0%|                                                    | 0/1 [00:00<?, ?it/s]\u001b[A/w/hallb-scshelf2102/clas12/users/gmat/clas12/neutneut/analysis/neutron_ml/../../src/TrainData.py:84: FutureWarning: The default of observed=False is deprecated and will be changed to True in a future version of pandas. Pass observed=False to retain current behavior or observed=True to adopt the future default and silence this warning.\n",
      "  group_sizes = df.groupby(group_cols).size()\n",
      "100%|███████████████████████████████████████| 200/200 [00:00<00:00, 211.85it/s]\n",
      "100%|███████████████████████████████████████| 199/199 [00:01<00:00, 190.36it/s]\n",
      "100%|███████████████████████████████████████| 195/195 [00:01<00:00, 146.23it/s]\n",
      "100%|███████████████████████████████████████| 196/196 [00:01<00:00, 182.57it/s]\n",
      "100%|███████████████████████████████████████| 196/196 [00:01<00:00, 156.43it/s]\n",
      "\n",
      "  0%|                                                    | 0/1 [00:00<?, ?it/s]\u001b[A\n",
      "  0%|                                                    | 0/1 [00:00<?, ?it/s]\u001b[A\n",
      "100%|███████████████████████████████████████| 194/194 [00:01<00:00, 188.63it/s]\u001b[A\n",
      "Processing CSV files:  73%|█████████████     | 363/500 [00:23<00:09, 14.45it/s]\n",
      "  0%|                                                    | 0/1 [00:00<?, ?it/s]\u001b[A\n",
      "100%|███████████████████████████████████████| 194/194 [00:01<00:00, 189.66it/s]\u001b[A\n",
      "100%|███████████████████████████████████████| 199/199 [00:00<00:00, 216.60it/s]\n",
      "100%|███████████████████████████████████████| 199/199 [00:01<00:00, 113.48it/s]\n",
      "\n",
      "100%|███████████████████████████████████████| 198/198 [00:00<00:00, 215.75it/s]\u001b[A\n",
      "\n",
      "  0%|                                                    | 0/1 [00:00<?, ?it/s]\u001b[A\n",
      " 76%|█████████████████████████████▌         | 151/199 [00:01<00:00, 129.67it/s]\u001b[A\n",
      "100%|███████████████████████████████████████| 197/197 [00:01<00:00, 195.55it/s]\u001b[A\n",
      "\n",
      "  0%|                                                    | 0/1 [00:00<?, ?it/s]\u001b[A\n",
      " 95%|█████████████████████████████████████▏ | 188/197 [00:01<00:00, 133.20it/s]\u001b[A\n",
      "  0%|                                                    | 0/1 [00:00<?, ?it/s]\u001b[A\n",
      "100%|████████████████████████████████████████████| 1/1 [00:00<00:00,  3.28it/s]\u001b[A\n",
      "\n",
      "  0%|                                                    | 0/1 [00:00<?, ?it/s]\u001b[A"
     ]
    },
    {
     "name": "stdout",
     "output_type": "stream",
     "text": [
      "Total files processed: 1"
     ]
    },
    {
     "name": "stderr",
     "output_type": "stream",
     "text": [
      "\n"
     ]
    },
    {
     "name": "stdout",
     "output_type": "stream",
     "text": [
      "\n"
     ]
    },
    {
     "name": "stderr",
     "output_type": "stream",
     "text": [
      "Processing CSV files:  74%|█████████████▏    | 368/500 [00:23<00:07, 18.38it/s]\u001b[A/w/hallb-scshelf2102/clas12/users/gmat/clas12/neutneut/analysis/neutron_ml/../../src/TrainData.py:84: FutureWarning: The default of observed=False is deprecated and will be changed to True in a future version of pandas. Pass observed=False to retain current behavior or observed=True to adopt the future default and silence this warning.\n",
      "  group_sizes = df.groupby(group_cols).size()\n",
      "\n",
      "  0%|                                                    | 0/1 [00:00<?, ?it/s]\u001b[A\n",
      "  0%|                                                    | 0/1 [00:00<?, ?it/s]\u001b[A\n",
      "100%|████████████████████████████████████████████| 1/1 [00:00<00:00,  5.79it/s]\u001b[A\n",
      "  0%|                                                    | 0/1 [00:00<?, ?it/s]\u001b[A\n",
      "100%|████████████████████████████████████████████| 1/1 [00:00<00:00,  5.31it/s]\u001b[A\n",
      "  0%|                                                    | 0/1 [00:00<?, ?it/s]\u001b[A\n",
      "  0%|                                                    | 0/1 [00:00<?, ?it/s]\u001b[A\n",
      " 83%|████████████████████████████████▎      | 165/199 [00:01<00:00, 130.57it/s]\u001b[A\n",
      "100%|████████████████████████████████████████████| 1/1 [00:00<00:00,  5.78it/s]\u001b[A\n",
      "100%|████████████████████████████████████████████| 1/1 [00:00<00:00,  2.82it/s]\u001b[A\n",
      "\n"
     ]
    },
    {
     "name": "stdout",
     "output_type": "stream",
     "text": [
      "Total files processed: 1\n"
     ]
    },
    {
     "name": "stderr",
     "output_type": "stream",
     "text": [
      "100%|███████████████████████████████████████| 197/197 [00:01<00:00, 169.59it/s]\u001b[A/w/hallb-scshelf2102/clas12/users/gmat/clas12/neutneut/analysis/neutron_ml/../../src/TrainData.py:84: FutureWarning: The default of observed=False is deprecated and will be changed to True in a future version of pandas. Pass observed=False to retain current behavior or observed=True to adopt the future default and silence this warning.\n",
      "  group_sizes = df.groupby(group_cols).size()\n",
      "\n",
      "100%|████████████████████████████████████████████| 1/1 [00:00<00:00,  4.11it/s]\n",
      "100%|████████████████████████████████████████████| 1/1 [00:00<00:00,  2.98it/s]\n"
     ]
    },
    {
     "name": "stdout",
     "output_type": "stream",
     "text": [
      "Total files processed: 1"
     ]
    },
    {
     "name": "stderr",
     "output_type": "stream",
     "text": [
      "\n"
     ]
    },
    {
     "name": "stdout",
     "output_type": "stream",
     "text": [
      "\n",
      "Total files processed: 1"
     ]
    },
    {
     "name": "stderr",
     "output_type": "stream",
     "text": [
      "  0%|                                                    | 0/1 [00:00<?, ?it/s]"
     ]
    },
    {
     "name": "stdout",
     "output_type": "stream",
     "text": [
      "\n"
     ]
    },
    {
     "name": "stderr",
     "output_type": "stream",
     "text": [
      "\u001b[A\n",
      "/w/hallb-scshelf2102/clas12/users/gmat/clas12/neutneut/analysis/neutron_ml/../../src/TrainData.py:84: FutureWarning: The default of observed=False is deprecated and will be changed to True in a future version of pandas. Pass observed=False to retain current behavior or observed=True to adopt the future default and silence this warning.\n",
      "  group_sizes = df.groupby(group_cols).size()\n",
      "/w/hallb-scshelf2102/clas12/users/gmat/clas12/neutneut/analysis/neutron_ml/../../src/TrainData.py:84: FutureWarning: The default of observed=False is deprecated and will be changed to True in a future version of pandas. Pass observed=False to retain current behavior or observed=True to adopt the future default and silence this warning.\n",
      "  group_sizes = df.groupby(group_cols).size()\n",
      "100%|████████████████████████████████████████████| 1/1 [00:00<00:00,  4.37it/s]\u001b[A\n",
      "\n"
     ]
    },
    {
     "name": "stdout",
     "output_type": "stream",
     "text": [
      "Total files processed: 1\n"
     ]
    },
    {
     "name": "stderr",
     "output_type": "stream",
     "text": [
      "Processing CSV files:  75%|█████████████▌    | 377/500 [00:23<00:04, 28.02it/s]\u001b[A\n",
      "/w/hallb-scshelf2102/clas12/users/gmat/clas12/neutneut/analysis/neutron_ml/../../src/TrainData.py:84: FutureWarning: The default of observed=False is deprecated and will be changed to True in a future version of pandas. Pass observed=False to retain current behavior or observed=True to adopt the future default and silence this warning.\n",
      "  group_sizes = df.groupby(group_cols).size()\n",
      " 93%|████████████████████████████████████▏  | 184/198 [00:00<00:00, 189.83it/s]\u001b[A\n",
      "100%|████████████████████████████████████████████| 1/1 [00:00<00:00,  5.79it/s]\u001b[A\n",
      " 90%|███████████████████████████████████    | 179/199 [00:01<00:00, 127.69it/s]\u001b[A\n",
      "  0%|                                                  | 0/197 [00:00<?, ?it/s]\u001b[A\n",
      "100%|████████████████████████████████████████████| 1/1 [00:00<00:00,  5.23it/s]\u001b[A\n",
      "  0%|                                                    | 0/1 [00:00<?, ?it/s]\u001b[A\n",
      "100%|████████████████████████████████████████████| 1/1 [00:00<00:00,  5.40it/s]\u001b[A\n",
      "  0%|                                                    | 0/1 [00:00<?, ?it/s]\u001b[A\n",
      "  0%|                                                    | 0/1 [00:00<?, ?it/s]\u001b[A\n",
      "100%|████████████████████████████████████████████| 1/1 [00:00<00:00,  4.56it/s]\u001b[A\n",
      "  0%|                                                    | 0/1 [00:00<?, ?it/s]\u001b[A\n",
      "  0%|                                                    | 0/1 [00:00<?, ?it/s]\u001b[A\n",
      "100%|████████████████████████████████████████████| 1/1 [00:00<00:00,  5.66it/s]\u001b[A\n",
      " 36%|██████████████▍                         | 70/194 [00:00<00:00, 346.19it/s]\u001b[A\n",
      "100%|████████████████████████████████████████████| 1/1 [00:00<00:00,  6.49it/s]\u001b[A\n",
      "100%|████████████████████████████████████████████| 1/1 [00:00<00:00,  3.66it/s]\u001b[A\n",
      "100%|███████████████████████████████████████| 198/198 [00:01<00:00, 190.19it/s]"
     ]
    },
    {
     "name": "stdout",
     "output_type": "stream",
     "text": [
      "Total files processed: 1"
     ]
    },
    {
     "name": "stderr",
     "output_type": "stream",
     "text": [
      "\n"
     ]
    },
    {
     "name": "stdout",
     "output_type": "stream",
     "text": [
      "\n"
     ]
    },
    {
     "name": "stderr",
     "output_type": "stream",
     "text": [
      "\n",
      "  0%|                                                  | 0/197 [00:00<?, ?it/s]\u001b[A/w/hallb-scshelf2102/clas12/users/gmat/clas12/neutneut/analysis/neutron_ml/../../src/TrainData.py:84: FutureWarning: The default of observed=False is deprecated and will be changed to True in a future version of pandas. Pass observed=False to retain current behavior or observed=True to adopt the future default and silence this warning.\n",
      "  group_sizes = df.groupby(group_cols).size()\n",
      "100%|████████████████████████████████████████████| 1/1 [00:00<00:00,  3.73it/s]\n"
     ]
    },
    {
     "name": "stdout",
     "output_type": "stream",
     "text": [
      "Total files processed: 1\n"
     ]
    },
    {
     "name": "stderr",
     "output_type": "stream",
     "text": [
      "100%|████████████████████████████████████████████| 1/1 [00:00<00:00,  3.43it/s]/w/hallb-scshelf2102/clas12/users/gmat/clas12/neutneut/analysis/neutron_ml/../../src/TrainData.py:84: FutureWarning: The default of observed=False is deprecated and will be changed to True in a future version of pandas. Pass observed=False to retain current behavior or observed=True to adopt the future default and silence this warning.\n",
      "  group_sizes = df.groupby(group_cols).size()\n",
      "\n"
     ]
    },
    {
     "name": "stdout",
     "output_type": "stream",
     "text": [
      "Total files processed: 1"
     ]
    },
    {
     "name": "stderr",
     "output_type": "stream",
     "text": [
      "100%|████████████████████████████████████████| 199/199 [00:02<00:00, 96.20it/s]"
     ]
    },
    {
     "name": "stdout",
     "output_type": "stream",
     "text": [
      "\n"
     ]
    },
    {
     "name": "stderr",
     "output_type": "stream",
     "text": [
      "\n",
      "/w/hallb-scshelf2102/clas12/users/gmat/clas12/neutneut/analysis/neutron_ml/../../src/TrainData.py:84: FutureWarning: The default of observed=False is deprecated and will be changed to True in a future version of pandas. Pass observed=False to retain current behavior or observed=True to adopt the future default and silence this warning.\n",
      "  group_sizes = df.groupby(group_cols).size()\n",
      "100%|████████████████████████████████████████████| 1/1 [00:00<00:00,  3.37it/s]\n"
     ]
    },
    {
     "name": "stdout",
     "output_type": "stream",
     "text": [
      "Total files processed: 1"
     ]
    },
    {
     "name": "stderr",
     "output_type": "stream",
     "text": [
      "\n",
      "  0%|                                                  | 0/198 [00:00<?, ?it/s]"
     ]
    },
    {
     "name": "stdout",
     "output_type": "stream",
     "text": [
      "\n"
     ]
    },
    {
     "name": "stderr",
     "output_type": "stream",
     "text": [
      "\u001b[A/w/hallb-scshelf2102/clas12/users/gmat/clas12/neutneut/analysis/neutron_ml/../../src/TrainData.py:84: FutureWarning: The default of observed=False is deprecated and will be changed to True in a future version of pandas. Pass observed=False to retain current behavior or observed=True to adopt the future default and silence this warning.\n",
      "  group_sizes = df.groupby(group_cols).size()\n",
      "\n",
      "  0%|                                                    | 0/1 [00:00<?, ?it/s]\u001b[A\n",
      "100%|████████████████████████████████████████████| 1/1 [00:00<00:00,  5.08it/s]\u001b[A\n",
      "Processing CSV files:  77%|█████████████▊    | 383/500 [00:23<00:03, 31.73it/s]\u001b[A\n",
      "100%|████████████████████████████████████████████| 1/1 [00:00<00:00,  2.88it/s]\u001b[A\n"
     ]
    },
    {
     "name": "stdout",
     "output_type": "stream",
     "text": [
      "Total files processed: 1"
     ]
    },
    {
     "name": "stderr",
     "output_type": "stream",
     "text": [
      "\n"
     ]
    },
    {
     "name": "stdout",
     "output_type": "stream",
     "text": [
      "\n"
     ]
    },
    {
     "name": "stderr",
     "output_type": "stream",
     "text": [
      "100%|████████████████████████████████████████████| 1/1 [00:00<00:00,  5.05it/s]\u001b[A\n",
      "/w/hallb-scshelf2102/clas12/users/gmat/clas12/neutneut/analysis/neutron_ml/../../src/TrainData.py:84: FutureWarning: The default of observed=False is deprecated and will be changed to True in a future version of pandas. Pass observed=False to retain current behavior or observed=True to adopt the future default and silence this warning.\n",
      "  group_sizes = df.groupby(group_cols).size()\n",
      "100%|████████████████████████████████████████████| 1/1 [00:00<00:00,  3.16it/s]\u001b[A\n",
      "\n"
     ]
    },
    {
     "name": "stdout",
     "output_type": "stream",
     "text": [
      "Total files processed: 1"
     ]
    },
    {
     "name": "stderr",
     "output_type": "stream",
     "text": [
      "  0%|                                                    | 0/1 [00:00<?, ?it/s]"
     ]
    },
    {
     "name": "stdout",
     "output_type": "stream",
     "text": [
      "\n"
     ]
    },
    {
     "name": "stderr",
     "output_type": "stream",
     "text": [
      "\u001b[A\n",
      "  0%|                                                  | 0/198 [00:00<?, ?it/s]\u001b[A\n",
      "100%|████████████████████████████████████████████| 1/1 [00:00<00:00,  5.60it/s]\u001b[A\n",
      "100%|████████████████████████████████████████████| 1/1 [00:00<00:00,  4.97it/s]\u001b[A/w/hallb-scshelf2102/clas12/users/gmat/clas12/neutneut/analysis/neutron_ml/../../src/TrainData.py:84: FutureWarning: The default of observed=False is deprecated and will be changed to True in a future version of pandas. Pass observed=False to retain current behavior or observed=True to adopt the future default and silence this warning.\n",
      "  group_sizes = df.groupby(group_cols).size()\n",
      "\n",
      " 20%|████████                                | 40/197 [00:00<00:00, 394.41it/s]\u001b[A\n",
      "  0%|                                                  | 0/196 [00:00<?, ?it/s]\u001b[A\n",
      " 54%|█████████████████████                  | 105/194 [00:00<00:00, 332.85it/s]\u001b[A\n",
      "100%|████████████████████████████████████████████| 1/1 [00:00<00:00,  4.66it/s]\u001b[A\n",
      "100%|████████████████████████████████████████████| 1/1 [00:00<00:00,  5.23it/s]\u001b[A\n",
      "100%|████████████████████████████████████████████| 1/1 [00:00<00:00,  7.54it/s]\u001b[A\n",
      "100%|████████████████████████████████████████████| 1/1 [00:00<00:00,  2.98it/s]\u001b[A\n"
     ]
    },
    {
     "name": "stdout",
     "output_type": "stream",
     "text": [
      "Total files processed: 1"
     ]
    },
    {
     "name": "stderr",
     "output_type": "stream",
     "text": [
      "\n"
     ]
    },
    {
     "name": "stdout",
     "output_type": "stream",
     "text": [
      "\n"
     ]
    },
    {
     "name": "stderr",
     "output_type": "stream",
     "text": [
      " 18%|███████▎                                | 36/197 [00:00<00:00, 353.22it/s]\u001b[A/w/hallb-scshelf2102/clas12/users/gmat/clas12/neutneut/analysis/neutron_ml/../../src/TrainData.py:84: FutureWarning: The default of observed=False is deprecated and will be changed to True in a future version of pandas. Pass observed=False to retain current behavior or observed=True to adopt the future default and silence this warning.\n",
      "  group_sizes = df.groupby(group_cols).size()\n",
      "\n",
      "100%|████████████████████████████████████████████| 1/1 [00:00<00:00,  4.75it/s]\u001b[A\n",
      "100%|████████████████████████████████████████████| 1/1 [00:00<00:00,  4.75it/s]\u001b[A\n",
      "100%|████████████████████████████████████████████| 1/1 [00:00<00:00,  6.29it/s]\u001b[A\n",
      "100%|████████████████████████████████████████████| 1/1 [00:00<00:00,  6.29it/s]\u001b[A\n",
      "100%|████████████████████████████████████████████| 1/1 [00:00<00:00,  3.01it/s]\u001b[A\n",
      "\n"
     ]
    },
    {
     "name": "stdout",
     "output_type": "stream",
     "text": [
      "Total files processed: 1"
     ]
    },
    {
     "name": "stderr",
     "output_type": "stream",
     "text": [
      "  0%|                                                    | 0/1 [00:00<?, ?it/s]"
     ]
    },
    {
     "name": "stdout",
     "output_type": "stream",
     "text": [
      "\n"
     ]
    },
    {
     "name": "stderr",
     "output_type": "stream",
     "text": [
      "\u001b[A\n",
      "100%|████████████████████████████████████████████| 1/1 [00:00<00:00,  5.38it/s]/w/hallb-scshelf2102/clas12/users/gmat/clas12/neutneut/analysis/neutron_ml/../../src/TrainData.py:84: FutureWarning: The default of observed=False is deprecated and will be changed to True in a future version of pandas. Pass observed=False to retain current behavior or observed=True to adopt the future default and silence this warning.\n",
      "  group_sizes = df.groupby(group_cols).size()\n",
      "100%|████████████████████████████████████████████| 1/1 [00:00<00:00,  2.97it/s]\n",
      "100%|████████████████████████████████████████████| 1/1 [00:00<00:00,  2.83it/s]"
     ]
    },
    {
     "name": "stdout",
     "output_type": "stream",
     "text": [
      "Total files processed: 1"
     ]
    },
    {
     "name": "stderr",
     "output_type": "stream",
     "text": [
      "\n"
     ]
    },
    {
     "name": "stdout",
     "output_type": "stream",
     "text": [
      "\n",
      "Total files processed: 1"
     ]
    },
    {
     "name": "stderr",
     "output_type": "stream",
     "text": [
      "100%|████████████████████████████████████████████| 1/1 [00:00<00:00,  3.23it/s]"
     ]
    },
    {
     "name": "stdout",
     "output_type": "stream",
     "text": [
      "\n"
     ]
    },
    {
     "name": "stderr",
     "output_type": "stream",
     "text": [
      "\n",
      "/w/hallb-scshelf2102/clas12/users/gmat/clas12/neutneut/analysis/neutron_ml/../../src/TrainData.py:84: FutureWarning: The default of observed=False is deprecated and will be changed to True in a future version of pandas. Pass observed=False to retain current behavior or observed=True to adopt the future default and silence this warning.\n",
      "  group_sizes = df.groupby(group_cols).size()\n"
     ]
    },
    {
     "name": "stdout",
     "output_type": "stream",
     "text": [
      "Total files processed: 1"
     ]
    },
    {
     "name": "stderr",
     "output_type": "stream",
     "text": [
      "\n",
      "/w/hallb-scshelf2102/clas12/users/gmat/clas12/neutneut/analysis/neutron_ml/../../src/TrainData.py:84: FutureWarning: The default of observed=False is deprecated and will be changed to True in a future version of pandas. Pass observed=False to retain current behavior or observed=True to adopt the future default and silence this warning.\n",
      "  group_sizes = df.groupby(group_cols).size()\n",
      "  0%|                                                  | 0/197 [00:00<?, ?it/s]"
     ]
    },
    {
     "name": "stdout",
     "output_type": "stream",
     "text": [
      "\n"
     ]
    },
    {
     "name": "stderr",
     "output_type": "stream",
     "text": [
      "100%|████████████████████████████████████████████| 1/1 [00:00<00:00,  2.96it/s]/w/hallb-scshelf2102/clas12/users/gmat/clas12/neutneut/analysis/neutron_ml/../../src/TrainData.py:84: FutureWarning: The default of observed=False is deprecated and will be changed to True in a future version of pandas. Pass observed=False to retain current behavior or observed=True to adopt the future default and silence this warning.\n",
      "  group_sizes = df.groupby(group_cols).size()\n",
      "\n"
     ]
    },
    {
     "name": "stdout",
     "output_type": "stream",
     "text": [
      "Total files processed: 1"
     ]
    },
    {
     "name": "stderr",
     "output_type": "stream",
     "text": [
      "\n",
      "  0%|                                                  | 0/198 [00:00<?, ?it/s]"
     ]
    },
    {
     "name": "stdout",
     "output_type": "stream",
     "text": [
      "\n"
     ]
    },
    {
     "name": "stderr",
     "output_type": "stream",
     "text": [
      "/w/hallb-scshelf2102/clas12/users/gmat/clas12/neutneut/analysis/neutron_ml/../../src/TrainData.py:84: FutureWarning: The default of observed=False is deprecated and will be changed to True in a future version of pandas. Pass observed=False to retain current behavior or observed=True to adopt the future default and silence this warning.\n",
      "  group_sizes = df.groupby(group_cols).size()\n",
      "100%|████████████████████████████████████████████| 1/1 [00:00<00:00,  2.79it/s]\n",
      "100%|████████████████████████████████████████████| 1/1 [00:00<00:00,  3.08it/s]"
     ]
    },
    {
     "name": "stdout",
     "output_type": "stream",
     "text": [
      "Total files processed: 1"
     ]
    },
    {
     "name": "stderr",
     "output_type": "stream",
     "text": [
      "\n"
     ]
    },
    {
     "name": "stdout",
     "output_type": "stream",
     "text": [
      "\n",
      "Total files processed: 1"
     ]
    },
    {
     "name": "stderr",
     "output_type": "stream",
     "text": [
      "100%|████████████████████████████████████████████| 1/1 [00:00<00:00,  3.75it/s]"
     ]
    },
    {
     "name": "stdout",
     "output_type": "stream",
     "text": [
      "\n"
     ]
    },
    {
     "name": "stderr",
     "output_type": "stream",
     "text": [
      "\n",
      "/w/hallb-scshelf2102/clas12/users/gmat/clas12/neutneut/analysis/neutron_ml/../../src/TrainData.py:84: FutureWarning: The default of observed=False is deprecated and will be changed to True in a future version of pandas. Pass observed=False to retain current behavior or observed=True to adopt the future default and silence this warning.\n",
      "  group_sizes = df.groupby(group_cols).size()\n"
     ]
    },
    {
     "name": "stdout",
     "output_type": "stream",
     "text": [
      "Total files processed: 1"
     ]
    },
    {
     "name": "stderr",
     "output_type": "stream",
     "text": [
      "100%|████████████████████████████████████████████| 1/1 [00:00<00:00,  2.71it/s]"
     ]
    },
    {
     "name": "stdout",
     "output_type": "stream",
     "text": [
      "\n"
     ]
    },
    {
     "name": "stderr",
     "output_type": "stream",
     "text": [
      "/w/hallb-scshelf2102/clas12/users/gmat/clas12/neutneut/analysis/neutron_ml/../../src/TrainData.py:84: FutureWarning: The default of observed=False is deprecated and will be changed to True in a future version of pandas. Pass observed=False to retain current behavior or observed=True to adopt the future default and silence this warning.\n",
      "  group_sizes = df.groupby(group_cols).size()\n",
      "\n"
     ]
    },
    {
     "name": "stdout",
     "output_type": "stream",
     "text": [
      "Total files processed: 1"
     ]
    },
    {
     "name": "stderr",
     "output_type": "stream",
     "text": [
      "\n"
     ]
    },
    {
     "name": "stdout",
     "output_type": "stream",
     "text": [
      "\n"
     ]
    },
    {
     "name": "stderr",
     "output_type": "stream",
     "text": [
      "100%|████████████████████████████████████████████| 1/1 [00:00<00:00,  5.27it/s]/w/hallb-scshelf2102/clas12/users/gmat/clas12/neutneut/analysis/neutron_ml/../../src/TrainData.py:84: FutureWarning: The default of observed=False is deprecated and will be changed to True in a future version of pandas. Pass observed=False to retain current behavior or observed=True to adopt the future default and silence this warning.\n",
      "  group_sizes = df.groupby(group_cols).size()\n",
      "\u001b[A\n",
      "/w/hallb-scshelf2102/clas12/users/gmat/clas12/neutneut/analysis/neutron_ml/../../src/TrainData.py:84: FutureWarning: The default of observed=False is deprecated and will be changed to True in a future version of pandas. Pass observed=False to retain current behavior or observed=True to adopt the future default and silence this warning.\n",
      "  group_sizes = df.groupby(group_cols).size()\n",
      " 21%|████████▎                               | 41/198 [00:00<00:00, 402.78it/s]\u001b[A\n",
      "100%|████████████████████████████████████████████| 1/1 [00:00<00:00,  2.97it/s]\u001b[A\n",
      "100%|████████████████████████████████████████████| 1/1 [00:00<00:00,  3.04it/s]\n"
     ]
    },
    {
     "name": "stdout",
     "output_type": "stream",
     "text": [
      "Total files processed: 1"
     ]
    },
    {
     "name": "stderr",
     "output_type": "stream",
     "text": [
      "\n",
      "  0%|                                                  | 0/196 [00:00<?, ?it/s]"
     ]
    },
    {
     "name": "stdout",
     "output_type": "stream",
     "text": [
      "Total files processed: 1\n"
     ]
    },
    {
     "name": "stderr",
     "output_type": "stream",
     "text": [
      "\u001b[A\n",
      "/w/hallb-scshelf2102/clas12/users/gmat/clas12/neutneut/analysis/neutron_ml/../../src/TrainData.py:84: FutureWarning: The default of observed=False is deprecated and will be changed to True in a future version of pandas. Pass observed=False to retain current behavior or observed=True to adopt the future default and silence this warning.\n",
      "  group_sizes = df.groupby(group_cols).size()\n"
     ]
    },
    {
     "name": "stdout",
     "output_type": "stream",
     "text": [
      "\n"
     ]
    },
    {
     "name": "stderr",
     "output_type": "stream",
     "text": [
      " 21%|████████▍                               | 42/198 [00:00<00:00, 412.86it/s]\u001b[A/w/hallb-scshelf2102/clas12/users/gmat/clas12/neutneut/analysis/neutron_ml/../../src/TrainData.py:84: FutureWarning: The default of observed=False is deprecated and will be changed to True in a future version of pandas. Pass observed=False to retain current behavior or observed=True to adopt the future default and silence this warning.\n",
      "  group_sizes = df.groupby(group_cols).size()\n",
      "\n",
      "100%|████████████████████████████████████████████| 1/1 [00:00<00:00,  3.29it/s]\u001b[A\n",
      "\n",
      " 20%|████████▏                               | 40/196 [00:00<00:00, 397.03it/s]\u001b[A\n",
      "100%|████████████████████████████████████████████| 1/1 [00:00<00:00,  3.05it/s]\u001b[A\n"
     ]
    },
    {
     "name": "stdout",
     "output_type": "stream",
     "text": [
      "Total files processed: 1"
     ]
    },
    {
     "name": "stderr",
     "output_type": "stream",
     "text": [
      "100%|████████████████████████████████████████████| 1/1 [00:00<00:00,  2.89it/s]"
     ]
    },
    {
     "name": "stdout",
     "output_type": "stream",
     "text": [
      "\n",
      "Total files processed: 1\n"
     ]
    },
    {
     "name": "stderr",
     "output_type": "stream",
     "text": [
      "/w/hallb-scshelf2102/clas12/users/gmat/clas12/neutneut/analysis/neutron_ml/../../src/TrainData.py:84: FutureWarning: The default of observed=False is deprecated and will be changed to True in a future version of pandas. Pass observed=False to retain current behavior or observed=True to adopt the future default and silence this warning.\n",
      "  group_sizes = df.groupby(group_cols).size()\n",
      "/w/hallb-scshelf2102/clas12/users/gmat/clas12/neutneut/analysis/neutron_ml/../../src/TrainData.py:84: FutureWarning: The default of observed=False is deprecated and will be changed to True in a future version of pandas. Pass observed=False to retain current behavior or observed=True to adopt the future default and silence this warning.\n",
      "  group_sizes = df.groupby(group_cols).size()\n",
      "\n"
     ]
    },
    {
     "name": "stdout",
     "output_type": "stream",
     "text": [
      "Total files processed: 1"
     ]
    },
    {
     "name": "stderr",
     "output_type": "stream",
     "text": [
      "\n"
     ]
    },
    {
     "name": "stdout",
     "output_type": "stream",
     "text": [
      "\n"
     ]
    },
    {
     "name": "stderr",
     "output_type": "stream",
     "text": [
      "100%|████████████████████████████████████████████| 1/1 [00:00<00:00,  2.66it/s]\u001b[A\n",
      "/w/hallb-scshelf2102/clas12/users/gmat/clas12/neutneut/analysis/neutron_ml/../../src/TrainData.py:84: FutureWarning: The default of observed=False is deprecated and will be changed to True in a future version of pandas. Pass observed=False to retain current behavior or observed=True to adopt the future default and silence this warning.\n",
      "  group_sizes = df.groupby(group_cols).size()\n"
     ]
    },
    {
     "name": "stdout",
     "output_type": "stream",
     "text": [
      "Total files processed: 1"
     ]
    },
    {
     "name": "stderr",
     "output_type": "stream",
     "text": [
      "\n",
      " 72%|███████████████████████████▉           | 139/194 [00:00<00:00, 294.41it/s]\u001b[A\n"
     ]
    },
    {
     "name": "stdout",
     "output_type": "stream",
     "text": [
      "\n"
     ]
    },
    {
     "name": "stderr",
     "output_type": "stream",
     "text": [
      "/w/hallb-scshelf2102/clas12/users/gmat/clas12/neutneut/analysis/neutron_ml/../../src/TrainData.py:84: FutureWarning: The default of observed=False is deprecated and will be changed to True in a future version of pandas. Pass observed=False to retain current behavior or observed=True to adopt the future default and silence this warning.\n",
      "  group_sizes = df.groupby(group_cols).size()\n",
      "100%|████████████████████████████████████████████| 1/1 [00:00<00:00,  5.21it/s]\u001b[A\n",
      " 23%|█████████▏                              | 45/197 [00:00<00:00, 440.97it/s]\u001b[A\n",
      "  0%|                                                  | 0/196 [00:00<?, ?it/s]\u001b[A\n",
      " 19%|███████▋                                | 38/198 [00:00<00:00, 378.91it/s]\u001b[A\n",
      "  0%|                                                    | 0/1 [00:00<?, ?it/s]\u001b[A\n",
      "100%|████████████████████████████████████████████| 1/1 [00:00<00:00,  6.19it/s]\u001b[A\n",
      " 41%|████████████████▌                       | 82/198 [00:00<00:00, 299.08it/s]\u001b[A\n",
      " 23%|█████████▎                              | 46/197 [00:00<00:00, 453.75it/s]\u001b[A\n",
      " 56%|█████████████████████▉                 | 111/197 [00:00<00:00, 269.44it/s]\u001b[A\n",
      "100%|████████████████████████████████████████████| 1/1 [00:00<00:00,  5.65it/s]\u001b[A\n",
      "  0%|                                                    | 0/1 [00:00<?, ?it/s]\u001b[A\n",
      "  0%|                                                  | 0/195 [00:00<?, ?it/s]\u001b[A\n",
      "  0%|                                                  | 0/199 [00:00<?, ?it/s]\u001b[A\n",
      " 21%|████████▌                               | 42/196 [00:00<00:00, 415.68it/s]\u001b[A\n",
      "100%|████████████████████████████████████████████| 1/1 [00:00<00:00,  3.07it/s]\u001b[A\n",
      "\n"
     ]
    },
    {
     "name": "stdout",
     "output_type": "stream",
     "text": [
      "Total files processed: 1\n"
     ]
    },
    {
     "name": "stderr",
     "output_type": "stream",
     "text": [
      "  0%|                                                  | 0/196 [00:00<?, ?it/s]\u001b[A/w/hallb-scshelf2102/clas12/users/gmat/clas12/neutneut/analysis/neutron_ml/../../src/TrainData.py:84: FutureWarning: The default of observed=False is deprecated and will be changed to True in a future version of pandas. Pass observed=False to retain current behavior or observed=True to adopt the future default and silence this warning.\n",
      "  group_sizes = df.groupby(group_cols).size()\n",
      "\n",
      " 42%|████████████████▉                       | 84/198 [00:00<00:00, 327.80it/s]\u001b[A\n",
      " 56%|█████████████████████▊                 | 111/199 [00:00<00:00, 271.67it/s]\u001b[A\n",
      "100%|████████████████████████████████████████████| 1/1 [00:00<00:00,  3.50it/s]\u001b[A\n",
      "\n"
     ]
    },
    {
     "name": "stdout",
     "output_type": "stream",
     "text": [
      "Total files processed: 1\n"
     ]
    },
    {
     "name": "stderr",
     "output_type": "stream",
     "text": [
      " 52%|████████████████████▍                  | 103/197 [00:00<00:00, 230.73it/s]\u001b[A\n",
      "  0%|                                                  | 0/199 [00:00<?, ?it/s]/w/hallb-scshelf2102/clas12/users/gmat/clas12/neutneut/analysis/neutron_ml/../../src/TrainData.py:84: FutureWarning: The default of observed=False is deprecated and will be changed to True in a future version of pandas. Pass observed=False to retain current behavior or observed=True to adopt the future default and silence this warning.\n",
      "  group_sizes = df.groupby(group_cols).size()\n",
      "\u001b[A\n",
      " 47%|██████████████████▋                     | 92/197 [00:00<00:00, 379.74it/s]\u001b[A\n",
      "  0%|                                                  | 0/197 [00:00<?, ?it/s]\u001b[A\n",
      " 43%|█████████████████▏                      | 84/196 [00:00<00:00, 325.17it/s]\u001b[A\n",
      "  0%|                                                  | 0/198 [00:00<?, ?it/s]\u001b[A\n",
      " 88%|██████████████████████████████████▏    | 170/194 [00:00<00:00, 221.78it/s]\u001b[A\n",
      " 58%|██████████████████████▍                | 114/198 [00:00<00:00, 305.61it/s]\u001b[A\n",
      " 46%|██████████████████▎                     | 90/197 [00:00<00:00, 338.76it/s]\u001b[A\n",
      " 71%|███████████████████████████▌           | 139/197 [00:00<00:00, 271.84it/s]\u001b[A\n",
      "  0%|                                                  | 0/197 [00:00<?, ?it/s]\u001b[A\n",
      "100%|████████████████████████████████████████████| 1/1 [00:00<00:00,  2.61it/s]\u001b[A\n",
      "\n",
      " 38%|███████████████▎                        | 76/198 [00:00<00:00, 315.36it/s]"
     ]
    },
    {
     "name": "stdout",
     "output_type": "stream",
     "text": [
      "Total files processed: 1\n"
     ]
    },
    {
     "name": "stderr",
     "output_type": "stream",
     "text": [
      "/w/hallb-scshelf2102/clas12/users/gmat/clas12/neutneut/analysis/neutron_ml/../../src/TrainData.py:84: FutureWarning: The default of observed=False is deprecated and will be changed to True in a future version of pandas. Pass observed=False to retain current behavior or observed=True to adopt the future default and silence this warning.\n",
      "  group_sizes = df.groupby(group_cols).size()\n",
      "\u001b[A\n",
      " 41%|████████████████▎                       | 80/196 [00:00<00:00, 274.52it/s]\u001b[A\n",
      "  0%|                                                  | 0/199 [00:00<?, ?it/s]\u001b[A\n",
      "100%|████████████████████████████████████████████| 1/1 [00:00<00:00,  2.14it/s]\u001b[A\n",
      "\n"
     ]
    },
    {
     "name": "stdout",
     "output_type": "stream",
     "text": [
      "Total files processed: 1"
     ]
    },
    {
     "name": "stderr",
     "output_type": "stream",
     "text": [
      "  0%|                                                  | 0/196 [00:00<?, ?it/s]"
     ]
    },
    {
     "name": "stdout",
     "output_type": "stream",
     "text": [
      "\n"
     ]
    },
    {
     "name": "stderr",
     "output_type": "stream",
     "text": [
      "\u001b[A\n",
      "/w/hallb-scshelf2102/clas12/users/gmat/clas12/neutneut/analysis/neutron_ml/../../src/TrainData.py:84: FutureWarning: The default of observed=False is deprecated and will be changed to True in a future version of pandas. Pass observed=False to retain current behavior or observed=True to adopt the future default and silence this warning.\n",
      "  group_sizes = df.groupby(group_cols).size()\n",
      " 21%|████████▏                               | 40/195 [00:00<00:00, 399.36it/s]\u001b[A\n",
      " 21%|████████▍                               | 42/199 [00:00<00:00, 413.44it/s]\u001b[A\n",
      "  0%|                                                  | 0/198 [00:00<?, ?it/s]\u001b[A\n",
      " 70%|███████████████████████████▍           | 140/199 [00:00<00:00, 251.50it/s]\u001b[A\n",
      "  0%|                                                  | 0/200 [00:00<?, ?it/s]\u001b[A\n",
      "  0%|                                                  | 0/198 [00:00<?, ?it/s]\u001b[A\n",
      " 65%|█████████████████████████▎             | 128/197 [00:00<00:00, 232.84it/s]\u001b[A\n",
      " 60%|███████████████████████▏               | 118/198 [00:00<00:00, 264.58it/s]\u001b[A\n",
      " 22%|████████▉                               | 44/196 [00:00<00:00, 434.11it/s]\u001b[A\n",
      " 20%|████████                                | 40/198 [00:00<00:00, 399.32it/s]\u001b[A\n",
      "100%|████████████████████████████████████████████| 1/1 [00:00<00:00,  5.80it/s]\u001b[A\n",
      "100%|████████████████████████████████████████████| 1/1 [00:00<00:00,  5.14it/s]\u001b[A\n",
      "100%|███████████████████████████████████████| 194/194 [00:00<00:00, 212.27it/s]\u001b[A\n",
      "\n",
      " 66%|█████████████████████████▉             | 131/197 [00:00<00:00, 366.79it/s]\u001b[A\n",
      " 85%|█████████████████████████████████      | 167/197 [00:00<00:00, 239.93it/s]\u001b[A\n",
      " 74%|████████████████████████████▊          | 146/198 [00:00<00:00, 261.08it/s]\u001b[A\n",
      " 21%|████████▎                               | 41/197 [00:00<00:00, 409.05it/s]\u001b[A\n",
      " 64%|████████████████████████▊              | 125/196 [00:00<00:00, 357.13it/s]\u001b[A\n",
      " 64%|████████████████████████▉              | 126/197 [00:00<00:00, 278.26it/s]\u001b[A\n",
      " 26%|██████████▎                             | 51/198 [00:00<00:00, 504.50it/s]\u001b[A\n",
      "  0%|                                                  | 0/195 [00:00<?, ?it/s]\u001b[A\n",
      " 56%|█████████████████████▉                 | 110/196 [00:00<00:00, 191.42it/s]\u001b[A\n",
      " 55%|█████████████████████▍                 | 109/198 [00:00<00:00, 236.45it/s]\u001b[A\n",
      "  0%|                                                  | 0/198 [00:00<?, ?it/s]\u001b[A\n",
      " 24%|█████████▋                              | 48/197 [00:00<00:00, 473.34it/s]\u001b[A\n",
      " 23%|█████████▏                              | 46/200 [00:00<00:00, 457.44it/s]\u001b[A\n",
      "100%|████████████████████████████████████████████| 1/1 [00:00<00:00,  2.73it/s]\u001b[A\n"
     ]
    },
    {
     "name": "stdout",
     "output_type": "stream",
     "text": [
      "Total files processed: 1"
     ]
    },
    {
     "name": "stderr",
     "output_type": "stream",
     "text": [
      "\n",
      " 83%|████████████████████████████████▌      | 166/199 [00:00<00:00, 211.58it/s]"
     ]
    },
    {
     "name": "stdout",
     "output_type": "stream",
     "text": [
      "\n"
     ]
    },
    {
     "name": "stderr",
     "output_type": "stream",
     "text": [
      "\u001b[A/w/hallb-scshelf2102/clas12/users/gmat/clas12/neutneut/analysis/neutron_ml/../../src/TrainData.py:84: FutureWarning: The default of observed=False is deprecated and will be changed to True in a future version of pandas. Pass observed=False to retain current behavior or observed=True to adopt the future default and silence this warning.\n",
      "  group_sizes = df.groupby(group_cols).size()\n",
      "\n",
      " 21%|████████▍                               | 42/199 [00:00<00:00, 419.78it/s]\u001b[A\n",
      " 78%|██████████████████████████████▎        | 153/197 [00:00<00:00, 196.94it/s]\u001b[A\n",
      " 41%|████████████████▍                       | 80/195 [00:00<00:00, 250.46it/s]\u001b[A\n",
      " 42%|████████████████▉                       | 84/199 [00:00<00:00, 266.38it/s]\u001b[A\n",
      " 23%|█████████▍                              | 46/196 [00:00<00:00, 456.22it/s]\u001b[A\n",
      " 26%|██████████▎                             | 50/195 [00:00<00:00, 495.29it/s]\u001b[A\n",
      "  0%|                                                  | 0/197 [00:00<?, ?it/s]\u001b[A\n",
      " 21%|████████▍                               | 42/198 [00:00<00:00, 413.68it/s]\u001b[A\n",
      " 52%|████████████████████                   | 102/198 [00:00<00:00, 301.31it/s]\u001b[A\n",
      " 23%|█████████▏                              | 46/200 [00:00<00:00, 458.33it/s]\u001b[A\n",
      " 24%|█████████▍                              | 47/198 [00:00<00:00, 468.95it/s]\u001b[A\n",
      " 97%|██████████████████████████████████████ | 192/197 [00:00<00:00, 212.95it/s]\u001b[A\n",
      " 45%|█████████████████▉                      | 88/196 [00:00<00:00, 265.20it/s]\u001b[A\n",
      " 40%|████████████████▏                       | 80/198 [00:00<00:00, 258.62it/s]\u001b[A\n",
      " 88%|██████████████████████████████████▎    | 174/198 [00:00<00:00, 224.04it/s]\u001b[A\u001b[A\n",
      " 86%|█████████████████████████████████▍     | 169/197 [00:00<00:00, 286.98it/s]\u001b[A\n",
      "  0%|                                                  | 0/196 [00:00<?, ?it/s]\n",
      " 79%|██████████████████████████████▉        | 156/197 [00:00<00:00, 234.30it/s]\u001b[A\n",
      " 68%|██████████████████████████▍            | 133/196 [00:00<00:00, 182.99it/s]\u001b[A\n",
      " 47%|██████████████████▉                     | 94/199 [00:00<00:00, 286.06it/s]\u001b[A\n",
      " 83%|████████████████████████████████▏      | 162/196 [00:00<00:00, 274.14it/s]\u001b[A\n",
      " 68%|██████████████████████████▌            | 135/198 [00:00<00:00, 212.27it/s]\u001b[A\n",
      "  0%|                                                  | 0/198 [00:00<?, ?it/s]\u001b[A\n",
      " 74%|████████████████████████████▊          | 146/198 [00:00<00:00, 217.55it/s]\u001b[A\n",
      " 58%|██████████████████████▋                | 114/196 [00:00<00:00, 228.37it/s]\u001b[A\n",
      " 88%|██████████████████████████████████▍    | 174/197 [00:00<00:00, 180.75it/s]\u001b[A\n",
      "  0%|                                                  | 0/198 [00:00<?, ?it/s]\u001b[A\n",
      " 95%|█████████████████████████████████████  | 189/199 [00:00<00:00, 189.21it/s]\u001b[A\n",
      " 22%|████████▋                               | 43/198 [00:00<00:00, 423.39it/s]\u001b[A\n",
      "  0%|                                                  | 0/198 [00:00<?, ?it/s]\u001b[A\n",
      " 49%|███████████████████▍                    | 96/197 [00:00<00:00, 320.65it/s]\u001b[A\n",
      " 46%|██████████████████▍                     | 92/200 [00:00<00:00, 289.19it/s]\u001b[A\n",
      " 56%|█████████████████████▊                 | 109/195 [00:00<00:00, 214.31it/s]\u001b[A\n",
      " 57%|██████████████████████▎                | 114/199 [00:00<00:00, 222.85it/s]\u001b[A\n",
      " 42%|████████████████▉                       | 84/199 [00:00<00:00, 263.98it/s]\u001b[A\n",
      " 61%|███████████████████████▋               | 119/196 [00:00<00:00, 230.10it/s]\u001b[A\n",
      " 47%|██████████████████▊                     | 92/196 [00:00<00:00, 279.00it/s]\u001b[A\n",
      "100%|███████████████████████████████████████| 198/198 [00:00<00:00, 199.22it/s]\u001b[A\n",
      " 55%|█████████████████████▍                 | 109/198 [00:00<00:00, 216.82it/s]\u001b[A\n",
      " 42%|████████████████▉                       | 84/198 [00:00<00:00, 259.24it/s]\u001b[A\n",
      " 47%|██████████████████▉                     | 94/198 [00:00<00:00, 298.53it/s]\u001b[A\n",
      " 21%|████████▌                               | 42/197 [00:00<00:00, 417.12it/s]\u001b[A\n",
      " 74%|████████████████████████████▊          | 146/198 [00:00<00:00, 345.54it/s]\u001b[A\n",
      " 51%|████████████████████                   | 100/195 [00:00<00:00, 455.53it/s]\u001b[A\n",
      " 46%|██████████████████▍                     | 92/200 [00:00<00:00, 265.46it/s]\u001b[A\n",
      " 78%|██████████████████████████████▍        | 153/196 [00:00<00:00, 157.94it/s]\u001b[A\n",
      " 92%|███████████████████████████████████▊   | 181/197 [00:00<00:00, 198.82it/s]\u001b[A\n",
      "100%|███████████████████████████████████████| 197/197 [00:01<00:00, 178.27it/s]\u001b[A\n",
      "\n",
      " 80%|███████████████████████████████        | 158/198 [00:00<00:00, 177.96it/s]\u001b[A\n",
      " 26%|██████████▏                             | 50/196 [00:00<00:00, 495.07it/s]\u001b[A\n",
      " 98%|██████████████████████████████████████▍| 193/196 [00:00<00:00, 228.92it/s]\u001b[A\n",
      " 98%|██████████████████████████████████████▏| 193/197 [00:01<00:00, 163.37it/s]\u001b[A\n",
      " 71%|███████████████████████████▋           | 139/196 [00:00<00:00, 202.44it/s]\u001b[A\n",
      "100%|████████████████████████████████████████████| 1/1 [00:00<00:00,  1.41it/s]\u001b[A\n",
      "\n"
     ]
    },
    {
     "name": "stdout",
     "output_type": "stream",
     "text": [
      "Total files processed: 1"
     ]
    },
    {
     "name": "stderr",
     "output_type": "stream",
     "text": [
      " 64%|████████████████████████▉              | 127/199 [00:00<00:00, 220.26it/s]"
     ]
    },
    {
     "name": "stdout",
     "output_type": "stream",
     "text": [
      "\n"
     ]
    },
    {
     "name": "stderr",
     "output_type": "stream",
     "text": [
      "\u001b[A\n",
      " 42%|████████████████▋                       | 82/197 [00:00<00:00, 148.98it/s]\u001b[A\n",
      "100%|███████████████████████████████████████| 197/197 [00:00<00:00, 231.03it/s]\u001b[A\n",
      "/w/hallb-scshelf2102/clas12/users/gmat/clas12/neutneut/analysis/neutron_ml/../../src/TrainData.py:84: FutureWarning: The default of observed=False is deprecated and will be changed to True in a future version of pandas. Pass observed=False to retain current behavior or observed=True to adopt the future default and silence this warning.\n",
      "  group_sizes = df.groupby(group_cols).size()\n",
      "\n",
      " 73%|████████████████████████████▋          | 144/196 [00:00<00:00, 221.34it/s]\u001b[A\n",
      " 68%|██████████████████████████▌            | 133/195 [00:00<00:00, 181.74it/s]\u001b[A\n",
      " 22%|████████▉                               | 44/198 [00:00<00:00, 437.27it/s]\u001b[A\n",
      " 70%|███████████████████████████▏           | 139/199 [00:00<00:00, 190.12it/s]\u001b[A\n",
      " 67%|██████████████████████████▏            | 133/198 [00:00<00:00, 208.22it/s]\u001b[A\n",
      "  0%|                                                  | 0/199 [00:00<?, ?it/s]\u001b[A\n",
      " 66%|█████████████████████████▉             | 131/197 [00:00<00:00, 240.15it/s]\u001b[A\n",
      " 62%|████████████████████████▍              | 125/200 [00:00<00:00, 225.39it/s]\u001b[A\n",
      " 57%|██████████████████████▎                | 114/199 [00:00<00:00, 215.53it/s]\u001b[A\n",
      " 43%|█████████████████▎                      | 86/198 [00:00<00:00, 250.69it/s]\u001b[A\n",
      " 22%|████████▉                               | 44/198 [00:00<00:00, 431.89it/s]\u001b[A\n",
      " 58%|██████████████████████▍                | 114/198 [00:00<00:00, 232.04it/s]\u001b[A\n",
      "100%|███████████████████████████████████████| 199/199 [00:01<00:00, 168.00it/s]\u001b[A\n",
      "\n",
      "100%|███████████████████████████████████████| 198/198 [00:01<00:00, 178.89it/s]\u001b[A\n",
      "\n",
      " 87%|█████████████████████████████████▊     | 170/196 [00:01<00:00, 147.79it/s]\u001b[A\n",
      " 89%|██████████████████████████████████▊    | 177/198 [00:00<00:00, 167.37it/s]\u001b[A\n",
      " 43%|█████████████████                       | 84/197 [00:00<00:00, 271.34it/s]\u001b[A\n",
      " 62%|███████████████████████▉               | 123/200 [00:00<00:00, 225.21it/s]\u001b[A\n",
      " 95%|█████████████████████████████████████  | 188/198 [00:01<00:00, 146.79it/s]\u001b[A\n",
      " 82%|████████████████████████████████       | 161/196 [00:00<00:00, 184.63it/s]\u001b[A\n",
      " 93%|████████████████████████████████████▍  | 185/198 [00:00<00:00, 271.99it/s]\u001b[A\n",
      " 76%|█████████████████████████████▊         | 152/199 [00:00<00:00, 204.21it/s]\u001b[A\n",
      " 53%|████████████████████▊                  | 105/197 [00:00<00:00, 153.49it/s]\u001b[A\n",
      " 75%|█████████████████████████████▏         | 146/195 [00:00<00:00, 306.00it/s]\u001b[A\n",
      " 86%|█████████████████████████████████▍     | 168/196 [00:00<00:00, 214.19it/s]\u001b[A\n",
      " 78%|██████████████████████████████▌        | 153/195 [00:00<00:00, 178.05it/s]\u001b[A\n",
      " 51%|███████████████████▉                   | 100/196 [00:00<00:00, 313.01it/s]\u001b[A\n",
      "100%|███████████████████████████████████████| 196/196 [00:01<00:00, 193.98it/s]\u001b[A\n",
      "100%|███████████████████████████████████████| 197/197 [00:01<00:00, 155.61it/s]\n",
      "\n",
      " 78%|██████████████████████████████▌        | 155/198 [00:00<00:00, 187.90it/s]\u001b[A\n",
      " 76%|█████████████████████████████▍         | 151/200 [00:00<00:00, 213.05it/s]\u001b[A\n",
      " 69%|███████████████████████████            | 138/199 [00:00<00:00, 200.93it/s]\u001b[A\n",
      " 52%|████████████████████                   | 102/198 [00:00<00:00, 360.57it/s]\u001b[A\n",
      "100%|███████████████████████████████████████| 197/197 [00:01<00:00, 177.67it/s]\u001b[A\n",
      "\n",
      " 58%|██████████████████████▋                | 115/198 [00:00<00:00, 227.55it/s]\u001b[A\n",
      " 44%|█████████████████▊                      | 88/198 [00:00<00:00, 302.47it/s]\u001b[A\n",
      " 77%|██████████████████████████████         | 151/196 [00:00<00:00, 216.95it/s]\u001b[A\n",
      " 70%|███████████████████████████▍           | 139/198 [00:00<00:00, 202.59it/s]\u001b[A\n",
      "Processing CSV files:  78%|█████████████▉    | 388/500 [00:24<00:09, 11.50it/s]\u001b[A\n",
      " 98%|██████████████████████████████████████▍| 195/198 [00:01<00:00, 156.81it/s]\u001b[A\n",
      " 79%|██████████████████████████████▋        | 156/198 [00:00<00:00, 221.89it/s]\u001b[A\n",
      " 95%|█████████████████████████████████████  | 186/196 [00:01<00:00, 132.52it/s]\u001b[A\n",
      " 44%|█████████████████▊                      | 88/198 [00:00<00:00, 286.06it/s]\u001b[A\n",
      "100%|████████████████████████████████████████████| 1/1 [00:00<00:00,  5.00it/s]\u001b[A\n",
      " 92%|███████████████████████████████████▊   | 180/196 [00:00<00:00, 170.90it/s]\u001b[A\n",
      " 74%|████████████████████████████▊          | 148/200 [00:00<00:00, 204.57it/s]\u001b[A\n",
      " 58%|██████████████████████▌                | 114/197 [00:00<00:00, 234.34it/s]\u001b[A\n",
      " 63%|████████████████████████▋              | 125/197 [00:00<00:00, 146.37it/s]\u001b[A\n",
      " 87%|██████████████████████████████████     | 174/199 [00:00<00:00, 181.11it/s]\u001b[A\n",
      " 88%|██████████████████████████████████▍    | 172/195 [00:00<00:00, 165.62it/s]\u001b[A\n",
      " 97%|█████████████████████████████████████▊ | 190/196 [00:00<00:00, 192.71it/s]\u001b[A\n",
      " 90%|███████████████████████████████████    | 179/199 [00:00<00:00, 171.27it/s]\u001b[A\n",
      "100%|███████████████████████████████████████| 198/198 [00:01<00:00, 156.74it/s]\u001b[A\n",
      "\n",
      " 93%|████████████████████████████████████▏  | 181/195 [00:00<00:00, 262.10it/s]\u001b[A\n",
      " 88%|██████████████████████████████████▍    | 175/198 [00:00<00:00, 173.55it/s]\u001b[A\n",
      " 80%|███████████████████████████████▎       | 160/199 [00:00<00:00, 189.97it/s]\u001b[A\n",
      " 87%|█████████████████████████████████▉     | 174/200 [00:00<00:00, 198.21it/s]\u001b[A\n",
      " 69%|███████████████████████████            | 136/196 [00:00<00:00, 272.06it/s]\u001b[A\n",
      "100%|███████████████████████████████████████| 198/198 [00:00<00:00, 219.88it/s]\u001b[A\n",
      "\n",
      " 89%|██████████████████████████████████▌    | 174/196 [00:00<00:00, 204.94it/s]\u001b[A\n",
      " 81%|███████████████████████████████▋       | 161/198 [00:00<00:00, 192.78it/s]\u001b[A\n",
      " 71%|███████████████████████████▌           | 140/198 [00:00<00:00, 204.41it/s]\u001b[A\n",
      "  0%|                                                    | 0/1 [00:00<?, ?it/s]\u001b[A\n",
      " 71%|███████████████████████████▊           | 141/198 [00:00<00:00, 291.10it/s]\u001b[A\n",
      " 61%|███████████████████████▊               | 121/198 [00:00<00:00, 257.50it/s]\u001b[A\n",
      "  0%|                                                    | 0/1 [00:00<?, ?it/s]\u001b[A\n",
      " 91%|███████████████████████████████████▍   | 180/198 [00:00<00:00, 204.28it/s]\u001b[A\n",
      "  0%|                                                    | 0/1 [00:00<?, ?it/s]\u001b[A\n",
      "Processing CSV files:  78%|██████████████    | 392/500 [00:24<00:08, 13.08it/s]\u001b[A\n",
      " 73%|████████████████████████████▎          | 143/197 [00:00<00:00, 148.64it/s]\u001b[A\n",
      "100%|███████████████████████████████████████| 198/198 [00:01<00:00, 159.83it/s]\u001b[A\n",
      "\n",
      " 97%|█████████████████████████████████████▊ | 193/199 [00:00<00:00, 176.38it/s]\u001b[A\n",
      " 91%|███████████████████████████████████▋   | 181/198 [00:00<00:00, 190.12it/s]\u001b[A\n",
      " 71%|███████████████████████████▋           | 140/197 [00:00<00:00, 214.92it/s]\u001b[A\n",
      " 61%|███████████████████████▋               | 120/198 [00:00<00:00, 244.78it/s]\u001b[A\n",
      "100%|███████████████████████████████████████| 196/196 [00:01<00:00, 145.05it/s]\u001b[A\n",
      "100%|███████████████████████████████████████| 195/195 [00:00<00:00, 254.52it/s]\n",
      "100%|███████████████████████████████████████| 196/196 [00:01<00:00, 174.72it/s]\n",
      "100%|███████████████████████████████████████| 196/196 [00:01<00:00, 186.00it/s]\n",
      "\n",
      " 90%|███████████████████████████████████▎   | 180/199 [00:00<00:00, 183.95it/s]\u001b[A\n",
      "  0%|                                                    | 0/1 [00:00<?, ?it/s]\u001b[A\n",
      " 85%|█████████████████████████████████▏     | 170/200 [00:00<00:00, 191.93it/s]\u001b[A\n",
      "100%|███████████████████████████████████████| 195/195 [00:01<00:00, 174.18it/s]\u001b[A\n",
      "\n",
      "100%|███████████████████████████████████████| 196/196 [00:00<00:00, 203.02it/s]\u001b[A\n",
      " 82%|███████████████████████████████▉       | 162/198 [00:00<00:00, 199.36it/s]\u001b[A\n",
      " 85%|█████████████████████████████████      | 166/196 [00:00<00:00, 249.61it/s]\u001b[A\n",
      " 21%|████████▏                               | 41/199 [00:00<00:00, 407.68it/s]\u001b[A\n",
      "100%|███████████████████████████████████████| 197/197 [00:00<00:00, 200.44it/s]\u001b[A\n",
      "\n",
      " 87%|██████████████████████████████████     | 173/198 [00:00<00:00, 272.12it/s]\u001b[A\n",
      " 85%|█████████████████████████████████      | 167/197 [00:01<00:00, 170.51it/s]\u001b[A\n",
      "100%|███████████████████████████████████████| 198/198 [00:00<00:00, 205.36it/s]\u001b[A\n",
      "\n",
      "100%|████████████████████████████████████████████| 1/1 [00:00<00:00,  1.86it/s]\u001b[A\n",
      "\n"
     ]
    },
    {
     "name": "stdout",
     "output_type": "stream",
     "text": [
      "Total files processed: 1\n"
     ]
    },
    {
     "name": "stderr",
     "output_type": "stream",
     "text": [
      " 83%|████████████████████████████████▎      | 163/197 [00:00<00:00, 218.98it/s]\u001b[A/w/hallb-scshelf2102/clas12/users/gmat/clas12/neutneut/analysis/neutron_ml/../../src/TrainData.py:84: FutureWarning: The default of observed=False is deprecated and will be changed to True in a future version of pandas. Pass observed=False to retain current behavior or observed=True to adopt the future default and silence this warning.\n",
      "  group_sizes = df.groupby(group_cols).size()\n",
      "\n",
      "100%|███████████████████████████████████████| 199/199 [00:01<00:00, 175.66it/s]\u001b[A\n",
      "\n",
      " 74%|████████████████████████████▉          | 147/198 [00:00<00:00, 241.48it/s]\u001b[A\n",
      "  0%|                                                    | 0/1 [00:00<?, ?it/s]\u001b[A\n",
      "100%|███████████████████████████████████████| 198/198 [00:01<00:00, 169.70it/s]\u001b[A\n",
      "100%|███████████████████████████████████████| 198/198 [00:01<00:00, 197.98it/s]\n",
      "\n",
      " 95%|█████████████████████████████████████  | 190/200 [00:01<00:00, 170.02it/s]\u001b[A\n",
      " 94%|████████████████████████████████████▋  | 186/198 [00:00<00:00, 209.92it/s]\u001b[A\n",
      "  0%|                                                    | 0/1 [00:00<?, ?it/s]\u001b[A\n",
      "100%|████████████████████████████████████████████| 1/1 [00:00<00:00,  6.26it/s]\u001b[A\n",
      "100%|███████████████████████████████████████| 196/196 [00:01<00:00, 186.88it/s]\u001b[A\n",
      "\n",
      "100%|███████████████████████████████████████| 200/200 [00:01<00:00, 182.19it/s]\u001b[A\n",
      "\n",
      "100%|███████████████████████████████████████| 199/199 [00:01<00:00, 156.33it/s]\u001b[A\n",
      "\n",
      "100%|████████████████████████████████████████████| 1/1 [00:00<00:00,  5.80it/s]\u001b[A\n",
      " 41%|████████████████▍                       | 82/199 [00:00<00:00, 319.78it/s]\u001b[A\n",
      " 88%|██████████████████████████████████▎    | 174/198 [00:00<00:00, 226.78it/s]\u001b[A\n",
      "100%|███████████████████████████████████████| 198/198 [00:00<00:00, 260.19it/s]\u001b[A\n",
      "100%|███████████████████████████████████████| 196/196 [00:00<00:00, 239.74it/s]\n",
      "\n",
      "100%|███████████████████████████████████████| 198/198 [00:00<00:00, 206.40it/s]\u001b[A\n",
      "100%|████████████████████████████████████████████| 1/1 [00:00<00:00,  3.80it/s]\n",
      "\n"
     ]
    },
    {
     "name": "stdout",
     "output_type": "stream",
     "text": [
      "Total files processed: 1\n"
     ]
    },
    {
     "name": "stderr",
     "output_type": "stream",
     "text": [
      " 75%|█████████████████████████████▍         | 150/199 [00:00<00:00, 260.69it/s]\u001b[A\n",
      "  0%|                                                    | 0/1 [00:00<?, ?it/s]/w/hallb-scshelf2102/clas12/users/gmat/clas12/neutneut/analysis/neutron_ml/../../src/TrainData.py:84: FutureWarning: The default of observed=False is deprecated and will be changed to True in a future version of pandas. Pass observed=False to retain current behavior or observed=True to adopt the future default and silence this warning.\n",
      "  group_sizes = df.groupby(group_cols).size()\n",
      "\u001b[A\n",
      "  0%|                                                    | 0/1 [00:00<?, ?it/s]\u001b[A\n",
      "  0%|                                                  | 0/196 [00:00<?, ?it/s]\u001b[A\n",
      "  0%|                                                    | 0/1 [00:00<?, ?it/s]\u001b[A\n",
      "100%|████████████████████████████████████████████| 1/1 [00:00<00:00,  3.17it/s]\u001b[A\n"
     ]
    },
    {
     "name": "stdout",
     "output_type": "stream",
     "text": [
      "Total files processed: 1"
     ]
    },
    {
     "name": "stderr",
     "output_type": "stream",
     "text": [
      "100%|███████████████████████████████████████| 200/200 [00:01<00:00, 177.57it/s]"
     ]
    },
    {
     "name": "stdout",
     "output_type": "stream",
     "text": [
      "\n"
     ]
    },
    {
     "name": "stderr",
     "output_type": "stream",
     "text": [
      "\n",
      "/w/hallb-scshelf2102/clas12/users/gmat/clas12/neutneut/analysis/neutron_ml/../../src/TrainData.py:84: FutureWarning: The default of observed=False is deprecated and will be changed to True in a future version of pandas. Pass observed=False to retain current behavior or observed=True to adopt the future default and silence this warning.\n",
      "  group_sizes = df.groupby(group_cols).size()\n",
      "\n",
      "100%|███████████████████████████████████████| 199/199 [00:01<00:00, 168.89it/s]\u001b[A\n",
      "100%|████████████████████████████████████████████| 1/1 [00:00<00:00,  3.26it/s]\n",
      "\n"
     ]
    },
    {
     "name": "stdout",
     "output_type": "stream",
     "text": [
      "Total files processed: 1"
     ]
    },
    {
     "name": "stderr",
     "output_type": "stream",
     "text": [
      "100%|████████████████████████████████████████████| 1/1 [00:00<00:00,  7.31it/s]\u001b[A"
     ]
    },
    {
     "name": "stdout",
     "output_type": "stream",
     "text": [
      "\n"
     ]
    },
    {
     "name": "stderr",
     "output_type": "stream",
     "text": [
      "100%|███████████████████████████████████████| 197/197 [00:01<00:00, 155.76it/s]\n",
      "\n",
      "/w/hallb-scshelf2102/clas12/users/gmat/clas12/neutneut/analysis/neutron_ml/../../src/TrainData.py:84: FutureWarning: The default of observed=False is deprecated and will be changed to True in a future version of pandas. Pass observed=False to retain current behavior or observed=True to adopt the future default and silence this warning.\n",
      "  group_sizes = df.groupby(group_cols).size()\n",
      "100%|███████████████████████████████████████| 198/198 [00:00<00:00, 226.95it/s]\u001b[A\n",
      "  0%|                                                    | 0/1 [00:00<?, ?it/s]\u001b[A\n",
      "100%|███████████████████████████████████████| 197/197 [00:00<00:00, 206.94it/s]\u001b[A\n",
      "\n",
      "  0%|                                                    | 0/1 [00:00<?, ?it/s]\u001b[A\n",
      "100%|████████████████████████████████████████████| 1/1 [00:00<00:00,  5.01it/s]\u001b[A\n",
      "\n"
     ]
    },
    {
     "name": "stdout",
     "output_type": "stream",
     "text": [
      "Total files processed: 1"
     ]
    },
    {
     "name": "stderr",
     "output_type": "stream",
     "text": [
      "  0%|                                                    | 0/1 [00:00<?, ?it/s]"
     ]
    },
    {
     "name": "stdout",
     "output_type": "stream",
     "text": [
      "\n"
     ]
    },
    {
     "name": "stderr",
     "output_type": "stream",
     "text": [
      "100%|███████████████████████████████████████| 198/198 [00:00<00:00, 237.21it/s]/w/hallb-scshelf2102/clas12/users/gmat/clas12/neutneut/analysis/neutron_ml/../../src/TrainData.py:84: FutureWarning: The default of observed=False is deprecated and will be changed to True in a future version of pandas. Pass observed=False to retain current behavior or observed=True to adopt the future default and silence this warning.\n",
      "  group_sizes = df.groupby(group_cols).size()\n",
      "\n",
      "Processing CSV files:  80%|██████████████▎   | 399/500 [00:25<00:06, 14.61it/s]\n",
      " 89%|██████████████████████████████████▋    | 177/199 [00:00<00:00, 246.74it/s]\u001b[A\n",
      "100%|████████████████████████████████████████████| 1/1 [00:00<00:00,  6.66it/s]\u001b[A\n",
      "  0%|                                                    | 0/1 [00:00<?, ?it/s]\u001b[A\n",
      "100%|████████████████████████████████████████████| 1/1 [00:00<00:00,  3.24it/s]\u001b[A\n"
     ]
    },
    {
     "name": "stdout",
     "output_type": "stream",
     "text": [
      "Total files processed: 1"
     ]
    },
    {
     "name": "stderr",
     "output_type": "stream",
     "text": [
      "100%|███████████████████████████████████████| 198/198 [00:00<00:00, 225.28it/s]"
     ]
    },
    {
     "name": "stdout",
     "output_type": "stream",
     "text": [
      "\n"
     ]
    },
    {
     "name": "stderr",
     "output_type": "stream",
     "text": [
      "/w/hallb-scshelf2102/clas12/users/gmat/clas12/neutneut/analysis/neutron_ml/../../src/TrainData.py:84: FutureWarning: The default of observed=False is deprecated and will be changed to True in a future version of pandas. Pass observed=False to retain current behavior or observed=True to adopt the future default and silence this warning.\n",
      "  group_sizes = df.groupby(group_cols).size()\n",
      "\n",
      "\n",
      "  0%|                                                  | 0/196 [00:00<?, ?it/s]\u001b[A\n",
      "100%|████████████████████████████████████████████| 1/1 [00:00<00:00,  4.97it/s]\u001b[A\n"
     ]
    },
    {
     "name": "stdout",
     "output_type": "stream",
     "text": [
      "Total files processed: 1"
     ]
    },
    {
     "name": "stderr",
     "output_type": "stream",
     "text": [
      "\n"
     ]
    },
    {
     "name": "stdout",
     "output_type": "stream",
     "text": [
      "\n"
     ]
    },
    {
     "name": "stderr",
     "output_type": "stream",
     "text": [
      "  0%|                                                    | 0/1 [00:00<?, ?it/s]\u001b[A\n",
      "/w/hallb-scshelf2102/clas12/users/gmat/clas12/neutneut/analysis/neutron_ml/../../src/TrainData.py:84: FutureWarning: The default of observed=False is deprecated and will be changed to True in a future version of pandas. Pass observed=False to retain current behavior or observed=True to adopt the future default and silence this warning.\n",
      "  group_sizes = df.groupby(group_cols).size()\n",
      "  0%|                                                    | 0/1 [00:00<?, ?it/s]\u001b[A\n",
      "  0%|                                                    | 0/1 [00:00<?, ?it/s]\u001b[A\n",
      " 21%|████████▎                               | 41/196 [00:00<00:00, 405.13it/s]\u001b[A\n",
      "  0%|                                                    | 0/1 [00:00<?, ?it/s]\u001b[A\n",
      "  0%|                                                    | 0/1 [00:00<?, ?it/s]\u001b[A\n",
      "  0%|                                                  | 0/198 [00:00<?, ?it/s]\u001b[A\n",
      " 74%|████████████████████████████▊          | 147/199 [00:00<00:00, 297.16it/s]\u001b[A\n",
      "100%|████████████████████████████████████████████| 1/1 [00:00<00:00,  4.12it/s]\u001b[A\n",
      "100%|███████████████████████████████████████| 199/199 [00:00<00:00, 262.82it/s]\u001b[A\n",
      "\n",
      "  0%|                                                    | 0/1 [00:00<?, ?it/s]\u001b[A\n",
      "100%|████████████████████████████████████████████| 1/1 [00:00<00:00,  3.38it/s]\u001b[A\n"
     ]
    },
    {
     "name": "stdout",
     "output_type": "stream",
     "text": [
      "Total files processed: 1"
     ]
    },
    {
     "name": "stderr",
     "output_type": "stream",
     "text": [
      "\n",
      "  0%|                                                  | 0/199 [00:00<?, ?it/s]"
     ]
    },
    {
     "name": "stdout",
     "output_type": "stream",
     "text": [
      "\n"
     ]
    },
    {
     "name": "stderr",
     "output_type": "stream",
     "text": [
      "/w/hallb-scshelf2102/clas12/users/gmat/clas12/neutneut/analysis/neutron_ml/../../src/TrainData.py:84: FutureWarning: The default of observed=False is deprecated and will be changed to True in a future version of pandas. Pass observed=False to retain current behavior or observed=True to adopt the future default and silence this warning.\n",
      "  group_sizes = df.groupby(group_cols).size()\n",
      "\u001b[A\n",
      "100%|████████████████████████████████████████████| 1/1 [00:00<00:00,  5.73it/s]\u001b[A\n",
      "  0%|                                                    | 0/1 [00:00<?, ?it/s]\u001b[A\n",
      "  0%|                                                    | 0/1 [00:00<?, ?it/s]\u001b[A\n",
      "100%|████████████████████████████████████████████| 1/1 [00:00<00:00,  5.35it/s]\u001b[A\n",
      "100%|████████████████████████████████████████████| 1/1 [00:00<00:00,  4.98it/s]\u001b[A\n",
      " 18%|███████▎                                | 36/196 [00:00<00:00, 352.44it/s]\u001b[A\n",
      "100%|████████████████████████████████████████████| 1/1 [00:00<00:00,  4.76it/s]\u001b[A\n",
      " 89%|██████████████████████████████████▉    | 178/199 [00:00<00:00, 292.22it/s]\u001b[A\n",
      "100%|████████████████████████████████████████████| 1/1 [00:00<00:00,  4.59it/s]\u001b[A\n",
      "100%|████████████████████████████████████████████| 1/1 [00:00<00:00,  3.26it/s]\u001b[A\n"
     ]
    },
    {
     "name": "stdout",
     "output_type": "stream",
     "text": [
      "Total files processed: 1"
     ]
    },
    {
     "name": "stderr",
     "output_type": "stream",
     "text": [
      "\n",
      "100%|████████████████████████████████████████████| 1/1 [00:00<00:00,  5.06it/s]"
     ]
    },
    {
     "name": "stdout",
     "output_type": "stream",
     "text": [
      "\n"
     ]
    },
    {
     "name": "stderr",
     "output_type": "stream",
     "text": [
      "\u001b[A\n",
      " 21%|████████▎                               | 41/198 [00:00<00:00, 396.94it/s]/w/hallb-scshelf2102/clas12/users/gmat/clas12/neutneut/analysis/neutron_ml/../../src/TrainData.py:84: FutureWarning: The default of observed=False is deprecated and will be changed to True in a future version of pandas. Pass observed=False to retain current behavior or observed=True to adopt the future default and silence this warning.\n",
      "  group_sizes = df.groupby(group_cols).size()\n",
      "\u001b[A\n",
      "100%|████████████████████████████████████████████| 1/1 [00:00<00:00,  4.26it/s]\u001b[A\n",
      "100%|████████████████████████████████████████████| 1/1 [00:00<00:00,  4.32it/s]\u001b[A\n",
      "  0%|                                                  | 0/199 [00:00<?, ?it/s]\u001b[A\n",
      "100%|████████████████████████████████████████████| 1/1 [00:00<00:00,  4.10it/s]\u001b[A\n",
      "\n"
     ]
    },
    {
     "name": "stdout",
     "output_type": "stream",
     "text": [
      "Total files processed: 1\n"
     ]
    },
    {
     "name": "stderr",
     "output_type": "stream",
     "text": [
      "  0%|                                                    | 0/1 [00:00<?, ?it/s]\u001b[A\n",
      "/w/hallb-scshelf2102/clas12/users/gmat/clas12/neutneut/analysis/neutron_ml/../../src/TrainData.py:84: FutureWarning: The default of observed=False is deprecated and will be changed to True in a future version of pandas. Pass observed=False to retain current behavior or observed=True to adopt the future default and silence this warning.\n",
      "  group_sizes = df.groupby(group_cols).size()\n",
      "Processing CSV files:  83%|██████████████▉   | 415/500 [00:25<00:02, 31.13it/s]\u001b[A\n",
      "100%|████████████████████████████████████████████| 1/1 [00:00<00:00,  6.41it/s]\u001b[A\n",
      "  0%|                                                  | 0/195 [00:00<?, ?it/s]\u001b[A\n",
      "100%|████████████████████████████████████████████| 1/1 [00:00<00:00,  3.47it/s]\u001b[A\n",
      "\n"
     ]
    },
    {
     "name": "stdout",
     "output_type": "stream",
     "text": [
      "Total files processed: 1\n"
     ]
    },
    {
     "name": "stderr",
     "output_type": "stream",
     "text": [
      "100%|████████████████████████████████████████████| 1/1 [00:00<00:00,  5.35it/s]\u001b[A\n",
      "100%|████████████████████████████████████████████| 1/1 [00:00<00:00,  5.20it/s]/w/hallb-scshelf2102/clas12/users/gmat/clas12/neutneut/analysis/neutron_ml/../../src/TrainData.py:84: FutureWarning: The default of observed=False is deprecated and will be changed to True in a future version of pandas. Pass observed=False to retain current behavior or observed=True to adopt the future default and silence this warning.\n",
      "  group_sizes = df.groupby(group_cols).size()\n",
      "\u001b[A\n",
      "  0%|                                                    | 0/1 [00:00<?, ?it/s]\u001b[A\n",
      "100%|████████████████████████████████████████████| 1/1 [00:00<00:00,  2.86it/s]\u001b[A\n"
     ]
    },
    {
     "name": "stdout",
     "output_type": "stream",
     "text": [
      "Total files processed: 1"
     ]
    },
    {
     "name": "stderr",
     "output_type": "stream",
     "text": [
      "100%|████████████████████████████████████████████| 1/1 [00:00<00:00,  2.79it/s]"
     ]
    },
    {
     "name": "stdout",
     "output_type": "stream",
     "text": [
      "\n"
     ]
    },
    {
     "name": "stderr",
     "output_type": "stream",
     "text": [
      "\n"
     ]
    },
    {
     "name": "stdout",
     "output_type": "stream",
     "text": [
      "Total files processed: 1\n"
     ]
    },
    {
     "name": "stderr",
     "output_type": "stream",
     "text": [
      "\n",
      "/w/hallb-scshelf2102/clas12/users/gmat/clas12/neutneut/analysis/neutron_ml/../../src/TrainData.py:84: FutureWarning: The default of observed=False is deprecated and will be changed to True in a future version of pandas. Pass observed=False to retain current behavior or observed=True to adopt the future default and silence this warning.\n",
      "  group_sizes = df.groupby(group_cols).size()\n",
      "  0%|                                                    | 0/1 [00:00<?, ?it/s]\u001b[A\n",
      "100%|████████████████████████████████████████████| 1/1 [00:00<00:00,  4.74it/s]\u001b[A/w/hallb-scshelf2102/clas12/users/gmat/clas12/neutneut/analysis/neutron_ml/../../src/TrainData.py:84: FutureWarning: The default of observed=False is deprecated and will be changed to True in a future version of pandas. Pass observed=False to retain current behavior or observed=True to adopt the future default and silence this warning.\n",
      "  group_sizes = df.groupby(group_cols).size()\n",
      "\n",
      "100%|████████████████████████████████████████████| 1/1 [00:00<00:00,  5.12it/s]\u001b[A\n",
      "100%|████████████████████████████████████████████| 1/1 [00:00<00:00,  2.77it/s]\u001b[A\n",
      "\n"
     ]
    },
    {
     "name": "stdout",
     "output_type": "stream",
     "text": [
      "Total files processed: 1"
     ]
    },
    {
     "name": "stderr",
     "output_type": "stream",
     "text": [
      "  0%|                                                  | 0/199 [00:00<?, ?it/s]"
     ]
    },
    {
     "name": "stdout",
     "output_type": "stream",
     "text": [
      "\n"
     ]
    },
    {
     "name": "stderr",
     "output_type": "stream",
     "text": [
      "\u001b[A\n",
      "100%|████████████████████████████████████████████| 1/1 [00:00<00:00,  5.94it/s]/w/hallb-scshelf2102/clas12/users/gmat/clas12/neutneut/analysis/neutron_ml/../../src/TrainData.py:84: FutureWarning: The default of observed=False is deprecated and will be changed to True in a future version of pandas. Pass observed=False to retain current behavior or observed=True to adopt the future default and silence this warning.\n",
      "  group_sizes = df.groupby(group_cols).size()\n",
      "100%|████████████████████████████████████████████| 1/1 [00:00<00:00,  2.86it/s]\n"
     ]
    },
    {
     "name": "stdout",
     "output_type": "stream",
     "text": [
      "Total files processed: 1"
     ]
    },
    {
     "name": "stderr",
     "output_type": "stream",
     "text": [
      "100%|████████████████████████████████████████████| 1/1 [00:00<00:00,  3.76it/s]"
     ]
    },
    {
     "name": "stdout",
     "output_type": "stream",
     "text": [
      "\n"
     ]
    },
    {
     "name": "stderr",
     "output_type": "stream",
     "text": [
      "\n",
      "/w/hallb-scshelf2102/clas12/users/gmat/clas12/neutneut/analysis/neutron_ml/../../src/TrainData.py:84: FutureWarning: The default of observed=False is deprecated and will be changed to True in a future version of pandas. Pass observed=False to retain current behavior or observed=True to adopt the future default and silence this warning.\n",
      "  group_sizes = df.groupby(group_cols).size()\n"
     ]
    },
    {
     "name": "stdout",
     "output_type": "stream",
     "text": [
      "Total files processed: 1"
     ]
    },
    {
     "name": "stderr",
     "output_type": "stream",
     "text": [
      "100%|████████████████████████████████████████████| 1/1 [00:00<00:00,  3.56it/s]"
     ]
    },
    {
     "name": "stdout",
     "output_type": "stream",
     "text": [
      "\n"
     ]
    },
    {
     "name": "stderr",
     "output_type": "stream",
     "text": [
      "\n",
      "\n"
     ]
    },
    {
     "name": "stdout",
     "output_type": "stream",
     "text": [
      "Total files processed: 1"
     ]
    },
    {
     "name": "stderr",
     "output_type": "stream",
     "text": [
      "/w/hallb-scshelf2102/clas12/users/gmat/clas12/neutneut/analysis/neutron_ml/../../src/TrainData.py:84: FutureWarning: The default of observed=False is deprecated and will be changed to True in a future version of pandas. Pass observed=False to retain current behavior or observed=True to adopt the future default and silence this warning.\n",
      "  group_sizes = df.groupby(group_cols).size()\n",
      "100%|████████████████████████████████████████████| 1/1 [00:00<00:00,  4.59it/s]\u001b[A"
     ]
    },
    {
     "name": "stdout",
     "output_type": "stream",
     "text": [
      "\n"
     ]
    },
    {
     "name": "stderr",
     "output_type": "stream",
     "text": [
      "100%|████████████████████████████████████████████| 1/1 [00:00<00:00,  3.11it/s]\n",
      "/w/hallb-scshelf2102/clas12/users/gmat/clas12/neutneut/analysis/neutron_ml/../../src/TrainData.py:84: FutureWarning: The default of observed=False is deprecated and will be changed to True in a future version of pandas. Pass observed=False to retain current behavior or observed=True to adopt the future default and silence this warning.\n",
      "  group_sizes = df.groupby(group_cols).size()\n",
      "\u001b[A"
     ]
    },
    {
     "name": "stdout",
     "output_type": "stream",
     "text": [
      "Total files processed: 1"
     ]
    },
    {
     "name": "stderr",
     "output_type": "stream",
     "text": [
      "\n"
     ]
    },
    {
     "name": "stdout",
     "output_type": "stream",
     "text": [
      "\n"
     ]
    },
    {
     "name": "stderr",
     "output_type": "stream",
     "text": [
      "100%|████████████████████████████████████████████| 1/1 [00:00<00:00,  3.97it/s]/w/hallb-scshelf2102/clas12/users/gmat/clas12/neutneut/analysis/neutron_ml/../../src/TrainData.py:84: FutureWarning: The default of observed=False is deprecated and will be changed to True in a future version of pandas. Pass observed=False to retain current behavior or observed=True to adopt the future default and silence this warning.\n",
      "  group_sizes = df.groupby(group_cols).size()\n",
      "\n",
      "\n",
      "100%|████████████████████████████████████████████| 1/1 [00:00<00:00,  2.80it/s]\u001b[A\n"
     ]
    },
    {
     "name": "stdout",
     "output_type": "stream",
     "text": [
      "Total files processed: 1"
     ]
    },
    {
     "name": "stderr",
     "output_type": "stream",
     "text": [
      "\n",
      "  0%|                                                    | 0/1 [00:00<?, ?it/s]"
     ]
    },
    {
     "name": "stdout",
     "output_type": "stream",
     "text": [
      "\n"
     ]
    },
    {
     "name": "stderr",
     "output_type": "stream",
     "text": [
      "\u001b[A"
     ]
    },
    {
     "name": "stdout",
     "output_type": "stream",
     "text": [
      "Total files processed: 1\n"
     ]
    },
    {
     "name": "stderr",
     "output_type": "stream",
     "text": [
      "100%|████████████████████████████████████████████| 1/1 [00:00<00:00,  3.33it/s]/w/hallb-scshelf2102/clas12/users/gmat/clas12/neutneut/analysis/neutron_ml/../../src/TrainData.py:84: FutureWarning: The default of observed=False is deprecated and will be changed to True in a future version of pandas. Pass observed=False to retain current behavior or observed=True to adopt the future default and silence this warning.\n",
      "  group_sizes = df.groupby(group_cols).size()\n",
      "\n"
     ]
    },
    {
     "name": "stdout",
     "output_type": "stream",
     "text": [
      "Total files processed: 1"
     ]
    },
    {
     "name": "stderr",
     "output_type": "stream",
     "text": [
      "100%|███████████████████████████████████████| 199/199 [00:00<00:00, 253.49it/s]\n"
     ]
    },
    {
     "name": "stdout",
     "output_type": "stream",
     "text": [
      "\n"
     ]
    },
    {
     "name": "stderr",
     "output_type": "stream",
     "text": [
      "/w/hallb-scshelf2102/clas12/users/gmat/clas12/neutneut/analysis/neutron_ml/../../src/TrainData.py:84: FutureWarning: The default of observed=False is deprecated and will be changed to True in a future version of pandas. Pass observed=False to retain current behavior or observed=True to adopt the future default and silence this warning.\n",
      "  group_sizes = df.groupby(group_cols).size()\n",
      "/w/hallb-scshelf2102/clas12/users/gmat/clas12/neutneut/analysis/neutron_ml/../../src/TrainData.py:84: FutureWarning: The default of observed=False is deprecated and will be changed to True in a future version of pandas. Pass observed=False to retain current behavior or observed=True to adopt the future default and silence this warning.\n",
      "  group_sizes = df.groupby(group_cols).size()\n",
      "100%|████████████████████████████████████████████| 1/1 [00:00<00:00,  2.57it/s]\n"
     ]
    },
    {
     "name": "stdout",
     "output_type": "stream",
     "text": [
      "Total files processed: 1\n"
     ]
    },
    {
     "name": "stderr",
     "output_type": "stream",
     "text": [
      "\n",
      "/w/hallb-scshelf2102/clas12/users/gmat/clas12/neutneut/analysis/neutron_ml/../../src/TrainData.py:84: FutureWarning: The default of observed=False is deprecated and will be changed to True in a future version of pandas. Pass observed=False to retain current behavior or observed=True to adopt the future default and silence this warning.\n",
      "  group_sizes = df.groupby(group_cols).size()\n",
      "100%|████████████████████████████████████████████| 1/1 [00:00<00:00,  3.26it/s]\u001b[A\n"
     ]
    },
    {
     "name": "stdout",
     "output_type": "stream",
     "text": [
      "Total files processed: 1\n"
     ]
    },
    {
     "name": "stderr",
     "output_type": "stream",
     "text": [
      "\n",
      "/w/hallb-scshelf2102/clas12/users/gmat/clas12/neutneut/analysis/neutron_ml/../../src/TrainData.py:84: FutureWarning: The default of observed=False is deprecated and will be changed to True in a future version of pandas. Pass observed=False to retain current behavior or observed=True to adopt the future default and silence this warning.\n",
      "  group_sizes = df.groupby(group_cols).size()\n",
      " 41%|████████████████▎                       | 81/198 [00:00<00:00, 304.00it/s]\u001b[A\n",
      "100%|████████████████████████████████████████████| 1/1 [00:00<00:00,  3.01it/s]\u001b[A\n",
      "\n"
     ]
    },
    {
     "name": "stdout",
     "output_type": "stream",
     "text": [
      "Total files processed: 1\n"
     ]
    },
    {
     "name": "stderr",
     "output_type": "stream",
     "text": [
      " 60%|███████████████████████▎               | 117/196 [00:00<00:00, 290.03it/s]\u001b[A\n",
      "/w/hallb-scshelf2102/clas12/users/gmat/clas12/neutneut/analysis/neutron_ml/../../src/TrainData.py:84: FutureWarning: The default of observed=False is deprecated and will be changed to True in a future version of pandas. Pass observed=False to retain current behavior or observed=True to adopt the future default and silence this warning.\n",
      "  group_sizes = df.groupby(group_cols).size()\n",
      " 21%|████████▍                               | 42/199 [00:00<00:00, 413.69it/s]\u001b[A\n",
      "100%|████████████████████████████████████████████| 1/1 [00:00<00:00,  3.19it/s]\u001b[A\n"
     ]
    },
    {
     "name": "stdout",
     "output_type": "stream",
     "text": [
      "Total files processed: 1"
     ]
    },
    {
     "name": "stderr",
     "output_type": "stream",
     "text": [
      "\n"
     ]
    },
    {
     "name": "stdout",
     "output_type": "stream",
     "text": [
      "\n"
     ]
    },
    {
     "name": "stderr",
     "output_type": "stream",
     "text": [
      "/w/hallb-scshelf2102/clas12/users/gmat/clas12/neutneut/analysis/neutron_ml/../../src/TrainData.py:84: FutureWarning: The default of observed=False is deprecated and will be changed to True in a future version of pandas. Pass observed=False to retain current behavior or observed=True to adopt the future default and silence this warning.\n",
      "  group_sizes = df.groupby(group_cols).size()\n",
      " 21%|████████▍                               | 41/195 [00:00<00:00, 409.01it/s]\u001b[A\n",
      "  0%|                                                  | 0/196 [00:00<?, ?it/s]\u001b[A\n",
      "100%|████████████████████████████████████████████| 1/1 [00:00<00:00,  2.58it/s]\u001b[A\n",
      "\n"
     ]
    },
    {
     "name": "stdout",
     "output_type": "stream",
     "text": [
      "Total files processed: 1"
     ]
    },
    {
     "name": "stderr",
     "output_type": "stream",
     "text": [
      "100%|████████████████████████████████████████████| 1/1 [00:00<00:00,  5.29it/s]\u001b[A"
     ]
    },
    {
     "name": "stdout",
     "output_type": "stream",
     "text": [
      "\n"
     ]
    },
    {
     "name": "stderr",
     "output_type": "stream",
     "text": [
      "\n",
      "  0%|                                                  | 0/195 [00:00<?, ?it/s]/w/hallb-scshelf2102/clas12/users/gmat/clas12/neutneut/analysis/neutron_ml/../../src/TrainData.py:84: FutureWarning: The default of observed=False is deprecated and will be changed to True in a future version of pandas. Pass observed=False to retain current behavior or observed=True to adopt the future default and silence this warning.\n",
      "  group_sizes = df.groupby(group_cols).size()\n",
      "\u001b[A\n",
      "100%|████████████████████████████████████████████| 1/1 [00:00<00:00,  5.00it/s]\u001b[A\n",
      " 51%|███████████████████▉                   | 100/196 [00:00<00:00, 259.18it/s]\u001b[A\n",
      " 19%|███████▍                                | 37/199 [00:00<00:00, 362.34it/s]\u001b[A\n",
      "  0%|                                                  | 0/197 [00:00<?, ?it/s]\u001b[A\n",
      " 56%|█████████████████████▉                 | 112/199 [00:00<00:00, 348.09it/s]\u001b[A\n",
      "100%|████████████████████████████████████████████| 1/1 [00:00<00:00,  3.39it/s]\u001b[A\n",
      "100%|████████████████████████████████████████████| 1/1 [00:00<00:00,  3.41it/s]"
     ]
    },
    {
     "name": "stdout",
     "output_type": "stream",
     "text": [
      "Total files processed: 1\n"
     ]
    },
    {
     "name": "stderr",
     "output_type": "stream",
     "text": [
      "/w/hallb-scshelf2102/clas12/users/gmat/clas12/neutneut/analysis/neutron_ml/../../src/TrainData.py:84: FutureWarning: The default of observed=False is deprecated and will be changed to True in a future version of pandas. Pass observed=False to retain current behavior or observed=True to adopt the future default and silence this warning.\n",
      "  group_sizes = df.groupby(group_cols).size()\n",
      "\n",
      "\n"
     ]
    },
    {
     "name": "stdout",
     "output_type": "stream",
     "text": [
      "Total files processed: 1\n"
     ]
    },
    {
     "name": "stderr",
     "output_type": "stream",
     "text": [
      "100%|████████████████████████████████████████████| 1/1 [00:00<00:00,  5.37it/s]\u001b[A\n",
      "/w/hallb-scshelf2102/clas12/users/gmat/clas12/neutneut/analysis/neutron_ml/../../src/TrainData.py:84: FutureWarning: The default of observed=False is deprecated and will be changed to True in a future version of pandas. Pass observed=False to retain current behavior or observed=True to adopt the future default and silence this warning.\n",
      "  group_sizes = df.groupby(group_cols).size()\n",
      "100%|████████████████████████████████████████████| 1/1 [00:00<00:00,  6.79it/s]\u001b[A\n",
      " 57%|██████████████████████▎                | 113/198 [00:00<00:00, 268.65it/s]\u001b[A\n",
      " 75%|█████████████████████████████▎         | 147/196 [00:00<00:00, 241.00it/s]\u001b[A\n",
      "  0%|                                                  | 0/196 [00:00<?, ?it/s]\u001b[A\n",
      " 55%|█████████████████████▎                 | 109/199 [00:00<00:00, 278.15it/s]\u001b[A\n",
      "  0%|                                                  | 0/199 [00:00<?, ?it/s]\u001b[A\n",
      "  0%|                                                  | 0/198 [00:00<?, ?it/s]\u001b[A\n",
      "  0%|                                                  | 0/194 [00:00<?, ?it/s]\u001b[A\n",
      "  0%|                                                  | 0/196 [00:00<?, ?it/s]\u001b[A\n",
      "  0%|                                                  | 0/195 [00:00<?, ?it/s]\u001b[A\n",
      "  0%|                                                  | 0/195 [00:00<?, ?it/s]\u001b[A\n",
      "  0%|                                                  | 0/193 [00:00<?, ?it/s]\u001b[A\n",
      "  0%|                                                  | 0/195 [00:00<?, ?it/s]\u001b[A\n",
      " 42%|████████████████▉                       | 84/199 [00:00<00:00, 319.90it/s]\u001b[A\n",
      " 24%|█████████▍                              | 47/198 [00:00<00:00, 466.54it/s]\u001b[A\n",
      "  0%|                                                  | 0/199 [00:00<?, ?it/s]\u001b[A\n",
      " 65%|█████████████████████████▎             | 127/196 [00:00<00:00, 245.63it/s]\u001b[A\n",
      " 42%|████████████████▊                       | 82/195 [00:00<00:00, 291.25it/s]\u001b[A\n",
      " 19%|███████▌                                | 37/196 [00:00<00:00, 368.94it/s]\u001b[A\n",
      "100%|████████████████████████████████████████████| 1/1 [00:00<00:00,  6.07it/s]\u001b[A\n",
      "Processing CSV files:  84%|███████████████   | 420/500 [00:25<00:03, 23.44it/s]\u001b[A\n",
      "100%|████████████████████████████████████████████| 1/1 [00:00<00:00,  5.10it/s]\u001b[A\n",
      " 21%|████████▍                               | 41/195 [00:00<00:00, 408.99it/s]\u001b[A\n",
      "  0%|                                                  | 0/196 [00:00<?, ?it/s]\u001b[A\u001b[A\n",
      "  0%|                                                  | 0/198 [00:00<?, ?it/s]\u001b[A\n",
      " 74%|█████████████████████████████          | 148/199 [00:00<00:00, 319.53it/s]\n",
      " 90%|███████████████████████████████████    | 176/196 [00:00<00:00, 253.56it/s]\u001b[A\n",
      " 71%|███████████████████████████▊           | 141/198 [00:00<00:00, 269.13it/s]\u001b[A\n",
      "100%|████████████████████████████████████████████| 1/1 [00:00<00:00,  2.49it/s]\u001b[A\n",
      "100%|████████████████████████████████████████████| 1/1 [00:00<00:00,  2.55it/s]"
     ]
    },
    {
     "name": "stdout",
     "output_type": "stream",
     "text": [
      "Total files processed: 1"
     ]
    },
    {
     "name": "stderr",
     "output_type": "stream",
     "text": [
      "\n"
     ]
    },
    {
     "name": "stdout",
     "output_type": "stream",
     "text": [
      "\n"
     ]
    },
    {
     "name": "stderr",
     "output_type": "stream",
     "text": [
      "\n"
     ]
    },
    {
     "name": "stdout",
     "output_type": "stream",
     "text": [
      "Total files processed: 1"
     ]
    },
    {
     "name": "stderr",
     "output_type": "stream",
     "text": [
      "  0%|                                                  | 0/196 [00:00<?, ?it/s]"
     ]
    },
    {
     "name": "stdout",
     "output_type": "stream",
     "text": [
      "\n"
     ]
    },
    {
     "name": "stderr",
     "output_type": "stream",
     "text": [
      "/w/hallb-scshelf2102/clas12/users/gmat/clas12/neutneut/analysis/neutron_ml/../../src/TrainData.py:84: FutureWarning: The default of observed=False is deprecated and will be changed to True in a future version of pandas. Pass observed=False to retain current behavior or observed=True to adopt the future default and silence this warning.\n",
      "  group_sizes = df.groupby(group_cols).size()\n",
      "\u001b[A/w/hallb-scshelf2102/clas12/users/gmat/clas12/neutneut/analysis/neutron_ml/../../src/TrainData.py:84: FutureWarning: The default of observed=False is deprecated and will be changed to True in a future version of pandas. Pass observed=False to retain current behavior or observed=True to adopt the future default and silence this warning.\n",
      "  group_sizes = df.groupby(group_cols).size()\n",
      "\n",
      "100%|████████████████████████████████████████████| 1/1 [00:00<00:00,  5.71it/s]\u001b[A\n",
      " 22%|████████▉                               | 44/196 [00:00<00:00, 436.67it/s]\u001b[A\n",
      " 19%|███████▍                                | 37/199 [00:00<00:00, 363.73it/s]\u001b[A\n",
      "100%|████████████████████████████████████████████| 1/1 [00:00<00:00,  2.11it/s]\u001b[A\n",
      "\n"
     ]
    },
    {
     "name": "stdout",
     "output_type": "stream",
     "text": [
      "Total files processed: 1\n"
     ]
    },
    {
     "name": "stderr",
     "output_type": "stream",
     "text": [
      " 22%|████████▋                               | 42/194 [00:00<00:00, 418.27it/s]\u001b[A\n",
      "/w/hallb-scshelf2102/clas12/users/gmat/clas12/neutneut/analysis/neutron_ml/../../src/TrainData.py:84: FutureWarning: The default of observed=False is deprecated and will be changed to True in a future version of pandas. Pass observed=False to retain current behavior or observed=True to adopt the future default and silence this warning.\n",
      "  group_sizes = df.groupby(group_cols).size()\n",
      " 23%|█████████▍                              | 46/196 [00:00<00:00, 456.63it/s]\u001b[A\n",
      " 22%|████████▌                               | 42/195 [00:00<00:00, 411.49it/s]\u001b[A\n",
      " 22%|████████▊                               | 43/195 [00:00<00:00, 429.43it/s]\u001b[A\n",
      " 59%|███████████████████████▏               | 118/199 [00:00<00:00, 254.64it/s]\u001b[A\n",
      " 22%|████████▉                               | 43/193 [00:00<00:00, 423.64it/s]\u001b[A\n",
      "  0%|                                                  | 0/195 [00:00<?, ?it/s]\u001b[A\n",
      " 23%|█████████▏                              | 45/195 [00:00<00:00, 445.67it/s]\u001b[A\n",
      " 58%|██████████████████████▊                | 114/195 [00:00<00:00, 258.20it/s]\u001b[A\n",
      " 78%|██████████████████████████████▍        | 153/196 [00:00<00:00, 209.91it/s]\u001b[A\n",
      " 47%|██████████████████▉                     | 94/198 [00:00<00:00, 314.54it/s]\u001b[A\n",
      " 38%|███████████████                         | 74/196 [00:00<00:00, 261.41it/s]\u001b[A\n",
      " 18%|███████▏                                | 36/199 [00:00<00:00, 355.71it/s]\u001b[A\n",
      " 53%|████████████████████▊                  | 106/199 [00:00<00:00, 242.22it/s]\u001b[A\n",
      "100%|████████████████████████████████████████████| 1/1 [00:00<00:00,  2.66it/s]\u001b[A\n"
     ]
    },
    {
     "name": "stdout",
     "output_type": "stream",
     "text": [
      "Total files processed: 1"
     ]
    },
    {
     "name": "stderr",
     "output_type": "stream",
     "text": [
      "\n"
     ]
    },
    {
     "name": "stdout",
     "output_type": "stream",
     "text": [
      "\n"
     ]
    },
    {
     "name": "stderr",
     "output_type": "stream",
     "text": [
      "/w/hallb-scshelf2102/clas12/users/gmat/clas12/neutneut/analysis/neutron_ml/../../src/TrainData.py:84: FutureWarning: The default of observed=False is deprecated and will be changed to True in a future version of pandas. Pass observed=False to retain current behavior or observed=True to adopt the future default and silence this warning.\n",
      "  group_sizes = df.groupby(group_cols).size()\n",
      "100%|████████████████████████████████████████████| 1/1 [00:00<00:00,  2.18it/s]\u001b[A\n",
      "\n"
     ]
    },
    {
     "name": "stdout",
     "output_type": "stream",
     "text": [
      "Total files processed: 1\n"
     ]
    },
    {
     "name": "stderr",
     "output_type": "stream",
     "text": [
      "  0%|                                                    | 0/1 [00:00<?, ?it/s]\u001b[A/w/hallb-scshelf2102/clas12/users/gmat/clas12/neutneut/analysis/neutron_ml/../../src/TrainData.py:84: FutureWarning: The default of observed=False is deprecated and will be changed to True in a future version of pandas. Pass observed=False to retain current behavior or observed=True to adopt the future default and silence this warning.\n",
      "  group_sizes = df.groupby(group_cols).size()\n",
      "100%|████████████████████████████████████████████| 1/1 [00:00<00:00,  2.01it/s]\n",
      "\n"
     ]
    },
    {
     "name": "stdout",
     "output_type": "stream",
     "text": [
      "Total files processed: 1"
     ]
    },
    {
     "name": "stderr",
     "output_type": "stream",
     "text": [
      "  0%|                                                  | 0/192 [00:00<?, ?it/s]"
     ]
    },
    {
     "name": "stdout",
     "output_type": "stream",
     "text": [
      "\n"
     ]
    },
    {
     "name": "stderr",
     "output_type": "stream",
     "text": [
      "\u001b[A\n",
      "/w/hallb-scshelf2102/clas12/users/gmat/clas12/neutneut/analysis/neutron_ml/../../src/TrainData.py:84: FutureWarning: The default of observed=False is deprecated and will be changed to True in a future version of pandas. Pass observed=False to retain current behavior or observed=True to adopt the future default and silence this warning.\n",
      "  group_sizes = df.groupby(group_cols).size()\n",
      " 42%|████████████████▊                       | 82/195 [00:00<00:00, 283.10it/s]\u001b[A\n",
      " 85%|█████████████████████████████████▎     | 169/198 [00:00<00:00, 232.20it/s]\u001b[A\n",
      " 91%|███████████████████████████████████▍   | 181/199 [00:00<00:00, 265.15it/s]\u001b[A\n",
      " 25%|██████████                              | 49/196 [00:00<00:00, 489.60it/s]\u001b[A\n",
      " 21%|████████▍                               | 42/198 [00:00<00:00, 416.80it/s]\u001b[A\n",
      " 45%|█████████████████▊                      | 88/197 [00:00<00:00, 293.77it/s]\u001b[A\n",
      " 26%|██████████▏                             | 50/196 [00:00<00:00, 493.49it/s]\u001b[A\n",
      " 43%|█████████████████▎                      | 84/194 [00:00<00:00, 332.43it/s]\u001b[A\n",
      " 37%|██████████████▊                         | 74/199 [00:00<00:00, 285.75it/s]\u001b[A\n",
      " 73%|████████████████████████████▌          | 146/199 [00:00<00:00, 239.30it/s]\u001b[A\n",
      "100%|███████████████████████████████████████| 196/196 [00:00<00:00, 200.58it/s]\u001b[A\n",
      "\n",
      " 42%|████████████████▉                       | 84/198 [00:00<00:00, 306.44it/s]\u001b[A\n",
      " 43%|█████████████████▏                      | 84/195 [00:00<00:00, 302.82it/s]\u001b[A\n",
      " 47%|██████████████████▊                     | 92/196 [00:00<00:00, 325.44it/s]\u001b[A\n",
      " 44%|█████████████████▋                      | 86/195 [00:00<00:00, 309.87it/s]\u001b[A\n",
      " 89%|██████████████████████████████████▊    | 175/196 [00:00<00:00, 186.15it/s]\u001b[A\n",
      " 45%|█████████████████▊                      | 86/193 [00:00<00:00, 300.53it/s]\u001b[A\n",
      " 72%|████████████████████████████▏          | 141/195 [00:00<00:00, 214.01it/s]\u001b[A\n",
      " 23%|█████████▏                              | 45/195 [00:00<00:00, 446.32it/s]\u001b[A\n",
      " 65%|█████████████████████████▍             | 129/198 [00:00<00:00, 262.98it/s]\u001b[A\n",
      " 52%|████████████████████▎                  | 102/196 [00:00<00:00, 216.57it/s]\u001b[A\n",
      " 66%|█████████████████████████▊             | 132/199 [00:00<00:00, 210.25it/s]\u001b[A\n",
      " 36%|██████████████▍                         | 72/199 [00:00<00:00, 253.54it/s]\u001b[A\n",
      " 82%|████████████████████████████████▏      | 164/199 [00:00<00:00, 169.92it/s]\u001b[A\n",
      " 46%|██████████████████▍                     | 90/195 [00:00<00:00, 276.08it/s]\u001b[A\n",
      "  0%|                                                  | 0/195 [00:00<?, ?it/s]\u001b[A\n",
      " 98%|██████████████████████████████████████▏| 194/198 [00:00<00:00, 194.52it/s]\u001b[A\n",
      " 58%|██████████████████████▌                | 113/195 [00:00<00:00, 212.86it/s]\u001b[A\n",
      " 23%|█████████                               | 45/199 [00:00<00:00, 440.77it/s]\u001b[A\n",
      " 86%|█████████████████████████████████▌     | 171/199 [00:00<00:00, 219.02it/s]\u001b[A\n",
      " 61%|███████████████████████▉               | 119/194 [00:00<00:00, 284.90it/s]\u001b[A\n",
      "  0%|                                                  | 0/197 [00:00<?, ?it/s]\u001b[A\n",
      " 61%|███████████████████████▊               | 120/197 [00:00<00:00, 235.59it/s]\u001b[A\n",
      " 21%|████████▌                               | 41/192 [00:00<00:00, 409.19it/s]\u001b[A\n",
      " 52%|████████████████████▍                  | 104/199 [00:00<00:00, 237.75it/s]\u001b[A\n",
      " 42%|████████████████▉                       | 84/198 [00:00<00:00, 259.59it/s]\u001b[A\n",
      " 62%|████████████████████████               | 121/196 [00:00<00:00, 249.66it/s]\u001b[A\n",
      " 50%|████████████████████                    | 98/196 [00:00<00:00, 288.97it/s]\u001b[A\n",
      " 51%|███████████████████▉                   | 100/196 [00:00<00:00, 314.13it/s]\u001b[A\n",
      " 99%|██████████████████████████████████████▊| 195/196 [00:01<00:00, 168.28it/s]\u001b[A\n",
      " 59%|███████████████████████                | 117/198 [00:00<00:00, 246.57it/s]\u001b[A\n",
      "  0%|                                                  | 0/198 [00:00<?, ?it/s]\u001b[A\n",
      " 59%|███████████████████████▏               | 116/195 [00:00<00:00, 247.80it/s]\u001b[A\n",
      " 65%|█████████████████████████▎             | 127/196 [00:00<00:00, 262.67it/s]\u001b[A\n",
      "  0%|                                                  | 0/194 [00:00<?, ?it/s]\u001b[A\n",
      "100%|███████████████████████████████████████| 199/199 [00:00<00:00, 201.01it/s]\u001b[A\n",
      "\n",
      " 61%|███████████████████████▊               | 119/195 [00:00<00:00, 234.85it/s]\u001b[A\n",
      " 62%|████████████████████████               | 119/193 [00:00<00:00, 237.13it/s]\u001b[A\n",
      "100%|████████████████████████████████████████████| 1/1 [00:00<00:00,  5.45it/s]\u001b[A\n",
      " 92%|████████████████████████████████████   | 184/199 [00:01<00:00, 157.91it/s]\u001b[A\n",
      " 78%|██████████████████████████████▍        | 155/199 [00:00<00:00, 185.03it/s]\u001b[A\n",
      " 80%|███████████████████████████████        | 158/198 [00:00<00:00, 225.03it/s]\u001b[A\n",
      " 64%|████████████████████████▊              | 125/196 [00:00<00:00, 181.56it/s]\u001b[A\n",
      " 46%|██████████████████▍                     | 90/195 [00:00<00:00, 297.67it/s]\u001b[A\n",
      "  0%|                                                  | 0/196 [00:00<?, ?it/s]\u001b[A\n",
      " 50%|███████████████████▌                   | 100/199 [00:00<00:00, 203.17it/s]\u001b[A\n",
      " 63%|████████████████████████▍              | 122/195 [00:00<00:00, 221.83it/s]\u001b[A\n",
      " 97%|██████████████████████████████████████ | 194/199 [00:00<00:00, 203.97it/s]\u001b[A\n",
      " 70%|███████████████████████████▍           | 137/195 [00:00<00:00, 193.38it/s]\u001b[A\n",
      " 74%|████████████████████████████▉          | 146/197 [00:00<00:00, 217.96it/s]\u001b[A\n",
      " 77%|█████████████████████████████▉         | 149/194 [00:00<00:00, 248.45it/s]\u001b[A\n",
      " 65%|█████████████████████████▎             | 129/199 [00:00<00:00, 212.49it/s]\u001b[A\n",
      " 76%|█████████████████████████████▍         | 148/196 [00:00<00:00, 227.37it/s]\u001b[A\n",
      " 58%|██████████████████████▍                | 114/198 [00:00<00:00, 234.87it/s]\u001b[A\n",
      " 24%|█████████▍                              | 46/195 [00:00<00:00, 418.75it/s]\u001b[A\n",
      "100%|███████████████████████████████████████| 198/198 [00:01<00:00, 174.94it/s]\u001b[A\n",
      "\n",
      " 45%|██████████████████                      | 90/199 [00:00<00:00, 289.79it/s]\u001b[A\n",
      " 43%|█████████████████                       | 82/192 [00:00<00:00, 277.25it/s]\u001b[A\n",
      " 22%|████████▉                               | 44/197 [00:00<00:00, 434.64it/s]\u001b[A\n",
      " 73%|████████████████████████████▎          | 144/198 [00:00<00:00, 217.83it/s]\u001b[A\n",
      " 94%|████████████████████████████████████▊  | 184/195 [00:00<00:00, 172.29it/s]\u001b[A\n",
      " 73%|████████████████████████████▌          | 143/195 [00:00<00:00, 215.97it/s]\u001b[A\n",
      " 69%|███████████████████████████            | 136/196 [00:00<00:00, 265.90it/s]\u001b[A\n",
      " 80%|███████████████████████████████        | 156/196 [00:00<00:00, 228.12it/s]\u001b[A\n",
      " 88%|██████████████████████████████████▎    | 175/199 [00:00<00:00, 170.54it/s]\u001b[A\n",
      " 74%|█████████████████████████████          | 145/195 [00:00<00:00, 211.40it/s]\u001b[A\n",
      " 75%|█████████████████████████████▎         | 145/193 [00:00<00:00, 213.04it/s]\u001b[A\n",
      " 92%|███████████████████████████████████▊   | 182/198 [00:00<00:00, 204.46it/s]\u001b[A\n",
      "100%|███████████████████████████████████████| 196/196 [00:01<00:00, 156.66it/s]\u001b[A\n",
      "\n",
      " 22%|████████▉                               | 44/198 [00:00<00:00, 437.98it/s]\u001b[A\n",
      "  0%|                                                  | 0/198 [00:00<?, ?it/s]\u001b[A\n",
      " 24%|█████████▍                              | 46/194 [00:00<00:00, 455.04it/s]\u001b[A\n",
      "100%|████████████████████████████████████████████| 1/1 [00:00<00:00,  2.18it/s]\u001b[A\n",
      "\n"
     ]
    },
    {
     "name": "stdout",
     "output_type": "stream",
     "text": [
      "Total files processed: 1\n"
     ]
    },
    {
     "name": "stderr",
     "output_type": "stream",
     "text": [
      " 75%|█████████████████████████████▍         | 147/195 [00:00<00:00, 205.26it/s]/w/hallb-scshelf2102/clas12/users/gmat/clas12/neutneut/analysis/neutron_ml/../../src/TrainData.py:84: FutureWarning: The default of observed=False is deprecated and will be changed to True in a future version of pandas. Pass observed=False to retain current behavior or observed=True to adopt the future default and silence this warning.\n",
      "  group_sizes = df.groupby(group_cols).size()\n",
      "\u001b[A\n",
      " 63%|████████████████████████▌              | 123/195 [00:00<00:00, 242.33it/s]\u001b[A\n",
      "  0%|                                                    | 0/1 [00:00<?, ?it/s]\u001b[A\n",
      " 81%|███████████████████████████████▌       | 158/195 [00:00<00:00, 172.87it/s]\u001b[A\n",
      " 86%|█████████████████████████████████▍     | 169/197 [00:00<00:00, 195.10it/s]\u001b[A\n",
      " 76%|█████████████████████████████▌         | 151/199 [00:00<00:00, 191.24it/s]\u001b[A\n",
      " 90%|███████████████████████████████████▏   | 175/194 [00:00<00:00, 221.23it/s]\u001b[A\n",
      "100%|███████████████████████████████████████| 199/199 [00:01<00:00, 161.55it/s]\u001b[A\n",
      "\n",
      " 22%|████████▊                               | 43/196 [00:00<00:00, 422.43it/s]\u001b[A\n",
      " 71%|███████████████████████████▌           | 140/198 [00:00<00:00, 213.20it/s]\u001b[A\n",
      "100%|███████████████████████████████████████| 199/199 [00:01<00:00, 177.93it/s]\u001b[A\n",
      "\n",
      " 84%|████████████████████████████████▉      | 167/198 [00:00<00:00, 201.91it/s]\u001b[A\n",
      " 61%|███████████████████████▉               | 122/199 [00:00<00:00, 254.29it/s]\u001b[A\n",
      " 59%|██████████████████████▉                | 113/192 [00:00<00:00, 243.36it/s]\u001b[A\n",
      " 45%|██████████████████                      | 88/195 [00:00<00:00, 294.41it/s]\u001b[A\n",
      " 85%|█████████████████████████████████▏     | 166/195 [00:00<00:00, 195.68it/s]\u001b[A\n",
      " 97%|█████████████████████████████████████▊ | 193/199 [00:01<00:00, 162.29it/s]\u001b[A\n",
      " 92%|████████████████████████████████████   | 181/196 [00:00<00:00, 211.13it/s]\u001b[A\n",
      " 45%|█████████████████▊                      | 88/197 [00:00<00:00, 307.22it/s]\u001b[A\n",
      " 87%|█████████████████████████████████▉     | 168/193 [00:00<00:00, 197.59it/s]\u001b[A\n",
      " 86%|█████████████████████████████████▌     | 168/195 [00:00<00:00, 194.90it/s]\u001b[A\n",
      " 84%|████████████████████████████████▊      | 165/196 [00:00<00:00, 233.70it/s]\u001b[A\n",
      "100%|███████████████████████████████████████| 195/195 [00:01<00:00, 167.51it/s]\u001b[A\n",
      "\n",
      " 71%|███████████████████████████▊           | 142/199 [00:00<00:00, 168.00it/s]\u001b[A\n",
      " 87%|█████████████████████████████████▊     | 169/195 [00:00<00:00, 189.58it/s]\u001b[A\n",
      " 91%|███████████████████████████████████▍   | 177/195 [00:00<00:00, 165.92it/s]\u001b[A\n",
      " 96%|█████████████████████████████████████▌ | 190/197 [00:00<00:00, 185.82it/s]\u001b[A\n",
      " 86%|█████████████████████████████████▌     | 171/199 [00:00<00:00, 180.99it/s]\u001b[A\n",
      " 44%|█████████████████▊                      | 88/198 [00:00<00:00, 291.47it/s]\u001b[A\n",
      " 77%|██████████████████████████████         | 150/195 [00:00<00:00, 215.21it/s]\u001b[A\n",
      " 99%|██████████████████████████████████████▌| 194/196 [00:00<00:00, 195.99it/s]\u001b[A\n",
      " 47%|██████████████████▉                     | 92/194 [00:00<00:00, 303.59it/s]\u001b[A\n",
      "100%|███████████████████████████████████████| 198/198 [00:01<00:00, 185.45it/s]\u001b[A\n",
      "\n",
      " 95%|█████████████████████████████████████▏ | 187/196 [00:00<00:00, 223.25it/s]\u001b[A\n",
      " 82%|████████████████████████████████       | 163/198 [00:00<00:00, 193.77it/s]\u001b[A\n",
      " 95%|█████████████████████████████████████  | 188/198 [00:00<00:00, 180.79it/s]\u001b[A\n",
      " 44%|█████████████████▌                      | 86/196 [00:00<00:00, 291.06it/s]\u001b[A\n",
      " 96%|█████████████████████████████████████▍ | 187/195 [00:00<00:00, 179.87it/s]\u001b[A\n",
      " 72%|████████████████████████████▏          | 139/192 [00:00<00:00, 209.05it/s]\u001b[A\n",
      " 75%|█████████████████████████████▏         | 149/199 [00:00<00:00, 214.11it/s]\u001b[A\n",
      "100%|███████████████████████████████████████| 194/194 [00:00<00:00, 204.52it/s]\u001b[A\n",
      "\n",
      " 91%|███████████████████████████████████▌   | 179/196 [00:01<00:00, 144.51it/s]\u001b[A\n",
      "Processing CSV files:  85%|███████████████▎  | 424/500 [00:26<00:06, 12.59it/s]\u001b[A\n",
      " 62%|████████████████████████               | 120/195 [00:00<00:00, 237.78it/s]\u001b[A\n",
      " 61%|███████████████████████▉               | 121/197 [00:00<00:00, 254.67it/s]\u001b[A\n",
      " 97%|█████████████████████████████████████▊ | 190/196 [00:00<00:00, 206.77it/s]\u001b[A\n",
      "100%|████████████████████████████████████████████| 1/1 [00:00<00:00,  6.26it/s]\u001b[A\n",
      "100%|███████████████████████████████████████| 199/199 [00:01<00:00, 161.46it/s]\u001b[A\n",
      "100%|███████████████████████████████████████| 196/196 [00:00<00:00, 199.17it/s]\n",
      "\n",
      " 99%|██████████████████████████████████████▊| 194/195 [00:01<00:00, 156.85it/s]\u001b[A\n",
      "  0%|                                                  | 0/197 [00:00<?, ?it/s]\u001b[A\n",
      " 97%|█████████████████████████████████████▊ | 189/195 [00:00<00:00, 175.85it/s]\u001b[A\n",
      " 95%|█████████████████████████████████████▏ | 190/199 [00:01<00:00, 172.00it/s]\u001b[A\n",
      "100%|███████████████████████████████████████| 197/197 [00:01<00:00, 182.72it/s]\u001b[A\n",
      "\n",
      "  0%|                                                    | 0/1 [00:00<?, ?it/s]\u001b[A\n",
      "  0%|                                                    | 0/1 [00:00<?, ?it/s]\u001b[A\n",
      "100%|███████████████████████████████████████| 196/196 [00:01<00:00, 185.98it/s]\u001b[A\n",
      "\n",
      "100%|████████████████████████████████████████████| 1/1 [00:00<00:00,  3.79it/s]\u001b[A\n"
     ]
    },
    {
     "name": "stdout",
     "output_type": "stream",
     "text": [
      "Total files processed: 1"
     ]
    },
    {
     "name": "stderr",
     "output_type": "stream",
     "text": [
      "\n"
     ]
    },
    {
     "name": "stdout",
     "output_type": "stream",
     "text": [
      "\n"
     ]
    },
    {
     "name": "stderr",
     "output_type": "stream",
     "text": [
      " 84%|████████████████████████████████▉      | 162/192 [00:00<00:00, 213.89it/s]\u001b[A\n",
      "/w/hallb-scshelf2102/clas12/users/gmat/clas12/neutneut/analysis/neutron_ml/../../src/TrainData.py:84: FutureWarning: The default of observed=False is deprecated and will be changed to True in a future version of pandas. Pass observed=False to retain current behavior or observed=True to adopt the future default and silence this warning.\n",
      "  group_sizes = df.groupby(group_cols).size()\n",
      " 87%|█████████████████████████████████▉     | 173/199 [00:00<00:00, 220.36it/s]\u001b[A\n",
      " 65%|█████████████████████████▎             | 126/194 [00:00<00:00, 259.54it/s]\u001b[A\n",
      "100%|███████████████████████████████████████| 196/196 [00:00<00:00, 208.99it/s]\u001b[A\n",
      "\n",
      "100%|███████████████████████████████████████| 195/195 [00:01<00:00, 186.06it/s]\n",
      "100%|███████████████████████████████████████| 195/195 [00:01<00:00, 185.58it/s]\n",
      "100%|███████████████████████████████████████| 195/195 [00:01<00:00, 183.27it/s]\n",
      "\n",
      " 46%|██████████████████▍                     | 91/198 [00:00<00:00, 300.07it/s]\u001b[A\n",
      "Processing CSV files:  85%|███████████████▎  | 427/500 [00:26<00:05, 13.76it/s]\u001b[A\n",
      "  0%|                                                    | 0/1 [00:00<?, ?it/s]\u001b[A\n",
      "100%|███████████████████████████████████████| 196/196 [00:00<00:00, 201.14it/s]\u001b[A\n",
      "\n",
      " 76%|█████████████████████████████▍         | 149/197 [00:00<00:00, 253.59it/s]\u001b[A\n",
      "100%|███████████████████████████████████████| 196/196 [00:01<00:00, 158.10it/s]\u001b[A\n",
      "100%|███████████████████████████████████████| 195/195 [00:01<00:00, 158.98it/s]\n",
      "\n",
      "100%|███████████████████████████████████████| 198/198 [00:01<00:00, 189.28it/s]\u001b[A\n",
      "100%|███████████████████████████████████████| 193/193 [00:01<00:00, 168.97it/s]\n",
      "\n",
      " 99%|██████████████████████████████████████▊| 194/195 [00:00<00:00, 199.06it/s]\u001b[A\n",
      "100%|███████████████████████████████████████| 199/199 [00:01<00:00, 170.03it/s]\u001b[A\n",
      "\n",
      "100%|███████████████████████████████████████| 192/192 [00:00<00:00, 236.87it/s]\u001b[A\n",
      " 79%|██████████████████████████████▉        | 154/194 [00:00<00:00, 265.04it/s]\u001b[A\n",
      " 23%|█████████▎                              | 46/197 [00:00<00:00, 459.84it/s]\u001b[A\n",
      "Processing CSV files:  86%|███████████████▍  | 430/500 [00:26<00:04, 15.32it/s]\u001b[A\n",
      " 98%|██████████████████████████████████████▍| 196/199 [00:01<00:00, 161.54it/s]\u001b[A\n",
      " 63%|████████████████████████▍              | 124/198 [00:00<00:00, 272.78it/s]\u001b[A\n",
      "100%|███████████████████████████████████████| 199/199 [00:00<00:00, 212.35it/s]\u001b[A\n",
      "\n",
      "  0%|                                                    | 0/1 [00:00<?, ?it/s]\u001b[A\n",
      " 88%|██████████████████████████████████▏    | 171/195 [00:00<00:00, 211.01it/s]\u001b[A\n",
      "  0%|                                                    | 0/1 [00:00<?, ?it/s]\u001b[A\n",
      "  0%|                                                  | 0/198 [00:00<?, ?it/s]\u001b[A\n",
      "100%|███████████████████████████████████████| 199/199 [00:01<00:00, 167.38it/s]\u001b[A\n",
      "\n",
      "100%|████████████████████████████████████████████| 1/1 [00:00<00:00,  4.29it/s]\u001b[A\n"
     ]
    },
    {
     "name": "stdout",
     "output_type": "stream",
     "text": [
      "Total files processed: 1\n"
     ]
    },
    {
     "name": "stderr",
     "output_type": "stream",
     "text": [
      "100%|███████████████████████████████████████| 192/192 [00:00<00:00, 200.65it/s]\n",
      "/w/hallb-scshelf2102/clas12/users/gmat/clas12/neutneut/analysis/neutron_ml/../../src/TrainData.py:84: FutureWarning: The default of observed=False is deprecated and will be changed to True in a future version of pandas. Pass observed=False to retain current behavior or observed=True to adopt the future default and silence this warning.\n",
      "  group_sizes = df.groupby(group_cols).size()\n",
      "\n",
      "  0%|                                                    | 0/1 [00:00<?, ?it/s]\u001b[A\n",
      "  0%|                                                    | 0/1 [00:00<?, ?it/s]\u001b[A\n",
      "Processing CSV files:  87%|███████████████▋  | 436/500 [00:26<00:03, 20.94it/s]\u001b[A\n",
      " 94%|████████████████████████████████████▌  | 182/194 [00:00<00:00, 241.38it/s]\u001b[A\n",
      "  0%|                                                    | 0/1 [00:00<?, ?it/s]\u001b[A\n",
      "100%|███████████████████████████████████████| 195/195 [00:01<00:00, 178.85it/s]\u001b[A\n",
      "\n",
      " 79%|██████████████████████████████▉        | 157/198 [00:00<00:00, 288.68it/s]\u001b[A\n",
      "  0%|                                                    | 0/1 [00:00<?, ?it/s]\u001b[A\n",
      "100%|████████████████████████████████████████████| 1/1 [00:00<00:00,  6.18it/s]\u001b[A\n",
      "  0%|                                                    | 0/1 [00:00<?, ?it/s]\u001b[A\n",
      " 99%|██████████████████████████████████████▌| 193/195 [00:00<00:00, 212.78it/s]\u001b[A\n",
      " 47%|██████████████████▋                     | 92/197 [00:00<00:00, 312.00it/s]\u001b[A\n",
      "100%|████████████████████████████████████████████| 1/1 [00:00<00:00,  3.25it/s]\u001b[A\n"
     ]
    },
    {
     "name": "stdout",
     "output_type": "stream",
     "text": [
      "Total files processed: 1"
     ]
    },
    {
     "name": "stderr",
     "output_type": "stream",
     "text": [
      "\n"
     ]
    },
    {
     "name": "stdout",
     "output_type": "stream",
     "text": [
      "\n"
     ]
    },
    {
     "name": "stderr",
     "output_type": "stream",
     "text": [
      "100%|████████████████████████████████████████████| 1/1 [00:00<00:00,  4.94it/s]\n",
      "/w/hallb-scshelf2102/clas12/users/gmat/clas12/neutneut/analysis/neutron_ml/../../src/TrainData.py:84: FutureWarning: The default of observed=False is deprecated and will be changed to True in a future version of pandas. Pass observed=False to retain current behavior or observed=True to adopt the future default and silence this warning.\n",
      "  group_sizes = df.groupby(group_cols).size()\n",
      "100%|███████████████████████████████████████| 195/195 [00:00<00:00, 221.03it/s]\u001b[A\n",
      "\n",
      "  0%|                                                    | 0/1 [00:00<?, ?it/s]\u001b[A\n",
      "100%|███████████████████████████████████████| 197/197 [00:00<00:00, 228.41it/s]\u001b[A\n",
      "\n",
      "100%|████████████████████████████████████████████| 1/1 [00:00<00:00,  4.12it/s]\u001b[A\n"
     ]
    },
    {
     "name": "stdout",
     "output_type": "stream",
     "text": [
      "Total files processed: 1"
     ]
    },
    {
     "name": "stderr",
     "output_type": "stream",
     "text": [
      "\n"
     ]
    },
    {
     "name": "stdout",
     "output_type": "stream",
     "text": [
      "\n"
     ]
    },
    {
     "name": "stderr",
     "output_type": "stream",
     "text": [
      " 20%|████████                                | 40/198 [00:00<00:00, 397.70it/s]\u001b[A\n",
      "/w/hallb-scshelf2102/clas12/users/gmat/clas12/neutneut/analysis/neutron_ml/../../src/TrainData.py:84: FutureWarning: The default of observed=False is deprecated and will be changed to True in a future version of pandas. Pass observed=False to retain current behavior or observed=True to adopt the future default and silence this warning.\n",
      "  group_sizes = df.groupby(group_cols).size()\n",
      "100%|████████████████████████████████████████████| 1/1 [00:00<00:00,  5.46it/s]\u001b[A\n",
      "100%|███████████████████████████████████████| 194/194 [00:00<00:00, 238.63it/s]\u001b[A\n",
      "\n",
      "100%|███████████████████████████████████████| 198/198 [00:00<00:00, 237.53it/s]\u001b[A\n",
      "100%|████████████████████████████████████████████| 1/1 [00:00<00:00,  3.79it/s]\n",
      "100%|███████████████████████████████████████| 196/196 [00:00<00:00, 253.51it/s]"
     ]
    },
    {
     "name": "stdout",
     "output_type": "stream",
     "text": [
      "Total files processed: 1"
     ]
    },
    {
     "name": "stderr",
     "output_type": "stream",
     "text": [
      "\n"
     ]
    },
    {
     "name": "stdout",
     "output_type": "stream",
     "text": [
      "\n"
     ]
    },
    {
     "name": "stderr",
     "output_type": "stream",
     "text": [
      "\n",
      "  0%|                                                  | 0/198 [00:00<?, ?it/s]/w/hallb-scshelf2102/clas12/users/gmat/clas12/neutneut/analysis/neutron_ml/../../src/TrainData.py:84: FutureWarning: The default of observed=False is deprecated and will be changed to True in a future version of pandas. Pass observed=False to retain current behavior or observed=True to adopt the future default and silence this warning.\n",
      "  group_sizes = df.groupby(group_cols).size()\n",
      "100%|████████████████████████████████████████████| 1/1 [00:00<00:00,  4.33it/s]\n"
     ]
    },
    {
     "name": "stdout",
     "output_type": "stream",
     "text": [
      "Total files processed: 1"
     ]
    },
    {
     "name": "stderr",
     "output_type": "stream",
     "text": [
      "\n"
     ]
    },
    {
     "name": "stdout",
     "output_type": "stream",
     "text": [
      "\n"
     ]
    },
    {
     "name": "stderr",
     "output_type": "stream",
     "text": [
      "100%|████████████████████████████████████████████| 1/1 [00:00<00:00,  7.06it/s]\u001b[A/w/hallb-scshelf2102/clas12/users/gmat/clas12/neutneut/analysis/neutron_ml/../../src/TrainData.py:84: FutureWarning: The default of observed=False is deprecated and will be changed to True in a future version of pandas. Pass observed=False to retain current behavior or observed=True to adopt the future default and silence this warning.\n",
      "  group_sizes = df.groupby(group_cols).size()\n",
      "\n",
      " 95%|█████████████████████████████████████  | 188/198 [00:00<00:00, 286.03it/s]\u001b[A\n",
      "100%|████████████████████████████████████████████| 1/1 [00:00<00:00,  6.20it/s]\u001b[A\n",
      "  0%|                                                    | 0/1 [00:00<?, ?it/s]\u001b[A\n",
      "  0%|                                                    | 0/1 [00:00<?, ?it/s]\u001b[A\n",
      "  0%|                                                    | 0/1 [00:00<?, ?it/s]\u001b[A\n",
      "  0%|                                                    | 0/1 [00:00<?, ?it/s]\u001b[A\n",
      "  0%|                                                  | 0/199 [00:00<?, ?it/s]\u001b[A\n",
      "100%|███████████████████████████████████████| 198/198 [00:00<00:00, 263.63it/s]\u001b[A\n",
      "\n",
      "  0%|                                                    | 0/1 [00:00<?, ?it/s]\u001b[A\n",
      "100%|████████████████████████████████████████████| 1/1 [00:00<00:00,  6.00it/s]\u001b[A\n",
      "Processing CSV files:  90%|████████████████▏ | 449/500 [00:27<00:01, 31.03it/s]\u001b[A\n",
      " 21%|████████▎                               | 41/198 [00:00<00:00, 401.36it/s]\u001b[A\n",
      "  0%|                                                    | 0/1 [00:00<?, ?it/s]\u001b[A\n",
      "100%|████████████████████████████████████████████| 1/1 [00:00<00:00,  6.68it/s]\u001b[A\n",
      "100%|████████████████████████████████████████████| 1/1 [00:00<00:00,  3.19it/s]\u001b[A\n"
     ]
    },
    {
     "name": "stdout",
     "output_type": "stream",
     "text": [
      "Total files processed: 1"
     ]
    },
    {
     "name": "stderr",
     "output_type": "stream",
     "text": [
      "\n"
     ]
    },
    {
     "name": "stdout",
     "output_type": "stream",
     "text": [
      "\n"
     ]
    },
    {
     "name": "stderr",
     "output_type": "stream",
     "text": [
      "100%|████████████████████████████████████████████| 1/1 [00:00<00:00,  5.14it/s]\u001b[A\n",
      "/w/hallb-scshelf2102/clas12/users/gmat/clas12/neutneut/analysis/neutron_ml/../../src/TrainData.py:84: FutureWarning: The default of observed=False is deprecated and will be changed to True in a future version of pandas. Pass observed=False to retain current behavior or observed=True to adopt the future default and silence this warning.\n",
      "  group_sizes = df.groupby(group_cols).size()\n",
      "100%|████████████████████████████████████████████| 1/1 [00:00<00:00,  4.41it/s]\u001b[A\n",
      "100%|████████████████████████████████████████████| 1/1 [00:00<00:00,  3.18it/s]\u001b[A\n"
     ]
    },
    {
     "name": "stdout",
     "output_type": "stream",
     "text": [
      "Total files processed: 1"
     ]
    },
    {
     "name": "stderr",
     "output_type": "stream",
     "text": [
      "\n"
     ]
    },
    {
     "name": "stdout",
     "output_type": "stream",
     "text": [
      "\n"
     ]
    },
    {
     "name": "stderr",
     "output_type": "stream",
     "text": [
      "100%|████████████████████████████████████████████| 1/1 [00:00<00:00,  5.29it/s]\u001b[A\n",
      "100%|████████████████████████████████████████████| 1/1 [00:00<00:00,  4.59it/s]\u001b[A/w/hallb-scshelf2102/clas12/users/gmat/clas12/neutneut/analysis/neutron_ml/../../src/TrainData.py:84: FutureWarning: The default of observed=False is deprecated and will be changed to True in a future version of pandas. Pass observed=False to retain current behavior or observed=True to adopt the future default and silence this warning.\n",
      "  group_sizes = df.groupby(group_cols).size()\n",
      "\n",
      "100%|████████████████████████████████████████████| 1/1 [00:00<00:00,  5.75it/s]\u001b[A\n",
      "  0%|                                                    | 0/1 [00:00<?, ?it/s]\u001b[A\n",
      "100%|████████████████████████████████████████████| 1/1 [00:00<00:00,  5.18it/s]\u001b[A\n",
      "100%|████████████████████████████████████████████| 1/1 [00:00<00:00,  4.63it/s]\u001b[A\n",
      "  0%|                                                  | 0/196 [00:00<?, ?it/s]\u001b[A\n",
      "  0%|                                                  | 0/196 [00:00<?, ?it/s]\u001b[A\n",
      "100%|████████████████████████████████████████████| 1/1 [00:00<00:00,  4.52it/s]\u001b[A\n",
      "\n"
     ]
    },
    {
     "name": "stdout",
     "output_type": "stream",
     "text": [
      "Total files processed: 1"
     ]
    },
    {
     "name": "stderr",
     "output_type": "stream",
     "text": [
      "100%|████████████████████████████████████████████| 1/1 [00:00<00:00,  4.89it/s]"
     ]
    },
    {
     "name": "stdout",
     "output_type": "stream",
     "text": [
      "\n"
     ]
    },
    {
     "name": "stderr",
     "output_type": "stream",
     "text": [
      "100%|████████████████████████████████████████████| 1/1 [00:00<00:00,  3.25it/s]/w/hallb-scshelf2102/clas12/users/gmat/clas12/neutneut/analysis/neutron_ml/../../src/TrainData.py:84: FutureWarning: The default of observed=False is deprecated and will be changed to True in a future version of pandas. Pass observed=False to retain current behavior or observed=True to adopt the future default and silence this warning.\n",
      "  group_sizes = df.groupby(group_cols).size()\n",
      "\n",
      "\n"
     ]
    },
    {
     "name": "stdout",
     "output_type": "stream",
     "text": [
      "Total files processed: 1\n"
     ]
    },
    {
     "name": "stderr",
     "output_type": "stream",
     "text": [
      "  0%|                                                    | 0/1 [00:00<?, ?it/s]/w/hallb-scshelf2102/clas12/users/gmat/clas12/neutneut/analysis/neutron_ml/../../src/TrainData.py:84: FutureWarning: The default of observed=False is deprecated and will be changed to True in a future version of pandas. Pass observed=False to retain current behavior or observed=True to adopt the future default and silence this warning.\n",
      "  group_sizes = df.groupby(group_cols).size()\n",
      "100%|████████████████████████████████████████████| 1/1 [00:00<00:00,  3.39it/s]\n",
      "\n"
     ]
    },
    {
     "name": "stdout",
     "output_type": "stream",
     "text": [
      "Total files processed: 1\n"
     ]
    },
    {
     "name": "stderr",
     "output_type": "stream",
     "text": [
      "100%|████████████████████████████████████████████| 1/1 [00:00<00:00,  5.23it/s]\u001b[A/w/hallb-scshelf2102/clas12/users/gmat/clas12/neutneut/analysis/neutron_ml/../../src/TrainData.py:84: FutureWarning: The default of observed=False is deprecated and will be changed to True in a future version of pandas. Pass observed=False to retain current behavior or observed=True to adopt the future default and silence this warning.\n",
      "  group_sizes = df.groupby(group_cols).size()\n",
      "100%|████████████████████████████████████████████| 1/1 [00:00<00:00,  2.77it/s]\n",
      "\n"
     ]
    },
    {
     "name": "stdout",
     "output_type": "stream",
     "text": [
      "Total files processed: 1"
     ]
    },
    {
     "name": "stderr",
     "output_type": "stream",
     "text": [
      " 80%|███████████████████████████████        | 157/197 [00:00<00:00, 252.76it/s]"
     ]
    },
    {
     "name": "stdout",
     "output_type": "stream",
     "text": [
      "\n"
     ]
    },
    {
     "name": "stderr",
     "output_type": "stream",
     "text": [
      "\u001b[A\n",
      "/w/hallb-scshelf2102/clas12/users/gmat/clas12/neutneut/analysis/neutron_ml/../../src/TrainData.py:84: FutureWarning: The default of observed=False is deprecated and will be changed to True in a future version of pandas. Pass observed=False to retain current behavior or observed=True to adopt the future default and silence this warning.\n",
      "  group_sizes = df.groupby(group_cols).size()\n",
      "100%|████████████████████████████████████████████| 1/1 [00:00<00:00,  2.88it/s]\u001b[A\n",
      "\n"
     ]
    },
    {
     "name": "stdout",
     "output_type": "stream",
     "text": [
      "Total files processed: 1\n"
     ]
    },
    {
     "name": "stderr",
     "output_type": "stream",
     "text": [
      "100%|████████████████████████████████████████████| 1/1 [00:00<00:00,  3.13it/s]\u001b[A/w/hallb-scshelf2102/clas12/users/gmat/clas12/neutneut/analysis/neutron_ml/../../src/TrainData.py:84: FutureWarning: The default of observed=False is deprecated and will be changed to True in a future version of pandas. Pass observed=False to retain current behavior or observed=True to adopt the future default and silence this warning.\n",
      "  group_sizes = df.groupby(group_cols).size()\n",
      "\n",
      "100%|████████████████████████████████████████████| 1/1 [00:00<00:00,  2.86it/s]"
     ]
    },
    {
     "name": "stdout",
     "output_type": "stream",
     "text": [
      "Total files processed: 1"
     ]
    },
    {
     "name": "stderr",
     "output_type": "stream",
     "text": [
      "\n"
     ]
    },
    {
     "name": "stdout",
     "output_type": "stream",
     "text": [
      "\n",
      "Total files processed: 1\n"
     ]
    },
    {
     "name": "stderr",
     "output_type": "stream",
     "text": [
      "\n",
      "/w/hallb-scshelf2102/clas12/users/gmat/clas12/neutneut/analysis/neutron_ml/../../src/TrainData.py:84: FutureWarning: The default of observed=False is deprecated and will be changed to True in a future version of pandas. Pass observed=False to retain current behavior or observed=True to adopt the future default and silence this warning.\n",
      "  group_sizes = df.groupby(group_cols).size()\n",
      "  0%|                                                    | 0/1 [00:00<?, ?it/s]\u001b[A/w/hallb-scshelf2102/clas12/users/gmat/clas12/neutneut/analysis/neutron_ml/../../src/TrainData.py:84: FutureWarning: The default of observed=False is deprecated and will be changed to True in a future version of pandas. Pass observed=False to retain current behavior or observed=True to adopt the future default and silence this warning.\n",
      "  group_sizes = df.groupby(group_cols).size()\n",
      "100%|████████████████████████████████████████████| 1/1 [00:00<00:00,  3.29it/s]\n",
      "\n"
     ]
    },
    {
     "name": "stdout",
     "output_type": "stream",
     "text": [
      "Total files processed: 1\n"
     ]
    },
    {
     "name": "stderr",
     "output_type": "stream",
     "text": [
      "Processing CSV files:  91%|████████████████▎ | 454/500 [00:27<00:01, 32.81it/s]\u001b[A/w/hallb-scshelf2102/clas12/users/gmat/clas12/neutneut/analysis/neutron_ml/../../src/TrainData.py:84: FutureWarning: The default of observed=False is deprecated and will be changed to True in a future version of pandas. Pass observed=False to retain current behavior or observed=True to adopt the future default and silence this warning.\n",
      "  group_sizes = df.groupby(group_cols).size()\n",
      "100%|████████████████████████████████████████████| 1/1 [00:00<00:00,  3.27it/s]\n",
      "\n"
     ]
    },
    {
     "name": "stdout",
     "output_type": "stream",
     "text": [
      "Total files processed: 1\n"
     ]
    },
    {
     "name": "stderr",
     "output_type": "stream",
     "text": [
      " 59%|███████████████████████                | 117/198 [00:00<00:00, 275.07it/s]\u001b[A\n",
      "/w/hallb-scshelf2102/clas12/users/gmat/clas12/neutneut/analysis/neutron_ml/../../src/TrainData.py:84: FutureWarning: The default of observed=False is deprecated and will be changed to True in a future version of pandas. Pass observed=False to retain current behavior or observed=True to adopt the future default and silence this warning.\n",
      "  group_sizes = df.groupby(group_cols).size()\n",
      " 41%|████████████████▌                       | 82/198 [00:00<00:00, 319.64it/s]\u001b[A\n",
      "100%|████████████████████████████████████████████| 1/1 [00:00<00:00,  5.38it/s]\u001b[A\n",
      "100%|████████████████████████████████████████████| 1/1 [00:00<00:00,  5.69it/s]\u001b[A\n",
      "100%|████████████████████████████████████████████| 1/1 [00:00<00:00,  5.50it/s]\u001b[A\n",
      "100%|████████████████████████████████████████████| 1/1 [00:00<00:00,  8.19it/s]\u001b[A\n",
      "100%|████████████████████████████████████████████| 1/1 [00:00<00:00,  2.79it/s]\u001b[A\n",
      "\n"
     ]
    },
    {
     "name": "stdout",
     "output_type": "stream",
     "text": [
      "Total files processed: 1"
     ]
    },
    {
     "name": "stderr",
     "output_type": "stream",
     "text": [
      " 19%|███████▊                                | 38/196 [00:00<00:00, 377.94it/s]"
     ]
    },
    {
     "name": "stdout",
     "output_type": "stream",
     "text": [
      "\n"
     ]
    },
    {
     "name": "stderr",
     "output_type": "stream",
     "text": [
      "\u001b[A\n",
      " 23%|█████████▍                              | 46/196 [00:00<00:00, 458.13it/s]/w/hallb-scshelf2102/clas12/users/gmat/clas12/neutneut/analysis/neutron_ml/../../src/TrainData.py:84: FutureWarning: The default of observed=False is deprecated and will be changed to True in a future version of pandas. Pass observed=False to retain current behavior or observed=True to adopt the future default and silence this warning.\n",
      "  group_sizes = df.groupby(group_cols).size()\n",
      "100%|████████████████████████████████████████████| 1/1 [00:00<00:00,  2.76it/s]\n"
     ]
    },
    {
     "name": "stdout",
     "output_type": "stream",
     "text": [
      "Total files processed: 1"
     ]
    },
    {
     "name": "stderr",
     "output_type": "stream",
     "text": [
      "100%|████████████████████████████████████████████| 1/1 [00:00<00:00,  2.59it/s]\n"
     ]
    },
    {
     "name": "stdout",
     "output_type": "stream",
     "text": [
      "\n",
      "Total files processed: 1"
     ]
    },
    {
     "name": "stderr",
     "output_type": "stream",
     "text": [
      "\n",
      "  0%|                                                    | 0/1 [00:00<?, ?it/s]"
     ]
    },
    {
     "name": "stdout",
     "output_type": "stream",
     "text": [
      "\n"
     ]
    },
    {
     "name": "stderr",
     "output_type": "stream",
     "text": [
      "/w/hallb-scshelf2102/clas12/users/gmat/clas12/neutneut/analysis/neutron_ml/../../src/TrainData.py:84: FutureWarning: The default of observed=False is deprecated and will be changed to True in a future version of pandas. Pass observed=False to retain current behavior or observed=True to adopt the future default and silence this warning.\n",
      "  group_sizes = df.groupby(group_cols).size()\n",
      "\u001b[A\n",
      "/w/hallb-scshelf2102/clas12/users/gmat/clas12/neutneut/analysis/neutron_ml/../../src/TrainData.py:84: FutureWarning: The default of observed=False is deprecated and will be changed to True in a future version of pandas. Pass observed=False to retain current behavior or observed=True to adopt the future default and silence this warning.\n",
      "  group_sizes = df.groupby(group_cols).size()\n",
      " 18%|███████                                 | 35/197 [00:00<00:00, 347.79it/s]\u001b[A\n",
      "  0%|                                                    | 0/1 [00:00<?, ?it/s]\u001b[A\n",
      "  0%|                                                  | 0/197 [00:00<?, ?it/s]\u001b[A\n",
      "100%|████████████████████████████████████████████| 1/1 [00:00<00:00,  5.91it/s]\u001b[A\n",
      "100%|████████████████████████████████████████████| 1/1 [00:00<00:00,  3.61it/s]\u001b[A\n",
      "100%|████████████████████████████████████████████| 1/1 [00:00<00:00,  3.58it/s]\n"
     ]
    },
    {
     "name": "stdout",
     "output_type": "stream",
     "text": [
      "Total files processed: 1"
     ]
    },
    {
     "name": "stderr",
     "output_type": "stream",
     "text": [
      "\n"
     ]
    },
    {
     "name": "stdout",
     "output_type": "stream",
     "text": [
      "Total files processed: 1\n"
     ]
    },
    {
     "name": "stderr",
     "output_type": "stream",
     "text": [
      "  0%|                                                  | 0/195 [00:00<?, ?it/s]"
     ]
    },
    {
     "name": "stdout",
     "output_type": "stream",
     "text": [
      "\n"
     ]
    },
    {
     "name": "stderr",
     "output_type": "stream",
     "text": [
      "\u001b[A/w/hallb-scshelf2102/clas12/users/gmat/clas12/neutneut/analysis/neutron_ml/../../src/TrainData.py:84: FutureWarning: The default of observed=False is deprecated and will be changed to True in a future version of pandas. Pass observed=False to retain current behavior or observed=True to adopt the future default and silence this warning.\n",
      "  group_sizes = df.groupby(group_cols).size()\n",
      "/w/hallb-scshelf2102/clas12/users/gmat/clas12/neutneut/analysis/neutron_ml/../../src/TrainData.py:84: FutureWarning: The default of observed=False is deprecated and will be changed to True in a future version of pandas. Pass observed=False to retain current behavior or observed=True to adopt the future default and silence this warning.\n",
      "  group_sizes = df.groupby(group_cols).size()\n",
      "\n",
      "100%|████████████████████████████████████████████| 1/1 [00:00<00:00,  3.15it/s]\u001b[A\n",
      "\n"
     ]
    },
    {
     "name": "stdout",
     "output_type": "stream",
     "text": [
      "Total files processed: 1\n"
     ]
    },
    {
     "name": "stderr",
     "output_type": "stream",
     "text": [
      "100%|████████████████████████████████████████████| 1/1 [00:00<00:00,  5.20it/s]\u001b[A/w/hallb-scshelf2102/clas12/users/gmat/clas12/neutneut/analysis/neutron_ml/../../src/TrainData.py:84: FutureWarning: The default of observed=False is deprecated and will be changed to True in a future version of pandas. Pass observed=False to retain current behavior or observed=True to adopt the future default and silence this warning.\n",
      "  group_sizes = df.groupby(group_cols).size()\n",
      "100%|████████████████████████████████████████████| 1/1 [00:00<00:00,  3.04it/s]\n",
      "\n"
     ]
    },
    {
     "name": "stdout",
     "output_type": "stream",
     "text": [
      "Total files processed: 1"
     ]
    },
    {
     "name": "stderr",
     "output_type": "stream",
     "text": [
      "  0%|                                                  | 0/200 [00:00<?, ?it/s]"
     ]
    },
    {
     "name": "stdout",
     "output_type": "stream",
     "text": [
      "\n"
     ]
    },
    {
     "name": "stderr",
     "output_type": "stream",
     "text": [
      "100%|████████████████████████████████████████████| 1/1 [00:00<00:00,  3.63it/s]\n",
      "/w/hallb-scshelf2102/clas12/users/gmat/clas12/neutneut/analysis/neutron_ml/../../src/TrainData.py:84: FutureWarning: The default of observed=False is deprecated and will be changed to True in a future version of pandas. Pass observed=False to retain current behavior or observed=True to adopt the future default and silence this warning.\n",
      "  group_sizes = df.groupby(group_cols).size()\n",
      "\n",
      " 36%|██████████████▏                         | 70/197 [00:00<00:00, 287.52it/s]"
     ]
    },
    {
     "name": "stdout",
     "output_type": "stream",
     "text": [
      "Total files processed: 1"
     ]
    },
    {
     "name": "stderr",
     "output_type": "stream",
     "text": [
      "\u001b[A"
     ]
    },
    {
     "name": "stdout",
     "output_type": "stream",
     "text": [
      "\n"
     ]
    },
    {
     "name": "stderr",
     "output_type": "stream",
     "text": [
      "\n",
      "  0%|                                                  | 0/197 [00:00<?, ?it/s]\u001b[A/w/hallb-scshelf2102/clas12/users/gmat/clas12/neutneut/analysis/neutron_ml/../../src/TrainData.py:84: FutureWarning: The default of observed=False is deprecated and will be changed to True in a future version of pandas. Pass observed=False to retain current behavior or observed=True to adopt the future default and silence this warning.\n",
      "  group_sizes = df.groupby(group_cols).size()\n",
      "\n",
      "100%|████████████████████████████████████████████| 1/1 [00:00<00:00,  5.03it/s]\u001b[A\n",
      " 37%|██████████████▊                         | 74/199 [00:00<00:00, 252.52it/s]\u001b[A\n",
      " 58%|██████████████████████▋                | 115/198 [00:00<00:00, 286.29it/s]\u001b[A\n",
      "  0%|                                                  | 0/197 [00:00<?, ?it/s]\u001b[A\n",
      "100%|████████████████████████████████████████████| 1/1 [00:00<00:00,  4.99it/s]\u001b[A\n",
      " 39%|███████████████▌                        | 76/196 [00:00<00:00, 318.08it/s]\u001b[A\n",
      "100%|████████████████████████████████████████████| 1/1 [00:00<00:00,  2.94it/s]\u001b[A\n"
     ]
    },
    {
     "name": "stdout",
     "output_type": "stream",
     "text": [
      "Total files processed: 1\n"
     ]
    },
    {
     "name": "stderr",
     "output_type": "stream",
     "text": [
      "/w/hallb-scshelf2102/clas12/users/gmat/clas12/neutneut/analysis/neutron_ml/../../src/TrainData.py:84: FutureWarning: The default of observed=False is deprecated and will be changed to True in a future version of pandas. Pass observed=False to retain current behavior or observed=True to adopt the future default and silence this warning.\n",
      "  group_sizes = df.groupby(group_cols).size()\n",
      "\n",
      "  0%|                                                  | 0/198 [00:00<?, ?it/s]\u001b[A\n",
      " 47%|██████████████████▊                     | 92/196 [00:00<00:00, 350.09it/s]\u001b[A\n",
      "  0%|                                                  | 0/198 [00:00<?, ?it/s]\u001b[A\n",
      "100%|████████████████████████████████████████████| 1/1 [00:00<00:00,  6.07it/s]\u001b[A\n",
      " 20%|████████                                | 40/197 [00:00<00:00, 395.53it/s]\u001b[A\n",
      "100%|████████████████████████████████████████████| 1/1 [00:00<00:00,  5.67it/s]\u001b[A\n",
      "  0%|                                                  | 0/197 [00:00<?, ?it/s]\u001b[A\n",
      "100%|███████████████████████████████████████| 197/197 [00:00<00:00, 217.98it/s]\u001b[A\n",
      "100%|████████████████████████████████████████████| 1/1 [00:00<00:00,  3.23it/s]\n",
      "100%|████████████████████████████████████████████| 1/1 [00:00<00:00,  2.66it/s]"
     ]
    },
    {
     "name": "stdout",
     "output_type": "stream",
     "text": [
      "Total files processed: 1\n"
     ]
    },
    {
     "name": "stderr",
     "output_type": "stream",
     "text": [
      "\n",
      "\n"
     ]
    },
    {
     "name": "stdout",
     "output_type": "stream",
     "text": [
      "Total files processed: 1"
     ]
    },
    {
     "name": "stderr",
     "output_type": "stream",
     "text": [
      "  0%|                                                  | 0/194 [00:00<?, ?it/s]"
     ]
    },
    {
     "name": "stdout",
     "output_type": "stream",
     "text": [
      "\n"
     ]
    },
    {
     "name": "stderr",
     "output_type": "stream",
     "text": [
      "\u001b[A/w/hallb-scshelf2102/clas12/users/gmat/clas12/neutneut/analysis/neutron_ml/../../src/TrainData.py:84: FutureWarning: The default of observed=False is deprecated and will be changed to True in a future version of pandas. Pass observed=False to retain current behavior or observed=True to adopt the future default and silence this warning.\n",
      "  group_sizes = df.groupby(group_cols).size()\n",
      "\n",
      "  0%|                                                  | 0/194 [00:00<?, ?it/s]/w/hallb-scshelf2102/clas12/users/gmat/clas12/neutneut/analysis/neutron_ml/../../src/TrainData.py:84: FutureWarning: The default of observed=False is deprecated and will be changed to True in a future version of pandas. Pass observed=False to retain current behavior or observed=True to adopt the future default and silence this warning.\n",
      "  group_sizes = df.groupby(group_cols).size()\n",
      "\u001b[A\n",
      " 74%|████████████████████████████▉          | 147/198 [00:00<00:00, 260.79it/s]\u001b[A\n",
      " 19%|███████▌                                | 37/195 [00:00<00:00, 369.05it/s]\u001b[A\n",
      " 23%|█████████▏                              | 45/196 [00:00<00:00, 443.64it/s]\u001b[A\n",
      "100%|████████████████████████████████████████████| 1/1 [00:00<00:00,  2.54it/s]\u001b[A\n",
      "\n",
      "  0%|                                                  | 0/198 [00:00<?, ?it/s]\u001b[A"
     ]
    },
    {
     "name": "stdout",
     "output_type": "stream",
     "text": [
      "Total files processed: 1\n"
     ]
    },
    {
     "name": "stderr",
     "output_type": "stream",
     "text": [
      "/w/hallb-scshelf2102/clas12/users/gmat/clas12/neutneut/analysis/neutron_ml/../../src/TrainData.py:84: FutureWarning: The default of observed=False is deprecated and will be changed to True in a future version of pandas. Pass observed=False to retain current behavior or observed=True to adopt the future default and silence this warning.\n",
      "  group_sizes = df.groupby(group_cols).size()\n",
      "\n",
      "100%|████████████████████████████████████████████| 1/1 [00:00<00:00,  5.74it/s]\u001b[A\n",
      " 51%|███████████████████▉                   | 102/199 [00:00<00:00, 230.47it/s]\u001b[A\n",
      " 73%|████████████████████████████▌          | 145/198 [00:00<00:00, 257.32it/s]\u001b[A\n",
      "100%|████████████████████████████████████████████| 1/1 [00:00<00:00,  2.74it/s]\u001b[A\n"
     ]
    },
    {
     "name": "stdout",
     "output_type": "stream",
     "text": [
      "Total files processed: 1"
     ]
    },
    {
     "name": "stderr",
     "output_type": "stream",
     "text": [
      "\n"
     ]
    },
    {
     "name": "stdout",
     "output_type": "stream",
     "text": [
      "\n"
     ]
    },
    {
     "name": "stderr",
     "output_type": "stream",
     "text": [
      "100%|████████████████████████████████████████████| 1/1 [00:00<00:00,  5.20it/s]\u001b[A\n",
      "/w/hallb-scshelf2102/clas12/users/gmat/clas12/neutneut/analysis/neutron_ml/../../src/TrainData.py:84: FutureWarning: The default of observed=False is deprecated and will be changed to True in a future version of pandas. Pass observed=False to retain current behavior or observed=True to adopt the future default and silence this warning.\n",
      "  group_sizes = df.groupby(group_cols).size()\n",
      " 20%|████████                                | 40/197 [00:00<00:00, 399.35it/s]\u001b[A\n",
      " 56%|█████████████████████▋                 | 109/196 [00:00<00:00, 290.03it/s]\u001b[A\n",
      "  0%|                                                  | 0/197 [00:00<?, ?it/s]\u001b[A\n",
      "  0%|                                                  | 0/197 [00:00<?, ?it/s]\u001b[A\n",
      " 20%|████████                                | 40/197 [00:00<00:00, 389.67it/s]\u001b[A\n",
      " 66%|█████████████████████████▋             | 129/196 [00:00<00:00, 298.84it/s]\u001b[A\n",
      " 19%|███████▋                                | 38/198 [00:00<00:00, 379.24it/s]\u001b[A\n",
      " 41%|████████████████▏                       | 80/197 [00:00<00:00, 310.45it/s]\u001b[A\n",
      "100%|████████████████████████████████████████████| 1/1 [00:00<00:00,  2.56it/s]\u001b[A\n"
     ]
    },
    {
     "name": "stdout",
     "output_type": "stream",
     "text": [
      "Total files processed: 1"
     ]
    },
    {
     "name": "stderr",
     "output_type": "stream",
     "text": [
      "\n"
     ]
    },
    {
     "name": "stdout",
     "output_type": "stream",
     "text": [
      "\n"
     ]
    },
    {
     "name": "stderr",
     "output_type": "stream",
     "text": [
      "  0%|                                                  | 0/194 [00:00<?, ?it/s]\u001b[A/w/hallb-scshelf2102/clas12/users/gmat/clas12/neutneut/analysis/neutron_ml/../../src/TrainData.py:84: FutureWarning: The default of observed=False is deprecated and will be changed to True in a future version of pandas. Pass observed=False to retain current behavior or observed=True to adopt the future default and silence this warning.\n",
      "  group_sizes = df.groupby(group_cols).size()\n",
      "\n",
      "  0%|                                                  | 0/199 [00:00<?, ?it/s]\u001b[A\n",
      " 58%|██████████████████████▌                | 114/197 [00:00<00:00, 349.46it/s]\u001b[A\n",
      " 20%|████████                                | 40/197 [00:00<00:00, 392.67it/s]\u001b[A\n",
      " 21%|████████▎                               | 41/197 [00:00<00:00, 406.44it/s]\u001b[A\n",
      " 88%|██████████████████████████████████▍    | 175/198 [00:00<00:00, 184.02it/s]\u001b[A\n",
      " 38%|███████████████▏                        | 74/195 [00:00<00:00, 273.38it/s]\u001b[A\n",
      " 18%|███████▏                                | 35/194 [00:00<00:00, 341.43it/s]\u001b[A\n",
      "  0%|                                                  | 0/198 [00:00<?, ?it/s]\u001b[A\n",
      " 22%|████████▋                               | 42/194 [00:00<00:00, 415.76it/s]\u001b[A\n",
      "100%|████████████████████████████████████████████| 1/1 [00:00<00:00,  2.16it/s]\u001b[A\n",
      "\n",
      " 64%|████████████████████████▉              | 127/199 [00:00<00:00, 203.61it/s]\u001b[A"
     ]
    },
    {
     "name": "stdout",
     "output_type": "stream",
     "text": [
      "Total files processed: 1\n"
     ]
    },
    {
     "name": "stderr",
     "output_type": "stream",
     "text": [
      "/w/hallb-scshelf2102/clas12/users/gmat/clas12/neutneut/analysis/neutron_ml/../../src/TrainData.py:84: FutureWarning: The default of observed=False is deprecated and will be changed to True in a future version of pandas. Pass observed=False to retain current behavior or observed=True to adopt the future default and silence this warning.\n",
      "  group_sizes = df.groupby(group_cols).size()\n",
      "\n",
      " 20%|███████▊                                | 38/194 [00:00<00:00, 372.23it/s]\u001b[A\n",
      "100%|████████████████████████████████████████████| 1/1 [00:00<00:00,  2.26it/s]\u001b[A\n"
     ]
    },
    {
     "name": "stdout",
     "output_type": "stream",
     "text": [
      "Total files processed: 1"
     ]
    },
    {
     "name": "stderr",
     "output_type": "stream",
     "text": [
      "\n"
     ]
    },
    {
     "name": "stdout",
     "output_type": "stream",
     "text": [
      "\n"
     ]
    },
    {
     "name": "stderr",
     "output_type": "stream",
     "text": [
      " 87%|█████████████████████████████████▉     | 172/198 [00:00<00:00, 222.45it/s]/w/hallb-scshelf2102/clas12/users/gmat/clas12/neutneut/analysis/neutron_ml/../../src/TrainData.py:84: FutureWarning: The default of observed=False is deprecated and will be changed to True in a future version of pandas. Pass observed=False to retain current behavior or observed=True to adopt the future default and silence this warning.\n",
      "  group_sizes = df.groupby(group_cols).size()\n",
      "\u001b[A\n",
      " 21%|████████▎                               | 41/198 [00:00<00:00, 401.74it/s]\u001b[A\n",
      " 34%|█████████████▌                          | 68/200 [00:00<00:00, 229.52it/s]\u001b[A\n",
      " 71%|███████████████████████████▋           | 139/196 [00:00<00:00, 240.99it/s]\u001b[A\n",
      "100%|████████████████████████████████████████████| 1/1 [00:00<00:00,  2.09it/s]\u001b[A\n",
      "\n"
     ]
    },
    {
     "name": "stdout",
     "output_type": "stream",
     "text": [
      "Total files processed: 1\n"
     ]
    },
    {
     "name": "stderr",
     "output_type": "stream",
     "text": [
      " 41%|████████████████▏                       | 80/197 [00:00<00:00, 257.20it/s]\u001b[A/w/hallb-scshelf2102/clas12/users/gmat/clas12/neutneut/analysis/neutron_ml/../../src/TrainData.py:84: FutureWarning: The default of observed=False is deprecated and will be changed to True in a future version of pandas. Pass observed=False to retain current behavior or observed=True to adopt the future default and silence this warning.\n",
      "  group_sizes = df.groupby(group_cols).size()\n",
      "\n",
      " 82%|████████████████████████████████       | 161/196 [00:00<00:00, 269.29it/s]\u001b[A\n",
      " 40%|████████████████                        | 79/197 [00:00<00:00, 282.19it/s]\u001b[A\n",
      " 12%|████▋                                   | 23/197 [00:00<00:00, 229.85it/s]\u001b[A\n",
      " 57%|██████████████████████▎                | 113/197 [00:00<00:00, 273.16it/s]\u001b[A\n",
      " 25%|██████████▏                             | 50/197 [00:00<00:00, 499.11it/s]\u001b[A\n",
      "  0%|                                                  | 0/199 [00:00<?, ?it/s]\u001b[A\n",
      " 38%|███████████████▎                        | 76/198 [00:00<00:00, 272.75it/s]\u001b[A\n",
      " 99%|██████████████████████████████████████▊| 197/198 [00:01<00:00, 177.21it/s]\u001b[A\n",
      " 40%|████████████████▏                       | 80/198 [00:00<00:00, 285.24it/s]\u001b[A\n",
      " 77%|█████████████████████████████▉         | 151/197 [00:00<00:00, 228.57it/s]\u001b[A\n",
      " 22%|████████▊                               | 43/194 [00:00<00:00, 423.66it/s]\u001b[A\n",
      " 41%|████████████████▏                       | 80/197 [00:00<00:00, 283.78it/s]\u001b[A\n",
      " 20%|████████                                | 40/199 [00:00<00:00, 394.07it/s]\u001b[A\n",
      " 53%|████████████████████▌                  | 103/195 [00:00<00:00, 231.30it/s]\u001b[A\n",
      " 42%|████████████████▋                       | 82/197 [00:00<00:00, 282.90it/s]\u001b[A\n",
      " 75%|█████████████████████████████▏         | 149/199 [00:00<00:00, 187.57it/s]\u001b[A\n",
      " 36%|██████████████▍                         | 70/194 [00:00<00:00, 243.38it/s]\u001b[A\n",
      "  0%|                                                  | 0/196 [00:00<?, ?it/s]\u001b[A\n",
      " 98%|██████████████████████████████████████▍| 195/198 [00:00<00:00, 194.26it/s]\u001b[A\n",
      " 23%|█████████                               | 45/198 [00:00<00:00, 445.26it/s]\u001b[A\n",
      " 43%|█████████████████▎                      | 84/194 [00:00<00:00, 266.87it/s]\u001b[A\n",
      " 22%|████████▉                               | 44/197 [00:00<00:00, 432.49it/s]\u001b[A\n",
      " 63%|████████████████████████▋              | 124/196 [00:00<00:00, 246.13it/s]\u001b[A\n",
      " 39%|███████████████▋                        | 76/194 [00:00<00:00, 253.75it/s]\u001b[A\n",
      " 46%|██████████████████▌                     | 93/200 [00:00<00:00, 190.75it/s]\u001b[A\n",
      " 41%|████████████████▌                       | 82/198 [00:00<00:00, 273.47it/s]\u001b[A\n",
      " 84%|████████████████████████████████▊      | 165/196 [00:00<00:00, 206.59it/s]\u001b[A\n",
      "  0%|                                                  | 0/199 [00:00<?, ?it/s]\u001b[A\n",
      " 23%|█████████▎                              | 46/197 [00:00<00:00, 184.33it/s]\u001b[A\n",
      " 96%|█████████████████████████████████████▌ | 189/196 [00:00<00:00, 236.09it/s]\u001b[A\n",
      " 55%|█████████████████████▌                 | 109/197 [00:00<00:00, 223.52it/s]\u001b[A\n",
      " 55%|█████████████████████▌                 | 109/197 [00:00<00:00, 230.70it/s]\u001b[A\n",
      "  0%|                                                    | 0/1 [00:00<?, ?it/s]\u001b[A\n",
      "  0%|                                                  | 0/192 [00:00<?, ?it/s]\u001b[A\n",
      " 72%|████████████████████████████           | 142/197 [00:00<00:00, 224.19it/s]\u001b[A\u001b[A\n",
      " 21%|████████▌                               | 42/196 [00:00<00:00, 411.45it/s]\u001b[A\n",
      " 54%|████████████████████▉                  | 106/198 [00:00<00:00, 227.84it/s]\n",
      " 91%|███████████████████████████████████▍   | 179/197 [00:00<00:00, 211.71it/s]\u001b[A\n",
      " 56%|█████████████████████▊                 | 111/198 [00:00<00:00, 235.77it/s]\u001b[A\n",
      " 45%|██████████████████▏                     | 90/198 [00:00<00:00, 300.39it/s]\u001b[A\n",
      " 85%|█████████████████████████████████      | 169/199 [00:00<00:00, 175.39it/s]\u001b[A\n",
      " 56%|█████████████████████▉                 | 111/197 [00:00<00:00, 240.82it/s]\u001b[A\n",
      "100%|███████████████████████████████████████| 198/198 [00:01<00:00, 166.50it/s]\u001b[A\n",
      "\n",
      " 57%|██████████████████████▎                | 113/197 [00:00<00:00, 243.62it/s]\u001b[A\n",
      " 24%|█████████▍                              | 47/199 [00:00<00:00, 469.74it/s]\u001b[A\n",
      " 51%|███████████████████▊                   | 100/197 [00:00<00:00, 301.29it/s]\u001b[A\n",
      " 40%|████████████████                        | 80/199 [00:00<00:00, 279.06it/s]\u001b[A\n",
      " 44%|█████████████████▋                      | 86/194 [00:00<00:00, 284.89it/s]\u001b[A\n",
      " 49%|███████████████████▊                    | 96/194 [00:00<00:00, 209.90it/s]\u001b[A\n",
      "  0%|                                                  | 0/197 [00:00<?, ?it/s]\u001b[A\n",
      "  0%|                                                  | 0/196 [00:00<?, ?it/s]\u001b[A\n",
      " 57%|██████████████████████▏                | 114/200 [00:00<00:00, 180.61it/s]\u001b[A\n",
      " 59%|██████████████████████▉                | 114/194 [00:00<00:00, 232.34it/s]\u001b[A\n",
      " 77%|██████████████████████████████         | 151/196 [00:00<00:00, 219.30it/s]\u001b[A\n",
      " 54%|████████████████████▉                  | 104/194 [00:00<00:00, 216.93it/s]\u001b[A\n",
      " 95%|█████████████████████████████████████▏ | 187/196 [00:00<00:00, 185.88it/s]\u001b[A\n",
      " 33%|█████████████▏                          | 65/197 [00:00<00:00, 161.32it/s]\u001b[A\n",
      " 22%|████████▉                               | 44/196 [00:00<00:00, 435.43it/s]\u001b[A\n",
      " 45%|█████████████████▊                      | 88/197 [00:00<00:00, 295.77it/s]\u001b[A\n",
      "100%|███████████████████████████████████████| 198/198 [00:01<00:00, 172.13it/s]\u001b[A\n",
      "\n",
      " 68%|██████████████████████████▌            | 134/197 [00:00<00:00, 205.96it/s]\u001b[A\n",
      "  0%|                                                  | 0/198 [00:00<?, ?it/s]\u001b[A\n",
      " 84%|████████████████████████████████▊      | 166/197 [00:00<00:00, 205.52it/s]\u001b[A\n",
      " 66%|█████████████████████████▊             | 131/198 [00:00<00:00, 208.98it/s]\u001b[A\n",
      " 94%|████████████████████████████████████▋  | 187/199 [00:01<00:00, 161.74it/s]\u001b[A\n",
      " 22%|████████▊                               | 44/199 [00:00<00:00, 436.01it/s]\u001b[A\n",
      " 69%|██████████████████████████▊            | 136/198 [00:00<00:00, 213.03it/s]\u001b[A\n",
      " 77%|██████████████████████████████         | 150/195 [00:00<00:00, 186.13it/s]\u001b[A\n",
      "100%|███████████████████████████████████████| 196/196 [00:01<00:00, 195.25it/s]\u001b[A\n",
      "\n",
      " 71%|███████████████████████████▌           | 139/197 [00:00<00:00, 219.23it/s]\u001b[A\n",
      " 23%|█████████▍                              | 45/192 [00:00<00:00, 444.62it/s]\u001b[A\n",
      " 43%|█████████████████▏                      | 84/196 [00:00<00:00, 286.32it/s]\u001b[A\n",
      " 68%|██████████████████████████▌            | 135/198 [00:00<00:00, 352.96it/s]\u001b[A\n",
      " 69%|██████████████████████████▋            | 135/197 [00:00<00:00, 256.58it/s]\u001b[A\n",
      " 61%|███████████████████████▋               | 118/194 [00:00<00:00, 175.18it/s]\u001b[A\n",
      " 87%|██████████████████████████████████     | 170/195 [00:00<00:00, 173.13it/s]\u001b[A\n",
      " 55%|█████████████████████▌                 | 110/199 [00:00<00:00, 220.88it/s]\u001b[A\n",
      " 61%|███████████████████████▋               | 118/194 [00:00<00:00, 231.02it/s]\u001b[A\n",
      " 57%|██████████████████████                 | 112/198 [00:00<00:00, 226.67it/s]\u001b[A\n",
      " 89%|██████████████████████████████████▊    | 175/196 [00:00<00:00, 198.07it/s]\u001b[A\n",
      "100%|███████████████████████████████████████| 197/197 [00:01<00:00, 183.70it/s]\u001b[A\n",
      "\n",
      " 65%|█████████████████████████▌             | 127/194 [00:00<00:00, 193.90it/s]\u001b[A\n",
      " 42%|████████████████▋                       | 82/197 [00:00<00:00, 145.38it/s]\u001b[A\n",
      " 47%|██████████████████▉                     | 94/199 [00:00<00:00, 288.34it/s]\u001b[A\n",
      "100%|████████████████████████████████████████████| 1/1 [00:00<00:00,  5.44it/s]\u001b[A\n",
      " 22%|████████▉                               | 44/197 [00:00<00:00, 437.25it/s]\u001b[A\n",
      " 25%|██████████                              | 49/196 [00:00<00:00, 479.65it/s]\u001b[A\n",
      " 78%|██████████████████████████████▍        | 154/197 [00:00<00:00, 173.39it/s]\u001b[A\n",
      " 79%|██████████████████████████████▉        | 156/197 [00:00<00:00, 182.17it/s]\u001b[A\n",
      " 95%|█████████████████████████████████████▏ | 188/197 [00:00<00:00, 184.25it/s]\u001b[A\n",
      " 77%|██████████████████████████████▏        | 153/198 [00:00<00:00, 185.69it/s]\u001b[A\n",
      "100%|███████████████████████████████████████| 196/196 [00:01<00:00, 174.02it/s]\u001b[A\n",
      "\n",
      " 66%|█████████████████████████▉             | 133/200 [00:00<00:00, 163.90it/s]\u001b[A\n",
      " 80%|███████████████████████████████▎       | 159/198 [00:00<00:00, 191.51it/s]\u001b[A\n",
      " 81%|███████████████████████████████▋       | 160/197 [00:00<00:00, 198.39it/s]\u001b[A\n",
      " 45%|█████████████████▉                      | 88/196 [00:00<00:00, 272.76it/s]\u001b[A\n",
      " 82%|████████████████████████████████       | 162/197 [00:00<00:00, 192.11it/s]\u001b[A\n",
      " 22%|████████▉                               | 44/198 [00:00<00:00, 433.41it/s]\u001b[A\n",
      " 71%|███████████████████████████▌           | 137/194 [00:00<00:00, 166.81it/s]\u001b[A\n",
      " 44%|█████████████████▋                      | 88/199 [00:00<00:00, 282.52it/s]\u001b[A\n",
      " 59%|██████████████████████▉                | 115/196 [00:00<00:00, 227.43it/s]\u001b[A\n",
      " 67%|██████████████████████████▎            | 134/199 [00:00<00:00, 203.63it/s]\u001b[A\n",
      " 83%|████████████████████████████████▍      | 164/197 [00:00<00:00, 230.00it/s]\u001b[A\n",
      "100%|███████████████████████████████████████| 199/199 [00:01<00:00, 156.26it/s]\u001b[A\n",
      "\n",
      "\n",
      "100%|███████████████████████████████████████| 196/196 [00:00<00:00, 182.05it/s]\u001b[A\u001b[A\n",
      " 88%|██████████████████████████████████▎    | 174/198 [00:00<00:00, 294.25it/s]\u001b[A\n",
      " 69%|██████████████████████████▉            | 137/198 [00:00<00:00, 159.33it/s]\u001b[A\n",
      " 83%|████████████████████████████████▎      | 161/194 [00:00<00:00, 183.11it/s]\u001b[A\n",
      " 76%|█████████████████████████████▊         | 148/194 [00:00<00:00, 172.24it/s]\u001b[A\n",
      " 49%|███████████████████▋                    | 97/197 [00:00<00:00, 126.03it/s]\u001b[A\n",
      " 88%|██████████████████████████████████▏    | 173/197 [00:00<00:00, 160.31it/s]\u001b[A\n",
      "100%|███████████████████████████████████████| 195/195 [00:01<00:00, 188.05it/s]\u001b[A\n",
      "\n",
      " 87%|██████████████████████████████████     | 173/198 [00:00<00:00, 174.26it/s]\u001b[A\n",
      " 64%|████████████████████████▉              | 127/199 [00:00<00:00, 227.02it/s]\u001b[A\n",
      " 90%|███████████████████████████████████▎   | 179/198 [00:00<00:00, 178.24it/s]\u001b[A\n",
      " 75%|█████████████████████████████▎         | 150/200 [00:01<00:00, 124.73it/s]\u001b[A\n",
      " 75%|█████████████████████████████          | 147/197 [00:00<00:00, 212.38it/s]\u001b[A\n",
      " 92%|███████████████████████████████████▊   | 181/197 [00:00<00:00, 183.73it/s]\u001b[A\n",
      "100%|████████████████████████████████████████████| 1/1 [00:00<00:00,  2.21it/s]\u001b[A\n"
     ]
    },
    {
     "name": "stdout",
     "output_type": "stream",
     "text": [
      "Total files processed: 1"
     ]
    },
    {
     "name": "stderr",
     "output_type": "stream",
     "text": [
      "\n"
     ]
    },
    {
     "name": "stdout",
     "output_type": "stream",
     "text": [
      "\n"
     ]
    },
    {
     "name": "stderr",
     "output_type": "stream",
     "text": [
      " 47%|██████████████████▊                     | 90/192 [00:00<00:00, 284.36it/s]/w/hallb-scshelf2102/clas12/users/gmat/clas12/neutneut/analysis/neutron_ml/../../src/TrainData.py:84: FutureWarning: The default of observed=False is deprecated and will be changed to True in a future version of pandas. Pass observed=False to retain current behavior or observed=True to adopt the future default and silence this warning.\n",
      "  group_sizes = df.groupby(group_cols).size()\n",
      "\u001b[A\n",
      "Processing CSV files:  92%|████████████████▌ | 459/500 [00:28<00:03, 11.42it/s]\u001b[A\n",
      " 61%|███████████████████████▋               | 119/196 [00:00<00:00, 238.77it/s]\u001b[A\n",
      " 45%|█████████████████▊                      | 88/197 [00:00<00:00, 276.62it/s]\u001b[A\n",
      " 49%|███████████████████▊                    | 97/196 [00:00<00:00, 306.84it/s]\u001b[A\n",
      "100%|███████████████████████████████████████| 197/197 [00:01<00:00, 175.97it/s]\u001b[A\n",
      "\n",
      " 60%|███████████████████████▌               | 120/199 [00:00<00:00, 257.63it/s]\u001b[A\n",
      " 78%|██████████████████████████████▌        | 156/199 [00:00<00:00, 191.70it/s]\u001b[A\n",
      " 96%|█████████████████████████████████████▍ | 189/197 [00:00<00:00, 216.05it/s]\u001b[A\n",
      " 86%|█████████████████████████████████▎     | 166/194 [00:00<00:00, 196.75it/s]\u001b[A\n",
      " 44%|█████████████████▊                      | 88/198 [00:00<00:00, 309.62it/s]\u001b[A\n",
      " 56%|█████████████████████▊                 | 110/197 [00:00<00:00, 119.69it/s]\u001b[A\n",
      " 79%|██████████████████████████████▋        | 156/198 [00:00<00:00, 150.77it/s]\u001b[A\n",
      " 93%|████████████████████████████████████▏  | 180/194 [00:00<00:00, 168.22it/s]\u001b[A\n",
      " 86%|█████████████████████████████████▎     | 166/194 [00:00<00:00, 160.08it/s]\u001b[A\n",
      "100%|███████████████████████████████████████| 196/196 [00:01<00:00, 173.14it/s]\u001b[A\n",
      "\n",
      " 98%|██████████████████████████████████████▏| 193/197 [00:01<00:00, 166.44it/s]\u001b[A\n",
      "  0%|                                                    | 0/1 [00:00<?, ?it/s]\u001b[A\n",
      " 83%|████████████████████████████████▎      | 166/200 [00:01<00:00, 131.84it/s]\u001b[A\n",
      "100%|███████████████████████████████████████| 198/198 [00:01<00:00, 177.85it/s]\u001b[A\n",
      "100%|███████████████████████████████████████| 197/197 [00:01<00:00, 192.46it/s]\u001b[A\n",
      "\n",
      " 77%|█████████████████████████████▉         | 153/199 [00:00<00:00, 222.98it/s]\u001b[A\n",
      " 86%|█████████████████████████████████▋     | 170/197 [00:00<00:00, 204.57it/s]\u001b[A\n",
      "100%|███████████████████████████████████████| 198/198 [00:00<00:00, 243.92it/s]\u001b[A\n",
      "100%|███████████████████████████████████████| 197/197 [00:00<00:00, 216.38it/s]\n",
      "\n",
      " 64%|████████████████████████▊              | 122/192 [00:00<00:00, 207.92it/s]\u001b[A\n",
      " 88%|██████████████████████████████████▍    | 176/199 [00:00<00:00, 190.84it/s]\u001b[A\n",
      "  0%|                                                    | 0/1 [00:00<?, ?it/s]\u001b[A\n",
      " 83%|████████████████████████████████▍      | 163/196 [00:00<00:00, 210.91it/s]\u001b[A\n",
      " 96%|█████████████████████████████████████▌ | 191/198 [00:01<00:00, 171.10it/s]\u001b[A\n",
      " 74%|█████████████████████████████          | 148/199 [00:00<00:00, 251.19it/s]\u001b[A\n",
      "100%|███████████████████████████████████████| 197/197 [00:01<00:00, 175.95it/s]\u001b[A\n",
      "\n",
      " 64%|████████████████████████▉              | 126/197 [00:00<00:00, 129.70it/s]\u001b[A\n",
      " 96%|█████████████████████████████████████▌ | 187/194 [00:00<00:00, 190.75it/s]\u001b[A\n",
      "100%|███████████████████████████████████████| 194/194 [00:01<00:00, 180.10it/s]\u001b[A\n",
      "\n",
      " 87%|██████████████████████████████████     | 173/198 [00:01<00:00, 153.99it/s]\u001b[A\n",
      " 74%|████████████████████████████▊          | 145/196 [00:00<00:00, 227.66it/s]\u001b[A\n",
      " 94%|████████████████████████████████████▊  | 183/194 [00:01<00:00, 159.85it/s]\u001b[A\n",
      " 90%|███████████████████████████████████▎   | 181/200 [00:01<00:00, 134.68it/s]\u001b[A\n",
      "  0%|                                                    | 0/1 [00:00<?, ?it/s]\u001b[A\n",
      " 62%|████████████████████████               | 122/198 [00:00<00:00, 274.28it/s]\u001b[A\n",
      " 97%|█████████████████████████████████████▉ | 189/194 [00:01<00:00, 164.12it/s]\u001b[A\n",
      " 97%|█████████████████████████████████████▊ | 191/197 [00:00<00:00, 200.78it/s]\u001b[A\n",
      "100%|████████████████████████████████████████████| 1/1 [00:00<00:00,  6.43it/s]\u001b[A\n",
      " 89%|██████████████████████████████████▋    | 177/199 [00:00<00:00, 215.38it/s]\u001b[A\n",
      "100%|███████████████████████████████████████| 198/198 [00:01<00:00, 168.61it/s]\u001b[A\n",
      "\n",
      "100%|███████████████████████████████████████| 197/197 [00:01<00:00, 169.54it/s]\u001b[A\n",
      "\n",
      "  0%|                                                  | 0/197 [00:00<?, ?it/s]\u001b[A\n",
      "Processing CSV files:  93%|████████████████▋ | 463/500 [00:28<00:03, 12.29it/s]\u001b[A\n",
      " 74%|████████████████████████████▉          | 146/197 [00:00<00:00, 252.82it/s]\u001b[A\n",
      " 71%|███████████████████████████▋           | 140/197 [00:01<00:00, 131.64it/s]\u001b[A\n",
      "100%|███████████████████████████████████████| 197/197 [00:01<00:00, 154.29it/s]\u001b[A\n",
      "\n",
      "100%|███████████████████████████████████████| 198/198 [00:01<00:00, 162.08it/s]\u001b[A\n",
      "100%|███████████████████████████████████████| 194/194 [00:01<00:00, 168.77it/s]\n",
      "\n",
      "100%|███████████████████████████████████████| 199/199 [00:01<00:00, 189.43it/s]\u001b[A\n",
      "\n",
      " 98%|██████████████████████████████████████▏| 196/200 [00:01<00:00, 136.07it/s]\u001b[A\n",
      " 86%|█████████████████████████████████▋     | 169/196 [00:00<00:00, 195.33it/s]\u001b[A\n",
      "100%|███████████████████████████████████████| 194/194 [00:01<00:00, 180.74it/s]\u001b[A\n",
      "100%|███████████████████████████████████████| 196/196 [00:00<00:00, 208.90it/s]\n",
      "\n",
      "100%|███████████████████████████████████████| 198/198 [00:01<00:00, 166.63it/s]\u001b[A\n",
      "\n",
      "100%|███████████████████████████████████████| 194/194 [00:01<00:00, 156.80it/s]\u001b[A\n",
      "100%|███████████████████████████████████████| 197/197 [00:01<00:00, 190.49it/s]\n",
      "\n",
      " 80%|███████████████████████████████        | 157/197 [00:01<00:00, 141.67it/s]\u001b[A\n",
      "100%|████████████████████████████████████████████| 1/1 [00:00<00:00,  5.35it/s]\u001b[A\n",
      "  0%|                                                    | 0/1 [00:00<?, ?it/s]\u001b[A\n",
      " 76%|█████████████████████████████▋         | 151/198 [00:00<00:00, 252.36it/s]\u001b[A\n",
      "100%|███████████████████████████████████████| 199/199 [00:00<00:00, 206.50it/s]\u001b[A\n",
      "\n",
      "100%|████████████████████████████████████████████| 1/1 [00:00<00:00,  2.64it/s]\u001b[A\n",
      "\n"
     ]
    },
    {
     "name": "stdout",
     "output_type": "stream",
     "text": [
      "Total files processed: 1"
     ]
    },
    {
     "name": "stderr",
     "output_type": "stream",
     "text": [
      "100%|████████████████████████████████████████████| 1/1 [00:00<00:00,  5.25it/s]"
     ]
    },
    {
     "name": "stdout",
     "output_type": "stream",
     "text": [
      "\n"
     ]
    },
    {
     "name": "stderr",
     "output_type": "stream",
     "text": [
      "100%|████████████████████████████████████████████| 1/1 [00:00<00:00,  3.35it/s]\n"
     ]
    },
    {
     "name": "stdout",
     "output_type": "stream",
     "text": [
      "Total files processed: 1"
     ]
    },
    {
     "name": "stderr",
     "output_type": "stream",
     "text": [
      "100%|███████████████████████████████████████| 199/199 [00:00<00:00, 230.80it/s]/w/hallb-scshelf2102/clas12/users/gmat/clas12/neutneut/analysis/neutron_ml/../../src/TrainData.py:84: FutureWarning: The default of observed=False is deprecated and will be changed to True in a future version of pandas. Pass observed=False to retain current behavior or observed=True to adopt the future default and silence this warning.\n",
      "  group_sizes = df.groupby(group_cols).size()\n",
      "\n"
     ]
    },
    {
     "name": "stdout",
     "output_type": "stream",
     "text": [
      "\n"
     ]
    },
    {
     "name": "stderr",
     "output_type": "stream",
     "text": [
      "\n",
      " 22%|████████▉                               | 44/197 [00:00<00:00, 433.55it/s]/w/hallb-scshelf2102/clas12/users/gmat/clas12/neutneut/analysis/neutron_ml/../../src/TrainData.py:84: FutureWarning: The default of observed=False is deprecated and will be changed to True in a future version of pandas. Pass observed=False to retain current behavior or observed=True to adopt the future default and silence this warning.\n",
      "  group_sizes = df.groupby(group_cols).size()\n",
      "\u001b[A\n",
      " 97%|█████████████████████████████████████▊ | 190/196 [00:00<00:00, 194.77it/s]\u001b[A\n",
      "100%|███████████████████████████████████████| 200/200 [00:01<00:00, 139.61it/s]\u001b[A\n",
      "\n",
      "100%|████████████████████████████████████████████| 1/1 [00:00<00:00,  5.60it/s]\u001b[A\n",
      "100%|████████████████████████████████████████████| 1/1 [00:00<00:00,  3.16it/s]\u001b[A\n",
      "Processing CSV files:  94%|████████████████▉ | 471/500 [00:28<00:01, 17.57it/s]"
     ]
    },
    {
     "name": "stdout",
     "output_type": "stream",
     "text": [
      "Total files processed: 1\n"
     ]
    },
    {
     "name": "stderr",
     "output_type": "stream",
     "text": [
      "\n",
      " 89%|██████████████████████████████████▊    | 177/198 [00:00<00:00, 215.18it/s]\u001b[A/w/hallb-scshelf2102/clas12/users/gmat/clas12/neutneut/analysis/neutron_ml/../../src/TrainData.py:84: FutureWarning: The default of observed=False is deprecated and will be changed to True in a future version of pandas. Pass observed=False to retain current behavior or observed=True to adopt the future default and silence this warning.\n",
      "  group_sizes = df.groupby(group_cols).size()\n",
      "100%|███████████████████████████████████████| 196/196 [00:00<00:00, 246.47it/s]\n",
      "100%|███████████████████████████████████████| 192/192 [00:00<00:00, 214.35it/s]\n",
      "\n",
      "100%|████████████████████████████████████████████| 1/1 [00:00<00:00,  3.99it/s]\u001b[A\n"
     ]
    },
    {
     "name": "stdout",
     "output_type": "stream",
     "text": [
      "Total files processed: 1"
     ]
    },
    {
     "name": "stderr",
     "output_type": "stream",
     "text": [
      "\n"
     ]
    },
    {
     "name": "stdout",
     "output_type": "stream",
     "text": [
      "\n"
     ]
    },
    {
     "name": "stderr",
     "output_type": "stream",
     "text": [
      "100%|████████████████████████████████████████████| 1/1 [00:00<00:00,  5.84it/s]\u001b[A/w/hallb-scshelf2102/clas12/users/gmat/clas12/neutneut/analysis/neutron_ml/../../src/TrainData.py:84: FutureWarning: The default of observed=False is deprecated and will be changed to True in a future version of pandas. Pass observed=False to retain current behavior or observed=True to adopt the future default and silence this warning.\n",
      "  group_sizes = df.groupby(group_cols).size()\n",
      "100%|███████████████████████████████████████| 196/196 [00:00<00:00, 200.70it/s]\n",
      "\n",
      "100%|████████████████████████████████████████████| 1/1 [00:00<00:00,  2.72it/s]"
     ]
    },
    {
     "name": "stdout",
     "output_type": "stream",
     "text": [
      "Total files processed: 1\n"
     ]
    },
    {
     "name": "stderr",
     "output_type": "stream",
     "text": [
      "100%|████████████████████████████████████████████| 1/1 [00:00<00:00,  4.87it/s]\n",
      "\n",
      "/w/hallb-scshelf2102/clas12/users/gmat/clas12/neutneut/analysis/neutron_ml/../../src/TrainData.py:84: FutureWarning: The default of observed=False is deprecated and will be changed to True in a future version of pandas. Pass observed=False to retain current behavior or observed=True to adopt the future default and silence this warning.\n",
      "  group_sizes = df.groupby(group_cols).size()\n",
      "100%|███████████████████████████████████████| 197/197 [00:00<00:00, 233.33it/s]\u001b[A\n",
      "100%|███████████████████████████████████████| 198/198 [00:00<00:00, 254.01it/s]\n",
      "100%|███████████████████████████████████████| 197/197 [00:01<00:00, 151.15it/s]"
     ]
    },
    {
     "name": "stdout",
     "output_type": "stream",
     "text": [
      "Total files processed: 1"
     ]
    },
    {
     "name": "stderr",
     "output_type": "stream",
     "text": [
      "\n"
     ]
    },
    {
     "name": "stdout",
     "output_type": "stream",
     "text": [
      "\n"
     ]
    },
    {
     "name": "stderr",
     "output_type": "stream",
     "text": [
      "\n",
      "  0%|                                                  | 0/198 [00:00<?, ?it/s]\u001b[A/w/hallb-scshelf2102/clas12/users/gmat/clas12/neutneut/analysis/neutron_ml/../../src/TrainData.py:84: FutureWarning: The default of observed=False is deprecated and will be changed to True in a future version of pandas. Pass observed=False to retain current behavior or observed=True to adopt the future default and silence this warning.\n",
      "  group_sizes = df.groupby(group_cols).size()\n",
      "\n",
      "100%|████████████████████████████████████████████| 1/1 [00:00<00:00,  7.58it/s]\u001b[A\n",
      "100%|████████████████████████████████████████████| 1/1 [00:00<00:00,  5.79it/s]\u001b[A\n",
      " 45%|█████████████████▊                      | 88/197 [00:00<00:00, 321.01it/s]\u001b[A\n",
      "  0%|                                                  | 0/195 [00:00<?, ?it/s]\u001b[A\n",
      "100%|████████████████████████████████████████████| 1/1 [00:00<00:00,  6.13it/s]\u001b[A\n"
     ]
    },
    {
     "name": "stdout",
     "output_type": "stream",
     "text": [
      "Total files processed: 1"
     ]
    },
    {
     "name": "stderr",
     "output_type": "stream",
     "text": [
      "100%|████████████████████████████████████████████| 1/1 [00:00<00:00,  4.66it/s]"
     ]
    },
    {
     "name": "stdout",
     "output_type": "stream",
     "text": [
      "\n"
     ]
    },
    {
     "name": "stderr",
     "output_type": "stream",
     "text": [
      "\n",
      "/w/hallb-scshelf2102/clas12/users/gmat/clas12/neutneut/analysis/neutron_ml/../../src/TrainData.py:84: FutureWarning: The default of observed=False is deprecated and will be changed to True in a future version of pandas. Pass observed=False to retain current behavior or observed=True to adopt the future default and silence this warning.\n",
      "  group_sizes = df.groupby(group_cols).size()\n",
      "\n"
     ]
    },
    {
     "name": "stdout",
     "output_type": "stream",
     "text": [
      "Total files processed: 1"
     ]
    },
    {
     "name": "stderr",
     "output_type": "stream",
     "text": [
      "  0%|                                                  | 0/195 [00:00<?, ?it/s]\u001b[A\n",
      "  0%|                                                  | 0/197 [00:00<?, ?it/s]"
     ]
    },
    {
     "name": "stdout",
     "output_type": "stream",
     "text": [
      "\n"
     ]
    },
    {
     "name": "stderr",
     "output_type": "stream",
     "text": [
      "\u001b[A\n",
      "100%|████████████████████████████████████████████| 1/1 [00:00<00:00,  4.81it/s]\u001b[A\n"
     ]
    },
    {
     "name": "stdout",
     "output_type": "stream",
     "text": [
      "Total files processed: 1\n"
     ]
    },
    {
     "name": "stderr",
     "output_type": "stream",
     "text": [
      "/w/hallb-scshelf2102/clas12/users/gmat/clas12/neutneut/analysis/neutron_ml/../../src/TrainData.py:84: FutureWarning: The default of observed=False is deprecated and will be changed to True in a future version of pandas. Pass observed=False to retain current behavior or observed=True to adopt the future default and silence this warning.\n",
      "  group_sizes = df.groupby(group_cols).size()\n",
      "\n",
      "/w/hallb-scshelf2102/clas12/users/gmat/clas12/neutneut/analysis/neutron_ml/../../src/TrainData.py:84: FutureWarning: The default of observed=False is deprecated and will be changed to True in a future version of pandas. Pass observed=False to retain current behavior or observed=True to adopt the future default and silence this warning.\n",
      "  group_sizes = df.groupby(group_cols).size()\n",
      " 20%|███████▊                                | 39/199 [00:00<00:00, 385.16it/s]\u001b[A\n",
      "  0%|                                                  | 0/198 [00:00<?, ?it/s]\u001b[A\n",
      " 65%|█████████████████████████▌             | 129/197 [00:00<00:00, 353.03it/s]\u001b[A\n",
      "Processing CSV files:  97%|█████████████████▍| 485/500 [00:29<00:00, 32.51it/s]\u001b[A\n",
      " 19%|███████▊                                | 38/195 [00:00<00:00, 377.32it/s]\u001b[A\n",
      " 21%|████████▍                               | 41/193 [00:00<00:00, 405.13it/s]\u001b[A\n",
      "  0%|                                                  | 0/200 [00:00<?, ?it/s]\u001b[A\n",
      "100%|████████████████████████████████████████████| 1/1 [00:00<00:00,  5.46it/s]\u001b[A\n",
      "100%|████████████████████████████████████████████| 1/1 [00:00<00:00,  5.32it/s]\u001b[A\n"
     ]
    },
    {
     "name": "stdout",
     "output_type": "stream",
     "text": [
      "Total files processed: 1\n"
     ]
    },
    {
     "name": "stderr",
     "output_type": "stream",
     "text": [
      "/w/hallb-scshelf2102/clas12/users/gmat/clas12/neutneut/analysis/neutron_ml/../../src/TrainData.py:84: FutureWarning: The default of observed=False is deprecated and will be changed to True in a future version of pandas. Pass observed=False to retain current behavior or observed=True to adopt the future default and silence this warning.\n",
      "  group_sizes = df.groupby(group_cols).size()\n",
      "\n",
      " 24%|█████████▋                              | 47/195 [00:00<00:00, 464.31it/s]\u001b[A\n",
      " 20%|███████▉                                | 39/197 [00:00<00:00, 389.16it/s]\u001b[A\n",
      "  0%|                                                  | 0/194 [00:00<?, ?it/s]\u001b[A\n",
      " 41%|████████████████▎                       | 81/199 [00:00<00:00, 402.21it/s]\u001b[A\n",
      " 21%|████████▍                               | 42/198 [00:00<00:00, 417.59it/s]\u001b[A\n",
      " 86%|█████████████████████████████████▋     | 170/197 [00:00<00:00, 372.77it/s]\u001b[A\n",
      " 44%|█████████████████▊                      | 88/198 [00:00<00:00, 437.83it/s]\u001b[A\n",
      " 52%|████████████████████▍                  | 102/195 [00:00<00:00, 527.32it/s]\u001b[A\n",
      " 44%|█████████████████▌                      | 85/193 [00:00<00:00, 424.03it/s]\u001b[A\n",
      " 20%|████████                                | 40/200 [00:00<00:00, 398.46it/s]\u001b[A\n",
      "100%|███████████████████████████████████████| 197/197 [00:00<00:00, 373.97it/s]\u001b[A\n",
      "\n",
      " 48%|███████████████████▎                    | 94/195 [00:00<00:00, 445.86it/s]\u001b[A\n",
      " 55%|█████████████████████▍                 | 108/197 [00:00<00:00, 562.48it/s]\u001b[A\n",
      " 25%|██████████                              | 49/194 [00:00<00:00, 485.67it/s]\u001b[A\n",
      " 63%|████████████████████████▋              | 126/199 [00:00<00:00, 422.82it/s]\u001b[A\n",
      " 47%|██████████████████▊                     | 93/198 [00:00<00:00, 468.72it/s]\u001b[A\n",
      " 67%|██████████████████████████▏            | 133/198 [00:00<00:00, 441.78it/s]\u001b[A\n",
      " 87%|█████████████████████████████████▊     | 169/195 [00:00<00:00, 591.50it/s]\u001b[A\n",
      " 68%|██████████████████████████▍            | 131/193 [00:00<00:00, 436.78it/s]\u001b[A\n",
      " 48%|███████████████████▏                    | 96/200 [00:00<00:00, 491.30it/s]\u001b[A\n",
      " 61%|███████████████████████▊               | 119/195 [00:00<00:00, 606.20it/s]\u001b[A\n",
      "100%|███████████████████████████████████████| 195/195 [00:00<00:00, 539.09it/s]\u001b[A\n",
      "\n",
      " 61%|███████████████████████▉               | 119/194 [00:00<00:00, 610.25it/s]\u001b[A\n",
      " 90%|███████████████████████████████████    | 179/199 [00:00<00:00, 462.88it/s]\u001b[A\n",
      " 73%|████████████████████████████▎          | 144/198 [00:00<00:00, 486.23it/s]\u001b[A\n",
      " 99%|██████████████████████████████████████▌| 196/198 [00:00<00:00, 514.84it/s]\u001b[A\n",
      "100%|███████████████████████████████████████| 198/198 [00:00<00:00, 481.92it/s]\u001b[A\n",
      "100%|███████████████████████████████████████| 193/193 [00:00<00:00, 493.47it/s]\n",
      "100%|███████████████████████████████████████| 199/199 [00:00<00:00, 446.83it/s]\n",
      "\n",
      "Processing CSV files:  98%|█████████████████▋| 490/500 [00:29<00:00, 24.79it/s]\u001b[A\n",
      " 92%|████████████████████████████████████   | 180/195 [00:00<00:00, 531.99it/s]\u001b[A\n",
      "100%|███████████████████████████████████████| 197/197 [00:00<00:00, 490.06it/s]\u001b[A\n",
      "\n",
      "100%|███████████████████████████████████████| 195/195 [00:00<00:00, 548.55it/s]\u001b[A\n",
      "100%|███████████████████████████████████████| 195/195 [00:00<00:00, 447.15it/s]\n",
      "100%|███████████████████████████████████████| 194/194 [00:00<00:00, 620.34it/s]\n",
      "\n",
      "100%|███████████████████████████████████████| 198/198 [00:00<00:00, 472.23it/s]\u001b[A\n",
      "100%|███████████████████████████████████████| 200/200 [00:00<00:00, 506.79it/s]\n",
      "Processing CSV files: 100%|██████████████████| 500/500 [00:29<00:00, 16.85it/s]\n"
     ]
    },
    {
     "name": "stdout",
     "output_type": "stream",
     "text": [
      "Processing completed in 29.82 seconds.\n"
     ]
    }
   ],
   "source": [
    "import h5py\n",
    "import os\n",
    "import glob\n",
    "from concurrent.futures import ProcessPoolExecutor, as_completed\n",
    "from tqdm import tqdm\n",
    "import time\n",
    "import sys\n",
    "sys.path.append(\"../../src\")\n",
    "from TrainData import TrainData\n",
    "# Assuming TrainData is already defined and imported\n",
    "# from your_module import TrainData\n",
    "\n",
    "def process_csv_to_h5(csv_file, h5_file):\n",
    "    \"\"\"\n",
    "    Function to process a single CSV file, converting it to an HDF5 (.h5) file.\n",
    "    \n",
    "    Parameters:\n",
    "    -----------\n",
    "    csv_file : str\n",
    "        Path to the CSV file to be processed.\n",
    "    h5_file : str\n",
    "        Path where the resulting HDF5 file will be saved.\n",
    "    \"\"\"\n",
    "    # Initialize TrainData with the given CSV\n",
    "    td = TrainData([csv_file], K=100)\n",
    "    \n",
    "    # Get the data\n",
    "    X, y, misc = td.get_data()\n",
    "    \n",
    "    # Save the data to an HDF5 file\n",
    "    with h5py.File(h5_file, 'w') as hf:\n",
    "        hf.create_dataset('X', data=X)\n",
    "        hf.create_dataset('y', data=y)\n",
    "        hf.create_dataset('misc', data=misc)\n",
    "\n",
    "\n",
    "def process_all_files(csv_files, max_workers=35):\n",
    "    \"\"\"\n",
    "    Process all CSV files and convert them to corresponding HDF5 files using ProcessPoolExecutor.\n",
    "    \n",
    "    Parameters:\n",
    "    -----------\n",
    "    csv_files : list\n",
    "        List of paths to CSV files.\n",
    "    max_workers : int\n",
    "        Number of parallel workers for the processing.\n",
    "    \"\"\"\n",
    "    with ProcessPoolExecutor(max_workers=max_workers) as executor:\n",
    "        futures = []\n",
    "        total_files = len(csv_files)\n",
    "        \n",
    "        # Track progress with tqdm\n",
    "        progress = tqdm(total=total_files, desc=\"Processing CSV files\")\n",
    "        \n",
    "        for csv_file in csv_files:\n",
    "            # Define the corresponding .h5 output file name\n",
    "            h5_file = csv_file.replace('.csv', '.h5')\n",
    "            \n",
    "            # Submit each CSV processing task to the executor\n",
    "            future = executor.submit(process_csv_to_h5, csv_file, h5_file)\n",
    "            futures.append(future)\n",
    "        \n",
    "        # As each future completes, update the progress\n",
    "        for future in as_completed(futures):\n",
    "            progress.update(1)\n",
    "            try:\n",
    "                future.result()  # Check if any exception occurred\n",
    "            except Exception as e:\n",
    "                print(f\"Error occurred: {e}\")\n",
    "        \n",
    "        progress.close()\n",
    "\n",
    "\n",
    "if __name__ == \"__main__\":\n",
    "    # Get the list of all CSV files to process\n",
    "    csv_files = glob.glob(\"../../projects/supercell.10.08.2024.18.28/training/clasdispr.00.e10.600.emn0.75tmn.09.xs68.34nb.dis.*.csv\")\n",
    "    \n",
    "    # Start processing all files with a max of 35 workers\n",
    "    start_time = time.time()\n",
    "    process_all_files(csv_files, max_workers=35)\n",
    "    end_time = time.time()\n",
    "    \n",
    "    print(f\"Processing completed in {end_time - start_time:.2f} seconds.\")\n"
   ]
  },
  {
   "cell_type": "code",
   "execution_count": null,
   "id": "fad3cc33-fd6c-4e13-a964-d430827615fe",
   "metadata": {},
   "outputs": [],
   "source": []
  }
 ],
 "metadata": {
  "kernelspec": {
   "display_name": "Python 3",
   "language": "python",
   "name": "python3"
  },
  "language_info": {
   "codemirror_mode": {
    "name": "ipython",
    "version": 3
   },
   "file_extension": ".py",
   "mimetype": "text/x-python",
   "name": "python",
   "nbconvert_exporter": "python",
   "pygments_lexer": "ipython3",
   "version": "3.11.9"
  }
 },
 "nbformat": 4,
 "nbformat_minor": 5
}
